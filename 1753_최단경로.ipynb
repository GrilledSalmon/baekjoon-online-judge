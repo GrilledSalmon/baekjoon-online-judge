{
 "cells": [
  {
   "cell_type": "markdown",
   "metadata": {},
   "source": [
    "# 1753 최단경로\n",
    "220310\n",
    "- 알고리즘 분류\n",
    "    - 그래프 이론\n",
    "    - 다익스트라\n",
    "- 티어 : 골드 5"
   ]
  },
  {
   "cell_type": "code",
   "execution_count": 29,
   "metadata": {},
   "outputs": [
    {
     "name": "stdout",
     "output_type": "stream",
     "text": [
      "0\n",
      "10\n"
     ]
    }
   ],
   "source": [
    "from heapq import heappop, heappush, heapify\n",
    "import sys\n",
    "# input = sys.stdin.readline\n",
    "\n",
    "def solve():\n",
    "    V, E = map(int, input().split())\n",
    "    root = int(input())\n",
    "    adj_list = [[] for _ in range(V+1)]\n",
    "    for _ in range(E):\n",
    "        u, v, w = map(int, input().split()) # w는 10 이하\n",
    "        adj_list[u].append((v, w))\n",
    "\n",
    "    # Dijkstra\n",
    "    dist = [float('inf')] * (V+1)\n",
    "    dist[root] = 0\n",
    "    heap = [(0, root)]\n",
    "    predce = [None] * (V+1)\n",
    "    complete = [False] * (V+1)\n",
    "    while heap:\n",
    "        now_dist, now_node = heappop(heap)\n",
    "        if not complete[now_node]: # 이미 complete된 노드가 heap에 들어있을 수 있어서 확인\n",
    "            complete[now_node] = True\n",
    "            for adj_node, adj_dist in adj_list[now_node]:\n",
    "                if not complete[adj_node]:\n",
    "                    new_dist = now_dist + adj_dist\n",
    "                    if new_dist < dist[adj_node]:\n",
    "                        dist[adj_node] = new_dist\n",
    "                        heappush(heap, (new_dist, adj_node))\n",
    "\n",
    "    for i in range(1, V+1):\n",
    "        print(dist[i]) if dist[i] != float('inf') else print('INF')\n",
    "\n",
    "solve()"
   ]
  },
  {
   "cell_type": "code",
   "execution_count": 4,
   "metadata": {},
   "outputs": [
    {
     "data": {
      "text/plain": [
       "[[], [(2, 2), (3, 3)], [(3, 4), (4, 5)], [(4, 6)], [], [(1, 1)]]"
      ]
     },
     "execution_count": 4,
     "metadata": {},
     "output_type": "execute_result"
    }
   ],
   "source": [
    "adj_list"
   ]
  },
  {
   "cell_type": "code",
   "execution_count": 25,
   "metadata": {},
   "outputs": [
    {
     "name": "stdout",
     "output_type": "stream",
     "text": [
      "0\n",
      "2\n",
      "3\n",
      "7\n",
      "INF\n"
     ]
    }
   ],
   "source": [
    "from heapq import heappop, heappush, heapify\n",
    "\n",
    "# Dijkstra\n",
    "dist = [float('inf')] * (V+1)\n",
    "dist[root] = 0\n",
    "heap = [(0, root)]\n",
    "predce = [None] * (V+1)\n",
    "complete = [False] * (V+1)\n",
    "while heap:\n",
    "    now_dist, now_node = heappop(heap)\n",
    "    if not complete[now_node]: # 이미 complete된 노드가 heap에 들어있을 수 있어서 확인\n",
    "        complete[now_node] = True\n",
    "        for adj_node, adj_dist in adj_list[now_node]:\n",
    "            if not complete[adj_node]:\n",
    "                new_dist = now_dist + adj_dist\n",
    "                if new_dist < dist[adj_node]:\n",
    "                    dist[adj_node] = new_dist\n",
    "                    heappush(heap, (new_dist, adj_node))\n",
    "\n",
    "for i in range(1, V+1):\n",
    "    print(dist[i]) if dist[i] != float('inf') else print('INF')"
   ]
  },
  {
   "cell_type": "code",
   "execution_count": 22,
   "metadata": {},
   "outputs": [
    {
     "data": {
      "text/plain": [
       "[inf, 0, 2, 3, 7, inf]"
      ]
     },
     "execution_count": 22,
     "metadata": {},
     "output_type": "execute_result"
    }
   ],
   "source": [
    "dist"
   ]
  },
  {
   "cell_type": "code",
   "execution_count": 24,
   "metadata": {},
   "outputs": [
    {
     "data": {
      "text/plain": [
       "[False, True, True, True, True, False]"
      ]
     },
     "execution_count": 24,
     "metadata": {},
     "output_type": "execute_result"
    }
   ],
   "source": [
    "complete"
   ]
  }
 ],
 "metadata": {
  "interpreter": {
   "hash": "c798a043d5b26db4ea8dc684fe25ec244835432adc5539bce2de618403b1d63c"
  },
  "kernelspec": {
   "display_name": "Python 3.8.5 ('base')",
   "language": "python",
   "name": "python3"
  },
  "language_info": {
   "codemirror_mode": {
    "name": "ipython",
    "version": 3
   },
   "file_extension": ".py",
   "mimetype": "text/x-python",
   "name": "python",
   "nbconvert_exporter": "python",
   "pygments_lexer": "ipython3",
   "version": "3.8.5"
  },
  "orig_nbformat": 4
 },
 "nbformat": 4,
 "nbformat_minor": 2
}
