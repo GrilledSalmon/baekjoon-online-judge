{
 "cells": [
  {
   "cell_type": "markdown",
   "metadata": {},
   "source": [
    "# 16956 늑대와 양\n",
    "220808\n",
    "- 소감\n",
    "    - 오랜만에 알고리즘을 풀어서 그런가 이상한 데서 실수를 하고 꽤 오랫동안 틀린 이유를 못 찾았네요..^^\n",
    "    - 원래 다른 문제를 풀려고 했는데 문제가 이해가 안 가서 못풀고 못푼 문제처럼 '구성적'이라는 유형이 붙은 이 문제를 풀었네요..ㅎ;\n",
    "- 소요 시간 : 25분\n",
    "- 알고리즘 분류 : 그래프 이론, 애드 혹, 구성적\n",
    "- 티어 : 실버 3"
   ]
  },
  {
   "cell_type": "code",
   "execution_count": null,
   "metadata": {},
   "outputs": [],
   "source": [
    "from operator import truediv\n",
    "import sys\n",
    "# input = sys.stdin.readline\n",
    "\n",
    "R, C = map(int, input().split())\n",
    "farm = [list(input().rstrip()) for _ in range(R)]\n",
    "\n",
    "def is_possible(r, c):\n",
    "    \"\"\"늑대 바로 옆에 양이 있는지 체크\"\"\"\n",
    "    if farm[r][c] == \"W\":\n",
    "        for nr, nc in ((r+1, c), (r-1, c), (r, c+1), (r, c-1)):\n",
    "            if 0<=nr<R and 0<=nc<C and farm[nr][nc] == 'S':\n",
    "                return False\n",
    "        return True\n",
    "    else:\n",
    "        return True\n",
    "\n",
    "def check():\n",
    "    \"\"\"양을 보호할 수 있는지 확인\"\"\"\n",
    "    for r in range(R):\n",
    "        for c in range(C):\n",
    "            if not is_possible(r, c):\n",
    "                return False\n",
    "            if farm[r][c] == 'S':\n",
    "                for nr, nc in ((r+1, c), (r-1, c), (r, c+1), (r, c-1)):\n",
    "                    if 0<=nr<R and 0<=nc<C and farm[nr][nc] == '.':\n",
    "                        farm[nr][nc] = 'D'\n",
    "    return True\n",
    "\n",
    "if check():\n",
    "    print(1)\n",
    "    for line in farm:\n",
    "        print(''.join(line))\n",
    "else:\n",
    "    print(0)"
   ]
  }
 ],
 "metadata": {
  "kernelspec": {
   "display_name": "Python 3.8.8 ('base')",
   "language": "python",
   "name": "python3"
  },
  "language_info": {
   "name": "python",
   "version": "3.8.8"
  },
  "orig_nbformat": 4,
  "vscode": {
   "interpreter": {
    "hash": "f08154012ddadd8e950e6e9e035c7a7b32c136e7647e9b7c77e02eb723a8bedb"
   }
  }
 },
 "nbformat": 4,
 "nbformat_minor": 2
}
