{
 "cells": [
  {
   "cell_type": "markdown",
   "metadata": {},
   "source": [
    "# SW정글 Week01"
   ]
  },
  {
   "cell_type": "markdown",
   "metadata": {},
   "source": [
    "## 1일차 - 기초문제 다 풀기"
   ]
  },
  {
   "cell_type": "code",
   "execution_count": 1,
   "metadata": {},
   "outputs": [
    {
     "name": "stdout",
     "output_type": "stream",
     "text": [
      "30\n",
      "-10\n",
      "200\n",
      "0\n",
      "10\n"
     ]
    }
   ],
   "source": [
    "# 10869\n",
    "A, B = map(int, input().split())\n",
    "print(A+B)\n",
    "print(A-B)\n",
    "print(A*B)\n",
    "print(A//B)\n",
    "print(A%B)"
   ]
  },
  {
   "cell_type": "code",
   "execution_count": 5,
   "metadata": {},
   "outputs": [
    {
     "name": "stdout",
     "output_type": "stream",
     "text": [
      "2360\n",
      "3776\n",
      "1416\n",
      "181720\n"
     ]
    }
   ],
   "source": [
    "# 2588\n",
    "a, b = int(input()), input()\n",
    "for i in range(3):\n",
    "    print(a * int(b[-i-1]))\n",
    "print(a*int(b))"
   ]
  },
  {
   "cell_type": "code",
   "execution_count": 7,
   "metadata": {},
   "outputs": [
    {
     "name": "stdout",
     "output_type": "stream",
     "text": [
      "D\n"
     ]
    }
   ],
   "source": [
    "# 9498\n",
    "point = int(input())\n",
    "if point >= 90:\n",
    "    print('A')\n",
    "elif point >= 80:\n",
    "    print('B')\n",
    "elif point >= 70:\n",
    "    print('C')\n",
    "elif point >= 60:\n",
    "    print('D')\n",
    "else:\n",
    "    print('F')"
   ]
  },
  {
   "cell_type": "code",
   "execution_count": 9,
   "metadata": {},
   "outputs": [
    {
     "name": "stdout",
     "output_type": "stream",
     "text": [
      "0\n"
     ]
    }
   ],
   "source": [
    "# 2753\n",
    "N = int(input())\n",
    "if (N%4==0 and N%100!=0) or N%400 == 0:\n",
    "    print(1)\n",
    "else:\n",
    "    print(0)"
   ]
  },
  {
   "cell_type": "code",
   "execution_count": 15,
   "metadata": {},
   "outputs": [
    {
     "name": "stdout",
     "output_type": "stream",
     "text": [
      "161\n"
     ]
    }
   ],
   "source": [
    "# 1085\n",
    "x, y, w, h = map(int, input().split())\n",
    "print(min(abs(w-x), abs(h-y), abs(x), abs(y)))"
   ]
  },
  {
   "cell_type": "code",
   "execution_count": 17,
   "metadata": {},
   "outputs": [
    {
     "name": "stdout",
     "output_type": "stream",
     "text": [
      "4 * 1 = 4\n",
      "4 * 2 = 8\n",
      "4 * 3 = 12\n",
      "4 * 4 = 16\n",
      "4 * 5 = 20\n",
      "4 * 6 = 24\n",
      "4 * 7 = 28\n",
      "4 * 8 = 32\n",
      "4 * 9 = 36\n"
     ]
    }
   ],
   "source": [
    "# 2739\n",
    "N = int(input())\n",
    "for i in range(1, 10):\n",
    "    print(f\"{N} * {i} = {N*i}\")"
   ]
  },
  {
   "cell_type": "code",
   "execution_count": 18,
   "metadata": {},
   "outputs": [
    {
     "name": "stdout",
     "output_type": "stream",
     "text": [
      "2\n",
      "5\n",
      "7\n",
      "17\n",
      "7\n"
     ]
    }
   ],
   "source": [
    "# 10950\n",
    "T = int(input())\n",
    "for _ in range(T):\n",
    "    print(sum(map(int, input().split())))"
   ]
  },
  {
   "cell_type": "code",
   "execution_count": 20,
   "metadata": {},
   "outputs": [
    {
     "name": "stdout",
     "output_type": "stream",
     "text": [
      "*\n",
      "**\n",
      "***\n",
      "****\n",
      "*****\n"
     ]
    }
   ],
   "source": [
    "# 2438\n",
    "for i in range(int(input())):\n",
    "    print('*' * (i+1))"
   ]
  },
  {
   "cell_type": "code",
   "execution_count": 21,
   "metadata": {},
   "outputs": [
    {
     "name": "stdout",
     "output_type": "stream",
     "text": [
      "1 4 2 3\n"
     ]
    }
   ],
   "source": [
    "# 10871\n",
    "N, X = map(int, input().split())\n",
    "A = map(int, input().split())\n",
    "print(' '.join(map(str, [a for a in A if a < X])))"
   ]
  },
  {
   "cell_type": "code",
   "execution_count": 26,
   "metadata": {},
   "outputs": [
    {
     "name": "stdout",
     "output_type": "stream",
     "text": [
      "85\n",
      "8\n"
     ]
    }
   ],
   "source": [
    "# 2562\n",
    "maxi = 0\n",
    "ind = 0\n",
    "for i in range(9):\n",
    "    a = int(input())\n",
    "    if maxi < a:\n",
    "        maxi = a\n",
    "        ind = i + 1\n",
    "print(maxi)\n",
    "print(ind)"
   ]
  },
  {
   "cell_type": "code",
   "execution_count": 33,
   "metadata": {},
   "outputs": [
    {
     "name": "stdout",
     "output_type": "stream",
     "text": [
      "9\n",
      "6\n",
      "15\n"
     ]
    }
   ],
   "source": [
    "# 8958\n",
    "def count_o(string):\n",
    "    tot, cnt = 0, 1\n",
    "    for s in string:\n",
    "        if s == 'O':\n",
    "            tot += cnt\n",
    "            cnt += 1\n",
    "        else:\n",
    "            cnt = 1\n",
    "    return tot\n",
    "T = int(input())\n",
    "for _ in range(T):\n",
    "    print(count_o(input()))"
   ]
  },
  {
   "cell_type": "code",
   "execution_count": 57,
   "metadata": {},
   "outputs": [
    {
     "name": "stdout",
     "output_type": "stream",
     "text": [
      "40.000%\n"
     ]
    }
   ],
   "source": [
    "# 4344\n",
    "C = int(input())\n",
    "for _ in range(C):\n",
    "    case = list(map(int, input().split()))\n",
    "    N = case[0]\n",
    "    mean = (sum(case) - N)/N\n",
    "    cnt = 0\n",
    "    for i in range(1, N+1):\n",
    "        if case[i] > mean:\n",
    "            cnt += 1\n",
    "    print(f'{cnt/N*100:.3f}%')"
   ]
  },
  {
   "cell_type": "code",
   "execution_count": 58,
   "metadata": {},
   "outputs": [
    {
     "name": "stdout",
     "output_type": "stream",
     "text": [
      "3\n",
      "1\n",
      "0\n",
      "2\n",
      "0\n",
      "0\n",
      "0\n",
      "2\n",
      "0\n",
      "0\n"
     ]
    }
   ],
   "source": [
    "# 2577\n",
    "A, B, C = int(input()), int(input()), int(input())\n",
    "num_list = [0]*10\n",
    "for n in str(A*B*C):\n",
    "    num_list[int(n)] += 1\n",
    "for n in num_list:\n",
    "    print(n)"
   ]
  },
  {
   "cell_type": "code",
   "execution_count": 59,
   "metadata": {},
   "outputs": [],
   "source": [
    "# 15596\n",
    "def solve(a): return sum(a)"
   ]
  },
  {
   "cell_type": "code",
   "execution_count": 62,
   "metadata": {},
   "outputs": [
    {
     "name": "stdout",
     "output_type": "stream",
     "text": [
      "67\n"
     ]
    }
   ],
   "source": [
    "# 11654\n",
    "print(ord(input()))"
   ]
  },
  {
   "cell_type": "code",
   "execution_count": 65,
   "metadata": {},
   "outputs": [
    {
     "name": "stdout",
     "output_type": "stream",
     "text": [
      "AAABBBCCC\n",
      "/////HHHHHTTTTTPPPPP\n"
     ]
    }
   ],
   "source": [
    "# 2675\n",
    "for _ in range(int(input())):\n",
    "    R, S = input().split()\n",
    "    print(''.join(map(lambda s:s*int(R), S)))"
   ]
  },
  {
   "cell_type": "code",
   "execution_count": 1,
   "metadata": {},
   "outputs": [
    {
     "name": "stdout",
     "output_type": "stream",
     "text": [
      "4\n"
     ]
    }
   ],
   "source": [
    "# 1152\n",
    "print(len(input().split()))"
   ]
  },
  {
   "cell_type": "code",
   "execution_count": 68,
   "metadata": {},
   "outputs": [
    {
     "name": "stdout",
     "output_type": "stream",
     "text": [
      "132\n"
     ]
    }
   ],
   "source": [
    "# 2908\n",
    "a, b = input().split()\n",
    "print(max(a[::-1], b[::-1]))"
   ]
  },
  {
   "cell_type": "code",
   "execution_count": 7,
   "metadata": {},
   "outputs": [
    {
     "name": "stdout",
     "output_type": "stream",
     "text": [
      "999999901\n"
     ]
    }
   ],
   "source": [
    "# 2869\n",
    "A, B, V = map(int, input().split())\n",
    "\n",
    "ans = (V-A)//(A-B) + 1\n",
    "if (V-A)%(A-B) == 0:\n",
    "    print(ans)\n",
    "else:\n",
    "    print(ans + 1)"
   ]
  },
  {
   "cell_type": "code",
   "execution_count": 16,
   "metadata": {},
   "outputs": [
    {
     "name": "stdout",
     "output_type": "stream",
     "text": [
      "3\n"
     ]
    }
   ],
   "source": [
    "# 1978\n",
    "# 에라토스테네스 체\n",
    "int(input())\n",
    "N = 1000\n",
    "primes = [1] * (N+1)\n",
    "primes[0], primes[1] = 0, 0\n",
    "primes_set = set()\n",
    "for i in range(N+1):\n",
    "    if primes[i]:\n",
    "        primes_set.add(i)\n",
    "        for j in range(2*i, N+1, i):\n",
    "            primes[j] = 0\n",
    "print(len(list(filter(lambda x: x in primes_set, map(int, input().split())))))"
   ]
  },
  {
   "cell_type": "code",
   "execution_count": 23,
   "metadata": {},
   "outputs": [
    {
     "name": "stdout",
     "output_type": "stream",
     "text": [
      "2 2\n",
      "4919 5081\n"
     ]
    }
   ],
   "source": [
    "# 9020\n",
    "import sys\n",
    "# input = sys.stdin.readline\n",
    "N = 10000\n",
    "primes = [1] * (N+1)\n",
    "primes[0], primes[1] = 0, 0\n",
    "primes_list = []\n",
    "for i in range(N+1):\n",
    "    if primes[i]:\n",
    "        primes_list.append(i)\n",
    "        for j in range(2*i, N+1, i):\n",
    "            primes[j] = 0\n",
    "primes_set = set(primes_list)\n",
    "T = int(input())\n",
    "for _ in range(T):\n",
    "    n = int(input())\n",
    "    half = n//2\n",
    "    for p in primes_list:\n",
    "        if p > half:\n",
    "            break\n",
    "        if n-p in primes_set:\n",
    "            ans = [p, n-p]\n",
    "    print(' '.join(map(str, ans)))"
   ]
  },
  {
   "cell_type": "code",
   "execution_count": 28,
   "metadata": {},
   "outputs": [
    {
     "name": "stdout",
     "output_type": "stream",
     "text": [
      "144\n"
     ]
    }
   ],
   "source": [
    "# 1065\n",
    "N = int(input())\n",
    "for n in range(100, N+1):\n",
    "    n_s = str(n)\n",
    "    memo = None\n",
    "    for i in range(len(n_s)-1):\n",
    "        if memo is None:\n",
    "            memo = int(n_s[i]) - int(n_s[i+1])\n",
    "            continue\n",
    "        if memo != int(n_s[i]) - int(n_s[i+1]):\n",
    "            N -= 1\n",
    "            break\n",
    "print(N)"
   ]
  },
  {
   "cell_type": "code",
   "execution_count": 36,
   "metadata": {},
   "outputs": [
    {
     "name": "stdout",
     "output_type": "stream",
     "text": [
      "30\n"
     ]
    }
   ],
   "source": [
    "# 2628\n",
    "import sys\n",
    "# input = sys.stdin.readline\n",
    "a, b = map(int, input().split())\n",
    "hor, ver = [0, a], [0, b]\n",
    "T = int(input())\n",
    "for _ in range(T):\n",
    "    classfy, cut = map(int, input().split())\n",
    "    if classfy:\n",
    "        hor.append(cut)\n",
    "    else:\n",
    "        ver.append(cut)\n",
    "hor.sort(), ver.sort()\n",
    "hor_diff = [hor[i+1] - hor[i] for i in range(len(hor)-1)]\n",
    "ver_diff = [ver[i+1] - ver[i] for i in range(len(ver)-1)]\n",
    "print(max(hor_diff)*max(ver_diff))"
   ]
  },
  {
   "cell_type": "code",
   "execution_count": 38,
   "metadata": {},
   "outputs": [
    {
     "name": "stdout",
     "output_type": "stream",
     "text": [
      "1\n"
     ]
    }
   ],
   "source": [
    "# 10872\n",
    "def fib(n):\n",
    "    if n <= 1:\n",
    "        return 1\n",
    "    return n * fib(n-1)\n",
    "print(fib(int(input())))"
   ]
  },
  {
   "cell_type": "code",
   "execution_count": 4,
   "metadata": {},
   "outputs": [
    {
     "name": "stdout",
     "output_type": "stream",
     "text": [
      "어느 한 컴퓨터공학과 학생이 유명한 교수님을 찾아가 물었다.\n",
      "\"재귀함수가 뭔가요?\"\n",
      "\"잘 들어보게. 옛날옛날 한 산 꼭대기에 이세상 모든 지식을 통달한 선인이 있었어.\n",
      "마을 사람들은 모두 그 선인에게 수많은 질문을 했고, 모두 지혜롭게 대답해 주었지.\n",
      "그의 답은 대부분 옳았다고 하네. 그런데 어느 날, 그 선인에게 한 선비가 찾아와서 물었어.\"\n",
      "____\"재귀함수가 뭔가요?\"\n",
      "____\"잘 들어보게. 옛날옛날 한 산 꼭대기에 이세상 모든 지식을 통달한 선인이 있었어.\n",
      "____마을 사람들은 모두 그 선인에게 수많은 질문을 했고, 모두 지혜롭게 대답해 주었지.\n",
      "____그의 답은 대부분 옳았다고 하네. 그런데 어느 날, 그 선인에게 한 선비가 찾아와서 물었어.\"\n",
      "________\"재귀함수가 뭔가요?\"\n",
      "________\"잘 들어보게. 옛날옛날 한 산 꼭대기에 이세상 모든 지식을 통달한 선인이 있었어.\n",
      "________마을 사람들은 모두 그 선인에게 수많은 질문을 했고, 모두 지혜롭게 대답해 주었지.\n",
      "________그의 답은 대부분 옳았다고 하네. 그런데 어느 날, 그 선인에게 한 선비가 찾아와서 물었어.\"\n",
      "____________\"재귀함수가 뭔가요?\"\n",
      "____________\"잘 들어보게. 옛날옛날 한 산 꼭대기에 이세상 모든 지식을 통달한 선인이 있었어.\n",
      "____________마을 사람들은 모두 그 선인에게 수많은 질문을 했고, 모두 지혜롭게 대답해 주었지.\n",
      "____________그의 답은 대부분 옳았다고 하네. 그런데 어느 날, 그 선인에게 한 선비가 찾아와서 물었어.\"\n",
      "________________\"재귀함수가 뭔가요?\"\n",
      "________________\"재귀함수는 자기 자신을 호출하는 함수라네\"\n",
      "________________라고 답변하였지.\n",
      "____________라고 답변하였지.\n",
      "________라고 답변하였지.\n",
      "____라고 답변하였지.\n",
      "라고 답변하였지.\n"
     ]
    }
   ],
   "source": [
    "# 17478\n",
    "print(\"어느 한 컴퓨터공학과 학생이 유명한 교수님을 찾아가 물었다.\")\n",
    "question = '\"재귀함수가 뭔가요?\"'\n",
    "text ='''\"잘 들어보게. 옛날옛날 한 산 꼭대기에 이세상 모든 지식을 통달한 선인이 있었어.\n",
    "마을 사람들은 모두 그 선인에게 수많은 질문을 했고, 모두 지혜롭게 대답해 주었지.\n",
    "그의 답은 대부분 옳았다고 하네. 그런데 어느 날, 그 선인에게 한 선비가 찾아와서 물었어.\"'''.split('\\n')\n",
    "answer = '\"재귀함수는 자기 자신을 호출하는 함수라네\"'\n",
    "last = '라고 답변하였지.'\n",
    "N = int(input())\n",
    "def recur(n=0):\n",
    "    div = '____' * n\n",
    "    print(div + question)\n",
    "    if n == N:\n",
    "        print(div + answer)\n",
    "        print(div + last)\n",
    "        return\n",
    "    for line in text:\n",
    "        print(div + line)\n",
    "    recur(n+1)\n",
    "    print(div + last)\n",
    "recur()"
   ]
  },
  {
   "cell_type": "code",
   "execution_count": 19,
   "metadata": {},
   "outputs": [
    {
     "name": "stdout",
     "output_type": "stream",
     "text": [
      "68\n"
     ]
    }
   ],
   "source": [
    "# 5568\n",
    "from itertools import permutations as pm\n",
    "n, k = int(input()), int(input())\n",
    "nums = [input() for _ in range(n)]\n",
    "\n",
    "case_set = set()\n",
    "for case in pm(nums, k):\n",
    "    tot = ''\n",
    "    for c in case:\n",
    "        tot += c\n",
    "    case_set.add(tot)\n",
    "print(len(case_set))"
   ]
  },
  {
   "cell_type": "code",
   "execution_count": 31,
   "metadata": {},
   "outputs": [
    {
     "name": "stdout",
     "output_type": "stream",
     "text": [
      "7\n",
      "1 3\n",
      "1 2\n",
      "3 2\n",
      "1 3\n",
      "2 1\n",
      "2 3\n",
      "1 3\n"
     ]
    }
   ],
   "source": [
    "# 1914\n",
    "# 아이디어 : 하노이탑의 문제를 맨 밑판을 옮기는 것을 기준으로 문제를 쪼개 생각한다.\n",
    "N = int(input())\n",
    "\n",
    "def hanoi(n=N, start=1, end=3):\n",
    "    if n == 1:\n",
    "        print(start, end)\n",
    "        return\n",
    "    hanoi(n-1, start, 6-start-end)\n",
    "    print(start, end)\n",
    "    hanoi(n-1, 6 - start - end, end)\n",
    "    \n",
    "print(2**N - 1)\n",
    "if N <= 20:\n",
    "    hanoi()"
   ]
  },
  {
   "cell_type": "code",
   "execution_count": 46,
   "metadata": {},
   "outputs": [
    {
     "name": "stdout",
     "output_type": "stream",
     "text": [
      "10\n"
     ]
    }
   ],
   "source": [
    "# 9663 N-Queen\n",
    "N = int(input())\n",
    "cnt = [0]\n",
    "row_info, plus_info, minus_info = [1]*N, [1]*(2*N-1), [1]*(2*N-1)\n",
    "\n",
    "def queen(col=0):\n",
    "    if col == N:\n",
    "        cnt[0] += 1\n",
    "        return\n",
    "    for row in range(N):\n",
    "        if row_info[row] and plus_info[row+col] and minus_info[row-col]:\n",
    "            row_info[row], plus_info[row+col], minus_info[row-col] = 0, 0 ,0\n",
    "            queen(col + 1)\n",
    "            row_info[row], plus_info[row+col], minus_info[row-col] = 1, 1, 1\n",
    "queen()\n",
    "print(cnt[0])"
   ]
  },
  {
   "cell_type": "code",
   "execution_count": 34,
   "metadata": {},
   "outputs": [
    {
     "name": "stdout",
     "output_type": "stream",
     "text": [
      "1\n",
      "2\n",
      "3\n",
      "1\n",
      "4\n",
      "1\n",
      "2\n"
     ]
    }
   ],
   "source": [
    "def recur(n):\n",
    "    while n > 0:\n",
    "        recur(n-1)\n",
    "        print(n)\n",
    "        n = n - 2\n",
    "recur(4)\n",
    "def recur(n):\n",
    "    if n > 0:\n",
    "        recur(n-1)\n",
    "        print(n)\n",
    "        recur(n-2)"
   ]
  },
  {
   "cell_type": "code",
   "execution_count": 83,
   "metadata": {},
   "outputs": [
    {
     "name": "stdout",
     "output_type": "stream",
     "text": [
      "786432\n"
     ]
    }
   ],
   "source": [
    "# 1074\n",
    "N, r, c = map(int, input().split())\n",
    "\n",
    "ans = [0]\n",
    "def process(r=r, c=c, n=N):\n",
    "    \"\"\"r, c 위치를 보고 얘가 몇 사분면에 있는지\"\"\"\n",
    "    if n == 0:\n",
    "        return\n",
    "    width = 2**n\n",
    "    half = width//2\n",
    "    sq = half**2\n",
    "    if r < half and c < half:\n",
    "        ans[0] += sq * 0\n",
    "        process(r, c, n-1)\n",
    "    elif r < half and c >= half:\n",
    "        ans[0] += sq * 1\n",
    "        process(r, c-half, n-1)\n",
    "    elif r >= half and c < half:\n",
    "        ans[0] += sq * 2\n",
    "        process(r-half, c, n-1)\n",
    "    else:\n",
    "        ans[0] += sq * 3\n",
    "        process(r-half, c-half, n-1)\n",
    "\n",
    "process()\n",
    "print(ans[0])"
   ]
  },
  {
   "cell_type": "code",
   "execution_count": 85,
   "metadata": {},
   "outputs": [
    {
     "name": "stdout",
     "output_type": "stream",
     "text": [
      "1\n",
      "2\n",
      "3\n",
      "4\n",
      "5\n"
     ]
    }
   ],
   "source": [
    "# 2750\n",
    "[print(i) for i in sorted([int(input()) for _ in range(int(input()))])];"
   ]
  },
  {
   "cell_type": "code",
   "execution_count": null,
   "metadata": {},
   "outputs": [],
   "source": [
    "# 2751\n",
    "import sys\n",
    "[print(i) for i in sorted([int(sys.stdin.readline()) for _ in range(int(input()))])];"
   ]
  },
  {
   "cell_type": "code",
   "execution_count": null,
   "metadata": {},
   "outputs": [],
   "source": [
    "# 10989\n",
    "import sys\n",
    "nums_cnt = [0] * 10001\n",
    "# input = sys.stdin.readline\n",
    "for _ in range(int(input())):\n",
    "    nums_cnt[int(input())] += 1\n",
    "for i in range(1, 10001):\n",
    "    for _ in range(nums_cnt[i]):\n",
    "        print(i)"
   ]
  },
  {
   "cell_type": "code",
   "execution_count": null,
   "metadata": {},
   "outputs": [],
   "source": [
    "# 1181\n",
    "import sys\n",
    "input = sys.stdin.readline\n",
    "words = sorted(set([input().rstrip() for _ in range(int(input()))]), key=lambda x:(len(x), x))\n",
    "for word in words:\n",
    "    print(word)"
   ]
  },
  {
   "cell_type": "code",
   "execution_count": 95,
   "metadata": {},
   "outputs": [
    {
     "name": "stdout",
     "output_type": "stream",
     "text": [
      "7\n",
      "8\n",
      "10\n",
      "13\n",
      "19\n",
      "20\n",
      "23\n"
     ]
    }
   ],
   "source": [
    "# 2309\n",
    "nums = sorted([int(input()) for _ in range(9)])\n",
    "tot = sum(nums)\n",
    "def find_real():\n",
    "    for i in range(9):\n",
    "        for j in range(i, 9):\n",
    "            if tot - nums[i] - nums[j] == 100:\n",
    "                return i, j\n",
    "i, j = find_real()\n",
    "fakes = [nums[i], nums[j]]\n",
    "for n in nums:\n",
    "    if not n in fakes:\n",
    "        print(n)"
   ]
  },
  {
   "cell_type": "code",
   "execution_count": 100,
   "metadata": {},
   "outputs": [
    {
     "name": "stdout",
     "output_type": "stream",
     "text": [
      "500\n"
     ]
    }
   ],
   "source": [
    "# 2798\n",
    "from itertools import combinations as cb\n",
    "N, M = map(int, input().split())\n",
    "cards = list(map(int, input().split()))\n",
    "maxi = 0\n",
    "for case in cb(cards, 3):\n",
    "    summ = sum(case)\n",
    "    if summ <= M and maxi < summ:\n",
    "        maxi = summ\n",
    "        if maxi == M:\n",
    "            break\n",
    "print(maxi)"
   ]
  },
  {
   "cell_type": "code",
   "execution_count": 105,
   "metadata": {},
   "outputs": [
    {
     "name": "stdout",
     "output_type": "stream",
     "text": [
      "62\n"
     ]
    }
   ],
   "source": [
    "# 10819\n",
    "from itertools import permutations as pm\n",
    "N = int(input())\n",
    "def process(ls):\n",
    "    tot = 0\n",
    "    for i in range(N-1):\n",
    "        tot += abs(ls[i] - ls[i+1])\n",
    "    return tot\n",
    "\n",
    "maxi = 0\n",
    "for case in pm(map(int, input().split())):\n",
    "    tot = process(case)\n",
    "    if maxi < tot:\n",
    "        maxi = tot\n",
    "print(maxi)\n"
   ]
  },
  {
   "cell_type": "code",
   "execution_count": 126,
   "metadata": {},
   "outputs": [
    {
     "name": "stdout",
     "output_type": "stream",
     "text": [
      "35\n"
     ]
    }
   ],
   "source": [
    "# 10971 외판원 순회 2\n",
    "import sys\n",
    "# input = sys.stdin.readline\n",
    "\n",
    "N = int(input())\n",
    "to_root_info = []\n",
    "adj_list = [[] for _ in range(N)]\n",
    "for i in range(N):\n",
    "    for j in enumerate(map(int, input().split())):\n",
    "        if j[0] == 0: # 각 노드에서 root가는 정보를 저장하기 위해\n",
    "            to_root_info.append(j[1])\n",
    "        if j[1]: # 비용이 1 이상\n",
    "            adj_list[i].append(j)\n",
    "\n",
    "root = 0\n",
    "visited = [0]*N\n",
    "visited[root] = 1\n",
    "mini = [10**8]\n",
    "\n",
    "def tsp(now_city=root, n=1, total_cost=0):\n",
    "    \"\"\"now_city : 현재 방문한 도시 / n:현재 방문한 도시 수\"\"\"\n",
    "    if n == N and to_root_info[now_city]: # 모든 도시를 방문했고 root로 가는 길이 있다면\n",
    "        total_cost += to_root_info[now_city]\n",
    "        if mini[0] > total_cost:\n",
    "            mini[0] = total_cost\n",
    "            return\n",
    "    for adj_city, cost in adj_list[now_city]:\n",
    "        if not visited[adj_city]:\n",
    "            visited[adj_city] = 1 # 이 세 줄이 백트래킹 핵심\n",
    "            tsp(adj_city, n+1, total_cost + cost)\n",
    "            visited[adj_city] = 0\n",
    "\n",
    "tsp()\n",
    "print(mini[0])"
   ]
  },
  {
   "cell_type": "code",
   "execution_count": 158,
   "metadata": {},
   "outputs": [
    {
     "name": "stdout",
     "output_type": "stream",
     "text": [
      "54 -24\n"
     ]
    }
   ],
   "source": [
    "# 14888 연산자 끼워넣기\n",
    "N = int(input())\n",
    "A = list(map(int, input().split()))\n",
    "oper_cnt = list(map(int, input().split()))\n",
    "\n",
    "def plus(a, b): return a + b\n",
    "def minus(a, b): return a - b\n",
    "def mult(a, b): return a * b\n",
    "def divide(a, b): return -(-a//b) if a<0 else a//b\n",
    "\n",
    "oper_list = [plus, minus, mult, divide]\n",
    "mini, maxi = [10**11], [-10**11]\n",
    "\n",
    "def back_tracking(i=1, res=A[0]):\n",
    "    if i == N:\n",
    "        if res > maxi[0]:\n",
    "            maxi[0] = res\n",
    "        if res < mini[0]:\n",
    "            mini[0] = res\n",
    "        return\n",
    "    for j in range(4):\n",
    "        if oper_cnt[j]:\n",
    "            oper_cnt[j] -= 1\n",
    "            back_tracking(i+1, oper_list[j](res, A[i]))\n",
    "            oper_cnt[j] += 1\n",
    "back_tracking()\n",
    "print(maxi[0], mini[0])"
   ]
  },
  {
   "cell_type": "code",
   "execution_count": 2,
   "metadata": {},
   "outputs": [
    {
     "name": "stdout",
     "output_type": "stream",
     "text": [
      "ABCMeta  AbstractSet  Any  AnyStr  AsyncContextManager  AsyncGenerator  AsyncIterable  AsyncIterator  Awaitable  BinaryIO  ByteString  CT_co  Callable  ChainMap  ClassVar  Collection  Container  ContextManager  Coroutine  Counter  DefaultDict  Deque  Dict  EXCLUDED_ATTRIBUTES  Final  ForwardRef  FrozenSet  Generator  Generic  Hashable  IO  ItemsView  Iterable  Iterator  KT  KeysView  List  Literal  Mapping  MappingView  Match  MethodDescriptorType  MethodWrapperType  MutableMapping  MutableSequence  MutableSet  NamedTuple  NamedTupleMeta  NewType  NoReturn  Optional  OrderedDict  Pattern  Protocol  Reversible  Sequence  Set  Sized  SupportsAbs  SupportsBytes  SupportsComplex  SupportsFloat  SupportsIndex  SupportsInt  SupportsRound  T  TYPE_CHECKING  T_co  T_contra  Text  TextIO  Tuple  Type  TypeVar  TypedDict  Union  VT  VT_co  V_co  ValuesView  WrapperDescriptorType  _Final  _GenericAlias  _Immutable  _PROTO_WHITELIST  _ProtocolMeta  _SPECIAL_NAMES  _SpecialForm  _TYPING_INTERNALS  _TypedDictMeta  _TypingEllipsis  _TypingEmpty  _VariadicGenericAlias  __all__  __builtins__  __cached__  __doc__  __file__  __loader__  __name__  __package__  __spec__  _alias  _allow_reckless_class_cheks  _allowed_types  _check_fails  _check_generic  _cleanups  _collect_type_vars  _dict_new  _eval_type  _get_defaults  _get_protocol_attrs  _is_callable_members_only  _is_dunder  _make_nmtuple  _no_init  _normalize_alias  _overload_dummy  _prohibited  _remove_dups_flatten  _special  _subs_tvars  _tp_cache  _type_check  _type_repr  _typeddict_new  abstractmethod  cast  collections  contextlib  final  functools  get_args  get_origin  get_type_hints  io  no_type_check  no_type_check_decorator  operator  overload  re  runtime_checkable  stdlib_re  sys  types  "
     ]
    }
   ],
   "source": [
    "import typing\n",
    "for t in dir(typing):\n",
    "    print(t, ' ', end='')"
   ]
  },
  {
   "cell_type": "code",
   "execution_count": null,
   "metadata": {},
   "outputs": [],
   "source": []
  }
 ],
 "metadata": {
  "interpreter": {
   "hash": "8fac594bfae6525c0c41b4041d2d72effa188cc8ead05f81b1fab2bb098927fb"
  },
  "kernelspec": {
   "display_name": "Python 3.8.8 ('base')",
   "language": "python",
   "name": "python3"
  },
  "language_info": {
   "codemirror_mode": {
    "name": "ipython",
    "version": 3
   },
   "file_extension": ".py",
   "mimetype": "text/x-python",
   "name": "python",
   "nbconvert_exporter": "python",
   "pygments_lexer": "ipython3",
   "version": "3.8.8"
  },
  "orig_nbformat": 4
 },
 "nbformat": 4,
 "nbformat_minor": 2
}
