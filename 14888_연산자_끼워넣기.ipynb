{
 "cells": [
  {
   "cell_type": "markdown",
   "metadata": {},
   "source": [
    "# 14888 연산자 끼워넣기\n",
    "220401\n",
    "- 알고리즘 분류\n",
    "    - 브루트포스 알고리즘\n",
    "    - 백트래킹\n",
    "- 티어 : 실버 1"
   ]
  },
  {
   "cell_type": "code",
   "execution_count": 2,
   "metadata": {},
   "outputs": [
    {
     "name": "stdout",
     "output_type": "stream",
     "text": [
      "54 -24\n"
     ]
    }
   ],
   "source": [
    "# 14888\n",
    "N = int(input())\n",
    "A = list(map(int, input().split()))\n",
    "oper_cnt = list(map(int, input().split()))\n",
    "\n",
    "def plus(a, b): return a + b\n",
    "def minus(a, b): return a - b\n",
    "def mult(a, b): return a * b\n",
    "def divide(a, b): return -(-a//b) if a<0 else a//b\n",
    "\n",
    "oper_list = [plus, minus, mult, divide]\n",
    "mini, maxi = [10**11], [-10**11]\n",
    "\n",
    "def back_tracking(i=1, res=A[0]):\n",
    "    if i == N:\n",
    "        if res > maxi[0]:\n",
    "            maxi[0] = res\n",
    "        if res < mini[0]:\n",
    "            mini[0] = res\n",
    "        return\n",
    "    for j in range(4):\n",
    "        if oper_cnt[j]:\n",
    "            oper_cnt[j] -= 1\n",
    "            back_tracking(i+1, oper_list[j](res, A[i]))\n",
    "            oper_cnt[j] += 1\n",
    "back_tracking()\n",
    "print(maxi[0], mini[0])"
   ]
  },
  {
   "cell_type": "code",
   "execution_count": null,
   "metadata": {},
   "outputs": [],
   "source": []
  }
 ],
 "metadata": {
  "interpreter": {
   "hash": "8fac594bfae6525c0c41b4041d2d72effa188cc8ead05f81b1fab2bb098927fb"
  },
  "kernelspec": {
   "display_name": "Python 3.8.8 ('base')",
   "language": "python",
   "name": "python3"
  },
  "language_info": {
   "codemirror_mode": {
    "name": "ipython",
    "version": 3
   },
   "file_extension": ".py",
   "mimetype": "text/x-python",
   "name": "python",
   "nbconvert_exporter": "python",
   "pygments_lexer": "ipython3",
   "version": "3.8.8"
  },
  "orig_nbformat": 4
 },
 "nbformat": 4,
 "nbformat_minor": 2
}
