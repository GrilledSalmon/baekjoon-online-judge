{
 "cells": [
  {
   "cell_type": "markdown",
   "metadata": {},
   "source": [
    "# SW정글 week02 컴퓨팅 사고로의 전환\n",
    "## <큐>\n",
    "220410"
   ]
  },
  {
   "cell_type": "code",
   "execution_count": 1,
   "metadata": {},
   "outputs": [
    {
     "name": "stdout",
     "output_type": "stream",
     "text": [
      "1\n",
      "0\n"
     ]
    }
   ],
   "source": [
    "# 18258 큐 2\n",
    "from collections import deque\n",
    "import sys\n",
    "# input = sys.stdin.readline\n",
    "queue = deque()\n",
    "N = int(input())\n",
    "for _ in range(N):\n",
    "    inp = input().rstrip().split()\n",
    "    command = inp[0]\n",
    "    if command == 'push':\n",
    "        queue.append(inp[1])\n",
    "    elif command == 'front':\n",
    "        if queue:\n",
    "            print(queue[0])\n",
    "        else:\n",
    "            print(-1)\n",
    "    elif command == 'size':\n",
    "        print(len(queue))\n",
    "    elif command == 'pop':\n",
    "        if queue:\n",
    "            print(queue.popleft())\n",
    "        else:\n",
    "            print(-1)\n",
    "    elif command == 'empty':\n",
    "        if queue:\n",
    "            print(0)\n",
    "        else:\n",
    "            print(1)\n",
    "    else: # back\n",
    "        if queue:\n",
    "            print(queue[-1])\n",
    "        else:\n",
    "            print(-1)"
   ]
  },
  {
   "cell_type": "code",
   "execution_count": 2,
   "metadata": {},
   "outputs": [
    {
     "name": "stdout",
     "output_type": "stream",
     "text": [
      "4\n"
     ]
    }
   ],
   "source": [
    "# 2164 카드2\n",
    "from collections import deque\n",
    "N = int(input())\n",
    "queue = deque(range(1, N+1))\n",
    "while len(queue) != 1:\n",
    "    queue.popleft()\n",
    "    queue.append(queue.popleft())\n",
    "print(queue[0])"
   ]
  },
  {
   "cell_type": "code",
   "execution_count": 14,
   "metadata": {},
   "outputs": [
    {
     "name": "stdout",
     "output_type": "stream",
     "text": [
      "<3, 6, 2, 7, 5, 1, 4>\n"
     ]
    }
   ],
   "source": [
    "# 11866 요세푸스 문제 0\n",
    "N, K = map(int, input().split())\n",
    "\n",
    "ans = []\n",
    "queue = list(range(1, N+1))\n",
    "i = 0\n",
    "while queue:\n",
    "    i = (i + K-1) % len(queue)\n",
    "    ans.append(queue.pop(i))\n",
    "print(f\"<{', '.join(map(str, ans))}>\")"
   ]
  },
  {
   "cell_type": "code",
   "execution_count": 29,
   "metadata": {},
   "outputs": [],
   "source": [
    "# 3190 뱀\n",
    "from collections import deque\n",
    "import sys\n",
    "# input = sys.stdin.readline\n",
    "N, K = int(input()), int(input())\n",
    "apple_coords = {tuple(map(int, input().split())) for _ in range(K)}\n",
    "L = int(input())\n",
    "move_order = deque()\n",
    "for _ in range(L):\n",
    "    X, C = input().rstrip().split()\n",
    "    move_order.append((int(X), C))\n",
    "\n",
    "def update_direction(time, direction):\n",
    "    if move_order:\n",
    "        order_time, now_order = move_order[0]\n",
    "        if time == order_time:\n",
    "            move_order.popleft() # 사용한 명령 제거\n",
    "            if now_order == 'D': # 오른쪽 꺾기\n",
    "                direction[0], direction[1] = direction[1], -direction[0]\n",
    "            else: # 왼쪽 꺾기\n",
    "                direction[0], direction[1] = -direction[1], direction[0]\n",
    "\n",
    "def end_condition(next_head_coord):\n",
    "    row, col = next_head_coord\n",
    "    if not (1<=row<=N and 1<=col<=N):\n",
    "        return True\n",
    "    if next_head_coord in snake_body_coord:\n",
    "        return True\n",
    "    return False\n",
    "\n",
    "def move_snake(snake_body_coord, direction):\n",
    "    \"\"\"direction에 맞게 움직여줌\"\"\"\n",
    "    global time\n",
    "    now_head_row, now_head_col = snake_body_coord[-1]\n",
    "\n",
    "    next_head_row = now_head_row - direction[1]\n",
    "    next_head_col = now_head_col + direction[0]\n",
    "    next_head_coord = next_head_row, next_head_col\n",
    "\n",
    "    time += 1\n",
    "\n",
    "    return next_head_coord\n",
    "\n",
    "\n",
    "snake_body_coord = deque([(1, 1)]) # 뱀의 몸\n",
    "time = 0\n",
    "direction = [1, 0] # 오른쪽 방향 벡터\n",
    "while True:\n",
    "    update_direction(time, direction)\n",
    "    next_head_coord = move_snake(snake_body_coord, direction)\n",
    "    \n",
    "    if end_condition(next_head_coord):\n",
    "        break\n",
    "    \n",
    "    snake_body_coord.append(next_head_coord) # 새 머리 위치 업데이트\n",
    "\n",
    "    if (next_head_coord) in apple_coords: # 사과 먹었는지에 따라 상태 처리\n",
    "        apple_coords.remove(next_head_coord)\n",
    "    else:\n",
    "        snake_body_coord.popleft()\n",
    "\n",
    "print(time)"
   ]
  }
 ],
 "metadata": {
  "interpreter": {
   "hash": "8fac594bfae6525c0c41b4041d2d72effa188cc8ead05f81b1fab2bb098927fb"
  },
  "kernelspec": {
   "display_name": "Python 3.8.8 ('base')",
   "language": "python",
   "name": "python3"
  },
  "language_info": {
   "codemirror_mode": {
    "name": "ipython",
    "version": 3
   },
   "file_extension": ".py",
   "mimetype": "text/x-python",
   "name": "python",
   "nbconvert_exporter": "python",
   "pygments_lexer": "ipython3",
   "version": "3.9.5"
  },
  "orig_nbformat": 4
 },
 "nbformat": 4,
 "nbformat_minor": 2
}
