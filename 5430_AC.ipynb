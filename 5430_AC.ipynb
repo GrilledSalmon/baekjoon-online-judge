{
 "cells": [
  {
   "cell_type": "markdown",
   "metadata": {},
   "source": [
    "# 5430 AC\n",
    "220301\n",
    "- 소감 : 정답률이 20%로 너무 낮아서 쫄았는데 다행히 한번에 통과됐다. 채점 현황에 시간초과보단 틀렸습니다만 주구장창 있는 걸로 봐선 아마 리스트 출력 모양때문이지 않을까 싶기도 함.... 좀 이상한 문제였음. 그나저나 이로써 class 3 문제를 다풀었다. 이제부턴 class 4 ㄱㄱ\n",
    "- 알고리즘 분류\n",
    "    - 구현\n",
    "    - 자료 구조\n",
    "    - 문자열\n",
    "    - 파싱\n",
    "    - 덱\n",
    "- 티어 : 골드 5"
   ]
  },
  {
   "cell_type": "code",
   "execution_count": null,
   "metadata": {},
   "outputs": [],
   "source": [
    "import sys\n",
    "# input = sys.stdin.readline\n",
    "\n",
    "def print_list(ls):\n",
    "    print('[' + ','.join(map(str, ls)) + ']')\n",
    "\n",
    "def solve():\n",
    "    p = input().rstrip()\n",
    "    n = int(input())\n",
    "    try:\n",
    "        nums = list(map(int, input().strip('[]\\n').split(',')))\n",
    "    except ValueError:\n",
    "        nums = []\n",
    "\n",
    "    rev = 0\n",
    "    s, e = 0, n\n",
    "    for command in p:\n",
    "        if command == 'R':\n",
    "            rev = 1-rev\n",
    "        else:\n",
    "            if rev: # 뒤집어졌으면\n",
    "                e -= 1\n",
    "            else: # 똑바로 돼 있으면\n",
    "                s += 1\n",
    "        if s > e:\n",
    "            print('error')\n",
    "            return\n",
    "    if rev:\n",
    "        if s == 0:\n",
    "            print_list(nums[e-1::-1])\n",
    "        else:\n",
    "            print_list(nums[e-1:s-1:-1])\n",
    "    else:\n",
    "        print_list(nums[s:e])\n",
    "    return\n",
    "\n",
    "T = int(input())\n",
    "for _ in range(T):\n",
    "    solve()"
   ]
  },
  {
   "cell_type": "code",
   "execution_count": 26,
   "metadata": {},
   "outputs": [],
   "source": [
    "from collections import deque\n",
    "p = input().rstrip()\n",
    "n = int(input())\n",
    "nums = list(map(int, input().strip('[]\\n').split(',')))"
   ]
  },
  {
   "cell_type": "code",
   "execution_count": 27,
   "metadata": {},
   "outputs": [
    {
     "data": {
      "text/plain": [
       "('RDD', 4, [1, 2, 3, 4])"
      ]
     },
     "execution_count": 27,
     "metadata": {},
     "output_type": "execute_result"
    }
   ],
   "source": [
    "p, n, nums"
   ]
  },
  {
   "cell_type": "code",
   "execution_count": 50,
   "metadata": {},
   "outputs": [],
   "source": [
    "def print_list(ls):\n",
    "    print('[' + ','.join(map(str, ls)) + ']')\n",
    "\n",
    "def solve():\n",
    "    p = input().rstrip()\n",
    "    n = int(input())\n",
    "    try:\n",
    "        nums = list(map(int, input().strip('[]\\n').split(',')))\n",
    "    except ValueError:\n",
    "        nums = []\n",
    "\n",
    "    rev = 0\n",
    "    s, e = 0, n\n",
    "    for command in p:\n",
    "        if command == 'R':\n",
    "            rev = 1-rev\n",
    "        else:\n",
    "            if rev: # 뒤집어졌으면\n",
    "                e -= 1\n",
    "            else: # 똑바로 돼 있으면\n",
    "                s += 1\n",
    "        if s > e:\n",
    "            print('error')\n",
    "            return\n",
    "    if rev:\n",
    "        if s == 0:\n",
    "            print_list(nums[e-1::-1])\n",
    "        else:\n",
    "            print_list(nums[e-1:s-1:-1])\n",
    "    else:\n",
    "        print_list(nums[s:e])\n",
    "    return"
   ]
  },
  {
   "cell_type": "code",
   "execution_count": 34,
   "metadata": {},
   "outputs": [
    {
     "data": {
      "text/plain": [
       "[4, 3, 2, 1]"
      ]
     },
     "execution_count": 34,
     "metadata": {},
     "output_type": "execute_result"
    }
   ],
   "source": [
    "nums[::-1]"
   ]
  },
  {
   "cell_type": "code",
   "execution_count": 52,
   "metadata": {},
   "outputs": [
    {
     "name": "stdout",
     "output_type": "stream",
     "text": [
      "[1,2,3,4]\n",
      "[]\n"
     ]
    }
   ],
   "source": [
    "print_list([1, 2, 3, 4])\n",
    "print_list([])"
   ]
  },
  {
   "cell_type": "code",
   "execution_count": null,
   "metadata": {},
   "outputs": [],
   "source": []
  }
 ],
 "metadata": {
  "interpreter": {
   "hash": "c798a043d5b26db4ea8dc684fe25ec244835432adc5539bce2de618403b1d63c"
  },
  "kernelspec": {
   "display_name": "Python 3.8.5 ('base')",
   "language": "python",
   "name": "python3"
  },
  "language_info": {
   "codemirror_mode": {
    "name": "ipython",
    "version": 3
   },
   "file_extension": ".py",
   "mimetype": "text/x-python",
   "name": "python",
   "nbconvert_exporter": "python",
   "pygments_lexer": "ipython3",
   "version": "3.8.5"
  },
  "orig_nbformat": 4
 },
 "nbformat": 4,
 "nbformat_minor": 2
}
