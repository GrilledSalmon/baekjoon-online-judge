{
 "cells": [
  {
   "cell_type": "markdown",
   "metadata": {},
   "source": [
    "# 2178 미로 탐색\n",
    "220130  \n",
    "220301 재도전\n",
    "- 소감 : 평소에 최단거리 풀던 것과 조금 다르게 구현했다. 경희님이 썼던 방식을 쓰긴 했는데, 그렇게 구현하는 게 처음이라 조금 헤맸다. 평소에 쓰던 set을 활용한 구현이랑 이 방법 둘 중엔 이 방법이 조금 더 빠르지 않을까 싶다.\n",
    "- 알고리즘 분류\n",
    "    - 그래프 이론\n",
    "    - 그래프 탐색\n",
    "    - 너비 우선 탐색\n",
    "- 티어 : 실버 1"
   ]
  },
  {
   "cell_type": "code",
   "execution_count": 5,
   "metadata": {},
   "outputs": [],
   "source": [
    "import sys\n",
    "# input = sys.stdin.readline\n",
    "\n",
    "N, M = map(int, input().split())\n",
    "miro = [list(map(int, list(input().rstrip()))) for _ in range(N)]\n",
    "\n",
    "# BFS?\n",
    "def bfs():\n",
    "    queue = [(0, 0)]\n",
    "    miro[0][0] = 0\n",
    "    step = 1\n",
    "    while True:\n",
    "        temp = []\n",
    "        step += 1\n",
    "        for x, y in queue:\n",
    "            probe = []\n",
    "            if y != 0:   probe.append((x, y-1)) # 상\n",
    "            if y != N-1: probe.append((x, y+1)) # 하\n",
    "            if x != 0:   probe.append((x-1, y)) # 좌\n",
    "            if x != M-1: probe.append((x+1, y)) # 우\n",
    "            \n",
    "            for adj_x, adj_y in probe:\n",
    "                if (adj_x, adj_y) == (M-1, N-1):\n",
    "                    return step\n",
    "                elif miro[adj_y][adj_x]:\n",
    "                    miro[adj_y][adj_x] = 0\n",
    "                    temp.append((adj_x, adj_y))\n",
    "        queue = temp\n",
    "print(bfs())"
   ]
  },
  {
   "cell_type": "code",
   "execution_count": 7,
   "metadata": {},
   "outputs": [
    {
     "data": {
      "text/plain": [
       "[[1, 0, 1, 1, 1, 1],\n",
       " [1, 0, 1, 0, 1, 0],\n",
       " [1, 0, 1, 0, 1, 1],\n",
       " [1, 1, 1, 0, 1, 1]]"
      ]
     },
     "execution_count": 7,
     "metadata": {},
     "output_type": "execute_result"
    }
   ],
   "source": [
    "from copy import deepcopy\n",
    "save_miro = deepcopy(miro)\n",
    "save_miro"
   ]
  },
  {
   "cell_type": "code",
   "execution_count": 6,
   "metadata": {},
   "outputs": [
    {
     "data": {
      "text/plain": [
       "[[1, 0, 1, 1, 1, 1],\n",
       " [1, 0, 1, 0, 1, 0],\n",
       " [1, 0, 1, 0, 1, 1],\n",
       " [1, 1, 1, 0, 1, 1]]"
      ]
     },
     "execution_count": 6,
     "metadata": {},
     "output_type": "execute_result"
    }
   ],
   "source": [
    "miro"
   ]
  },
  {
   "cell_type": "code",
   "execution_count": 11,
   "metadata": {},
   "outputs": [
    {
     "data": {
      "text/plain": [
       "15"
      ]
     },
     "execution_count": 11,
     "metadata": {},
     "output_type": "execute_result"
    }
   ],
   "source": [
    "# BFS?\n",
    "def bfs():\n",
    "    queue = [(0, 0)]\n",
    "    miro[0][0] = 0\n",
    "    step = 1\n",
    "    while True:\n",
    "        temp = []\n",
    "        step += 1\n",
    "        for x, y in queue:\n",
    "            probe = []\n",
    "            if y != 0:   probe.append((x, y-1)) # 상\n",
    "            if y != N-1: probe.append((x, y+1)) # 하\n",
    "            if x != 0:   probe.append((x-1, y)) # 좌\n",
    "            if x != M-1: probe.append((x+1, y)) # 우\n",
    "            \n",
    "            for adj_x, adj_y in probe:\n",
    "                if (adj_x, adj_y) == (M-1, N-1):\n",
    "                    return step\n",
    "                elif miro[adj_y][adj_x]:\n",
    "                    miro[adj_y][adj_x] = 0\n",
    "                    temp.append((adj_x, adj_y))\n",
    "        queue = temp\n",
    "print(bfs())"
   ]
  },
  {
   "cell_type": "code",
   "execution_count": 9,
   "metadata": {},
   "outputs": [
    {
     "data": {
      "text/plain": [
       "([], [1, 2])"
      ]
     },
     "execution_count": 9,
     "metadata": {},
     "output_type": "execute_result"
    }
   ],
   "source": [
    "a = [1, 2]\n",
    "b = a\n",
    "a = []\n",
    "a, b"
   ]
  },
  {
   "cell_type": "code",
   "execution_count": 10,
   "metadata": {},
   "outputs": [
    {
     "name": "stdout",
     "output_type": "stream",
     "text": [
      "1\n",
      "2\n",
      "3\n"
     ]
    }
   ],
   "source": [
    "ls = [1, 2, 3]\n",
    "for i in ls:\n",
    "    print(i)\n",
    "    ls = []"
   ]
  }
 ],
 "metadata": {
  "interpreter": {
   "hash": "c798a043d5b26db4ea8dc684fe25ec244835432adc5539bce2de618403b1d63c"
  },
  "kernelspec": {
   "display_name": "Python 3.8.5 64-bit ('base': conda)",
   "language": "python",
   "name": "python3"
  },
  "language_info": {
   "codemirror_mode": {
    "name": "ipython",
    "version": 3
   },
   "file_extension": ".py",
   "mimetype": "text/x-python",
   "name": "python",
   "nbconvert_exporter": "python",
   "pygments_lexer": "ipython3",
   "version": "3.8.5"
  },
  "orig_nbformat": 4
 },
 "nbformat": 4,
 "nbformat_minor": 2
}
