{
 "cells": [
  {
   "cell_type": "markdown",
   "metadata": {},
   "source": [
    "# 2178 미로 탐색\n",
    "220130\n",
    "- 최단거리"
   ]
  },
  {
   "cell_type": "code",
   "execution_count": 7,
   "metadata": {},
   "outputs": [],
   "source": [
    "N, M = map(int, input().split())\n",
    "miro = [list(map(int, list(input()))) for _ in range(N)]"
   ]
  },
  {
   "cell_type": "code",
   "execution_count": 8,
   "metadata": {},
   "outputs": [
    {
     "data": {
      "text/plain": [
       "[[1, 0, 1, 1, 1, 1],\n",
       " [1, 0, 1, 0, 1, 0],\n",
       " [1, 0, 1, 0, 1, 1],\n",
       " [1, 1, 1, 0, 1, 1]]"
      ]
     },
     "execution_count": 8,
     "metadata": {},
     "output_type": "execute_result"
    }
   ],
   "source": [
    "miro"
   ]
  },
  {
   "cell_type": "code",
   "execution_count": 9,
   "metadata": {},
   "outputs": [
    {
     "data": {
      "text/plain": [
       "[[0, 1, 0, 0, 0, 0],\n",
       " [0, 1, 0, 1, 0, 1],\n",
       " [0, 1, 0, 1, 0, 0],\n",
       " [0, 0, 0, 1, 0, 0]]"
      ]
     },
     "execution_count": 9,
     "metadata": {},
     "output_type": "execute_result"
    }
   ],
   "source": [
    "visited = [[1-i for i in li] for li in miro]\n",
    "visited"
   ]
  },
  {
   "cell_type": "code",
   "execution_count": null,
   "metadata": {},
   "outputs": [],
   "source": [
    "from collections import deque\n",
    "\n",
    "visited = [[1-i for i in li] for li in miro] # 0인 부분은 \n",
    "ans = 1\n",
    "queue = deque()\n",
    "\n",
    "def adj_probe(x, y):\n",
    "    \"\"\"x, y 주변을 탐색해줌\"\"\"\n",
    "    probe_coord = []\n",
    "    # 상\n",
    "    if y != 0:\n",
    "        probe_coord.append((x, y - 1))\n",
    "    # 하\n",
    "    if y != N-1:\n",
    "        probe_coord.append((x, y + 1))\n",
    "    # 좌\n",
    "    if x != 0:\n",
    "        probe_coord.append((x - 1, y))\n",
    "    # 우\n",
    "    if x != M-1:\n",
    "        probe_coord.append((x + 1, y))\n",
    "    \n",
    "    if probe_coord: # 뭔가 들어 있으면 탐색\n",
    "        for new_x, new_y in probe_coord:\n",
    "\n",
    "\n"
   ]
  }
 ],
 "metadata": {
  "interpreter": {
   "hash": "c798a043d5b26db4ea8dc684fe25ec244835432adc5539bce2de618403b1d63c"
  },
  "kernelspec": {
   "display_name": "Python 3.8.5 64-bit ('base': conda)",
   "language": "python",
   "name": "python3"
  },
  "language_info": {
   "codemirror_mode": {
    "name": "ipython",
    "version": 3
   },
   "file_extension": ".py",
   "mimetype": "text/x-python",
   "name": "python",
   "nbconvert_exporter": "python",
   "pygments_lexer": "ipython3",
   "version": "3.8.5"
  },
  "orig_nbformat": 4
 },
 "nbformat": 4,
 "nbformat_minor": 2
}
