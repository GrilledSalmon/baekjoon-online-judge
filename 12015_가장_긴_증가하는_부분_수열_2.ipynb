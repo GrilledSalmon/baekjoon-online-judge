{
 "cells": [
  {
   "cell_type": "markdown",
   "metadata": {},
   "source": [
    "# 12015 가장 긴 증가하는 부분 수열 2\n",
    "220426\n",
    "- 소감 : 난 이분탐색이 왤케 싫을까..\n",
    "- 알고리즘 분류\n",
    "    - 이분 탐색\n",
    "    - 가장 긴 증가하는 부분 수열:o(n log n)\n",
    "- 티어 : 골드 2"
   ]
  },
  {
   "cell_type": "code",
   "execution_count": 27,
   "metadata": {},
   "outputs": [
    {
     "name": "stdout",
     "output_type": "stream",
     "text": [
      "4\n"
     ]
    }
   ],
   "source": [
    "N = int(input())\n",
    "A = tuple(map(int, input().split()))\n",
    "\n",
    "def binary_search(target, memo):\n",
    "    s, e = 0, len(memo)-1\n",
    "    while s<=e:\n",
    "        mid = (s+e)//2\n",
    "        val = memo[mid]\n",
    "        if memo[mid] == target:\n",
    "            return\n",
    "        elif memo[mid] > target:\n",
    "            e = mid-1\n",
    "        else:\n",
    "            s = mid + 1\n",
    "            \n",
    "    if val > target:\n",
    "        memo[mid] = target\n",
    "    else:\n",
    "        if mid == len(memo)-1:\n",
    "            memo.append(target)\n",
    "        else:\n",
    "            memo[mid+1] = target\n",
    "\n",
    "memo = [A[0]]\n",
    "for a in A:\n",
    "    binary_search(a, memo)\n",
    "print(len(memo))"
   ]
  },
  {
   "cell_type": "code",
   "execution_count": 22,
   "metadata": {},
   "outputs": [
    {
     "data": {
      "text/plain": [
       "(15, (1, 10, 2, 65, 32, 45, 21, 5, 32, 48, 5, 2, 15, 50, 100))"
      ]
     },
     "execution_count": 22,
     "metadata": {},
     "output_type": "execute_result"
    }
   ],
   "source": [
    "N, A"
   ]
  },
  {
   "cell_type": "code",
   "execution_count": 23,
   "metadata": {},
   "outputs": [
    {
     "name": "stdout",
     "output_type": "stream",
     "text": [
      "7\n"
     ]
    }
   ],
   "source": [
    "memo = [A[0]]\n",
    "for a in A:\n",
    "    for l in range(len(memo)-1, -1, -1):\n",
    "        if memo[l] < a:\n",
    "            if l == len(memo)-1:\n",
    "                memo.append(a)\n",
    "            elif memo[l+1] > a:\n",
    "                memo[l+1] = a\n",
    "            break\n",
    "    else:\n",
    "        memo[0] = a\n",
    "print(len(memo))"
   ]
  },
  {
   "cell_type": "code",
   "execution_count": 24,
   "metadata": {},
   "outputs": [
    {
     "data": {
      "text/plain": [
       "[1, 2, 5, 15, 48, 50, 100]"
      ]
     },
     "execution_count": 24,
     "metadata": {},
     "output_type": "execute_result"
    }
   ],
   "source": [
    "memo"
   ]
  },
  {
   "cell_type": "code",
   "execution_count": 25,
   "metadata": {},
   "outputs": [
    {
     "name": "stdout",
     "output_type": "stream",
     "text": [
      "7\n"
     ]
    }
   ],
   "source": [
    "def binary_search(target, memo):\n",
    "    s, e = 0, len(memo)-1\n",
    "    while s<=e:\n",
    "        mid = (s+e)//2\n",
    "        val = memo[mid]\n",
    "        if memo[mid] == target:\n",
    "            return\n",
    "        elif memo[mid] > target:\n",
    "            e = mid-1\n",
    "        else:\n",
    "            s = mid + 1\n",
    "    if val > target:\n",
    "        memo[mid] = target\n",
    "    else:\n",
    "        if mid == len(memo)-1:\n",
    "            memo.append(target)\n",
    "        else:\n",
    "            memo[mid+1] = target\n",
    "\n",
    "memo = [A[0]]\n",
    "for a in A:\n",
    "    binary_search(a, memo)\n",
    "print(len(memo))"
   ]
  },
  {
   "cell_type": "code",
   "execution_count": 26,
   "metadata": {},
   "outputs": [
    {
     "data": {
      "text/plain": [
       "[1, 2, 5, 15, 48, 50, 100]"
      ]
     },
     "execution_count": 26,
     "metadata": {},
     "output_type": "execute_result"
    }
   ],
   "source": [
    "memo"
   ]
  },
  {
   "cell_type": "code",
   "execution_count": 18,
   "metadata": {},
   "outputs": [
    {
     "data": {
      "text/plain": [
       "15"
      ]
     },
     "execution_count": 18,
     "metadata": {},
     "output_type": "execute_result"
    }
   ],
   "source": [
    "len(A)"
   ]
  }
 ],
 "metadata": {
  "interpreter": {
   "hash": "8fac594bfae6525c0c41b4041d2d72effa188cc8ead05f81b1fab2bb098927fb"
  },
  "kernelspec": {
   "display_name": "Python 3.8.8 ('base')",
   "language": "python",
   "name": "python3"
  },
  "language_info": {
   "codemirror_mode": {
    "name": "ipython",
    "version": 3
   },
   "file_extension": ".py",
   "mimetype": "text/x-python",
   "name": "python",
   "nbconvert_exporter": "python",
   "pygments_lexer": "ipython3",
   "version": "3.8.8"
  },
  "orig_nbformat": 4
 },
 "nbformat": 4,
 "nbformat_minor": 2
}
