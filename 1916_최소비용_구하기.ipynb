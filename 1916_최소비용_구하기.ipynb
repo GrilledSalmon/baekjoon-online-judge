{
 "cells": [
  {
   "cell_type": "markdown",
   "metadata": {},
   "source": [
    "# 1916 최소비용 구하기\n",
    "220320\n",
    "- 소감 : 다익스트라 커닝 안하고 30분 컷\n",
    "- 알고리즘 분류\n",
    "    - 그래프 이론\n",
    "    - 다익스트라\n",
    "- 티어 : 골드 5"
   ]
  },
  {
   "cell_type": "code",
   "execution_count": 5,
   "metadata": {},
   "outputs": [],
   "source": [
    "import sys\n",
    "from heapq import heappop, heappush\n",
    "# input = sys.stdin.readline\n",
    "N, M = int(input()), int(input())\n",
    "\n",
    "adj_list = [{} for _ in range(N+1)]\n",
    "for _ in range(M):\n",
    "    a, b, c = map(int, input().split())\n",
    "    if adj_list[a].get(b, 1000000) > c:\n",
    "        adj_list[a][b] = c\n",
    "        \n",
    "start_node, end_node = map(int, input().split())\n",
    "\n",
    "def dijkstra():\n",
    "    # Dijkstra\n",
    "    cost = [float('inf') for _ in range(N+1)]\n",
    "    clear = [0 for _ in range(N+1)]\n",
    "    cost[start_node] = 0\n",
    "    heap = [(0, start_node)]\n",
    "    while heap:\n",
    "        now_cost, now_node = heappop(heap)\n",
    "        if now_node == end_node:\n",
    "            print(cost[end_node])\n",
    "            return\n",
    "        clear[now_node] = 1\n",
    "        for adj_node, adj_cost in adj_list[now_node].items():\n",
    "            if not clear[adj_node]:\n",
    "                new_cost = now_cost + adj_cost\n",
    "                if new_cost < cost[adj_node]:\n",
    "                    cost[adj_node] = new_cost\n",
    "                    heappush(heap, (new_cost, adj_node))\n",
    "                    \n",
    "dijkstra()"
   ]
  },
  {
   "cell_type": "code",
   "execution_count": 10,
   "metadata": {},
   "outputs": [
    {
     "data": {
      "text/plain": [
       "[{}, {2: 2, 3: 3, 4: 1, 5: 10}, {4: 2}, {4: 1, 5: 1}, {5: 3}, {}]"
      ]
     },
     "execution_count": 10,
     "metadata": {},
     "output_type": "execute_result"
    }
   ],
   "source": [
    "adj_list"
   ]
  },
  {
   "cell_type": "code",
   "execution_count": 13,
   "metadata": {},
   "outputs": [
    {
     "name": "stdout",
     "output_type": "stream",
     "text": [
      "4\n"
     ]
    }
   ],
   "source": [
    "from heapq import heapify, heappop, heappush\n",
    "\n",
    "def dijkstra():\n",
    "    # Dijkstra\n",
    "    cost = [float('inf') for _ in range(N+1)]\n",
    "    clear = [0 for _ in range(N+1)]\n",
    "    cost[start_node] = 0\n",
    "    heap = [(0, start_node)]\n",
    "    while heap:\n",
    "        now_cost, now_node = heappop(heap)\n",
    "        if now_node == end_node:\n",
    "            print(cost[end_node])\n",
    "            return\n",
    "        clear[now_node] = 1\n",
    "        for adj_node, adj_cost in adj_list[now_node].items():\n",
    "            if not clear[adj_node]:\n",
    "                new_cost = now_cost + adj_cost\n",
    "                if new_cost < cost[adj_node]:\n",
    "                    cost[adj_node] = new_cost\n",
    "                    heappush(heap, (new_cost, adj_node))"
   ]
  },
  {
   "cell_type": "code",
   "execution_count": 11,
   "metadata": {},
   "outputs": [
    {
     "name": "stdout",
     "output_type": "stream",
     "text": [
      "2 2\n",
      "3 3\n",
      "4 1\n",
      "5 10\n"
     ]
    }
   ],
   "source": [
    "for a, b in adj_list[1].items():\n",
    "    print(a, b)"
   ]
  },
  {
   "cell_type": "code",
   "execution_count": null,
   "metadata": {},
   "outputs": [],
   "source": []
  }
 ],
 "metadata": {
  "interpreter": {
   "hash": "8fac594bfae6525c0c41b4041d2d72effa188cc8ead05f81b1fab2bb098927fb"
  },
  "kernelspec": {
   "display_name": "Python 3.8.8 ('base')",
   "language": "python",
   "name": "python3"
  },
  "language_info": {
   "codemirror_mode": {
    "name": "ipython",
    "version": 3
   },
   "file_extension": ".py",
   "mimetype": "text/x-python",
   "name": "python",
   "nbconvert_exporter": "python",
   "pygments_lexer": "ipython3",
   "version": "3.8.8"
  },
  "orig_nbformat": 4
 },
 "nbformat": 4,
 "nbformat_minor": 2
}
