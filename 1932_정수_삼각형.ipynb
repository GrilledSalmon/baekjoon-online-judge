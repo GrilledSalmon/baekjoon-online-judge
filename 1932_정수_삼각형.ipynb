{
 "cells": [
  {
   "cell_type": "markdown",
   "metadata": {},
   "source": [
    "# 1932 정수 삼각형\n",
    "220302\n",
    "- 알고리즘 분류\n",
    "    - 다이나믹 프로그래밍\n",
    "- 티어 : 실버 1"
   ]
  },
  {
   "cell_type": "code",
   "execution_count": 26,
   "metadata": {},
   "outputs": [],
   "source": [
    "import sys\n",
    "# input = sys.stdin.readline\n",
    "\n",
    "n = int(input())\n",
    "tri = [tuple(map(lambda x: [int(x), None], input().split())) for _ in range(n)]\n",
    "\n",
    "def solve(lev=0, i=0):\n",
    "    \"\"\"lev : 트리의 층(뿌리가 0층)\n",
    "       i   : lev층 리스트의 인덱스\"\"\"\n",
    "    if lev == n-1: # leaf 도달\n",
    "        return tri[lev][i][0]\n",
    "    if tri[lev][i][1] is None:\n",
    "        now = tri[lev][i][0]\n",
    "        tri[lev][i][1] = max((now + solve(lev+1, i), now + solve(lev+1, i+1)))\n",
    "    return tri[lev][i][1]\n",
    "\n",
    "print(solve())"
   ]
  },
  {
   "cell_type": "code",
   "execution_count": 27,
   "metadata": {},
   "outputs": [
    {
     "data": {
      "text/plain": [
       "(5,\n",
       " [([7, None],),\n",
       "  ([3, None], [8, None]),\n",
       "  ([8, None], [1, None], [0, None]),\n",
       "  ([2, None], [7, None], [4, None], [4, None]),\n",
       "  ([4, None], [5, None], [2, None], [6, None], [5, None])])"
      ]
     },
     "execution_count": 27,
     "metadata": {},
     "output_type": "execute_result"
    }
   ],
   "source": [
    "n, tri"
   ]
  },
  {
   "cell_type": "code",
   "execution_count": 28,
   "metadata": {},
   "outputs": [
    {
     "name": "stdout",
     "output_type": "stream",
     "text": [
      "30\n"
     ]
    }
   ],
   "source": [
    "def solve(lev=0, i=0):\n",
    "    \"\"\"lev : 트리의 층(뿌리가 0층)\n",
    "       i   : lev층 리스트의 인덱스\"\"\"\n",
    "    if lev == n-1: # leaf 도달\n",
    "        return tri[lev][i][0]\n",
    "    if tri[lev][i][1] is None:\n",
    "        now = tri[lev][i][0]\n",
    "        tri[lev][i][1] = max((now + solve(lev+1, i), now + solve(lev+1, i+1)))\n",
    "    return tri[lev][i][1]\n",
    "\n",
    "print(solve())"
   ]
  },
  {
   "cell_type": "code",
   "execution_count": 9,
   "metadata": {},
   "outputs": [],
   "source": [
    "a = tuple([[1, 2]])\n",
    "a[0].append(1)"
   ]
  },
  {
   "cell_type": "code",
   "execution_count": 25,
   "metadata": {},
   "outputs": [
    {
     "data": {
      "text/plain": [
       "[([7, [7, None, 8, None, 1, None, 7, None, 5, None]],),\n",
       " ([2, [2, None, 8, None, 7, None, 5, None]],\n",
       "  [8, [8, None, 1, None, 7, None, 5, None]]),\n",
       " ([8, [8, None, 7, None, 5, None]],\n",
       "  [1, [1, None, 7, None, 5, None]],\n",
       "  [0, [0, None, 4, None, 6, None]]),\n",
       " ([2, [2, None, 5, None]],\n",
       "  [7, [7, None, 5, None]],\n",
       "  [4, [4, None, 6, None]],\n",
       "  [4, [4, None, 6, None]]),\n",
       " ([4, None], [5, None], [2, None], [6, None], [5, None])]"
      ]
     },
     "execution_count": 25,
     "metadata": {},
     "output_type": "execute_result"
    }
   ],
   "source": [
    "tri"
   ]
  },
  {
   "cell_type": "code",
   "execution_count": null,
   "metadata": {},
   "outputs": [],
   "source": []
  }
 ],
 "metadata": {
  "interpreter": {
   "hash": "c798a043d5b26db4ea8dc684fe25ec244835432adc5539bce2de618403b1d63c"
  },
  "kernelspec": {
   "display_name": "Python 3.8.5 ('base')",
   "language": "python",
   "name": "python3"
  },
  "language_info": {
   "codemirror_mode": {
    "name": "ipython",
    "version": 3
   },
   "file_extension": ".py",
   "mimetype": "text/x-python",
   "name": "python",
   "nbconvert_exporter": "python",
   "pygments_lexer": "ipython3",
   "version": "3.8.5"
  },
  "orig_nbformat": 4
 },
 "nbformat": 4,
 "nbformat_minor": 2
}
