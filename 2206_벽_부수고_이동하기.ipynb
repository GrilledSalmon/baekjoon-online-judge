{
 "cells": [
  {
   "cell_type": "markdown",
   "metadata": {},
   "source": [
    "# 2206 벽 부수고 이동하기\n",
    "220317\n",
    "- 소감 : 어렵진 않지만 방문 상태, 찬스 유무(벽뚫 가능 여부), 맵의 상태 등 고려해야 할 요소가 많아서 조건을 나누는 데 오래 걸렸다.. 귀찮은 문제..\n",
    "- 아이디어 : 찬스를 쓰고 방문한 경우와 찬스를 쓰지 않고 방문한 경우를 나눠야 한다. 찬스를 쓰지 않고 방문한 경우에는 찐 방문처리해도 괜찮지만 찬스를 쓰고 방문한 경우에는 찬스를 쓰지 않고 방문할 경우를 위해 방문할 수 있도록 처리해줘야 한다. 초기에 찬스를 써서 방문하는 게 무조건 최단경로가 아니기 때문.\n",
    "- 알고리즘 분류\n",
    "    - 그래프 이론\n",
    "    - 그래프 탐색\n",
    "    - 너비 우선 탐색\n",
    "- 티어 : 골드 4"
   ]
  },
  {
   "cell_type": "code",
   "execution_count": 26,
   "metadata": {},
   "outputs": [
    {
     "name": "stdout",
     "output_type": "stream",
     "text": [
      "15\n"
     ]
    }
   ],
   "source": [
    "import sys\n",
    "# input = sys.stdin.readline\n",
    "N, M = map(int, input().split())\n",
    "map_ = [list(map(int, input().rstrip())) for _ in range(N)]\n",
    "\n",
    "def possible(x, y, have_chance, visited, map_=map_):\n",
    "    \"\"\"visited 상태 변화 시 반영\n",
    "    return : 방문하려는 노드의 방문 가능 여부, have_chance 상태\"\"\"\n",
    "    if not (0 <= x < M and 0 <= y < N): # 경계 조건\n",
    "        return False, have_chance\n",
    "    \n",
    "    vis = visited[y][x]\n",
    "    wall = map_[y][x]\n",
    "    \n",
    "    if vis == 2: # 이미 방문한 경우\n",
    "        return False, have_chance\n",
    "\n",
    "    elif vis == 1: # 찬스 쓰고 방문한 적 있는 경우\n",
    "        if have_chance and not wall: # 찬스가 있는 상태로 방문(다른 경로를 통해서) + 벽이 아닌 경우 -> 정상 방문\n",
    "            visited[y][x] = 2\n",
    "            return True, have_chance\n",
    "        else: # 이미 찬스를 썼거나 벽인 경우\n",
    "            return False, have_chance\n",
    "\n",
    "    else: # vis == 0 아예 처음 방문하는 경우\n",
    "        if wall:\n",
    "            if have_chance: # 찬스가 있고 벽인 경우 -> 벽 뚫어서 이동\n",
    "                visited[y][x] = 1\n",
    "                return True, False # chance 사용\n",
    "            else: # 찬스가 없고 벽인 경우\n",
    "                return False, have_chance\n",
    "\n",
    "        else: # 벽이 아닌 경우\n",
    "            if have_chance:\n",
    "                visited[y][x] = 2\n",
    "                return True, have_chance\n",
    "            else: # 찬스를 쓰고 도달한 경우\n",
    "                visited[y][x] = 1\n",
    "                return True, have_chance\n",
    "\n",
    "def bfs():\n",
    "    # BFS\n",
    "    root = (0, 0)\n",
    "    visited = [[0]*M for _ in range(N)] # 0, 1, 2로 구분(안 방문, 벽 뚫고 방문, 그냥 방문)\n",
    "    level = 0\n",
    "    queue = [(root, True)] # 좌표, 뚫을 기회가 있는지\n",
    "    while queue:\n",
    "        temp = []\n",
    "        level += 1\n",
    "        for coord, have_chance in queue:\n",
    "            if coord == (M-1, N-1):\n",
    "                return level\n",
    "            x, y = coord\n",
    "            coords = [(x+1, y), (x-1, y), (x, y+1), (x, y-1)]\n",
    "            for x_, y_ in coords:\n",
    "                possi, new_chance = possible(x_, y_, have_chance, visited)\n",
    "                if possi:\n",
    "                    temp.append(((x_, y_), new_chance))\n",
    "            queue = temp\n",
    "    else:\n",
    "        return -1\n",
    "\n",
    "print(bfs())"
   ]
  },
  {
   "cell_type": "code",
   "execution_count": 5,
   "metadata": {},
   "outputs": [
    {
     "data": {
      "text/plain": [
       "[[0, 1, 0, 0],\n",
       " [1, 1, 1, 0],\n",
       " [1, 0, 0, 0],\n",
       " [0, 0, 0, 0],\n",
       " [0, 1, 1, 1],\n",
       " [0, 0, 0, 0]]"
      ]
     },
     "execution_count": 5,
     "metadata": {},
     "output_type": "execute_result"
    }
   ],
   "source": [
    "map_"
   ]
  },
  {
   "cell_type": "code",
   "execution_count": 20,
   "metadata": {},
   "outputs": [
    {
     "name": "stdout",
     "output_type": "stream",
     "text": [
      "15\n"
     ]
    }
   ],
   "source": [
    "def possible(x, y, have_chance, visited, map_=map_):\n",
    "    \"\"\"visited 상태 변화 시 반영\n",
    "    return : 방문하려는 노드의 방문 가능 여부, have_chance 상태\"\"\"\n",
    "    if not (0 <= x < M and 0 <= y < N): # 경계 조건\n",
    "        return False, have_chance\n",
    "    \n",
    "    vis = visited[y][x]\n",
    "    wall = map_[y][x]\n",
    "    \n",
    "    if vis == 2: # 이미 방문한 경우\n",
    "        return False, have_chance\n",
    "\n",
    "    elif vis == 1: # 찬스 쓰고 방문한 적 있는 경우\n",
    "        if have_chance and not wall: # 찬스가 있는 상태로 방문(다른 경로를 통해서) + 벽이 아닌 경우 -> 정상 방문\n",
    "            visited[y][x] = 2\n",
    "            return True, have_chance\n",
    "        else: # 이미 찬스를 썼거나 벽인 경우\n",
    "            return False, have_chance\n",
    "\n",
    "    else: # vis == 0 아예 처음 방문하는 경우\n",
    "        if wall:\n",
    "            if have_chance: # 찬스가 있고 벽인 경우 -> 벽 뚫어서 이동\n",
    "                visited[y][x] = 1\n",
    "                return True, False # chance 사용\n",
    "            else: # 찬스가 없고 벽인 경우\n",
    "                return False, have_chance\n",
    "\n",
    "        else: # 벽이 아닌 경우\n",
    "            if have_chance:\n",
    "                visited[y][x] = 2\n",
    "                return True, have_chance\n",
    "            else: # 찬스를 쓰고 도달한 경우\n",
    "                visited[y][x] = 1\n",
    "                return True, have_chance\n",
    "\n",
    "def bfs():\n",
    "    # BFS\n",
    "    root = (0, 0)\n",
    "    visited = [[0]*M for _ in range(N)] # 0, 1, 2로 구분(안 방문, 벽 뚫고 방문, 그냥 방문)\n",
    "    level = 0\n",
    "    queue = [(root, True)] # 좌표, 뚫을 기회가 있는지\n",
    "    while queue:\n",
    "        temp = []\n",
    "        level += 1\n",
    "        for coord, have_chance in queue:\n",
    "            if coord == (M-1, N-1):\n",
    "                return level\n",
    "            x, y = coord\n",
    "            coords = [(x+1, y), (x-1, y), (x, y+1), (x, y-1)]\n",
    "            for x_, y_ in coords:\n",
    "                possi, new_chance = possible(x_, y_, have_chance, visited)\n",
    "                if possi:\n",
    "                    temp.append(((x_, y_), new_chance))\n",
    "            queue = temp\n",
    "    else:\n",
    "        return -1\n",
    "\n",
    "print(bfs())"
   ]
  },
  {
   "cell_type": "code",
   "execution_count": 18,
   "metadata": {},
   "outputs": [
    {
     "data": {
      "text/plain": [
       "([[1, 1, 1, 1],\n",
       "  [1, 0, 0, 1],\n",
       "  [0, 1, 1, 1],\n",
       "  [1, 1, 1, 1],\n",
       "  [1, 0, 0, 0],\n",
       "  [1, 1, 1, 1]],\n",
       " [[0, 1, 0, 0],\n",
       "  [1, 1, 1, 0],\n",
       "  [1, 0, 0, 0],\n",
       "  [0, 0, 0, 0],\n",
       "  [0, 1, 1, 1],\n",
       "  [0, 0, 0, 0]])"
      ]
     },
     "execution_count": 18,
     "metadata": {},
     "output_type": "execute_result"
    }
   ],
   "source": [
    "visited, map_"
   ]
  },
  {
   "cell_type": "code",
   "execution_count": 11,
   "metadata": {},
   "outputs": [],
   "source": [
    "i = 1\n",
    "while i < 10:\n",
    "    i += 1\n",
    "    if i == 4:\n",
    "        break\n",
    "else:\n",
    "    print('호우')"
   ]
  },
  {
   "cell_type": "code",
   "execution_count": null,
   "metadata": {},
   "outputs": [],
   "source": []
  }
 ],
 "metadata": {
  "interpreter": {
   "hash": "c798a043d5b26db4ea8dc684fe25ec244835432adc5539bce2de618403b1d63c"
  },
  "kernelspec": {
   "display_name": "Python 3.8.5 ('base')",
   "language": "python",
   "name": "python3"
  },
  "language_info": {
   "codemirror_mode": {
    "name": "ipython",
    "version": 3
   },
   "file_extension": ".py",
   "mimetype": "text/x-python",
   "name": "python",
   "nbconvert_exporter": "python",
   "pygments_lexer": "ipython3",
   "version": "3.8.5"
  },
  "orig_nbformat": 4
 },
 "nbformat": 4,
 "nbformat_minor": 2
}
