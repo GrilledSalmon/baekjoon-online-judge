{
 "cells": [
  {
   "cell_type": "markdown",
   "metadata": {},
   "source": [
    "# 1260 DFS와 BFS\n",
    "220124\n",
    "- 소감 : DFS가 코드잇에서 배웠던 대로 코드를 짜면 첫번째 케이스에서 잘못 탐색하게 된다... 뭐지..? 내가 코드잇 개념을 잘못 이해한 건가..? 코드잇에서 배웠던 대로 하면 DFS는 cyclic graph에서 문제가 되는 것 같다. 무엇이 맞는 DFS인지 혼란.. 보니까 재귀로 하는 것도 있네\n",
    "- 알고리즘 분류\n",
    "    - 그래프 이론\n",
    "    - 그래프 탐색\n",
    "    - 너비 우선 탐색\n",
    "    - 깊이 우선 탐색\n",
    "- 티어 : 실버 2"
   ]
  },
  {
   "cell_type": "code",
   "execution_count": 16,
   "metadata": {},
   "outputs": [
    {
     "name": "stdout",
     "output_type": "stream",
     "text": [
      "1000 999\n",
      "1000 999\n"
     ]
    }
   ],
   "source": [
    "from collections import deque\n",
    "import sys\n",
    "# input = sys.stdin.readline\n",
    "N, M, V = map(int, input().strip().split())\n",
    "adj_list = [[] for _ in range(N+1)]\n",
    "\n",
    "# 그래프 관계 생성\n",
    "for _ in range(M):\n",
    "    n1, n2 = map(int, input().strip().split())\n",
    "    adj_list[n1].append(n2)\n",
    "    adj_list[n2].append(n1)\n",
    "\n",
    "def BFS(adj_list=adj_list):\n",
    "    order_list = []\n",
    "\n",
    "    visited = [0] * (N+1)\n",
    "    queue = deque()\n",
    "    queue.append(V)\n",
    "    order_list.append(V)\n",
    "    visited[V] = 1\n",
    "\n",
    "    while queue: # queue가 빌 때까지\n",
    "        now_node = queue.popleft()\n",
    "        for neighbor in sorted(adj_list[now_node]):\n",
    "            if not visited[neighbor]: # 방문하지 않았다면\n",
    "                order_list.append(neighbor)\n",
    "                visited[neighbor] = 1\n",
    "                queue.append(neighbor)\n",
    "    print(' '.join(map(str, order_list)))\n",
    "\n",
    "\n",
    "def DFS(ajd_list=adj_list):\n",
    "    order_list = []\n",
    "\n",
    "    visited = [0] * (N+1)\n",
    "    stack = []\n",
    "    stack.append(V)\n",
    "    # order_list.append(V)\n",
    "    visited[V] = 1\n",
    "    \n",
    "    while stack:\n",
    "        # print(stack, visited, order_list)\n",
    "        now_node = stack.pop()\n",
    "        \n",
    "        if visited[now_node] != 2: # 방문을 이미 완료했지만 stack에 들어 있는 경우 패스\n",
    "            order_list.append(now_node)\n",
    "            visited[now_node] = 2\n",
    "\n",
    "            for neighbor in sorted(adj_list[now_node], reverse=True):\n",
    "                if visited[neighbor] != 2: # 방문하지 않았다면(1이어도 넣기)\n",
    "                    visited[neighbor] = 1\n",
    "                    stack.append(neighbor)\n",
    "                \n",
    "    print(' '.join(map(str, order_list)))\n",
    "\n",
    "\n",
    "DFS()\n",
    "BFS()"
   ]
  },
  {
   "cell_type": "code",
   "execution_count": 13,
   "metadata": {},
   "outputs": [
    {
     "name": "stdout",
     "output_type": "stream",
     "text": [
      "[[], [2, 3, 4], [1, 4], [1, 4], [1, 2, 3]]\n",
      "1 2 4 3\n",
      "1 2 3 4\n"
     ]
    }
   ],
   "source": [
    "def BFS(adj_list=adj_list):\n",
    "    order_list = []\n",
    "\n",
    "    visited = [0] * (N+1)\n",
    "    queue = deque()\n",
    "    queue.append(V)\n",
    "    order_list.append(V)\n",
    "    visited[V] = 1\n",
    "\n",
    "    while queue: # queue가 빌 때까지\n",
    "        now_node = queue.popleft()\n",
    "        for neighbor in sorted(adj_list[now_node]):\n",
    "            if not visited[neighbor]: # 방문하지 않았다면\n",
    "                order_list.append(neighbor)\n",
    "                visited[neighbor] = 1\n",
    "                queue.append(neighbor)\n",
    "    print(' '.join(map(str, order_list)))\n",
    "\n",
    "def DFS(ajd_list=adj_list):\n",
    "    order_list = []\n",
    "\n",
    "    visited = [0] * (N+1)\n",
    "    stack = []\n",
    "    stack.append(V)\n",
    "    # order_list.append(V)\n",
    "    visited[V] = 1\n",
    "    \n",
    "    while stack:\n",
    "        # print(stack, visited, order_list)\n",
    "        now_node = stack.pop()\n",
    "        \n",
    "        if visited[now_node] != 2:\n",
    "            order_list.append(now_node)\n",
    "            visited[now_node] = 2\n",
    "            for neighbor in sorted(adj_list[now_node], reverse=True):\n",
    "                if visited[neighbor] != 2: # 방문하지 않았다면(1이어도 넣기)\n",
    "                    visited[neighbor] = 1\n",
    "                    stack.append(neighbor)\n",
    "                \n",
    "    print(' '.join(map(str, order_list)))\n",
    "\n",
    "print(adj_list)\n",
    "DFS()\n",
    "BFS()"
   ]
  },
  {
   "cell_type": "code",
   "execution_count": null,
   "metadata": {},
   "outputs": [],
   "source": []
  }
 ],
 "metadata": {
  "interpreter": {
   "hash": "2647ea34e536f865ab67ff9ddee7fd78773d956cec0cab53c79b32cd10da5d83"
  },
  "kernelspec": {
   "display_name": "Python 3.9.5 64-bit",
   "language": "python",
   "name": "python3"
  },
  "language_info": {
   "codemirror_mode": {
    "name": "ipython",
    "version": 3
   },
   "file_extension": ".py",
   "mimetype": "text/x-python",
   "name": "python",
   "nbconvert_exporter": "python",
   "pygments_lexer": "ipython3",
   "version": "3.9.5"
  },
  "orig_nbformat": 4
 },
 "nbformat": 4,
 "nbformat_minor": 2
}
