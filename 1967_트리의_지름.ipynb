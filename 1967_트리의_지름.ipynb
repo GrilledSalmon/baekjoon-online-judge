{
 "cells": [
  {
   "cell_type": "markdown",
   "metadata": {},
   "source": [
    "# 1967 트리의 지름\n",
    "220310\n",
    "- 소감 : 정석은 DFS로 푸는 것 같긴 한데.. 어떻게 하는 걸까... 암튼 이걸로 골드2, class4가 됐당.\n",
    "- 아이디어 : root에서 각 노드까지의 거리(dist_from_root)를 구하고, 각 노드마다 가장 먼 leaf node까지의 거리(root 기준)를 구해(subtree_max_dist) 특정 노드 기준 가장 먼 두 자식노드의 거리 합(이게 직경이 됨)의 최대값을 구한다.\n",
    "- 알고리즘 분류\n",
    "    - 그래프 이론\n",
    "    - 그래프 탐색\n",
    "    - 트리\n",
    "    - 깊이 우선 탐색\n",
    "- 티어 : 골드 4"
   ]
  },
  {
   "cell_type": "code",
   "execution_count": 16,
   "metadata": {},
   "outputs": [
    {
     "name": "stdout",
     "output_type": "stream",
     "text": [
      "45\n"
     ]
    }
   ],
   "source": [
    "from collections import deque\n",
    "import sys\n",
    "sys.setrecursionlimit(100000)\n",
    "# input = sys.stdin.readline\n",
    "\n",
    "n = int(input())\n",
    "child_list = [[] for _ in range(n+1)]\n",
    "parent_list = [[] for _ in range(n+1)]\n",
    "for _ in range(n-1):\n",
    "    parent, child, weight = map(int, input().split())\n",
    "    child_list[parent].append((child, weight))\n",
    "\n",
    "# 그러고보니 이진트리라는 보장이 없네..?\n",
    "\n",
    "root = 1\n",
    "dist_from_root = [None]*(n+1) # root로부터의 거리 저장\n",
    "dist_from_root[root] = 0\n",
    "queue = deque([root])\n",
    "\n",
    "# root에서 각 노드까지의 거리 구하기 / BFS?\n",
    "while queue:\n",
    "    parent_node = queue.popleft()\n",
    "    for child_node, weight in child_list[parent_node]:\n",
    "        dist_from_root[child_node] = dist_from_root[parent_node] + weight\n",
    "        queue.append(child_node)\n",
    "\n",
    "# 각 subtree에서 가장 먼 노드의 거리 구하기\n",
    "subtree_max_dist = [None]*(n+1)\n",
    "def post_order_trav(root=root):\n",
    "    if not child_list[root]: # leaf 노드인 경우\n",
    "        subtree_max_dist[root] = dist_from_root[root]\n",
    "    else:\n",
    "        child_dist_list = []\n",
    "        for child, _ in child_list[root]:\n",
    "            child_dist_list.append(post_order_trav(child))\n",
    "        \n",
    "        subtree_max_dist[root] = max(child_dist_list)\n",
    "    \n",
    "    return subtree_max_dist[root]\n",
    "post_order_trav()\n",
    "\n",
    "diameter_list = [0]*(n+1)\n",
    "for node in range(1, n+1):\n",
    "    temp = []\n",
    "    if child_list[node]: # 자식이 있는 node인(leaf node가 아닌) 경우에만\n",
    "        for child, _ in child_list[node]:\n",
    "            distance = subtree_max_dist[child] - dist_from_root[node] # 얘가 포인트\n",
    "            temp.append(distance)\n",
    "        if len(temp) <= 2:\n",
    "            diameter_list[node] = sum(temp)\n",
    "        else: # 자식이 세 개 이상인 경우(이진트리가 아닌 경우)\n",
    "            diameter_list[node] = sum(sorted(temp, reverse=True)[:2])\n",
    "\n",
    "print(max(diameter_list))"
   ]
  },
  {
   "cell_type": "code",
   "execution_count": 8,
   "metadata": {},
   "outputs": [
    {
     "data": {
      "text/plain": [
       "(12,\n",
       " [[],\n",
       "  [(2, 3), (3, 2)],\n",
       "  [(4, 5)],\n",
       "  [(5, 11), (6, 9)],\n",
       "  [(7, 1), (8, 7)],\n",
       "  [(9, 15), (10, 4)],\n",
       "  [(11, 6), (12, 10)],\n",
       "  [],\n",
       "  [],\n",
       "  [],\n",
       "  [],\n",
       "  [],\n",
       "  []])"
      ]
     },
     "execution_count": 8,
     "metadata": {},
     "output_type": "execute_result"
    }
   ],
   "source": [
    "n, child_list"
   ]
  },
  {
   "cell_type": "code",
   "execution_count": 14,
   "metadata": {},
   "outputs": [
    {
     "name": "stdout",
     "output_type": "stream",
     "text": [
      "45\n"
     ]
    }
   ],
   "source": [
    "# 그러고보니 이진트리라는 보장이 없네..?\n",
    "\n",
    "from collections import deque\n",
    "\n",
    "root = 1\n",
    "dist_from_root = [None]*(n+1) # root로부터의 거리 저장\n",
    "dist_from_root[root] = 0\n",
    "queue = deque([root])\n",
    "\n",
    "# root에서 각 노드까지의 거리 구하기 / BFS?\n",
    "while queue:\n",
    "    parent_node = queue.popleft()\n",
    "    for child_node, weight in child_list[parent_node]:\n",
    "        dist_from_root[child_node] = dist_from_root[parent_node] + weight\n",
    "        queue.append(child_node)\n",
    "\n",
    "subtree_max_dist = [None]*(n+1)\n",
    "def post_order_trav(root=root):\n",
    "    if not child_list[root]: # leaf 노드인 경우\n",
    "        subtree_max_dist[root] = dist_from_root[root]\n",
    "    else:\n",
    "        child_dist_list = []\n",
    "        for child, _ in child_list[root]:\n",
    "            child_dist_list.append(post_order_trav(child))\n",
    "        \n",
    "        subtree_max_dist[root] = max(child_dist_list)\n",
    "    \n",
    "    return subtree_max_dist[root]\n",
    "post_order_trav()\n",
    "\n",
    "diameter_list = [0]*(n+1)\n",
    "for node in range(1, n+1):\n",
    "    temp = []\n",
    "    if child_list[node]: # 자식이 있는 node인(leaf node가 아닌) 경우에만\n",
    "        for child, _ in child_list[node]:\n",
    "            distance = subtree_max_dist[child] - dist_from_root[node]\n",
    "            temp.append(distance)\n",
    "        if len(temp) <= 2:\n",
    "            diameter_list[node] = sum(temp)\n",
    "        else: # 자식이 세 개 이상인 경우(이진트리가 아닌 경우)\n",
    "            diameter_list[node] = sum(sorted(temp, reverse=True)[:2])\n",
    "\n",
    "print(max(diameter_list))"
   ]
  },
  {
   "cell_type": "code",
   "execution_count": 15,
   "metadata": {},
   "outputs": [
    {
     "data": {
      "text/plain": [
       "[0, 43, 12, 45, 8, 19, 16, 0, 0, 0, 0, 0, 0]"
      ]
     },
     "execution_count": 15,
     "metadata": {},
     "output_type": "execute_result"
    }
   ],
   "source": [
    "diameter_list"
   ]
  },
  {
   "cell_type": "code",
   "execution_count": 7,
   "metadata": {},
   "outputs": [
    {
     "data": {
      "text/plain": [
       "([None, 0, 3, 2, 8, 13, 11, 9, 15, 28, 17, 17, 21],\n",
       " [None, 28, 15, 28, 15, 28, 21, 9, 15, 28, 17, 17, 21])"
      ]
     },
     "execution_count": 7,
     "metadata": {},
     "output_type": "execute_result"
    }
   ],
   "source": [
    "dist_from_root, subtree_max_dist"
   ]
  },
  {
   "cell_type": "code",
   "execution_count": null,
   "metadata": {},
   "outputs": [],
   "source": [
    "from collections import deque\n",
    "import sys\n",
    "sys.setrecursionlimit(100000)\n",
    "# input = sys.stdin.readline\n",
    "\n",
    "n = int(input())\n",
    "child_list = [[] for _ in range(n+1)]\n",
    "parent_list = [[] for _ in range(n+1)]\n",
    "for _ in range(n-1):\n",
    "    parent, child, weight = map(int, input().split())\n",
    "    child_list[parent].append((child, weight))\n",
    "\n",
    "# 그러고보니 이진트리라는 보장이 없네..?\n",
    "\n",
    "root = 1\n",
    "dist_from_root = [None]*(n+1) # root로부터의 거리 저장\n",
    "dist_from_root[root] = 0\n",
    "queue = deque([root])\n",
    "\n",
    "# root에서 각 노드까지의 거리 구하기 / BFS?\n",
    "while queue:\n",
    "    parent_node = queue.popleft()\n",
    "    for child_node, weight in child_list[parent_node]:\n",
    "        dist_from_root[child_node] = dist_from_root[parent_node] + weight\n",
    "        queue.append(child_node)\n",
    "\n",
    "# 각 subtree에서 가장 먼 노드의 거리 구하기\n",
    "subtree_max_dist = [None]*(n+1)\n",
    "def post_order_trav(root=root):\n",
    "    if not child_list[root]: # leaf 노드인 경우\n",
    "        subtree_max_dist[root] = dist_from_root[root]\n",
    "    else:\n",
    "        child_dist_list = []\n",
    "        for child, _ in child_list[root]:\n",
    "            child_dist_list.append(post_order_trav(child))\n",
    "        \n",
    "        subtree_max_dist[root] = max(child_dist_list)\n",
    "    \n",
    "    return subtree_max_dist[root]\n",
    "post_order_trav()\n",
    "\n",
    "diameter_list = [0]*(n+1)\n",
    "for node in range(1, n+1):\n",
    "    temp = []\n",
    "    if not child_list[node]: # leaf node가 끝 번호에 몰려있다 가정\n",
    "        break\n",
    "    for child, _ in child_list[node]:\n",
    "        distance = subtree_max_dist[child] - dist_from_root[node] # 얘가 포인트\n",
    "        temp.append(distance)\n",
    "    if len(temp) <= 2:\n",
    "        diameter_list[node] = sum(temp)\n",
    "    else: # 자식이 세 개 이상인 경우(이진트리가 아닌 경우)\n",
    "        diameter_list[node] = sum(sorted(temp, reverse=True)[:2])\n",
    "\n",
    "print(max(diameter_list))"
   ]
  }
 ],
 "metadata": {
  "interpreter": {
   "hash": "c798a043d5b26db4ea8dc684fe25ec244835432adc5539bce2de618403b1d63c"
  },
  "kernelspec": {
   "display_name": "Python 3.8.5 ('base')",
   "language": "python",
   "name": "python3"
  },
  "language_info": {
   "codemirror_mode": {
    "name": "ipython",
    "version": 3
   },
   "file_extension": ".py",
   "mimetype": "text/x-python",
   "name": "python",
   "nbconvert_exporter": "python",
   "pygments_lexer": "ipython3",
   "version": "3.8.5"
  },
  "orig_nbformat": 4
 },
 "nbformat": 4,
 "nbformat_minor": 2
}
