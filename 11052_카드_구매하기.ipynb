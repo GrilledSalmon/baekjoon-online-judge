{
 "cells": [
  {
   "cell_type": "markdown",
   "metadata": {},
   "source": [
    "# 11052 카드 구매하기\n",
    "220621\n",
    "- 소감\n",
    "    - top down 방식으로 함수를 먼저 생각해서 점화식을 구하려고 했고, 인터럽트가 좀 있어서 금방 풀진 못했지만 그래도 잘 풀 수 있었습니다.\n",
    "    - 문제를 접했을 때 숫자의 범위를 보고 어떤 알고리즘으로 풀지 감을 잡는 게 꽤 중요한 것 같습니다.\n",
    "- 소요 시간 : 45분\n",
    "- 알고리즘 분류 : 다이나믹 프로그래밍\n",
    "- 티어 : 실버 1"
   ]
  },
  {
   "cell_type": "code",
   "execution_count": 8,
   "metadata": {},
   "outputs": [],
   "source": [
    "import sys\n",
    "sys.setrecursionlimit(100000)\n",
    "N = int(input())\n",
    "P = [0] + list(map(int, input().split()))\n",
    "\n",
    "memo = [None]*(N+1)\n",
    "memo[0] = 0\n",
    "def dp(n):\n",
    "    \"\"\"n개의 카드를 갖는 데 지불해야 하는 최대 금액\"\"\"\n",
    "    if memo[n] is None:\n",
    "        if n == 1:\n",
    "            memo[n] = P[n]\n",
    "        else:\n",
    "            candi_list = []\n",
    "            for i in range(1, n+1):\n",
    "                candi_list.append(P[i] + dp(n-i))\n",
    "            memo[n] = max(candi_list)\n",
    "\n",
    "    return memo[n]\n",
    "\n",
    "print(dp(N))"
   ]
  },
  {
   "cell_type": "code",
   "execution_count": 9,
   "metadata": {},
   "outputs": [
    {
     "data": {
      "text/plain": [
       "(10, [1, 1, 2, 3, 5, 8, 13, 21, 34, 55])"
      ]
     },
     "execution_count": 9,
     "metadata": {},
     "output_type": "execute_result"
    }
   ],
   "source": [
    "N, P"
   ]
  },
  {
   "cell_type": "code",
   "execution_count": 11,
   "metadata": {},
   "outputs": [
    {
     "name": "stdout",
     "output_type": "stream",
     "text": [
      "56\n"
     ]
    }
   ],
   "source": [
    "memo = [None]*(N+1)\n",
    "def dp(n):\n",
    "    \"\"\"n개의 카드를 갖는 데 지불해야 하는 최대 금액\"\"\"\n",
    "    if memo[n] is None:\n",
    "        if n == 1:\n",
    "            memo[n] = P[n]\n",
    "        else:\n",
    "            candi_list = []\n",
    "            for i in range(1, n):\n",
    "                candi_list.append(P[i] + dp(n-i))\n",
    "            memo[n] = max(candi_list)\n",
    "\n",
    "    return memo[n]\n",
    "print(dp(N))"
   ]
  },
  {
   "cell_type": "code",
   "execution_count": 12,
   "metadata": {},
   "outputs": [
    {
     "data": {
      "text/plain": [
       "[None, 1, 2, 3, 4, 6, 9, 14, 22, 35, 56]"
      ]
     },
     "execution_count": 12,
     "metadata": {},
     "output_type": "execute_result"
    }
   ],
   "source": [
    "memo"
   ]
  },
  {
   "cell_type": "code",
   "execution_count": null,
   "metadata": {},
   "outputs": [],
   "source": []
  }
 ],
 "metadata": {
  "kernelspec": {
   "display_name": "Python 3.8.8 ('base')",
   "language": "python",
   "name": "python3"
  },
  "language_info": {
   "codemirror_mode": {
    "name": "ipython",
    "version": 3
   },
   "file_extension": ".py",
   "mimetype": "text/x-python",
   "name": "python",
   "nbconvert_exporter": "python",
   "pygments_lexer": "ipython3",
   "version": "3.8.8"
  },
  "orig_nbformat": 4,
  "vscode": {
   "interpreter": {
    "hash": "f08154012ddadd8e950e6e9e035c7a7b32c136e7647e9b7c77e02eb723a8bedb"
   }
  }
 },
 "nbformat": 4,
 "nbformat_minor": 2
}
