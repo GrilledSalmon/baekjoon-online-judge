{
 "cells": [
  {
   "cell_type": "markdown",
   "metadata": {},
   "source": [
    "# 14890 경사로\n",
    "220519"
   ]
  },
  {
   "cell_type": "code",
   "execution_count": 3,
   "metadata": {},
   "outputs": [],
   "source": [
    "import sys\n",
    "# input = sys.stdin.readline\n",
    "N, L = map(int, input().split())\n",
    "mapp = [list(map(int, input().split())) for _ in range(N)]"
   ]
  },
  {
   "cell_type": "code",
   "execution_count": 4,
   "metadata": {},
   "outputs": [
    {
     "data": {
      "text/plain": [
       "(6,\n",
       " 2,\n",
       " [[3, 3, 3, 3, 3, 3],\n",
       "  [2, 3, 3, 3, 3, 3],\n",
       "  [2, 2, 2, 3, 2, 3],\n",
       "  [1, 1, 1, 2, 2, 2],\n",
       "  [1, 1, 1, 3, 3, 1],\n",
       "  [1, 1, 2, 3, 3, 2]])"
      ]
     },
     "execution_count": 4,
     "metadata": {},
     "output_type": "execute_result"
    }
   ],
   "source": [
    "N, L, mapp"
   ]
  },
  {
   "cell_type": "code",
   "execution_count": 25,
   "metadata": {},
   "outputs": [
    {
     "name": "stdout",
     "output_type": "stream",
     "text": [
      "[1, 1, 1, 2, 2, 2]\n"
     ]
    },
    {
     "data": {
      "text/plain": [
       "True"
      ]
     },
     "execution_count": 25,
     "metadata": {},
     "output_type": "execute_result"
    }
   ],
   "source": [
    "def possible(line : list) -> bool:\n",
    "    \"\"\"line을 넣으면 가능한지 불가능한지 리턴\"\"\"\n",
    "    prev_h = line[0]\n",
    "    flat_cnt = 1 # 현재 위치 이전까지 평평한 부분이 얼마나 있었나\n",
    "    i = 1\n",
    "    while i < N:\n",
    "        now_h = line[i]\n",
    "        if prev_h == now_h: # 계속 높이가 같음\n",
    "            flat_cnt += 1\n",
    "            i += 1\n",
    "        elif abs(prev_h - now_h) == 1: # 차이가 1\n",
    "\n",
    "            if prev_h > now_h: # 가다가 낮아짐\n",
    "                for j in range(L): # 앞부분에 경사로 놓을 수 있는지 확인\n",
    "                    next_ind = i + j\n",
    "                    if next_ind >= N or line[next_ind] != now_h: # 경사로를 놓을 수 없는 조건(경사로를 놓기 전에 line이 끝나거나 높이가 달라진 경우)\n",
    "                        return False\n",
    "                # for문 통과했으면 경사로 놓을 수 있는 거\n",
    "                flat_cnt = 0 # 누적 평평한 지점 0\n",
    "                i = i + L # 경사로 놓은 다음으로 점프\n",
    "\n",
    "            else: # prev_h < now_h  가다가 높아짐\n",
    "                if flat_cnt >= L: # 경사로를 놓을 수 있는 조건\n",
    "                    flat_cnt = 1\n",
    "                    i += 1\n",
    "                else:\n",
    "                    return False\n",
    "        \n",
    "        else: # 불가능 한 경우\n",
    "            print(\"here?\")\n",
    "            return False\n",
    "\n",
    "        prev_h = now_h\n",
    "\n",
    "    print(line)\n",
    "    return True\n",
    "\n",
    "possible([1, 1, 1, 2, 2, 2])"
   ]
  },
  {
   "cell_type": "code",
   "execution_count": 23,
   "metadata": {},
   "outputs": [
    {
     "name": "stdout",
     "output_type": "stream",
     "text": [
      "here?\n"
     ]
    },
    {
     "data": {
      "text/plain": [
       "False"
      ]
     },
     "execution_count": 23,
     "metadata": {},
     "output_type": "execute_result"
    }
   ],
   "source": []
  },
  {
   "cell_type": "code",
   "execution_count": 27,
   "metadata": {},
   "outputs": [
    {
     "name": "stdout",
     "output_type": "stream",
     "text": [
      "[3, 3, 3, 3, 3, 3]\n",
      "[1, 1, 1, 2, 2, 2]\n",
      "here?\n",
      "[3, 2, 2, 1, 1, 1]\n",
      "3\n"
     ]
    }
   ],
   "source": [
    "def possible(line : list) -> bool:\n",
    "    \"\"\"line을 넣으면 가능한지 불가능한지 리턴\"\"\"\n",
    "    prev_h = line[0]\n",
    "    flat_cnt = 1 # 현재 위치 이전까지 평평한 부분이 얼마나 있었나\n",
    "    i = 1\n",
    "    while i < N:\n",
    "        now_h = line[i]\n",
    "        if prev_h == now_h: # 계속 높이가 같음\n",
    "            flat_cnt += 1\n",
    "            i += 1\n",
    "        elif abs(prev_h - now_h) == 1: # 차이가 1\n",
    "\n",
    "            if prev_h > now_h: # 가다가 낮아짐\n",
    "                for j in range(L): # 앞부분에 경사로 놓을 수 있는지 확인\n",
    "                    next_ind = i + j\n",
    "                    if next_ind >= N or line[next_ind] != now_h: # 경사로를 놓을 수 없는 조건(경사로를 놓기 전에 line이 끝나거나 높이가 달라진 경우)\n",
    "                        return False\n",
    "                # for문 통과했으면 경사로 놓을 수 있는 거\n",
    "                flat_cnt = 0 # 누적 평평한 지점 0\n",
    "                i = i + L # 경사로 놓은 다음으로 점프\n",
    "\n",
    "            else: # prev_h < now_h  가다가 높아짐\n",
    "                if flat_cnt >= L: # 경사로를 놓을 수 있는 조건\n",
    "                    flat_cnt = 1\n",
    "                    i += 1\n",
    "                else:\n",
    "                    return False\n",
    "        \n",
    "        else: # 불가능 한 경우\n",
    "            return False\n",
    "            \n",
    "        prev_h = now_h\n",
    "\n",
    "    return True\n",
    "\n",
    "ans = 0\n",
    "for line in mapp:\n",
    "    if possible(line):\n",
    "        ans += 1\n",
    "\n",
    "\n",
    "for i in range(N):\n",
    "    vertical_line = []\n",
    "    for j in range(N):\n",
    "        vertical_line.append(mapp[j][i])\n",
    "    if possible(vertical_line):\n",
    "        ans += 1\n",
    "\n",
    "print(ans)\n"
   ]
  },
  {
   "cell_type": "code",
   "execution_count": 21,
   "metadata": {},
   "outputs": [
    {
     "name": "stdout",
     "output_type": "stream",
     "text": [
      "here?\n"
     ]
    },
    {
     "data": {
      "text/plain": [
       "False"
      ]
     },
     "execution_count": 21,
     "metadata": {},
     "output_type": "execute_result"
    }
   ],
   "source": []
  },
  {
   "cell_type": "code",
   "execution_count": null,
   "metadata": {},
   "outputs": [],
   "source": []
  }
 ],
 "metadata": {
  "interpreter": {
   "hash": "f08154012ddadd8e950e6e9e035c7a7b32c136e7647e9b7c77e02eb723a8bedb"
  },
  "kernelspec": {
   "display_name": "Python 3.8.8 ('base')",
   "language": "python",
   "name": "python3"
  },
  "language_info": {
   "codemirror_mode": {
    "name": "ipython",
    "version": 3
   },
   "file_extension": ".py",
   "mimetype": "text/x-python",
   "name": "python",
   "nbconvert_exporter": "python",
   "pygments_lexer": "ipython3",
   "version": "3.8.8"
  },
  "orig_nbformat": 4
 },
 "nbformat": 4,
 "nbformat_minor": 2
}
