{
 "cells": [
  {
   "cell_type": "markdown",
   "metadata": {},
   "source": [
    "# 2580 스도쿠\n",
    "220406\n",
    "- 소감 : 재귀문 빠져나오는 부분을 잘 못짠 것 같은데 시간은 꽤 잘 나왔다. 파이썬 2페이지에 올림. 근데 랭킹 완전 상위권에 있는 사람들은 어떻게 짠거지..?\n",
    "- 알고리즘 분류\n",
    "    - 백트래킹\n",
    "- 티어 : 골드 4"
   ]
  },
  {
   "cell_type": "code",
   "execution_count": null,
   "metadata": {},
   "outputs": [],
   "source": [
    "import sys\n",
    "# input = sys.stdin.readline\n",
    "sudoku = [list(map(int, input().split())) for _ in range(9)]\n",
    "\n",
    "blank_coord = []\n",
    "row_info = [[1]*10 for _ in range(9)]\n",
    "col_info = [[1]*10 for _ in range(9)]\n",
    "square_info = [[1]*10 for _ in range(9)]\n",
    "for row in range(9):\n",
    "    for col in range(9):\n",
    "        val = sudoku[row][col]\n",
    "        if val:\n",
    "            row_info[row][val] = 0\n",
    "            col_info[col][val] = 0\n",
    "            square_info[3*(row//3) + col//3][val] = 0\n",
    "        else:\n",
    "            blank_coord.append((row, col))\n",
    "\n",
    "memo = []\n",
    "ans = []\n",
    "flag = False\n",
    "def back_tracking(i=0):\n",
    "    global flag\n",
    "    if flag:\n",
    "        return\n",
    "    if i == len(blank_coord):\n",
    "        ans.extend(memo)\n",
    "        flag = True\n",
    "        return\n",
    "    row, col = blank_coord[i]\n",
    "    for num in range(1, 10):\n",
    "        if row_info[row][num] and col_info[col][num] and square_info[3*(row//3) + col//3][num]:\n",
    "            memo.append(num)\n",
    "            row_info[row][num] = 0\n",
    "            col_info[col][num] = 0\n",
    "            square_info[3*(row//3) + col//3][num] = 0\n",
    "            back_tracking(i+1)\n",
    "            memo.pop()\n",
    "            row_info[row][num] = 1\n",
    "            col_info[col][num] = 1\n",
    "            square_info[3*(row//3) + col//3][num] = 1\n",
    "            \n",
    "back_tracking()\n",
    "\n",
    "for i in range(len(blank_coord)):\n",
    "    row, col = blank_coord[i]\n",
    "    sudoku[row][col] = ans[i]\n",
    "\n",
    "for row in sudoku:\n",
    "    print(' '.join(map(str, row)))"
   ]
  },
  {
   "cell_type": "code",
   "execution_count": 10,
   "metadata": {},
   "outputs": [
    {
     "data": {
      "text/plain": [
       "[[0, 3, 5, 4, 6, 9, 2, 7, 8],\n",
       " [7, 8, 2, 1, 0, 5, 6, 0, 9],\n",
       " [0, 6, 0, 2, 7, 8, 1, 3, 5],\n",
       " [3, 2, 1, 0, 4, 6, 8, 9, 7],\n",
       " [8, 0, 4, 9, 1, 3, 5, 0, 6],\n",
       " [5, 9, 6, 8, 2, 0, 4, 1, 3],\n",
       " [9, 1, 7, 6, 5, 2, 0, 8, 0],\n",
       " [6, 0, 3, 7, 0, 1, 9, 5, 2],\n",
       " [2, 5, 8, 3, 9, 4, 7, 6, 0]]"
      ]
     },
     "execution_count": 10,
     "metadata": {},
     "output_type": "execute_result"
    }
   ],
   "source": [
    "inp = \"\"\"0 3 5 4 6 9 2 7 8\n",
    "7 8 2 1 0 5 6 0 9\n",
    "0 6 0 2 7 8 1 3 5\n",
    "3 2 1 0 4 6 8 9 7\n",
    "8 0 4 9 1 3 5 0 6\n",
    "5 9 6 8 2 0 4 1 3\n",
    "9 1 7 6 5 2 0 8 0\n",
    "6 0 3 7 0 1 9 5 2\n",
    "2 5 8 3 9 4 7 6 0\"\"\"\n",
    "sudoku = list(map(lambda line:list(map(int, line.split())), inp.split('\\n')))\n",
    "sudoku"
   ]
  },
  {
   "cell_type": "code",
   "execution_count": 45,
   "metadata": {},
   "outputs": [
    {
     "name": "stdout",
     "output_type": "stream",
     "text": [
      "1 3 5 4 6 9 2 7 8\n",
      "7 8 2 1 3 5 6 4 9\n",
      "4 6 9 2 7 8 1 3 5\n",
      "3 2 1 5 4 6 8 9 7\n",
      "8 7 4 9 1 3 5 2 6\n",
      "5 9 6 8 2 7 4 1 3\n",
      "9 1 7 6 5 2 3 8 4\n",
      "6 4 3 7 8 1 9 5 2\n",
      "2 5 8 3 9 4 7 6 1\n"
     ]
    }
   ],
   "source": [
    "blank_coord = []\n",
    "row_info = [[1]*10 for _ in range(9)]\n",
    "col_info = [[1]*10 for _ in range(9)]\n",
    "square_info = [[1]*10 for _ in range(9)]\n",
    "for row in range(9):\n",
    "    for col in range(9):\n",
    "        val = sudoku[row][col]\n",
    "        if val:\n",
    "            row_info[row][val] = 0\n",
    "            col_info[col][val] = 0\n",
    "            square_info[3*(row//3) + col//3][val] = 0\n",
    "        else:\n",
    "            blank_coord.append((row, col))\n",
    "\n",
    "memo = []\n",
    "ans = []\n",
    "flag = False\n",
    "def back_tracking(i=0):\n",
    "    global flag\n",
    "    if flag:\n",
    "        return\n",
    "    if i == len(blank_coord):\n",
    "        ans.extend(memo)\n",
    "        flag = True\n",
    "        return\n",
    "    row, col = blank_coord[i]\n",
    "    for num in range(1, 10):\n",
    "        if row_info[row][num] and col_info[col][num] and square_info[3*(row//3) + col//3][num]:\n",
    "            memo.append(num)\n",
    "            row_info[row][num] = 0\n",
    "            col_info[col][num] = 0\n",
    "            square_info[3*(row//3) + col//3][num] = 0\n",
    "            back_tracking(i+1)\n",
    "            memo.pop()\n",
    "            row_info[row][num] = 1\n",
    "            col_info[col][num] = 1\n",
    "            square_info[3*(row//3) + col//3][num] = 1\n",
    "            \n",
    "back_tracking()\n",
    "\n",
    "for i in range(len(blank_coord)):\n",
    "    row, col = blank_coord[i]\n",
    "    sudoku[row][col] = ans[i]\n",
    "\n",
    "for row in sudoku:\n",
    "    print(' '.join(map(str, row)))"
   ]
  },
  {
   "cell_type": "code",
   "execution_count": 36,
   "metadata": {},
   "outputs": [
    {
     "data": {
      "text/plain": [
       "14"
      ]
     },
     "execution_count": 36,
     "metadata": {},
     "output_type": "execute_result"
    }
   ],
   "source": [
    "len(blank_coord)"
   ]
  },
  {
   "cell_type": "code",
   "execution_count": 37,
   "metadata": {},
   "outputs": [
    {
     "data": {
      "text/plain": [
       "[[1, 1, 0, 0, 1, 0, 0, 0, 0, 1],\n",
       " [1, 0, 0, 1, 0, 0, 0, 0, 0, 0],\n",
       " [1, 0, 0, 0, 1, 0, 0, 0, 0, 0],\n",
       " [1, 0, 0, 0, 0, 0, 0, 1, 0, 0],\n",
       " [1, 0, 0, 0, 0, 1, 0, 1, 0, 0],\n",
       " [1, 0, 1, 0, 0, 0, 0, 0, 0, 0],\n",
       " [1, 0, 0, 0, 1, 0, 0, 0, 0, 0],\n",
       " [1, 0, 0, 0, 0, 0, 0, 0, 1, 0],\n",
       " [1, 1, 0, 1, 1, 0, 0, 0, 0, 0]]"
      ]
     },
     "execution_count": 37,
     "metadata": {},
     "output_type": "execute_result"
    }
   ],
   "source": [
    "square_info"
   ]
  },
  {
   "cell_type": "code",
   "execution_count": 41,
   "metadata": {},
   "outputs": [
    {
     "data": {
      "text/plain": [
       "[]"
      ]
     },
     "execution_count": 41,
     "metadata": {},
     "output_type": "execute_result"
    }
   ],
   "source": [
    "memo"
   ]
  },
  {
   "cell_type": "code",
   "execution_count": null,
   "metadata": {},
   "outputs": [],
   "source": []
  }
 ],
 "metadata": {
  "interpreter": {
   "hash": "8fac594bfae6525c0c41b4041d2d72effa188cc8ead05f81b1fab2bb098927fb"
  },
  "kernelspec": {
   "display_name": "Python 3.8.8 ('base')",
   "language": "python",
   "name": "python3"
  },
  "language_info": {
   "codemirror_mode": {
    "name": "ipython",
    "version": 3
   },
   "file_extension": ".py",
   "mimetype": "text/x-python",
   "name": "python",
   "nbconvert_exporter": "python",
   "pygments_lexer": "ipython3",
   "version": "3.8.8"
  },
  "orig_nbformat": 4
 },
 "nbformat": 4,
 "nbformat_minor": 2
}
