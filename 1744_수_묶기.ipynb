{
 "cells": [
  {
   "cell_type": "markdown",
   "metadata": {},
   "source": [
    "# 1744 수 묶기\n",
    "220522\n",
    "- 소감\n",
    "    - 그리디하게 절댓값이 큰 수 끼리 묶어주면 되는 아이디어를 생각하는 건 어렵지 않았던 것 같습니다.\n",
    "    - 다만, 예외 케이스를 나눠서 생각하는 게 좀 어려운데, 문제에서 반례를 줘서 훨씬 풀만했던 것 같습니다.\n",
    "- 소요 시간 : 29분\n",
    "- 알고리즘 분류 : 그리디 알고리즘, 정렬, 많은 조건 분기\n",
    "- 티어 : 골드 4"
   ]
  },
  {
   "cell_type": "code",
   "execution_count": 19,
   "metadata": {},
   "outputs": [],
   "source": [
    "import sys\n",
    "# input = sys.stdin.readline\n",
    "\n",
    "N = int(input())\n",
    "nums = []\n",
    "\n",
    "nums = [int(input()) for _ in range(N)]\n",
    "nums.sort()\n",
    "\n",
    "negative_nums = []\n",
    "positive_nums = []\n",
    "for num in nums:\n",
    "    if num > 0:\n",
    "        positive_nums.append(num)\n",
    "    else: # num <= 0\n",
    "        negative_nums.append(num)\n",
    "\n",
    "ans = 0\n",
    "if negative_nums: # 음수가 존재하고\n",
    "    if len(negative_nums)%2 == 0: # 음수와 0이 짝수개이면\n",
    "        for i in range(0, len(negative_nums), 2):\n",
    "            ans += negative_nums[i]*negative_nums[i+1]\n",
    "    else: # 음수와 0이 홀수개면\n",
    "        for i in range(0, len(negative_nums)-1, 2):\n",
    "            ans += negative_nums[i]*negative_nums[i+1]\n",
    "        ans += negative_nums[-1]\n",
    "\n",
    "positive_nums.sort(reverse=True)\n",
    "\n",
    "while positive_nums and positive_nums[-1] == 1:\n",
    "    ans += positive_nums.pop()\n",
    "\n",
    "if positive_nums:\n",
    "    if len(positive_nums)%2 == 0: # 양수가 짝수개이면\n",
    "        for i in range(0, len(positive_nums), 2):\n",
    "            ans += positive_nums[i]*positive_nums[i+1]\n",
    "    else: # 양수가 홀수개이면\n",
    "        for i in range(0, len(positive_nums)-1, 2):\n",
    "            ans += positive_nums[i]*positive_nums[i+1]\n",
    "        ans += positive_nums[-1]\n",
    "\n",
    "print(ans)"
   ]
  },
  {
   "cell_type": "code",
   "execution_count": 11,
   "metadata": {},
   "outputs": [
    {
     "data": {
      "text/plain": [
       "[-1, 1, 2, 3]"
      ]
     },
     "execution_count": 11,
     "metadata": {},
     "output_type": "execute_result"
    }
   ],
   "source": [
    "nums"
   ]
  },
  {
   "cell_type": "code",
   "execution_count": 23,
   "metadata": {},
   "outputs": [
    {
     "name": "stdout",
     "output_type": "stream",
     "text": [
      "2\n"
     ]
    }
   ],
   "source": [
    "negative_nums = []\n",
    "positive_nums = []\n",
    "for num in nums:\n",
    "    if num > 0:\n",
    "        positive_nums.append(num)\n",
    "    else: # num <= 0\n",
    "        negative_nums.append(num)\n",
    "\n",
    "ans = 0\n",
    "if negative_nums: # 음수가 존재하고\n",
    "    if len(negative_nums)%2 == 0: # 음수와 0이 짝수개이면\n",
    "        for i in range(0, len(negative_nums), 2):\n",
    "            ans += negative_nums[i]*negative_nums[i+1]\n",
    "    else: # 음수와 0이 홀수개면\n",
    "        for i in range(0, len(negative_nums)-1, 2):\n",
    "            ans += negative_nums[i]*negative_nums[i+1]\n",
    "        ans += negative_nums[-1]\n",
    "\n",
    "positive_nums.sort(reverse=True)\n",
    "\n",
    "while positive_nums and positive_nums[-1] == 1:\n",
    "    ans += positive_nums.pop()\n",
    "\n",
    "if positive_nums:\n",
    "    if len(positive_nums)%2 == 0: # 양수가 짝수개이면\n",
    "        for i in range(0, len(positive_nums), 2):\n",
    "            ans += positive_nums[i]*positive_nums[i+1]\n",
    "    else: # 양수가 홀수개이면\n",
    "        for i in range(0, len(positive_nums)-1, 2):\n",
    "            ans += positive_nums[i]*positive_nums[i+1]\n",
    "        ans += positive_nums[-1]\n",
    "\n",
    "print(ans)"
   ]
  },
  {
   "cell_type": "code",
   "execution_count": 21,
   "metadata": {},
   "outputs": [
    {
     "data": {
      "text/plain": [
       "([], [1, 1])"
      ]
     },
     "execution_count": 21,
     "metadata": {},
     "output_type": "execute_result"
    }
   ],
   "source": [
    "negative_nums, positive_nums"
   ]
  },
  {
   "cell_type": "code",
   "execution_count": 14,
   "metadata": {},
   "outputs": [
    {
     "data": {
      "text/plain": [
       "[-1]"
      ]
     },
     "execution_count": 14,
     "metadata": {},
     "output_type": "execute_result"
    }
   ],
   "source": [
    "negative_nums"
   ]
  },
  {
   "cell_type": "code",
   "execution_count": null,
   "metadata": {},
   "outputs": [],
   "source": []
  }
 ],
 "metadata": {
  "interpreter": {
   "hash": "f08154012ddadd8e950e6e9e035c7a7b32c136e7647e9b7c77e02eb723a8bedb"
  },
  "kernelspec": {
   "display_name": "Python 3.8.8 ('base')",
   "language": "python",
   "name": "python3"
  },
  "language_info": {
   "codemirror_mode": {
    "name": "ipython",
    "version": 3
   },
   "file_extension": ".py",
   "mimetype": "text/x-python",
   "name": "python",
   "nbconvert_exporter": "python",
   "pygments_lexer": "ipython3",
   "version": "3.8.8"
  },
  "orig_nbformat": 4
 },
 "nbformat": 4,
 "nbformat_minor": 2
}
