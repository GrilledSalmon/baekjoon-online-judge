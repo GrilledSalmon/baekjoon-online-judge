{
 "cells": [
  {
   "cell_type": "markdown",
   "metadata": {},
   "source": [
    "# 16496 큰 수 만들기\n",
    "220218\n",
    "- 소감 : 소싯적 풀었던 1422(숫자의 신)와 같은 문제. 그리고 어제 프로그래머스에서 같은 문제 풀었음. `functools`의 `cmp_to_key`로 대소비교를 위한 함수를 정렬할 때 쓸 수 있다는 게 신기쓰..(경희님이 알려주심. 검색하면 나오긴 함)\n",
    "- 알고리즘 분류\n",
    "    - 그리디 알고리즘\n",
    "    - 정렬\n",
    "- 티어 : 플레티넘 5"
   ]
  },
  {
   "cell_type": "code",
   "execution_count": 10,
   "metadata": {},
   "outputs": [
    {
     "name": "stdout",
     "output_type": "stream",
     "text": [
      "0\n"
     ]
    }
   ],
   "source": [
    "N = int(input())\n",
    "nums = input().split()\n",
    "\n",
    "from functools import cmp_to_key\n",
    "def comp(num_1 : str, num_2 : str) -> int:\n",
    "    if num_1 + num_2 >= num_2 + num_1:\n",
    "        return -1\n",
    "    return 1\n",
    "\n",
    "ans = ''.join(sorted(nums, key=cmp_to_key(comp)))\n",
    "if ans[0] == '0':\n",
    "    print(0)\n",
    "else:\n",
    "    print(ans)"
   ]
  },
  {
   "cell_type": "code",
   "execution_count": 2,
   "metadata": {},
   "outputs": [
    {
     "data": {
      "text/plain": [
       "['3', '30', '34', '5', '9']"
      ]
     },
     "execution_count": 2,
     "metadata": {},
     "output_type": "execute_result"
    }
   ],
   "source": [
    "nums"
   ]
  },
  {
   "cell_type": "code",
   "execution_count": 8,
   "metadata": {},
   "outputs": [
    {
     "name": "stdout",
     "output_type": "stream",
     "text": [
      "9534330\n"
     ]
    }
   ],
   "source": [
    "from functools import cmp_to_key\n",
    "def comp(num_1 : str, num_2 : str) -> int:\n",
    "    if num_1 + num_2 >= num_2 + num_1:\n",
    "        return -1\n",
    "    return 1\n",
    "\n",
    "ans = ''.join(sorted(nums, key=cmp_to_key(comp)))\n",
    "if ans[0] == '0':\n",
    "    print(0)\n",
    "else:\n",
    "    print(ans)\n"
   ]
  }
 ],
 "metadata": {
  "interpreter": {
   "hash": "c798a043d5b26db4ea8dc684fe25ec244835432adc5539bce2de618403b1d63c"
  },
  "kernelspec": {
   "display_name": "Python 3.8.5 ('base')",
   "language": "python",
   "name": "python3"
  },
  "language_info": {
   "codemirror_mode": {
    "name": "ipython",
    "version": 3
   },
   "file_extension": ".py",
   "mimetype": "text/x-python",
   "name": "python",
   "nbconvert_exporter": "python",
   "pygments_lexer": "ipython3",
   "version": "3.8.5"
  },
  "orig_nbformat": 4
 },
 "nbformat": 4,
 "nbformat_minor": 2
}
