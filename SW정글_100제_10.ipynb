{
 "cells": [
  {
   "cell_type": "code",
   "execution_count": 2,
   "metadata": {},
   "outputs": [],
   "source": [
    "# 11653\n",
    "# 예전에 품. 예전에 풀었던 문제는 지금 봤을 때 풀 수 있을 것 같으면 풀지 말자"
   ]
  },
  {
   "cell_type": "code",
   "execution_count": 3,
   "metadata": {},
   "outputs": [],
   "source": [
    "# 11720 예전에 품"
   ]
  },
  {
   "cell_type": "code",
   "execution_count": 20,
   "metadata": {},
   "outputs": [
    {
     "name": "stdout",
     "output_type": "stream",
     "text": [
      "8\n"
     ]
    }
   ],
   "source": [
    "# 11816 8진수, 10진수, 16진수\n",
    "X = input()\n",
    "\n",
    "if X[:2] == '0x':\n",
    "    n = 16\n",
    "    l = len(X)-2\n",
    "    hex_dic = {'a':10, 'b':11, 'c':12, 'd':13, 'e':14, 'f':15}\n",
    "elif X[0] == '0':\n",
    "    n = 8\n",
    "    l = len(X)-1\n",
    "else:\n",
    "    n = 10\n",
    "    l = len(X)\n",
    "ans = 0\n",
    "for i in range(l):\n",
    "    try:\n",
    "        x = int(X[-1-i])\n",
    "    except:\n",
    "        x = int(hex_dic[X[-1-i]])\n",
    "    ans += n**i * x\n",
    "print(ans)\n",
    "\n",
    "# 모범 답안\n",
    "# n = input()\n",
    "# if n[0] != '0' : print(n)\n",
    "# else :\n",
    "#     if n[1] != 'x' : print(int(n, 8))\n",
    "#     else : print(int(n, 16))"
   ]
  },
  {
   "cell_type": "code",
   "execution_count": 21,
   "metadata": {},
   "outputs": [],
   "source": [
    "# 8595 히든 넘버 (풀었음)"
   ]
  },
  {
   "cell_type": "code",
   "execution_count": 28,
   "metadata": {},
   "outputs": [
    {
     "name": "stdout",
     "output_type": "stream",
     "text": [
      "4\n"
     ]
    }
   ],
   "source": [
    "# 1269 대칭 차집합\n",
    "N, M = map(int, input().split())\n",
    "A = set(map(int, input().split()))\n",
    "B = set(map(int, input().split()))\n",
    "print(len(A.union(B)) - len(A.intersection(B)))"
   ]
  },
  {
   "cell_type": "code",
   "execution_count": 30,
   "metadata": {},
   "outputs": [
    {
     "name": "stdout",
     "output_type": "stream",
     "text": [
      "2 3 5 9\n"
     ]
    }
   ],
   "source": [
    "# 11728 배열 합치기\n",
    "input()\n",
    "print(' '.join(map(str, sorted(list(map(int,input().split())) + list(map(int, input().split()))))))"
   ]
  },
  {
   "cell_type": "code",
   "execution_count": null,
   "metadata": {},
   "outputs": [],
   "source": [
    "# 1406 에디터\n",
    "from collections import deque\n",
    "import sys\n",
    "# input = sys.stdin.readline\n",
    "\n",
    "def do_L(text:list, buffer:deque):\n",
    "    if text:\n",
    "        temp = text.pop()\n",
    "        buffer.appendleft(temp)\n",
    "\n",
    "def do_D(text:list, buffer:deque):\n",
    "    if buffer:\n",
    "        temp = buffer.popleft()\n",
    "        text.append(temp)\n",
    "\n",
    "def do_B(text):\n",
    "    if text:\n",
    "        text.pop()\n",
    "\n",
    "def do_P(text, s):\n",
    "    text.append(s)\n",
    "\n",
    "buffer = deque()\n",
    "text = list(input().rstrip())\n",
    "M = int(input())\n",
    "for _ in range(M):\n",
    "    cmd = input()\n",
    "    if cmd[0] == 'L':\n",
    "        do_L(text, buffer)\n",
    "    elif cmd[0] == 'D':\n",
    "        do_D(text, buffer)\n",
    "    elif cmd[0] == 'B':\n",
    "        do_B(text)\n",
    "    else:\n",
    "        do_P(text, cmd[2])\n",
    "\n",
    "print(''.join(text), end='')\n",
    "print(''.join(buffer))\n"
   ]
  },
  {
   "cell_type": "code",
   "execution_count": 31,
   "metadata": {},
   "outputs": [],
   "source": [
    "# 9935 문자열 폭발 (풀었던 문제)"
   ]
  },
  {
   "cell_type": "code",
   "execution_count": 32,
   "metadata": {},
   "outputs": [],
   "source": [
    "# 2231 분해합 (풀었던 문제)"
   ]
  },
  {
   "cell_type": "code",
   "execution_count": 33,
   "metadata": {},
   "outputs": [],
   "source": [
    "# 2798 블랙잭 (풀었던 문제)"
   ]
  },
  {
   "cell_type": "code",
   "execution_count": null,
   "metadata": {},
   "outputs": [],
   "source": [
    "# 1062 가르침\n",
    "# anta, tica\n",
    "from itertools import combinations as cb\n",
    "import sys\n",
    "# input = sys.stdin.readline\n",
    "\n",
    "base = set('antatica')\n",
    "\n",
    "N, K = map(int, input().split())\n",
    "K -= len(base)\n",
    "words = []\n",
    "for _ in range(N):\n",
    "    word = set(input().rstrip())\n",
    "    words.append(word-base)\n",
    "\n",
    "print(words)\n",
    "    \n",
    "\n"
   ]
  },
  {
   "cell_type": "code",
   "execution_count": null,
   "metadata": {},
   "outputs": [],
   "source": []
  }
 ],
 "metadata": {
  "kernelspec": {
   "display_name": "Python 3.8.8 ('base')",
   "language": "python",
   "name": "python3"
  },
  "language_info": {
   "codemirror_mode": {
    "name": "ipython",
    "version": 3
   },
   "file_extension": ".py",
   "mimetype": "text/x-python",
   "name": "python",
   "nbconvert_exporter": "python",
   "pygments_lexer": "ipython3",
   "version": "3.8.8"
  },
  "orig_nbformat": 4,
  "vscode": {
   "interpreter": {
    "hash": "f08154012ddadd8e950e6e9e035c7a7b32c136e7647e9b7c77e02eb723a8bedb"
   }
  }
 },
 "nbformat": 4,
 "nbformat_minor": 2
}
