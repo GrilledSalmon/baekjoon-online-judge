{
 "cells": [
  {
   "cell_type": "markdown",
   "metadata": {},
   "source": [
    "# SW정글 week03 컴퓨팅 사고로의 전환\n",
    "## <DFS!>\n",
    "220415"
   ]
  },
  {
   "cell_type": "code",
   "execution_count": 139,
   "metadata": {},
   "outputs": [],
   "source": [
    "# 11725 트리의 부모 찾기\n",
    "import sys\n",
    "sys.setrecursionlimit(1000000)\n",
    "# input = sys.stdin.readline\n",
    "\n",
    "N = int(input())\n",
    "adj_list = [[] for _ in range(N+1)]\n",
    "for _ in range(N-1):\n",
    "    a, b = map(int, input().split())\n",
    "    adj_list[a].append(b)\n",
    "    adj_list[b].append(a)\n",
    "\n",
    "root = 1\n",
    "parents = [0] * (N+1)\n",
    "parents[root] = root\n",
    "\n",
    "def dfs(node=root):\n",
    "    for adj_node in adj_list[node]:\n",
    "        if not parents[adj_node]:\n",
    "            parents[adj_node] = node\n",
    "            dfs(adj_node)\n",
    "dfs()\n",
    "for node in range(2, N+1):\n",
    "    print(parents[node])"
   ]
  },
  {
   "cell_type": "code",
   "execution_count": 8,
   "metadata": {},
   "outputs": [
    {
     "name": "stdout",
     "output_type": "stream",
     "text": [
      "YES\n",
      "NO\n"
     ]
    }
   ],
   "source": [
    "# 1707 이분 그래프\n",
    "import sys\n",
    "sys.setrecursionlimit(10**7)\n",
    "# input = sys.stdin.readline\n",
    "\n",
    "for _ in range(int(input())):\n",
    "    V, E = map(int, input().split())\n",
    "    adj_list = [[] for _ in range(V+1)]\n",
    "    for _ in range(E):\n",
    "        u, v = map(int, input().split())\n",
    "        adj_list[u].append(v)\n",
    "        adj_list[v].append(u)\n",
    "\n",
    "    how_far = [0]*(V+1)\n",
    "    is_bipartite = True\n",
    "    def dfs(node):\n",
    "        global is_bipartite\n",
    "        if is_bipartite:\n",
    "            for adj_node in adj_list[node]:\n",
    "                if not how_far[adj_node]:\n",
    "                    how_far[adj_node] = how_far[node] + 1\n",
    "                    dfs(adj_node)\n",
    "\n",
    "                elif not (how_far[node] - how_far[adj_node])%2: # 사이클이 홀수이면\n",
    "                    is_bipartite = False\n",
    "                    return\n",
    "                    \n",
    "    for node in range(1, V+1): # 그래프가 한 덩어리가 아닌 경우\n",
    "        if not is_bipartite:\n",
    "            break\n",
    "        if not how_far[node]:\n",
    "            root = node\n",
    "            how_far[root] = 1\n",
    "            dfs(root)\n",
    "    print('YES') if is_bipartite else print('NO')"
   ]
  },
  {
   "cell_type": "code",
   "execution_count": 16,
   "metadata": {},
   "outputs": [
    {
     "name": "stdout",
     "output_type": "stream",
     "text": [
      "8\n"
     ]
    }
   ],
   "source": [
    "# 21606 아침 산책\n",
    "from collections import deque\n",
    "import sys\n",
    "sys.setrecursionlimit(1000000)\n",
    "# input = sys.stdin.readline\n",
    "\n",
    "N = int(input())\n",
    "inner_outer = input().rstrip()\n",
    "adj_list = [[] for _ in range(N+1)]\n",
    "for _ in range(N-1):\n",
    "    u, v = map(int, input().split())\n",
    "    adj_list[u].append(v)\n",
    "    adj_list[v].append(u)\n",
    "\n",
    "def n_comb_2(n):\n",
    "    return n*(n-1)//2\n",
    "\n",
    "total_cnt = [0]\n",
    "visited = [0]*(N+1)\n",
    "root_queue = deque()\n",
    "\n",
    "def how_many_path(root):\n",
    "    now_cnt = []\n",
    "    def dfs(node=root, group_num=None):\n",
    "        for adj_node in adj_list[node]:\n",
    "            if not visited[adj_node]:\n",
    "                visited[adj_node] = 1\n",
    "                if inner_outer[adj_node-1] == '0': # 실외\n",
    "                    if group_num is None:\n",
    "                        now_cnt.append(0)\n",
    "                        dfs(adj_node, len(now_cnt)-1)\n",
    "                    else:\n",
    "                        dfs(adj_node, group_num)\n",
    "                else: # 실내\n",
    "                    if group_num is not None:\n",
    "                        now_cnt[group_num] += 1\n",
    "                    else:\n",
    "                        total_cnt[0] += 1\n",
    "                    root_queue.append(adj_node)\n",
    "    dfs()\n",
    "    \n",
    "    for cnt in now_cnt:\n",
    "        total_cnt[0] += cnt + n_comb_2(cnt)\n",
    "\n",
    "for node in range(1, N+1):\n",
    "    if inner_outer[node-1] == '1':\n",
    "        root_queue.append(node)\n",
    "        visited[node] = 1\n",
    "        break\n",
    "\n",
    "while root_queue: # 메모리 줄이려고..\n",
    "    root = root_queue.popleft()\n",
    "    how_many_path(root)\n",
    "\n",
    "print(total_cnt[0]*2)"
   ]
  },
  {
   "cell_type": "code",
   "execution_count": 43,
   "metadata": {},
   "outputs": [
    {
     "name": "stdout",
     "output_type": "stream",
     "text": [
      "54\n",
      "-24\n"
     ]
    }
   ],
   "source": [
    "# 14888 연산자 끼워넣기 풀고나니 그냥 백트래킹...\n",
    "def plus(a, b): return a+b\n",
    "def minus(a, b): return a-b\n",
    "def mult(a, b): return a*b\n",
    "def div(a, b):\n",
    "    if a < 0:\n",
    "        return -(-a//b)\n",
    "    return a//b\n",
    "\n",
    "N = int(input())\n",
    "A = list(map(int, input().split()))\n",
    "operator_cnt = list(map(int, input().split()))\n",
    "operator = (plus, minus, mult, div)\n",
    "\n",
    "maxi = [-float('inf')]\n",
    "mini = [float('inf')]\n",
    "def dfs(n=0, res=A[0]):\n",
    "    if n == N-1:\n",
    "        if res > maxi[0]:\n",
    "            maxi[0] = res\n",
    "        if res < mini[0]:\n",
    "            mini[0] = res\n",
    "        return\n",
    "    for i, oper in enumerate(operator):\n",
    "        if operator_cnt[i]:\n",
    "            operator_cnt[i] -= 1\n",
    "            dfs(n+1, oper(res, A[n+1]))\n",
    "            operator_cnt[i] += 1\n",
    "dfs()\n",
    "print(maxi[0])\n",
    "print(mini[0])"
   ]
  },
  {
   "cell_type": "code",
   "execution_count": 45,
   "metadata": {},
   "outputs": [],
   "source": [
    "# 2573 빙산\n",
    "import sys\n",
    "sys.setrecursionlimit(1000000)\n",
    "# input = sys.stdin.readline\n",
    "N, M = map(int, input().split()) # 행, 열\n",
    "sea = [list(map(int, input().split())) for _ in range(N)]"
   ]
  },
  {
   "cell_type": "code",
   "execution_count": 49,
   "metadata": {},
   "outputs": [
    {
     "data": {
      "text/plain": [
       "(5,\n",
       " 7,\n",
       " [[0, 0, 0, 0, 0, 0, 0],\n",
       "  [0, 2, 4, 5, 3, 0, 0],\n",
       "  [0, 3, 0, 2, 5, 2, 0],\n",
       "  [0, 7, 6, 2, 4, 0, 0],\n",
       "  [0, 0, 0, 0, 0, 0, 0]])"
      ]
     },
     "execution_count": 49,
     "metadata": {},
     "output_type": "execute_result"
    }
   ],
   "source": [
    "from copy import deepcopy\n",
    "# memo_sea = deepcopy(sea) # 다시 치기 귀찮으니까\n",
    "sea = deepcopy(memo_sea)\n",
    "N, M, sea"
   ]
  },
  {
   "cell_type": "code",
   "execution_count": 66,
   "metadata": {},
   "outputs": [],
   "source": [
    "year = 0\n",
    "iceberg_cnt = 0\n",
    "iceberg_coords = []\n",
    "\n",
    "def water_cnt(coord):\n",
    "    \"\"\"coord 위치 주변에 접한 물 수 리턴\"\"\"\n",
    "    row, col = coord\n",
    "    new_coords = [(row+1, col), (row-1, col), (row, col+1), (row, col-1)]\n",
    "    w_cnt = 0\n",
    "    for new_coord in new_coords:\n",
    "        if 0<=new_coord[0]<N and 0<=new_coord[1]<M and not sea[new_coord[0]][new_coord[1]]:\n",
    "            w_cnt += 1\n",
    "    return w_cnt\n",
    "\n",
    "water_cnt_map = [[None]*M for _ in range(N)]\n",
    "\n",
    "for row, line in enumerate(sea):\n",
    "    for col, val in enumerate(line):\n",
    "        if val:\n",
    "            iceberg_cnt += 1\n",
    "            iceberg_coords.append((row, col))\n",
    "            water_cnt_map[row][col] = water_cnt((row, col))"
   ]
  },
  {
   "cell_type": "code",
   "execution_count": 67,
   "metadata": {},
   "outputs": [
    {
     "data": {
      "text/plain": [
       "([[None, None, None, None, None, None, None],\n",
       "  [None, 2, 2, 1, 2, None, None],\n",
       "  [None, 2, None, 1, 0, 3, None],\n",
       "  [None, 2, 2, 1, 2, None, None],\n",
       "  [None, None, None, None, None, None, None]],\n",
       " [(1, 1),\n",
       "  (1, 2),\n",
       "  (1, 3),\n",
       "  (1, 4),\n",
       "  (2, 1),\n",
       "  (2, 3),\n",
       "  (2, 4),\n",
       "  (2, 5),\n",
       "  (3, 1),\n",
       "  (3, 2),\n",
       "  (3, 3),\n",
       "  (3, 4)])"
      ]
     },
     "execution_count": 67,
     "metadata": {},
     "output_type": "execute_result"
    }
   ],
   "source": [
    "water_cnt_map, iceberg_coords"
   ]
  },
  {
   "cell_type": "code",
   "execution_count": null,
   "metadata": {},
   "outputs": [],
   "source": []
  }
 ],
 "metadata": {
  "interpreter": {
   "hash": "8fac594bfae6525c0c41b4041d2d72effa188cc8ead05f81b1fab2bb098927fb"
  },
  "kernelspec": {
   "display_name": "Python 3.8.8 ('base')",
   "language": "python",
   "name": "python3"
  },
  "language_info": {
   "codemirror_mode": {
    "name": "ipython",
    "version": 3
   },
   "file_extension": ".py",
   "mimetype": "text/x-python",
   "name": "python",
   "nbconvert_exporter": "python",
   "pygments_lexer": "ipython3",
   "version": "3.8.8"
  },
  "orig_nbformat": 4
 },
 "nbformat": 4,
 "nbformat_minor": 2
}
