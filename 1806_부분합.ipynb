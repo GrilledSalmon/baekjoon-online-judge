{
 "cells": [
  {
   "cell_type": "markdown",
   "metadata": {},
   "source": [
    "# 1806 부분합\n",
    "220614\n",
    "- 소감\n",
    "    - 정말 말도 안되는 실수때문에 오래 걸렸네요.. 요새 좀 집중력이 떨어진 것 같아요.\n",
    "    - 투 포인터 문제같긴 했지만 투표인터는 좀 익숙하지 않고 이진탐색으로는 확실하게 풀 수 있을 것 같아 이진탐색으로 풀었습니다.\n",
    "    - 누적합을 활용하는 문제였습니다.\n",
    "- 소요 시간 : 56분\n",
    "- 알고리즘 분류 : 두 포인터\n",
    "- 티어 : 골드 4"
   ]
  },
  {
   "cell_type": "code",
   "execution_count": 21,
   "metadata": {},
   "outputs": [],
   "source": [
    "# 10000 이하의 자연수로 이루어진 길이 N짜리 수열\n",
    "# 연속된 수들의 부분합 중에 그 합이 S 이상이 되는 것 중, 가장 짧은 것의 길이는?\n",
    "N, S = map(int, input().split())\n",
    "A = list(map(int, input().split()))\n",
    "\n",
    "acc_list = [0]\n",
    "s = 0\n",
    "for a in A:\n",
    "    s += a\n",
    "    acc_list.append(s)\n",
    "\n",
    "def binary_search(s, base):\n",
    "    e = len(acc_list) - 1\n",
    "    while s <= e:\n",
    "        m = (s + e)//2\n",
    "        val = acc_list[m] - base\n",
    "        if val == S:\n",
    "            break\n",
    "        elif val > S:\n",
    "            e = m - 1\n",
    "        else:\n",
    "            s = m + 1\n",
    "    if val >= S:\n",
    "        return m\n",
    "    else:\n",
    "        if m == len(acc_list) - 1:\n",
    "            return None\n",
    "        else:\n",
    "            return m + 1\n",
    "\n",
    "MAX_NUM = 10**7\n",
    "ans = MAX_NUM\n",
    "for s, acc in enumerate(acc_list):\n",
    "    e = binary_search(s, acc)\n",
    "    if e != None:\n",
    "        if ans > (e - s):\n",
    "            ans = e - s\n",
    "        # print(s, e, acc_list[s], acc_list[e])\n",
    "    # else:\n",
    "        # print(s, e, acc_list[s])\n",
    "\n",
    "if ans == MAX_NUM:\n",
    "    print(0)\n",
    "else:\n",
    "    print(ans)"
   ]
  },
  {
   "cell_type": "code",
   "execution_count": 22,
   "metadata": {},
   "outputs": [
    {
     "data": {
      "text/plain": [
       "(10, 11, [10, 1, 1, 1, 1, 1, 1, 1, 1, 1])"
      ]
     },
     "execution_count": 22,
     "metadata": {},
     "output_type": "execute_result"
    }
   ],
   "source": [
    "N, S, A"
   ]
  },
  {
   "cell_type": "code",
   "execution_count": 30,
   "metadata": {},
   "outputs": [
    {
     "name": "stdout",
     "output_type": "stream",
     "text": [
      "5\n",
      "2\n",
      "0 2 0 11\n",
      "5\n",
      "8\n",
      "9\n",
      "10\n",
      "1 None 10\n",
      "6\n",
      "8\n",
      "9\n",
      "10\n",
      "2 None 11\n",
      "6\n",
      "8\n",
      "9\n",
      "10\n",
      "3 None 12\n",
      "7\n",
      "9\n",
      "10\n",
      "4 None 13\n",
      "7\n",
      "9\n",
      "10\n",
      "5 None 14\n",
      "8\n",
      "9\n",
      "10\n",
      "6 None 15\n",
      "8\n",
      "9\n",
      "10\n",
      "7 None 16\n",
      "9\n",
      "10\n",
      "8 None 17\n",
      "9\n",
      "10\n",
      "9 None 18\n",
      "10\n",
      "10 None 19\n",
      "2\n"
     ]
    }
   ],
   "source": [
    "acc_list = [0]\n",
    "s = 0\n",
    "for a in A:\n",
    "    s += a\n",
    "    acc_list.append(s)\n",
    "\n",
    "def binary_search(s, base):\n",
    "    e = len(acc_list) - 1\n",
    "    while s <= e:\n",
    "        m = (s + e)//2\n",
    "        print(m)\n",
    "        val = acc_list[m] - base\n",
    "        if val == S:\n",
    "            break\n",
    "        elif val > S:\n",
    "            e = m - 1\n",
    "        else:\n",
    "            s = m + 1\n",
    "    if val >= S:\n",
    "        return m\n",
    "    else:\n",
    "        if m == len(acc_list) - 1:\n",
    "            return None\n",
    "        else:\n",
    "            return m + 1\n",
    "\n",
    "MAX_NUM = 10**7\n",
    "ans = MAX_NUM\n",
    "for s, acc in enumerate(acc_list):\n",
    "    e = binary_search(s, acc)\n",
    "    if e != None:\n",
    "        if ans > (e - s):\n",
    "            ans = e - s\n",
    "        print(s, e, acc_list[s], acc_list[e])\n",
    "    else:\n",
    "        print(s, e, acc_list[s])\n",
    "\n",
    "if ans == MAX_NUM:\n",
    "    print(0)\n",
    "else:\n",
    "    print(ans)"
   ]
  },
  {
   "cell_type": "code",
   "execution_count": 24,
   "metadata": {},
   "outputs": [
    {
     "data": {
      "text/plain": [
       "[0, 10, 11, 12, 13, 14, 15, 16, 17, 18, 19]"
      ]
     },
     "execution_count": 24,
     "metadata": {},
     "output_type": "execute_result"
    }
   ],
   "source": [
    "acc_list"
   ]
  },
  {
   "cell_type": "code",
   "execution_count": null,
   "metadata": {},
   "outputs": [],
   "source": []
  }
 ],
 "metadata": {
  "kernelspec": {
   "display_name": "Python 3.8.8 ('base')",
   "language": "python",
   "name": "python3"
  },
  "language_info": {
   "codemirror_mode": {
    "name": "ipython",
    "version": 3
   },
   "file_extension": ".py",
   "mimetype": "text/x-python",
   "name": "python",
   "nbconvert_exporter": "python",
   "pygments_lexer": "ipython3",
   "version": "3.8.8"
  },
  "orig_nbformat": 4,
  "vscode": {
   "interpreter": {
    "hash": "f08154012ddadd8e950e6e9e035c7a7b32c136e7647e9b7c77e02eb723a8bedb"
   }
  }
 },
 "nbformat": 4,
 "nbformat_minor": 2
}
