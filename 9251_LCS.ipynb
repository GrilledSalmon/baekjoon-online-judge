{
 "cells": [
  {
   "cell_type": "markdown",
   "metadata": {},
   "source": [
    "# 9251 LCS\n",
    "220323\n",
    "- 아이디어 : for문을 두 번 돌며 lcs_list를 채워나간다.(특정 문자열에 대해 lcs_list를 한 번 찍어보고 어떻게 lcs_list가 채워지는지 코드 보면 될듯?)\n",
    "- 알고리즘 분류\n",
    "    - 다이나믹 프로그래밍\n",
    "- 티어 : 골드 5"
   ]
  },
  {
   "cell_type": "code",
   "execution_count": 19,
   "metadata": {},
   "outputs": [
    {
     "name": "stdout",
     "output_type": "stream",
     "text": [
      "4\n"
     ]
    }
   ],
   "source": [
    "s1, s2 = input(), input()\n",
    "\n",
    "lcs_list = [0]*len(s2)\n",
    "\n",
    "for i, v1 in enumerate(s1):\n",
    "    until_max = 0\n",
    "    for j, v2 in enumerate(s2):\n",
    "        now_lcs = lcs_list[j]\n",
    "        if v1 == v2:\n",
    "            lcs_list[j] = until_max + 1\n",
    "        \n",
    "        if now_lcs > until_max:\n",
    "            until_max = now_lcs\n",
    "            \n",
    "print(max(lcs_list))"
   ]
  },
  {
   "cell_type": "code",
   "execution_count": 20,
   "metadata": {},
   "outputs": [
    {
     "name": "stdout",
     "output_type": "stream",
     "text": [
      "[1, 2, 3, 4, 3, 4]\n"
     ]
    },
    {
     "data": {
      "text/plain": [
       "('CACA', 'CACACA')"
      ]
     },
     "execution_count": 20,
     "metadata": {},
     "output_type": "execute_result"
    }
   ],
   "source": [
    "print(lcs_list)\n",
    "s1, s2"
   ]
  },
  {
   "cell_type": "code",
   "execution_count": 9,
   "metadata": {},
   "outputs": [
    {
     "name": "stdout",
     "output_type": "stream",
     "text": [
      "4\n"
     ]
    }
   ],
   "source": [
    "lcs_list = [0]*len(s2)\n",
    "\n",
    "for i, v1 in enumerate(s1):\n",
    "    until_max = 0\n",
    "    for j, v2 in enumerate(s2):\n",
    "        now_lcs = lcs_list[j]\n",
    "        if v1 == v2:\n",
    "            lcs_list[j] = until_max + 1\n",
    "        \n",
    "        if now_lcs > until_max:\n",
    "            until_max = now_lcs\n",
    "\n",
    "print(max(lcs_list))"
   ]
  },
  {
   "cell_type": "code",
   "execution_count": 8,
   "metadata": {},
   "outputs": [
    {
     "data": {
      "text/plain": [
       "[1, 2, 3, 2, 3, 4]"
      ]
     },
     "execution_count": 8,
     "metadata": {},
     "output_type": "execute_result"
    }
   ],
   "source": [
    "lcs_list"
   ]
  }
 ],
 "metadata": {
  "interpreter": {
   "hash": "c798a043d5b26db4ea8dc684fe25ec244835432adc5539bce2de618403b1d63c"
  },
  "kernelspec": {
   "display_name": "Python 3.8.5 ('base')",
   "language": "python",
   "name": "python3"
  },
  "language_info": {
   "codemirror_mode": {
    "name": "ipython",
    "version": 3
   },
   "file_extension": ".py",
   "mimetype": "text/x-python",
   "name": "python",
   "nbconvert_exporter": "python",
   "pygments_lexer": "ipython3",
   "version": "3.8.5"
  },
  "orig_nbformat": 4
 },
 "nbformat": 4,
 "nbformat_minor": 2
}
