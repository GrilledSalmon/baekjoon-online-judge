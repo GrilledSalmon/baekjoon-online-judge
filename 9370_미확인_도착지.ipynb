{
 "cells": [
  {
   "cell_type": "markdown",
   "metadata": {},
   "source": [
    "# 9370 미확인 도착지\n",
    "220826\n",
    "- 소감\n",
    "    - 어제의 교훈으로 너무 깊게 생각하지 않고 풀이가 떠오른 걸 그대로 구현했는데 다행히 시간도 잘 나오고 맞았음\n",
    "    - 메인 아이디어는 s to e 최단경로 안에 c 라는 지점이 포함되기 위해서는 dist(s to e) == dist(s to c) + dist(c to e)이어야 한다는 것\n",
    "- 소요 시간 : 50분\n",
    "- 알고리즘 분류 : 그래프 이론, 데이크스트라\n",
    "- 티어 : 골드 2"
   ]
  },
  {
   "cell_type": "code",
   "execution_count": 1,
   "metadata": {},
   "outputs": [
    {
     "data": {
      "text/plain": [
       "{1, 2}"
      ]
     },
     "execution_count": 1,
     "metadata": {},
     "output_type": "execute_result"
    }
   ],
   "source": [
    "from heapq import heappush, heappop\n",
    "import sys\n",
    "# input = sys.stdin.readline\n",
    "MAXINT = sys.maxsize\n",
    "\n",
    "def solve():\n",
    "    n, m, t = map(int, input().split()) # 교차로, 도로, 목적지 후보 개수\n",
    "    s, g, h = map(int, input().split()) # 출발지, g, h\n",
    "    adj_list = [[] for _ in range(n+1)]\n",
    "    for _ in range(m):\n",
    "        a, b, d = map(int, input().split())\n",
    "        adj_list[a].append((b, d))\n",
    "        adj_list[b].append((a, d))\n",
    "\n",
    "    target_candi = {int(input()) for _ in range(t)}\n",
    "\n",
    "    def dijkstra(start_node:int, target_nodes:set)->dict:\n",
    "        \"\"\"start_node에서 시작해 target_nodes에 도착하는 데 드는 비용들 리턴\"\"\"\n",
    "        cnt = 0\n",
    "        res = dict()\n",
    "        l_targets = len(target_nodes)\n",
    "        dist = [MAXINT]*(n+1)\n",
    "        dist[start_node] = 0\n",
    "        heap = [(dist[start_node], start_node)]\n",
    "        while heap:\n",
    "            now_dist, now_node = heappop(heap)\n",
    "            if now_dist != dist[now_node]: continue\n",
    "            if now_node in target_nodes:\n",
    "                cnt += 1\n",
    "                res[now_node] = now_dist\n",
    "                if cnt == l_targets:\n",
    "                    return res\n",
    "            for adj_node, adj_dist in adj_list[now_node]:\n",
    "                new_dist = now_dist + adj_dist\n",
    "                if new_dist < dist[adj_node]:\n",
    "                    dist[adj_node] = new_dist\n",
    "                    heappush(heap, (new_dist, adj_node))\n",
    "        return res\n",
    "\n",
    "    res_start_to_mid = dijkstra(s, {g, h})\n",
    "    s2, dist_to_mid = max(res_start_to_mid.items(), key=lambda x:x[1])\n",
    "\n",
    "    res_start_to_candi = dijkstra(s, target_candi)\n",
    "    res_mid_to_candi = dijkstra(s2, target_candi)\n",
    "\n",
    "    ans = []\n",
    "    for target_node in target_candi:\n",
    "        if target_node in res_mid_to_candi and target_node in res_start_to_candi:\n",
    "            if dist_to_mid + res_mid_to_candi[target_node] == res_start_to_candi[target_node]:\n",
    "                ans.append(target_node)\n",
    "    ans.sort()\n",
    "    print(' '.join(map(str, ans)))\n",
    "\n",
    "for _ in range(int(input())):\n",
    "    solve()"
   ]
  },
  {
   "cell_type": "code",
   "execution_count": 3,
   "metadata": {},
   "outputs": [
    {
     "data": {
      "text/plain": [
       "{0, 1, 2}"
      ]
     },
     "execution_count": 3,
     "metadata": {},
     "output_type": "execute_result"
    }
   ],
   "source": [
    "{_ for _ in range(3)}"
   ]
  },
  {
   "cell_type": "code",
   "execution_count": null,
   "metadata": {},
   "outputs": [],
   "source": []
  }
 ],
 "metadata": {
  "kernelspec": {
   "display_name": "Python 3.8.5 ('base')",
   "language": "python",
   "name": "python3"
  },
  "language_info": {
   "codemirror_mode": {
    "name": "ipython",
    "version": 3
   },
   "file_extension": ".py",
   "mimetype": "text/x-python",
   "name": "python",
   "nbconvert_exporter": "python",
   "pygments_lexer": "ipython3",
   "version": "3.8.5"
  },
  "orig_nbformat": 4,
  "vscode": {
   "interpreter": {
    "hash": "8cc51f7a6f9663e4a057df8e9ab0b3750994a36584b90d61db68aa71b39bfa78"
   }
  }
 },
 "nbformat": 4,
 "nbformat_minor": 2
}
