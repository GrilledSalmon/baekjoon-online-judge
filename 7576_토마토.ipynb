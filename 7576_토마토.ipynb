{
 "cells": [
  {
   "cell_type": "markdown",
   "metadata": {},
   "source": [
    "# 7576 토마토\n",
    "220126\n",
    "- 소감 : BFS를 활용한 최단경로. 토마토 익는 게 tomato_box를 찍어보면 보이는데 별것 없긴 하지만 시각적으로 꽤 볼만 한 것 같당. 익어 있는 토마토 위치를 파악해서 전부 큐에 넣고 BFS를 동시에 시작하는 게 아이디어 포인트인듯.\n",
    "- 알고리즘 분류\n",
    "    - 그래프 이론\n",
    "    - 그래프 탐색\n",
    "    - 너비 우선 탐색\n",
    "- 티어 : 골드 5"
   ]
  },
  {
   "cell_type": "code",
   "execution_count": 18,
   "metadata": {},
   "outputs": [
    {
     "name": "stdout",
     "output_type": "stream",
     "text": [
      "0\n"
     ]
    }
   ],
   "source": [
    "import sys\n",
    "from collections import deque\n",
    "sys.setrecursionlimit(10**8)\n",
    "# input = sys.stdin.readline\n",
    "\n",
    "M, N = map(int, input().split())\n",
    "tomato_box = [list(map(int, input().split())) for _ in range(N)]\n",
    "\n",
    "ripen_tomato = [(i, j) for i in range(M) for j in range(N) if tomato_box[j][i] == 1]\n",
    "\n",
    "queue = deque(ripen_tomato) # 이미 익은 토마토 위치를 queue로 설정해준다.(동시에 전파)\n",
    "\n",
    "def process(x, y) -> None:\n",
    "    \"\"\"토마토의 기존 방문 여부에 따라 BFS 프로세스 진행\"\"\"\n",
    "    if tomato_box[y][x] == 0: # 방문하지 않았다면\n",
    "        tomato_box[y][x] = day + 1 # 일수 입력\n",
    "        queue.append((x, y)) # 큐에 삽입\n",
    "        if until_max[0] == day:\n",
    "            until_max[0] = day + 1 # 최대값 업데이트\n",
    "\n",
    "until_max = [1]\n",
    "while queue:\n",
    "    x, y = queue.popleft() # 탐색할 노드\n",
    "    day = tomato_box[y][x]\n",
    "    # 상\n",
    "    if y != 0:\n",
    "        process(x, y-1)\n",
    "    # 하\n",
    "    if y != N-1:\n",
    "        process(x, y+1)\n",
    "    # 좌\n",
    "    if x != 0:\n",
    "        process(x-1, y)\n",
    "    # 우\n",
    "    if x != M-1:\n",
    "        process(x+1, y)\n",
    "\n",
    "\n",
    "fail = False\n",
    "for tomato_line in tomato_box:\n",
    "    for tomato in tomato_line:\n",
    "        if tomato == 0:\n",
    "            print(-1)\n",
    "            fail = True\n",
    "            break\n",
    "    if fail:\n",
    "        break\n",
    "\n",
    "if not fail:\n",
    "    print(until_max[0] - 1)\n",
    "        "
   ]
  },
  {
   "cell_type": "code",
   "execution_count": 17,
   "metadata": {},
   "outputs": [
    {
     "data": {
      "text/plain": [
       "(5,\n",
       " 5,\n",
       " [[-1, 1, 2, 3, 4],\n",
       "  [15, -1, -1, -1, 5],\n",
       "  [14, -1, -1, -1, 6],\n",
       "  [13, -1, -1, -1, 7],\n",
       "  [12, 11, 10, 9, 8]])"
      ]
     },
     "execution_count": 17,
     "metadata": {},
     "output_type": "execute_result"
    }
   ],
   "source": [
    "M, N, tomato_box"
   ]
  },
  {
   "cell_type": "code",
   "execution_count": 5,
   "metadata": {},
   "outputs": [],
   "source": [
    "ripen_tomato = [(i, j) for i in range(M) for j in range(N) if tomato_box[j][i] == 1]"
   ]
  },
  {
   "cell_type": "code",
   "execution_count": 6,
   "metadata": {},
   "outputs": [
    {
     "data": {
      "text/plain": [
       "[(0, 0), (5, 3)]"
      ]
     },
     "execution_count": 6,
     "metadata": {},
     "output_type": "execute_result"
    }
   ],
   "source": [
    "ripen_tomato"
   ]
  },
  {
   "cell_type": "code",
   "execution_count": 7,
   "metadata": {},
   "outputs": [
    {
     "data": {
      "text/plain": [
       "deque([(0, 0), (5, 3)])"
      ]
     },
     "execution_count": 7,
     "metadata": {},
     "output_type": "execute_result"
    }
   ],
   "source": [
    "from collections import deque\n",
    "queue = deque(ripen_tomato) # 이미 익은 토마토 위치를 queue로 설정해준다.(동시에 전파)\n",
    "queue"
   ]
  },
  {
   "cell_type": "code",
   "execution_count": 8,
   "metadata": {},
   "outputs": [],
   "source": [
    "def process(x, y) -> None:\n",
    "    \"\"\"토마토의 기존 방문 여부에 따라 BFS 프로세스 진행\"\"\"\n",
    "    if tomato_box[y][x] == 0: # 방문하지 않았다면\n",
    "        tomato_box[y][x] = day + 1 # 일수 입력\n",
    "        queue.append((x, y)) # 큐에 삽입\n",
    "        if until_max[0] == day:\n",
    "            until_max[0] = day + 1 # 최대값 업데이트\n",
    "        "
   ]
  },
  {
   "cell_type": "code",
   "execution_count": 9,
   "metadata": {},
   "outputs": [
    {
     "name": "stdout",
     "output_type": "stream",
     "text": [
      "6\n"
     ]
    }
   ],
   "source": [
    "until_max = [1]\n",
    "while queue:\n",
    "    x, y = queue.popleft() # 탐색할 노드\n",
    "    day = tomato_box[y][x]\n",
    "    # 상\n",
    "    if y != 0:\n",
    "        process(x, y-1)\n",
    "    # 하\n",
    "    if y != N-1:\n",
    "        process(x, y+1)\n",
    "    # 좌\n",
    "    if x != 0:\n",
    "        process(x-1, y)\n",
    "    # 우\n",
    "    if x != M-1:\n",
    "        process(x+1, y)\n",
    "\n",
    "\n",
    "fail = False\n",
    "for tomato_line in tomato_box:\n",
    "    for tomato in tomato_line:\n",
    "        if tomato == 0:\n",
    "            print(-1)\n",
    "            fail = True\n",
    "            break\n",
    "    if fail:\n",
    "        break\n",
    "\n",
    "if not fail:\n",
    "    print(until_max[0] - 1)"
   ]
  },
  {
   "cell_type": "code",
   "execution_count": 10,
   "metadata": {},
   "outputs": [
    {
     "data": {
      "text/plain": [
       "[[1, -1, 7, 6, 5, 4],\n",
       " [2, -1, 6, 5, 4, 3],\n",
       " [3, 4, 5, 6, -1, 2],\n",
       " [4, 5, 6, 7, -1, 1]]"
      ]
     },
     "execution_count": 10,
     "metadata": {},
     "output_type": "execute_result"
    }
   ],
   "source": [
    "tomato_box"
   ]
  },
  {
   "cell_type": "code",
   "execution_count": null,
   "metadata": {},
   "outputs": [],
   "source": []
  }
 ],
 "metadata": {
  "interpreter": {
   "hash": "c798a043d5b26db4ea8dc684fe25ec244835432adc5539bce2de618403b1d63c"
  },
  "kernelspec": {
   "display_name": "Python 3.8.5 64-bit ('base': conda)",
   "language": "python",
   "name": "python3"
  },
  "language_info": {
   "codemirror_mode": {
    "name": "ipython",
    "version": 3
   },
   "file_extension": ".py",
   "mimetype": "text/x-python",
   "name": "python",
   "nbconvert_exporter": "python",
   "pygments_lexer": "ipython3",
   "version": "3.8.5"
  },
  "orig_nbformat": 4
 },
 "nbformat": 4,
 "nbformat_minor": 2
}
