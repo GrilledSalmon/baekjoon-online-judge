{
 "cells": [
  {
   "cell_type": "markdown",
   "metadata": {},
   "source": [
    "# 1780 종이의 개수\n",
    "220211\n",
    "- 소감 : 완전완전 분할정복 문제. 정말 분할정복이라는 개념을 배우지 않았다면 이렇게 풀지 못했을 것 같다. 분할정복이라 생각한 다음에 분할정복 과정을 되뇌이면서 풀었다.\n",
    "- 아이디어 : 분할 할 수 있을 때까지 분할하고, base case에서는 어떤 작업을 해줄지, 그리고 합칠 때는 어떻게 합칠지 생각한다. 그냥 분할정복 그대로 해주면 됨.\n",
    "- 알고리즘 분류\n",
    "    - 분할 정복\n",
    "    - 재귀\n",
    "- 티어 : 실버 2"
   ]
  },
  {
   "cell_type": "code",
   "execution_count": 29,
   "metadata": {},
   "outputs": [
    {
     "name": "stdout",
     "output_type": "stream",
     "text": [
      "10\n",
      "12\n",
      "11\n"
     ]
    }
   ],
   "source": [
    "import sys\n",
    "# input = sys.stdin.readline\n",
    "N = int(input())\n",
    "\n",
    "paper = [list(map(int, input().split())) for _ in range(N)]\n",
    "\n",
    "def dnc(start_point=(0,0), size=N, paper=paper):\n",
    "    \"\"\"분할 정복. 종이의 상태와 카운트 결과 리턴\n",
    "    종이의 상태 : -1, 0, 1로만 구성된 경우는 각각의 값으로, 섞여 있는 경우엔 None 리턴\n",
    "    카운트 결과 : [0, 1, -1]의 카운트 결과가 리턴\"\"\"\n",
    "    if size == 1: # base case\n",
    "        val = paper[start_point[1]][start_point[0]]\n",
    "        cnt_res = [0, 0, 0]\n",
    "        cnt_res[val] = 1\n",
    "        return val, cnt_res\n",
    "\n",
    "    status_list = []\n",
    "    cnt_res_list = []\n",
    "    new_size = size//3\n",
    "    x, y = start_point\n",
    "    for i in range(3):\n",
    "        for j in range(3):\n",
    "            res = dnc((x+i*new_size, y+j*new_size), new_size)\n",
    "            status_list.append(res[0])\n",
    "            cnt_res_list.append(res[1])\n",
    "\n",
    "    if len(set(status_list)) == 1 and status_list[0] is not None: # 값이 다 같은 경우\n",
    "        val = status_list[0]\n",
    "        cnt_res = [0, 0, 0]\n",
    "        cnt_res[val] = 1\n",
    "        return val, cnt_res\n",
    "    \n",
    "    else: # 값이 다른 경우\n",
    "        val = None\n",
    "        cnt_res = [sum(ls) for ls in zip(*cnt_res_list)]\n",
    "        return val, cnt_res\n",
    "\n",
    "res = dnc()[1]\n",
    "for i in [-1, 0, 1]:\n",
    "    print(res[i])"
   ]
  },
  {
   "cell_type": "code",
   "execution_count": 10,
   "metadata": {},
   "outputs": [],
   "source": [
    "test = \"\"\"0 0 0 1 1 1 -1 -1 -1\n",
    "0 0 0 1 1 1 -1 -1 -1\n",
    "0 0 0 1 1 1 -1 -1 -1\n",
    "1 1 1 0 0 0 0 0 0\n",
    "1 1 1 0 0 0 0 0 0\n",
    "1 1 1 0 0 0 0 0 0\n",
    "0 1 -1 0 1 -1 0 1 -1\n",
    "0 -1 1 0 1 -1 0 1 -1\n",
    "0 1 -1 1 0 -1 0 1 -1\"\"\"\n",
    "\n",
    "paper = list(map(lambda x:list(map(int, x.split())), test.split('\\n')))"
   ]
  },
  {
   "cell_type": "code",
   "execution_count": 11,
   "metadata": {},
   "outputs": [
    {
     "data": {
      "text/plain": [
       "[[0, 0, 0, 1, 1, 1, -1, -1, -1],\n",
       " [0, 0, 0, 1, 1, 1, -1, -1, -1],\n",
       " [0, 0, 0, 1, 1, 1, -1, -1, -1],\n",
       " [1, 1, 1, 0, 0, 0, 0, 0, 0],\n",
       " [1, 1, 1, 0, 0, 0, 0, 0, 0],\n",
       " [1, 1, 1, 0, 0, 0, 0, 0, 0],\n",
       " [0, 1, -1, 0, 1, -1, 0, 1, -1],\n",
       " [0, -1, 1, 0, 1, -1, 0, 1, -1],\n",
       " [0, 1, -1, 1, 0, -1, 0, 1, -1]]"
      ]
     },
     "execution_count": 11,
     "metadata": {},
     "output_type": "execute_result"
    }
   ],
   "source": [
    "paper"
   ]
  },
  {
   "cell_type": "code",
   "execution_count": 28,
   "metadata": {},
   "outputs": [
    {
     "name": "stdout",
     "output_type": "stream",
     "text": [
      "10\n",
      "12\n",
      "11\n"
     ]
    }
   ],
   "source": [
    "def dnc(start_point=(0,0), size=N, paper=paper):\n",
    "    \"\"\"분할 정복. 종이의 상태와 카운트 결과 리턴\n",
    "    종이의 상태 : -1, 0, 1로만 구성된 경우는 각각의 값으로, 섞여 있는 경우엔 None 리턴\n",
    "    카운트 결과 : [0, 1, -1]의 카운트 결과가 리턴\"\"\"\n",
    "    if size == 1: # base case\n",
    "        val = paper[start_point[1]][start_point[0]]\n",
    "        cnt_res = [0, 0, 0]\n",
    "        cnt_res[val] = 1\n",
    "        return val, cnt_res\n",
    "\n",
    "    status_list = []\n",
    "    cnt_res_list = []\n",
    "    new_size = size//3\n",
    "    x, y = start_point\n",
    "    for i in range(3):\n",
    "        for j in range(3):\n",
    "            res = dnc((x+i*new_size, y+j*new_size), new_size)\n",
    "            status_list.append(res[0])\n",
    "            cnt_res_list.append(res[1])\n",
    "\n",
    "    if len(set(status_list)) == 1 and status_list[0] is not None: # 값이 다 같은 경우\n",
    "        val = status_list[0]\n",
    "        cnt_res = [0, 0, 0]\n",
    "        cnt_res[val] = 1\n",
    "        return val, cnt_res\n",
    "    \n",
    "    else: # 값이 다른 경우\n",
    "        val = None\n",
    "        cnt_res = [sum(ls) for ls in zip(*cnt_res_list)]\n",
    "        return val, cnt_res\n",
    "\n",
    "res = dnc()[1]\n",
    "for i in [-1, 0, 1]:\n",
    "    print(res[i])"
   ]
  },
  {
   "cell_type": "code",
   "execution_count": 27,
   "metadata": {},
   "outputs": [
    {
     "data": {
      "text/plain": [
       "(None, [12, 11, 10])"
      ]
     },
     "execution_count": 27,
     "metadata": {},
     "output_type": "execute_result"
    }
   ],
   "source": []
  },
  {
   "cell_type": "code",
   "execution_count": 12,
   "metadata": {},
   "outputs": [
    {
     "data": {
      "text/plain": [
       "True"
      ]
     },
     "execution_count": 12,
     "metadata": {},
     "output_type": "execute_result"
    }
   ],
   "source": [
    "[0, 0, 0] == [0]*3"
   ]
  },
  {
   "cell_type": "code",
   "execution_count": 15,
   "metadata": {},
   "outputs": [
    {
     "data": {
      "text/plain": [
       "[2, 3, 8]"
      ]
     },
     "execution_count": 15,
     "metadata": {},
     "output_type": "execute_result"
    }
   ],
   "source": [
    "[sum(ls) for ls in zip(*[[1, 1, 0], [1, 2, 8]])]"
   ]
  },
  {
   "cell_type": "code",
   "execution_count": 25,
   "metadata": {},
   "outputs": [
    {
     "data": {
      "text/plain": [
       "9"
      ]
     },
     "execution_count": 25,
     "metadata": {},
     "output_type": "execute_result"
    }
   ],
   "source": [
    "N"
   ]
  },
  {
   "cell_type": "code",
   "execution_count": null,
   "metadata": {},
   "outputs": [],
   "source": []
  }
 ],
 "metadata": {
  "interpreter": {
   "hash": "c798a043d5b26db4ea8dc684fe25ec244835432adc5539bce2de618403b1d63c"
  },
  "kernelspec": {
   "display_name": "Python 3.8.5 ('base')",
   "language": "python",
   "name": "python3"
  },
  "language_info": {
   "codemirror_mode": {
    "name": "ipython",
    "version": 3
   },
   "file_extension": ".py",
   "mimetype": "text/x-python",
   "name": "python",
   "nbconvert_exporter": "python",
   "pygments_lexer": "ipython3",
   "version": "3.8.5"
  },
  "orig_nbformat": 4
 },
 "nbformat": 4,
 "nbformat_minor": 2
}
