{
 "cells": [
  {
   "cell_type": "markdown",
   "metadata": {},
   "source": [
    "# 1092 배\n",
    "220523\n",
    "- 소감\n",
    "    - 오랜 시간동안 풀이가 잘 안 떠올라서 좀 싸했는데 다행히도 풀긴 했습니다.\n",
    "    - 주요 아이디어는 각 크레인이 들 수 있는 가장 무거운 박스를 드는 것입니다.\n",
    "    - 아이디어는 쉽게 떠올랐지만, 시간 효율적으로 코드를 짜는게 상당히 어려웠습니다. 최근에 풀었던 문제중에 가장 헤맨 것 같네여..\n",
    "    - 구현 문제 느낌도 있긴 한데 그렇게 풀면 시간초과가 나거나 시간복잡도가 매우 높았을 것 같습니다.\n",
    "- 소요 시간 : 1시간 1분\n",
    "- 알고리즘 분류 : 그리디 알고리즘, 정렬\n",
    "- 티어 : 골드 5"
   ]
  },
  {
   "cell_type": "code",
   "execution_count": 2,
   "metadata": {},
   "outputs": [],
   "source": [
    "import sys\n",
    "# input = sys.stdin.readline\n",
    "\n",
    "N = int(input())\n",
    "crane_limit = sorted(map(int, input().split()), reverse=True)\n",
    "M = int(input())\n",
    "box_weights = sorted(map(int, input().split()), reverse=True)\n",
    "\n",
    "def can_move(crane_num, start):\n",
    "    limit = crane_limit[crane_num]\n",
    "    for box_num in range(start, M):\n",
    "        if not visited[box_num] and box_weights[box_num] <= limit:\n",
    "            visited[box_num] = 1\n",
    "            return box_num # 옮기는 데 성공한 위치\n",
    "    # 옮길 수 있는 박스가 없는 경우\n",
    "    return None\n",
    "\n",
    "visited = [0]*M\n",
    "move_cnt = 0\n",
    "last_visited = [-1]*N\n",
    "time_cnt = 0\n",
    "possible_crane_num = N\n",
    "while True: # one cycle\n",
    "    for crane in range(possible_crane_num):\n",
    "        now_visit = last_visited[crane] + 1\n",
    "        possi = can_move(crane, now_visit)\n",
    "        if possi != None: # 옮기는 데 성공한 경우\n",
    "            last_visited[crane] = possi # 크레인이 방문했던 곳 리턴\n",
    "            move_cnt += 1\n",
    "        else: # 현재 크레인이 옮길 수 없는 경우(그 뒤도 모두 옮길 수 없음)\n",
    "            possible_crane_num = crane\n",
    "            break\n",
    "    if possible_crane_num == 0:\n",
    "        break\n",
    "    time_cnt += 1\n",
    "\n",
    "\n",
    "print(time_cnt) if move_cnt == M else print(-1)"
   ]
  },
  {
   "cell_type": "code",
   "execution_count": 3,
   "metadata": {},
   "outputs": [
    {
     "data": {
      "text/plain": [
       "(3, (6, 8, 9), 5, (2, 5, 2, 4, 7))"
      ]
     },
     "execution_count": 3,
     "metadata": {},
     "output_type": "execute_result"
    }
   ],
   "source": [
    "N, crane_limit, M, box_weights"
   ]
  },
  {
   "cell_type": "code",
   "execution_count": 5,
   "metadata": {},
   "outputs": [
    {
     "name": "stdout",
     "output_type": "stream",
     "text": [
      "3\n"
     ]
    }
   ],
   "source": [
    "def can_move(crane_num, start):\n",
    "    limit = crane_limit[crane_num]\n",
    "    for box_num in range(start, M):\n",
    "        if not visited[box_num] and box_weights[box_num] <= limit:\n",
    "            visited[box_num] = 1\n",
    "            return box_num # 옮기는 데 성공한 위치\n",
    "    # 옮길 수 있는 박스가 없는 경우\n",
    "    return None\n",
    "\n",
    "visited = [0]*M\n",
    "last_visited = [-1]*N\n",
    "time_cnt = 0\n",
    "possible_crane_num = N\n",
    "while True: # one cycle\n",
    "    for crane in range(possible_crane_num):\n",
    "        now_visit = last_visited[crane] + 1\n",
    "        possi = can_move(crane, now_visit)\n",
    "        if possi != None:\n",
    "            last_visited[crane] = possi\n",
    "        else:\n",
    "            possible_crane_num = crane\n",
    "    if possible_crane_num == 0:\n",
    "        break\n",
    "    time_cnt += 1\n",
    "print(time_cnt)"
   ]
  },
  {
   "cell_type": "code",
   "execution_count": null,
   "metadata": {},
   "outputs": [],
   "source": []
  }
 ],
 "metadata": {
  "interpreter": {
   "hash": "f08154012ddadd8e950e6e9e035c7a7b32c136e7647e9b7c77e02eb723a8bedb"
  },
  "kernelspec": {
   "display_name": "Python 3.8.8 ('base')",
   "language": "python",
   "name": "python3"
  },
  "language_info": {
   "codemirror_mode": {
    "name": "ipython",
    "version": 3
   },
   "file_extension": ".py",
   "mimetype": "text/x-python",
   "name": "python",
   "nbconvert_exporter": "python",
   "pygments_lexer": "ipython3",
   "version": "3.8.8"
  },
  "orig_nbformat": 4
 },
 "nbformat": 4,
 "nbformat_minor": 2
}
