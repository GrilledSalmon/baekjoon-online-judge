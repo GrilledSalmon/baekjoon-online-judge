{
 "cells": [
  {
   "cell_type": "markdown",
   "metadata": {},
   "source": [
    "# 1562 계단 수\n",
    "220613\n",
    "- 소감\n",
    "    - DP...ㅎ\n",
    "    - 너무 졸아서 집중을 못하기도 했지만 거의 어떻게 풀지 감도 못 잡았네요\n",
    "    - 그나마 비슷하다면 외판원 순회와 비슷하게 비트마스킹을 활용한 DP문제였습니다.\n",
    "    - 다른 사람의 풀이를 보고 제출했는데, 아직 완전히 이해하지 못해서 일단 Pintos를 위해 이정도로 마무리하고 오늘이 가기 전에 이해하는 쪽으로 해봐야겠습니다..\n",
    "- 소요 시간 : inf\n",
    "- 알고리즘 분류 : 다이나믹 프로그래밍, 비트마스킹, 비트필드를 이용한 다이나믹 프로그래밍\n",
    "- 티어 : 골드 1"
   ]
  },
  {
   "cell_type": "code",
   "execution_count": 1,
   "metadata": {},
   "outputs": [],
   "source": [
    "def solve():\n",
    "    N = int(input())\n",
    "    # memo[i][j][k] : i자리수, x 맨 마지막 자릿수, k 사용상태일 때 경우의 수\n",
    "    DIV = 10**9\n",
    "    ALL_USED = (1<<10) - 1\n",
    "\n",
    "    memo = [[[0]*(ALL_USED+1) for _ in range(10)] for _ in range(N+1)]\n",
    "\n",
    "    for i in range(1, 10):\n",
    "        memo[1][i][1 << i] = 1\n",
    "\n",
    "    for i in range(2, N+1):\n",
    "        for j in range(10):\n",
    "            for k in range(ALL_USED+1):\n",
    "                if j != 0:\n",
    "                    memo[i][j][k | (1<<j)] = (memo[i][j][k | (1<<j)] + memo[i-1][j-1][k]) % DIV\n",
    "                if j != 9:\n",
    "                    memo[i][j][k | (1<<j)] = (memo[i][j][k | (1<<j)] + memo[i-1][j+1][k]) % DIV\n",
    "\n",
    "    ans = 0\n",
    "    for i in range(10):\n",
    "        ans = (ans + memo[N][i][ALL_USED]) % DIV\n",
    "\n",
    "    return ans\n",
    "\n",
    "print(solve())"
   ]
  },
  {
   "cell_type": "code",
   "execution_count": 2,
   "metadata": {},
   "outputs": [
    {
     "data": {
      "text/plain": [
       "10"
      ]
     },
     "execution_count": 2,
     "metadata": {},
     "output_type": "execute_result"
    }
   ],
   "source": [
    "N"
   ]
  },
  {
   "cell_type": "code",
   "execution_count": 13,
   "metadata": {},
   "outputs": [
    {
     "name": "stdout",
     "output_type": "stream",
     "text": [
      "5461847755\n"
     ]
    }
   ],
   "source": [
    "def solve(N):\n",
    "    # N = int(input())\n",
    "    # memo[i][j][k] : i자리수, x 맨 마지막 자릿수, k 사용상태일 때 경우의 수\n",
    "    DIV = 10**9\n",
    "    ALL_USED = (1<<10) - 1\n",
    "\n",
    "    memo = [[[0]*(ALL_USED+1) for _ in range(10)] for _ in range(N+1)]\n",
    "\n",
    "    for i in range(1, 10):\n",
    "        memo[1][i][1 << i] = 1\n",
    "\n",
    "    for i in range(2, N+1):\n",
    "        for j in range(10):\n",
    "            for k in range(ALL_USED+1):\n",
    "                if j != 0:\n",
    "                    memo[i][j][k | (1<<j)] = (memo[i][j][k | (1<<j)] + memo[i-1][j-1][k]) % DIV\n",
    "                if j != 9:\n",
    "                    memo[i][j][k | (1<<j)] = (memo[i][j][k | (1<<j)] + memo[i-1][j+1][k]) % DIV\n",
    "\n",
    "    ans = 0\n",
    "    for i in range(10):\n",
    "        ans = (ans + memo[N][i][ALL_USED]) % DIV\n",
    "\n",
    "    return ans\n",
    "\n",
    "temp = 0\n",
    "for i in range(1, 41):\n",
    "    temp += solve(i)\n",
    "\n",
    "print(temp)             "
   ]
  },
  {
   "cell_type": "code",
   "execution_count": 15,
   "metadata": {},
   "outputs": [
    {
     "name": "stdout",
     "output_type": "stream",
     "text": [
      "1\n"
     ]
    }
   ],
   "source": []
  },
  {
   "cell_type": "code",
   "execution_count": null,
   "metadata": {},
   "outputs": [],
   "source": []
  }
 ],
 "metadata": {
  "kernelspec": {
   "display_name": "Python 3.8.8 ('base')",
   "language": "python",
   "name": "python3"
  },
  "language_info": {
   "codemirror_mode": {
    "name": "ipython",
    "version": 3
   },
   "file_extension": ".py",
   "mimetype": "text/x-python",
   "name": "python",
   "nbconvert_exporter": "python",
   "pygments_lexer": "ipython3",
   "version": "3.8.8"
  },
  "orig_nbformat": 4,
  "vscode": {
   "interpreter": {
    "hash": "f08154012ddadd8e950e6e9e035c7a7b32c136e7647e9b7c77e02eb723a8bedb"
   }
  }
 },
 "nbformat": 4,
 "nbformat_minor": 2
}
