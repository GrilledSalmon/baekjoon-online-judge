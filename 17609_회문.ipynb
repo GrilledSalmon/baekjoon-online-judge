{
 "cells": [
  {
   "cell_type": "markdown",
   "metadata": {},
   "source": [
    "# 17609 회문\n",
    "220509\n",
    "- 소감\n",
    "    1. 팰린드롬을 약간 변형한 문제로, 투 포인터를 사용하면 어렵지 않게 풀 수 있음\n",
    "    2. 다행히 예외 케이스를 금방 찾아 빠른 시간에 풀 수 있었음\n",
    "- 분류 : 구현, 문자열, 두 포인터\n",
    "- 소요 시간 : 28분\n",
    "- 티어 : 실버 1"
   ]
  },
  {
   "cell_type": "code",
   "execution_count": 24,
   "metadata": {},
   "outputs": [],
   "source": [
    "import sys\n",
    "# input = sys.stdin.readline\n",
    "\n",
    "def solve(s):\n",
    "    start_p, end_p = 0, len(s)-1\n",
    "    while s[start_p] == s[end_p] and start_p < end_p:\n",
    "        start_p += 1\n",
    "        end_p -= 1\n",
    "    if start_p >= end_p:\n",
    "        print(0)\n",
    "        return\n",
    "    \n",
    "    if s[start_p+1] == s[end_p]:\n",
    "        new_start_p = start_p + 1\n",
    "        new_end_p = end_p\n",
    "        while s[new_start_p] == s[new_end_p] and new_start_p < new_end_p:\n",
    "            new_start_p += 1\n",
    "            new_end_p -= 1\n",
    "        if new_start_p >= new_end_p:\n",
    "            print(1)\n",
    "            return\n",
    "    if s[start_p] == s[end_p-1]:\n",
    "        end_p -= 1\n",
    "        while s[start_p] == s[end_p] and start_p < end_p:\n",
    "            start_p += 1\n",
    "            end_p -= 1\n",
    "        if start_p >= end_p:\n",
    "            print(1)\n",
    "            return\n",
    "    \n",
    "    print(2)\n",
    "    return\n",
    "    \n",
    "# T = int(input())\n",
    "# for _ in range(T):\n",
    "#     s = input()\n",
    "#     solve(s)"
   ]
  },
  {
   "cell_type": "code",
   "execution_count": 25,
   "metadata": {},
   "outputs": [
    {
     "name": "stdout",
     "output_type": "stream",
     "text": [
      "1\n"
     ]
    }
   ],
   "source": [
    "solve('abaabaa')"
   ]
  },
  {
   "cell_type": "code",
   "execution_count": null,
   "metadata": {},
   "outputs": [],
   "source": []
  }
 ],
 "metadata": {
  "interpreter": {
   "hash": "cf92aa13fedf815d5c8dd192b8d835913fde3e8bc926b2a0ad6cc74ef2ba3ca2"
  },
  "kernelspec": {
   "display_name": "Python 3.9.5 64-bit",
   "language": "python",
   "name": "python3"
  },
  "language_info": {
   "codemirror_mode": {
    "name": "ipython",
    "version": 3
   },
   "file_extension": ".py",
   "mimetype": "text/x-python",
   "name": "python",
   "nbconvert_exporter": "python",
   "pygments_lexer": "ipython3",
   "version": "3.9.5"
  },
  "orig_nbformat": 4
 },
 "nbformat": 4,
 "nbformat_minor": 2
}
