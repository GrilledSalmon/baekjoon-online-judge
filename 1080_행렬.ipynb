{
 "cells": [
  {
   "cell_type": "markdown",
   "metadata": {},
   "source": [
    "# 1080 행렬\n",
    "220524\n",
    "- 소감\n",
    "    - 너무 졸려서 집중을 잘 못함...ㅎ\n",
    "    - 그런 와중에 풀이가 정말 1도 생각나지 않아서 아이디어를 살짝 봄\n",
    "    - 왠지 정신이 멀쩡했어도 풀지 못했을 것 같음\n",
    "    - 아이디어는 하나씩 살펴보면서 일단 다르면 뒤집고 절대 똑같이 맞출 수 없는 영역에서 다르면 바로 -1 리턴\n",
    "- 소요 시간 : 40분 ㅎ\n",
    "- 알고리즘 분류 : 그리디 알고리즘\n",
    "- 티어 : 실버 1"
   ]
  },
  {
   "cell_type": "code",
   "execution_count": 4,
   "metadata": {},
   "outputs": [],
   "source": [
    "import sys\n",
    "# input = sys.stdin.readline\n",
    "N, M = map(int, input().split())\n",
    "matrix = [list(map(int, list(input().rstrip()))) for _ in range(N)]\n",
    "target = [list(map(int, list(input().rstrip()))) for _ in range(N)]\n",
    "\n",
    "def turn(row, col):\n",
    "    \"\"\"row, col 기준으로 matrix 3x3 뒤집기\"\"\"\n",
    "    for i in range(3):\n",
    "        for j in range(3):\n",
    "            matrix[row+i][col+j]  = 1 - matrix[row+i][col+j]\n",
    "\n",
    "def solve():\n",
    "    cnt = 0\n",
    "    for row in range(N):\n",
    "        for col in range(M):\n",
    "            if matrix[row][col] != target[row][col]:\n",
    "                if row < N-2 and col < M-2:\n",
    "                    cnt += 1\n",
    "                    turn(row, col)\n",
    "                else:\n",
    "                    return -1\n",
    "    return cnt\n",
    "\n",
    "print(solve())"
   ]
  },
  {
   "cell_type": "code",
   "execution_count": 5,
   "metadata": {},
   "outputs": [
    {
     "data": {
      "text/plain": [
       "([[0, 0, 0, 0], [0, 0, 1, 0], [0, 0, 0, 0]],\n",
       " [[1, 0, 0, 1], [1, 0, 1, 1], [1, 0, 0, 1]])"
      ]
     },
     "execution_count": 5,
     "metadata": {},
     "output_type": "execute_result"
    }
   ],
   "source": [
    "matrix, target"
   ]
  },
  {
   "cell_type": "code",
   "execution_count": 6,
   "metadata": {},
   "outputs": [
    {
     "name": "stdout",
     "output_type": "stream",
     "text": [
      "2\n"
     ]
    }
   ],
   "source": [
    "def turn(row, col):\n",
    "    \"\"\"row, col 기준으로 matrix 3x3 뒤집기\"\"\"\n",
    "    for i in range(3):\n",
    "        for j in range(3):\n",
    "            matrix[row+i][col+j]  = 1 - matrix[row+i][col+j]\n",
    "\n",
    "def solve():\n",
    "    cnt = 0\n",
    "    for row in range(N):\n",
    "        for col in range(M):\n",
    "            if matrix[row][col] != target[row][col]:\n",
    "                if row < N-2 and col < M-2:\n",
    "                    cnt += 1\n",
    "                    turn(row, col)\n",
    "                else:\n",
    "                    return -1\n",
    "    return cnt\n",
    "\n",
    "print(solve())\n",
    "                    \n"
   ]
  },
  {
   "cell_type": "code",
   "execution_count": null,
   "metadata": {},
   "outputs": [],
   "source": []
  }
 ],
 "metadata": {
  "interpreter": {
   "hash": "f08154012ddadd8e950e6e9e035c7a7b32c136e7647e9b7c77e02eb723a8bedb"
  },
  "kernelspec": {
   "display_name": "Python 3.8.8 ('base')",
   "language": "python",
   "name": "python3"
  },
  "language_info": {
   "codemirror_mode": {
    "name": "ipython",
    "version": 3
   },
   "file_extension": ".py",
   "mimetype": "text/x-python",
   "name": "python",
   "nbconvert_exporter": "python",
   "pygments_lexer": "ipython3",
   "version": "3.8.8"
  },
  "orig_nbformat": 4
 },
 "nbformat": 4,
 "nbformat_minor": 2
}
