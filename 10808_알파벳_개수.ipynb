{
 "cells": [
  {
   "cell_type": "markdown",
   "metadata": {},
   "source": [
    "# 10808 알파벳 개수\n",
    "220120(내 생일 ><>)\n",
    "- 알고리즘 분류\n",
    "    - 구현\n",
    "    - 문자열\n",
    "- 티어 : 브론즈 2"
   ]
  },
  {
   "cell_type": "code",
   "execution_count": 1,
   "metadata": {},
   "outputs": [
    {
     "name": "stdout",
     "output_type": "stream",
     "text": [
      "1 1 0 0 1 0 0 0 0 1 1 0 0 1 2 0 0 0 0 0 0 0 0 0 0 0\n"
     ]
    }
   ],
   "source": [
    "from collections import Counter\n",
    "\n",
    "s_dic = Counter(input())\n",
    "\n",
    "ans = [str(s_dic.get(chr(97+i), 0)) for i in range(26)]\n",
    "\n",
    "print(' '.join(ans))"
   ]
  }
 ],
 "metadata": {
  "interpreter": {
   "hash": "b7b1cc53e1969a6398ea0f7a87ba5d239497c30c0a4a143b4fde6787671b1a7c"
  },
  "kernelspec": {
   "display_name": "Python 3.8.12 64-bit ('n312': conda)",
   "language": "python",
   "name": "python3"
  },
  "language_info": {
   "codemirror_mode": {
    "name": "ipython",
    "version": 3
   },
   "file_extension": ".py",
   "mimetype": "text/x-python",
   "name": "python",
   "nbconvert_exporter": "python",
   "pygments_lexer": "ipython3",
   "version": "3.8.5"
  },
  "orig_nbformat": 4
 },
 "nbformat": 4,
 "nbformat_minor": 2
}
