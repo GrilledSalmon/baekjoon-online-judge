{
 "cells": [
  {
   "cell_type": "markdown",
   "metadata": {},
   "source": [
    "# 2014 소수의 곱\n",
    "220414\n",
    "- 소감 : 새로운 기조에 따라 빠르게 풀이를 보려고 하는데... 진짜 `min_num % prime` break 부분은 이해가 안간다.... 이거 누가 생각한 거임...?\n",
    "- 알고리즘 분류\n",
    "    - 수학\n",
    "    - 자료 구조\n",
    "    - 정수론\n",
    "    - 우선순위 큐\n",
    "- 티어 : 골드 1"
   ]
  },
  {
   "cell_type": "code",
   "execution_count": 1,
   "metadata": {},
   "outputs": [
    {
     "name": "stdout",
     "output_type": "stream",
     "text": [
      "27\n"
     ]
    }
   ],
   "source": [
    "# 2014 소수의 곱\n",
    "from heapq import heappush, heappop\n",
    "\n",
    "K, N = map(int, input().split())\n",
    "primes = list(map(int, input().split()))\n",
    "\n",
    "heap = primes.copy()\n",
    "for _ in range(N):\n",
    "    min_num = heappop(heap)\n",
    "    for prime in primes:\n",
    "        new_num = prime * min_num\n",
    "        heappush(heap, new_num)\n",
    "        if not min_num % prime: # 놀랍다.. 여전히 잘 이해가지 않음..\n",
    "            break\n",
    "\n",
    "print(min_num)"
   ]
  },
  {
   "cell_type": "code",
   "execution_count": null,
   "metadata": {},
   "outputs": [],
   "source": []
  }
 ],
 "metadata": {
  "interpreter": {
   "hash": "8fac594bfae6525c0c41b4041d2d72effa188cc8ead05f81b1fab2bb098927fb"
  },
  "kernelspec": {
   "display_name": "Python 3.8.8 ('base')",
   "language": "python",
   "name": "python3"
  },
  "language_info": {
   "codemirror_mode": {
    "name": "ipython",
    "version": 3
   },
   "file_extension": ".py",
   "mimetype": "text/x-python",
   "name": "python",
   "nbconvert_exporter": "python",
   "pygments_lexer": "ipython3",
   "version": "3.8.8"
  },
  "orig_nbformat": 4
 },
 "nbformat": 4,
 "nbformat_minor": 2
}
