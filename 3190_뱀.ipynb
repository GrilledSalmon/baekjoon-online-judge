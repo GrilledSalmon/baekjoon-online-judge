{
 "cells": [
  {
   "cell_type": "markdown",
   "metadata": {},
   "source": [
    "# 3190 뱀\n",
    "220410\n",
    "- 알고리즘 분류\n",
    "    - 구현\n",
    "    - 자료 구조\n",
    "    - 시뮬레이션\n",
    "    - 덱\n",
    "    - 큐\n",
    "- 티어 : 골드 5"
   ]
  },
  {
   "cell_type": "code",
   "execution_count": 2,
   "metadata": {},
   "outputs": [
    {
     "name": "stdout",
     "output_type": "stream",
     "text": [
      "13\n"
     ]
    }
   ],
   "source": [
    "# 3190 뱀\n",
    "from collections import deque\n",
    "import sys\n",
    "# input = sys.stdin.readline\n",
    "N, K = int(input()), int(input())\n",
    "apple_coords = {tuple(map(int, input().split())) for _ in range(K)}\n",
    "L = int(input())\n",
    "move_order = deque()\n",
    "for _ in range(L):\n",
    "    X, C = input().rstrip().split()\n",
    "    move_order.append((int(X), C))\n",
    "\n",
    "def update_direction(time, direction):\n",
    "    if move_order:\n",
    "        order_time, now_order = move_order[0]\n",
    "        if time == order_time:\n",
    "            move_order.popleft() # 사용한 명령 제거\n",
    "            if now_order == 'D': # 오른쪽 꺾기\n",
    "                direction[0], direction[1] = direction[1], -direction[0]\n",
    "            else: # 왼쪽 꺾기\n",
    "                direction[0], direction[1] = -direction[1], direction[0]\n",
    "\n",
    "def end_condition(next_head_coord):\n",
    "    row, col = next_head_coord\n",
    "    if not (1<=row<=N and 1<=col<=N):\n",
    "        return True\n",
    "    if next_head_coord in snake_body_coord:\n",
    "        return True\n",
    "    return False\n",
    "\n",
    "def move_snake(snake_body_coord, direction):\n",
    "    \"\"\"direction에 맞게 움직여줌\"\"\"\n",
    "    global time\n",
    "    now_head_row, now_head_col = snake_body_coord[-1]\n",
    "\n",
    "    next_head_row = now_head_row - direction[1]\n",
    "    next_head_col = now_head_col + direction[0]\n",
    "    next_head_coord = next_head_row, next_head_col\n",
    "\n",
    "    time += 1\n",
    "\n",
    "    return next_head_coord\n",
    "\n",
    "\n",
    "snake_body_coord = deque([(1, 1)]) # 뱀의 몸\n",
    "time = 0\n",
    "direction = [1, 0] # 오른쪽 방향 벡터\n",
    "while True:\n",
    "    update_direction(time, direction)\n",
    "    next_head_coord = move_snake(snake_body_coord, direction)\n",
    "    \n",
    "    if end_condition(next_head_coord):\n",
    "        break\n",
    "    \n",
    "    snake_body_coord.append(next_head_coord) # 새 머리 위치 업데이트\n",
    "\n",
    "    if (next_head_coord) in apple_coords: # 사과 먹었는지에 따라 상태 처리\n",
    "        apple_coords.remove(next_head_coord)\n",
    "    else:\n",
    "        snake_body_coord.popleft()\n",
    "\n",
    "print(time)"
   ]
  }
 ],
 "metadata": {
  "interpreter": {
   "hash": "8fac594bfae6525c0c41b4041d2d72effa188cc8ead05f81b1fab2bb098927fb"
  },
  "kernelspec": {
   "display_name": "Python 3.8.8 ('base')",
   "language": "python",
   "name": "python3"
  },
  "language_info": {
   "codemirror_mode": {
    "name": "ipython",
    "version": 3
   },
   "file_extension": ".py",
   "mimetype": "text/x-python",
   "name": "python",
   "nbconvert_exporter": "python",
   "pygments_lexer": "ipython3",
   "version": "3.8.8"
  },
  "orig_nbformat": 4
 },
 "nbformat": 4,
 "nbformat_minor": 2
}
