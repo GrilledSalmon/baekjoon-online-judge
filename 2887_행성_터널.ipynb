{
 "cells": [
  {
   "cell_type": "markdown",
   "metadata": {},
   "source": [
    "# 2887 행성 터널\n",
    "220716\n",
    "- 소감\n",
    "    - 예제가 맞아서 그냥 한 번 제출해봤는데 맞았네..? 왜 맞았는지 좀 헷갈림..\n",
    "    - 방법은 x, y, z 축에 대해 각각 정렬한 후에 양 옆에 붙어 있는(즉, 가장 가까운) 행성들끼리 연결해보는 방식으로 했음\n",
    "    - 다만 이 방식이 어떻게 항상 연결가능함을 보장하는지 잘 모르겠음.\n",
    "- 소요 시간 : 54분\n",
    "- 알고리즘 분류 : 그래프 이론, 정렬, 최소 스패닝 트리\n",
    "- 티어 : 플레티넘 5"
   ]
  },
  {
   "cell_type": "code",
   "execution_count": 1,
   "metadata": {},
   "outputs": [],
   "source": [
    "import sys\n",
    "# input = sys.stdin.readline\n",
    "\n",
    "N = int(input())\n",
    "planets = [tuple(map(int, input().split())) for _ in range(N)]\n",
    "\n",
    "group = list(range(N))\n",
    "def find(a):\n",
    "    if group[a] != a:\n",
    "        group[a] = find(group[a])\n",
    "    return group[a]\n",
    "\n",
    "def union(a, b):\n",
    "    group_a, group_b = find(a), find(b)\n",
    "    if group_a > group_b:\n",
    "        group_a, group_b = group_b, group_a\n",
    "    group[group_b] = group_a\n",
    "\n",
    "sort_by_x = sorted(enumerate(planets), key=lambda x:x[1][0])\n",
    "sort_by_y = sorted(enumerate(planets), key=lambda x:x[1][1])\n",
    "sort_by_z = sorted(enumerate(planets), key=lambda x:x[1][2])\n",
    "\n",
    "candidates = []\n",
    "for xyz, li in enumerate((sort_by_x, sort_by_y, sort_by_z)):\n",
    "    for i in range(N-1):\n",
    "        dist = abs(li[i][1][xyz] - li[i+1][1][xyz])\n",
    "        planet_num = (li[i][0], li[i+1][0])\n",
    "        candidates.append((dist, planet_num)) # 거리, 두 행성 번호\n",
    "candidates.sort()\n",
    "\n",
    "cnt = 0\n",
    "cost = 0\n",
    "for dist, (planet_a, planet_b) in candidates:\n",
    "    group_a, group_b = find(planet_a), find(planet_b)\n",
    "    if group_a != group_b:\n",
    "        union(group_a, group_b)\n",
    "        cost += dist\n",
    "        cnt += 1\n",
    "        if cnt == N-1:\n",
    "            break\n",
    "\n",
    "print(cost)"
   ]
  },
  {
   "cell_type": "code",
   "execution_count": 2,
   "metadata": {},
   "outputs": [
    {
     "data": {
      "text/plain": [
       "(5, [(11, -15, -15), (14, -5, -15), (-1, -1, -5), (10, -4, -1), (19, -4, 19)])"
      ]
     },
     "execution_count": 2,
     "metadata": {},
     "output_type": "execute_result"
    }
   ],
   "source": [
    "N, planets"
   ]
  },
  {
   "cell_type": "code",
   "execution_count": 20,
   "metadata": {},
   "outputs": [
    {
     "name": "stdout",
     "output_type": "stream",
     "text": [
      "4\n"
     ]
    }
   ],
   "source": [
    "from heapq import heappush, heappop, heapify\n",
    "group = list(range(N))\n",
    "def find(a):\n",
    "    if group[a] != a:\n",
    "        group[a] = find(group[a])\n",
    "    return group[a]\n",
    "\n",
    "def union(a, b):\n",
    "    group_a, group_b = find(a), find(b)\n",
    "    if group_a > group_b:\n",
    "        group_a, group_b = group_b, group_a\n",
    "    group[group_b] = group_a\n",
    "\n",
    "sort_by_x = sorted(enumerate(planets), key=lambda x:x[1][0])\n",
    "sort_by_y = sorted(enumerate(planets), key=lambda x:x[1][1])\n",
    "sort_by_z = sorted(enumerate(planets), key=lambda x:x[1][2])\n",
    "\n",
    "candidates = []\n",
    "for xyz, li in enumerate((sort_by_x, sort_by_y, sort_by_z)):\n",
    "    for i in range(N-1):\n",
    "        dist = abs(li[i][1][xyz] - li[i+1][1][xyz])\n",
    "        planet_num = (li[i][0], li[i+1][0])\n",
    "        candidates.append((dist, planet_num, xyz, 1)) # 거리, 두 행성 번호, 어떤 축에 대한 것인지, 몇 번째로 가까운 거리인지\n",
    "heapify(candidates)\n",
    "\n",
    "\n",
    "# def make_candidate(planet_a, planet_b, xyz, lev):\n",
    "\n",
    "\n",
    "cnt = 0\n",
    "cost = 0\n",
    "while cnt != N-1:\n",
    "    dist, (planet_a, planet_b), xyz, lev = heappop(candidates)\n",
    "    group_a, group_b = find(planet_a), find(planet_b)\n",
    "    if group_a != group_b:\n",
    "        union(group_a, group_b)\n",
    "        cost += dist\n",
    "        cnt += 1\n",
    "    # else:\n",
    "    #     make_candidate(planet_a, planet_b, xyz, lev)\n",
    "\n",
    "print(cost)"
   ]
  },
  {
   "cell_type": "code",
   "execution_count": 19,
   "metadata": {},
   "outputs": [
    {
     "data": {
      "text/plain": [
       "4"
      ]
     },
     "execution_count": 19,
     "metadata": {},
     "output_type": "execute_result"
    }
   ],
   "source": [
    "cnt"
   ]
  },
  {
   "cell_type": "code",
   "execution_count": 16,
   "metadata": {},
   "outputs": [
    {
     "data": {
      "text/plain": [
       "((0, (0, 1), 2, 1), 0, 0, 1, 2, 1)"
      ]
     },
     "execution_count": 16,
     "metadata": {},
     "output_type": "execute_result"
    }
   ],
   "source": [
    "a, (b,c), d, e = candidates[0]\n",
    "candidates[0], a, b, c, d, e\n"
   ]
  },
  {
   "cell_type": "code",
   "execution_count": 7,
   "metadata": {},
   "outputs": [
    {
     "data": {
      "text/plain": [
       "([(2, (-1, -1, -5)),\n",
       "  (3, (10, -4, -1)),\n",
       "  (0, (11, -15, -15)),\n",
       "  (1, (14, -5, -15)),\n",
       "  (4, (19, -4, 19))],\n",
       " [(0, (11, -15, -15)),\n",
       "  (1, (14, -5, -15)),\n",
       "  (3, (10, -4, -1)),\n",
       "  (4, (19, -4, 19)),\n",
       "  (2, (-1, -1, -5))],\n",
       " [(0, (11, -15, -15)),\n",
       "  (1, (14, -5, -15)),\n",
       "  (2, (-1, -1, -5)),\n",
       "  (3, (10, -4, -1)),\n",
       "  (4, (19, -4, 19))])"
      ]
     },
     "execution_count": 7,
     "metadata": {},
     "output_type": "execute_result"
    }
   ],
   "source": [
    "sort_by_x, sort_by_y, sort_by_z"
   ]
  },
  {
   "cell_type": "code",
   "execution_count": null,
   "metadata": {},
   "outputs": [],
   "source": []
  }
 ],
 "metadata": {
  "kernelspec": {
   "display_name": "Python 3.8.8 ('base')",
   "language": "python",
   "name": "python3"
  },
  "language_info": {
   "codemirror_mode": {
    "name": "ipython",
    "version": 3
   },
   "file_extension": ".py",
   "mimetype": "text/x-python",
   "name": "python",
   "nbconvert_exporter": "python",
   "pygments_lexer": "ipython3",
   "version": "3.8.8"
  },
  "orig_nbformat": 4,
  "vscode": {
   "interpreter": {
    "hash": "f08154012ddadd8e950e6e9e035c7a7b32c136e7647e9b7c77e02eb723a8bedb"
   }
  }
 },
 "nbformat": 4,
 "nbformat_minor": 2
}
