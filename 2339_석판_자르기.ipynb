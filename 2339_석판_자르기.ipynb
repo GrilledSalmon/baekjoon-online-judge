{
 "cells": [
  {
   "cell_type": "markdown",
   "metadata": {},
   "source": [
    "# 2339 석판 자르기\n",
    "220707\n",
    "- 소감\n",
    "    - 결정의 수가 15개 이하이고 석판의 크기가 작아 모든 경우의 수에 대해 백트래킹과 분할정복을 접모개 풀었습니다.\n",
    "    - 완전 구현 문제 같다는 느낌이 드네여\n",
    "    - 함수화를 잘 해놓은 덕분에 시간은 좀 걸렸지만 많이 헤매지는 않았던 것 같습니다.\n",
    "- 소요 시간 : 1시간\n",
    "- 알고리즘 분류 : 분할 정복\n",
    "- 티어 : 골드 1"
   ]
  },
  {
   "cell_type": "code",
   "execution_count": 1,
   "metadata": {},
   "outputs": [],
   "source": [
    "# 각 조각에는 불순물이 없도록\n",
    "# 보석 결정체도 단 하나씩만 포함\n",
    "# 가로 또는 세로로(결을 따라서만) 자를 수 있다\n",
    "# 연속으로 같은 방향으로 자르면 안 된다.\n",
    "# 모두 몇 가지 경우의 수가 있겠는가?\n",
    "import sys\n",
    "input = sys.stdin.readline\n",
    "\n",
    "N = int(input())\n",
    "suk = [list(map(int, input().split())) for _ in range(N)]\n",
    "\n",
    "def find_impure_and_jewel(sukpan) -> list:\n",
    "    \"\"\"sukpan에서 불순물이랑 결정체 찾아줌\"\"\"\n",
    "    l_r = len(sukpan)\n",
    "    l_c = len(sukpan[0])\n",
    "    impures = []\n",
    "    jewels = []\n",
    "    for row in range(l_r):\n",
    "        for col in range(l_c):\n",
    "            val = sukpan[row][col]\n",
    "            if val == 1:\n",
    "                impures.append((row,col))\n",
    "            elif val == 2:\n",
    "                jewels.append((row, col))\n",
    "\n",
    "    return impures, jewels\n",
    "\n",
    "def check(sukpan, row, col, direction):\n",
    "    \"\"\"row, col의 불순물을 자를 때 거기에 결정체가 있는지 확인\"\"\"\n",
    "    if direction: # 가로\n",
    "        for v in sukpan[row]:\n",
    "            if v == 2:\n",
    "                return False\n",
    "    else:\n",
    "        for i in range(len(sukpan)):\n",
    "            if sukpan[i][col] == 2:\n",
    "                return False\n",
    "    return True\n",
    "\n",
    "def cut(sukpan, row, col, direction):\n",
    "    \"\"\"row, col의 불순물을 기준으로 direction 방향으로 자름\"\"\"\n",
    "    suk_1, suk_2 = [], []\n",
    "    if direction: # 가로\n",
    "        for r in range(row):\n",
    "            suk_1.append(sukpan[r].copy())\n",
    "        for r in range(row+1, len(sukpan)):\n",
    "            suk_2.append(sukpan[r].copy())\n",
    "    else:\n",
    "        for line in sukpan:\n",
    "            suk_1.append(line[:col])            \n",
    "            suk_2.append(line[col+1:])\n",
    "    return suk_1,suk_2\n",
    "\n",
    "def divide_n_conquer(sukpan=suk, prev_dir = 0):\n",
    "    \"\"\"sukpan이라는 석판 자르기 시행\"\"\"\n",
    "    impures, jewels = find_impure_and_jewel(sukpan)\n",
    "    if not impures: # 불순물이 없는 경우\n",
    "        if len(jewels) in (0, 1):\n",
    "            return True\n",
    "        else: # 자르기 실패\n",
    "            return False\n",
    "    \n",
    "    how_many_succ = 0\n",
    "    now_dir = not prev_dir\n",
    "    for row, col in impures:\n",
    "        if check(sukpan, row, col, now_dir):\n",
    "            suk_1, suk_2 = cut(sukpan, row, col, now_dir)\n",
    "            if not(suk_1 and suk_2): # 둘 중 하나라도 비어 있다면\n",
    "                continue\n",
    "            res_1 = divide_n_conquer(suk_1, now_dir)\n",
    "            res_2 = divide_n_conquer(suk_2, now_dir)\n",
    "            how_many_succ += res_1*res_2\n",
    "\n",
    "    return how_many_succ\n",
    "\n",
    "res = divide_n_conquer(suk, 0) + divide_n_conquer(suk, 1)\n",
    "if res:\n",
    "    print(res)\n",
    "else:\n",
    "    print(-1)"
   ]
  },
  {
   "cell_type": "code",
   "execution_count": 2,
   "metadata": {},
   "outputs": [
    {
     "data": {
      "text/plain": [
       "[[0, 0, 0, 0, 0, 2, 0, 0],\n",
       " [0, 0, 0, 0, 0, 0, 1, 0],\n",
       " [0, 0, 2, 1, 0, 0, 2, 0],\n",
       " [0, 1, 0, 0, 0, 0, 0, 0],\n",
       " [0, 0, 0, 0, 0, 0, 0, 0],\n",
       " [0, 0, 0, 2, 1, 0, 0, 0],\n",
       " [0, 0, 0, 0, 0, 0, 2, 0],\n",
       " [0, 0, 0, 0, 0, 0, 0, 0]]"
      ]
     },
     "execution_count": 2,
     "metadata": {},
     "output_type": "execute_result"
    }
   ],
   "source": [
    "suk"
   ]
  },
  {
   "cell_type": "code",
   "execution_count": 19,
   "metadata": {},
   "outputs": [
    {
     "name": "stdout",
     "output_type": "stream",
     "text": [
      "1\n"
     ]
    }
   ],
   "source": [
    "def find_impure_and_jewel(sukpan) -> list:\n",
    "    \"\"\"sukpan에서 불순물이랑 결정체 찾아줌\"\"\"\n",
    "    l_r = len(sukpan)\n",
    "    l_c = len(sukpan[0])\n",
    "    impures = []\n",
    "    jewels = []\n",
    "    for row in range(l_r):\n",
    "        for col in range(l_c):\n",
    "            val = sukpan[row][col]\n",
    "            if val == 1:\n",
    "                impures.append((row,col))\n",
    "            elif val == 2:\n",
    "                jewels.append((row, col))\n",
    "\n",
    "    return impures, jewels\n",
    "\n",
    "def check(sukpan, row, col, direction):\n",
    "    \"\"\"row, col의 불순물을 자를 때 거기에 결정체가 있는지 확인\"\"\"\n",
    "    if direction: # 가로\n",
    "        for v in sukpan[row]:\n",
    "            if v == 2:\n",
    "                return False\n",
    "    else:\n",
    "        for i in range(len(sukpan)):\n",
    "            if sukpan[i][col] == 2:\n",
    "                return False\n",
    "    return True\n",
    "\n",
    "def cut(sukpan, row, col, direction):\n",
    "    \"\"\"row, col의 불순물을 기준으로 direction 방향으로 자름\"\"\"\n",
    "    suk_1, suk_2 = [], []\n",
    "    if direction: # 가로\n",
    "        for r in range(row):\n",
    "            suk_1.append(sukpan[r].copy())\n",
    "        for r in range(row+1, len(sukpan)):\n",
    "            suk_2.append(sukpan[r].copy())\n",
    "    else:\n",
    "        for line in sukpan:\n",
    "            suk_1.append(line[:col])            \n",
    "            suk_2.append(line[col+1:])\n",
    "    return suk_1,suk_2\n",
    "\n",
    "    \n",
    "\n",
    "def divide_n_conquer(sukpan=suk, prev_dir = 0):\n",
    "    \"\"\"sukpan이라는 석판 자르기 시행\"\"\"\n",
    "    impures, jewels = find_impure_and_jewel(sukpan)\n",
    "    if not impures: # 불순물이 없는 경우\n",
    "        if len(jewels) in (0, 1):\n",
    "            return True\n",
    "        else: # 자르기 실패\n",
    "            return False\n",
    "    \n",
    "    how_many_succ = 0\n",
    "    now_dir = not prev_dir\n",
    "    for row, col in impures:\n",
    "        if check(sukpan, row, col, now_dir):\n",
    "            suk_1, suk_2 = cut(sukpan, row, col, now_dir)\n",
    "            res_1 = divide_n_conquer(suk_1, now_dir)\n",
    "            res_2 = divide_n_conquer(suk_2, now_dir)\n",
    "            how_many_succ += res_1*res_2\n",
    "\n",
    "    return how_many_succ\n",
    "\n",
    "print(divide_n_conquer(suk, 0) + divide_n_conquer(suk, 1))"
   ]
  },
  {
   "cell_type": "code",
   "execution_count": 15,
   "metadata": {},
   "outputs": [
    {
     "data": {
      "text/plain": [
       "([[0, 0], [0, 0], [0, 0], [0, 1], [0, 0], [0, 0], [0, 0], [0, 0]],\n",
       " [[0, 0, 2, 0, 0],\n",
       "  [0, 0, 0, 1, 0],\n",
       "  [1, 0, 0, 2, 0],\n",
       "  [0, 0, 0, 0, 0],\n",
       "  [0, 0, 0, 0, 0],\n",
       "  [2, 1, 0, 0, 0],\n",
       "  [0, 0, 0, 2, 0],\n",
       "  [0, 0, 0, 0, 0]])"
      ]
     },
     "execution_count": 15,
     "metadata": {},
     "output_type": "execute_result"
    }
   ],
   "source": []
  },
  {
   "cell_type": "code",
   "execution_count": null,
   "metadata": {},
   "outputs": [],
   "source": []
  },
  {
   "cell_type": "code",
   "execution_count": null,
   "metadata": {},
   "outputs": [],
   "source": [
    "suk = [[0, 0, 0, 0, 0, 2, 0, 0],\n",
    " [0, 0, 0, 0, 0, 0, 1, 0],\n",
    " [0, 0, 2, 1, 0, 0, 2, 0],\n",
    " [0, 1, 0, 0, 0, 0, 0, 0],\n",
    " [0, 0, 0, 0, 0, 0, 0, 0],\n",
    " [0, 0, 0, 2, 1, 0, 0, 0],\n",
    " [0, 0, 0, 0, 0, 0, 2, 0],\n",
    " [0, 0, 0, 0, 0, 0, 0, 0]]"
   ]
  }
 ],
 "metadata": {
  "kernelspec": {
   "display_name": "Python 3.8.8 ('base')",
   "language": "python",
   "name": "python3"
  },
  "language_info": {
   "codemirror_mode": {
    "name": "ipython",
    "version": 3
   },
   "file_extension": ".py",
   "mimetype": "text/x-python",
   "name": "python",
   "nbconvert_exporter": "python",
   "pygments_lexer": "ipython3",
   "version": "3.8.8"
  },
  "orig_nbformat": 4,
  "vscode": {
   "interpreter": {
    "hash": "f08154012ddadd8e950e6e9e035c7a7b32c136e7647e9b7c77e02eb723a8bedb"
   }
  }
 },
 "nbformat": 4,
 "nbformat_minor": 2
}
