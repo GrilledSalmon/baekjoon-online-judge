{
 "cells": [
  {
   "cell_type": "markdown",
   "metadata": {},
   "source": [
    "# 11724 연결 요소의 개수\n",
    "220129\n",
    "- 소감 : 맞긴 맞았는데, 다른 사람들 속도 빠른 풀이 보니까 union find로 풀었네. 나는 BFS로 품.\n",
    "- 알고리즘 분류\n",
    "    - 그래프 이론\n",
    "    - 그래프 탐색\n",
    "    - 너비 우선 탐색\n",
    "    - 깊이 우선 탐색\n",
    "- 티어 : 실버 2"
   ]
  },
  {
   "cell_type": "code",
   "execution_count": 14,
   "metadata": {},
   "outputs": [
    {
     "name": "stdout",
     "output_type": "stream",
     "text": [
      "1\n"
     ]
    }
   ],
   "source": [
    "from collections import deque\n",
    "import sys\n",
    "# input = sys.stdin.readline\n",
    "\n",
    "N, M = map(int, input().split())\n",
    "adj_list = [[] for _ in range(N+1)]\n",
    "for _ in range(M):\n",
    "    u, v = map(int, input().split())\n",
    "    adj_list[u].append(v)\n",
    "    adj_list[v].append(u)\n",
    "\n",
    "visited = [0]*(N+1)\n",
    "ans = -1 # 0때문\n",
    "queue = deque()\n",
    "\n",
    "for i, visit in enumerate(visited):\n",
    "    if not visit:\n",
    "        ans += 1\n",
    "        visited[i] = 1 # 방문 표시\n",
    "        queue.append(i)\n",
    "        while queue:\n",
    "            now_node = queue.popleft()\n",
    "            for adj_node in adj_list[now_node]:\n",
    "                if not visited[adj_node]: # 인접 노드를 방문한 적이 없다면\n",
    "                    visited[adj_node] = 1\n",
    "                    queue.append(adj_node)\n",
    "\n",
    "print(ans)"
   ]
  },
  {
   "cell_type": "code",
   "execution_count": 8,
   "metadata": {},
   "outputs": [
    {
     "data": {
      "text/plain": [
       "[[], [2, 5], [1, 5], [4], [3, 6], [2, 1], [4]]"
      ]
     },
     "execution_count": 8,
     "metadata": {},
     "output_type": "execute_result"
    }
   ],
   "source": [
    "adj_list"
   ]
  },
  {
   "cell_type": "code",
   "execution_count": 11,
   "metadata": {},
   "outputs": [
    {
     "name": "stdout",
     "output_type": "stream",
     "text": [
      "2\n"
     ]
    }
   ],
   "source": [
    "from collections import deque\n",
    "visited = [0]*(N+1)\n",
    "ans = -1 # 0때문\n",
    "queue = deque()\n",
    "\n",
    "for i, visit in enumerate(visited):\n",
    "    if not visit:\n",
    "        ans += 1\n",
    "        visited[i] = 1 # 방문 표시\n",
    "        queue.append(i)\n",
    "        while queue:\n",
    "            now_node = queue.popleft()\n",
    "            for adj_node in adj_list[now_node]:\n",
    "                if not visited[adj_node]: # 인접 노드를 방문한 적이 없다면\n",
    "                    visited[adj_node] = 1\n",
    "                    queue.append(adj_node)\n",
    "\n",
    "print(ans)"
   ]
  },
  {
   "cell_type": "code",
   "execution_count": null,
   "metadata": {},
   "outputs": [],
   "source": []
  }
 ],
 "metadata": {
  "interpreter": {
   "hash": "c798a043d5b26db4ea8dc684fe25ec244835432adc5539bce2de618403b1d63c"
  },
  "kernelspec": {
   "display_name": "Python 3.8.5 64-bit ('base': conda)",
   "language": "python",
   "name": "python3"
  },
  "language_info": {
   "codemirror_mode": {
    "name": "ipython",
    "version": 3
   },
   "file_extension": ".py",
   "mimetype": "text/x-python",
   "name": "python",
   "nbconvert_exporter": "python",
   "pygments_lexer": "ipython3",
   "version": "3.8.5"
  },
  "orig_nbformat": 4
 },
 "nbformat": 4,
 "nbformat_minor": 2
}
