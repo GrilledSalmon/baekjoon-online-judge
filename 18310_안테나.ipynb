{
 "cells": [
  {
   "cell_type": "markdown",
   "metadata": {},
   "source": [
    "# 18310 안테나\n",
    "220713\n",
    "- 소감\n",
    "    - 왤케 어렵나;;; 나만무 할라고 쉬운 거 골랐는데;;\n",
    "    - 좀 졸리고 집중 안 돼서 오래 걸리긴 했는데, 그렇다 쳐도 쉽진 않은 것 같다.\n",
    "    - 풀다가 한 번 졸고 두 번 정도 잘못 생각했음\n",
    "    - 거리가 증가하는 꼴이 아니라서 이분탐색은 쓸 수 없다는 걸 구현하다가 알았음\n",
    "    - 그 외에 좌표가 겹쳐서 실수할만한 요소가 좀 있었던 것 같다.\n",
    "- 소요 시간 : 1시간\n",
    "- 알고리즘 분류 : 수학, 그리디 알고리즘, 정렬\n",
    "- 티어 : 실버 3"
   ]
  },
  {
   "cell_type": "code",
   "execution_count": null,
   "metadata": {},
   "outputs": [],
   "source": [
    "from collections import Counter\n",
    "import sys\n",
    "N = int(input())\n",
    "houses = list(map(int, input().split()))\n",
    "houses_cnt = list(Counter(houses).items())\n",
    "houses_cnt.sort(key = lambda x: x[0])\n",
    "\n",
    "min_sum = sys.maxsize\n",
    "\n",
    "left_sum = 0\n",
    "right_sum = sum(houses)\n",
    "lefts = 0\n",
    "rights = N\n",
    "prev = 0\n",
    "ans = None\n",
    "for x, cnt in houses_cnt:\n",
    "    left_sum += lefts * (x - prev)\n",
    "    right_sum -= rights * (x - prev)\n",
    "    summ = left_sum + right_sum\n",
    "    \n",
    "    if summ < min_sum:\n",
    "        min_sum = summ\n",
    "        ans = x\n",
    "    else:\n",
    "        break\n",
    "    lefts += cnt\n",
    "    rights -= cnt\n",
    "    prev = x\n",
    "\n",
    "print(ans)\n"
   ]
  }
 ],
 "metadata": {
  "kernelspec": {
   "display_name": "Python 3.8.8 ('base')",
   "language": "python",
   "name": "python3"
  },
  "language_info": {
   "name": "python",
   "version": "3.8.8"
  },
  "orig_nbformat": 4,
  "vscode": {
   "interpreter": {
    "hash": "f08154012ddadd8e950e6e9e035c7a7b32c136e7647e9b7c77e02eb723a8bedb"
   }
  }
 },
 "nbformat": 4,
 "nbformat_minor": 2
}
