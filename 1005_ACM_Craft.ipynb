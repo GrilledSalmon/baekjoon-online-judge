{
 "cells": [
  {
   "cell_type": "markdown",
   "metadata": {},
   "source": [
    "# 1005 ACM_Craft\n",
    "220607\n",
    "- 소감\n",
    "    - 아주 좋은 문제라고 생각합니다. 그리고 티어가 살짝 저평가 되어 있다고 생각합니다.\n",
    "    - 1005번이라 소싯적 한 번 봤다가 '이런 문제는 어떻게 풀지'하고 넘어갔는데, 이렇게 풀게되니 기분이 좋네유\n",
    "    - 첫 시도는 위상정렬로 접근했다가 잘못된 것을 알고, 최장경로 다익스트라를 했다가 결국엔 다시 위상정렬에 힙을 적용해 문제를 해결했습니다.\n",
    "- 소요 시간 : 1시간 22분\n",
    "- 알고리즘 분류 : 다이나믹 프로그래밍, 그래프 이론, 위상 정렬\n",
    "- 티어 : 골드 3"
   ]
  },
  {
   "cell_type": "code",
   "execution_count": null,
   "metadata": {},
   "outputs": [],
   "source": [
    "# 매 게임 시작 시 건물을 짓는 순서가 주어짐\n",
    "# 건물을 건설하는 데 걸리는 시간이 있음\n",
    "# 건물 개수 N(1~N), 건설 순서 규칙 개수 K, 걸리는 시간 D\n",
    "from collections import deque\n",
    "from heapq import heappop, heappush\n",
    "import sys\n",
    "# input = sys.stdin.readline\n",
    "\n",
    "def solve():\n",
    "    N, K = map(int, input().split())\n",
    "    D = list(map(int, input().split()))\n",
    "    adj_list = [[] for _ in range(N+1)]\n",
    "    in_degree = [0]*(N+1)\n",
    "    for _ in range(K):\n",
    "        X, Y = map(int, input().split())\n",
    "        adj_list[X].append(Y)\n",
    "        in_degree[Y] += 1\n",
    "    W = int(input())\n",
    "    \n",
    "    heap = []\n",
    "    for node in range(1, N+1):\n",
    "        if in_degree[node] == 0:\n",
    "            heappush(heap, (D[node-1], node))\n",
    "\n",
    "    tot_time = 0\n",
    "    while heap:\n",
    "        end_time, now_node = heappop(heap)\n",
    "        if now_node == W:\n",
    "            tot_time = end_time\n",
    "            print(tot_time)\n",
    "            return \n",
    "        # print(now_node, end_time, end='///')\n",
    "        for adj_node in adj_list[now_node]:\n",
    "            in_degree[adj_node] -= 1\n",
    "            if in_degree[adj_node] == 0:\n",
    "                heappush(heap, (end_time+D[adj_node-1], adj_node))\n",
    "\n",
    "T = int(input())\n",
    "for _ in range(T):\n",
    "    solve()"
   ]
  },
  {
   "cell_type": "code",
   "execution_count": null,
   "metadata": {},
   "outputs": [],
   "source": [
    "# 매 게임 시작 시 건물을 짓는 순서가 주어짐\n",
    "# 건물을 건설하는 데 걸리는 시간이 있음\n",
    "# 건물 개수 N(1~N), 건설 순서 규칙 개수 K, 걸리는 시간 D\n",
    "from collections import deque\n",
    "import sys\n",
    "input = sys.stdin.readline\n",
    "\n",
    "def solve():\n",
    "    N, K = map(int, input().split())\n",
    "    D = list(map(int, input().split()))\n",
    "    adj_list = [[] for _ in range(N+1)]\n",
    "    in_degree = [0]*(N+1)\n",
    "    for _ in range(K):\n",
    "        X, Y = map(int, input().split())\n",
    "        adj_list[X].append(Y)\n",
    "        in_degree[Y] += 1\n",
    "    W = int(input())\n",
    "    \n",
    "    queue = deque()\n",
    "    for node in range(1, N+1):\n",
    "        if in_degree[node] == 0:\n",
    "            queue.append(node)\n",
    "\n",
    "    tot_time = 0\n",
    "    while queue:\n",
    "        max_time = 0\n",
    "        for _ in range(len(queue)):\n",
    "            now_node = queue.popleft()\n",
    "            if now_node == K:\n",
    "                tot_time += D[now_node-1]\n",
    "                print(tot_time)\n",
    "                return \n",
    "            max_time = max(max_time, D[now_node-1])\n",
    "            for adj_node in adj_list[now_node]:\n",
    "                in_degree[adj_node] -= 1\n",
    "                if in_degree[adj_node] == 0:\n",
    "                    queue.append(adj_node)\n",
    "        tot_time += max_time\n",
    "\n",
    "T = int(input())\n",
    "for _ in range(T):\n",
    "    solve()"
   ]
  },
  {
   "cell_type": "code",
   "execution_count": 12,
   "metadata": {},
   "outputs": [],
   "source": [
    "N, K = map(int, input().split())\n",
    "D = list(map(int, input().split()))\n",
    "adj_list = [[] for _ in range(N+1)]\n",
    "in_degree = [0]*(N+1)\n",
    "for _ in range(K):\n",
    "    X, Y = map(int, input().split())\n",
    "    adj_list[X].append(Y)\n",
    "    in_degree[Y] += 1\n",
    "W = int(input())"
   ]
  },
  {
   "cell_type": "code",
   "execution_count": 7,
   "metadata": {},
   "outputs": [
    {
     "data": {
      "text/plain": [
       "([[], [2, 3], [4], [4], []], [0, 0, 1, 1, 2], 4, 4, [10, 1, 100, 10], 4)"
      ]
     },
     "execution_count": 7,
     "metadata": {},
     "output_type": "execute_result"
    }
   ],
   "source": [
    "adj_list, in_degree, N, K, D, W"
   ]
  },
  {
   "cell_type": "code",
   "execution_count": 13,
   "metadata": {},
   "outputs": [
    {
     "name": "stdout",
     "output_type": "stream",
     "text": [
      "5\n"
     ]
    }
   ],
   "source": [
    "from collections import deque\n",
    "def solve():\n",
    "    queue = deque()\n",
    "    for node in range(1, N+1):\n",
    "        if in_degree[node] == 0:\n",
    "            queue.append(node)\n",
    "\n",
    "    tot_time = 0\n",
    "    while queue:\n",
    "        max_time = 0\n",
    "        for _ in range(len(queue)):\n",
    "            now_node = queue.popleft()\n",
    "            if now_node == K:\n",
    "                tot_time += D[now_node-1]\n",
    "                print(tot_time)\n",
    "                return \n",
    "            max_time = max(max_time, D[now_node-1])\n",
    "            for adj_node in adj_list[now_node]:\n",
    "                in_degree[adj_node] -= 1\n",
    "                if in_degree[adj_node] == 0:\n",
    "                    queue.append(adj_node)\n",
    "        tot_time += max_time\n",
    "\n",
    "solve()"
   ]
  },
  {
   "cell_type": "code",
   "execution_count": 14,
   "metadata": {},
   "outputs": [],
   "source": [
    "N, K = map(int, input().split())\n",
    "D = list(map(int, input().split()))\n",
    "adj_list_rev = [[] for _ in range(N+1)]\n",
    "for _ in range(K):\n",
    "    X, Y = map(int, input().split())\n",
    "    adj_list_rev[Y].append(X)\n",
    "W = int(input())"
   ]
  },
  {
   "cell_type": "code",
   "execution_count": 24,
   "metadata": {},
   "outputs": [
    {
     "data": {
      "text/plain": [
       "([[], [2], [3], []], 3, 2, [1, 2, 3], 1)"
      ]
     },
     "execution_count": 24,
     "metadata": {},
     "output_type": "execute_result"
    }
   ],
   "source": [
    "adj_list_rev, N, K, D, W"
   ]
  },
  {
   "cell_type": "code",
   "execution_count": 28,
   "metadata": {},
   "outputs": [
    {
     "name": "stdout",
     "output_type": "stream",
     "text": [
      "3 2\n",
      "6 3\n",
      "6\n"
     ]
    }
   ],
   "source": [
    "from heapq import heappop, heappush\n",
    "heap = [(-D[W-1], W)] # W에서 시작\n",
    "dist = [0]*(N+1)\n",
    "dist[W] = D[W-1]\n",
    "complete = [0]*(N+1)\n",
    "while heap:\n",
    "    now_dist, now_node = heappop(heap)\n",
    "    now_dist = -now_dist\n",
    "    if not complete[now_node]:\n",
    "        complete[now_node] = 1\n",
    "        for adj_node in adj_list_rev[now_node]:\n",
    "            new_dist = D[adj_node-1] + now_dist\n",
    "            if new_dist > dist[adj_node]:\n",
    "                dist[adj_node] = new_dist\n",
    "                heappush(heap, (-new_dist, adj_node))\n",
    "\n",
    "print(max(dist))\n"
   ]
  },
  {
   "cell_type": "code",
   "execution_count": 22,
   "metadata": {},
   "outputs": [
    {
     "data": {
      "text/plain": [
       "[0, 0, 2, 5]"
      ]
     },
     "execution_count": 22,
     "metadata": {},
     "output_type": "execute_result"
    }
   ],
   "source": [
    "dist"
   ]
  },
  {
   "cell_type": "code",
   "execution_count": null,
   "metadata": {},
   "outputs": [],
   "source": []
  }
 ],
 "metadata": {
  "interpreter": {
   "hash": "f08154012ddadd8e950e6e9e035c7a7b32c136e7647e9b7c77e02eb723a8bedb"
  },
  "kernelspec": {
   "display_name": "Python 3.8.8 ('base')",
   "language": "python",
   "name": "python3"
  },
  "language_info": {
   "codemirror_mode": {
    "name": "ipython",
    "version": 3
   },
   "file_extension": ".py",
   "mimetype": "text/x-python",
   "name": "python",
   "nbconvert_exporter": "python",
   "pygments_lexer": "ipython3",
   "version": "3.8.8"
  },
  "orig_nbformat": 4
 },
 "nbformat": 4,
 "nbformat_minor": 2
}
