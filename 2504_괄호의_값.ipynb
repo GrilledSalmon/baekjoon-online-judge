{
 "cells": [
  {
   "cell_type": "markdown",
   "metadata": {},
   "source": [
    "# 2504 괄호의 값\n",
    "220409\n",
    "- 소감 : 생각보다 어렵다... 손으로 좀 써보고 어떻게 풀지 정리한 다음에야 풀 수 있었다. 손으로 많이 써보는 게 좋은 듯\n",
    "- 알고리즘 분류\n",
    "    - 구현\n",
    "    - 자료 구조\n",
    "    - 스택\n",
    "    - 재귀\n",
    "- 티어 : 실버 2"
   ]
  },
  {
   "cell_type": "code",
   "execution_count": 1,
   "metadata": {},
   "outputs": [
    {
     "name": "stdout",
     "output_type": "stream",
     "text": [
      "28\n"
     ]
    }
   ],
   "source": [
    "# 2504 괄호의 값\n",
    "string = input()\n",
    "stack = []\n",
    "sub_stack = []\n",
    "for s in string:\n",
    "    if s == '(':\n",
    "        stack.append(2)\n",
    "        if len(stack) != len(sub_stack):\n",
    "            sub_stack.append(0)\n",
    "    elif s == '[':\n",
    "        stack.append(3)\n",
    "        if len(stack) != len(sub_stack):\n",
    "            sub_stack.append(0)\n",
    "    elif s == ')':\n",
    "        if stack and stack[-1] == 2:\n",
    "            if len(sub_stack) != len(stack):\n",
    "                temp = stack.pop()*sub_stack.pop()\n",
    "                sub_stack[-1] += temp\n",
    "            else:\n",
    "                sub_stack[-1] += stack.pop()\n",
    "        else:\n",
    "            print(0)\n",
    "            break\n",
    "    else: # ']'\n",
    "        if stack and stack[-1] == 3:\n",
    "            if len(sub_stack) != len(stack):\n",
    "                temp = stack.pop()*sub_stack.pop()\n",
    "                sub_stack[-1] += temp\n",
    "            else:\n",
    "                sub_stack[-1] += stack.pop()\n",
    "        else:\n",
    "            print(0)\n",
    "            break\n",
    "else:\n",
    "    print(sub_stack[0])"
   ]
  }
 ],
 "metadata": {
  "interpreter": {
   "hash": "8fac594bfae6525c0c41b4041d2d72effa188cc8ead05f81b1fab2bb098927fb"
  },
  "kernelspec": {
   "display_name": "Python 3.8.8 ('base')",
   "language": "python",
   "name": "python3"
  },
  "language_info": {
   "codemirror_mode": {
    "name": "ipython",
    "version": 3
   },
   "file_extension": ".py",
   "mimetype": "text/x-python",
   "name": "python",
   "nbconvert_exporter": "python",
   "pygments_lexer": "ipython3",
   "version": "3.8.8"
  },
  "orig_nbformat": 4
 },
 "nbformat": 4,
 "nbformat_minor": 2
}
