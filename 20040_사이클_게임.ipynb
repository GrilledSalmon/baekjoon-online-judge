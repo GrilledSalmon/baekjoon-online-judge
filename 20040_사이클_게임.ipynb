{
 "cells": [
  {
   "cell_type": "markdown",
   "metadata": {},
   "source": [
    "# 20040 사이클 게임\n",
    "220830\n",
    "- 소감\n",
    "    - 유니온 파인드 쓰면 금방 푸는 문제\n",
    "    - 예전에 구현했던 유니온 파인드 코드 활용함\n",
    "- 소요 시간 : 10분\n",
    "- 알고리즘 분류 : 자료 구조, 분리 집합"
   ]
  },
  {
   "cell_type": "code",
   "execution_count": null,
   "metadata": {},
   "outputs": [],
   "source": [
    "import sys\n",
    "# input = sys.stdin.readline\n",
    "n, m = map(int, input().split())\n",
    "\n",
    "# union-find\n",
    "group = list(range(n+1))\n",
    "def find(a):\n",
    "    if group[a] != a:\n",
    "        group[a] = find(group[a])\n",
    "    return group[a]\n",
    "\n",
    "def union(a, b):\n",
    "    group_a = find(a)\n",
    "    group_b = find(b)\n",
    "    if group_a > group_b:\n",
    "        group[group_a] = group_b\n",
    "    else:\n",
    "        group[group_b] = group_a\n",
    "\n",
    "ans = 0\n",
    "for i in range(1, m+1):\n",
    "    a, b = map(int, input().split())\n",
    "    if not ans and find(a) == find(b):\n",
    "        ans = i\n",
    "    union(a, b)\n",
    "\n",
    "print(ans)"
   ]
  }
 ],
 "metadata": {
  "kernelspec": {
   "display_name": "Python 3.8.5 ('base')",
   "language": "python",
   "name": "python3"
  },
  "language_info": {
   "name": "python",
   "version": "3.8.5"
  },
  "orig_nbformat": 4,
  "vscode": {
   "interpreter": {
    "hash": "8cc51f7a6f9663e4a057df8e9ab0b3750994a36584b90d61db68aa71b39bfa78"
   }
  }
 },
 "nbformat": 4,
 "nbformat_minor": 2
}
