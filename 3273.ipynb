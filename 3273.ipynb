{
 "cells": [
  {
   "cell_type": "markdown",
   "metadata": {},
   "source": [
    "# 3273 두 수의 합\n",
    "211215\n",
    "- 소감 : 오늘 티맥스 코테 봤는데 아니 세 문제 중에 그래프가 두 문제 나오는 게 말이 됨..? 둘 다 못 풀긴 했는데,, 프로그래머스 에러 코드도 그렇고, 코드 복붙이 안 돼가지고 디버깅하기가 너무 힘들어서 마지막 문제 풀 수 있었는데 못 푼듯 ㅜㅜㅜㅜ.. 그래프 공부하자...ㅜ 암튼 이번 문제는 쉽게 금방 품\n",
    "- 알고리즘 분류\n",
    "    - 정렬\n",
    "    - 두 포인터\n",
    "- 티어 : 실버 3"
   ]
  },
  {
   "cell_type": "code",
   "execution_count": 7,
   "metadata": {},
   "outputs": [
    {
     "name": "stdout",
     "output_type": "stream",
     "text": [
      "3\n"
     ]
    }
   ],
   "source": [
    "n = int(input())\n",
    "nums = sorted(list(map(int, input().split())), reverse=True)\n",
    "x = int(input())\n",
    "\n",
    "num_set = set(nums)\n",
    "cnt = 0\n",
    "for num in nums:\n",
    "    y = x - num\n",
    "    if y >= num: # nums의 반만 확인하면 됨. 같은 수를 뽑을 순 없기 때문에 등호 포함\n",
    "        break\n",
    "    if y in num_set:\n",
    "        cnt += 1\n",
    "print(cnt)"
   ]
  },
  {
   "cell_type": "code",
   "execution_count": 4,
   "metadata": {},
   "outputs": [
    {
     "data": {
      "text/plain": [
       "(9, [12, 11, 10, 9, 7, 5, 3, 2, 1], 13)"
      ]
     },
     "execution_count": 4,
     "metadata": {},
     "output_type": "execute_result"
    }
   ],
   "source": [
    "n, nums, x"
   ]
  },
  {
   "cell_type": "code",
   "execution_count": 6,
   "metadata": {},
   "outputs": [
    {
     "name": "stdout",
     "output_type": "stream",
     "text": [
      "3\n"
     ]
    }
   ],
   "source": [
    "num_set = set(nums)\n",
    "cnt = 0\n",
    "for num in nums:\n",
    "    y = x - num\n",
    "    if y >= num: # nums의 반만 확인하면 됨. 같은 수를 뽑을 순 없기 때문에 등호 포함\n",
    "        break\n",
    "    if y in num_set:\n",
    "        cnt += 1\n",
    "print(cnt)"
   ]
  },
  {
   "cell_type": "code",
   "execution_count": null,
   "metadata": {},
   "outputs": [],
   "source": []
  }
 ],
 "metadata": {
  "interpreter": {
   "hash": "c798a043d5b26db4ea8dc684fe25ec244835432adc5539bce2de618403b1d63c"
  },
  "kernelspec": {
   "display_name": "Python 3.8.5 64-bit ('base': conda)",
   "language": "python",
   "name": "python3"
  },
  "language_info": {
   "codemirror_mode": {
    "name": "ipython",
    "version": 3
   },
   "file_extension": ".py",
   "mimetype": "text/x-python",
   "name": "python",
   "nbconvert_exporter": "python",
   "pygments_lexer": "ipython3",
   "version": "3.8.5"
  },
  "orig_nbformat": 4
 },
 "nbformat": 4,
 "nbformat_minor": 2
}
