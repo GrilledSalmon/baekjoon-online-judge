{
 "cells": [
  {
   "cell_type": "markdown",
   "metadata": {},
   "source": [
    "# SW정글 week02 컴퓨팅 사고로의 전환\n",
    "220407"
   ]
  },
  {
   "cell_type": "code",
   "execution_count": 1,
   "metadata": {},
   "outputs": [
    {
     "name": "stdout",
     "output_type": "stream",
     "text": [
      "1\n",
      "1\n",
      "0\n",
      "0\n",
      "1\n"
     ]
    }
   ],
   "source": [
    "# 1920 set으로 풀기\n",
    "N = int(input())\n",
    "A = set(map(int, input().split()))\n",
    "M = int(input())\n",
    "for num in map(int, input().split()):\n",
    "    if num in A:\n",
    "        print(1)\n",
    "    else:\n",
    "        print(0)"
   ]
  },
  {
   "cell_type": "code",
   "execution_count": 20,
   "metadata": {},
   "outputs": [
    {
     "name": "stdout",
     "output_type": "stream",
     "text": [
      "1\n",
      "1\n",
      "0\n",
      "0\n",
      "1\n"
     ]
    }
   ],
   "source": [
    "# 1920 Binary Search로 풀어보기\n",
    "N = int(input())\n",
    "A = sorted(map(int, input().split()))\n",
    "M = int(input())\n",
    "\n",
    "def binary_search(target, array = A):\n",
    "    s = 0\n",
    "    e = len(A)-1\n",
    "    while True:\n",
    "        mid = (s + e) // 2\n",
    "        val = array[mid]\n",
    "        if val == target:\n",
    "            return True\n",
    "        if s >= e:\n",
    "            return False\n",
    "        elif val < target:\n",
    "            s = mid+1\n",
    "        else:\n",
    "            e = mid\n",
    "\n",
    "for num in map(int, input().split()):\n",
    "    if binary_search(num, A):\n",
    "        print(1)\n",
    "    else:\n",
    "        print(0)"
   ]
  },
  {
   "cell_type": "code",
   "execution_count": 42,
   "metadata": {},
   "outputs": [
    {
     "name": "stdout",
     "output_type": "stream",
     "text": [
      "36\n"
     ]
    }
   ],
   "source": [
    "# 2805 나무 자르기\n",
    "N, M = map(int, input().split())\n",
    "tree = tuple(map(int, input().split()))\n",
    "\n",
    "def cut(height):\n",
    "    summ = 0\n",
    "    for t in tree:\n",
    "        if t > height:\n",
    "            summ += t-height\n",
    "    return summ\n",
    "\n",
    "s = 0\n",
    "e = max(tree)\n",
    "\n",
    "while True:\n",
    "    mid = (s + e)//2\n",
    "    temp_summ = cut(mid)\n",
    "    if temp_summ == M:\n",
    "        h_max = mid\n",
    "        break\n",
    "    if s >= e:\n",
    "        h_max = e\n",
    "        break\n",
    "    elif temp_summ < M:\n",
    "        e = mid\n",
    "    else:\n",
    "        s = mid + 1\n",
    "\n",
    "if temp_summ < M:\n",
    "    h_max -= 1\n",
    "print(h_max)"
   ]
  },
  {
   "cell_type": "code",
   "execution_count": 44,
   "metadata": {},
   "outputs": [],
   "source": [
    "# 2110 공유기 설치\n",
    "N, C = map(int, input().split())\n",
    "X = sorted([int(input()) for _ in range(N)])"
   ]
  },
  {
   "cell_type": "code",
   "execution_count": 45,
   "metadata": {},
   "outputs": [
    {
     "data": {
      "text/plain": [
       "(5, 3, [1, 2, 4, 8, 9])"
      ]
     },
     "execution_count": 45,
     "metadata": {},
     "output_type": "execute_result"
    }
   ],
   "source": [
    "N, C, X"
   ]
  },
  {
   "cell_type": "code",
   "execution_count": null,
   "metadata": {},
   "outputs": [],
   "source": [
    "def search_closest_house(start=X[0], c=C):\n",
    "    \"\"\"현재 위치에서 공유기를 가장 멀리 적절하게 설치할만한 집 위치 리턴\"\"\"\n",
    "    end = X[-1]\n",
    "    target = start + (end - start) / c\n",
    "    while True:\n",
    "        mid = (start + end) // 2\n",
    "        val = X[mid]\n",
    "        if start >= end:\n",
    "            break\n",
    "        if target > val:\n",
    "            start = mid + 1\n",
    "        else:\n",
    "            end = mid\n",
    "    \n",
    "\n",
    "\n"
   ]
  },
  {
   "cell_type": "code",
   "execution_count": 46,
   "metadata": {},
   "outputs": [],
   "source": [
    "# 2470 두 용액\n",
    "N = int(input())\n",
    "solution = sorted(map(int, input().split()))"
   ]
  },
  {
   "cell_type": "code",
   "execution_count": 47,
   "metadata": {},
   "outputs": [
    {
     "data": {
      "text/plain": [
       "(5, [-99, -2, -1, 4, 98])"
      ]
     },
     "execution_count": 47,
     "metadata": {},
     "output_type": "execute_result"
    }
   ],
   "source": [
    "N, solution"
   ]
  },
  {
   "cell_type": "code",
   "execution_count": 50,
   "metadata": {},
   "outputs": [],
   "source": [
    "sep_index = None\n",
    "for i in range(N):\n",
    "    if solution[i] >= 0:\n",
    "        sep_index = i\n",
    "        break\n",
    "\n",
    "alkali_num = i + 1\n",
    "acid_num = N - alkali_num\n",
    "\n",
    "if sep_index == 0: # 산성만 있는 경우(모두 0 이상)\n",
    "    print(solution[0], solution[1])\n",
    "elif sep_index is None: # 알칼리만 있는 경우\n",
    "    print(solution[-2], solution[-1])\n",
    "else: # 한 쪽이라도 있는 경우\n",
    "    if alkali_num >= acid_num: # 알칼리가 더 많은 경우\n",
    "        start, end, l, start_2 = 0, sep_index-1, acid_num, sep_index\n",
    "    else:\n",
    "        start, end, l, start_2 = sep_index, N-1, alkali_num, 0\n",
    "    "
   ]
  },
  {
   "cell_type": "code",
   "execution_count": 51,
   "metadata": {},
   "outputs": [
    {
     "data": {
      "text/plain": [
       "3"
      ]
     },
     "execution_count": 51,
     "metadata": {},
     "output_type": "execute_result"
    }
   ],
   "source": [
    "sep_index"
   ]
  },
  {
   "cell_type": "code",
   "execution_count": null,
   "metadata": {},
   "outputs": [],
   "source": []
  }
 ],
 "metadata": {
  "interpreter": {
   "hash": "8fac594bfae6525c0c41b4041d2d72effa188cc8ead05f81b1fab2bb098927fb"
  },
  "kernelspec": {
   "display_name": "Python 3.8.8 ('base')",
   "language": "python",
   "name": "python3"
  },
  "language_info": {
   "codemirror_mode": {
    "name": "ipython",
    "version": 3
   },
   "file_extension": ".py",
   "mimetype": "text/x-python",
   "name": "python",
   "nbconvert_exporter": "python",
   "pygments_lexer": "ipython3",
   "version": "3.8.8"
  },
  "orig_nbformat": 4
 },
 "nbformat": 4,
 "nbformat_minor": 2
}
