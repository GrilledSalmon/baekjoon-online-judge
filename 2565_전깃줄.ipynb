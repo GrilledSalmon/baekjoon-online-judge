{
 "cells": [
  {
   "cell_type": "markdown",
   "metadata": {},
   "source": [
    "# 2565 전깃줄\n",
    "220819\n",
    "- 소감\n",
    "    - 왤케 집중이 안 되지... 집중 하고서는 금방 풀었다.\n",
    "    - 부분 증가 수열 개념을 활용해서 풀면 된다. 숫자 범위가 좁아서 쉽게 풀 수 있다.\n",
    "- 소요 시간 : 30분\n",
    "- 알고리즘 분류 : 다이나믹 프로그래밍\n",
    "- 티어 : 골드 5"
   ]
  },
  {
   "cell_type": "code",
   "execution_count": 1,
   "metadata": {},
   "outputs": [],
   "source": [
    "import sys\n",
    "# input = sys.stdin.readline\n",
    "N = int(input())\n",
    "connections = [tuple(map(int, input().split())) for _ in range(N)]\n",
    "connections.sort()\n",
    "\n",
    "memo = [1]*N\n",
    "maxi = 0\n",
    "for i in range(N):\n",
    "    now_num = connections[i][1]\n",
    "    until_max = 0\n",
    "    for j in range(i):\n",
    "        if connections[j][1] < now_num:\n",
    "            until_max = max(until_max, memo[j])\n",
    "    memo[i] = until_max+1\n",
    "    maxi = max(memo[i], maxi)\n",
    "\n",
    "print(N-maxi)"
   ]
  },
  {
   "cell_type": "code",
   "execution_count": 2,
   "metadata": {},
   "outputs": [
    {
     "data": {
      "text/plain": [
       "(8, [(1, 8), (3, 9), (2, 2), (4, 1), (6, 4), (10, 10), (9, 7), (7, 6)])"
      ]
     },
     "execution_count": 2,
     "metadata": {},
     "output_type": "execute_result"
    }
   ],
   "source": [
    "N, connections"
   ]
  },
  {
   "cell_type": "code",
   "execution_count": 8,
   "metadata": {},
   "outputs": [
    {
     "data": {
      "text/plain": [
       "[(1, 8), (2, 2), (3, 9), (4, 1), (6, 4), (7, 6), (9, 7), (10, 10)]"
      ]
     },
     "execution_count": 8,
     "metadata": {},
     "output_type": "execute_result"
    }
   ],
   "source": [
    "connections.sort()\n",
    "connections"
   ]
  },
  {
   "cell_type": "code",
   "execution_count": 12,
   "metadata": {},
   "outputs": [
    {
     "name": "stdout",
     "output_type": "stream",
     "text": [
      "3\n"
     ]
    }
   ],
   "source": [
    "memo = [1]*N\n",
    "maxi = 0\n",
    "for i in range(N):\n",
    "    now_num = connections[i][1]\n",
    "    until_max = 0\n",
    "    for j in range(i):\n",
    "        if connections[j][1] < now_num:\n",
    "            until_max = max(until_max, memo[j])\n",
    "    memo[i] = until_max+1\n",
    "    maxi = max(memo[i], maxi)\n",
    "\n",
    "print(N-maxi)"
   ]
  },
  {
   "cell_type": "code",
   "execution_count": 13,
   "metadata": {},
   "outputs": [
    {
     "data": {
      "text/plain": [
       "[1, 1, 2, 1, 2, 3, 4, 5]"
      ]
     },
     "execution_count": 13,
     "metadata": {},
     "output_type": "execute_result"
    }
   ],
   "source": [
    "memo"
   ]
  }
 ],
 "metadata": {
  "kernelspec": {
   "display_name": "Python 3.8.8 ('base')",
   "language": "python",
   "name": "python3"
  },
  "language_info": {
   "codemirror_mode": {
    "name": "ipython",
    "version": 3
   },
   "file_extension": ".py",
   "mimetype": "text/x-python",
   "name": "python",
   "nbconvert_exporter": "python",
   "pygments_lexer": "ipython3",
   "version": "3.8.8"
  },
  "orig_nbformat": 4,
  "vscode": {
   "interpreter": {
    "hash": "f08154012ddadd8e950e6e9e035c7a7b32c136e7647e9b7c77e02eb723a8bedb"
   }
  }
 },
 "nbformat": 4,
 "nbformat_minor": 2
}
