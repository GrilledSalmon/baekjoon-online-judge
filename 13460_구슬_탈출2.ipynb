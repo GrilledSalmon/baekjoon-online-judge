{
 "cells": [
  {
   "cell_type": "markdown",
   "metadata": {},
   "source": [
    "# 13460 구슬 탈출 2\n",
    "220611\n",
    "- 소감\n",
    "    - 알린이 시절 이 문제 보고 '으 극혐'하고 돌아섰던 문제인데 비록 반례를 찾아 보긴 했지만 풀게 되니 감회가 새롭네요..\n",
    "    - 시간을 줄여주기 위해 넣었던 조건이 발목을 잡아서 예외 케이스 하나를 잡지 못했습니다.\n",
    "    - 최단 경로문제는 아닌 것 같고 숫자가 작아서 브루트포스->백트래킹으로 가닥을 잡고 풀었습니다.\n",
    "- 소요 시간 : 1시간 40분\n",
    "- 알고리즘 분류 : 구현, 그래프 이론, 그래프 탐색, 너비 우선 탐색, 시뮬레이션\n",
    "- 티어 : 골드 1"
   ]
  },
  {
   "cell_type": "code",
   "execution_count": 9,
   "metadata": {},
   "outputs": [
    {
     "data": {
      "text/plain": [
       "[['#', '#', '#', '#', '#', '#', '#', '#', '#', '#'],\n",
       " ['#', 'R', '#', '.', '.', '.', '#', '#', 'B', '#'],\n",
       " ['#', '.', '.', '.', '#', '.', '#', '#', '.', '#'],\n",
       " ['#', '#', '#', '#', '#', '.', '#', '#', '.', '#'],\n",
       " ['#', '.', '.', '.', '.', '.', '.', '#', '.', '#'],\n",
       " ['#', '.', '#', '#', '#', '#', '#', '#', '.', '#'],\n",
       " ['#', '.', '#', '.', '.', '.', '.', '#', '.', '#'],\n",
       " ['#', '.', '#', '.', '#', '#', '.', '.', '.', '#'],\n",
       " ['#', 'O', '.', '.', '#', '.', '.', '.', '.', '#'],\n",
       " ['#', '#', '#', '#', '#', '#', '#', '#', '#', '#']]"
      ]
     },
     "execution_count": 9,
     "metadata": {},
     "output_type": "execute_result"
    }
   ],
   "source": [
    "# 빨간 구슬 빼내는 게 목표\n",
    "# 파란 구슬은 빠지면 안 됨\n",
    "# 동시에 빠져도 안됨\n",
    "# 벽에 닿거나 공에 닿아 더이상 움직일 수 없을 때까지 공을 움직임\n",
    "# 동시에 같은 칸에 있으면 안 됨\n",
    "# 최소 몇 번 만에 빨간 구슬을 빼낼 수 있는지\n",
    "import sys\n",
    "# input = sys.stdin.readline\n",
    "N, M = map(int, input().split())\n",
    "board = [list(input().rstrip()) for _ in range(N)]\n",
    "\n",
    "def move(pos_r, pos_b, direction):\n",
    "    \"\"\"pos에서 direction으로 움직였을 때 red, blue 위치\n",
    "    및 red, blue가 구멍에 들어갔는지 리턴\"\"\"\n",
    "    d_r, d_b = 0, 0 # 구슬이 이동한 거리\n",
    "    r_r, c_r = pos_r\n",
    "    red_flag = False # red가 구멍에 들어갔는지\n",
    "    while board[r_r][c_r] != '#':\n",
    "        if board[r_r][c_r] == 'O':\n",
    "            red_flag = True\n",
    "            break\n",
    "        r_r += direction[0]\n",
    "        c_r += direction[1]\n",
    "        d_r += 1\n",
    "        \n",
    "    blue_flag = False\n",
    "    r_b, c_b = pos_b\n",
    "    while board[r_b][c_b] != '#':\n",
    "        if board[r_b][c_b] == 'O':\n",
    "            blue_flag = True\n",
    "            break\n",
    "        r_b += direction[0]\n",
    "        c_b += direction[1]\n",
    "        d_b += 1\n",
    "    \n",
    "    if (r_r, c_r) == (r_b, c_b): # 겹친 경우\n",
    "        if d_r > d_b: # red가 blue를 나중에 덮은 경우(red 후진)\n",
    "            r_r -= direction[0]\n",
    "            c_r -= direction[1]\n",
    "        else: # blue 후진\n",
    "            r_b -= direction[0]\n",
    "            c_b -= direction[1]\n",
    "    \n",
    "    # new_pos_r, new_pos_b, red_flag, blue_flag\n",
    "    return (r_r-direction[0], c_r-direction[1]), (r_b-direction[0], c_b-direction[1]), red_flag, blue_flag\n",
    "\n",
    "for r in range(N):\n",
    "    for c in range(M):\n",
    "        if board[r][c] == 'R':\n",
    "            board[r][c] = '.'\n",
    "            red_start = (r, c)\n",
    "        elif board[r][c] == 'B':\n",
    "            board[r][c] = '.'\n",
    "            blue_start = (r, c)\n",
    "\n",
    "direction = [(0, 1), (0, -1), (1, 0), (-1, 0)] # 동, 서, 남, 북\n",
    "\n",
    "ans = [100]\n",
    "def dfs(pos_r=red_start, pos_b=blue_start, trial=1, prev_inv_dir=None,  prev_dir=None):\n",
    "    if trial > ans[0] or trial > 10:\n",
    "        return\n",
    "    \n",
    "    for now_dir in direction:\n",
    "        if prev_inv_dir == now_dir or prev_dir == now_dir:\n",
    "            continue\n",
    "        new_pos_r, new_pos_b, red_flag, blue_flag = move(pos_r, pos_b, now_dir)\n",
    "        \n",
    "        if red_flag and not blue_flag: # 성공\n",
    "            if ans[0] > trial:\n",
    "                ans[0] = trial\n",
    "            return\n",
    "        elif red_flag and blue_flag: # 둘 다 들어감\n",
    "            continue\n",
    "        elif blue_flag: # 파란 공만 들어감\n",
    "            continue\n",
    "        else: # 둘 다 안 들어감\n",
    "            dfs(new_pos_r, new_pos_b, trial+1, (-now_dir[0], -now_dir[1]), now_dir)\n",
    "\n",
    "dfs()\n",
    "if ans[0] == 100:\n",
    "    print(-1)\n",
    "else:\n",
    "    print(ans[0])"
   ]
  },
  {
   "cell_type": "code",
   "execution_count": 7,
   "metadata": {},
   "outputs": [],
   "source": [
    "# 백트래킹이라 생각했던 풀이(visited 조건 넣으면 틀림 ㅜ)\n",
    "# 반례\n",
    "# 5 10\n",
    "# ##########\n",
    "# #.#......#\n",
    "# ##.......#\n",
    "# #OR..B.#.#\n",
    "# ##########\n",
    "import sys\n",
    "# input = sys.stdin.readline\n",
    "N, M = map(int, input().split())\n",
    "board = [list(input().rstrip()) for _ in range(N)]\n",
    "\n",
    "def move(pos_r, pos_b, direction):\n",
    "    \"\"\"pos에서 direction으로 움직였을 때 red, blue 위치\n",
    "    및 red, blue가 구멍에 들어갔는지 리턴\"\"\"\n",
    "    d_r, d_b = 0, 0 # 구슬이 이동한 거리\n",
    "    r_r, c_r = pos_r\n",
    "    red_flag = False # red가 구멍에 들어갔는지\n",
    "    while board[r_r][c_r] != '#':\n",
    "        if board[r_r][c_r] == 'O':\n",
    "            red_flag = True\n",
    "            break\n",
    "        r_r += direction[0]\n",
    "        c_r += direction[1]\n",
    "        d_r += 1\n",
    "        \n",
    "    blue_flag = False\n",
    "    r_b, c_b = pos_b\n",
    "    while board[r_b][c_b] != '#':\n",
    "        if board[r_b][c_b] == 'O':\n",
    "            blue_flag = True\n",
    "            break\n",
    "        r_b += direction[0]\n",
    "        c_b += direction[1]\n",
    "        d_b += 1\n",
    "    \n",
    "    if (r_r, c_r) == (r_b, c_b): # 겹친 경우\n",
    "        if d_r > d_b: # red가 blue를 나중에 덮은 경우(red 후진)\n",
    "            r_r -= direction[0]\n",
    "            c_r -= direction[1]\n",
    "        else: # blue 후진\n",
    "            r_b -= direction[0]\n",
    "            c_b -= direction[1]\n",
    "    \n",
    "    # new_pos_r, new_pos_b, red_flag, blue_flag\n",
    "    return (r_r-direction[0], c_r-direction[1]), (r_b-direction[0], c_b-direction[1]), red_flag, blue_flag\n",
    "\n",
    "for r in range(N):\n",
    "    for c in range(M):\n",
    "        if board[r][c] == 'R':\n",
    "            board[r][c] = '.'\n",
    "            red_start = (r, c)\n",
    "        elif board[r][c] == 'B':\n",
    "            board[r][c] = '.'\n",
    "            blue_start = (r, c)\n",
    "\n",
    "visited_r = [[0]*M for _ in range(N)] # r, b가 멈췄던 곳\n",
    "visited_b = [[0]*M for _ in range(N)]\n",
    "direction = [(0, 1), (0, -1), (1, 0), (-1, 0)] # 동, 서, 남, 북\n",
    "visited_r[red_start[0]][red_start[1]] = 1\n",
    "\n",
    "ans = [100]\n",
    "def back_tracking(pos_r=red_start, pos_b=blue_start, trial=1, prev_inv_dir=None,  prev_dir=None):\n",
    "    if trial > ans[0] or trial > 10:\n",
    "        return\n",
    "    \n",
    "    for now_dir in direction:\n",
    "        if prev_inv_dir == now_dir or prev_dir == now_dir:\n",
    "            continue\n",
    "        new_pos_r, new_pos_b, red_flag, blue_flag = move(pos_r, pos_b, now_dir)\n",
    "        \n",
    "        if red_flag and not blue_flag: # 성공\n",
    "            if ans[0] > trial:\n",
    "                ans[0] = trial\n",
    "            return\n",
    "        elif red_flag and blue_flag: # 둘 다 들어감\n",
    "            continue\n",
    "        elif blue_flag: # 파란 공만 들어감\n",
    "            continue\n",
    "        else: # 둘 다 안 들어감\n",
    "            if visited_r[new_pos_r[0]][new_pos_r[1]]: # 방문했던 곳 또 방문한 경우\n",
    "                continue\n",
    "            else:\n",
    "                visited_r[new_pos_r[0]][new_pos_r[1]] = 1\n",
    "                back_tracking(new_pos_r, new_pos_b, trial+1, (-now_dir[0], -now_dir[1]), now_dir)\n",
    "                visited_r[new_pos_r[0]][new_pos_r[1]] = 0\n",
    "\n",
    "back_tracking()\n",
    "if ans[0] == 100:\n",
    "    print(-1)\n",
    "else:\n",
    "    print(ans[0])"
   ]
  },
  {
   "cell_type": "code",
   "execution_count": 8,
   "metadata": {},
   "outputs": [
    {
     "data": {
      "text/plain": [
       "(10,\n",
       " 10,\n",
       " [['#', '#', '#', '#', '#', '#', '#', '#', '#', '#'],\n",
       "  ['#', 'R', '#', '.', '.', '.', '#', '#', 'B', '#'],\n",
       "  ['#', '.', '.', '.', '#', '.', '#', '#', '.', '#'],\n",
       "  ['#', '#', '#', '#', '#', '.', '#', '#', '.', '#'],\n",
       "  ['#', '.', '.', '.', '.', '.', '.', '#', '.', '#'],\n",
       "  ['#', '.', '#', '#', '#', '#', '#', '#', '.', '#'],\n",
       "  ['#', '.', '#', '.', '.', '.', '.', '#', '.', '#'],\n",
       "  ['#', '.', '#', '.', '#', '#', '.', '.', '.', '#'],\n",
       "  ['#', 'O', '.', '.', '#', '.', '.', '.', '.', '#'],\n",
       "  ['#', '#', '#', '#', '#', '#', '#', '#', '#', '#']])"
      ]
     },
     "execution_count": 8,
     "metadata": {},
     "output_type": "execute_result"
    }
   ],
   "source": [
    "N, M, board"
   ]
  },
  {
   "cell_type": "code",
   "execution_count": 32,
   "metadata": {},
   "outputs": [
    {
     "name": "stdout",
     "output_type": "stream",
     "text": [
      "[7]\n"
     ]
    }
   ],
   "source": [
    "def move(pos_r, pos_b, direction):\n",
    "    \"\"\"pos에서 direction으로 움직였을 때 red, blue 위치\n",
    "    및 red, blue가 구멍에 들어갔는지 리턴\"\"\"\n",
    "    d_r, d_b = 0, 0 # 구슬이 이동한 거리\n",
    "    r_r, c_r = pos_r\n",
    "    red_flag = False # red가 구멍에 들어갔는지\n",
    "    while board[r_r][c_r] != '#':\n",
    "        if board[r_r][c_r] == 'O':\n",
    "            red_flag = True\n",
    "            break\n",
    "        r_r += direction[0]\n",
    "        c_r += direction[1]\n",
    "        d_r += 1\n",
    "        \n",
    "    blue_flag = False\n",
    "    r_b, c_b = pos_b\n",
    "    while board[r_b][c_b] != '#':\n",
    "        if board[r_b][c_b] == 'O':\n",
    "            blue_flag = True\n",
    "            break\n",
    "        r_b += direction[0]\n",
    "        c_b += direction[1]\n",
    "        d_b += 1\n",
    "    \n",
    "    if (r_r, c_r) == (r_b, c_b): # 겹친 경우\n",
    "        if d_r > d_b: # red가 blue를 나중에 덮은 경우(red 후진)\n",
    "            r_r -= direction[0]\n",
    "            c_r -= direction[1]\n",
    "        else: # blue 후진\n",
    "            r_b -= direction[0]\n",
    "            c_b -= direction[1]\n",
    "    \n",
    "    # new_pos_r, new_pos_b, red_flag, blue_flag\n",
    "    return (r_r-direction[0], c_r-direction[1]), (r_b-direction[0], c_b-direction[1]), red_flag, blue_flag\n",
    "\n",
    "for r in range(N):\n",
    "    for c in range(M):\n",
    "        if board[r][c] == 'R':\n",
    "            board[r][c] = '.'\n",
    "            red_start = (r, c)\n",
    "        elif board[r][c] == 'B':\n",
    "            board[r][c] = '.'\n",
    "            blue_start = (r, c)\n",
    "\n",
    "visited_r = [[0]*M for _ in range(N)] # r, b가 멈췄던 곳\n",
    "visited_b = [[0]*M for _ in range(N)]\n",
    "direction = [(0, 1), (0, -1), (1, 0), (-1, 0)] # 동, 서, 남, 북\n",
    "visited_r[red_start[0]][red_start[1]] = 1\n",
    "\n",
    "ans = [100]\n",
    "def back_tracking(pos_r=red_start, pos_b=blue_start, trial=1, prev_dir = None):\n",
    "    if trial > 10:\n",
    "        return\n",
    "    # print(trial)\n",
    "    for now_dir in direction:\n",
    "        if prev_dir == now_dir:\n",
    "            continue\n",
    "        new_pos_r, new_pos_b, red_flag, blue_flag = move(pos_r, pos_b, now_dir)\n",
    "        # print(red_flag, blue_flag)\n",
    "        if red_flag and not blue_flag: # 성공\n",
    "            if ans[0] > trial:\n",
    "                ans[0] = trial\n",
    "            return\n",
    "        elif red_flag and blue_flag: # 둘 다 들어감\n",
    "            continue\n",
    "        elif blue_flag: # 파란 공만 들어감\n",
    "            continue\n",
    "        else: # 둘 다 안 들어감\n",
    "            if visited_r[new_pos_r[0]][new_pos_r[1]]: # 방문했던 곳 또 방문한 경우\n",
    "                continue\n",
    "            else:\n",
    "                visited_r[new_pos_r[0]][new_pos_r[1]] = 1\n",
    "                back_tracking(new_pos_r, new_pos_b, trial+1, now_dir)\n",
    "                visited_r[new_pos_r[0]][new_pos_r[1]] = 0\n",
    "\n",
    "back_tracking()\n",
    "print(ans[0])"
   ]
  },
  {
   "cell_type": "code",
   "execution_count": 27,
   "metadata": {},
   "outputs": [
    {
     "data": {
      "text/plain": [
       "[[0, 0, 0, 0, 0, 0, 0, 0, 0, 0],\n",
       " [0, 1, 0, 0, 0, 0, 0, 0, 0, 0],\n",
       " [0, 0, 0, 0, 0, 0, 0, 0, 0, 0],\n",
       " [0, 0, 0, 0, 0, 0, 0, 0, 0, 0],\n",
       " [0, 0, 0, 0, 0, 0, 0, 0, 0, 0],\n",
       " [0, 0, 0, 0, 0, 0, 0, 0, 0, 0],\n",
       " [0, 0, 0, 0, 0, 0, 0, 0, 0, 0],\n",
       " [0, 0, 0, 0, 0, 0, 0, 0, 0, 0],\n",
       " [0, 0, 0, 0, 0, 0, 0, 0, 0, 0],\n",
       " [0, 0, 0, 0, 0, 0, 0, 0, 0, 0]]"
      ]
     },
     "execution_count": 27,
     "metadata": {},
     "output_type": "execute_result"
    }
   ],
   "source": [
    "visited_r"
   ]
  },
  {
   "cell_type": "code",
   "execution_count": 21,
   "metadata": {},
   "outputs": [
    {
     "data": {
      "text/plain": [
       "((1, 1), (1, 8))"
      ]
     },
     "execution_count": 21,
     "metadata": {},
     "output_type": "execute_result"
    }
   ],
   "source": [
    "red_start, blue_start"
   ]
  },
  {
   "cell_type": "code",
   "execution_count": 24,
   "metadata": {},
   "outputs": [
    {
     "data": {
      "text/plain": [
       "((2, 1), (8, 8))"
      ]
     },
     "execution_count": 24,
     "metadata": {},
     "output_type": "execute_result"
    }
   ],
   "source": [
    "move(red_start, blue_start, direction[2])"
   ]
  },
  {
   "cell_type": "code",
   "execution_count": 25,
   "metadata": {},
   "outputs": [
    {
     "data": {
      "text/plain": [
       "(1, 0)"
      ]
     },
     "execution_count": 25,
     "metadata": {},
     "output_type": "execute_result"
    }
   ],
   "source": [
    "direction[2]"
   ]
  },
  {
   "cell_type": "code",
   "execution_count": null,
   "metadata": {},
   "outputs": [],
   "source": []
  }
 ],
 "metadata": {
  "kernelspec": {
   "display_name": "Python 3.8.8 ('base')",
   "language": "python",
   "name": "python3"
  },
  "language_info": {
   "codemirror_mode": {
    "name": "ipython",
    "version": 3
   },
   "file_extension": ".py",
   "mimetype": "text/x-python",
   "name": "python",
   "nbconvert_exporter": "python",
   "pygments_lexer": "ipython3",
   "version": "3.8.8"
  },
  "orig_nbformat": 4,
  "vscode": {
   "interpreter": {
    "hash": "f08154012ddadd8e950e6e9e035c7a7b32c136e7647e9b7c77e02eb723a8bedb"
   }
  }
 },
 "nbformat": 4,
 "nbformat_minor": 2
}
