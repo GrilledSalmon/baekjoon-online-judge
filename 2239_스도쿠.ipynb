{
 "cells": [
  {
   "cell_type": "markdown",
   "metadata": {},
   "source": [
    "# 2239 스도쿠\n",
    "220609\n",
    "- 소감\n",
    "    - 예전에 풀었던 문제인데, 잘 짜고서 삽질을 해서 시간이 좀 걸렸네유..ㅜ\n",
    "    - N-Queen의 진화버전 백트래킹입니다.\n",
    "- 소요 시간 : 1시간 1분\n",
    "- 알고리즘 분류 : 구현, 백트래킹\n",
    "- 티어 : 골드 4"
   ]
  },
  {
   "cell_type": "code",
   "execution_count": 1,
   "metadata": {},
   "outputs": [],
   "source": [
    "# 사전 순으로 가장 앞서는 것을 출력(81자리 수가 가장 작은 경우)\n",
    "import sys\n",
    "\n",
    "# input = sys.stdin.readline\n",
    "\n",
    "sudoku = [list(map(int, list(input().rstrip()))) for _ in range(9)]\n",
    "\n",
    "row_info = [[0]*10 for _ in range(9)] # row_info[i][j] : i번째 row에 숫자 j가 쓰였는지\n",
    "col_info = [[0]*10 for _ in range(9)]\n",
    "block_info = [[0]*10 for _ in range(9)] # block_info[i][j] i번째 block에 숫자 j가 쓰였는지\n",
    "\n",
    "def block_num(row, col):\n",
    "    \"\"\"row, col일 때 몇 번째 block인지 리턴\"\"\"\n",
    "    return 3*(row//3) + col//3\n",
    "\n",
    "def change_condition(row, col, val, cond:bool):\n",
    "    \"\"\"info들의 row, col, val 상태를 cond에 맞게 전환\"\"\"\n",
    "    row_info[row][val] = cond\n",
    "    col_info[col][val] = cond\n",
    "    block_info[block_num(row, col)][val] = cond\n",
    "    sudoku[row][col] = val*cond\n",
    "\n",
    "def possible_condition(row, col, val):\n",
    "    \"\"\"info들의 row, col, val이 사용 가능하면 True리턴\"\"\"\n",
    "    if row_info[row][val] or col_info[col][val] or block_info[block_num(row, col)][val]:\n",
    "        return False\n",
    "    return True\n",
    "\n",
    "remain = 81\n",
    "need_to_fill = []\n",
    "for row in range(9):\n",
    "    for col in range(9):\n",
    "        val = sudoku[row][col]\n",
    "        if val:\n",
    "            change_condition(row, col, val, True)\n",
    "            remain -= 1\n",
    "        else:\n",
    "            need_to_fill.append((row, col))\n",
    "\n",
    "found_answer = [False]\n",
    "\n",
    "def back_tracking(step = 0):\n",
    "    if found_answer[0]:\n",
    "        return\n",
    "    if step == remain:\n",
    "        found_answer[0] = True\n",
    "        for line in sudoku:\n",
    "            print(''.join(map(str, line)))\n",
    "        return\n",
    "    row, col = need_to_fill[step]\n",
    "    for val in range(1, 10):\n",
    "        if possible_condition(row, col, val):\n",
    "            change_condition(row, col, val, True)\n",
    "            back_tracking(step+1)\n",
    "            change_condition(row, col, val, False)\n",
    "\n",
    "back_tracking()"
   ]
  },
  {
   "cell_type": "code",
   "execution_count": 7,
   "metadata": {},
   "outputs": [
    {
     "name": "stdout",
     "output_type": "stream",
     "text": [
      "51 50\n"
     ]
    }
   ],
   "source": [
    "# 사전 순으로 가장 앞서는 것을 출력(81자리 수가 가장 작은 경우)\n",
    "from collections import deque\n",
    "import sys\n",
    "\n",
    "# input = sys.stdin.readline\n",
    "\n",
    "sudoku = [list(map(int, list(input().rstrip()))) for _ in range(9)]\n",
    "\n"
   ]
  },
  {
   "cell_type": "code",
   "execution_count": 31,
   "metadata": {},
   "outputs": [
    {
     "name": "stdout",
     "output_type": "stream",
     "text": [
      "143628579\n",
      "572139468\n",
      "986754231\n",
      "391542786\n",
      "468917352\n",
      "725863914\n",
      "237481695\n",
      "619275843\n",
      "854396127\n"
     ]
    }
   ],
   "source": [
    "row_info = [[0]*10 for _ in range(9)] # row_info[i][j] : i번째 row에 숫자 j가 쓰였는지\n",
    "col_info = [[0]*10 for _ in range(9)]\n",
    "block_info = [[0]*10 for _ in range(9)] # block_info[i][j] i번째 block에 숫자 j가 쓰였는지\n",
    "\n",
    "def block_num(row, col):\n",
    "    \"\"\"row, col일 때 몇 번째 block인지 리턴\"\"\"\n",
    "    return 3*(row//3) + col//3\n",
    "\n",
    "def change_condition(row, col, val, cond:bool):\n",
    "    \"\"\"info들의 row, col, val 상태를 cond에 맞게 전환\"\"\"\n",
    "    row_info[row][val] = cond\n",
    "    col_info[col][val] = cond\n",
    "    block_info[block_num(row, col)][val] = cond\n",
    "    sudoku[row][col] = val*cond\n",
    "\n",
    "def possible_condition(row, col, val):\n",
    "    \"\"\"info들의 row, col, val이 사용 가능하면 True리턴\"\"\"\n",
    "    if row_info[row][val] or col_info[col][val] or block_info[block_num(row, col)][val]:\n",
    "        return False\n",
    "    return True\n",
    "\n",
    "remain = 81\n",
    "need_to_fill = []\n",
    "for row in range(9):\n",
    "    for col in range(9):\n",
    "        val = sudoku[row][col]\n",
    "        if val:\n",
    "            change_condition(row, col, val, True)\n",
    "            remain -= 1\n",
    "        else:\n",
    "            need_to_fill.append((row, col))\n",
    "\n",
    "found_answer = [False]\n",
    "\n",
    "def back_tracking(step = 0):\n",
    "    if found_answer[0]:\n",
    "        return\n",
    "    if step == remain:\n",
    "        found_answer[0] = True\n",
    "        for line in sudoku:\n",
    "            print(''.join(map(str, line)))\n",
    "        return\n",
    "    row, col = need_to_fill[step]\n",
    "    for val in range(1, 10):\n",
    "        if possible_condition(row, col, val):\n",
    "            change_condition(row, col, val, True)\n",
    "            back_tracking(step+1)\n",
    "            change_condition(row, col, val, False)\n",
    "\n",
    "back_tracking()"
   ]
  },
  {
   "cell_type": "code",
   "execution_count": 28,
   "metadata": {},
   "outputs": [
    {
     "data": {
      "text/plain": [
       "[[1, 0, 3, 0, 0, 0, 5, 0, 9],\n",
       " [0, 0, 2, 1, 0, 9, 4, 0, 0],\n",
       " [0, 0, 0, 7, 0, 4, 0, 0, 0],\n",
       " [3, 0, 0, 5, 0, 2, 0, 0, 6],\n",
       " [0, 6, 0, 0, 0, 0, 0, 5, 0],\n",
       " [7, 0, 0, 8, 0, 3, 0, 0, 4],\n",
       " [0, 0, 0, 4, 0, 1, 0, 0, 0],\n",
       " [0, 0, 9, 2, 0, 5, 8, 0, 0],\n",
       " [8, 0, 4, 0, 0, 0, 1, 0, 7]]"
      ]
     },
     "execution_count": 28,
     "metadata": {},
     "output_type": "execute_result"
    }
   ],
   "source": [
    "sudoku"
   ]
  },
  {
   "cell_type": "code",
   "execution_count": 29,
   "metadata": {},
   "outputs": [
    {
     "data": {
      "text/plain": [
       "[[0, True, False, True, False, True, False, False, False, True],\n",
       " [0, True, True, False, True, False, False, False, False, True],\n",
       " [0, False, False, False, True, False, False, True, False, False],\n",
       " [0, False, True, True, False, True, True, False, False, False],\n",
       " [0, False, False, False, False, True, True, False, False, False],\n",
       " [0, False, False, True, True, False, False, True, True, False],\n",
       " [0, True, False, False, True, False, False, False, False, False],\n",
       " [0, 0, True, 0, 0, True, 0, 0, True, True],\n",
       " [0, True, 0, 0, True, 0, 0, True, True, 0]]"
      ]
     },
     "execution_count": 29,
     "metadata": {},
     "output_type": "execute_result"
    }
   ],
   "source": [
    "row_info"
   ]
  },
  {
   "cell_type": "code",
   "execution_count": null,
   "metadata": {},
   "outputs": [],
   "source": []
  }
 ],
 "metadata": {
  "interpreter": {
   "hash": "f08154012ddadd8e950e6e9e035c7a7b32c136e7647e9b7c77e02eb723a8bedb"
  },
  "kernelspec": {
   "display_name": "Python 3.8.8 ('base')",
   "language": "python",
   "name": "python3"
  },
  "language_info": {
   "codemirror_mode": {
    "name": "ipython",
    "version": 3
   },
   "file_extension": ".py",
   "mimetype": "text/x-python",
   "name": "python",
   "nbconvert_exporter": "python",
   "pygments_lexer": "ipython3",
   "version": "3.8.8"
  },
  "orig_nbformat": 4
 },
 "nbformat": 4,
 "nbformat_minor": 2
}
