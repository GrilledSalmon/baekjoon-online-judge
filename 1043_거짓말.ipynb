{
 "cells": [
  {
   "cell_type": "markdown",
   "metadata": {},
   "source": [
    "# 1043 거짓말\n",
    "220601\n",
    "- 소감\n",
    "    - 스토리와 풀이가 상당히 재밌는 문제였습니다. 추천!\n",
    "    - 다른 사람들의 풀이를 참고해보니 매우 다양한 풀이가 있는 것 같습니다.\n",
    "    - 저는 union-find를 사용했고, 기억에 의존해 구현하느라 + 실수를 찾느라 시간이 좀 걸렸습니다.\n",
    "- 소요 시간 : 55분\n",
    "- 알고리즘 분류 : 그래프 이론, 자료 구조, 그래프 탐색, 분리 집합\n",
    "- 티어 : 골드 4"
   ]
  },
  {
   "cell_type": "code",
   "execution_count": 3,
   "metadata": {},
   "outputs": [],
   "source": [
    "import sys\n",
    "# input = sys.stdin.readline\n",
    "\n",
    "N, M = map(int, input().split())\n",
    "temp = tuple(map(int, input().split()))\n",
    "truth_num = temp[0]\n",
    "truth_people = temp[1:]\n",
    "parties = [list(map(int, input().split())) for _ in range(M)]\n",
    "\n",
    "group = list(range(N+1))\n",
    "\n",
    "def find_group(a):\n",
    "    \"\"\"a가 속한 그룹을 알려주고 업데이트\"\"\"\n",
    "    if group[a] == a:\n",
    "        return a\n",
    "    group[a] = find_group(group[a])\n",
    "    return group[a]\n",
    "\n",
    "def union(a, b):\n",
    "    \"\"\"a와 b의 그룹을 작은 쪽으로 합쳐줌\"\"\"\n",
    "    group_a = find_group(a)\n",
    "    group_b = find_group(b)\n",
    "    if group_a > group_b:\n",
    "        group[group_a] = group_b\n",
    "    else:\n",
    "        group[group_b] = group_a\n",
    "\n",
    "def solve():\n",
    "    if truth_num == 0:\n",
    "        print(M)\n",
    "        return\n",
    "\n",
    "    # 진실을 아는 사람들은 같은 그룹으로\n",
    "    knowing_truth_group = min(truth_people)\n",
    "    for person in truth_people:\n",
    "        group[person] = knowing_truth_group\n",
    "\n",
    "    for party in parties: # 파티 묶어주기\n",
    "        first_person = party[1]\n",
    "        for i in range(2, party[0]+1):\n",
    "            union(first_person, party[i])\n",
    "\n",
    "    ans = 0\n",
    "    knowing_truth_group = find_group(knowing_truth_group)\n",
    "    for party in parties:\n",
    "        if knowing_truth_group != find_group(party[1]):\n",
    "            ans += 1\n",
    "    \n",
    "    print(ans)\n",
    "    return\n",
    "\n",
    "solve()"
   ]
  },
  {
   "cell_type": "code",
   "execution_count": 5,
   "metadata": {},
   "outputs": [
    {
     "data": {
      "text/plain": [
       "(8, 5, 3, (1, 2, 7), [[2, 3, 4], [1, 5], [2, 5, 6], [2, 6, 8], [1, 8]])"
      ]
     },
     "execution_count": 5,
     "metadata": {},
     "output_type": "execute_result"
    }
   ],
   "source": [
    "N, M, truth_num, truth_people, parties"
   ]
  },
  {
   "cell_type": "code",
   "execution_count": 7,
   "metadata": {},
   "outputs": [
    {
     "name": "stdout",
     "output_type": "stream",
     "text": [
      "5\n"
     ]
    }
   ],
   "source": [
    "group = list(range(N+1))\n",
    "\n",
    "# 진실을 아는 사람들은 같은 그룹으로\n",
    "knowing_truth_group = min(truth_people)\n",
    "for person in truth_people:\n",
    "    group[person] = knowing_truth_group\n",
    "\n",
    "def find_group(a):\n",
    "    \"\"\"a가 속한 그룹을 알려주고 업데이트\"\"\"\n",
    "    if group[a] == a:\n",
    "        return a\n",
    "    group[a] = find_group(group[a])\n",
    "    return group[a]\n",
    "\n",
    "def union(a, b):\n",
    "    \"\"\"a와 b의 그룹을 작은 쪽으로 합쳐줌\"\"\"\n",
    "    group_a = find_group(a)\n",
    "    group_b = find_group(b)\n",
    "    if group_a > group_b:\n",
    "        group[group_a] = group_b\n",
    "    else:\n",
    "        group[group_b] = group_a\n",
    "\n",
    "for party in parties:\n",
    "    first_person = party[1]\n",
    "    for i in range(2, party[0]):\n",
    "        union(first_person, party[i])\n",
    "\n",
    "ans = 0\n",
    "for party in parties:\n",
    "    if knowing_truth_group != find_group(party[1]):\n",
    "        ans += 1\n",
    "print(ans)"
   ]
  },
  {
   "cell_type": "code",
   "execution_count": 8,
   "metadata": {},
   "outputs": [
    {
     "data": {
      "text/plain": [
       "[0, 1, 1, 3, 4, 5, 6, 1, 8]"
      ]
     },
     "execution_count": 8,
     "metadata": {},
     "output_type": "execute_result"
    }
   ],
   "source": [
    "group"
   ]
  }
 ],
 "metadata": {
  "interpreter": {
   "hash": "f08154012ddadd8e950e6e9e035c7a7b32c136e7647e9b7c77e02eb723a8bedb"
  },
  "kernelspec": {
   "display_name": "Python 3.8.8 ('base')",
   "language": "python",
   "name": "python3"
  },
  "language_info": {
   "codemirror_mode": {
    "name": "ipython",
    "version": 3
   },
   "file_extension": ".py",
   "mimetype": "text/x-python",
   "name": "python",
   "nbconvert_exporter": "python",
   "pygments_lexer": "ipython3",
   "version": "3.8.8"
  },
  "orig_nbformat": 4
 },
 "nbformat": 4,
 "nbformat_minor": 2
}
