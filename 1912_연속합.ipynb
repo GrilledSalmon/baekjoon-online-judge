{
 "cells": [
  {
   "cell_type": "markdown",
   "metadata": {},
   "source": [
    "# 1912 연속합\n",
    "220619\n",
    "- 소감\n",
    "    - dp테이블을 어떻게 만들까 고민하다보니 풀렸는데, 누접합과 until minimum을 활용해 풀 수 있었습니다.\n",
    "    - 0차원 dp테이블 느낌?\n",
    "- 소요 시간 : 15분\n",
    "- 알고리즘 분류 : 다이나믹 프로그래밍\n",
    "- 티어 : 실버 2"
   ]
  },
  {
   "cell_type": "code",
   "execution_count": 1,
   "metadata": {},
   "outputs": [],
   "source": [
    "import sys\n",
    "input = sys.stdin.readline\n",
    "\n",
    "n = int(input())\n",
    "A = list(map(int, input().split()))\n",
    "\n",
    "ans = -sys.maxsize\n",
    "until_min = 0\n",
    "\n",
    "now_acc = 0\n",
    "for a in A:\n",
    "    now_acc += a\n",
    "    ans = max(ans, now_acc - until_min)\n",
    "    if now_acc < until_min:\n",
    "        until_min = now_acc\n",
    "\n",
    "print(ans)"
   ]
  },
  {
   "cell_type": "code",
   "execution_count": 3,
   "metadata": {},
   "outputs": [
    {
     "data": {
      "text/plain": [
       "(10, [10, -4, 3, 1, 5, 6, -35, 12, 21, -1])"
      ]
     },
     "execution_count": 3,
     "metadata": {},
     "output_type": "execute_result"
    }
   ],
   "source": [
    "n, A"
   ]
  },
  {
   "cell_type": "code",
   "execution_count": 11,
   "metadata": {},
   "outputs": [
    {
     "name": "stdout",
     "output_type": "stream",
     "text": [
      "33\n"
     ]
    }
   ],
   "source": [
    "import sys\n",
    "\n",
    "ans = -sys.maxsize\n",
    "until_min = 0\n",
    "\n",
    "now_acc = 0\n",
    "for a in A:\n",
    "    now_acc += a\n",
    "    ans = max(ans, now_acc - until_min)\n",
    "    if now_acc < until_min:\n",
    "        until_min = now_acc\n",
    "\n",
    "print(ans)"
   ]
  },
  {
   "cell_type": "code",
   "execution_count": 7,
   "metadata": {},
   "outputs": [
    {
     "data": {
      "text/plain": [
       "3"
      ]
     },
     "execution_count": 7,
     "metadata": {},
     "output_type": "execute_result"
    }
   ],
   "source": []
  },
  {
   "cell_type": "code",
   "execution_count": null,
   "metadata": {},
   "outputs": [],
   "source": []
  }
 ],
 "metadata": {
  "kernelspec": {
   "display_name": "Python 3.8.8 ('base')",
   "language": "python",
   "name": "python3"
  },
  "language_info": {
   "codemirror_mode": {
    "name": "ipython",
    "version": 3
   },
   "file_extension": ".py",
   "mimetype": "text/x-python",
   "name": "python",
   "nbconvert_exporter": "python",
   "pygments_lexer": "ipython3",
   "version": "3.8.8"
  },
  "orig_nbformat": 4,
  "vscode": {
   "interpreter": {
    "hash": "f08154012ddadd8e950e6e9e035c7a7b32c136e7647e9b7c77e02eb723a8bedb"
   }
  }
 },
 "nbformat": 4,
 "nbformat_minor": 2
}
