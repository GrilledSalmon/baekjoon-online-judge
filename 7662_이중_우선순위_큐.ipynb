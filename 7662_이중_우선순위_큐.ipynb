{
 "cells": [
  {
   "cell_type": "markdown",
   "metadata": {},
   "source": [
    "# 7662 이중 우선순위 큐\n",
    "220204~220209\n",
    "- 소감 : 환상의 똥꼬쇼 문제.... 사실 아이디어는 간단한데 이상하게 구현 머리가 너무 안 돌아가서 자잘한 실수로 인한 시행착오를 많이 했다.. 그런데 놀랍게도 파이썬 코드중에 2등함!!(??) 서버가 컨디션이 좋았나..?ㅎ 어떻게 내 코드가 2등이지..ㅎ;\n",
    "- 아이디어 : max 힙과 min 힙, 이렇게 두 개의 힙을 동시에 사용하고, 두 힙을 동기화시켜주기 위해서 각각의 힙에서 삭제했던 값들과 삭제한 횟수를 저장하는 dict을 두 개 만들어주고, 삭제 과정에서 이미 상대 힙에서 삭제했던 요소를 또 삭제하는 경우 그냥 삭제하고 한 번 더 pop을 시행한다. 그리고 dict의 count 내용을 수정해준다.\n",
    "- 알고리즘 분류\n",
    "    - 자료 구조\n",
    "    - 트리를 사용한 집합과 맵\n",
    "    - 우선순위 큐\n",
    "- 티어 : 골드 5"
   ]
  },
  {
   "cell_type": "code",
   "execution_count": 9,
   "metadata": {},
   "outputs": [
    {
     "name": "stdout",
     "output_type": "stream",
     "text": [
      "2 -2\n"
     ]
    }
   ],
   "source": [
    "# 통과 코드\n",
    "import sys\n",
    "from heapq import heappush, heapify, heappop\n",
    "# input = sys.stdin.readline\n",
    "\n",
    "def delete(my_deleted : set, opp_deleted : set, heap : list, maxi : bool):\n",
    "    \"\"\"다른 heap에서 delete됐던 수인지 체크\"\"\"\n",
    "    k = -1 if maxi else 1 # max_heap일 경우 value값 부호 반대로 바꿔주기 위해\n",
    "    while True:\n",
    "        del_num = heappop(heap) * k\n",
    "        if opp_deleted.get(del_num, None): # 반대 heap에서 삭제된 수였던 경우, 삭제된 횟수 -1\n",
    "            opp_deleted[del_num] -= 1\n",
    "        \n",
    "        else: # 삭제된 적이 없는 수이거나 이미 처리가 완료된 수라면\n",
    "            my_deleted[del_num] = my_deleted.get(del_num, 0) + 1\n",
    "            return del_num\n",
    "            \n",
    "\n",
    "def process(max_heap : list, min_heap : list, command : str, val : str, max_deleted : dict, min_deleted : dict) -> None:\n",
    "    if command == 'I': # Insert\n",
    "        heappush(min_heap, val)\n",
    "        heappush(max_heap, -val)\n",
    "    \n",
    "    elif command == 'D' and max_heap: # Delete, 비어 있지 않아야 함\n",
    "        if val == 1: # 최대값 삭제\n",
    "            delete(max_deleted, min_deleted, max_heap, True)\n",
    "        else: # val =='-1' # 최소값 삭제\n",
    "            delete(min_deleted, max_deleted, min_heap, False)\n",
    "\n",
    "    if not max_heap or not min_heap or -max_heap[0]<min_heap[0]:\n",
    "        max_heap.clear(); min_heap.clear()\n",
    "        max_deleted.clear(); min_deleted.clear()\n",
    "\n",
    "\n",
    "T = int(input())\n",
    "for _ in range(T):\n",
    "    N = int(input())\n",
    "    max_heap, min_heap = [], []\n",
    "    max_deleted, min_deleted = {}, {}\n",
    "    for _ in range(N):\n",
    "        command, val = input().split()\n",
    "        val = int(val)\n",
    "        process(max_heap, min_heap, command, val, max_deleted, min_deleted)\n",
    "\n",
    "    if max_heap:\n",
    "        # 힙 청소\n",
    "        while True:\n",
    "            if min_deleted.get(-max_heap[0], None):\n",
    "                min_deleted[-max_heap[0]] -= 1\n",
    "                heappop(max_heap)\n",
    "            else:\n",
    "                break\n",
    "            \n",
    "        while True:\n",
    "            if max_deleted.get(min_heap[0], None):\n",
    "                max_deleted[min_heap[0]] -= 1\n",
    "                heappop(min_heap)\n",
    "            else:\n",
    "                break\n",
    "        print(-max_heap[0], min_heap[0])\n",
    "    else:\n",
    "        print('EMPTY')"
   ]
  },
  {
   "cell_type": "code",
   "execution_count": null,
   "metadata": {},
   "outputs": [],
   "source": [
    "# 테스트용 // 틀림\n",
    "import sys\n",
    "from heapq import heappush, heapify, heappop\n",
    "# input = sys.stdin.readline\n",
    "\n",
    "def process(p_queue : list, command : str, val : str) -> None:\n",
    "    if command == 'I': # Insert\n",
    "        heappush(p_queue, int(val))\n",
    "    \n",
    "    elif command == 'D' and p_queue: # Delete, 비어 있지 않아야 함\n",
    "        if val == '1': # 최대값 삭제\n",
    "            max_index = len(p_queue)//2\n",
    "            maxi = p_queue[max_index]\n",
    "\n",
    "            # heap의 반쪽 뒤에 대해서(큰 값들이 있는 leaf node)\n",
    "            for i in range(len(p_queue)//2, len(p_queue)):\n",
    "                if maxi < p_queue[i]:\n",
    "                    max_index = i\n",
    "                    maxi = p_queue[i]\n",
    "\n",
    "            # 끝 값과 자리 바꾸기 swap\n",
    "            p_queue[-1], p_queue[max_index] = p_queue[max_index], p_queue[-1]\n",
    "            print(p_queue.pop()) # 최대값 삭제\n",
    "            heapify(p_queue) # 다시 heap 구조 맞춰주기\n",
    "\n",
    "        else: # val =='-1' # 최소값 삭제\n",
    "            print(heappop(p_queue))\n",
    "\n",
    "T = int(input())\n",
    "for _ in range(T):\n",
    "    N = int(input())\n",
    "    p_queue = []\n",
    "    for _ in range(N):\n",
    "        command, val = input().split()\n",
    "        process(p_queue, command, val)\n",
    "    if p_queue:\n",
    "        print(max(p_queue), p_queue[0])\n",
    "    else:\n",
    "        print('EMPTY')"
   ]
  },
  {
   "cell_type": "code",
   "execution_count": 2,
   "metadata": {},
   "outputs": [
    {
     "name": "stdout",
     "output_type": "stream",
     "text": [
      "-5643\n",
      "16\n",
      "123\n",
      "EMPTY\n",
      "653\n",
      "97\n",
      "-642\n",
      "333 -45\n"
     ]
    }
   ],
   "source": [
    "# 테스트용\n",
    "import sys\n",
    "from heapq import heappush, heapify, heappop\n",
    "# input = sys.stdin.readline\n",
    "\n",
    "def process(max_heap : list, min_heap, command : str, val : str) -> None:\n",
    "    if command == 'I': # Insert\n",
    "        heappush(min_heap, val)\n",
    "        heappush(max_heap, -val)\n",
    "    \n",
    "    elif command == 'D' and max_heap: # Delete, 비어 있지 않아야 함\n",
    "        if val == 1: # 최대값 삭제\n",
    "            print(-heappop(max_heap))\n",
    "            if -max_heap[0] == min_heap[0]:\n",
    "                heappop(min_heap)\n",
    "\n",
    "        else: # val =='-1' # 최소값 삭제\n",
    "            print(heappop(min_heap))\n",
    "            if -max_heap[0] == min_heap[0]:\n",
    "                heappop(max_heap)\n",
    "\n",
    "    if not max_heap or not min_heap or -max_heap[0]<min_heap[0]:\n",
    "        max_heap.clear()\n",
    "        min_heap.clear()\n",
    "\n",
    "\n",
    "T = int(input())\n",
    "for _ in range(T):\n",
    "    N = int(input())\n",
    "    max_heap = []\n",
    "    min_heap = []\n",
    "    for _ in range(N):\n",
    "        command, val = input().split()\n",
    "        val = int(val)\n",
    "        process(max_heap, min_heap, command, val)\n",
    "    if max_heap:\n",
    "        print(-max_heap[0], min_heap[0])\n",
    "    else:\n",
    "        print('EMPTY')"
   ]
  },
  {
   "cell_type": "code",
   "execution_count": 63,
   "metadata": {},
   "outputs": [
    {
     "name": "stdout",
     "output_type": "stream",
     "text": [
      "[-16] [16] // {} {}\n",
      "[-16, 5643] [-5643, 16] // {} {}\n"
     ]
    },
    {
     "ename": "ValueError",
     "evalue": "not enough values to unpack (expected 2, got 1)",
     "output_type": "error",
     "traceback": [
      "\u001b[1;31m---------------------------------------------------------------------------\u001b[0m",
      "\u001b[1;31mValueError\u001b[0m                                Traceback (most recent call last)",
      "\u001b[1;32m<ipython-input-63-6308719a6401>\u001b[0m in \u001b[0;36m<module>\u001b[1;34m\u001b[0m\n\u001b[0;32m     38\u001b[0m     \u001b[0mmax_deleted\u001b[0m\u001b[1;33m,\u001b[0m \u001b[0mmin_deleted\u001b[0m \u001b[1;33m=\u001b[0m \u001b[1;33m{\u001b[0m\u001b[1;33m}\u001b[0m\u001b[1;33m,\u001b[0m \u001b[1;33m{\u001b[0m\u001b[1;33m}\u001b[0m\u001b[1;33m\u001b[0m\u001b[1;33m\u001b[0m\u001b[0m\n\u001b[0;32m     39\u001b[0m     \u001b[1;32mfor\u001b[0m \u001b[0m_\u001b[0m \u001b[1;32min\u001b[0m \u001b[0mrange\u001b[0m\u001b[1;33m(\u001b[0m\u001b[0mN\u001b[0m\u001b[1;33m)\u001b[0m\u001b[1;33m:\u001b[0m\u001b[1;33m\u001b[0m\u001b[1;33m\u001b[0m\u001b[0m\n\u001b[1;32m---> 40\u001b[1;33m         \u001b[0mcommand\u001b[0m\u001b[1;33m,\u001b[0m \u001b[0mval\u001b[0m \u001b[1;33m=\u001b[0m \u001b[0minput\u001b[0m\u001b[1;33m(\u001b[0m\u001b[1;33m)\u001b[0m\u001b[1;33m.\u001b[0m\u001b[0msplit\u001b[0m\u001b[1;33m(\u001b[0m\u001b[1;33m)\u001b[0m\u001b[1;33m\u001b[0m\u001b[1;33m\u001b[0m\u001b[0m\n\u001b[0m\u001b[0;32m     41\u001b[0m         \u001b[0mval\u001b[0m \u001b[1;33m=\u001b[0m \u001b[0mint\u001b[0m\u001b[1;33m(\u001b[0m\u001b[0mval\u001b[0m\u001b[1;33m)\u001b[0m\u001b[1;33m\u001b[0m\u001b[1;33m\u001b[0m\u001b[0m\n\u001b[0;32m     42\u001b[0m         \u001b[0mprocess\u001b[0m\u001b[1;33m(\u001b[0m\u001b[0mmax_heap\u001b[0m\u001b[1;33m,\u001b[0m \u001b[0mmin_heap\u001b[0m\u001b[1;33m,\u001b[0m \u001b[0mcommand\u001b[0m\u001b[1;33m,\u001b[0m \u001b[0mval\u001b[0m\u001b[1;33m,\u001b[0m \u001b[0mmax_deleted\u001b[0m\u001b[1;33m,\u001b[0m \u001b[0mmin_deleted\u001b[0m\u001b[1;33m)\u001b[0m\u001b[1;33m\u001b[0m\u001b[1;33m\u001b[0m\u001b[0m\n",
      "\u001b[1;31mValueError\u001b[0m: not enough values to unpack (expected 2, got 1)"
     ]
    }
   ],
   "source": [
    "import sys\n",
    "from heapq import heappush, heapify, heappop\n",
    "# input = sys.stdin.readline\n",
    "\n",
    "def delete(my_deleted : set, opp_deleted : set, heap : list, maxi : bool):\n",
    "    \"\"\"다른 heap에서 delete됐던 수인지 체크\"\"\"\n",
    "    k = -1 if maxi else 1 # max_heap일 경우 value값 부호 반대로 바꿔주기 위해\n",
    "    while True:\n",
    "        del_num = heappop(heap) * k\n",
    "        if opp_deleted.get(del_num, None): # 반대 heap에서 삭제된 수였던 경우, 삭제된 횟수 -1\n",
    "            opp_deleted[del_num] -= 1\n",
    "        \n",
    "        else: # 삭제된 적이 없는 수이거나 이미 처리가 완료된 수라면\n",
    "            my_deleted[del_num] = my_deleted.get(del_num, 0) + 1\n",
    "            return del_num\n",
    "            \n",
    "\n",
    "def process(max_heap : list, min_heap : list, command : str, val : str, max_deleted : dict, min_deleted : dict) -> None:\n",
    "    if command == 'I': # Insert\n",
    "        heappush(min_heap, val)\n",
    "        heappush(max_heap, -val)\n",
    "    \n",
    "    elif command == 'D' and max_heap: # Delete, 비어 있지 않아야 함\n",
    "        if val == 1: # 최대값 삭제\n",
    "            delete(max_deleted, min_deleted, max_heap, True)\n",
    "        else: # val =='-1' # 최소값 삭제\n",
    "            delete(min_deleted, max_deleted, min_heap, False)\n",
    "\n",
    "    if not max_heap or not min_heap or -max_heap[0]<min_heap[0]:\n",
    "        max_heap.clear(); min_heap.clear()\n",
    "        max_deleted.clear(); min_deleted.clear()\n",
    "\n",
    "\n",
    "T = int(input())\n",
    "for _ in range(T):\n",
    "    N = int(input())\n",
    "    max_heap, min_heap = [], []\n",
    "    max_deleted, min_deleted = {}, {}\n",
    "    for _ in range(N):\n",
    "        command, val = input().split()\n",
    "        val = int(val)\n",
    "        process(max_heap, min_heap, command, val, max_deleted, min_deleted)\n",
    "\n",
    "    if max_heap:\n",
    "        # 힙 청소\n",
    "        while True:\n",
    "            if min_deleted.get(-max_heap[0], None):\n",
    "                min_deleted[-max_heap[0]] -= 1\n",
    "                heappop(max_heap)\n",
    "            else:\n",
    "                break\n",
    "            \n",
    "        while True:\n",
    "            if max_deleted.get(min_heap[0], None):\n",
    "                max_deleted[min_heap[0]] -= 1\n",
    "                heappop(min_heap)\n",
    "            else:\n",
    "                break\n",
    "        print(-max_heap[0], min_heap[0])\n",
    "    else:\n",
    "        print('EMPTY')"
   ]
  },
  {
   "cell_type": "code",
   "execution_count": 44,
   "metadata": {},
   "outputs": [
    {
     "name": "stdout",
     "output_type": "stream",
     "text": [
      "[-5, -3] [7] // {7: 1} {3: 1, 5: 1}\n"
     ]
    }
   ],
   "source": [
    "print(max_heap, min_heap, '//', max_deleted, min_deleted)"
   ]
  },
  {
   "cell_type": "code",
   "execution_count": 32,
   "metadata": {},
   "outputs": [
    {
     "data": {
      "text/plain": [
       "{}"
      ]
     },
     "execution_count": 32,
     "metadata": {},
     "output_type": "execute_result"
    }
   ],
   "source": [
    "max_deleted.clear()\n",
    "max_deleted"
   ]
  },
  {
   "cell_type": "code",
   "execution_count": 25,
   "metadata": {},
   "outputs": [
    {
     "ename": "KeyError",
     "evalue": "4",
     "output_type": "error",
     "traceback": [
      "\u001b[1;31m---------------------------------------------------------------------------\u001b[0m",
      "\u001b[1;31mKeyError\u001b[0m                                  Traceback (most recent call last)",
      "\u001b[1;32m<ipython-input-25-e3d8b50fa16d>\u001b[0m in \u001b[0;36m<module>\u001b[1;34m\u001b[0m\n\u001b[0;32m      1\u001b[0m \u001b[0ms\u001b[0m \u001b[1;33m=\u001b[0m \u001b[0mset\u001b[0m\u001b[1;33m(\u001b[0m\u001b[1;33m[\u001b[0m\u001b[1;36m1\u001b[0m\u001b[1;33m,\u001b[0m \u001b[1;36m2\u001b[0m\u001b[1;33m,\u001b[0m \u001b[1;36m3\u001b[0m\u001b[1;33m]\u001b[0m\u001b[1;33m)\u001b[0m\u001b[1;33m\u001b[0m\u001b[1;33m\u001b[0m\u001b[0m\n\u001b[1;32m----> 2\u001b[1;33m \u001b[0ms\u001b[0m\u001b[1;33m.\u001b[0m\u001b[0mremove\u001b[0m\u001b[1;33m(\u001b[0m\u001b[1;36m4\u001b[0m\u001b[1;33m)\u001b[0m\u001b[1;33m\u001b[0m\u001b[1;33m\u001b[0m\u001b[0m\n\u001b[0m",
      "\u001b[1;31mKeyError\u001b[0m: 4"
     ]
    }
   ],
   "source": [
    "s = set([1, 2, 3])\n",
    "s.remove(4)"
   ]
  },
  {
   "cell_type": "code",
   "execution_count": null,
   "metadata": {},
   "outputs": [],
   "source": []
  },
  {
   "cell_type": "code",
   "execution_count": null,
   "metadata": {},
   "outputs": [],
   "source": []
  },
  {
   "cell_type": "code",
   "execution_count": null,
   "metadata": {},
   "outputs": [],
   "source": []
  },
  {
   "cell_type": "code",
   "execution_count": 37,
   "metadata": {},
   "outputs": [],
   "source": [
    "inp = \"\"\"I 9\n",
    "I 7\n",
    "I 9\n",
    "I 6\n",
    "I 7\n",
    "I 7\n",
    "I 9\n",
    "D -1\n",
    "D 1\n",
    "I 8\n",
    "D 1\n",
    "D 1\n",
    "D 1\n",
    "D 1\n",
    "D -1\n",
    "D -1\n",
    "D -1\"\"\""
   ]
  },
  {
   "cell_type": "code",
   "execution_count": 38,
   "metadata": {},
   "outputs": [
    {
     "name": "stdout",
     "output_type": "stream",
     "text": [
      "[-9] [9] // {} {}\n",
      "[-9, -7] [7, 9] // {} {}\n",
      "[-9, -7, -9] [7, 9, 9] // {} {}\n",
      "[-9, -7, -9, -6] [6, 7, 9, 9] // {} {}\n",
      "[-9, -7, -9, -6, -7] [6, 7, 9, 9, 7] // {} {}\n",
      "[-9, -7, -9, -6, -7, -7] [6, 7, 7, 9, 7, 9] // {} {}\n",
      "[-9, -7, -9, -6, -7, -7, -9] [6, 7, 7, 9, 7, 9, 9] // {} {}\n",
      "[-9, -7, -9, -6, -7, -7, -9] [7, 7, 9, 9, 7, 9] // {} {6: 1}\n",
      "[-9, -7, -9, -6, -7, -7] [7, 7, 9, 9, 7, 9] // {9: 1} {6: 1}\n",
      "[-9, -7, -9, -6, -7, -7, -8] [7, 7, 8, 9, 7, 9, 9] // {9: 1} {6: 1}\n",
      "[-9, -7, -8, -6, -7, -7] [7, 7, 8, 9, 7, 9, 9] // {9: 2} {6: 1}\n",
      "[-8, -7, -7, -6, -7] [7, 7, 8, 9, 7, 9, 9] // {9: 3} {6: 1}\n",
      "[-7, -7, -7, -6] [7, 7, 8, 9, 7, 9, 9] // {9: 3, 8: 1} {6: 1}\n",
      "[-7, -7, -6] [7, 7, 8, 9, 7, 9, 9] // {9: 3, 8: 1, 7: 1} {6: 1}\n",
      "[-7, -7, -6] [7, 9, 8, 9, 9] // {9: 3, 8: 1, 7: 0} {6: 1, 7: 1}\n",
      "[] [] // {} {}\n",
      "[] [] // {} {}\n",
      "EMPTY\n"
     ]
    }
   ],
   "source": [
    "# FOR TEST\n",
    "import sys\n",
    "from heapq import heappush, heapify, heappop\n",
    "# input = sys.stdin.readline\n",
    "\n",
    "def delete(my_deleted : set, opp_deleted : set, heap : list, maxi : bool):\n",
    "    \"\"\"다른 heap에서 delete됐던 수인지 체크\"\"\"\n",
    "    k = -1 if maxi else 1 # max_heap일 경우 value값 부호 반대로 바꿔주기 위해\n",
    "    while True:\n",
    "        del_num = heappop(heap) * k\n",
    "        if opp_deleted.get(del_num, None): # 반대 heap에서 삭제된 수였던 경우, 삭제된 횟수 -1\n",
    "            opp_deleted[del_num] -= 1\n",
    "        \n",
    "        else: # 삭제된 적이 없는 수이거나 이미 처리가 완료된 수라면\n",
    "            my_deleted[del_num] = my_deleted.get(del_num, 0) + 1\n",
    "            return del_num\n",
    "            \n",
    "\n",
    "def process(max_heap : list, min_heap, command : str, val : str, max_deleted : dict, min_deleted : dict) -> None:\n",
    "    if command == 'I': # Insert\n",
    "        heappush(min_heap, val)\n",
    "        heappush(max_heap, -val)\n",
    "    \n",
    "    elif command == 'D' and max_heap: # Delete, 비어 있지 않아야 함\n",
    "        if val == 1: # 최대값 삭제\n",
    "            delete(max_deleted, min_deleted, max_heap, True)\n",
    "        else: # val =='-1' # 최소값 삭제\n",
    "            delete(min_deleted, max_deleted, min_heap, False)\n",
    "\n",
    "    if not max_heap or not min_heap or -max_heap[0]<min_heap[0]:\n",
    "        max_heap.clear(); min_heap.clear()\n",
    "        max_deleted.clear(); min_deleted.clear()\n",
    "\n",
    "\n",
    "\n",
    "max_heap, min_heap = [], []\n",
    "max_deleted, min_deleted = {}, {}\n",
    "for i in inp.split('\\n'):\n",
    "    command, val = i.split()\n",
    "    val = int(val)\n",
    "    process(max_heap, min_heap, command, val, max_deleted, min_deleted)\n",
    "    print(max_heap, min_heap, '//', max_deleted, min_deleted)\n",
    "\n",
    "if max_heap:\n",
    "    # 힙 청소\n",
    "    while True:\n",
    "        if min_deleted.get(-max_heap[0], None):\n",
    "            min_deleted[-max_heap[0]] -= 1\n",
    "            heappop(max_heap)\n",
    "        else:\n",
    "            break\n",
    "        \n",
    "    while True:\n",
    "        if max_deleted.get(min_heap[0], None):\n",
    "            max_deleted[min_heap[0]] -= 1\n",
    "            heappop(min_heap)\n",
    "        else:\n",
    "            break\n",
    "    print(-max_heap[0], min_heap[0])\n",
    "else:\n",
    "    print('EMPTY')"
   ]
  },
  {
   "cell_type": "code",
   "execution_count": 32,
   "metadata": {},
   "outputs": [
    {
     "data": {
      "text/plain": [
       "[]"
      ]
     },
     "execution_count": 32,
     "metadata": {},
     "output_type": "execute_result"
    }
   ],
   "source": [
    "max_heap"
   ]
  },
  {
   "cell_type": "code",
   "execution_count": 2,
   "metadata": {},
   "outputs": [],
   "source": [
    "inp = '''I -45\n",
    "I 653\n",
    "D 1\n",
    "I -642\n",
    "I 45\n",
    "I 97\n",
    "D 1\n",
    "D -1\n",
    "I 333'''"
   ]
  },
  {
   "cell_type": "code",
   "execution_count": 3,
   "metadata": {},
   "outputs": [
    {
     "name": "stdout",
     "output_type": "stream",
     "text": [
      "I -45\n",
      "I 653\n",
      "D 1\n",
      "I -642\n",
      "I 45\n",
      "I 97\n",
      "D 1\n",
      "D -1\n",
      "I 333\n"
     ]
    }
   ],
   "source": [
    "for i in inp.split('\\n'):\n",
    "    print(i)"
   ]
  },
  {
   "cell_type": "code",
   "execution_count": null,
   "metadata": {},
   "outputs": [],
   "source": []
  }
 ],
 "metadata": {
  "interpreter": {
   "hash": "c798a043d5b26db4ea8dc684fe25ec244835432adc5539bce2de618403b1d63c"
  },
  "kernelspec": {
   "display_name": "Python 3.8.5 64-bit ('base': conda)",
   "language": "python",
   "name": "python3"
  },
  "language_info": {
   "codemirror_mode": {
    "name": "ipython",
    "version": 3
   },
   "file_extension": ".py",
   "mimetype": "text/x-python",
   "name": "python",
   "nbconvert_exporter": "python",
   "pygments_lexer": "ipython3",
   "version": "3.8.5"
  },
  "orig_nbformat": 4
 },
 "nbformat": 4,
 "nbformat_minor": 2
}
