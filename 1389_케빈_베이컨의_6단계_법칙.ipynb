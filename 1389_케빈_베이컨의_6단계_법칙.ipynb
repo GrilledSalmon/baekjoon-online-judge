{
 "cells": [
  {
   "cell_type": "markdown",
   "metadata": {},
   "source": [
    "# 1389 케빈 베이컨의 6단계 법칙\n",
    "220214\n",
    "- 소감 : BFS는 생각보다 빠르다. 아직 그래프 순회의 시간복잡도에 감이 없는 것 같다.\n",
    "- 알고리즘 분류\n",
    "    - 그래프 이론\n",
    "    - 그래프 탐색\n",
    "    - 너비 우선탐색\n",
    "    - 플로이드-와샬\n",
    "- 티어 : 실버 1"
   ]
  },
  {
   "cell_type": "code",
   "execution_count": 20,
   "metadata": {},
   "outputs": [
    {
     "name": "stdout",
     "output_type": "stream",
     "text": [
      "3\n"
     ]
    }
   ],
   "source": [
    "from collections import deque\n",
    "import sys\n",
    "# input = sys.stdin.readline\n",
    "N, M = map(int, input().split())\n",
    "adj_set = [set() for _ in range(N+1)] # 친구 관계가 중복으로 들어올 수 있기 때문에 set으로 생성\n",
    "for _ in range(M):\n",
    "    A, B = map(int, input().split())\n",
    "    adj_set[A].add(B)\n",
    "    adj_set[B].add(A)\n",
    "\n",
    "def kevin(root=1, adj_set=adj_set) -> int:\n",
    "    \"\"\"root 기준 사람들의 친구거리\"\"\"\n",
    "    level = [None] * (N+1) # visited 역할도 함\n",
    "    level[root] = 0 # root(자신)의 level은 0\n",
    "    now_level_set, prev_level_set = set(), set([root]) # 이전 레벨에 속하는 노드, 현재 레벨에 속하는 노드 set\n",
    "    \n",
    "    queue = deque([root])\n",
    "    now_level = 1 # 현재 돌고 있는 친구들의 레벨(거리, 깊이, 단계)\n",
    "    kevin_num = 0 # 케빈 베이컨 수. 리턴해줄 값\n",
    "\n",
    "    # BFS\n",
    "    while queue:\n",
    "        now_node = queue.popleft()\n",
    "        if now_node not in prev_level_set: # 어떤 상황에 레벨을 올려야 할까?\n",
    "            now_level += 1\n",
    "            prev_level_set = now_level_set.copy()\n",
    "            now_level_set.clear()\n",
    "\n",
    "        for adj_node in adj_set[now_node]:\n",
    "            if level[adj_node] is None: # 방문한 적이 없다면\n",
    "                queue.append(adj_node)\n",
    "                now_level_set.add(adj_node)\n",
    "\n",
    "                level[adj_node] = now_level\n",
    "                kevin_num += now_level\n",
    "                \n",
    "    return kevin_num\n",
    "\n",
    "mini = 10**8\n",
    "for node in range(1, N+1):\n",
    "    now_kevin = kevin(node)\n",
    "    if mini > now_kevin:\n",
    "        mini = now_kevin\n",
    "        ans = node\n",
    "print(ans)"
   ]
  },
  {
   "cell_type": "code",
   "execution_count": 3,
   "metadata": {},
   "outputs": [
    {
     "data": {
      "text/plain": [
       "[set(), {3, 4}, {3}, {1, 2, 4}, {1, 3, 5}, {4}]"
      ]
     },
     "execution_count": 3,
     "metadata": {},
     "output_type": "execute_result"
    }
   ],
   "source": [
    "adj_set"
   ]
  },
  {
   "cell_type": "code",
   "execution_count": 1,
   "metadata": {},
   "outputs": [
    {
     "data": {
      "text/plain": [
       "4950"
      ]
     },
     "execution_count": 1,
     "metadata": {},
     "output_type": "execute_result"
    }
   ],
   "source": [
    "def comb(n):\n",
    "    return n*(n-1)//2\n",
    "comb(100)"
   ]
  },
  {
   "cell_type": "code",
   "execution_count": 15,
   "metadata": {},
   "outputs": [
    {
     "name": "stdout",
     "output_type": "stream",
     "text": [
      "[None, 0, 2, 1, 1, 2]\n",
      "[None, 2, 0, 1, 2, 3]\n",
      "[None, 1, 1, 0, 1, 2]\n",
      "[None, 1, 2, 1, 0, 1]\n",
      "[None, 2, 3, 2, 1, 0]\n"
     ]
    }
   ],
   "source": [
    "from collections import deque\n",
    "def kevin(root=1, adj_set=adj_set) -> list:\n",
    "    \"\"\"root 기준 친구들의 \"\"\"\n",
    "    level = [None] * (N+1)\n",
    "    level[root] = 0 # root(자신)의 level은 0\n",
    "    now_level_set, prev_level_set = set(), set([root])\n",
    "    queue = deque([root])\n",
    "    now_level = 1\n",
    "\n",
    "    while queue:\n",
    "        now_node = queue.popleft()\n",
    "\n",
    "        if now_node not in prev_level_set: # 어떤 상황에 레벨을 올려야 할까?\n",
    "            now_level += 1\n",
    "            prev_level_set = now_level_set.copy()\n",
    "            now_level_set.clear()\n",
    "\n",
    "        for adj_node in adj_set[now_node]:\n",
    "            if level[adj_node] is None: # 방문한 적이 없다면\n",
    "                level[adj_node] = now_level\n",
    "                queue.append(adj_node)\n",
    "                now_level_set.add(adj_node)\n",
    "\n",
    "    return level\n",
    "for node in range(1, N+1):\n",
    "    print(kevin(node))"
   ]
  },
  {
   "cell_type": "code",
   "execution_count": 19,
   "metadata": {},
   "outputs": [
    {
     "name": "stdout",
     "output_type": "stream",
     "text": [
      "3\n"
     ]
    }
   ],
   "source": [
    "from collections import deque\n",
    "def kevin(root=1, adj_set=adj_set) -> list:\n",
    "    \"\"\"root 기준 사람들의 친구거리\"\"\"\n",
    "    level = [None] * (N+1)\n",
    "    level[root] = 0 # root(자신)의 level은 0\n",
    "    now_level_set, prev_level_set = set(), set([root])\n",
    "    queue = deque([root])\n",
    "    now_level = 1\n",
    "    kevin_num = 0\n",
    "\n",
    "    while queue:\n",
    "        now_node = queue.popleft()\n",
    "        if now_node not in prev_level_set: # 어떤 상황에 레벨을 올려야 할까?\n",
    "            now_level += 1\n",
    "            prev_level_set = now_level_set.copy()\n",
    "            now_level_set.clear()\n",
    "\n",
    "        for adj_node in adj_set[now_node]:\n",
    "            if level[adj_node] is None: # 방문한 적이 없다면\n",
    "                queue.append(adj_node)\n",
    "                now_level_set.add(adj_node)\n",
    "\n",
    "                level[adj_node] = now_level\n",
    "                kevin_num += now_level\n",
    "                \n",
    "    return kevin_num\n",
    "\n",
    "mini = 10**8\n",
    "for node in range(1, N+1):\n",
    "    now_kevin = kevin(node)\n",
    "    if mini > now_kevin:\n",
    "        mini = now_kevin\n",
    "        ans = node\n",
    "print(ans)"
   ]
  },
  {
   "cell_type": "code",
   "execution_count": 5,
   "metadata": {},
   "outputs": [
    {
     "data": {
      "text/plain": [
       "[None, None, None, None, None, None, None, None, None, None]"
      ]
     },
     "execution_count": 5,
     "metadata": {},
     "output_type": "execute_result"
    }
   ],
   "source": [
    "[None] * 10"
   ]
  }
 ],
 "metadata": {
  "interpreter": {
   "hash": "c798a043d5b26db4ea8dc684fe25ec244835432adc5539bce2de618403b1d63c"
  },
  "kernelspec": {
   "display_name": "Python 3.8.5 ('base')",
   "language": "python",
   "name": "python3"
  },
  "language_info": {
   "codemirror_mode": {
    "name": "ipython",
    "version": 3
   },
   "file_extension": ".py",
   "mimetype": "text/x-python",
   "name": "python",
   "nbconvert_exporter": "python",
   "pygments_lexer": "ipython3",
   "version": "3.8.5"
  },
  "orig_nbformat": 4
 },
 "nbformat": 4,
 "nbformat_minor": 2
}
