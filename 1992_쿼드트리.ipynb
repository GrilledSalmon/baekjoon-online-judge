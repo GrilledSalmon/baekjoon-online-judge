{
 "cells": [
  {
   "cell_type": "markdown",
   "metadata": {},
   "source": [
    "# 1992 쿼드트리\n",
    "220301"
   ]
  },
  {
   "cell_type": "code",
   "execution_count": 1,
   "metadata": {},
   "outputs": [],
   "source": [
    "import sys\n",
    "# input = sys.stdin.readline\n",
    "N = int(input())\n",
    "img = [input() for _ in range(N)]\n",
    "\n",
    "def compr(x=0, y=0, n=N, img=img):\n",
    "    if n == 1:\n",
    "        return img[y][x]\n",
    "    \n",
    "    n //= 2\n",
    "    part1 = compr(x, y, n)\n",
    "    part2 = compr(x+n, y, n)\n",
    "    part3 = compr(x, y+n, n)\n",
    "    part4 = compr(x+n, y+n, n)\n",
    "    part = part1 + part2 + part3 + part4\n",
    "    if part == '0000':\n",
    "        return '0'\n",
    "    elif part == '1111':\n",
    "        return '1'\n",
    "    else:\n",
    "        return f'({part})'\n",
    "\n",
    "print(compr())"
   ]
  },
  {
   "cell_type": "code",
   "execution_count": 3,
   "metadata": {},
   "outputs": [
    {
     "data": {
      "text/plain": [
       "['11110000',\n",
       " '11110000',\n",
       " '00011100',\n",
       " '00011100',\n",
       " '11110000',\n",
       " '11110000',\n",
       " '11110011',\n",
       " '11110011']"
      ]
     },
     "execution_count": 3,
     "metadata": {},
     "output_type": "execute_result"
    }
   ],
   "source": [
    "img"
   ]
  },
  {
   "cell_type": "code",
   "execution_count": 4,
   "metadata": {},
   "outputs": [
    {
     "data": {
      "text/plain": [
       "'((110(0101))(0010)1(0001))'"
      ]
     },
     "execution_count": 4,
     "metadata": {},
     "output_type": "execute_result"
    }
   ],
   "source": [
    "def compr(x=0, y=0, n=N, img=img):\n",
    "    if n == 1:\n",
    "        return img[y][x]\n",
    "    \n",
    "    n //= 2\n",
    "    part1 = compr(x, y, n)\n",
    "    part2 = compr(x+n, y, n)\n",
    "    part3 = compr(x, y+n, n)\n",
    "    part4 = compr(x+n, y+n, n)\n",
    "    part = part1 + part2 + part3 + part4\n",
    "    if part == '0000':\n",
    "        return '0'\n",
    "    elif part == '1111':\n",
    "        return '1'\n",
    "    else:\n",
    "        return f'({part})'\n",
    "\n",
    "print(compr())\n",
    "    "
   ]
  }
 ],
 "metadata": {
  "interpreter": {
   "hash": "c798a043d5b26db4ea8dc684fe25ec244835432adc5539bce2de618403b1d63c"
  },
  "kernelspec": {
   "display_name": "Python 3.8.5 ('base')",
   "language": "python",
   "name": "python3"
  },
  "language_info": {
   "codemirror_mode": {
    "name": "ipython",
    "version": 3
   },
   "file_extension": ".py",
   "mimetype": "text/x-python",
   "name": "python",
   "nbconvert_exporter": "python",
   "pygments_lexer": "ipython3",
   "version": "3.8.5"
  },
  "orig_nbformat": 4
 },
 "nbformat": 4,
 "nbformat_minor": 2
}
