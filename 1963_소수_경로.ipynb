{
 "cells": [
  {
   "cell_type": "markdown",
   "metadata": {},
   "source": [
    "# 1963 소수 경로\n",
    "220628\n",
    "- 소감\n",
    "    - 한 자리만 차이나는 소수들끼리 그래프 관계를 만든다는 게 포인트인 것 같다.\n",
    "    - 위의 문제만 해결하면 전형적인 최단경로 문제\n",
    "- 소요 시간 : 32분\n",
    "- 알고리즘 분류 : 수학, 그래프 이론, 그래프 탐색, 정수론, 너비 우선 탐색, 소수 판정, 에라토스테네스의 체\n",
    "- 티어 : 골드 4"
   ]
  },
  {
   "cell_type": "code",
   "execution_count": 21,
   "metadata": {},
   "outputs": [],
   "source": [
    "from collections import deque\n",
    "import sys\n",
    "# input = sys.stdin.readline\n",
    "\n",
    "LIM = 10000\n",
    "is_prime = [1]*LIM\n",
    "is_prime[0], is_prime[1] = 0, 0\n",
    "primes = []\n",
    "for i in range(2, LIM):\n",
    "    if is_prime[i]:\n",
    "        if i >= 1000:\n",
    "            primes.append(i)\n",
    "        for j in range(2*i, LIM, i):\n",
    "            is_prime[j] = 0\n",
    "\n",
    "def is_close(p1, p2):\n",
    "    \"\"\"두 소수 n1과 n2가 한 자리씩만 차이나는지 판별\"\"\"\n",
    "    s1, s2 = str(p1), str(p2)\n",
    "    cnt = 0\n",
    "    for i in range(4):\n",
    "        if s1[i] != s2[i]:\n",
    "            cnt += 1\n",
    "    if cnt == 1:\n",
    "        return True\n",
    "    return False\n",
    "\n",
    "adj_list = [[] for _ in range(LIM)]\n",
    "for i in range(len(primes)-1):\n",
    "    for j in range(i+1, len(primes)):\n",
    "        p1, p2 = primes[i], primes[j]\n",
    "        if is_close(p1, p2):\n",
    "            adj_list[p1].append(p2)\n",
    "            adj_list[p2].append(p1)\n",
    "\n",
    "def bfs(P1, P2):\n",
    "    \"\"\"가능 여부, 필요 횟수 리턴\"\"\"\n",
    "    if P1 == P2:\n",
    "        return True, 0\n",
    "    cnt = 0\n",
    "    queue = deque([P1])\n",
    "    visited = [0]*LIM\n",
    "    visited[P1] = 1\n",
    "    while queue:\n",
    "        cnt += 1\n",
    "        for _ in range(len(queue)):\n",
    "            now_node = queue.popleft()\n",
    "            for adj_node in adj_list[now_node]:\n",
    "                if not visited[adj_node]:\n",
    "                    if adj_node == P2:\n",
    "                        return True, cnt\n",
    "                    visited[adj_node] = 1\n",
    "                    queue.append(adj_node)\n",
    "\n",
    "for _ in range(int(input())):\n",
    "    P1, P2 = map(int, input().split())\n",
    "    possible, cnt = bfs(P1, P2)\n",
    "    print(cnt) if possible else print(\"Impossible\")"
   ]
  },
  {
   "cell_type": "code",
   "execution_count": 22,
   "metadata": {},
   "outputs": [
    {
     "data": {
      "text/plain": [
       "(1033, 8179)"
      ]
     },
     "execution_count": 22,
     "metadata": {},
     "output_type": "execute_result"
    }
   ],
   "source": [
    "P1, P2"
   ]
  },
  {
   "cell_type": "code",
   "execution_count": 26,
   "metadata": {},
   "outputs": [
    {
     "name": "stdout",
     "output_type": "stream",
     "text": [
      "6\n"
     ]
    }
   ],
   "source": [
    "from collections import deque\n",
    "\n",
    "LIM = 10000\n",
    "is_prime = [1]*LIM\n",
    "is_prime[0], is_prime[1] = 0, 0\n",
    "primes = []\n",
    "for i in range(2, LIM):\n",
    "    if is_prime[i]:\n",
    "        if i >= 1000:\n",
    "            primes.append(i)\n",
    "        for j in range(2*i, LIM, i):\n",
    "            is_prime[j] = 0\n",
    "\n",
    "def is_close(p1, p2):\n",
    "    \"\"\"두 소수 n1과 n2가 한 자리씩만 차이나는지 판별\"\"\"\n",
    "    s1, s2 = str(p1), str(p2)\n",
    "    cnt = 0\n",
    "    for i in range(4):\n",
    "        if s1[i] != s2[i]:\n",
    "            cnt += 1\n",
    "    if cnt == 1:\n",
    "        return True\n",
    "    return False\n",
    "\n",
    "adj_list = [[] for _ in range(LIM)]\n",
    "for i in range(len(primes)-1):\n",
    "    for j in range(i+1, len(primes)):\n",
    "        p1, p2 = primes[i], primes[j]\n",
    "        if is_close(p1, p2):\n",
    "            adj_list[p1].append(p2)\n",
    "            adj_list[p2].append(p1)\n",
    "\n",
    "def bfs():\n",
    "    \"\"\"가능 여부, 필요 횟수 리턴\"\"\"\n",
    "    if P1 == P2:\n",
    "        return True, 0\n",
    "    cnt = 0\n",
    "    queue = deque([P1])\n",
    "    visited = [0]*LIM\n",
    "    visited[P1] = 1\n",
    "    while queue:\n",
    "        cnt += 1\n",
    "        for _ in range(len(queue)):\n",
    "            now_node = queue.popleft()\n",
    "            for adj_node in adj_list[now_node]:\n",
    "                if not visited[adj_node]:\n",
    "                    if adj_node == P2:\n",
    "                        return True, cnt\n",
    "                    visited[adj_node] = 1\n",
    "                    queue.append(adj_node)\n",
    "\n",
    "possible, cnt = bfs()\n",
    "print(cnt) if possible else print(\"Impossible\")"
   ]
  },
  {
   "cell_type": "code",
   "execution_count": 20,
   "metadata": {},
   "outputs": [
    {
     "data": {
      "text/plain": [
       "1061"
      ]
     },
     "execution_count": 20,
     "metadata": {},
     "output_type": "execute_result"
    }
   ],
   "source": [
    "len(primes)"
   ]
  },
  {
   "cell_type": "code",
   "execution_count": 24,
   "metadata": {},
   "outputs": [],
   "source": [
    "def is_close(p1, p2):\n",
    "    \"\"\"두 소수 n1과 n2가 한 자리씩만 차이나는지 판별\"\"\"\n",
    "    s1, s2 = str(p1), str(p2)\n",
    "    cnt = 0\n",
    "    for i in range(4):\n",
    "        if s1[i] != s2[i]:\n",
    "            cnt += 1\n",
    "    if cnt == 1:\n",
    "        return True\n",
    "    return False\n",
    "\n",
    "adj_list = [[] for _ in range(LIM)]\n",
    "for i in range(len(primes)-1):\n",
    "    for j in range(i+1, len(primes)):\n",
    "        p1, p2 = primes[i], primes[j]\n",
    "        if is_close(p1, p2):\n",
    "            adj_list[p1].append(p2)\n",
    "            adj_list[p2].append(p1)\n",
    "\n"
   ]
  },
  {
   "cell_type": "code",
   "execution_count": 25,
   "metadata": {},
   "outputs": [
    {
     "data": {
      "text/plain": [
       "[3967, 4967, 6967, 9067, 9467, 9767, 9907]"
      ]
     },
     "execution_count": 25,
     "metadata": {},
     "output_type": "execute_result"
    }
   ],
   "source": [
    "adj_list[p1]"
   ]
  },
  {
   "cell_type": "code",
   "execution_count": null,
   "metadata": {},
   "outputs": [],
   "source": []
  }
 ],
 "metadata": {
  "kernelspec": {
   "display_name": "Python 3.8.8 ('base')",
   "language": "python",
   "name": "python3"
  },
  "language_info": {
   "codemirror_mode": {
    "name": "ipython",
    "version": 3
   },
   "file_extension": ".py",
   "mimetype": "text/x-python",
   "name": "python",
   "nbconvert_exporter": "python",
   "pygments_lexer": "ipython3",
   "version": "3.8.8"
  },
  "orig_nbformat": 4,
  "vscode": {
   "interpreter": {
    "hash": "f08154012ddadd8e950e6e9e035c7a7b32c136e7647e9b7c77e02eb723a8bedb"
   }
  }
 },
 "nbformat": 4,
 "nbformat_minor": 2
}
