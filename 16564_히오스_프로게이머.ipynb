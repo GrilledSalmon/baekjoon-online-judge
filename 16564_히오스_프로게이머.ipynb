{
 "cells": [
  {
   "cell_type": "markdown",
   "metadata": {},
   "source": [
    "# 16564 히오스 프로게이머\n",
    "220408\n",
    "- 알고리즘 분류\n",
    "    - 이분 탐색\n",
    "- 티어 : 실버 1"
   ]
  },
  {
   "cell_type": "code",
   "execution_count": 1,
   "metadata": {},
   "outputs": [
    {
     "name": "stdout",
     "output_type": "stream",
     "text": [
      "17\n"
     ]
    }
   ],
   "source": [
    "# 16564 히오스 프로게이머\n",
    "import sys\n",
    "# input = sys.stdin.readline\n",
    "\n",
    "N, K = map(int, input().split())\n",
    "X = sorted([int(input()) for _ in range(N)])\n",
    "\n",
    "def possible(min_level):\n",
    "    tot = 0\n",
    "    for x in X:\n",
    "        if min_level <= x:\n",
    "            break\n",
    "        tot += min_level - x\n",
    "    if tot <= K:\n",
    "        return True\n",
    "    return False\n",
    "\n",
    "T_start = X[0]\n",
    "T_end = X[-1] + K//N\n",
    "while True:\n",
    "    T_mid = (T_start + T_end) // 2\n",
    "    if possible(T_mid): # 가능하면 높여본다\n",
    "        T_start = T_mid + 1\n",
    "    else:\n",
    "        T_end = T_mid\n",
    "    \n",
    "    if T_start == T_end:\n",
    "        break\n",
    "    \n",
    "if possible(T_start):\n",
    "    print(T_start)\n",
    "else:\n",
    "    print(T_start-1)"
   ]
  }
 ],
 "metadata": {
  "interpreter": {
   "hash": "8fac594bfae6525c0c41b4041d2d72effa188cc8ead05f81b1fab2bb098927fb"
  },
  "kernelspec": {
   "display_name": "Python 3.8.8 ('base')",
   "language": "python",
   "name": "python3"
  },
  "language_info": {
   "codemirror_mode": {
    "name": "ipython",
    "version": 3
   },
   "file_extension": ".py",
   "mimetype": "text/x-python",
   "name": "python",
   "nbconvert_exporter": "python",
   "pygments_lexer": "ipython3",
   "version": "3.8.8"
  },
  "orig_nbformat": 4
 },
 "nbformat": 4,
 "nbformat_minor": 2
}
