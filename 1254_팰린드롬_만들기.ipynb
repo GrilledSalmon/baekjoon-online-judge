{
 "cells": [
  {
   "cell_type": "markdown",
   "metadata": {},
   "source": [
    "# 1254 팰린드롬 만들기\n",
    "220507\n",
    "- 소감\n",
    "    1. 아이디어가 명확하지 않아 실수가 많았습니다.\n",
    "    2. 문자열의 길이 범위가 좁은 것을 보고 브루트포스로 접근했습니다.\n",
    "- 소요 시간 : 44분\n",
    "- 유형 : 문자열, 브루트포스"
   ]
  },
  {
   "cell_type": "code",
   "execution_count": 3,
   "metadata": {},
   "outputs": [],
   "source": [
    "S = input()[::-1]\n",
    "\n",
    "obs_range1 = len(S)//2+1 if len(S)%2 else len(S)//2  # 탐색 범위\n",
    "obs_range2 = obs_range1-1 if len(S)%2 else obs_range1\n",
    "\n",
    "# 홀수\n",
    "odd_max_pal = 0 # 탐색한 것들 중에 가장 긴 부분 팰린드롬\n",
    "for i in range(obs_range1):\n",
    "    cnt = 0\n",
    "    p1, p2 = i-1, i+1\n",
    "    while p1>=0:\n",
    "        if S[p1] == S[p2]:\n",
    "            cnt += 1\n",
    "            p1 -= 1\n",
    "            p2 += 1\n",
    "        else:\n",
    "            break\n",
    "    else:\n",
    "        if cnt > odd_max_pal:\n",
    "            odd_max_pal = cnt\n",
    "\n",
    "# 짝수\n",
    "even_max_pal = 0 # 탐색한 것들 중에 가장 긴 부분 팰린드롬\n",
    "for i in range(obs_range2):\n",
    "    cnt = 0\n",
    "    p1, p2 = i, i+1\n",
    "    while p1>=0:\n",
    "        if S[p1] == S[p2]:\n",
    "            cnt += 1\n",
    "            p1 -= 1\n",
    "            p2 += 1\n",
    "        else:\n",
    "            break\n",
    "    else:\n",
    "        if cnt > even_max_pal:\n",
    "            even_max_pal = cnt\n",
    "\n",
    "max_pal = max(2*odd_max_pal + 1, 2*even_max_pal)\n",
    "ans = (len(S) - max_pal)*2 + max_pal\n",
    "print(ans)"
   ]
  },
  {
   "cell_type": "code",
   "execution_count": 5,
   "metadata": {},
   "outputs": [
    {
     "data": {
      "text/plain": [
       "'abab'"
      ]
     },
     "execution_count": 5,
     "metadata": {},
     "output_type": "execute_result"
    }
   ],
   "source": [
    "S"
   ]
  },
  {
   "cell_type": "code",
   "execution_count": 16,
   "metadata": {},
   "outputs": [
    {
     "name": "stdout",
     "output_type": "stream",
     "text": [
      "5\n"
     ]
    }
   ],
   "source": [
    "odd_max_pal = 0 # 탐색한 것들 중에 가장 긴 부분 팰린드롬\n",
    "for i in range(len(S)):\n",
    "    cnt = 0\n",
    "    p1, p2 = i-1, i+1\n",
    "    while p1>=0 and p2<len(S):\n",
    "        if S[p1] == S[p2]:\n",
    "            cnt += 1\n",
    "            p1 -= 1\n",
    "            p2 += 1\n",
    "        else:\n",
    "            break\n",
    "    if cnt > odd_max_pal:\n",
    "        odd_max_pal = cnt\n",
    "\n",
    "even_max_pal = 0 # 탐색한 것들 중에 가장 긴 부분 팰린드롬\n",
    "for i in range(len(S)-1):\n",
    "    cnt = 1\n",
    "    p1, p2 = i, i+1\n",
    "    while p1>=0 and p2<len(S):\n",
    "        if S[p1] == S[p2]:\n",
    "            cnt += 1\n",
    "            p1 -= 1\n",
    "            p2 += 1\n",
    "        else:\n",
    "            break\n",
    "    if cnt > even_max_pal:\n",
    "        even_max_pal = cnt\n",
    "\n",
    "max_pal = max(2*odd_max_pal + 1, 2*even_max_pal)\n",
    "ans = (len(S) - max_pal)*2 + max_pal\n",
    "print(ans)"
   ]
  },
  {
   "cell_type": "code",
   "execution_count": 14,
   "metadata": {},
   "outputs": [
    {
     "data": {
      "text/plain": [
       "1"
      ]
     },
     "execution_count": 14,
     "metadata": {},
     "output_type": "execute_result"
    }
   ],
   "source": []
  },
  {
   "cell_type": "code",
   "execution_count": null,
   "metadata": {},
   "outputs": [],
   "source": []
  }
 ],
 "metadata": {
  "interpreter": {
   "hash": "f08154012ddadd8e950e6e9e035c7a7b32c136e7647e9b7c77e02eb723a8bedb"
  },
  "kernelspec": {
   "display_name": "Python 3.8.8 ('base')",
   "language": "python",
   "name": "python3"
  },
  "language_info": {
   "codemirror_mode": {
    "name": "ipython",
    "version": 3
   },
   "file_extension": ".py",
   "mimetype": "text/x-python",
   "name": "python",
   "nbconvert_exporter": "python",
   "pygments_lexer": "ipython3",
   "version": "3.8.8"
  },
  "orig_nbformat": 4
 },
 "nbformat": 4,
 "nbformat_minor": 2
}
