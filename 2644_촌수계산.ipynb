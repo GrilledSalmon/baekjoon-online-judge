{
 "cells": [
  {
   "cell_type": "markdown",
   "metadata": {},
   "source": [
    "# 2644 촌수계산\n",
    "220722\n",
    "- 소감\n",
    "    - 기본적인 BFS 문제\n",
    "- 소요 시간 : 8분\n",
    "- 알고리즘 분류 : 그래프 이론, 그래프 탐색, 너비 우선 탐색, 깊이 우선 탐색\n",
    "- 티어 : 실버 2"
   ]
  },
  {
   "cell_type": "code",
   "execution_count": null,
   "metadata": {},
   "outputs": [],
   "source": [
    "from collections import deque\n",
    "import sys\n",
    "input = sys.stdin.readline\n",
    "\n",
    "n = int(input())\n",
    "A, B = map(int, input().split())\n",
    "m = int(input())\n",
    "adj_list = [[] for _ in range(n+1)]\n",
    "\n",
    "for _ in range(m):\n",
    "    a, b = map(int, input().split())\n",
    "    adj_list[a].append(b)\n",
    "    adj_list[b].append(a)\n",
    "\n",
    "visited = [0]*(n+1)\n",
    "visited[A] = 1\n",
    "queue = deque([A])\n",
    "\n",
    "def bfs():\n",
    "    chon = 0\n",
    "    while queue:\n",
    "        chon += 1\n",
    "        for _ in range(len(queue)):\n",
    "            now_node = queue.popleft()\n",
    "            for adj_node in adj_list[now_node]:\n",
    "                if not visited[adj_node]:\n",
    "                    if adj_node == B:\n",
    "                        return chon\n",
    "                    visited[adj_node] = 1\n",
    "                    queue.append(adj_node)\n",
    "    return -1\n",
    "print(bfs())\n"
   ]
  }
 ],
 "metadata": {
  "kernelspec": {
   "display_name": "Python 3.8.8 ('base')",
   "language": "python",
   "name": "python3"
  },
  "language_info": {
   "name": "python",
   "version": "3.8.8"
  },
  "orig_nbformat": 4,
  "vscode": {
   "interpreter": {
    "hash": "f08154012ddadd8e950e6e9e035c7a7b32c136e7647e9b7c77e02eb723a8bedb"
   }
  }
 },
 "nbformat": 4,
 "nbformat_minor": 2
}
