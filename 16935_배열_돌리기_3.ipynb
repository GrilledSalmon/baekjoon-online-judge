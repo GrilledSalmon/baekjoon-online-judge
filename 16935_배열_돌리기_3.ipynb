{
 "cells": [
  {
   "cell_type": "markdown",
   "metadata": {},
   "source": [
    "# 16935 배열 돌리기 3\n",
    "220520"
   ]
  },
  {
   "cell_type": "code",
   "execution_count": 3,
   "metadata": {},
   "outputs": [],
   "source": [
    "import sys\n",
    "# input = sys.stdin.readline\n",
    "\n",
    "N, M, R = map(int, input().split())\n",
    "A = [list(map(int, input().split())) for _ in range(N)]\n",
    "opers = tuple(map(int, input().split()))"
   ]
  },
  {
   "cell_type": "code",
   "execution_count": 4,
   "metadata": {},
   "outputs": [
    {
     "data": {
      "text/plain": [
       "(6,\n",
       " 8,\n",
       " 6,\n",
       " [[3, 2, 6, 3, 1, 2, 9, 7],\n",
       "  [9, 7, 8, 2, 1, 4, 5, 3],\n",
       "  [5, 9, 2, 1, 9, 6, 1, 8],\n",
       "  [2, 1, 3, 8, 6, 3, 9, 2],\n",
       "  [1, 3, 2, 8, 7, 9, 2, 1],\n",
       "  [4, 5, 1, 9, 8, 2, 1, 3]],\n",
       " (1, 2, 3, 4, 5, 6))"
      ]
     },
     "execution_count": 4,
     "metadata": {},
     "output_type": "execute_result"
    }
   ],
   "source": [
    "N, M, R, A, opers"
   ]
  },
  {
   "cell_type": "code",
   "execution_count": null,
   "metadata": {},
   "outputs": [],
   "source": [
    "def oper_func(oper):\n",
    "    if oper == 1:\n",
    "        return oper_1\n",
    "    elif oper == 2:\n",
    "        return oper_2\n",
    "    elif oper == 3:\n",
    "        return oper_3\n",
    "    elif oper == 4:\n",
    "        return oper_4\n",
    "    elif oper == 5:\n",
    "        return oper_5\n",
    "    else:\n",
    "        return oper_6\n",
    "\n",
    "def swap(ls : list, i, j):\n",
    "    \"\"\"ls라는 list의 i, j인덱스의 값의 위치를 바꿔줌\"\"\"\n",
    "    ls[i], ls[j] = ls[j], ls[i]\n",
    "\n",
    "def oper_1(A):\n",
    "    \n",
    "\n",
    "def oper_2(A):\n",
    "    pass\n",
    "\n",
    "def oper_3(A):\n",
    "    pass\n",
    "\n",
    "def oper_4(A):\n",
    "    pass\n",
    "\n",
    "def oper_5(A):\n",
    "    pass\n",
    "\n",
    "def oper_6(A):\n",
    "    pass"
   ]
  }
 ],
 "metadata": {
  "interpreter": {
   "hash": "f08154012ddadd8e950e6e9e035c7a7b32c136e7647e9b7c77e02eb723a8bedb"
  },
  "kernelspec": {
   "display_name": "Python 3.8.8 ('base')",
   "language": "python",
   "name": "python3"
  },
  "language_info": {
   "codemirror_mode": {
    "name": "ipython",
    "version": 3
   },
   "file_extension": ".py",
   "mimetype": "text/x-python",
   "name": "python",
   "nbconvert_exporter": "python",
   "pygments_lexer": "ipython3",
   "version": "3.8.8"
  },
  "orig_nbformat": 4
 },
 "nbformat": 4,
 "nbformat_minor": 2
}
