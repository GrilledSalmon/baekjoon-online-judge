{
 "cells": [
  {
   "cell_type": "markdown",
   "metadata": {},
   "source": [
    "# 16935 배열 돌리기 3\n",
    "220520\n",
    "- 소감\n",
    "    - 이전에 풀었던 배열돌리기와 비슷할줄 알았는데 그렇지 않네요..\n",
    "    - 어떻게 하면 좀 더 효율적으로 구현할 수 있을까 고민되는 문제였습니다. 언어의 특성을 잘 알고 있어야할 것 같아요.\n",
    "- 소요 시간 : 44분\n",
    "- 알고리즘 분류 : 구현\n",
    "- 티어 : 실버 1"
   ]
  },
  {
   "cell_type": "code",
   "execution_count": 3,
   "metadata": {},
   "outputs": [],
   "source": [
    "import sys\n",
    "# input = sys.stdin.readline\n",
    "\n",
    "N, M, R = map(int, input().split())\n",
    "A = [list(map(int, input().split())) for _ in range(N)]\n",
    "opers = tuple(map(int, input().split()))\n",
    "\n",
    "def swap(ls : list, i, j):\n",
    "    \"\"\"ls라는 list의 i, j인덱스의 값의 위치를 바꿔줌\"\"\"\n",
    "    ls[i], ls[j] = ls[j], ls[i]\n",
    "\n",
    "def oper_1(A):\n",
    "    N = len(A)\n",
    "    for i in range(N//2):\n",
    "        swap(A, i, N-i-1)\n",
    "\n",
    "def oper_2(A):\n",
    "    M = len(A[0])\n",
    "    for line in A:\n",
    "        for j in range(M//2):\n",
    "            swap(line, j, M-j-1)\n",
    "\n",
    "def oper_3(A):\n",
    "    new_A = []\n",
    "    M = len(A[0])\n",
    "    N = len(A)\n",
    "    for j in range(M):\n",
    "        temp_line = []\n",
    "        for i in range(N-1, -1, -1):\n",
    "            temp_line.append(A[i][j])\n",
    "        new_A.append(temp_line)\n",
    "    return new_A\n",
    "\n",
    "\n",
    "def oper_4(A):\n",
    "    new_A = []\n",
    "    M = len(A[0])\n",
    "    N = len(A)\n",
    "    for j in range(M-1, -1, -1):\n",
    "        temp_line = []\n",
    "        for i in range(N):\n",
    "            temp_line.append(A[i][j])\n",
    "        new_A.append(temp_line)\n",
    "    return new_A\n",
    "\n",
    "def oper_5(A):\n",
    "    M = len(A[0])\n",
    "    N = len(A)\n",
    "    half_N, half_M = N//2, M//2\n",
    "    for i in range(half_N):\n",
    "        for j in range(half_M):\n",
    "            A[i][j], A[i][j+half_M], A[i+half_N][j+half_M], A[i+half_N][j] = A[i+half_N][j], A[i][j], A[i][j+half_M], A[i+half_N][j+half_M]\n",
    "\n",
    "def oper_6(A):\n",
    "    M = len(A[0])\n",
    "    N = len(A)\n",
    "    half_N, half_M = N//2, M//2\n",
    "    for i in range(half_N):\n",
    "        for j in range(half_M):\n",
    "            A[i][j], A[i][j+half_M], A[i+half_N][j+half_M], A[i+half_N][j] = A[i][j+half_M], A[i+half_N][j+half_M], A[i+half_N][j], A[i][j]\n",
    "\n",
    "def oper_func(oper):\n",
    "    if oper == 1:\n",
    "        return oper_1\n",
    "    elif oper == 2:\n",
    "        return oper_2\n",
    "    elif oper == 3:\n",
    "        return oper_3\n",
    "    elif oper == 4:\n",
    "        return oper_4\n",
    "    elif oper == 5:\n",
    "        return oper_5\n",
    "    else:\n",
    "        return oper_6\n",
    "\n",
    "for oper in opers:\n",
    "    func = oper_func(oper)\n",
    "    if oper in (3, 4):\n",
    "        A = func(A)\n",
    "    else:\n",
    "        func(A)\n",
    "\n",
    "for line in A:\n",
    "    print(' '.join(map(str, line)))"
   ]
  },
  {
   "cell_type": "code",
   "execution_count": 40,
   "metadata": {},
   "outputs": [],
   "source": [
    "A = [[3, 2, 6, 3, 1, 2, 9, 7],\n",
    "  [9, 7, 8, 2, 1, 4, 5, 3],\n",
    "  [5, 9, 2, 1, 9, 6, 1, 8],\n",
    "  [2, 1, 3, 8, 6, 3, 9, 2],\n",
    "  [1, 3, 2, 8, 7, 9, 2, 1],\n",
    "  [4, 5, 1, 9, 8, 2, 1, 3]]"
   ]
  },
  {
   "cell_type": "code",
   "execution_count": 41,
   "metadata": {},
   "outputs": [
    {
     "data": {
      "text/plain": [
       "(6,\n",
       " 8,\n",
       " 6,\n",
       " [[3, 2, 6, 3, 1, 2, 9, 7],\n",
       "  [9, 7, 8, 2, 1, 4, 5, 3],\n",
       "  [5, 9, 2, 1, 9, 6, 1, 8],\n",
       "  [2, 1, 3, 8, 6, 3, 9, 2],\n",
       "  [1, 3, 2, 8, 7, 9, 2, 1],\n",
       "  [4, 5, 1, 9, 8, 2, 1, 3]],\n",
       " (1, 2, 3, 4, 5, 6))"
      ]
     },
     "execution_count": 41,
     "metadata": {},
     "output_type": "execute_result"
    }
   ],
   "source": [
    "N, M, R, A, opers"
   ]
  },
  {
   "cell_type": "code",
   "execution_count": 42,
   "metadata": {},
   "outputs": [
    {
     "name": "stdout",
     "output_type": "stream",
     "text": [
      "3 1 2 8 9 1 5 4\n",
      "1 2 9 7 8 2 3 1\n",
      "2 9 3 6 8 3 1 2\n",
      "8 1 6 9 1 2 9 5\n",
      "3 5 4 1 2 8 7 9\n",
      "7 9 2 1 3 6 2 3\n"
     ]
    }
   ],
   "source": [
    "def swap(ls : list, i, j):\n",
    "    \"\"\"ls라는 list의 i, j인덱스의 값의 위치를 바꿔줌\"\"\"\n",
    "    ls[i], ls[j] = ls[j], ls[i]\n",
    "\n",
    "def oper_1(A):\n",
    "    N = len(A)\n",
    "    for i in range(N//2):\n",
    "        swap(A, i, N-i-1)\n",
    "\n",
    "def oper_2(A):\n",
    "    M = len(A[0])\n",
    "    for line in A:\n",
    "        for j in range(M//2):\n",
    "            swap(line, j, M-j-1)\n",
    "\n",
    "def oper_3(A):\n",
    "    new_A = []\n",
    "    M = len(A[0])\n",
    "    N = len(A)\n",
    "    for j in range(M):\n",
    "        temp_line = []\n",
    "        for i in range(N-1, -1, -1):\n",
    "            temp_line.append(A[i][j])\n",
    "        new_A.append(temp_line)\n",
    "    return new_A\n",
    "\n",
    "\n",
    "def oper_4(A):\n",
    "    new_A = []\n",
    "    M = len(A[0])\n",
    "    N = len(A)\n",
    "    for j in range(M-1, -1, -1):\n",
    "        temp_line = []\n",
    "        for i in range(N):\n",
    "            temp_line.append(A[i][j])\n",
    "        new_A.append(temp_line)\n",
    "    return new_A\n",
    "\n",
    "def oper_5(A):\n",
    "    M = len(A[0])\n",
    "    N = len(A)\n",
    "    half_N, half_M = N//2, M//2\n",
    "    for i in range(half_N):\n",
    "        for j in range(half_M):\n",
    "            A[i][j], A[i][j+half_M], A[i+half_N][j+half_M], A[i+half_N][j] = A[i+half_N][j], A[i][j], A[i][j+half_M], A[i+half_N][j+half_M]\n",
    "\n",
    "def oper_6(A):\n",
    "    M = len(A[0])\n",
    "    N = len(A)\n",
    "    half_N, half_M = N//2, M//2\n",
    "    for i in range(half_N):\n",
    "        for j in range(half_M):\n",
    "            A[i][j], A[i][j+half_M], A[i+half_N][j+half_M], A[i+half_N][j] = A[i][j+half_M], A[i+half_N][j+half_M], A[i+half_N][j], A[i][j]\n",
    "\n",
    "def oper_func(oper):\n",
    "    if oper == 1:\n",
    "        return oper_1\n",
    "    elif oper == 2:\n",
    "        return oper_2\n",
    "    elif oper == 3:\n",
    "        return oper_3\n",
    "    elif oper == 4:\n",
    "        return oper_4\n",
    "    elif oper == 5:\n",
    "        return oper_5\n",
    "    else:\n",
    "        return oper_6\n",
    "\n",
    "for oper in opers:\n",
    "    func = oper_func(oper)\n",
    "    if oper in (3, 4):\n",
    "        A = func(A)\n",
    "    else:\n",
    "        func(A)\n",
    "\n",
    "for line in A:\n",
    "    print(' '.join(map(str, line)))"
   ]
  },
  {
   "cell_type": "code",
   "execution_count": 21,
   "metadata": {},
   "outputs": [
    {
     "data": {
      "text/plain": [
       "[[3, 2, 6, 3, 1, 2, 9, 7],\n",
       " [9, 7, 8, 2, 1, 4, 5, 3],\n",
       " [5, 9, 2, 1, 9, 6, 1, 8],\n",
       " [2, 1, 3, 8, 6, 3, 9, 2],\n",
       " [1, 3, 2, 8, 7, 9, 2, 1],\n",
       " [4, 5, 1, 9, 8, 2, 1, 3]]"
      ]
     },
     "execution_count": 21,
     "metadata": {},
     "output_type": "execute_result"
    }
   ],
   "source": [
    "A = [[3, 2, 6, 3, 1, 2, 9, 7],\n",
    "  [9, 7, 8, 2, 1, 4, 5, 3],\n",
    "  [5, 9, 2, 1, 9, 6, 1, 8],\n",
    "  [2, 1, 3, 8, 6, 3, 9, 2],\n",
    "  [1, 3, 2, 8, 7, 9, 2, 1],\n",
    "  [4, 5, 1, 9, 8, 2, 1, 3]]\n",
    "A"
   ]
  },
  {
   "cell_type": "code",
   "execution_count": 22,
   "metadata": {},
   "outputs": [
    {
     "data": {
      "text/plain": [
       "[[4, 5, 1, 9, 8, 2, 1, 3],\n",
       " [1, 3, 2, 8, 7, 9, 2, 1],\n",
       " [2, 1, 3, 8, 6, 3, 9, 2],\n",
       " [5, 9, 2, 1, 9, 6, 1, 8],\n",
       " [9, 7, 8, 2, 1, 4, 5, 3],\n",
       " [3, 2, 6, 3, 1, 2, 9, 7]]"
      ]
     },
     "execution_count": 22,
     "metadata": {},
     "output_type": "execute_result"
    }
   ],
   "source": [
    "oper_1(A)\n",
    "A"
   ]
  },
  {
   "cell_type": "code",
   "execution_count": 23,
   "metadata": {},
   "outputs": [
    {
     "data": {
      "text/plain": [
       "[[3, 1, 2, 8, 9, 1, 5, 4],\n",
       " [1, 2, 9, 7, 8, 2, 3, 1],\n",
       " [2, 9, 3, 6, 8, 3, 1, 2],\n",
       " [8, 1, 6, 9, 1, 2, 9, 5],\n",
       " [3, 5, 4, 1, 2, 8, 7, 9],\n",
       " [7, 9, 2, 1, 3, 6, 2, 3]]"
      ]
     },
     "execution_count": 23,
     "metadata": {},
     "output_type": "execute_result"
    }
   ],
   "source": [
    "oper_2(A)\n",
    "A"
   ]
  },
  {
   "cell_type": "code",
   "execution_count": 29,
   "metadata": {},
   "outputs": [
    {
     "data": {
      "text/plain": [
       "[[7, 3, 8, 2, 1, 3],\n",
       " [9, 5, 1, 9, 2, 1],\n",
       " [2, 4, 6, 3, 9, 2],\n",
       " [1, 1, 9, 6, 7, 8],\n",
       " [3, 2, 1, 8, 8, 9],\n",
       " [6, 8, 2, 3, 2, 1],\n",
       " [2, 7, 9, 1, 3, 5],\n",
       " [3, 9, 5, 2, 1, 4]]"
      ]
     },
     "execution_count": 29,
     "metadata": {},
     "output_type": "execute_result"
    }
   ],
   "source": [
    "oper_3(A)"
   ]
  },
  {
   "cell_type": "code",
   "execution_count": 33,
   "metadata": {},
   "outputs": [
    {
     "data": {
      "text/plain": [
       "[[3, 1, 2, 8, 9, 1, 5, 4],\n",
       " [1, 2, 9, 7, 8, 2, 3, 1],\n",
       " [2, 9, 3, 6, 8, 3, 1, 2],\n",
       " [8, 1, 6, 9, 1, 2, 9, 5],\n",
       " [3, 5, 4, 1, 2, 8, 7, 9],\n",
       " [7, 9, 2, 1, 3, 6, 2, 3]]"
      ]
     },
     "execution_count": 33,
     "metadata": {},
     "output_type": "execute_result"
    }
   ],
   "source": [
    "oper_4(oper_3(A))"
   ]
  },
  {
   "cell_type": "code",
   "execution_count": 35,
   "metadata": {},
   "outputs": [
    {
     "data": {
      "text/plain": [
       "[[3, 1, 2, 8, 9, 1, 5, 4],\n",
       " [1, 2, 9, 7, 8, 2, 3, 1],\n",
       " [2, 9, 3, 6, 8, 3, 1, 2],\n",
       " [8, 1, 6, 9, 1, 2, 9, 5],\n",
       " [3, 5, 4, 1, 2, 8, 7, 9],\n",
       " [7, 9, 2, 1, 3, 6, 2, 3]]"
      ]
     },
     "execution_count": 35,
     "metadata": {},
     "output_type": "execute_result"
    }
   ],
   "source": [
    "A"
   ]
  },
  {
   "cell_type": "code",
   "execution_count": 36,
   "metadata": {},
   "outputs": [
    {
     "data": {
      "text/plain": [
       "[[9, 1, 5, 4, 1, 2, 9, 5],\n",
       " [8, 2, 3, 1, 2, 8, 7, 9],\n",
       " [8, 3, 1, 2, 3, 6, 2, 3],\n",
       " [3, 1, 2, 8, 8, 1, 6, 9],\n",
       " [1, 2, 9, 7, 3, 5, 4, 1],\n",
       " [2, 9, 3, 6, 7, 9, 2, 1]]"
      ]
     },
     "execution_count": 36,
     "metadata": {},
     "output_type": "execute_result"
    }
   ],
   "source": [
    "oper_5(A)\n",
    "A"
   ]
  },
  {
   "cell_type": "code",
   "execution_count": 38,
   "metadata": {},
   "outputs": [],
   "source": [
    "oper_5(A)"
   ]
  },
  {
   "cell_type": "code",
   "execution_count": 39,
   "metadata": {},
   "outputs": [
    {
     "data": {
      "text/plain": [
       "[[3, 1, 2, 8, 9, 1, 5, 4],\n",
       " [1, 2, 9, 7, 8, 2, 3, 1],\n",
       " [2, 9, 3, 6, 8, 3, 1, 2],\n",
       " [8, 1, 6, 9, 1, 2, 9, 5],\n",
       " [3, 5, 4, 1, 2, 8, 7, 9],\n",
       " [7, 9, 2, 1, 3, 6, 2, 3]]"
      ]
     },
     "execution_count": 39,
     "metadata": {},
     "output_type": "execute_result"
    }
   ],
   "source": [
    "A"
   ]
  },
  {
   "cell_type": "code",
   "execution_count": null,
   "metadata": {},
   "outputs": [],
   "source": []
  }
 ],
 "metadata": {
  "interpreter": {
   "hash": "f08154012ddadd8e950e6e9e035c7a7b32c136e7647e9b7c77e02eb723a8bedb"
  },
  "kernelspec": {
   "display_name": "Python 3.8.8 ('base')",
   "language": "python",
   "name": "python3"
  },
  "language_info": {
   "codemirror_mode": {
    "name": "ipython",
    "version": 3
   },
   "file_extension": ".py",
   "mimetype": "text/x-python",
   "name": "python",
   "nbconvert_exporter": "python",
   "pygments_lexer": "ipython3",
   "version": "3.8.8"
  },
  "orig_nbformat": 4
 },
 "nbformat": 4,
 "nbformat_minor": 2
}
