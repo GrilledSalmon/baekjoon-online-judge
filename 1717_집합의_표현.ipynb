{
 "cells": [
  {
   "cell_type": "markdown",
   "metadata": {},
   "source": [
    "# 1717 집합의 표현\n",
    "220829\n",
    "- 소감\n",
    "    - 오늘 보이저엑스에서 유니온파인드 말한 기념으로 풀었음\n",
    "    - 역시나 유니온파인드 구현하는 건 몇번을 구현해도 실수가 많았음..;\n",
    "- 소요 시간 : 15분\n",
    "- 알고리즘 분류 : 자료 구조, 분리 집합\n",
    "- 티어 : 골드 4"
   ]
  },
  {
   "cell_type": "code",
   "execution_count": 1,
   "metadata": {},
   "outputs": [],
   "source": [
    "import sys\n",
    "sys.setrecursionlimit(10**5)\n",
    "# input = sys.stdin.readline\n",
    "\n",
    "n, m = map(int, input().split())\n",
    "\n",
    "# 0 : union\n",
    "# 1 : find\n",
    "group = list(range(n+1))\n",
    "def find(a):\n",
    "    if group[a] != a:\n",
    "        group[a] = find(group[a])\n",
    "    return group[a]\n",
    "\n",
    "def union(a, b):\n",
    "    group_a = find(a)\n",
    "    group_b = find(b)\n",
    "    if group_a > group_b:\n",
    "        group[group_a] = group_b\n",
    "    else:\n",
    "        group[group_b] = group_a\n",
    "\n",
    "for _ in range(m):\n",
    "    is_find, a, b = map(int, input().split())\n",
    "    if is_find:\n",
    "        print('YES') if find(a) == find(b) else print('NO')\n",
    "    else:\n",
    "        union(a, b)"
   ]
  },
  {
   "cell_type": "code",
   "execution_count": null,
   "metadata": {},
   "outputs": [],
   "source": [
    "# 0 : union\n",
    "# 1 : find\n",
    "group = list(range(n+1))\n",
    "def find(a):\n",
    "    if group[a] != a:\n",
    "        return find(group[a])\n",
    "    return a\n",
    "\n",
    "def union(a, b):\n",
    "    group_a = group[a]\n",
    "    group_b = group[b]\n",
    "    if group_a > group_b:\n",
    "        group[a] = group_b\n",
    "    else:\n",
    "        group[b] = group_a\n",
    "\n",
    "for _ in range(m):\n",
    "    is_find, a, b = map(int, input().split())\n",
    "    if is_find:\n",
    "        print('YES') if find(a) == find(b) else print('NO')\n",
    "    else:\n",
    "        union(a, b)"
   ]
  }
 ],
 "metadata": {
  "kernelspec": {
   "display_name": "Python 3.8.5 ('base')",
   "language": "python",
   "name": "python3"
  },
  "language_info": {
   "codemirror_mode": {
    "name": "ipython",
    "version": 3
   },
   "file_extension": ".py",
   "mimetype": "text/x-python",
   "name": "python",
   "nbconvert_exporter": "python",
   "pygments_lexer": "ipython3",
   "version": "3.8.5"
  },
  "orig_nbformat": 4,
  "vscode": {
   "interpreter": {
    "hash": "8cc51f7a6f9663e4a057df8e9ab0b3750994a36584b90d61db68aa71b39bfa78"
   }
  }
 },
 "nbformat": 4,
 "nbformat_minor": 2
}
