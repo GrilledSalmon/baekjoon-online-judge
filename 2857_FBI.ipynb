{
 "cells": [
  {
   "cell_type": "markdown",
   "metadata": {},
   "source": [
    "# 2857 FBI\n",
    "220603\n",
    "- 소감\n",
    "    - match는 반드시 처음부터 매치되어야 하고, 문자열 전체의 어느곳에선가 매치되면 된다는 것을 잊고 있었다..\n",
    "- 알고리즘 분류 : 구현, 문자열\n",
    "- 티어 : 브론즈 2"
   ]
  },
  {
   "cell_type": "code",
   "execution_count": 2,
   "metadata": {},
   "outputs": [
    {
     "name": "stdout",
     "output_type": "stream",
     "text": [
      "1 2 3 4 5\n"
     ]
    }
   ],
   "source": [
    "import sys\n",
    "import re\n",
    "# input = sys.stdin.readline\n",
    "\n",
    "cnt = 0\n",
    "c = re.compile('FBI')\n",
    "res = []\n",
    "for num in range(1, 6):\n",
    "    if c.search(input().rstrip()):\n",
    "        res.append(str(num))\n",
    "if res:\n",
    "    print(' '.join(res))\n",
    "else:\n",
    "    print('HE GOT AWAY!')"
   ]
  },
  {
   "cell_type": "code",
   "execution_count": 27,
   "metadata": {},
   "outputs": [],
   "source": [
    "def is_fbi(name):\n",
    "    pass\n",
    "\n",
    "c = re.compile('.*FBI.*')\n",
    "c = re.compile('FBI')\n",
    "# c = re.compile('.*FBI')"
   ]
  },
  {
   "cell_type": "code",
   "execution_count": 30,
   "metadata": {},
   "outputs": [
    {
     "name": "stdout",
     "output_type": "stream",
     "text": [
      "FBI\n"
     ]
    }
   ],
   "source": [
    "# print(c.match('1231FBI123321').group())\n",
    "print(c.search('1231516FBIsfdsdfs').group())"
   ]
  },
  {
   "cell_type": "code",
   "execution_count": 9,
   "metadata": {},
   "outputs": [],
   "source": [
    "re.match('FBI', 'dfFBIg')"
   ]
  },
  {
   "cell_type": "code",
   "execution_count": null,
   "metadata": {},
   "outputs": [],
   "source": []
  }
 ],
 "metadata": {
  "interpreter": {
   "hash": "f08154012ddadd8e950e6e9e035c7a7b32c136e7647e9b7c77e02eb723a8bedb"
  },
  "kernelspec": {
   "display_name": "Python 3.8.8 ('base')",
   "language": "python",
   "name": "python3"
  },
  "language_info": {
   "codemirror_mode": {
    "name": "ipython",
    "version": 3
   },
   "file_extension": ".py",
   "mimetype": "text/x-python",
   "name": "python",
   "nbconvert_exporter": "python",
   "pygments_lexer": "ipython3",
   "version": "3.8.8"
  },
  "orig_nbformat": 4
 },
 "nbformat": 4,
 "nbformat_minor": 2
}
