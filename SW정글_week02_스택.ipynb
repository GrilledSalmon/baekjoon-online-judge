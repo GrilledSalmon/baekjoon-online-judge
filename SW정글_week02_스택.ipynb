{
 "cells": [
  {
   "cell_type": "markdown",
   "metadata": {},
   "source": [
    "# SW정글 week02 컴퓨팅 사고로의 전환\n",
    "## <스택>\n",
    "220408"
   ]
  },
  {
   "cell_type": "code",
   "execution_count": 1,
   "metadata": {},
   "outputs": [
    {
     "name": "stdout",
     "output_type": "stream",
     "text": [
      "2\n"
     ]
    }
   ],
   "source": [
    "# 10828 스택\n",
    "import sys\n",
    "# input = sys.stdin.readline\n",
    "N = int(input())\n",
    "stack = []\n",
    "for _ in range(N):\n",
    "    inp = input().rstrip().split()\n",
    "    command = inp[0]\n",
    "    if command == 'push':\n",
    "        stack.append(inp[1])\n",
    "    elif command == 'top':\n",
    "        if stack:\n",
    "            print(stack[-1])\n",
    "        else:\n",
    "            print(-1)\n",
    "    elif command == 'size':\n",
    "        print(len(stack))\n",
    "    elif command == 'pop':\n",
    "        if stack:\n",
    "            print(stack.pop())\n",
    "        else:\n",
    "            print(-1)\n",
    "    else: # empty\n",
    "        if stack:\n",
    "            print(0)\n",
    "        else:\n",
    "            print(1)\n"
   ]
  },
  {
   "cell_type": "code",
   "execution_count": 3,
   "metadata": {},
   "outputs": [
    {
     "name": "stdout",
     "output_type": "stream",
     "text": [
      "7\n"
     ]
    }
   ],
   "source": [
    "# 10773 제로\n",
    "import sys\n",
    "# input = sys.stdin.readline\n",
    "K = int(input())\n",
    "stack = []\n",
    "for _ in range(K):\n",
    "    inp = int(input())\n",
    "    if inp:\n",
    "        stack.append(inp)\n",
    "    else:\n",
    "        stack.pop()\n",
    "print(sum(stack))"
   ]
  },
  {
   "cell_type": "code",
   "execution_count": 5,
   "metadata": {},
   "outputs": [
    {
     "name": "stdout",
     "output_type": "stream",
     "text": [
      "NO\n",
      "YES\n",
      "YES\n"
     ]
    }
   ],
   "source": [
    "# 9012 괄호\n",
    "import sys\n",
    "# input = sys.stdin.readline\n",
    "def good(parenthesis):\n",
    "    stack = []\n",
    "    for p in parenthesis:\n",
    "        if p == '(':\n",
    "            stack.append(p)\n",
    "        else:\n",
    "            if stack:\n",
    "                stack.pop()\n",
    "            else:\n",
    "                return False\n",
    "    if stack:\n",
    "        return False\n",
    "    return True\n",
    "for _ in range(int(input())):\n",
    "    if good(input().rstrip()):\n",
    "        print('YES')\n",
    "    else:\n",
    "        print('NO')"
   ]
  },
  {
   "cell_type": "code",
   "execution_count": 7,
   "metadata": {},
   "outputs": [
    {
     "name": "stdout",
     "output_type": "stream",
     "text": [
      "5\n"
     ]
    }
   ],
   "source": [
    "# 17608 막대기\n",
    "import sys\n",
    "# input = sys.stdin.readline\n",
    "N = int(input())\n",
    "stack = [int(input())]\n",
    "for _ in range(N-1):\n",
    "    num = int(input())\n",
    "    if stack[-1] > num:\n",
    "        stack.append(num)\n",
    "    else:\n",
    "        while stack and stack[-1] <= num:\n",
    "            stack.pop()\n",
    "        stack.append(num)\n",
    "print(len(stack))"
   ]
  },
  {
   "cell_type": "code",
   "execution_count": 20,
   "metadata": {},
   "outputs": [
    {
     "name": "stdout",
     "output_type": "stream",
     "text": [
      "0\n"
     ]
    }
   ],
   "source": [
    "# 2504 괄호의 값\n",
    "string = input()\n",
    "stack = []\n",
    "sub_stack = []\n",
    "for s in string:\n",
    "    if s == '(':\n",
    "        stack.append(2)\n",
    "        if len(stack) != len(sub_stack):\n",
    "            sub_stack.append(0)\n",
    "    elif s == '[':\n",
    "        stack.append(3)\n",
    "        if len(stack) != len(sub_stack):\n",
    "            sub_stack.append(0)\n",
    "    elif s == ')':\n",
    "        if stack and stack[-1] == 2:\n",
    "            if len(sub_stack) != len(stack):\n",
    "                temp = stack.pop()*sub_stack.pop()\n",
    "                sub_stack[-1] += temp\n",
    "            else:\n",
    "                sub_stack[-1] += stack.pop()\n",
    "        else:\n",
    "            print(0)\n",
    "            break\n",
    "    else: # ']'\n",
    "        if stack and stack[-1] == 3:\n",
    "            if len(sub_stack) != len(stack):\n",
    "                temp = stack.pop()*sub_stack.pop()\n",
    "                sub_stack[-1] += temp\n",
    "            else:\n",
    "                sub_stack[-1] += stack.pop()\n",
    "        else:\n",
    "            print(0)\n",
    "            break\n",
    "else:\n",
    "    print(sub_stack[0])"
   ]
  },
  {
   "cell_type": "code",
   "execution_count": 13,
   "metadata": {},
   "outputs": [
    {
     "name": "stdout",
     "output_type": "stream",
     "text": [
      "[2, 10, 5, 8, 4, 10, 6, 12, 1, 13]\n",
      "0 0 2 2 4 0 6 0 8 0\n"
     ]
    }
   ],
   "source": [
    "# 2493 탑\n",
    "N = int(input())\n",
    "top = list(map(int, input().split()))\n",
    "\n",
    "stack = []\n",
    "for i in range(N):\n",
    "    index = N - 1 - i\n",
    "    while stack and top[stack[-1]] < top[index]:\n",
    "        top[stack.pop()] = index + 1\n",
    "    stack.append(index)\n",
    "while stack:\n",
    "    top[stack.pop()] = 0\n",
    "print(*top)"
   ]
  },
  {
   "cell_type": "code",
   "execution_count": 83,
   "metadata": {},
   "outputs": [
    {
     "name": "stdout",
     "output_type": "stream",
     "text": [
      "999\n"
     ]
    }
   ],
   "source": [
    "# 2812 크게 만들기\n",
    "N, K = map(int, input().split())\n",
    "num = input()\n",
    "\n",
    "stack = []\n",
    "for i, n in enumerate(num):\n",
    "    if not K:\n",
    "        print(''.join(stack) + num[i:])\n",
    "        break\n",
    "    while stack and stack[-1] < n and K:\n",
    "        stack.pop() # 작은 애 버림(큰 수가 앞으로 오도록)\n",
    "        K -= 1\n",
    "    stack.append(n)\n",
    "else:\n",
    "    if K:\n",
    "        print(''.join(stack)[:-K])\n",
    "    else:\n",
    "        print(''.join(stack))"
   ]
  },
  {
   "cell_type": "code",
   "execution_count": 104,
   "metadata": {},
   "outputs": [
    {
     "name": "stdout",
     "output_type": "stream",
     "text": [
      "6\n"
     ]
    }
   ],
   "source": [
    "# 10000 원 영역\n",
    "import sys\n",
    "# input = sys.stdin.readline\n",
    "N = int(input())\n",
    "circles = [tuple(map(int, input().split())) for _ in range(N)]\n",
    "circles.sort(key=lambda x:x[1], reverse=True)"
   ]
  },
  {
   "cell_type": "code",
   "execution_count": 100,
   "metadata": {},
   "outputs": [
    {
     "data": {
      "text/plain": [
       "[(7, 5), (-9, 11), (11, 9), (0, 20)]"
      ]
     },
     "execution_count": 100,
     "metadata": {},
     "output_type": "execute_result"
    }
   ],
   "source": [
    "circles"
   ]
  },
  {
   "cell_type": "code",
   "execution_count": 101,
   "metadata": {},
   "outputs": [
    {
     "name": "stdout",
     "output_type": "stream",
     "text": [
      "6\n"
     ]
    }
   ],
   "source": [
    "region_count = 1\n",
    "region_info = set()\n",
    "for x, r in circles:\n",
    "    x_left, x_right = x-r, x+r\n",
    "    if x_left in region_info and x_right in region_info:\n",
    "        region_count += 2\n",
    "    else:\n",
    "        region_count += 1\n",
    "        region_info.update([x_left, x_right])\n",
    "print(region_count)"
   ]
  },
  {
   "cell_type": "code",
   "execution_count": 88,
   "metadata": {},
   "outputs": [],
   "source": [
    "s = set()"
   ]
  },
  {
   "cell_type": "code",
   "execution_count": 90,
   "metadata": {},
   "outputs": [],
   "source": [
    "s.update([1, 2])"
   ]
  },
  {
   "cell_type": "code",
   "execution_count": 91,
   "metadata": {},
   "outputs": [
    {
     "data": {
      "text/plain": [
       "{1, 2}"
      ]
     },
     "execution_count": 91,
     "metadata": {},
     "output_type": "execute_result"
    }
   ],
   "source": [
    "s"
   ]
  }
 ],
 "metadata": {
  "interpreter": {
   "hash": "8fac594bfae6525c0c41b4041d2d72effa188cc8ead05f81b1fab2bb098927fb"
  },
  "kernelspec": {
   "display_name": "Python 3.8.8 ('base')",
   "language": "python",
   "name": "python3"
  },
  "language_info": {
   "codemirror_mode": {
    "name": "ipython",
    "version": 3
   },
   "file_extension": ".py",
   "mimetype": "text/x-python",
   "name": "python",
   "nbconvert_exporter": "python",
   "pygments_lexer": "ipython3",
   "version": "3.9.5"
  },
  "orig_nbformat": 4
 },
 "nbformat": 4,
 "nbformat_minor": 2
}
