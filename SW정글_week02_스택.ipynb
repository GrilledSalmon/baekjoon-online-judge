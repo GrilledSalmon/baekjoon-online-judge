{
 "cells": [
  {
   "cell_type": "markdown",
   "metadata": {},
   "source": [
    "# SW정글 week02 컴퓨팅 사고로의 전환\n",
    "## <스택>\n",
    "220408"
   ]
  },
  {
   "cell_type": "code",
   "execution_count": 1,
   "metadata": {},
   "outputs": [
    {
     "name": "stdout",
     "output_type": "stream",
     "text": [
      "2\n"
     ]
    }
   ],
   "source": [
    "# 10828 스택\n",
    "import sys\n",
    "# input = sys.stdin.readline\n",
    "N = int(input())\n",
    "stack = []\n",
    "for _ in range(N):\n",
    "    inp = input().rstrip().split()\n",
    "    command = inp[0]\n",
    "    if command == 'push':\n",
    "        stack.append(inp[1])\n",
    "    elif command == 'top':\n",
    "        if stack:\n",
    "            print(stack[-1])\n",
    "        else:\n",
    "            print(-1)\n",
    "    elif command == 'size':\n",
    "        print(len(stack))\n",
    "    elif command == 'pop':\n",
    "        if stack:\n",
    "            print(stack.pop())\n",
    "        else:\n",
    "            print(-1)\n",
    "    else: # empty\n",
    "        if stack:\n",
    "            print(0)\n",
    "        else:\n",
    "            print(1)\n"
   ]
  },
  {
   "cell_type": "code",
   "execution_count": 3,
   "metadata": {},
   "outputs": [
    {
     "name": "stdout",
     "output_type": "stream",
     "text": [
      "7\n"
     ]
    }
   ],
   "source": [
    "# 10773 제로\n",
    "import sys\n",
    "# input = sys.stdin.readline\n",
    "K = int(input())\n",
    "stack = []\n",
    "for _ in range(K):\n",
    "    inp = int(input())\n",
    "    if inp:\n",
    "        stack.append(inp)\n",
    "    else:\n",
    "        stack.pop()\n",
    "print(sum(stack))"
   ]
  },
  {
   "cell_type": "code",
   "execution_count": 5,
   "metadata": {},
   "outputs": [
    {
     "name": "stdout",
     "output_type": "stream",
     "text": [
      "NO\n",
      "YES\n",
      "YES\n"
     ]
    }
   ],
   "source": [
    "# 9012 괄호\n",
    "import sys\n",
    "# input = sys.stdin.readline\n",
    "def good(parenthesis):\n",
    "    stack = []\n",
    "    for p in parenthesis:\n",
    "        if p == '(':\n",
    "            stack.append(p)\n",
    "        else:\n",
    "            if stack:\n",
    "                stack.pop()\n",
    "            else:\n",
    "                return False\n",
    "    if stack:\n",
    "        return False\n",
    "    return True\n",
    "for _ in range(int(input())):\n",
    "    if good(input().rstrip()):\n",
    "        print('YES')\n",
    "    else:\n",
    "        print('NO')"
   ]
  },
  {
   "cell_type": "code",
   "execution_count": 7,
   "metadata": {},
   "outputs": [
    {
     "name": "stdout",
     "output_type": "stream",
     "text": [
      "5\n"
     ]
    }
   ],
   "source": [
    "# 17608 막대기\n",
    "import sys\n",
    "# input = sys.stdin.readline\n",
    "N = int(input())\n",
    "stack = [int(input())]\n",
    "for _ in range(N-1):\n",
    "    num = int(input())\n",
    "    if stack[-1] > num:\n",
    "        stack.append(num)\n",
    "    else:\n",
    "        while stack and stack[-1] <= num:\n",
    "            stack.pop()\n",
    "        stack.append(num)\n",
    "print(len(stack))"
   ]
  },
  {
   "cell_type": "code",
   "execution_count": 20,
   "metadata": {},
   "outputs": [
    {
     "name": "stdout",
     "output_type": "stream",
     "text": [
      "0\n"
     ]
    }
   ],
   "source": [
    "# 2504 괄호의 값\n",
    "string = input()\n",
    "stack = []\n",
    "sub_stack = []\n",
    "for s in string:\n",
    "    if s == '(':\n",
    "        stack.append(2)\n",
    "        if len(stack) != len(sub_stack):\n",
    "            sub_stack.append(0)\n",
    "    elif s == '[':\n",
    "        stack.append(3)\n",
    "        if len(stack) != len(sub_stack):\n",
    "            sub_stack.append(0)\n",
    "    elif s == ')':\n",
    "        if stack and stack[-1] == 2:\n",
    "            if len(sub_stack) != len(stack):\n",
    "                temp = stack.pop()*sub_stack.pop()\n",
    "                sub_stack[-1] += temp\n",
    "            else:\n",
    "                sub_stack[-1] += stack.pop()\n",
    "        else:\n",
    "            print(0)\n",
    "            break\n",
    "    else: # ']'\n",
    "        if stack and stack[-1] == 3:\n",
    "            if len(sub_stack) != len(stack):\n",
    "                temp = stack.pop()*sub_stack.pop()\n",
    "                sub_stack[-1] += temp\n",
    "            else:\n",
    "                sub_stack[-1] += stack.pop()\n",
    "        else:\n",
    "            print(0)\n",
    "            break\n",
    "else:\n",
    "    print(sub_stack[0])"
   ]
  },
  {
   "cell_type": "code",
   "execution_count": 13,
   "metadata": {},
   "outputs": [
    {
     "name": "stdout",
     "output_type": "stream",
     "text": [
      "[2, 10, 5, 8, 4, 10, 6, 12, 1, 13]\n",
      "0 0 2 2 4 0 6 0 8 0\n"
     ]
    }
   ],
   "source": [
    "# 2493 탑\n",
    "N = int(input())\n",
    "top = list(map(int, input().split()))\n",
    "\n",
    "stack = []\n",
    "for i in range(N):\n",
    "    index = N - 1 - i\n",
    "    while stack and top[stack[-1]] < top[index]:\n",
    "        top[stack.pop()] = index + 1\n",
    "    stack.append(index)\n",
    "while stack:\n",
    "    top[stack.pop()] = 0\n",
    "print(*top)"
   ]
  },
  {
   "cell_type": "code",
   "execution_count": 83,
   "metadata": {},
   "outputs": [
    {
     "name": "stdout",
     "output_type": "stream",
     "text": [
      "999\n"
     ]
    }
   ],
   "source": [
    "# 2812 크게 만들기\n",
    "N, K = map(int, input().split())\n",
    "num = input()\n",
    "\n",
    "stack = []\n",
    "for i, n in enumerate(num):\n",
    "    if not K:\n",
    "        print(''.join(stack) + num[i:])\n",
    "        break\n",
    "    while stack and stack[-1] < n and K:\n",
    "        stack.pop() # 작은 애 버림(큰 수가 앞으로 오도록)\n",
    "        K -= 1\n",
    "    stack.append(n)\n",
    "else:\n",
    "    if K:\n",
    "        print(''.join(stack)[:-K])\n",
    "    else:\n",
    "        print(''.join(stack))"
   ]
  },
  {
   "cell_type": "code",
   "execution_count": 5,
   "metadata": {},
   "outputs": [
    {
     "name": "stdout",
     "output_type": "stream",
     "text": [
      "5\n"
     ]
    }
   ],
   "source": [
    "# 10000 원 영역\n",
    "import sys\n",
    "# input = sys.stdin.readline\n",
    "N = int(input())\n",
    "circles = []\n",
    "for _ in range(N):\n",
    "    x, r = map(int, input().split())\n",
    "    circles.append((x-r, x+r))\n",
    "circles.sort(key=lambda x: (x[0], -x[1]))\n",
    "\n",
    "region_num = N + 1 # 영역 수\n",
    "parent_stack = [] # 부모만 저장 -> 그렇기 때문에 class가 구분됨. \n",
    "class_linkage_stack = [] # 클래스별 자식들이 연결됐는지 여부 정보 저장\n",
    "for now_start, now_end in circles:\n",
    "    if parent_stack: # 바로 부모를 만나는 경우 대비\n",
    "        prev_start, prev_end = parent_stack[-1]\n",
    "        \n",
    "    while parent_stack and parent_stack[-1][1] < now_end: # 부모의 자격이 없는 애들 탈락\n",
    "        if len(parent_stack) == len(class_linkage_stack): # 길이가 같을 때만 연결 정보 제거(자식이 없었던 부모는 연결정보가 없기 때문에 확인)\n",
    "            class_linkage_stack.pop()\n",
    "        prev_start, prev_end = parent_stack.pop() # 탈락한 부모는 이전 원이 됨\n",
    "    \n",
    "    if not parent_stack: # parent_stack이 비어 있다면 현재 원을 append해주고 다음 원으로\n",
    "        parent_stack.append((now_start, now_end))\n",
    "\n",
    "    else: # parent_stack에 뭔가 있다면\n",
    "        parent_start, parent_end = parent_stack[-1] # 현재 보는 원의 부모\n",
    "        parent_stack.append((now_start, now_end)) # 현재 원 일단 부모로 넣어주기\n",
    "\n",
    "        if prev_end == parent_end: # 이전 원이 현재 원의 부모였던 경우\n",
    "            if now_start == prev_start: # 부모 원과 연결되면서 시작\n",
    "                class_linkage_stack.append(True)\n",
    "            else:\n",
    "                class_linkage_stack.append(False)\n",
    "\n",
    "        else: # 이전 원과 나란히 있는 경우(이전 원이 부모가 아닌 경우)\n",
    "            if prev_end == now_start: # 이전 원과 나란히 이어지는 경우\n",
    "                if now_end == parent_end and class_linkage_stack[-1]: # 완전히 부모 원과 이어진 경우\n",
    "                    region_num += 1\n",
    "            else: # 이전 원과 떨어져 있는 경우\n",
    "                class_linkage_stack[-1] = False\n",
    "\n",
    "print(region_num)"
   ]
  }
 ],
 "metadata": {
  "interpreter": {
   "hash": "8fac594bfae6525c0c41b4041d2d72effa188cc8ead05f81b1fab2bb098927fb"
  },
  "kernelspec": {
   "display_name": "Python 3.8.8 ('base')",
   "language": "python",
   "name": "python3"
  },
  "language_info": {
   "codemirror_mode": {
    "name": "ipython",
    "version": 3
   },
   "file_extension": ".py",
   "mimetype": "text/x-python",
   "name": "python",
   "nbconvert_exporter": "python",
   "pygments_lexer": "ipython3",
   "version": "3.9.5"
  },
  "orig_nbformat": 4
 },
 "nbformat": 4,
 "nbformat_minor": 2
}
