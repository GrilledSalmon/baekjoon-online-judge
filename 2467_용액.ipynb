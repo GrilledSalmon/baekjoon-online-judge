{
 "cells": [
  {
   "cell_type": "markdown",
   "metadata": {},
   "source": [
    "# 2467 용액\n",
    "220617\n",
    "- 소감\n",
    "    - 예전에 풀었던 용액 문제와 동일한 문제지만 class 5에 있어 다시 풀었습니다.\n",
    "    - 예전엔 이진탐색으로 풀었던 걸로 기억하는데, 투 포인터를 사용하는 게 가장 좋은 풀이였던 것 같아 이번에는 투 포인터를 사용했습니다.\n",
    "- 소요 시간 : 18분\n",
    "- 알고리즘 분류 : 이분 탐색, 두 포인터\n",
    "- 티어 : 골드 5"
   ]
  },
  {
   "cell_type": "code",
   "execution_count": 3,
   "metadata": {},
   "outputs": [],
   "source": [
    "import sys\n",
    "# input = sys.stdin.readline\n",
    "\n",
    "N = int(input())\n",
    "solutions = sorted(map(int, input().split()))\n",
    "\n",
    "s, e = 0, N-1\n",
    "ans = [None, None]\n",
    "until_min = sys.maxsize\n",
    "while s < e:\n",
    "    now_sum = solutions[s] + solutions[e]\n",
    "    if abs(now_sum) < until_min:\n",
    "        until_min = abs(now_sum)\n",
    "        ans[0], ans[1] = s, e\n",
    "    \n",
    "    if now_sum == 0:\n",
    "        break\n",
    "    elif now_sum > 0:\n",
    "        e -= 1\n",
    "    else:\n",
    "        s += 1\n",
    "\n",
    "print(solutions[ans[0]], solutions[ans[1]])"
   ]
  },
  {
   "cell_type": "code",
   "execution_count": 4,
   "metadata": {},
   "outputs": [
    {
     "data": {
      "text/plain": [
       "(5, [-99, -2, -1, 4, 98])"
      ]
     },
     "execution_count": 4,
     "metadata": {},
     "output_type": "execute_result"
    }
   ],
   "source": [
    "N, solutions"
   ]
  },
  {
   "cell_type": "code",
   "execution_count": 8,
   "metadata": {},
   "outputs": [
    {
     "name": "stdout",
     "output_type": "stream",
     "text": [
      "-2 98\n",
      "-2 4\n",
      "-2 -1\n",
      "-1 -1\n",
      "-99 98\n"
     ]
    }
   ],
   "source": [
    "s, e = 0, N-1\n",
    "ans = [None, None]\n",
    "until_min = sys.maxsize\n",
    "while s < e:\n",
    "    now_sum = solutions[s] + solutions[e]\n",
    "    if abs(now_sum) < until_min:\n",
    "        until_min = abs(now_sum)\n",
    "        ans[0], ans[1] = s, e\n",
    "    \n",
    "    if now_sum == 0:\n",
    "        break\n",
    "    elif now_sum > 0:\n",
    "        e -= 1\n",
    "    else:\n",
    "        s += 1\n",
    "\n",
    "print(solutions[ans[0]], solutions[ans[1]])"
   ]
  },
  {
   "cell_type": "code",
   "execution_count": null,
   "metadata": {},
   "outputs": [],
   "source": []
  }
 ],
 "metadata": {
  "kernelspec": {
   "display_name": "Python 3.8.8 ('base')",
   "language": "python",
   "name": "python3"
  },
  "language_info": {
   "codemirror_mode": {
    "name": "ipython",
    "version": 3
   },
   "file_extension": ".py",
   "mimetype": "text/x-python",
   "name": "python",
   "nbconvert_exporter": "python",
   "pygments_lexer": "ipython3",
   "version": "3.8.8"
  },
  "orig_nbformat": 4,
  "vscode": {
   "interpreter": {
    "hash": "f08154012ddadd8e950e6e9e035c7a7b32c136e7647e9b7c77e02eb723a8bedb"
   }
  }
 },
 "nbformat": 4,
 "nbformat_minor": 2
}
