{
 "cells": [
  {
   "cell_type": "markdown",
   "metadata": {},
   "source": [
    "# 5800 성적 통계\n",
    "220909\n",
    "- 소감\n",
    "    - 잘 구현한다\n",
    "- 소요 시간 : 10분\n",
    "- 알고리즘 분류 : 구현, 정렬\n",
    "- 티어 : 실버 5"
   ]
  },
  {
   "cell_type": "code",
   "execution_count": null,
   "metadata": {},
   "outputs": [],
   "source": [
    "import sys\n",
    "# input = sys.stdin.readline\n",
    "\n",
    "K = int(input())\n",
    "for n in range(1, K+1):\n",
    "    inp = list(map(int, input().split()))\n",
    "    N = inp[0]\n",
    "    points = inp[1:]\n",
    "    points.sort()\n",
    "    max_gap = 0\n",
    "    prev = points[0]\n",
    "    for p in points:\n",
    "        max_gap = max(max_gap, p-prev)\n",
    "        prev = p\n",
    "    print(f\"Class {n}\")\n",
    "    print(f\"Max {points[-1]}, Min {points[0]}, Largest gap {max_gap}\")"
   ]
  }
 ],
 "metadata": {
  "kernelspec": {
   "display_name": "Python 3.8.5 ('base')",
   "language": "python",
   "name": "python3"
  },
  "language_info": {
   "name": "python",
   "version": "3.8.5"
  },
  "orig_nbformat": 4,
  "vscode": {
   "interpreter": {
    "hash": "8cc51f7a6f9663e4a057df8e9ab0b3750994a36584b90d61db68aa71b39bfa78"
   }
  }
 },
 "nbformat": 4,
 "nbformat_minor": 2
}
