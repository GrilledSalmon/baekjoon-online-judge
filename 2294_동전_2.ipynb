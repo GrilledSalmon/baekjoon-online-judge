{
 "cells": [
  {
   "cell_type": "markdown",
   "metadata": {},
   "source": [
    "# 2294 동전 2\n",
    "220418\n",
    "- 소감 : 그리디로 풀 수 없다.. 괜히 BFS가 아니다.. -> 아니다.. BFS로 하면 메모리 초과가 난다... DP 문제인가..? -> 다이나믹프로그래밍 + BFS 문제이다..\n",
    "- 알고리즘 분류\n",
    "    - 다이나믹 프로그래밍\n",
    "- 티어 : 실버 1"
   ]
  },
  {
   "cell_type": "code",
   "execution_count": 24,
   "metadata": {},
   "outputs": [],
   "source": [
    "import sys\n",
    "# input = sys.stdin.readline\n",
    "\n",
    "n, k = map(int, input().split())\n",
    "coins = set()\n",
    "for _ in range(n):\n",
    "    coin = int(input())\n",
    "    if coin > k:\n",
    "        continue\n",
    "    coins.add(coin)\n",
    "coins = sorted(coins, reverse=True)\n",
    "\n",
    "value_queue = [0]*n\n",
    "count_list = [None]*(k+1)\n",
    "used_coin_num = 1\n",
    "while not count_list[k] and value_queue:\n",
    "    temp_value_queue = []\n",
    "    for value in value_queue:\n",
    "        for coin in coins:\n",
    "            new_value = value+coin\n",
    "            if new_value <= k and count_list[new_value] is None:\n",
    "                count_list[new_value] = used_coin_num\n",
    "                temp_value_queue.append(new_value)\n",
    "    used_coin_num += 1\n",
    "    value_queue = temp_value_queue\n",
    " \n",
    "print(count_list[k]) if count_list[k] else print(-1)"
   ]
  },
  {
   "cell_type": "code",
   "execution_count": 26,
   "metadata": {},
   "outputs": [
    {
     "data": {
      "text/plain": [
       "[12, 5, 1]"
      ]
     },
     "execution_count": 26,
     "metadata": {},
     "output_type": "execute_result"
    }
   ],
   "source": [
    "coins"
   ]
  },
  {
   "cell_type": "code",
   "execution_count": 33,
   "metadata": {},
   "outputs": [
    {
     "name": "stdout",
     "output_type": "stream",
     "text": [
      "3\n"
     ]
    }
   ],
   "source": [
    "from collections import deque\n",
    "queue = [0]*n\n",
    "count_list = [None]*(k+1)\n",
    "now_count = 1\n",
    "while not count_list[k] or queue:\n",
    "    temp_queue = []\n",
    "    for summ in queue:\n",
    "        for coin in coins:\n",
    "            new_sum = summ+coin\n",
    "            if new_sum < len(count_list) and not count_list[new_sum]:\n",
    "                count_list[new_sum] = now_count\n",
    "                temp_queue.append((new_sum))\n",
    "    now_count += 1\n",
    "    queue = temp_queue\n",
    "\n",
    "print(count_list[k]) if count_list[k] else print(-1)"
   ]
  },
  {
   "cell_type": "code",
   "execution_count": 32,
   "metadata": {},
   "outputs": [
    {
     "data": {
      "text/plain": [
       "[None, 1, 2, 3, 4, 1, 2, 3, 4, 5, 2, 3, 1, 2, 3, 3]"
      ]
     },
     "execution_count": 32,
     "metadata": {},
     "output_type": "execute_result"
    }
   ],
   "source": [
    "count_list"
   ]
  },
  {
   "cell_type": "code",
   "execution_count": null,
   "metadata": {},
   "outputs": [],
   "source": [
    "from collections import deque\n",
    "import sys\n",
    "# input = sys.stdin.readline\n",
    "n, k = map(int, input().split())\n",
    "coins = {}\n",
    "for _ in range(n):\n",
    "    coin = int(input())\n",
    "    if coin > k:\n",
    "        continue\n",
    "    coins.add(coin)\n",
    "coins = sorted(coins, reverse=True)\n",
    "\n",
    "mini = None\n",
    "cnt = [1]*n\n",
    "queue = deque(zip(coins, coins, cnt))\n",
    "while queue:\n",
    "    if mini:\n",
    "        break\n",
    "    now_sum, now_coin, now_cnt = queue.popleft()\n",
    "    for next_coin in coins:\n",
    "        if next_coin > now_coin: # 중복된 경우 탐색하지 않도록\n",
    "            continue\n",
    "        next_sum = now_sum + next_coin\n",
    "        if next_sum == k:\n",
    "            mini = now_cnt + 1\n",
    "            break\n",
    "        elif next_sum < k:\n",
    "            queue.append((next_sum, next_coin, now_cnt + 1))\n",
    "        else: # next_sum이 k를 넘어선 경우\n",
    "            continue\n",
    "        \n",
    "print(mini) if mini else print(-1)"
   ]
  },
  {
   "cell_type": "code",
   "execution_count": 22,
   "metadata": {},
   "outputs": [
    {
     "name": "stdout",
     "output_type": "stream",
     "text": [
      "3\n"
     ]
    }
   ],
   "source": [
    "from collections import deque\n",
    "import sys\n",
    "# input = sys.stdin.readline\n",
    "n, k = map(int, input().split())\n",
    "coins = sorted(set([int(input()) for _ in range(n)]), reverse=True)\n",
    "\n",
    "mini = None\n",
    "cnt = [1]*n\n",
    "queue = deque(zip(coins, coins, cnt))\n",
    "while queue:\n",
    "    if mini:\n",
    "        break\n",
    "    now_sum, now_coin, now_cnt = queue.popleft()\n",
    "    for next_coin in coins:\n",
    "        if next_coin > now_coin: # 중복된 경우 탐색하지 않도록\n",
    "            continue\n",
    "        next_sum = now_sum + next_coin\n",
    "        if next_sum == k:\n",
    "            mini = now_cnt + 1\n",
    "            break\n",
    "        elif next_sum < k:\n",
    "            queue.append((next_sum, next_coin, now_cnt + 1))\n",
    "        else: # next_sum이 k를 넘어선 경우\n",
    "            continue\n",
    "        \n",
    "print(mini) if mini else print(-1)"
   ]
  },
  {
   "cell_type": "code",
   "execution_count": 14,
   "metadata": {},
   "outputs": [
    {
     "data": {
      "text/plain": [
       "(3, 15, [12, 5, 1])"
      ]
     },
     "execution_count": 14,
     "metadata": {},
     "output_type": "execute_result"
    }
   ],
   "source": [
    "n, k, coins"
   ]
  },
  {
   "cell_type": "code",
   "execution_count": 21,
   "metadata": {},
   "outputs": [
    {
     "name": "stdout",
     "output_type": "stream",
     "text": [
      "5 5\n",
      "3\n"
     ]
    }
   ],
   "source": [
    "mini = None\n",
    "cnt = [1]*n\n",
    "queue = deque(zip(coins, coins, cnt))\n",
    "while queue:\n",
    "    if mini:\n",
    "        break\n",
    "    now_sum, now_coin, now_cnt = queue.popleft()\n",
    "    for next_coin in coins:\n",
    "        if next_coin > now_coin: # 중복된 경우 탐색하지 않도록\n",
    "            continue\n",
    "        next_sum = now_sum + next_coin\n",
    "        if next_sum == k:\n",
    "            mini = now_cnt + 1\n",
    "            break\n",
    "        elif next_sum < k:\n",
    "            queue.append((next_sum, next_coin, now_cnt + 1))\n",
    "        else: # next_sum이 k를 넘어선 경우\n",
    "            continue\n",
    "print(mini) if mini else print(-1)"
   ]
  },
  {
   "cell_type": "code",
   "execution_count": 19,
   "metadata": {},
   "outputs": [
    {
     "data": {
      "text/plain": [
       "deque([(12, 12, 0), (5, 5, 0), (1, 1, 0)])"
      ]
     },
     "execution_count": 19,
     "metadata": {},
     "output_type": "execute_result"
    }
   ],
   "source": [
    "deque(zip(coins, coins, [0]*n))"
   ]
  },
  {
   "cell_type": "code",
   "execution_count": 9,
   "metadata": {},
   "outputs": [
    {
     "name": "stdout",
     "output_type": "stream",
     "text": [
      "3\n"
     ]
    }
   ],
   "source": [
    "mini = [None]\n",
    "def dfs(summ, cnt=1):\n",
    "    if summ == k:\n",
    "        mini[0] = cnt-1\n",
    "        return\n",
    "    if summ > k or mini[0] is not None: # 합이 k를 넘었거나 mini를 찾은 경우\n",
    "        return\n",
    "    \n",
    "    for coin in coins:\n",
    "        dfs(summ+coin, cnt+1)\n",
    "\n",
    "for coin in coins:\n",
    "    dfs(coin)\n",
    "print(mini[0])"
   ]
  },
  {
   "cell_type": "code",
   "execution_count": 35,
   "metadata": {},
   "outputs": [
    {
     "data": {
      "text/plain": [
       "[1, 2]"
      ]
     },
     "execution_count": 35,
     "metadata": {},
     "output_type": "execute_result"
    }
   ],
   "source": [
    "[(1),(2)]"
   ]
  },
  {
   "cell_type": "code",
   "execution_count": 36,
   "metadata": {},
   "outputs": [
    {
     "ename": "KeyboardInterrupt",
     "evalue": "",
     "output_type": "error",
     "traceback": [
      "\u001b[1;31m---------------------------------------------------------------------------\u001b[0m",
      "\u001b[1;31mKeyboardInterrupt\u001b[0m                         Traceback (most recent call last)",
      "\u001b[1;32m<ipython-input-36-eceac8dbbf83>\u001b[0m in \u001b[0;36m<module>\u001b[1;34m\u001b[0m\n\u001b[0;32m     23\u001b[0m                 \u001b[0mtemp_value_queue\u001b[0m\u001b[1;33m.\u001b[0m\u001b[0mappend\u001b[0m\u001b[1;33m(\u001b[0m\u001b[0mnew_value\u001b[0m\u001b[1;33m)\u001b[0m\u001b[1;33m\u001b[0m\u001b[1;33m\u001b[0m\u001b[0m\n\u001b[0;32m     24\u001b[0m     \u001b[0mused_coin_num\u001b[0m \u001b[1;33m+=\u001b[0m \u001b[1;36m1\u001b[0m\u001b[1;33m\u001b[0m\u001b[1;33m\u001b[0m\u001b[0m\n\u001b[1;32m---> 25\u001b[1;33m     \u001b[0mvalue_queue\u001b[0m \u001b[1;33m=\u001b[0m \u001b[0mtemp_value_queue\u001b[0m\u001b[1;33m\u001b[0m\u001b[1;33m\u001b[0m\u001b[0m\n\u001b[0m\u001b[0;32m     26\u001b[0m \u001b[1;33m\u001b[0m\u001b[0m\n\u001b[0;32m     27\u001b[0m \u001b[0mprint\u001b[0m\u001b[1;33m(\u001b[0m\u001b[0mcount_list\u001b[0m\u001b[1;33m[\u001b[0m\u001b[0mk\u001b[0m\u001b[1;33m]\u001b[0m\u001b[1;33m)\u001b[0m \u001b[1;32mif\u001b[0m \u001b[0mcount_list\u001b[0m\u001b[1;33m[\u001b[0m\u001b[0mk\u001b[0m\u001b[1;33m]\u001b[0m \u001b[1;32melse\u001b[0m \u001b[0mprint\u001b[0m\u001b[1;33m(\u001b[0m\u001b[1;33m-\u001b[0m\u001b[1;36m1\u001b[0m\u001b[1;33m)\u001b[0m\u001b[1;33m\u001b[0m\u001b[1;33m\u001b[0m\u001b[0m\n",
      "\u001b[1;31mKeyboardInterrupt\u001b[0m: "
     ]
    }
   ],
   "source": [
    "import sys\n",
    "# input = sys.stdin.readline\n",
    "\n",
    "n, k = map(int, input().split())\n",
    "coins = set()\n",
    "for _ in range(n):\n",
    "    coin = int(input())\n",
    "    if coin > k:\n",
    "        continue\n",
    "    coins.add(coin)\n",
    "coins = sorted(coins, reverse=True)\n",
    "\n",
    "value_queue = [0]*n\n",
    "count_list = [None]*(k+1)\n",
    "used_coin_num = 1\n",
    "while not count_list[k] or value_queue:\n",
    "    temp_value_queue = []\n",
    "    for value in value_queue:\n",
    "        for coin in coins:\n",
    "            new_value = value+coin\n",
    "            if new_value <= k and count_list[new_value] is None:\n",
    "                count_list[new_value] = used_coin_num\n",
    "                temp_value_queue.append(new_value)\n",
    "    used_coin_num += 1\n",
    "    value_queue = temp_value_queue\n",
    " \n",
    "print(count_list[k]) if count_list[k] else print(-1)"
   ]
  },
  {
   "cell_type": "code",
   "execution_count": 41,
   "metadata": {},
   "outputs": [
    {
     "name": "stdout",
     "output_type": "stream",
     "text": [
      "1\n"
     ]
    }
   ],
   "source": [
    "if not count_list[k] or value_queue:\n",
    "    print(1)"
   ]
  },
  {
   "cell_type": "code",
   "execution_count": 42,
   "metadata": {},
   "outputs": [
    {
     "name": "stdout",
     "output_type": "stream",
     "text": [
      "1\n"
     ]
    }
   ],
   "source": [
    "if not count_list[k]:\n",
    "    print(1)"
   ]
  },
  {
   "cell_type": "code",
   "execution_count": null,
   "metadata": {},
   "outputs": [],
   "source": []
  }
 ],
 "metadata": {
  "interpreter": {
   "hash": "8fac594bfae6525c0c41b4041d2d72effa188cc8ead05f81b1fab2bb098927fb"
  },
  "kernelspec": {
   "display_name": "Python 3.8.8 ('base')",
   "language": "python",
   "name": "python3"
  },
  "language_info": {
   "codemirror_mode": {
    "name": "ipython",
    "version": 3
   },
   "file_extension": ".py",
   "mimetype": "text/x-python",
   "name": "python",
   "nbconvert_exporter": "python",
   "pygments_lexer": "ipython3",
   "version": "3.8.8"
  },
  "orig_nbformat": 4
 },
 "nbformat": 4,
 "nbformat_minor": 2
}
