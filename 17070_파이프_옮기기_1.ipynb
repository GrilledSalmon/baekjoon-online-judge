{
 "cells": [
  {
   "cell_type": "markdown",
   "metadata": {},
   "source": [
    "# 17070 파이프 옮기기\n",
    "220602\n",
    "- 소감\n",
    "    - 그냥 구현 같은 그래프 문제네~ 하고 풀었으나 시간초과가 났음\n",
    "    - 구현을 다 해놓고 생각해보니 경우의 수가 너무 많았고, 중복된 계산이 있었음\n",
    "    - 전혀 예상치 못하게 DP란 걸 알아차리고 코드를 바꿨음\n",
    "    - 그래프 + 구현 + DP가 결합된 재밌는 문제\n",
    "- 소요 시간 : 1시간 0분\n",
    "- 알고리즘 분류 : 다이나믹 프로그래밍, 그래프 이론, 그래프 탐색\n",
    "- 티어 : 골드 5"
   ]
  },
  {
   "cell_type": "code",
   "execution_count": 6,
   "metadata": {},
   "outputs": [],
   "source": [
    "from filecmp import dircmp\n",
    "import sys\n",
    "# input = sys.stdin.readline\n",
    "\n",
    "N = int(input())\n",
    "wall = [list(map(int, input().split())) for _ in range(N)]\n",
    "\n",
    "# direction - 0 : 가로, 1 : 세로, 2 : 대각선\n",
    "def move(coord, direction):\n",
    "    \"\"\"현재 위치(coord)에서 direction 방향으로 움직인 결과 리턴\"\"\"\n",
    "    r, c = coord\n",
    "    if direction == 0:\n",
    "        return r, c+1\n",
    "    elif direction == 1:\n",
    "        return r+1, c\n",
    "    else:\n",
    "        return r+1, c+1\n",
    "\n",
    "def good_coord(coord):\n",
    "    \"\"\"coord가 집의 벽에 닿지 않는지 확인\"\"\"\n",
    "    r, c = coord\n",
    "    if 0<=r<N and 0<=c<N and not wall[r][c]:\n",
    "        return True\n",
    "    return False\n",
    "\n",
    "def go_possible(coord, direction):\n",
    "    \"\"\"현재 위치(coord)에서 direction 방향으로 갈 수 있는지 확인\"\"\"\n",
    "    if direction == 2:\n",
    "        if not go_possible(coord, 0) or not go_possible(coord, 1):\n",
    "            return False\n",
    "    if good_coord(move(coord, direction)):\n",
    "        return True\n",
    "    return False\n",
    "\n",
    "adj_list = [[0, 2], [1, 2], [0, 1, 2]]\n",
    "\n",
    "memo = [[[None]*N for _ in range(N)] for _ in range(3)]\n",
    "n = N-1\n",
    "def dp(coord, direction):\n",
    "    \"\"\"coord와 direction 상태에서 끝에 도달하는 경우의 수 리턴\"\"\"\n",
    "    r, c = coord\n",
    "    if memo[direction][r][c] is None:\n",
    "        if coord == (n, n):\n",
    "            memo[direction][r][c] = 1\n",
    "        else:\n",
    "            temp = []\n",
    "            for next_direction in adj_list[direction]:\n",
    "                if go_possible(coord, next_direction):\n",
    "                    next_coord = move(coord, next_direction)\n",
    "                    temp.append(dp(next_coord, next_direction))\n",
    "            memo[direction][r][c] = sum(temp)\n",
    "    \n",
    "    return memo[direction][r][c]\n",
    "\n",
    "start_coord = (0, 1)\n",
    "start_direction = 0\n",
    "print(dp(start_coord, start_direction))\n"
   ]
  },
  {
   "cell_type": "code",
   "execution_count": 12,
   "metadata": {},
   "outputs": [
    {
     "data": {
      "text/plain": [
       "0"
      ]
     },
     "execution_count": 12,
     "metadata": {},
     "output_type": "execute_result"
    }
   ],
   "source": [
    "sum([])"
   ]
  },
  {
   "cell_type": "code",
   "execution_count": 11,
   "metadata": {},
   "outputs": [
    {
     "name": "stdout",
     "output_type": "stream",
     "text": [
      "13\n"
     ]
    }
   ],
   "source": [
    "from collections import deque\n",
    "\n",
    "# direction - 0 : 가로, 1 : 세로, 2 : 대각선\n",
    "def move(coord, direction):\n",
    "    \"\"\"현재 위치(coord)에서 direction 방향으로 움직인 결과 리턴\"\"\"\n",
    "    r, c = coord\n",
    "    if direction == 0:\n",
    "        return r, c+1\n",
    "    elif direction == 1:\n",
    "        return r+1, c\n",
    "    else:\n",
    "        return r+1, c+1\n",
    "\n",
    "def good_coord(coord):\n",
    "    \"\"\"coord가 집의 벽에 닿지 않는지 확인\"\"\"\n",
    "    r, c = coord\n",
    "    if 0<=r<N and 0<=c<N and not wall[r][c]:\n",
    "        return True\n",
    "    return False\n",
    "\n",
    "def go_possible(coord, direction):\n",
    "    \"\"\"현재 위치(coord)에서 direction 방향으로 갈 수 있는지 확인\"\"\"\n",
    "    r, c = coord\n",
    "    if direction == 2:\n",
    "        if not go_possible(coord, 0) or not go_possible(coord, 1):\n",
    "            return False\n",
    "    if good_coord(move(coord, direction)):\n",
    "        return True\n",
    "    return False\n",
    "\n",
    "adj_list = [[0, 2], [1, 2], [0, 1, 2]]\n",
    "\n",
    "queue = deque([((0, 1), 0)])    # coord, direction\n",
    "cnt = 0\n",
    "n = N-1\n",
    "while queue:\n",
    "    coord, direction = queue.popleft()\n",
    "    if coord == (n, n):\n",
    "        cnt += 1\n",
    "        continue\n",
    "    for next_direciton in adj_list[direction]:\n",
    "        if go_possible(coord, next_direciton):\n",
    "            queue.append((move(coord, next_direciton), next_direciton))\n",
    "\n",
    "print(cnt)\n"
   ]
  },
  {
   "cell_type": "code",
   "execution_count": null,
   "metadata": {},
   "outputs": [],
   "source": []
  }
 ],
 "metadata": {
  "interpreter": {
   "hash": "f08154012ddadd8e950e6e9e035c7a7b32c136e7647e9b7c77e02eb723a8bedb"
  },
  "kernelspec": {
   "display_name": "Python 3.8.8 ('base')",
   "language": "python",
   "name": "python3"
  },
  "language_info": {
   "codemirror_mode": {
    "name": "ipython",
    "version": 3
   },
   "file_extension": ".py",
   "mimetype": "text/x-python",
   "name": "python",
   "nbconvert_exporter": "python",
   "pygments_lexer": "ipython3",
   "version": "3.8.8"
  },
  "orig_nbformat": 4
 },
 "nbformat": 4,
 "nbformat_minor": 2
}
