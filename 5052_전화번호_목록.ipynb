{
 "cells": [
  {
   "cell_type": "markdown",
   "metadata": {},
   "source": [
    "# 5052 전화번호 목록\n",
    "220127\n",
    "- 소감 : 풀긴 했는데... 다른 사람의 풀이를 보니 아직 내가 스트링의 시간복잡도에 대해 감이 부족한가보다.. startswith로 엄청 간단하게 푼 사람이 상위권에 있다.. 나는 꽤 창의적으로 풀긴 했는데 이렇게 푸는 데 시간이 좀 걸렸다. 겹쳐진 dict로 트리를 구현해서 문제를 해결했다. 수가 들어오면 첫째자리 수부터 tree를 타고 가지를 치게 됨. 새로운 가지를 못 만든 애가 있으면 consistent를 해치게 돼서 종료. 정렬문제 풀려다가 의도치않게 트리 공부 하게 됨.\n",
    "- 알고리즘 분류\n",
    "    - 자료 구조\n",
    "    - 문자열\n",
    "    - 정렬\n",
    "    - 트리\n",
    "    - 트라이\n",
    "- 티어 : 골드 4"
   ]
  },
  {
   "cell_type": "code",
   "execution_count": 36,
   "metadata": {},
   "outputs": [
    {
     "name": "stdout",
     "output_type": "stream",
     "text": [
      "NO\n"
     ]
    }
   ],
   "source": [
    "import sys\n",
    "# input = sys.stdin.readline\n",
    "\n",
    "def make_tree(nums):\n",
    "    tree = {}\n",
    "    first = True\n",
    "    for num in nums:\n",
    "        sub_tree = tree\n",
    "        consistent = False\n",
    "        for s in num:\n",
    "            if sub_tree and s not in sub_tree: #sub_tree에 뭔가 들어 있지만 해당 숫자가 sub_tree에 없는 경우\n",
    "                sub_tree[s] = {} # 새로운 가지 생성\n",
    "                consistent = True\n",
    "\n",
    "            elif not sub_tree: # sub_tree가 비어 있는 경우\n",
    "                sub_tree[s] = {}\n",
    "\n",
    "            sub_tree = sub_tree[s] # 다음 가지로 넘어가기\n",
    "\n",
    "        if not consistent:\n",
    "            if first:\n",
    "                first = False\n",
    "                continue\n",
    "            print('NO')\n",
    "            return\n",
    "\n",
    "    print('YES')\n",
    "    return\n",
    "\n",
    "\n",
    "t = int(input())\n",
    "for _ in range(t):\n",
    "    n = int(input())\n",
    "    nums = sorted([input().strip() for _ in range(n)])\n",
    "    make_tree(nums)"
   ]
  },
  {
   "cell_type": "code",
   "execution_count": 1,
   "metadata": {},
   "outputs": [],
   "source": [
    "n = int(input())\n",
    "nums = sorted([input() for _ in range(n)])"
   ]
  },
  {
   "cell_type": "code",
   "execution_count": 12,
   "metadata": {},
   "outputs": [
    {
     "data": {
      "text/plain": [
       "['911', '91125426', '97625999']"
      ]
     },
     "execution_count": 12,
     "metadata": {},
     "output_type": "execute_result"
    }
   ],
   "source": [
    "nums"
   ]
  },
  {
   "cell_type": "code",
   "execution_count": 11,
   "metadata": {},
   "outputs": [
    {
     "data": {
      "text/plain": [
       "True"
      ]
     },
     "execution_count": 11,
     "metadata": {},
     "output_type": "execute_result"
    }
   ],
   "source": [
    "'911' < '9110'"
   ]
  },
  {
   "cell_type": "code",
   "execution_count": null,
   "metadata": {},
   "outputs": [],
   "source": [
    "def process(digit : int, layer : list):\n",
    "    \"\"\"현재의 layer와 들어오는 숫자의 상황에 맞게 트리를 구성해주고\n",
    "     새로 가지를 만들었는지(True) 그냥 활용했는지(False) 리턴\"\"\"\n",
    "    if layer[digit] is None:\n",
    "        layer[digit] = [None]*10\n",
    "        return layer[digit]\n",
    "    else:\n",
    "        return False\n"
   ]
  },
  {
   "cell_type": "code",
   "execution_count": 19,
   "metadata": {},
   "outputs": [
    {
     "data": {
      "text/plain": [
       "['911', '91125426', '97625999']"
      ]
     },
     "execution_count": 19,
     "metadata": {},
     "output_type": "execute_result"
    }
   ],
   "source": [
    "nums"
   ]
  },
  {
   "cell_type": "code",
   "execution_count": 33,
   "metadata": {},
   "outputs": [
    {
     "name": "stdout",
     "output_type": "stream",
     "text": [
      "YES\n"
     ]
    }
   ],
   "source": [
    "def make_tree(nums):\n",
    "    tree = {}\n",
    "    first = True\n",
    "    for num in nums:\n",
    "        sub_tree = tree\n",
    "        consistent = False\n",
    "        for s in num:\n",
    "            if sub_tree and s not in sub_tree: #sub_tree에 뭔가 들어 있지만 해당 숫자가 sub_tree에 없는 경우\n",
    "                sub_tree[s] = {} # 새로운 가지 생성\n",
    "                consistent = True\n",
    "\n",
    "            elif not sub_tree: # sub_tree가 비어 있는 경우\n",
    "                sub_tree[s] = {}\n",
    "\n",
    "            sub_tree = sub_tree[s] # 다음 가지로 넘어가기\n",
    "\n",
    "        if not consistent:\n",
    "            if first:\n",
    "                first = False\n",
    "                continue\n",
    "            print('NO')\n",
    "            return\n",
    "    print('YES')\n",
    "    return\n",
    "\n",
    "make_tree(nums)"
   ]
  },
  {
   "cell_type": "code",
   "execution_count": 31,
   "metadata": {},
   "outputs": [
    {
     "data": {
      "text/plain": [
       "['113', '12340', '123440', '12345', '98346']"
      ]
     },
     "execution_count": 31,
     "metadata": {},
     "output_type": "execute_result"
    }
   ],
   "source": [
    "nums"
   ]
  },
  {
   "cell_type": "code",
   "execution_count": 16,
   "metadata": {},
   "outputs": [],
   "source": [
    "{1:0}.get(2, None)"
   ]
  },
  {
   "cell_type": "code",
   "execution_count": null,
   "metadata": {},
   "outputs": [],
   "source": [
    "{'9': {'1': {'1': {'2': {'5': {'4': {'2': {'6': {}}}}}}},\n",
    "  '7': {'6': {'2': {'5': {'9': {'9': {'9': {}}}}}}}}}"
   ]
  }
 ],
 "metadata": {
  "interpreter": {
   "hash": "c798a043d5b26db4ea8dc684fe25ec244835432adc5539bce2de618403b1d63c"
  },
  "kernelspec": {
   "display_name": "Python 3.8.5 64-bit ('base': conda)",
   "language": "python",
   "name": "python3"
  },
  "language_info": {
   "codemirror_mode": {
    "name": "ipython",
    "version": 3
   },
   "file_extension": ".py",
   "mimetype": "text/x-python",
   "name": "python",
   "nbconvert_exporter": "python",
   "pygments_lexer": "ipython3",
   "version": "3.8.5"
  },
  "orig_nbformat": 4
 },
 "nbformat": 4,
 "nbformat_minor": 2
}
