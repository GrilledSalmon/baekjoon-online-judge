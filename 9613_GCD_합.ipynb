{
 "cells": [
  {
   "cell_type": "markdown",
   "metadata": {},
   "source": [
    "# 9613 GCD 합\n",
    "220910\n",
    "- 소감\n",
    "    - 모든 경우의수에 대해 GCD(최대공약수, Greatest Common Divisor)를 구하는 문제\n",
    "- 소요 시간 : 15분\n",
    "- 알고리즘 분류 : 수학, 정수론, 유클리드 호제법\n",
    "- 티어 : 실버 4"
   ]
  },
  {
   "cell_type": "code",
   "execution_count": 4,
   "metadata": {},
   "outputs": [
    {
     "data": {
      "text/plain": [
       "3"
      ]
     },
     "execution_count": 4,
     "metadata": {},
     "output_type": "execute_result"
    }
   ],
   "source": [
    "import sys\n",
    "# input = sys.stdin.readline\n",
    "\n",
    "def gcd(a, b):\n",
    "    if b == 0:\n",
    "        return a\n",
    "    return gcd(b, a%b)\n",
    "\n",
    "for _ in range(int(input())):\n",
    "    inp = tuple(map(int, input().split()))\n",
    "    n = inp[0]\n",
    "    tot = 0\n",
    "    for i in range(1, n+1):\n",
    "        num1 = inp[i]\n",
    "        for j in range(i+1, n+1):\n",
    "            num2 = inp[j]\n",
    "            tot += gcd(num1, num2)\n",
    "    print(tot)"
   ]
  },
  {
   "cell_type": "code",
   "execution_count": null,
   "metadata": {},
   "outputs": [],
   "source": []
  }
 ],
 "metadata": {
  "kernelspec": {
   "display_name": "Python 3.8.5 ('base')",
   "language": "python",
   "name": "python3"
  },
  "language_info": {
   "codemirror_mode": {
    "name": "ipython",
    "version": 3
   },
   "file_extension": ".py",
   "mimetype": "text/x-python",
   "name": "python",
   "nbconvert_exporter": "python",
   "pygments_lexer": "ipython3",
   "version": "3.8.5"
  },
  "orig_nbformat": 4,
  "vscode": {
   "interpreter": {
    "hash": "8cc51f7a6f9663e4a057df8e9ab0b3750994a36584b90d61db68aa71b39bfa78"
   }
  }
 },
 "nbformat": 4,
 "nbformat_minor": 2
}
