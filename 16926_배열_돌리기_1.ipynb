{
 "cells": [
  {
   "cell_type": "markdown",
   "metadata": {},
   "source": [
    "# 16926 배열 돌리기 1\n",
    "220518\n",
    "- 소감\n",
    "    - 고리가 회전하는 구조여서 deque의 rotate를 사용했습니다.\n",
    "    - 급하게 하진 않았지만 거의 막힘없이 구현했는데도 시간이 꽤 걸렸습니다.\n",
    "- 소요 시간 : 37분\n",
    "- 알고리즘 분류 : 구현\n",
    "- 티어 : 실버 1"
   ]
  },
  {
   "cell_type": "code",
   "execution_count": 4,
   "metadata": {},
   "outputs": [],
   "source": [
    "from collections import deque\n",
    "import sys\n",
    "# input = sys.stdin.readline\n",
    "\n",
    "N, M, R = map(int, input().split())\n",
    "matrix = [tuple(map(int, input().split())) for _ in range(N)]\n",
    "\n",
    "def turn_left(direction):\n",
    "    \"\"\"direction을 왼쪽으로 돌려좀(row, col 좌표계 기준)\"\"\"\n",
    "    if direction == (1, 0): # 아래\n",
    "        return (0, 1)\n",
    "    elif direction == (0, 1): # 오른쪽\n",
    "        return (-1, 0)\n",
    "    elif direction == (-1, 0): # 위\n",
    "        return (0, -1)\n",
    "    else: # 왼쪽\n",
    "        return (1, 0)\n",
    "\n",
    "def new_N_M(N, M, layer):\n",
    "    \"\"\"현재 layer의 새로운 세로, 가로 길이 리턴\"\"\"\n",
    "    return ((N - 2*layer)-1, (M - 2*layer)-1)\n",
    "\n",
    "def set_start_point(layer):\n",
    "    \"\"\"layer에 따른 시작점 리턴\"\"\"\n",
    "    return (layer, layer)\n",
    "\n",
    "num_of_layer = min(N, M) // 2\n",
    "layers = [deque() for _ in range(num_of_layer)]\n",
    "\n",
    "for layer in range(num_of_layer):\n",
    "    row, col = set_start_point(layer)\n",
    "    direction = (1, 0) # (row, col)\n",
    "    n, m = new_N_M(N, M, layer)\n",
    "    now_layer_queue = layers[layer]\n",
    "    for i, cnt in enumerate((n, m, n, m)):\n",
    "        for _ in range(cnt):\n",
    "            now_layer_queue.append(matrix[row][col])\n",
    "            row, col = row+direction[0], col+direction[1]\n",
    "        direction = turn_left(direction)\n",
    "    now_layer_queue.rotate(R)\n",
    "\n",
    "new_matrix = [[None]*M for _ in range(N)]\n",
    "for layer in range(num_of_layer):\n",
    "    row, col = set_start_point(layer)\n",
    "    direction = (1, 0) # (row, col)\n",
    "    n, m = new_N_M(N, M, layer)\n",
    "    now_layer_queue = layers[layer]\n",
    "    for i, cnt in enumerate((n, m, n, m)):\n",
    "        for _ in range(cnt):\n",
    "            new_matrix[row][col] = now_layer_queue.popleft()\n",
    "            row, col = row+direction[0], col+direction[1]\n",
    "        direction = turn_left(direction)\n",
    "\n",
    "for row in range(N):\n",
    "    print(' '.join(map(str, new_matrix[row])))"
   ]
  },
  {
   "cell_type": "code",
   "execution_count": 5,
   "metadata": {},
   "outputs": [
    {
     "data": {
      "text/plain": [
       "([(1, 2, 3, 4),\n",
       "  (7, 8, 9, 10),\n",
       "  (13, 14, 15, 16),\n",
       "  (19, 20, 21, 22),\n",
       "  (25, 26, 27, 28)],\n",
       " 5,\n",
       " 4,\n",
       " 7)"
      ]
     },
     "execution_count": 5,
     "metadata": {},
     "output_type": "execute_result"
    }
   ],
   "source": [
    "matrix, N, M, R"
   ]
  },
  {
   "cell_type": "code",
   "execution_count": 16,
   "metadata": {},
   "outputs": [
    {
     "name": "stdout",
     "output_type": "stream",
     "text": [
      "28 27 26 25\n",
      "22 9 15 19\n",
      "16 8 21 13\n",
      "10 14 20 7\n",
      "4 3 2 1\n"
     ]
    }
   ],
   "source": [
    "def turn_left(direction):\n",
    "    \"\"\"direction을 왼쪽으로 돌려좀(row, col 좌표계 기준)\"\"\"\n",
    "    if direction == (1, 0): # 아래\n",
    "        return (0, 1)\n",
    "    elif direction == (0, 1): # 오른쪽\n",
    "        return (-1, 0)\n",
    "    elif direction == (-1, 0): # 위\n",
    "        return (0, -1)\n",
    "    else: # 왼쪽\n",
    "        return (1, 0)\n",
    "\n",
    "def new_N_M(N, M, layer):\n",
    "    \"\"\"현재 layer의 새로운 세로, 가로 길이 리턴\"\"\"\n",
    "    return ((N - 2*layer)-1, (M - 2*layer)-1)\n",
    "\n",
    "def set_start_point(layer):\n",
    "    \"\"\"layer에 따른 시작점 리턴\"\"\"\n",
    "    return (layer, layer)\n",
    "\n",
    "num_of_layer = min(N, M) // 2\n",
    "layers = [deque() for _ in range(num_of_layer)]\n",
    "\n",
    "for layer in range(num_of_layer):\n",
    "    row, col = set_start_point(layer)\n",
    "    direction = (1, 0) # (row, col)\n",
    "    n, m = new_N_M(N, M, layer)\n",
    "    now_layer_queue = layers[layer]\n",
    "    for i, cnt in enumerate((n, m, n, m)):\n",
    "        for _ in range(cnt):\n",
    "            now_layer_queue.append(matrix[row][col])\n",
    "            row, col = row+direction[0], col+direction[1]\n",
    "        direction = turn_left(direction)\n",
    "    now_layer_queue.rotate(R)\n",
    "\n",
    "new_matrix = [[None]*M for _ in range(N)]\n",
    "for layer in range(num_of_layer):\n",
    "    row, col = set_start_point(layer)\n",
    "    direction = (1, 0) # (row, col)\n",
    "    n, m = new_N_M(N, M, layer)\n",
    "    now_layer_queue = layers[layer]\n",
    "    for i, cnt in enumerate((n, m, n, m)):\n",
    "        for _ in range(cnt):\n",
    "            new_matrix[row][col] = now_layer_queue.popleft()\n",
    "            row, col = row+direction[0], col+direction[1]\n",
    "        direction = turn_left(direction)\n",
    "\n",
    "for row in range(N):\n",
    "    print(' '.join(map(str, new_matrix[row])))"
   ]
  },
  {
   "cell_type": "code",
   "execution_count": 15,
   "metadata": {},
   "outputs": [
    {
     "data": {
      "text/plain": [
       "[deque([28, 22, 16, 10, 4, 3, 2, 1, 7, 13, 19, 25, 26, 27]),\n",
       " deque([9, 8, 14, 20, 21, 15])]"
      ]
     },
     "execution_count": 15,
     "metadata": {},
     "output_type": "execute_result"
    }
   ],
   "source": [
    "layers"
   ]
  },
  {
   "cell_type": "code",
   "execution_count": null,
   "metadata": {},
   "outputs": [],
   "source": []
  },
  {
   "cell_type": "code",
   "execution_count": 2,
   "metadata": {},
   "outputs": [],
   "source": [
    "import sys\n",
    "# input = sys.stdin.readline\n",
    "\n",
    "N, M, R = map(int, input().split())\n",
    "matrix = [list(map(int, input().split())) for _ in range(N)]"
   ]
  },
  {
   "cell_type": "code",
   "execution_count": 3,
   "metadata": {},
   "outputs": [
    {
     "data": {
      "text/plain": [
       "([[1, 2, 3, 4], [5, 6, 7, 8], [9, 10, 11, 12], [13, 14, 15, 16]], 2)"
      ]
     },
     "execution_count": 3,
     "metadata": {},
     "output_type": "execute_result"
    }
   ],
   "source": [
    "matrix, R"
   ]
  },
  {
   "cell_type": "code",
   "execution_count": null,
   "metadata": {},
   "outputs": [],
   "source": [
    "new_matrix = [[None]*M for _ in range(N)] # 다 구현하면 원본으로 바꿔주기\n",
    "\n",
    "def turn_vector(vec):\n",
    "    if vec == (1, 0):\n",
    "        return (0, 1)\n",
    "    elif vec == (0, 1):\n",
    "        return (-1, 0)\n",
    "    elif vec == (-1, 0):\n",
    "        return (0, -1)\n",
    "    else:\n",
    "        return (1, 0)\n",
    "\n",
    "def rotate(level=0):\n",
    "    \"\"\"level에 속한 친구들을 돌려줌\"\"\"\n",
    "    row, col = level, level\n",
    "    vector = (0, -1)\n",
    "\n",
    "\n",
    "\n",
    "for lev in range(min(N, M)//2):\n",
    "    rotate(lev)"
   ]
  },
  {
   "cell_type": "code",
   "execution_count": 6,
   "metadata": {},
   "outputs": [
    {
     "data": {
      "text/plain": [
       "3"
      ]
     },
     "execution_count": 6,
     "metadata": {},
     "output_type": "execute_result"
    }
   ],
   "source": [
    "'1245'.find('5')"
   ]
  },
  {
   "cell_type": "code",
   "execution_count": 8,
   "metadata": {},
   "outputs": [
    {
     "data": {
      "text/plain": [
       "41400"
      ]
     },
     "execution_count": 8,
     "metadata": {},
     "output_type": "execute_result"
    }
   ],
   "source": [
    "13800*3"
   ]
  }
 ],
 "metadata": {
  "interpreter": {
   "hash": "f08154012ddadd8e950e6e9e035c7a7b32c136e7647e9b7c77e02eb723a8bedb"
  },
  "kernelspec": {
   "display_name": "Python 3.8.8 ('base')",
   "language": "python",
   "name": "python3"
  },
  "language_info": {
   "codemirror_mode": {
    "name": "ipython",
    "version": 3
   },
   "file_extension": ".py",
   "mimetype": "text/x-python",
   "name": "python",
   "nbconvert_exporter": "python",
   "pygments_lexer": "ipython3",
   "version": "3.8.8"
  },
  "orig_nbformat": 4
 },
 "nbformat": 4,
 "nbformat_minor": 2
}
