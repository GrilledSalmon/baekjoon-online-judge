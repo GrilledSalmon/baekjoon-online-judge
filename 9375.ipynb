{
 "cells": [
  {
   "cell_type": "markdown",
   "metadata": {},
   "source": [
    "# 9375 패션왕 신해빈\n",
    "- 소감 : 문제를 차분히 잘 읽고 경우의 수를 조금만 고민해보면 금방 풀 수 있다.\n",
    "- 알고리즘 분류\n",
    "    - 수학\n",
    "    - 자료 구조\n",
    "    - 해시를 사용한 집합과 맵\n",
    "- 풀이\n",
    "    - 옷의 종류에 따라 리스트를 구분해 만든다.\n",
    "    - 알몸이 아니기 위해서는 옷을 하나만이라도 걸치면 되므로 '종류별 옷의 수+1'을 모두 곱한 뒤 1을 빼면(아무것도 안 입은 경우) 모든 경우의 수가 나온다.\n",
    "- 티어 : 실버 3"
   ]
  },
  {
   "cell_type": "code",
   "execution_count": 6,
   "metadata": {},
   "outputs": [
    {
     "name": "stdout",
     "output_type": "stream",
     "text": [
      "5\n",
      "3\n"
     ]
    }
   ],
   "source": [
    "for _ in range(int(input())):\n",
    "    n = int(input())\n",
    "    clothes = [input().split() for _ in range(n)]\n",
    "\n",
    "    cloth_dic = {}\n",
    "    for cloth, kind in clothes:\n",
    "        try:\n",
    "            cloth_dic[kind].append(cloth)\n",
    "        except:\n",
    "            cloth_dic[kind] = [cloth]\n",
    "    ans = 1\n",
    "\n",
    "    for i in map(len, cloth_dic.values()):\n",
    "        ans *= (i + 1)\n",
    "    ans -= 1\n",
    "    print(ans)"
   ]
  },
  {
   "cell_type": "code",
   "execution_count": 5,
   "metadata": {},
   "outputs": [
    {
     "name": "stdout",
     "output_type": "stream",
     "text": [
      "5\n"
     ]
    }
   ],
   "source": [
    "cloth_dic = {}\n",
    "for cloth, kind in clothes:\n",
    "    try:\n",
    "        cloth_dic[kind].append(cloth)\n",
    "    except:\n",
    "        cloth_dic[kind] = [cloth]\n",
    "ans = 1\n",
    "\n",
    "for i in map(len, cloth_dic.values()):\n",
    "    ans *= (i + 1)\n",
    "ans -= 1\n",
    "print(ans)"
   ]
  },
  {
   "cell_type": "code",
   "execution_count": null,
   "metadata": {},
   "outputs": [],
   "source": []
  }
 ],
 "metadata": {
  "interpreter": {
   "hash": "c798a043d5b26db4ea8dc684fe25ec244835432adc5539bce2de618403b1d63c"
  },
  "kernelspec": {
   "display_name": "Python 3.8.5 64-bit ('base': conda)",
   "language": "python",
   "name": "python3"
  },
  "language_info": {
   "codemirror_mode": {
    "name": "ipython",
    "version": 3
   },
   "file_extension": ".py",
   "mimetype": "text/x-python",
   "name": "python",
   "nbconvert_exporter": "python",
   "pygments_lexer": "ipython3",
   "version": "3.8.5"
  },
  "orig_nbformat": 4
 },
 "nbformat": 4,
 "nbformat_minor": 2
}
