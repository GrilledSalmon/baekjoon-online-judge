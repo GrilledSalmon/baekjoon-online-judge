{
 "cells": [
  {
   "cell_type": "markdown",
   "metadata": {},
   "source": [
    "# 2477 참외밭\n",
    "220818\n",
    "- 소감\n",
    "    - 오랜만에 푸는 기하문제\n",
    "- 소요 시간 : 15분\n",
    "- 알고리즘 분류 : 수학, 구현, 기하학\n",
    "- 티어 : 실버 3"
   ]
  },
  {
   "cell_type": "code",
   "execution_count": 1,
   "metadata": {},
   "outputs": [],
   "source": [
    "# 동서남북 -> 1234\n",
    "import sys\n",
    "# input = sys.stdin.readline\n",
    "K = int(input()) # 1m^2당 참외 수\n",
    "infos = [tuple(map(int, input().split())) for _ in range(6)]\n",
    "\n",
    "turn_left = [(3, 1), (1, 4), (4, 2), (2, 3)] # 남동, 동북, 북서, 서남\n",
    "hor, ver = 0, 0\n",
    "area = 0\n",
    "for i in range(-1, 5):\n",
    "    dir1, dir2 = infos[i][0], infos[i+1][0]\n",
    "    length = infos[i][1]\n",
    "    if dir1 in (1, 2):\n",
    "        hor = max(hor, length)\n",
    "    else:\n",
    "        ver = max(ver, length)\n",
    "    if (dir1, dir2) not in turn_left:\n",
    "        area -= length*infos[i+1][1]\n",
    "area += hor * ver\n",
    "print(area*K)"
   ]
  },
  {
   "cell_type": "code",
   "execution_count": 2,
   "metadata": {},
   "outputs": [
    {
     "data": {
      "text/plain": [
       "(7, [(4, 50), (2, 160), (3, 30), (1, 60), (3, 20), (1, 100)])"
      ]
     },
     "execution_count": 2,
     "metadata": {},
     "output_type": "execute_result"
    }
   ],
   "source": [
    "K, infos"
   ]
  },
  {
   "cell_type": "code",
   "execution_count": 8,
   "metadata": {},
   "outputs": [
    {
     "name": "stdout",
     "output_type": "stream",
     "text": [
      "47600\n"
     ]
    }
   ],
   "source": [
    "turn_left = [(3, 1), (1, 4), (4, 2), (2, 3)] # 남동, 동북, 북서, 서남\n",
    "hor, ver = 0, 0\n",
    "area = 0\n",
    "for i in range(-1, 5):\n",
    "    dir1, dir2 = infos[i][0], infos[i+1][0]\n",
    "    length = infos[i][1]\n",
    "    if dir1 in (1, 2):\n",
    "        hor = max(hor, length)\n",
    "    else:\n",
    "        ver = max(ver, length)\n",
    "    if (dir1, dir2) not in turn_left:\n",
    "        area -= length*infos[i+1][1]\n",
    "area += hor * ver\n",
    "print(area*K)"
   ]
  },
  {
   "cell_type": "code",
   "execution_count": null,
   "metadata": {},
   "outputs": [],
   "source": []
  }
 ],
 "metadata": {
  "kernelspec": {
   "display_name": "Python 3.8.8 ('base')",
   "language": "python",
   "name": "python3"
  },
  "language_info": {
   "codemirror_mode": {
    "name": "ipython",
    "version": 3
   },
   "file_extension": ".py",
   "mimetype": "text/x-python",
   "name": "python",
   "nbconvert_exporter": "python",
   "pygments_lexer": "ipython3",
   "version": "3.8.8"
  },
  "orig_nbformat": 4,
  "vscode": {
   "interpreter": {
    "hash": "f08154012ddadd8e950e6e9e035c7a7b32c136e7647e9b7c77e02eb723a8bedb"
   }
  }
 },
 "nbformat": 4,
 "nbformat_minor": 2
}
