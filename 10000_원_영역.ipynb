{
 "cells": [
  {
   "cell_type": "markdown",
   "metadata": {},
   "source": [
    "# 10000 원 영역\n",
    "220412\n",
    "- 소감 : 정글 윤찬님에게 대략적인 아이디어를 듣고 그대로 접근했다. 구조가 좀 복잡해서 머릿속으로 정리 많이하고 그림 그리고 변수 정리좀 해놓은 다음에 주석 많이 달면서 풀었음. 저거 안했으면 무지성으로 이것저것 고치다가 꼬였을듯. 놀랍게도 단 한번의 디코딩도 없이 예제와 정답을 한 번에 통과했다. 코드가 길면 이러기 힘든데, 뿌-듯\n",
    "- 아이디어 : 주석에 잘 적혀 있긴 하다. `parent_stack`과 `class_linkage_stack`에 각각 자식을 갖고 있는 부모를, 각 클래스(부모가 하나의 클래스 형성)에 지금까지 연결되었는지 정보 저장. 이를 구현\n",
    "- 알고리즘 분류\n",
    "    - 자료 구조\n",
    "    - 정렬\n",
    "    - 기하학\n",
    "    - 분리 집합\n",
    "    - 스택\n",
    "    - 오일러 지표($\\chi$ = v-e+f)\n",
    "- 티어 : 플레티넘 4"
   ]
  },
  {
   "cell_type": "code",
   "execution_count": 1,
   "metadata": {},
   "outputs": [
    {
     "name": "stdout",
     "output_type": "stream",
     "text": [
      "6\n"
     ]
    }
   ],
   "source": [
    "# 10000 원 영역\n",
    "import sys\n",
    "# input = sys.stdin.readline\n",
    "N = int(input())\n",
    "circles = []\n",
    "for _ in range(N):\n",
    "    x, r = map(int, input().split())\n",
    "    circles.append((x-r, x+r))\n",
    "circles.sort(key=lambda x: (x[0], -x[1]))\n",
    "\n",
    "region_num = N + 1 # 영역 수\n",
    "parent_stack = [] # 부모만 저장 -> 그렇기 때문에 class가 구분됨. \n",
    "class_linkage_stack = [] # 클래스별 자식들이 연결됐는지 여부 정보 저장\n",
    "for now_start, now_end in circles:\n",
    "    if parent_stack: # 바로 부모를 만나는 경우 대비\n",
    "        prev_start, prev_end = parent_stack[-1]\n",
    "        \n",
    "    while parent_stack and parent_stack[-1][1] < now_end: # 부모의 자격이 없는 애들 탈락\n",
    "        if len(parent_stack) == len(class_linkage_stack): # 길이가 같을 때만 연결 정보 제거(자식이 없었던 부모는 연결정보가 없기 때문에 확인)\n",
    "            class_linkage_stack.pop()\n",
    "        prev_start, prev_end = parent_stack.pop() # 탈락한 부모는 이전 원이 됨\n",
    "    \n",
    "    if not parent_stack: # parent_stack이 비어 있다면 현재 원을 append해주고 다음 원으로\n",
    "        parent_stack.append((now_start, now_end))\n",
    "\n",
    "    else: # parent_stack에 뭔가 있다면\n",
    "        parent_start, parent_end = parent_stack[-1] # 현재 보는 원의 부모\n",
    "        parent_stack.append((now_start, now_end)) # 현재 원 일단 부모로 넣어주기\n",
    "\n",
    "        if prev_end == parent_end: # 이전 원이 현재 원의 부모였던 경우\n",
    "            if now_start == prev_start: # 부모 원과 연결되면서 시작\n",
    "                class_linkage_stack.append(True)\n",
    "            else:\n",
    "                class_linkage_stack.append(False)\n",
    "\n",
    "        else: # 이전 원과 나란히 있는 경우(이전 원이 부모가 아닌 경우)\n",
    "            if prev_end == now_start: # 이전 원과 나란히 이어지는 경우\n",
    "                if now_end == parent_end and class_linkage_stack[-1]: # 완전히 부모 원과 이어진 경우\n",
    "                    region_num += 1\n",
    "            else: # 이전 원과 떨어져 있는 경우\n",
    "                class_linkage_stack[-1] = False\n",
    "\n",
    "print(region_num)"
   ]
  },
  {
   "cell_type": "markdown",
   "metadata": {},
   "source": [
    "알아야 하는 것\n",
    "1. 내가 지금 누구 안에 있는 것인지 -> parent_stack[-1]을 통해 알 수 있도록 => parent_stack[-1]의 부모는 새로운 circle이 들어올 때 항상 평가받아야 한다.(부모의 바깥에 있는 원이 나타나면 그 부모는 삭제한다.)\n",
    "2. \n",
    "\n",
    "저장해야 하는 것\n",
    "1. stack : \n",
    "2. 내가 지금 누구 안에 있는 것인지 -> 원 안에 들어갈 때마다 end값을 스택에 저장하면 될듯?"
   ]
  }
 ],
 "metadata": {
  "interpreter": {
   "hash": "8fac594bfae6525c0c41b4041d2d72effa188cc8ead05f81b1fab2bb098927fb"
  },
  "kernelspec": {
   "display_name": "Python 3.8.8 ('base')",
   "language": "python",
   "name": "python3"
  },
  "language_info": {
   "codemirror_mode": {
    "name": "ipython",
    "version": 3
   },
   "file_extension": ".py",
   "mimetype": "text/x-python",
   "name": "python",
   "nbconvert_exporter": "python",
   "pygments_lexer": "ipython3",
   "version": "3.8.8"
  },
  "orig_nbformat": 4
 },
 "nbformat": 4,
 "nbformat_minor": 2
}
