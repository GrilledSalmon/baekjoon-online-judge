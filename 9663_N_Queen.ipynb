{
 "cells": [
  {
   "cell_type": "markdown",
   "metadata": {},
   "source": [
    "# 9663 N-Queen\n",
    "220312~220314\n",
    "- 소감 : 매우 유명한 백트래킹 문제다. 백트래킹이란 브루트포스와 유사하지만 그와 다르게 분기에 따라 조건을 만족하지 않는 분기는 버려 경우의 수를 줄이는 방법이다. 보통의 유명한 알고리즘 문제들이 그렇듯, 풀이법을 모르면 스스로 문제를 풀기 좀 어렵다.(그러니까 유명한 것도 있겠지) 그래서 나도 하루하고 반나절 정도 혼자 고민하다가 알고리즘 책의 풀이를 보고 풀긴 했는데, 다음에도 비슷한 유형을 풀 수 있을지 모르겠다.\n",
    "- 아이디어 : 제한된 규칙 안에서 확인할 케이스를 줄이고 규칙의 만족 여부를 빠르게 확인할 수 있는 방법을 고안하는 게 중요하다. 그리고 백트래킹을 실현하기 위한 방법....\n",
    "- 알고리즘 분류\n",
    "    - 브루트포스 알고리즘\n",
    "    - 백트래킹\n",
    "- 티어 : 골드 5"
   ]
  },
  {
   "cell_type": "code",
   "execution_count": 83,
   "metadata": {},
   "outputs": [
    {
     "name": "stdout",
     "output_type": "stream",
     "text": [
      "92\n"
     ]
    }
   ],
   "source": [
    "def solve():\n",
    "    N = int(input())\n",
    "\n",
    "    # pos = [0]*N\n",
    "    flag = [False]*N # 같은 row에 queen이 있는지 표시\n",
    "    summ = [False]*(2*N-1) # 대각선 정보\n",
    "    diff = [False]*(2*N-1)\n",
    "    cnt = [0]\n",
    "\n",
    "    def reflect_cond(i, j, case:bool):\n",
    "        flag[j] = case\n",
    "        summ[i+j] = case\n",
    "        diff[i-j] = case\n",
    "\n",
    "    def set_queen(i=0):\n",
    "        \"\"\"j : 행, i : 열\"\"\"\n",
    "        if i == N:\n",
    "            # print(' '.join(map(str, pos)))\n",
    "            cnt[0] += 1\n",
    "        else:\n",
    "            for j in range(N):\n",
    "                if not flag[j] and not summ[i+j] and not diff[i-j]: # j번째 행, (i, j)대각선에 queen이 없다면\n",
    "                    # pos[i] = j\n",
    "                    reflect_cond(i, j, True)\n",
    "                    set_queen(i+1)\n",
    "\n",
    "                    # set_queen(i+1)이 끝났다는 건 i,j에서의 모든 경우를 봤다는 것 -> 원래대로 돌려줘야 함\n",
    "                    reflect_cond(i, j, False)\n",
    "                    \n",
    "        return cnt[0]\n",
    "\n",
    "    return set_queen()\n",
    "    \n",
    "print(solve())"
   ]
  },
  {
   "cell_type": "code",
   "execution_count": 75,
   "metadata": {},
   "outputs": [
    {
     "data": {
      "text/plain": [
       "14"
      ]
     },
     "execution_count": 75,
     "metadata": {},
     "output_type": "execute_result"
    }
   ],
   "source": [
    "N"
   ]
  },
  {
   "cell_type": "code",
   "execution_count": 77,
   "metadata": {},
   "outputs": [
    {
     "name": "stdout",
     "output_type": "stream",
     "text": [
      "365596\n"
     ]
    }
   ],
   "source": [
    "def solve():\n",
    "    # pos = [0]*N\n",
    "    flag = [False]*N # 같은 row에 queen이 있는지 표시\n",
    "    summ = [False]*(2*N-1) # 대각선 정보\n",
    "    diff = [False]*(2*N-1)\n",
    "    cnt = [0]\n",
    "\n",
    "    def reflect_cond(i, j, case:bool):\n",
    "        flag[j] = case\n",
    "        summ[i+j] = case\n",
    "        diff[i-j] = case\n",
    "\n",
    "    def set_queen(i=0):\n",
    "        \"\"\"j : 행, i : 열\"\"\"\n",
    "        if i == N:\n",
    "            # print(' '.join(map(str, pos)))\n",
    "            cnt[0] += 1\n",
    "        else:\n",
    "            for j in range(N):\n",
    "                if not flag[j] and not summ[i+j] and not diff[i-j]: # j번째 행, (i, j)대각선에 queen이 없다면\n",
    "                    # pos[i] = j\n",
    "                    reflect_cond(i, j, True)\n",
    "                    set_queen(i+1)\n",
    "\n",
    "                    # set_queen(i+1)이 끝났다는 건 i,j에서의 모든 경우를 봤다는 것 -> 원래대로 돌려줘야 함\n",
    "                    reflect_cond(i, j, False)\n",
    "                    \n",
    "        return cnt[0]\n",
    "\n",
    "    return set_queen()\n",
    "    \n",
    "print(solve())"
   ]
  },
  {
   "cell_type": "code",
   "execution_count": 51,
   "metadata": {},
   "outputs": [
    {
     "data": {
      "text/plain": [
       "16777216"
      ]
     },
     "execution_count": 51,
     "metadata": {},
     "output_type": "execute_result"
    }
   ],
   "source": [
    "8**8"
   ]
  },
  {
   "cell_type": "code",
   "execution_count": 18,
   "metadata": {},
   "outputs": [],
   "source": [
    "def facto(n):\n",
    "    if n <= 1:\n",
    "        return 1\n",
    "    return n * facto(n-1)\n",
    "\n",
    "def combi(n,r):\n",
    "    numerator = 1\n",
    "    for i in range(r):\n",
    "        numerator *= n - i\n",
    "    \n",
    "    denominator = facto(r)\n",
    "    return numerator // denominator"
   ]
  },
  {
   "cell_type": "code",
   "execution_count": 4,
   "metadata": {},
   "outputs": [
    {
     "data": {
      "text/plain": [
       "17310309456440"
      ]
     },
     "execution_count": 4,
     "metadata": {},
     "output_type": "execute_result"
    }
   ],
   "source": [
    "combi(100, 10)"
   ]
  },
  {
   "cell_type": "code",
   "execution_count": 79,
   "metadata": {},
   "outputs": [],
   "source": [
    "def solve(N):\n",
    "\n",
    "    # pos = [0]*N\n",
    "    flag = [False]*N # 같은 row에 queen이 있는지 표시\n",
    "    summ = [False]*(2*N-1) # 대각선 정보\n",
    "    diff = [False]*(2*N-1)\n",
    "    cnt = [0]\n",
    "\n",
    "    def reflect_cond(i, j, case:bool):\n",
    "        flag[j] = case\n",
    "        summ[i+j] = case\n",
    "        diff[i-j] = case\n",
    "\n",
    "    def set_queen(i=0):\n",
    "        \"\"\"j : 행, i : 열\"\"\"\n",
    "        if i == N:\n",
    "            # print(' '.join(map(str, pos)))\n",
    "            cnt[0] += 1\n",
    "        else:\n",
    "            for j in range(N):\n",
    "                if not flag[j] and not summ[i+j] and not diff[i-j]: # j번째 행, (i, j)대각선에 queen이 없다면\n",
    "                    # pos[i] = j\n",
    "                    reflect_cond(i, j, True)\n",
    "                    set_queen(i+1)\n",
    "\n",
    "                    # set_queen(i+1)이 끝났다는 건 i,j에서의 모든 경우를 봤다는 것 -> 원래대로 돌려줘야 함\n",
    "                    reflect_cond(i, j, False)\n",
    "                    \n",
    "        return cnt[0]\n",
    "\n",
    "    return set_queen()\n",
    "    \n",
    "ans_list = []\n",
    "for n in range(1, 15):\n",
    "    ans_list.append(solve(n))"
   ]
  },
  {
   "cell_type": "code",
   "execution_count": 80,
   "metadata": {},
   "outputs": [
    {
     "data": {
      "text/plain": [
       "[1, 0, 0, 2, 10, 4, 40, 92, 352, 724, 2680, 14200, 73712, 365596]"
      ]
     },
     "execution_count": 80,
     "metadata": {},
     "output_type": "execute_result"
    }
   ],
   "source": [
    "ans_list"
   ]
  },
  {
   "cell_type": "code",
   "execution_count": 81,
   "metadata": {},
   "outputs": [
    {
     "name": "stdout",
     "output_type": "stream",
     "text": [
      "92\n"
     ]
    }
   ],
   "source": [
    "# 꼼수로 풀기\n",
    "queen_count_list = [0, 1, 0, 0, 2, 10, 4, 40, 92, 352, 724, 2680, 14200, 73712, 365596]\n",
    "print(queen_count_list[int(input())])"
   ]
  },
  {
   "cell_type": "code",
   "execution_count": null,
   "metadata": {},
   "outputs": [],
   "source": [
    "def solve():\n",
    "    N = int(input())\n",
    "\n",
    "    # pos = [0]*N\n",
    "    flag = [False]*N # 같은 row에 queen이 있는지 표시\n",
    "    summ = [False]*(2*N-1) # 대각선 정보\n",
    "    diff = [False]*(2*N-1)\n",
    "    cnt = [0]\n",
    "\n",
    "    def reflect_cond(i, j, case:bool):\n",
    "        flag[j] = case\n",
    "        summ[i+j] = case\n",
    "        diff[i-j] = case\n",
    "\n",
    "    def set_queen(i=0, nums=set(range(N))):\n",
    "        \"\"\"j : 행, i : 열\"\"\"\n",
    "        if i == N:\n",
    "            # print(' '.join(map(str, pos)))\n",
    "            cnt[0] += 1\n",
    "        else:\n",
    "            for j in nums:\n",
    "                if not flag[j] and not summ[i+j] and not diff[i-j]: # j번째 행, (i, j)대각선에 queen이 없다면\n",
    "                    # pos[i] = j\n",
    "                    reflect_cond(i, j, True)\n",
    "                    set_queen(i+1)\n",
    "\n",
    "                    # set_queen(i+1)이 끝났다는 건 i,j에서의 모든 경우를 봤다는 것 -> 원래대로 돌려줘야 함\n",
    "                    reflect_cond(i, j, False)\n",
    "                    \n",
    "        return cnt[0]\n",
    "\n",
    "    return set_queen()\n",
    "    \n",
    "print(solve())"
   ]
  },
  {
   "cell_type": "code",
   "execution_count": 82,
   "metadata": {},
   "outputs": [
    {
     "data": {
      "text/plain": [
       "{0, 1, 2, 3, 4, 5, 6, 7, 8}"
      ]
     },
     "execution_count": 82,
     "metadata": {},
     "output_type": "execute_result"
    }
   ],
   "source": [
    "set(range(9))"
   ]
  }
 ],
 "metadata": {
  "interpreter": {
   "hash": "c798a043d5b26db4ea8dc684fe25ec244835432adc5539bce2de618403b1d63c"
  },
  "kernelspec": {
   "display_name": "Python 3.8.5 ('base')",
   "language": "python",
   "name": "python3"
  },
  "language_info": {
   "codemirror_mode": {
    "name": "ipython",
    "version": 3
   },
   "file_extension": ".py",
   "mimetype": "text/x-python",
   "name": "python",
   "nbconvert_exporter": "python",
   "pygments_lexer": "ipython3",
   "version": "3.8.5"
  },
  "orig_nbformat": 4
 },
 "nbformat": 4,
 "nbformat_minor": 2
}
