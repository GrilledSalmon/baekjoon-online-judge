{
 "cells": [
  {
   "cell_type": "markdown",
   "metadata": {},
   "source": [
    "# 2822 점수 계산\n",
    "220908\n",
    "- 소감\n",
    "    - 잘 구현한다.\n",
    "- 소요 시간 : 5분\n",
    "- 알고리즘 분류 : 정렬\n",
    "- 티어 : 실버 5"
   ]
  },
  {
   "cell_type": "code",
   "execution_count": 1,
   "metadata": {},
   "outputs": [],
   "source": [
    "import sys\n",
    "# input = sys.stdin.readline\n",
    "\n",
    "points = []\n",
    "for i in range(1, 9):\n",
    "    points.append((int(input()), i))\n",
    "\n",
    "points.sort(reverse=True)\n",
    "res = points[:5]\n",
    "print(sum(map(lambda x: x[0], res)))\n",
    "print(' '.join(sorted(map(lambda x: str(x[1]), res))))"
   ]
  },
  {
   "cell_type": "code",
   "execution_count": 2,
   "metadata": {},
   "outputs": [
    {
     "data": {
      "text/plain": [
       "[(20, 1), (30, 2), (50, 3), (48, 4), (33, 5), (66, 6), (0, 7), (64, 8)]"
      ]
     },
     "execution_count": 2,
     "metadata": {},
     "output_type": "execute_result"
    }
   ],
   "source": [
    "points"
   ]
  },
  {
   "cell_type": "code",
   "execution_count": 6,
   "metadata": {},
   "outputs": [
    {
     "name": "stdout",
     "output_type": "stream",
     "text": [
      "261\n",
      "3 4 5 6 8\n"
     ]
    }
   ],
   "source": [
    "points.sort(reverse=True)\n",
    "res = points[:5]\n",
    "print(sum(map(lambda x: x[0], res)))\n",
    "print(' '.join(sorted(map(lambda x: str(x[1]), res))))"
   ]
  },
  {
   "cell_type": "code",
   "execution_count": 4,
   "metadata": {},
   "outputs": [
    {
     "data": {
      "text/plain": [
       "[(66, 6), (64, 8), (50, 3), (48, 4), (33, 5), (30, 2), (20, 1), (0, 7)]"
      ]
     },
     "execution_count": 4,
     "metadata": {},
     "output_type": "execute_result"
    }
   ],
   "source": [
    "points"
   ]
  },
  {
   "cell_type": "code",
   "execution_count": null,
   "metadata": {},
   "outputs": [],
   "source": []
  }
 ],
 "metadata": {
  "kernelspec": {
   "display_name": "Python 3.8.8 ('base')",
   "language": "python",
   "name": "python3"
  },
  "language_info": {
   "codemirror_mode": {
    "name": "ipython",
    "version": 3
   },
   "file_extension": ".py",
   "mimetype": "text/x-python",
   "name": "python",
   "nbconvert_exporter": "python",
   "pygments_lexer": "ipython3",
   "version": "3.8.8"
  },
  "orig_nbformat": 4,
  "vscode": {
   "interpreter": {
    "hash": "f08154012ddadd8e950e6e9e035c7a7b32c136e7647e9b7c77e02eb723a8bedb"
   }
  }
 },
 "nbformat": 4,
 "nbformat_minor": 2
}
