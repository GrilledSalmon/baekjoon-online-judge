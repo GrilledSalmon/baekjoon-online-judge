{
 "cells": [
  {
   "cell_type": "markdown",
   "metadata": {},
   "source": [
    "# 3055 탈출\n",
    "220418\n",
    "- 알고리즘 분류\n",
    "    - 그래프 이론\n",
    "    - 그래프 탐색\n",
    "    - 너비 우선 탐색\n",
    "- 티어 : 골드 4"
   ]
  },
  {
   "cell_type": "code",
   "execution_count": 2,
   "metadata": {},
   "outputs": [
    {
     "name": "stdout",
     "output_type": "stream",
     "text": [
      "4\n"
     ]
    }
   ],
   "source": [
    "# 3055 탈출\n",
    "from collections import deque\n",
    "import sys\n",
    "# input = sys.stdin.readline\n",
    "\n",
    "R, C = map(int, input().split())\n",
    "forest = [input() for _ in range(R)]\n",
    "\n",
    "visited = [[0]*C for _ in range(R)]\n",
    "water_queue = []\n",
    "for row in range(R):\n",
    "    for col in range(C):\n",
    "        status = forest[row][col]\n",
    "        now_coord = (row, col)\n",
    "        if status == 'D':\n",
    "            cave_coord = now_coord\n",
    "        elif status == 'S':\n",
    "            hedgehog_queue = deque([now_coord])\n",
    "            visited[row][col] = 1\n",
    "        elif status == '*':\n",
    "            water_queue.append(now_coord)\n",
    "            visited[row][col] = -1\n",
    "        elif status == 'X':\n",
    "            visited[row][col] = -1\n",
    "\n",
    "def bfs(hedgehog_queue, water_queue):\n",
    "    now_time = 0\n",
    "    while hedgehog_queue:\n",
    "        now_time += 1\n",
    "        # 물 먼저\n",
    "        water_temp = []\n",
    "        for w_row, w_col in water_queue:\n",
    "            adj_waters = [(w_row+1, w_col), (w_row-1, w_col), (w_row, w_col+1), (w_row, w_col-1)]\n",
    "            for adj_w_row, adj_w_col in adj_waters:\n",
    "                if 0<=adj_w_row<R and 0<=adj_w_col<C and visited[adj_w_row][adj_w_col]!=-1 and (adj_w_row, adj_w_col)!=cave_coord:\n",
    "                    visited[adj_w_row][adj_w_col] = -1\n",
    "                    water_temp.append((adj_w_row, adj_w_col))\n",
    "        \n",
    "        water_queue = water_temp\n",
    "        \n",
    "        # 고슴도치 이동\n",
    "        hedge_temp = []\n",
    "        for h_row, h_col in hedgehog_queue:\n",
    "            adj_hedges = [(h_row+1, h_col), (h_row-1, h_col), (h_row, h_col+1), (h_row, h_col-1)]\n",
    "            for adj_h_row, adj_h_col in adj_hedges:\n",
    "                if 0<=adj_h_row<R and 0<=adj_h_col<C and visited[adj_h_row][adj_h_col]==0:\n",
    "                    visited[adj_h_row][adj_h_col] = now_time\n",
    "                    hedge_temp.append((adj_h_row, adj_h_col))\n",
    "                    if (adj_h_row, adj_h_col) == cave_coord:\n",
    "                        print(now_time)\n",
    "                        return\n",
    "        hedgehog_queue = hedge_temp\n",
    "\n",
    "    print('KAKTUS')\n",
    "    return\n",
    "\n",
    "bfs(hedgehog_queue, water_queue)"
   ]
  }
 ],
 "metadata": {
  "interpreter": {
   "hash": "8fac594bfae6525c0c41b4041d2d72effa188cc8ead05f81b1fab2bb098927fb"
  },
  "kernelspec": {
   "display_name": "Python 3.8.8 ('base')",
   "language": "python",
   "name": "python3"
  },
  "language_info": {
   "codemirror_mode": {
    "name": "ipython",
    "version": 3
   },
   "file_extension": ".py",
   "mimetype": "text/x-python",
   "name": "python",
   "nbconvert_exporter": "python",
   "pygments_lexer": "ipython3",
   "version": "3.8.8"
  },
  "orig_nbformat": 4
 },
 "nbformat": 4,
 "nbformat_minor": 2
}
