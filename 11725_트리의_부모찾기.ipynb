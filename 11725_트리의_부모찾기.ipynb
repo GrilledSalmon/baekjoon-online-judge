{
 "cells": [
  {
   "cell_type": "markdown",
   "metadata": {},
   "source": [
    "# 11725 트리의 부모 찾기\n",
    "220123\n",
    "- 소감 : 새벽에 잠 안와서 누워서 아이패드로 풀음 개꿀. 다른 사람 풀이 봤는데 내가 생각보다 엄청 잘풀었네..? 코드잇 강의만 보고 푼 건데 상위에 있는 사람들이랑 거의 똑같이 풀었음. 근데 시간은 내가 왜 더 느릴까..?\n",
    "- 알고리즘 분류\n",
    "    - 그래프 이론\n",
    "    - 그래프 탐색\n",
    "    - 트리\n",
    "    - 너비 우선 탐색\n",
    "    - 깊이 우선 탐색\n",
    "- 티어 : 실버 2"
   ]
  },
  {
   "cell_type": "code",
   "execution_count": 26,
   "metadata": {},
   "outputs": [
    {
     "name": "stdout",
     "output_type": "stream",
     "text": [
      "12\n",
      "1 2\n",
      "1 3\n",
      "2 4\n",
      "3 5\n",
      "3 6\n",
      "4 7\n",
      "4 8\n",
      "5 9\n",
      "5 10\n",
      "6 11\n",
      "6 12\n",
      "1\n",
      "1\n",
      "2\n",
      "3\n",
      "3\n",
      "4\n",
      "4\n",
      "5\n",
      "5\n",
      "6\n",
      "6\n"
     ]
    }
   ],
   "source": [
    "import sys\n",
    "from collections import deque\n",
    "# input = sys.stdin.readline\n",
    "\n",
    "N = int(input())\n",
    "        \n",
    "graph = [[] for _ in range(N+1)]\n",
    "\n",
    "# 그래프 관계 설정\n",
    "for _ in range(N-1):\n",
    "    a, b = map(int, input().split())\n",
    "    graph[a].append(b)\n",
    "    graph[b].append(a)\n",
    "    \n",
    "parent_list = [0] * (N+1) # 노드별 부모 정보가 담길 리스트\n",
    "parent_list[1] = 1 # root는 부모가 자기 자신이라(사실 0빼고 아무 숫자나 해도 됨. True라 나올 수 있는 거) 설정\n",
    "\n",
    "# BFS\n",
    "queue = deque()\n",
    "queue.append(1)\n",
    "while queue:\n",
    "    parent = queue.popleft()\n",
    "    for node in graph[parent]:\n",
    "        if not parent_list[node]: # 부모 정보가 0이 아니라는 건 이미 방문했다는 얘기\n",
    "            parent_list[node] = parent\n",
    "            queue.append(node)\n",
    "            \n",
    "for i in range(2, N+1):\n",
    "    print(parent_list[i])"
   ]
  },
  {
   "cell_type": "code",
   "execution_count": 1,
   "metadata": {},
   "outputs": [
    {
     "name": "stdout",
     "output_type": "stream",
     "text": [
      "1\n"
     ]
    }
   ],
   "source": [
    "if [0]:\n",
    "    print(1)"
   ]
  },
  {
   "cell_type": "code",
   "execution_count": 11,
   "metadata": {},
   "outputs": [
    {
     "data": {
      "text/plain": [
       "[[], [6, 4], [4], [6, 5], [1, 2, 7], [3], [1, 3], [4]]"
      ]
     },
     "execution_count": 11,
     "metadata": {},
     "output_type": "execute_result"
    }
   ],
   "source": [
    "graph"
   ]
  },
  {
   "cell_type": "code",
   "execution_count": 5,
   "metadata": {},
   "outputs": [],
   "source": [
    "temp = [[] for _ in range(3)]"
   ]
  },
  {
   "cell_type": "code",
   "execution_count": 6,
   "metadata": {},
   "outputs": [
    {
     "data": {
      "text/plain": [
       "[[1], [], []]"
      ]
     },
     "execution_count": 6,
     "metadata": {},
     "output_type": "execute_result"
    }
   ],
   "source": [
    "temp[0].append(1)\n",
    "temp"
   ]
  },
  {
   "cell_type": "code",
   "execution_count": 25,
   "metadata": {},
   "outputs": [
    {
     "name": "stdout",
     "output_type": "stream",
     "text": [
      "4\n",
      "6\n",
      "1\n",
      "3\n",
      "1\n",
      "4\n"
     ]
    }
   ],
   "source": [
    "parent_list = [0] * (N+1)\n",
    "parent_list[1] = 1\n",
    "\n",
    "from collections import deque\n",
    "\n",
    "queue = deque()\n",
    "queue.append(1)\n",
    "\n",
    "while queue:\n",
    "    parent = queue.popleft()\n",
    "    for node in graph[parent]:\n",
    "        if not parent_list[node]:\n",
    "            parent_list[node] = parent\n",
    "            queue.append(node)\n",
    "            \n",
    "for i in range(2, N+1):\n",
    "    print(parent_list[i])"
   ]
  },
  {
   "cell_type": "code",
   "execution_count": 23,
   "metadata": {},
   "outputs": [
    {
     "data": {
      "text/plain": [
       "[0, 1, 4, 6, 1, 3, 1, 4]"
      ]
     },
     "execution_count": 23,
     "metadata": {},
     "output_type": "execute_result"
    }
   ],
   "source": [
    "parent_list"
   ]
  }
 ],
 "metadata": {
  "kernelspec": {
   "display_name": "Python 3 (ipykernel)",
   "language": "python",
   "name": "python3"
  },
  "language_info": {
   "codemirror_mode": {
    "name": "ipython",
    "version": 3
   },
   "file_extension": ".py",
   "mimetype": "text/x-python",
   "name": "python",
   "nbconvert_exporter": "python",
   "pygments_lexer": "ipython3",
   "version": "3.8.5"
  }
 },
 "nbformat": 4,
 "nbformat_minor": 2
}
