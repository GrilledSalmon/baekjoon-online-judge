{
 "cells": [
  {
   "cell_type": "markdown",
   "metadata": {},
   "source": [
    "# 11049 행렬 곱셈 순서\n",
    "220423\n",
    "- 소감 : 어렵다.. 알고보니 얘도 연쇄행렬 최소곱셈 알고리즘이라고 알려진 애였음.. 이런 문제는 아이디어는 찾아서 이해한 후에 스스로 구현해보는 방식이 맞는 것 같다.\n",
    "- 아이디어 : ABCD라는 행렬 곱은 (A)(BCD), (AB)(CD), (ABC)(D) 이렇게 곱하는 경우로 나눌 수 있고, ABCD행렬곱의 최소 연산수를 구하려면 앞의 세 개 케이스의 최소 행렬곱을 구하면 됨.(이 때 나눠진 행렬곱 또한 해당 행렬곱의 최소 연산수를 리턴해줘야 함) 그런데 A:axb, B:bXc, C:cxd. D:dxe라고 하면 AB:axc, CD:cxe가 되므로 연산수(ABCD) = 연산수(AB) + 연산수(BD) + a\\*c\\*e가 된다. 그러므로 ABCD 행렬곱의 최소 연산수는 `dp(s, i) + dp(i, e) + A[s]*A[i]*A[e]1`(s\\<i\\<e) 중 최솟값이 된다.\n",
    "- 알고리즘 분류\n",
    "    - 다이나믹 프로그래밍\n",
    "- 티어 : 골드 3"
   ]
  },
  {
   "cell_type": "code",
   "execution_count": 11,
   "metadata": {},
   "outputs": [
    {
     "name": "stdout",
     "output_type": "stream",
     "text": [
      "90\n"
     ]
    }
   ],
   "source": [
    "import sys\n",
    "# input = sys.stdin.readline\n",
    "\n",
    "N = int(input())\n",
    "A = list(map(int, input().split()))\n",
    "for _ in range(N-1):\n",
    "    a, b = map(int, input().split())\n",
    "    A.append(b)\n",
    "\n",
    "memo = [[0]*(N+1) for _ in range(N+1)]\n",
    "\n",
    "def dp(s=0, e=N):\n",
    "    \"\"\"s에서 e까지 행렬곱의 최소 연산수 리턴\"\"\"\n",
    "    if not memo[s][e]:\n",
    "        if e-s == 1:\n",
    "            pass\n",
    "        elif e-s == 2:\n",
    "            a, b, c = A[s:e+1]\n",
    "            memo[s][e] = a*b*c\n",
    "        else:\n",
    "            temp = []\n",
    "            for i in range(s+1, e):\n",
    "                temp.append(dp(s, i) + dp(i, e) + A[s]*A[i]*A[e])\n",
    "            memo[s][e] = min(temp)\n",
    "\n",
    "    return memo[s][e]\n",
    "print(dp())"
   ]
  },
  {
   "cell_type": "code",
   "execution_count": 2,
   "metadata": {},
   "outputs": [
    {
     "data": {
      "text/plain": [
       "(6, [5, 3, 2, 6, 4, 2, 3])"
      ]
     },
     "execution_count": 2,
     "metadata": {},
     "output_type": "execute_result"
    }
   ],
   "source": [
    "N, A"
   ]
  },
  {
   "cell_type": "code",
   "execution_count": 9,
   "metadata": {},
   "outputs": [
    {
     "name": "stdout",
     "output_type": "stream",
     "text": [
      "136\n"
     ]
    }
   ],
   "source": [
    "memo = [[0]*(N+1) for _ in range(N+1)]\n",
    "\n",
    "def dp(s=0, e=N):\n",
    "    \"\"\"s에서 e까지 행렬의 최대 곱셈 리턴\"\"\"\n",
    "    if not memo[s][e]:\n",
    "        if e-s == 1:\n",
    "            pass\n",
    "        elif e-s == 2:\n",
    "            a, b, c = A[s:e+1]\n",
    "            memo[s][e] = a*b*c\n",
    "        else:\n",
    "            temp = []\n",
    "            for i in range(s+1, e):\n",
    "                temp.append(dp(s, i) + dp(i, e) + A[s]*A[i]*A[e])\n",
    "            memo[s][e] = min(temp)\n",
    "\n",
    "    return memo[s][e]\n",
    "print(dp())"
   ]
  },
  {
   "cell_type": "code",
   "execution_count": 10,
   "metadata": {},
   "outputs": [
    {
     "data": {
      "text/plain": [
       "[[0, 0, 30, 90, 118, 106, 136],\n",
       " [0, 0, 0, 36, 72, 76, 94],\n",
       " [0, 0, 0, 0, 48, 64, 76],\n",
       " [0, 0, 0, 0, 0, 48, 84],\n",
       " [0, 0, 0, 0, 0, 0, 24],\n",
       " [0, 0, 0, 0, 0, 0, 0],\n",
       " [0, 0, 0, 0, 0, 0, 0]]"
      ]
     },
     "execution_count": 10,
     "metadata": {},
     "output_type": "execute_result"
    }
   ],
   "source": [
    "memo"
   ]
  },
  {
   "cell_type": "code",
   "execution_count": 8,
   "metadata": {},
   "outputs": [
    {
     "data": {
      "text/plain": [
       "1"
      ]
     },
     "execution_count": 8,
     "metadata": {},
     "output_type": "execute_result"
    }
   ],
   "source": [
    "min(1, 2)"
   ]
  },
  {
   "cell_type": "code",
   "execution_count": null,
   "metadata": {},
   "outputs": [],
   "source": []
  },
  {
   "cell_type": "code",
   "execution_count": null,
   "metadata": {},
   "outputs": [],
   "source": []
  },
  {
   "cell_type": "code",
   "execution_count": 7,
   "metadata": {},
   "outputs": [
    {
     "data": {
      "text/plain": [
       "90"
      ]
     },
     "execution_count": 7,
     "metadata": {},
     "output_type": "execute_result"
    }
   ],
   "source": [
    "def mult(array):\n",
    "    a, b, c = array\n",
    "    return a*b*c\n",
    "\n",
    "cache = []\n",
    "def min_oper(array=A):\n",
    "    if len(array) == 3:\n",
    "        return mult(array)\n",
    "    temp = []\n",
    "    for i in range(1, len(array)-1):\n",
    "        new_A = A[:i] + A[i+1:]\n",
    "        temp.append(min_oper(new_A) + mult(A[i-1:i+2]))\n",
    "    return min(temp)\n",
    "\n",
    "min_oper()"
   ]
  },
  {
   "cell_type": "code",
   "execution_count": 1,
   "metadata": {},
   "outputs": [
    {
     "ename": "NameError",
     "evalue": "name 'A' is not defined",
     "output_type": "error",
     "traceback": [
      "\u001b[1;31m---------------------------------------------------------------------------\u001b[0m",
      "\u001b[1;31mNameError\u001b[0m                                 Traceback (most recent call last)",
      "\u001b[1;32m<ipython-input-1-9a073df55411>\u001b[0m in \u001b[0;36m<module>\u001b[1;34m\u001b[0m\n\u001b[1;32m----> 1\u001b[1;33m \u001b[1;32mfor\u001b[0m \u001b[0mi\u001b[0m \u001b[1;32min\u001b[0m \u001b[0mrange\u001b[0m\u001b[1;33m(\u001b[0m\u001b[1;36m1\u001b[0m\u001b[1;33m,\u001b[0m \u001b[0mlen\u001b[0m\u001b[1;33m(\u001b[0m\u001b[0mA\u001b[0m\u001b[1;33m)\u001b[0m\u001b[1;33m-\u001b[0m\u001b[1;36m1\u001b[0m\u001b[1;33m)\u001b[0m\u001b[1;33m:\u001b[0m\u001b[1;33m\u001b[0m\u001b[1;33m\u001b[0m\u001b[0m\n\u001b[0m\u001b[0;32m      2\u001b[0m     \u001b[0mprint\u001b[0m\u001b[1;33m(\u001b[0m\u001b[0mA\u001b[0m\u001b[1;33m[\u001b[0m\u001b[1;33m:\u001b[0m\u001b[0mi\u001b[0m\u001b[1;33m]\u001b[0m \u001b[1;33m+\u001b[0m \u001b[0mA\u001b[0m\u001b[1;33m[\u001b[0m\u001b[0mi\u001b[0m\u001b[1;33m+\u001b[0m\u001b[1;36m1\u001b[0m\u001b[1;33m:\u001b[0m\u001b[1;33m]\u001b[0m\u001b[1;33m)\u001b[0m\u001b[1;33m\u001b[0m\u001b[1;33m\u001b[0m\u001b[0m\n",
      "\u001b[1;31mNameError\u001b[0m: name 'A' is not defined"
     ]
    }
   ],
   "source": [
    "for i in range(1, len(A)-1):\n",
    "    print(A[:i] + A[i+1:])"
   ]
  },
  {
   "cell_type": "code",
   "execution_count": 1,
   "metadata": {},
   "outputs": [
    {
     "data": {
      "text/plain": [
       "(1, 2, 3, 2, 3, 4)"
      ]
     },
     "execution_count": 1,
     "metadata": {},
     "output_type": "execute_result"
    }
   ],
   "source": [
    "(1, 2, 3) + (2, 3, 4)"
   ]
  },
  {
   "cell_type": "code",
   "execution_count": null,
   "metadata": {},
   "outputs": [],
   "source": [
    "# 좋은 코드가 아니긴 한데... 이거 실행시키면 왜 다들 하나같이 죽냐..?(주피터, 그냥 python, colab 다 죽음)\n",
    "# 이상하게 len(A) == 4까지는 됨\n",
    "# import sys\n",
    "# sys.setrecursionlimit(100000)\n",
    "# A = (4, 2, 5, 2, 3)\n",
    "# def mult(array):\n",
    "#     a, b, c = array\n",
    "#     return a*b*c\n",
    "\n",
    "# cache = {}\n",
    "# def min_oper(array=A):\n",
    "#     if array in cache:\n",
    "#         return cache[array]\n",
    "#     if len(array) == 3:\n",
    "#         cache[array] = mult(array)\n",
    "#     else:\n",
    "#         temp = []\n",
    "#         for i in range(1, len(array)-1):\n",
    "#             new_A = A[:i] + A[i+1:]\n",
    "#             temp.append(min_oper(new_A) + mult(A[i-1:i+2]))\n",
    "#         cache[array] = min(temp)\n",
    "#     print(cache)\n",
    "#     return cache[array]\n",
    "\n",
    "# ans = min_oper()\n",
    "\n",
    "# print('hello2')\n",
    "# print(ans)\n",
    "# print('hello')"
   ]
  },
  {
   "cell_type": "code",
   "execution_count": null,
   "metadata": {},
   "outputs": [],
   "source": []
  }
 ],
 "metadata": {
  "interpreter": {
   "hash": "8fac594bfae6525c0c41b4041d2d72effa188cc8ead05f81b1fab2bb098927fb"
  },
  "kernelspec": {
   "display_name": "Python 3.8.8 ('base')",
   "language": "python",
   "name": "python3"
  },
  "language_info": {
   "codemirror_mode": {
    "name": "ipython",
    "version": 3
   },
   "file_extension": ".py",
   "mimetype": "text/x-python",
   "name": "python",
   "nbconvert_exporter": "python",
   "pygments_lexer": "ipython3",
   "version": "3.8.8"
  },
  "orig_nbformat": 4
 },
 "nbformat": 4,
 "nbformat_minor": 2
}
