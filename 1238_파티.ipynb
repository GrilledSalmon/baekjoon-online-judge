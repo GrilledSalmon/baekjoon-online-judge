{
 "cells": [
  {
   "cell_type": "markdown",
   "metadata": {},
   "source": [
    "# 1238 파티\n",
    "220529\n",
    "- 소감\n",
    "    - 노드가 1000개이기 때문에 Floyd Warshall 알고리즘(O(N^3))을 사용하면 시간초과가 날 것으로 보였습니다.\n",
    "    - 각자의 집에서 X로 가는 것을 각각 계산해주는 게 아니라 그래프를 거꾸로 뒤집어서 한 번에 계산해주는 것이 중요한 아이디어였습니다.(발상의 전환 필요..)\n",
    "    - float('inf')보다 sys.maxsize를 쓰는 게 조금 더 빠르다는 걸 알았습니다.\n",
    "- 소요 시간 : 30분\n",
    "- 알고리즘 분류 : 그래프 이론, 다익스트라\n",
    "- 티어 : 골드 3"
   ]
  },
  {
   "cell_type": "code",
   "execution_count": 2,
   "metadata": {},
   "outputs": [],
   "source": [
    "from heapq import heappop, heappush\n",
    "import sys\n",
    "# input = sys.stdin.readline\n",
    "MAX_INT = sys.maxsize\n",
    "\n",
    "N, M, X = map(int, input().split())\n",
    "adj_list = [[] for _ in range(N+1)]\n",
    "adj_list_rev = [[] for _ in range(N+1)]\n",
    "for _ in range(M):\n",
    "    a, b, t = map(int, input().split())\n",
    "    adj_list[a].append((b, t))\n",
    "    adj_list_rev[b].append((a, t))\n",
    "\n",
    "def dikstra(adj_list):\n",
    "    heap = [(0, X)]  # (dist, node)\n",
    "    dist = [MAX_INT]*(N+1)\n",
    "    dist[X] = 0\n",
    "    complete = [0]*(N+1)\n",
    "    while heap:\n",
    "        now_dist, now_node = heappop(heap)\n",
    "        if not complete[now_node]:\n",
    "            complete[now_node] = 1\n",
    "            for adj_node, adj_dist in adj_list[now_node]:\n",
    "                new_dist = now_dist + adj_dist\n",
    "                if new_dist < dist[adj_node]:\n",
    "                    dist[adj_node] = new_dist\n",
    "                    heappush(heap, (new_dist, adj_node))\n",
    "    return dist\n",
    "\n",
    "x_to_home = dikstra(adj_list)\n",
    "home_to_x = dikstra(adj_list_rev)\n",
    "\n",
    "home_to_home = []\n",
    "for i in range(1, N+1):\n",
    "    home_to_home.append(x_to_home[i] + home_to_x[i])\n",
    "\n",
    "print(max(home_to_home))"
   ]
  },
  {
   "cell_type": "code",
   "execution_count": 3,
   "metadata": {},
   "outputs": [
    {
     "data": {
      "text/plain": [
       "(4,\n",
       " 8,\n",
       " 2,\n",
       " [[], [(2, 4), (3, 2), (4, 7)], [(1, 1), (3, 5)], [(1, 2), (4, 4)], [(2, 3)]],\n",
       " [[], [(2, 1), (3, 2)], [(1, 4), (4, 3)], [(1, 2), (2, 5)], [(1, 7), (3, 4)]])"
      ]
     },
     "execution_count": 3,
     "metadata": {},
     "output_type": "execute_result"
    }
   ],
   "source": [
    "N, M, X, adj_list, adj_list_rev"
   ]
  },
  {
   "cell_type": "code",
   "execution_count": 6,
   "metadata": {},
   "outputs": [
    {
     "name": "stdout",
     "output_type": "stream",
     "text": [
      "10\n"
     ]
    }
   ],
   "source": [
    "from heapq import heappop, heappush\n",
    "\n",
    "def dikstra(adj_list):\n",
    "    heap = [(0, X)]  # (dist, node)\n",
    "    dist = [float('inf')]*(N+1)\n",
    "    dist[X] = 0\n",
    "    complete = [0]*(N+1)\n",
    "    while heap:\n",
    "        now_dist, now_node = heappop(heap)\n",
    "        if not complete[now_node]:\n",
    "            complete[now_node] = 1\n",
    "            for adj_node, adj_dist in adj_list[now_node]:\n",
    "                new_dist = now_dist + adj_dist\n",
    "                if new_dist < dist[adj_node]:\n",
    "                    dist[adj_node] = new_dist\n",
    "                    heappush(heap, (new_dist, adj_node))\n",
    "    return dist\n",
    "\n",
    "x_to_home = dikstra(adj_list)\n",
    "home_to_x = dikstra(adj_list_rev)\n",
    "\n",
    "home_to_home = []\n",
    "for i in range(1, N+1):\n",
    "    home_to_home.append(x_to_home[i] + home_to_x[i])\n",
    "print(max(home_to_home))"
   ]
  },
  {
   "cell_type": "code",
   "execution_count": 5,
   "metadata": {},
   "outputs": [
    {
     "data": {
      "text/plain": [
       "([inf, 1, 0, 3, 7], [inf, 4, 0, 6, 3])"
      ]
     },
     "execution_count": 5,
     "metadata": {},
     "output_type": "execute_result"
    }
   ],
   "source": []
  },
  {
   "cell_type": "code",
   "execution_count": null,
   "metadata": {},
   "outputs": [],
   "source": []
  }
 ],
 "metadata": {
  "interpreter": {
   "hash": "f08154012ddadd8e950e6e9e035c7a7b32c136e7647e9b7c77e02eb723a8bedb"
  },
  "kernelspec": {
   "display_name": "Python 3.8.8 ('base')",
   "language": "python",
   "name": "python3"
  },
  "language_info": {
   "codemirror_mode": {
    "name": "ipython",
    "version": 3
   },
   "file_extension": ".py",
   "mimetype": "text/x-python",
   "name": "python",
   "nbconvert_exporter": "python",
   "pygments_lexer": "ipython3",
   "version": "3.8.8"
  },
  "orig_nbformat": 4
 },
 "nbformat": 4,
 "nbformat_minor": 2
}
