{
 "cells": [
  {
   "cell_type": "markdown",
   "metadata": {},
   "source": [
    "# 169828 뱀과 사다리 게임\n",
    "220220\n",
    "- 알고리즘 분류\n",
    "    - 그래프 이론\n",
    "    - 그래프 탐색\n",
    "    - 너비 우선 탐색\n",
    "- 티어 : 실버 1"
   ]
  },
  {
   "cell_type": "code",
   "execution_count": 1,
   "metadata": {},
   "outputs": [
    {
     "name": "stdout",
     "output_type": "stream",
     "text": [
      "3\n"
     ]
    }
   ],
   "source": [
    "from collections import deque\n",
    "import sys\n",
    "# input = sys.stdin.readline\n",
    "\n",
    "N, M = map(int, input().split())\n",
    "\n",
    "adj_list = [[i+j for j in range(1, 7)] for i in range(101)]\n",
    "adj_list[0] = None\n",
    "\n",
    "# 사다리, 뱀 관계 설정\n",
    "for _ in range(N+M):\n",
    "    a, b = map(int, input().split())\n",
    "    adj_list[a] = [b]\n",
    "\n",
    "def bfs():\n",
    "    visited = [0] * 101\n",
    "    visited[1] = 1\n",
    "    queue = deque([1])\n",
    "    level = 0\n",
    "    prev_level_set = set([1])\n",
    "    now_level_set = set()\n",
    "\n",
    "    while queue:\n",
    "        now_node = queue.popleft()\n",
    "        if now_node not in prev_level_set: # 지금의 노드가 이전 레벨셋에 포함되지 않는다면\n",
    "            prev_level_set = now_level_set.copy()\n",
    "            now_level_set.clear()\n",
    "            level += 1\n",
    "        \n",
    "        while len(adj_list[now_node]) == 1: # 만약 사다리나 뱀이 있는 곳이라면 그곳으로 점프\n",
    "            now_node = adj_list[now_node][0]\n",
    "            visited[now_node] = 1\n",
    "            \n",
    "        for adj_node in adj_list[now_node]:\n",
    "            if not visited[adj_node] and adj_node <= 100: # 방문한 적이 없다면\n",
    "                if adj_node == 100:\n",
    "                    level += 1\n",
    "                    return level\n",
    "                queue.append(adj_node)\n",
    "                now_level_set.add(adj_node)\n",
    "                visited[adj_node] = 1\n",
    "                \n",
    "print(bfs())"
   ]
  }
 ],
 "metadata": {
  "interpreter": {
   "hash": "c798a043d5b26db4ea8dc684fe25ec244835432adc5539bce2de618403b1d63c"
  },
  "kernelspec": {
   "display_name": "Python 3.8.5 ('base')",
   "language": "python",
   "name": "python3"
  },
  "language_info": {
   "codemirror_mode": {
    "name": "ipython",
    "version": 3
   },
   "file_extension": ".py",
   "mimetype": "text/x-python",
   "name": "python",
   "nbconvert_exporter": "python",
   "pygments_lexer": "ipython3",
   "version": "3.8.5"
  },
  "orig_nbformat": 4
 },
 "nbformat": 4,
 "nbformat_minor": 2
}
