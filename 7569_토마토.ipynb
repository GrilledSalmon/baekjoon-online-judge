{
 "cells": [
  {
   "cell_type": "markdown",
   "metadata": {},
   "source": [
    "# 7569 토마토\n",
    "220301\n",
    "- 알고리즘 분류\n",
    "    - 그래프 이론\n",
    "    - 그래프 탐색\n",
    "    - 너비 우선 탐색\n",
    "- 티어 : 골드 5"
   ]
  },
  {
   "cell_type": "code",
   "execution_count": 25,
   "metadata": {},
   "outputs": [
    {
     "name": "stdout",
     "output_type": "stream",
     "text": [
      "4\n"
     ]
    }
   ],
   "source": [
    "import sys\n",
    "# input = sys.stdin.readline\n",
    "\n",
    "def solve():\n",
    "    M, N, H = map(int, input().split())\n",
    "    tomato = [[list(map(int, input().split())) for _ in range(N)] for __ in range(H)]\n",
    "\n",
    "    ripen_tomato_coord = [] # 익은 토마토 위치\n",
    "    for z in range(H):\n",
    "        for y in range(N):\n",
    "            for x in range(M):\n",
    "                if tomato[z][y][x] == 1:\n",
    "                    ripen_tomato_coord.append((x, y, z))\n",
    "\n",
    "    # BFS\n",
    "    queue = ripen_tomato_coord\n",
    "    day = -1\n",
    "    while queue:\n",
    "        temp = []\n",
    "        day += 1\n",
    "        for x, y, z in queue:\n",
    "            probe = [(x-1, y, z), (x+1, y, z), (x, y-1, z), (x, y+1, z), (x, y, z-1), (x, y, z+1)]\n",
    "            for x_, y_, z_ in probe:\n",
    "                if 0<=x_<M and 0<=y_<N and 0<=z_<H and not tomato[z_][y_][x_]: # 좌표 만족 + 안 익었으면\n",
    "                    tomato[z_][y_][x_] = 1\n",
    "                    temp.append((x_, y_, z_))\n",
    "        queue = temp\n",
    "    \n",
    "    for z in range(H):\n",
    "        for y in range(N):\n",
    "            for x in range(M):\n",
    "                if not tomato[z][y][x]: # 안 익은 토마토가 있다면\n",
    "                    print(-1)\n",
    "                    return\n",
    "\n",
    "    print(day)\n",
    "    return\n",
    "\n",
    "solve()"
   ]
  },
  {
   "cell_type": "code",
   "execution_count": 4,
   "metadata": {},
   "outputs": [
    {
     "data": {
      "text/plain": [
       "[[[0, 0, 0, 0, 0], [0, 0, 0, 0, 0], [0, 0, 0, 0, 0]],\n",
       " [[0, 0, 0, 0, 0], [0, 0, 1, 0, 0], [0, 0, 0, 0, 0]]]"
      ]
     },
     "execution_count": 4,
     "metadata": {},
     "output_type": "execute_result"
    }
   ],
   "source": [
    "from copy import deepcopy\n",
    "save_tomato = deepcopy(tomato)\n",
    "save_tomato"
   ]
  },
  {
   "cell_type": "code",
   "execution_count": 17,
   "metadata": {},
   "outputs": [
    {
     "data": {
      "text/plain": [
       "[[[0, 0, 0, 0, 0], [0, 0, 0, 0, 0], [0, 0, 0, 0, 0]],\n",
       " [[0, 0, 0, 0, 0], [0, 0, 1, 0, 0], [0, 0, 0, 0, 0]]]"
      ]
     },
     "execution_count": 17,
     "metadata": {},
     "output_type": "execute_result"
    }
   ],
   "source": [
    "tomato = deepcopy(save_tomato)\n",
    "tomato"
   ]
  },
  {
   "cell_type": "code",
   "execution_count": 6,
   "metadata": {},
   "outputs": [
    {
     "data": {
      "text/plain": [
       "[(2, 1, 1)]"
      ]
     },
     "execution_count": 6,
     "metadata": {},
     "output_type": "execute_result"
    }
   ],
   "source": [
    "ripen_tomato_coord = []\n",
    "for z in range(H):\n",
    "    for y in range(N):\n",
    "        for x in range(M):\n",
    "            if tomato[z][y][x] == 1:\n",
    "                ripen_tomato_coord.append((x, y, z))\n",
    "ripen_tomato_coord"
   ]
  },
  {
   "cell_type": "code",
   "execution_count": null,
   "metadata": {},
   "outputs": [],
   "source": [
    "M, N, H = map(int, input().split())\n",
    "tomato = [[list(map(int, input().split())) for _ in range(N)] for __ in range(H)]"
   ]
  },
  {
   "cell_type": "code",
   "execution_count": 20,
   "metadata": {},
   "outputs": [
    {
     "name": "stdout",
     "output_type": "stream",
     "text": [
      "4\n"
     ]
    }
   ],
   "source": [
    "def solve():\n",
    "    ripen_tomato_coord = [] # 익은 토마토 위치\n",
    "    for z in range(H):\n",
    "        for y in range(N):\n",
    "            for x in range(M):\n",
    "                if tomato[z][y][x] == 1:\n",
    "                    ripen_tomato_coord.append((x, y, z))\n",
    "\n",
    "    # BFS\n",
    "    queue = ripen_tomato_coord\n",
    "    day = -1\n",
    "    while queue:\n",
    "        temp = []\n",
    "        day += 1\n",
    "        for x, y, z in queue:\n",
    "            probe = [(x-1, y, z), (x+1, y, z), (x, y-1, z), (x, y+1, z), (x, y, z-1), (x, y, z+1)]\n",
    "            for x_, y_, z_ in probe:\n",
    "                if 0<=x_<M and 0<=y_<N and 0<=z_<H and not tomato[z_][y_][x_]: # 좌표 만족 + 안 익었으면\n",
    "                    tomato[z_][y_][x_] = 1\n",
    "                    temp.append((x_, y_, z_))\n",
    "        queue = temp\n",
    "        \n",
    "    for z in range(H):\n",
    "        for y in range(N):\n",
    "            for x in range(M):\n",
    "                if not tomato[z][y][x]: # 안 익은 토마토가 있다면\n",
    "                    print(-1)\n",
    "                    return\n",
    "\n",
    "    print(day)\n",
    "    return\n",
    "solve()"
   ]
  },
  {
   "cell_type": "code",
   "execution_count": 21,
   "metadata": {},
   "outputs": [
    {
     "data": {
      "text/plain": [
       "[[[1, 1, 1, 1, 1], [1, 1, 1, 1, 1], [1, 1, 1, 1, 1]],\n",
       " [[1, 1, 1, 1, 1], [1, 1, 1, 1, 1], [1, 1, 1, 1, 1]]]"
      ]
     },
     "execution_count": 21,
     "metadata": {},
     "output_type": "execute_result"
    }
   ],
   "source": [
    "tomato"
   ]
  },
  {
   "cell_type": "code",
   "execution_count": 23,
   "metadata": {},
   "outputs": [
    {
     "name": "stdout",
     "output_type": "stream",
     "text": [
      "1\n"
     ]
    }
   ],
   "source": [
    "if -1:\n",
    "    print(1)"
   ]
  },
  {
   "cell_type": "code",
   "execution_count": null,
   "metadata": {},
   "outputs": [],
   "source": []
  }
 ],
 "metadata": {
  "interpreter": {
   "hash": "c798a043d5b26db4ea8dc684fe25ec244835432adc5539bce2de618403b1d63c"
  },
  "kernelspec": {
   "display_name": "Python 3.8.5 ('base')",
   "language": "python",
   "name": "python3"
  },
  "language_info": {
   "codemirror_mode": {
    "name": "ipython",
    "version": 3
   },
   "file_extension": ".py",
   "mimetype": "text/x-python",
   "name": "python",
   "nbconvert_exporter": "python",
   "pygments_lexer": "ipython3",
   "version": "3.8.5"
  },
  "orig_nbformat": 4
 },
 "nbformat": 4,
 "nbformat_minor": 2
}
