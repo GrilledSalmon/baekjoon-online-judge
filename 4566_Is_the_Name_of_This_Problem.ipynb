{
 "cells": [
  {
   "cell_type": "markdown",
   "metadata": {},
   "source": [
    "# 4556 Is the Name of This Problem\n",
    "220718\n",
    "- 소감\n",
    "    - 뭘까...?^^\n",
    "- 소요 시간 : 2시간\n",
    "- 알고리즘 분류 : 구현, 문자열, 파싱\n",
    "- 티어 : 브론즈 1"
   ]
  },
  {
   "cell_type": "code",
   "execution_count": null,
   "metadata": {},
   "outputs": [],
   "source": [
    "import sys\n",
    "import re\n",
    "# input = sys.stdin.readline\n",
    "c = re.compile(\"[A-Z ]+\")\n",
    "\n",
    "def is_quine(sentence:str):\n",
    "    start = False\n",
    "    ind = None\n",
    "    if sentence.upper() != sentence:\n",
    "        return False, None\n",
    "    for i, s in enumerate(sentence):\n",
    "        if not start:\n",
    "            if s == '\"':\n",
    "                start = True\n",
    "        else:\n",
    "            if s == '\"':\n",
    "                ind = i\n",
    "                break\n",
    "    if not start:\n",
    "        return False, None\n",
    "    if ind is None or ind == len(sentence) - 1:\n",
    "        return False, None\n",
    "    A = sentence[1:ind]\n",
    "    \n",
    "    if len(A) == 0 or A[0] == ' ' or A[-1] == ' ' or '  ' in A:\n",
    "        return False, None\n",
    "    if len(sentence) != len(A)*2+3:\n",
    "        return False, None\n",
    "    if sentence[0] != '\"' or sentence[ind+1] != ' ':\n",
    "        return False, None\n",
    "    if A != sentence[ind+2:]:\n",
    "        return False, None\n",
    "    if not c.fullmatch(A):\n",
    "        return False, None\n",
    "    return True, A\n",
    "\n",
    "while True:\n",
    "    inp = input()[:-1]\n",
    "    if inp == \"END\":\n",
    "        break\n",
    "    res, A = is_quine(inp)\n",
    "    if res:\n",
    "        print(f\"Quine({A})\")\n",
    "    else:\n",
    "        print(\"not a quine\")"
   ]
  },
  {
   "cell_type": "code",
   "execution_count": 1,
   "metadata": {},
   "outputs": [],
   "source": [
    "import re\n",
    "import sys\n",
    "# input = sys.stdin.readline\n",
    "c = re.compile(r'\"([A-Z ]+)\" \\1')\n",
    "\n",
    "while True:\n",
    "    inp = input()[:-1]\n",
    "    if inp == \"END\":\n",
    "        break\n",
    "    match = c.fullmatch(inp)\n",
    "    if match:\n",
    "        g1 = match.group(1)\n",
    "        print(g1)\n",
    "        if g1.strip() != g1 or '  ' in g1:\n",
    "            print(\"not a quine\")\n",
    "        else:\n",
    "            print(f\"Quine({g1})\")\n",
    "    else:\n",
    "        print(\"not a quine\")"
   ]
  },
  {
   "cell_type": "code",
   "execution_count": 3,
   "metadata": {},
   "outputs": [
    {
     "name": "stdout",
     "output_type": "stream",
     "text": [
      "\"HI\" HI\n",
      "\"HI\" HI HI\n",
      "not a quine\n",
      "HELLO\n",
      "not a quine\n",
      "END\n"
     ]
    }
   ],
   "source": [
    "import sys\n",
    "# input = sys.stdin.readline\n",
    "\n",
    "def is_quine(sentence:str):\n",
    "    start = False\n",
    "    if sentence.upper() != sentence:\n",
    "        return False, None\n",
    "    for i, s in enumerate(sentence):\n",
    "        if not start:\n",
    "            if s == '\"':\n",
    "                start = True\n",
    "        else:\n",
    "            if s == '\"':\n",
    "                ind = i\n",
    "                break\n",
    "    if not start:\n",
    "        return False, None\n",
    "    if ind == len(sentence) - 1:\n",
    "        return False, None\n",
    "    A = sentence\n",
    "    print(A, sentence[ind+2:])\n",
    "    if len(A) == 0 or A[0] == ' ' or A[-1] == ' ' or '  ' in A:\n",
    "        return False, None\n",
    "    if A != sentence[ind+2:]:\n",
    "        return False, None\n",
    "    return True, A\n",
    "\n",
    "while True:\n",
    "    inp = input()\n",
    "    print(inp)\n",
    "    if inp == \"END\":\n",
    "        break\n",
    "    res, A = is_quine(inp)\n",
    "    if res:\n",
    "        print(f\"Quine({A})\")\n",
    "    else:\n",
    "        print(\"not a quine\")\n"
   ]
  },
  {
   "cell_type": "code",
   "execution_count": 16,
   "metadata": {},
   "outputs": [
    {
     "data": {
      "text/plain": [
       "False"
      ]
     },
     "execution_count": 16,
     "metadata": {},
     "output_type": "execute_result"
    }
   ],
   "source": [
    "'adsf '.isalpha()"
   ]
  },
  {
   "cell_type": "code",
   "execution_count": 19,
   "metadata": {},
   "outputs": [],
   "source": [
    "import re\n",
    "\n",
    "c = re.compile(\"[A-Z ]+\")\n",
    "c.fullmatch((\" 'ADF\"))"
   ]
  },
  {
   "cell_type": "code",
   "execution_count": null,
   "metadata": {},
   "outputs": [],
   "source": []
  }
 ],
 "metadata": {
  "kernelspec": {
   "display_name": "Python 3.8.8 ('base')",
   "language": "python",
   "name": "python3"
  },
  "language_info": {
   "codemirror_mode": {
    "name": "ipython",
    "version": 3
   },
   "file_extension": ".py",
   "mimetype": "text/x-python",
   "name": "python",
   "nbconvert_exporter": "python",
   "pygments_lexer": "ipython3",
   "version": "3.8.8"
  },
  "orig_nbformat": 4,
  "vscode": {
   "interpreter": {
    "hash": "f08154012ddadd8e950e6e9e035c7a7b32c136e7647e9b7c77e02eb723a8bedb"
   }
  }
 },
 "nbformat": 4,
 "nbformat_minor": 2
}
