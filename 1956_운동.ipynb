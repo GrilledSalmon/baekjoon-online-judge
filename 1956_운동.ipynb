{
 "cells": [
  {
   "cell_type": "markdown",
   "metadata": {},
   "source": [
    "# 1956 운동\n",
    "220825\n",
    "- 소감\n",
    "    - 좋은 풀이가 떠오르지 않아서 무지성으로 풀었는데 맞았네요..^^\n",
    "    - Dijkstra를 활용한 최단경로 사이클을 찾는 게 우아한 방법이 딱히 없는 것 같다고 느낌\n",
    "    - 확실히 비효율적인 풀이더라도 말도 안되는 정도라는 확신이 드는 게 아니라면 일단 구현 해보는 게 나은듯.\n",
    "    - 그래프쪽 시간복잡도에 대한 감도 좀 있어야 할듯\n",
    "    - 아 플로이드 와샬이네..?\n",
    "- 소요 시간 : 1시간 30분\n",
    "- 알고리즘 분류 : 그래프 이론, 플로이드-워셜\n",
    "- 티어 : 골드 4"
   ]
  },
  {
   "cell_type": "code",
   "execution_count": 1,
   "metadata": {},
   "outputs": [],
   "source": [
    "from heapq import heappush, heappop\n",
    "import sys\n",
    "# input = sys.stdin.readline\n",
    "MAXINT = sys.maxsize\n",
    "\n",
    "V, E = map(int, input().split())\n",
    "adj_list = [[] for _ in range(V+1)]\n",
    "for _ in range(E):\n",
    "    a, b, c = map(int, input().split())\n",
    "    adj_list[a].append((b, c))\n",
    "\n",
    "def dijkstra(start_node):\n",
    "    dist = [MAXINT]*(V+1)\n",
    "    heap = [(0, start_node)]\n",
    "    first = True\n",
    "    while heap:\n",
    "        now_dist, now_node = heappop(heap)\n",
    "        if not first:\n",
    "            if now_node == start_node:\n",
    "                return now_dist\n",
    "            if dist[now_node] != now_dist: continue\n",
    "        else:\n",
    "            first = False\n",
    "        for adj_node, adj_dist in adj_list[now_node]:\n",
    "            new_dist = now_dist + adj_dist\n",
    "            if new_dist < dist[adj_node]:\n",
    "                dist[adj_node] = new_dist\n",
    "                heappush(heap, (new_dist, adj_node))\n",
    "    return MAXINT\n",
    "\n",
    "ans = MAXINT\n",
    "for node in range(1, V+1):\n",
    "    ans = min(dijkstra(node), ans)\n",
    "if ans == MAXINT:\n",
    "    print(-1)\n",
    "else:\n",
    "    print(ans)"
   ]
  },
  {
   "cell_type": "code",
   "execution_count": 2,
   "metadata": {},
   "outputs": [
    {
     "data": {
      "text/plain": [
       "(3, 4, [[], [(2, 1), (3, 5)], [(3, 2)], [(2, 1)]])"
      ]
     },
     "execution_count": 2,
     "metadata": {},
     "output_type": "execute_result"
    }
   ],
   "source": [
    "V, E, adj_list"
   ]
  },
  {
   "cell_type": "code",
   "execution_count": 7,
   "metadata": {},
   "outputs": [
    {
     "name": "stdout",
     "output_type": "stream",
     "text": [
      "3\n"
     ]
    }
   ],
   "source": [
    "from heapq import heappush, heappop\n",
    "\n",
    "MAXINT = sys.maxsize\n",
    "def dijkstra(start_node):\n",
    "    dist = [MAXINT]*(V+1)\n",
    "    # dist[start_node] = 0\n",
    "    heap = [(0, start_node)]\n",
    "    first = True\n",
    "    while heap:\n",
    "        now_dist, now_node = heappop(heap)\n",
    "        if not first:\n",
    "            if now_node == start_node:\n",
    "                return now_dist\n",
    "            if dist[now_node] != now_dist: continue\n",
    "        first = False\n",
    "        for adj_node, adj_dist in adj_list[now_node]:\n",
    "            new_dist = now_dist + adj_dist\n",
    "            if new_dist < dist[adj_node]:\n",
    "                dist[adj_node] = new_dist\n",
    "                heappush(heap, (new_dist, adj_node))\n",
    "    return MAXINT\n",
    "\n",
    "ans = MAXINT\n",
    "for node in range(1, V+1):\n",
    "    ans = min(dijkstra(node), ans)\n",
    "print(ans)"
   ]
  },
  {
   "cell_type": "code",
   "execution_count": null,
   "metadata": {},
   "outputs": [],
   "source": []
  },
  {
   "cell_type": "code",
   "execution_count": null,
   "metadata": {},
   "outputs": [],
   "source": []
  }
 ],
 "metadata": {
  "kernelspec": {
   "display_name": "Python 3.8.5 ('base')",
   "language": "python",
   "name": "python3"
  },
  "language_info": {
   "codemirror_mode": {
    "name": "ipython",
    "version": 3
   },
   "file_extension": ".py",
   "mimetype": "text/x-python",
   "name": "python",
   "nbconvert_exporter": "python",
   "pygments_lexer": "ipython3",
   "version": "3.8.5"
  },
  "orig_nbformat": 4,
  "vscode": {
   "interpreter": {
    "hash": "8cc51f7a6f9663e4a057df8e9ab0b3750994a36584b90d61db68aa71b39bfa78"
   }
  }
 },
 "nbformat": 4,
 "nbformat_minor": 2
}
