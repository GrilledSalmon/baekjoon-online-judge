{
 "cells": [
  {
   "cell_type": "markdown",
   "metadata": {},
   "source": [
    "# 1655 가운데를 말해요\n",
    "220411\n",
    "- 알고리즘 분류\n",
    "    - 자료 구조\n",
    "    - 우선순위 큐\n",
    "- 티어 : 골드 2"
   ]
  },
  {
   "cell_type": "code",
   "execution_count": 1,
   "metadata": {},
   "outputs": [
    {
     "name": "stdout",
     "output_type": "stream",
     "text": [
      "1\n",
      "1\n",
      "2\n",
      "2\n",
      "2\n",
      "2\n",
      "5\n"
     ]
    }
   ],
   "source": [
    "# 1655 가운데를 말해요\n",
    "from heapq import heappop, heappush, heapify\n",
    "import sys\n",
    "# input = sys.stdin.readline\n",
    "\n",
    "N = int(input())\n",
    "bigger_heap = [] # 최소힙\n",
    "smaller_heap = [-int(input())] # 최대힙\n",
    "print(-smaller_heap[0])\n",
    "for n in range(2, N+1):\n",
    "    num = int(input())\n",
    "    bigger_min = bigger_heap[0] if bigger_heap else 100000\n",
    "    smaller_max = -smaller_heap[0]\n",
    "    if num > bigger_min:\n",
    "        if len(bigger_heap) == len(smaller_heap):\n",
    "            heappush(smaller_heap, -heappop(bigger_heap))\n",
    "            heappush(bigger_heap, num)\n",
    "        else: # smaller가 더 긴 경우\n",
    "            heappush(bigger_heap, num)\n",
    "    elif num >= smaller_max:\n",
    "        if len(bigger_heap) == len(smaller_heap):\n",
    "            heappush(smaller_heap, -num)\n",
    "        else:\n",
    "            heappush(bigger_heap, num)\n",
    "    else: # smaller_max > num\n",
    "        if len(bigger_heap) == len(smaller_heap):\n",
    "            heappush(smaller_heap, -num)\n",
    "        else:\n",
    "            heappush(bigger_heap, -heappop(smaller_heap))\n",
    "            heappush(smaller_heap, -num)\n",
    "    \n",
    "    print(-smaller_heap[0])    "
   ]
  }
 ],
 "metadata": {
  "interpreter": {
   "hash": "8fac594bfae6525c0c41b4041d2d72effa188cc8ead05f81b1fab2bb098927fb"
  },
  "kernelspec": {
   "display_name": "Python 3.8.8 ('base')",
   "language": "python",
   "name": "python3"
  },
  "language_info": {
   "codemirror_mode": {
    "name": "ipython",
    "version": 3
   },
   "file_extension": ".py",
   "mimetype": "text/x-python",
   "name": "python",
   "nbconvert_exporter": "python",
   "pygments_lexer": "ipython3",
   "version": "3.8.8"
  },
  "orig_nbformat": 4
 },
 "nbformat": 4,
 "nbformat_minor": 2
}
