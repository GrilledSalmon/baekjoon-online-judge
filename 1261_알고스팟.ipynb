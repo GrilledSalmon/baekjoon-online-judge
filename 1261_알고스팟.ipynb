{
 "cells": [
  {
   "cell_type": "markdown",
   "metadata": {},
   "source": [
    "# 1261 알고스팟\n",
    "220728\n",
    "- 소감\n",
    "    - 그래프 감을 잃지 않기 위해 풀음\n",
    "    - 생각보다 좀 헤맸음\n",
    "    - 벽을 부수고 도착했을 때랑 부수지 않고 도착했을 때 차이를 좀 잘못 생각했었음\n",
    "- 소요 시간 : 1시간 10분\n",
    "- 알고리즘 분류 : 그래프 이론, 데이크스트라, 0-1너비 우선 탐색\n",
    "- 티어 : 골드 4"
   ]
  },
  {
   "cell_type": "code",
   "execution_count": 3,
   "metadata": {},
   "outputs": [],
   "source": [
    "from collections import deque\n",
    "import sys\n",
    "# input = sys.stdin.readline\n",
    "\n",
    "M, N = map(int, input().split())\n",
    "mapp = [list(map(int, list(input().rstrip()))) for _ in range(N)]\n",
    "\n",
    "def bfs():\n",
    "    queue = deque([(0, 0, 0)])\n",
    "    visited = [[None]*M for _ in range(N)]\n",
    "    \n",
    "    visited[0][0] = 0\n",
    "    while queue:\n",
    "        r, c, broken_wall = queue.popleft()\n",
    "        for a_r, a_c in ((r+1, c), (r-1, c), (r, c+1), (r, c-1)):\n",
    "            if 0<=a_r<N and 0<=a_c<M:\n",
    "                if mapp[a_r][a_c] and (visited[a_r][a_c] is None or visited[a_r][a_c] > broken_wall + 1): # 벽이 있는 경우\n",
    "                    visited[a_r][a_c] = broken_wall + 1\n",
    "                    queue.append((a_r, a_c, broken_wall + 1))\n",
    "                elif not mapp[a_r][a_c] and (visited[a_r][a_c] is None or visited[a_r][a_c] > broken_wall):\n",
    "                    visited[a_r][a_c] = broken_wall\n",
    "                    queue.append((a_r, a_c, broken_wall))\n",
    "    print(visited[N-1][M-1])\n",
    "\n",
    "bfs()"
   ]
  },
  {
   "cell_type": "code",
   "execution_count": 4,
   "metadata": {},
   "outputs": [
    {
     "data": {
      "text/plain": [
       "(3, 3, [[0, 1, 1], [1, 1, 1], [1, 1, 0]])"
      ]
     },
     "execution_count": 4,
     "metadata": {},
     "output_type": "execute_result"
    }
   ],
   "source": [
    "N, M, mapp"
   ]
  },
  {
   "cell_type": "code",
   "execution_count": 5,
   "metadata": {},
   "outputs": [
    {
     "name": "stdout",
     "output_type": "stream",
     "text": [
      "3\n"
     ]
    }
   ],
   "source": [
    "from collections import deque\n",
    "def bfs():\n",
    "    queue = deque([(0, 0, 0)])\n",
    "    visited = [[None]*M for _ in range(N)]\n",
    "    while queue:\n",
    "        r, c, broken_wall = queue.popleft()\n",
    "        for a_r, a_c in ((r+1, c), (r-1, c), (r, c+1), (r, c-1)):\n",
    "            if 0<=a_r<N and 0<=a_c<M and (visited[a_r][a_c] is None or visited[a_r][a_c] > broken_wall):\n",
    "                if (a_r, a_c) == (N-1, M-1):\n",
    "                    print(broken_wall)\n",
    "                    return\n",
    "                if mapp[a_r][a_c]: # 벽이 있는 경우\n",
    "                    visited[a_r][a_c] = broken_wall + 1\n",
    "                    queue.append((a_r, a_c, broken_wall + 1))\n",
    "                else:\n",
    "                    visited[a_r][a_c] = broken_wall\n",
    "                    queue.append((a_r, a_c, broken_wall))\n",
    "bfs()"
   ]
  },
  {
   "cell_type": "code",
   "execution_count": null,
   "metadata": {},
   "outputs": [],
   "source": []
  }
 ],
 "metadata": {
  "kernelspec": {
   "display_name": "Python 3.8.8 ('base': conda)",
   "language": "python",
   "name": "python3"
  },
  "language_info": {
   "codemirror_mode": {
    "name": "ipython",
    "version": 3
   },
   "file_extension": ".py",
   "mimetype": "text/x-python",
   "name": "python",
   "nbconvert_exporter": "python",
   "pygments_lexer": "ipython3",
   "version": "3.8.8"
  },
  "orig_nbformat": 4,
  "vscode": {
   "interpreter": {
    "hash": "f08154012ddadd8e950e6e9e035c7a7b32c136e7647e9b7c77e02eb723a8bedb"
   }
  }
 },
 "nbformat": 4,
 "nbformat_minor": 2
}
