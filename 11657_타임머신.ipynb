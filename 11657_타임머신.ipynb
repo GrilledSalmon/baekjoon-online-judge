{
 "cells": [
  {
   "cell_type": "markdown",
   "metadata": {},
   "source": [
    "# 11657 타임머신\n",
    "220406\n",
    "- 알고리즘 분류\n",
    "    - 그래프 이론\n",
    "    - 벨만 포드\n",
    "- 티어 : 골드 4"
   ]
  },
  {
   "cell_type": "code",
   "execution_count": 1,
   "metadata": {},
   "outputs": [],
   "source": [
    "import sys\n",
    "# input = sys.stdin.readline\n",
    "N, M = map(int, input().split())\n",
    "edges_list = [tuple(map(int, input().split())) for _ in range(M)]\n",
    "\n",
    "dist = [float('inf')] * (N+1)\n",
    "root = 1\n",
    "dist[root] = 0\n",
    "def bellman_ford():\n",
    "    for cycle in range(N):\n",
    "        for start_node, end_node, cost in edges_list:\n",
    "            if dist[end_node] > dist[start_node] + cost:\n",
    "                dist[end_node] = dist[start_node] + cost\n",
    "                if cycle == N-1:\n",
    "                    return True\n",
    "    return False\n",
    "\n",
    "negative_cycle_exist = bellman_ford()\n",
    "if negative_cycle_exist:\n",
    "    print(-1)\n",
    "else:\n",
    "    for node in range(2, N+1):\n",
    "        res = dist[node]\n",
    "        print(res) if res != float('inf') else print(-1)"
   ]
  },
  {
   "cell_type": "code",
   "execution_count": 2,
   "metadata": {},
   "outputs": [
    {
     "data": {
      "text/plain": [
       "[(1, 2, 4), (1, 3, 3), (2, 3, -1), (3, 1, -2)]"
      ]
     },
     "execution_count": 2,
     "metadata": {},
     "output_type": "execute_result"
    }
   ],
   "source": [
    "edges_list"
   ]
  },
  {
   "cell_type": "code",
   "execution_count": 6,
   "metadata": {},
   "outputs": [
    {
     "name": "stdout",
     "output_type": "stream",
     "text": [
      "4\n",
      "3\n"
     ]
    }
   ],
   "source": [
    "dist = [float('inf')] * (N+1)\n",
    "root = 1\n",
    "dist[root] = 0\n",
    "def bellman_ford():\n",
    "    for cycle in range(N):\n",
    "        for start_node, end_node, cost in edges_list:\n",
    "            if dist[end_node] > dist[start_node] + cost:\n",
    "                dist[end_node] = dist[start_node] + cost\n",
    "                if cycle == N-1:\n",
    "                    return True\n",
    "    return False\n",
    "\n",
    "negative_cycle_exist = bellman_ford()\n",
    "if negative_cycle_exist:\n",
    "    print(-1)\n",
    "else:\n",
    "    for node in range(2, N+1):\n",
    "        res = dist[node]\n",
    "        print(res) if res != float('inf') else print(-1)"
   ]
  },
  {
   "cell_type": "code",
   "execution_count": 4,
   "metadata": {},
   "outputs": [
    {
     "data": {
      "text/plain": [
       "[inf, 0, 0, 0]"
      ]
     },
     "execution_count": 4,
     "metadata": {},
     "output_type": "execute_result"
    }
   ],
   "source": [
    "dist"
   ]
  },
  {
   "cell_type": "code",
   "execution_count": null,
   "metadata": {},
   "outputs": [],
   "source": []
  }
 ],
 "metadata": {
  "interpreter": {
   "hash": "8fac594bfae6525c0c41b4041d2d72effa188cc8ead05f81b1fab2bb098927fb"
  },
  "kernelspec": {
   "display_name": "Python 3.8.8 ('base')",
   "language": "python",
   "name": "python3"
  },
  "language_info": {
   "codemirror_mode": {
    "name": "ipython",
    "version": 3
   },
   "file_extension": ".py",
   "mimetype": "text/x-python",
   "name": "python",
   "nbconvert_exporter": "python",
   "pygments_lexer": "ipython3",
   "version": "3.8.8"
  },
  "orig_nbformat": 4
 },
 "nbformat": 4,
 "nbformat_minor": 2
}
