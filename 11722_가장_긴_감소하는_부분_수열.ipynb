{
 "cells": [
  {
   "cell_type": "markdown",
   "metadata": {},
   "source": [
    "# 11722 가장 긴 감소하는 부분 수열\n",
    "220815\n",
    "- 소감\n",
    "    - 면접에 좀 더 집중하고 싶어 쉬운 문제로 골랐습니다. 그래도 그러는 김에 제가 싫어하는 DP로 `골라서 풀었습니다.\n",
    "- 소요 시간 : 19분\n",
    "- 알고리즘 분류 : 다이나믹 프로그래밍\n",
    "- 티어 : 실버 2"
   ]
  },
  {
   "cell_type": "code",
   "execution_count": 15,
   "metadata": {},
   "outputs": [
    {
     "name": "stdout",
     "output_type": "stream",
     "text": [
      "3\n"
     ]
    }
   ],
   "source": [
    "N, A = int(input()), list(map(int, input().split()))\n",
    "\n",
    "memo = [None]*N\n",
    "for i in range(N):\n",
    "    target = A[i]\n",
    "    cnt = 0\n",
    "    for j in range(i):\n",
    "        if A[j] > target and memo[j] > cnt:\n",
    "            cnt = memo[j]\n",
    "    memo[i] = cnt+1\n",
    "\n",
    "print(max(memo))"
   ]
  },
  {
   "cell_type": "code",
   "execution_count": 11,
   "metadata": {},
   "outputs": [
    {
     "data": {
      "text/plain": [
       "(6, [10, 30, 10, 20, 20, 10])"
      ]
     },
     "execution_count": 11,
     "metadata": {},
     "output_type": "execute_result"
    }
   ],
   "source": [
    "N, A"
   ]
  },
  {
   "cell_type": "code",
   "execution_count": 14,
   "metadata": {},
   "outputs": [
    {
     "name": "stdout",
     "output_type": "stream",
     "text": [
      "3\n"
     ]
    }
   ],
   "source": [
    "memo = [None]*N\n",
    "for i in range(N):\n",
    "    target = A[i]\n",
    "    cnt = 0\n",
    "    for j in range(i):\n",
    "        if A[j] > target and memo[j] > cnt:\n",
    "            cnt = memo[j]\n",
    "    memo[i] = cnt+1\n",
    "\n",
    "print(max(memo))\n"
   ]
  },
  {
   "cell_type": "code",
   "execution_count": 13,
   "metadata": {},
   "outputs": [
    {
     "data": {
      "text/plain": [
       "[1, 1, 2, 2, 2, 3]"
      ]
     },
     "execution_count": 13,
     "metadata": {},
     "output_type": "execute_result"
    }
   ],
   "source": [
    "memo"
   ]
  },
  {
   "cell_type": "code",
   "execution_count": null,
   "metadata": {},
   "outputs": [],
   "source": []
  }
 ],
 "metadata": {
  "kernelspec": {
   "display_name": "Python 3.8.8 ('base')",
   "language": "python",
   "name": "python3"
  },
  "language_info": {
   "codemirror_mode": {
    "name": "ipython",
    "version": 3
   },
   "file_extension": ".py",
   "mimetype": "text/x-python",
   "name": "python",
   "nbconvert_exporter": "python",
   "pygments_lexer": "ipython3",
   "version": "3.8.8"
  },
  "orig_nbformat": 4,
  "vscode": {
   "interpreter": {
    "hash": "f08154012ddadd8e950e6e9e035c7a7b32c136e7647e9b7c77e02eb723a8bedb"
   }
  }
 },
 "nbformat": 4,
 "nbformat_minor": 2
}
