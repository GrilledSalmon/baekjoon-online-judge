{
 "cells": [
  {
   "cell_type": "markdown",
   "metadata": {},
   "source": [
    "# 16205 변수명\n",
    "220721\n",
    "- 소감\n",
    "    - 겁나 쉽게 푸는 방법이 있을 것 같은데 그냥 막 품\n",
    "- 소요 시간 : 20분\n",
    "- 알고리즘 분류 : 구현, 문자열\n",
    "- 티어 : 브론즈 1"
   ]
  },
  {
   "cell_type": "code",
   "execution_count": 1,
   "metadata": {},
   "outputs": [
    {
     "name": "stdout",
     "output_type": "stream",
     "text": [
      "howToSolveThisProblem\n",
      "how_to_solve_this_problem\n",
      "HowToSolveThisProblem\n"
     ]
    }
   ],
   "source": [
    "import re\n",
    "case, S = input().split()\n",
    "\n",
    "def split_word(case, S:str):\n",
    "    cap = re.compile(\"[A-Z]\")\n",
    "    if len(S) == 1:\n",
    "        return [S.lower()]\n",
    "\n",
    "    if case == '1' or case == '3':\n",
    "        words = []\n",
    "        prev = 0\n",
    "        for i in range(1, len(S)):\n",
    "            if cap.match(S[i]):\n",
    "                words.append(S[prev:i].lower())\n",
    "                prev = i\n",
    "        words.append(S[prev:].lower())\n",
    "        return words\n",
    "    else:\n",
    "        return S.split('_')\n",
    "\n",
    "words = split_word(case, S)\n",
    "snake = '_'.join(words)\n",
    "for i in range(len(words)):\n",
    "    words[i] = words[i][0].upper() + words[i][1:]\n",
    "pascal = ''.join(words)\n",
    "camel = pascal[0].lower() + pascal[1:]\n",
    "\n",
    "print(camel, snake, pascal, sep='\\n')"
   ]
  }
 ],
 "metadata": {
  "kernelspec": {
   "display_name": "Python 3.8.8 ('base')",
   "language": "python",
   "name": "python3"
  },
  "language_info": {
   "codemirror_mode": {
    "name": "ipython",
    "version": 3
   },
   "file_extension": ".py",
   "mimetype": "text/x-python",
   "name": "python",
   "nbconvert_exporter": "python",
   "pygments_lexer": "ipython3",
   "version": "3.8.8"
  },
  "orig_nbformat": 4,
  "vscode": {
   "interpreter": {
    "hash": "f08154012ddadd8e950e6e9e035c7a7b32c136e7647e9b7c77e02eb723a8bedb"
   }
  }
 },
 "nbformat": 4,
 "nbformat_minor": 2
}
