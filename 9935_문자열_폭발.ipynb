{
 "cells": [
  {
   "cell_type": "markdown",
   "metadata": {},
   "source": [
    "# 9935 문자열 폭발\n",
    "220414\n",
    "- 소감 : 시험 때 못풀었는데, 스택으로 푼다는 말 듣고 정말 빠르고 짧게 구현했다... 시험시간 때 삽질 많이 했는데...ㅜ\n",
    "- 알고리즘 분류\n",
    "    - 자료 구조\n",
    "    - 문자열\n",
    "    - 스택\n",
    "- 티어 : 골드 4"
   ]
  },
  {
   "cell_type": "code",
   "execution_count": 1,
   "metadata": {},
   "outputs": [
    {
     "name": "stdout",
     "output_type": "stream",
     "text": [
      "mirkovniz\n"
     ]
    }
   ],
   "source": [
    "# 9935 문자열 폭발\n",
    "text = input()\n",
    "exploding_text = input()\n",
    "\n",
    "stack = []\n",
    "len_exp = len(exploding_text)\n",
    "for s in text:\n",
    "    stack.append(s)\n",
    "    if len(stack) >= len_exp and ''.join(stack[-len_exp:]) == exploding_text:\n",
    "        for _ in range(len_exp):\n",
    "            stack.pop()\n",
    "\n",
    "print(''.join(stack)) if stack else print('FRULA')"
   ]
  },
  {
   "cell_type": "code",
   "execution_count": null,
   "metadata": {},
   "outputs": [],
   "source": []
  }
 ],
 "metadata": {
  "interpreter": {
   "hash": "8fac594bfae6525c0c41b4041d2d72effa188cc8ead05f81b1fab2bb098927fb"
  },
  "kernelspec": {
   "display_name": "Python 3.8.8 ('base')",
   "language": "python",
   "name": "python3"
  },
  "language_info": {
   "codemirror_mode": {
    "name": "ipython",
    "version": 3
   },
   "file_extension": ".py",
   "mimetype": "text/x-python",
   "name": "python",
   "nbconvert_exporter": "python",
   "pygments_lexer": "ipython3",
   "version": "3.8.8"
  },
  "orig_nbformat": 4
 },
 "nbformat": 4,
 "nbformat_minor": 2
}
