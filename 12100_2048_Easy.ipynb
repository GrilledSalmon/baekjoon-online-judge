{
 "cells": [
  {
   "cell_type": "markdown",
   "metadata": {},
   "source": [
    "# 12100 2048 (Easy)\n",
    "220615\n",
    "- 소감\n",
    "    - 구현에 있어서 최근에 푼 구슬탈출2 문제와 유사한 면이 있었습니다.\n",
    "    - 한 가지 조건을 효율적으로 구현하기 위한 방법을 고민하다가 시간이 오래 걸렸는데, 다음부터는 좀 비효율적인 코드란 생각이 들더라도 코테를 생각해서 일단 구현하는 것이 좋을 것 같습니다.\n",
    "    - 완전 구현 문제였던 것 같습니다.\n",
    "- 소요 시간 : 1시간 20분\n",
    "- 알고리즘 분류 : 구현, 브루트포스 알고리즘, 시뮬레이션, 백트래킹\n",
    "- 티어 : 골드 2"
   ]
  },
  {
   "cell_type": "code",
   "execution_count": 37,
   "metadata": {},
   "outputs": [],
   "source": [
    "import sys\n",
    "# input = sys.stdin.readline\n",
    "\n",
    "N = int(input())\n",
    "blocks = [list(map(int, input().split())) for _ in range(N)]\n",
    "\n",
    "directions = [(-1, 0), (1, 0), (0, -1), (0, 1)] # 상하좌우\n",
    "\n",
    "def move_to_end(row, col, blocks, new_blocks, changed, d):\n",
    "    \"\"\"row, col의 블록을 움직일 수 있을 때까지 움직여줌\"\"\"\n",
    "    block = blocks[row][col]\n",
    "    direction = directions[d]\n",
    "    if block == 0:\n",
    "        return\n",
    "    \n",
    "    while True:\n",
    "        n_row, n_col = row+direction[0], col+direction[1]\n",
    "        if (not (0<=n_row<N)) or (not (0<=n_col<N)): # 경계면에 도달한 경우\n",
    "            new_blocks[row][col] = block\n",
    "            return\n",
    "\n",
    "        adj_block = new_blocks[n_row][n_col]\n",
    "\n",
    "        if adj_block: # 블록과 부딪힌 경우\n",
    "            if adj_block == block and not changed[n_row][n_col]: # 같은 숫자의 블록과 부딪혔으며, 변경된 적이 없다면\n",
    "                new_blocks[n_row][n_col] = block*2\n",
    "                changed[n_row][n_col] = 1\n",
    "            else: # 다른 블록인 경우\n",
    "                new_blocks[row][col] = block\n",
    "            return\n",
    "\n",
    "        row, col = n_row, n_col\n",
    "    \n",
    "\n",
    "def move(d, blocks):\n",
    "    \"\"\"direction 방향으로 blocks를 한 번 움직이고 새로운 blocks 리턴\"\"\"\n",
    "    new_blocks = [[0]*N for _ in range(N)]\n",
    "    changed = [[0]*N for _ in range(N)]\n",
    "    if d in (0, 2): # 상, 좌\n",
    "        for row in range(N):\n",
    "            for col in range(N):\n",
    "                move_to_end(row, col, blocks, new_blocks, changed, d)\n",
    "    elif d == 1: #하\n",
    "        for row in range(N-1, -1, -1):\n",
    "            for col in range(N):\n",
    "                move_to_end(row, col, blocks, new_blocks, changed, d)\n",
    "    else: # 우\n",
    "        for row in range(N):\n",
    "            for col in range(N-1, -1, -1):\n",
    "                move_to_end(row, col, blocks, new_blocks, changed, d)\n",
    "\n",
    "    return new_blocks\n",
    "\n",
    "ans = [0]\n",
    "def dfs(depth=0, blocks=blocks):\n",
    "    if depth == 5:\n",
    "        maxi = 0\n",
    "        for line in blocks:\n",
    "            maxi = max(maxi, max(line))\n",
    "        ans[0] = max(maxi, ans[0])\n",
    "        return \n",
    "    \n",
    "    for d in range(len(directions)):\n",
    "        new_blocks = move(d, blocks)\n",
    "        dfs(depth + 1, new_blocks)\n",
    "\n",
    "dfs()\n",
    "print(ans[0])"
   ]
  },
  {
   "cell_type": "code",
   "execution_count": 38,
   "metadata": {},
   "outputs": [
    {
     "data": {
      "text/plain": [
       "(4, [[2, 4, 16, 8], [8, 4, 0, 0], [16, 8, 2, 0], [2, 8, 2, 0]])"
      ]
     },
     "execution_count": 38,
     "metadata": {},
     "output_type": "execute_result"
    }
   ],
   "source": [
    "N, blocks"
   ]
  },
  {
   "cell_type": "code",
   "execution_count": 52,
   "metadata": {},
   "outputs": [
    {
     "name": "stdout",
     "output_type": "stream",
     "text": [
      "32\n"
     ]
    }
   ],
   "source": [
    "from copy import deepcopy\n",
    "directions = [(-1, 0), (1, 0), (0, -1), (0, 1)] # 상하좌우\n",
    "\n",
    "def move_to_end(row, col, blocks, new_blocks, changed, d):\n",
    "    \"\"\"row, col의 블록을 움직일 수 있을 때까지 움직여줌\"\"\"\n",
    "    block = blocks[row][col]\n",
    "    direction = directions[d]\n",
    "    if block == 0:\n",
    "        return\n",
    "    \n",
    "    while True:\n",
    "        n_row, n_col = row+direction[0], col+direction[1]\n",
    "        if (not (0<=n_row<N)) or (not (0<=n_col<N)): # 경계면에 도달한 경우\n",
    "            new_blocks[row][col] = block\n",
    "            return\n",
    "\n",
    "        adj_block = new_blocks[n_row][n_col]\n",
    "\n",
    "        if adj_block: # 블록과 부딪힌 경우\n",
    "            if adj_block == block and not changed[n_row][n_col]: # 같은 숫자의 블록과 부딪혔으며, 변경된 적이 없다면\n",
    "                new_blocks[n_row][n_col] = block*2\n",
    "                changed[n_row][n_col] = 1\n",
    "            else: # 다른 블록인 경우\n",
    "                new_blocks[row][col] = block\n",
    "            return\n",
    "\n",
    "        row, col = n_row, n_col\n",
    "    \n",
    "\n",
    "def move(d, blocks):\n",
    "    \"\"\"direction 방향으로 blocks를 한 번 움직이고 새로운 blocks 리턴\"\"\"\n",
    "    new_blocks = [[0]*N for _ in range(N)]\n",
    "    changed = [[0]*N for _ in range(N)]\n",
    "    if d in (0, 2): # 상, 좌\n",
    "        for row in range(N):\n",
    "            for col in range(N):\n",
    "                move_to_end(row, col, blocks, new_blocks, changed, d)\n",
    "    elif d == 1: #하\n",
    "        for row in range(N-1, -1, -1):\n",
    "            for col in range(N):\n",
    "                move_to_end(row, col, blocks, new_blocks, changed, d)\n",
    "    else: # 우\n",
    "        for row in range(N):\n",
    "            for col in range(N-1, -1, -1):\n",
    "                move_to_end(row, col, blocks, new_blocks, changed, d)\n",
    "\n",
    "    return new_blocks\n",
    "\n",
    "ans = [0]\n",
    "def dfs(depth=0, blocks=blocks):\n",
    "    if depth == 5:\n",
    "        maxi = 0\n",
    "        for line in blocks:\n",
    "            maxi = max(maxi, max(line))\n",
    "        ans[0] = max(maxi, ans[0])\n",
    "        return \n",
    "    \n",
    "    for d in range(len(directions)):\n",
    "        new_blocks = move(d, blocks)\n",
    "        dfs(depth + 1, new_blocks)\n",
    "\n",
    "dfs()\n",
    "print(ans[0])"
   ]
  },
  {
   "cell_type": "code",
   "execution_count": 53,
   "metadata": {},
   "outputs": [
    {
     "data": {
      "text/plain": [
       "[[2, 4, 16, 8], [8, 4, 0, 0], [16, 8, 2, 0], [2, 8, 2, 0]]"
      ]
     },
     "execution_count": 53,
     "metadata": {},
     "output_type": "execute_result"
    }
   ],
   "source": [
    "blocks"
   ]
  },
  {
   "cell_type": "code",
   "execution_count": 54,
   "metadata": {},
   "outputs": [
    {
     "name": "stdout",
     "output_type": "stream",
     "text": [
      "[2, 8, 16, 8]\n",
      "[8, 16, 4, 0]\n",
      "[16, 0, 0, 0]\n",
      "[2, 0, 0, 0]\n"
     ]
    }
   ],
   "source": [
    "for line in move(0, blocks):\n",
    "    print(line)"
   ]
  },
  {
   "cell_type": "code",
   "execution_count": null,
   "metadata": {},
   "outputs": [],
   "source": []
  },
  {
   "cell_type": "code",
   "execution_count": null,
   "metadata": {},
   "outputs": [],
   "source": []
  },
  {
   "cell_type": "code",
   "execution_count": null,
   "metadata": {},
   "outputs": [],
   "source": []
  },
  {
   "cell_type": "code",
   "execution_count": null,
   "metadata": {},
   "outputs": [],
   "source": [
    "import sys\n",
    "# input = sys.stdin.readline\n",
    "\n",
    "N = int(input())\n",
    "blocks = [list(map(int, input().split())) for _ in range(N)]\n",
    "\n",
    "directions = [(-1, 0), (1, 0), (0, -1), (0, 1)] # 상하좌우\n",
    "\n",
    "def move_to_end(row, col, blocks, new_blocks, d):\n",
    "    \"\"\"row, col의 블록을 움직일 수 있을 때까지 움직여줌\"\"\"\n",
    "    block = blocks[row][col]\n",
    "    direction = directions[d]\n",
    "    if block == 0:\n",
    "        return\n",
    "    \n",
    "    while True:\n",
    "        n_row, n_col = row+direction[0], col+direction[1]\n",
    "        if (not (0<=n_row<N)) or (not (0<=n_col<N)): # 경계면에 도달한 경우\n",
    "            new_blocks[row][col] = block\n",
    "            return\n",
    "\n",
    "        adj_block = new_blocks[n_row][n_col]\n",
    "\n",
    "        if new_blocks[n_row][n_col]: # 블록과 부딪힌 경우\n",
    "            if adj_block == block: # 같은 숫자의 블록과 부딪힌 경우\n",
    "                new_blocks[n_row][n_col] = block*2\n",
    "            else: # 다른 블록인 경우\n",
    "                new_blocks[row][col] = block\n",
    "            return\n",
    "\n",
    "        row, col = n_row, n_col\n",
    "    \n",
    "\n",
    "def move(d, blocks):\n",
    "    \"\"\"direction 방향으로 blocks를 한 번 움직이고 새로운 blocks 리턴\"\"\"\n",
    "    new_blocks = [[0]*N for _ in range(N)]\n",
    "    if d in (0, 2): # 상, 좌\n",
    "        for row in range(N):\n",
    "            for col in range(N):\n",
    "                move_to_end(row, col, blocks, new_blocks, d)\n",
    "    elif d == 1: #하\n",
    "        for row in range(N-1, -1, -1):\n",
    "            for col in range(N):\n",
    "                move_to_end(row, col, blocks, new_blocks, d)\n",
    "    else: # 우\n",
    "        for row in range(N):\n",
    "            for col in range(N-1, -1, -1):\n",
    "                move_to_end(row, col, blocks, new_blocks, d)\n",
    "\n",
    "    return new_blocks\n",
    "\n",
    "ans = [0]\n",
    "def dfs(depth=0, blocks=blocks):\n",
    "    if depth == 5:\n",
    "        for line in blocks:\n",
    "            ans[0] = max(max(line), ans[0])\n",
    "        return \n",
    "    \n",
    "    for d in range(len(directions)):\n",
    "        new_blocks = move(d, blocks)\n",
    "        dfs(depth + 1, new_blocks)\n",
    "\n",
    "dfs()\n",
    "print(ans[0])"
   ]
  }
 ],
 "metadata": {
  "kernelspec": {
   "display_name": "Python 3.8.8 ('base')",
   "language": "python",
   "name": "python3"
  },
  "language_info": {
   "codemirror_mode": {
    "name": "ipython",
    "version": 3
   },
   "file_extension": ".py",
   "mimetype": "text/x-python",
   "name": "python",
   "nbconvert_exporter": "python",
   "pygments_lexer": "ipython3",
   "version": "3.8.8"
  },
  "orig_nbformat": 4,
  "vscode": {
   "interpreter": {
    "hash": "f08154012ddadd8e950e6e9e035c7a7b32c136e7647e9b7c77e02eb723a8bedb"
   }
  }
 },
 "nbformat": 4,
 "nbformat_minor": 2
}
