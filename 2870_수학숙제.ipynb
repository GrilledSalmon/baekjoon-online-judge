{
 "cells": [
  {
   "cell_type": "markdown",
   "metadata": {},
   "source": [
    "# 2870 수학숙제\n",
    "220527\n",
    "- 소감\n",
    "    - 금요일인 기념으로 정규식 문제를 풀었습니다.\n",
    "    - 정규표현식의 findall을 활용해 금방 풀 수 있었습니다.\n",
    "- 소요 시간 : 10분\n",
    "- 알고리즘 분류 : 문자열, 정렬, 파싱\n",
    "- 티어 : 실버 4"
   ]
  },
  {
   "cell_type": "code",
   "execution_count": 2,
   "metadata": {},
   "outputs": [],
   "source": [
    "import re\n",
    "import sys\n",
    "# input = sys.stdin.readline\n",
    "\n",
    "N = int(input())\n",
    "strings = [input().rstrip() for _ in range(N)]\n",
    "\n",
    "c = re.compile('[0-9]+')\n",
    "res = []\n",
    "for s in strings:\n",
    "    for m in re.findall(c, s):\n",
    "        res.append(int(m))\n",
    "\n",
    "res.sort()\n",
    "for r in res:\n",
    "    print(r)"
   ]
  },
  {
   "cell_type": "code",
   "execution_count": null,
   "metadata": {},
   "outputs": [],
   "source": []
  },
  {
   "cell_type": "code",
   "execution_count": null,
   "metadata": {},
   "outputs": [],
   "source": []
  }
 ],
 "metadata": {
  "interpreter": {
   "hash": "f08154012ddadd8e950e6e9e035c7a7b32c136e7647e9b7c77e02eb723a8bedb"
  },
  "kernelspec": {
   "display_name": "Python 3.8.8 ('base')",
   "language": "python",
   "name": "python3"
  },
  "language_info": {
   "codemirror_mode": {
    "name": "ipython",
    "version": 3
   },
   "file_extension": ".py",
   "mimetype": "text/x-python",
   "name": "python",
   "nbconvert_exporter": "python",
   "pygments_lexer": "ipython3",
   "version": "3.8.8"
  },
  "orig_nbformat": 4
 },
 "nbformat": 4,
 "nbformat_minor": 2
}
