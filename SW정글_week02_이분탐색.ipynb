{
 "cells": [
  {
   "cell_type": "markdown",
   "metadata": {},
   "source": [
    "# SW정글 week02 컴퓨팅 사고로의 전환\n",
    "## <이분 탐색>\n",
    "220407"
   ]
  },
  {
   "cell_type": "code",
   "execution_count": 1,
   "metadata": {},
   "outputs": [
    {
     "name": "stdout",
     "output_type": "stream",
     "text": [
      "1\n",
      "1\n",
      "0\n",
      "0\n",
      "1\n"
     ]
    }
   ],
   "source": [
    "# 1920 set으로 풀기\n",
    "N = int(input())\n",
    "A = set(map(int, input().split()))\n",
    "M = int(input())\n",
    "for num in map(int, input().split()):\n",
    "    if num in A:\n",
    "        print(1)\n",
    "    else:\n",
    "        print(0)"
   ]
  },
  {
   "cell_type": "code",
   "execution_count": 20,
   "metadata": {},
   "outputs": [
    {
     "name": "stdout",
     "output_type": "stream",
     "text": [
      "1\n",
      "1\n",
      "0\n",
      "0\n",
      "1\n"
     ]
    }
   ],
   "source": [
    "# 1920 Binary Search로 풀어보기\n",
    "N = int(input())\n",
    "A = sorted(map(int, input().split()))\n",
    "M = int(input())\n",
    "\n",
    "def binary_search(target, array = A):\n",
    "    s = 0\n",
    "    e = len(A)-1\n",
    "    while True:\n",
    "        mid = (s + e) // 2\n",
    "        val = array[mid]\n",
    "        if val == target:\n",
    "            return True\n",
    "        if s >= e:\n",
    "            return False\n",
    "        elif val < target:\n",
    "            s = mid+1\n",
    "        else:\n",
    "            e = mid\n",
    "\n",
    "for num in map(int, input().split()):\n",
    "    if binary_search(num, A):\n",
    "        print(1)\n",
    "    else:\n",
    "        print(0)"
   ]
  },
  {
   "cell_type": "code",
   "execution_count": 42,
   "metadata": {},
   "outputs": [
    {
     "name": "stdout",
     "output_type": "stream",
     "text": [
      "36\n"
     ]
    }
   ],
   "source": [
    "# 2805 나무 자르기\n",
    "N, M = map(int, input().split())\n",
    "tree = tuple(map(int, input().split()))\n",
    "\n",
    "def cut(height):\n",
    "    summ = 0\n",
    "    for t in tree:\n",
    "        if t > height:\n",
    "            summ += t-height\n",
    "    return summ\n",
    "\n",
    "s = 0\n",
    "e = max(tree)\n",
    "\n",
    "while True:\n",
    "    mid = (s + e)//2\n",
    "    temp_summ = cut(mid)\n",
    "    if temp_summ == M:\n",
    "        h_max = mid\n",
    "        break\n",
    "    if s >= e:\n",
    "        h_max = e\n",
    "        break\n",
    "    elif temp_summ < M:\n",
    "        e = mid\n",
    "    else:\n",
    "        s = mid + 1\n",
    "\n",
    "if temp_summ < M:\n",
    "    h_max -= 1\n",
    "print(h_max)"
   ]
  },
  {
   "cell_type": "code",
   "execution_count": 10,
   "metadata": {},
   "outputs": [
    {
     "name": "stdout",
     "output_type": "stream",
     "text": [
      "3\n"
     ]
    }
   ],
   "source": [
    "# 2110 공유기 설치\n",
    "import sys\n",
    "# input = sys.stdin.readline\n",
    "N, C = map(int, input().split())\n",
    "X = sorted([int(input()) for _ in range(N)])\n",
    "\n",
    "def set_up_success(distance):\n",
    "    \"\"\"공유기의 최소거리를 distance로 만족시키면서 설치할 수 있는지 확인\"\"\"\n",
    "    c_remain = C-1 # 남은 공유기 수\n",
    "    x_set_up = X[0] + distance # 공유기 설치할 최소 위치\n",
    "    for i in range(1, N):\n",
    "        if c_remain == 0: # 공유기를 모두 설치했다면\n",
    "            return True\n",
    "        if x_set_up <= X[i]: # 집의 위치가 설치해야하는 최소 위치보다 크면 설치\n",
    "            x_set_up = X[i] + distance # 새로 설치할 위치\n",
    "            c_remain -= 1\n",
    "    if c_remain: # 다 돌았는데 설치할 공유기가 남았다면\n",
    "        return False\n",
    "    else:\n",
    "        return True\n",
    "\n",
    "dist_start = 1 # 최소거리의 최솟값\n",
    "dist_end = (X[-1] - X[0]) // (C-1) # 최대로 공유기를 벌릴 수 있는 거리(최소거리의 최댓값)\n",
    "\n",
    "while True:\n",
    "    if dist_start == dist_end:\n",
    "        break\n",
    "    dist_mid = (dist_start + dist_end) // 2\n",
    "    if set_up_success(dist_mid): # 성공하면 더 높여보기\n",
    "        dist_start = dist_mid + 1\n",
    "    else: # 실패하면 줄여보기\n",
    "        dist_end = dist_mid\n",
    "\n",
    "if set_up_success(dist_start):\n",
    "    print(dist_start)\n",
    "else:\n",
    "    print(dist_start - 1)"
   ]
  },
  {
   "cell_type": "code",
   "execution_count": 53,
   "metadata": {},
   "outputs": [
    {
     "name": "stdout",
     "output_type": "stream",
     "text": [
      "-12 -10\n"
     ]
    }
   ],
   "source": [
    "# 2470 두 용액\n",
    "N = int(input())\n",
    "solution = sorted(map(int, input().split()))\n",
    "\n",
    "acid_start = 0\n",
    "for i in range(N):\n",
    "    if solution[i] >= 0:\n",
    "        acid_start = i # 산성 용액이 시작되는 위치\n",
    "        break\n",
    "\n",
    "def binary_search(target, start=acid_start):\n",
    "    \"\"\"solution에서 target과 가장 가까운 친구를 이진 탐색으로 찾아줌\"\"\"\n",
    "    end = N-1\n",
    "    while True:\n",
    "        mid = (start + end) // 2\n",
    "        val = solution[mid]\n",
    "        if val == target:\n",
    "            return target\n",
    "        elif start == end:\n",
    "            break\n",
    "        \n",
    "        if val > target:\n",
    "            end = mid\n",
    "        else:\n",
    "            start = mid + 1\n",
    "\n",
    "    if val > target:\n",
    "        if start == acid_start:\n",
    "            return val\n",
    "        return min([val, solution[start-1]], key=lambda x: abs(x-target))\n",
    "    else:\n",
    "        if start == N-1:\n",
    "            return val\n",
    "        return min([val, solution[start+1]], key=lambda x: abs(x-target))\n",
    "        \n",
    "\n",
    "if solution[0] >= 0: # 산성만 있는 경우(모두 0 이상)\n",
    "    print(solution[0], solution[1])\n",
    "elif solution[-1] <= 0: # 알칼리만 있는 경우\n",
    "    print(solution[-2], solution[-1])\n",
    "else: # 산성, 알칼리 모두 존재하는 경우\n",
    "    mini = float('inf')\n",
    "    for i in range(acid_start):\n",
    "        closest = binary_search(-solution[i])\n",
    "        mix = abs(solution[i] + closest)\n",
    "        if mix < mini:\n",
    "            mini = mix\n",
    "            ans = (solution[i], closest)\n",
    "            if mini == 0:\n",
    "                break\n",
    "    if acid_start != N-1 and solution[acid_start] + solution[acid_start+1] < mini:\n",
    "        print(solution[acid_start], solution[acid_start+1])\n",
    "    elif solution[acid_start] == 0 and abs(solution[acid_start-1]) < mini:\n",
    "        print(solution[acid_start-1], 0)\n",
    "    elif acid_start >= 2 and abs(solution[acid_start-1] + solution[acid_start-2]) < mini:\n",
    "        print(solution[acid_start-2], solution[acid_start-1])\n",
    "    else:\n",
    "        print(ans[0], ans[1])"
   ]
  },
  {
   "cell_type": "code",
   "execution_count": 68,
   "metadata": {},
   "outputs": [
    {
     "name": "stdout",
     "output_type": "stream",
     "text": [
      "17\n"
     ]
    }
   ],
   "source": [
    "# 16564 히오스 프로게이머\n",
    "import sys\n",
    "# input = sys.stdin.readline\n",
    "\n",
    "N, K = map(int, input().split())\n",
    "X = sorted([int(input()) for _ in range(N)])\n",
    "\n",
    "def possible(min_level):\n",
    "    tot = 0\n",
    "    for x in X:\n",
    "        if min_level <= x:\n",
    "            break\n",
    "        tot += min_level - x\n",
    "    if tot <= K:\n",
    "        return True\n",
    "    return False\n",
    "\n",
    "T_start = X[0]\n",
    "T_end = X[-1] + K//N\n",
    "while True:\n",
    "    T_mid = (T_start + T_end) // 2\n",
    "    if possible(T_mid): # 가능하면 높여본다\n",
    "        T_start = T_mid + 1\n",
    "    else:\n",
    "        T_end = T_mid\n",
    "    \n",
    "    if T_start == T_end:\n",
    "        break\n",
    "if possible(T_start):\n",
    "    print(T_start)\n",
    "else:\n",
    "    print(T_start-1)"
   ]
  },
  {
   "cell_type": "code",
   "execution_count": 86,
   "metadata": {},
   "outputs": [
    {
     "name": "stdout",
     "output_type": "stream",
     "text": [
      "5\n"
     ]
    }
   ],
   "source": [
    "# 8983 사냥꾼\n",
    "import sys\n",
    "# input = sys.stdin.readline\n",
    "\n",
    "M, N, L = map(int, input().split())\n",
    "sadae = sorted(map(int, input().split()))\n",
    "animal_coords = [tuple(map(int, input().split())) for _ in range(N)]\n",
    "\n",
    "def dist(x_hunter, animal_coord):\n",
    "    return abs(x_hunter - animal_coord[0]) + animal_coord[1]\n",
    "\n",
    "def search_closest_sadae(target):\n",
    "    \"\"\"동물의 x좌표와 가장 가까운 사대의 x좌표 리턴\n",
    "    target은 x_animal을 의미\"\"\"\n",
    "    x_start = 0\n",
    "    x_end = M-1\n",
    "    while True:\n",
    "        mid = (x_start + x_end) // 2\n",
    "        val = sadae[mid]\n",
    "        if target == val:\n",
    "            return target\n",
    "        if x_start == x_end:\n",
    "            break\n",
    "\n",
    "        if val > target:\n",
    "            x_end = mid\n",
    "        else:\n",
    "            x_start = mid + 1\n",
    "    if val > target:\n",
    "        if x_start == 0:\n",
    "            return val\n",
    "        return min([val, sadae[x_start-1]], key=lambda x: abs(x-target))\n",
    "    else:\n",
    "        if x_start == M-1:\n",
    "            return val\n",
    "        return min([val, sadae[x_start+1]], key=lambda x: abs(x-target))\n",
    "\n",
    "ans = 0\n",
    "for x_animal, y_animal in animal_coords:\n",
    "    closest_sadae = search_closest_sadae(x_animal)\n",
    "    if dist(closest_sadae, (x_animal, y_animal)) <= L:\n",
    "        ans += 1\n",
    "print(ans)"
   ]
  },
  {
   "cell_type": "code",
   "execution_count": 2,
   "metadata": {},
   "outputs": [
    {
     "name": "stdout",
     "output_type": "stream",
     "text": [
      "1\n"
     ]
    }
   ],
   "source": [
    "# 윤찬님 풀이...ㄷㄷ\n",
    "from sys import stdin\n",
    "# input = stdin.readline\n",
    "\n",
    "M, N, L = map(int, input().split()) # 사대 수, 동물 수, 사정거리\n",
    "M_x = list(map(int, input().split())) # 사대 위치 x좌표\n",
    "A_x_y = [list(map(int, input().split())) for _ in range(N)] # 동물 위치 [x,y] 좌표\n",
    "M_x.sort()\n",
    "cnt = 0\n",
    "for i in A_x_y:\n",
    "    start = 0\n",
    "    end = M - 1\n",
    "    while start <= end:\n",
    "        mid = (start + end) // 2\n",
    "        if abs(i[0] - M_x[mid]) + i[1] <= L:\n",
    "            cnt += 1\n",
    "            break\n",
    "        if i[0] > M_x[mid]:\n",
    "            start = mid + 1\n",
    "        else:\n",
    "            end = mid - 1\n",
    "print(cnt)"
   ]
  },
  {
   "cell_type": "code",
   "execution_count": null,
   "metadata": {},
   "outputs": [],
   "source": [
    "2 1 6\n",
    "1 4\n",
    "2 5"
   ]
  }
 ],
 "metadata": {
  "interpreter": {
   "hash": "8fac594bfae6525c0c41b4041d2d72effa188cc8ead05f81b1fab2bb098927fb"
  },
  "kernelspec": {
   "display_name": "Python 3.8.8 ('base')",
   "language": "python",
   "name": "python3"
  },
  "language_info": {
   "codemirror_mode": {
    "name": "ipython",
    "version": 3
   },
   "file_extension": ".py",
   "mimetype": "text/x-python",
   "name": "python",
   "nbconvert_exporter": "python",
   "pygments_lexer": "ipython3",
   "version": "3.8.8"
  },
  "orig_nbformat": 4
 },
 "nbformat": 4,
 "nbformat_minor": 2
}
