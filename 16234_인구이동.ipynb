{
 "cells": [
  {
   "cell_type": "markdown",
   "metadata": {},
   "source": [
    "# 16234 인구 이동\n",
    "220813\n",
    "- 소감\n",
    "    - 풀긴 했는데 난생 처음 보는 시간으로 통과해서 좀 찜찜하네유..\n",
    "    - 엄청 어렵진 않았지만 골드 5가 이정도였나 싶은 문제였어여. 자칫하면 시간초과가 나기 좋은.\n",
    "    - 구현 + 그래프 문제. 이런 문제는 어떻게 만드나 싶네요\n",
    "- 소요 시간 : 35분\n",
    "- 알고리즘 분류 : 구현, 그래프 이론, 그래프 탐색, 너비 우선 탐색, 시뮬레이션\n",
    "- 티어 : 골드 5"
   ]
  },
  {
   "cell_type": "code",
   "execution_count": 1,
   "metadata": {},
   "outputs": [],
   "source": [
    "from collections import deque\n",
    "import sys\n",
    "# input = sys.stdin.readline\n",
    "\n",
    "N, L, R = map(int, input().split())\n",
    "people = [list(map(int, input().split())) for _ in range(N)]\n",
    "\n",
    "def move(alliance_coords, tot_people):\n",
    "    \"\"\"이동시켜주기\"\"\"\n",
    "    mean_people = tot_people//len(alliance_coords)\n",
    "    for r, c in alliance_coords:\n",
    "        people[r][c] = mean_people\n",
    "\n",
    "def one_move():\n",
    "    move_occured = False\n",
    "    visited = [[0]*N for _ in range(N)]\n",
    "    for r in range(N):\n",
    "        for c in range(N):\n",
    "            if not visited[r][c]:\n",
    "                tot_people = 0\n",
    "                alliance_coords = []\n",
    "                queue = deque([(r, c)])\n",
    "                visited[r][c] = 1\n",
    "                while queue:\n",
    "                    nr, nc = queue.popleft()\n",
    "                    now_people = people[nr][nc]\n",
    "                    tot_people += now_people\n",
    "                    alliance_coords.append((nr, nc))\n",
    "                    for ar, ac in ((nr+1, nc), (nr-1, nc), (nr, nc+1), (nr, nc-1)):\n",
    "                        if 0<=ar<N and 0<=ac<N and not visited[ar][ac]:\n",
    "                            adj_people = people[ar][ac]\n",
    "                            if L<=abs((now_people-adj_people))<=R: # 이동이 일어나는지 확인\n",
    "                                visited[ar][ac] = 1\n",
    "                                queue.append((ar, ac))\n",
    "                \n",
    "                if len(alliance_coords) > 1:\n",
    "                    move_occured = True\n",
    "                    move(alliance_coords, tot_people)\n",
    "    return move_occured\n",
    "\n",
    "ans = 0\n",
    "while one_move():\n",
    "    ans += 1\n",
    "print(ans)"
   ]
  },
  {
   "cell_type": "code",
   "execution_count": 2,
   "metadata": {},
   "outputs": [
    {
     "data": {
      "text/plain": [
       "(3, 5, 10, [[10, 15, 20], [20, 30, 25], [40, 22, 10]])"
      ]
     },
     "execution_count": 2,
     "metadata": {},
     "output_type": "execute_result"
    }
   ],
   "source": [
    "N, L, R, people"
   ]
  },
  {
   "cell_type": "code",
   "execution_count": 9,
   "metadata": {},
   "outputs": [
    {
     "name": "stdout",
     "output_type": "stream",
     "text": [
      "2\n"
     ]
    }
   ],
   "source": [
    "from collections import deque\n",
    "\n",
    "def move(alliance_coords, tot_people):\n",
    "    \"\"\"이동시켜주기\"\"\"\n",
    "    mean_people = tot_people//len(alliance_coords)\n",
    "    for r, c in alliance_coords:\n",
    "        people[r][c] = mean_people\n",
    "\n",
    "def one_move():\n",
    "    move_occured = False\n",
    "    visited = [[0]*N for _ in range(N)]\n",
    "    for r in range(N):\n",
    "        for c in range(N):\n",
    "            if not visited[r][c]:\n",
    "                tot_people = 0\n",
    "                alliance_coords = []\n",
    "                queue = deque([(r, c)])\n",
    "                visited[r][c] = 1\n",
    "                while queue:\n",
    "                    nr, nc = queue.popleft()\n",
    "                    now_people = people[nr][nc]\n",
    "                    tot_people += now_people\n",
    "                    alliance_coords.append((nr, nc))\n",
    "                    for ar, ac in ((nr+1, nc), (nr-1, nc), (nr, nc+1), (nr, nc-1)):\n",
    "                        if 0<=ar<N and 0<=ac<N and not visited[ar][ac]:\n",
    "                            adj_people = people[ar][ac]\n",
    "                            if L<=abs((now_people-adj_people))<=R: # 이동이 일어나는지 확인\n",
    "                                visited[ar][ac] = 1\n",
    "                                queue.append((ar, ac))\n",
    "                \n",
    "                if len(alliance_coords) > 1:\n",
    "                    move_occured = True\n",
    "                    move(alliance_coords, tot_people)\n",
    "    return move_occured\n",
    "\n",
    "ans = 0\n",
    "while one_move():\n",
    "    ans += 1\n",
    "print(ans)"
   ]
  },
  {
   "cell_type": "code",
   "execution_count": 10,
   "metadata": {},
   "outputs": [
    {
     "data": {
      "text/plain": [
       "2"
      ]
     },
     "execution_count": 10,
     "metadata": {},
     "output_type": "execute_result"
    }
   ],
   "source": [
    "ans"
   ]
  },
  {
   "cell_type": "code",
   "execution_count": 11,
   "metadata": {},
   "outputs": [
    {
     "data": {
      "text/plain": [
       "[[20, 20, 20], [20, 20, 16], [40, 16, 16]]"
      ]
     },
     "execution_count": 11,
     "metadata": {},
     "output_type": "execute_result"
    }
   ],
   "source": [
    "people"
   ]
  },
  {
   "cell_type": "code",
   "execution_count": null,
   "metadata": {},
   "outputs": [],
   "source": []
  }
 ],
 "metadata": {
  "kernelspec": {
   "display_name": "Python 3.8.8 ('base')",
   "language": "python",
   "name": "python3"
  },
  "language_info": {
   "codemirror_mode": {
    "name": "ipython",
    "version": 3
   },
   "file_extension": ".py",
   "mimetype": "text/x-python",
   "name": "python",
   "nbconvert_exporter": "python",
   "pygments_lexer": "ipython3",
   "version": "3.8.8"
  },
  "orig_nbformat": 4,
  "vscode": {
   "interpreter": {
    "hash": "f08154012ddadd8e950e6e9e035c7a7b32c136e7647e9b7c77e02eb723a8bedb"
   }
  }
 },
 "nbformat": 4,
 "nbformat_minor": 2
}
