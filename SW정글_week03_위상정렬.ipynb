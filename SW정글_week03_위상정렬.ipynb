{
 "cells": [
  {
   "cell_type": "markdown",
   "metadata": {},
   "source": [
    "# SW정글 week03 컴퓨팅 사고로의 전환\n",
    "## <위상 정렬>\n",
    "220418"
   ]
  },
  {
   "cell_type": "code",
   "execution_count": 23,
   "metadata": {},
   "outputs": [],
   "source": [
    "# 2252 줄 세우기\n",
    "from collections import deque\n",
    "import sys\n",
    "# input = sys.stdin.readline\n",
    "\n",
    "N, M = map(int, input().split())\n",
    "\n",
    "adj_list = [[] for _ in range(N+1)]\n",
    "in_edges = [0]*(N+1)\n",
    "for _ in range(M):\n",
    "    A, B = map(int, input().split())\n",
    "    adj_list[A].append(B)\n",
    "    in_edges[B] += 1\n",
    "\n",
    "res = []\n",
    "queue = deque()\n",
    "for node in range(1, N+1):\n",
    "    if in_edges[node] == 0:\n",
    "        queue.append(node)\n",
    "\n",
    "while queue:\n",
    "    now_node = queue.popleft()\n",
    "    for adj_node in adj_list[now_node]:\n",
    "        in_edges[adj_node] -= 1\n",
    "        if in_edges[adj_node] == 0:\n",
    "            queue.append(adj_node)\n",
    "    res.append(now_node)\n",
    "\n",
    "print(' '.join(map(str, res)))"
   ]
  },
  {
   "cell_type": "code",
   "execution_count": 34,
   "metadata": {},
   "outputs": [],
   "source": [
    "# 2637 장난감 조립\n",
    "from collections import deque\n",
    "import sys\n",
    "# input = sys.stdin.readline\n",
    "N, M = int(input()), int(input())\n",
    "adj_list = [{} for _ in range(N+1)]\n",
    "in_degree = [0]*(N+1)\n",
    "for _ in range(M):\n",
    "    X, Y, K = map(int, input().split())\n",
    "    adj_list[Y][X] = K\n",
    "    in_degree[X] += 1\n",
    "\n",
    "base_parts = []\n",
    "for node in range(1, N+1):\n",
    "    if in_degree[node] == 0:\n",
    "        base_parts.append(node)\n",
    "\n",
    "parts_info = [[0]*len(base_parts) for _ in range(N+1)]\n",
    "for i in range(len(base_parts)):\n",
    "    parts_info[base_parts[i]][i] = 1\n",
    "\n",
    "queue = deque(base_parts)\n",
    "while queue:\n",
    "    now_part = queue.popleft()\n",
    "    now_part_info = parts_info[now_part]\n",
    "    for next_part, need_num in adj_list[now_part].items():\n",
    "        next_part_info = parts_info[next_part]\n",
    "        for i in range(len(base_parts)):\n",
    "            next_part_info[i] += now_part_info[i]*need_num\n",
    "        in_degree[next_part] -= 1\n",
    "        if in_degree[next_part] == 0:\n",
    "            queue.append(next_part)\n",
    "\n",
    "for i in range(len(base_parts)):\n",
    "    print(base_parts[i], parts_info[-1][i])"
   ]
  },
  {
   "cell_type": "code",
   "execution_count": 59,
   "metadata": {},
   "outputs": [],
   "source": [
    "# 1432 그래프 수정\n",
    "import sys\n",
    "# input = sys.stdin.readline\n",
    "N = int(input())\n",
    "adj_list = [[] for _ in range(N+1)]\n",
    "in_edges = [0]*(N+1)\n",
    "for row in range(N):\n",
    "    inp = input().rstrip()\n",
    "    for col in range(N):\n",
    "        if inp[col] == '1':\n",
    "            adj_list[row+1].append(col+1)\n",
    "            in_edges[col+1] += 1"
   ]
  },
  {
   "cell_type": "code",
   "execution_count": 60,
   "metadata": {},
   "outputs": [
    {
     "data": {
      "text/plain": [
       "([[], [5], [4], [], [5], [3]], [0, 0, 0, 1, 1, 2])"
      ]
     },
     "execution_count": 60,
     "metadata": {},
     "output_type": "execute_result"
    }
   ],
   "source": [
    "adj_list, in_edges"
   ]
  },
  {
   "cell_type": "code",
   "execution_count": 61,
   "metadata": {},
   "outputs": [
    {
     "name": "stdout",
     "output_type": "stream",
     "text": [
      "1 2 4 5 3\n"
     ]
    }
   ],
   "source": [
    "from collections import deque\n",
    "queue = deque()\n",
    "for node in range(1, N+1):\n",
    "    if in_edges[node] == 0:\n",
    "        queue.append(node)\n",
    "\n",
    "res = []\n",
    "def topology_sort():\n",
    "    \"\"\"위상정렬 시도. 성공하면 True, 실패하면(사이클 존재) False 리턴\"\"\"\n",
    "    while queue:\n",
    "        now_node = queue.popleft()\n",
    "        for adj_node in adj_list[now_node]:\n",
    "            in_edges[adj_node] -= 1\n",
    "            if in_edges[adj_node] == 0:\n",
    "                queue.append(adj_node)\n",
    "                in_edges[adj_node] = -1 # 사이클 검증용 표시\n",
    "            elif in_edges[adj_node] == -1:\n",
    "                return False\n",
    "        res.append(now_node)\n",
    "    return True\n",
    "if topology_sort():\n",
    "    print(' '.join(map(str, res)))\n",
    "else:\n",
    "    print(-1)\n"
   ]
  },
  {
   "cell_type": "code",
   "execution_count": 57,
   "metadata": {},
   "outputs": [
    {
     "data": {
      "text/plain": [
       "[1, 2]"
      ]
     },
     "execution_count": 57,
     "metadata": {},
     "output_type": "execute_result"
    }
   ],
   "source": [
    "res"
   ]
  },
  {
   "cell_type": "code",
   "execution_count": null,
   "metadata": {},
   "outputs": [],
   "source": [
    "# 1432 그래프 수정\n",
    "import sys\n",
    "# input = sys.stdin.readline\n",
    "N = int(input())\n",
    "adj_list = [[] for _ in range(N+1)]\n",
    "in_edges = [0]*(N+1)\n",
    "for row in range(N):\n",
    "    inp = input().rstrip()\n",
    "    for col in range(N):\n",
    "        if inp[col] == '1':\n",
    "            adj_list[row+1].append(col+1)\n",
    "            in_edges[col+1] += 1\n",
    "\n",
    "queue = []\n",
    "for node in range(1, N+1):\n",
    "    if in_edges[node] == 0:\n",
    "        queue.append(node)\n",
    "\n",
    "res = []\n",
    "def topology_sort(queue):\n",
    "    \"\"\"위상정렬 시도. 성공하면 True, 실패하면(사이클 존재) False 리턴\"\"\"\n",
    "    while queue:\n",
    "        temp_queue = []\n",
    "        for now_node in queue:\n",
    "            for adj_node in adj_list[now_node]:\n",
    "                in_edges[adj_node] -= 1\n",
    "                if in_edges[adj_node] == 0:\n",
    "                    temp_queue.append(adj_node)\n",
    "                    in_edges[adj_node] = -1 # 사이클 검증용 표시\n",
    "                elif in_edges[adj_node] == -1:\n",
    "                    return False\n",
    "            res.append(now_node)\n",
    "        temp_queue.sort()\n",
    "        queue = temp_queue\n",
    "    if len(res) == N:\n",
    "        return True\n",
    "    return False\n",
    "\n",
    "if topology_sort(queue):\n",
    "    MN = [0]*(N)\n",
    "    for i, r in enumerate(res):\n",
    "        MN[r-1] = i+1\n",
    "    print(' '.join(map(str, MN)))\n",
    "else:\n",
    "    print(-1)"
   ]
  },
  {
   "cell_type": "code",
   "execution_count": null,
   "metadata": {},
   "outputs": [],
   "source": []
  },
  {
   "cell_type": "code",
   "execution_count": null,
   "metadata": {},
   "outputs": [],
   "source": []
  },
  {
   "cell_type": "code",
   "execution_count": null,
   "metadata": {},
   "outputs": [],
   "source": []
  },
  {
   "cell_type": "code",
   "execution_count": null,
   "metadata": {},
   "outputs": [],
   "source": []
  },
  {
   "cell_type": "code",
   "execution_count": null,
   "metadata": {},
   "outputs": [],
   "source": []
  },
  {
   "cell_type": "code",
   "execution_count": null,
   "metadata": {},
   "outputs": [],
   "source": []
  },
  {
   "cell_type": "code",
   "execution_count": null,
   "metadata": {},
   "outputs": [],
   "source": []
  },
  {
   "cell_type": "code",
   "execution_count": null,
   "metadata": {},
   "outputs": [],
   "source": []
  },
  {
   "cell_type": "code",
   "execution_count": null,
   "metadata": {},
   "outputs": [],
   "source": []
  },
  {
   "cell_type": "code",
   "execution_count": 1,
   "metadata": {},
   "outputs": [
    {
     "name": "stdout",
     "output_type": "stream",
     "text": [
      "12\n",
      "5\n"
     ]
    }
   ],
   "source": [
    "# 1948 임계경로\n",
    "from collections import deque\n",
    "import sys\n",
    "# input = sys.stdin.readline\n",
    "n, m = int(input()), int(input())\n",
    "in_degree = [0]*(n+1)\n",
    "adj_list = [[] for _ in range(n+1)]\n",
    "\n",
    "for _ in range(m):\n",
    "    a, b, c = map(int, input().split())\n",
    "    adj_list[a].append((b, c))\n",
    "    in_degree[b] += 1\n",
    "\n",
    "start, end = map(int, input().split())\n",
    "\n",
    "queue = deque([start])\n",
    "path_info = [[0, []] for _ in range(n+1)] # 각 노드를 거치는 path들 중 가장 크거나 같은 애들만 저장(cost, [prev_node_1, prev_node_2...])\n",
    "path_info[start][1].append(None)\n",
    "while queue:\n",
    "    now_node = queue.popleft()\n",
    "    cost = path_info[now_node][0]\n",
    "    for adj_node, adj_cost in adj_list[now_node]:\n",
    "        # 현재 노드(now_node)로 들어온 path들에 대해 인접 노드(adj_node)로 가는 경로 업데이트\n",
    "        if path_info[adj_node][1]: # path가 들어 있으면\n",
    "            adj_max_cost = path_info[adj_node][0]\n",
    "            if cost+adj_cost == adj_max_cost: # 노드 추가\n",
    "                path_info[adj_node][1].append(now_node)\n",
    "            elif cost+adj_cost > adj_max_cost:\n",
    "                path_info[adj_node][0] = cost + adj_cost\n",
    "                path_info[adj_node][1] = [now_node]\n",
    "        else: # path가 비어 있는 경우\n",
    "            path_info[adj_node][0] = cost + adj_cost\n",
    "            path_info[adj_node][1].append(now_node)\n",
    "        \n",
    "        in_degree[adj_node] -= 1    \n",
    "        if in_degree[adj_node] == 0:\n",
    "            queue.append(adj_node)\n",
    "\n",
    "max_cost = path_info[end][0]\n",
    "\n",
    "path_cnt = 0\n",
    "visited = [0] * (n+1)\n",
    "last_queue = deque([end])\n",
    "while last_queue:\n",
    "    now_node = last_queue.popleft()\n",
    "    if now_node == start:\n",
    "        continue\n",
    "    for adj_node in path_info[now_node][1]:\n",
    "        path_cnt += 1\n",
    "        if adj_node is not None and not visited[adj_node]:\n",
    "            last_queue.append(adj_node)\n",
    "            visited[adj_node] = 1\n",
    "\n",
    "print(max_cost)\n",
    "print(path_cnt)"
   ]
  },
  {
   "cell_type": "code",
   "execution_count": null,
   "metadata": {},
   "outputs": [],
   "source": []
  }
 ],
 "metadata": {
  "interpreter": {
   "hash": "8fac594bfae6525c0c41b4041d2d72effa188cc8ead05f81b1fab2bb098927fb"
  },
  "kernelspec": {
   "display_name": "Python 3.8.8 ('base')",
   "language": "python",
   "name": "python3"
  },
  "language_info": {
   "codemirror_mode": {
    "name": "ipython",
    "version": 3
   },
   "file_extension": ".py",
   "mimetype": "text/x-python",
   "name": "python",
   "nbconvert_exporter": "python",
   "pygments_lexer": "ipython3",
   "version": "3.8.8"
  },
  "orig_nbformat": 4
 },
 "nbformat": 4,
 "nbformat_minor": 2
}
