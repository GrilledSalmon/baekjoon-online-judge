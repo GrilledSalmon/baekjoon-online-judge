{
 "cells": [
  {
   "cell_type": "markdown",
   "metadata": {},
   "source": [
    "# 4963 섬의 개수\n",
    "220713\n",
    "- 소감\n",
    "    - 문제 선택 이유\n",
    "        - 스트레스 받아서 쉬운 문제\n",
    "        - 그래프 문제 푼지 오래됨\n",
    "        - solve ac에서 안 푼 문제 중에 푼 사람 많은 문제\n",
    "    - bfs나 dfs나 쓰고싶은 거 써서 풀면 됨\n",
    "- 소요 시간 : 16분\n",
    "- 알고리즘 분류 : 그래프 이론, 그래프 탐색, 너비 우선 탐색, 깊이 우선 탐색\n",
    "- 티어 : 실버 2"
   ]
  },
  {
   "cell_type": "code",
   "execution_count": null,
   "metadata": {},
   "outputs": [],
   "source": [
    "import sys\n",
    "input = sys.stdin.readline\n",
    "\n",
    "drdc = [(0, 1), (1, 1), (-1, 1), (0, -1), (-1, -1), (1, -1), (1, 0), (-1, 0)]\n",
    "\n",
    "while True:\n",
    "    w, h = map(int, input().split())\n",
    "    if (w, h) == (0, 0):\n",
    "        break\n",
    "    island_cnt = 0\n",
    "    map_ = [list(map(int, input().split())) for _ in range(h)]\n",
    "    for r in range(h):\n",
    "        for c in range(w):\n",
    "            if map_[r][c]:\n",
    "                island_cnt += 1\n",
    "                stack = []\n",
    "                map_[r][c] = 0\n",
    "                stack.append((r, c))\n",
    "                while stack:\n",
    "                    nr, nc = stack.pop()\n",
    "                    for dr, dc in drdc:\n",
    "                        ar, ac = nr+dr, nc+dc\n",
    "                        if 0<=ar<h and 0<=ac<w and map_[ar][ac]:\n",
    "                            map_[ar][ac] = 0\n",
    "                            stack.append((ar, ac))\n",
    "\n",
    "    print(island_cnt)"
   ]
  }
 ],
 "metadata": {
  "kernelspec": {
   "display_name": "Python 3.8.8 ('base')",
   "language": "python",
   "name": "python3"
  },
  "language_info": {
   "name": "python",
   "version": "3.8.8"
  },
  "orig_nbformat": 4,
  "vscode": {
   "interpreter": {
    "hash": "f08154012ddadd8e950e6e9e035c7a7b32c136e7647e9b7c77e02eb723a8bedb"
   }
  }
 },
 "nbformat": 4,
 "nbformat_minor": 2
}
