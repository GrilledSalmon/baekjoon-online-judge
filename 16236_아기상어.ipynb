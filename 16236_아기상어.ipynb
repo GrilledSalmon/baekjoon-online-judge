{
 "cells": [
  {
   "cell_type": "markdown",
   "metadata": {},
   "source": [
    "# 16236 아기 상어\n",
    "220301\n",
    "- 소감 : 아기 상어 화이팅.. 일단 구현하는 데 시간이 좀 걸렸다. 풀이 방법은 꽤 금방 생각해냈지만 세세한 부분(아기상어 위치 -1로 바꿔주기, 사이즈 같고 방문한 물고기 기억하기 등..)에서 구현하는 데 시간이 좀 걸렸다.\n",
    "- 아이디어 : visited를 매번 생성하면 비효율적이므로 아기상어가 먹은 횟수를 가지고 방문 여부를 space에 기록\n",
    "- 알고리즘 분류\n",
    "    - 구현\n",
    "    - 그래프 이론\n",
    "    - 그래프 탐색\n",
    "    - 너비 우선 탐색\n",
    "    - 시뮬레이션\n",
    "- 티어 : 골드 3"
   ]
  },
  {
   "cell_type": "code",
   "execution_count": 1,
   "metadata": {},
   "outputs": [
    {
     "name": "stdout",
     "output_type": "stream",
     "text": [
      "48\n"
     ]
    }
   ],
   "source": [
    "import sys\n",
    "# input = sys.stdin.readline\n",
    "\n",
    "N = int(input())\n",
    "space = [list(map(int, input().split())) for _ in range(N)]\n",
    "\n",
    "def find_baby_shark():\n",
    "    \"\"\"아기상어 위치 찾고 -1로 바꿔줌(방문 처리)\"\"\"\n",
    "    for y in range(N):\n",
    "        for x in range(N):\n",
    "            if space[y][x] == 9:\n",
    "                space[y][x] = -1\n",
    "                return x, y\n",
    "\n",
    "class baby_shark:\n",
    "    \"\"\"아기 상어\"\"\"\n",
    "    def __init__(self):\n",
    "        \"\"\"아기 상어 크기, 위치, 먹은 횟수, 배부름\"\"\"\n",
    "        self.size = 2\n",
    "        self.full = 0\n",
    "        self.eat_count = 0\n",
    "        self.coord = find_baby_shark()\n",
    "    \n",
    "    def eat(self, fish_coord):\n",
    "        \"\"\"fish_coord 위치의 물고기 냠\"\"\"\n",
    "        if self.size-1 == self.full:\n",
    "            self.size += 1\n",
    "            self.full = 0\n",
    "        else:\n",
    "            self.full += 1\n",
    "        self.coord = fish_coord\n",
    "        self.eat_count += 1\n",
    "        space[fish_coord[1]][fish_coord[0]] = 0\n",
    "\n",
    "baby_shark = baby_shark()\n",
    "baby_shark.size, baby_shark.full, baby_shark.eat_count, baby_shark.coord\n",
    "\n",
    "def prior_fish(fishes_coord) -> tuple:\n",
    "    \"\"\"가장 가까운 물고기들 중 가장 우선으로 먹을 물고기 위치 리턴\"\"\"\n",
    "    return min(fishes_coord, key=lambda x: (x[1],x[0]))\n",
    "\n",
    "def closest_fish():\n",
    "    \"\"\"가장 가까운 물고기의 위치와 거리 리턴\"\"\"\n",
    "    queue = [baby_shark.coord]\n",
    "    fishes_coord = []\n",
    "    distance = 0\n",
    "    same_size_fish_set = set()\n",
    "    while queue:\n",
    "        distance += 1\n",
    "        temp = []\n",
    "        for x, y in queue:\n",
    "            probe = [(x-1, y), (x+1, y), (x, y-1), (x, y+1)]\n",
    "            for x_, y_ in probe:\n",
    "                if not (0<=x_<N and 0<=y_<N): # 좌표 범위 조건\n",
    "                    continue\n",
    "                \n",
    "                status = space[y_][x_]\n",
    "                \n",
    "                # 먹을 수 있는 조건\n",
    "                if 0 < status < baby_shark.size: \n",
    "                    fishes_coord.append((x_, y_))\n",
    "                \n",
    "                # 먹지도 못하고 지나가지도 못하는 조건(먹을 수 있는 물고기 발견 or 물고기 큼 or 이미 방문)\n",
    "                elif fishes_coord or status > baby_shark.size or status == -(baby_shark.eat_count + 1):\n",
    "                    continue\n",
    "                \n",
    "                # 지나갈 수 있는 조건(사이즈 같음 or 지나간 적 없음)\n",
    "                else:\n",
    "                    if status == baby_shark.size:\n",
    "                        if (x_, y_) in same_size_fish_set: # 이미 방문한 적이 있다면\n",
    "                            continue\n",
    "                        else: # 방문표시 해주기\n",
    "                            same_size_fish_set.add((x_, y_))\n",
    "                    else: # 물고기가 없고 방문한 곳 표시\n",
    "                        space[y_][x_] = -(baby_shark.eat_count + 1) \n",
    "                    temp.append((x_, y_)) # 아기상어가 새출발 할 위치 추기\n",
    "\n",
    "        if fishes_coord: # 먹을 수 있는 물고기가 있으면\n",
    "            return prior_fish(fishes_coord), distance\n",
    "        queue = temp\n",
    "    return None, 0\n",
    "\n",
    "def solve():\n",
    "    time = 0\n",
    "    while True:\n",
    "        fish_coord, distance = closest_fish()\n",
    "        if fish_coord is None:\n",
    "            break\n",
    "        time += distance\n",
    "        baby_shark.eat(fish_coord)\n",
    "    return time\n",
    "\n",
    "print(solve())"
   ]
  },
  {
   "cell_type": "code",
   "execution_count": null,
   "metadata": {},
   "outputs": [],
   "source": []
  },
  {
   "cell_type": "code",
   "execution_count": 58,
   "metadata": {},
   "outputs": [
    {
     "data": {
      "text/plain": [
       "[[4, 3, 2, 1], [0, 0, 0, 0], [0, 0, 9, 0], [1, 2, 3, 4]]"
      ]
     },
     "execution_count": 58,
     "metadata": {},
     "output_type": "execute_result"
    }
   ],
   "source": [
    "space"
   ]
  },
  {
   "cell_type": "code",
   "execution_count": 59,
   "metadata": {},
   "outputs": [
    {
     "data": {
      "text/plain": [
       "(2, 0, 0, (2, 2))"
      ]
     },
     "execution_count": 59,
     "metadata": {},
     "output_type": "execute_result"
    }
   ],
   "source": [
    "def find_baby_shark():\n",
    "    for y in range(N):\n",
    "        for x in range(N):\n",
    "            if space[y][x] == 9:\n",
    "                return x, y\n",
    "\n",
    "class baby_shark:\n",
    "    \"\"\"아기 상어\"\"\"\n",
    "    def __init__(self):\n",
    "        \"\"\"아기 상어 크기, 위치, 먹은 횟수, 배부름\"\"\"\n",
    "        self.size = 2\n",
    "        self.full = 0\n",
    "        self.eat_count = 0\n",
    "        self.coord = find_baby_shark()\n",
    "    \n",
    "    def eat(self, fish_coord):\n",
    "        \"\"\"fish_coord 위치의 물고기 냠\"\"\"\n",
    "        if self.size-1 == self.full:\n",
    "            self.size += 1\n",
    "            self.full = 0\n",
    "        else:\n",
    "            self.full += 1\n",
    "        self.coord = fish_coord\n",
    "        self.eat_count += 1\n",
    "        space[fish_coord[1]][fish_coord[0]] = 0\n",
    "\n",
    "baby_shark = baby_shark()\n",
    "baby_shark.size, baby_shark.full, baby_shark.eat_count, baby_shark.coord"
   ]
  },
  {
   "cell_type": "code",
   "execution_count": 30,
   "metadata": {},
   "outputs": [
    {
     "data": {
      "text/plain": [
       "(7, 0)"
      ]
     },
     "execution_count": 30,
     "metadata": {},
     "output_type": "execute_result"
    }
   ],
   "source": [
    "# test\n",
    "baby_shark.eat()\n",
    "baby_shark.size, baby_shark.full"
   ]
  },
  {
   "cell_type": "code",
   "execution_count": 54,
   "metadata": {},
   "outputs": [],
   "source": [
    "def prior_fish(fishes_coord) -> tuple:\n",
    "    \"\"\"가장 가까운 물고기들 중 가장 우선으로 먹을 물고기 위치 리턴\"\"\"\n",
    "    return min(fishes_coord, key=lambda x: (x[1],x[0]))\n",
    "\n",
    "\n",
    "def closest_fish():\n",
    "    \"\"\"가장 가까운 물고기의 위치와 거리 리턴\"\"\"\n",
    "    queue = [baby_shark.coord]\n",
    "    fishes_coord = []\n",
    "    distance = 0\n",
    "    while queue:\n",
    "        distance += 1\n",
    "        temp = []\n",
    "        for x, y in queue:\n",
    "            probe = [(x-1, y), (x+1, y), (x, y-1), (x, y+1)]\n",
    "            for x_, y_ in probe:\n",
    "                if not (0<=x_<N and 0<=y_<N): # 좌표 범위 조건\n",
    "                    continue\n",
    "                \n",
    "                status = space[y_][x_]\n",
    "                \n",
    "                # 먹을 수 있는 조건\n",
    "                if 0 < status < baby_shark.size: \n",
    "                    fishes_coord.append((x_, y_))\n",
    "                \n",
    "                # 먹지도 못하고 지나가지도 못하는 조건(먹을 수 있는 물고기 발견 or 물고기 큼 or 이미 방문)\n",
    "                elif fishes_coord or status > baby_shark.size or status == -(baby_shark.eat_count + 1):\n",
    "                    continue\n",
    "                \n",
    "                # 지나갈 수 있는 조건\n",
    "                else:\n",
    "                    temp.append((x_, y_))\n",
    "                    space[y_][x_] = -(baby_shark.eat_count + 1) # 이동하면서 방문한 곳 표시\n",
    "\n",
    "        if fishes_coord: # 먹을 수 있는 물고기가 있으면\n",
    "            return prior_fish(fishes_coord), distance\n",
    "        queue = temp\n",
    "    return None, 0"
   ]
  },
  {
   "cell_type": "code",
   "execution_count": 55,
   "metadata": {},
   "outputs": [
    {
     "data": {
      "text/plain": [
       "(2, 2)"
      ]
     },
     "execution_count": 55,
     "metadata": {},
     "output_type": "execute_result"
    }
   ],
   "source": [
    "baby_shark.coord"
   ]
  },
  {
   "cell_type": "code",
   "execution_count": 60,
   "metadata": {},
   "outputs": [
    {
     "data": {
      "text/plain": [
       "9"
      ]
     },
     "execution_count": 60,
     "metadata": {},
     "output_type": "execute_result"
    }
   ],
   "source": [
    "def solve():\n",
    "    time = 0\n",
    "    while True:\n",
    "        fish_coord, distance = closest_fish()\n",
    "        if fish_coord is None:\n",
    "            break\n",
    "        time += distance\n",
    "        baby_shark.eat(fish_coord)\n",
    "    return time\n",
    "print(solve())"
   ]
  },
  {
   "cell_type": "code",
   "execution_count": 37,
   "metadata": {},
   "outputs": [
    {
     "data": {
      "text/plain": [
       "(0, 2)"
      ]
     },
     "execution_count": 37,
     "metadata": {},
     "output_type": "execute_result"
    }
   ],
   "source": [
    "def prior_fish(fishes_coord) -> tuple:\n",
    "    \"\"\"가장 가까운 물고기들 중 가장 우선으로 먹을 물고기 위치 리턴\"\"\"\n",
    "    return min(fishes_coord, key=lambda x: (x[1],x[0]))\n",
    "test_coord = [(1, 2), (0, 2), (0, 5), (1, 3), (2, 3)]\n",
    "prior_fish(test_coord)"
   ]
  },
  {
   "cell_type": "code",
   "execution_count": 43,
   "metadata": {},
   "outputs": [
    {
     "name": "stdout",
     "output_type": "stream",
     "text": [
      "1\n"
     ]
    }
   ],
   "source": [
    "if (0, 0):\n",
    "    print(1)"
   ]
  },
  {
   "cell_type": "code",
   "execution_count": null,
   "metadata": {},
   "outputs": [],
   "source": []
  }
 ],
 "metadata": {
  "interpreter": {
   "hash": "c798a043d5b26db4ea8dc684fe25ec244835432adc5539bce2de618403b1d63c"
  },
  "kernelspec": {
   "display_name": "Python 3.8.5 ('base')",
   "language": "python",
   "name": "python3"
  },
  "language_info": {
   "codemirror_mode": {
    "name": "ipython",
    "version": 3
   },
   "file_extension": ".py",
   "mimetype": "text/x-python",
   "name": "python",
   "nbconvert_exporter": "python",
   "pygments_lexer": "ipython3",
   "version": "3.8.5"
  },
  "orig_nbformat": 4
 },
 "nbformat": 4,
 "nbformat_minor": 2
}
