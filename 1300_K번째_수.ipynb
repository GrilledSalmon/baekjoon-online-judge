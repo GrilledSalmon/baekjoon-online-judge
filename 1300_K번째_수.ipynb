{
 "cells": [
  {
   "cell_type": "markdown",
   "metadata": {},
   "source": [
    "# 1300 K번째 수\n",
    "220626\n",
    "- 소감\n",
    "    - 어렵네유... 20분 정도 고민했는데 전혀 감이 안 잡혀서 풀이를 참고했는데, 아마 계속 고민했어도 생각하지 못했을 것 같은 아이디어네요.\n",
    "    - 특정 숫자가 A라는 2차원 배열에서 몇 번째의 숫자일지 알아내는 방법이 정말 참신했습니다.\n",
    "    - 그렇다 쳐도 아직도 이분탐색의 경계값을 활용하는 방법이 헷갈리네요.\n",
    "- 소요 시간 : 1시간 20분\n",
    "- 알고리즘 분류 : 이분탐색, 매개 변수 탐색\n",
    "- 티어 : 골드 2"
   ]
  },
  {
   "cell_type": "code",
   "execution_count": 25,
   "metadata": {},
   "outputs": [
    {
     "name": "stdout",
     "output_type": "stream",
     "text": [
      "9\n"
     ]
    }
   ],
   "source": [
    "N = int(input())\n",
    "k =  int(input())\n",
    "\n",
    "def lower_nums(num):\n",
    "    \"\"\"A에서 num보다 작거나 같은 숫자의 갯수 리턴\"\"\"\n",
    "    cnt = 0\n",
    "    for i in range(1, N+1):\n",
    "        cnt += min(num//i, N)\n",
    "    return cnt\n",
    "\n",
    "start = 1\n",
    "end = k\n",
    "ans = None\n",
    "\n",
    "while start <= end:\n",
    "    mid = (start + end)//2\n",
    "    l_nums = lower_nums(mid)\n",
    "    if l_nums >= k:\n",
    "        ans = mid\n",
    "        end = mid - 1\n",
    "    else:\n",
    "        start = mid + 1\n",
    " \n",
    "print(ans)"
   ]
  },
  {
   "cell_type": "code",
   "execution_count": 16,
   "metadata": {},
   "outputs": [
    {
     "name": "stdout",
     "output_type": "stream",
     "text": [
      "[0, 0, 0, 0]\n",
      "[0, 1, 2, 3]\n",
      "[0, 2, 4, 6]\n",
      "[0, 3, 6, 9]\n"
     ]
    }
   ],
   "source": [
    "A = [[0]*(N+1) for _ in range(N+1)]\n",
    "for i in range(1, N+1):\n",
    "    for j in range(1, N+1):\n",
    "        A[i][j] = i*j\n",
    "for line in A:\n",
    "    print(line)"
   ]
  },
  {
   "cell_type": "code",
   "execution_count": 22,
   "metadata": {},
   "outputs": [
    {
     "name": "stdout",
     "output_type": "stream",
     "text": [
      "6\n"
     ]
    }
   ],
   "source": [
    "def lower_nums(num):\n",
    "    \"\"\"A에서 num보다 작거나 같은 숫자의 갯수 리턴\"\"\"\n",
    "    cnt = 0\n",
    "    for i in range(1, N+1):\n",
    "        cnt += min(num//i, N)\n",
    "    return cnt\n",
    "\n",
    "start = 1\n",
    "end = k\n",
    "ans = None\n",
    "\n",
    "while start <= end:\n",
    "    mid = (start + end)//2\n",
    "    l_nums = lower_nums(mid)\n",
    "    if l_nums >= k:\n",
    "        ans = mid\n",
    "        end = mid - 1\n",
    "    else:\n",
    "        start = mid + 1\n",
    "\n",
    "# 의문점 : \n",
    "print(ans)"
   ]
  },
  {
   "cell_type": "code",
   "execution_count": 19,
   "metadata": {},
   "outputs": [
    {
     "data": {
      "text/plain": [
       "6"
      ]
     },
     "execution_count": 19,
     "metadata": {},
     "output_type": "execute_result"
    }
   ],
   "source": [
    "\n",
    "lower_nums(5)"
   ]
  },
  {
   "cell_type": "code",
   "execution_count": null,
   "metadata": {},
   "outputs": [],
   "source": []
  }
 ],
 "metadata": {
  "kernelspec": {
   "display_name": "Python 3.8.8 ('base')",
   "language": "python",
   "name": "python3"
  },
  "language_info": {
   "codemirror_mode": {
    "name": "ipython",
    "version": 3
   },
   "file_extension": ".py",
   "mimetype": "text/x-python",
   "name": "python",
   "nbconvert_exporter": "python",
   "pygments_lexer": "ipython3",
   "version": "3.8.8"
  },
  "orig_nbformat": 4,
  "vscode": {
   "interpreter": {
    "hash": "f08154012ddadd8e950e6e9e035c7a7b32c136e7647e9b7c77e02eb723a8bedb"
   }
  }
 },
 "nbformat": 4,
 "nbformat_minor": 2
}
