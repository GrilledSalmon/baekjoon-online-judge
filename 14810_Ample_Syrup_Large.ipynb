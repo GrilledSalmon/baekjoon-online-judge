{
 "cells": [
  {
   "cell_type": "markdown",
   "metadata": {},
   "source": [
    "# 14810 Ample Syrup(Large)\n",
    "220811\n",
    "- 소감\n",
    "    - 감이 죽었나.. 쉽지 않네여..^^\n",
    "    - 일단 greedy 문제인지, DP 문제인지 파악하는 것 조차 빠르게 되지 않았습니다.\n",
    "    - 결과적으로 풀긴 했는데 좀 오래걸려서 만족스럽진 않네여\n",
    "- 소요 시간 : 1시간 20분\n",
    "- 알고리즘 분류 : 그리디, 정렬, 기하학\n",
    "- 티어 : 골드 5"
   ]
  },
  {
   "cell_type": "code",
   "execution_count": 1,
   "metadata": {},
   "outputs": [],
   "source": [
    "# 1. 가장 큰 팬케잌을 고른다\n",
    "# 2. 그것보다 작은 팬케익을 그 위에 쌓아줌\n",
    "# 2. 표면적이 가장 넓게 만든다.\n",
    "from math import pi\n",
    "import sys\n",
    "# input = sys.stdin.readline\n",
    "\n",
    "def solve(t):\n",
    "    N, K = map(int, input().split())\n",
    "    pancakes = [tuple(map(int, input().split())) for _ in range(N)]\n",
    "    sorted_pancake_RH = sorted(pancakes, key= lambda x: -(x[0]*x[1])) # R*H기준 정렬\n",
    "    k_pancakes = sorted_pancake_RH[:K]\n",
    "    sum_of_k_rh = sum(map(lambda x: 2*x[0]*x[1], k_pancakes)) # R*H의 합\n",
    "    sum_of_k_1_rh = sum_of_k_rh - 2*k_pancakes[-1][0]*k_pancakes[-1][1] # 상위 k-1개\n",
    "    max_r = max(k_pancakes)[0]\n",
    "    other_pancakes = sorted_pancake_RH[K:]\n",
    "    max_surface  = (max_r**2 + sum_of_k_rh)*pi\n",
    "    for r, h in other_pancakes:\n",
    "        if r > max_r:\n",
    "            max_surface = max(max_surface, (sum_of_k_1_rh + r**2 + 2*r*h)*pi)\n",
    "    print(f\"Case #{t+1}: {max_surface}\")\n",
    "\n",
    "for t in range(int(input())):\n",
    "    solve(t)"
   ]
  },
  {
   "cell_type": "code",
   "execution_count": 6,
   "metadata": {},
   "outputs": [
    {
     "data": {
      "text/plain": [
       "([(9, 3), (7, 1), (10, 1), (8, 4)], 4, 2)"
      ]
     },
     "execution_count": 6,
     "metadata": {},
     "output_type": "execute_result"
    }
   ],
   "source": [
    "pancakes, N, K"
   ]
  },
  {
   "cell_type": "code",
   "execution_count": 11,
   "metadata": {},
   "outputs": [
    {
     "name": "stdout",
     "output_type": "stream",
     "text": [
      "625.1769380643689\n"
     ]
    }
   ],
   "source": [
    "sorted_pancake = sorted(pancakes, key= lambda x: -(x[0]**2 + 2*x[0]*x[1]))[:K]\n",
    "max_r = max(sorted_pancake)[0]\n",
    "surface  = (max_r**2 + sum(map(lambda x: 2*x[0]*x[1], sorted_pancake)))*pi\n",
    "print(surface)"
   ]
  },
  {
   "cell_type": "code",
   "execution_count": 10,
   "metadata": {},
   "outputs": [
    {
     "data": {
      "text/plain": [
       "[(9, 3), (8, 4)]"
      ]
     },
     "execution_count": 10,
     "metadata": {},
     "output_type": "execute_result"
    }
   ],
   "source": [
    "sorted_pancake"
   ]
  }
 ],
 "metadata": {
  "kernelspec": {
   "display_name": "Python 3.8.8 ('base')",
   "language": "python",
   "name": "python3"
  },
  "language_info": {
   "codemirror_mode": {
    "name": "ipython",
    "version": 3
   },
   "file_extension": ".py",
   "mimetype": "text/x-python",
   "name": "python",
   "nbconvert_exporter": "python",
   "pygments_lexer": "ipython3",
   "version": "3.8.8"
  },
  "orig_nbformat": 4,
  "vscode": {
   "interpreter": {
    "hash": "f08154012ddadd8e950e6e9e035c7a7b32c136e7647e9b7c77e02eb723a8bedb"
   }
  }
 },
 "nbformat": 4,
 "nbformat_minor": 2
}
