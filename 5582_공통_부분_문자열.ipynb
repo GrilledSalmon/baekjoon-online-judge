{
 "cells": [
  {
   "cell_type": "markdown",
   "metadata": {},
   "source": [
    "# 5582 공통 부분 문자열\n",
    "220502\n",
    "- 소감 : 문자열 DP 문제였습니다. week04 마지막 문제의 문자열 범위를 4000자 이내로 줄인 똑같은 문제였는데, 문자 범위가 줄은 걸 보고 브루트포스로 시도해보았지만 4000**2이 16백만이라는 걸 감지하지 못하고 접근했습니다. 보자마자 DP문제라는 생각을 하고 접근하지 못한 게 좀 컸던 것 같네요. 결국 20분 정도 고민하고 알고리즘 분류를 보고 나서야부터 DP로 접근했는데, 결국 45분까지 풀지 못하고 풀이를 보고 해결했습니다. 시간은 한 시간을 전부 다 썼네요. 역시 어려운 DP..ㅎ 그래도 이대로 안 풀고 미래에 만났으면 못풀었을 유명한 유형을 하나 뽀개게 되었으니 기쁘게 생각해야겠습니다. 감사합니다 알고리즘 스터디.\n",
    "- 알고리즘 분류\n",
    "    - 다이나믹 프로그래밍\n",
    "    - 문자열\n",
    "- 티어 : 골드 5"
   ]
  },
  {
   "cell_type": "code",
   "execution_count": 41,
   "metadata": {},
   "outputs": [],
   "source": [
    "A, B = input(), input()\n",
    "\n",
    "# DP\n",
    "memo = [[0]*(len(A)+1) for _ in range(len(B)+1)]\n",
    "\n",
    "maxi = 0\n",
    "for i in range(len(A)):\n",
    "    for j in range(len(B)):\n",
    "        if A[i] == B[j]:\n",
    "            memo[j+1][i+1] = memo[j][i] + 1\n",
    "print(max(map(max, memo)))"
   ]
  },
  {
   "cell_type": "code",
   "execution_count": 24,
   "metadata": {},
   "outputs": [
    {
     "data": {
      "text/plain": [
       "('ABRACADABRA', 'ECADADABRBCRDARA')"
      ]
     },
     "execution_count": 24,
     "metadata": {},
     "output_type": "execute_result"
    }
   ],
   "source": [
    "A, B"
   ]
  },
  {
   "cell_type": "code",
   "execution_count": 42,
   "metadata": {},
   "outputs": [
    {
     "name": "stdout",
     "output_type": "stream",
     "text": [
      "5\n"
     ]
    }
   ],
   "source": [
    "# 시간초과\n",
    "maxi = 0\n",
    "for i, a in enumerate(A):\n",
    "    for j, b in enumerate(B):\n",
    "        if maxi > len(B) - j:\n",
    "            break\n",
    "        k = 0\n",
    "        while i+k<len(A) and j+k<len(B) and B[j+k] == A[i+k]:\n",
    "            k += 1\n",
    "        if k > maxi:\n",
    "            maxi = k\n",
    "    if maxi > len(A) - i:\n",
    "        break\n",
    "\n",
    "print(maxi)"
   ]
  },
  {
   "cell_type": "code",
   "execution_count": 48,
   "metadata": {},
   "outputs": [
    {
     "name": "stdout",
     "output_type": "stream",
     "text": [
      "5\n"
     ]
    }
   ],
   "source": [
    "# DP\n",
    "memo = [[0]*(len(A)+1) for _ in range(len(B)+1)]\n",
    "\n",
    "maxi = 0\n",
    "for i in range(len(A)):\n",
    "    for j in range(len(B)):\n",
    "        if A[i] == B[j]:\n",
    "            memo[j+1][i+1] = memo[j][i] + 1\n",
    "print(max(map(max, memo)))"
   ]
  },
  {
   "cell_type": "code",
   "execution_count": null,
   "metadata": {},
   "outputs": [],
   "source": []
  }
 ],
 "metadata": {
  "interpreter": {
   "hash": "8fac594bfae6525c0c41b4041d2d72effa188cc8ead05f81b1fab2bb098927fb"
  },
  "kernelspec": {
   "display_name": "Python 3.8.8 ('base')",
   "language": "python",
   "name": "python3"
  },
  "language_info": {
   "codemirror_mode": {
    "name": "ipython",
    "version": 3
   },
   "file_extension": ".py",
   "mimetype": "text/x-python",
   "name": "python",
   "nbconvert_exporter": "python",
   "pygments_lexer": "ipython3",
   "version": "3.8.8"
  },
  "orig_nbformat": 4
 },
 "nbformat": 4,
 "nbformat_minor": 2
}
