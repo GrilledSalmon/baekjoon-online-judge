{
 "cells": [
  {
   "cell_type": "markdown",
   "metadata": {},
   "source": [
    "# 2110 공유기 설치\n",
    "220408\n",
    "- 소감 : 아이디어가 떠오르지 않아서 정글 같은 반의 성곤님께 여쭤보았다.. 그러고 퇴근해서 찬찬히 생각해보니 할 수 있을 것 같아서 잘 구현했음. 이진탐색 문제는 문제의 target에 대한 up, down 문제라 생각하면 좋을 것 같다.\n",
    "- 아이디어 : 공유기를 설치할 수 있는 최소 거리(distance)를 고정시켜놓은 상태에서 전체 공유기 설치가 가능한지 확인해본다. 그리고 성공하면 숫자를 높여보고 실패하면 숫자를 낮춰본다.\n",
    "- 알고리즘 분류\n",
    "    - 이분 탐색\n",
    "    - 매개 변수 탐색\n",
    "- 티어 : 골드 5"
   ]
  },
  {
   "cell_type": "code",
   "execution_count": 2,
   "metadata": {},
   "outputs": [
    {
     "name": "stdout",
     "output_type": "stream",
     "text": [
      "3\n"
     ]
    }
   ],
   "source": [
    "# 2110 공유기 설치\n",
    "import sys\n",
    "# input = sys.stdin.readline\n",
    "N, C = map(int, input().split())\n",
    "X = sorted([int(input()) for _ in range(N)])\n",
    "\n",
    "def set_up_success(distance):\n",
    "    \"\"\"공유기의 최소거리를 distance로 만족시키면서 설치할 수 있는지 확인\"\"\"\n",
    "    c_remain = C-1 # 남은 공유기 수\n",
    "    x_set_up = X[0] + distance # 공유기 설치할 최소 위치\n",
    "    for i in range(1, N):\n",
    "        if c_remain == 0: # 공유기를 모두 설치했다면\n",
    "            return True\n",
    "        if x_set_up <= X[i]: # 집의 위치가 설치해야하는 최소 위치보다 크면 설치\n",
    "            x_set_up = X[i] + distance # 새로 설치할 위치\n",
    "            c_remain -= 1\n",
    "    if c_remain: # 다 돌았는데 설치할 공유기가 남았다면\n",
    "        return False\n",
    "    else:\n",
    "        return True\n",
    "\n",
    "dist_start = 1 # 최소거리의 최솟값\n",
    "dist_end = (X[-1] - X[0]) // (C-1) # 최대로 공유기를 벌릴 수 있는 거리(최소거리의 최댓값)\n",
    "\n",
    "while True:\n",
    "    if dist_start == dist_end:\n",
    "        break\n",
    "\n",
    "    dist_mid = (dist_start + dist_end) // 2\n",
    "    if set_up_success(dist_mid): # 성공하면 더 높여보기\n",
    "        dist_start = dist_mid + 1\n",
    "    else: # 실패하면 줄여보기\n",
    "        dist_end = dist_mid\n",
    "\n",
    "if set_up_success(dist_start):\n",
    "    print(dist_start)\n",
    "else:\n",
    "    print(dist_start - 1)"
   ]
  }
 ],
 "metadata": {
  "interpreter": {
   "hash": "8fac594bfae6525c0c41b4041d2d72effa188cc8ead05f81b1fab2bb098927fb"
  },
  "kernelspec": {
   "display_name": "Python 3.8.8 ('base')",
   "language": "python",
   "name": "python3"
  },
  "language_info": {
   "codemirror_mode": {
    "name": "ipython",
    "version": 3
   },
   "file_extension": ".py",
   "mimetype": "text/x-python",
   "name": "python",
   "nbconvert_exporter": "python",
   "pygments_lexer": "ipython3",
   "version": "3.8.8"
  },
  "orig_nbformat": 4
 },
 "nbformat": 4,
 "nbformat_minor": 2
}
