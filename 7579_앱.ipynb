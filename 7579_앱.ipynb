{
 "cells": [
  {
   "cell_type": "markdown",
   "metadata": {},
   "source": [
    "# 7579 앱\n",
    "220604\n",
    "- 소감\n",
    "    - 흠... 하향식(memoization)으론 못푸나..? 풀 순 있는데, 문제 특성상 비효율적일듯..?\n",
    "    - DP 어렵다..\n",
    "    - 배낭 문제가 이런 식으로 나올수도 있구나 깨닫고 갑니다.\n",
    "- 소요 시간 : 2시간 ++\n",
    "- 알고리즘 분류 : 다이나믹 프로그래밍, 배낭 문제\n",
    "- 티어 : 골드 3"
   ]
  },
  {
   "cell_type": "code",
   "execution_count": null,
   "metadata": {},
   "outputs": [],
   "source": [
    "# 상향식\n",
    "import sys\n",
    "def solve():\n",
    "    # input = sys.stdin.readline\n",
    "    SYS_MAX = sys.maxsize\n",
    "\n",
    "    N, M = map(int, input().split())\n",
    "    memories = list(map(int, input().split()))\n",
    "    costs = list(map(int, input().split()))\n",
    "\n",
    "    sum_of_cost = sum(costs)\n",
    "    costs = [0] + costs\n",
    "    memories = [0] + memories\n",
    "\n",
    "    memo = [[0]*(N+1) for _ in range(sum_of_cost+1)]\n",
    "\n",
    "    # memo[n][cost] : 0부터 n까지의 앱을 가지고 cost 이하의 비용을 사용해 확보할 수 있는 최대 메모리값\n",
    "    # memo[n][cost] = max(memo[n-1][cost])\n",
    "    for cost in range(1, sum_of_cost+1):\n",
    "        for n in range(1, N+1):\n",
    "            if costs[n] > cost: # n번 앱을 끄지 못하는 경우\n",
    "                memo[cost][n] = memo[cost][n-1]\n",
    "            else: # n번 앱을 끌 수 있는 경우(비교 필요)\n",
    "                temp = max(memo[cost][n-1], memo[cost - costs[n]][n-1] + memories[n])\n",
    "                memo[cost][n] = temp\n",
    "                if temp >= M:\n",
    "                    print(cost)\n",
    "                    return\n",
    "    print(0) # sum_of_cost가 0이어서 for문을 돌지 않는 경우\n",
    "    return\n",
    "solve()"
   ]
  },
  {
   "cell_type": "code",
   "execution_count": 3,
   "metadata": {},
   "outputs": [],
   "source": [
    "# 하향식, 시간초과\n",
    "import sys\n",
    "# input = sys.stdin.readline\n",
    "SYS_MAX = sys.maxsize\n",
    "\n",
    "N, M = map(int, input().split())\n",
    "memories = list(map(int, input().split()))\n",
    "costs = list(map(int, input().split()))\n",
    "\n",
    "# dp(n, m) : 1부터 n까지의 앱들을가지고 m 이상의 메모리를 확보했을 때 최소 비용 리턴\n",
    "\n",
    "memo = {}\n",
    "\n",
    "def dp(n, m):\n",
    "    if (n, m) in memo:\n",
    "        return memo[(n, m)]\n",
    "    if m <= 0:\n",
    "        memo[(n, m)] = 0\n",
    "        return 0\n",
    "    if n == 0:\n",
    "        memo[(n, m)] = SYS_MAX\n",
    "        return SYS_MAX\n",
    "\n",
    "    case_1_cost = dp(n-1, m - memories[n-1]) + costs[n-1] # n을 종료한 경우\n",
    "    case_2_cost = dp(n-1, m)    # n을 종료하지 않은 경우\n",
    "    memo[(n, m)] = min(case_1_cost, case_2_cost)\n",
    "\n",
    "    return memo[(n, m)]\n",
    "\n",
    "print(dp(N, M))"
   ]
  },
  {
   "cell_type": "code",
   "execution_count": 4,
   "metadata": {},
   "outputs": [
    {
     "data": {
      "text/plain": [
       "(5, 60, [30, 10, 20, 35, 40], [3, 0, 3, 5, 4])"
      ]
     },
     "execution_count": 4,
     "metadata": {},
     "output_type": "execute_result"
    }
   ],
   "source": [
    "N, M, memories, costs"
   ]
  },
  {
   "cell_type": "code",
   "execution_count": 7,
   "metadata": {},
   "outputs": [
    {
     "data": {
      "text/plain": [
       "6"
      ]
     },
     "execution_count": 7,
     "metadata": {},
     "output_type": "execute_result"
    }
   ],
   "source": [
    "# dp(n, m) : 1부터 n까지의 앱들을가지고 m 이상의 메모리를 확보했을 때 최소 비용 리턴\n",
    "\n",
    "SYS_MAX = sys.maxsize\n",
    "\n",
    "memo = {}\n",
    "\n",
    "def dp(n, m):\n",
    "    if (n, m) in memo:\n",
    "        return memo[(n, m)]\n",
    "    if m <= 0:\n",
    "        memo[(n, m)] = 0\n",
    "        return 0\n",
    "    if n == 0:\n",
    "        memo[(n, m)] = SYS_MAX\n",
    "        return SYS_MAX\n",
    "\n",
    "    case_1_cost = dp(n-1, m - memories[n-1]) + costs[n-1] # n을 종료한 경우\n",
    "    case_2_cost = dp(n-1, m)    # n을 종료하지 않은 경우\n",
    "    memo[(n, m)] = min(case_1_cost, case_2_cost)\n",
    "\n",
    "    return memo[(n, m)]\n",
    "\n",
    "dp(N, M)"
   ]
  },
  {
   "cell_type": "code",
   "execution_count": 10,
   "metadata": {},
   "outputs": [
    {
     "data": {
      "text/plain": [
       "(5, 60, [30, 10, 20, 35, 40], [3, 0, 3, 5, 4])"
      ]
     },
     "execution_count": 10,
     "metadata": {},
     "output_type": "execute_result"
    }
   ],
   "source": [
    "N, M, memories, costs"
   ]
  },
  {
   "cell_type": "code",
   "execution_count": 25,
   "metadata": {},
   "outputs": [
    {
     "name": "stdout",
     "output_type": "stream",
     "text": [
      "6\n"
     ]
    }
   ],
   "source": [
    "sum_of_cost = sum(costs)\n",
    "costs = [0] + costs\n",
    "memories = [0] + memories\n",
    "\n",
    "memo = [[0]*sum_of_cost for _ in range(N+1)]\n",
    "\n",
    "# memo[n][cost] : 0부터 n까지의 앱을 가지고 cost 이하의 비용을 사용해 확보할 수 있는 최대 메모리값\n",
    "# memo[n][cost] = max(memo[n-1][cost])\n",
    "flag = False\n",
    "for cost in range(sum_of_cost):\n",
    "    for n in range(1, N+1):\n",
    "        if costs[n] > cost: # n번 앱을 끄지 못하는 경우\n",
    "            memo[n][cost] = memo[n-1][cost]\n",
    "        else: # n번 앱을 끌 수 있는 경우(비교 필요)\n",
    "            temp = max(memo[n-1][cost], memo[n-1][cost - costs[n]] + memories[n])\n",
    "            memo[n][cost] = temp\n",
    "            if temp >= M:\n",
    "                flag = True\n",
    "                ans = cost\n",
    "                break\n",
    "    if flag:\n",
    "        break\n",
    "\n",
    "print(ans)"
   ]
  },
  {
   "cell_type": "code",
   "execution_count": 26,
   "metadata": {},
   "outputs": [
    {
     "data": {
      "text/plain": [
       "[[0, 0, 0, 0, 0, 0, 0, 0, 0, 0, 0, 0, 0, 0, 0],\n",
       " [0, 0, 0, 30, 30, 30, 30, 0, 0, 0, 0, 0, 0, 0, 0],\n",
       " [10, 10, 10, 40, 40, 40, 40, 0, 0, 0, 0, 0, 0, 0, 0],\n",
       " [10, 10, 10, 40, 40, 40, 60, 0, 0, 0, 0, 0, 0, 0, 0],\n",
       " [10, 10, 10, 40, 40, 45, 0, 0, 0, 0, 0, 0, 0, 0, 0],\n",
       " [10, 10, 10, 40, 50, 50, 0, 0, 0, 0, 0, 0, 0, 0, 0]]"
      ]
     },
     "execution_count": 26,
     "metadata": {},
     "output_type": "execute_result"
    }
   ],
   "source": [
    "memo"
   ]
  },
  {
   "cell_type": "code",
   "execution_count": null,
   "metadata": {},
   "outputs": [],
   "source": []
  }
 ],
 "metadata": {
  "interpreter": {
   "hash": "f08154012ddadd8e950e6e9e035c7a7b32c136e7647e9b7c77e02eb723a8bedb"
  },
  "kernelspec": {
   "display_name": "Python 3.8.8 ('base')",
   "language": "python",
   "name": "python3"
  },
  "language_info": {
   "codemirror_mode": {
    "name": "ipython",
    "version": 3
   },
   "file_extension": ".py",
   "mimetype": "text/x-python",
   "name": "python",
   "nbconvert_exporter": "python",
   "pygments_lexer": "ipython3",
   "version": "3.8.8"
  },
  "orig_nbformat": 4
 },
 "nbformat": 4,
 "nbformat_minor": 2
}
