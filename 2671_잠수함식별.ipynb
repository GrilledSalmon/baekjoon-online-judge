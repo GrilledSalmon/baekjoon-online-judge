{
 "cells": [
  {
   "cell_type": "markdown",
   "metadata": {},
   "source": [
    "# 2671 잠수함식별\n",
    "220510\n",
    "- 소감\n",
    "    - 2일 전에 풀었던 1013 Contact와 정확히 같은 문제였음에도 또 구현하는 데 1시간 8분이 걸리는 기적의 문제..^^\n",
    "- 소요 시간 : 1시간 8분\n",
    "- 알고리즘 분류 : 문자열, 정규 표현식\n",
    "- 티어 : 골드 5"
   ]
  },
  {
   "cell_type": "code",
   "execution_count": 55,
   "metadata": {},
   "outputs": [
    {
     "name": "stdout",
     "output_type": "stream",
     "text": [
      "SUBMARINE\n"
     ]
    }
   ],
   "source": [
    "S = input()\n",
    "\n",
    "def is_submarine():\n",
    "    start = True\n",
    "    phase = 1\n",
    "    for i, s in enumerate(S):\n",
    "        if start:\n",
    "            start = False\n",
    "            if s == '0':\n",
    "                first_pattern = False\n",
    "            else:\n",
    "                first_pattern = True\n",
    "                phase = 1\n",
    "        else:\n",
    "            if first_pattern:\n",
    "                if phase in [1, 2]:\n",
    "                    if s == '0':\n",
    "                        phase += 1\n",
    "                    else:\n",
    "                        return False\n",
    "                elif phase == 3:\n",
    "                    if s == '0':\n",
    "                        continue\n",
    "                    else:\n",
    "                        phase += 1\n",
    "                elif phase == 4:\n",
    "                    if s == '0':\n",
    "                        if i != len(S) - 1:\n",
    "                            if S[i+1] == '1':\n",
    "                                first_pattern = False\n",
    "                            else:\n",
    "                                return False\n",
    "                        else:\n",
    "                            return False\n",
    "                    else:\n",
    "                        phase += 1\n",
    "                else: # phase == 5:\n",
    "                    if s == '1':\n",
    "                        continue\n",
    "                    else:\n",
    "                        if i != len(S)-1: # 마지막이 아니라면\n",
    "                            if S[i+1] == '0':\n",
    "                                phase = 2\n",
    "                                continue\n",
    "                            else:\n",
    "                                first_pattern = False\n",
    "                        else:\n",
    "                            return True\n",
    "            else:\n",
    "                if s == '1':\n",
    "                    start = True\n",
    "                    continue\n",
    "                else:\n",
    "                    return False\n",
    "        \n",
    "    if start or first_pattern and phase >= 4:\n",
    "        return True\n",
    "    return False\n",
    "\n",
    "print('SUBMARINE') if is_submarine() else print(\"NOISE\")"
   ]
  },
  {
   "cell_type": "code",
   "execution_count": 56,
   "metadata": {},
   "outputs": [
    {
     "name": "stdout",
     "output_type": "stream",
     "text": [
      "1 False True 1\n",
      "0 False True 2\n",
      "0 False True 3\n",
      "1 False True 4\n",
      "1 False True 5\n",
      "0 False True 2\n",
      "0 False True 3\n",
      "0 False True 3\n",
      "1 False True 4\n",
      "1 False True 5\n",
      "1 False True 5\n",
      "0 False False 5\n",
      "1 True False 5\n",
      "SUBMARINE\n"
     ]
    }
   ],
   "source": [
    "def is_submarine():\n",
    "    start = True\n",
    "    phase = 1\n",
    "    for i, s in enumerate(S):\n",
    "        if start:\n",
    "            start = False\n",
    "            if s == '0':\n",
    "                first_pattern = False\n",
    "            else:\n",
    "                first_pattern = True\n",
    "                phase = 1\n",
    "        else:\n",
    "            if first_pattern:\n",
    "                if phase in [1, 2]:\n",
    "                    if s == '0':\n",
    "                        phase += 1\n",
    "                    else:\n",
    "                        return False\n",
    "                elif phase == 3:\n",
    "                    if s == '0':\n",
    "                        pass\n",
    "                    else:\n",
    "                        phase += 1\n",
    "                elif phase == 4:\n",
    "                    if s == '0':\n",
    "                        if i != len(S) - 1:\n",
    "                            if S[i+1] == '1':\n",
    "                                first_pattern = False\n",
    "                            else:\n",
    "                                return False\n",
    "                        else:\n",
    "                            return False\n",
    "                    else:\n",
    "                        phase += 1\n",
    "                else: # phase == 5:\n",
    "                    if s == '1':\n",
    "                        pass\n",
    "                    else:\n",
    "                        if i != len(S)-1: # 마지막이 아니라면\n",
    "                            if S[i+1] == '0':\n",
    "                                phase = 2\n",
    "                                pass\n",
    "                            else:\n",
    "                                first_pattern = False\n",
    "                        else:\n",
    "                            return True\n",
    "            else:\n",
    "                if s == '1':\n",
    "                    start = True\n",
    "                    pass\n",
    "                else:\n",
    "                    return False\n",
    "        print(s, start, first_pattern, phase)\n",
    "    if start or first_pattern and phase >= 4:\n",
    "        return True\n",
    "    return False\n",
    "\n",
    "print('SUBMARINE') if is_submarine() else print(\"NOISE\")\n"
   ]
  },
  {
   "cell_type": "code",
   "execution_count": 51,
   "metadata": {},
   "outputs": [
    {
     "data": {
      "text/plain": [
       "'011001110011000001101'"
      ]
     },
     "execution_count": 51,
     "metadata": {},
     "output_type": "execute_result"
    }
   ],
   "source": [
    "S"
   ]
  },
  {
   "cell_type": "code",
   "execution_count": null,
   "metadata": {},
   "outputs": [],
   "source": []
  }
 ],
 "metadata": {
  "interpreter": {
   "hash": "f08154012ddadd8e950e6e9e035c7a7b32c136e7647e9b7c77e02eb723a8bedb"
  },
  "kernelspec": {
   "display_name": "Python 3.8.8 ('base')",
   "language": "python",
   "name": "python3"
  },
  "language_info": {
   "codemirror_mode": {
    "name": "ipython",
    "version": 3
   },
   "file_extension": ".py",
   "mimetype": "text/x-python",
   "name": "python",
   "nbconvert_exporter": "python",
   "pygments_lexer": "ipython3",
   "version": "3.8.8"
  },
  "orig_nbformat": 4
 },
 "nbformat": 4,
 "nbformat_minor": 2
}
