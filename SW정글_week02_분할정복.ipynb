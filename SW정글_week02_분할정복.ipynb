{
 "cells": [
  {
   "cell_type": "markdown",
   "metadata": {},
   "source": [
    "# SW정글 week02 컴퓨팅 사고로의 전환\n",
    "## <분할 정복>\n",
    "220408"
   ]
  },
  {
   "cell_type": "code",
   "execution_count": 12,
   "metadata": {},
   "outputs": [
    {
     "name": "stdout",
     "output_type": "stream",
     "text": [
      "9\n",
      "7\n"
     ]
    }
   ],
   "source": [
    "# 2630 색종이 만들기\n",
    "N = int(input())\n",
    "paper = [tuple(map(int, input().split())) for _ in range(N)]\n",
    "\n",
    "def divide_n_conquer(row=0, col=0, n=N):\n",
    "    if n == 1:\n",
    "        return (1 - paper[row][col], paper[row][col])\n",
    "    half = n//2\n",
    "    sector_1 = divide_n_conquer(row, col, half)\n",
    "    sector_2 = divide_n_conquer(row, col+half, half)\n",
    "    sector_3 = divide_n_conquer(row + half, col, half)\n",
    "    sector_4 = divide_n_conquer(row + half, col + half, half)\n",
    "\n",
    "    whites = sector_1[0] + sector_2[0] + sector_3[0] + sector_4[0]\n",
    "    blues = sector_1[1] + sector_2[1] + sector_3[1] + sector_4[1]\n",
    "    if (whites, blues) == (4, 0):\n",
    "        return 1, 0\n",
    "    if (whites, blues) == (0, 4):\n",
    "        return 0, 1\n",
    "    else:\n",
    "        return whites, blues\n",
    "\n",
    "white, blue = divide_n_conquer()\n",
    "print(white)\n",
    "print(blue)"
   ]
  },
  {
   "cell_type": "code",
   "execution_count": 5,
   "metadata": {},
   "outputs": [
    {
     "name": "stdout",
     "output_type": "stream",
     "text": [
      "5\n"
     ]
    }
   ],
   "source": [
    "# 1629 곱셈\n",
    "A, B, C = map(int, input().split())\n",
    "\n",
    "square_cache = {}\n",
    "def square(n = B):\n",
    "    \"\"\"A의 n제곱 리턴\"\"\"\n",
    "    if square_cache.get(n, None):\n",
    "        return square_cache[n]\n",
    "    if n == 1:\n",
    "        square_cache[n] = A % C\n",
    "        return square_cache[n]\n",
    "    if n % 2 == 1:\n",
    "        return A * square(n-1) % C\n",
    "    \n",
    "    square_cache[n] = square(n//2)**2 % C\n",
    "    return square_cache[n] \n",
    "\n",
    "print(square())"
   ]
  },
  {
   "cell_type": "code",
   "execution_count": 79,
   "metadata": {},
   "outputs": [
    {
     "name": "stdout",
     "output_type": "stream",
     "text": [
      "0 0\n",
      "0 0\n"
     ]
    }
   ],
   "source": [
    "# 10830 행렬 제곱\n",
    "N, B = map(int, input().split())\n",
    "A = [list(map(int, input().split())) for _ in range(N)]\n",
    "\n",
    "DIV = 1000\n",
    "\n",
    "for row in range(N):\n",
    "    for col in range(N):\n",
    "        A[row][col] %= DIV\n",
    "\n",
    "def inner_product(a, b):\n",
    "    \"\"\"a, b 내적 리턴\"\"\"\n",
    "    summ = 0\n",
    "    for i in range(N):\n",
    "        summ += a[i] * b[i]\n",
    "    return summ % DIV\n",
    "\n",
    "def transpose(A):\n",
    "    \"\"\"A의 전치행렬 리턴\"\"\"\n",
    "    A_trans = []\n",
    "    for col in range(N):\n",
    "        new_row = []\n",
    "        for row in range(N):\n",
    "            new_row.append(A[row][col])\n",
    "        A_trans.append(new_row)\n",
    "    return A_trans\n",
    "\n",
    "def mult(A, B):\n",
    "    \"\"\"행렬곱 AB 리턴\"\"\"\n",
    "    AB = []\n",
    "    B_transpose = transpose(B)\n",
    "    for row in range(N):\n",
    "        new_row = []\n",
    "        a = A[row]\n",
    "        for col in range(N):\n",
    "            new_row.append(inner_product(a, B_transpose[col]))\n",
    "        AB.append(new_row)\n",
    "    return AB\n",
    "\n",
    "square_cache = {}\n",
    "def square(n=B):\n",
    "    \"\"\"행렬 A의 n제곱 리턴\"\"\"\n",
    "    if n == 1:\n",
    "        return A\n",
    "    if square_cache.get(n, None):\n",
    "        return square_cache[n]\n",
    "    if n % 2:\n",
    "        square_cache[n] = mult(A, square(n-1))\n",
    "    else:\n",
    "        square_cache[n] = mult(square(n//2), square(n//2))\n",
    "    return square_cache[n]\n",
    "\n",
    "for line in square():\n",
    "    print(*line)"
   ]
  },
  {
   "cell_type": "code",
   "execution_count": 122,
   "metadata": {},
   "outputs": [
    {
     "name": "stdout",
     "output_type": "stream",
     "text": [
      "8\n",
      "4000\n",
      "20\n"
     ]
    }
   ],
   "source": [
    "# 6549 히스토그램에서 가장 큰 직사각형\n",
    "while True:\n",
    "    inp = list(map(int, input().split()))\n",
    "    if inp[0] == 0:\n",
    "        break\n",
    "    n = inp[0]\n",
    "    H = inp[1:]\n",
    "\n",
    "    max_area = [0]\n",
    "\n",
    "    def find_increasing(start, end, reverse=False):\n",
    "        \"\"\"start부터 end까지 증가하는 부분의 인덱스들을 리턴.\n",
    "        reverse=True end부터 start까지 증가하는 부분의 인덱스들을 리턴\"\"\"\n",
    "        if not reverse:\n",
    "            stack = [start]\n",
    "        else:\n",
    "            stack = [end]\n",
    "        for i in range(1, end-start+1):\n",
    "            now_ind = (1-reverse)*(start+i) + reverse*(end - i)\n",
    "            now_val = H[now_ind]\n",
    "            if H[stack[-1]] <= now_val:\n",
    "                stack.append(now_ind)\n",
    "            else:\n",
    "                while stack and H[stack[-1]] > now_val:\n",
    "                    stack.pop()\n",
    "                stack.append(now_ind)\n",
    "        return stack\n",
    "\n",
    "    def merge(left : list, right : list, start:int, end:int)->None:\n",
    "        \"\"\"투 포인터 사용. left와 right를 합쳤을 때 생기는 가장 큰 직사각형 넓이 갱신\n",
    "        in - left : 오름차순인 직사각형의 인덱스 담긴 리스트\n",
    "        - right : 내림차순인 직사각형의 인덱스가 담긴 리스트\n",
    "        out - None\"\"\"\n",
    "        p1, p2 = 0, 0\n",
    "        flag1, flag2 = True, True\n",
    "        left_wall, right_wall = start - 1, end + 1\n",
    "        while flag1 or flag2:\n",
    "            if flag2 and (not flag1 or H[left[p1]] >= H[right[p2]]): # 오른쪽이 더 작은 경우\n",
    "                height = H[right[p2]]\n",
    "                width = right_wall - left_wall - 1\n",
    "                right_wall = right[p2]\n",
    "                if p2 != len(right)-1:\n",
    "                    p2 += 1\n",
    "                else: flag2 = False\n",
    "                \n",
    "            else:\n",
    "                height = H[left[p1]]\n",
    "                width = right_wall - left_wall - 1\n",
    "                left_wall = left[p1]\n",
    "                if p1 != len(left)-1:\n",
    "                    p1 += 1\n",
    "                else: flag1 = False\n",
    "\n",
    "            area = height * width\n",
    "            if area > max_area[0]:\n",
    "                max_area[0] = area\n",
    "\n",
    "\n",
    "    def divide_n_conquer(start=0, end=n-1):\n",
    "        \"\"\"start부터 end 구간의 최대 직사각형 넓이를 갱신해줌\"\"\"\n",
    "        if start == end:\n",
    "            if max_area[0] < H[start]:\n",
    "                max_area[0] = H[start]\n",
    "        else:\n",
    "            mid = (start + end) // 2\n",
    "            divide_n_conquer(start, mid)\n",
    "            divide_n_conquer(mid+1, end)\n",
    "\n",
    "            left = find_increasing(start, mid)\n",
    "            right = find_increasing(mid+1, end, reverse=True)\n",
    "            \n",
    "            merge(left, right, start, end)\n",
    "\n",
    "    divide_n_conquer()\n",
    "    print(max_area[0])"
   ]
  },
  {
   "cell_type": "code",
   "execution_count": 123,
   "metadata": {},
   "outputs": [],
   "source": [
    "# 2261 가장 가꾸운 두 점\n",
    "import sys\n",
    "# input = sys.stdin.readline\n",
    "n = int(input())\n",
    "coords = [tuple(map(int, input().split())) for _ in range(n)]"
   ]
  },
  {
   "cell_type": "code",
   "execution_count": 124,
   "metadata": {},
   "outputs": [
    {
     "data": {
      "text/plain": [
       "(4, [(0, 0), (10, 10), (0, 10), (10, 0)])"
      ]
     },
     "execution_count": 124,
     "metadata": {},
     "output_type": "execute_result"
    }
   ],
   "source": [
    "n, coords"
   ]
  },
  {
   "cell_type": "code",
   "execution_count": 126,
   "metadata": {},
   "outputs": [
    {
     "data": {
      "text/plain": [
       "200"
      ]
     },
     "execution_count": 126,
     "metadata": {},
     "output_type": "execute_result"
    }
   ],
   "source": [
    "def dist_square(p, q):\n",
    "    return (p[0] - q[0])**2 + (p[1] - q[1])**2\n"
   ]
  },
  {
   "cell_type": "code",
   "execution_count": null,
   "metadata": {},
   "outputs": [],
   "source": []
  }
 ],
 "metadata": {
  "interpreter": {
   "hash": "8fac594bfae6525c0c41b4041d2d72effa188cc8ead05f81b1fab2bb098927fb"
  },
  "kernelspec": {
   "display_name": "Python 3.8.8 ('base')",
   "language": "python",
   "name": "python3"
  },
  "language_info": {
   "codemirror_mode": {
    "name": "ipython",
    "version": 3
   },
   "file_extension": ".py",
   "mimetype": "text/x-python",
   "name": "python",
   "nbconvert_exporter": "python",
   "pygments_lexer": "ipython3",
   "version": "3.9.5"
  },
  "orig_nbformat": 4
 },
 "nbformat": 4,
 "nbformat_minor": 2
}
