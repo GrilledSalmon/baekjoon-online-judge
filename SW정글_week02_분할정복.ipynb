{
 "cells": [
  {
   "cell_type": "markdown",
   "metadata": {},
   "source": [
    "# SW정글 week02 컴퓨팅 사고로의 전환\n",
    "## <분할 정복>\n",
    "220408"
   ]
  },
  {
   "cell_type": "code",
   "execution_count": 12,
   "metadata": {},
   "outputs": [
    {
     "name": "stdout",
     "output_type": "stream",
     "text": [
      "9\n",
      "7\n"
     ]
    }
   ],
   "source": [
    "# 2630 색종이 만들기\n",
    "N = int(input())\n",
    "paper = [tuple(map(int, input().split())) for _ in range(N)]\n",
    "\n",
    "def divide_n_conquer(row=0, col=0, n=N):\n",
    "    if n == 1:\n",
    "        return (1 - paper[row][col], paper[row][col])\n",
    "    half = n//2\n",
    "    sector_1 = divide_n_conquer(row, col, half)\n",
    "    sector_2 = divide_n_conquer(row, col+half, half)\n",
    "    sector_3 = divide_n_conquer(row + half, col, half)\n",
    "    sector_4 = divide_n_conquer(row + half, col + half, half)\n",
    "\n",
    "    whites = sector_1[0] + sector_2[0] + sector_3[0] + sector_4[0]\n",
    "    blues = sector_1[1] + sector_2[1] + sector_3[1] + sector_4[1]\n",
    "    if (whites, blues) == (4, 0):\n",
    "        return 1, 0\n",
    "    if (whites, blues) == (0, 4):\n",
    "        return 0, 1\n",
    "    else:\n",
    "        return whites, blues\n",
    "\n",
    "white, blue = divide_n_conquer()\n",
    "print(white)\n",
    "print(blue)"
   ]
  },
  {
   "cell_type": "code",
   "execution_count": 5,
   "metadata": {},
   "outputs": [
    {
     "name": "stdout",
     "output_type": "stream",
     "text": [
      "5\n"
     ]
    }
   ],
   "source": [
    "# 1629 곱셈\n",
    "A, B, C = map(int, input().split())\n",
    "\n",
    "square_cache = {}\n",
    "def square(n = B):\n",
    "    \"\"\"A의 n제곱 리턴\"\"\"\n",
    "    if square_cache.get(n, None):\n",
    "        return square_cache[n]\n",
    "    if n == 1:\n",
    "        square_cache[n] = A % C\n",
    "        return square_cache[n]\n",
    "    if n % 2 == 1:\n",
    "        return A * square(n-1) % C\n",
    "    \n",
    "    square_cache[n] = square(n//2)**2 % C\n",
    "    return square_cache[n] \n",
    "\n",
    "print(square())"
   ]
  },
  {
   "cell_type": "code",
   "execution_count": 79,
   "metadata": {},
   "outputs": [
    {
     "name": "stdout",
     "output_type": "stream",
     "text": [
      "0 0\n",
      "0 0\n"
     ]
    }
   ],
   "source": [
    "# 10830 행렬 제곱\n",
    "N, B = map(int, input().split())\n",
    "A = [list(map(int, input().split())) for _ in range(N)]\n",
    "\n",
    "DIV = 1000\n",
    "\n",
    "for row in range(N):\n",
    "    for col in range(N):\n",
    "        A[row][col] %= DIV\n",
    "\n",
    "def inner_product(a, b):\n",
    "    \"\"\"a, b 내적 리턴\"\"\"\n",
    "    summ = 0\n",
    "    for i in range(N):\n",
    "        summ += a[i] * b[i]\n",
    "    return summ % DIV\n",
    "\n",
    "def transpose(A):\n",
    "    \"\"\"A의 전치행렬 리턴\"\"\"\n",
    "    A_trans = []\n",
    "    for col in range(N):\n",
    "        new_row = []\n",
    "        for row in range(N):\n",
    "            new_row.append(A[row][col])\n",
    "        A_trans.append(new_row)\n",
    "    return A_trans\n",
    "\n",
    "def mult(A, B):\n",
    "    \"\"\"행렬곱 AB 리턴\"\"\"\n",
    "    AB = []\n",
    "    B_transpose = transpose(B)\n",
    "    for row in range(N):\n",
    "        new_row = []\n",
    "        a = A[row]\n",
    "        for col in range(N):\n",
    "            new_row.append(inner_product(a, B_transpose[col]))\n",
    "        AB.append(new_row)\n",
    "    return AB\n",
    "\n",
    "square_cache = {}\n",
    "def square(n=B):\n",
    "    \"\"\"행렬 A의 n제곱 리턴\"\"\"\n",
    "    if n == 1:\n",
    "        return A\n",
    "    if square_cache.get(n, None):\n",
    "        return square_cache[n]\n",
    "    if n % 2:\n",
    "        square_cache[n] = mult(A, square(n-1))\n",
    "    else:\n",
    "        square_cache[n] = mult(square(n//2), square(n//2))\n",
    "    return square_cache[n]\n",
    "\n",
    "for line in square():\n",
    "    print(*line)"
   ]
  },
  {
   "cell_type": "code",
   "execution_count": 122,
   "metadata": {},
   "outputs": [
    {
     "name": "stdout",
     "output_type": "stream",
     "text": [
      "8\n",
      "4000\n",
      "20\n"
     ]
    }
   ],
   "source": [
    "# 6549 히스토그램에서 가장 큰 직사각형\n",
    "while True:\n",
    "    inp = list(map(int, input().split()))\n",
    "    if inp[0] == 0:\n",
    "        break\n",
    "    n = inp[0]\n",
    "    H = inp[1:]\n",
    "\n",
    "    max_area = [0]\n",
    "\n",
    "    def find_increasing(start, end, reverse=False):\n",
    "        \"\"\"start부터 end까지 증가하는 부분의 인덱스들을 리턴.\n",
    "        reverse=True end부터 start까지 증가하는 부분의 인덱스들을 리턴\"\"\"\n",
    "        if not reverse:\n",
    "            stack = [start]\n",
    "        else:\n",
    "            stack = [end]\n",
    "        for i in range(1, end-start+1):\n",
    "            now_ind = (1-reverse)*(start+i) + reverse*(end - i)\n",
    "            now_val = H[now_ind]\n",
    "            if H[stack[-1]] <= now_val:\n",
    "                stack.append(now_ind)\n",
    "            else:\n",
    "                while stack and H[stack[-1]] > now_val:\n",
    "                    stack.pop()\n",
    "                stack.append(now_ind)\n",
    "        return stack\n",
    "\n",
    "    def merge(left : list, right : list, start:int, end:int)->None:\n",
    "        \"\"\"투 포인터 사용. left와 right를 합쳤을 때 생기는 가장 큰 직사각형 넓이 갱신\n",
    "        in - left : 오름차순인 직사각형의 인덱스 담긴 리스트\n",
    "        - right : 내림차순인 직사각형의 인덱스가 담긴 리스트\n",
    "        out - None\"\"\"\n",
    "        p1, p2 = 0, 0\n",
    "        flag1, flag2 = True, True\n",
    "        left_wall, right_wall = start - 1, end + 1\n",
    "        while flag1 or flag2:\n",
    "            if flag2 and (not flag1 or H[left[p1]] >= H[right[p2]]): # 오른쪽이 더 작은 경우\n",
    "                height = H[right[p2]]\n",
    "                width = right_wall - left_wall - 1\n",
    "                right_wall = right[p2]\n",
    "                if p2 != len(right)-1:\n",
    "                    p2 += 1\n",
    "                else: flag2 = False\n",
    "                \n",
    "            else:\n",
    "                height = H[left[p1]]\n",
    "                width = right_wall - left_wall - 1\n",
    "                left_wall = left[p1]\n",
    "                if p1 != len(left)-1:\n",
    "                    p1 += 1\n",
    "                else: flag1 = False\n",
    "\n",
    "            area = height * width\n",
    "            if area > max_area[0]:\n",
    "                max_area[0] = area\n",
    "\n",
    "\n",
    "    def divide_n_conquer(start=0, end=n-1):\n",
    "        \"\"\"start부터 end 구간의 최대 직사각형 넓이를 갱신해줌\"\"\"\n",
    "        if start == end:\n",
    "            if max_area[0] < H[start]:\n",
    "                max_area[0] = H[start]\n",
    "        else:\n",
    "            mid = (start + end) // 2\n",
    "            divide_n_conquer(start, mid)\n",
    "            divide_n_conquer(mid+1, end)\n",
    "\n",
    "            left = find_increasing(start, mid)\n",
    "            right = find_increasing(mid+1, end, reverse=True)\n",
    "            \n",
    "            merge(left, right, start, end)\n",
    "\n",
    "    divide_n_conquer()\n",
    "    print(max_area[0])"
   ]
  },
  {
   "cell_type": "code",
   "execution_count": 37,
   "metadata": {},
   "outputs": [],
   "source": [
    "# 2261 가장 가까운 두 점\n",
    "import sys\n",
    "# input = sys.stdin.readline\n",
    "n = int(input())\n",
    "coords = sorted([tuple(map(int, input().split())) for _ in range(n)])"
   ]
  },
  {
   "cell_type": "code",
   "execution_count": 54,
   "metadata": {},
   "outputs": [
    {
     "name": "stdout",
     "output_type": "stream",
     "text": [
      "10 [(54, 6432), (54, 6468), (56, 233), (64, 232), (546, 32132), (562, 3), (656, 4654), (3168, 88), (5646, 532), (6848, 231)]\n"
     ]
    }
   ],
   "source": [
    "print(n, coords)"
   ]
  },
  {
   "cell_type": "code",
   "execution_count": 61,
   "metadata": {},
   "outputs": [
    {
     "name": "stdout",
     "output_type": "stream",
     "text": [
      "65\n"
     ]
    }
   ],
   "source": [
    "mini = float('inf')\n",
    "mini_root = mini\n",
    "\n",
    "def dist_square(p, q):\n",
    "    return (p[0] - q[0])**2 + (p[1] - q[1])**2\n",
    "\n",
    "def check_mini(p, q):\n",
    "    \"\"\"좌표 p,q의 거리가 최소인지 확인\"\"\"\n",
    "    global mini, mini_root\n",
    "    d = dist_square(p, q)\n",
    "    if d < mini:\n",
    "        mini = d\n",
    "        mini_root = mini**0.5\n",
    "\n",
    "def band_range(start, end):\n",
    "    \"\"\"mid로부터의 거리가 mini보다 가까운 좌표들(band)의 range 및 x값 기준 리턴\"\"\"\n",
    "    global mini_root\n",
    "    mid = (start+end)//2\n",
    "    x_ref = coords[mid][0]\n",
    "    for i in range(mid-1, start-1, -1): # left(start~mid)\n",
    "        if abs(coords[i][0] - x_ref) >= mini_root:\n",
    "            band_start = i + 1\n",
    "            break\n",
    "    else:\n",
    "        band_start = i\n",
    "    \n",
    "    for i in range(mid+1, end+1): # right(mid+1~end)\n",
    "        if abs(coords[i][0] - x_ref) >= mini_root:\n",
    "            band_end = i - 1\n",
    "            break\n",
    "    else:\n",
    "        band_end = i\n",
    "\n",
    "    return band_start, band_end, x_ref\n",
    "\n",
    "\n",
    "def merge(start, end):\n",
    "    \"\"\"start부터 mid, mid+1부터 end까지 두 그룹에 있는 점들 사이의 거리 중 최솟값 갱신\"\"\"\n",
    "    global mini, mini_root\n",
    "    band_start, band_end, x_ref = band_range(start, end)\n",
    "\n",
    "    # 밴드를 y값에 대해 정렬\n",
    "    band_coords = sorted(coords[band_start:band_end+1], key=lambda x:x[1])\n",
    "    \n",
    "    for i in range(len(band_coords)):\n",
    "        if mini == 0:\n",
    "            return\n",
    "        p = band_coords[i]\n",
    "        if p[0] <= x_ref: # left\n",
    "            for j in range(1, i): # p의 아래 점들\n",
    "                q = band_coords[i-j]\n",
    "                if q[0] > x_ref: # 다른 그룹에 속하고\n",
    "                    if abs(p[1] - q[1]) < mini_root:\n",
    "                        check_mini(p, q)\n",
    "                    else:\n",
    "                        break\n",
    "            for j in range(i+1, len(band_coords)): # p의 윗 점들\n",
    "                q = band_coords[j]\n",
    "                if q[0] > x_ref: # 다른 그룹에 속하고\n",
    "                    if abs(p[1] - q[1]) < mini_root:\n",
    "                        check_mini(p, q)\n",
    "                    else:\n",
    "                        break\n",
    "        else: # right\n",
    "            for j in range(1, i): # p의 아래 점들\n",
    "                q = band_coords[i-j]\n",
    "                if q[0] <= x_ref: # 다른 그룹에 속하고\n",
    "                    if abs(p[1] - q[1]) < mini_root:\n",
    "                        check_mini(p, q)\n",
    "                    else:\n",
    "                        break\n",
    "            for j in range(i+1, len(band_coords)): # p의 윗 점들\n",
    "                q = band_coords[j]\n",
    "                if q[0] <= x_ref: # 다른 그룹에 속하고\n",
    "                    if abs(p[1] - q[1]) < mini_root:\n",
    "                        check_mini(p, q)\n",
    "                    else:\n",
    "                        break\n",
    "\n",
    "def divide_n_conquer(start=0, end=n-1):\n",
    "    \"\"\"start부터 end까지의 점들 사이의 최소 거리를 갱신해줌\"\"\"\n",
    "    if end - start < 3: # 점이 세 개 이하일 때\n",
    "        for i in range(start, end):\n",
    "            for j in range(i+1, end+1):\n",
    "                check_mini(coords[i], coords[j])\n",
    "        return\n",
    "\n",
    "    mid = (start + end) // 2\n",
    "    divide_n_conquer(start, mid)\n",
    "    divide_n_conquer(mid+1, end)\n",
    "    merge(start, end)\n",
    "\n",
    "divide_n_conquer()\n",
    "print(mini)"
   ]
  },
  {
   "cell_type": "code",
   "execution_count": 56,
   "metadata": {},
   "outputs": [
    {
     "name": "stdout",
     "output_type": "stream",
     "text": [
      "최소거리 : 65\n",
      "좌표 : ((56, 233), (64, 232))\n"
     ]
    }
   ],
   "source": [
    "from itertools import combinations as cb\n",
    "\n",
    "def dist_square(p, q):\n",
    "    return (p[0] - q[0])**2 + (p[1] - q[1])**2\n",
    "\n",
    "mini = float('inf')\n",
    "for case in cb(coords, 2):\n",
    "    d = dist_square(case[0], case[1])\n",
    "    if d < mini:\n",
    "        mini, pq = d, case\n",
    "\n",
    "print('최소거리 :', mini)\n",
    "print('좌표 :', pq)"
   ]
  },
  {
   "cell_type": "code",
   "execution_count": 5,
   "metadata": {},
   "outputs": [
    {
     "name": "stdout",
     "output_type": "stream",
     "text": [
      "1\n"
     ]
    }
   ],
   "source": [
    "mini = float('inf')\n",
    "mini_root = mini\n",
    "\n",
    "def dist_square(p, q):\n",
    "    return (p[0] - q[0])**2 + (p[1] - q[1])**2\n",
    "\n",
    "def check_mini(p, q):\n",
    "    \"\"\"좌표 p,q의 거리가 최소인지 확인\"\"\"\n",
    "    global mini, mini_root\n",
    "    d = dist_square(p, q)\n",
    "    if d < mini:\n",
    "        mini = d\n",
    "        mini_root = mini**0.5\n",
    "\n",
    "def merge(start, end):\n",
    "    \"\"\"start부터 mid, mid+1부터 end까지 두 그룹에 있는 점들 사이의 거리 중 최솟값 갱신\"\"\"\n",
    "    global mini, mini_root\n",
    "    mid = (start + end) // 2\n",
    "    for i in range(start, mid+1): # left\n",
    "        p = coords[i]\n",
    "        for j in range(mid+1, end+1): # right\n",
    "            q = coords[j]\n",
    "            if abs(p[0] - q[0]) < mini_root:\n",
    "                check_mini(p, q)\n",
    "            else:\n",
    "                if j == mid+1: # right의 처음부터 실패하면\n",
    "                    return\n",
    "                break\n",
    "\n",
    "def divide_n_conquer(start=0, end=n-1):\n",
    "    \"\"\"start부터 end까지의 점들 사이의 최소 거리를 갱신해줌\"\"\"\n",
    "    if end - start < 3: # 점이 세 개 이하일 때\n",
    "        for i in range(start, end):\n",
    "            for j in range(i+1, end+1):\n",
    "                check_mini(coords[i], coords[j])\n",
    "        return\n",
    "\n",
    "    mid = (start + end) // 2\n",
    "    divide_n_conquer(start, mid)\n",
    "    divide_n_conquer(mid+1, end)\n",
    "    merge(start, end)\n",
    "\n",
    "divide_n_conquer()\n",
    "print(mini)"
   ]
  },
  {
   "cell_type": "code",
   "execution_count": 6,
   "metadata": {},
   "outputs": [
    {
     "data": {
      "text/plain": [
       "1"
      ]
     },
     "execution_count": 6,
     "metadata": {},
     "output_type": "execute_result"
    }
   ],
   "source": [
    "divide_n_conquer()\n",
    "mini"
   ]
  },
  {
   "cell_type": "code",
   "execution_count": 3,
   "metadata": {},
   "outputs": [
    {
     "name": "stdout",
     "output_type": "stream",
     "text": [
      "최소거리 : 1\n",
      "좌표 : ((3, 4), (3, 5))\n"
     ]
    }
   ],
   "source": [
    "from itertools import combinations as cb\n",
    "\n",
    "def dist_square(p, q):\n",
    "    return (p[0] - q[0])**2 + (p[1] - q[1])**2\n",
    "\n",
    "mini = float('inf')\n",
    "for case in cb(coords, 2):\n",
    "    d = dist_square(case[0], case[1])\n",
    "    if d < mini:\n",
    "        mini, pq = d, case\n",
    "\n",
    "print('최소거리 :', mini)\n",
    "print('좌표 :', pq)"
   ]
  },
  {
   "cell_type": "code",
   "execution_count": 11,
   "metadata": {},
   "outputs": [
    {
     "data": {
      "text/plain": [
       "0"
      ]
     },
     "execution_count": 11,
     "metadata": {},
     "output_type": "execute_result"
    }
   ],
   "source": [
    "dist_square(pq[0], pq[1])"
   ]
  },
  {
   "cell_type": "code",
   "execution_count": 17,
   "metadata": {},
   "outputs": [
    {
     "name": "stdout",
     "output_type": "stream",
     "text": [
      "[(-2, -9), (-2, 4), (0, 0), (0, 10), (6, 8), (8, 9), (10, 0), (10, 10), (12, 6), (12, 6)]\n",
      "[(-2, -9), (0, 0), (10, 0), (-2, 4), (12, 6), (12, 6), (6, 8), (8, 9), (10, 10), (0, 10)]\n"
     ]
    }
   ],
   "source": [
    "print(sorted(coords))\n",
    "print(sorted(coords, key=lambda x:x[1]))"
   ]
  },
  {
   "cell_type": "code",
   "execution_count": 35,
   "metadata": {},
   "outputs": [
    {
     "data": {
      "text/plain": [
       "13"
      ]
     },
     "execution_count": 35,
     "metadata": {},
     "output_type": "execute_result"
    }
   ],
   "source": []
  }
 ],
 "metadata": {
  "interpreter": {
   "hash": "8fac594bfae6525c0c41b4041d2d72effa188cc8ead05f81b1fab2bb098927fb"
  },
  "kernelspec": {
   "display_name": "Python 3.8.8 ('base')",
   "language": "python",
   "name": "python3"
  },
  "language_info": {
   "codemirror_mode": {
    "name": "ipython",
    "version": 3
   },
   "file_extension": ".py",
   "mimetype": "text/x-python",
   "name": "python",
   "nbconvert_exporter": "python",
   "pygments_lexer": "ipython3",
   "version": "3.9.5"
  },
  "orig_nbformat": 4
 },
 "nbformat": 4,
 "nbformat_minor": 2
}
