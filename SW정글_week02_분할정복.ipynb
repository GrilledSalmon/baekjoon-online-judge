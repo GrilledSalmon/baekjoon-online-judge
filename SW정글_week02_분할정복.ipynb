{
 "cells": [
  {
   "cell_type": "markdown",
   "metadata": {},
   "source": [
    "# SW정글 week02 컴퓨팅 사고로의 전환\n",
    "## <분할 정복>\n",
    "220408"
   ]
  },
  {
   "cell_type": "code",
   "execution_count": 12,
   "metadata": {},
   "outputs": [
    {
     "name": "stdout",
     "output_type": "stream",
     "text": [
      "9\n",
      "7\n"
     ]
    }
   ],
   "source": [
    "# 2630 색종이 만들기\n",
    "N = int(input())\n",
    "paper = [tuple(map(int, input().split())) for _ in range(N)]\n",
    "\n",
    "def divide_n_conquer(row=0, col=0, n=N):\n",
    "    if n == 1:\n",
    "        return (1 - paper[row][col], paper[row][col])\n",
    "    half = n//2\n",
    "    sector_1 = divide_n_conquer(row, col, half)\n",
    "    sector_2 = divide_n_conquer(row, col+half, half)\n",
    "    sector_3 = divide_n_conquer(row + half, col, half)\n",
    "    sector_4 = divide_n_conquer(row + half, col + half, half)\n",
    "\n",
    "    whites = sector_1[0] + sector_2[0] + sector_3[0] + sector_4[0]\n",
    "    blues = sector_1[1] + sector_2[1] + sector_3[1] + sector_4[1]\n",
    "    if (whites, blues) == (4, 0):\n",
    "        return 1, 0\n",
    "    if (whites, blues) == (0, 4):\n",
    "        return 0, 1\n",
    "    else:\n",
    "        return whites, blues\n",
    "\n",
    "white, blue = divide_n_conquer()\n",
    "print(white)\n",
    "print(blue)"
   ]
  },
  {
   "cell_type": "code",
   "execution_count": 5,
   "metadata": {},
   "outputs": [
    {
     "name": "stdout",
     "output_type": "stream",
     "text": [
      "5\n"
     ]
    }
   ],
   "source": [
    "# 1629 곱셈\n",
    "A, B, C = map(int, input().split())\n",
    "\n",
    "square_cache = {}\n",
    "def square(n = B):\n",
    "    \"\"\"A의 n제곱 리턴\"\"\"\n",
    "    if square_cache.get(n, None):\n",
    "        return square_cache[n]\n",
    "    if n == 1:\n",
    "        square_cache[n] = A % C\n",
    "        return square_cache[n]\n",
    "    if n % 2 == 1:\n",
    "        return A * square(n-1) % C\n",
    "    \n",
    "    square_cache[n] = square(n//2)**2 % C\n",
    "    return square_cache[n] \n",
    "\n",
    "print(square())"
   ]
  },
  {
   "cell_type": "code",
   "execution_count": 79,
   "metadata": {},
   "outputs": [
    {
     "name": "stdout",
     "output_type": "stream",
     "text": [
      "0 0\n",
      "0 0\n"
     ]
    }
   ],
   "source": [
    "# 10830 행렬 제곱\n",
    "N, B = map(int, input().split())\n",
    "A = [list(map(int, input().split())) for _ in range(N)]\n",
    "\n",
    "DIV = 1000\n",
    "\n",
    "for row in range(N):\n",
    "    for col in range(N):\n",
    "        A[row][col] %= DIV\n",
    "\n",
    "def inner_product(a, b):\n",
    "    \"\"\"a, b 내적 리턴\"\"\"\n",
    "    summ = 0\n",
    "    for i in range(N):\n",
    "        summ += a[i] * b[i]\n",
    "    return summ % DIV\n",
    "\n",
    "def transpose(A):\n",
    "    \"\"\"A의 전치행렬 리턴\"\"\"\n",
    "    A_trans = []\n",
    "    for col in range(N):\n",
    "        new_row = []\n",
    "        for row in range(N):\n",
    "            new_row.append(A[row][col])\n",
    "        A_trans.append(new_row)\n",
    "    return A_trans\n",
    "\n",
    "def mult(A, B):\n",
    "    \"\"\"행렬곱 AB 리턴\"\"\"\n",
    "    AB = []\n",
    "    B_transpose = transpose(B)\n",
    "    for row in range(N):\n",
    "        new_row = []\n",
    "        a = A[row]\n",
    "        for col in range(N):\n",
    "            new_row.append(inner_product(a, B_transpose[col]))\n",
    "        AB.append(new_row)\n",
    "    return AB\n",
    "\n",
    "square_cache = {}\n",
    "def square(n=B):\n",
    "    \"\"\"행렬 A의 n제곱 리턴\"\"\"\n",
    "    if n == 1:\n",
    "        return A\n",
    "    if square_cache.get(n, None):\n",
    "        return square_cache[n]\n",
    "    if n % 2:\n",
    "        square_cache[n] = mult(A, square(n-1))\n",
    "    else:\n",
    "        square_cache[n] = mult(square(n//2), square(n//2))\n",
    "    return square_cache[n]\n",
    "\n",
    "for line in square():\n",
    "    print(*line)"
   ]
  },
  {
   "cell_type": "code",
   "execution_count": 130,
   "metadata": {},
   "outputs": [
    {
     "name": "stdout",
     "output_type": "stream",
     "text": [
      "8\n",
      "4000\n",
      "1\n",
      "6\n"
     ]
    }
   ],
   "source": [
    "# 6549 히스토그램에서 가장 큰 직사각형\n",
    "while True:\n",
    "    inp = list(map(int, input().split()))\n",
    "    if inp[0] == 0:\n",
    "        break\n",
    "    n = inp[0]\n",
    "    H = inp[1:]\n",
    "\n",
    "    max_area = [0]\n",
    "    def merge(left : list, right : list)->None:\n",
    "        \"\"\"투 포인터 사용. left와 right를 합쳤을 때 생기는 가장 큰 직사각형 넓이 갱신\n",
    "        in - left : 오름차순인 직사각형의 높이가 담긴 리스트\n",
    "        - right : 내림차순인 직사각형의 높이가 담긴 리스트\n",
    "        out - None\"\"\"\n",
    "        p1, p2 = 0, 0\n",
    "        while p1 <= len(left)-1 or p2 <= len(right)-1:\n",
    "            if p2<len(right) and (p1>=len(left) or left[p1] >= right[-1-p2]):\n",
    "                height = right[-1-p2]\n",
    "                p2 += 1\n",
    "            else:\n",
    "                height = left[p1]\n",
    "                p1 += 1\n",
    "            area = height * (len(left) + len(right) - p1 - p2 + 1)\n",
    "            if area > max_area[0]:\n",
    "                max_area[0] = area\n",
    "                \n",
    "    def divide_n_conquer(start=0, end=n-1):\n",
    "        \"\"\"왼쪽으로 붙었을 때, 오른쪽으로 붙었을 때 너비, 높이 정보 리턴\"\"\"\n",
    "        if start == end:\n",
    "            left = right = [H[start]]\n",
    "            merge(left, [0])\n",
    "            return left, right\n",
    "        mid = (start + end) // 2\n",
    "        left_left, left_right = divide_n_conquer(start, mid)\n",
    "        right_left, right_right = divide_n_conquer(mid+1, end)\n",
    "\n",
    "        merge(left_right, right_left)\n",
    "        \n",
    "        # 붙일 수 있는 조건(left_right의 길이가 1 or ㅣleft_right가 평탄) 그리고 left_right의 값이 right_left의 첫값보다 커서 내림차순이 될 수 있도록 하는 경우\n",
    "        if (len(left_right) == 1 or left_right[0]==left_right[-1]) and left_right[0] >= right_left[0]:\n",
    "            new_left = left_left + right_left\n",
    "        else: # 그대로\n",
    "            new_left = left_left\n",
    "\n",
    "        if (len(right_left) == 1 or right_left[0] == right_left[-1]) and right_left[0] >= left_right[-1]: # 붙일 수 있는 조건\n",
    "            new_right = left_right + right_right\n",
    "        else: # 그대로\n",
    "            new_right = right_right\n",
    "        return new_left, new_right\n",
    "\n",
    "    divide_n_conquer()\n",
    "    print(max_area[0])"
   ]
  },
  {
   "cell_type": "code",
   "execution_count": 1,
   "metadata": {},
   "outputs": [],
   "source": [
    "inp = list(map(int, input().split()))\n",
    "n = inp[0]\n",
    "H = inp[1:]"
   ]
  },
  {
   "cell_type": "code",
   "execution_count": 2,
   "metadata": {},
   "outputs": [
    {
     "data": {
      "text/plain": [
       "(7, [2, 1, 4, 5, 1, 3, 3])"
      ]
     },
     "execution_count": 2,
     "metadata": {},
     "output_type": "execute_result"
    }
   ],
   "source": [
    "n, H"
   ]
  },
  {
   "cell_type": "code",
   "execution_count": 3,
   "metadata": {},
   "outputs": [
    {
     "name": "stdout",
     "output_type": "stream",
     "text": [
      "0 0 [2] [2]\n",
      "1 1 [1] [1]\n",
      "0 1 [2, 1] [1]\n",
      "2 2 [4] [4]\n",
      "3 3 [5] [5]\n",
      "2 3 [4] [4, 5]\n",
      "0 3 [2, 1] [1, 4, 5]\n",
      "4 4 [1] [1]\n",
      "5 5 [3] [3]\n",
      "4 5 [1] [1, 3]\n",
      "6 6 [3] [3]\n",
      "4 6 [1] [1, 3, 3]\n",
      "0 6 [2, 1] [1, 3, 3]\n"
     ]
    },
    {
     "data": {
      "text/plain": [
       "[8]"
      ]
     },
     "execution_count": 3,
     "metadata": {},
     "output_type": "execute_result"
    }
   ],
   "source": [
    "max_area = [0]\n",
    "def merge(left : list, right : list)->None:\n",
    "    \"\"\"투 포인터 사용. left와 right를 합쳤을 때 생기는 가장 큰 직사각형 넓이 갱신\n",
    "    in - left : 오름차순인 직사각형의 높이가 담긴 리스트\n",
    "       - right : 내림차순인 직사각형의 높이가 담긴 리스트\n",
    "    out - None\"\"\"\n",
    "    p1, p2 = 0, 0\n",
    "    while p1 <= len(left)-1 or p2 <= len(right)-1:\n",
    "        if p2<len(right) and (p1>=len(left) or left[p1] >= right[-1-p2]):\n",
    "            height = right[-1-p2]\n",
    "            p2 += 1\n",
    "        else:\n",
    "            height = left[p1]\n",
    "            p1 += 1\n",
    "        area = height * (len(left) + len(right) - p1 - p2 + 1)\n",
    "        if area > max_area[0]:\n",
    "            max_area[0] = area\n",
    "            \n",
    "def divide_n_conquer(start=0, end=n-1):\n",
    "    \"\"\"왼쪽으로 붙었을 때, 오른쪽으로 붙었을 때 너비, 높이 정보 리턴\"\"\"\n",
    "    if start == end:\n",
    "        left = right = [H[start]]\n",
    "        merge(left, [0])\n",
    "        print(start, end, left, right)\n",
    "        return left, right\n",
    "    mid = (start + end) // 2\n",
    "    left_left, left_right = divide_n_conquer(start, mid)\n",
    "    right_left, right_right = divide_n_conquer(mid+1, end)\n",
    "\n",
    "    merge(left_right, right_left)\n",
    "    \n",
    "    # 붙일 수 있는 조건(left_right의 길이가 1 or ㅣleft_right가 평탄) 그리고 left_right의 값이 right_left의 첫값보다 커서 내림차순이 될 수 있도록 하는 경우\n",
    "    if (len(left_right) == 1 or left_right[0]==left_right[-1]) and left_right[0] >= right_left[0]:\n",
    "        new_left = left_left + right_left\n",
    "    else: # 그대로\n",
    "        new_left = left_left\n",
    "\n",
    "    if (len(right_left) == 1 or right_left[0] == right_left[-1]) and right_left[0] >= left_right[-1]: # 붙일 수 있는 조건\n",
    "        new_right = left_right + right_right\n",
    "    else: # 그대로\n",
    "        new_right = right_right\n",
    "    print(start, end, new_left, new_right)\n",
    "    return new_left, new_right\n",
    "\n",
    "divide_n_conquer()\n",
    "max_area"
   ]
  },
  {
   "cell_type": "code",
   "execution_count": 122,
   "metadata": {},
   "outputs": [
    {
     "name": "stdout",
     "output_type": "stream",
     "text": [
      "8\n",
      "4000\n",
      "20\n"
     ]
    }
   ],
   "source": [
    "# 6549 히스토그램에서 가장 큰 직사각형\n",
    "while True:\n",
    "    inp = list(map(int, input().split()))\n",
    "    if inp[0] == 0:\n",
    "        break\n",
    "    n = inp[0]\n",
    "    H = inp[1:]\n",
    "\n",
    "    max_area = [0]\n",
    "\n",
    "    def find_increasing(start, end, reverse=False):\n",
    "        \"\"\"start부터 end까지 증가하는 부분의 인덱스들을 리턴.\n",
    "        reverse=True end부터 start까지 증가하는 부분의 인덱스들을 리턴\"\"\"\n",
    "        if not reverse:\n",
    "            stack = [start]\n",
    "        else:\n",
    "            stack = [end]\n",
    "        for i in range(1, end-start+1):\n",
    "            now_ind = (1-reverse)*(start+i) + reverse*(end - i)\n",
    "            now_val = H[now_ind]\n",
    "            if H[stack[-1]] <= now_val:\n",
    "                stack.append(now_ind)\n",
    "            else:\n",
    "                while stack and H[stack[-1]] > now_val:\n",
    "                    stack.pop()\n",
    "                stack.append(now_ind)\n",
    "        return stack\n",
    "\n",
    "    def merge(left : list, right : list, start:int, end:int)->None:\n",
    "        \"\"\"투 포인터 사용. left와 right를 합쳤을 때 생기는 가장 큰 직사각형 넓이 갱신\n",
    "        in - left : 오름차순인 직사각형의 인덱스 담긴 리스트\n",
    "        - right : 내림차순인 직사각형의 인덱스가 담긴 리스트\n",
    "        out - None\"\"\"\n",
    "        p1, p2 = 0, 0\n",
    "        flag1, flag2 = True, True\n",
    "        left_wall, right_wall = start - 1, end + 1\n",
    "        while flag1 or flag2:\n",
    "            if flag2 and (not flag1 or H[left[p1]] >= H[right[p2]]): # 오른쪽이 더 작은 경우\n",
    "                height = H[right[p2]]\n",
    "                width = right_wall - left_wall - 1\n",
    "                right_wall = right[p2]\n",
    "                if p2 != len(right)-1:\n",
    "                    p2 += 1\n",
    "                else: flag2 = False\n",
    "                \n",
    "            else:\n",
    "                height = H[left[p1]]\n",
    "                width = right_wall - left_wall - 1\n",
    "                left_wall = left[p1]\n",
    "                if p1 != len(left)-1:\n",
    "                    p1 += 1\n",
    "                else: flag1 = False\n",
    "\n",
    "            area = height * width\n",
    "            if area > max_area[0]:\n",
    "                max_area[0] = area\n",
    "\n",
    "\n",
    "    def divide_n_conquer(start=0, end=n-1):\n",
    "        \"\"\"start부터 end 구간의 최대 직사각형 넓이를 갱신해줌\"\"\"\n",
    "        if start == end:\n",
    "            if max_area[0] < H[start]:\n",
    "                max_area[0] = H[start]\n",
    "        else:\n",
    "            mid = (start + end) // 2\n",
    "            divide_n_conquer(start, mid)\n",
    "            divide_n_conquer(mid+1, end)\n",
    "\n",
    "            left = find_increasing(start, mid)\n",
    "            right = find_increasing(mid+1, end, reverse=True)\n",
    "            \n",
    "            merge(left, right, start, end)\n",
    "\n",
    "    divide_n_conquer()\n",
    "    print(max_area[0])"
   ]
  },
  {
   "cell_type": "code",
   "execution_count": 107,
   "metadata": {},
   "outputs": [],
   "source": [
    "inp = list(map(int, input().split()))\n",
    "n = inp[0]\n",
    "H = inp[1:]"
   ]
  },
  {
   "cell_type": "code",
   "execution_count": 108,
   "metadata": {},
   "outputs": [
    {
     "data": {
      "text/plain": [
       "(5, [2, 8, 4, 10, 12])"
      ]
     },
     "execution_count": 108,
     "metadata": {},
     "output_type": "execute_result"
    }
   ],
   "source": [
    "n, H"
   ]
  },
  {
   "cell_type": "code",
   "execution_count": 120,
   "metadata": {},
   "outputs": [
    {
     "name": "stdout",
     "output_type": "stream",
     "text": [
      "left, right [0] [1]\n",
      "False True p1,p2: 0 0 // left_ind, right_ind: 0 1 // 2 2\n",
      "False False p1,p2: 0 0 // left_ind, right_ind: 0 1 // 8 1\n",
      "left, right [0, 1] [2]\n",
      "True True p1,p2: 1 0 // left_ind, right_ind: 1 2 // 2 3\n",
      "True False p1,p2: 1 0 // left_ind, right_ind: 1 2 // 4 2\n",
      "False False p1,p2: 1 0 // left_ind, right_ind: 1 2 // 8 1\n",
      "left, right [3] [4]\n",
      "False True p1,p2: 0 0 // left_ind, right_ind: 3 4 // 10 2\n",
      "False False p1,p2: 0 0 // left_ind, right_ind: 3 4 // 12 1\n",
      "left, right [0, 2] [3]\n",
      "True True p1,p2: 1 0 // left_ind, right_ind: 2 3 // 2 5\n",
      "False True p1,p2: 1 0 // left_ind, right_ind: 2 3 // 4 4\n",
      "False False p1,p2: 1 0 // left_ind, right_ind: 2 3 // 10 2\n"
     ]
    },
    {
     "data": {
      "text/plain": [
       "[20]"
      ]
     },
     "execution_count": 120,
     "metadata": {},
     "output_type": "execute_result"
    }
   ],
   "source": [
    "max_area = [0]\n",
    "\n",
    "def find_increasing(start, end, reverse=False):\n",
    "    \"\"\"start부터 end까지 증가하는 부분의 인덱스들을 리턴.\n",
    "    reverse=True end부터 start까지 증가하는 부분의 인덱스들을 리턴\"\"\"\n",
    "    if not reverse:\n",
    "        stack = [start]\n",
    "    else:\n",
    "        stack = [end]\n",
    "    for i in range(1, end-start+1):\n",
    "        now_ind = (1-reverse)*(start+i) + reverse*(end - i)\n",
    "        now_val = H[now_ind]\n",
    "        if H[stack[-1]] <= now_val:\n",
    "            stack.append(now_ind)\n",
    "        else:\n",
    "            while stack and H[stack[-1]] > now_val:\n",
    "                stack.pop()\n",
    "            stack.append(now_ind)\n",
    "    return stack\n",
    "\n",
    "def merge(left : list, right : list, start:int, end:int)->None:\n",
    "    \"\"\"투 포인터 사용. left와 right를 합쳤을 때 생기는 가장 큰 직사각형 넓이 갱신\n",
    "    in - left : 오름차순인 직사각형의 인덱스 담긴 리스트\n",
    "       - right : 내림차순인 직사각형의 인덱스가 담긴 리스트\n",
    "    out - None\"\"\"\n",
    "    p1, p2 = 0, 0\n",
    "    flag1, flag2 = True, True\n",
    "    left_wall, right_wall = start - 1, end + 1\n",
    "    print('left, right', left, right)\n",
    "    while flag1 or flag2:\n",
    "        if flag2 and (not flag1 or H[left[p1]] >= H[right[p2]]): # 오른쪽이 더 작은 경우\n",
    "            height = H[right[p2]]\n",
    "            width = right_wall - left_wall - 1\n",
    "            right_wall = right[p2]\n",
    "            if p2 != len(right)-1:\n",
    "                p2 += 1\n",
    "            else: flag2 = False\n",
    "            \n",
    "        else:\n",
    "            height = H[left[p1]]\n",
    "            width = right_wall - left_wall - 1\n",
    "            left_wall = left[p1]\n",
    "            if p1 != len(left)-1:\n",
    "                p1 += 1\n",
    "            else: flag1 = False\n",
    "\n",
    "        area = height * width\n",
    "        print(flag1, flag2, 'p1,p2:', p1, p2, '//', 'left_ind, right_ind:', left[p1], right[p2], '//', height, width)\n",
    "        if area > max_area[0]:\n",
    "            max_area[0] = area\n",
    "\n",
    "\n",
    "def divide_n_conquer(start=0, end=n-1):\n",
    "    \"\"\"start부터 end 구간의 최대 직사각형 넓이를 갱신해줌\"\"\"\n",
    "    if start == end:\n",
    "        if max_area[0] < H[start]:\n",
    "            max_area[0] = H[start]\n",
    "    else:\n",
    "        mid = (start + end) // 2\n",
    "        divide_n_conquer(start, mid)\n",
    "        divide_n_conquer(mid+1, end)\n",
    "\n",
    "        left = find_increasing(start, mid)\n",
    "        right = find_increasing(mid+1, end, reverse=True)\n",
    "        \n",
    "        merge(left, right, start, end)\n",
    "\n",
    "divide_n_conquer()\n",
    "max_area"
   ]
  },
  {
   "cell_type": "code",
   "execution_count": 121,
   "metadata": {},
   "outputs": [
    {
     "data": {
      "text/plain": [
       "(5, [2, 8, 4, 10, 12])"
      ]
     },
     "execution_count": 121,
     "metadata": {},
     "output_type": "execute_result"
    }
   ],
   "source": [
    "n, H"
   ]
  },
  {
   "cell_type": "code",
   "execution_count": 117,
   "metadata": {},
   "outputs": [
    {
     "data": {
      "text/plain": [
       "[0, 2]"
      ]
     },
     "execution_count": 117,
     "metadata": {},
     "output_type": "execute_result"
    }
   ],
   "source": [
    "def find_increasing(start, end, reverse=False):\n",
    "    \"\"\"start부터 end까지 증가하는 부분의 인덱스들을 리턴.\n",
    "    reverse=True end부터 start까지 증가하는 부분의 인덱스들을 리턴\"\"\"\n",
    "    if not reverse:\n",
    "        stack = [start]\n",
    "    else:\n",
    "        stack = [end]\n",
    "    for i in range(1, end-start+1):\n",
    "        now_ind = (1-reverse)*(start+i) + reverse*(end - i)\n",
    "        now_val = H[now_ind]\n",
    "        if H[stack[-1]] <= now_val:\n",
    "            stack.append(now_ind)\n",
    "        else:\n",
    "            while stack and H[stack[-1]] > now_val:\n",
    "                stack.pop()\n",
    "            stack.append(now_ind)\n",
    "    return stack\n",
    "\n",
    "find_increasing(0, mid)  \n",
    "# for i in find_increasing(2, 3, reverse=False):\n",
    "#     print(H[i])"
   ]
  },
  {
   "cell_type": "code",
   "execution_count": 118,
   "metadata": {},
   "outputs": [],
   "source": [
    "def merge(left : list, right : list, start:int, end:int)->None:\n",
    "    \"\"\"투 포인터 사용. left와 right를 합쳤을 때 생기는 가장 큰 직사각형 넓이 갱신\n",
    "    in - left : 오름차순인 직사각형의 인덱스 담긴 리스트\n",
    "       - right : 내림차순인 직사각형의 인덱스가 담긴 리스트\n",
    "    out - None\"\"\"\n",
    "    p1, p2 = 0, 0\n",
    "    flag1, flag2 = True, True\n",
    "    left_wall, right_wall = start - 1, end + 1\n",
    "    print('left, right', left, right)\n",
    "    while flag1 or flag2:\n",
    "        if flag2 and (not flag1 or H[left[p1]] >= H[right[p2]]): # 오른쪽이 더 작은 경우\n",
    "            height = H[right[p2]]\n",
    "            width = right_wall - left_wall - 1\n",
    "            right_wall = right[p2]\n",
    "            if p2 != len(right)-1:\n",
    "                p2 += 1\n",
    "            else: flag2 = False\n",
    "            \n",
    "        else:\n",
    "            height = H[left[p1]]\n",
    "            width = right_wall - left_wall - 1\n",
    "            left_wall = left[p1]\n",
    "            if p1 != len(left)-1:\n",
    "                p1 += 1\n",
    "            else: flag1 = False\n",
    "\n",
    "        area = height * width\n",
    "        print(flag1, flag2, 'p1,p2:', p1, p2, '//', 'left_ind, right_ind:', left[p1], right[p2], '//', height, width)\n",
    "        if area > max_area[0]:\n",
    "            max_area[0] = area\n"
   ]
  },
  {
   "cell_type": "code",
   "execution_count": 119,
   "metadata": {},
   "outputs": [
    {
     "name": "stdout",
     "output_type": "stream",
     "text": [
      "[0, 2] [3]\n",
      "left, right [0, 2] [3]\n",
      "True True p1,p2: 1 0 // left_ind, right_ind: 2 3 // 2 5\n",
      "False True p1,p2: 1 0 // left_ind, right_ind: 2 3 // 4 4\n",
      "False False p1,p2: 1 0 // left_ind, right_ind: 2 3 // 10 2\n"
     ]
    }
   ],
   "source": [
    "mid = (n-1)//2\n",
    "print(find_increasing(0, mid), find_increasing(mid+1, n-1, reverse=True))\n",
    "merge(find_increasing(0, mid), find_increasing(mid+1, n-1, reverse=True), 0, n-1)"
   ]
  },
  {
   "cell_type": "code",
   "execution_count": 113,
   "metadata": {},
   "outputs": [
    {
     "data": {
      "text/plain": [
       "([2, 8, 4, 10, 12], 2, [40])"
      ]
     },
     "execution_count": 113,
     "metadata": {},
     "output_type": "execute_result"
    }
   ],
   "source": [
    "H, mid, max_area"
   ]
  },
  {
   "cell_type": "code",
   "execution_count": 114,
   "metadata": {},
   "outputs": [
    {
     "data": {
      "text/plain": [
       "[0]"
      ]
     },
     "execution_count": 114,
     "metadata": {},
     "output_type": "execute_result"
    }
   ],
   "source": [
    "find_increasing(0, mid)"
   ]
  }
 ],
 "metadata": {
  "interpreter": {
   "hash": "8fac594bfae6525c0c41b4041d2d72effa188cc8ead05f81b1fab2bb098927fb"
  },
  "kernelspec": {
   "display_name": "Python 3.8.8 ('base')",
   "language": "python",
   "name": "python3"
  },
  "language_info": {
   "codemirror_mode": {
    "name": "ipython",
    "version": 3
   },
   "file_extension": ".py",
   "mimetype": "text/x-python",
   "name": "python",
   "nbconvert_exporter": "python",
   "pygments_lexer": "ipython3",
   "version": "3.9.5"
  },
  "orig_nbformat": 4
 },
 "nbformat": 4,
 "nbformat_minor": 2
}
