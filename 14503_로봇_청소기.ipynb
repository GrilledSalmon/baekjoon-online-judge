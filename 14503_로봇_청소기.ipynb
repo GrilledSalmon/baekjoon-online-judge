{
 "cells": [
  {
   "cell_type": "markdown",
   "metadata": {},
   "source": [
    "# 14503 로봇 청소기\n",
    "220506\n",
    "- 소감 : x,y가 아닌 r,c 좌표계에서의 방향 벡터를 다루느라 실수를 많이 함. 그래도 r,c에서 벡터 다루는 걸 해보니 다음엔 실수 덜 하겠다 싶긴 하다. 아이디어는 금방 떠올랐는데 실수 잡느라 오래 걸림\n",
    "- 소요 시간 : 48분\n",
    "- 유형 : 구현, 시뮬레이션"
   ]
  },
  {
   "cell_type": "code",
   "execution_count": 1,
   "metadata": {},
   "outputs": [],
   "source": [
    "import sys\n",
    "# input = sys.stdin.readline\n",
    "N, M = map(int, input().split())\n",
    "r, c, d = map(int, input().split())\n",
    "wall = [list(map(int, input().split())) for _ in range(N)]\n",
    "\n",
    "direction = ((-1, 0), (0, 1), (1, 0), (-0, -1))[d] # 북, 동, 남, 서\n",
    "cleaned = [[0]*M for _ in range(N)]\n",
    "cnt = 0\n",
    "\n",
    "def rotate_left(direction):\n",
    "    if direction == (-1, 0):\n",
    "        return (0, -1)\n",
    "    elif direction == (0, 1):\n",
    "        return (-1, 0)\n",
    "    elif direction == (1, 0):\n",
    "        return (0, 1)\n",
    "    else:\n",
    "        return (1, 0)\n",
    "\n",
    "while True:\n",
    "    if not cleaned[r][c]:\n",
    "        cleaned[r][c] = 1\n",
    "        cnt += 1\n",
    "\n",
    "    for _ in range(4):\n",
    "        direction = rotate_left(direction)\n",
    "        new_r, new_c = r + direction[0], c + direction[1]\n",
    "        if not cleaned[new_r][new_c] and not wall[new_r][new_c]:\n",
    "            r, c = new_r, new_c # 전진\n",
    "            break\n",
    "    else:\n",
    "        new_r, new_c = r - direction[0], c - direction[1]\n",
    "        if wall[new_r][new_c]:\n",
    "            break\n",
    "        else:\n",
    "            r, c = new_r, new_c # 후진\n",
    "\n",
    "print(cnt)"
   ]
  },
  {
   "cell_type": "code",
   "execution_count": 2,
   "metadata": {},
   "outputs": [
    {
     "data": {
      "text/plain": [
       "(3, 3, 1, 1, 0, [[1, 1, 1], [1, 0, 1], [1, 1, 1]])"
      ]
     },
     "execution_count": 2,
     "metadata": {},
     "output_type": "execute_result"
    }
   ],
   "source": [
    "N, M, r, c, d, wall"
   ]
  },
  {
   "cell_type": "code",
   "execution_count": 7,
   "metadata": {},
   "outputs": [
    {
     "name": "stdout",
     "output_type": "stream",
     "text": [
      "1\n"
     ]
    }
   ],
   "source": [
    "direction = ((0, -1), (1, 0), (0, 1), (-1, 0))[d-1] # 북, 동, 남, 서\n",
    "cleaned = [[0]*M for _ in range(N)]\n",
    "cnt = 0\n",
    "\n",
    "def rotate_left(direction):\n",
    "    return (direction[1], -direction[0])\n",
    "\n",
    "def rotate_right(direction):\n",
    "    return (-direction[1], direction[0])\n",
    "\n",
    "while True:\n",
    "    cleaned[r][c] = 1\n",
    "    cnt += 1\n",
    "    for _ in range(4):\n",
    "        direction = rotate_left(direction)\n",
    "        new_r, new_c = r + direction[0], c + direction[1]\n",
    "        if not cleaned[new_r][new_c] and not wall[new_r][new_c]:\n",
    "            r, c = new_r, new_c # 전진\n",
    "            break\n",
    "    else:\n",
    "        new_r, new_c = r - direction[0], c - direction[1]\n",
    "        if wall[new_r][new_c]:\n",
    "            break\n",
    "        else:\n",
    "            r, c = new_r, new_c # 후진\n",
    "\n",
    "print(cnt)"
   ]
  },
  {
   "cell_type": "code",
   "execution_count": 6,
   "metadata": {},
   "outputs": [
    {
     "data": {
      "text/plain": [
       "(0, 0)"
      ]
     },
     "execution_count": 6,
     "metadata": {},
     "output_type": "execute_result"
    }
   ],
   "source": [
    "r, c"
   ]
  }
 ],
 "metadata": {
  "interpreter": {
   "hash": "8fac594bfae6525c0c41b4041d2d72effa188cc8ead05f81b1fab2bb098927fb"
  },
  "kernelspec": {
   "display_name": "Python 3.8.8 ('base')",
   "language": "python",
   "name": "python3"
  },
  "language_info": {
   "codemirror_mode": {
    "name": "ipython",
    "version": 3
   },
   "file_extension": ".py",
   "mimetype": "text/x-python",
   "name": "python",
   "nbconvert_exporter": "python",
   "pygments_lexer": "ipython3",
   "version": "3.8.8"
  },
  "orig_nbformat": 4
 },
 "nbformat": 4,
 "nbformat_minor": 2
}
