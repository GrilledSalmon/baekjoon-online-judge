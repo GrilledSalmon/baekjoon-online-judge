{
 "cells": [
  {
   "cell_type": "markdown",
   "metadata": {},
   "source": [
    "# 14382 숫자세는 양(Large)\n",
    "220705\n",
    "- 소감\n",
    "    - 예제 입력이 잘 주어져 있어서 금방 풀었습니다\n",
    "- 소요 시간 : 15분\n",
    "- 알고리즘 분류 : 구현, 시뮬레이션\n",
    "- 티어 : 실버 4"
   ]
  },
  {
   "cell_type": "code",
   "execution_count": 14,
   "metadata": {},
   "outputs": [
    {
     "name": "stdout",
     "output_type": "stream",
     "text": [
      "Case #1: INSOMNIA\n",
      "Case #2: 10\n",
      "Case #3: 90\n",
      "Case #4: 110\n",
      "Case #5: 5076\n"
     ]
    }
   ],
   "source": [
    "import sys\n",
    "input = sys.stdin.readline\n",
    "\n",
    "for i in range(int(input())):\n",
    "    N = int(input())\n",
    "    if N == 0:\n",
    "        res = 'INSOMNIA'\n",
    "    else:\n",
    "        num_set = set()\n",
    "        num_set.update(set(str(N)))\n",
    "        n = N\n",
    "        while len(num_set) != 10:\n",
    "            n += N\n",
    "            num_set.update(set(str(n)))\n",
    "        res = n\n",
    "    print(f\"Case #{i+1}: {res}\")"
   ]
  },
  {
   "cell_type": "code",
   "execution_count": 6,
   "metadata": {},
   "outputs": [
    {
     "data": {
      "text/plain": [
       "{'0', '1', '2', '3', '4', '5', '6', '7', '8', '9'}"
      ]
     },
     "execution_count": 6,
     "metadata": {},
     "output_type": "execute_result"
    }
   ],
   "source": [
    "num_set"
   ]
  },
  {
   "cell_type": "code",
   "execution_count": 7,
   "metadata": {},
   "outputs": [],
   "source": [
    "s = {1, 2}\n",
    "s.update({1, 4})"
   ]
  },
  {
   "cell_type": "code",
   "execution_count": 8,
   "metadata": {},
   "outputs": [
    {
     "data": {
      "text/plain": [
       "{1, 2, 4}"
      ]
     },
     "execution_count": 8,
     "metadata": {},
     "output_type": "execute_result"
    }
   ],
   "source": [
    "s"
   ]
  },
  {
   "cell_type": "code",
   "execution_count": 10,
   "metadata": {},
   "outputs": [
    {
     "name": "stdout",
     "output_type": "stream",
     "text": [
      "{'2', '1'}\n",
      "{'2', '1', '4'}\n",
      "{'2', '8', '1', '4'}\n",
      "{'2', '6', '1', '4', '8'}\n",
      "{'2', '6', '1', '4', '3', '8'}\n",
      "{'2', '6', '1', '4', '3', '8'}\n",
      "{'4', '3', '8', '2', '1', '6'}\n",
      "{'4', '3', '8', '2', '1', '5', '6'}\n",
      "{'4', '3', '8', '2', '1', '5', '6'}\n",
      "{'4', '3', '8', '0', '2', '1', '5', '6'}\n",
      "{'4', '3', '8', '0', '2', '1', '5', '6'}\n",
      "{'4', '3', '8', '0', '2', '1', '9', '5', '6'}\n",
      "{'4', '3', '8', '0', '2', '1', '9', '5', '6'}\n",
      "{'4', '3', '8', '0', '2', '1', '9', '5', '6'}\n",
      "{'4', '3', '8', '7', '0', '2', '1', '9', '5', '6'}\n",
      "Case #1: 32768\n"
     ]
    }
   ],
   "source": [
    "N = 1\n",
    "num_set = set()\n",
    "num_set.update(set(str(N)))\n",
    "while len(num_set) != 10:\n",
    "    N += N\n",
    "    num_set.update(set(str(N)))\n",
    "    print(num_set)\n",
    "res = N\n",
    "print(f\"Case #{1}: {res}\")"
   ]
  },
  {
   "cell_type": "code",
   "execution_count": 13,
   "metadata": {},
   "outputs": [
    {
     "data": {
      "text/plain": [
       "int"
      ]
     },
     "execution_count": 13,
     "metadata": {},
     "output_type": "execute_result"
    }
   ],
   "source": [
    "type(N)"
   ]
  },
  {
   "cell_type": "code",
   "execution_count": null,
   "metadata": {},
   "outputs": [],
   "source": []
  }
 ],
 "metadata": {
  "kernelspec": {
   "display_name": "Python 3.8.8 ('base')",
   "language": "python",
   "name": "python3"
  },
  "language_info": {
   "codemirror_mode": {
    "name": "ipython",
    "version": 3
   },
   "file_extension": ".py",
   "mimetype": "text/x-python",
   "name": "python",
   "nbconvert_exporter": "python",
   "pygments_lexer": "ipython3",
   "version": "3.8.8"
  },
  "orig_nbformat": 4,
  "vscode": {
   "interpreter": {
    "hash": "f08154012ddadd8e950e6e9e035c7a7b32c136e7647e9b7c77e02eb723a8bedb"
   }
  }
 },
 "nbformat": 4,
 "nbformat_minor": 2
}
