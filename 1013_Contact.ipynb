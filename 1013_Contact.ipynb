{
 "cells": [
  {
   "cell_type": "markdown",
   "metadata": {},
   "source": [
    "# 1013 Contact\n",
    "220508\n",
    "- 소감\n",
    "    1. 고려할 조건이 상당히 많아 잦은 실수로 오래 걸림\n",
    "    2. 그것만 빼면 그렇게 어려운 문제는 아니었음\n",
    "- 소요 시간 : 1시간 8분\n",
    "- 알고리즘 분류 : 문자열, 정규 표현식\n",
    "- 티어 : 골드 5"
   ]
  },
  {
   "cell_type": "code",
   "execution_count": null,
   "metadata": {},
   "outputs": [],
   "source": [
    "import sys\n",
    "# input = sys.stdin.readline\n",
    "\n",
    "def solve(wave):\n",
    "    start = True\n",
    "    first_pattern = True\n",
    "    pattern_cnt = 0\n",
    "    for i, s in enumerate(wave):\n",
    "        if start:\n",
    "            start = False\n",
    "            if s == '0':\n",
    "                first_pattern = False\n",
    "            else:\n",
    "                first_pattern = True\n",
    "                pattern_cnt = 0\n",
    "        else:\n",
    "            if first_pattern:\n",
    "                if pattern_cnt == 0:\n",
    "                    if s == '0':\n",
    "                        pattern_cnt += 1\n",
    "                    else:\n",
    "                        return False\n",
    "                elif pattern_cnt == 1:\n",
    "                    if s == '0':\n",
    "                        pattern_cnt += 1\n",
    "                    else:\n",
    "                        return False\n",
    "                elif pattern_cnt == 2:\n",
    "                    if s == '0':\n",
    "                        continue\n",
    "                    else:\n",
    "                        pattern_cnt += 1\n",
    "                elif pattern_cnt == 3:\n",
    "                    if s == '1':\n",
    "                        pattern_cnt += 1\n",
    "                    else:\n",
    "                        if i == len(wave)-1: # 마지막인 경우\n",
    "                            return False\n",
    "                        else:\n",
    "                            if wave[i+1] == '0':\n",
    "                                return False\n",
    "                            else:\n",
    "                                first_pattern = False\n",
    "                else: # pattern_cnt == 4\n",
    "                    if s == '1':\n",
    "                        continue\n",
    "                    else:\n",
    "                        if i == len(wave)-1: # 마지막인 경우\n",
    "                            return False\n",
    "                        else:\n",
    "                            if wave[i+1] == '0':\n",
    "                                pattern_cnt = 1\n",
    "                            else:\n",
    "                                first_pattern = False\n",
    "            else: # 두 번째 패턴(01)\n",
    "                if s == '1':\n",
    "                    start = True\n",
    "                else:\n",
    "                    return False\n",
    "\n",
    "    if start:\n",
    "        return True\n",
    "    else:\n",
    "        if first_pattern and pattern_cnt >= 3:\n",
    "            return True\n",
    "        return False\n",
    "\n",
    "T = int(input())\n",
    "for _ in range(T):\n",
    "    wave = input().rstrip()\n",
    "    print(\"YES\") if solve(wave) else print(\"NO\")"
   ]
  },
  {
   "cell_type": "code",
   "execution_count": 75,
   "metadata": {},
   "outputs": [],
   "source": [
    "wave = input()"
   ]
  },
  {
   "cell_type": "code",
   "execution_count": 76,
   "metadata": {},
   "outputs": [
    {
     "data": {
      "text/plain": [
       "'01010110001101100'"
      ]
     },
     "execution_count": 76,
     "metadata": {},
     "output_type": "execute_result"
    }
   ],
   "source": [
    "wave"
   ]
  },
  {
   "cell_type": "code",
   "execution_count": 77,
   "metadata": {},
   "outputs": [
    {
     "name": "stdout",
     "output_type": "stream",
     "text": [
      "0 False False 0\n",
      "1 True False 0\n",
      "0 False False 0\n",
      "1 True False 0\n",
      "0 False False 0\n",
      "1 True False 0\n",
      "1 False True 0\n",
      "0 False True 1\n",
      "0 False True 2\n",
      "0 False True 2\n",
      "1 False True 3\n",
      "1 False True 4\n",
      "0 False False 4\n",
      "1 True False 4\n",
      "1 False True 0\n",
      "0 False True 1\n",
      "0 False True 2\n",
      "YES\n"
     ]
    }
   ],
   "source": [
    "def solve(wave):\n",
    "    start = True\n",
    "    first_pattern = True\n",
    "    pattern_cnt = 0\n",
    "    for i, s in enumerate(wave):\n",
    "        if start:\n",
    "            start = False\n",
    "            if s == '0':\n",
    "                first_pattern = False\n",
    "            else:\n",
    "                first_pattern = True\n",
    "                pattern_cnt = 0\n",
    "        else:\n",
    "            if first_pattern:\n",
    "                if pattern_cnt == 0:\n",
    "                    if s == '0':\n",
    "                        pattern_cnt += 1\n",
    "                    else:\n",
    "                        return False\n",
    "                elif pattern_cnt == 1:\n",
    "                    if s == '0':\n",
    "                        pattern_cnt += 1\n",
    "                    else:\n",
    "                        return False\n",
    "                elif pattern_cnt == 2:\n",
    "                    if s == '0':\n",
    "                        pass\n",
    "                    else:\n",
    "                        pattern_cnt += 1\n",
    "                elif pattern_cnt == 3:\n",
    "                    if s == '1':\n",
    "                        pattern_cnt += 1\n",
    "                    else:\n",
    "                        if i == len(wave)-1: # 마지막인 경우\n",
    "                            return False\n",
    "                        else:\n",
    "                            if wave[i+1] == '0':\n",
    "                                return False\n",
    "                            else:\n",
    "                                first_pattern = False\n",
    "                else: # pattern_cnt == 4\n",
    "                    if s == '1':\n",
    "                        pass\n",
    "                    else:\n",
    "                        if i == len(wave)-1: # 마지막인 경우\n",
    "                            return False\n",
    "                        else:\n",
    "                            if wave[i+1] == '0':\n",
    "                                pattern_cnt = 1\n",
    "                            else:\n",
    "                                first_pattern = False\n",
    "            else: # 두 번째 패턴(01)\n",
    "                if s == '1':\n",
    "                    start = True\n",
    "                else:\n",
    "                    return False\n",
    "        print(s, start, first_pattern, pattern_cnt)\n",
    "\n",
    "    if start:\n",
    "        return True\n",
    "    else:\n",
    "        if first_pattern and pattern_cnt >= 3:\n",
    "            return True\n",
    "        return False\n",
    "\n",
    "\n",
    "print(\"YES\") if solve(wave) else print(\"NO\")"
   ]
  },
  {
   "cell_type": "code",
   "execution_count": 74,
   "metadata": {},
   "outputs": [
    {
     "data": {
      "text/plain": [
       "'0101001'"
      ]
     },
     "execution_count": 74,
     "metadata": {},
     "output_type": "execute_result"
    }
   ],
   "source": [
    "wave"
   ]
  },
  {
   "cell_type": "markdown",
   "metadata": {},
   "source": [
    "01 10001 01 1001"
   ]
  }
 ],
 "metadata": {
  "interpreter": {
   "hash": "cf92aa13fedf815d5c8dd192b8d835913fde3e8bc926b2a0ad6cc74ef2ba3ca2"
  },
  "kernelspec": {
   "display_name": "Python 3.9.5 64-bit",
   "language": "python",
   "name": "python3"
  },
  "language_info": {
   "codemirror_mode": {
    "name": "ipython",
    "version": 3
   },
   "file_extension": ".py",
   "mimetype": "text/x-python",
   "name": "python",
   "nbconvert_exporter": "python",
   "pygments_lexer": "ipython3",
   "version": "3.9.5"
  },
  "orig_nbformat": 4
 },
 "nbformat": 4,
 "nbformat_minor": 2
}
