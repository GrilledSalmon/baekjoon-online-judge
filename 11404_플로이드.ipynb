{
 "cells": [
  {
   "cell_type": "markdown",
   "metadata": {},
   "source": [
    "# 11404 플로이드\n",
    "220402\n",
    "- 소감 : 나동빈씨 블로그 보고 대강 이해한 다음 구현하긴 했는데, 완전히 이해한 것 같진 않다.\n",
    "- 아이디어 : i노드에서 j노드로 갈 때, 기존에 갖고 있던 i→j 최단거리와 i→m→j라는 m노드를 거쳐서 가는 방법을 비교해 더 작은 쪽을 i→j에 저장한다. 이때 거쳐가는 중간 노드인 m노드를 모든 노드에 대해서 시행해준다.\n",
    "- 알고리즘 분류\n",
    "    - 그래프 이론\n",
    "    - 플로이드-와샬\n",
    "- 티어 : 골드 4"
   ]
  },
  {
   "cell_type": "code",
   "execution_count": 21,
   "metadata": {},
   "outputs": [],
   "source": [
    "import sys\n",
    "# input = sys.stdin.readline\n",
    "n, m = int(input()), int(input())\n",
    "adj_mat = [[float('inf') if i != j else 0 for i in range(n)] for j in range(n)]\n",
    "for _ in range(m):\n",
    "    a, b, c = map(int, input().split())\n",
    "    if adj_mat[a-1][b-1] > c:\n",
    "        adj_mat[a-1][b-1] = c\n",
    "\n",
    "for mid_node in range(n): # mid_node를 거쳐가는 경우\n",
    "    for start_node in range(n):\n",
    "        if start_node != mid_node: # start_node = mid_node 이거나 mid_node = end_node인 경우 어차피 아래 마지막 조건을 만족하지 못하기 때문에 빼줘도 된다. 근데 있는 게 더 빠를수도?\n",
    "            for end_node in range(n):\n",
    "                if end_node != mid_node:\n",
    "                    start_to_mid_cost = adj_mat[start_node][mid_node]\n",
    "                    mid_to_end_cost = adj_mat[mid_node][end_node]\n",
    "                    if adj_mat[start_node][end_node] > start_to_mid_cost + mid_to_end_cost:\n",
    "                        adj_mat[start_node][end_node] = start_to_mid_cost + mid_to_end_cost\n",
    "\n",
    "for row in adj_mat:\n",
    "    for i in range(n):\n",
    "        if row[i] == float('inf'):\n",
    "            row[i] = 0\n",
    "    print(' '.join(map(str, row)))"
   ]
  },
  {
   "cell_type": "code",
   "execution_count": 22,
   "metadata": {},
   "outputs": [
    {
     "data": {
      "text/plain": [
       "[[0, 2, 3, 1, 10],\n",
       " [inf, 0, inf, 2, inf],\n",
       " [8, inf, 0, 1, 1],\n",
       " [inf, inf, inf, 0, 3],\n",
       " [7, 4, inf, inf, 0]]"
      ]
     },
     "execution_count": 22,
     "metadata": {},
     "output_type": "execute_result"
    }
   ],
   "source": [
    "adj_mat"
   ]
  },
  {
   "cell_type": "code",
   "execution_count": 23,
   "metadata": {},
   "outputs": [
    {
     "name": "stdout",
     "output_type": "stream",
     "text": [
      "0 2 3 1 4\n",
      "12 0 15 2 5\n",
      "8 5 0 1 1\n",
      "10 7 13 0 3\n",
      "7 4 10 6 0\n"
     ]
    }
   ],
   "source": [
    "for mid_node in range(n): # mid_node를 거쳐가는 경우\n",
    "    for start_node in range(n):\n",
    "        if start_node != mid_node:\n",
    "            for end_node in range(n):\n",
    "                if end_node != mid_node:\n",
    "                    start_to_mid_cost = adj_mat[start_node][mid_node]\n",
    "                    mid_to_end_cost = adj_mat[mid_node][end_node]\n",
    "                    if adj_mat[start_node][end_node] > start_to_mid_cost + mid_to_end_cost:\n",
    "                        adj_mat[start_node][end_node] = start_to_mid_cost + mid_to_end_cost\n",
    "for row in adj_mat:\n",
    "    print(' '.join(map(str, row)))"
   ]
  }
 ],
 "metadata": {
  "interpreter": {
   "hash": "8fac594bfae6525c0c41b4041d2d72effa188cc8ead05f81b1fab2bb098927fb"
  },
  "kernelspec": {
   "display_name": "Python 3.8.8 ('base')",
   "language": "python",
   "name": "python3"
  },
  "language_info": {
   "codemirror_mode": {
    "name": "ipython",
    "version": 3
   },
   "file_extension": ".py",
   "mimetype": "text/x-python",
   "name": "python",
   "nbconvert_exporter": "python",
   "pygments_lexer": "ipython3",
   "version": "3.8.8"
  },
  "orig_nbformat": 4
 },
 "nbformat": 4,
 "nbformat_minor": 2
}
