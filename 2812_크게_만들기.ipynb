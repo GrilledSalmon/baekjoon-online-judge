{
 "cells": [
  {
   "cell_type": "markdown",
   "metadata": {},
   "source": [
    "# 2812 크게 만들기\n",
    "220409\n",
    "- 소감 : 처음으로 파이썬에서 1등찍음 ㄷㄷ 푸는데 그렇게 오래 걸리진 않음\n",
    "- 알고리즘 분류\n",
    "    - 자료 구조\n",
    "    - 그리디 알고리즘\n",
    "    - 스택\n",
    "- 티어 : 골드 4"
   ]
  },
  {
   "cell_type": "code",
   "execution_count": 1,
   "metadata": {},
   "outputs": [
    {
     "name": "stdout",
     "output_type": "stream",
     "text": [
      "775841\n"
     ]
    }
   ],
   "source": [
    "# 2812 크게 만들기\n",
    "N, K = map(int, input().split())\n",
    "num = input()\n",
    "\n",
    "stack = []\n",
    "for i, n in enumerate(num):\n",
    "    if not K:\n",
    "        print(''.join(stack) + num[i:])\n",
    "        break\n",
    "    while stack and stack[-1] < n and K:\n",
    "        stack.pop() # 작은 애 버림(큰 수가 앞으로 오도록)\n",
    "        K -= 1\n",
    "    stack.append(n)\n",
    "else:\n",
    "    if K:\n",
    "        print(''.join(stack)[:-K])\n",
    "    else:\n",
    "        print(''.join(stack))"
   ]
  }
 ],
 "metadata": {
  "interpreter": {
   "hash": "8fac594bfae6525c0c41b4041d2d72effa188cc8ead05f81b1fab2bb098927fb"
  },
  "kernelspec": {
   "display_name": "Python 3.8.8 ('base')",
   "language": "python",
   "name": "python3"
  },
  "language_info": {
   "codemirror_mode": {
    "name": "ipython",
    "version": 3
   },
   "file_extension": ".py",
   "mimetype": "text/x-python",
   "name": "python",
   "nbconvert_exporter": "python",
   "pygments_lexer": "ipython3",
   "version": "3.8.8"
  },
  "orig_nbformat": 4
 },
 "nbformat": 4,
 "nbformat_minor": 2
}
