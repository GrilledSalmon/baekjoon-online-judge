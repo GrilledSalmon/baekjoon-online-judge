{
 "cells": [
  {
   "cell_type": "markdown",
   "metadata": {},
   "source": [
    "# 2193 이친수\n",
    "220620\n",
    "- 소감\n",
    "    - 끝자리가 1인 경우와 0인 경우로 나누어 생각해 점화식을 구할 수 있었습니다.\n",
    "- 소요 시간 : 9분\n",
    "- 알고리즘 분류 : 다이나믹 프로그래밍\n",
    "- 티어 : 실버 3"
   ]
  },
  {
   "cell_type": "code",
   "execution_count": 7,
   "metadata": {},
   "outputs": [
    {
     "name": "stdout",
     "output_type": "stream",
     "text": [
      "354224848179261915075\n"
     ]
    }
   ],
   "source": [
    "N = int(input())\n",
    "\n",
    "memo = [[None]*2 for _ in range(N+1)]\n",
    "\n",
    "def dp(i, n):\n",
    "    if memo[n][i] is None:\n",
    "        if n == 1:\n",
    "            if i == 1:\n",
    "                memo[n][i] = 1\n",
    "            else:\n",
    "                memo[n][i] = 0\n",
    "        else:\n",
    "            if i == 1:\n",
    "                memo[n][i] = dp(0, n-1)\n",
    "            else:\n",
    "                memo[n][i] = dp(0, n-1) + dp(1, n-1)\n",
    "    return memo[n][i]\n",
    "print(dp(0, N) + dp(1, N))"
   ]
  },
  {
   "cell_type": "code",
   "execution_count": 2,
   "metadata": {},
   "outputs": [
    {
     "data": {
      "text/plain": [
       "3"
      ]
     },
     "execution_count": 2,
     "metadata": {},
     "output_type": "execute_result"
    }
   ],
   "source": [
    "N"
   ]
  },
  {
   "cell_type": "code",
   "execution_count": 3,
   "metadata": {},
   "outputs": [
    {
     "name": "stdout",
     "output_type": "stream",
     "text": [
      "2\n"
     ]
    }
   ],
   "source": [
    "memo = [[None]*2 for _ in range(N+1)]\n",
    "\n",
    "def dp(i, n):\n",
    "    if memo[n][i] is None:\n",
    "        if n == 1:\n",
    "            if i == 1:\n",
    "                memo[n][i] = 1\n",
    "            else:\n",
    "                memo[n][i] = 0\n",
    "        else:\n",
    "            if i == 1:\n",
    "                memo[n][i] = dp(0, n-1)\n",
    "            else:\n",
    "                memo[n][i] = dp(0, n-1) + dp(1, n-1)\n",
    "    return memo[n][i]\n",
    "print(dp(0, N) + dp(1, N))"
   ]
  },
  {
   "cell_type": "code",
   "execution_count": null,
   "metadata": {},
   "outputs": [],
   "source": []
  }
 ],
 "metadata": {
  "kernelspec": {
   "display_name": "Python 3.8.8 ('base')",
   "language": "python",
   "name": "python3"
  },
  "language_info": {
   "codemirror_mode": {
    "name": "ipython",
    "version": 3
   },
   "file_extension": ".py",
   "mimetype": "text/x-python",
   "name": "python",
   "nbconvert_exporter": "python",
   "pygments_lexer": "ipython3",
   "version": "3.8.8"
  },
  "orig_nbformat": 4,
  "vscode": {
   "interpreter": {
    "hash": "f08154012ddadd8e950e6e9e035c7a7b32c136e7647e9b7c77e02eb723a8bedb"
   }
  }
 },
 "nbformat": 4,
 "nbformat_minor": 2
}
