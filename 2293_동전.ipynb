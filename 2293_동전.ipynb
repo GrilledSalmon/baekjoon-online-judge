{
 "cells": [
  {
   "cell_type": "markdown",
   "metadata": {},
   "source": [
    "# 2293 동전\n",
    "220623"
   ]
  },
  {
   "cell_type": "code",
   "execution_count": 1,
   "metadata": {},
   "outputs": [],
   "source": [
    "import sys\n",
    "# input = sys.stdin.readline\n",
    "\n",
    "n, k = map(int, input().split())\n",
    "coins = [int(input()) for _ in range(n)]"
   ]
  },
  {
   "cell_type": "code",
   "execution_count": 2,
   "metadata": {},
   "outputs": [
    {
     "data": {
      "text/plain": [
       "(3, 10, [1, 2, 5])"
      ]
     },
     "execution_count": 2,
     "metadata": {},
     "output_type": "execute_result"
    }
   ],
   "source": [
    "n, k, coins"
   ]
  },
  {
   "cell_type": "code",
   "execution_count": 14,
   "metadata": {},
   "outputs": [
    {
     "name": "stdout",
     "output_type": "stream",
     "text": [
      "132\n"
     ]
    }
   ],
   "source": [
    "coins.sort()\n",
    "memo = [[None]*(n+1) for _ in range(k+1)]\n",
    "def dp(i, j):\n",
    "    \"\"\"사용한 최대 동전이 j일 때 i원을 만들 수 있는 경우의 수 리턴\"\"\"\n",
    "    if memo[i][j] is None:\n",
    "        if i < 0:\n",
    "            return None\n",
    "        if i == 0:\n",
    "            memo[i][j] = 1\n",
    "        else:\n",
    "            temp = 0\n",
    "            for coin in coins:\n",
    "                if i >= coin and coin >= coins[j-1]:\n",
    "                    temp += dp(i-coin, j)\n",
    "            memo[i][j] = temp\n",
    "    return memo[i][j]\n",
    "\n",
    "ans = 0\n",
    "for j in range(n+1):\n",
    "    ans += dp(k, j)\n",
    "print(ans)"
   ]
  },
  {
   "cell_type": "code",
   "execution_count": 15,
   "metadata": {},
   "outputs": [
    {
     "data": {
      "text/plain": [
       "[[1, 1, 1, 1],\n",
       " [None, 1, 0, None],\n",
       " [None, 2, 1, None],\n",
       " [None, 3, 0, None],\n",
       " [None, 5, 1, None],\n",
       " [1, 9, 1, 1],\n",
       " [None, 15, 1, None],\n",
       " [None, 26, None, None],\n",
       " [None, 44, 1, None],\n",
       " [None, 75, None, None],\n",
       " [1, 128, 2, 1]]"
      ]
     },
     "execution_count": 15,
     "metadata": {},
     "output_type": "execute_result"
    }
   ],
   "source": [
    "memo"
   ]
  },
  {
   "cell_type": "code",
   "execution_count": 3,
   "metadata": {},
   "outputs": [
    {
     "data": {
      "text/plain": [
       "(3, 10, [1, 2, 5])"
      ]
     },
     "execution_count": 3,
     "metadata": {},
     "output_type": "execute_result"
    }
   ],
   "source": [
    "n, k, coins"
   ]
  },
  {
   "cell_type": "code",
   "execution_count": 9,
   "metadata": {},
   "outputs": [],
   "source": [
    "# memo[i][j] : 0~j번까지의 동전을 가지고 만들 수 있는 i원의 경우의 수\n",
    "# memo[i][j] = memo[i-coins[j]][j-1] + memo[i-coins[j]][j] -> j번 동전을 최초로 쓰거나, 여러번 쓰거나\n",
    "memo = [[0]*(n+1) for _ in range(k+1)]\n",
    "\n",
    "# 초기화\n",
    "for j in range(k+1):\n",
    "    memo[j][0] = 1\n",
    "for i in range(n+1):\n",
    "    memo[0][i] = 0\n",
    "\n",
    "for j in range(1, n+1):\n",
    "    coin = coins[j-1]\n",
    "    for i in range(1, k+1):\n",
    "        if i-coin >= 0:\n",
    "            memo[i][j] = memo[i-coin][j-1] + memo[i-coin][j]\n"
   ]
  },
  {
   "cell_type": "code",
   "execution_count": 10,
   "metadata": {},
   "outputs": [
    {
     "data": {
      "text/plain": [
       "[[0, 0, 0, 0],\n",
       " [1, 0, 0, 0],\n",
       " [1, 1, 0, 0],\n",
       " [1, 2, 0, 0],\n",
       " [1, 3, 1, 0],\n",
       " [1, 4, 2, 0],\n",
       " [1, 5, 4, 0],\n",
       " [1, 6, 6, 0],\n",
       " [1, 7, 9, 0],\n",
       " [1, 8, 12, 1],\n",
       " [1, 9, 16, 2]]"
      ]
     },
     "execution_count": 10,
     "metadata": {},
     "output_type": "execute_result"
    }
   ],
   "source": [
    "memo"
   ]
  },
  {
   "cell_type": "code",
   "execution_count": null,
   "metadata": {},
   "outputs": [],
   "source": []
  }
 ],
 "metadata": {
  "kernelspec": {
   "display_name": "Python 3.8.8 ('base')",
   "language": "python",
   "name": "python3"
  },
  "language_info": {
   "codemirror_mode": {
    "name": "ipython",
    "version": 3
   },
   "file_extension": ".py",
   "mimetype": "text/x-python",
   "name": "python",
   "nbconvert_exporter": "python",
   "pygments_lexer": "ipython3",
   "version": "3.8.8"
  },
  "orig_nbformat": 4,
  "vscode": {
   "interpreter": {
    "hash": "f08154012ddadd8e950e6e9e035c7a7b32c136e7647e9b7c77e02eb723a8bedb"
   }
  }
 },
 "nbformat": 4,
 "nbformat_minor": 2
}
