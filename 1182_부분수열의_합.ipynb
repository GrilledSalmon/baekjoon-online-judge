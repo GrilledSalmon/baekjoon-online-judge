{
 "cells": [
  {
   "cell_type": "markdown",
   "metadata": {},
   "source": [
    "# 1182 부분수열의 합\n",
    "220407\n",
    "- 알고리즘 분류\n",
    "    - 브루트포스 알고리즘\n",
    "    - 백트래킹\n",
    "- 티어 : 실버 2"
   ]
  },
  {
   "cell_type": "code",
   "execution_count": 1,
   "metadata": {},
   "outputs": [
    {
     "name": "stdout",
     "output_type": "stream",
     "text": [
      "1\n"
     ]
    }
   ],
   "source": [
    "# 1182\n",
    "N, S = map(int, input().split())\n",
    "A = tuple(map(int, input().split()))\n",
    "\n",
    "ans = [0]\n",
    "def solve(i=0, s=0):\n",
    "    if i == N:\n",
    "        if s == S:\n",
    "            ans[0] += 1\n",
    "        return\n",
    "    solve(i+1, s+A[i])\n",
    "    solve(i+1, s)\n",
    "solve()\n",
    "print(ans[0]) if S else print(ans[0]-1)"
   ]
  },
  {
   "cell_type": "code",
   "execution_count": null,
   "metadata": {},
   "outputs": [],
   "source": []
  }
 ],
 "metadata": {
  "interpreter": {
   "hash": "8fac594bfae6525c0c41b4041d2d72effa188cc8ead05f81b1fab2bb098927fb"
  },
  "kernelspec": {
   "display_name": "Python 3.8.8 ('base')",
   "language": "python",
   "name": "python3"
  },
  "language_info": {
   "codemirror_mode": {
    "name": "ipython",
    "version": 3
   },
   "file_extension": ".py",
   "mimetype": "text/x-python",
   "name": "python",
   "nbconvert_exporter": "python",
   "pygments_lexer": "ipython3",
   "version": "3.8.8"
  },
  "orig_nbformat": 4
 },
 "nbformat": 4,
 "nbformat_minor": 2
}
