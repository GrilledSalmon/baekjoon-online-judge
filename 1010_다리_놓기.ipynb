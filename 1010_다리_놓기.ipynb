{
 "cells": [
  {
   "cell_type": "markdown",
   "metadata": {},
   "source": [
    "# 1010 다리 놓기\n",
    "220106\n",
    "- 소감 : 쉬운 문제인데 손으로 경우의 수 구해서 하려다보니 오래 걸렸다..\n",
    "- 알고리즘 유형\n",
    "    - 수학\n",
    "    - 다이나믹 프로그래밍\n",
    "    - 조합론\n",
    "- 티어 : 실버 5"
   ]
  },
  {
   "cell_type": "code",
   "execution_count": 4,
   "metadata": {},
   "outputs": [
    {
     "name": "stdout",
     "output_type": "stream",
     "text": [
      "1\n",
      "5\n",
      "67863915\n"
     ]
    }
   ],
   "source": [
    "def facto(n):\n",
    "    if n <= 1:\n",
    "        return 1\n",
    "    return n * facto(n - 1)\n",
    "\n",
    "for _ in range(int(input())):\n",
    "    N, M = map(int, input().split())\n",
    "    print(facto(M) // (facto(N) * facto(M - N)))"
   ]
  },
  {
   "cell_type": "code",
   "execution_count": null,
   "metadata": {},
   "outputs": [],
   "source": []
  }
 ],
 "metadata": {
  "interpreter": {
   "hash": "c798a043d5b26db4ea8dc684fe25ec244835432adc5539bce2de618403b1d63c"
  },
  "kernelspec": {
   "display_name": "Python 3.8.5 64-bit ('base': conda)",
   "language": "python",
   "name": "python3"
  },
  "language_info": {
   "codemirror_mode": {
    "name": "ipython",
    "version": 3
   },
   "file_extension": ".py",
   "mimetype": "text/x-python",
   "name": "python",
   "nbconvert_exporter": "python",
   "pygments_lexer": "ipython3",
   "version": "3.8.5"
  },
  "orig_nbformat": 4
 },
 "nbformat": 4,
 "nbformat_minor": 2
}
