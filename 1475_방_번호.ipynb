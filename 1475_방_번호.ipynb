{
 "cells": [
  {
   "cell_type": "markdown",
   "metadata": {},
   "source": [
    "# 1475 방 번호\n",
    "220325\n",
    "- 알고리즘 분류\n",
    "    - 구현\n",
    "- 티어 : 실버 5"
   ]
  },
  {
   "cell_type": "code",
   "execution_count": 19,
   "metadata": {},
   "outputs": [
    {
     "name": "stdout",
     "output_type": "stream",
     "text": [
      "6\n"
     ]
    }
   ],
   "source": [
    "from collections import Counter\n",
    "N = input()\n",
    "cnt_dic = Counter(N)\n",
    "six_nine_cnt = cnt_dic['6'] + cnt_dic['9']\n",
    "cnt_dic['6'] , cnt_dic['9'] = 0, 0\n",
    "print(max([max(cnt_dic.values()), six_nine_cnt//2 + six_nine_cnt%2]))"
   ]
  },
  {
   "cell_type": "code",
   "execution_count": 16,
   "metadata": {},
   "outputs": [
    {
     "name": "stdout",
     "output_type": "stream",
     "text": [
      "2\n"
     ]
    }
   ],
   "source": [
    "from collections import Counter\n",
    "cnt_dic = Counter(N)\n",
    "six_nine_cnt = cnt_dic['6'] + cnt_dic['9']\n",
    "cnt_dic['6'] , cnt_dic['9'] = 0, 0\n",
    "print(max([max(cnt_dic.values()), six_nine_cnt//2 + six_nine_cnt%2]))"
   ]
  },
  {
   "cell_type": "code",
   "execution_count": 9,
   "metadata": {},
   "outputs": [
    {
     "data": {
      "text/plain": [
       "Counter({'4': 7, '8': 4, '9': 0, '6': 0, '3': 3, '5': 3, '1': 2, '2': 1})"
      ]
     },
     "execution_count": 9,
     "metadata": {},
     "output_type": "execute_result"
    }
   ],
   "source": [
    "cnt_dic"
   ]
  }
 ],
 "metadata": {
  "interpreter": {
   "hash": "c798a043d5b26db4ea8dc684fe25ec244835432adc5539bce2de618403b1d63c"
  },
  "kernelspec": {
   "display_name": "Python 3.8.5 ('base')",
   "language": "python",
   "name": "python3"
  },
  "language_info": {
   "codemirror_mode": {
    "name": "ipython",
    "version": 3
   },
   "file_extension": ".py",
   "mimetype": "text/x-python",
   "name": "python",
   "nbconvert_exporter": "python",
   "pygments_lexer": "ipython3",
   "version": "3.8.5"
  },
  "orig_nbformat": 4
 },
 "nbformat": 4,
 "nbformat_minor": 2
}
