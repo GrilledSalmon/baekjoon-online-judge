{
 "cells": [
  {
   "cell_type": "markdown",
   "metadata": {},
   "source": [
    "# 15685 드래곤 커브\n",
    "220516\n",
    "- 소감\n",
    "    - 좌표의 회전변환과 평행이동을 활용해 문제를 풀었습니다.\n",
    "    - 차분하게 푼 덕분에 큰 실수 없이 풀 수 있었던 것 같습니다.\n",
    "    - 배열의 특성 때문인지 행렬처럼 아래로 내려가는 게 y가 증가하는 방향인 경우가 많은데 이런 경우의 회전변환을 알아야 하는 경우가 꽤 많아 개념을 좀 정리해놓아야 할 것 같습니다.\n",
    "- 소요 시간 : 49분\n",
    "- 알고리즘 분류 : 구현, 시뮬레이션\n",
    "- 티어 : 골드 4"
   ]
  },
  {
   "cell_type": "code",
   "execution_count": 18,
   "metadata": {},
   "outputs": [],
   "source": [
    "import sys\n",
    "# input = sys.stdin.readline\n",
    "\n",
    "def parallel_translation(a, p, reverse=False):\n",
    "    \"\"\"a점을 p벡터만큼 평행이동 reverse True면 p벡터의 음의 방향으로\"\"\"\n",
    "    if reverse:\n",
    "        return (a[0]-p[0], a[1]-p[1])\n",
    "    return (a[0]+p[0], a[1]+p[1])\n",
    "\n",
    "def rotate(a):\n",
    "    \"\"\"a점을 시계방향으로 90도 회전\"\"\"\n",
    "    return -a[1], a[0]\n",
    "\n",
    "def d_to_direction(d):\n",
    "    if d == 0:\n",
    "        return (1, 0)\n",
    "    elif d == 1:\n",
    "        return (0, -1)\n",
    "    elif d == 2:\n",
    "        return (-1, 0)\n",
    "    else:\n",
    "        return (0, 1)\n",
    "\n",
    "scale = 101\n",
    "visited = [[0]*scale for _ in range(scale)]\n",
    "\n",
    "N = int(input())\n",
    "for _ in range(N):\n",
    "    x, y, d, g = map(int, input().split())\n",
    "\n",
    "    direction = d_to_direction(d)\n",
    "    dragon = [(x, y), (x+direction[0], y+direction[1])]\n",
    "    gen = 0 # 현재 세대\n",
    "    while gen != g:\n",
    "        gen += 1\n",
    "        base_point = dragon[-1]\n",
    "        \n",
    "        for i in range(len(dragon)-2, -1, -1):\n",
    "            point = dragon[i]\n",
    "            point = parallel_translation(point, base_point, reverse=True)\n",
    "            point = rotate(point)\n",
    "            point = parallel_translation(point, base_point)\n",
    "            dragon.append(point)\n",
    "    \n",
    "    for x, y in dragon:\n",
    "        visited[y][x] = 1\n",
    "\n",
    "cnt = 0\n",
    "for y in range(scale-1):\n",
    "    for x in range(scale-1):\n",
    "        if visited[y][x] and visited[y][x+1] and visited[y+1][x] and visited[y+1][x+1]:\n",
    "            cnt += 1\n",
    "print(cnt)"
   ]
  },
  {
   "cell_type": "code",
   "execution_count": 20,
   "metadata": {},
   "outputs": [
    {
     "name": "stdout",
     "output_type": "stream",
     "text": [
      "4\n"
     ]
    }
   ],
   "source": [
    "cnt = 0\n",
    "for y in range(scale-1):\n",
    "    for x in range(scale-1):\n",
    "        if visited[y][x] and visited[y][x+1] and visited[y+1][x] and visited[y+1][x+1]:\n",
    "            cnt += 1\n",
    "print(cnt)"
   ]
  },
  {
   "cell_type": "code",
   "execution_count": 19,
   "metadata": {},
   "outputs": [
    {
     "data": {
      "text/plain": [
       "[[0, 0, 0, 0, 0, 0, 0, 0, 0, 0],\n",
       " [0, 0, 0, 1, 1, 0, 0, 0, 0, 0],\n",
       " [0, 0, 1, 1, 1, 0, 0, 0, 0, 0],\n",
       " [0, 0, 1, 1, 1, 0, 0, 0, 0, 0],\n",
       " [0, 0, 1, 1, 0, 0, 0, 0, 0, 0],\n",
       " [0, 0, 0, 0, 0, 0, 0, 0, 0, 0],\n",
       " [0, 0, 0, 0, 0, 0, 0, 0, 0, 0],\n",
       " [0, 0, 0, 0, 0, 0, 0, 0, 0, 0],\n",
       " [0, 0, 0, 0, 0, 0, 0, 0, 0, 0],\n",
       " [0, 0, 0, 0, 0, 0, 0, 0, 0, 0]]"
      ]
     },
     "execution_count": 19,
     "metadata": {},
     "output_type": "execute_result"
    }
   ],
   "source": [
    "visited"
   ]
  },
  {
   "cell_type": "code",
   "execution_count": 10,
   "metadata": {},
   "outputs": [
    {
     "data": {
      "text/plain": [
       "(0, 0, 0, 3)"
      ]
     },
     "execution_count": 10,
     "metadata": {},
     "output_type": "execute_result"
    }
   ],
   "source": [
    "x, y, d, g = map(int, input().split())\n",
    "x, y, d, g"
   ]
  },
  {
   "cell_type": "code",
   "execution_count": 16,
   "metadata": {},
   "outputs": [
    {
     "name": "stdout",
     "output_type": "stream",
     "text": [
      "3\n",
      "5\n",
      "9\n"
     ]
    }
   ],
   "source": [
    "def parallel_translation(a, p, reverse=False):\n",
    "    \"\"\"a점을 p벡터만큼 평행이동 reverse True면 p벡터의 음의 방향으로\"\"\"\n",
    "    if reverse:\n",
    "        return (a[0]-p[0], a[1]-p[1])\n",
    "    return (a[0]+p[0], a[1]+p[1])\n",
    "\n",
    "def rotate(a):\n",
    "    \"\"\"a점을 시계방향으로 90도 회전\"\"\"\n",
    "    return -a[1], a[0]\n",
    "\n",
    "def d_to_direction(d):\n",
    "    if d == 0:\n",
    "        return (1, 0)\n",
    "    elif d == 1:\n",
    "        return (0, -1)\n",
    "    elif d == 2:\n",
    "        return (-1, 0)\n",
    "    else:\n",
    "        return (0, 1)\n",
    "\n",
    "direction = d_to_direction(d)\n",
    "dragon = [(x, y), (x+direction[0], y+direction[1])]\n",
    "gen = 0 # 현재 세대\n",
    "while gen != g:\n",
    "    gen += 1\n",
    "    base_point = dragon[-1]\n",
    "    \n",
    "    for i in range(len(dragon)-2, -1, -1):\n",
    "        point = dragon[i]\n",
    "        point = parallel_translation(point, base_point, reverse=True)\n",
    "        point = rotate(point)\n",
    "        point = parallel_translation(point, base_point)\n",
    "        dragon.append(point)\n",
    "\n",
    "\n"
   ]
  },
  {
   "cell_type": "code",
   "execution_count": 17,
   "metadata": {},
   "outputs": [
    {
     "data": {
      "text/plain": [
       "[(0, 0),\n",
       " (1, 0),\n",
       " (1, -1),\n",
       " (0, -1),\n",
       " (0, -2),\n",
       " (-1, -2),\n",
       " (-1, -1),\n",
       " (-2, -1),\n",
       " (-2, -2)]"
      ]
     },
     "execution_count": 17,
     "metadata": {},
     "output_type": "execute_result"
    }
   ],
   "source": [
    "dragon"
   ]
  },
  {
   "cell_type": "code",
   "execution_count": null,
   "metadata": {},
   "outputs": [],
   "source": []
  }
 ],
 "metadata": {
  "interpreter": {
   "hash": "f08154012ddadd8e950e6e9e035c7a7b32c136e7647e9b7c77e02eb723a8bedb"
  },
  "kernelspec": {
   "display_name": "Python 3.8.8 ('base')",
   "language": "python",
   "name": "python3"
  },
  "language_info": {
   "codemirror_mode": {
    "name": "ipython",
    "version": 3
   },
   "file_extension": ".py",
   "mimetype": "text/x-python",
   "name": "python",
   "nbconvert_exporter": "python",
   "pygments_lexer": "ipython3",
   "version": "3.8.8"
  },
  "orig_nbformat": 4
 },
 "nbformat": 4,
 "nbformat_minor": 2
}
