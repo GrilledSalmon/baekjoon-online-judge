{
 "cells": [
  {
   "cell_type": "markdown",
   "metadata": {},
   "source": [
    "# 1267 핸드폰 요금\n",
    "211205  \n",
    "- 소감 : ㅎㅎ.. 금방 풀음\n",
    "- 알고리즘 분류\n",
    "    - 수학\n",
    "    - 사칙연산\n",
    "- 티어 : 브론즈 3\n"
   ]
  },
  {
   "cell_type": "code",
   "execution_count": 14,
   "metadata": {},
   "outputs": [],
   "source": [
    "N = int(input())\n",
    "times = list(map(int, input().split()))\n",
    "\n",
    "ys = sum(map(lambda x: x//30 + 1, times)) * 10\n",
    "ms = sum(map(lambda x: x//60 + 1, times)) * 15\n",
    "\n",
    "if ys > ms:\n",
    "    print('M', ms)\n",
    "elif ys < ms:\n",
    "    print('Y', ys)\n",
    "else:\n",
    "    print('Y', 'M', ys)"
   ]
  },
  {
   "cell_type": "code",
   "execution_count": 15,
   "metadata": {},
   "outputs": [
    {
     "name": "stdout",
     "output_type": "stream",
     "text": [
      "Y M 60\n"
     ]
    }
   ],
   "source": [
    "ys = sum(map(lambda x: x//30 + 1, times)) * 10\n",
    "ms = sum(map(lambda x: x//60 + 1, times)) * 15\n",
    "\n",
    "if ys > ms:\n",
    "    print('M', ms)\n",
    "elif ys < ms:\n",
    "    print('Y', ys)\n",
    "else:\n",
    "    print('Y', 'M', ys)"
   ]
  },
  {
   "cell_type": "code",
   "execution_count": 8,
   "metadata": {},
   "outputs": [
    {
     "name": "stdout",
     "output_type": "stream",
     "text": [
      "M 45\n"
     ]
    }
   ],
   "source": []
  },
  {
   "cell_type": "code",
   "execution_count": 3,
   "metadata": {},
   "outputs": [
    {
     "data": {
      "text/plain": [
       "6"
      ]
     },
     "execution_count": 3,
     "metadata": {},
     "output_type": "execute_result"
    }
   ],
   "source": [
    "sum(map(int, [1, 2, 3]))"
   ]
  },
  {
   "cell_type": "code",
   "execution_count": null,
   "metadata": {},
   "outputs": [],
   "source": []
  }
 ],
 "metadata": {
  "interpreter": {
   "hash": "c798a043d5b26db4ea8dc684fe25ec244835432adc5539bce2de618403b1d63c"
  },
  "kernelspec": {
   "display_name": "Python 3.8.5 64-bit ('base': conda)",
   "language": "python",
   "name": "python3"
  },
  "language_info": {
   "codemirror_mode": {
    "name": "ipython",
    "version": 3
   },
   "file_extension": ".py",
   "mimetype": "text/x-python",
   "name": "python",
   "nbconvert_exporter": "python",
   "pygments_lexer": "ipython3",
   "version": "3.8.5"
  },
  "orig_nbformat": 4
 },
 "nbformat": 4,
 "nbformat_minor": 2
}
