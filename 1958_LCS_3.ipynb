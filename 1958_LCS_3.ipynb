{
 "cells": [
  {
   "cell_type": "markdown",
   "metadata": {},
   "source": [
    "# 1958 LCS 3\n",
    "220512\n",
    "- 소감\n",
    "    - 조금 더 하면 풀 수 있을 것같다는 느낌에 시간을 너무 많이 소비함\n",
    "    - 결국 풀지 못하고 집중도가 너무 떨어져서 답을 봄\n",
    "- 소요 시간 : 2시간 +\n",
    "- 알고리즘 분류 : 다이나믹 프로그래밍\n",
    "- 티어 : 골드 3"
   ]
  },
  {
   "cell_type": "code",
   "execution_count": 46,
   "metadata": {},
   "outputs": [
    {
     "name": "stdout",
     "output_type": "stream",
     "text": [
      "3\n"
     ]
    }
   ],
   "source": [
    "S1, S2, S3 = input(), input(), input()\n",
    "\n",
    "memo = [[[0]*(len(S3)+1) for _ in range(len(S2)+1)] for _ in range(len(S1)+1)]\n",
    "maxi = 0\n",
    "\n",
    "for i in range(len(S1)):\n",
    "    s1 = S1[i]\n",
    "    for j in range(len(S2)):\n",
    "        s2 = S2[j]\n",
    "        for k in range(len(S3)):\n",
    "            s3 = S3[k]\n",
    "            if s1 == s2 == s3:\n",
    "                memo[i][j][k] = memo[i-1][j-1][k-1] + 1\n",
    "                maxi = max(maxi, memo[i][j][k])\n",
    "            else:\n",
    "                memo[i][j][k] = max(memo[i-1][j][k], memo[i][j-1][k], memo[i][j][k-1])\n",
    "\n",
    "print(maxi)"
   ]
  },
  {
   "cell_type": "code",
   "execution_count": 25,
   "metadata": {},
   "outputs": [
    {
     "data": {
      "text/plain": [
       "('abef', 'abf', 'abef')"
      ]
     },
     "execution_count": 25,
     "metadata": {},
     "output_type": "execute_result"
    }
   ],
   "source": [
    "S1, S2, S3"
   ]
  },
  {
   "cell_type": "code",
   "execution_count": 24,
   "metadata": {},
   "outputs": [
    {
     "name": "stdout",
     "output_type": "stream",
     "text": [
      "1\n"
     ]
    }
   ],
   "source": [
    "memo = [[0]*len(S1) for _ in range(len(S3))]\n",
    "maxi = 0\n",
    "\n",
    "for s3 in S3:\n",
    "    for i in range(len(S2)):\n",
    "        until_maxi = 0\n",
    "        s2 = S2[i]\n",
    "        for j in range(len(S1)):\n",
    "            s1 = S1[j]\n",
    "            temp = memo[i][j]\n",
    "            if s1 == s2 == s3:\n",
    "                memo[i][j] = until_maxi + 1\n",
    "            if until_maxi < temp:\n",
    "                until_maxi = temp\n",
    "            maxi = max(maxi, temp)\n",
    "print(maxi)"
   ]
  },
  {
   "cell_type": "code",
   "execution_count": 45,
   "metadata": {},
   "outputs": [
    {
     "name": "stdout",
     "output_type": "stream",
     "text": [
      "3\n"
     ]
    }
   ],
   "source": [
    "memo = [[[0]*len(S3) for _ in range(len(S2))] for _ in range(len(S1))]\n",
    "maxi = 0\n",
    "\n",
    "for i in range(len(S1)):\n",
    "    s1 = S1[i]\n",
    "    for j in range(len(S2)):\n",
    "        s2 = S2[j]\n",
    "        for k in range(len(S3)):\n",
    "            s3 = S3[k]\n",
    "            if s1 == s2 == s3:\n",
    "                memo[i][j][k] = memo[i-1][j-1][k-1] + 1\n",
    "                maxi = max(maxi, memo[i][j][k])\n",
    "            else:\n",
    "                memo[i][j][k] = max(memo[i-1][j][k], memo[i][j-1][k], memo[i][j][k-1])\n",
    "\n",
    "print(maxi)"
   ]
  },
  {
   "cell_type": "code",
   "execution_count": 44,
   "metadata": {},
   "outputs": [
    {
     "data": {
      "text/plain": [
       "[[[1, 1, 1, 1], [1, 1, 1, 1], [1, 1, 1, 1]],\n",
       " [[1, 1, 1, 1], [1, 2, 2, 2], [1, 2, 2, 2]],\n",
       " [[1, 1, 1, 1], [1, 2, 2, 2], [1, 2, 2, 2]],\n",
       " [[1, 1, 1, 1], [1, 2, 2, 2], [1, 2, 2, 3]]]"
      ]
     },
     "execution_count": 44,
     "metadata": {},
     "output_type": "execute_result"
    }
   ],
   "source": [
    "memo"
   ]
  },
  {
   "cell_type": "code",
   "execution_count": 10,
   "metadata": {},
   "outputs": [
    {
     "name": "stdout",
     "output_type": "stream",
     "text": [
      "3\n"
     ]
    }
   ],
   "source": [
    "memo = [[[0]*len(S3) for _ in range(len(S2))] for _ in range(len(S1))]\n",
    "maxi = 0\n",
    "\n",
    "for i in range(len(S1)):\n",
    "    s1 = S1[i]\n",
    "    for j in range(len(S2)):\n",
    "        s2 = S2[j]\n",
    "        for k in range(len(S3)):\n",
    "            s3 = S3[k]\n",
    "            if s1 == s2 == s3:\n",
    "                memo[i][j][k] = memo[i-1][j-1][k-1] + 1\n",
    "                maxi = max(memo[i][j][k], maxi)\n",
    "\n",
    "print(maxi)"
   ]
  },
  {
   "cell_type": "code",
   "execution_count": null,
   "metadata": {},
   "outputs": [],
   "source": [
    "S1, S2, S3 = input(), input(), input()\n",
    "\n",
    "memo = [[[0]*len(S3) for _ in range(len(S2))] for _ in range(len(S1))]\n",
    "maxi = 0\n",
    "\n",
    "for i in range(len(S1)):\n",
    "    s1 = S1[i]\n",
    "    for j in range(len(S2)):\n",
    "        s2 = S2[j]\n",
    "        for k in range(len(S3)):\n",
    "            s3 = S3[k]\n",
    "            if s1 == s2 == s3:\n",
    "                memo[i][j][k] = memo[i-1][j-1][k-1] + 1\n",
    "                maxi = max(memo[i][j][k], maxi)\n",
    "\n",
    "print(maxi)"
   ]
  },
  {
   "cell_type": "code",
   "execution_count": 50,
   "metadata": {},
   "outputs": [
    {
     "data": {
      "text/plain": [
       "40"
      ]
     },
     "execution_count": 50,
     "metadata": {},
     "output_type": "execute_result"
    }
   ],
   "source": [
    "max(40, 20, 10)"
   ]
  },
  {
   "cell_type": "code",
   "execution_count": null,
   "metadata": {},
   "outputs": [],
   "source": []
  }
 ],
 "metadata": {
  "interpreter": {
   "hash": "f08154012ddadd8e950e6e9e035c7a7b32c136e7647e9b7c77e02eb723a8bedb"
  },
  "kernelspec": {
   "display_name": "Python 3.8.8 ('base')",
   "language": "python",
   "name": "python3"
  },
  "language_info": {
   "codemirror_mode": {
    "name": "ipython",
    "version": 3
   },
   "file_extension": ".py",
   "mimetype": "text/x-python",
   "name": "python",
   "nbconvert_exporter": "python",
   "pygments_lexer": "ipython3",
   "version": "3.8.8"
  },
  "orig_nbformat": 4
 },
 "nbformat": 4,
 "nbformat_minor": 2
}
