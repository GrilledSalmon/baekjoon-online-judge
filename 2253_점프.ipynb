{
 "cells": [
  {
   "cell_type": "markdown",
   "metadata": {},
   "source": [
    "# 2253 점프\n",
    "220425\n",
    "- 소감 : 유사 BFS로 풀었다.\n",
    "- 아이디어 : 그냥 BFS로 visited 방문처리 하면 빨리 도착한 애들이 먼저 자리를 먹어서 느린 애들이 못가는 경우가 생김. 그래서 느린 애들은 visited를 무시하고 지나갈 수 있도록 해줘야 함.\n",
    "- 알고리즘 분류\n",
    "    - 다이나믹 프로그래밍\n",
    "- 티어 : 골드 4"
   ]
  },
  {
   "cell_type": "code",
   "execution_count": 17,
   "metadata": {},
   "outputs": [],
   "source": [
    "# 2253 점프\n",
    "from collections import deque\n",
    "import sys\n",
    "# input = sys.stdin.readline\n",
    "\n",
    "N, M = map(int, input().split())\n",
    "visit_speed = [float('inf')]*(N+1) # 현재 돌을 방문한 최소 속도 저장\n",
    "for _ in range(M):\n",
    "    visit_speed[int(input())] = 1\n",
    "\n",
    "def bfs():\n",
    "    if visit_speed[2] != float('inf'): # 2번 돌이 나쁜 돌이면\n",
    "        print(-1)\n",
    "        return\n",
    "    if N == 2:\n",
    "        print(1)\n",
    "        return\n",
    "    \n",
    "    visit_speed[1], visit_speed[2] = 1, 1\n",
    "    queue = deque([(2, 1)]) # 현재 돌, 속도\n",
    "    jump = 1\n",
    "    while queue:\n",
    "        l = len(queue)\n",
    "        jump += 1\n",
    "        for _ in range(l):\n",
    "            now_stone, now_speed = queue.popleft()\n",
    "            next_speeds = [now_speed-1, now_speed, now_speed+1]\n",
    "            for next_speed in next_speeds:\n",
    "                next_stone = now_stone+next_speed\n",
    "                # 속도가 0보다 크고 현재 방문하려는 돌에 방문하는 속도가 이전에 방문했을 때 속도보다 더 작을 때만\n",
    "                if now_stone < next_stone <= N and next_speed < visit_speed[next_stone]:\n",
    "                    if next_stone == N:\n",
    "                        print(jump)\n",
    "                        return\n",
    "                    visit_speed[next_stone] = next_speed\n",
    "                    queue.append((next_stone, next_speed))\n",
    "    print(-1)\n",
    "    return\n",
    "bfs()"
   ]
  },
  {
   "cell_type": "code",
   "execution_count": 18,
   "metadata": {},
   "outputs": [
    {
     "data": {
      "text/plain": [
       "(19, 3)"
      ]
     },
     "execution_count": 18,
     "metadata": {},
     "output_type": "execute_result"
    }
   ],
   "source": [
    "N, M"
   ]
  },
  {
   "cell_type": "code",
   "execution_count": 21,
   "metadata": {},
   "outputs": [
    {
     "name": "stdout",
     "output_type": "stream",
     "text": [
      "6\n"
     ]
    }
   ],
   "source": [
    "def bfs():\n",
    "    if visit_speed[2] != float('inf'): # 2번 돌이 나쁜 돌이면\n",
    "        print(-1)\n",
    "        return\n",
    "    if N == 2:\n",
    "        print(1)\n",
    "        return\n",
    "    \n",
    "    visit_speed[1], visit_speed[2] = 1, 1\n",
    "    queue = deque([(2, 1)]) # 현재 돌, 속도\n",
    "    jump = 1\n",
    "    while queue:\n",
    "        l = len(queue)\n",
    "        jump += 1\n",
    "        for _ in range(l):\n",
    "            now_stone, now_speed = queue.popleft()\n",
    "            next_speeds = [now_speed-1, now_speed, now_speed+1]\n",
    "            for next_speed in next_speeds:\n",
    "                next_stone = now_stone+next_speed\n",
    "                # 속도가 0보다 크고 현재 방문하려는 돌에 방문하는 속도가 이전에 방문했을 때 속도보다 더 작을 때만\n",
    "                if now_stone < next_stone <= N and next_speed < visit_speed[next_stone]:\n",
    "                    if next_stone == N:\n",
    "                        print(jump)\n",
    "                        return\n",
    "                    visit_speed[next_stone] = next_speed\n",
    "                    queue.append((next_stone, next_speed))\n",
    "    print(-1)\n",
    "    return\n",
    "bfs()"
   ]
  },
  {
   "cell_type": "code",
   "execution_count": 12,
   "metadata": {},
   "outputs": [
    {
     "name": "stdout",
     "output_type": "stream",
     "text": [
      "[0, 1, 1, 1, 1, 1, 1, 1, 1, 1, 1, 1, 1, 1, 1, 1, 1, 1, 1, 0]\n",
      "6\n"
     ]
    }
   ],
   "source": [
    "from collections import deque\n",
    "visited = [0]*(N+1)\n",
    "visited[1], visited[2] = 1, 1\n",
    "for bad in bad_stones:\n",
    "    visited[bad] = 1\n",
    "\n",
    "def bfs():\n",
    "    queue = deque([(2, 1)]) # 현재 돌, 속도\n",
    "    jump = 1\n",
    "    while queue:\n",
    "        l = len(queue)\n",
    "        jump += 1\n",
    "        for _ in range(l):\n",
    "            now_stone, now_speed = queue.popleft()\n",
    "            next_speeds = [now_speed-1, now_speed, now_speed+1]\n",
    "            for next_speed in next_speeds:\n",
    "                next_stone = now_stone+next_speed\n",
    "                if now_stone < next_stone < N+1 and not visited[next_stone]:\n",
    "                    if next_stone == N:\n",
    "                        print(jump)\n",
    "                        return\n",
    "                    visited[next_stone] = 1\n",
    "                    queue.append((next_stone, next_speed))\n",
    "    print(-1)\n",
    "    return\n",
    "bfs()"
   ]
  },
  {
   "cell_type": "code",
   "execution_count": 16,
   "metadata": {},
   "outputs": [
    {
     "data": {
      "text/plain": [
       "65536"
      ]
     },
     "execution_count": 16,
     "metadata": {},
     "output_type": "execute_result"
    }
   ],
   "source": []
  }
 ],
 "metadata": {
  "interpreter": {
   "hash": "8fac594bfae6525c0c41b4041d2d72effa188cc8ead05f81b1fab2bb098927fb"
  },
  "kernelspec": {
   "display_name": "Python 3.8.8 ('base')",
   "language": "python",
   "name": "python3"
  },
  "language_info": {
   "codemirror_mode": {
    "name": "ipython",
    "version": 3
   },
   "file_extension": ".py",
   "mimetype": "text/x-python",
   "name": "python",
   "nbconvert_exporter": "python",
   "pygments_lexer": "ipython3",
   "version": "3.8.8"
  },
  "orig_nbformat": 4
 },
 "nbformat": 4,
 "nbformat_minor": 2
}
