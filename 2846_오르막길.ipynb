{
 "cells": [
  {
   "cell_type": "markdown",
   "metadata": {},
   "source": [
    "# 2846 오르막길\n",
    "220906\n",
    "- 소감\n",
    "    - 잘 구현한다.\n",
    "- 소요 시간 : 10분\n",
    "- 알고리즘 분류 : 구현\n",
    "- 티어 : 브론즈 1"
   ]
  },
  {
   "cell_type": "code",
   "execution_count": 4,
   "metadata": {},
   "outputs": [],
   "source": [
    "N = int(input())\n",
    "road = tuple(map(int, input().split()))\n",
    "\n",
    "ans = 0\n",
    "first, prev = road[0], road[0]\n",
    "\n",
    "for i in range(1, len(road)):\n",
    "    now = road[i]\n",
    "    if prev >= now:\n",
    "        ans = max(ans, prev-first)\n",
    "        first = now\n",
    "    prev = now\n",
    "ans = max(ans, prev-first)\n",
    "print(ans)"
   ]
  },
  {
   "cell_type": "code",
   "execution_count": 5,
   "metadata": {},
   "outputs": [
    {
     "data": {
      "text/plain": [
       "(5, (1, 2, 1, 4, 6))"
      ]
     },
     "execution_count": 5,
     "metadata": {},
     "output_type": "execute_result"
    }
   ],
   "source": [
    "N, road"
   ]
  },
  {
   "cell_type": "code",
   "execution_count": 7,
   "metadata": {},
   "outputs": [
    {
     "name": "stdout",
     "output_type": "stream",
     "text": [
      "5\n"
     ]
    }
   ],
   "source": [
    "ans = 0\n",
    "first, prev = road[0], road[0]\n",
    "\n",
    "for i in range(1, len(road)):\n",
    "    now = road[i]\n",
    "    if prev >= now:\n",
    "        ans = max(ans, prev-first)\n",
    "        first = now\n",
    "    prev = now\n",
    "ans = max(ans, prev-first)\n",
    "print(ans)"
   ]
  },
  {
   "cell_type": "code",
   "execution_count": null,
   "metadata": {},
   "outputs": [],
   "source": []
  }
 ],
 "metadata": {
  "kernelspec": {
   "display_name": "Python 3.8.5 ('base')",
   "language": "python",
   "name": "python3"
  },
  "language_info": {
   "codemirror_mode": {
    "name": "ipython",
    "version": 3
   },
   "file_extension": ".py",
   "mimetype": "text/x-python",
   "name": "python",
   "nbconvert_exporter": "python",
   "pygments_lexer": "ipython3",
   "version": "3.8.5"
  },
  "orig_nbformat": 4,
  "vscode": {
   "interpreter": {
    "hash": "8cc51f7a6f9663e4a057df8e9ab0b3750994a36584b90d61db68aa71b39bfa78"
   }
  }
 },
 "nbformat": 4,
 "nbformat_minor": 2
}
