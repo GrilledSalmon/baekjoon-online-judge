{
 "cells": [
  {
   "cell_type": "markdown",
   "metadata": {},
   "source": [
    "# 2342 Dance Dance Revolution\n",
    "220605\n",
    "- 소감\n",
    "    - 오늘따라 집중도 너무 안되고 DP 너무 끔찍해서 기분이가 좋지 않았으나 다행히 첫 제출에 맞아서 기분이 좀 풀렸습니다.\n",
    "    - 처음에 풀땐 그리디로 풀고자 했으나 끄적이다보니 탐욕속성이 없는 경우를 발견하고 문제를 푼지 20분 정도만에 DP라는 걸 알게되었습니다.\n",
    "    - 어제 못 풀었던 DP문제를 공부하며 tabulation(상향식)을 조금 익혔기 때문에 이번 문제도 상향식으로 접근했습니다.\n",
    "    - 효율적으로 풀지도 못하고 시간도 오래 걸렸지만 풀어낸 것에 의의를 두려고 합니다. -> 다시 보니까 2페이지에 들었네?ㅎ;\n",
    "- 소요 시간 : 2시간++\n",
    "- 알고리즘 분류 : 다이나믹 프로그래밍\n",
    "- 티어 : 골드 3"
   ]
  },
  {
   "cell_type": "code",
   "execution_count": 44,
   "metadata": {},
   "outputs": [
    {
     "data": {
      "text/plain": [
       "0"
      ]
     },
     "execution_count": 44,
     "metadata": {},
     "output_type": "execute_result"
    }
   ],
   "source": [
    "# 가운데 0, 위 1, 왼쪽 2, 아래 3, 오른쪽 4\n",
    "# 시작 시에는 두 발을 가운데에\n",
    "# 두 발이 같은 지점에 있으면 안 됨\n",
    "# 사용하는 힘 : 같은 지점 -> 1 / 중앙 -> 2 / 인접 -> 3 / 반대 -> 4\n",
    "orders = list(map(int, input().split()))\n",
    "orders.pop()\n",
    "\n",
    "# memo[i][j] i상태의 발로 0부터 j번째 order를 처리하는 데 필요한 최소 에너지\n",
    "# memo[i][j] = 왼발이 가거나 오른발이 가거나\n",
    "import sys\n",
    "MAXNUM = sys.maxsize\n",
    "memo = [[MAXNUM]*(len(orders)+1) for _ in range(25)]\n",
    "\n",
    "def foot_to_num(foot):\n",
    "    left, right = foot\n",
    "    return (1<<left) + (1<<right)\n",
    "\n",
    "def how_much_energy(before, now):\n",
    "    if before == now:\n",
    "        return 1\n",
    "    elif before == 0 or now == 0:\n",
    "        return 2\n",
    "    elif abs(before - now) == 2:\n",
    "        return 4\n",
    "    return 3\n",
    "\n",
    "prev_foots = [(0, 0)]\n",
    "memo[2][0] = 0\n",
    "for i in range(1, len(orders)+1):\n",
    "    order = orders[i-1]\n",
    "    next_foots = set()\n",
    "    for prev_foot in prev_foots:\n",
    "        prev_left, prev_right = prev_foot\n",
    "        prev_foot_num = foot_to_num(prev_foot)\n",
    "\n",
    "        #case 1 : 왼발 옮기기\n",
    "        next_foot_1 = (order, prev_right)\n",
    "        next_foot_1_num = foot_to_num(next_foot_1)\n",
    "        need_energe_1 = how_much_energy(prev_left, order)\n",
    "        if order!=prev_right and memo[next_foot_1_num][i] > memo[prev_foot_num][i-1] + need_energe_1:\n",
    "            memo[next_foot_1_num][i] = memo[prev_foot_num][i-1] + need_energe_1\n",
    "            next_foots.add(next_foot_1)\n",
    "\n",
    "        #case 2 : 오른발 옮기기\n",
    "        next_foot_2 = (prev_left, order)\n",
    "        next_foot_2_num = foot_to_num(next_foot_2)\n",
    "        need_energe_2 = how_much_energy(prev_right, order)\n",
    "        if order!=prev_left and memo[next_foot_2_num][i] > memo[prev_foot_num][i-1] + need_energe_2:\n",
    "            memo[next_foot_2_num][i] = memo[prev_foot_num][i-1] + need_energe_2\n",
    "            next_foots.add(next_foot_2)\n",
    "    prev_foots = next_foots\n",
    "\n",
    "ans = MAXNUM\n",
    "for i in range(25):\n",
    "    ans = min(ans, memo[i][-1])\n",
    "print(ans)"
   ]
  },
  {
   "cell_type": "code",
   "execution_count": 45,
   "metadata": {},
   "outputs": [
    {
     "data": {
      "text/plain": [
       "[1, 2, 2, 4]"
      ]
     },
     "execution_count": 45,
     "metadata": {},
     "output_type": "execute_result"
    }
   ],
   "source": [
    "orders"
   ]
  },
  {
   "cell_type": "code",
   "execution_count": 46,
   "metadata": {},
   "outputs": [],
   "source": [
    "NUM = 5\n",
    "adj_list = [[1, 2, 3, 4], [0], [0], [0], [0]]\n",
    "now_foot = [0, 0]\n",
    "def do_one_step(i, now_foot):\n",
    "    order = orders[i]\n",
    "    if order in now_foot:\n",
    "        return 1\n",
    "    for k in range(2):\n",
    "        if now_foot[k] == 0:\n",
    "            now_foot[k] = order\n",
    "            return 2\n",
    "    \n",
    "    \n",
    "    need_power = 2\n",
    "    visited = [0]*NUM\n",
    "    left, right = now_foot\n",
    "    visited[left] = visited[right] = 1\n"
   ]
  },
  {
   "cell_type": "code",
   "execution_count": 51,
   "metadata": {},
   "outputs": [
    {
     "name": "stdout",
     "output_type": "stream",
     "text": [
      "8\n"
     ]
    }
   ],
   "source": [
    "# memo[i][j] i상태의 발로 0부터 j번째 order를 처리하는 데 필요한 최소 에너지\n",
    "# memo[i][j] = 왼발이 가거나 오른발이 가거나\n",
    "import sys\n",
    "MAXNUM = sys.maxsize\n",
    "memo = [[MAXNUM]*(len(orders)+1) for _ in range(25)]\n",
    "\n",
    "def foot_to_num(foot):\n",
    "    left, right = foot\n",
    "    return (1<<left) + (1<<right)\n",
    "\n",
    "def how_much_energy(before, now):\n",
    "    if before == now:\n",
    "        return 1\n",
    "    elif before == 0 or now == 0:\n",
    "        return 2\n",
    "    elif abs(before - now) == 2:\n",
    "        return 4\n",
    "    return 3\n",
    "\n",
    "prev_foots = [(0, 0)]\n",
    "memo[2][0] = 0\n",
    "for i in range(1, len(orders)+1):\n",
    "    order = orders[i-1]\n",
    "    next_foots = set()\n",
    "    for prev_foot in prev_foots:\n",
    "        prev_left, prev_right = prev_foot\n",
    "        prev_foot_num = foot_to_num(prev_foot)\n",
    "\n",
    "        #case 1 : 왼발 옮기기\n",
    "        next_foot_1 = (order, prev_right)\n",
    "        next_foot_1_num = foot_to_num(next_foot_1)\n",
    "        need_energe_1 = how_much_energy(prev_left, order)\n",
    "        if order!=prev_right and memo[next_foot_1_num][i] > memo[prev_foot_num][i-1] + need_energe_1:\n",
    "            memo[next_foot_1_num][i] = memo[prev_foot_num][i-1] + need_energe_1\n",
    "            next_foots.add(next_foot_1)\n",
    "\n",
    "        #case 2 : 오른발 옮기기\n",
    "        next_foot_2 = (prev_left, order)\n",
    "        next_foot_2_num = foot_to_num(next_foot_2)\n",
    "        need_energe_2 = how_much_energy(prev_right, order)\n",
    "        if order!=prev_left and memo[next_foot_2_num][i] > memo[prev_foot_num][i-1] + need_energe_2:\n",
    "            memo[next_foot_2_num][i] = memo[prev_foot_num][i-1] + need_energe_2\n",
    "            next_foots.add(next_foot_2)\n",
    "    prev_foots = next_foots\n",
    "\n",
    "ans = MAXNUM\n",
    "for i in range(25):\n",
    "    ans = min(ans, memo[i][-1])\n",
    "print(ans)"
   ]
  },
  {
   "cell_type": "code",
   "execution_count": 48,
   "metadata": {},
   "outputs": [
    {
     "data": {
      "text/plain": [
       "2"
      ]
     },
     "execution_count": 48,
     "metadata": {},
     "output_type": "execute_result"
    }
   ],
   "source": [
    "foot_to_num((0,0))"
   ]
  },
  {
   "cell_type": "code",
   "execution_count": 49,
   "metadata": {},
   "outputs": [
    {
     "data": {
      "text/plain": [
       "[[20, 20, 20, 20, 20],\n",
       " [20, 20, 20, 20, 20],\n",
       " [0, 20, 20, 20, 20],\n",
       " [20, 2, 20, 20, 20],\n",
       " [20, 20, 20, 20, 20],\n",
       " [20, 20, 5, 6, 20],\n",
       " [20, 20, 4, 5, 20],\n",
       " [20, 20, 20, 20, 20],\n",
       " [20, 20, 20, 20, 20],\n",
       " [20, 20, 20, 20, 20],\n",
       " [20, 20, 20, 20, 20],\n",
       " [20, 20, 20, 20, 20],\n",
       " [20, 20, 20, 20, 20],\n",
       " [20, 20, 20, 20, 20],\n",
       " [20, 20, 20, 20, 20],\n",
       " [20, 20, 20, 20, 20],\n",
       " [20, 20, 20, 20, 20],\n",
       " [20, 20, 20, 20, 10],\n",
       " [20, 20, 20, 20, 9],\n",
       " [20, 20, 20, 20, 20],\n",
       " [20, 20, 20, 20, 8],\n",
       " [20, 20, 20, 20, 20],\n",
       " [20, 20, 20, 20, 20],\n",
       " [20, 20, 20, 20, 20],\n",
       " [20, 20, 20, 20, 20]]"
      ]
     },
     "execution_count": 49,
     "metadata": {},
     "output_type": "execute_result"
    }
   ],
   "source": [
    "memo"
   ]
  },
  {
   "cell_type": "code",
   "execution_count": 30,
   "metadata": {},
   "outputs": [
    {
     "name": "stdout",
     "output_type": "stream",
     "text": [
      "100000\n",
      "100000\n",
      "12\n",
      "11\n",
      "100000\n",
      "10\n",
      "100000\n",
      "100000\n",
      "100000\n",
      "100000\n",
      "100000\n",
      "100000\n",
      "100000\n",
      "100000\n",
      "100000\n",
      "100000\n",
      "100000\n",
      "10\n",
      "100000\n",
      "100000\n",
      "100000\n",
      "100000\n",
      "100000\n",
      "100000\n",
      "100000\n"
     ]
    }
   ],
   "source": [
    "for i in range(25):\n",
    "    print(memo[i][-1])"
   ]
  },
  {
   "cell_type": "code",
   "execution_count": null,
   "metadata": {},
   "outputs": [],
   "source": []
  }
 ],
 "metadata": {
  "interpreter": {
   "hash": "f08154012ddadd8e950e6e9e035c7a7b32c136e7647e9b7c77e02eb723a8bedb"
  },
  "kernelspec": {
   "display_name": "Python 3.8.8 ('base')",
   "language": "python",
   "name": "python3"
  },
  "language_info": {
   "codemirror_mode": {
    "name": "ipython",
    "version": 3
   },
   "file_extension": ".py",
   "mimetype": "text/x-python",
   "name": "python",
   "nbconvert_exporter": "python",
   "pygments_lexer": "ipython3",
   "version": "3.8.8"
  },
  "orig_nbformat": 4
 },
 "nbformat": 4,
 "nbformat_minor": 2
}
