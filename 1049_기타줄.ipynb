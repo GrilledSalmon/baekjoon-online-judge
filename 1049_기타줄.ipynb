{
 "cells": [
  {
   "cell_type": "markdown",
   "metadata": {},
   "source": [
    "# 1049 기타줄\n",
    "220110\n",
    "- 알고리즘 분류\n",
    "    - 수학\n",
    "    - 그리디 알고리즘\n",
    "- 티어 : 실버 4"
   ]
  },
  {
   "cell_type": "code",
   "execution_count": 18,
   "metadata": {},
   "outputs": [
    {
     "name": "stdout",
     "output_type": "stream",
     "text": [
      "6\n"
     ]
    }
   ],
   "source": [
    "N, M = map(int, input().split())\n",
    "\n",
    "six_list, one_list = list(), list()\n",
    "for _ in range(M):\n",
    "    six, one = map(int, input().split())\n",
    "    six_list.append(six)\n",
    "    one_list.append(one)\n",
    "six_list.sort()\n",
    "one_list.sort()\n",
    "\n",
    "ans_list = [six_list[0]*(N//6) + one_list[0]*(N%6), six_list[0]*(N//6+1), one_list[0]*N]\n",
    "\n",
    "print(min(ans_list))"
   ]
  },
  {
   "cell_type": "code",
   "execution_count": 5,
   "metadata": {},
   "outputs": [
    {
     "data": {
      "text/plain": [
       "([20, 40, 60], [4, 7, 8])"
      ]
     },
     "execution_count": 5,
     "metadata": {},
     "output_type": "execute_result"
    }
   ],
   "source": [
    "six_list, one_list"
   ]
  },
  {
   "cell_type": "code",
   "execution_count": 12,
   "metadata": {},
   "outputs": [
    {
     "name": "stdout",
     "output_type": "stream",
     "text": [
      "300\n"
     ]
    }
   ],
   "source": [
    "ans_list = [six_list[0]*(N//6) + one_list[0]*(N%6), six_list[0]*(N//6+1)]\n",
    "\n",
    "print(min(ans_list))"
   ]
  },
  {
   "cell_type": "code",
   "execution_count": null,
   "metadata": {},
   "outputs": [],
   "source": []
  }
 ],
 "metadata": {
  "interpreter": {
   "hash": "c798a043d5b26db4ea8dc684fe25ec244835432adc5539bce2de618403b1d63c"
  },
  "kernelspec": {
   "display_name": "Python 3.8.5 64-bit ('base': conda)",
   "language": "python",
   "name": "python3"
  },
  "language_info": {
   "codemirror_mode": {
    "name": "ipython",
    "version": 3
   },
   "file_extension": ".py",
   "mimetype": "text/x-python",
   "name": "python",
   "nbconvert_exporter": "python",
   "pygments_lexer": "ipython3",
   "version": "3.8.5"
  },
  "orig_nbformat": 4
 },
 "nbformat": 4,
 "nbformat_minor": 2
}
