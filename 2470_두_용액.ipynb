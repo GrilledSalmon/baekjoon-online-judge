{
 "cells": [
  {
   "cell_type": "markdown",
   "metadata": {},
   "source": [
    "# 2470 두 용액\n",
    "220408\n",
    "- 소감 : 시간도 엄청 느리진 않지만 잘 못푼듯.. 예외처리를 해줘야하는 게 많아서 구현하기 복잡함..\n",
    "- 아이디어 : 알칼리 용액과 섞었을 때 가장 가까운 용액을 찾아줌 -> 범위 안 나눠으면 걍 이걸로 구현했으면 구현은 쉬웠을 듯\n",
    "- 알고리즘 분류\n",
    "    - 정렬\n",
    "    - 이분 탐색\n",
    "    - 두 포인터\n",
    "- 티어 : 골드 5"
   ]
  },
  {
   "cell_type": "code",
   "execution_count": null,
   "metadata": {},
   "outputs": [],
   "source": [
    "# 2470 두 용액\n",
    "N = int(input())\n",
    "solution = sorted(map(int, input().split()))\n",
    "\n",
    "acid_start = 0\n",
    "for i in range(N):\n",
    "    if solution[i] >= 0:\n",
    "        acid_start = i # 산성 용액이 시작되는 위치\n",
    "        break\n",
    "\n",
    "def binary_search(target, start=acid_start):\n",
    "    \"\"\"solution에서 target과 가장 가까운 친구를 이진 탐색으로 찾아줌\"\"\"\n",
    "    end = N-1\n",
    "    while True:\n",
    "        mid = (start + end) // 2\n",
    "        val = solution[mid]\n",
    "        if val == target:\n",
    "            return target\n",
    "        elif start == end:\n",
    "            break\n",
    "        \n",
    "        if val > target:\n",
    "            end = mid\n",
    "        else:\n",
    "            start = mid + 1\n",
    "\n",
    "    if val > target:\n",
    "        if start == acid_start:\n",
    "            return val\n",
    "        return min([val, solution[start-1]], key=lambda x: abs(x-target))\n",
    "    else:\n",
    "        if start == N-1:\n",
    "            return val\n",
    "        return min([val, solution[start+1]], key=lambda x: abs(x-target))\n",
    "        \n",
    "\n",
    "if solution[0] >= 0: # 산성만 있는 경우(모두 0 이상)\n",
    "    print(solution[0], solution[1])\n",
    "elif solution[-1] <= 0: # 알칼리만 있는 경우\n",
    "    print(solution[-2], solution[-1])\n",
    "else: # 산성, 알칼리 모두 존재하는 경우\n",
    "    mini = float('inf')\n",
    "    for i in range(acid_start):\n",
    "        closest = binary_search(-solution[i])\n",
    "        mix = abs(solution[i] + closest)\n",
    "        if mix < mini:\n",
    "            mini = mix\n",
    "            ans = (solution[i], closest)\n",
    "            if mini == 0:\n",
    "                break\n",
    "    if acid_start != N-1 and solution[acid_start] + solution[acid_start+1] < mini:\n",
    "        print(solution[acid_start], solution[acid_start+1])\n",
    "    elif solution[acid_start] == 0 and abs(solution[acid_start-1]) < mini:\n",
    "        print(solution[acid_start-1], 0)\n",
    "    elif acid_start >= 2 and abs(solution[acid_start-1] + solution[acid_start-2]) < mini:\n",
    "        print(solution[acid_start-2], solution[acid_start-1])\n",
    "    else:\n",
    "        print(ans[0], ans[1])"
   ]
  }
 ],
 "metadata": {
  "interpreter": {
   "hash": "8fac594bfae6525c0c41b4041d2d72effa188cc8ead05f81b1fab2bb098927fb"
  },
  "kernelspec": {
   "display_name": "Python 3.8.8 ('base')",
   "language": "python",
   "name": "python3"
  },
  "language_info": {
   "name": "python",
   "version": "3.8.8"
  },
  "orig_nbformat": 4
 },
 "nbformat": 4,
 "nbformat_minor": 2
}
