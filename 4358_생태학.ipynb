{
 "cells": [
  {
   "cell_type": "markdown",
   "metadata": {},
   "source": [
    "# 4358 생태학\n",
    "220513\n",
    "- 소감\n",
    "    - 입력이 100만개나 들어와 이를 빠르게 처리해줘야 하는 문제였습니다.\n",
    "    - try, except는 매우 느리다는 것을 깨닫게 해준 고마운 문제였습니다..\n",
    "    - 이 문제를 풀면서 end of file, read, readline, readlines에 대해 탐구해보았습니다.\n",
    "- 소요 시간 : 2시간(46분 문제 풀이, 나머지 개념 공부)\n",
    "- 알고리즘 분류 : 자료 구조, 문자열, 해시를 사용한 집합과 맵, 트리를 사용한 집합과 맵\n",
    "- 티어 : 실버 1"
   ]
  },
  {
   "cell_type": "code",
   "execution_count": null,
   "metadata": {},
   "outputs": [],
   "source": [
    "from collections import Counter\n",
    "import sys\n",
    "# trees = sys.stdin.read().split('\\n')[:-1]\n",
    "\n",
    "num_of_tree = len(trees)\n",
    "for tree, cnt in sorted(Counter(trees).items()):\n",
    "    print((f'{tree} {round(cnt/num_of_tree*100, 4):.4f}'))"
   ]
  },
  {
   "cell_type": "code",
   "execution_count": 9,
   "metadata": {},
   "outputs": [
    {
     "name": "stdout",
     "output_type": "stream",
     "text": [
      "a 50.0000\n",
      "b 30.0000\n",
      "c 20.0000\n"
     ]
    }
   ],
   "source": [
    "from collections import Counter\n",
    "import sys\n",
    "# input = sys.stdin.readline\n",
    "trees = []\n",
    "\n",
    "for _ in range(1000000):\n",
    "    tree = input().rstrip()\n",
    "    if not tree:\n",
    "        break\n",
    "    trees.append(tree)\n",
    "\n",
    "num_of_tree = len(trees)\n",
    "for tree, cnt in sorted(Counter(trees).items()):\n",
    "    print((f'{tree} {round(cnt/num_of_tree*100, 4):.4f}'))"
   ]
  },
  {
   "cell_type": "code",
   "execution_count": 3,
   "metadata": {},
   "outputs": [
    {
     "name": "stdout",
     "output_type": "stream",
     "text": [
      "a 36.3636\n",
      "b 18.1818\n",
      "c 27.2727\n",
      "d 9.0909\n",
      "e 9.0909\n"
     ]
    }
   ],
   "source": [
    "from collections import Counter\n",
    "import sys\n",
    "# input = sys.stdin.readline\n",
    "tree_dic = {}\n",
    "num_of_tree = 0\n",
    "\n",
    "while True:\n",
    "    try:\n",
    "        inp = input().rstrip()\n",
    "        tree_dic[inp] = tree_dic.get(inp, 0) + 1 \n",
    "        num_of_tree += 1\n",
    "    except EOFError:\n",
    "        break\n",
    "\n",
    "res = []\n",
    "for tree, cnt in sorted(tree_dic.items()):\n",
    "    res.append((f'{tree} {round(cnt/num_of_tree*100, 4)}'))\n",
    "\n",
    "print('\\n'.join(res))"
   ]
  },
  {
   "cell_type": "code",
   "execution_count": null,
   "metadata": {},
   "outputs": [],
   "source": [
    "from collections import Counter\n",
    "import sys\n",
    "# input = sys.stdin.readline\n",
    "trees = []\n",
    "\n",
    "for _ in range(1000000):\n",
    "    tree = input().rstrip()\n",
    "    if not tree:\n",
    "        break\n",
    "    trees.append(tree)\n",
    "\n",
    "num_of_tree = len(trees)\n",
    "res = []\n",
    "for tree, cnt in sorted(Counter(trees).items()):\n",
    "    res.append((f'{tree} {round(cnt/num_of_tree*100, 4):.4f}'))\n",
    "\n",
    "print(' '.join(res))"
   ]
  },
  {
   "cell_type": "code",
   "execution_count": 8,
   "metadata": {},
   "outputs": [
    {
     "name": "stdout",
     "output_type": "stream",
     "text": [
      "1.0000\n"
     ]
    }
   ],
   "source": [
    "a = 1\n",
    "s = f'{a:.4f}'\n",
    "print(s)"
   ]
  },
  {
   "cell_type": "code",
   "execution_count": null,
   "metadata": {},
   "outputs": [],
   "source": []
  }
 ],
 "metadata": {
  "interpreter": {
   "hash": "cf92aa13fedf815d5c8dd192b8d835913fde3e8bc926b2a0ad6cc74ef2ba3ca2"
  },
  "kernelspec": {
   "display_name": "Python 3.9.5 64-bit",
   "language": "python",
   "name": "python3"
  },
  "language_info": {
   "codemirror_mode": {
    "name": "ipython",
    "version": 3
   },
   "file_extension": ".py",
   "mimetype": "text/x-python",
   "name": "python",
   "nbconvert_exporter": "python",
   "pygments_lexer": "ipython3",
   "version": "3.9.5"
  },
  "orig_nbformat": 4
 },
 "nbformat": 4,
 "nbformat_minor": 2
}
