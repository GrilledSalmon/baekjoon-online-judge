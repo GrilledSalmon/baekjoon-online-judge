{
 "cells": [
  {
   "cell_type": "markdown",
   "metadata": {},
   "source": [
    "# 2015 수들의 합 4\n",
    "220901\n",
    "- 소감\n",
    "    - 어제 풀다가 안 풀려서 오늘로 미뤘는데 코드도 군더더기 없고 시간도 매우 잘 나오게 풀려서(파이썬 1등) 뿌듯하네여\n",
    "    - 핵심 아이디어는 dict를 사용해 누적합의 개수를 관리하고, 현재 누적합 기준 구간합이 K가 될 수 있는 누적합(until_acc - K)의 개수를 찾아 계속 더해나가는 것\n",
    "- 소요 시간 : 잘못된 풀이의 원인을 찾는 데 걸린 시간 - 2시간, 고치고 다시푸는 데 걸린 시간 : 15분\n",
    "- 알고리즘 분류 : 자료 구조, 누적 합, 해시를 사용합 집합과 맵, 트리를 사용한 집합과 맵\n",
    "- 티어 : 골드 4"
   ]
  },
  {
   "cell_type": "code",
   "execution_count": 1,
   "metadata": {},
   "outputs": [],
   "source": [
    "N, K = map(int, input().split())\n",
    "arr = map(int, input().split())\n",
    "\n",
    "acc_cnt_dic = dict()\n",
    "acc_cnt_dic[0] = 1\n",
    "until_acc = 0\n",
    "ans = 0\n",
    "for num in arr:\n",
    "    until_acc += num\n",
    "    ans += acc_cnt_dic.get(until_acc - K, 0)\n",
    "    acc_cnt_dic[until_acc] = acc_cnt_dic.get(until_acc, 0) + 1\n",
    "\n",
    "print(ans)"
   ]
  },
  {
   "cell_type": "code",
   "execution_count": 2,
   "metadata": {},
   "outputs": [
    {
     "name": "stdout",
     "output_type": "stream",
     "text": [
      "0 3\n",
      "2 2\n",
      "{0: 3, 2: 2}\n",
      "4\n"
     ]
    }
   ],
   "source": [
    "# 이 풀이는 누적합을 빼는 순서를 고려하지 않고 모두 포함해서 틀린 풀이임\n",
    "acc_cnt_dic = dict()\n",
    "acc_cnt_dic[0] = 1\n",
    "until_acc = 0\n",
    "for num in arr:\n",
    "    until_acc += num\n",
    "    acc_cnt_dic[until_acc] = acc_cnt_dic.get(until_acc, 0) + 1\n",
    "\n",
    "ans = 0\n",
    "if K == 0:\n",
    "    for num, cnt in acc_cnt_dic.items():\n",
    "        ans += cnt * (cnt - 1)\n",
    "        print(num, cnt)\n",
    "    ans //= 2\n",
    "else:\n",
    "    for num, cnt in acc_cnt_dic.items():\n",
    "        ans += cnt * acc_cnt_dic.get(num+K, 0)\n",
    "        print(num, num+K, '///', cnt, acc_cnt_dic.get(num+K, 0))\n",
    "print(acc_cnt_dic)\n",
    "print(ans)"
   ]
  },
  {
   "cell_type": "code",
   "execution_count": 16,
   "metadata": {},
   "outputs": [
    {
     "data": {
      "text/plain": [
       "{0: 3, 2: 2}"
      ]
     },
     "execution_count": 16,
     "metadata": {},
     "output_type": "execute_result"
    }
   ],
   "source": [
    "acc_cnt_dic"
   ]
  },
  {
   "cell_type": "code",
   "execution_count": 4,
   "metadata": {},
   "outputs": [
    {
     "name": "stdout",
     "output_type": "stream",
     "text": [
      "4\n"
     ]
    }
   ],
   "source": [
    "acc_cnt_dic = dict()\n",
    "acc_cnt_dic[0] = 1\n",
    "until_acc = 0\n",
    "ans = 0\n",
    "for num in arr:\n",
    "    until_acc += num\n",
    "    ans += acc_cnt_dic.get(until_acc - K, 0)\n",
    "    acc_cnt_dic[until_acc] = acc_cnt_dic.get(until_acc, 0) + 1\n",
    "\n",
    "print(ans)"
   ]
  },
  {
   "cell_type": "code",
   "execution_count": null,
   "metadata": {},
   "outputs": [],
   "source": []
  }
 ],
 "metadata": {
  "kernelspec": {
   "display_name": "Python 3.8.5 ('base')",
   "language": "python",
   "name": "python3"
  },
  "language_info": {
   "codemirror_mode": {
    "name": "ipython",
    "version": 3
   },
   "file_extension": ".py",
   "mimetype": "text/x-python",
   "name": "python",
   "nbconvert_exporter": "python",
   "pygments_lexer": "ipython3",
   "version": "3.8.5"
  },
  "orig_nbformat": 4,
  "vscode": {
   "interpreter": {
    "hash": "8cc51f7a6f9663e4a057df8e9ab0b3750994a36584b90d61db68aa71b39bfa78"
   }
  }
 },
 "nbformat": 4,
 "nbformat_minor": 2
}
