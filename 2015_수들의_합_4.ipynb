{
 "cells": [
  {
   "cell_type": "markdown",
   "metadata": {},
   "source": [
    "# 2015 수들의 합 4\n",
    "220901\n"
   ]
  },
  {
   "cell_type": "code",
   "execution_count": 14,
   "metadata": {},
   "outputs": [],
   "source": [
    "N, K = map(int, input().split())\n",
    "arr = list(map(int, input().split()))"
   ]
  },
  {
   "cell_type": "code",
   "execution_count": 15,
   "metadata": {},
   "outputs": [
    {
     "name": "stdout",
     "output_type": "stream",
     "text": [
      "8\n"
     ]
    }
   ],
   "source": [
    "N, K = map(int, input().split())\n",
    "arr = map(int, input().split())\n",
    "\n",
    "acc_cnt_dic = dict()\n",
    "acc_cnt_dic[0] = 1\n",
    "until_acc = 0\n",
    "for num in arr:\n",
    "    until_acc += num\n",
    "    acc_cnt_dic[until_acc] = acc_cnt_dic.get(until_acc, 0) + 1\n",
    "\n",
    "ans = 0\n",
    "if K == 0:\n",
    "    for num, cnt in acc_cnt_dic.items():\n",
    "        ans += cnt * (cnt - 1)\n",
    "        print(num, cnt)\n",
    "    ans //= 2\n",
    "else:\n",
    "    for num, cnt in acc_cnt_dic.items():\n",
    "        ans += cnt * acc_cnt_dic.get(num+K, 0)\n",
    "        print(num, num+K, '///', cnt, acc_cnt_dic.get(num+K, 0))\n",
    "print(acc_cnt_dic)\n",
    "print(ans)"
   ]
  },
  {
   "cell_type": "code",
   "execution_count": 16,
   "metadata": {},
   "outputs": [
    {
     "data": {
      "text/plain": [
       "{0: 3, 2: 2}"
      ]
     },
     "execution_count": 16,
     "metadata": {},
     "output_type": "execute_result"
    }
   ],
   "source": [
    "acc_cnt_dic"
   ]
  }
 ],
 "metadata": {
  "kernelspec": {
   "display_name": "Python 3.8.5 ('base')",
   "language": "python",
   "name": "python3"
  },
  "language_info": {
   "codemirror_mode": {
    "name": "ipython",
    "version": 3
   },
   "file_extension": ".py",
   "mimetype": "text/x-python",
   "name": "python",
   "nbconvert_exporter": "python",
   "pygments_lexer": "ipython3",
   "version": "3.8.5"
  },
  "orig_nbformat": 4,
  "vscode": {
   "interpreter": {
    "hash": "8cc51f7a6f9663e4a057df8e9ab0b3750994a36584b90d61db68aa71b39bfa78"
   }
  }
 },
 "nbformat": 4,
 "nbformat_minor": 2
}
