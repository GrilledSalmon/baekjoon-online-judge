{
 "cells": [
  {
   "cell_type": "markdown",
   "metadata": {},
   "source": [
    "# 18405 경쟁적 전염\n",
    "220421\n",
    "- 소감 : 정글 week03 시험 문제. 전형적인 BFS 문제\n",
    "- 알고리즘 분류\n",
    "    - 구현\n",
    "    - 그래프 이론\n",
    "    - 그래프 탐색\n",
    "    - 너비 우선 탐색\n",
    "    - 시뮬레이션\n",
    "- 티어 : 골드 5"
   ]
  },
  {
   "cell_type": "code",
   "execution_count": 1,
   "metadata": {},
   "outputs": [
    {
     "name": "stdout",
     "output_type": "stream",
     "text": [
      "3\n"
     ]
    }
   ],
   "source": [
    "# 18405 경쟁적 전염\n",
    "from collections import deque\n",
    "import sys\n",
    "# input = sys.stdin.readline\n",
    "N, K = map(int, input().split())\n",
    "test_cylinder = [list(map(int, input().split())) for _ in range(N)]\n",
    "S, X, Y = map(int, input().split())\n",
    "X, Y = X-1, Y-1\n",
    "\n",
    "queue = []\n",
    "for row in range(N):\n",
    "    for col in range(N):\n",
    "        if test_cylinder[row][col]:\n",
    "            queue.append(((row, col), test_cylinder[row][col]))\n",
    "queue.sort(key=lambda x:x[1])\n",
    "\n",
    "queue = deque(queue)\n",
    "time = 0\n",
    "while time < S:\n",
    "    temp_queue = []\n",
    "    time += 1\n",
    "    for (row, col), covid_19 in queue:\n",
    "        for new_row, new_col in [(row+1, col), (row-1, col), (row, col+1), (row, col-1)]:\n",
    "            if 0<=new_row<N and 0<=new_col<N and not test_cylinder[new_row][new_col]:\n",
    "                temp_queue.append(((new_row, new_col), covid_19))\n",
    "                test_cylinder[new_row][new_col] = covid_19\n",
    "    queue = temp_queue\n",
    "    \n",
    "print(test_cylinder[X][Y])"
   ]
  }
 ],
 "metadata": {
  "interpreter": {
   "hash": "8fac594bfae6525c0c41b4041d2d72effa188cc8ead05f81b1fab2bb098927fb"
  },
  "kernelspec": {
   "display_name": "Python 3.8.8 ('base')",
   "language": "python",
   "name": "python3"
  },
  "language_info": {
   "codemirror_mode": {
    "name": "ipython",
    "version": 3
   },
   "file_extension": ".py",
   "mimetype": "text/x-python",
   "name": "python",
   "nbconvert_exporter": "python",
   "pygments_lexer": "ipython3",
   "version": "3.8.8"
  },
  "orig_nbformat": 4
 },
 "nbformat": 4,
 "nbformat_minor": 2
}
