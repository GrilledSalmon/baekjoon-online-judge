{
 "cells": [
  {
   "cell_type": "markdown",
   "metadata": {},
   "source": [
    "# 14425 문자열 집합\n",
    "220505\n",
    "- 소감 : 풀긴 했는데 너무 쉬운 문제였네요... 집합(set) 자료형을 사용할 줄 알면 쉽게 풀 수 있는 문제였습니다.\n",
    "- 알고리즘 분류\n",
    "    - 자료 구조\n",
    "    - 문자열\n",
    "    - 트리\n",
    "    - 해시를 사용한 집합과 맵\n",
    "    - 트리를 사용한 집합과 맵\n",
    "    - 트라이\n",
    "- 티어 : 실버 3"
   ]
  },
  {
   "cell_type": "code",
   "execution_count": 2,
   "metadata": {},
   "outputs": [
    {
     "data": {
      "text/plain": [
       "1"
      ]
     },
     "execution_count": 2,
     "metadata": {},
     "output_type": "execute_result"
    }
   ],
   "source": [
    "import sys\n",
    "# input = sys.stdin.readline\n",
    "\n",
    "N, M = map(int, input().split())\n",
    "S = {input().rstrip() for _ in range(N)}\n",
    "cnt = 0\n",
    "for _ in range(M):\n",
    "    if input().rstrip() in S:\n",
    "        cnt += 1\n",
    "\n",
    "print(cnt)"
   ]
  }
 ],
 "metadata": {
  "interpreter": {
   "hash": "8fac594bfae6525c0c41b4041d2d72effa188cc8ead05f81b1fab2bb098927fb"
  },
  "kernelspec": {
   "display_name": "Python 3.8.8 ('base')",
   "language": "python",
   "name": "python3"
  },
  "language_info": {
   "codemirror_mode": {
    "name": "ipython",
    "version": 3
   },
   "file_extension": ".py",
   "mimetype": "text/x-python",
   "name": "python",
   "nbconvert_exporter": "python",
   "pygments_lexer": "ipython3",
   "version": "3.8.8"
  },
  "orig_nbformat": 4
 },
 "nbformat": 4,
 "nbformat_minor": 2
}
