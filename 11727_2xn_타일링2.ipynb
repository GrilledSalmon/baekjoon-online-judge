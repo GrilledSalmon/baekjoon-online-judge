{
 "cells": [
  {
   "cell_type": "markdown",
   "metadata": {},
   "source": [
    "# 11727 2xn 타일링 2\n",
    "220212\n",
    "- 알고리즘 분류\n",
    "    - 다이나믹 프로그래밍\n",
    "- 티어 : 실버 2"
   ]
  },
  {
   "cell_type": "code",
   "execution_count": 17,
   "metadata": {},
   "outputs": [
    {
     "name": "stdout",
     "output_type": "stream",
     "text": [
      "7326\n"
     ]
    }
   ],
   "source": [
    "n = int(input())\n",
    "def solve(n):\n",
    "    if n < 3:\n",
    "        return [None, 1, 3][n]\n",
    "    k = 3\n",
    "    now, prev = 5, 3\n",
    "    while k != n:\n",
    "        now, prev = now+2*prev, now\n",
    "        k += 1\n",
    "    return now%10007\n",
    "print(solve(n))"
   ]
  },
  {
   "cell_type": "code",
   "execution_count": 4,
   "metadata": {},
   "outputs": [
    {
     "name": "stdout",
     "output_type": "stream",
     "text": [
      "0\n",
      "1\n",
      "2\n",
      "3\n",
      "5\n",
      "8\n",
      "13\n",
      "21\n",
      "34\n",
      "55\n"
     ]
    }
   ],
   "source": [
    "for i in range(10):\n",
    "    print(solve(i))"
   ]
  },
  {
   "cell_type": "code",
   "execution_count": 18,
   "metadata": {},
   "outputs": [
    {
     "name": "stdout",
     "output_type": "stream",
     "text": [
      "7326\n"
     ]
    }
   ],
   "source": [
    "n = int(input())\n",
    "def solve(n):\n",
    "    if n < 3:\n",
    "        return [None, 1, 3][n]\n",
    "    k = 3\n",
    "    now, prev = 5, 3\n",
    "    while k != n:\n",
    "        now, prev = (now+2*prev)%10007, now\n",
    "        k += 1\n",
    "    return now\n",
    "print(solve(n))"
   ]
  }
 ],
 "metadata": {
  "interpreter": {
   "hash": "c798a043d5b26db4ea8dc684fe25ec244835432adc5539bce2de618403b1d63c"
  },
  "kernelspec": {
   "display_name": "Python 3.8.5 ('base')",
   "language": "python",
   "name": "python3"
  },
  "language_info": {
   "codemirror_mode": {
    "name": "ipython",
    "version": 3
   },
   "file_extension": ".py",
   "mimetype": "text/x-python",
   "name": "python",
   "nbconvert_exporter": "python",
   "pygments_lexer": "ipython3",
   "version": "3.8.5"
  },
  "orig_nbformat": 4
 },
 "nbformat": 4,
 "nbformat_minor": 2
}
