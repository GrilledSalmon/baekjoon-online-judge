{
 "cells": [
  {
   "cell_type": "markdown",
   "metadata": {},
   "source": [
    "# 1991 트리 순회\n",
    "220122\n",
    "- 알고리즘 분류\n",
    "    - 트리\n",
    "    - 재귀\n",
    "- 티어 : 실버 1"
   ]
  },
  {
   "cell_type": "code",
   "execution_count": 42,
   "metadata": {},
   "outputs": [
    {
     "name": "stdout",
     "output_type": "stream",
     "text": [
      "ABDCEFG\n",
      "DBAECFG\n",
      "DBEGFCA\n"
     ]
    }
   ],
   "source": [
    "N = int(input())\n",
    "\n",
    "class Node():\n",
    "    def __init__(self, node_name) -> None:\n",
    "        self.node_name = node_name\n",
    "        self.left_child = None\n",
    "        self.right_child = None\n",
    "\n",
    "node_dic = {}\n",
    "for i in range(N):\n",
    "    node_name = chr(65+i)\n",
    "    node_dic[node_name] = Node(node_name)\n",
    "\n",
    "for _ in range(N):\n",
    "    node_name, left_child_name, right_child_name = input().split()\n",
    "    if left_child_name != '.':\n",
    "        node_dic[node_name].left_child = node_dic[left_child_name]\n",
    "    if right_child_name != '.':\n",
    "        node_dic[node_name].right_child = node_dic[right_child_name]\n",
    "\n",
    "def preorder_traverse(node = node_dic['A'], cache=[]):\n",
    "    if node:\n",
    "        cache.append(node.node_name)\n",
    "        preorder_traverse(node.left_child, cache=cache)\n",
    "        preorder_traverse(node.right_child, cache=cache)\n",
    "    return ''.join(cache)\n",
    "\n",
    "def inorder_traverse(node = node_dic['A'], cache=[]):\n",
    "    if node:\n",
    "        inorder_traverse(node.left_child, cache=cache)\n",
    "        cache.append(node.node_name)\n",
    "        inorder_traverse(node.right_child, cache=cache)\n",
    "    return ''.join(cache)\n",
    "\n",
    "def postorder_traverse(node = node_dic['A'], cache=[]):\n",
    "    if node:\n",
    "        postorder_traverse(node.left_child, cache=cache)\n",
    "        postorder_traverse(node.right_child, cache=cache)\n",
    "        cache.append(node.node_name)\n",
    "    return ''.join(cache)\n",
    "\n",
    "print(preorder_traverse())\n",
    "print(inorder_traverse())\n",
    "print(postorder_traverse())"
   ]
  },
  {
   "cell_type": "code",
   "execution_count": 40,
   "metadata": {},
   "outputs": [],
   "source": [
    "def preorder_traverse(node = node_dic['A'], cache=[]):\n",
    "    if node:\n",
    "        cache.append(node.node_name)\n",
    "        preorder_traverse(node.left_child, cache=cache)\n",
    "        preorder_traverse(node.right_child, cache=cache)\n",
    "    return ''.join(cache)\n",
    "\n",
    "def inorder_traverse(node = node_dic['A'], cache=[]):\n",
    "    if node:\n",
    "        inorder_traverse(node.left_child, cache=cache)\n",
    "        cache.append(node.node_name)\n",
    "        inorder_traverse(node.right_child, cache=cache)\n",
    "    return ''.join(cache)\n",
    "\n",
    "def postorder_traverse(node = node_dic['A'], cache=[]):\n",
    "    if node:\n",
    "        postorder_traverse(node.left_child, cache=cache)\n",
    "        postorder_traverse(node.right_child, cache=cache)\n",
    "        cache.append(node.node_name)\n",
    "    return ''.join(cache)"
   ]
  },
  {
   "cell_type": "code",
   "execution_count": 17,
   "metadata": {},
   "outputs": [
    {
     "data": {
      "text/plain": [
       "'ABDCEFGABDCEFGABDCEFG'"
      ]
     },
     "execution_count": 17,
     "metadata": {},
     "output_type": "execute_result"
    }
   ],
   "source": [
    "preorder_traverse()"
   ]
  },
  {
   "cell_type": "code",
   "execution_count": 41,
   "metadata": {},
   "outputs": [
    {
     "name": "stdout",
     "output_type": "stream",
     "text": [
      "ABDCEFG\n",
      "DBAECFG\n",
      "DBEGFCA\n"
     ]
    }
   ],
   "source": [
    "print(preorder_traverse())\n",
    "print(inorder_traverse())\n",
    "print(postorder_traverse())"
   ]
  },
  {
   "cell_type": "code",
   "execution_count": null,
   "metadata": {},
   "outputs": [],
   "source": [
    "N = int(input())\n",
    "\n",
    "class Node():\n",
    "    def __init__(self, data) -> None:\n",
    "        self.data = data\n",
    "        self.left_child = None\n",
    "        self.right_child = None\n",
    "\n",
    "class BinaryTree:\n",
    "    def __init__(self) -> None:\n",
    "        self.root = None\n",
    "        self.node_dic = {}\n",
    "\n",
    "    def append_node(self, node_name):\n",
    "        \"\"\"node_dic에 새로운 노드 추가\"\"\"\n",
    "        self.node_dic[node_name] = Node(node_name)\n",
    "\n",
    "bt = BinaryTree()\n",
    "bt.append_node('A')\n",
    "bt.root = bt.node_dic['A']\n",
    "\n",
    "for _ in range(N):\n",
    "    node_name, left_child_name, right_child_name = input().split()\n",
    "    bt.append_node(node_name)\n",
    "    bt.node_dic[node_name].left_child = \n",
    "\n",
    "        "
   ]
  }
 ],
 "metadata": {
  "interpreter": {
   "hash": "c798a043d5b26db4ea8dc684fe25ec244835432adc5539bce2de618403b1d63c"
  },
  "kernelspec": {
   "display_name": "Python 3.8.5 64-bit ('base': conda)",
   "language": "python",
   "name": "python3"
  },
  "language_info": {
   "codemirror_mode": {
    "name": "ipython",
    "version": 3
   },
   "file_extension": ".py",
   "mimetype": "text/x-python",
   "name": "python",
   "nbconvert_exporter": "python",
   "pygments_lexer": "ipython3",
   "version": "3.8.5"
  },
  "orig_nbformat": 4
 },
 "nbformat": 4,
 "nbformat_minor": 2
}
