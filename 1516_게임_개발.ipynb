{
 "cells": [
  {
   "cell_type": "markdown",
   "metadata": {},
   "source": [
    "# 1516 게임 개발\n",
    "220703\n",
    "- 소감\n",
    "    - 이전에 풀었던 ACM 크래프트와 거의 같은 문제여서 다행히 금방 풀었습니다.\n",
    "    - 입력이 어떻게 들어오는 건지 이해하느라 시간이 좀 걸렸네요.\n",
    "    - 위상정렬과 다익스트라를 적절히 결합해 풀 수 있었습니다.\n",
    "- 소요 시간 : 28분\n",
    "- 알고리즘 분류 : 다이나믹 프로그래밍, 그래프 이론, 위상 정렬\n",
    "- 티어 : 골드 3"
   ]
  },
  {
   "cell_type": "code",
   "execution_count": 15,
   "metadata": {},
   "outputs": [],
   "source": [
    "from heapq import heappush, heappop\n",
    "import sys\n",
    "# input = sys.stdin.readline\n",
    "\n",
    "N = int(input())\n",
    "in_degree = [0]*(N+1)\n",
    "build_time = [0]*(N+1)\n",
    "adj_list = [[] for _ in range(N+1)]\n",
    "for node in range(1, N+1):\n",
    "    inp = tuple(map(int, input().split()))\n",
    "    for i in range(1, len(inp)-1):\n",
    "        adj_list[inp[i]].append(node)\n",
    "        in_degree[node] += 1\n",
    "\n",
    "    build_time[node] = inp[0]\n",
    "\n",
    "on_build = [] # (건설중인 건물의 건설이 끝나는 시간, 건물 번호)\n",
    "for node in range(1, N+1):\n",
    "    if in_degree[node] == 0:\n",
    "        heappush(on_build, (build_time[node], node))\n",
    "\n",
    "time_list = [None]*N\n",
    "while on_build:\n",
    "    now_time, now_node = heappop(on_build)\n",
    "    time_list[now_node-1] = now_time\n",
    "    for adj_node in adj_list[now_node]:\n",
    "        in_degree[adj_node] -= 1\n",
    "        if in_degree[adj_node] == 0:\n",
    "            heappush(on_build, (now_time + build_time[adj_node], adj_node))\n",
    "            \n",
    "print('\\n'.join(map(str, time_list)))"
   ]
  },
  {
   "cell_type": "code",
   "execution_count": 16,
   "metadata": {},
   "outputs": [
    {
     "data": {
      "text/plain": [
       "(5,\n",
       " [0, 0, 1, 1, 2, 1],\n",
       " [0, 10, 10, 4, 4, 3],\n",
       " [[], [2, 3, 4], [], [4, 5], [], []])"
      ]
     },
     "execution_count": 16,
     "metadata": {},
     "output_type": "execute_result"
    }
   ],
   "source": [
    "N, in_degree, build_time, adj_list"
   ]
  },
  {
   "cell_type": "code",
   "execution_count": 17,
   "metadata": {},
   "outputs": [
    {
     "name": "stdout",
     "output_type": "stream",
     "text": [
      "10\n",
      "20\n",
      "14\n",
      "18\n",
      "17\n"
     ]
    }
   ],
   "source": [
    "from heapq import heappush, heappop\n",
    "\n",
    "on_build = [] # (건설중인 건물의 건설이 끝나는 시간, 건물 번호)\n",
    "for node in range(1, N+1):\n",
    "    if in_degree[node] == 0:\n",
    "        heappush(on_build, (build_time[node], node))\n",
    "\n",
    "time_list = [None]*N\n",
    "while on_build:\n",
    "    now_time, now_node = heappop(on_build)\n",
    "    time_list[now_node-1] = now_time\n",
    "    for adj_node in adj_list[now_node]:\n",
    "        in_degree[adj_node] -= 1\n",
    "        if in_degree[adj_node] == 0:\n",
    "            heappush(on_build, (now_time + build_time[adj_node], adj_node))\n",
    "            \n",
    "print('\\n'.join(map(str, time_list)))"
   ]
  },
  {
   "cell_type": "code",
   "execution_count": 7,
   "metadata": {},
   "outputs": [
    {
     "data": {
      "text/plain": [
       "[(10, 1)]"
      ]
     },
     "execution_count": 7,
     "metadata": {},
     "output_type": "execute_result"
    }
   ],
   "source": [
    "on_build"
   ]
  },
  {
   "cell_type": "code",
   "execution_count": null,
   "metadata": {},
   "outputs": [],
   "source": []
  }
 ],
 "metadata": {
  "kernelspec": {
   "display_name": "Python 3.8.8 ('base')",
   "language": "python",
   "name": "python3"
  },
  "language_info": {
   "codemirror_mode": {
    "name": "ipython",
    "version": 3
   },
   "file_extension": ".py",
   "mimetype": "text/x-python",
   "name": "python",
   "nbconvert_exporter": "python",
   "pygments_lexer": "ipython3",
   "version": "3.8.8"
  },
  "orig_nbformat": 4,
  "vscode": {
   "interpreter": {
    "hash": "f08154012ddadd8e950e6e9e035c7a7b32c136e7647e9b7c77e02eb723a8bedb"
   }
  }
 },
 "nbformat": 4,
 "nbformat_minor": 2
}
