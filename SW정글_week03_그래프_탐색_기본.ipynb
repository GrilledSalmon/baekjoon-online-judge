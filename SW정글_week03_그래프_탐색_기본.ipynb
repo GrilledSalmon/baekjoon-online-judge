{
 "cells": [
  {
   "cell_type": "markdown",
   "metadata": {},
   "source": [
    "# SW정글 week03 컴퓨팅 사고로의 전환\n",
    "## <그래프 탐색 기본>\n",
    "220414"
   ]
  },
  {
   "cell_type": "code",
   "execution_count": 3,
   "metadata": {},
   "outputs": [],
   "source": [
    "# 1991 트리 순회\n",
    "노드_수 = int(input())\n",
    "트리_사전 = {}\n",
    "for _ in range(노드_수):\n",
    "    부모, 왼쪽자식, 오른쪽자식 = input().split()\n",
    "    트리_사전[부모] = [왼쪽자식, 오른쪽자식]\n",
    "\n",
    "뿌리 = 'A'\n",
    "def 전위순회(노드=뿌리, 결과=[]):\n",
    "    if 노드 != '.':\n",
    "        결과.append(노드)\n",
    "        전위순회(트리_사전[노드][0], 결과)\n",
    "        전위순회(트리_사전[노드][1], 결과)\n",
    "        return 결과\n",
    "\n",
    "def 중위순회(노드=뿌리, 결과=[]):\n",
    "    if 노드 != '.':\n",
    "        중위순회(트리_사전[노드][0], 결과)\n",
    "        결과.append(노드)\n",
    "        중위순회(트리_사전[노드][1], 결과)\n",
    "        return 결과\n",
    "\n",
    "def 후위순회(노드=뿌리, 결과=[]):\n",
    "    if 노드 != '.':\n",
    "        후위순회(트리_사전[노드][0], 결과)\n",
    "        후위순회(트리_사전[노드][1], 결과)\n",
    "        결과.append(노드)\n",
    "        return 결과\n",
    "\n",
    "print(''.join(전위순회()))\n",
    "print(''.join(중위순회()))\n",
    "print(''.join(후위순회()))"
   ]
  },
  {
   "cell_type": "code",
   "execution_count": 1,
   "metadata": {},
   "outputs": [],
   "source": [
    "# 5639 이진 검색 트리\n",
    "import sys\n",
    "# input = sys.stdin.readline\n",
    "sys.setrecursionlimit(100000)\n",
    "pre_order = []\n",
    "# while True:\n",
    "#     try:\n",
    "#         pre_order.append(int(input()))\n",
    "#     except: break\n",
    "pre_order = list(map(int, '50 30 24 5 28 27 29 45 98 52 60'.split()))\n",
    "\n",
    "tree = {node : [None, None] for node in pre_order}\n",
    "root = pre_order[0]\n",
    "parent_stack = [root]\n",
    "for i in range(1, len(pre_order)):\n",
    "    now_node = pre_order[i]\n",
    "    parent = parent_stack[-1]\n",
    "    if parent > now_node:\n",
    "        parent_stack.append(now_node)\n",
    "        tree[parent][0] = now_node # 왼쪽 자식\n",
    "    else: # 부모가 더 작은 경우 -> 진짜 부모인지 확인\n",
    "        while True:\n",
    "            parent = parent_stack.pop()\n",
    "            if not (parent_stack and parent_stack[-1] < now_node):\n",
    "                tree[parent][-1] = now_node\n",
    "                parent_stack.append(now_node)\n",
    "                break\n",
    "\n",
    "def post_order(node=root):\n",
    "    if node:\n",
    "        post_order(tree[node][0])\n",
    "        post_order(tree[node][1])\n",
    "        print(node)\n",
    "post_order()"
   ]
  },
  {
   "cell_type": "code",
   "execution_count": 105,
   "metadata": {},
   "outputs": [
    {
     "name": "stdout",
     "output_type": "stream",
     "text": [
      "3\n"
     ]
    }
   ],
   "source": [
    "# 1197 최소 스패닝 트리\n",
    "import sys\n",
    "# input = sys.stdin.readline\n",
    "\n",
    "V, E = map(int, input().split())\n",
    "edge_list = [tuple(map(int, input().split())) for _ in range(E)]\n",
    "edge_list.sort(key=lambda x:x[2]) # 가중치에 대해 오름차순 정렬\n",
    "\n",
    "# Union-Find\n",
    "group_info = list(range(V+1))\n",
    "def find_group(node):\n",
    "    \"\"\"node가 속한 그룹을 리턴하고 그룹 관계를 최적화해줌(노드의 그룹명을 대빵에 맞게 바꿔줌)\"\"\"\n",
    "    if group_info[node] == node: # 그룹의 대표 노드이면\n",
    "        return node\n",
    "    group_info[node] = find_group(group_info[node])\n",
    "    return group_info[node]\n",
    "\n",
    "def union(node_1, node_2):\n",
    "    \"\"\"node_1과 node_2의 그룹을 합쳐줌\"\"\"\n",
    "    group_1 = find_group(node_1)\n",
    "    group_2 = find_group(node_2)\n",
    "    if group_1 > group_2: # 더 작은 그룹명을 따라주기 위해\n",
    "        group_1, group_2 = group_2, group_1\n",
    "    group_info[group_2] = group_1 # 그룹의 대빵을 갈아끼워줌\n",
    "\n",
    "# Kruscal\n",
    "total_cost, edge_cnt = 0, 0\n",
    "for a, b, cost in edge_list:\n",
    "    if find_group(a) != find_group(b): # 그룹이 다르면(같으면 사이클)\n",
    "        union(a, b)\n",
    "        total_cost += cost\n",
    "        edge_cnt += 1\n",
    "        if edge_cnt == V-1: # 엣지를 전부 찾았으면\n",
    "            break\n",
    "\n",
    "print(total_cost)"
   ]
  },
  {
   "cell_type": "code",
   "execution_count": 127,
   "metadata": {},
   "outputs": [
    {
     "name": "stdout",
     "output_type": "stream",
     "text": [
      "1 2 4 3\n",
      "1 2 3 4\n"
     ]
    }
   ],
   "source": [
    "# 1260 DFS와 BFS\n",
    "from collections import deque\n",
    "import sys\n",
    "# input = sys.stdin.readline\n",
    "sys.setrecursionlimit(100000)\n",
    "\n",
    "N, M, V = map(int, input().split())\n",
    "adj_list = [[] for _ in range(N+1)]\n",
    "for _ in range(M):\n",
    "    a, b = map(int, input().split())\n",
    "    adj_list[a].append(b)\n",
    "    adj_list[b].append(a)\n",
    "\n",
    "for ls in adj_list:\n",
    "    ls.sort()\n",
    "\n",
    "# DFS\n",
    "visited = [0]*(N+1)\n",
    "visited[V] = 1\n",
    "res = []\n",
    "def dfs(node=V):\n",
    "    res.append(node)\n",
    "    for adj_node in adj_list[node]:\n",
    "        if not visited[adj_node]:\n",
    "            visited[adj_node] = 1\n",
    "            dfs(adj_node)\n",
    "dfs()\n",
    "print(' '.join(map(str, res)))\n",
    "\n",
    "# BFS\n",
    "visited = [0]*(N+1)\n",
    "visited[V] = 1\n",
    "res = []\n",
    "queue = deque([V])\n",
    "while queue:\n",
    "    now_node = queue.popleft()\n",
    "    res.append(now_node)\n",
    "    for adj_node in adj_list[now_node]:\n",
    "        if not visited[adj_node]:\n",
    "            queue.append(adj_node)\n",
    "            visited[adj_node] = 1\n",
    "\n",
    "print(' '.join(map(str, res)))"
   ]
  },
  {
   "cell_type": "code",
   "execution_count": 133,
   "metadata": {},
   "outputs": [
    {
     "name": "stdout",
     "output_type": "stream",
     "text": [
      "2\n"
     ]
    }
   ],
   "source": [
    "# 11724 연결 요소의 개수\n",
    "import sys\n",
    "sys.setrecursionlimit(1000000)\n",
    "# input = sys.stdin.readline\n",
    "\n",
    "N, M = map(int, input().split())\n",
    "adj_list = [[] for _ in range(N+1)]\n",
    "for _ in range(M):\n",
    "    a, b = map(int, input().split())\n",
    "    adj_list[a].append(b)\n",
    "    adj_list[b].append(a)\n",
    "\n",
    "visited = [0] * (N+1)\n",
    "\n",
    "def dfs(node):\n",
    "    visited[node] = 1\n",
    "    for adj_node in adj_list[node]:\n",
    "        if not visited[adj_node]:\n",
    "            dfs(adj_node)\n",
    "\n",
    "connected_component_cnt = 0\n",
    "for node in range(1, N+1):\n",
    "    if not visited[node]:\n",
    "        connected_component_cnt += 1\n",
    "        dfs(node)\n",
    "        \n",
    "print(connected_component_cnt)"
   ]
  },
  {
   "cell_type": "code",
   "execution_count": 134,
   "metadata": {},
   "outputs": [],
   "source": [
    "# 2606 바이러스\n",
    "import sys\n",
    "sys.setrecursionlimit(100000)\n",
    "# input = sys.stdin.readline\n",
    "\n",
    "N, M = int(input()), int(input())\n",
    "adj_list = [[] for _ in range(N+1)]\n",
    "for _ in range(M):\n",
    "    a, b = map(int, input().split())\n",
    "    adj_list[a].append(b)\n",
    "    adj_list[b].append(a)\n",
    "\n",
    "infested_computer = [-1]\n",
    "visited = [0] * (N+1)\n",
    "root = 1\n",
    "\n",
    "def dfs(node=root):\n",
    "    visited[node] = 1\n",
    "    infested_computer[0] += 1\n",
    "    for adj_node in adj_list[node]:\n",
    "        if not visited[adj_node]:\n",
    "            visited[adj_node] = 1\n",
    "            dfs(adj_node)\n",
    "\n",
    "dfs()\n",
    "print(infested_computer[0])"
   ]
  }
 ],
 "metadata": {
  "interpreter": {
   "hash": "8fac594bfae6525c0c41b4041d2d72effa188cc8ead05f81b1fab2bb098927fb"
  },
  "kernelspec": {
   "display_name": "Python 3.8.8 ('base')",
   "language": "python",
   "name": "python3"
  },
  "language_info": {
   "codemirror_mode": {
    "name": "ipython",
    "version": 3
   },
   "file_extension": ".py",
   "mimetype": "text/x-python",
   "name": "python",
   "nbconvert_exporter": "python",
   "pygments_lexer": "ipython3",
   "version": "3.8.8"
  },
  "orig_nbformat": 4
 },
 "nbformat": 4,
 "nbformat_minor": 2
}
