{
 "cells": [
  {
   "cell_type": "markdown",
   "metadata": {},
   "source": [
    "# 14719 빗물\n",
    "220514\n",
    "- 소감\n",
    "    - 45분동안 작성한 뒤 야심차게 제출한 코드가 틀리고 틀린 이유를 발견했을 때 망한 줄 알았지만 정신을 똑띠 차렸더니 다행히 시간 안에 풀 수 있었습니다.\n",
    "    - 스택과 큐를 활용했습니다.\n",
    "- 소요 시간 : 53분\n",
    "- 알고리즘 분류 : 구현, 시뮬레이션\n",
    "- 티어 : 골드 5"
   ]
  },
  {
   "cell_type": "code",
   "execution_count": 20,
   "metadata": {},
   "outputs": [],
   "source": [
    "from collections import deque\n",
    "import sys\n",
    "# input = sys.stdin.readline    \n",
    "\n",
    "H, W = map(int, input().split())\n",
    "heights = deque(map(int, input().split()))\n",
    "\n",
    "tot = H * W - sum(heights)\n",
    "\n",
    "now_ind = W - 1\n",
    "right_wall_ind = now_ind\n",
    "right_wall_height = 0\n",
    "\n",
    "stack = list(heights)\n",
    "# 오른쪽에서 왼쪽으로(스택처럼)\n",
    "while stack:\n",
    "    now_height = stack.pop()\n",
    "    if now_height >= right_wall_height:\n",
    "        tot -= (H-right_wall_height) * (right_wall_ind - now_ind)\n",
    "        right_wall_height = now_height\n",
    "        right_wall_ind = now_ind\n",
    "    else:\n",
    "        pass\n",
    "    now_ind -= 1\n",
    "\n",
    "now_ind = 0\n",
    "left_wall_ind = now_ind\n",
    "left_wall_height = 0\n",
    "queue = heights\n",
    "# 외쪽에서 오른쪽으로\n",
    "while queue and now_ind <= right_wall_ind:\n",
    "    now_height = queue.popleft()\n",
    "    if now_height >= left_wall_height:\n",
    "        tot -= (H-left_wall_height) * (now_ind - left_wall_ind)\n",
    "        left_wall_height = now_height\n",
    "        left_wall_ind = now_ind\n",
    "    else:\n",
    "        pass\n",
    "    now_ind += 1\n",
    "\n",
    "tot -= H - left_wall_height\n",
    "\n",
    "print(tot)"
   ]
  },
  {
   "cell_type": "code",
   "execution_count": 21,
   "metadata": {},
   "outputs": [
    {
     "data": {
      "text/plain": [
       "(4, 8, deque([3, 1, 2, 3, 4, 1, 1, 2]))"
      ]
     },
     "execution_count": 21,
     "metadata": {},
     "output_type": "execute_result"
    }
   ],
   "source": [
    "H, W, heights"
   ]
  },
  {
   "cell_type": "code",
   "execution_count": 26,
   "metadata": {},
   "outputs": [
    {
     "name": "stdout",
     "output_type": "stream",
     "text": [
      "5\n"
     ]
    }
   ],
   "source": [
    "tot = H * W\n",
    "\n",
    "tot -= sum(heights)\n",
    "\n",
    "\n",
    "now_ind = W - 1\n",
    "right_wall_ind = now_ind\n",
    "right_wall_height = 0\n",
    "\n",
    "stack = list(heights)\n",
    "# 오른쪽에서 왼쪽으로(스택처럼)\n",
    "while stack:\n",
    "    now_height = stack.pop()\n",
    "    if now_height >= right_wall_height:\n",
    "        tot -= (H-right_wall_height) * (right_wall_ind - now_ind)\n",
    "        right_wall_height = now_height\n",
    "        right_wall_ind = now_ind\n",
    "    else:\n",
    "        pass\n",
    "    now_ind -= 1\n",
    "\n",
    "now_ind = 0\n",
    "left_wall_ind = now_ind\n",
    "left_wall_height = 0\n",
    "queue = deque(heights)\n",
    "# 외쪽에서 오른쪽으로\n",
    "while queue:\n",
    "    now_height = queue.popleft()\n",
    "    if now_height >= left_wall_height:\n",
    "        tot -= (H-left_wall_height) * (now_ind - left_wall_ind)\n",
    "        left_wall_height = now_height\n",
    "        left_wall_ind = now_ind\n",
    "    else:\n",
    "        pass\n",
    "    now_ind += 1\n",
    "\n",
    "print(tot)"
   ]
  },
  {
   "cell_type": "code",
   "execution_count": 24,
   "metadata": {},
   "outputs": [
    {
     "data": {
      "text/plain": [
       "deque([3, 1, 2, 3, 4, 1, 1, 2])"
      ]
     },
     "execution_count": 24,
     "metadata": {},
     "output_type": "execute_result"
    }
   ],
   "source": [
    "heights"
   ]
  },
  {
   "cell_type": "code",
   "execution_count": 22,
   "metadata": {},
   "outputs": [
    {
     "data": {
      "text/plain": [
       "deque([3, 1, 2, 3, 4, 1, 1, 2])"
      ]
     },
     "execution_count": 22,
     "metadata": {},
     "output_type": "execute_result"
    }
   ],
   "source": [
    "deque(heights)"
   ]
  },
  {
   "cell_type": "code",
   "execution_count": null,
   "metadata": {},
   "outputs": [],
   "source": []
  },
  {
   "cell_type": "code",
   "execution_count": null,
   "metadata": {},
   "outputs": [],
   "source": []
  },
  {
   "cell_type": "code",
   "execution_count": null,
   "metadata": {},
   "outputs": [],
   "source": [
    "tot = H * W\n",
    "\n",
    "left_ind = 0\n",
    "left_height = 0\n",
    "for i, h in enumerate(heights):\n",
    "    if left_height <= h:\n",
    "        left_ind, left_height = i, h\n",
    "        tot -= (i - left_ind) * (H - left_height)\n",
    "    else:\n",
    "        pass\n",
    "\n"
   ]
  }
 ],
 "metadata": {
  "interpreter": {
   "hash": "f08154012ddadd8e950e6e9e035c7a7b32c136e7647e9b7c77e02eb723a8bedb"
  },
  "kernelspec": {
   "display_name": "Python 3.8.8 ('base')",
   "language": "python",
   "name": "python3"
  },
  "language_info": {
   "codemirror_mode": {
    "name": "ipython",
    "version": 3
   },
   "file_extension": ".py",
   "mimetype": "text/x-python",
   "name": "python",
   "nbconvert_exporter": "python",
   "pygments_lexer": "ipython3",
   "version": "3.8.8"
  },
  "orig_nbformat": 4
 },
 "nbformat": 4,
 "nbformat_minor": 2
}
