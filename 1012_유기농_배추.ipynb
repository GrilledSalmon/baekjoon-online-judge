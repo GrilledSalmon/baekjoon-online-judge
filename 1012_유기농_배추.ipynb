{
 "cells": [
  {
   "cell_type": "markdown",
   "metadata": {},
   "source": [
    "# 1012 유기농 배추\n",
    "220125\n",
    "- 소감 : 좌표계같은 문제에서의 BFS는 이렇게 풀면 될듯? 사실 최적인지는 모르겠음. 혼자 생각해서 품\n",
    "- 알고리즘 분류\n",
    "    - 그래프 이론\n",
    "    - 그래프 탐색\n",
    "    - 너비 우선 탐색\n",
    "    - 깊이 우선 탐색\n",
    "- 티어 : 실버 2"
   ]
  },
  {
   "cell_type": "code",
   "execution_count": 38,
   "metadata": {},
   "outputs": [
    {
     "name": "stdout",
     "output_type": "stream",
     "text": [
      "2\n"
     ]
    }
   ],
   "source": [
    "from collections import deque\n",
    "import sys\n",
    "# input = sys.stdin.readline\n",
    "\n",
    "T = int(input())\n",
    "for _ in range(T):\n",
    "    M, N, K = map(int, input().strip().split())\n",
    "    bachu_coord = [[0]*M for _ in range(N)] # 배추밭 생성\n",
    "    for _ in range(K): # 배추 위치 정보 업데이트\n",
    "        x, y = map(int, input().split())\n",
    "        bachu_coord[y][x] = 1\n",
    "\n",
    "    visited = [[0]*M for _ in range(N)]\n",
    "\n",
    "    def visit_process(x, y, queue, visited, bachu_coord) -> None:\n",
    "        \"\"\"방문 처리 함수\"\"\"\n",
    "        if bachu_coord[y][x] == 1 and visited[y][x] == 0: # 배추이고 방문한 적이 없다면\n",
    "            queue.append((x, y)) # 큐에 추가\n",
    "            visited[y][x] = 1 # 방문했다 표시\n",
    "\n",
    "    def around_check(x, y, queue, visited, bachu_coord) -> None:\n",
    "        \"\"\"주변의 땅들을 체크\"\"\"\n",
    "        #상\n",
    "        if y!=0: # 테두리에 있는 경우\n",
    "            x1, y1 = x, y-1\n",
    "            visit_process(x1, y1, queue, visited, bachu_coord)\n",
    "        #하\n",
    "        if y != N-1:\n",
    "            x2, y2 = x, y+1\n",
    "            visit_process(x2, y2, queue, visited, bachu_coord)\n",
    "        #좌\n",
    "        if x != 0:\n",
    "            x3, y3 = x-1, y\n",
    "            visit_process(x3, y3, queue, visited, bachu_coord)\n",
    "        #우\n",
    "        if x != M-1:\n",
    "            x4, y4 = x+1, y\n",
    "            visit_process(x4, y4, queue, visited, bachu_coord)\n",
    "\n",
    "\n",
    "    ans = 0\n",
    "\n",
    "    for y in range(N):\n",
    "        for x in range(M): # 모든 좌표에 대해\n",
    "            if bachu_coord[y][x] and not visited[y][x]: # 배추가 있고 방문한 적이 없다면\n",
    "                # bfs\n",
    "                ans += 1 # bfs를 돌 때마다 지렁이 한 마리 추가\n",
    "                queue = deque()\n",
    "                queue.append((x, y)) # x,y에서 시작\n",
    "                visited[y][x] = 1\n",
    "                \n",
    "                while queue: # 큐가 텅텅 빌 때까지\n",
    "                    now_x, now_y = queue.popleft()\n",
    "                    around_check(now_x, now_y, queue, visited, bachu_coord)\n",
    "                    \n",
    "    print(ans)"
   ]
  },
  {
   "cell_type": "code",
   "execution_count": 6,
   "metadata": {},
   "outputs": [],
   "source": [
    "M, N, K = map(int, input().strip().split())\n",
    "bachu_coord = [[0]*M for _ in range(N)] # 배추밭 생성\n",
    "for _ in range(K): # 배추 위치 정보 업데이트\n",
    "    x, y = map(int, input().split())\n",
    "    bachu_coord[y][x] = 1\n",
    "\n",
    "    "
   ]
  },
  {
   "cell_type": "code",
   "execution_count": 9,
   "metadata": {},
   "outputs": [
    {
     "data": {
      "text/plain": [
       "[[1, 1, 0, 0, 0, 0, 0, 0, 0, 0],\n",
       " [0, 1, 0, 0, 0, 0, 0, 0, 0, 0],\n",
       " [0, 0, 0, 0, 1, 0, 0, 0, 0, 0],\n",
       " [0, 0, 0, 0, 1, 0, 0, 0, 0, 0],\n",
       " [0, 0, 1, 1, 0, 0, 0, 1, 1, 1],\n",
       " [0, 0, 0, 0, 1, 0, 0, 1, 1, 1],\n",
       " [0, 0, 0, 0, 0, 0, 0, 1, 1, 1],\n",
       " [0, 0, 0, 0, 0, 0, 0, 0, 0, 0]]"
      ]
     },
     "execution_count": 9,
     "metadata": {},
     "output_type": "execute_result"
    }
   ],
   "source": [
    "visited = [[0]*M for _ in range(N)]\n",
    "bachu_coord"
   ]
  },
  {
   "cell_type": "code",
   "execution_count": 34,
   "metadata": {},
   "outputs": [
    {
     "name": "stdout",
     "output_type": "stream",
     "text": [
      "0 0\n",
      "4 2\n",
      "2 4\n",
      "7 4\n",
      "4 5\n",
      "5\n"
     ]
    }
   ],
   "source": [
    "from collections import deque\n",
    "\n",
    "visited = [[0]*M for _ in range(N)]\n",
    "\n",
    "def visit_process(x, y, queue, visited, bachu_coord) -> None:\n",
    "    \"\"\"방문 처리 함수\"\"\"\n",
    "    if bachu_coord[y][x] == 1 and visited[y][x] == 0: # 배추이고 방문한 적이 없다면\n",
    "        queue.append((x, y)) # 큐에 추가\n",
    "        visited[y][x] = 1 # 방문했다 표시\n",
    "\n",
    "def around_check(x, y, queue, visited, bachu_coord) -> None:\n",
    "    \"\"\"주변의 땅들을 체크\"\"\"\n",
    "    #상\n",
    "    if y!=0: # 테두리에 있는 경우\n",
    "        x1, y1 = x, y-1\n",
    "        visit_process(x1, y1, queue, visited, bachu_coord)\n",
    "    #하\n",
    "    if y != N-1:\n",
    "        x2, y2 = x, y+1\n",
    "        visit_process(x2, y2, queue, visited, bachu_coord)\n",
    "    #좌\n",
    "    if x != 0:\n",
    "        x3, y3 = x-1, y\n",
    "        visit_process(x3, y3, queue, visited, bachu_coord)\n",
    "    #우\n",
    "    if x != M-1:\n",
    "        x4, y4 = x+1, y\n",
    "        visit_process(x4, y4, queue, visited, bachu_coord)\n",
    "\n",
    "\n",
    "ans = 0\n",
    "\n",
    "for y in range(N):\n",
    "    for x in range(M): # 모든 좌표에 대해\n",
    "        if bachu_coord[y][x] and not visited[y][x]: # 배추가 있고 방문한 적이 없다면\n",
    "            # bfs\n",
    "            ans += 1 # bfs를 돌 때마다 지렁이 한 마리 추가\n",
    "            queue = deque()\n",
    "            queue.append((x, y))\n",
    "            visited[y][x] = 1 # x,y에서 시작\n",
    "            \n",
    "            while queue: # 큐가 텅텅 빌 때까지\n",
    "                now_coord = queue.popleft()\n",
    "                around_check(now_coord[0], now_coord[1], queue, visited, bachu_coord)\n",
    "                \n",
    "print(ans)"
   ]
  },
  {
   "cell_type": "code",
   "execution_count": 27,
   "metadata": {},
   "outputs": [
    {
     "data": {
      "text/plain": [
       "[[1, 1, 0, 0, 0, 0, 0, 0, 0, 0],\n",
       " [0, 1, 0, 0, 0, 0, 0, 0, 0, 0],\n",
       " [0, 0, 0, 0, 1, 0, 0, 0, 0, 0],\n",
       " [0, 0, 0, 0, 1, 0, 0, 0, 0, 0],\n",
       " [0, 0, 1, 1, 0, 0, 0, 1, 1, 1],\n",
       " [0, 0, 0, 0, 1, 0, 0, 1, 1, 1],\n",
       " [0, 0, 0, 0, 0, 0, 0, 1, 1, 1],\n",
       " [0, 0, 0, 0, 0, 0, 0, 0, 0, 0]]"
      ]
     },
     "execution_count": 27,
     "metadata": {},
     "output_type": "execute_result"
    }
   ],
   "source": [
    "visited"
   ]
  },
  {
   "cell_type": "code",
   "execution_count": 28,
   "metadata": {},
   "outputs": [
    {
     "data": {
      "text/plain": [
       "[[1, 1, 0, 0, 0, 0, 0, 0, 0, 0],\n",
       " [0, 1, 0, 0, 0, 0, 0, 0, 0, 0],\n",
       " [0, 0, 0, 0, 1, 0, 0, 0, 0, 0],\n",
       " [0, 0, 0, 0, 1, 0, 0, 0, 0, 0],\n",
       " [0, 0, 1, 1, 0, 0, 0, 1, 1, 1],\n",
       " [0, 0, 0, 0, 1, 0, 0, 1, 1, 1],\n",
       " [0, 0, 0, 0, 0, 0, 0, 1, 1, 1],\n",
       " [0, 0, 0, 0, 0, 0, 0, 0, 0, 0]]"
      ]
     },
     "execution_count": 28,
     "metadata": {},
     "output_type": "execute_result"
    }
   ],
   "source": [
    "bachu_coord"
   ]
  },
  {
   "cell_type": "code",
   "execution_count": 36,
   "metadata": {},
   "outputs": [
    {
     "data": {
      "text/plain": [
       "['1', '2']"
      ]
     },
     "execution_count": 36,
     "metadata": {},
     "output_type": "execute_result"
    }
   ],
   "source": [
    "'1 2\\n'.split()"
   ]
  },
  {
   "cell_type": "code",
   "execution_count": null,
   "metadata": {},
   "outputs": [],
   "source": []
  }
 ],
 "metadata": {
  "interpreter": {
   "hash": "c798a043d5b26db4ea8dc684fe25ec244835432adc5539bce2de618403b1d63c"
  },
  "kernelspec": {
   "display_name": "Python 3.8.5 64-bit ('base': conda)",
   "language": "python",
   "name": "python3"
  },
  "language_info": {
   "codemirror_mode": {
    "name": "ipython",
    "version": 3
   },
   "file_extension": ".py",
   "mimetype": "text/x-python",
   "name": "python",
   "nbconvert_exporter": "python",
   "pygments_lexer": "ipython3",
   "version": "3.8.5"
  },
  "orig_nbformat": 4
 },
 "nbformat": 4,
 "nbformat_minor": 2
}
