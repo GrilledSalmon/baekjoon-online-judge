{
 "cells": [
  {
   "cell_type": "markdown",
   "metadata": {},
   "source": [
    "# 1379 강의실 2\n",
    "220429\n",
    "- 소감 : 문제가 매우 이상하다. 강의실을 배정하는 기준이 명확하지 않다. 여기서 틀렸던 내 코드가 최소 강의실 수만 맞추는 다른 문제(1374 강의실)에서는 맞았으니 이 문제가 이상한 것 같다는 결론을 내린다. 그러니 강의실이 어떻게 배정되는지에 대해서는 고민하는 것은 시간낭비인 것 같다. 해당 문제는 다른 분의 코드를 활용해서 맞긴 했는데 문제가 이상하니 더이상 이해하지 않고 그냥 넘어간다.\n",
    "- 알고리즘 분류\n",
    "    - 자료 구조\n",
    "    - 그리디 알고리즘\n",
    "    - 정렬\n",
    "    - 우선순위 큐\n",
    "- 티어 : 골드 3"
   ]
  },
  {
   "cell_type": "code",
   "execution_count": null,
   "metadata": {},
   "outputs": [],
   "source": [
    "# 대충 수정해서 1374 강의실 맞은 코드. 이 코드를 그대로 이용해서 1379를 풀면 틀린다.\n",
    "from heapq import heappush, heappop\n",
    "import sys\n",
    "# input = sys.stdin.readline\n",
    "N = int(input())\n",
    "lectures = [list(map(int,input().split())) for _ in range(N)]\n",
    "lectures.sort(key=lambda x: (x[1], x[2]))\n",
    "\n",
    "room_info = [(0, 1)]\n",
    "for lec_num, start, end in lectures:\n",
    "    fastest_end, fastest_room = room_info[0]\n",
    "    if fastest_end <= start:\n",
    "        heappop(room_info)\n",
    "    heappush(room_info, (end, fastest_room))\n",
    "\n",
    "print(len(room_info))\n",
    "# print('\\n'.join(map(str, assigned_room)))"
   ]
  },
  {
   "cell_type": "code",
   "execution_count": 10,
   "metadata": {},
   "outputs": [],
   "source": [
    "from heapq import heapify, heappop, heappush\n",
    "import sys\n",
    "# input = sys.stdin.readline\n",
    "n = int(input())\n",
    "lectures = [list(map(int,input().split())) for _ in range(n)]\n",
    "lectures.sort(key=lambda x: (x[1], x[2]))\n",
    "\n",
    "assigned_room = [0]*n\n",
    "\n",
    "room = list(range(1, n+1))\n",
    "\n",
    "heap = []\n",
    "for lec_num, start, end in lectures:\n",
    "    while heap and heap[0][0] <= start:\n",
    "        end, r = heappop(heap)\n",
    "        heappush(room, r)\n",
    "\n",
    "    r = heappop(room)\n",
    "    heappush(heap, [end, r])\n",
    "    assigned_room[lec_num-1] = r\n",
    "\n",
    "print(max(assigned_room))\n",
    "print('\\n'.join(map(str, assigned_room)))"
   ]
  },
  {
   "cell_type": "code",
   "execution_count": 11,
   "metadata": {},
   "outputs": [
    {
     "data": {
      "text/plain": [
       "[[3, 2, 14],\n",
       " [1, 3, 8],\n",
       " [5, 6, 20],\n",
       " [8, 6, 27],\n",
       " [2, 7, 13],\n",
       " [4, 12, 18],\n",
       " [6, 15, 21],\n",
       " [7, 20, 25]]"
      ]
     },
     "execution_count": 11,
     "metadata": {},
     "output_type": "execute_result"
    }
   ],
   "source": [
    "lectures"
   ]
  },
  {
   "cell_type": "code",
   "execution_count": 17,
   "metadata": {},
   "outputs": [
    {
     "name": "stdout",
     "output_type": "stream",
     "text": [
      "5\n",
      "2\n",
      "5\n",
      "1\n",
      "2\n",
      "3\n",
      "1\n",
      "1\n",
      "4\n"
     ]
    }
   ],
   "source": [
    "assigned_room = [0]*n\n",
    "\n",
    "room = list(range(1, n+1))\n",
    "\n",
    "heap = []\n",
    "for lec_num, start, end in lectures:\n",
    "    while heap and heap[0][0] <= start:\n",
    "        end, r = heappop(heap)\n",
    "        heappush(room, r)\n",
    "\n",
    "    r = heappop(room)\n",
    "    heappush(heap, [end, r])\n",
    "    assigned_room[lec_num-1] = r\n",
    "\n",
    "print(max(assigned_room))\n",
    "print('\\n'.join(map(str, assigned_room)))"
   ]
  },
  {
   "cell_type": "code",
   "execution_count": 19,
   "metadata": {},
   "outputs": [
    {
     "name": "stdout",
     "output_type": "stream",
     "text": [
      "5\n"
     ]
    }
   ],
   "source": [
    "import sys\n",
    "import heapq\n",
    "# input = sys.stdin.readline\n",
    "\n",
    "N = int(input())\n",
    "class_list = sorted([tuple(map(int, input().strip().split())) for _ in range(N)])\n",
    "room_heap = [] # 강의실마다 강의가 끝나는 시간이 heap 자료구조로 저장된 리스트\n",
    "\n",
    "def process(heap, start_time, end_time) -> None:\n",
    "    if heap: # heap이 비어 있지 않은 경우\n",
    "        # 넣을 수 있는 강의실이 있는 경우\n",
    "        if heap[0] <= start_time: # 가장 수업이 빨리 끝나는 강의실과 비교\n",
    "            heapq.heappop(heap) # 가장 빨리 끝나는 강의실 삭제(실제론 다른 강의가 뒤이어 추가되기 때문에 대체되는 거임)\n",
    "    \n",
    "        heapq.heappush(heap, end_time) # 생각해보면 만족하는 강의실이 있으나 없으나 해줘야 하는 연산\n",
    "    \n",
    "    else: # heap이 비어 있는 경우\n",
    "        heap.append(end_time)\n",
    "\n",
    "for lec_num, start_time, end_time in class_list:\n",
    "    process(room_heap, start_time, end_time)\n",
    "\n",
    "print(len(room_heap))"
   ]
  },
  {
   "cell_type": "code",
   "execution_count": null,
   "metadata": {},
   "outputs": [],
   "source": []
  }
 ],
 "metadata": {
  "interpreter": {
   "hash": "8fac594bfae6525c0c41b4041d2d72effa188cc8ead05f81b1fab2bb098927fb"
  },
  "kernelspec": {
   "display_name": "Python 3.8.8 ('base')",
   "language": "python",
   "name": "python3"
  },
  "language_info": {
   "codemirror_mode": {
    "name": "ipython",
    "version": 3
   },
   "file_extension": ".py",
   "mimetype": "text/x-python",
   "name": "python",
   "nbconvert_exporter": "python",
   "pygments_lexer": "ipython3",
   "version": "3.8.8"
  },
  "orig_nbformat": 4
 },
 "nbformat": 4,
 "nbformat_minor": 2
}
