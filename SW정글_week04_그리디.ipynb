{
 "cells": [
  {
   "cell_type": "markdown",
   "metadata": {},
   "source": [
    "# SW정글 week04 컴퓨팅 사고로의 전환\n",
    "## <그리디>\n",
    "220423"
   ]
  },
  {
   "cell_type": "code",
   "execution_count": 12,
   "metadata": {},
   "outputs": [
    {
     "name": "stdout",
     "output_type": "stream",
     "text": [
      "6\n"
     ]
    }
   ],
   "source": [
    "# 11047 동전 0\n",
    "import sys\n",
    "# input = sys.stdin.readline\n",
    "N, K = map(int, input().split())\n",
    "coins = sorted([int(input()) for _ in range(N)], reverse=True)\n",
    "\n",
    "tot = 0\n",
    "for coin in coins:\n",
    "    if K == 0:\n",
    "        break\n",
    "    if coin > K:\n",
    "        continue\n",
    "    else:\n",
    "        tot += K//coin\n",
    "        K %= coin\n",
    "print(tot)"
   ]
  },
  {
   "cell_type": "code",
   "execution_count": 25,
   "metadata": {},
   "outputs": [
    {
     "name": "stdout",
     "output_type": "stream",
     "text": [
      "0\n"
     ]
    }
   ],
   "source": [
    "# 1541 잃어버린 괄호\n",
    "s = input()\n",
    "ans = 0\n",
    "for i, part in enumerate(s.split('-')):\n",
    "    summ = sum(map(int, part.split('+')))\n",
    "    if i == 0: # 처음\n",
    "        ans += summ\n",
    "    else:\n",
    "        ans -= summ\n",
    "print(ans)"
   ]
  },
  {
   "cell_type": "code",
   "execution_count": 37,
   "metadata": {},
   "outputs": [
    {
     "name": "stdout",
     "output_type": "stream",
     "text": [
      "3\n"
     ]
    }
   ],
   "source": [
    "# 1931 회의실 배정\n",
    "import sys\n",
    "# input = sys.stdin.readline\n",
    "N = int(input())\n",
    "meetings = sorted([tuple(map(int, input().split())) for _ in range(N)], key=lambda x:(x[1], x[0]))\n",
    "\n",
    "prev_end = 0\n",
    "cnt = 0\n",
    "for start, end in meetings:\n",
    "    if start >= prev_end:\n",
    "        cnt += 1\n",
    "        prev_end = end\n",
    "print(cnt)"
   ]
  },
  {
   "cell_type": "code",
   "execution_count": 45,
   "metadata": {},
   "outputs": [
    {
     "name": "stdout",
     "output_type": "stream",
     "text": [
      "4\n",
      "3\n"
     ]
    }
   ],
   "source": [
    "# 1946 신입 사원\n",
    "import sys\n",
    "# input = sys.stdin.readline\n",
    "T = int(input())\n",
    "for _ in range(T):\n",
    "    N = int(input())\n",
    "    grades = sorted([tuple(map(int, input().split())) for _ in range(N)])\n",
    "    cnt = 1\n",
    "    until_min = grades[0][1]\n",
    "    for i in range(1, N):\n",
    "        interview_rank = grades[i][1]\n",
    "        if interview_rank < until_min:\n",
    "            cnt += 1\n",
    "            until_min = interview_rank\n",
    "    print(cnt)"
   ]
  },
  {
   "cell_type": "code",
   "execution_count": 46,
   "metadata": {},
   "outputs": [
    {
     "name": "stdout",
     "output_type": "stream",
     "text": [
      "2\n"
     ]
    }
   ],
   "source": [
    "# 1700 멀티탭 스케줄링\n",
    "N, K = map(int, input().split())\n",
    "schedule = tuple(map(int, input().split()))\n",
    "\n",
    "remain_usage = [0]*(K+1) # 물품별 사용하는 횟수\n",
    "for elec in schedule:\n",
    "    remain_usage[elec] += 1\n",
    "\n",
    "remain_usage = [0]*(K+1) # 물품별 사용하는 횟수\n",
    "for elec in schedule:\n",
    "    remain_usage[elec] += 1\n",
    "\n",
    "ans = 0\n",
    "on_multitap = set() # 멀티탭에 물려 있는 전자기기\n",
    "for i in range(K):\n",
    "    elec = schedule[i]\n",
    "    if elec in on_multitap: # 이미 멀티탭에 끼워져 있는 경우\n",
    "        pass\n",
    "    elif len(on_multitap)-N: # 멀티탭에 여유가 있는 경우\n",
    "        on_multitap.add(elec)\n",
    "    else: # 멀티탭이 꽉찬 경우(하나 빼야하는 경우)\n",
    "        for on_elec in on_multitap:\n",
    "            if remain_usage[on_elec] == 0: # 앞으로 사용하지 않는다면\n",
    "                on_multitap.remove(on_elec)\n",
    "                break\n",
    "        else: # 물려 있는 모든 기기가 뒤에 사용해야 하는 기기인 경우(아무거나 빼면 안됨)\n",
    "            # 꼽혀 있는 애들 중에 조만간 사용될 애를 뽑으면 안됨\n",
    "            on_multitap_copy = on_multitap.copy()\n",
    "            for j in range(i+1, K): # -> 꼽혀 있는 애들 중 가장 나중에 사용될 애를 뽑는 게 최선?\n",
    "                if len(on_multitap_copy) == 1:\n",
    "                    break\n",
    "                if schedule[j] in on_multitap_copy:\n",
    "                    on_multitap_copy.remove(schedule[j])\n",
    "            on_multitap.remove(on_multitap_copy.pop())\n",
    "        \n",
    "        ans += 1\n",
    "        on_multitap.add(elec)\n",
    "    remain_usage[elec] -= 1\n",
    "\n",
    "print(ans)"
   ]
  }
 ],
 "metadata": {
  "interpreter": {
   "hash": "8fac594bfae6525c0c41b4041d2d72effa188cc8ead05f81b1fab2bb098927fb"
  },
  "kernelspec": {
   "display_name": "Python 3.8.8 ('base')",
   "language": "python",
   "name": "python3"
  },
  "language_info": {
   "codemirror_mode": {
    "name": "ipython",
    "version": 3
   },
   "file_extension": ".py",
   "mimetype": "text/x-python",
   "name": "python",
   "nbconvert_exporter": "python",
   "pygments_lexer": "ipython3",
   "version": "3.8.8"
  },
  "orig_nbformat": 4
 },
 "nbformat": 4,
 "nbformat_minor": 2
}
