{
 "cells": [
  {
   "cell_type": "markdown",
   "metadata": {},
   "source": [
    "# 19844 단어 개수 세기\n",
    "220715\n",
    "- 소감\n",
    "    - 괄호로 묶어서 또는 기호(|)의 범위를 조절할 수 있다.\n",
    "    - 실수해서 시간 오래 걸림..ㅎ\n",
    "- 소요 시간 : 30분\n",
    "- 티어 : 실버 4"
   ]
  },
  {
   "cell_type": "code",
   "execution_count": 26,
   "metadata": {},
   "outputs": [
    {
     "name": "stdout",
     "output_type": "stream",
     "text": [
      "7\n"
     ]
    }
   ],
   "source": [
    "import re\n",
    "S = input()\n",
    "ans = 1\n",
    "c1 = re.compile('[ -]')\n",
    "c2 = re.compile('[ -]([cjnmtsld]|qu)\\'[aeiouh]')\n",
    "c3 = re.compile('([cjnmtsld]|qu)\\'[aeiouh]')\n",
    "ans += len(c1.findall(S))\n",
    "ans += len(c2.findall(S))\n",
    "if c3.match(S):\n",
    "    print(ans + 1)\n",
    "else:\n",
    "    print(ans)"
   ]
  },
  {
   "cell_type": "code",
   "execution_count": 19,
   "metadata": {},
   "outputs": [
    {
     "name": "stdout",
     "output_type": "stream",
     "text": [
      "['-', ' ', ' ', ' ']\n",
      "['qu']\n",
      "qu'e\n"
     ]
    }
   ],
   "source": [
    "print(c1.findall(S))\n",
    "print(c2.findall(S))\n",
    "print(c3.match(S).group())"
   ]
  },
  {
   "cell_type": "code",
   "execution_count": 24,
   "metadata": {},
   "outputs": [
    {
     "data": {
      "text/plain": [
       "[\"qu'est\", \"ce qu'il mange aujourd'hui\"]"
      ]
     },
     "execution_count": 24,
     "metadata": {},
     "output_type": "execute_result"
    }
   ],
   "source": [
    "S.split('-')"
   ]
  },
  {
   "cell_type": "code",
   "execution_count": 25,
   "metadata": {},
   "outputs": [
    {
     "data": {
      "text/plain": [
       "[('qu', \"'\"), ('qu', \"'\"), ('d', \"'\")]"
      ]
     },
     "execution_count": 25,
     "metadata": {},
     "output_type": "execute_result"
    }
   ],
   "source": [
    "c = re.compile(\"(c|j|n|m|t|s|l|d|qu)(')[aeiouh]\")\n",
    "c.findall(S)"
   ]
  },
  {
   "cell_type": "code",
   "execution_count": null,
   "metadata": {},
   "outputs": [],
   "source": []
  }
 ],
 "metadata": {
  "kernelspec": {
   "display_name": "Python 3.8.8 ('base')",
   "language": "python",
   "name": "python3"
  },
  "language_info": {
   "codemirror_mode": {
    "name": "ipython",
    "version": 3
   },
   "file_extension": ".py",
   "mimetype": "text/x-python",
   "name": "python",
   "nbconvert_exporter": "python",
   "pygments_lexer": "ipython3",
   "version": "3.8.8"
  },
  "orig_nbformat": 4,
  "vscode": {
   "interpreter": {
    "hash": "f08154012ddadd8e950e6e9e035c7a7b32c136e7647e9b7c77e02eb723a8bedb"
   }
  }
 },
 "nbformat": 4,
 "nbformat_minor": 2
}
