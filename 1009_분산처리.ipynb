{
 "cells": [
  {
   "cell_type": "markdown",
   "metadata": {},
   "source": [
    "# 1009 분산처리\n",
    "220204\n",
    "- 소감 : 좀 빨리 풀고 다른 거 하고 싶어서 고르긴 했는데, 정답률이 낮은 문제는 이유가 있다.\n",
    "- 알고리즘 분류\n",
    "    - 수학\n",
    "    - 구현\n",
    "- 티어 : 브론즈 3"
   ]
  },
  {
   "cell_type": "code",
   "execution_count": 9,
   "metadata": {},
   "outputs": [
    {
     "name": "stdout",
     "output_type": "stream",
     "text": [
      "9\n",
      "10\n",
      "6\n"
     ]
    }
   ],
   "source": [
    "import sys\n",
    "# input = sys.stdin.readline\n",
    "\n",
    "num_dic = {\n",
    "    0: [0],\n",
    "    1: [1],\n",
    "    2: [2, 4, 8, 6],\n",
    "    3: [3, 9, 7, 1],\n",
    "    4: [4, 6],\n",
    "    5: [5],\n",
    "    6: [6],\n",
    "    7: [7, 9, 3, 1],\n",
    "    8: [8, 4, 2, 6],\n",
    "    9: [9, 1]\n",
    " }\n",
    "\n",
    "\n",
    "for _ in range(int(input())):\n",
    "    a, b = map(int, input().split())\n",
    "    a = a%10\n",
    "    lst = num_dic[a]\n",
    "    ans = lst[(b - 1)%len(lst)]\n",
    "    print(ans if ans!=0 else 10)"
   ]
  },
  {
   "cell_type": "code",
   "execution_count": 6,
   "metadata": {},
   "outputs": [
    {
     "data": {
      "text/plain": [
       "{0: [0],\n",
       " 1: [1],\n",
       " 2: [8, 2, 4, 6],\n",
       " 3: [9, 3, 1, 7],\n",
       " 4: [4, 6],\n",
       " 5: [5],\n",
       " 6: [6],\n",
       " 7: [9, 3, 1, 7],\n",
       " 8: [8, 2, 4, 6],\n",
       " 9: [9, 1]}"
      ]
     },
     "execution_count": 6,
     "metadata": {},
     "output_type": "execute_result"
    }
   ],
   "source": [
    "num_dic"
   ]
  },
  {
   "cell_type": "code",
   "execution_count": 2,
   "metadata": {},
   "outputs": [],
   "source": [
    "#0 0\n",
    "#1 1\n",
    "#2 4 8 6 2 4 8 6\n",
    "#3 9 7 1 3\n",
    "#4 6 4 6\n",
    "#5 5 5\n",
    "#6 6\n",
    "#7 9 3 1 7\n",
    "#8 4 2 6 8\n",
    "#9 1 9\n"
   ]
  },
  {
   "cell_type": "code",
   "execution_count": null,
   "metadata": {},
   "outputs": [],
   "source": []
  }
 ],
 "metadata": {
  "interpreter": {
   "hash": "c798a043d5b26db4ea8dc684fe25ec244835432adc5539bce2de618403b1d63c"
  },
  "kernelspec": {
   "display_name": "Python 3.8.5 64-bit ('base': conda)",
   "language": "python",
   "name": "python3"
  },
  "language_info": {
   "codemirror_mode": {
    "name": "ipython",
    "version": 3
   },
   "file_extension": ".py",
   "mimetype": "text/x-python",
   "name": "python",
   "nbconvert_exporter": "python",
   "pygments_lexer": "ipython3",
   "version": "3.8.5"
  },
  "orig_nbformat": 4
 },
 "nbformat": 4,
 "nbformat_minor": 2
}
