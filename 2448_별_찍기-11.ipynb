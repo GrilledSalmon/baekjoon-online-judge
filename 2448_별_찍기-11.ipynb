{
 "cells": [
  {
   "cell_type": "markdown",
   "metadata": {},
   "source": [
    "# 2448 별 찍기 - 11\n",
    "220309\n",
    "- 알고리즘 분류\n",
    "    - 분할 정복\n",
    "    - 재귀\n",
    "- 티어 : 골드 4"
   ]
  },
  {
   "cell_type": "code",
   "execution_count": 26,
   "metadata": {},
   "outputs": [
    {
     "name": "stdout",
     "output_type": "stream",
     "text": [
      "                       *                        \n",
      "                      * *                       \n",
      "                     *****                      \n",
      "                    *     *                     \n",
      "                   * *   * *                    \n",
      "                  ***** *****                   \n",
      "                 *           *                  \n",
      "                * *         * *                 \n",
      "               *****       *****                \n",
      "              *     *     *     *               \n",
      "             * *   * *   * *   * *              \n",
      "            ***** ***** ***** *****             \n",
      "           *                       *            \n",
      "          * *                     * *           \n",
      "         *****                   *****          \n",
      "        *     *                 *     *         \n",
      "       * *   * *               * *   * *        \n",
      "      ***** *****             ***** *****       \n",
      "     *           *           *           *      \n",
      "    * *         * *         * *         * *     \n",
      "   *****       *****       *****       *****    \n",
      "  *     *     *     *     *     *     *     *   \n",
      " * *   * *   * *   * *   * *   * *   * *   * *  \n",
      "***** ***** ***** ***** ***** ***** ***** *****\n"
     ]
    }
   ],
   "source": [
    "N = int(input())\n",
    "\n",
    "first_shape = [\"*\", \"* *\", \"*****\"]\n",
    "for i in range(3):\n",
    "    blank = ' '*(N - i - 1)\n",
    "    if i == N-1:\n",
    "        print(blank + first_shape[i])\n",
    "    else:\n",
    "        print(blank + first_shape[i] + blank + ' ')\n",
    "\n",
    "phase = 3\n",
    "res = first_shape\n",
    "for i in range(3, N):\n",
    "    blank_1 = ' '*(N - i - 1)\n",
    "    \n",
    "    if i == phase: # pre_shape 업데이트\n",
    "        pre_shape = res.copy()\n",
    "        j = 0\n",
    "        phase *= 2\n",
    "    \n",
    "    blank_2 = ' '*(phase - (j+1)*2 + 1)\n",
    "    row = pre_shape[j] + blank_2 + pre_shape[j]\n",
    "    res.append(row)\n",
    "    \n",
    "    if i == N-1:\n",
    "        print(blank_1 + row + blank_1)\n",
    "    else:\n",
    "        print(blank_1 + row + blank_1 + ' ')\n",
    "\n",
    "    j += 1"
   ]
  },
  {
   "cell_type": "code",
   "execution_count": 27,
   "metadata": {},
   "outputs": [
    {
     "data": {
      "text/plain": [
       "24"
      ]
     },
     "execution_count": 27,
     "metadata": {},
     "output_type": "execute_result"
    }
   ],
   "source": [
    "N"
   ]
  },
  {
   "cell_type": "code",
   "execution_count": 24,
   "metadata": {},
   "outputs": [
    {
     "name": "stdout",
     "output_type": "stream",
     "text": [
      "     *\n",
      "    * *\n",
      "   *****\n",
      "  *     *\n",
      " * *   * *\n",
      "***** *****\n"
     ]
    }
   ],
   "source": [
    "first_shape = [\"*\", \"* *\", \"*****\"]\n",
    "for i in range(3):\n",
    "    blank = ' '*(N - i - 1)\n",
    "    print(blank + first_shape[i])\n",
    "\n",
    "phase = 3\n",
    "res = first_shape\n",
    "for i in range(3, N):\n",
    "    blank_1 = ' '*(N - i - 1)\n",
    "    \n",
    "    if i == phase: # pre_shape 업데이트\n",
    "        pre_shape = res.copy()\n",
    "        j = 0\n",
    "        phase *= 2\n",
    "    \n",
    "    blank_2 = ' '*(phase - (j+1)*2 + 1)\n",
    "    row = pre_shape[j] + blank_2 + pre_shape[j]\n",
    "    res.append(row)\n",
    "\n",
    "    print(blank_1 + row)\n",
    "\n",
    "    j += 1"
   ]
  },
  {
   "cell_type": "code",
   "execution_count": 22,
   "metadata": {},
   "outputs": [
    {
     "data": {
      "text/plain": [
       "['*', '* *', '*****', '  **     *', ' ** *   * *', '****** *****']"
      ]
     },
     "execution_count": 22,
     "metadata": {},
     "output_type": "execute_result"
    }
   ],
   "source": [
    "res"
   ]
  }
 ],
 "metadata": {
  "interpreter": {
   "hash": "5c24e01fedcac420428a9a8e493beca6919c605d3dabe5cbe21140bcbf74340b"
  },
  "kernelspec": {
   "display_name": "Python 3.9.10 64-bit (windows store)",
   "language": "python",
   "name": "python3"
  },
  "language_info": {
   "codemirror_mode": {
    "name": "ipython",
    "version": 3
   },
   "file_extension": ".py",
   "mimetype": "text/x-python",
   "name": "python",
   "nbconvert_exporter": "python",
   "pygments_lexer": "ipython3",
   "version": "3.8.5"
  },
  "orig_nbformat": 4
 },
 "nbformat": 4,
 "nbformat_minor": 2
}
