{
 "cells": [
  {
   "cell_type": "markdown",
   "metadata": {},
   "source": [
    "# 2331 반복순열\n",
    "220108\n",
    "- 알고리즘 분류\n",
    "    - 수학\n",
    "    - 구현\n",
    "- 티어 : 실버 4"
   ]
  },
  {
   "cell_type": "code",
   "execution_count": 22,
   "metadata": {},
   "outputs": [
    {
     "name": "stdout",
     "output_type": "stream",
     "text": [
      "3\n"
     ]
    }
   ],
   "source": [
    "A, P = map(int, input().split())\n",
    "\n",
    "def calc(n, P=P):\n",
    "    return sum(map(lambda x: int(x)**P, str(n)))\n",
    "\n",
    "res_set = set([A])\n",
    "res_list = [A]\n",
    "new = A\n",
    "i = 0\n",
    "while True:\n",
    "    new = calc(new)\n",
    "    if new in res_set:\n",
    "        first_num = new\n",
    "        break\n",
    "    res_set.add(new)\n",
    "    res_list.append(new)\n",
    "    i += 1\n",
    "\n",
    "j = 0\n",
    "while True:\n",
    "    if res_list[j] == first_num:\n",
    "        ans = j\n",
    "        break\n",
    "    j += 1\n",
    "\n",
    "print(ans)"
   ]
  },
  {
   "cell_type": "code",
   "execution_count": 18,
   "metadata": {},
   "outputs": [
    {
     "data": {
      "text/plain": [
       "37"
      ]
     },
     "execution_count": 18,
     "metadata": {},
     "output_type": "execute_result"
    }
   ],
   "source": [
    "first_num"
   ]
  },
  {
   "cell_type": "code",
   "execution_count": 14,
   "metadata": {},
   "outputs": [
    {
     "name": "stdout",
     "output_type": "stream",
     "text": [
      "{89, 65, 4, 37, 74, 42, 16, 145, 20, 57, 58, 61}\n",
      "4\n"
     ]
    }
   ],
   "source": [
    "def calc(n, P=P):\n",
    "    return sum(map(lambda x: int(x)**P, str(n)))\n",
    "\n",
    "res_set = set([A])\n",
    "res_list = [A]\n",
    "new = A\n",
    "i = 0\n",
    "while True:\n",
    "    new = calc(new)\n",
    "    if new in res_set:\n",
    "        first_num = new\n",
    "        break\n",
    "    res_set.add(new)\n",
    "    res_list.append(new)\n",
    "    i += 1\n",
    "\n",
    "j = 0\n",
    "while True:\n",
    "    if res_list[j] == first_num:\n",
    "        ans = j\n",
    "        break\n",
    "    i += 1\n",
    "\n",
    "print(ans)\n"
   ]
  },
  {
   "cell_type": "code",
   "execution_count": null,
   "metadata": {},
   "outputs": [],
   "source": []
  }
 ],
 "metadata": {
  "interpreter": {
   "hash": "c798a043d5b26db4ea8dc684fe25ec244835432adc5539bce2de618403b1d63c"
  },
  "kernelspec": {
   "display_name": "Python 3.8.5 64-bit ('base': conda)",
   "language": "python",
   "name": "python3"
  },
  "language_info": {
   "codemirror_mode": {
    "name": "ipython",
    "version": 3
   },
   "file_extension": ".py",
   "mimetype": "text/x-python",
   "name": "python",
   "nbconvert_exporter": "python",
   "pygments_lexer": "ipython3",
   "version": "3.8.5"
  },
  "orig_nbformat": 4
 },
 "nbformat": 4,
 "nbformat_minor": 2
}
