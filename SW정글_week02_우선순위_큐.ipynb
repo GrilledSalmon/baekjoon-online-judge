{
 "cells": [
  {
   "cell_type": "markdown",
   "metadata": {},
   "source": [
    "# SW정글 week02 컴퓨팅 사고로의 전환\n",
    "## <우선순위 큐>\n",
    "220411"
   ]
  },
  {
   "cell_type": "code",
   "execution_count": 4,
   "metadata": {},
   "outputs": [
    {
     "name": "stdout",
     "output_type": "stream",
     "text": [
      "0\n",
      "2\n",
      "1\n",
      "3\n",
      "2\n",
      "1\n",
      "0\n",
      "0\n"
     ]
    }
   ],
   "source": [
    "# 11279 최대 힙\n",
    "from heapq import heappop, heappush\n",
    "import sys\n",
    "# input = sys.stdin.readline\n",
    "\n",
    "N = int(input())\n",
    "heap = []\n",
    "for _ in range(N):\n",
    "    num = int(input())\n",
    "    if num:\n",
    "        heappush(heap, -num)\n",
    "    elif heap:\n",
    "        print(-heappop(heap))\n",
    "    else:\n",
    "        print(0)"
   ]
  },
  {
   "cell_type": "code",
   "execution_count": 9,
   "metadata": {},
   "outputs": [
    {
     "name": "stdout",
     "output_type": "stream",
     "text": [
      "1\n",
      "1\n",
      "2\n",
      "2\n",
      "2\n",
      "2\n",
      "5\n"
     ]
    }
   ],
   "source": [
    "# 1655 가운데를 말해요\n",
    "from heapq import heappop, heappush\n",
    "import sys\n",
    "# input = sys.stdin.readline\n",
    "\n",
    "N = int(input())\n",
    "bigger_heap = [] # 최소힙\n",
    "smaller_heap = [-int(input())] # 최대힙\n",
    "print(-smaller_heap[0])\n",
    "for n in range(2, N+1):\n",
    "    num = int(input())\n",
    "    bigger_min = bigger_heap[0] if bigger_heap else 100000\n",
    "    smaller_max = -smaller_heap[0]\n",
    "    if num > bigger_min:\n",
    "        if len(bigger_heap) == len(smaller_heap):\n",
    "            heappush(smaller_heap, -heappop(bigger_heap))\n",
    "            heappush(bigger_heap, num)\n",
    "        else: # smaller가 더 긴 경우\n",
    "            heappush(bigger_heap, num)\n",
    "    elif num >= smaller_max:\n",
    "        if len(bigger_heap) == len(smaller_heap):\n",
    "            heappush(smaller_heap, -num)\n",
    "        else:\n",
    "            heappush(bigger_heap, num)\n",
    "    else: # smaller_max > num\n",
    "        if len(bigger_heap) == len(smaller_heap):\n",
    "            heappush(smaller_heap, -num)\n",
    "        else:\n",
    "            heappush(bigger_heap, -heappop(smaller_heap))\n",
    "            heappush(smaller_heap, -num)\n",
    "    \n",
    "    print(-smaller_heap[0])    "
   ]
  },
  {
   "cell_type": "code",
   "execution_count": 14,
   "metadata": {},
   "outputs": [
    {
     "name": "stdout",
     "output_type": "stream",
     "text": [
      "100\n"
     ]
    }
   ],
   "source": [
    "# 1715 카드 정렬하기\n",
    "from heapq import heappop, heappush\n",
    "import sys\n",
    "# input = sys.stdin.readline\n",
    "N = int(input())\n",
    "\n",
    "cards_heap = []\n",
    "for _ in range(N):\n",
    "    heappush(cards_heap, int(input()))\n",
    "\n",
    "tot = 0\n",
    "for _ in range(N-1):\n",
    "    summ = heappop(cards_heap) + heappop(cards_heap)\n",
    "    tot += summ\n",
    "    heappush(cards_heap, summ)\n",
    "\n",
    "print(tot)"
   ]
  },
  {
   "cell_type": "code",
   "execution_count": 1,
   "metadata": {},
   "outputs": [
    {
     "name": "stdout",
     "output_type": "stream",
     "text": [
      "4\n"
     ]
    }
   ],
   "source": [
    "# 가장 빠른 거\n",
    "from heapq import heappop, heappush\n",
    "import sys\n",
    "input = sys.stdin.readline\n",
    "n = int(input())\n",
    "end_list = []\n",
    "for _ in range(n):\n",
    "    a, b = map(int, input().split())\n",
    "    if a < b:\n",
    "        end_list.append((b, a))\n",
    "    else:\n",
    "        end_list.append((a, b))\n",
    "d = int(input()) # 철로의 길이\n",
    "end_list.sort(reverse=True)\n",
    "\n",
    "contained = []\n",
    "maxi = 0\n",
    "while end_list:\n",
    "    now_end, now_start = end_list.pop()\n",
    "    now_rail_end = now_end\n",
    "    now_rail_start = now_rail_end - d\n",
    "\n",
    "    while contained and contained[0][0] < now_rail_start:\n",
    "        heappop(contained)\n",
    "\n",
    "    if now_start >= now_rail_start:\n",
    "        heappush(contained, (now_start, now_end))\n",
    "\n",
    "    if maxi < len(contained):\n",
    "        maxi = len(contained)\n",
    "print(maxi)"
   ]
  }
 ],
 "metadata": {
  "interpreter": {
   "hash": "8fac594bfae6525c0c41b4041d2d72effa188cc8ead05f81b1fab2bb098927fb"
  },
  "kernelspec": {
   "display_name": "Python 3.8.8 ('base')",
   "language": "python",
   "name": "python3"
  },
  "language_info": {
   "codemirror_mode": {
    "name": "ipython",
    "version": 3
   },
   "file_extension": ".py",
   "mimetype": "text/x-python",
   "name": "python",
   "nbconvert_exporter": "python",
   "pygments_lexer": "ipython3",
   "version": "3.8.8"
  },
  "orig_nbformat": 4
 },
 "nbformat": 4,
 "nbformat_minor": 2
}
