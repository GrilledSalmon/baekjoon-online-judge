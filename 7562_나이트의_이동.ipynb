{
 "cells": [
  {
   "cell_type": "markdown",
   "metadata": {},
   "source": [
    "# 7562 나이트의 이동\n",
    "220824\n",
    "- 소감\n",
    "    - 그냥 BFS하면 됨\n",
    "- 소요 시간 : 15분\n",
    "- 알고리즘 분류 : 그래프 이론, 그래프 탐색, 너비 우선 탐색\n",
    "- 티어 : 실버 1"
   ]
  },
  {
   "cell_type": "code",
   "execution_count": 2,
   "metadata": {},
   "outputs": [],
   "source": [
    "from collections import deque\n",
    "import sys\n",
    "# input = sys.stdin.readline\n",
    "\n",
    "def solve():\n",
    "    l = int(input())\n",
    "    start_r, start_c = map(int, input().split())\n",
    "    target_r, target_c = map(int, input().split())\n",
    "\n",
    "    def bfs():\n",
    "        drdc = [(1, -2), (2, -1), (2, 1), (1, 2), (-1, 2), (-2, 1), (-2, -1), (-1, -2)]\n",
    "        queue = deque([(start_r, start_c)])\n",
    "        visited = [[0]*l for _ in range(l)]\n",
    "        visited[start_r][start_c] = 1\n",
    "        move = 0\n",
    "        if (start_r, start_c) == (target_r, target_c):\n",
    "            return move\n",
    "        while queue:\n",
    "            move += 1\n",
    "            for _ in range(len(queue)):\n",
    "                now_r, now_c = queue.popleft()\n",
    "                for dr, dc in drdc:\n",
    "                    adj_r, adj_c = now_r + dr, now_c + dc\n",
    "                    if 0<=adj_r<l and 0<=adj_c<l and not visited[adj_r][adj_c]:\n",
    "                        if (adj_r, adj_c) == (target_r, target_c):\n",
    "                            return move\n",
    "                        visited[adj_r][adj_c] = 1\n",
    "                        queue.append((adj_r, adj_c))\n",
    "\n",
    "    print(bfs())\n",
    "\n",
    "for _ in range(int(input())):\n",
    "    solve()\n",
    "            "
   ]
  },
  {
   "cell_type": "code",
   "execution_count": 5,
   "metadata": {},
   "outputs": [
    {
     "name": "stdout",
     "output_type": "stream",
     "text": [
      "5\n"
     ]
    }
   ],
   "source": [
    "from collections import deque\n",
    "def bfs():\n",
    "    drdc = [(1, -2), (2, -1), (2, 1), (1, 2), (-1, 2), (-2, 1), (-2, -1), (-1, -2)]\n",
    "    queue = deque([(start_r, start_c)])\n",
    "    visited = [[0]*l for _ in range(l)]\n",
    "    visited[start_r][start_c] = 1\n",
    "    move = 0\n",
    "    if (start_r, start_c) == (target_r, target_c):\n",
    "        return move\n",
    "    while queue:\n",
    "        move += 1\n",
    "        for _ in range(len(queue)):\n",
    "            now_r, now_c = queue.popleft()\n",
    "            for dr, dc in drdc:\n",
    "                adj_r, adj_c = now_r + dr, now_c + dc\n",
    "                if 0<=adj_r<l and 0<=adj_c<l and not visited[adj_r][adj_c]:\n",
    "                    if (adj_r, adj_c) == (target_r, target_c):\n",
    "                        return move\n",
    "                    visited[adj_r][adj_c] = 1\n",
    "                    queue.append((adj_r, adj_c))\n",
    "\n",
    "print(bfs())\n",
    "            "
   ]
  },
  {
   "cell_type": "code",
   "execution_count": null,
   "metadata": {},
   "outputs": [],
   "source": []
  }
 ],
 "metadata": {
  "kernelspec": {
   "display_name": "Python 3.8.5 ('base')",
   "language": "python",
   "name": "python3"
  },
  "language_info": {
   "codemirror_mode": {
    "name": "ipython",
    "version": 3
   },
   "file_extension": ".py",
   "mimetype": "text/x-python",
   "name": "python",
   "nbconvert_exporter": "python",
   "pygments_lexer": "ipython3",
   "version": "3.8.5"
  },
  "orig_nbformat": 4,
  "vscode": {
   "interpreter": {
    "hash": "8cc51f7a6f9663e4a057df8e9ab0b3750994a36584b90d61db68aa71b39bfa78"
   }
  }
 },
 "nbformat": 4,
 "nbformat_minor": 2
}
