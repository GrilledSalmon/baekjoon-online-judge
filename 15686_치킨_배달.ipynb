{
 "cells": [
  {
   "cell_type": "markdown",
   "metadata": {},
   "source": [
    "# 15686 치킨 배달\n",
    "220501\n",
    "- 소감 : 오늘은 구현문제를 풀었습니다. 구현문제는 시간이 부족한 것을 알고 있었기 때문에 빡집중해서 풀었는데, 집에서 가장 가까운 치킨집을 구해야 해서 BFS를 써야하나 했지만 집이 많아서 visit 처리를 위해 visited 리스트를 계속 만들면 시간초과가 날 것 같았습니다. 근데 마침 치킨집 숫자가 13개 이하인 것을 보고 브루트포스도 될 것 같아서 빠르게 구현했는데 통과할 수 있었습니다. 풀이 시간은 20분 정도가 소요되었습니다.\n",
    "- 알고리즘 분류\n",
    "    - 구현\n",
    "    - 브루트포스 알고리즘\n",
    "- 티어 : 골드 5"
   ]
  },
  {
   "cell_type": "code",
   "execution_count": 1,
   "metadata": {},
   "outputs": [],
   "source": [
    "from itertools import combinations\n",
    "import sys\n",
    "# input = sys.stdin.readline\n",
    "\n",
    "N, M = map(int, input().split())\n",
    "city = [list(map(int, input().split())) for _ in range(N)]\n",
    "\n",
    "houses = []\n",
    "chikens = []\n",
    "for row in range(N):\n",
    "    for col in range(N):\n",
    "        status = city[row][col]\n",
    "        if status == 1:\n",
    "            houses.append((row, col))\n",
    "        elif status == 2:\n",
    "            chikens.append((row, col))\n",
    "\n",
    "def distance(house, chicken):\n",
    "    \"\"\"집과 치킨 사이의 거리를 리턴\"\"\"\n",
    "    return abs(house[0] - chicken[0]) + abs(house[1] - chicken[1])\n",
    "\n",
    "min_city_dist = float('inf')\n",
    "for case in combinations(chikens, M):\n",
    "    now_city_dist = 0\n",
    "    for house in houses:\n",
    "        now_chiken_dist = float('inf')\n",
    "        for chicken in case:\n",
    "            now_dist = distance(house, chicken)\n",
    "            if now_dist < now_chiken_dist:\n",
    "                now_chiken_dist = now_dist\n",
    "        now_city_dist += now_chiken_dist\n",
    "    if now_city_dist < min_city_dist:\n",
    "        min_city_dist = now_city_dist\n",
    "        \n",
    "print(min_city_dist)"
   ]
  },
  {
   "cell_type": "code",
   "execution_count": 3,
   "metadata": {},
   "outputs": [
    {
     "data": {
      "text/plain": [
       "([[0, 0, 1, 0, 0],\n",
       "  [0, 0, 2, 0, 1],\n",
       "  [0, 1, 2, 0, 0],\n",
       "  [0, 0, 1, 0, 0],\n",
       "  [0, 0, 0, 0, 2]],\n",
       " 5,\n",
       " 3)"
      ]
     },
     "execution_count": 3,
     "metadata": {},
     "output_type": "execute_result"
    }
   ],
   "source": [
    "city, N, M"
   ]
  },
  {
   "cell_type": "code",
   "execution_count": 4,
   "metadata": {},
   "outputs": [],
   "source": [
    "houses = []\n",
    "chikens = []\n",
    "for row in range(N):\n",
    "    for col in range(N):\n",
    "        status = city[row][col]\n",
    "        if status == 1:\n",
    "            houses.append((row, col))\n",
    "        elif status == 2:\n",
    "            chikens.append((row, col))"
   ]
  },
  {
   "cell_type": "code",
   "execution_count": 6,
   "metadata": {},
   "outputs": [
    {
     "data": {
      "text/plain": [
       "([(0, 2), (1, 4), (2, 1), (3, 2)], [(1, 2), (2, 2), (4, 4)])"
      ]
     },
     "execution_count": 6,
     "metadata": {},
     "output_type": "execute_result"
    }
   ],
   "source": [
    "houses, chikens"
   ]
  },
  {
   "cell_type": "code",
   "execution_count": 12,
   "metadata": {},
   "outputs": [
    {
     "name": "stdout",
     "output_type": "stream",
     "text": [
      "5\n"
     ]
    }
   ],
   "source": [
    "from itertools import combinations\n",
    "def distance(house, chicken):\n",
    "    \"\"\"집과 치킨 사이의 거리를 리턴\"\"\"\n",
    "    return abs(house[0] - chicken[0]) + abs(house[1] - chicken[1])\n",
    "\n",
    "min_city_dist = float('inf')\n",
    "for case in combinations(chikens, M):\n",
    "    now_city_dist = 0\n",
    "    for house in houses:\n",
    "        now_chiken_dist = float('inf')\n",
    "        for chicken in case:\n",
    "            now_dist = distance(house, chicken)\n",
    "            if now_dist < now_chiken_dist:\n",
    "                now_chiken_dist = now_dist\n",
    "        now_city_dist += now_chiken_dist\n",
    "    if now_city_dist < min_city_dist:\n",
    "        min_city_dist = now_city_dist\n",
    "        \n",
    "print(min_city_dist)"
   ]
  },
  {
   "cell_type": "code",
   "execution_count": null,
   "metadata": {},
   "outputs": [],
   "source": []
  }
 ],
 "metadata": {
  "interpreter": {
   "hash": "8fac594bfae6525c0c41b4041d2d72effa188cc8ead05f81b1fab2bb098927fb"
  },
  "kernelspec": {
   "display_name": "Python 3.8.8 ('base')",
   "language": "python",
   "name": "python3"
  },
  "language_info": {
   "codemirror_mode": {
    "name": "ipython",
    "version": 3
   },
   "file_extension": ".py",
   "mimetype": "text/x-python",
   "name": "python",
   "nbconvert_exporter": "python",
   "pygments_lexer": "ipython3",
   "version": "3.8.8"
  },
  "orig_nbformat": 4
 },
 "nbformat": 4,
 "nbformat_minor": 2
}
