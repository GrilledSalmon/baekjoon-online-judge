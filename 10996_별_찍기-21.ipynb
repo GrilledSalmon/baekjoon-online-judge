{
 "cells": [
  {
   "cell_type": "markdown",
   "metadata": {},
   "source": [
    "# 10996 별 찍기 - 21\n",
    "220919\n",
    "- 소감\n",
    "    - 그간 바로 풀이가 떠오르지 않아 건너 뛰었던 문제..\n",
    "    - 오늘 첫 출근했는데 피곤하다\n",
    "- 소요 시간 : 15분\n",
    "- 알고리즘 분류 : 구현\n",
    "- 티어 : 브론즈 2"
   ]
  },
  {
   "cell_type": "code",
   "execution_count": 1,
   "metadata": {},
   "outputs": [],
   "source": [
    "import sys\n",
    "# input = sys.stdin.readline\n",
    "\n",
    "N = int(input())\n",
    "\n",
    "line_1 = '* '*((N-1)//2+1)\n",
    "line_1.rstrip()\n",
    "line_2 = ' *'*(N//2)\n",
    "ls = []\n",
    "for i in range(N):\n",
    "    ls.append(line_1)\n",
    "    ls.append(line_2)\n",
    "print('\\n'.join(map(str, ls)).rstrip())"
   ]
  },
  {
   "cell_type": "code",
   "execution_count": 5,
   "metadata": {},
   "outputs": [
    {
     "name": "stdout",
     "output_type": "stream",
     "text": [
      "* \n",
      " *\n",
      "* \n",
      " *\n"
     ]
    }
   ],
   "source": [
    "line_1 = '* '*((N-1)//2+1)\n",
    "line_1.rstrip()\n",
    "line_2 = ' *'*(N//2)\n",
    "for i in range(N):\n",
    "    print(line_1 + '\\n' + line_2)"
   ]
  },
  {
   "cell_type": "code",
   "execution_count": 4,
   "metadata": {},
   "outputs": [
    {
     "data": {
      "text/plain": [
       "2"
      ]
     },
     "execution_count": 4,
     "metadata": {},
     "output_type": "execute_result"
    }
   ],
   "source": [
    "N"
   ]
  },
  {
   "cell_type": "code",
   "execution_count": null,
   "metadata": {},
   "outputs": [],
   "source": []
  }
 ],
 "metadata": {
  "kernelspec": {
   "display_name": "Python 3.8.5 ('base')",
   "language": "python",
   "name": "python3"
  },
  "language_info": {
   "codemirror_mode": {
    "name": "ipython",
    "version": 3
   },
   "file_extension": ".py",
   "mimetype": "text/x-python",
   "name": "python",
   "nbconvert_exporter": "python",
   "pygments_lexer": "ipython3",
   "version": "3.8.5"
  },
  "orig_nbformat": 4,
  "vscode": {
   "interpreter": {
    "hash": "8cc51f7a6f9663e4a057df8e9ab0b3750994a36584b90d61db68aa71b39bfa78"
   }
  }
 },
 "nbformat": 4,
 "nbformat_minor": 2
}
