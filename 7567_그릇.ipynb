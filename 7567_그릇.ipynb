{
 "cells": [
  {
   "cell_type": "markdown",
   "metadata": {},
   "source": [
    "# 7567 그릇\n",
    "220920\n",
    "- 소감\n",
    "    - 잘 구현한다.\n",
    "- 소요 시간 : 3분\n",
    "- 알고리즘 분류 : 구현, 문자열\n",
    "- 티어 : 브론즈 2"
   ]
  },
  {
   "cell_type": "code",
   "execution_count": 2,
   "metadata": {},
   "outputs": [
    {
     "name": "stdout",
     "output_type": "stream",
     "text": [
      "80\n"
     ]
    }
   ],
   "source": [
    "prev = None\n",
    "ans = 0\n",
    "for s in input():\n",
    "    if prev == s:\n",
    "        ans += 5\n",
    "    else:\n",
    "        ans += 10\n",
    "        prev = s\n",
    "print(ans)"
   ]
  },
  {
   "cell_type": "code",
   "execution_count": null,
   "metadata": {},
   "outputs": [],
   "source": []
  }
 ],
 "metadata": {
  "kernelspec": {
   "display_name": "Python 3.8.5 ('base')",
   "language": "python",
   "name": "python3"
  },
  "language_info": {
   "codemirror_mode": {
    "name": "ipython",
    "version": 3
   },
   "file_extension": ".py",
   "mimetype": "text/x-python",
   "name": "python",
   "nbconvert_exporter": "python",
   "pygments_lexer": "ipython3",
   "version": "3.8.5"
  },
  "orig_nbformat": 4,
  "vscode": {
   "interpreter": {
    "hash": "8cc51f7a6f9663e4a057df8e9ab0b3750994a36584b90d61db68aa71b39bfa78"
   }
  }
 },
 "nbformat": 4,
 "nbformat_minor": 2
}
