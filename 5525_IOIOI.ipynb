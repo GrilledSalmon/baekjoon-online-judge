{
 "cells": [
  {
   "cell_type": "markdown",
   "metadata": {},
   "source": [
    "# 5525 IOIOI\n",
    "220227\n",
    "- 소감 : 정규표현식으로 풀긴 했는데... 생각보다 정규표현식으로 푼다고 무조건 빠르다는 보장은 없는 것 같다.\n",
    "- 알고리즘 분류\n",
    "    - 문자열\n",
    "- 티어 : 실버 2"
   ]
  },
  {
   "cell_type": "code",
   "execution_count": 11,
   "metadata": {},
   "outputs": [
    {
     "data": {
      "text/plain": [
       "4"
      ]
     },
     "execution_count": 11,
     "metadata": {},
     "output_type": "execute_result"
    }
   ],
   "source": [
    "import re\n",
    "N, M = int(input()), int(input())\n",
    "S = input()\n",
    "\n",
    "p_n = 'I' + 'OI'*N\n",
    "regex = re.compile(f'{p_n}(OI)*')\n",
    "ans = 0\n",
    "for r in re.finditer(regex, S):\n",
    "    l = (len(r.group()) - 1) // 2\n",
    "    ans += l - N + 1\n",
    "print(ans)"
   ]
  },
  {
   "cell_type": "code",
   "execution_count": 3,
   "metadata": {},
   "outputs": [
    {
     "data": {
      "text/plain": [
       "'OOIOIOIOIIOII'"
      ]
     },
     "execution_count": 3,
     "metadata": {},
     "output_type": "execute_result"
    }
   ],
   "source": [
    "S"
   ]
  },
  {
   "cell_type": "code",
   "execution_count": 12,
   "metadata": {},
   "outputs": [
    {
     "data": {
      "text/plain": [
       "4"
      ]
     },
     "execution_count": 12,
     "metadata": {},
     "output_type": "execute_result"
    }
   ],
   "source": [
    "p_n = 'I' + 'OI'*N\n",
    "\n",
    "l = len(p_n)\n",
    "def cnt():\n",
    "    cnt = 0\n",
    "    for i in range(M-l+1):\n",
    "        for j in range(l):\n",
    "            if S[i+j] != p_n[j]:\n",
    "                break\n",
    "        else: cnt += 1\n",
    "    return cnt\n",
    "cnt()"
   ]
  },
  {
   "cell_type": "code",
   "execution_count": 17,
   "metadata": {},
   "outputs": [
    {
     "data": {
      "text/plain": [
       "['IOI', 'IOI', 'IOI']"
      ]
     },
     "execution_count": 17,
     "metadata": {},
     "output_type": "execute_result"
    }
   ],
   "source": [
    "import re\n",
    "p_n = 'I' + 'OI'*N\n",
    "re.findall(f'{p_n}', S)"
   ]
  },
  {
   "cell_type": "code",
   "execution_count": 20,
   "metadata": {},
   "outputs": [
    {
     "data": {
      "text/plain": [
       "('OOIOIOIOIIOII', 'IOI')"
      ]
     },
     "execution_count": 20,
     "metadata": {},
     "output_type": "execute_result"
    }
   ],
   "source": [
    "S, p_n"
   ]
  },
  {
   "cell_type": "code",
   "execution_count": 34,
   "metadata": {},
   "outputs": [
    {
     "data": {
      "text/plain": [
       "'python'"
      ]
     },
     "execution_count": 34,
     "metadata": {},
     "output_type": "execute_result"
    }
   ],
   "source": [
    "regex = re.compile('[a-z]+')\n",
    "res = re.search(regex, 'python316426asdf')\n",
    "res.group()"
   ]
  },
  {
   "cell_type": "code",
   "execution_count": 43,
   "metadata": {},
   "outputs": [
    {
     "name": "stdout",
     "output_type": "stream",
     "text": [
      "O\n",
      "O\n",
      "I\n",
      "O\n",
      "I\n",
      "O\n",
      "I\n",
      "O\n",
      "I\n",
      "I\n",
      "O\n",
      "I\n",
      "I\n"
     ]
    }
   ],
   "source": [
    "ls = []\n",
    "prev_was_O = True\n",
    "partial_io_group_n = -1\n",
    "for s in S:\n",
    "    if prev_was_O:\n",
    "        if s == 'I':\n",
    "            partial_io_group_n += 1\n",
    "            prev_was_O = False\n",
    "        else:\n",
    "            if partial_io_group_n \n",
    "            partial_io_group_n = -1\n",
    "\n",
    "    else:\n",
    "        if s == 'O':\n",
    "            prev_was_O = True\n",
    "\n"
   ]
  },
  {
   "cell_type": "code",
   "execution_count": 84,
   "metadata": {},
   "outputs": [
    {
     "name": "stdout",
     "output_type": "stream",
     "text": [
      "IOIOI\n",
      "IOI\n"
     ]
    }
   ],
   "source": [
    "import re\n",
    "regex = re.compile('I(OI)+')\n",
    "ans = 0\n",
    "for r in re.finditer(regex, 'IOIOIOOIIOOIIOIO'):\n",
    "    print(r.group())"
   ]
  },
  {
   "cell_type": "code",
   "execution_count": 99,
   "metadata": {},
   "outputs": [
    {
     "name": "stdout",
     "output_type": "stream",
     "text": [
      "4\n"
     ]
    }
   ],
   "source": [
    "import re\n",
    "p_n = 'I' + 'OI'*N\n",
    "regex = re.compile(f'{p_n}(OI)*')\n",
    "ans = 0\n",
    "for r in re.finditer(regex, S):\n",
    "    l = (len(r.group()) - 1) // 2\n",
    "    if l >= N:\n",
    "        ans += l - N + 1\n",
    "print(ans)"
   ]
  },
  {
   "cell_type": "code",
   "execution_count": 97,
   "metadata": {},
   "outputs": [
    {
     "data": {
      "text/plain": [
       "'OOIOIOIOIIOII'"
      ]
     },
     "execution_count": 97,
     "metadata": {},
     "output_type": "execute_result"
    }
   ],
   "source": [
    "S"
   ]
  },
  {
   "cell_type": "code",
   "execution_count": 98,
   "metadata": {},
   "outputs": [
    {
     "data": {
      "text/plain": [
       "'IOI'"
      ]
     },
     "execution_count": 98,
     "metadata": {},
     "output_type": "execute_result"
    }
   ],
   "source": [
    "p_n"
   ]
  },
  {
   "cell_type": "code",
   "execution_count": 89,
   "metadata": {},
   "outputs": [
    {
     "data": {
      "text/plain": [
       "re.compile(r'IOI(OI)*', re.UNICODE)"
      ]
     },
     "execution_count": 89,
     "metadata": {},
     "output_type": "execute_result"
    }
   ],
   "source": [
    "regex"
   ]
  }
 ],
 "metadata": {
  "interpreter": {
   "hash": "b7b1cc53e1969a6398ea0f7a87ba5d239497c30c0a4a143b4fde6787671b1a7c"
  },
  "kernelspec": {
   "display_name": "Python 3.8.12 ('n312')",
   "language": "python",
   "name": "python3"
  },
  "language_info": {
   "codemirror_mode": {
    "name": "ipython",
    "version": 3
   },
   "file_extension": ".py",
   "mimetype": "text/x-python",
   "name": "python",
   "nbconvert_exporter": "python",
   "pygments_lexer": "ipython3",
   "version": "3.8.5"
  },
  "orig_nbformat": 4
 },
 "nbformat": 4,
 "nbformat_minor": 2
}
