{
 "cells": [
  {
   "cell_type": "markdown",
   "metadata": {},
   "source": [
    "# 2003 수들의 합 2\n",
    "220828\n",
    "- 소감\n",
    "    - 그냥 예쁘게 짤 생각하지 말고 빠르게 생각난 거 일단 구현하자 생각해서 푸니 정말 금방 풀긴 한다.\n",
    "    - 누적합과 투 포인터 개념을 합친 문제\n",
    "- 소요 시간 : 10분\n",
    "- 알고리즘 분류 : 브루트포스 알고리즘, 두 포인터\n",
    "- 티어 : 실버 4"
   ]
  },
  {
   "cell_type": "code",
   "execution_count": 1,
   "metadata": {},
   "outputs": [],
   "source": [
    "N, M = map(int, input().split())\n",
    "A = list(map(int, input().split()))\n",
    "\n",
    "ans = 0\n",
    "acc_list = [0]\n",
    "for a in A:\n",
    "    acc_list.append(acc_list[-1]+a)\n",
    "left, right = 0, 1\n",
    "while True:\n",
    "    if right == len(acc_list):\n",
    "        break\n",
    "    right_num = acc_list[right]\n",
    "    if acc_list[right] >= M:\n",
    "        while True:\n",
    "            left_num = acc_list[left]\n",
    "            val = right_num - left_num\n",
    "            if val == M:\n",
    "                ans += 1\n",
    "                left += 1\n",
    "                break\n",
    "            elif val < M or left == right:\n",
    "                break\n",
    "            left += 1\n",
    "    right += 1\n",
    "\n",
    "print(ans)"
   ]
  },
  {
   "cell_type": "code",
   "execution_count": 4,
   "metadata": {},
   "outputs": [
    {
     "data": {
      "text/plain": [
       "(4, 2, [1, 1, 1, 1])"
      ]
     },
     "execution_count": 4,
     "metadata": {},
     "output_type": "execute_result"
    }
   ],
   "source": [
    "N, M, A"
   ]
  },
  {
   "cell_type": "code",
   "execution_count": 8,
   "metadata": {},
   "outputs": [
    {
     "name": "stdout",
     "output_type": "stream",
     "text": [
      "3\n"
     ]
    }
   ],
   "source": [
    "ans = 0\n",
    "acc_list = [0]\n",
    "for a in A:\n",
    "    acc_list.append(acc_list[-1]+a)\n",
    "left, right = 0, 1\n",
    "while True:\n",
    "    if right == len(acc_list):\n",
    "        break\n",
    "    right_num = acc_list[right]\n",
    "    if acc_list[right] >= M:\n",
    "        while True:\n",
    "            left_num = acc_list[left]\n",
    "            val = right_num - left_num\n",
    "            if val == M:\n",
    "                ans += 1\n",
    "                left += 1\n",
    "                break\n",
    "            elif val < M or left == right:\n",
    "                break\n",
    "            left += 1\n",
    "    right += 1\n",
    "\n",
    "print(ans)\n"
   ]
  },
  {
   "cell_type": "code",
   "execution_count": 6,
   "metadata": {},
   "outputs": [
    {
     "data": {
      "text/plain": [
       "[0, 1, 2, 3, 4]"
      ]
     },
     "execution_count": 6,
     "metadata": {},
     "output_type": "execute_result"
    }
   ],
   "source": [
    "acc_list"
   ]
  },
  {
   "cell_type": "code",
   "execution_count": 7,
   "metadata": {},
   "outputs": [
    {
     "data": {
      "text/plain": [
       "(3, 0)"
      ]
     },
     "execution_count": 7,
     "metadata": {},
     "output_type": "execute_result"
    }
   ],
   "source": [
    "right, left"
   ]
  },
  {
   "cell_type": "code",
   "execution_count": null,
   "metadata": {},
   "outputs": [],
   "source": []
  }
 ],
 "metadata": {
  "kernelspec": {
   "display_name": "Python 3.8.5 ('base')",
   "language": "python",
   "name": "python3"
  },
  "language_info": {
   "codemirror_mode": {
    "name": "ipython",
    "version": 3
   },
   "file_extension": ".py",
   "mimetype": "text/x-python",
   "name": "python",
   "nbconvert_exporter": "python",
   "pygments_lexer": "ipython3",
   "version": "3.8.5"
  },
  "orig_nbformat": 4,
  "vscode": {
   "interpreter": {
    "hash": "8cc51f7a6f9663e4a057df8e9ab0b3750994a36584b90d61db68aa71b39bfa78"
   }
  }
 },
 "nbformat": 4,
 "nbformat_minor": 2
}
