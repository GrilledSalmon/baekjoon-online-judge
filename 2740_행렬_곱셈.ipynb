{
 "cells": [
  {
   "cell_type": "markdown",
   "metadata": {},
   "source": [
    "# 2740 행렬 곱셈\n",
    "220821\n",
    "- 소감\n",
    "    - 그냥 행렬 곱셈 구현하면 되는 문제\n",
    "- 소요 시간 : 20분\n",
    "- 알고리즘 분류 : 수학, 구현, 선형대수학\n",
    "- 티어 : 실버 5"
   ]
  },
  {
   "cell_type": "code",
   "execution_count": 3,
   "metadata": {},
   "outputs": [],
   "source": [
    "import sys\n",
    "# input = sys.stdin.readline\n",
    "\n",
    "N, M = map(int, input().split())\n",
    "A = [list(map(int, input().split())) for _ in range(N)]\n",
    "M, K = map(int, input().split())\n",
    "B = [list(map(int, input().split())) for _ in range(M)]\n",
    "\n",
    "def transpose():\n",
    "    B_ = []\n",
    "    for c in range(K):\n",
    "        row = []\n",
    "        for r in range(M):\n",
    "            row.append(B[r][c])\n",
    "        B_.append(row)\n",
    "    return B_\n",
    "\n",
    "def inner_product(v, w):\n",
    "    res = 0\n",
    "    for i in range(len(v)):\n",
    "        res += v[i]*w[i]\n",
    "    return res\n",
    "\n",
    "def mult(A, B_):\n",
    "    for n in range(N):\n",
    "        v = A[n]\n",
    "        row = []\n",
    "        for k in range(K):\n",
    "            w = B_[k]\n",
    "            row.append(inner_product(v, w))\n",
    "        print(' '.join(map(str, row)))\n",
    "\n",
    "mult(A, transpose())"
   ]
  },
  {
   "cell_type": "code",
   "execution_count": 4,
   "metadata": {},
   "outputs": [
    {
     "data": {
      "text/plain": [
       "(3, 2, [[1, 2], [3, 4], [5, 6]], 3, [[-1, -2, 0], [0, 0, 3]])"
      ]
     },
     "execution_count": 4,
     "metadata": {},
     "output_type": "execute_result"
    }
   ],
   "source": [
    "N, M, A, K, B"
   ]
  },
  {
   "cell_type": "code",
   "execution_count": 10,
   "metadata": {},
   "outputs": [],
   "source": [
    "def transpose():\n",
    "    B_ = []\n",
    "    for c in range(K):\n",
    "        row = []\n",
    "        for r in range(M):\n",
    "            row.append(B[r][c])\n",
    "        B_.append(row)\n",
    "    return B_\n",
    "\n",
    "def inner_product(v, w):\n",
    "    res = 0\n",
    "    for i in range(len(v)):\n",
    "        res += v[i]*w[i]\n",
    "    return res\n",
    "\n",
    "def mult(A, B_):\n",
    "    for n in range(N):\n",
    "        v = A[n]\n",
    "        row = []\n",
    "        for k in range(K):\n",
    "            w = B_[k]\n",
    "            row.append(inner_product(v, w))\n",
    "        print(' '.join(map(str, row)))"
   ]
  },
  {
   "cell_type": "code",
   "execution_count": 11,
   "metadata": {},
   "outputs": [
    {
     "name": "stdout",
     "output_type": "stream",
     "text": [
      "-5 0 6\n",
      "-11 0 12\n",
      "-17 0 18\n"
     ]
    }
   ],
   "source": [
    "mult(A, transpose())"
   ]
  },
  {
   "cell_type": "code",
   "execution_count": null,
   "metadata": {},
   "outputs": [],
   "source": []
  }
 ],
 "metadata": {
  "interpreter": {
   "hash": "8cc51f7a6f9663e4a057df8e9ab0b3750994a36584b90d61db68aa71b39bfa78"
  },
  "kernelspec": {
   "display_name": "Python 3.8.5 ('base')",
   "language": "python",
   "name": "python3"
  },
  "language_info": {
   "codemirror_mode": {
    "name": "ipython",
    "version": 3
   },
   "file_extension": ".py",
   "mimetype": "text/x-python",
   "name": "python",
   "nbconvert_exporter": "python",
   "pygments_lexer": "ipython3",
   "version": "3.8.5"
  },
  "orig_nbformat": 4
 },
 "nbformat": 4,
 "nbformat_minor": 2
}
