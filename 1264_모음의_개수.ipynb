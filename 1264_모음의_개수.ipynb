{
 "cells": [
  {
   "cell_type": "markdown",
   "metadata": {},
   "source": [
    "# 1264 모음의 개수\n",
    "220517\n",
    "- 소감\n",
    "    - 카카오 문제 푸는 날이어서 문제집 문제 대신 정규표현식 연습할 겸 문자열 문제를 정규표현식으로 풀었습니다.\n",
    "    - re.findall을 사용했습니다.\n",
    "    - 생각보다 느리네요\n",
    "- 소요 시간 : 5분\n",
    "- 알고리즘 분류 : 구현, 문자열\n",
    "- 티어 : 브론즈 2"
   ]
  },
  {
   "cell_type": "code",
   "execution_count": 10,
   "metadata": {},
   "outputs": [
    {
     "name": "stdout",
     "output_type": "stream",
     "text": [
      "7\n",
      "14\n",
      "9\n"
     ]
    }
   ],
   "source": [
    "import sys\n",
    "import re\n",
    "# input = sys.stdin.readline\n",
    "c = re.compile('[aeiouAEIOU]')\n",
    "\n",
    "while True:\n",
    "    s = input().rstrip()\n",
    "    if s == '#':\n",
    "        break\n",
    "    print(len(c.findall(s)))"
   ]
  },
  {
   "cell_type": "code",
   "execution_count": 9,
   "metadata": {},
   "outputs": [
    {
     "name": "stdout",
     "output_type": "stream",
     "text": [
      "['I', 'o', 'e', 'o', 'u', 'u', 'u']\n"
     ]
    }
   ],
   "source": [
    "import re\n",
    "c = re.compile('[aeiouAEIOU]')\n",
    "print(c.findall('I love youuu.'))"
   ]
  },
  {
   "cell_type": "code",
   "execution_count": 5,
   "metadata": {},
   "outputs": [
    {
     "name": "stdout",
     "output_type": "stream",
     "text": [
      "__class__ // __copy__ // __deepcopy__ // __delattr__ // __dir__ // __doc__ // __eq__ // __format__ // __ge__ // __getattribute__ // __gt__ // __hash__ // __init__ // __init_subclass__ // __le__ // __lt__ // __ne__ // __new__ // __reduce__ // __reduce_ex__ // __repr__ // __setattr__ // __sizeof__ // __str__ // __subclasshook__ // findall // finditer // flags // fullmatch // groupindex // groups // match // pattern // scanner // search // split // sub // subn // "
     ]
    }
   ],
   "source": [
    "for i in dir(c):\n",
    "    print(i , end=' // ')"
   ]
  },
  {
   "cell_type": "code",
   "execution_count": null,
   "metadata": {},
   "outputs": [],
   "source": []
  }
 ],
 "metadata": {
  "interpreter": {
   "hash": "f08154012ddadd8e950e6e9e035c7a7b32c136e7647e9b7c77e02eb723a8bedb"
  },
  "kernelspec": {
   "display_name": "Python 3.8.8 ('base')",
   "language": "python",
   "name": "python3"
  },
  "language_info": {
   "codemirror_mode": {
    "name": "ipython",
    "version": 3
   },
   "file_extension": ".py",
   "mimetype": "text/x-python",
   "name": "python",
   "nbconvert_exporter": "python",
   "pygments_lexer": "ipython3",
   "version": "3.8.8"
  },
  "orig_nbformat": 4
 },
 "nbformat": 4,
 "nbformat_minor": 2
}
