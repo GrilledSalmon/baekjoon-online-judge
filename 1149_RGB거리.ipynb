{
 "cells": [
  {
   "cell_type": "markdown",
   "metadata": {},
   "source": [
    "# 1149 RGB 거리\n",
    "220316\n",
    "- 알고리즘 분류\n",
    "    - 다이나믹 프로그래밍\n",
    "- 티어 : 실버 1"
   ]
  },
  {
   "cell_type": "code",
   "execution_count": 16,
   "metadata": {},
   "outputs": [
    {
     "name": "stdout",
     "output_type": "stream",
     "text": [
      "96\n"
     ]
    }
   ],
   "source": [
    "import sys\n",
    "sys.setrecursionlimit(100000)\n",
    "# input = sys.stdin.readline\n",
    "\n",
    "def solve():\n",
    "    N = int(input())\n",
    "    cost = [tuple(map(int, input().split())) for _ in range(N)]\n",
    "\n",
    "    cache = [[None]*3 for _ in range(N)]\n",
    "\n",
    "    def find_min(prev, loc):\n",
    "        mini = 10000\n",
    "        for i in range(3):\n",
    "            if i != prev and cost[loc][i] < mini:\n",
    "                mini = cost[loc][i]\n",
    "        return mini\n",
    "\n",
    "    def paint(prev=-1, loc=0):\n",
    "        if cache[loc][prev] is None:\n",
    "            if loc == N-1: # 끝에 도달\n",
    "                cache[loc][prev] = find_min(prev, loc)\n",
    "\n",
    "            else:\n",
    "                res = []\n",
    "                for i in range(3):\n",
    "                    if i != prev:\n",
    "                        r = cost[loc][i] + paint(i, loc+1)\n",
    "                        res.append(r)\n",
    "                cache[loc][prev] = min(res)\n",
    "\n",
    "        return cache[loc][prev]\n",
    "\n",
    "    print(paint())\n",
    "\n",
    "solve()"
   ]
  },
  {
   "cell_type": "code",
   "execution_count": null,
   "metadata": {},
   "outputs": [],
   "source": [
    "import sys\n",
    "sys.setrecursionlimit(100000)\n",
    "\n",
    "\n",
    "N = int(input())\n",
    "cost = [tuple(map(int, input().split())) for _ in range(N)]"
   ]
  },
  {
   "cell_type": "code",
   "execution_count": 5,
   "metadata": {},
   "outputs": [
    {
     "data": {
      "text/plain": [
       "(3, [(26, 40, 83), (49, 60, 57), (13, 89, 99)])"
      ]
     },
     "execution_count": 5,
     "metadata": {},
     "output_type": "execute_result"
    }
   ],
   "source": [
    "N, cost"
   ]
  },
  {
   "cell_type": "code",
   "execution_count": 11,
   "metadata": {},
   "outputs": [
    {
     "name": "stdout",
     "output_type": "stream",
     "text": [
      "96\n"
     ]
    }
   ],
   "source": [
    "cache = [[None]*3 for _ in range(N)]\n",
    "\n",
    "def find_min(prev, loc):\n",
    "    mini = 10000\n",
    "    for i in range(3):\n",
    "        if i != prev and cost[loc][i] < mini:\n",
    "            mini = cost[loc][i]\n",
    "    return mini\n",
    "\n",
    "def paint(prev=-1, loc=0):\n",
    "    if cache[loc][prev] is None:\n",
    "        if loc == N-1: # 끝에 도달\n",
    "            cache[loc][prev] = find_min(prev, loc)\n",
    "\n",
    "        else:\n",
    "            res = []\n",
    "            for i in range(3):\n",
    "                if i != prev:\n",
    "                    r = cost[loc][i] + paint(i, loc+1)\n",
    "                    res.append(r)\n",
    "            cache[loc][prev] = min(res)\n",
    "\n",
    "    return cache[loc][prev]\n",
    "\n",
    "print(paint())"
   ]
  },
  {
   "cell_type": "code",
   "execution_count": null,
   "metadata": {},
   "outputs": [],
   "source": []
  }
 ],
 "metadata": {
  "interpreter": {
   "hash": "c798a043d5b26db4ea8dc684fe25ec244835432adc5539bce2de618403b1d63c"
  },
  "kernelspec": {
   "display_name": "Python 3.8.5 ('base')",
   "language": "python",
   "name": "python3"
  },
  "language_info": {
   "codemirror_mode": {
    "name": "ipython",
    "version": 3
   },
   "file_extension": ".py",
   "mimetype": "text/x-python",
   "name": "python",
   "nbconvert_exporter": "python",
   "pygments_lexer": "ipython3",
   "version": "3.8.5"
  },
  "orig_nbformat": 4
 },
 "nbformat": 4,
 "nbformat_minor": 2
}
