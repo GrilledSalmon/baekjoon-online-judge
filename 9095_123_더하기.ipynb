{
 "cells": [
  {
   "cell_type": "markdown",
   "metadata": {},
   "source": [
    "# 9095 1, 2, 3 더하기\n",
    "220407\n",
    "- 211005에 이상하게 풀고 제대로 다시 품\n",
    "- 알고리즘 분류\n",
    "    - 다이나믹 프로그래밍\n",
    "- 티어 : 실버 3"
   ]
  },
  {
   "cell_type": "code",
   "execution_count": 1,
   "metadata": {},
   "outputs": [
    {
     "name": "stdout",
     "output_type": "stream",
     "text": [
      "7\n",
      "44\n",
      "274\n"
     ]
    }
   ],
   "source": [
    "# 9095\n",
    "import sys\n",
    "# input = sys.stdin.readline\n",
    "T = int(input())\n",
    "\n",
    "for _ in range(T):\n",
    "    n = int(input())\n",
    "    ans = [0]\n",
    "    def solve(remain=n):\n",
    "        if remain < 0:\n",
    "            return\n",
    "        if remain == 0:\n",
    "            ans[0] += 1\n",
    "            return\n",
    "        for i in range(1, 4):\n",
    "            solve(remain-i)\n",
    "\n",
    "    solve()\n",
    "    print(ans[0])"
   ]
  },
  {
   "cell_type": "code",
   "execution_count": null,
   "metadata": {},
   "outputs": [],
   "source": []
  }
 ],
 "metadata": {
  "interpreter": {
   "hash": "8fac594bfae6525c0c41b4041d2d72effa188cc8ead05f81b1fab2bb098927fb"
  },
  "kernelspec": {
   "display_name": "Python 3.8.8 ('base')",
   "language": "python",
   "name": "python3"
  },
  "language_info": {
   "codemirror_mode": {
    "name": "ipython",
    "version": 3
   },
   "file_extension": ".py",
   "mimetype": "text/x-python",
   "name": "python",
   "nbconvert_exporter": "python",
   "pygments_lexer": "ipython3",
   "version": "3.8.8"
  },
  "orig_nbformat": 4
 },
 "nbformat": 4,
 "nbformat_minor": 2
}
