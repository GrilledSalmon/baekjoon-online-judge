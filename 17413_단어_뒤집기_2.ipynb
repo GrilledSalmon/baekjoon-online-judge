{
 "cells": [
  {
   "cell_type": "markdown",
   "metadata": {},
   "source": [
    "# 17413 단어 뒤집기 2\n",
    "220430\n",
    "- 소감 : 어제 승원이가 풀었던 문제입니다. stack과 queue를 동시에 활용해서 뒤집는 경우엔 queue에 임시적으로 저장하고 단어가 끝나면 stack에 추가해주는 방식으로 풀었습니다. 문자열 문제는 선형인 특성상 stack과 queue 자료구조가 자주 사용되는 것 같다는 생각이 드네용\n",
    "- 알고리즘 분류\n",
    "    - 구현\n",
    "    - 자료 구조\n",
    "    - 문자열\n",
    "    - 스택\n",
    "- 티어 : 실버 3"
   ]
  },
  {
   "cell_type": "code",
   "execution_count": 18,
   "metadata": {},
   "outputs": [
    {
     "name": "stdout",
     "output_type": "stream",
     "text": [
      "1eno 2owt 3eerht rruof4 evif5 xis6\n"
     ]
    }
   ],
   "source": [
    "from collections import deque\n",
    "S = input()\n",
    "\n",
    "ans_stack = []\n",
    "word_queue = deque()\n",
    "parenthesis_open = False\n",
    "for s in S:\n",
    "    if parenthesis_open: # 태그 안인 경우\n",
    "        ans_stack.append(s)\n",
    "        if s == '>': # 닫아주기\n",
    "            parenthesis_open = False \n",
    "    else: # 단어인 경우\n",
    "        if s == '<':\n",
    "            ans_stack.append(''.join(map(str, word_queue)))\n",
    "            word_queue.clear()\n",
    "            parenthesis_open = True\n",
    "            ans_stack.append(s)\n",
    "        elif s == ' ':\n",
    "            ans_stack.append(''.join(map(str, word_queue)))\n",
    "            ans_stack.append(s)\n",
    "            word_queue.clear()\n",
    "        else:\n",
    "            word_queue.appendleft(s)\n",
    "if word_queue:\n",
    "    ans_stack.append(''.join(map(str, word_queue)))\n",
    "\n",
    "print(''.join(map(str, ans_stack)))"
   ]
  },
  {
   "cell_type": "code",
   "execution_count": 3,
   "metadata": {},
   "outputs": [
    {
     "data": {
      "text/plain": [
       "'<problem>17413<is hardest>problem ever<end>'"
      ]
     },
     "execution_count": 3,
     "metadata": {},
     "output_type": "execute_result"
    }
   ],
   "source": [
    "S"
   ]
  },
  {
   "cell_type": "code",
   "execution_count": 12,
   "metadata": {},
   "outputs": [
    {
     "name": "stdout",
     "output_type": "stream",
     "text": [
      "<problem>31471<is hardest>melborp reve<end>\n"
     ]
    }
   ],
   "source": [
    "from collections import deque\n",
    "ans_stack = []\n",
    "word_queue = deque()\n",
    "parenthesis_open = False\n",
    "for s in S:\n",
    "    if parenthesis_open: # 태그 안인 경우\n",
    "        ans_stack.append(s)\n",
    "        if s == '>': # 닫아주기\n",
    "            parenthesis_open = False \n",
    "    else: # 단어인 경우\n",
    "        if s == '<':\n",
    "            ans_stack.append(''.join(map(str, word_queue)))\n",
    "            word_queue.clear()\n",
    "            parenthesis_open = True\n",
    "            ans_stack.append(s)\n",
    "        elif s == ' ':\n",
    "            ans_stack.append(''.join(map(str, word_queue)))\n",
    "            ans_stack.append(s)\n",
    "            word_queue.clear()\n",
    "        else:\n",
    "            word_queue.appendleft(s)\n",
    "\n",
    "print(''.join(map(str, ans_stack)))"
   ]
  },
  {
   "cell_type": "code",
   "execution_count": null,
   "metadata": {},
   "outputs": [],
   "source": []
  }
 ],
 "metadata": {
  "interpreter": {
   "hash": "8fac594bfae6525c0c41b4041d2d72effa188cc8ead05f81b1fab2bb098927fb"
  },
  "kernelspec": {
   "display_name": "Python 3.8.8 ('base')",
   "language": "python",
   "name": "python3"
  },
  "language_info": {
   "codemirror_mode": {
    "name": "ipython",
    "version": 3
   },
   "file_extension": ".py",
   "mimetype": "text/x-python",
   "name": "python",
   "nbconvert_exporter": "python",
   "pygments_lexer": "ipython3",
   "version": "3.8.8"
  },
  "orig_nbformat": 4
 },
 "nbformat": 4,
 "nbformat_minor": 2
}
