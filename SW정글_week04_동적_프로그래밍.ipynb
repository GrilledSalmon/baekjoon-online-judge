{
 "cells": [
  {
   "cell_type": "markdown",
   "metadata": {},
   "source": [
    "# SW정글 week04 컴퓨팅 사고로의 전환\n",
    "## <동적 프로그래밍>\n",
    "220422"
   ]
  },
  {
   "cell_type": "code",
   "execution_count": 7,
   "metadata": {},
   "outputs": [
    {
     "name": "stdout",
     "output_type": "stream",
     "text": [
      "354224848179261915075\n"
     ]
    }
   ],
   "source": [
    "# 2748 피보나치 수 2\n",
    "def fib(n):\n",
    "    if n < 2:\n",
    "        return n\n",
    "    now, prev = 1, 1\n",
    "    k = 2\n",
    "    while n!=k:\n",
    "        now, prev = now+prev, now\n",
    "        k += 1\n",
    "    return now\n",
    "print(fib(int(input())))"
   ]
  },
  {
   "cell_type": "code",
   "execution_count": 14,
   "metadata": {},
   "outputs": [
    {
     "name": "stdout",
     "output_type": "stream",
     "text": [
      "5329\n"
     ]
    }
   ],
   "source": [
    "# 1904 01타일\n",
    "def tile(n):\n",
    "    if n < 3:\n",
    "        return n\n",
    "    D = 15746\n",
    "    now, prev = 3, 2\n",
    "    k = 3\n",
    "    while k!=n:\n",
    "        now, prev = (now + prev)%D, now%D\n",
    "        k += 1\n",
    "    return now\n",
    "print(tile(int(input())))"
   ]
  },
  {
   "cell_type": "code",
   "execution_count": 72,
   "metadata": {},
   "outputs": [
    {
     "name": "stdout",
     "output_type": "stream",
     "text": [
      "50401\n",
      "14573446\n"
     ]
    }
   ],
   "source": [
    "# 9084 동전\n",
    "import sys\n",
    "# input = sys.stdin.readline\n",
    "\n",
    "def dp(m, i):\n",
    "    \"\"\"0번째 동전부터 i번째 동전까지 사용해 m을 만들 수 있는 경우의 수\"\"\"\n",
    "    if m < 0:\n",
    "        return 0\n",
    "    if value_case[i][m] is not None:\n",
    "        return value_case[i][m]\n",
    "    if i == 0: # 사용할 수 있는 동전이 끝의 동전 하나일 때\n",
    "        if m % coins[i] == 0: # 하나의 동전으로 나누어 떨어지면\n",
    "            value_case[i][m] = 1\n",
    "        else:\n",
    "            value_case[i][m] = 0\n",
    "    else:\n",
    "        now_coin = coins[i]\n",
    "        value_case[i][m] = dp(m, i-1) + dp(m-now_coin, i) # i번째 동전을 쓰거나 안 쓰거나\n",
    "    return value_case[i][m]\n",
    "\n",
    "T = int(input())\n",
    "for _ in range(T):\n",
    "    N = int(input())\n",
    "    coins = tuple(map(int, input().split()))\n",
    "    M = int(input())\n",
    "    value_case = [[None]*(M+1) for _ in range(N)]\n",
    "    \n",
    "    print(dp(M, N-1))"
   ]
  },
  {
   "cell_type": "code",
   "execution_count": 1,
   "metadata": {},
   "outputs": [
    {
     "name": "stdout",
     "output_type": "stream",
     "text": [
      "4\n"
     ]
    }
   ],
   "source": [
    "# 9251 LCS # 실력 퇴행...;\n",
    "A, B = input(), input()\n",
    "\n",
    "lcs_list = [0]*len(A) # 각 위치별 lcs 저장\n",
    "for i in range(len(B)):\n",
    "    until_lcs = 0\n",
    "    for j in range(len(A)):\n",
    "        now_lcs = lcs_list[j]\n",
    "        if B[i] == A[j]:\n",
    "            lcs_list[j] = until_lcs + 1\n",
    "        if until_lcs < now_lcs:\n",
    "            until_lcs = now_lcs\n",
    "print(max(lcs_list))"
   ]
  },
  {
   "cell_type": "code",
   "execution_count": 5,
   "metadata": {},
   "outputs": [
    {
     "name": "stdout",
     "output_type": "stream",
     "text": [
      "14\n"
     ]
    }
   ],
   "source": [
    "# 12865 평범한 배낭\n",
    "import sys\n",
    "# input = sys.stdin.readline\n",
    "N, K = map(int, input().split())\n",
    "stuffs = [tuple(map(int, input().split())) for _ in range(N)]\n",
    "\n",
    "cache = [[None]*(K+1) for _ in range(N)]\n",
    "def nap_sack(k=K, i=N-1):\n",
    "    \"\"\"준서가 k용량의 배낭으로 0~i번째 물건들을 가지고 담을 수 있는 최대 가치 리턴\"\"\"\n",
    "    if cache[i][k] is not None:\n",
    "        return cache[i][k]\n",
    "    else:\n",
    "        W, V = stuffs[i]\n",
    "        if i == 0:\n",
    "            if k < W:\n",
    "                cache[i][k] = 0\n",
    "            else:\n",
    "                cache[i][k] = V\n",
    "        else:\n",
    "            if k < W:\n",
    "                cache[i][k] = nap_sack(k, i-1)   \n",
    "            else:\n",
    "                cache[i][k] = max(nap_sack(k-W, i-1) + V, nap_sack(k, i-1)) # i번째 물건을 담거나 안 담거나\n",
    "        return cache[i][k]\n",
    "\n",
    "print(nap_sack())"
   ]
  },
  {
   "cell_type": "code",
   "execution_count": 7,
   "metadata": {},
   "outputs": [
    {
     "name": "stdout",
     "output_type": "stream",
     "text": [
      "90\n"
     ]
    }
   ],
   "source": [
    "# 11049 행렬 곱셈 순서\n",
    "import sys\n",
    "# input = sys.stdin.readline\n",
    "\n",
    "N = int(input())\n",
    "A = list(map(int, input().split()))\n",
    "for _ in range(N-1):\n",
    "    a, b = map(int, input().split())\n",
    "    A.append(b)\n",
    "\n",
    "memo = [[0]*(N+1) for _ in range(N+1)]\n",
    "\n",
    "def dp(s=0, e=N):\n",
    "    \"\"\"s에서 e까지 행렬곱의 최소 연산수 리턴\"\"\"\n",
    "    if not memo[s][e]:\n",
    "        if e-s == 1:\n",
    "            pass\n",
    "        elif e-s == 2:\n",
    "            a, b, c = A[s:e+1]\n",
    "            memo[s][e] = a*b*c\n",
    "        else:\n",
    "            temp = []\n",
    "            for i in range(s+1, e):\n",
    "                temp.append(dp(s, i) + dp(i, e) + A[s]*A[i]*A[e])\n",
    "            memo[s][e] = min(temp)\n",
    "\n",
    "    return memo[s][e]\n",
    "print(dp())"
   ]
  },
  {
   "cell_type": "code",
   "execution_count": null,
   "metadata": {},
   "outputs": [],
   "source": [
    "# 11053 가장 긴 증가하는 부분 수열\n",
    "N, A = int(input()), list(map(int, input().split()))\n",
    "max_len_list = [1]*N\n",
    "for i in range(1, N):\n",
    "    now_num = A[i]\n",
    "    for j in range(i-1, -1, -1):\n",
    "        if A[j] < now_num and max_len_list[j] + 1 > max_len_list[i]:\n",
    "            max_len_list[i] = max_len_list[j] + 1\n",
    "print(max(max_len_list))"
   ]
  },
  {
   "cell_type": "code",
   "execution_count": 8,
   "metadata": {},
   "outputs": [],
   "source": [
    "# 2098 외판원 순회\n",
    "import sys\n",
    "# input = sys.stdin.readline\n",
    "N = int(input())\n",
    "adj_matrix = [tuple(map(int, input().split())) for _ in range(N)]\n",
    "adj_list = [[] for _ in range(N)]\n",
    "for a, row in enumerate(adj_matrix):\n",
    "    for b, cost in enumerate(row):\n",
    "        if cost != 0: # 갈 수 있는 경우만\n",
    "            adj_list[a].append((b, cost))\n",
    "\n",
    "# 방문상태를 표시해주는 binary 값인 status는 오른쪽부터 1번 노드로 친다.\n",
    "def visited(node, status):\n",
    "    \"\"\"방문상태가 status일 때 node의 방문여부 리턴\"\"\"\n",
    "    return (status >> node)%2\n",
    "\n",
    "def visit(node, status):\n",
    "    \"\"\"방문상태가 status일 때 node를 방문한 처리한 new_status 리턴\"\"\"\n",
    "    return status + (0b1<<node)\n",
    "\n",
    "start = 0 # 비트마스킹 때문에 0으로 고정해야 함\n",
    "dp = [[float('inf')]*2**N for _ in range(N)] # 아래 tsp 함수의 정보 저장\n",
    "all_visited = 2**N - 1\n",
    "def tsp(now_node=start, status=visit(start,0)):\n",
    "    \"\"\"방문상태가 status일 때 now_node에서 출발해 start로 돌아오는 최소 비용 리턴\"\"\"\n",
    "    if dp[now_node][status] == float('inf'):\n",
    "        if status == all_visited: # 전부 다 돈 경우\n",
    "            if adj_matrix[now_node][start]: # start로 가는 길이 있으면\n",
    "                dp[now_node][status] = adj_matrix[now_node][start]\n",
    "            else:\n",
    "                dp[now_node][status] = 10**8 # 길 없다고 표시\n",
    "        else:\n",
    "            candi_costs = [10**8]\n",
    "            for adj_node, adj_cost in adj_list[now_node]:\n",
    "                if adj_node != start and not visited(adj_node, status):\n",
    "                    new_status = visit(adj_node, status)\n",
    "                    new_cost = adj_cost + tsp(adj_node, new_status)\n",
    "                    candi_costs.append(new_cost)\n",
    "            dp[now_node][status] = min(candi_costs)\n",
    "    return dp[now_node][status]\n",
    "\n",
    "print(tsp())"
   ]
  },
  {
   "cell_type": "code",
   "execution_count": null,
   "metadata": {},
   "outputs": [],
   "source": [
    "# 2253 점프\n",
    "from collections import deque\n",
    "import sys\n",
    "# input = sys.stdin.readline\n",
    "\n",
    "N, M = map(int, input().split())\n",
    "visit_speed = [float('inf')]*(N+1) # 현재 돌을 방문한 최소 속도 저장\n",
    "for _ in range(M):\n",
    "    visit_speed[int(input())] = 1\n",
    "\n",
    "def bfs():\n",
    "    if visit_speed[2] != float('inf'): # 2번 돌이 나쁜 돌이면\n",
    "        print(-1)\n",
    "        return\n",
    "    if N == 2:\n",
    "        print(1)\n",
    "        return\n",
    "    \n",
    "    visit_speed[1], visit_speed[2] = 1, 1\n",
    "    queue = deque([(2, 1)]) # 현재 돌, 속도\n",
    "    jump = 1\n",
    "    while queue:\n",
    "        l = len(queue)\n",
    "        jump += 1\n",
    "        for _ in range(l):\n",
    "            now_stone, now_speed = queue.popleft()\n",
    "            next_speeds = [now_speed-1, now_speed, now_speed+1]\n",
    "            for next_speed in next_speeds:\n",
    "                next_stone = now_stone+next_speed\n",
    "                # 속도가 0보다 크고 현재 방문하려는 돌에 방문하는 속도가 이전에 방문했을 때 속도보다 더 작을 때만\n",
    "                if now_stone < next_stone <= N and next_speed < visit_speed[next_stone]:\n",
    "                    if next_stone == N:\n",
    "                        print(jump)\n",
    "                        return\n",
    "                    visit_speed[next_stone] = next_speed\n",
    "                    queue.append((next_stone, next_speed))\n",
    "    print(-1)\n",
    "    return\n",
    "bfs()"
   ]
  }
 ],
 "metadata": {
  "interpreter": {
   "hash": "8fac594bfae6525c0c41b4041d2d72effa188cc8ead05f81b1fab2bb098927fb"
  },
  "kernelspec": {
   "display_name": "Python 3.8.8 ('base')",
   "language": "python",
   "name": "python3"
  },
  "language_info": {
   "codemirror_mode": {
    "name": "ipython",
    "version": 3
   },
   "file_extension": ".py",
   "mimetype": "text/x-python",
   "name": "python",
   "nbconvert_exporter": "python",
   "pygments_lexer": "ipython3",
   "version": "3.8.8"
  },
  "orig_nbformat": 4
 },
 "nbformat": 4,
 "nbformat_minor": 2
}
