{
 "cells": [
  {
   "cell_type": "markdown",
   "metadata": {},
   "source": [
    "# SW정글 week04 컴퓨팅 사고로의 전환\n",
    "## <동적 프로그래밍>\n",
    "220422"
   ]
  },
  {
   "cell_type": "code",
   "execution_count": 7,
   "metadata": {},
   "outputs": [
    {
     "name": "stdout",
     "output_type": "stream",
     "text": [
      "354224848179261915075\n"
     ]
    }
   ],
   "source": [
    "# 2748 피보나치 수 2\n",
    "def fib(n):\n",
    "    if n < 2:\n",
    "        return n\n",
    "    now, prev = 1, 1\n",
    "    k = 2\n",
    "    while n!=k:\n",
    "        now, prev = now+prev, now\n",
    "        k += 1\n",
    "    return now\n",
    "print(fib(int(input())))"
   ]
  },
  {
   "cell_type": "code",
   "execution_count": 14,
   "metadata": {},
   "outputs": [
    {
     "name": "stdout",
     "output_type": "stream",
     "text": [
      "5329\n"
     ]
    }
   ],
   "source": [
    "# 1904 01타일\n",
    "def tile(n):\n",
    "    if n < 3:\n",
    "        return n\n",
    "    D = 15746\n",
    "    now, prev = 3, 2\n",
    "    k = 3\n",
    "    while k!=n:\n",
    "        now, prev = (now + prev)%D, now%D\n",
    "        k += 1\n",
    "    return now\n",
    "print(tile(int(input())))"
   ]
  },
  {
   "cell_type": "code",
   "execution_count": null,
   "metadata": {},
   "outputs": [],
   "source": [
    "# 9084 동전\n",
    "import sys\n",
    "# input = sys.stdin.readline\n",
    "\n",
    "def dp(m, i):\n",
    "        \"\"\"0번째 동전부터 i번째 동전까지 사용해 m을 만들 수 있는 경우의 수\"\"\"\n",
    "        if m < 0:\n",
    "            return 0\n",
    "        if value_case[i][m] is not None:\n",
    "            return value_case[i][m]\n",
    "        if i == 0: # 사용할 수 있는 동전이 끝의 동전 하나일 때\n",
    "            if m % coins[i] == 0: # 하나의 동전으로 나누어 떨어지면\n",
    "                value_case[i][m] = 1\n",
    "            else:\n",
    "                value_case[i][m] = 0\n",
    "        else:\n",
    "            now_coin = coins[i]\n",
    "            value_case[i][m] = dp(m, i-1) + dp(m-now_coin, i) # i번째 동전을 쓰거나 안 쓰거나\n",
    "        return value_case[i][m]\n",
    "\n",
    "T = int(input())\n",
    "for _ in range(T):\n",
    "    N = int(input())\n",
    "    coins = tuple(map(int, input().split()))\n",
    "    M = int(input())\n",
    "    value_case = [[None]*(M+1) for _ in range(N)]\n",
    "    \n",
    "    print(dp(M, N-1))"
   ]
  },
  {
   "cell_type": "code",
   "execution_count": null,
   "metadata": {},
   "outputs": [],
   "source": []
  }
 ],
 "metadata": {
  "interpreter": {
   "hash": "8fac594bfae6525c0c41b4041d2d72effa188cc8ead05f81b1fab2bb098927fb"
  },
  "kernelspec": {
   "display_name": "Python 3.8.8 ('base')",
   "language": "python",
   "name": "python3"
  },
  "language_info": {
   "codemirror_mode": {
    "name": "ipython",
    "version": 3
   },
   "file_extension": ".py",
   "mimetype": "text/x-python",
   "name": "python",
   "nbconvert_exporter": "python",
   "pygments_lexer": "ipython3",
   "version": "3.8.8"
  },
  "orig_nbformat": 4
 },
 "nbformat": 4,
 "nbformat_minor": 2
}
