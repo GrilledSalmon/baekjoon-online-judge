{
 "cells": [
  {
   "cell_type": "markdown",
   "metadata": {},
   "source": [
    "# 1644 소수의 연속합\n",
    "220612\n",
    "- 소감\n",
    "    - 연속합의 경우의 수에 대한 문제이기 때문에 해당 유형에서 자주 쓰이는 누적합을 활용했습니다.\n",
    "    - 누적합 배열에서 답이 되는 두 쌍을 찾아야 하는데, 이 때 이분탐색을 활용했습니다.\n",
    "    - 개인적으로 이분탐색 코드가 매번 좀 헷갈려서 이번 기회에 노션에 정리해두었습니다.\n",
    "    - 정석 풀이는 투 포인터를 사용하는 것 같은데, 봐도 어떻게 풀어야할지 잘 모르겠네요.. -> left, right를 만들고 0, 0에서 시작해서 목표값보다 작으면 right+1, 크면 left+1\n",
    "- 소요 시간 : 42분\n",
    "- 알고리즘 분류 : 수학, 정수론, 두 포인터, 소수 판정, 에라토스테네스의 체\n",
    "- 티어 : 골드 3"
   ]
  },
  {
   "cell_type": "code",
   "execution_count": 61,
   "metadata": {},
   "outputs": [
    {
     "name": "stdout",
     "output_type": "stream",
     "text": [
      "3\n"
     ]
    }
   ],
   "source": [
    "# 연속된 소수의 합으로 나타낼 수 있는 자연수가 있다\n",
    "# 그렇지 않은 수도 있다\n",
    "# 특정 자연수를 연속된 소수의 합으로 나타낼 수 있는 경우의 수를 구하세여\n",
    "N = int(input())\n",
    "\n",
    "is_prime = [1]*(N+1)\n",
    "is_prime[0], is_prime[1] = 0, 0\n",
    "\n",
    "acc_primes = [0]\n",
    "s = 0\n",
    "for i in range(2, N+1):\n",
    "    if is_prime[i]:\n",
    "        s += i\n",
    "        acc_primes.append(s)\n",
    "        for j in range(2*i, N+1, i):\n",
    "            is_prime[j] = 0\n",
    "\n",
    "def binary_search(s, num):\n",
    "    e = len(acc_primes)-1\n",
    "    while s <= e:\n",
    "        m = (s + e)//2\n",
    "        val = acc_primes[m] - num\n",
    "        if val == N:\n",
    "            return True\n",
    "        elif val < N:\n",
    "            s = m + 1\n",
    "        else:\n",
    "            e = m - 1\n",
    "    return False\n",
    "\n",
    "ans = 0\n",
    "for i, acc in enumerate(acc_primes):\n",
    "    if binary_search(i, acc):\n",
    "        ans += 1\n",
    "print(ans)"
   ]
  },
  {
   "cell_type": "code",
   "execution_count": 48,
   "metadata": {},
   "outputs": [
    {
     "data": {
      "text/plain": [
       "[0, 2, 5, 10, 17, 28, 41, 58, 77, 100, 129, 160, 197, 238]"
      ]
     },
     "execution_count": 48,
     "metadata": {},
     "output_type": "execute_result"
    }
   ],
   "source": [
    "acc_primes"
   ]
  },
  {
   "cell_type": "code",
   "execution_count": 3,
   "metadata": {},
   "outputs": [
    {
     "data": {
      "text/plain": [
       "41"
      ]
     },
     "execution_count": 3,
     "metadata": {},
     "output_type": "execute_result"
    }
   ],
   "source": [
    "MAX_N = 4000000\n",
    "N"
   ]
  },
  {
   "cell_type": "code",
   "execution_count": null,
   "metadata": {},
   "outputs": [],
   "source": []
  },
  {
   "cell_type": "code",
   "execution_count": 17,
   "metadata": {},
   "outputs": [],
   "source": [
    "N = 41"
   ]
  },
  {
   "cell_type": "code",
   "execution_count": 20,
   "metadata": {},
   "outputs": [],
   "source": [
    "is_prime = [1]*(N+1)\n",
    "is_prime[0], is_prime[1] = 0, 0\n",
    "\n",
    "primes = []\n",
    "for i in range(2, N+1):\n",
    "    if is_prime[i]:\n",
    "        primes.append(i)\n",
    "        for j in range(2*i, N+1, i):\n",
    "            is_prime[j] = 0\n",
    "\n",
    "acc_primes = []\n",
    "s = 0\n",
    "for p in primes:\n",
    "    s += p\n",
    "    acc_primes.append(s)"
   ]
  },
  {
   "cell_type": "code",
   "execution_count": 21,
   "metadata": {},
   "outputs": [
    {
     "data": {
      "text/plain": [
       "([2, 3, 5, 7, 11, 13, 17, 19, 23, 29, 31, 37, 41],\n",
       " [2, 5, 10, 17, 28, 41, 58, 77, 100, 129, 160, 197, 238])"
      ]
     },
     "execution_count": 21,
     "metadata": {},
     "output_type": "execute_result"
    }
   ],
   "source": [
    "primes, acc_primes"
   ]
  },
  {
   "cell_type": "code",
   "execution_count": 22,
   "metadata": {},
   "outputs": [],
   "source": [
    "N = 41"
   ]
  },
  {
   "cell_type": "code",
   "execution_count": 38,
   "metadata": {},
   "outputs": [
    {
     "name": "stdout",
     "output_type": "stream",
     "text": [
      "3\n"
     ]
    }
   ],
   "source": [
    "is_prime = [1]*(N+1)\n",
    "is_prime[0], is_prime[1] = 0, 0\n",
    "\n",
    "acc_primes = []\n",
    "s = 0\n",
    "for i in range(2, N+1):\n",
    "    if is_prime[i]:\n",
    "        s += i\n",
    "        acc_primes.append(s)\n",
    "        for j in range(2*i, N+1, i):\n",
    "            is_prime[j] = 0\n",
    "\n",
    "def binary_search(num):\n",
    "    \"\"\"num을 넣으면 \"\"\"\n",
    "    s, e = 0, len(acc_primes)\n",
    "    while s < e:\n",
    "        m = (s + e)//2\n",
    "        val = acc_primes[m] - num\n",
    "        if val == N:\n",
    "            # print('in bin', num, acc_primes[m])\n",
    "            return True\n",
    "        elif val < N:\n",
    "            s = m + 1\n",
    "        else:\n",
    "            e = m - 1\n",
    "    return False\n",
    "\n",
    "ans = 0\n",
    "if is_prime[N]:\n",
    "    ans += 1\n",
    "for i, acc in enumerate(acc_primes):\n",
    "    if binary_search(acc):\n",
    "        # print(primes[i], i, acc)\n",
    "        ans += 1\n",
    "print(ans)"
   ]
  },
  {
   "cell_type": "code",
   "execution_count": 26,
   "metadata": {},
   "outputs": [
    {
     "data": {
      "text/plain": [
       "[2, 5, 10, 17, 28, 41, 58, 77, 100, 129, 160, 197, 238]"
      ]
     },
     "execution_count": 26,
     "metadata": {},
     "output_type": "execute_result"
    }
   ],
   "source": [
    "acc_primes"
   ]
  },
  {
   "cell_type": "code",
   "execution_count": null,
   "metadata": {},
   "outputs": [],
   "source": []
  }
 ],
 "metadata": {
  "kernelspec": {
   "display_name": "Python 3.8.8 ('base')",
   "language": "python",
   "name": "python3"
  },
  "language_info": {
   "codemirror_mode": {
    "name": "ipython",
    "version": 3
   },
   "file_extension": ".py",
   "mimetype": "text/x-python",
   "name": "python",
   "nbconvert_exporter": "python",
   "pygments_lexer": "ipython3",
   "version": "3.8.8"
  },
  "orig_nbformat": 4,
  "vscode": {
   "interpreter": {
    "hash": "f08154012ddadd8e950e6e9e035c7a7b32c136e7647e9b7c77e02eb723a8bedb"
   }
  }
 },
 "nbformat": 4,
 "nbformat_minor": 2
}
