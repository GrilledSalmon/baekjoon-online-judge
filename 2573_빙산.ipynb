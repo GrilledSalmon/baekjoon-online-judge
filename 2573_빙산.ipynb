{
 "cells": [
  {
   "cell_type": "markdown",
   "metadata": {},
   "source": [
    "# 2573 빙산\n",
    "2200419\n",
    "- 소감 : python 3 중에선 속도 1등이긴 한데... 메모리 초과때문에 pypy로 제출이 안된다... 제출해보고 싶은데.. 추측에 dict가 메모리를 많이 먹는 것 같긴 한데.. dict 구조의 특성을 내가 너무 많이 활용하고 있어서 바꾸려면 코드를 꽤 손봐야할 것 같다...\n",
    "- 아이디어 : 최대한 효율적으로 짜도록 한다. 한 덩어리인지 확인할 때 visited를 재활용한 것과 물과 접한 빙산들만 따로 관리해서 접근한 게 포인트 였던듯\n",
    "- 알고리즘 분류\n",
    "    - 구현\n",
    "    - 그래프 이론\n",
    "    - 그래프 탐색\n",
    "    - 너비 우선 탐색\n",
    "    - 깊이 우선 탐색\n",
    "- 티어 : 골드 4"
   ]
  },
  {
   "cell_type": "code",
   "execution_count": 1,
   "metadata": {},
   "outputs": [],
   "source": [
    "# 2573 빙산\n",
    "from collections import deque\n",
    "from math import ceil\n",
    "import sys\n",
    "# input = sys.stdin.readline\n",
    "\n",
    "N, M = map(int, input().split()) # 행, 열\n",
    "sea = [list(map(int, input().split())) for _ in range(N)]\n",
    "\n",
    "year = [0]\n",
    "iceberg_cnt = [0]\n",
    "iceberg_info = dict()\n",
    "visited = [[0]*M for _ in range(N)]\n",
    "\n",
    "def count_water(coord):\n",
    "    \"\"\"coord 위치 주변에 접한 물 수 리턴\"\"\"\n",
    "    row, col = coord\n",
    "    new_coords = [(row+1, col), (row-1, col), (row, col+1), (row, col-1)]\n",
    "    w_cnt = 0\n",
    "    for new_coord in new_coords:\n",
    "        if 0<=new_coord[0]<N and 0<=new_coord[1]<M and not sea[new_coord[0]][new_coord[1]]:\n",
    "            w_cnt += 1\n",
    "    return w_cnt\n",
    "\n",
    "def initialize_iceberg():\n",
    "    \"\"\"iceberg_info 초기화\"\"\"\n",
    "    for row, line in enumerate(sea):\n",
    "        for col, val in enumerate(line):\n",
    "            if val:\n",
    "                iceberg_cnt[0] += 1\n",
    "                w_cnt = count_water((row, col))\n",
    "                if w_cnt: # 물과 접한 애들만 등록\n",
    "                    iceberg_info[(row, col)] = w_cnt\n",
    "\n",
    "def find_fastest():\n",
    "    \"\"\"지금 빙산들 중 가장 빨리 녹을 애의 위치와 걸리는 시간 리턴\"\"\"\n",
    "    mini_year = float('inf')\n",
    "    fastest_icebergs = []\n",
    "    for (row, col), water_cnt in iceberg_info.items():\n",
    "        if water_cnt:\n",
    "            how_long = ceil(sea[row][col]/water_cnt)\n",
    "            if how_long < mini_year:\n",
    "                fastest_icebergs.clear()\n",
    "                fastest_icebergs.append((row, col))\n",
    "                mini_year = how_long\n",
    "            elif how_long == mini_year:\n",
    "                fastest_icebergs.append((row, col))\n",
    "    return mini_year, fastest_icebergs\n",
    "\n",
    "def is_one():\n",
    "    \"\"\"빙산이 한 덩어리인지 체크\"\"\"\n",
    "    cnt = 0\n",
    "    for row, col in iceberg_info:\n",
    "        one_or_zero = visited[row][col] # visited 재활용하기 위해\n",
    "        queue = deque([(row, col)])\n",
    "        visited[row][col] = 1 - one_or_zero\n",
    "        while queue:\n",
    "            now_row, now_col = queue.popleft()\n",
    "            cnt += 1\n",
    "            for adj_row, adj_col in [(now_row+1, now_col), (now_row-1, now_col), (now_row, now_col+1), (now_row, now_col-1)]:\n",
    "                if 0<=adj_row<N and 0<=adj_col<M and visited[adj_row][adj_col] == one_or_zero and sea[adj_row][adj_col]>0:\n",
    "                    queue.append((adj_row, adj_col))\n",
    "                    visited[adj_row][adj_col] = 1 - one_or_zero\n",
    "        break\n",
    "\n",
    "    if cnt == iceberg_cnt[0]:\n",
    "        return True\n",
    "    return False\n",
    "\n",
    "def melt_process(year_change, melted_icebergs):\n",
    "    \"\"\"year_change에 맞게 빙산 녹이고 iceberg_info 업데이트\"\"\"\n",
    "    # 녹은 거 업데이트\n",
    "    for (row, col), water_cnt in iceberg_info.items():\n",
    "        if water_cnt: # 물과 접한 경우에만\n",
    "            sea[row][col] -= water_cnt*year_change\n",
    "    \n",
    "    # 녹은 빙산 info에서 삭제 및 녹아서 생긴 물에 의한 빙산 info 변화 업데이트\n",
    "    for row, col in melted_icebergs:\n",
    "        iceberg_info.pop((row, col))\n",
    "        for adj_row, adj_col in [(row+1, col), (row-1, col), (row, col+1), (row, col-1)]:\n",
    "            if 0<=adj_row<N and 0<=adj_col<M and sea[adj_row][adj_col]>0:\n",
    "                iceberg_info[(adj_row, adj_col)] = iceberg_info.get((adj_row, adj_col), 0) + 1\n",
    "\n",
    "def process():\n",
    "    \"\"\"가장 빨리 녹을 빙산이 녹고, sea와 iceberg_info, year이 업데이트되고\n",
    "    한 덩어리인지 체크\"\"\"\n",
    "    initialize_iceberg()\n",
    "\n",
    "    while True:\n",
    "        year_change, melted_icebergs = find_fastest()\n",
    "        year[0] += year_change\n",
    "        \n",
    "        melt_process(year_change, melted_icebergs)\n",
    "        iceberg_cnt[0] -= len(melted_icebergs)\n",
    "        \n",
    "        if not is_one():\n",
    "            print(year[0])\n",
    "            return\n",
    "        elif iceberg_cnt[0] == 0:\n",
    "            print(0)\n",
    "            return\n",
    "\n",
    "process()"
   ]
  },
  {
   "cell_type": "code",
   "execution_count": 10,
   "metadata": {},
   "outputs": [
    {
     "data": {
      "text/plain": [
       "(5,\n",
       " 7,\n",
       " [[0, 0, 0, 0, 0, 0, 0],\n",
       "  [0, 2, 4, 5, 3, 0, 0],\n",
       "  [0, 3, 0, 2, 5, 2, 0],\n",
       "  [0, 7, 6, 2, 4, 0, 0],\n",
       "  [0, 0, 0, 0, 0, 0, 0]])"
      ]
     },
     "execution_count": 10,
     "metadata": {},
     "output_type": "execute_result"
    }
   ],
   "source": [
    "from copy import deepcopy\n",
    "# memo_sea = deepcopy(sea) # 다시 치기 귀찮으니까\n",
    "sea = deepcopy(memo_sea)\n",
    "N, M, sea"
   ]
  },
  {
   "cell_type": "code",
   "execution_count": 11,
   "metadata": {},
   "outputs": [
    {
     "name": "stdout",
     "output_type": "stream",
     "text": [
      "2\n"
     ]
    }
   ],
   "source": [
    "year = [0]\n",
    "iceberg_cnt = [0]\n",
    "iceberg_info = dict()\n",
    "visited = [[0]*M for _ in range(N)]\n",
    "\n",
    "def count_water(coord):\n",
    "    \"\"\"coord 위치 주변에 접한 물 수 리턴\"\"\"\n",
    "    row, col = coord\n",
    "    new_coords = [(row+1, col), (row-1, col), (row, col+1), (row, col-1)]\n",
    "    w_cnt = 0\n",
    "    for new_coord in new_coords:\n",
    "        if 0<=new_coord[0]<N and 0<=new_coord[1]<M and not sea[new_coord[0]][new_coord[1]]:\n",
    "            w_cnt += 1\n",
    "    return w_cnt\n",
    "\n",
    "def initialize_iceberg():\n",
    "    \"\"\"iceberg_info 초기화\"\"\"\n",
    "    for row, line in enumerate(sea):\n",
    "        for col, val in enumerate(line):\n",
    "            if val:\n",
    "                iceberg_cnt[0] += 1\n",
    "                w_cnt = count_water((row, col))\n",
    "                if w_cnt: # 물과 접한 애들만 등록\n",
    "                    iceberg_info[(row, col)] = w_cnt\n",
    "\n",
    "def find_fastest():\n",
    "    \"\"\"지금 빙산들 중 가장 빨리 녹을 애의 위치와 걸리는 시간 리턴\"\"\"\n",
    "    mini_year = float('inf')\n",
    "    fastest_icebergs = []\n",
    "    for (row, col), water_cnt in iceberg_info.items():\n",
    "        if water_cnt:\n",
    "            how_long = ceil(sea[row][col]/water_cnt)\n",
    "            if how_long < mini_year:\n",
    "                fastest_icebergs.clear()\n",
    "                fastest_icebergs.append((row, col))\n",
    "                mini_year = how_long\n",
    "            elif how_long == mini_year:\n",
    "                fastest_icebergs.append((row, col))\n",
    "    return mini_year, fastest_icebergs\n",
    "\n",
    "def is_one():\n",
    "    \"\"\"빙산이 한 덩어리인지 체크\"\"\"\n",
    "    cnt = 0\n",
    "    for row, col in iceberg_info:\n",
    "        one_or_zero = visited[row][col] # visited 재활용하기 위해\n",
    "        queue = deque([(row, col)])\n",
    "        visited[row][col] = 1 - one_or_zero\n",
    "        while queue:\n",
    "            now_row, now_col = queue.popleft()\n",
    "            cnt += 1\n",
    "            for adj_row, adj_col in [(now_row+1, now_col), (now_row-1, now_col), (now_row, now_col+1), (now_row, now_col-1)]:\n",
    "                if 0<=adj_row<N and 0<=adj_col<M and not visited[adj_row][adj_col] and sea[adj_row][adj_col]>0:\n",
    "                    queue.append((adj_row, adj_col))\n",
    "                    visited[adj_row][adj_col] = 1 - one_or_zero\n",
    "        break\n",
    "\n",
    "    if cnt == iceberg_cnt[0]:\n",
    "        return True\n",
    "    return False\n",
    "\n",
    "def melt_process(year_change, melted_icebergs):\n",
    "    \"\"\"year_change에 맞게 빙산 녹이고 iceberg_info 업데이트\"\"\"\n",
    "    # 녹은 거 업데이트\n",
    "    for (row, col), water_cnt in iceberg_info.items():\n",
    "        if water_cnt: # 물과 접한 경우에만\n",
    "            sea[row][col] -= water_cnt*year_change\n",
    "    \n",
    "    # 녹은 빙산 info에서 삭제 및 녹아서 생긴 물에 의한 빙산 info 변화 업데이트\n",
    "    for row, col in melted_icebergs:\n",
    "        iceberg_info.pop((row, col))\n",
    "        for adj_row, adj_col in [(row+1, col), (row-1, col), (row, col+1), (row, col-1)]:\n",
    "            if 0<=adj_row<N and 0<=adj_col<M and sea[adj_row][adj_col]>0:\n",
    "                iceberg_info[(adj_row, adj_col)] = iceberg_info.get((adj_row, adj_col), 0) + 1\n",
    "\n",
    "def process():\n",
    "    \"\"\"가장 빨리 녹을 빙산이 녹고, sea와 iceberg_info, year이 업데이트되고\n",
    "    한 덩어리인지 체크\"\"\"\n",
    "    initialize_iceberg()\n",
    "\n",
    "    while True:\n",
    "        year_change, melted_icebergs = find_fastest()\n",
    "        year[0] += year_change\n",
    "        \n",
    "        melt_process(year_change, melted_icebergs)\n",
    "        iceberg_cnt[0] -= len(melted_icebergs)\n",
    "        \n",
    "        if not is_one():\n",
    "            print(year[0])\n",
    "            return\n",
    "\n",
    "process()"
   ]
  },
  {
   "cell_type": "code",
   "execution_count": 9,
   "metadata": {},
   "outputs": [
    {
     "data": {
      "text/plain": [
       "[[0, 0, 0, 0, 0, 0, 0],\n",
       " [0, 0, -1, 3, -1, 0, 0],\n",
       " [0, -2, 0, 0, 4, -1, 0],\n",
       " [0, 3, 2, 0, 0, 0, 0],\n",
       " [0, 0, 0, 0, 0, 0, 0]]"
      ]
     },
     "execution_count": 9,
     "metadata": {},
     "output_type": "execute_result"
    }
   ],
   "source": [
    "sea"
   ]
  },
  {
   "cell_type": "code",
   "execution_count": 19,
   "metadata": {},
   "outputs": [
    {
     "data": {
      "text/plain": [
       "[[0, 0], [0, 0]]"
      ]
     },
     "execution_count": 19,
     "metadata": {},
     "output_type": "execute_result"
    }
   ],
   "source": [
    "sea"
   ]
  },
  {
   "cell_type": "code",
   "execution_count": 22,
   "metadata": {},
   "outputs": [
    {
     "data": {
      "text/plain": [
       "{(0, 1): 1, (2, 1): 1, (2, 0): 1, (0, 0): 1, (2, 2): 1, (0, 2): 1}"
      ]
     },
     "execution_count": 22,
     "metadata": {},
     "output_type": "execute_result"
    }
   ],
   "source": [
    "iceberg_info"
   ]
  },
  {
   "cell_type": "code",
   "execution_count": 24,
   "metadata": {},
   "outputs": [
    {
     "name": "stdout",
     "output_type": "stream",
     "text": [
      "360\n",
      "88\n"
     ]
    }
   ],
   "source": [
    "print(sys.getsizeof(iceberg_info))\n",
    "print(sys.getsizeof(sea))"
   ]
  },
  {
   "cell_type": "code",
   "execution_count": 27,
   "metadata": {},
   "outputs": [
    {
     "data": {
      "text/plain": [
       "[[10, 5, 10], [0, 0, 0], [10, 5, 10]]"
      ]
     },
     "execution_count": 27,
     "metadata": {},
     "output_type": "execute_result"
    }
   ],
   "source": [
    "sea"
   ]
  },
  {
   "cell_type": "code",
   "execution_count": null,
   "metadata": {},
   "outputs": [],
   "source": []
  }
 ],
 "metadata": {
  "interpreter": {
   "hash": "8fac594bfae6525c0c41b4041d2d72effa188cc8ead05f81b1fab2bb098927fb"
  },
  "kernelspec": {
   "display_name": "Python 3.8.8 ('base')",
   "language": "python",
   "name": "python3"
  },
  "language_info": {
   "codemirror_mode": {
    "name": "ipython",
    "version": 3
   },
   "file_extension": ".py",
   "mimetype": "text/x-python",
   "name": "python",
   "nbconvert_exporter": "python",
   "pygments_lexer": "ipython3",
   "version": "3.8.8"
  },
  "orig_nbformat": 4
 },
 "nbformat": 4,
 "nbformat_minor": 2
}
