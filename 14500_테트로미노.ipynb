{
 "cells": [
  {
   "cell_type": "markdown",
   "metadata": {},
   "source": [
    "# 14500 테트로미노\n",
    "220221\n",
    "- 소감 : DFS를 사용하면 'ㅗ'모양을 제외한 대부분의 테트로미노를 표현할 수 있어 DFS를 사용했다. 아이디어를 떠올리는 데는 그렇게 오래걸리진 않았지만 구현이 좀 빡셌다. 그러다보니 체력적으로 후달려서 최적화에 그렇게 신경쓰지 못했음.\n",
    "- 알고리즘 분류\n",
    "    - 구현\n",
    "    - 브루트포스 알고리즘\n",
    "- 티어 : 골드 5"
   ]
  },
  {
   "cell_type": "code",
   "execution_count": 12,
   "metadata": {},
   "outputs": [
    {
     "name": "stdout",
     "output_type": "stream",
     "text": [
      "0 0\n",
      "1 0\n",
      "4 0\n",
      "0 1\n",
      "3 0\n",
      "2 1\n",
      "4 2\n",
      "19\n"
     ]
    }
   ],
   "source": [
    "import sys\n",
    "# input = sys.stdin.readline\n",
    "\n",
    "N, M = map(int, input().split())\n",
    "paper = [list(map(int, input().split())) for _ in range(N)]\n",
    "\n",
    "def check_coord(x, y, pre_root_):\n",
    "    \"\"\"경계조건, 이전 root가 아닌 조건을 충족하는지 확인\"\"\"\n",
    "    if 0 <= x < M and 0 <= y < N and (x, y) != pre_root_:\n",
    "        return True\n",
    "    return False\n",
    "\n",
    "maxi = [0]\n",
    "def dfs_like(root:tuple, pre_root_=None, sum_=0, level_=0):\n",
    "    x, y = root\n",
    "    sum_ += paper[y][x]\n",
    "    level_ += 1\n",
    "    if level_== 4:\n",
    "        if maxi[0] < sum_:\n",
    "            maxi[0] = sum_\n",
    "            # print(root, pre_root_, sum_)\n",
    "        return\n",
    "\n",
    "    coords = [(x, y-1), (x, y+1), (x-1, y), (x+1, y)] # 상하좌우\n",
    "    for new_x, new_y in coords:\n",
    "        if check_coord(new_x, new_y, pre_root_):\n",
    "            dfs_like((new_x, new_y), root, sum_, level_)\n",
    "\n",
    "    if level_ == 2: # 학교 모양\n",
    "        for i in range(3):\n",
    "            c1 = coords[i]\n",
    "            if check_coord(c1[0], c1[1], pre_root_):\n",
    "                for j in range(i+1, 4):\n",
    "                    c2 = coords[j]\n",
    "                    if check_coord(c2[0], c2[1], pre_root_):\n",
    "                        temp_sum = sum_ + paper[c1[1]][c1[0]] + paper[c2[1]][c2[0]]\n",
    "                        if maxi[0] < temp_sum:\n",
    "                            maxi[0] = temp_sum\n",
    "\n",
    "for y in range(N):\n",
    "    for x in range(M):\n",
    "        dfs_like((x, y))\n",
    "print(maxi[0])"
   ]
  },
  {
   "cell_type": "code",
   "execution_count": 13,
   "metadata": {},
   "outputs": [
    {
     "data": {
      "text/plain": [
       "[[1, 2, 3, 4, 5],\n",
       " [5, 4, 3, 2, 1],\n",
       " [2, 3, 4, 5, 6],\n",
       " [6, 5, 4, 3, 2],\n",
       " [1, 2, 1, 2, 1]]"
      ]
     },
     "execution_count": 13,
     "metadata": {},
     "output_type": "execute_result"
    }
   ],
   "source": [
    "paper"
   ]
  },
  {
   "cell_type": "code",
   "execution_count": 14,
   "metadata": {},
   "outputs": [
    {
     "data": {
      "text/plain": [
       "[[1, 1, 1, 1, 1],\n",
       " [1, 1, 1, 1, 1],\n",
       " [1, 1, 1, 1, 1],\n",
       " [1, 1, 1, 1, 1],\n",
       " [1, 1, 1, 1, 1]]"
      ]
     },
     "execution_count": 14,
     "metadata": {},
     "output_type": "execute_result"
    }
   ],
   "source": [
    "visited"
   ]
  },
  {
   "cell_type": "code",
   "execution_count": 9,
   "metadata": {},
   "outputs": [
    {
     "name": "stdout",
     "output_type": "stream",
     "text": [
      "19\n"
     ]
    }
   ],
   "source": [
    "def check_coord(x, y, pre_root_):\n",
    "    if 0 <= x < M and 0 <= y < N and visited[y][x] and (x, y) != pre_root_:\n",
    "        return True\n",
    "    return False\n",
    "\n",
    "\n",
    "maxi = [0]\n",
    "visited = [[0]*M for _ in range(N)]\n",
    "def dfs_like(root, pre_root_=None, sum_=0, level_=0):\n",
    "    x, y = root\n",
    "    sum_ += paper[y][x]\n",
    "    level_ += 1\n",
    "    if level_== 4:\n",
    "        # print(root, sum_)\n",
    "        if maxi[0] < sum_:\n",
    "            maxi[0] = sum_\n",
    "        return\n",
    "    coords = [(x, y-1), (x, y+1), (x-1, y), (x+1, y)] # 상하좌우\n",
    "    for new_x, new_y in coords:\n",
    "        if check_coord(new_x, new_y, pre_root_):\n",
    "            dfs_like((new_x, new_y), root, sum_, level_)\n",
    "\n",
    "    if level_ == 2: # 학교 모양\n",
    "        for i in range(3):\n",
    "            c1 = coords[i]\n",
    "            if check_coord(c1[0], c1[1], pre_root_):\n",
    "                for j in range(i+1, 4):\n",
    "                    c2 = coords[j]\n",
    "                    if check_coord(c2[0], c2[1], pre_root_):\n",
    "                        temp_sum = sum_ + paper[c1[1]][c1[0]] + paper[c2[1]][c2[0]]\n",
    "                        if maxi[0] < temp_sum:\n",
    "                            maxi[0] = temp_sum\n",
    "\n",
    "for y in range(N):\n",
    "    for x in range(M):\n",
    "        visited[y][x] = 1\n",
    "        dfs_like((x, y))\n",
    "print(maxi[0])"
   ]
  },
  {
   "cell_type": "code",
   "execution_count": 1,
   "metadata": {},
   "outputs": [
    {
     "data": {
      "text/plain": [
       "False"
      ]
     },
     "execution_count": 1,
     "metadata": {},
     "output_type": "execute_result"
    }
   ],
   "source": [
    "(1,2) == None"
   ]
  },
  {
   "cell_type": "code",
   "execution_count": 8,
   "metadata": {},
   "outputs": [
    {
     "data": {
      "text/plain": [
       "[(1, 2), (1, 4), (2, 4)]"
      ]
     },
     "execution_count": 8,
     "metadata": {},
     "output_type": "execute_result"
    }
   ],
   "source": [
    "from itertools import combinations as cb\n",
    "list(cb([1, 2, 4], 2))"
   ]
  },
  {
   "cell_type": "code",
   "execution_count": 22,
   "metadata": {},
   "outputs": [
    {
     "data": {
      "text/plain": [
       "False"
      ]
     },
     "execution_count": 22,
     "metadata": {},
     "output_type": "execute_result"
    }
   ],
   "source": [
    "[1,0] is [1,0]"
   ]
  },
  {
   "cell_type": "code",
   "execution_count": null,
   "metadata": {},
   "outputs": [],
   "source": [
    "import sys\n",
    "# input = sys.stdin.readline\n",
    "\n",
    "N, M = map(int, input().split())\n",
    "paper = [list(map(int, input().split())) for _ in range(N)]\n",
    "\n",
    "def check_coord(x, y, pre_root_):\n",
    "    \"\"\"경계조건, 방문조건, 이전 root가 아닌 조건을 충족하는지 확인\"\"\"\n",
    "    if 0 <= x < M and 0 <= y < N and not visited[y][x] and (x, y) != pre_root_:\n",
    "        return True\n",
    "    return False\n",
    "\n",
    "maxi = [0]\n",
    "visited = [[0]*M for _ in range(N)]\n",
    "def dfs_like(root:tuple, pre_root_=None, sum_=0, level_=0):\n",
    "    x, y = root\n",
    "    sum_ += paper[y][x]\n",
    "    level_ += 1\n",
    "    if level_== 4:\n",
    "        if maxi[0] < sum_:\n",
    "            maxi[0] = sum_\n",
    "            # print(root, pre_root_, sum_)\n",
    "        return\n",
    "\n",
    "    coords = [(x, y-1), (x, y+1), (x-1, y), (x+1, y)] # 상하좌우\n",
    "    for new_x, new_y in coords:\n",
    "        if check_coord(new_x, new_y, pre_root_):\n",
    "            dfs_like((new_x, new_y), root, sum_, level_)\n",
    "\n",
    "    if level_ == 2: # 학교 모양\n",
    "        for i in range(3):\n",
    "            c1 = coords[i]\n",
    "            if check_coord(c1[0], c1[1], pre_root_):\n",
    "                for j in range(i+1, 4):\n",
    "                    c2 = coords[j]\n",
    "                    if check_coord(c2[0], c2[1], pre_root_):\n",
    "                        temp_sum = sum_ + paper[c1[1]][c1[0]] + paper[c2[1]][c2[0]]\n",
    "                        if maxi[0] < temp_sum:\n",
    "                            maxi[0] = temp_sum\n",
    "\n",
    "for y in range(N):\n",
    "    for x in range(M):\n",
    "        visited[y][x] = 1\n",
    "        dfs_like((x, y))\n",
    "print(maxi[0])"
   ]
  }
 ],
 "metadata": {
  "interpreter": {
   "hash": "c798a043d5b26db4ea8dc684fe25ec244835432adc5539bce2de618403b1d63c"
  },
  "kernelspec": {
   "display_name": "Python 3.8.5 ('base')",
   "language": "python",
   "name": "python3"
  },
  "language_info": {
   "codemirror_mode": {
    "name": "ipython",
    "version": 3
   },
   "file_extension": ".py",
   "mimetype": "text/x-python",
   "name": "python",
   "nbconvert_exporter": "python",
   "pygments_lexer": "ipython3",
   "version": "3.8.5"
  },
  "orig_nbformat": 4
 },
 "nbformat": 4,
 "nbformat_minor": 2
}
