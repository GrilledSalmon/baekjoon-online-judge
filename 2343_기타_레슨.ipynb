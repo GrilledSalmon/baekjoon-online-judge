{
 "cells": [
  {
   "cell_type": "markdown",
   "metadata": {},
   "source": [
    "# 2343 기타 레슨\n",
    "220625\n",
    "- 소감\n",
    "    - 공유기 설치와 매우 유사한 문제였습니다.(이분탐색)\n",
    "    - 실버 1 치고는 좀 어려운 것 같네영;\n",
    "- 소요 시간 : 30분\n",
    "- 알고리즘 분류 : 이분 탐색, 매개 변수 탐색\n",
    "- 티어 : 실버 1"
   ]
  },
  {
   "cell_type": "code",
   "execution_count": 1,
   "metadata": {},
   "outputs": [],
   "source": [
    "N, M = map(int, input().split())\n",
    "lessons = list(map(int, input().split()))\n",
    "\n",
    "def is_possible(space):\n",
    "    \"\"\"크기가 space인 블루레이로 모두 담을 수 있는지 확인\"\"\"\n",
    "    remain_cd = M\n",
    "    remain_space = 0\n",
    "    for lesson in lessons:\n",
    "        if remain_space < lesson: # 새 CD가 필요한 경우\n",
    "            if remain_cd == 0: # 남은 CD가 없는데 CD가 또 필요한 경우\n",
    "                return False\n",
    "            remain_cd -= 1\n",
    "            remain_space = space\n",
    "        remain_space -= lesson\n",
    "\n",
    "    return True\n",
    "\n",
    "start = max(lessons)\n",
    "end = sum(lessons)\n",
    "\n",
    "while start <= end:\n",
    "    mid = (start + end) // 2\n",
    "    if is_possible(mid):\n",
    "        end = mid - 1\n",
    "    else:\n",
    "        start = mid + 1\n",
    "\n",
    "if is_possible(mid):\n",
    "    print(mid)\n",
    "else:\n",
    "    print(mid+1)"
   ]
  },
  {
   "cell_type": "code",
   "execution_count": 23,
   "metadata": {},
   "outputs": [
    {
     "name": "stdout",
     "output_type": "stream",
     "text": [
      "17\n"
     ]
    }
   ],
   "source": [
    "def is_possible(space):\n",
    "    \"\"\"크기가 space인 블루레이로 모두 담을 수 있는지 확인\"\"\"\n",
    "    remain_cd = M\n",
    "    remain_space = 0\n",
    "    for lesson in lessons:\n",
    "        if remain_space < lesson: # 새 CD가 필요한 경우\n",
    "            if remain_cd == 0: # 남은 CD가 없는데 CD가 또 필요한 경우\n",
    "                return False\n",
    "            remain_cd -= 1\n",
    "            remain_space = space\n",
    "        remain_space -= lesson\n",
    "\n",
    "    return True\n",
    "\n",
    "start = max(lessons)\n",
    "end = sum(lessons)\n",
    "\n",
    "while start <= end:\n",
    "    mid = (start + end) // 2\n",
    "    if is_possible(mid):\n",
    "        end = mid - 1\n",
    "    else:\n",
    "        start = mid + 1\n",
    "\n",
    "if is_possible(mid):\n",
    "    print(mid)\n",
    "else:\n",
    "    print(mid+1)"
   ]
  },
  {
   "cell_type": "code",
   "execution_count": 21,
   "metadata": {},
   "outputs": [
    {
     "data": {
      "text/plain": [
       "(17, 16, [1, 2, 3, 4, 5, 6, 7, 8, 9])"
      ]
     },
     "execution_count": 21,
     "metadata": {},
     "output_type": "execute_result"
    }
   ],
   "source": [
    "start, end, lessons"
   ]
  },
  {
   "cell_type": "code",
   "execution_count": 22,
   "metadata": {},
   "outputs": [
    {
     "data": {
      "text/plain": [
       "True"
      ]
     },
     "execution_count": 22,
     "metadata": {},
     "output_type": "execute_result"
    }
   ],
   "source": [
    "is_possible()"
   ]
  },
  {
   "cell_type": "code",
   "execution_count": null,
   "metadata": {},
   "outputs": [],
   "source": []
  }
 ],
 "metadata": {
  "kernelspec": {
   "display_name": "Python 3.8.8 ('base')",
   "language": "python",
   "name": "python3"
  },
  "language_info": {
   "codemirror_mode": {
    "name": "ipython",
    "version": 3
   },
   "file_extension": ".py",
   "mimetype": "text/x-python",
   "name": "python",
   "nbconvert_exporter": "python",
   "pygments_lexer": "ipython3",
   "version": "3.8.8"
  },
  "orig_nbformat": 4,
  "vscode": {
   "interpreter": {
    "hash": "f08154012ddadd8e950e6e9e035c7a7b32c136e7647e9b7c77e02eb723a8bedb"
   }
  }
 },
 "nbformat": 4,
 "nbformat_minor": 2
}
