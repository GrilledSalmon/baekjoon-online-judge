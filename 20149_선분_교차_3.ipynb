{
 "cells": [
  {
   "cell_type": "markdown",
   "metadata": {},
   "source": [
    "# 20149 선분 교차 3\n",
    "220404\n",
    "- 소감 : 이것도 엄청 오래 걸렸지만(반나절) 선분 교차2보단 훨씬 빨리 풀었다...ㅂㄷ 감동의 도가니탕.. 우연히 입력한 하나의 테스트 케이스가 맞았던 게 컸다.\n",
    "- 아이디어 : 모든 경우의 수를 잘 고려하여 푼다.. 좌표값, 기울기 등이 0이되는 경우를 조심한다.\n",
    "- 알고리즘 분류\n",
    "    - 기하학\n",
    "    - 많은 조건 분기\n",
    "    - 선분 교차 판정\n",
    "- 티어 : 플레티넘 4"
   ]
  },
  {
   "cell_type": "code",
   "execution_count": 32,
   "metadata": {},
   "outputs": [
    {
     "name": "stdout",
     "output_type": "stream",
     "text": [
      "1\n",
      "-0.0 -0.0\n"
     ]
    }
   ],
   "source": [
    "x1, y1, x2, y2 = map(int, input().split())\n",
    "x3, y3, x4, y4 = map(int, input().split())\n",
    "\n",
    "def cross_product_z(v1, v2):\n",
    "    return v1[0]*v2[1] - v1[1]*v2[0]\n",
    "\n",
    "def check(x1, y1, x2, y2, x3, y3, x4, y4):\n",
    "    \"\"\"x1, y1 기준으로 벡터 생성 후 관계 확인\n",
    "    리턴값 : -1 -> 선분이 다른 선분의 두 점 사이에 있다\n",
    "            0 -> 선분의 끝이 다른 직선의 위에 있다\n",
    "            1 -> 선분이 다른 선분의 두 점 바깥에 있다.\"\"\"\n",
    "    vec = x2 - x1, y2 - y1\n",
    "    vec_1 = x3 - x1, y3 - y1\n",
    "    vec_2 = x4 - x1, y4 - y1\n",
    "    return cross_product_z(vec, vec_1) * cross_product_z(vec, vec_2)\n",
    "\n",
    "res_1 = check(x1, y1, x2, y2, x3, y3, x4, y4)\n",
    "res_2 = check(x3, y3, x4, y4, x1, y1, x2, y2)\n",
    "\n",
    "if res_1==res_2==0:\n",
    "    if min(x1, x2) > max(x3, x4) or max(x1, x2) < min(x3, x4) or min(y1, y2) > max(y3, y4) or max(y1, y2) < min(y3, y4):\n",
    "        ans = 0\n",
    "    else:\n",
    "        ans = 1\n",
    "elif res_1 <= 0 and res_2 <= 0:\n",
    "    ans = 1\n",
    "else:\n",
    "    ans = 0\n",
    "print(ans)\n",
    "\n",
    "\n",
    "def det(a, b, c, d):\n",
    "    return a*d - b*c\n",
    "\n",
    "def find_ab(x1, y1, x2, y2, p=1):\n",
    "    \"\"\"return a, b, q\"\"\"\n",
    "    deter = det(x1, y1, x2, y2)\n",
    "    if deter:\n",
    "        a = (y2*p - y1*p) / deter\n",
    "        b = (-x2*p + x1*p) / deter\n",
    "        return a, b, p\n",
    "    elif (x1, y1) == (x2, y2): # 선분이 한 점인 경우\n",
    "        return None, None, 0\n",
    "    else: # 원점을 지나는 직선인 경우\n",
    "        if x1: # x1이 0이 아닐 때만\n",
    "            return -y1, x1, 0\n",
    "        return -y2, x2, 0\n",
    "\n",
    "\n",
    "if ans: # 해가 존재하는 경우\n",
    "    a, b, p = find_ab(x1, y1, x2, y2)\n",
    "    c, d, q = find_ab(x3, y3, x4, y4)\n",
    "    \n",
    "    \n",
    "    if (a, b) == (None, None): # 첫 번째 선분이 한 점인 경우\n",
    "        print(x1, y1)\n",
    "    elif (c, d) == (None, None): # 두 번째 선분이 한 점인 경우\n",
    "        print(x3, y3)\n",
    "    elif det(a, b, c, d) == 0: # 두 선분이 평행하지만 해가 하나만 존재하는 경우(끝 점에서 만나는 경우)\n",
    "        if (x1, y1) == (x3, y3) and ((x1-x2)*(x4-x1)>0 or (y1-y2)*(y4-y1)>0):\n",
    "            print(x1, y1)\n",
    "        elif (x1, y1) == (x4, y4) and ((x1-x2)*(x3-x1)>0 or (y1-y2)*(y3-y1)>0):\n",
    "            print(x1, y1)\n",
    "        elif (x2, y2) == (x3, y3) and ((x2-x1)*(x4-x2)>0 or (y2-y1)*(y4-y2)>0):\n",
    "            print(x2, y2)\n",
    "        elif (x2, y2) == (x4, y4) and ((x2-x1)*(x3-x2)>0 or (y2-y1)*(y3-y2)>0):\n",
    "            print(x2, y2)\n",
    "        else: # 두 선분이 겹치는 경우\n",
    "            pass\n",
    "\n",
    "    else: # 정상적인 해가 존재하는 경우\n",
    "        deter = det(a, b, c, d)\n",
    "        x = 1/deter * (d*p - b*q)\n",
    "        y = 1/deter * (-c*p + a*q)\n",
    "        print(x, y)"
   ]
  },
  {
   "cell_type": "code",
   "execution_count": 31,
   "metadata": {},
   "outputs": [
    {
     "name": "stdout",
     "output_type": "stream",
     "text": [
      "0 0 2 6 8 6 0 0\n",
      "0 0 -6 8\n"
     ]
    }
   ],
   "source": [
    "print(x1, y1, x2, y2, x3, y3, x4, y4)\n",
    "print(a, b, c, d)"
   ]
  },
  {
   "cell_type": "code",
   "execution_count": 29,
   "metadata": {},
   "outputs": [
    {
     "name": "stdout",
     "output_type": "stream",
     "text": [
      "l1 : 0x+0y = 0\n",
      "l2 : -6x+8y = 0\n"
     ]
    }
   ],
   "source": [
    "print(f'l1 : {a}x+{b}y = {p}')\n",
    "print(f'l2 : {c}x+{d}y = {q}')"
   ]
  },
  {
   "cell_type": "code",
   "execution_count": 1,
   "metadata": {},
   "outputs": [],
   "source": [
    "x1, y1, x2, y2 = map(int, input().split())\n",
    "x3, y3, x4, y4 = map(int, input().split())\n",
    "\n",
    "def cross_product_z(v1, v2):\n",
    "    return v1[0]*v2[1] - v1[1]*v2[0]\n",
    "\n",
    "def check(x1, y1, x2, y2, x3, y3, x4, y4):\n",
    "    \"\"\"x1, y1 기준으로 벡터 생성 후 관계 확인\n",
    "    리턴값 : -1 -> 선분이 다른 선분의 두 점 사이에 있다\n",
    "            0 -> 선분의 끝이 다른 직선의 위에 있다\n",
    "            1 -> 선분이 다른 선분의 두 점 바깥에 있다.\"\"\"\n",
    "    vec = x2 - x1, y2 - y1\n",
    "    vec_1 = x3 - x1, y3 - y1\n",
    "    vec_2 = x4 - x1, y4 - y1\n",
    "    return cross_product_z(vec, vec_1) * cross_product_z(vec, vec_2)\n",
    "\n",
    "res_1 = check(x1, y1, x2, y2, x3, y3, x4, y4)\n",
    "res_2 = check(x3, y3, x4, y4, x1, y1, x2, y2)\n",
    "\n",
    "if res_1==res_2==0:\n",
    "    if min(x1, x2) > max(x3, x4) or max(x1, x2) < min(x3, x4) or min(y1, y2) > max(y3, y4) or max(y1, y2) < min(y3, y4):\n",
    "        ans = 0\n",
    "    else:\n",
    "        ans = 1\n",
    "elif res_1 <= 0 and res_2 <= 0:\n",
    "    ans = 1\n",
    "else:\n",
    "    ans = 0\n",
    "print(ans)\n",
    "\n",
    "\n",
    "def det(a, b, c, d):\n",
    "    return a*d - b*c\n",
    "\n",
    "def find_ab(x1, y1, x2, y2, p=1):\n",
    "    deter = det(x1, y1, x2, y2)\n",
    "    if deter:\n",
    "        a = (y2*p - y1*p) / deter\n",
    "        b = (-x2*p + x1*p) / deter\n",
    "        return a, b, p\n",
    "    elif (x1, y1) == (x2, y2): # 선분이 한 점인 경우\n",
    "        return None, None, 0\n",
    "    else: # 원점을 지나는 직선인 경우\n",
    "        if x1 == 0: # y축에 평행\n",
    "            return None, 0, 0\n",
    "        elif y1 == 0: # x축에 평행\n",
    "            return 0, None, 0\n",
    "        else:\n",
    "            return -(y1/x1), 1, 0\n",
    "\n",
    "if ans: # 해가 존재하는 경우\n",
    "    a, b, p = find_ab(x1, y1, x2, y2)\n",
    "    c, d, q = find_ab(x3, y3, x4, y4)\n",
    "    try:\n",
    "        deter = det(a, b, c, d)\n",
    "        x = 1/deter * (d*p - b*q)\n",
    "        y = 1/deter * (-c*p + a*q)\n",
    "        print(x, y)\n",
    "    except: pass"
   ]
  },
  {
   "cell_type": "code",
   "execution_count": 6,
   "metadata": {},
   "outputs": [
    {
     "name": "stdout",
     "output_type": "stream",
     "text": [
      "1\n"
     ]
    }
   ],
   "source": [
    "def cross_product_z(v1, v2):\n",
    "    return v1[0]*v2[1] - v1[1]*v2[0]\n",
    "\n",
    "def check(x1, y1, x2, y2, x3, y3, x4, y4):\n",
    "    \"\"\"x1, y1 기준으로 벡터 생성 후 관계 확인\n",
    "    리턴값 : -1 -> 선분이 다른 선분의 두 점 사이에 있다\n",
    "            0 -> 선분의 끝이 다른 직선의 위에 있다\n",
    "            1 -> 선분이 다른 선분의 두 점 바깥에 있다.\"\"\"\n",
    "    vec = x2 - x1, y2 - y1\n",
    "    vec_1 = x3 - x1, y3 - y1\n",
    "    vec_2 = x4 - x1, y4 - y1\n",
    "    return cross_product_z(vec, vec_1) * cross_product_z(vec, vec_2)\n",
    "\n",
    "res_1 = check(x1, y1, x2, y2, x3, y3, x4, y4)\n",
    "res_2 = check(x3, y3, x4, y4, x1, y1, x2, y2)\n",
    "\n",
    "if res_1==res_2==0:\n",
    "    if min(x1, x2) > max(x3, x4) or max(x1, x2) < min(x3, x4) or min(y1, y2) > max(y3, y4) or max(y1, y2) < min(y3, y4):\n",
    "        ans = 0\n",
    "    else:\n",
    "        ans = 1\n",
    "elif res_1 <= 0 and res_2 <= 0:\n",
    "    ans = 1\n",
    "else:\n",
    "    ans = 0\n",
    "print(ans)\n",
    "\n",
    "\n",
    "def det(a, b, c, d):\n",
    "    return a*d - b*c\n",
    "\n",
    "def find_ab(x1, y1, x2, y2, p=1):\n",
    "    deter = det(x1, y1, x2, y2)\n",
    "    if deter:\n",
    "        a = (y2*p - y1*p) / deter\n",
    "        b = (-x2*p + x1*p) / deter\n",
    "        return a, b, p\n",
    "    elif (x1, y1) == (x2, y2): # 선분이 한 점인 경우\n",
    "        return None, None, 0\n",
    "    else: # 원점을 지나는 직선인 경우\n",
    "        if x1 == 0: # y축에 평행\n",
    "            return None, 0, 0\n",
    "        elif y1 == 0: # x축에 평행\n",
    "            return 0, None, 0\n",
    "        else:\n",
    "            return -(y1/x1), 1, 0\n",
    "\n",
    "if ans: # 해가 존재하는 경우\n",
    "    a, b, p = find_ab(x1, y1, x2, y2)\n",
    "    c, d, q = find_ab(x3, y3, x4, y4)\n",
    "    try:\n",
    "        deter = det(a, b, c, d)\n",
    "        x = 1/deter * (d*p - b*q)\n",
    "        y = 1/deter * (-c*p + a*q)\n",
    "        print(x, y)\n",
    "    except: pass"
   ]
  },
  {
   "cell_type": "code",
   "execution_count": 8,
   "metadata": {},
   "outputs": [
    {
     "name": "stdout",
     "output_type": "stream",
     "text": [
      "3.0 3.0\n"
     ]
    }
   ],
   "source": [
    "def det(a, b, c, d):\n",
    "    return a*d - b*c\n",
    "\n",
    "def find_ab(x1, y1, x2, y2, p=1):\n",
    "    deter = det(x1, y1, x2, y2)\n",
    "    if deter:\n",
    "        a = (y2*p - y1*p) / deter\n",
    "        b = (-x2*p + x1*p) / deter\n",
    "        return a, b, p\n",
    "    elif (x1, y1) == (x2, y2): # 선분이 한 점인 경우\n",
    "        return None, None, 0\n",
    "    else: # 원점을 지나는 직선인 경우\n",
    "        if x1 == 0: # y축에 평행\n",
    "            return None, 0, 0\n",
    "        elif y1 == 0: # x축에 평행\n",
    "            return 0, None, 0\n",
    "        else:\n",
    "            return -(y1/x1), 1, 0\n",
    "\n",
    "if ans: # 해가 존재하는 경우\n",
    "    a, b, p = find_ab(x1, y1, x2, y2)\n",
    "    c, d, q = find_ab(x3, y3, x4, y4)\n",
    "    try:\n",
    "        deter = det(a, b, c, d)\n",
    "        x = 1/deter * (d*p - b*q)\n",
    "        y = 1/deter * (-c*p + a*q)\n",
    "        print(x, y)\n",
    "    except: pass"
   ]
  },
  {
   "cell_type": "code",
   "execution_count": 3,
   "metadata": {},
   "outputs": [
    {
     "name": "stdout",
     "output_type": "stream",
     "text": [
      "l1 : -1.0x+1y = 0\n",
      "l2 : 0.16666666666666666x+0.16666666666666666y = 1\n"
     ]
    }
   ],
   "source": [
    "print(f'l1 : {a}x+{b}y = {p}')\n",
    "print(f'l2 : {c}x+{d}y = {q}')"
   ]
  },
  {
   "cell_type": "code",
   "execution_count": 5,
   "metadata": {},
   "outputs": [
    {
     "data": {
      "text/plain": [
       "(-2.0, 1, 0)"
      ]
     },
     "execution_count": 5,
     "metadata": {},
     "output_type": "execute_result"
    }
   ],
   "source": [
    "find_ab(1, 2, 2, 4)"
   ]
  },
  {
   "cell_type": "code",
   "execution_count": null,
   "metadata": {},
   "outputs": [],
   "source": []
  }
 ],
 "metadata": {
  "interpreter": {
   "hash": "8fac594bfae6525c0c41b4041d2d72effa188cc8ead05f81b1fab2bb098927fb"
  },
  "kernelspec": {
   "display_name": "Python 3.8.8 ('base')",
   "language": "python",
   "name": "python3"
  },
  "language_info": {
   "codemirror_mode": {
    "name": "ipython",
    "version": 3
   },
   "file_extension": ".py",
   "mimetype": "text/x-python",
   "name": "python",
   "nbconvert_exporter": "python",
   "pygments_lexer": "ipython3",
   "version": "3.8.8"
  },
  "orig_nbformat": 4
 },
 "nbformat": 4,
 "nbformat_minor": 2
}
