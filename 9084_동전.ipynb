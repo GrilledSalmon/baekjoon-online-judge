{
 "cells": [
  {
   "cell_type": "markdown",
   "metadata": {},
   "source": [
    "# 9084 동전\n",
    "220422\n",
    "- 소감 : 배낭 문제를 드디어 내 손으로 풀었다... 접근을 잘못해서 오랫동안 감을 못잡았는데, 한 가지 아이디어를 얻고 나서 풀 수 있었다.\n",
    "- 아이디어 : 1, 2, 5원짜리 동전을 가지고 100원을 만드는 경우의 수는 5원짜리 동전을 하나 사용하는 경우와 사용하지 않는 경우의 수의 합이다.\n",
    "- 알고리즘 분류\n",
    "    - 다이나믹 프로그래밍\n",
    "    - 배낭 문제\n",
    "- 티어 : 골드 5"
   ]
  },
  {
   "cell_type": "code",
   "execution_count": 33,
   "metadata": {},
   "outputs": [
    {
     "name": "stdout",
     "output_type": "stream",
     "text": [
      "501\n",
      "121\n",
      "1\n"
     ]
    }
   ],
   "source": [
    "# 9084 동전\n",
    "import sys\n",
    "# input = sys.stdin.readline\n",
    "\n",
    "def dp(m, i):\n",
    "        \"\"\"0번째 동전부터 i번째 동전까지 사용해 m을 만들 수 있는 경우의 수\"\"\"\n",
    "        if m < 0:\n",
    "            return 0\n",
    "        if value_case[i][m] is not None:\n",
    "            return value_case[i][m]\n",
    "        if i == 0: # 사용할 수 있는 동전이 끝의 동전 하나일 때\n",
    "            if m % coins[i] == 0: # 하나의 동전으로 나누어 떨어지면\n",
    "                value_case[i][m] = 1\n",
    "            else:\n",
    "                value_case[i][m] = 0\n",
    "        else:\n",
    "            now_coin = coins[i]\n",
    "            value_case[i][m] = dp(m, i-1) + dp(m-now_coin, i) # i번째 동전을 쓰거나 안 쓰거나\n",
    "        return value_case[i][m]\n",
    "\n",
    "T = int(input())\n",
    "for _ in range(T):\n",
    "    N = int(input())\n",
    "    coins = tuple(map(int, input().split()))\n",
    "    M = int(input())\n",
    "    value_case = [[None]*(M+1) for _ in range(N)]\n",
    "    \n",
    "    print(dp(M, N-1))"
   ]
  },
  {
   "cell_type": "code",
   "execution_count": 30,
   "metadata": {},
   "outputs": [],
   "source": [
    "N = int(input())\n",
    "coins = tuple(map(int, input().split()))\n",
    "M = int(input())    "
   ]
  },
  {
   "cell_type": "code",
   "execution_count": 31,
   "metadata": {},
   "outputs": [
    {
     "data": {
      "text/plain": [
       "(2, (1, 2), 1000)"
      ]
     },
     "execution_count": 31,
     "metadata": {},
     "output_type": "execute_result"
    }
   ],
   "source": [
    "N, coins, M"
   ]
  },
  {
   "cell_type": "code",
   "execution_count": 32,
   "metadata": {},
   "outputs": [
    {
     "name": "stdout",
     "output_type": "stream",
     "text": [
      "501\n"
     ]
    }
   ],
   "source": [
    "value_case = [[None]*(M+1) for _ in range(N)]\n",
    "def dp(m=M, i=N-1):\n",
    "    \"\"\"0번째 동전부터 i번째 동전까지 사용해 m을 만들 수 있는 경우의 수\"\"\"\n",
    "    if m < 0:\n",
    "        return 0\n",
    "    if value_case[i][m] is not None:\n",
    "        return value_case[i][m]\n",
    "    if i == 0: # 사용할 수 있는 동전이 끝의 동전 하나일 때\n",
    "        if m % coins[i] == 0: # 하나의 동전으로 나누어 떨어지면\n",
    "            value_case[i][m] = 1\n",
    "        else:\n",
    "            value_case[i][m] = 0\n",
    "    else:\n",
    "        now_coin = coins[i]\n",
    "        value_case[i][m] = dp(m, i-1) + dp(m-now_coin, i) # i번째 동전을 쓰거나 안 쓰거나\n",
    "    return value_case[i][m]\n",
    "print(dp())"
   ]
  },
  {
   "cell_type": "code",
   "execution_count": 29,
   "metadata": {},
   "outputs": [
    {
     "name": "stdout",
     "output_type": "stream",
     "text": [
      "0 1\n",
      "10 4\n",
      "20 9\n",
      "30 16\n",
      "40 25\n",
      "50 36\n",
      "60 49\n",
      "70 64\n",
      "80 81\n",
      "90 100\n",
      "100 121\n"
     ]
    }
   ],
   "source": [
    "for i, v in enumerate(value_case[-1]):\n",
    "    if v is not None:\n",
    "        print(i, v)"
   ]
  },
  {
   "cell_type": "code",
   "execution_count": null,
   "metadata": {},
   "outputs": [],
   "source": []
  }
 ],
 "metadata": {
  "interpreter": {
   "hash": "8fac594bfae6525c0c41b4041d2d72effa188cc8ead05f81b1fab2bb098927fb"
  },
  "kernelspec": {
   "display_name": "Python 3.8.8 ('base')",
   "language": "python",
   "name": "python3"
  },
  "language_info": {
   "codemirror_mode": {
    "name": "ipython",
    "version": 3
   },
   "file_extension": ".py",
   "mimetype": "text/x-python",
   "name": "python",
   "nbconvert_exporter": "python",
   "pygments_lexer": "ipython3",
   "version": "3.8.8"
  },
  "orig_nbformat": 4
 },
 "nbformat": 4,
 "nbformat_minor": 2
}
