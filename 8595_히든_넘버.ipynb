{
 "cells": [
  {
   "cell_type": "markdown",
   "metadata": {},
   "source": [
    "# 8595 히든 넘버\n",
    "220618\n",
    "- 소감\n",
    "    - 정규표현식으로 품\n",
    "- 알고리즘 분류 : 문자열, 파싱\n",
    "- 티어 : 브론즈 1"
   ]
  },
  {
   "cell_type": "code",
   "execution_count": null,
   "metadata": {},
   "outputs": [],
   "source": [
    "import re\n",
    "N = int(input())\n",
    "S = input()\n",
    "\n",
    "c = re.compile('[0-9]+')\n",
    "\n",
    "res = []\n",
    "for num in c.findall(S):\n",
    "    res.append(int(num))\n",
    "\n",
    "print(sum(res))"
   ]
  }
 ],
 "metadata": {
  "kernelspec": {
   "display_name": "Python 3.8.8 ('base')",
   "language": "python",
   "name": "python3"
  },
  "language_info": {
   "name": "python",
   "version": "3.8.8"
  },
  "orig_nbformat": 4,
  "vscode": {
   "interpreter": {
    "hash": "f08154012ddadd8e950e6e9e035c7a7b32c136e7647e9b7c77e02eb723a8bedb"
   }
  }
 },
 "nbformat": 4,
 "nbformat_minor": 2
}
