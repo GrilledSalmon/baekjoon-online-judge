{
 "cells": [
  {
   "cell_type": "markdown",
   "metadata": {},
   "source": [
    "# 24444 알고리즘 수업-너비 우선 탐색 1, 2\n",
    "220823\n",
    "- 소감\n",
    "    - BFS를 잘 구현하면 됨\n",
    "- 소요 시간 : 15분\n",
    "- 알고리즘 분류 : 그래프 이론, 그래프 탐색, 정렬, 너비 우선 탐색\n",
    "- 티어 : 실버 2"
   ]
  },
  {
   "cell_type": "code",
   "execution_count": null,
   "metadata": {},
   "outputs": [],
   "source": [
    "from collections import deque\n",
    "import sys\n",
    "# input = sys.stdin.readline\n",
    "N, M, R = map(int, input().split())\n",
    "adj_list = [[] for _ in range(N+1)]\n",
    "for _ in range(M):\n",
    "    a, b = map(int, input().split())\n",
    "    adj_list[a].append(b)\n",
    "    adj_list[b].append(a)\n",
    "\n",
    "for li in adj_list:\n",
    "    li.sort()\n",
    "\n",
    "visited = [0]*(N+1)\n",
    "visited[R] = 1\n",
    "queue = deque([R])\n",
    "res = [0]*N\n",
    "res[R-1] = 1\n",
    "order = 1\n",
    "while queue:\n",
    "    now_node = queue.popleft()\n",
    "    for adj_node in adj_list[now_node]:\n",
    "        if not visited[adj_node]:\n",
    "            order += 1\n",
    "            res[adj_node - 1] = order\n",
    "            queue.append(adj_node)\n",
    "            visited[adj_node] = 1\n",
    "\n",
    "\n",
    "print('\\n'.join(map(str, res)))"
   ]
  },
  {
   "cell_type": "code",
   "execution_count": null,
   "metadata": {},
   "outputs": [],
   "source": [
    "from collections import deque\n",
    "import sys\n",
    "# input = sys.stdin.readline\n",
    "N, M, R = map(int, input().split())\n",
    "adj_list = [[] for _ in range(N+1)]\n",
    "for _ in range(M):\n",
    "    a, b = map(int, input().split())\n",
    "    adj_list[a].append(b)\n",
    "    adj_list[b].append(a)\n",
    "\n",
    "for li in adj_list:\n",
    "    li.sort(reverse=True)\n",
    "\n",
    "visited = [0]*(N+1)\n",
    "visited[R] = 1\n",
    "queue = deque([R])\n",
    "res = [0]*N\n",
    "res[R-1] = 1\n",
    "order = 1\n",
    "while queue:\n",
    "    now_node = queue.popleft()\n",
    "    for adj_node in adj_list[now_node]:\n",
    "        if not visited[adj_node]:\n",
    "            order += 1\n",
    "            res[adj_node - 1] = order\n",
    "            queue.append(adj_node)\n",
    "            visited[adj_node] = 1\n",
    "\n",
    "\n",
    "print('\\n'.join(map(str, res)))"
   ]
  },
  {
   "cell_type": "code",
   "execution_count": null,
   "metadata": {},
   "outputs": [],
   "source": []
  }
 ],
 "metadata": {
  "kernelspec": {
   "display_name": "Python 3.8.5 ('base')",
   "language": "python",
   "name": "python3"
  },
  "language_info": {
   "codemirror_mode": {
    "name": "ipython",
    "version": 3
   },
   "file_extension": ".py",
   "mimetype": "text/x-python",
   "name": "python",
   "nbconvert_exporter": "python",
   "pygments_lexer": "ipython3",
   "version": "3.8.5"
  },
  "orig_nbformat": 4,
  "vscode": {
   "interpreter": {
    "hash": "8cc51f7a6f9663e4a057df8e9ab0b3750994a36584b90d61db68aa71b39bfa78"
   }
  }
 },
 "nbformat": 4,
 "nbformat_minor": 2
}
