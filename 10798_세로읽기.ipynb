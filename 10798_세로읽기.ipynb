{
 "cells": [
  {
   "cell_type": "markdown",
   "metadata": {},
   "source": [
    "# 10798 세로읽기\n",
    "220215\n",
    "- 알고리즘 분류\n",
    "    - 구현\n",
    "    - 문자열\n",
    "- 티어 : 브론즈 1"
   ]
  },
  {
   "cell_type": "code",
   "execution_count": 2,
   "metadata": {},
   "outputs": [],
   "source": [
    "text = [input() for _ in range(5)]\n",
    "ans = []\n",
    "for i in range(15):\n",
    "    l_prev = len(ans)\n",
    "    for line in text:\n",
    "        try:\n",
    "            ans.append(line[i])\n",
    "        except IndexError:\n",
    "            continue\n",
    "    if l_prev == len(ans): # 길이의 변화가 없으면\n",
    "        break\n",
    "print(''.join(ans))"
   ]
  },
  {
   "cell_type": "code",
   "execution_count": 3,
   "metadata": {},
   "outputs": [
    {
     "data": {
      "text/plain": [
       "['AABCDD', 'afzz', '09121', 'a8EWg6', 'P5h3kx']"
      ]
     },
     "execution_count": 3,
     "metadata": {},
     "output_type": "execute_result"
    }
   ],
   "source": [
    "text"
   ]
  },
  {
   "cell_type": "code",
   "execution_count": 10,
   "metadata": {},
   "outputs": [
    {
     "name": "stdout",
     "output_type": "stream",
     "text": [
      "0\n",
      "1\n",
      "2\n",
      "3\n",
      "4\n",
      "5\n",
      "6\n",
      "Aa0aPAf985Bz1EhCz2W3D1gkD6x\n"
     ]
    }
   ],
   "source": [
    "ans = []\n",
    "for i in range(15):\n",
    "    l_prev = len(ans)\n",
    "    for line in text:\n",
    "        try:\n",
    "            ans.append(line[i])\n",
    "        except IndexError:\n",
    "            continue\n",
    "    if l_prev == len(ans): # 길이의 변화가 없으면\n",
    "        break\n",
    "print(''.join(ans))"
   ]
  },
  {
   "cell_type": "code",
   "execution_count": 7,
   "metadata": {},
   "outputs": [
    {
     "data": {
      "text/plain": [
       "\"['1', 'a', 'g']\""
      ]
     },
     "execution_count": 7,
     "metadata": {},
     "output_type": "execute_result"
    }
   ],
   "source": []
  }
 ],
 "metadata": {
  "interpreter": {
   "hash": "c798a043d5b26db4ea8dc684fe25ec244835432adc5539bce2de618403b1d63c"
  },
  "kernelspec": {
   "display_name": "Python 3.8.5 ('base')",
   "language": "python",
   "name": "python3"
  },
  "language_info": {
   "codemirror_mode": {
    "name": "ipython",
    "version": 3
   },
   "file_extension": ".py",
   "mimetype": "text/x-python",
   "name": "python",
   "nbconvert_exporter": "python",
   "pygments_lexer": "ipython3",
   "version": "3.8.5"
  },
  "orig_nbformat": 4
 },
 "nbformat": 4,
 "nbformat_minor": 2
}
