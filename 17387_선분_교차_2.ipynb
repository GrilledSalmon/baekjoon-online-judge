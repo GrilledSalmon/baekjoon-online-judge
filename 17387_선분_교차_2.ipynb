{
 "cells": [
  {
   "cell_type": "markdown",
   "metadata": {},
   "source": [
    "# 17387 선분 교차 2\n",
    "210815~220402\n",
    "- 소감 : 와나 드디어 풀었다 ㅜㅜㅜㅜ 확실히 차분하게 원리를 생각하고 풀어야 풀 수 있는듯 ㅜ 케이스를 나눠서 생각하는 게 어려웠음.\n",
    "- 아이디어 : '한 점을 기준으로 나머지 세 점을 바라봤을 때, 내 선분이 다른 선분의 두 점 사이에 있는가?'를 외적을 이용해 각 선분에 대해 확인.\n",
    "- 알고리즘 분류\n",
    "    - 기하학\n",
    "    - 많은 조건 분기\n",
    "    - 선분 교차 판정\n",
    "- 티어 : 골드 2"
   ]
  },
  {
   "cell_type": "code",
   "execution_count": null,
   "metadata": {},
   "outputs": [],
   "source": [
    "x1, y1, x2, y2 = map(int, input().split())\n",
    "x3, y3, x4, y4 = map(int, input().split())\n",
    "\n",
    "def cross_product_z(v1, v2):\n",
    "    return v1[0]*v2[1] - v1[1]*v2[0]\n",
    "\n",
    "def check(x1, y1, x2, y2, x3, y3, x4, y4):\n",
    "    \"\"\"x1, y1 기준으로 벡터 생성 후 관계 확인\n",
    "    리턴값 : -1 -> 선분이 다른 선분의 두 점 사이에 있다\n",
    "            0 -> 선분의 끝이 다른 직선의 위에 있다\n",
    "            1 -> 선분이 다른 선분의 두 점 바깥에 있다.\"\"\"\n",
    "    vec = x2 - x1, y2 - y1\n",
    "    vec_1 = x3 - x1, y3 - y1\n",
    "    vec_2 = x4 - x1, y4 - y1\n",
    "    return cross_product_z(vec, vec_1) * cross_product_z(vec, vec_2)\n",
    "\n",
    "res_1 = check(x1, y1, x2, y2, x3, y3, x4, y4)\n",
    "res_2 = check(x3, y3, x4, y4, x1, y1, x2, y2)\n",
    "\n",
    "if res_1==res_2==0:\n",
    "    if min(x1, x2) > max(x3, x4) or max(x1, x2) < min(x3, x4) or min(y1, y2) > max(y3, y4) or max(y1, y2) < min(y3, y4):\n",
    "        print(0)\n",
    "    else:\n",
    "        print(1)\n",
    "elif res_1 <= 0 and res_2 <= 0:\n",
    "    print(1)\n",
    "else:\n",
    "    print(0)"
   ]
  },
  {
   "cell_type": "code",
   "execution_count": 22,
   "metadata": {},
   "outputs": [
    {
     "name": "stdout",
     "output_type": "stream",
     "text": [
      "1\n"
     ]
    }
   ],
   "source": [
    "# 반례 : 두 선분의 x값이 같고 y축에 평행한 경우\n",
    "def cross_product_z(v1, v2):\n",
    "    return v1[0]*v2[1] - v1[1]*v2[0]\n",
    "\n",
    "def check(x1, y1, x2, y2, x3, y3, x4, y4):\n",
    "    \"\"\"x1, y1 기준으로 벡터 생성 후 관계 확인\n",
    "    리턴값 : 1 -> 선분이 다른 선분의 두 점 사이에 있다\n",
    "            0 -> 선분의 끝이 다른 직선의 위에 있다\n",
    "            -1 -> 선분이 다른 선분의 두 점 바깥에 있다.\"\"\"\n",
    "    vec = x2 - x1, y2 - y1\n",
    "    vec_1 = x3 - x1, y3 - y1\n",
    "    vec_2 = x4 - x1, y4 - y1\n",
    "    return cross_product_z(vec, vec_1) * cross_product_z(vec, vec_2)\n",
    "\n",
    "res_1 = check(x1, y1, x2, y2, x3, y3, x4, y4)\n",
    "res_2 = check(x3, y3, x4, y4, x1, y1, x2, y2)\n",
    "\n",
    "if res_1==res_2==0: # 두 선분이 평행한 경우\n",
    "    if min(x1, x2) > max(x3, x4) or max(x1, x2) < min(x3, x4):\n",
    "        print(0)\n",
    "    else:\n",
    "        print(1)\n",
    "elif res_1 <= 0 and res_2 <= 0:\n",
    "    print(1)\n",
    "else:\n",
    "    print(0)"
   ]
  },
  {
   "cell_type": "code",
   "execution_count": 3,
   "metadata": {},
   "outputs": [
    {
     "data": {
      "text/plain": [
       "(1, 2)"
      ]
     },
     "execution_count": 3,
     "metadata": {},
     "output_type": "execute_result"
    }
   ],
   "source": [
    "a = 1, 2\n",
    "a"
   ]
  },
  {
   "cell_type": "code",
   "execution_count": 13,
   "metadata": {},
   "outputs": [
    {
     "name": "stdout",
     "output_type": "stream",
     "text": [
      "1\n"
     ]
    }
   ],
   "source": [
    "x1, y1, x2, y2 = map(int, input().split())\n",
    "x3, y3, x4, y4 = map(int, input().split())\n",
    "\n",
    "def check(x1, x2, y1, y2, x, y):\n",
    "    vec_1 = (x1 - x2, y1 - y2)\n",
    "    vec_2 = (x1 - x, y1 - y)\n",
    "    z = vec_1[0] * vec_2[1] - vec_1[1] * vec_2[0]\n",
    "    return z\n",
    "\n",
    "c1, c2 = check(x1, x2, y1, y2, x3, y3), check(x1, x2, y1, y2, x4, y4)\n",
    "c3, c4 = check(x3, x4, y3, y4, x1, y1), check(x3, x4, y3, y4, x2, y2)\n",
    "res_1, res_2 = c1*c2, c3*c4\n",
    "\n",
    "\n",
    "if res_1 == res_2 == 0:\n",
    "    if min(x1, x2) > max(x3, x4) or max(x1, x2) < min(x3, x4):\n",
    "        print(0)\n",
    "    else:\n",
    "        print(1)\n",
    "elif res_1 <= 0 and res_2 <= 0:\n",
    "    print(1)\n",
    "else:\n",
    "    print(0)"
   ]
  },
  {
   "cell_type": "code",
   "execution_count": 2,
   "metadata": {},
   "outputs": [
    {
     "name": "stdout",
     "output_type": "stream",
     "text": [
      "1\n"
     ]
    }
   ],
   "source": [
    "def check(x1, x2, y1, y2, x, y):\n",
    "    vec_1 = (x1 - x2, y1 - y2)\n",
    "    vec_2 = (x1 - x, y1 - y)\n",
    "    z = vec_1[0] * vec_2[1] - vec_1[1] * vec_2[0]\n",
    "    if z > 0:\n",
    "        return 1\n",
    "    elif z < 0:\n",
    "        return -1\n",
    "    else:\n",
    "        return 0\n",
    "\n",
    "c1, c2 = check(x1, x2, y1, y2, x3, y3), check(x1, x2, y1, y2, x4, y4)\n",
    "c3, c4 = check(x3, x4, y3, y4, x1, y1), check(x3, x4, y3, y4, x2, y2)\n",
    "res_1, res_2 = c1*c2, c3*c4\n",
    "if res_1 <= 0 and res_2 <= 0:\n",
    "    print(1)\n",
    "else:\n",
    "    print(0)"
   ]
  },
  {
   "cell_type": "code",
   "execution_count": 7,
   "metadata": {},
   "outputs": [
    {
     "data": {
      "text/plain": [
       "(0, 0)"
      ]
     },
     "execution_count": 7,
     "metadata": {},
     "output_type": "execute_result"
    }
   ],
   "source": [
    "res_1, res_2"
   ]
  },
  {
   "cell_type": "markdown",
   "metadata": {},
   "source": [
    "#### 케이스 나누기\n",
    "고려 사항 : 각 선분이 x, y축과 평행한가?, 두 선분이 서로 평행한가, 한 선분\n",
    "1. 두 선분이 평행하지 않고 만나긴 하지만 끝 점에서 만나진 않는 경우\n"
   ]
  },
  {
   "cell_type": "code",
   "execution_count": 21,
   "metadata": {},
   "outputs": [
    {
     "data": {
      "text/plain": [
       "True"
      ]
     },
     "execution_count": 21,
     "metadata": {},
     "output_type": "execute_result"
    }
   ],
   "source": [
    "1 == 1==2 or 1==1"
   ]
  },
  {
   "cell_type": "code",
   "execution_count": null,
   "metadata": {},
   "outputs": [],
   "source": []
  }
 ],
 "metadata": {
  "interpreter": {
   "hash": "8fac594bfae6525c0c41b4041d2d72effa188cc8ead05f81b1fab2bb098927fb"
  },
  "kernelspec": {
   "display_name": "Python 3.8.8 ('base')",
   "language": "python",
   "name": "python3"
  },
  "language_info": {
   "codemirror_mode": {
    "name": "ipython",
    "version": 3
   },
   "file_extension": ".py",
   "mimetype": "text/x-python",
   "name": "python",
   "nbconvert_exporter": "python",
   "pygments_lexer": "ipython3",
   "version": "3.8.8"
  },
  "orig_nbformat": 4
 },
 "nbformat": 4,
 "nbformat_minor": 2
}
