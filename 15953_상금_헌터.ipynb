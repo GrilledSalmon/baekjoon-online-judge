{
 "cells": [
  {
   "cell_type": "markdown",
   "metadata": {},
   "source": [
    "# 15953 상금 헌터\n",
    "211227\n",
    "- 알고리즘 분류\n",
    "    - 수학\n",
    "    - 구현\n",
    "    - 사칙연산\n",
    "    - 많은 조건 분기\n",
    "- 티어 : 브론즈 3"
   ]
  },
  {
   "cell_type": "code",
   "execution_count": 9,
   "metadata": {},
   "outputs": [
    {
     "name": "stdout",
     "output_type": "stream",
     "text": [
      "1780000\n",
      "620000\n",
      "1140000\n",
      "420000\n",
      "820000\n",
      "620000\n"
     ]
    }
   ],
   "source": [
    "T = int(input())\n",
    "imagine = [tuple(map(int, input().split())) for _ in range(T)]\n",
    "\n",
    "def first_prize(num):\n",
    "    if num == 0:\n",
    "        return 0\n",
    "    if num <= 1:\n",
    "        return 500\n",
    "    if num <= 3:\n",
    "        return 300\n",
    "    if num <= 6:\n",
    "        return 200\n",
    "    if num <= 10:\n",
    "        return 50\n",
    "    if num <= 15:\n",
    "        return 30\n",
    "    if num <= 21:\n",
    "        return 10\n",
    "    return 0\n",
    "\n",
    "def second_prize(num):\n",
    "    if num == 0:\n",
    "        return 0\n",
    "    if num <= 1:\n",
    "        return 512\n",
    "    if num <= 3:\n",
    "        return 256\n",
    "    if num <= 7:\n",
    "        return 128\n",
    "    if num <= 15:\n",
    "        return 64\n",
    "    if num <= 31:\n",
    "        return 32\n",
    "    return 0\n",
    "    \n",
    "for f, s in imagine:\n",
    "    first = first_prize(f)\n",
    "    second = second_prize(s)\n",
    "    if first + second == 0:\n",
    "        print(0)\n",
    "    else:\n",
    "        print(f\"{first + second}0000\")"
   ]
  },
  {
   "cell_type": "code",
   "execution_count": 4,
   "metadata": {},
   "outputs": [
    {
     "data": {
      "text/plain": [
       "[(8, 4), (13, 19), (8, 10), (18, 18), (8, 25), (13, 16)]"
      ]
     },
     "execution_count": 4,
     "metadata": {},
     "output_type": "execute_result"
    }
   ],
   "source": [
    "imagine"
   ]
  },
  {
   "cell_type": "code",
   "execution_count": 5,
   "metadata": {},
   "outputs": [],
   "source": [
    "def first_prize(num):\n",
    "    if num == 0:\n",
    "        return 0\n",
    "    if num <= 1:\n",
    "        return 500\n",
    "    if num <= 3:\n",
    "        return 300\n",
    "    if num <= 6:\n",
    "        return 200\n",
    "    if num <= 10:\n",
    "        return 50\n",
    "    if num <= 15:\n",
    "        return 30\n",
    "    if num <= 21:\n",
    "        return 10\n",
    "\n",
    "def second_prize(num):\n",
    "    if num == 0:\n",
    "        return 0\n",
    "    if num <= 1:\n",
    "        return 512\n",
    "    if num <= 3:\n",
    "        return 256\n",
    "    if num <= 7:\n",
    "        return 128\n",
    "    if num <= 15:\n",
    "        return 64\n",
    "    if num <= 31:\n",
    "        return 32"
   ]
  },
  {
   "cell_type": "code",
   "execution_count": 6,
   "metadata": {},
   "outputs": [
    {
     "name": "stdout",
     "output_type": "stream",
     "text": [
      "1780000\n",
      "620000\n",
      "1140000\n",
      "420000\n",
      "820000\n",
      "620000\n"
     ]
    }
   ],
   "source": [
    "for f, s in imagine:\n",
    "    print(f\"{first_prize(f) + second_prize(s)}0000\")"
   ]
  },
  {
   "cell_type": "code",
   "execution_count": null,
   "metadata": {},
   "outputs": [],
   "source": []
  }
 ],
 "metadata": {
  "interpreter": {
   "hash": "c798a043d5b26db4ea8dc684fe25ec244835432adc5539bce2de618403b1d63c"
  },
  "kernelspec": {
   "display_name": "Python 3.8.5 64-bit ('base': conda)",
   "language": "python",
   "name": "python3"
  },
  "language_info": {
   "codemirror_mode": {
    "name": "ipython",
    "version": 3
   },
   "file_extension": ".py",
   "mimetype": "text/x-python",
   "name": "python",
   "nbconvert_exporter": "python",
   "pygments_lexer": "ipython3",
   "version": "3.8.5"
  },
  "orig_nbformat": 4
 },
 "nbformat": 4,
 "nbformat_minor": 2
}
