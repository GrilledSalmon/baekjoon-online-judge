{
 "cells": [
  {
   "cell_type": "markdown",
   "metadata": {},
   "source": [
    "# 1236 성 지키기\n",
    "220208\n",
    "- 알고리즘 분류\n",
    "    - 구현\n",
    "- 티어 : 브론즈 1"
   ]
  },
  {
   "cell_type": "code",
   "execution_count": 5,
   "metadata": {},
   "outputs": [
    {
     "name": "stdout",
     "output_type": "stream",
     "text": [
      "3\n"
     ]
    }
   ],
   "source": [
    "N, M = map(int, input().split())\n",
    "row = 0\n",
    "col_set = set()\n",
    "for _ in range(N):\n",
    "    row_exist = False\n",
    "    for i, s in enumerate(input()):\n",
    "        if s == 'X':\n",
    "            row_exist = True\n",
    "            col_set.add(i)\n",
    "    if not row_exist:\n",
    "        row += 1\n",
    "print(max([M-len(col_set), row]))"
   ]
  }
 ],
 "metadata": {
  "interpreter": {
   "hash": "c798a043d5b26db4ea8dc684fe25ec244835432adc5539bce2de618403b1d63c"
  },
  "kernelspec": {
   "display_name": "Python 3.8.5 ('base')",
   "language": "python",
   "name": "python3"
  },
  "language_info": {
   "codemirror_mode": {
    "name": "ipython",
    "version": 3
   },
   "file_extension": ".py",
   "mimetype": "text/x-python",
   "name": "python",
   "nbconvert_exporter": "python",
   "pygments_lexer": "ipython3",
   "version": "3.8.5"
  },
  "orig_nbformat": 4
 },
 "nbformat": 4,
 "nbformat_minor": 2
}
