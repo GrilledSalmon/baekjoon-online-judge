{
 "cells": [
  {
   "cell_type": "markdown",
   "metadata": {},
   "source": [
    "# 12865 평범한 배낭\n",
    "첫 도전 : 210819  \n",
    "재도전 : 220302~220303\n",
    "- 소감 : DP... 어렵다... 이건 나중에 다시 보자...\n",
    "- 알고리즘 분류\n",
    "    - 다이나믹 프로그래밍\n",
    "    - 배낭 문제\n",
    "- 티어 : 골드 5"
   ]
  },
  {
   "cell_type": "code",
   "execution_count": null,
   "metadata": {},
   "outputs": [
    {
     "name": "stdout",
     "output_type": "stream",
     "text": [
      "14\n"
     ]
    }
   ],
   "source": [
    "import sys\n",
    "input = sys.stdin.readline\n",
    "\n",
    "N, K = map(int, input().split())\n",
    "things = [tuple(map(int, input().split())) for _ in range(N)]\n",
    "\n",
    "cache = {}\n",
    "\n",
    "def ns(n=N-1, w=K):\n",
    "    \"\"\"n : n번까지의 물건들 대상\n",
    "       w : 현재 무게 제한\n",
    "       return : n, w 상황에서의 최대 가치\"\"\"\n",
    "    if n == -1:\n",
    "        return 0\n",
    "    \n",
    "    if (n, w) not in cache:\n",
    "        now_w, now_v = things[n]\n",
    "        \n",
    "        # n번쨰 물건을 넣은 경우\n",
    "        case_1 = now_v + ns(n-1, w-now_w) if w-now_w>=0 else 0\n",
    "        \n",
    "        # n번째 물건을 넣지 않은 경우\n",
    "        case_2 = ns(n-1, w)\n",
    "\n",
    "        cache[(n, w)] = max([case_1, case_2])\n",
    "\n",
    "    return cache[(n, w)]\n",
    "\n",
    "print(ns())"
   ]
  },
  {
   "cell_type": "code",
   "execution_count": 5,
   "metadata": {},
   "outputs": [
    {
     "data": {
      "text/plain": [
       "(4, 7, [(6, 13), (4, 8), (3, 6), (5, 12)])"
      ]
     },
     "execution_count": 5,
     "metadata": {},
     "output_type": "execute_result"
    }
   ],
   "source": [
    "N, K, things"
   ]
  },
  {
   "cell_type": "code",
   "execution_count": null,
   "metadata": {},
   "outputs": [],
   "source": [
    "w_max, v_max = 0, 0\n",
    "for i in range(N):\n",
    "    now_tot_w, now_tot_v = things[i]\n",
    "    for j in range(i+1, N):\n",
    "        pair_w, pair_v = things[j]\n",
    "        \n",
    "        "
   ]
  },
  {
   "cell_type": "code",
   "execution_count": 13,
   "metadata": {},
   "outputs": [
    {
     "name": "stdout",
     "output_type": "stream",
     "text": [
      "14\n"
     ]
    }
   ],
   "source": [
    "cache = {}\n",
    "\n",
    "def ns(n=N-1, w=K):\n",
    "    \"\"\"n : n번까지의 물건들 대상\n",
    "       w : 현재 무게 제한\n",
    "       return : n, w 상황에서의 최대 가치\"\"\"\n",
    "    if n == -1:\n",
    "        return 0\n",
    "    \n",
    "    if (n, w) not in cache:\n",
    "        now_w, now_v = things[n]\n",
    "        \n",
    "        # n번쨰 물건을 넣은 경우\n",
    "        case_1 = now_v + ns(n-1, w-now_w) if w-now_w>=0 else 0\n",
    "        \n",
    "        # n번째 물건을 넣지 않은 경우\n",
    "        case_2 = ns(n-1, w)\n",
    "\n",
    "        cache[(n, w)] = max([case_1, case_2])\n",
    "\n",
    "    return cache[(n, w)]\n",
    "\n",
    "print(ns())"
   ]
  },
  {
   "cell_type": "code",
   "execution_count": 14,
   "metadata": {},
   "outputs": [
    {
     "name": "stdout",
     "output_type": "stream",
     "text": [
      "14\n"
     ]
    }
   ],
   "source": [
    "# 다른 사람 풀이\n",
    "\n",
    "import sys\n",
    "# input = sys.stdin.readline\n",
    "\n",
    "n,k = map(int, input().split())\n",
    "ary = [list(map(int, input().split())) for _ in range(n)]\n",
    "\n",
    "dp = [0]*(k+1)\n",
    "ary.sort() # 무게를 낮은 순으로 정렬\n",
    "for weight, val in ary:\n",
    "    for j in range(k, weight-1,-1):\n",
    "        dp[j] = max(dp[j], dp[j-weight] + val)\n",
    "\n",
    "print(dp[k])"
   ]
  },
  {
   "cell_type": "code",
   "execution_count": 16,
   "metadata": {},
   "outputs": [
    {
     "data": {
      "text/plain": [
       "([[3, 6], [4, 8], [5, 12], [6, 13]], [0, 0, 0, 6, 8, 12, 13, 14])"
      ]
     },
     "execution_count": 16,
     "metadata": {},
     "output_type": "execute_result"
    }
   ],
   "source": [
    "ary, dp"
   ]
  },
  {
   "cell_type": "code",
   "execution_count": null,
   "metadata": {},
   "outputs": [],
   "source": []
  }
 ],
 "metadata": {
  "interpreter": {
   "hash": "c798a043d5b26db4ea8dc684fe25ec244835432adc5539bce2de618403b1d63c"
  },
  "kernelspec": {
   "display_name": "Python 3.8.5 ('base')",
   "language": "python",
   "name": "python3"
  },
  "language_info": {
   "codemirror_mode": {
    "name": "ipython",
    "version": 3
   },
   "file_extension": ".py",
   "mimetype": "text/x-python",
   "name": "python",
   "nbconvert_exporter": "python",
   "pygments_lexer": "ipython3",
   "version": "3.8.8"
  },
  "orig_nbformat": 4
 },
 "nbformat": 4,
 "nbformat_minor": 2
}
