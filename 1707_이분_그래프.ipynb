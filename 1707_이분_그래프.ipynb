{
 "cells": [
  {
   "cell_type": "markdown",
   "metadata": {},
   "source": [
    "# 1707 이분 그래프\n",
    "220416\n",
    "- 소감 : 생각보다 아이디어를 잘 생각해서 잘 풀었당\n",
    "- 아이디어 : 그래프에 노드가 홀수개인 사이클이 있으면 이분 그래프가 되지 못한다. 그려보면 안다. 사이클의 노드 갯수는 dfs를 이용해 각 노드별 root로부터의 거리를 저장하고, 만약 또 방문한 경우는 그 때가 사이클이므로, 그 때의 거리 차이를 계산해줘서 판별할 수 있다.\n",
    "- 알고리즘 분류\n",
    "    - 그래프 이론\n",
    "    - 그래프 탐색\n",
    "    - 너비 우선 탐색\n",
    "    - 깊이 우선 탐색\n",
    "- 티어 : 골드 4"
   ]
  },
  {
   "cell_type": "code",
   "execution_count": 1,
   "metadata": {},
   "outputs": [
    {
     "name": "stdout",
     "output_type": "stream",
     "text": [
      "YES\n",
      "NO\n"
     ]
    }
   ],
   "source": [
    "# 1707 이분 그래프\n",
    "import sys\n",
    "sys.setrecursionlimit(10**7)\n",
    "# input = sys.stdin.readline\n",
    "\n",
    "for _ in range(int(input())):\n",
    "    V, E = map(int, input().split())\n",
    "    adj_list = [[] for _ in range(V+1)]\n",
    "    for _ in range(E):\n",
    "        u, v = map(int, input().split())\n",
    "        adj_list[u].append(v)\n",
    "        adj_list[v].append(u)\n",
    "\n",
    "    how_far = [0]*(V+1)\n",
    "    is_bipartite = True\n",
    "    def dfs(node):\n",
    "        global is_bipartite\n",
    "        if is_bipartite:\n",
    "            for adj_node in adj_list[node]:\n",
    "                if not how_far[adj_node]:\n",
    "                    how_far[adj_node] = how_far[node] + 1\n",
    "                    dfs(adj_node)\n",
    "\n",
    "                elif not (how_far[node] - how_far[adj_node])%2: # 사이클이 홀수이면\n",
    "                    is_bipartite = False\n",
    "                    return\n",
    "                    \n",
    "    for node in range(1, V+1): # 그래프가 한 덩어리가 아닌 경우\n",
    "        if not is_bipartite:\n",
    "            break\n",
    "        if not how_far[node]:\n",
    "            root = node\n",
    "            how_far[root] = 1\n",
    "            dfs(root)\n",
    "    print('YES') if is_bipartite else print('NO')"
   ]
  }
 ],
 "metadata": {
  "interpreter": {
   "hash": "8fac594bfae6525c0c41b4041d2d72effa188cc8ead05f81b1fab2bb098927fb"
  },
  "kernelspec": {
   "display_name": "Python 3.8.8 ('base')",
   "language": "python",
   "name": "python3"
  },
  "language_info": {
   "codemirror_mode": {
    "name": "ipython",
    "version": 3
   },
   "file_extension": ".py",
   "mimetype": "text/x-python",
   "name": "python",
   "nbconvert_exporter": "python",
   "pygments_lexer": "ipython3",
   "version": "3.8.8"
  },
  "orig_nbformat": 4
 },
 "nbformat": 4,
 "nbformat_minor": 2
}
