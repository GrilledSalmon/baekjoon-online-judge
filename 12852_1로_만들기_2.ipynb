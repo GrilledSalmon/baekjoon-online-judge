{
 "cells": [
  {
   "cell_type": "markdown",
   "metadata": {},
   "source": [
    "# 12852 1로 만들기 2\n",
    "220612\n",
    "- 소감\n",
    "    - 갑자기 빨리 플레 찍고 싶어서 풀었습니다\n",
    "    - 예전에 풀었던 문제랑 아주 비슷하지만 어떻게 도달했는지 숫자들을 뽑아줘야 합니다(predecessor 사용)\n",
    "- 알고리즘 분류 : 다이나믹 프로그래밍, 그래프 이론, 그래프 탐색\n",
    "- 소요 시간 : 25분?\n",
    "- 티어 : 실버 1"
   ]
  },
  {
   "cell_type": "code",
   "execution_count": 12,
   "metadata": {},
   "outputs": [
    {
     "name": "stdout",
     "output_type": "stream",
     "text": [
      "3\n",
      "10 9 3 1\n"
     ]
    }
   ],
   "source": [
    "from collections import deque\n",
    "N = int(input())\n",
    "\n",
    "def make_num_order(predecessor):\n",
    "    res = deque()\n",
    "    now = 1\n",
    "    while now != None:\n",
    "        res.appendleft(now)\n",
    "        now = predecessor[now]\n",
    "\n",
    "    return res\n",
    "\n",
    "def bfs():\n",
    "    visited = [0]*(N+1)\n",
    "    predecessor = [None]*(N+1)\n",
    "    queue = deque([N])\n",
    "    cnt = 0\n",
    "\n",
    "    while queue:\n",
    "        cnt += 1\n",
    "        for _ in range(len(queue)):\n",
    "            now_num = queue.popleft()\n",
    "            num_1 = now_num//3\n",
    "            temp = []\n",
    "            if not visited[num_1] and now_num % 3 == 0:\n",
    "                predecessor[num_1] = now_num\n",
    "                visited[num_1] = 1\n",
    "                queue.append(num_1)\n",
    "                temp.append(num_1)\n",
    "            \n",
    "            num_2 = now_num//2\n",
    "            if not visited[num_2] and now_num % 2 == 0:\n",
    "                predecessor[num_2] = now_num\n",
    "                visited[num_2] = 1\n",
    "                queue.append(num_2)\n",
    "                temp.append(num_2)\n",
    "            \n",
    "            num_3 = now_num - 1\n",
    "            if not visited[num_3]:\n",
    "                predecessor[num_3] = now_num\n",
    "                visited[num_3] = 1\n",
    "                queue.append(num_3)\n",
    "                temp.append(num_3)\n",
    "\n",
    "            if 1 in temp:\n",
    "                num_order = make_num_order(predecessor)\n",
    "                return cnt, num_order\n",
    "            \n",
    "def solve():\n",
    "    if N == 1:\n",
    "        print(0)\n",
    "        print(1)\n",
    "        return\n",
    "    cnt, num_order = bfs()\n",
    "    print(cnt)\n",
    "    print(' '.join(map(str, num_order)))\n",
    "\n",
    "solve()\n"
   ]
  },
  {
   "cell_type": "code",
   "execution_count": 10,
   "metadata": {},
   "outputs": [
    {
     "name": "stdout",
     "output_type": "stream",
     "text": [
      "3\n",
      "10 9 3 1\n"
     ]
    }
   ],
   "source": [
    "def make_num_order(predecessor):\n",
    "    res = deque()\n",
    "    now = 1\n",
    "    while now != None:\n",
    "        res.appendleft(now)\n",
    "        now = predecessor[now]\n",
    "\n",
    "    return res\n",
    "\n",
    "def bfs():\n",
    "    visited = [0]*(N+1)\n",
    "    predecessor = [None]*(N+1)\n",
    "    queue = deque([N])\n",
    "    cnt = 0\n",
    "\n",
    "    while queue:\n",
    "        cnt += 1\n",
    "        for _ in range(len(queue)):\n",
    "            now_num = queue.popleft()\n",
    "            num_1 = now_num//3\n",
    "            temp = []\n",
    "            if not visited[num_1] and now_num % 3 == 0:\n",
    "                predecessor[num_1] = now_num\n",
    "                visited[num_1] = 1\n",
    "                queue.append(num_1)\n",
    "                temp.append(num_1)\n",
    "            \n",
    "            num_2 = now_num//2\n",
    "            if not visited[num_2] and now_num % 2 == 0:\n",
    "                predecessor[num_2] = now_num\n",
    "                visited[num_2] = 1\n",
    "                queue.append(num_2)\n",
    "                temp.append(num_2)\n",
    "            \n",
    "            num_3 = now_num - 1\n",
    "            if not visited[num_3]:\n",
    "                predecessor[num_3] = now_num\n",
    "                visited[num_3] = 1\n",
    "                queue.append(num_3)\n",
    "                temp.append(num_3)\n",
    "\n",
    "            if 1 in temp:\n",
    "                num_order = make_num_order(predecessor)\n",
    "                return cnt, num_order\n",
    "            \n",
    "def solve():\n",
    "    if N == 1:\n",
    "        print(0)\n",
    "        print(1)\n",
    "        return\n",
    "    cnt, num_order = bfs()\n",
    "    print(cnt)\n",
    "    print(' '.join(map(str, num_order)))\n",
    "\n",
    "solve()\n"
   ]
  },
  {
   "cell_type": "code",
   "execution_count": 4,
   "metadata": {},
   "outputs": [
    {
     "data": {
      "text/plain": [
       "10"
      ]
     },
     "execution_count": 4,
     "metadata": {},
     "output_type": "execute_result"
    }
   ],
   "source": [
    "N"
   ]
  },
  {
   "cell_type": "code",
   "execution_count": null,
   "metadata": {},
   "outputs": [],
   "source": []
  }
 ],
 "metadata": {
  "kernelspec": {
   "display_name": "Python 3.8.8 ('base')",
   "language": "python",
   "name": "python3"
  },
  "language_info": {
   "codemirror_mode": {
    "name": "ipython",
    "version": 3
   },
   "file_extension": ".py",
   "mimetype": "text/x-python",
   "name": "python",
   "nbconvert_exporter": "python",
   "pygments_lexer": "ipython3",
   "version": "3.8.8"
  },
  "orig_nbformat": 4,
  "vscode": {
   "interpreter": {
    "hash": "f08154012ddadd8e950e6e9e035c7a7b32c136e7647e9b7c77e02eb723a8bedb"
   }
  }
 },
 "nbformat": 4,
 "nbformat_minor": 2
}
