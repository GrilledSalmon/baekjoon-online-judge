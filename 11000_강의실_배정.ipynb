{
 "cells": [
  {
   "cell_type": "markdown",
   "metadata": {},
   "source": [
    "# 11000 강의실 배정\n",
    "220116\n",
    "- 첫 시도 : 211003\n",
    "- 소감 : 자료구조 공부하기를 확실히 잘했다 헤헤. 우선순위 큐 문제이고, heap을 이용해 풀었다. 문제를 꽤 잘 풀었는지 python 기준 3페이지에 내 풀이가 올랐다. 해설은 주석으로 잘 달아놨다.\n",
    "- 아이디어 : 강의를 최대한 빽빽하게 채우는 것이 좋다.\n",
    "- 알고리즘 분류\n",
    "    - 자료 구조\n",
    "    - 그리디 알고리즘\n",
    "    - 정렬\n",
    "    - 우선순위 큐\n",
    "- 티어 : 골드 5"
   ]
  },
  {
   "cell_type": "code",
   "execution_count": 2,
   "metadata": {},
   "outputs": [
    {
     "name": "stdout",
     "output_type": "stream",
     "text": [
      "2\n"
     ]
    }
   ],
   "source": [
    "import sys\n",
    "import heapq\n",
    "# input = sys.stdin.readline\n",
    "\n",
    "N = int(input())\n",
    "class_list = sorted([tuple(map(int, input().strip().split())) for _ in range(N)])\n",
    "room_heap = [] # 강의실마다 강의가 끝나는 시간이 heap 자료구조로 저장된 리스트\n",
    "\n",
    "def process(heap, start_time, end_time) -> None:\n",
    "    if heap: # heap이 비어 있지 않은 경우\n",
    "        # 넣을 수 있는 강의실이 있는 경우\n",
    "        if heap[0] <= start_time: # 가장 수업이 빨리 끝나는 강의실과 비교\n",
    "            heapq.heappop(heap) # 가장 빨리 끝나는 강의실 삭제(실제론 다른 강의가 뒤이어 추가되기 때문에 대체되는 거임)\n",
    "    \n",
    "        heapq.heappush(heap, end_time) # 생각해보면 만족하는 강의실이 있으나 없으나 해줘야 하는 연산\n",
    "    \n",
    "    else: # heap이 비어 있는 경우\n",
    "        heap.append(end_time)\n",
    "\n",
    "for start_time, end_time in class_list:\n",
    "    process(room_heap, start_time, end_time)\n",
    "\n",
    "print(len(room_heap))"
   ]
  },
  {
   "cell_type": "code",
   "execution_count": null,
   "metadata": {},
   "outputs": [],
   "source": []
  },
  {
   "cell_type": "code",
   "execution_count": null,
   "metadata": {},
   "outputs": [],
   "source": []
  },
  {
   "cell_type": "code",
   "execution_count": null,
   "metadata": {},
   "outputs": [],
   "source": [
    "# 시간 초과 (211003)\n",
    "\n",
    "N = int(input())\n",
    "\n",
    "course_list = sorted([tuple(map(int, input().split())) for _ in range(N)])\n",
    "\n",
    "room_last_time_list = [course_list[0][1]]\n",
    "for i in range(1, N):\n",
    "    for j, v in enumerate(room_last_time_list):\n",
    "        if course_list[i][0] >= v:\n",
    "            room_last_time_list[j] = course_list[i][1]\n",
    "            break\n",
    "        elif j == len(room_last_time_list) - 1:\n",
    "            room_last_time_list.append(course_list[i][1])\n",
    "            break\n",
    "            \n",
    "print(len(room_last_time_list))"
   ]
  },
  {
   "cell_type": "code",
   "execution_count": 23,
   "metadata": {},
   "outputs": [
    {
     "name": "stdout",
     "output_type": "stream",
     "text": [
      "[1, 6, 2, 13, 15, 4, 5]\n",
      "1\n",
      "[2, 6, 4, 13, 15, 5]\n",
      "[1, 2, 2, 10, 6, 5]\n"
     ]
    }
   ],
   "source": [
    "import heapq\n",
    "\n",
    "# 일단 리스트 선언\n",
    "heap = []\n",
    "\n",
    "# 리스트에 heap 속성을 만족하도록 데이터 삽입\n",
    "heapq.heappush(heap, 1)\n",
    "heapq.heappush(heap, 13)\n",
    "heapq.heappush(heap, 4)\n",
    "heapq.heappush(heap, 6)\n",
    "heapq.heappush(heap, 15)\n",
    "heapq.heappush(heap, 2)\n",
    "heapq.heappush(heap, 5)\n",
    "\n",
    "print(heap) # [1, 6, 2, 13, 15, 4, 5]\n",
    "\n",
    "# 힙 속성을 만족하도록 root node 뽑아주기\n",
    "print(heapq.heappop(heap)) # 1\n",
    "\n",
    "print(heap) # [2, 6, 4, 13, 15, 5]\n",
    "\n",
    "lst = [5, 2, 1, 10, 6, 2]\n",
    "\n",
    "# 리스트를 heap으로 변환\n",
    "heapq.heapify(lst)\n",
    "\n",
    "print(lst) # [1, 2, 2, 10, 6, 5]\n"
   ]
  },
  {
   "cell_type": "code",
   "execution_count": 20,
   "metadata": {},
   "outputs": [
    {
     "data": {
      "text/plain": [
       "[1, 6, 2, 13, 15, 4, 5]"
      ]
     },
     "execution_count": 20,
     "metadata": {},
     "output_type": "execute_result"
    }
   ],
   "source": [
    "heap"
   ]
  },
  {
   "cell_type": "code",
   "execution_count": 21,
   "metadata": {},
   "outputs": [
    {
     "data": {
      "text/plain": [
       "1"
      ]
     },
     "execution_count": 21,
     "metadata": {},
     "output_type": "execute_result"
    }
   ],
   "source": [
    "heapq.heappop(heap)"
   ]
  },
  {
   "cell_type": "code",
   "execution_count": 22,
   "metadata": {},
   "outputs": [
    {
     "data": {
      "text/plain": [
       "[2, 6, 4, 13, 15, 5]"
      ]
     },
     "execution_count": 22,
     "metadata": {},
     "output_type": "execute_result"
    }
   ],
   "source": [
    "heap"
   ]
  },
  {
   "cell_type": "code",
   "execution_count": null,
   "metadata": {},
   "outputs": [],
   "source": []
  }
 ],
 "metadata": {
  "interpreter": {
   "hash": "c798a043d5b26db4ea8dc684fe25ec244835432adc5539bce2de618403b1d63c"
  },
  "kernelspec": {
   "display_name": "Python 3.8.5 64-bit ('base': conda)",
   "language": "python",
   "name": "python3"
  },
  "language_info": {
   "codemirror_mode": {
    "name": "ipython",
    "version": 3
   },
   "file_extension": ".py",
   "mimetype": "text/x-python",
   "name": "python",
   "nbconvert_exporter": "python",
   "pygments_lexer": "ipython3",
   "version": "3.8.5"
  },
  "orig_nbformat": 4
 },
 "nbformat": 4,
 "nbformat_minor": 2
}
