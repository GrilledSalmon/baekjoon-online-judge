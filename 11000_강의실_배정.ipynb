{
 "cells": [
  {
   "cell_type": "markdown",
   "metadata": {},
   "source": [
    "# 11000 강의실 배정\n",
    "220116\n",
    "- 첫 시도 : 211003\n",
    "- 강의를 최대한 빽빽하게 채우는 것이 좋다."
   ]
  },
  {
   "cell_type": "code",
   "execution_count": null,
   "metadata": {},
   "outputs": [],
   "source": []
  },
  {
   "cell_type": "code",
   "execution_count": null,
   "metadata": {},
   "outputs": [],
   "source": [
    "# 시간 초과 (211003)\n",
    "\n",
    "N = int(input())\n",
    "\n",
    "course_list = sorted([tuple(map(int, input().split())) for _ in range(N)])\n",
    "\n",
    "room_last_time_list = [course_list[0][1]]\n",
    "for i in range(1, N):\n",
    "    for j, v in enumerate(room_last_time_list):\n",
    "        if course_list[i][0] >= v:\n",
    "            room_last_time_list[j] = course_list[i][1]\n",
    "            break\n",
    "        elif j == len(room_last_time_list) - 1:\n",
    "            room_last_time_list.append(course_list[i][1])\n",
    "            break\n",
    "            \n",
    "print(len(room_last_time_list))"
   ]
  },
  {
   "cell_type": "code",
   "execution_count": 23,
   "metadata": {},
   "outputs": [
    {
     "name": "stdout",
     "output_type": "stream",
     "text": [
      "[1, 6, 2, 13, 15, 4, 5]\n",
      "1\n",
      "[2, 6, 4, 13, 15, 5]\n",
      "[1, 2, 2, 10, 6, 5]\n"
     ]
    }
   ],
   "source": [
    "import heapq\n",
    "\n",
    "heap = []\n",
    "heapq.heappush(heap, 1)\n",
    "heapq.heappush(heap, 13)\n",
    "heapq.heappush(heap, 4)\n",
    "heapq.heappush(heap, 6)\n",
    "heapq.heappush(heap, 15)\n",
    "heapq.heappush(heap, 2)\n",
    "heapq.heappush(heap, 5)\n",
    "\n",
    "print(heap) # [1, 6, 2, 13, 15, 4, 5]\n",
    "\n",
    "print(heapq.heappop(heap)) # 1\n",
    "\n",
    "print(heap) # [2, 6, 4, 13, 15, 5]\n",
    "\n",
    "lst = [5, 2, 1, 10, 6, 2]\n",
    "\n",
    "heapq.heapify(lst)\n",
    "\n",
    "print(lst) # [1, 2, 2, 10, 6, 5]\n"
   ]
  },
  {
   "cell_type": "code",
   "execution_count": 20,
   "metadata": {},
   "outputs": [
    {
     "data": {
      "text/plain": [
       "[1, 6, 2, 13, 15, 4, 5]"
      ]
     },
     "execution_count": 20,
     "metadata": {},
     "output_type": "execute_result"
    }
   ],
   "source": [
    "heap"
   ]
  },
  {
   "cell_type": "code",
   "execution_count": 21,
   "metadata": {},
   "outputs": [
    {
     "data": {
      "text/plain": [
       "1"
      ]
     },
     "execution_count": 21,
     "metadata": {},
     "output_type": "execute_result"
    }
   ],
   "source": [
    "heapq.heappop(heap)"
   ]
  },
  {
   "cell_type": "code",
   "execution_count": 22,
   "metadata": {},
   "outputs": [
    {
     "data": {
      "text/plain": [
       "[2, 6, 4, 13, 15, 5]"
      ]
     },
     "execution_count": 22,
     "metadata": {},
     "output_type": "execute_result"
    }
   ],
   "source": [
    "heap"
   ]
  },
  {
   "cell_type": "code",
   "execution_count": null,
   "metadata": {},
   "outputs": [],
   "source": []
  }
 ],
 "metadata": {
  "interpreter": {
   "hash": "c798a043d5b26db4ea8dc684fe25ec244835432adc5539bce2de618403b1d63c"
  },
  "kernelspec": {
   "display_name": "Python 3.8.5 64-bit ('base': conda)",
   "language": "python",
   "name": "python3"
  },
  "language_info": {
   "codemirror_mode": {
    "name": "ipython",
    "version": 3
   },
   "file_extension": ".py",
   "mimetype": "text/x-python",
   "name": "python",
   "nbconvert_exporter": "python",
   "pygments_lexer": "ipython3",
   "version": "3.8.5"
  },
  "orig_nbformat": 4
 },
 "nbformat": 4,
 "nbformat_minor": 2
}
