{
 "cells": [
  {
   "cell_type": "markdown",
   "metadata": {},
   "source": [
    "# 1303 전쟁-전투\n",
    "220627\n",
    "- 소감\n",
    "    - BFS, DFS를 활용하면 쉽게 풀 수 있는 문제\n",
    "- 소요 시간 : 25분\n",
    "- 알고리즘 분류 : 그래프 이론, 그래프 탐색, 너비 우선 탐색, 깊이 우선 탐색\n",
    "- 티어 : 실버 1"
   ]
  },
  {
   "cell_type": "code",
   "execution_count": 1,
   "metadata": {},
   "outputs": [],
   "source": [
    "from collections import deque\n",
    "import sys\n",
    "# input = sys.stdin.readline\n",
    "\n",
    "N, M = map(int, input().split())\n",
    "battle = [input().rstrip() for _ in range(M)]\n",
    "\n",
    "visited = [[0]*N for _ in range(M)]\n",
    "w, b = 0, 0\n",
    "for row in range(M):\n",
    "    for col in range(N):\n",
    "        if not visited[row][col]:\n",
    "            color = battle[row][col] \n",
    "            queue = deque([(row, col)])\n",
    "            visited[row][col] = 1\n",
    "            num = 0\n",
    "            while queue:\n",
    "                r, c = queue.popleft()\n",
    "                num += 1\n",
    "                for a_r, a_c in [(r+1, c), (r-1, c), (r, c+1), (r, c-1)]:\n",
    "                    if 0<=a_r<M and 0<=a_c<N and color == battle[a_r][a_c] and not visited[a_r][a_c]:\n",
    "                        visited[a_r][a_c] = 1\n",
    "                        queue.append((a_r, a_c))\n",
    "            if color == 'W':\n",
    "                w += num**2\n",
    "            else:\n",
    "                b += num**2\n",
    "\n",
    "print(w, b)"
   ]
  },
  {
   "cell_type": "code",
   "execution_count": 2,
   "metadata": {},
   "outputs": [
    {
     "data": {
      "text/plain": [
       "(['WBWWW', 'WWWWW', 'BBBBB', 'BBBWW', 'WWWWW'], 5, 5)"
      ]
     },
     "execution_count": 2,
     "metadata": {},
     "output_type": "execute_result"
    }
   ],
   "source": [
    "battle, N, M"
   ]
  },
  {
   "cell_type": "code",
   "execution_count": 7,
   "metadata": {},
   "outputs": [
    {
     "name": "stdout",
     "output_type": "stream",
     "text": [
      "130 65\n"
     ]
    }
   ],
   "source": [
    "from collections import deque\n",
    "\n",
    "visited = [[0]*N for _ in range(M)]\n",
    "w, b = 0, 0\n",
    "for row in range(M):\n",
    "    for col in range(N):\n",
    "        if not visited[row][col]:\n",
    "            color = battle[row][col] \n",
    "            queue = deque([(row, col)])\n",
    "            visited[row][col] = 1\n",
    "            num = 0\n",
    "            while queue:\n",
    "                r, c = queue.popleft()\n",
    "                num += 1\n",
    "                for a_r, a_c in [(r+1, c), (r-1, c), (r, c+1), (r, c-1)]:\n",
    "                    if 0<=a_r<M and 0<=a_c<N and color == battle[a_r][a_c] and not visited[a_r][a_c]:\n",
    "                        visited[a_r][a_c] = 1\n",
    "                        queue.append((a_r, a_c))\n",
    "            if color == 'W':\n",
    "                w += num**2\n",
    "            else:\n",
    "                b += num**2\n",
    "\n",
    "print(w, b)"
   ]
  },
  {
   "cell_type": "code",
   "execution_count": 6,
   "metadata": {},
   "outputs": [
    {
     "data": {
      "text/plain": [
       "[[1, 1, 1, 1, 1],\n",
       " [1, 1, 1, 1, 1],\n",
       " [1, 1, 1, 1, 1],\n",
       " [1, 1, 1, 1, 1],\n",
       " [1, 1, 1, 1, 1]]"
      ]
     },
     "execution_count": 6,
     "metadata": {},
     "output_type": "execute_result"
    }
   ],
   "source": [
    "visited"
   ]
  },
  {
   "cell_type": "code",
   "execution_count": null,
   "metadata": {},
   "outputs": [],
   "source": []
  }
 ],
 "metadata": {
  "kernelspec": {
   "display_name": "Python 3.8.8 ('base')",
   "language": "python",
   "name": "python3"
  },
  "language_info": {
   "codemirror_mode": {
    "name": "ipython",
    "version": 3
   },
   "file_extension": ".py",
   "mimetype": "text/x-python",
   "name": "python",
   "nbconvert_exporter": "python",
   "pygments_lexer": "ipython3",
   "version": "3.8.8"
  },
  "orig_nbformat": 4,
  "vscode": {
   "interpreter": {
    "hash": "f08154012ddadd8e950e6e9e035c7a7b32c136e7647e9b7c77e02eb723a8bedb"
   }
  }
 },
 "nbformat": 4,
 "nbformat_minor": 2
}
