{
 "cells": [
  {
   "cell_type": "markdown",
   "metadata": {},
   "source": [
    "# 10830 행렬 제곱\n",
    "220309\n",
    "- 알고리즘 분류\n",
    "    - 수학\n",
    "    - 분할 정복\n",
    "    - 분할 정복을 이용한 거듭제곱\n",
    "    - 선형대수학\n",
    "- 티어 : 골드 4"
   ]
  },
  {
   "cell_type": "code",
   "execution_count": 46,
   "metadata": {},
   "outputs": [
    {
     "name": "stdout",
     "output_type": "stream",
     "text": [
      "512 0 0 0 512\n",
      "512 0 0 0 512\n",
      "512 0 0 0 512\n",
      "512 0 0 0 512\n",
      "512 0 0 0 512\n"
     ]
    }
   ],
   "source": [
    "N, B = map(int, input().split())\n",
    "A = [tuple(map(int, input().split())) for _ in range(N)]\n",
    "\n",
    "DIV = 1000\n",
    "\n",
    "def inner_product(x, y):\n",
    "    \"\"\" x, y 벡터의 내적 리턴 + DIV로 나눠줌\"\"\"\n",
    "    res = 0\n",
    "    for i in range(N):\n",
    "        res += x[i] * y[i]\n",
    "    return res % DIV\n",
    "\n",
    "def transpose(A):\n",
    "    \"\"\"A의 전치행렬 리턴\"\"\"\n",
    "    A_ = []\n",
    "    for i in range(N):\n",
    "        col = []\n",
    "        for j in range(N):\n",
    "            col.append(A[j][i])    \n",
    "        A_.append(col)\n",
    "    return A_\n",
    "\n",
    "def mat_mul(A, B):\n",
    "    \"\"\"AB = C\"\"\"\n",
    "    C = []\n",
    "    B_ = transpose(B) # B의 전치행렬\n",
    "    for i in range(N):\n",
    "        row = []\n",
    "        x = A[i]\n",
    "        for j in range(N):\n",
    "            y = B_[j]\n",
    "            row.append(inner_product(x, y))\n",
    "        C.append(row)\n",
    "    return C\n",
    "\n",
    "def identity_mat(n=N):\n",
    "    \"\"\"row가 n개인 단위행렬을 만들어주는 함수\"\"\"\n",
    "    res = []\n",
    "    for i in range(n):\n",
    "        temp = list(map(int, str(10**(n-i-1)).zfill(n)))\n",
    "        res.append(temp)\n",
    "    return res\n",
    "\n",
    "B_bin = bin(B)[2:]\n",
    "\n",
    "ans = identity_mat()\n",
    "\n",
    "for i in range(len(B_bin)):\n",
    "    if B_bin[-1-i] == '1':\n",
    "        ans = mat_mul(ans, A)\n",
    "    A = mat_mul(A, A)\n",
    "\n",
    "for row in ans:\n",
    "    print(' '.join(map(str, row)))"
   ]
  },
  {
   "cell_type": "code",
   "execution_count": 28,
   "metadata": {},
   "outputs": [
    {
     "data": {
      "text/plain": [
       "(5,\n",
       " 10,\n",
       " [(1, 0, 0, 0, 1),\n",
       "  (1, 0, 0, 0, 1),\n",
       "  (1, 0, 0, 0, 1),\n",
       "  (1, 0, 0, 0, 1),\n",
       "  (1, 0, 0, 0, 1)])"
      ]
     },
     "execution_count": 28,
     "metadata": {},
     "output_type": "execute_result"
    }
   ],
   "source": [
    "N, B, A"
   ]
  },
  {
   "cell_type": "code",
   "execution_count": 43,
   "metadata": {},
   "outputs": [],
   "source": [
    "DIV = 1000\n",
    "\n",
    "def inner_product(x, y):\n",
    "    \"\"\" x, y 벡터의 내적 리턴 + DIV로 나눠줌\"\"\"\n",
    "    res = 0\n",
    "    for i in range(N):\n",
    "        res += x[i] * y[i]\n",
    "    return res % DIV\n",
    "\n",
    "def transpose(A):\n",
    "    \"\"\"A의 전치행렬 리턴\"\"\"\n",
    "    A_ = []\n",
    "    for i in range(N):\n",
    "        col = []\n",
    "        for j in range(N):\n",
    "            col.append(A[j][i])    \n",
    "        A_.append(col)\n",
    "    return A_\n",
    "\n",
    "def mat_mul(A, B):\n",
    "    \"\"\"AB = C\"\"\"\n",
    "    C = []\n",
    "    B_ = transpose(B) # B의 전치행렬\n",
    "    for i in range(N):\n",
    "        row = []\n",
    "        x = A[i]\n",
    "        for j in range(N):\n",
    "            y = B_[j]\n",
    "            row.append(inner_product(x, y))\n",
    "        C.append(row)\n",
    "    return C\n",
    "\n",
    "def identity_mat(n=N):\n",
    "    \"\"\"row가 n개인 단위행렬을 만들어주는 함수\"\"\"\n",
    "    res = []\n",
    "    for i in range(n):\n",
    "        temp = list(map(int, str(10**(n-i-1)).zfill(n)))\n",
    "        res.append(temp)\n",
    "    return res"
   ]
  },
  {
   "cell_type": "code",
   "execution_count": 44,
   "metadata": {},
   "outputs": [
    {
     "data": {
      "text/plain": [
       "([(1, 0, 0, 0, 1),\n",
       "  (1, 0, 0, 0, 1),\n",
       "  (1, 0, 0, 0, 1),\n",
       "  (1, 0, 0, 0, 1),\n",
       "  (1, 0, 0, 0, 1)],\n",
       " [[1, 1, 1, 1, 1],\n",
       "  [0, 0, 0, 0, 0],\n",
       "  [0, 0, 0, 0, 0],\n",
       "  [0, 0, 0, 0, 0],\n",
       "  [1, 1, 1, 1, 1]],\n",
       " [[2, 0, 0, 0, 2],\n",
       "  [2, 0, 0, 0, 2],\n",
       "  [2, 0, 0, 0, 2],\n",
       "  [2, 0, 0, 0, 2],\n",
       "  [2, 0, 0, 0, 2]],\n",
       " [[1, 0, 0, 0, 0],\n",
       "  [0, 1, 0, 0, 0],\n",
       "  [0, 0, 1, 0, 0],\n",
       "  [0, 0, 0, 1, 0],\n",
       "  [0, 0, 0, 0, 1]])"
      ]
     },
     "execution_count": 44,
     "metadata": {},
     "output_type": "execute_result"
    }
   ],
   "source": [
    "# 함수 잘 작동하는지 확인\n",
    "A, transpose(A), mat_mul(A, A), identity_mat()"
   ]
  },
  {
   "cell_type": "code",
   "execution_count": 31,
   "metadata": {},
   "outputs": [
    {
     "data": {
      "text/plain": [
       "[[512, 0, 0, 0, 512],\n",
       " [512, 0, 0, 0, 512],\n",
       " [512, 0, 0, 0, 512],\n",
       " [512, 0, 0, 0, 512],\n",
       " [512, 0, 0, 0, 512]]"
      ]
     },
     "execution_count": 31,
     "metadata": {},
     "output_type": "execute_result"
    }
   ],
   "source": [
    "A2 = mat_mul(A, A)\n",
    "A4 = mat_mul(A2, A2)\n",
    "A8 = mat_mul(A4, A4)\n",
    "A10 = mat_mul(A8, A2)\n",
    "A10"
   ]
  },
  {
   "cell_type": "code",
   "execution_count": 45,
   "metadata": {},
   "outputs": [
    {
     "data": {
      "text/plain": [
       "[[512, 0, 0, 0, 512],\n",
       " [512, 0, 0, 0, 512],\n",
       " [512, 0, 0, 0, 512],\n",
       " [512, 0, 0, 0, 512],\n",
       " [512, 0, 0, 0, 512]]"
      ]
     },
     "execution_count": 45,
     "metadata": {},
     "output_type": "execute_result"
    }
   ],
   "source": [
    "B_bin = bin(B)[2:]\n",
    "ans = identity_mat()\n",
    "for i in range(len(B_bin)):\n",
    "    if B_bin[-1-i] == '1':\n",
    "        ans = mat_mul(ans, A)\n",
    "    A = mat_mul(A, A)\n",
    "\n",
    "ans"
   ]
  },
  {
   "cell_type": "code",
   "execution_count": null,
   "metadata": {},
   "outputs": [],
   "source": []
  }
 ],
 "metadata": {
  "interpreter": {
   "hash": "c798a043d5b26db4ea8dc684fe25ec244835432adc5539bce2de618403b1d63c"
  },
  "kernelspec": {
   "display_name": "Python 3.8.5 ('base')",
   "language": "python",
   "name": "python3"
  },
  "language_info": {
   "codemirror_mode": {
    "name": "ipython",
    "version": 3
   },
   "file_extension": ".py",
   "mimetype": "text/x-python",
   "name": "python",
   "nbconvert_exporter": "python",
   "pygments_lexer": "ipython3",
   "version": "3.8.5"
  },
  "orig_nbformat": 4
 },
 "nbformat": 4,
 "nbformat_minor": 2
}
