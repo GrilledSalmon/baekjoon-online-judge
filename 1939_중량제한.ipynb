{
 "cells": [
  {
   "cell_type": "markdown",
   "metadata": {},
   "source": [
    "# 1939 중량제한\n",
    "220421\n",
    "- 소감 : 정글 week03 시험 문제. 진짜 기가막히게 풀었다. 시간도 잘 나옴.\n",
    "- 아이디어 : 중량 기준으로 edge를 내림차순하고 union-find로 start랑 end가 만날 때까지 for문 돌려줌\n",
    "- 알고리즘 분류\n",
    "    - 그래프 이론\n",
    "    - 자료 구조\n",
    "    - 그래프 탐색\n",
    "    - 이분 탐색\n",
    "    - 너비 우선 탐색\n",
    "    - 분리 집합\n",
    "- 티어 : 골드 4"
   ]
  },
  {
   "cell_type": "code",
   "execution_count": 1,
   "metadata": {},
   "outputs": [
    {
     "name": "stdout",
     "output_type": "stream",
     "text": [
      "3\n"
     ]
    }
   ],
   "source": [
    "# 1939 중량제한\n",
    "import sys\n",
    "# input = sys.stdin.readline\n",
    "\n",
    "N, M = map(int, input().split())\n",
    "adj_list = [{} for _ in range(N+1)]\n",
    "edges_list = [tuple(map(int, input().split())) for _ in range(M)]\n",
    "edges_list.sort(key=lambda x:x[2], reverse=True)\n",
    "\n",
    "start, end = map(int, input().split())\n",
    "\n",
    "group = list(range(N+1))\n",
    "def find_group(node):\n",
    "    \"\"\"node가 속한 그룹 리턴 및 최적화\"\"\"\n",
    "    if group[node] == node:\n",
    "        return node\n",
    "    group[node] = find_group(group[node]) \n",
    "    return group[node]\n",
    "\n",
    "def union(node_1, node_2):\n",
    "    \"\"\"node_1과 node_2의 그룹을 같은 그룹으로 묶어줌\"\"\"\n",
    "    group_1 = find_group(node_1) \n",
    "    group_2 = find_group(node_2)\n",
    "    if group_1 > group_2: \n",
    "        group_1, group_2 = group_2, group_1\n",
    "    group[group_2] = group_1 \n",
    "\n",
    "for a, b, weight in edges_list:\n",
    "    union(a, b)\n",
    "    if find_group(start) == find_group(end):\n",
    "        max_weight = weight\n",
    "        break\n",
    "\n",
    "print(max_weight)"
   ]
  }
 ],
 "metadata": {
  "interpreter": {
   "hash": "2647ea34e536f865ab67ff9ddee7fd78773d956cec0cab53c79b32cd10da5d83"
  },
  "kernelspec": {
   "display_name": "Python 3.9.5 64-bit",
   "language": "python",
   "name": "python3"
  },
  "language_info": {
   "codemirror_mode": {
    "name": "ipython",
    "version": 3
   },
   "file_extension": ".py",
   "mimetype": "text/x-python",
   "name": "python",
   "nbconvert_exporter": "python",
   "pygments_lexer": "ipython3",
   "version": "3.9.5"
  },
  "orig_nbformat": 4
 },
 "nbformat": 4,
 "nbformat_minor": 2
}
