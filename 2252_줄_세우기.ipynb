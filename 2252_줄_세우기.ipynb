{
 "cells": [
  {
   "cell_type": "markdown",
   "metadata": {},
   "source": [
    "# 2252 줄 세우기\n",
    "- 아이디어 : 위상 정렬\n",
    "- 알고리즘 분류\n",
    "    - 그래프 이론\n",
    "    - 위상 정렬\n",
    "- 티어 : 골드 3"
   ]
  },
  {
   "cell_type": "code",
   "execution_count": 1,
   "metadata": {},
   "outputs": [
    {
     "name": "stdout",
     "output_type": "stream",
     "text": [
      "1 2 3\n"
     ]
    }
   ],
   "source": [
    "# 2252 줄 세우기\n",
    "from collections import deque\n",
    "import sys\n",
    "# input = sys.stdin.readline\n",
    "\n",
    "N, M = map(int, input().split())\n",
    "\n",
    "adj_list = [[] for _ in range(N+1)]\n",
    "in_edges = [0]*(N+1)\n",
    "for _ in range(M):\n",
    "    A, B = map(int, input().split())\n",
    "    adj_list[A].append(B)\n",
    "    in_edges[B] += 1\n",
    "\n",
    "res = []\n",
    "queue = deque()\n",
    "for node in range(1, N+1):\n",
    "    if in_edges[node] == 0:\n",
    "        queue.append(node)\n",
    "\n",
    "while queue:\n",
    "    now_node = queue.popleft()\n",
    "    for adj_node in adj_list[now_node]:\n",
    "        in_edges[adj_node] -= 1\n",
    "        if in_edges[adj_node] == 0:\n",
    "            queue.append(adj_node)\n",
    "    res.append(now_node)\n",
    "\n",
    "print(' '.join(map(str, res)))"
   ]
  }
 ],
 "metadata": {
  "interpreter": {
   "hash": "8fac594bfae6525c0c41b4041d2d72effa188cc8ead05f81b1fab2bb098927fb"
  },
  "kernelspec": {
   "display_name": "Python 3.8.8 ('base')",
   "language": "python",
   "name": "python3"
  },
  "language_info": {
   "codemirror_mode": {
    "name": "ipython",
    "version": 3
   },
   "file_extension": ".py",
   "mimetype": "text/x-python",
   "name": "python",
   "nbconvert_exporter": "python",
   "pygments_lexer": "ipython3",
   "version": "3.8.8"
  },
  "orig_nbformat": 4
 },
 "nbformat": 4,
 "nbformat_minor": 2
}
