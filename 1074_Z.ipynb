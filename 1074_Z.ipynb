{
 "cells": [
  {
   "cell_type": "markdown",
   "metadata": {},
   "source": [
    "# 1074 Z\n",
    "220128\n",
    "- 소감 : 아니;; 프린트 안해서 틀리고 왜 틀렸나 고민하고 있었음;;; 그와 별개로 초반에 아이디어만 갖고 무지성으로 코드 짰더니 후반에 디테일한 부분에서 삽질을 많이 해서 오래 걸림..\n",
    "- 아이디어 : 사각형을 4분면으로 나누어 같은 위치 상에 있는 0사분면(왼쪽 위가 0)과의 값 관계(귀납적, 점화식)를 찾아 재귀로 해결\n",
    "- 알고리즘 분류\n",
    "    - 분할 정복\n",
    "    - 재귀\n",
    "- 티어 : 실버 1"
   ]
  },
  {
   "cell_type": "code",
   "execution_count": 58,
   "metadata": {},
   "outputs": [
    {
     "name": "stdout",
     "output_type": "stream",
     "text": [
      "786432\n"
     ]
    }
   ],
   "source": [
    "N, r, c = map(int, input().split())\n",
    "coord_to_pos = {(0, 0):0, (0,1):1, (1,0):2, (1,1):3}\n",
    "\n",
    "def process(N, r, c):\n",
    "    if N == 1:\n",
    "        return coord_to_pos[(r, c)]\n",
    "    div = 2 ** (N-1)\n",
    "    coord = r // div, c // div\n",
    "    pos = coord_to_pos[coord]\n",
    "    \n",
    "    return 4**(N-1) * pos + process(N-1, r%div, c%div) \n",
    "\n",
    "print(process(N, r, c))"
   ]
  },
  {
   "cell_type": "code",
   "execution_count": 11,
   "metadata": {},
   "outputs": [
    {
     "data": {
      "text/plain": [
       "(3, 7, 7)"
      ]
     },
     "execution_count": 11,
     "metadata": {},
     "output_type": "execute_result"
    }
   ],
   "source": [
    "N, r, c"
   ]
  },
  {
   "cell_type": "code",
   "execution_count": 3,
   "metadata": {},
   "outputs": [
    {
     "data": {
      "text/plain": [
       "1024"
      ]
     },
     "execution_count": 3,
     "metadata": {},
     "output_type": "execute_result"
    }
   ],
   "source": [
    "2 ** 10"
   ]
  },
  {
   "cell_type": "code",
   "execution_count": 26,
   "metadata": {},
   "outputs": [
    {
     "name": "stdout",
     "output_type": "stream",
     "text": [
      "3 7 7 3 4\n",
      "2 3 3 3 2\n"
     ]
    },
    {
     "data": {
      "text/plain": [
       "39"
      ]
     },
     "execution_count": 26,
     "metadata": {},
     "output_type": "execute_result"
    }
   ],
   "source": [
    "def process(N, r, c):\n",
    "    if N == 1:\n",
    "        return coord_to_pos[(r, c)]\n",
    "    div = 2 ** (N-1)  # 2, r,c = 3, 3 (N = 2)\n",
    "    coord = r // div, c // div  # (1, 1)\n",
    "    pos = coord_to_pos[coord]  # 3\n",
    "    res = 4**(N-1) * pos + process(N-1, r%div, c%div) \n",
    "    # print('N:', N, '/ r, c:', r, c, '/ pos:', pos, 'res', res)\n",
    "    return res\n",
    "\n",
    "process(N, r, c)"
   ]
  },
  {
   "cell_type": "code",
   "execution_count": null,
   "metadata": {},
   "outputs": [],
   "source": []
  }
 ],
 "metadata": {
  "interpreter": {
   "hash": "c798a043d5b26db4ea8dc684fe25ec244835432adc5539bce2de618403b1d63c"
  },
  "kernelspec": {
   "display_name": "Python 3.8.5 64-bit ('base': conda)",
   "language": "python",
   "name": "python3"
  },
  "language_info": {
   "codemirror_mode": {
    "name": "ipython",
    "version": 3
   },
   "file_extension": ".py",
   "mimetype": "text/x-python",
   "name": "python",
   "nbconvert_exporter": "python",
   "pygments_lexer": "ipython3",
   "version": "3.8.5"
  },
  "orig_nbformat": 4
 },
 "nbformat": 4,
 "nbformat_minor": 2
}
