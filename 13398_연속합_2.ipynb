{
 "cells": [
  {
   "cell_type": "markdown",
   "metadata": {},
   "source": [
    "# 13398 연속합 2\n",
    "220710\n",
    "- 소감\n",
    "    - 풀이 참고...;\n",
    "    - 숫자를 하나 버리는 경우와 버리지 않는 경우를 나눠서 dp table을 만듬\n",
    "    - 풀이를 보고나니 별로 어려운 문제는 아니었던 것 같아서 아쉬움\n",
    "- 소요 시간 : 1시간 30분\n",
    "- 알고리즘 분류 : 다이나믹 프로그래밍\n",
    "- 티어 : 골드 5"
   ]
  },
  {
   "cell_type": "code",
   "execution_count": null,
   "metadata": {},
   "outputs": [],
   "source": [
    "import sys\n",
    "\n",
    "n = int(input())\n",
    "A = tuple(map(int, input().split()))\n",
    "\n",
    "memo = [[0]*n for _ in range(2)]\n",
    "\n",
    "memo[0][0] = A[0]\n",
    "\n",
    "if n > 1:\n",
    "    ans = -sys.maxsize\n",
    "    for i in range(1, n):\n",
    "        memo[0][i] = max(memo[0][i - 1] + A[i], A[i])\n",
    "        memo[1][i] = max(memo[0][i - 1], memo[1][i - 1] + A[i])\n",
    "        ans = max(ans, memo[0][i], memo[1][i])\n",
    "    print(ans)\n",
    "else:\n",
    "    print(memo[0][0])"
   ]
  },
  {
   "cell_type": "code",
   "execution_count": 1,
   "metadata": {},
   "outputs": [],
   "source": [
    "import sys\n",
    "\n",
    "n = int(input())\n",
    "A = tuple(map(int, input().split()))\n",
    "\n",
    "acc_list = []\n",
    "acc = 0\n",
    "for a in A:\n",
    "    acc += a\n",
    "    acc_list.append(a)\n",
    "\n",
    "now_sum = 0\n",
    "now_min = 0\n",
    "ans = -sys.maxsize\n",
    "left_pointer = 0\n",
    "for a in A:\n",
    "    if a >= 0:\n",
    "        now_sum += a\n",
    "        if ans < now_sum:\n",
    "            ans = now_sum\n",
    "    else:\n",
    "        if now_min > a:\n",
    "            now_sum += now_min\n",
    "            now_min = a\n",
    "            a = 0\n",
    "        if now_sum + a <= 0:\n",
    "            now_min = 0\n",
    "            now_sum = 0\n",
    "        else:\n",
    "            now_sum += a\n",
    "\n",
    "if ans == -sys.maxsize:\n",
    "    print(max(A))\n",
    "else:\n",
    "    print(ans)"
   ]
  },
  {
   "cell_type": "code",
   "execution_count": 3,
   "metadata": {},
   "outputs": [
    {
     "data": {
      "text/plain": [
       "(10, (10, -4, 3, 1, 5, 6, -35, 12, 21, -1))"
      ]
     },
     "execution_count": 3,
     "metadata": {},
     "output_type": "execute_result"
    }
   ],
   "source": [
    "n, A"
   ]
  },
  {
   "cell_type": "code",
   "execution_count": 11,
   "metadata": {},
   "outputs": [
    {
     "name": "stdout",
     "output_type": "stream",
     "text": [
      "10 0 0\n",
      "-4 0 10\n",
      "3 -4 10\n",
      "1 -4 13\n",
      "5 -4 14\n",
      "6 -4 19\n",
      "-35 -4 25\n",
      "12 -35 21\n",
      "21 -35 33\n",
      "-1 -35 54\n",
      "54\n"
     ]
    }
   ],
   "source": [
    "import sys\n",
    "now_sum = 0\n",
    "now_min = 0\n",
    "ans = -sys.maxsize\n",
    "left_pointer = 0\n",
    "for a in A:\n",
    "    if a >= 0:\n",
    "        now_sum += a\n",
    "        if ans < now_sum:\n",
    "            ans = now_sum\n",
    "    else:\n",
    "        if now_min > a:\n",
    "            now_sum += now_min\n",
    "            now_min = a\n",
    "            a = 0\n",
    "        if now_sum + a <= 0:\n",
    "            now_min = 0\n",
    "            now_sum = 0\n",
    "        else:\n",
    "            now_sum += a\n",
    "print(ans)"
   ]
  },
  {
   "cell_type": "code",
   "execution_count": null,
   "metadata": {},
   "outputs": [],
   "source": []
  }
 ],
 "metadata": {
  "kernelspec": {
   "display_name": "Python 3.8.8 ('base')",
   "language": "python",
   "name": "python3"
  },
  "language_info": {
   "codemirror_mode": {
    "name": "ipython",
    "version": 3
   },
   "file_extension": ".py",
   "mimetype": "text/x-python",
   "name": "python",
   "nbconvert_exporter": "python",
   "pygments_lexer": "ipython3",
   "version": "3.8.8"
  },
  "orig_nbformat": 4,
  "vscode": {
   "interpreter": {
    "hash": "f08154012ddadd8e950e6e9e035c7a7b32c136e7647e9b7c77e02eb723a8bedb"
   }
  }
 },
 "nbformat": 4,
 "nbformat_minor": 2
}
