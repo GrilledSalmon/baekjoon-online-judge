{
 "cells": [
  {
   "cell_type": "markdown",
   "metadata": {},
   "source": [
    "# 2493 탑\n",
    "220409\n",
    "- 소감 : 엄청 금방 풀었는데 골드5네..? 오늘 하루종일 히스토그램 문제 푸느라 스택 + 막대 쪽 머리를 많이 써서 그런가..?\n",
    "- 알고리즘 분류\n",
    "    - 자료 구조\n",
    "    - 스택\n",
    "- 티어 : 골드 5"
   ]
  },
  {
   "cell_type": "code",
   "execution_count": 1,
   "metadata": {},
   "outputs": [
    {
     "name": "stdout",
     "output_type": "stream",
     "text": [
      "0 0 2 2 4\n"
     ]
    }
   ],
   "source": [
    "# 2493 탑\n",
    "N = int(input())\n",
    "top = list(map(int, input().split()))\n",
    "\n",
    "stack = []\n",
    "for i in range(N):\n",
    "    index = N - 1 - i\n",
    "    while stack and top[stack[-1]] < top[index]:\n",
    "        top[stack.pop()] = index + 1\n",
    "    stack.append(index)\n",
    "while stack:\n",
    "    top[stack.pop()] = 0\n",
    "print(*top)"
   ]
  }
 ],
 "metadata": {
  "interpreter": {
   "hash": "8fac594bfae6525c0c41b4041d2d72effa188cc8ead05f81b1fab2bb098927fb"
  },
  "kernelspec": {
   "display_name": "Python 3.8.8 ('base')",
   "language": "python",
   "name": "python3"
  },
  "language_info": {
   "codemirror_mode": {
    "name": "ipython",
    "version": 3
   },
   "file_extension": ".py",
   "mimetype": "text/x-python",
   "name": "python",
   "nbconvert_exporter": "python",
   "pygments_lexer": "ipython3",
   "version": "3.8.8"
  },
  "orig_nbformat": 4
 },
 "nbformat": 4,
 "nbformat_minor": 2
}
