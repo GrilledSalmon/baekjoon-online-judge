{
 "cells": [
  {
   "cell_type": "markdown",
   "metadata": {},
   "source": [
    "# 11403 경로 찾기\n",
    "220217\n",
    "- 알고리즘 분류\n",
    "    - 그래프 이론\n",
    "    - 그래프 탐색\n",
    "    - 플로이드-와샬\n",
    "- 티어 : 실버 1"
   ]
  },
  {
   "cell_type": "code",
   "execution_count": 21,
   "metadata": {},
   "outputs": [
    {
     "name": "stdout",
     "output_type": "stream",
     "text": [
      "1 1 1\n",
      "1 1 1\n",
      "1 1 1\n"
     ]
    }
   ],
   "source": [
    "from collections import deque\n",
    "import sys\n",
    "# input = sys.stdin.readline\n",
    "\n",
    "N = int(input())\n",
    "graph = [list(map(int, input().split())) for _ in range(N)] # 인접행렬\n",
    "\n",
    "# 인접리스트 방식으로 변환\n",
    "adj_list = [[] for _ in range(N)]\n",
    "for i in range(N):\n",
    "    for j in range(N):\n",
    "        if graph[i][j]: # 연결돼 있으면\n",
    "            adj_list[i].append(j)\n",
    "\n",
    "# 연결 정보\n",
    "connected = [[0]*N for _ in range(N)]\n",
    "\n",
    "# BFS\n",
    "def bfs(root, adj_list=adj_list):\n",
    "    \"\"\"bfs 시작점(root)를 넣으면 인접리스트를 바탕으로 bfs해주며, 연결 정보 저장\"\"\"\n",
    "    visited = [0]*N # root를 떠난 뒤 root로 돌아오는지 확인하기 위해 root를 visited로 설정하지 않음\n",
    "    queue = deque([root])\n",
    "    while queue:\n",
    "        now_node = queue.popleft()\n",
    "        for adj_node in adj_list[now_node]:\n",
    "            if not visited[adj_node]:\n",
    "                queue.append(adj_node)\n",
    "                visited[adj_node] = 1\n",
    "                connected[root][adj_node] = 1\n",
    "\n",
    "for i in range(N):\n",
    "    bfs(root = i)\n",
    "\n",
    "for line in connected:\n",
    "    print(' '.join(map(str, line)))"
   ]
  },
  {
   "cell_type": "code",
   "execution_count": 11,
   "metadata": {},
   "outputs": [
    {
     "data": {
      "text/plain": [
       "[[0, 0, 0, 1, 0, 0, 0],\n",
       " [0, 0, 0, 0, 0, 0, 1],\n",
       " [0, 0, 0, 0, 0, 0, 0],\n",
       " [0, 0, 0, 0, 1, 1, 0],\n",
       " [1, 0, 0, 0, 0, 0, 0],\n",
       " [0, 0, 0, 0, 0, 0, 1],\n",
       " [0, 0, 1, 0, 0, 0, 0]]"
      ]
     },
     "execution_count": 11,
     "metadata": {},
     "output_type": "execute_result"
    }
   ],
   "source": [
    "graph"
   ]
  },
  {
   "cell_type": "code",
   "execution_count": 12,
   "metadata": {},
   "outputs": [],
   "source": [
    "adj_list = [[] for _ in range(N)]\n",
    "for i in range(N):\n",
    "    for j in range(N):\n",
    "        if graph[i][j]: # 연결돼 있으면\n",
    "            adj_list[i].append(j)"
   ]
  },
  {
   "cell_type": "code",
   "execution_count": 13,
   "metadata": {},
   "outputs": [
    {
     "data": {
      "text/plain": [
       "[[3], [6], [], [4, 5], [0], [6], [2]]"
      ]
     },
     "execution_count": 13,
     "metadata": {},
     "output_type": "execute_result"
    }
   ],
   "source": [
    "adj_list"
   ]
  },
  {
   "cell_type": "code",
   "execution_count": 19,
   "metadata": {},
   "outputs": [
    {
     "name": "stdout",
     "output_type": "stream",
     "text": [
      "1 0 1 1 1 1 1\n",
      "0 0 1 0 0 0 1\n",
      "0 0 0 0 0 0 0\n",
      "1 0 1 1 1 1 1\n",
      "1 0 1 1 1 1 1\n",
      "0 0 1 0 0 0 1\n",
      "0 0 1 0 0 0 0\n"
     ]
    }
   ],
   "source": [
    "from collections import deque\n",
    "connected = [[0]*N for _ in range(N)]\n",
    "\n",
    "# BFS\n",
    "def bfs(root, adj_list=adj_list):\n",
    "    visited = [0]*N\n",
    "    queue = deque([root])\n",
    "    # visited[root] = 1\n",
    "    # connected[root][root] = 1\n",
    "    while queue:\n",
    "        now_node = queue.popleft()\n",
    "        for adj_node in adj_list[now_node]:\n",
    "            if not visited[adj_node]:\n",
    "                queue.append(adj_node)\n",
    "                visited[adj_node] = 1\n",
    "                connected[root][adj_node] = 1\n",
    "\n",
    "for i in range(N):\n",
    "    bfs(root = i)\n",
    "\n",
    "for line in connected:\n",
    "    print(' '.join(map(str, line)))"
   ]
  },
  {
   "cell_type": "code",
   "execution_count": null,
   "metadata": {},
   "outputs": [],
   "source": []
  }
 ],
 "metadata": {
  "interpreter": {
   "hash": "c798a043d5b26db4ea8dc684fe25ec244835432adc5539bce2de618403b1d63c"
  },
  "kernelspec": {
   "display_name": "Python 3.8.5 ('base')",
   "language": "python",
   "name": "python3"
  },
  "language_info": {
   "codemirror_mode": {
    "name": "ipython",
    "version": 3
   },
   "file_extension": ".py",
   "mimetype": "text/x-python",
   "name": "python",
   "nbconvert_exporter": "python",
   "pygments_lexer": "ipython3",
   "version": "3.8.5"
  },
  "orig_nbformat": 4
 },
 "nbformat": 4,
 "nbformat_minor": 2
}
