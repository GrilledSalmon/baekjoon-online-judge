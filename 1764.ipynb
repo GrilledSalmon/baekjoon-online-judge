{
 "cells": [
  {
   "cell_type": "markdown",
   "metadata": {},
   "source": [
    "# 1764 듣보잡\n",
    "날짜 : 211129\n",
    "- 소감 : 시간 초과가 날까 걱정했지만 나진 않았다. set 자료형을 이용하면 전혀 어렵지 않은 문제.\n",
    "- 알고리즘 분류\n",
    "    - 자료 구조\n",
    "    - 문자열\n",
    "    - 정렬\n",
    "    - 해시를 사용한 집합과 맵\n",
    "- 티어 : 실버 4"
   ]
  },
  {
   "cell_type": "code",
   "execution_count": 1,
   "metadata": {},
   "outputs": [],
   "source": [
    "import sys\n",
    "input = sys.stdin.readline\n",
    "\n",
    "N, M = map(int, input().strip().split())\n",
    "\n",
    "s1 = set([input().strip() for _ in range(N)])\n",
    "s2 = set([input().strip() for _ in range(M)])\n",
    "\n",
    "ans = sorted(list(s1 & s2))\n",
    "print(len(ans))\n",
    "[print(name) for name in ans];"
   ]
  },
  {
   "cell_type": "code",
   "execution_count": 19,
   "metadata": {},
   "outputs": [],
   "source": [
    "s1 = set([input() for _ in range(N)])\n",
    "s2 = set([input() for _ in range(M)])\n",
    "\n",
    "ans = sorted(list(s1 & s2))\n",
    "print(len(ans))\n",
    "[print(name) for name in ans];"
   ]
  },
  {
   "cell_type": "code",
   "execution_count": 26,
   "metadata": {},
   "outputs": [
    {
     "name": "stdout",
     "output_type": "stream",
     "text": [
      "2\n",
      "bae\n",
      "ohhenrie\n"
     ]
    }
   ],
   "source": [
    "ans = sorted(list(s1 & s2))\n",
    "print(len(ans))\n",
    "[print(name) for name in ans];"
   ]
  },
  {
   "cell_type": "code",
   "execution_count": 21,
   "metadata": {},
   "outputs": [
    {
     "data": {
      "text/plain": [
       "{'bae', 'charlie', 'ohhenrie'}"
      ]
     },
     "execution_count": 21,
     "metadata": {},
     "output_type": "execute_result"
    }
   ],
   "source": [
    "s1"
   ]
  },
  {
   "cell_type": "code",
   "execution_count": 22,
   "metadata": {},
   "outputs": [
    {
     "data": {
      "text/plain": [
       "{'bae', 'clinton', 'obama', 'ohhenrie'}"
      ]
     },
     "execution_count": 22,
     "metadata": {},
     "output_type": "execute_result"
    }
   ],
   "source": [
    "s2"
   ]
  },
  {
   "cell_type": "code",
   "execution_count": null,
   "metadata": {},
   "outputs": [],
   "source": []
  }
 ],
 "metadata": {
  "interpreter": {
   "hash": "c798a043d5b26db4ea8dc684fe25ec244835432adc5539bce2de618403b1d63c"
  },
  "kernelspec": {
   "display_name": "Python 3.8.5 64-bit ('base': conda)",
   "language": "python",
   "name": "python3"
  },
  "language_info": {
   "codemirror_mode": {
    "name": "ipython",
    "version": 3
   },
   "file_extension": ".py",
   "mimetype": "text/x-python",
   "name": "python",
   "nbconvert_exporter": "python",
   "pygments_lexer": "ipython3",
   "version": "3.8.5"
  },
  "orig_nbformat": 4
 },
 "nbformat": 4,
 "nbformat_minor": 2
}
