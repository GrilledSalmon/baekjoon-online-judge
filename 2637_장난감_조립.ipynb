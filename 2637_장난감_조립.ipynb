{
 "cells": [
  {
   "cell_type": "markdown",
   "metadata": {},
   "source": [
    "# 2637 장난감 조립\n",
    "220418\n",
    "- 소감 : 위상정렬은 짱이다.. 티맥스 코테 문제 중 하나가 위상정렬 문제였다는 걸 이제야 알게 되다니..\n",
    "- 알고리즘 분류\n",
    "    - 다이나믹 프로그래밍\n",
    "    - 그래프 이론\n",
    "    - 위상 정렬\n",
    "- 티어 : 골드 2"
   ]
  },
  {
   "cell_type": "code",
   "execution_count": 2,
   "metadata": {},
   "outputs": [
    {
     "name": "stdout",
     "output_type": "stream",
     "text": [
      "1 16\n",
      "2 16\n",
      "3 9\n",
      "4 17\n"
     ]
    }
   ],
   "source": [
    "# 2637 장난감 조립\n",
    "from collections import deque\n",
    "import sys\n",
    "# input = sys.stdin.readline\n",
    "N, M = int(input()), int(input())\n",
    "adj_list = [{} for _ in range(N+1)]\n",
    "in_edges = [0]*(N+1)\n",
    "for _ in range(M):\n",
    "    X, Y, K = map(int, input().split())\n",
    "    adj_list[Y][X] = K\n",
    "    in_edges[X] += 1\n",
    "\n",
    "base_parts = []\n",
    "for node in range(1, N+1):\n",
    "    if in_edges[node] == 0:\n",
    "        base_parts.append(node)\n",
    "\n",
    "parts_info = [[0]*len(base_parts) for _ in range(N+1)]\n",
    "for i in range(len(base_parts)):\n",
    "    parts_info[base_parts[i]][i] = 1\n",
    "\n",
    "queue = deque(base_parts)\n",
    "while queue:\n",
    "    now_part = queue.popleft()\n",
    "    now_part_info = parts_info[now_part]\n",
    "    for next_part, need_num in adj_list[now_part].items():\n",
    "        next_part_info = parts_info[next_part]\n",
    "        for i in range(len(base_parts)):\n",
    "            next_part_info[i] += now_part_info[i]*need_num\n",
    "        in_edges[next_part] -= 1\n",
    "        if in_edges[next_part] == 0:\n",
    "            queue.append(next_part)\n",
    "\n",
    "for i in range(len(base_parts)):\n",
    "    print(base_parts[i], parts_info[-1][i])"
   ]
  },
  {
   "cell_type": "code",
   "execution_count": 3,
   "metadata": {},
   "outputs": [
    {
     "data": {
      "text/plain": [
       "[[0, 0, 0, 0],\n",
       " [1, 0, 0, 0],\n",
       " [0, 1, 0, 0],\n",
       " [0, 0, 1, 0],\n",
       " [0, 0, 0, 1],\n",
       " [2, 2, 0, 0],\n",
       " [4, 4, 3, 4],\n",
       " [16, 16, 9, 17]]"
      ]
     },
     "execution_count": 3,
     "metadata": {},
     "output_type": "execute_result"
    }
   ],
   "source": [
    "parts_info"
   ]
  },
  {
   "cell_type": "code",
   "execution_count": null,
   "metadata": {},
   "outputs": [],
   "source": []
  }
 ],
 "metadata": {
  "interpreter": {
   "hash": "8fac594bfae6525c0c41b4041d2d72effa188cc8ead05f81b1fab2bb098927fb"
  },
  "kernelspec": {
   "display_name": "Python 3.8.8 ('base')",
   "language": "python",
   "name": "python3"
  },
  "language_info": {
   "codemirror_mode": {
    "name": "ipython",
    "version": 3
   },
   "file_extension": ".py",
   "mimetype": "text/x-python",
   "name": "python",
   "nbconvert_exporter": "python",
   "pygments_lexer": "ipython3",
   "version": "3.8.8"
  },
  "orig_nbformat": 4
 },
 "nbformat": 4,
 "nbformat_minor": 2
}
