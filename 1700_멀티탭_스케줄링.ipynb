{
 "cells": [
  {
   "cell_type": "markdown",
   "metadata": {},
   "source": [
    "# 1700 멀티탭 스케줄링\n",
    "220423\n",
    "- 아이디어 : 멀티탭이 꽉차 있어서 하나를 빼야 한다면, 앞으로 사용하지 않을 멀티탭을 뺀다. 만약 뭔가를 빼야 하는데 전부 뒤에 사용해야 하는 애면 지금 꽂혀 있는 애들 중 가장 나중에 사용할 애를 뽑는다.\n",
    "- 알고리즘 분류\n",
    "    - 그리디 알고리즘\n",
    "- 티어 : 골드 1"
   ]
  },
  {
   "cell_type": "code",
   "execution_count": 46,
   "metadata": {},
   "outputs": [
    {
     "name": "stdout",
     "output_type": "stream",
     "text": [
      "2\n"
     ]
    }
   ],
   "source": [
    "# 1700 멀티탭 스케줄링\n",
    "N, K = map(int, input().split())\n",
    "schedule = tuple(map(int, input().split()))\n",
    "\n",
    "remain_usage = [0]*(K+1) # 물품별 사용하는 횟수\n",
    "for elec in schedule:\n",
    "    remain_usage[elec] += 1\n",
    "\n",
    "remain_usage = [0]*(K+1) # 물품별 사용하는 횟수\n",
    "for elec in schedule:\n",
    "    remain_usage[elec] += 1\n",
    "\n",
    "ans = 0\n",
    "on_multitap = set() # 멀티탭에 물려 있는 전자기기\n",
    "for i in range(K):\n",
    "    elec = schedule[i]\n",
    "    if elec in on_multitap: # 이미 멀티탭에 끼워져 있는 경우\n",
    "        pass\n",
    "    elif len(on_multitap)-N: # 멀티탭에 여유가 있는 경우\n",
    "        on_multitap.add(elec)\n",
    "    else: # 멀티탭이 꽉찬 경우(하나 빼야하는 경우)\n",
    "        for on_elec in on_multitap:\n",
    "            if remain_usage[on_elec] == 0: # 앞으로 사용하지 않는다면\n",
    "                on_multitap.remove(on_elec)\n",
    "                break\n",
    "        else: # 물려 있는 모든 기기가 뒤에 사용해야 하는 기기인 경우(아무거나 빼면 안됨)\n",
    "            # 꼽혀 있는 애들 중에 조만간 사용될 애를 뽑으면 안됨\n",
    "            on_multitap_copy = on_multitap.copy()\n",
    "            for j in range(i+1, K): # -> 꼽혀 있는 애들 중 가장 나중에 사용될 애를 뽑는 게 최선?\n",
    "                if len(on_multitap_copy) == 1:\n",
    "                    break\n",
    "                if schedule[j] in on_multitap_copy:\n",
    "                    on_multitap_copy.remove(schedule[j])\n",
    "            on_multitap.remove(on_multitap_copy.pop())\n",
    "        \n",
    "        ans += 1\n",
    "        on_multitap.add(elec)\n",
    "    remain_usage[elec] -= 1\n",
    "\n",
    "print(ans)        "
   ]
  },
  {
   "cell_type": "code",
   "execution_count": 44,
   "metadata": {},
   "outputs": [
    {
     "data": {
      "text/plain": [
       "(2, 10, (1, 2, 3, 1, 2, 3, 1, 2, 3, 1))"
      ]
     },
     "execution_count": 44,
     "metadata": {},
     "output_type": "execute_result"
    }
   ],
   "source": [
    "N, K, schedule"
   ]
  },
  {
   "cell_type": "code",
   "execution_count": 45,
   "metadata": {},
   "outputs": [
    {
     "name": "stdout",
     "output_type": "stream",
     "text": [
      "4\n"
     ]
    }
   ],
   "source": [
    "remain_usage = [0]*(K+1) # 물품별 사용하는 횟수\n",
    "for elec in schedule:\n",
    "    remain_usage[elec] += 1\n",
    "\n",
    "ans = 0\n",
    "on_multitap = set() # 멀티탭에 물려 있는 전자기기\n",
    "for i in range(K):\n",
    "    elec = schedule[i]\n",
    "    if elec in on_multitap: # 이미 멀티탭에 끼워져 있는 경우\n",
    "        pass\n",
    "    elif len(on_multitap)-N: # 멀티탭에 여유가 있는 경우\n",
    "        on_multitap.add(elec)\n",
    "    else: # 멀티탭이 꽉찬 경우(하나 빼야하는 경우)\n",
    "        for on_elec in on_multitap:\n",
    "            if remain_usage[on_elec] == 0: # 앞으로 사용하지 않는다면\n",
    "                on_multitap.remove(on_elec)\n",
    "                break\n",
    "        else: # 물려 있는 모든 기기가 뒤에 사용해야 하는 기기인 경우(아무거나 빼면 안됨)\n",
    "            # 꼽혀 있는 애들 중에 조만간 사용될 애를 뽑으면 안됨\n",
    "            on_multitap_copy = on_multitap.copy()\n",
    "            for j in range(i+1, K): # -> 꼽혀 있는 애들 중 가장 나중에 사용될 애를 뽑는 게 최선?\n",
    "                if len(on_multitap_copy) == 1:\n",
    "                    break\n",
    "                if schedule[j] in on_multitap_copy:\n",
    "                    on_multitap_copy.remove(schedule[j])\n",
    "            on_multitap.remove(on_multitap_copy.pop())\n",
    "        \n",
    "        ans += 1\n",
    "        on_multitap.add(elec)\n",
    "    remain_usage[elec] -= 1\n",
    "\n",
    "print(ans)        "
   ]
  },
  {
   "cell_type": "code",
   "execution_count": 38,
   "metadata": {},
   "outputs": [
    {
     "data": {
      "text/plain": [
       "[0, 0, 0, 0, 0, 0, 0, 0]"
      ]
     },
     "execution_count": 38,
     "metadata": {},
     "output_type": "execute_result"
    }
   ],
   "source": [
    "remain_usage"
   ]
  },
  {
   "cell_type": "code",
   "execution_count": 39,
   "metadata": {},
   "outputs": [
    {
     "ename": "NameError",
     "evalue": "name 'on_multitap_copy' is not defined",
     "output_type": "error",
     "traceback": [
      "\u001b[1;31m---------------------------------------------------------------------------\u001b[0m",
      "\u001b[1;31mNameError\u001b[0m                                 Traceback (most recent call last)",
      "\u001b[1;32m<ipython-input-39-fe8d10e65149>\u001b[0m in \u001b[0;36m<module>\u001b[1;34m\u001b[0m\n\u001b[1;32m----> 1\u001b[1;33m \u001b[0mon_multitap_copy\u001b[0m\u001b[1;33m\u001b[0m\u001b[1;33m\u001b[0m\u001b[0m\n\u001b[0m",
      "\u001b[1;31mNameError\u001b[0m: name 'on_multitap_copy' is not defined"
     ]
    }
   ],
   "source": [
    "on_multitap_copy"
   ]
  }
 ],
 "metadata": {
  "interpreter": {
   "hash": "8fac594bfae6525c0c41b4041d2d72effa188cc8ead05f81b1fab2bb098927fb"
  },
  "kernelspec": {
   "display_name": "Python 3.8.8 ('base')",
   "language": "python",
   "name": "python3"
  },
  "language_info": {
   "codemirror_mode": {
    "name": "ipython",
    "version": 3
   },
   "file_extension": ".py",
   "mimetype": "text/x-python",
   "name": "python",
   "nbconvert_exporter": "python",
   "pygments_lexer": "ipython3",
   "version": "3.8.8"
  },
  "orig_nbformat": 4
 },
 "nbformat": 4,
 "nbformat_minor": 2
}
