{
 "cells": [
  {
   "cell_type": "markdown",
   "metadata": {},
   "source": [
    "# 11048 이동하기\n",
    "220817\n",
    "- 소감\n",
    "    - DP와 내적 친밀감을 기르기 위해 쉬운 DP 문제들 푸는 중..\n",
    "- 소요 시간 : 16분\n",
    "- 알고리즘 분류 : 다이나믹 프로그래밍\n",
    "- 티어 : 실버 2"
   ]
  },
  {
   "cell_type": "code",
   "execution_count": 4,
   "metadata": {},
   "outputs": [],
   "source": [
    "import sys\n",
    "# input = sys.stdin.readline\n",
    "\n",
    "N, M = map(int, input().split())\n",
    "candies = [list(map(int, input().split())) for _ in range(N)]\n",
    "\n",
    "memo = [[None]*M for _ in range(N)]\n",
    "for r in range(N):\n",
    "    for c in range(M):\n",
    "        candy_1 = memo[r-1][c] if r!=0 else 0\n",
    "        candy_2 = memo[r][c-1] if c!=0 else 0\n",
    "        candy_3 = memo[r-1][c-1] if (r!=0 and c!=0) else 0\n",
    "        memo[r][c] = max(candy_1, candy_2, candy_3) + candies[r][c]\n",
    "\n",
    "print(memo[N-1][M-1])"
   ]
  },
  {
   "cell_type": "code",
   "execution_count": 5,
   "metadata": {},
   "outputs": [
    {
     "data": {
      "text/plain": [
       "(3, 4, [[1, 2, 3, 4], [0, 0, 0, 5], [9, 8, 7, 6]])"
      ]
     },
     "execution_count": 5,
     "metadata": {},
     "output_type": "execute_result"
    }
   ],
   "source": [
    "N, M, candies"
   ]
  },
  {
   "cell_type": "code",
   "execution_count": 6,
   "metadata": {},
   "outputs": [
    {
     "name": "stdout",
     "output_type": "stream",
     "text": [
      "31\n"
     ]
    }
   ],
   "source": [
    "memo = [[None]*M for _ in range(N)]\n",
    "for r in range(N):\n",
    "    for c in range(M):\n",
    "        candy_1 = memo[r-1][c] if r!=0 else 0\n",
    "        candy_2 = memo[r][c-1] if c!=0 else 0\n",
    "        candy_3 = memo[r-1][c-1] if (r!=0 and c!=0) else 0\n",
    "        memo[r][c] = max(candy_1, candy_2, candy_3) + candies[r][c]\n",
    "\n",
    "print(memo[N-1][M-1])"
   ]
  },
  {
   "cell_type": "code",
   "execution_count": null,
   "metadata": {},
   "outputs": [],
   "source": []
  }
 ],
 "metadata": {
  "kernelspec": {
   "display_name": "Python 3.8.8 ('base')",
   "language": "python",
   "name": "python3"
  },
  "language_info": {
   "codemirror_mode": {
    "name": "ipython",
    "version": 3
   },
   "file_extension": ".py",
   "mimetype": "text/x-python",
   "name": "python",
   "nbconvert_exporter": "python",
   "pygments_lexer": "ipython3",
   "version": "3.8.8"
  },
  "orig_nbformat": 4,
  "vscode": {
   "interpreter": {
    "hash": "f08154012ddadd8e950e6e9e035c7a7b32c136e7647e9b7c77e02eb723a8bedb"
   }
  }
 },
 "nbformat": 4,
 "nbformat_minor": 2
}
