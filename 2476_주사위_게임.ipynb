{
 "cells": [
  {
   "cell_type": "markdown",
   "metadata": {},
   "source": [
    "# 2476 주사위 게임\n",
    "220911\n",
    "- 소감\n",
    "    - 잘 구현한다.\n",
    "- 소요 시간 : 13분\n",
    "- 알고리즘 분류 : 수학, 수현\n",
    "- 티어 : 브론즈 3"
   ]
  },
  {
   "cell_type": "code",
   "execution_count": null,
   "metadata": {},
   "outputs": [],
   "source": [
    "from collections import Counter\n",
    "import sys\n",
    "# input = sys.stdin.readline\n",
    "\n",
    "ans = 0\n",
    "for _ in range(int(input())):\n",
    "    a, b, c = map(int, input().split())\n",
    "    cnt_dic = Counter([a, b, c]).items()\n",
    "    num, cnt = max(cnt_dic, key=lambda x: (x[1],x[0]))\n",
    "    if cnt == 3:\n",
    "        ans = max(ans, 10000 + 1000*num)\n",
    "    elif cnt == 2:\n",
    "        ans = max(ans, 1000 + 100*num)\n",
    "    else:\n",
    "        ans = max(ans, 100*num)\n",
    "        \n",
    "print(ans)"
   ]
  },
  {
   "cell_type": "code",
   "execution_count": null,
   "metadata": {},
   "outputs": [],
   "source": []
  }
 ],
 "metadata": {
  "kernelspec": {
   "display_name": "Python 3.8.5 ('base')",
   "language": "python",
   "name": "python3"
  },
  "language_info": {
   "codemirror_mode": {
    "name": "ipython",
    "version": 3
   },
   "file_extension": ".py",
   "mimetype": "text/x-python",
   "name": "python",
   "nbconvert_exporter": "python",
   "pygments_lexer": "ipython3",
   "version": "3.8.5"
  },
  "orig_nbformat": 4,
  "vscode": {
   "interpreter": {
    "hash": "8cc51f7a6f9663e4a057df8e9ab0b3750994a36584b90d61db68aa71b39bfa78"
   }
  }
 },
 "nbformat": 4,
 "nbformat_minor": 2
}
