{
 "cells": [
  {
   "cell_type": "markdown",
   "metadata": {},
   "source": [
    "# 14226 이모티콘\n",
    "220628\n",
    "- 소감\n",
    "    - 금방 풀 수 있겠다 생각했지만, 생각을 잘못해서 예상보다 훨씬 오래 걸렸습니다.\n",
    "    - 결과적으로 다른 풀이를 참고하고 실수를 찾을 수 있었음\n",
    "    - 사실 아직도 왜 2차원 visited를 사용해야 하는지 명확하게 이해가지 않음\n",
    "- 소요 시간 : 1시간 30분\n",
    "- 알고리즘 분류 : 다이나믹 프로그래밍, 그래프 이론, 그래프 탐색, 너비 우선 탐색\n",
    "- 티어 : 골드 4"
   ]
  },
  {
   "cell_type": "code",
   "execution_count": 62,
   "metadata": {},
   "outputs": [
    {
     "name": "stdout",
     "output_type": "stream",
     "text": [
      "5\n"
     ]
    }
   ],
   "source": [
    "from collections import deque\n",
    "S = int(input())\n",
    "\n",
    "def check_and_visit(queue, emj, clip, visited, S):\n",
    "    if emj == S:\n",
    "        return True\n",
    "    queue.append((emj, clip))\n",
    "    visited[emj][clip] = 1\n",
    "    return False\n",
    "\n",
    "def bfs(S):\n",
    "    visited = [[0]*2*S for _ in range(2*S)]\n",
    "    visited[1][0] = 1\n",
    "    queue=  deque([(1, 0)]) # (화면에 있는 이모티콘 수, 클립보드에 복사된 이모티콘 수)\n",
    "    time = 0\n",
    "    while queue:\n",
    "        time += 1\n",
    "        for _ in range(len(queue)):\n",
    "            emj, clip = queue.popleft()\n",
    "            emj_paste = emj + clip\n",
    "            if clip and emj_paste<len(visited) and not visited[emj_paste][clip]: # 클립보드에 뭔가 있고 방문한 적이 없다면\n",
    "                if check_and_visit(queue, emj_paste, clip, visited, S):\n",
    "                    return time\n",
    "            if emj > 0 and not visited[emj - 1][clip]:\n",
    "                if check_and_visit(queue, emj-1, clip, visited, S):\n",
    "                    return time\n",
    "            if not visited[emj][emj]:\n",
    "                queue.append((emj, emj)) # 복사\n",
    "                visited[emj][emj] = 1\n",
    "        \n",
    "print(bfs(S))"
   ]
  },
  {
   "cell_type": "code",
   "execution_count": 28,
   "metadata": {},
   "outputs": [
    {
     "data": {
      "text/plain": [
       "6"
      ]
     },
     "execution_count": 28,
     "metadata": {},
     "output_type": "execute_result"
    }
   ],
   "source": [
    "S"
   ]
  },
  {
   "cell_type": "code",
   "execution_count": 11,
   "metadata": {},
   "outputs": [
    {
     "name": "stdout",
     "output_type": "stream",
     "text": [
      "8\n"
     ]
    }
   ],
   "source": [
    "from collections import deque\n",
    "\n",
    "def check_and_visit(queue, emj, clip, visited, S):\n",
    "    if emj == S:\n",
    "        return True\n",
    "    queue.append((emj, clip))\n",
    "    visited[emj] = 1\n",
    "    return False\n",
    "\n",
    "def bfs(S):\n",
    "    visited = [0]*(S+100)\n",
    "    visited[1] = 1\n",
    "    queue=  deque([(1, 0)]) # (이모티콘 수, 클립보드에 복사된 이모티콘 수)\n",
    "    time = 0\n",
    "    while queue:\n",
    "        time += 1\n",
    "        for _ in range(len(queue)):\n",
    "            emj, clip = queue.popleft()\n",
    "            emj_paste = emj + clip\n",
    "            if clip and not visited[emj_paste]: # 클립보드에 뭔가 있고 방문한 적이 없다면\n",
    "                if check_and_visit(queue, emj_paste, clip, visited, S):\n",
    "                    return time\n",
    "            if not visited[emj - 1]:\n",
    "                if check_and_visit(queue, emj-1, clip, visited, S):\n",
    "                    return time\n",
    "            queue.append((emj, emj))\n",
    "\n",
    "print(bfs(S))"
   ]
  },
  {
   "cell_type": "code",
   "execution_count": null,
   "metadata": {},
   "outputs": [],
   "source": []
  }
 ],
 "metadata": {
  "kernelspec": {
   "display_name": "Python 3.8.8 ('base')",
   "language": "python",
   "name": "python3"
  },
  "language_info": {
   "codemirror_mode": {
    "name": "ipython",
    "version": 3
   },
   "file_extension": ".py",
   "mimetype": "text/x-python",
   "name": "python",
   "nbconvert_exporter": "python",
   "pygments_lexer": "ipython3",
   "version": "3.8.8"
  },
  "orig_nbformat": 4,
  "vscode": {
   "interpreter": {
    "hash": "f08154012ddadd8e950e6e9e035c7a7b32c136e7647e9b7c77e02eb723a8bedb"
   }
  }
 },
 "nbformat": 4,
 "nbformat_minor": 2
}
