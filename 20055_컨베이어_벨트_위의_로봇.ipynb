{
 "cells": [
  {
   "cell_type": "markdown",
   "metadata": {},
   "source": [
    "# 20055 컨베이어 벨트 위의 로봇\n",
    "220515"
   ]
  },
  {
   "cell_type": "code",
   "execution_count": 33,
   "metadata": {},
   "outputs": [],
   "source": [
    "from collections import deque\n",
    "N, K = map(int, input().split())\n",
    "A = deque(map(int, input().split()))"
   ]
  },
  {
   "cell_type": "code",
   "execution_count": 34,
   "metadata": {},
   "outputs": [
    {
     "data": {
      "text/plain": [
       "(4, 5, deque([10, 1, 10, 6, 3, 4, 8, 2]))"
      ]
     },
     "execution_count": 34,
     "metadata": {},
     "output_type": "execute_result"
    }
   ],
   "source": [
    "N, K, A"
   ]
  },
  {
   "cell_type": "code",
   "execution_count": 32,
   "metadata": {},
   "outputs": [
    {
     "name": "stdout",
     "output_type": "stream",
     "text": [
      "28\n"
     ]
    }
   ],
   "source": [
    "phase = 0\n",
    "zero_cnt = 0\n",
    "on_robot = deque([0]*len(A))\n",
    "while zero_cnt < K:\n",
    "    phase += 1\n",
    "\n",
    "    on_robot[-1] = 0 # 맨 끝 로봇 내리기\n",
    "    on_robot.rotate() # 한 칸씩 전진\n",
    "    A.rotate()\n",
    "    on_robot[-1] = 0 # 맨 끝 로봇 내리기\n",
    "\n",
    "    for i in range(len(on_robot)-2, -1, -1):\n",
    "        if on_robot[i] and not on_robot[i+1] and A[i+1]:\n",
    "            on_robot[i], on_robot[i+1] = 0, 1 # 로봇 이동\n",
    "            A[i+1] -= 1\n",
    "            if A[i+1] == 0:\n",
    "                zero_cnt += 1\n",
    "    if A[0]:\n",
    "        on_robot[0] = 1\n",
    "        A[0] -= 1\n",
    "        if A[0] == 0:\n",
    "            zero_cnt += 1\n",
    "\n",
    "print(phase)    "
   ]
  },
  {
   "cell_type": "code",
   "execution_count": 28,
   "metadata": {},
   "outputs": [
    {
     "data": {
      "text/plain": [
       "(deque([0, 0, 2, 0, 5, 0, 6, 0]), deque([0, 0, 1, 0, 1, 0, 0, 1]))"
      ]
     },
     "execution_count": 28,
     "metadata": {},
     "output_type": "execute_result"
    }
   ],
   "source": [
    "A, on_robot"
   ]
  },
  {
   "cell_type": "code",
   "execution_count": 14,
   "metadata": {},
   "outputs": [
    {
     "data": {
      "text/plain": [
       "deque([2, 10, 1, 10, 6, 3, 4, 8])"
      ]
     },
     "execution_count": 14,
     "metadata": {},
     "output_type": "execute_result"
    }
   ],
   "source": [
    "T"
   ]
  },
  {
   "cell_type": "code",
   "execution_count": 31,
   "metadata": {},
   "outputs": [
    {
     "name": "stdout",
     "output_type": "stream",
     "text": [
      "9\n",
      "8\n",
      "7\n",
      "6\n",
      "5\n",
      "4\n",
      "3\n",
      "2\n",
      "1\n",
      "0\n"
     ]
    }
   ],
   "source": [
    "for i in range(9, -1, -1):\n",
    "    print(i)"
   ]
  },
  {
   "cell_type": "code",
   "execution_count": null,
   "metadata": {},
   "outputs": [],
   "source": []
  }
 ],
 "metadata": {
  "interpreter": {
   "hash": "f08154012ddadd8e950e6e9e035c7a7b32c136e7647e9b7c77e02eb723a8bedb"
  },
  "kernelspec": {
   "display_name": "Python 3.8.8 ('base')",
   "language": "python",
   "name": "python3"
  },
  "language_info": {
   "codemirror_mode": {
    "name": "ipython",
    "version": 3
   },
   "file_extension": ".py",
   "mimetype": "text/x-python",
   "name": "python",
   "nbconvert_exporter": "python",
   "pygments_lexer": "ipython3",
   "version": "3.8.8"
  },
  "orig_nbformat": 4
 },
 "nbformat": 4,
 "nbformat_minor": 2
}
