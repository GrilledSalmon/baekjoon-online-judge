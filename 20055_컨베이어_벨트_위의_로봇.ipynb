{
 "cells": [
  {
   "cell_type": "markdown",
   "metadata": {},
   "source": [
    "# 20055 컨베이어 벨트 위의 로봇\n",
    "220515\n",
    "- 소감\n",
    "    - 좀 산만한 환경에서 문제를 풀다보니 문제를 잘못 이해하거나 집중을 잘 하지 못해 풀이 시간이 오래 걸렸습니다.\n",
    "    - 잘 집중했다면 40분 안은 확실하지 않지만 한 시간 안에는 풀 수 있었을 것 같습니다.\n",
    "    - deque의 rotate를 활용했습니다.\n",
    "- 소요 시간 : 한 시간 +\n",
    "- 알고리즘 분류 : 구현, 시뮬레이션\n",
    "- 티어 : 골드 5"
   ]
  },
  {
   "cell_type": "code",
   "execution_count": 5,
   "metadata": {},
   "outputs": [],
   "source": [
    "from collections import deque\n",
    "N, K = map(int, input().split())\n",
    "A = deque(map(int, input().split()))\n",
    "\n",
    "phase = 0\n",
    "zero_cnt = 0\n",
    "get_off_ind = N-1\n",
    "on_robot = deque([0]*len(A))\n",
    "while zero_cnt < K:\n",
    "    phase += 1\n",
    "    \n",
    "    on_robot.rotate() # 한 칸씩 전진\n",
    "    A.rotate()\n",
    "    on_robot[get_off_ind] = 0 # 내리는위치 로봇 내리기\n",
    "\n",
    "    # 먼저 올라간 로봇부터 한 칸씩 전진\n",
    "    for i in range(get_off_ind-1, -1, -1):\n",
    "        if on_robot[i] and not on_robot[i+1] and A[i+1]:\n",
    "            on_robot[i], on_robot[i+1] = 0, 1 # 로봇 이동\n",
    "            A[i+1] -= 1\n",
    "            if A[i+1] == 0:\n",
    "                zero_cnt += 1\n",
    "    \n",
    "    on_robot[get_off_ind] = 0 # 내리는 위치 로봇 내리기\n",
    "\n",
    "    if A[0]:\n",
    "        on_robot[0] = 1\n",
    "        A[0] -= 1\n",
    "        if A[0] == 0:\n",
    "            zero_cnt += 1\n",
    "\n",
    "print(phase)"
   ]
  },
  {
   "cell_type": "code",
   "execution_count": 6,
   "metadata": {},
   "outputs": [
    {
     "data": {
      "text/plain": [
       "(4, 5, deque([10, 1, 10, 6, 3, 4, 8, 2]))"
      ]
     },
     "execution_count": 6,
     "metadata": {},
     "output_type": "execute_result"
    }
   ],
   "source": [
    "N, K, A"
   ]
  },
  {
   "cell_type": "code",
   "execution_count": 7,
   "metadata": {},
   "outputs": [
    {
     "name": "stdout",
     "output_type": "stream",
     "text": [
      "24\n"
     ]
    }
   ],
   "source": [
    "phase = 0\n",
    "zero_cnt = 0\n",
    "get_off_ind = N-1\n",
    "on_robot = deque([0]*len(A))\n",
    "while zero_cnt < K:\n",
    "    phase += 1\n",
    "    \n",
    "    on_robot.rotate() # 한 칸씩 전진\n",
    "    A.rotate()\n",
    "    on_robot[get_off_ind] = 0 # 내리는위치 로봇 내리기\n",
    "\n",
    "    # 먼저 올라간 로봇부터 한 칸씩 전진\n",
    "    for i in range(get_off_ind-1, -1, -1):\n",
    "        if on_robot[i] and not on_robot[i+1] and A[i+1]:\n",
    "            on_robot[i], on_robot[i+1] = 0, 1 # 로봇 이동\n",
    "            A[i+1] -= 1\n",
    "            if A[i+1] == 0:\n",
    "                zero_cnt += 1\n",
    "    \n",
    "    on_robot[get_off_ind] = 0 # 내리는 위치 로봇 내리기\n",
    "\n",
    "    if A[0]:\n",
    "        on_robot[0] = 1\n",
    "        A[0] -= 1\n",
    "        if A[0] == 0:\n",
    "            zero_cnt += 1\n",
    "\n",
    "print(phase)"
   ]
  },
  {
   "cell_type": "code",
   "execution_count": 4,
   "metadata": {},
   "outputs": [
    {
     "data": {
      "text/plain": [
       "(deque([0, 5, 0, 7, 0, 0, 0, 2]), deque([0, 1, 0, 0, 1, 0, 0, 0]))"
      ]
     },
     "execution_count": 4,
     "metadata": {},
     "output_type": "execute_result"
    }
   ],
   "source": [
    "A, on_robot"
   ]
  },
  {
   "cell_type": "code",
   "execution_count": 14,
   "metadata": {},
   "outputs": [
    {
     "data": {
      "text/plain": [
       "deque([2, 10, 1, 10, 6, 3, 4, 8])"
      ]
     },
     "execution_count": 14,
     "metadata": {},
     "output_type": "execute_result"
    }
   ],
   "source": [
    "T"
   ]
  },
  {
   "cell_type": "code",
   "execution_count": 31,
   "metadata": {},
   "outputs": [
    {
     "name": "stdout",
     "output_type": "stream",
     "text": [
      "9\n",
      "8\n",
      "7\n",
      "6\n",
      "5\n",
      "4\n",
      "3\n",
      "2\n",
      "1\n",
      "0\n"
     ]
    }
   ],
   "source": [
    "for i in range(9, -1, -1):\n",
    "    print(i)"
   ]
  },
  {
   "cell_type": "code",
   "execution_count": null,
   "metadata": {},
   "outputs": [],
   "source": []
  }
 ],
 "metadata": {
  "interpreter": {
   "hash": "8cc51f7a6f9663e4a057df8e9ab0b3750994a36584b90d61db68aa71b39bfa78"
  },
  "kernelspec": {
   "display_name": "Python 3.8.5 ('base')",
   "language": "python",
   "name": "python3"
  },
  "language_info": {
   "codemirror_mode": {
    "name": "ipython",
    "version": 3
   },
   "file_extension": ".py",
   "mimetype": "text/x-python",
   "name": "python",
   "nbconvert_exporter": "python",
   "pygments_lexer": "ipython3",
   "version": "3.8.5"
  },
  "orig_nbformat": 4
 },
 "nbformat": 4,
 "nbformat_minor": 2
}
