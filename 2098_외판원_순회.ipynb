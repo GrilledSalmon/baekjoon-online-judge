{
 "cells": [
  {
   "cell_type": "markdown",
   "metadata": {},
   "source": [
    "# 2098 외판원 순회\n",
    "220424~220425\n",
    "- 소감 : 역시나 처음 보는 DP 유형 문제는 혼자서 풀이를 떠올리긴 힘들다. 엄청 길게 고민하진 않고 풀이를 봤는데 이해하기 좀 어려웠다. 두 가지가 어려웠는데, 하나는 점화식을 이해하는 것이었고, 다른 하나는 그 점화식을 코드로 구현하기 위해서 비트마스킹을 활용하는 방법을 이해하는 것이었다. 둘 다 이해하기 어려웠지만 막상 이해하고 나니 비트마스크를 이용해 코드를 구현하는 과정이 상당히 새로워서 재밌었다.\n",
    "- 아이디어 : 아래의 tsp 함수와 비트마스킹을 활용해 방문상태를 표현하는 것이 핵심이다. 8을 이진법으로 표현하면 1000이며, 이는 `[1, 0, 0, 0]`과 상태라고 생각할 수 있다. 즉, 이진법을 이용해 방문상태를 표현하고 방문 여부 확인 및 방문 상태 반영 등의 작업을 매우 빠르게 처리해줄 수 있다. 이것이 비트마스킹을 활용한 방문상태 표현이고, 문제의 핵심인 점화식은 tsp함수를 보고 이해하기 바란다.\n",
    "- 알고리즘 분류\n",
    "    - 다이나믹 프로그래밍\n",
    "    - 비트마스킹\n",
    "    - 비트필드를 이용한 다이나믹 프로그래밍\n",
    "    - 외판원 순회 문제\n",
    "- 티어 : 골드 1"
   ]
  },
  {
   "cell_type": "code",
   "execution_count": 2,
   "metadata": {},
   "outputs": [],
   "source": [
    "# 2098 외판원 순회\n",
    "import sys\n",
    "input = sys.stdin.readline\n",
    "N = int(input())\n",
    "adj_matrix = [tuple(map(int, input().split())) for _ in range(N)]\n",
    "adj_list = [[] for _ in range(N)]\n",
    "for a, row in enumerate(adj_matrix):\n",
    "    for b, cost in enumerate(row):\n",
    "        if cost != 0: # 갈 수 있는 경우만\n",
    "            adj_list[a].append((b, cost))\n",
    "\n",
    "# 방문상태를 표시해주는 binary 값인 status는 오른쪽부터 1번 노드로 친다.\n",
    "def visited(node, status):\n",
    "    \"\"\"방문상태가 status일 때 node의 방문여부 리턴\"\"\"\n",
    "    return (status >> node)%2\n",
    "\n",
    "def visit(node, status):\n",
    "    \"\"\"방문상태가 status일 때 node를 방문한 처리한 new_status 리턴\"\"\"\n",
    "    return status + (0b1<<node)\n",
    "\n",
    "start = 0 # 비트마스킹 때문에 0으로 고정해야 함\n",
    "dp = [[float('inf')]*2**N for _ in range(N)] # 아래 tsp 함수의 정보 저장\n",
    "all_visited = 2**N - 1\n",
    "def tsp(now_node=start, status=visit(start,0)):\n",
    "    \"\"\"방문상태가 status일 때 now_node에서 출발해 start로 돌아오는 최소 비용 리턴\"\"\"\n",
    "    if dp[now_node][status] == float('inf'):\n",
    "        if status == all_visited: # 전부 다 돈 경우\n",
    "            if adj_matrix[now_node][start]: # start로 가는 길이 있으면\n",
    "                dp[now_node][status] = adj_matrix[now_node][start]\n",
    "            else:\n",
    "                dp[now_node][status] = 10**8 # 길 없다고 표시\n",
    "        else:\n",
    "            candi_costs = [10**8]\n",
    "            for adj_node, adj_cost in adj_list[now_node]:\n",
    "                if adj_node != start and not visited(adj_node, status):\n",
    "                    new_status = visit(adj_node, status)\n",
    "                    new_cost = adj_cost + tsp(adj_node, new_status)\n",
    "                    candi_costs.append(new_cost)\n",
    "            dp[now_node][status] = min(candi_costs)\n",
    "    return dp[now_node][status]\n",
    "\n",
    "print(tsp())"
   ]
  },
  {
   "cell_type": "code",
   "execution_count": null,
   "metadata": {},
   "outputs": [],
   "source": [
    "# 2098 외판원 순회 (메모리 적게 먹는 거)\n",
    "import sys\n",
    "input = sys.stdin.readline\n",
    "N = int(input())\n",
    "adj_matrix = [tuple(map(int, input().split())) for _ in range(N)]\n",
    "adj_list = [[] for _ in range(N)]\n",
    "for a, row in enumerate(adj_matrix):\n",
    "    for b, cost in enumerate(row):\n",
    "        if cost != 0: # 갈 수 있는 경우만\n",
    "            adj_list[a].append((b, cost))\n",
    "\n",
    "# 방문상태를 표시해주는 binary 값인 status는 오른쪽부터 1번 노드로 친다.\n",
    "def visited(node, status):\n",
    "    \"\"\"방문상태가 status일 때 node의 방문여부 리턴\"\"\"\n",
    "    return (status >> node-1)%2\n",
    "\n",
    "def visit(node, status):\n",
    "    \"\"\"방문상태가 status일 때 node를 방문한 처리한 new_status 리턴\"\"\"\n",
    "    return status + (0b1<<(node-1))\n",
    "\n",
    "start = 0 # 비트마스킹 때문에 0으로 고정해야 함\n",
    "dp = [[float('inf')]*2**(N-1) for _ in range(N-1)] # 아래 tsp 함수의 정보 저장(0(start)에서 출발하는 경우는 빼도 돼서 N-1로)\n",
    "all_visited = 2**(N-1) - 1\n",
    "def tsp(now_node, status=0):\n",
    "    \"\"\"방문상태가 status일 때 now_node에서 출발해 start로 돌아오는 최소 비용 리턴\"\"\"\n",
    "    if dp[now_node-1][status] == float('inf'):\n",
    "        if status == all_visited: # 전부 다 돈 경우\n",
    "            if adj_matrix[now_node][start]: # start로 가는 길이 있으면\n",
    "                dp[now_node-1][status] = adj_matrix[now_node][start]\n",
    "            else:\n",
    "                dp[now_node-1][status] = 10**8 # 길 없다고 표시해주는 게 나을듯\n",
    "        else:\n",
    "            candi_costs = [10**8]\n",
    "            for adj_node, adj_cost in adj_list[now_node]:\n",
    "                if adj_node != start and not visited(adj_node, status):\n",
    "                    new_status = visit(adj_node, status)\n",
    "                    new_cost = adj_cost + tsp(adj_node, new_status)\n",
    "                    candi_costs.append(new_cost)\n",
    "            dp[now_node-1][status] = min(candi_costs)\n",
    "    return dp[now_node-1][status]\n",
    "\n",
    "final_costs = []\n",
    "for node in range(1, N):\n",
    "    if adj_matrix[start][node]: # start에서 node로 가는 길이 있다면\n",
    "        status = visit(node, 0)\n",
    "        final_costs.append(adj_matrix[start][node] + tsp(node, status))\n",
    "\n",
    "print(min(final_costs))"
   ]
  },
  {
   "cell_type": "code",
   "execution_count": 81,
   "metadata": {},
   "outputs": [
    {
     "data": {
      "text/plain": [
       "([[(1, 10), (2, 15), (3, 20)],\n",
       "  [(0, 5), (2, 9), (3, 10)],\n",
       "  [(0, 6), (1, 13), (3, 12)],\n",
       "  [(0, 8), (1, 8), (2, 9)]],\n",
       " [(0, 10, 15, 20), (5, 0, 9, 10), (6, 13, 0, 12), (8, 8, 9, 0)],\n",
       " 4)"
      ]
     },
     "execution_count": 81,
     "metadata": {},
     "output_type": "execute_result"
    }
   ],
   "source": [
    "adj_list, adj_matrix, N"
   ]
  },
  {
   "cell_type": "code",
   "execution_count": 83,
   "metadata": {},
   "outputs": [
    {
     "name": "stdout",
     "output_type": "stream",
     "text": [
      "35\n"
     ]
    }
   ],
   "source": [
    "# 방문상태를 표시해주는 binary 값인 status는 오른쪽부터 1번 노드로 친다.\n",
    "def visited(node, status):\n",
    "    \"\"\"방문상태가 status일 때 node의 방문여부 리턴\"\"\"\n",
    "    return (status >> node)%2\n",
    "\n",
    "def visit(node, status):\n",
    "    \"\"\"방문상태가 status일 때 node를 방문한 처리한 new_status 리턴\"\"\"\n",
    "    return status + (0b1<<(node))\n",
    "\n",
    "start = 0 # 비트마스킹 때문에 0으로 고정해야 함\n",
    "dp = [[float('inf')]*2**N for _ in range(N)] # 아래 tsp 함수의 정보 저장\n",
    "all_visited = 2**N - 1\n",
    "def tsp(now_node=start, status=visit(start,0)):\n",
    "    \"\"\"방문상태가 status일 때 now_node에서 출발해 start로 돌아오는 최소 비용 리턴\"\"\"\n",
    "    if dp[now_node][status] == float('inf'):\n",
    "        if status == all_visited: # 전부 다 돈 경우\n",
    "            if adj_matrix[now_node][start]: # start로 가는 길이 있으면\n",
    "                dp[now_node][status] = adj_matrix[now_node][start]\n",
    "            else:\n",
    "                dp[now_node][status] = 10**8 # 길 없다고 표시해주는 게 나을듯\n",
    "        else:\n",
    "            candi_costs = [10**8]\n",
    "            for adj_node, adj_cost in adj_list[now_node]:\n",
    "                if adj_node != start and not visited(adj_node, status):\n",
    "                    new_status = visit(adj_node, status)\n",
    "                    new_cost = adj_cost + tsp(adj_node, new_status)\n",
    "                    candi_costs.append(new_cost)\n",
    "            dp[now_node][status] = min(candi_costs)\n",
    "    return dp[now_node][status]\n",
    "\n",
    "print(tsp())"
   ]
  },
  {
   "cell_type": "code",
   "execution_count": 76,
   "metadata": {},
   "outputs": [
    {
     "name": "stdout",
     "output_type": "stream",
     "text": [
      "35\n"
     ]
    }
   ],
   "source": [
    "# 방문상태를 표시해주는 binary 값인 status는 오른쪽부터 1번 노드로 친다.\n",
    "def visited(node, status):\n",
    "    \"\"\"방문상태가 status일 때 node의 방문여부 리턴\"\"\"\n",
    "    return (status >> node-1)%2\n",
    "\n",
    "def visit(node, status):\n",
    "    \"\"\"방문상태가 status일 때 node를 방문한 처리한 new_status 리턴\"\"\"\n",
    "    return status + (0b1<<(node-1))\n",
    "\n",
    "start = 0 # 비트마스킹 때문에 0으로 고정해야 함\n",
    "dp = [[float('inf')]*2**(N-1) for _ in range(N-1)] # 아래 tsp 함수의 정보 저장(0(start)에서 출발하는 경우는 빼도 돼서 N-1로)\n",
    "all_visited = 2**(N-1) - 1\n",
    "def tsp(now_node, status=0):\n",
    "    \"\"\"방문상태가 status일 때 now_node에서 출발해 start로 돌아오는 최소 비용 리턴\"\"\"\n",
    "    if dp[now_node-1][status] == float('inf'):\n",
    "        if status == all_visited: # 전부 다 돈 경우\n",
    "            if adj_matrix[now_node][start]: # start로 가는 길이 있으면\n",
    "                dp[now_node-1][status] = adj_matrix[now_node][start]\n",
    "            else:\n",
    "                dp[now_node-1][status] = 10**8 # 길 없다고 표시해주는 게 나을듯\n",
    "        else:\n",
    "            candi_costs = [10**8]\n",
    "            for adj_node, adj_cost in adj_list[now_node]:\n",
    "                if adj_node != start and not visited(adj_node, status):\n",
    "                    new_status = visit(adj_node, status)\n",
    "                    new_cost = adj_cost + tsp(adj_node, new_status)\n",
    "                    candi_costs.append(new_cost)\n",
    "            dp[now_node-1][status] = min(candi_costs)\n",
    "    return dp[now_node-1][status]\n",
    "\n",
    "final_costs = []\n",
    "for node in range(1, N):\n",
    "    if adj_matrix[start][node]: # start에서 node로 가는 길이 있다면\n",
    "        status = visit(node, 0)\n",
    "        final_costs.append(adj_matrix[start][node] + tsp(node, status))\n",
    "\n",
    "print(min(final_costs))"
   ]
  },
  {
   "cell_type": "code",
   "execution_count": 74,
   "metadata": {},
   "outputs": [
    {
     "name": "stdout",
     "output_type": "stream",
     "text": [
      "000 001 010 011 100 101 110 111 "
     ]
    }
   ],
   "source": [
    "for i in range(8):\n",
    "    print(bin(i)[2:].zfill(3), end=' ')"
   ]
  },
  {
   "cell_type": "code",
   "execution_count": 77,
   "metadata": {},
   "outputs": [
    {
     "data": {
      "text/plain": [
       "([[inf, 25, inf, 18, inf, 15, inf, 5],\n",
       "  [inf, inf, 25, 20, inf, inf, 18, 6],\n",
       "  [inf, inf, inf, inf, 23, 15, 13, 8]],\n",
       " [35, 40, 43])"
      ]
     },
     "execution_count": 77,
     "metadata": {},
     "output_type": "execute_result"
    }
   ],
   "source": [
    "dp, final_costs"
   ]
  },
  {
   "cell_type": "code",
   "execution_count": 52,
   "metadata": {},
   "outputs": [
    {
     "name": "stdout",
     "output_type": "stream",
     "text": [
      "35\n"
     ]
    }
   ],
   "source": [
    "# 방문상태를 표시해주는 binary 값인 status는 오른쪽부터 1번 노드로 친다.\n",
    "def visited(node, status):\n",
    "    \"\"\"방문상태가 status일 때 node의 방문여부 리턴\"\"\"\n",
    "    return (status >> node-1)%2\n",
    "\n",
    "def visit(node, status):\n",
    "    \"\"\"방문상태가 status일 때 node를 방문한 처리한 new_status 리턴\"\"\"\n",
    "    return (status + (0b1<<(node-1)))\n",
    "\n",
    "start = 0 # 비트마스킹 때문에 0으로 고정해야 함\n",
    "dp = [[float('inf')]*2**(N-1) for _ in range(N-1)] # 아래 tsp 함수의 정보 저장(0(start)에서 출발하는 경우는 빼도 돼서 N-1로)\n",
    "all_visited = 2**(N-1) - 1\n",
    "def tsp(now_node=start, status=0):\n",
    "    \"\"\"방문상태가 status일 때 now_node에서 출발해 start로 돌아오는 최소 비용 리턴\"\"\"\n",
    "    if dp[now_node-1][status] == float('inf'):\n",
    "        if status == all_visited: # 전부 다 돈 경우\n",
    "            if adj_matrix[now_node][start]: # start로 가는 길이 있으면\n",
    "                dp[now_node-1][status] = adj_matrix[now_node][start]\n",
    "        else:\n",
    "            candi_costs = []\n",
    "            for adj_node, adj_cost in adj_list[now_node]:\n",
    "                if adj_node != start and not visited(adj_node, status):\n",
    "                    new_status = visit(adj_node, status)\n",
    "                    new_cost = adj_cost + tsp(adj_node, new_status)\n",
    "                    candi_costs.append(new_cost)\n",
    "            dp[now_node-1][status] = min(candi_costs)\n",
    "    return dp[now_node-1][status]\n",
    "\n",
    "print(tsp())"
   ]
  },
  {
   "cell_type": "code",
   "execution_count": 51,
   "metadata": {},
   "outputs": [
    {
     "data": {
      "text/plain": [
       "[[inf, 25, inf, 18, inf, 15, inf, 5],\n",
       " [inf, inf, 25, 20, inf, inf, 18, 6],\n",
       " [35, inf, inf, inf, 23, 15, 13, 8]]"
      ]
     },
     "execution_count": 51,
     "metadata": {},
     "output_type": "execute_result"
    }
   ],
   "source": [
    "dp"
   ]
  },
  {
   "cell_type": "code",
   "execution_count": 70,
   "metadata": {},
   "outputs": [
    {
     "name": "stdout",
     "output_type": "stream",
     "text": [
      "35\n"
     ]
    }
   ],
   "source": [
    "min_cost = [float('inf')]\n",
    "visited = [0]*N\n",
    "start_city = 0\n",
    "visited[start_city] = 1\n",
    "def tsp(now_city=start_city, n=1, until_cost=0):\n",
    "    \"\"\"now_city : 현재 위치한 도시, n : 지금까지 방문한 도시 수, until_cost : 지금까지 든 비용\"\"\"\n",
    "    if min_cost[0] <= until_cost:\n",
    "        return\n",
    "    if n == N: # N개의 도시를 모두 방문했고 출발했던 도시로 돌아올 수 있으면\n",
    "        final_cost = until_cost + adj_matrix[now_city][start_city]\n",
    "        if until_cost < final_cost < min_cost[0]:\n",
    "            min_cost[0] = final_cost\n",
    "        return\n",
    "    for adj_city, adj_cost in adj_list[now_city]:\n",
    "        if not visited[adj_city]:\n",
    "            visited[adj_city] = 1\n",
    "            tsp(adj_city, n+1, until_cost+adj_cost)\n",
    "            visited[adj_city] = 0\n",
    "\n",
    "tsp()\n",
    "print(min_cost[0])"
   ]
  },
  {
   "cell_type": "code",
   "execution_count": 47,
   "metadata": {},
   "outputs": [
    {
     "data": {
      "text/plain": [
       "'0b1010'"
      ]
     },
     "execution_count": 47,
     "metadata": {},
     "output_type": "execute_result"
    }
   ],
   "source": [
    "bin(8 + (0b1 << (2-1)))"
   ]
  },
  {
   "cell_type": "code",
   "execution_count": 44,
   "metadata": {},
   "outputs": [
    {
     "data": {
      "text/plain": [
       "1"
      ]
     },
     "execution_count": 44,
     "metadata": {},
     "output_type": "execute_result"
    }
   ],
   "source": [
    "(8 >> 3)"
   ]
  },
  {
   "cell_type": "code",
   "execution_count": 42,
   "metadata": {},
   "outputs": [
    {
     "data": {
      "text/plain": [
       "0"
      ]
     },
     "execution_count": 42,
     "metadata": {},
     "output_type": "execute_result"
    }
   ],
   "source": [
    "visited(1, 8)"
   ]
  },
  {
   "cell_type": "code",
   "execution_count": 20,
   "metadata": {},
   "outputs": [
    {
     "data": {
      "text/plain": [
       "'0b110000'"
      ]
     },
     "execution_count": 20,
     "metadata": {},
     "output_type": "execute_result"
    }
   ],
   "source": [
    "bin(0b111001 ^ 0b1001)"
   ]
  },
  {
   "cell_type": "code",
   "execution_count": 33,
   "metadata": {},
   "outputs": [
    {
     "data": {
      "text/plain": [
       "'0b110'"
      ]
     },
     "execution_count": 33,
     "metadata": {},
     "output_type": "execute_result"
    }
   ],
   "source": [
    "st = 0b1101111\n",
    "bin(0b1101111 >> (5-1))"
   ]
  },
  {
   "cell_type": "code",
   "execution_count": 35,
   "metadata": {},
   "outputs": [
    {
     "data": {
      "text/plain": [
       "63"
      ]
     },
     "execution_count": 35,
     "metadata": {},
     "output_type": "execute_result"
    }
   ],
   "source": [
    "0b111111"
   ]
  },
  {
   "cell_type": "code",
   "execution_count": 38,
   "metadata": {},
   "outputs": [
    {
     "data": {
      "text/plain": [
       "'0b110101'"
      ]
     },
     "execution_count": 38,
     "metadata": {},
     "output_type": "execute_result"
    }
   ],
   "source": [
    "bin(0b110001 + (0b1<<(3-1)))"
   ]
  },
  {
   "cell_type": "code",
   "execution_count": 53,
   "metadata": {},
   "outputs": [
    {
     "data": {
      "text/plain": [
       "'0b1000'"
      ]
     },
     "execution_count": 53,
     "metadata": {},
     "output_type": "execute_result"
    }
   ],
   "source": [
    "bin(0b1<<3)"
   ]
  },
  {
   "cell_type": "code",
   "execution_count": 55,
   "metadata": {},
   "outputs": [
    {
     "data": {
      "text/plain": [
       "100000000"
      ]
     },
     "execution_count": 55,
     "metadata": {},
     "output_type": "execute_result"
    }
   ],
   "source": [
    "10**8"
   ]
  }
 ],
 "metadata": {
  "interpreter": {
   "hash": "8fac594bfae6525c0c41b4041d2d72effa188cc8ead05f81b1fab2bb098927fb"
  },
  "kernelspec": {
   "display_name": "Python 3.8.8 ('base')",
   "language": "python",
   "name": "python3"
  },
  "language_info": {
   "codemirror_mode": {
    "name": "ipython",
    "version": 3
   },
   "file_extension": ".py",
   "mimetype": "text/x-python",
   "name": "python",
   "nbconvert_exporter": "python",
   "pygments_lexer": "ipython3",
   "version": "3.8.8"
  },
  "orig_nbformat": 4
 },
 "nbformat": 4,
 "nbformat_minor": 2
}
