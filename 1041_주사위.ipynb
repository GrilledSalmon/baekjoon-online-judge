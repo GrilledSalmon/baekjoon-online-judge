{
 "cells": [
  {
   "cell_type": "markdown",
   "metadata": {},
   "source": [
    "# 1041 주사위\n",
    "220521\n",
    "- 소감\n",
    "    - 나름 풀긴 했는데... 이게 그리디인지...\n",
    "    - 한 개, 두 개, 세 개의 면이 보이는 경우가 각각 몇가지일지 생각합니다.\n",
    "- 소요 시간 : 26분\n",
    "- 알고리즘 분류 : 수학, 그리디 알고리즘\n",
    "- 티어 : 골드 5"
   ]
  },
  {
   "cell_type": "code",
   "execution_count": 2,
   "metadata": {},
   "outputs": [],
   "source": [
    "def solve(N, nums):\n",
    "    A, B, C, D, E, F = nums\n",
    "\n",
    "    # N이 1인 경우도 고려하기\n",
    "    case_3_cnt = 4  # 세 면이 보이는 경우\n",
    "    case_2_cnt = 4*(N-1) + 4*(N-2)  # 두 면이 보이는 경우\n",
    "    case_1_cnt = 5*N**2 - (2*case_2_cnt + 3*case_3_cnt)  # 세 면이 보이는 경우\n",
    "\n",
    "    case_2_nums = [B+D, D+E, E+C, C+B]\n",
    "    for n in (B, C, D, E):\n",
    "        case_2_nums.append(A+n)\n",
    "        case_2_nums.append(F+n)\n",
    "\n",
    "    case_3_nums = []\n",
    "    for n in [B+D, D+E, E+C, C+B]:\n",
    "        case_3_nums.append(A+n)\n",
    "        case_3_nums.append(F+n)\n",
    "\n",
    "\n",
    "    case_1_num = min(nums)\n",
    "    case_2_num = min(case_2_nums)\n",
    "    case_3_num = min(case_3_nums)\n",
    "\n",
    "    print(case_1_cnt*case_1_num + case_2_cnt*case_2_num + case_3_cnt*case_3_num)\n",
    "\n",
    "N = int(input())\n",
    "nums = tuple(map(int, input().split()))\n",
    "if N >= 2:\n",
    "    solve(N, nums)\n",
    "else:\n",
    "    print(sum(nums) - max(nums))"
   ]
  },
  {
   "cell_type": "code",
   "execution_count": 3,
   "metadata": {},
   "outputs": [
    {
     "data": {
      "text/plain": [
       "(2, (1, 2, 3, 4, 5, 6))"
      ]
     },
     "execution_count": 3,
     "metadata": {},
     "output_type": "execute_result"
    }
   ],
   "source": [
    "N, nums"
   ]
  },
  {
   "cell_type": "code",
   "execution_count": 5,
   "metadata": {},
   "outputs": [
    {
     "name": "stdout",
     "output_type": "stream",
     "text": [
      "36\n"
     ]
    }
   ],
   "source": [
    "A, B, C, D, E, F = nums\n",
    "\n",
    "# N이 1인 경우도 고려하기\n",
    "case_3_cnt = 4  # 세 면이 보이는 경우\n",
    "case_2_cnt = 4*(N-1) + 4*(N-2)  # 두 면이 보이는 경우\n",
    "case_1_cnt = 5*N**2 - (2*case_2_cnt + 3*case_3_cnt)  # 세 면이 보이는 경우\n",
    "\n",
    "case_2_nums = [B+D, D+E, E+C, C+B]\n",
    "for n in (B, C, D, E):\n",
    "    case_2_nums.append(A+n)\n",
    "    case_2_nums.append(F+n)\n",
    "\n",
    "case_3_nums = []\n",
    "for n in [B+D, D+E, E+C, C+B]:\n",
    "    case_3_nums.append(A+n)\n",
    "    case_3_nums.append(F+n)\n",
    "\n",
    "\n",
    "case_1_num = min(nums)\n",
    "case_2_num = min(case_2_nums)\n",
    "case_3_num = min(case_3_nums)\n",
    "\n",
    "print(case_1_cnt*case_1_num + case_2_cnt*case_2_num + case_3_cnt*case_3_num)"
   ]
  },
  {
   "cell_type": "code",
   "execution_count": null,
   "metadata": {},
   "outputs": [],
   "source": []
  }
 ],
 "metadata": {
  "interpreter": {
   "hash": "f08154012ddadd8e950e6e9e035c7a7b32c136e7647e9b7c77e02eb723a8bedb"
  },
  "kernelspec": {
   "display_name": "Python 3.8.8 ('base')",
   "language": "python",
   "name": "python3"
  },
  "language_info": {
   "codemirror_mode": {
    "name": "ipython",
    "version": 3
   },
   "file_extension": ".py",
   "mimetype": "text/x-python",
   "name": "python",
   "nbconvert_exporter": "python",
   "pygments_lexer": "ipython3",
   "version": "3.8.8"
  },
  "orig_nbformat": 4
 },
 "nbformat": 4,
 "nbformat_minor": 2
}
