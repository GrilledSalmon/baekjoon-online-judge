{
 "cells": [
  {
   "cell_type": "markdown",
   "metadata": {},
   "source": [
    "# 9996 한국이 그리울 땐 서버에 접속하자\n",
    "220511\n",
    "- 소감\n",
    "    - 정규표현식을 활용하면 쉽게 풀 수 있을 것 같아 정규표현식을 사용해 문제를 풀어봤습니다.\n",
    "- 소요시간 : 13분\n",
    "- 알고리즘 분류 : 문자열, 브루트포스 알고리즘, 정규 표현식\n",
    "- 티어 : 실버 3"
   ]
  },
  {
   "cell_type": "code",
   "execution_count": 23,
   "metadata": {},
   "outputs": [
    {
     "name": "stdout",
     "output_type": "stream",
     "text": [
      "DA\n",
      "DA\n",
      "NE\n"
     ]
    }
   ],
   "source": [
    "import re\n",
    "import sys\n",
    "# input = sys.stdin.readline\n",
    "\n",
    "N = int(input())\n",
    "pattern = input().rstrip()\n",
    "\n",
    "p = re.compile(pattern.replace('*', '[a-z]*'))\n",
    "for _ in range(N):\n",
    "    s = input().rstrip()\n",
    "    m = re.match(p, s)\n",
    "    if m and m.span()[1]-m.span()[0] == len(s):\n",
    "        print(\"DA\")\n",
    "    else:\n",
    "        print(\"NE\")"
   ]
  },
  {
   "cell_type": "code",
   "execution_count": 3,
   "metadata": {},
   "outputs": [
    {
     "data": {
      "text/plain": [
       "'a*d'"
      ]
     },
     "execution_count": 3,
     "metadata": {},
     "output_type": "execute_result"
    }
   ],
   "source": [
    "pattern"
   ]
  },
  {
   "cell_type": "code",
   "execution_count": 20,
   "metadata": {},
   "outputs": [
    {
     "name": "stdout",
     "output_type": "stream",
     "text": [
      "NE\n",
      "NE\n",
      "DA\n"
     ]
    }
   ],
   "source": [
    "p = re.compile(pattern.replace('*', '[a-z]*'))\n",
    "for _ in range(N):\n",
    "    s = input().rstrip()\n",
    "    m = re.match(p, s)\n",
    "    if m and m.group() == s:\n",
    "        print(\"DA\")\n",
    "    else:\n",
    "        print(\"NE\")"
   ]
  },
  {
   "cell_type": "code",
   "execution_count": 17,
   "metadata": {},
   "outputs": [
    {
     "data": {
      "text/plain": [
       "'abcd'"
      ]
     },
     "execution_count": 17,
     "metadata": {},
     "output_type": "execute_result"
    }
   ],
   "source": [
    "re.match(p, 'abcde').group()"
   ]
  },
  {
   "cell_type": "code",
   "execution_count": null,
   "metadata": {},
   "outputs": [],
   "source": []
  }
 ],
 "metadata": {
  "interpreter": {
   "hash": "f08154012ddadd8e950e6e9e035c7a7b32c136e7647e9b7c77e02eb723a8bedb"
  },
  "kernelspec": {
   "display_name": "Python 3.8.8 ('base')",
   "language": "python",
   "name": "python3"
  },
  "language_info": {
   "codemirror_mode": {
    "name": "ipython",
    "version": 3
   },
   "file_extension": ".py",
   "mimetype": "text/x-python",
   "name": "python",
   "nbconvert_exporter": "python",
   "pygments_lexer": "ipython3",
   "version": "3.8.8"
  },
  "orig_nbformat": 4
 },
 "nbformat": 4,
 "nbformat_minor": 2
}
