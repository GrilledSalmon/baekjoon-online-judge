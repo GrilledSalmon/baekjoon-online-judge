{
 "cells": [
  {
   "cell_type": "markdown",
   "metadata": {},
   "source": [
    "# 2166 다각형의 면적\n",
    "210804~220401\n",
    "- 아이디어 : 신발끈 공식을 사용한다..\n",
    "- 알고리즘 분류\n",
    "    - 기하학\n",
    "    - 다각형의 넓이\n",
    "- 티어 : 골드 5"
   ]
  },
  {
   "cell_type": "code",
   "execution_count": 16,
   "metadata": {},
   "outputs": [
    {
     "name": "stdout",
     "output_type": "stream",
     "text": [
      "100.0\n"
     ]
    }
   ],
   "source": [
    "import sys\n",
    "# input = sys.stdin.readline\n",
    "\n",
    "N = int(input())\n",
    "points = [tuple(map(int, input().split())) for _ in range(N)]\n",
    "points.append(points[0])\n",
    "\n",
    "x_prev, y_prev = points[0]\n",
    "first, second = 0, 0\n",
    "for i in range(1, N+1):\n",
    "    x_now, y_now = points[i]\n",
    "    first += x_prev * y_now\n",
    "    second += y_prev * x_now\n",
    "    x_prev, y_prev = x_now, y_now\n",
    "\n",
    "print(f'{abs(first - second) / 2:.1f}')"
   ]
  },
  {
   "cell_type": "code",
   "execution_count": 15,
   "metadata": {},
   "outputs": [
    {
     "name": "stdout",
     "output_type": "stream",
     "text": [
      "100.0\n"
     ]
    }
   ],
   "source": [
    "x_prev, y_prev = points[0]\n",
    "first, second = 0, 0\n",
    "for i in range(1, N+1):\n",
    "    x_now, y_now = points[i]\n",
    "    first += x_prev * y_now\n",
    "    second += y_prev * x_now\n",
    "    x_prev, y_prev = x_now, y_now\n",
    "\n",
    "print(f'{abs(first - second) / 2:.1f}')"
   ]
  },
  {
   "cell_type": "code",
   "execution_count": 7,
   "metadata": {},
   "outputs": [
    {
     "name": "stdout",
     "output_type": "stream",
     "text": [
      "1.12350\n"
     ]
    }
   ],
   "source": [
    "print(f'{1.123499:.5f}')"
   ]
  },
  {
   "cell_type": "code",
   "execution_count": 13,
   "metadata": {},
   "outputs": [
    {
     "data": {
      "text/plain": [
       "[(5, 5), (-5, 5), (-5, -5), (5, -5), (5, 5)]"
      ]
     },
     "execution_count": 13,
     "metadata": {},
     "output_type": "execute_result"
    }
   ],
   "source": [
    "points"
   ]
  },
  {
   "cell_type": "code",
   "execution_count": null,
   "metadata": {},
   "outputs": [],
   "source": []
  }
 ],
 "metadata": {
  "interpreter": {
   "hash": "8fac594bfae6525c0c41b4041d2d72effa188cc8ead05f81b1fab2bb098927fb"
  },
  "kernelspec": {
   "display_name": "Python 3.8.8 ('base')",
   "language": "python",
   "name": "python3"
  },
  "language_info": {
   "codemirror_mode": {
    "name": "ipython",
    "version": 3
   },
   "file_extension": ".py",
   "mimetype": "text/x-python",
   "name": "python",
   "nbconvert_exporter": "python",
   "pygments_lexer": "ipython3",
   "version": "3.8.8"
  },
  "orig_nbformat": 4
 },
 "nbformat": 4,
 "nbformat_minor": 2
}
