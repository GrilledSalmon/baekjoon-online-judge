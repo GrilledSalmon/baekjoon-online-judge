{
 "cells": [
  {
   "cell_type": "markdown",
   "metadata": {},
   "source": [
    "# 11659 구간 합 구하기 4\n",
    "211218\n",
    "- 소감 : 머리가 굳었나..? 왜 알고리즘 분류를 보고도 어떻게 풀어야 할지 생각하지 못했지..? 오늘 고민하고도 풀지 못한 알고리즘 문제가 많아서 풀이를 찾아보고야 말았는데... 왜 이 생각을 못했지,,?\n",
    "- 풀이 : 정직하게 문제를 풀면 불필요한 summation이 너무 많이 일어난다. 이를 피하기 위해 누적합 list인 acc를 정의 및 활용\n",
    "- 알고리즘 분류\n",
    "    - 누적 합\n",
    "- 티어 : 실버 3"
   ]
  },
  {
   "cell_type": "code",
   "execution_count": 20,
   "metadata": {},
   "outputs": [
    {
     "name": "stdout",
     "output_type": "stream",
     "text": [
      "12\n",
      "9\n",
      "1\n"
     ]
    }
   ],
   "source": [
    "# import sys\n",
    "# input = sys.stdin.readline\n",
    "\n",
    "N, M = map(int, input().strip().split())\n",
    "nums = list(map(int, input().strip().split()))\n",
    "\n",
    "acc = [0, nums[0]]\n",
    "for i in range(1, N):\n",
    "    acc.append(acc[i] + nums[i])\n",
    "\n",
    "for _ in range(M):\n",
    "    i, j = map(int, input().strip().split())\n",
    "    print(acc[j] - acc[i-1])\n"
   ]
  },
  {
   "cell_type": "code",
   "execution_count": 19,
   "metadata": {},
   "outputs": [
    {
     "name": "stdout",
     "output_type": "stream",
     "text": [
      "12\n",
      "9\n",
      "1\n"
     ]
    }
   ],
   "source": [
    "for _ in range(M):\n",
    "    i, j = map(int, input().strip().split())\n",
    "    print(acc[j] - acc[i-1])"
   ]
  },
  {
   "cell_type": "code",
   "execution_count": 18,
   "metadata": {},
   "outputs": [
    {
     "data": {
      "text/plain": [
       "[0, 5, 9, 12, 14, 15]"
      ]
     },
     "execution_count": 18,
     "metadata": {},
     "output_type": "execute_result"
    }
   ],
   "source": [
    "acc"
   ]
  }
 ],
 "metadata": {
  "interpreter": {
   "hash": "c798a043d5b26db4ea8dc684fe25ec244835432adc5539bce2de618403b1d63c"
  },
  "kernelspec": {
   "display_name": "Python 3.8.5 64-bit ('base': conda)",
   "language": "python",
   "name": "python3"
  },
  "language_info": {
   "codemirror_mode": {
    "name": "ipython",
    "version": 3
   },
   "file_extension": ".py",
   "mimetype": "text/x-python",
   "name": "python",
   "nbconvert_exporter": "python",
   "pygments_lexer": "ipython3",
   "version": "3.8.5"
  },
  "orig_nbformat": 4
 },
 "nbformat": 4,
 "nbformat_minor": 2
}
