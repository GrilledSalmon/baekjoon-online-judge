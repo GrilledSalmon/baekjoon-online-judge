{
 "cells": [
  {
   "cell_type": "markdown",
   "metadata": {},
   "source": [
    "# 1021 회전하는 큐\n",
    "220820\n",
    "- 소감\n",
    "    - 숫자 범위가 좁아서 큐 활용해서 잘 구현만 하면 됨.\n",
    "- 소요 시간 : 20분\n",
    "- 알고리즘 분류 : 자료 구조, 덱\n",
    "- 티어 : 실버 4"
   ]
  },
  {
   "cell_type": "code",
   "execution_count": 2,
   "metadata": {},
   "outputs": [],
   "source": [
    "from collections import deque\n",
    "N, M = map(int, input().split())\n",
    "nums = tuple(map(int, input().split()))\n",
    "\n",
    "queue = deque(range(1, N+1))\n",
    "def find_n(n):\n",
    "    for i, q in enumerate(queue):\n",
    "        if q == n:\n",
    "            return i\n",
    "\n",
    "ans = 0\n",
    "for n in nums:\n",
    "    idx = find_n(n)\n",
    "    direction = -1 if idx <= len(queue)//2 else 1\n",
    "    while queue[0] != n:\n",
    "        queue.rotate(direction)\n",
    "        ans += 1\n",
    "    queue.popleft()\n",
    "\n",
    "print(ans)"
   ]
  },
  {
   "cell_type": "code",
   "execution_count": 5,
   "metadata": {},
   "outputs": [
    {
     "data": {
      "text/plain": [
       "(10, 3, (1, 2, 3))"
      ]
     },
     "execution_count": 5,
     "metadata": {},
     "output_type": "execute_result"
    }
   ],
   "source": [
    "N, M, nums"
   ]
  },
  {
   "cell_type": "code",
   "execution_count": 9,
   "metadata": {},
   "outputs": [
    {
     "name": "stdout",
     "output_type": "stream",
     "text": [
      "0\n"
     ]
    }
   ],
   "source": [
    "queue = deque(range(1, N+1))\n",
    "def find_n(n):\n",
    "    for i, q in enumerate(queue):\n",
    "        if q == n:\n",
    "            return i\n",
    "\n",
    "ans = 0\n",
    "for n in nums:\n",
    "    idx = find_n(n)\n",
    "    direction = -1 if idx <= len(queue)//2 else 1\n",
    "    while queue[0] != n:\n",
    "        queue.rotate(direction)\n",
    "        ans += 1\n",
    "    queue.popleft()\n",
    "\n",
    "print(ans)"
   ]
  },
  {
   "cell_type": "code",
   "execution_count": 10,
   "metadata": {},
   "outputs": [
    {
     "data": {
      "text/plain": [
       "deque([4, 5, 6, 7, 8, 9, 10])"
      ]
     },
     "execution_count": 10,
     "metadata": {},
     "output_type": "execute_result"
    }
   ],
   "source": [
    "queue"
   ]
  },
  {
   "cell_type": "code",
   "execution_count": null,
   "metadata": {},
   "outputs": [],
   "source": []
  }
 ],
 "metadata": {
  "kernelspec": {
   "display_name": "Python 3.8.8 ('base')",
   "language": "python",
   "name": "python3"
  },
  "language_info": {
   "codemirror_mode": {
    "name": "ipython",
    "version": 3
   },
   "file_extension": ".py",
   "mimetype": "text/x-python",
   "name": "python",
   "nbconvert_exporter": "python",
   "pygments_lexer": "ipython3",
   "version": "3.8.8"
  },
  "orig_nbformat": 4,
  "vscode": {
   "interpreter": {
    "hash": "f08154012ddadd8e950e6e9e035c7a7b32c136e7647e9b7c77e02eb723a8bedb"
   }
  }
 },
 "nbformat": 4,
 "nbformat_minor": 2
}
