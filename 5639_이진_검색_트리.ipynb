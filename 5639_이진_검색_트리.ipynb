{
 "cells": [
  {
   "cell_type": "markdown",
   "metadata": {},
   "source": [
    "# 5639 이진 검색 트리\n",
    "220126\n",
    "- 소감 : 흠.. 신기한 방법으로 풀긴 했는데 잘 푼 건지 모르겠다. 시간 보면 느리진 않은 것 같은데, 최고는 아님. 다른 사람들 풀이 봤는데 잘 모르겠다. 내 풀이도 다른 사람이 보면 모를듯. preorder 결과를 가지고 BST를 구축하는 부분을 꽤 창의적으로 해결한 것 같다. stack을 활용했음. 방법은 그냥 preorder 어떻게 출력되는지 BST 그려놓고 계속 생각하다보니까 떠올랐음. 푸는데는 좀 걸린 것 같다.\n",
    "- 알고리즘 분류\n",
    "    - 그래프 이론\n",
    "    - 그래프 탐색\n",
    "    - 트리\n",
    "    - 재귀\n",
    "- 티어 : 실버 1"
   ]
  },
  {
   "cell_type": "code",
   "execution_count": 39,
   "metadata": {},
   "outputs": [
    {
     "name": "stdout",
     "output_type": "stream",
     "text": [
      "5\n",
      "28\n",
      "24\n",
      "45\n",
      "30\n",
      "60\n",
      "52\n",
      "98\n",
      "50\n"
     ]
    }
   ],
   "source": [
    "import sys\n",
    "sys.setrecursionlimit(100000)\n",
    "# input = sys.stdin.readline\n",
    "\n",
    "pre_order = []\n",
    "while True:\n",
    "    try:\n",
    "        pre_order.append(int(input()))\n",
    "    except:\n",
    "        break\n",
    "\n",
    "root = pre_order[0]\n",
    "bst_dic = {n:[None, None] for n in pre_order} # 트리로 사용할 노드 생성\n",
    "\n",
    "stack = []\n",
    "stack.append(root)\n",
    "\n",
    "# bst 관계 설정\n",
    "for i in range(1, len(pre_order)):\n",
    "    top = stack[-1]\n",
    "    now_number = pre_order[i]\n",
    "    if top > now_number: # 스택의 맨 위 값보다 현재 값이 작으면\n",
    "        stack.append(now_number)\n",
    "        bst_dic[top][0] = now_number # 스택 맨 위 값(노드)의 left child로 지정\n",
    "    else: # 스택 맨 위의 값보다 현재 값이 크면\n",
    "        while True:\n",
    "            new_top = stack.pop()\n",
    "            if stack: # 스택에 뭔가 있으면\n",
    "                if stack[-1] > now_number:\n",
    "                    bst_dic[new_top][1] = now_number\n",
    "                    stack.append(now_number)\n",
    "                    break\n",
    "            else: # 스택에 아무것도 안 남아 있으면\n",
    "                bst_dic[new_top][1] = now_number\n",
    "                stack.append(now_number)\n",
    "                break\n",
    "\n",
    "def post_order(bst_dic, root):\n",
    "    if root:\n",
    "        post_order(bst_dic, bst_dic[root][0])\n",
    "        post_order(bst_dic, bst_dic[root][1])\n",
    "        print(root)\n",
    "\n",
    "post_order(bst_dic, root)\n",
    "        "
   ]
  },
  {
   "cell_type": "code",
   "execution_count": 29,
   "metadata": {},
   "outputs": [
    {
     "data": {
      "text/plain": [
       "[50, 30, 24, 5, 28, 45, 35, 47, 98, 52, 60]"
      ]
     },
     "execution_count": 29,
     "metadata": {},
     "output_type": "execute_result"
    }
   ],
   "source": [
    "pre_order"
   ]
  },
  {
   "cell_type": "code",
   "execution_count": 38,
   "metadata": {},
   "outputs": [
    {
     "name": "stdout",
     "output_type": "stream",
     "text": [
      "5\n",
      "28\n",
      "24\n",
      "35\n",
      "47\n",
      "45\n",
      "30\n",
      "60\n",
      "52\n",
      "98\n",
      "50\n"
     ]
    }
   ],
   "source": [
    "root = pre_order[0]\n",
    "bst_dic = {n:[None, None] for n in pre_order} # 트리로 사용할 노드 객체 생성\n",
    "\n",
    "stack = []\n",
    "stack.append(root)\n",
    "\n",
    "# bst 관계 설정\n",
    "for i in range(1, len(pre_order)):\n",
    "    top = stack[-1]\n",
    "    now_number = pre_order[i]\n",
    "    if top > now_number: # 스택의 맨 위 값보다 현재 값이 작으면\n",
    "        stack.append(now_number)\n",
    "        bst_dic[top][0] = now_number # 스택 맨 위 값(노드)의 left child로 지정\n",
    "    else: # 스택 맨 위의 값보다 현재 값이 크면\n",
    "        while True:\n",
    "            new_top = stack.pop()\n",
    "            if stack: # 스택에 뭔가 있으면\n",
    "                if stack[-1] > now_number:\n",
    "                    bst_dic[new_top][1] = now_number\n",
    "                    stack.append(now_number)\n",
    "                    break\n",
    "            else: # 스택에 아무것도 안 남아 있으면\n",
    "                bst_dic[new_top][1] = now_number\n",
    "                stack.append(now_number)\n",
    "                break\n",
    "\n",
    "def post_order(bst_dic, root):\n",
    "    if root:\n",
    "        post_order(bst_dic, bst_dic[root][0])\n",
    "        post_order(bst_dic, bst_dic[root][1])\n",
    "        print(root)\n",
    "\n",
    "post_order(bst_dic, root)\n",
    "        "
   ]
  },
  {
   "cell_type": "code",
   "execution_count": 34,
   "metadata": {},
   "outputs": [
    {
     "data": {
      "text/plain": [
       "(52, 60)"
      ]
     },
     "execution_count": 34,
     "metadata": {},
     "output_type": "execute_result"
    }
   ],
   "source": [
    "new_top, now_number"
   ]
  },
  {
   "cell_type": "code",
   "execution_count": 35,
   "metadata": {},
   "outputs": [
    {
     "data": {
      "text/plain": [
       "{50: [30, 98],\n",
       " 30: [24, 45],\n",
       " 24: [5, 28],\n",
       " 5: [None, None],\n",
       " 28: [None, None],\n",
       " 45: [35, 47],\n",
       " 35: [None, None],\n",
       " 47: [None, None],\n",
       " 98: [52, None],\n",
       " 52: [None, 60],\n",
       " 60: [None, None]}"
      ]
     },
     "execution_count": 35,
     "metadata": {},
     "output_type": "execute_result"
    }
   ],
   "source": [
    "bst_dic"
   ]
  },
  {
   "cell_type": "code",
   "execution_count": 22,
   "metadata": {},
   "outputs": [
    {
     "data": {
      "text/plain": [
       "[]"
      ]
     },
     "execution_count": 22,
     "metadata": {},
     "output_type": "execute_result"
    }
   ],
   "source": [
    "stack"
   ]
  },
  {
   "cell_type": "code",
   "execution_count": null,
   "metadata": {},
   "outputs": [],
   "source": []
  },
  {
   "cell_type": "code",
   "execution_count": null,
   "metadata": {},
   "outputs": [],
   "source": []
  },
  {
   "cell_type": "code",
   "execution_count": null,
   "metadata": {},
   "outputs": [],
   "source": [
    "class Node:\n",
    "    def __init__(self, value) -> None:\n",
    "        self.value = value\n",
    "        self.left = None\n",
    "        self.right = None\n",
    "\n",
    "class bst:\n",
    "    def __init__(self, root) -> None:\n",
    "        self.root = root"
   ]
  }
 ],
 "metadata": {
  "interpreter": {
   "hash": "c798a043d5b26db4ea8dc684fe25ec244835432adc5539bce2de618403b1d63c"
  },
  "kernelspec": {
   "display_name": "Python 3.8.5 64-bit ('base': conda)",
   "language": "python",
   "name": "python3"
  },
  "language_info": {
   "codemirror_mode": {
    "name": "ipython",
    "version": 3
   },
   "file_extension": ".py",
   "mimetype": "text/x-python",
   "name": "python",
   "nbconvert_exporter": "python",
   "pygments_lexer": "ipython3",
   "version": "3.8.5"
  },
  "orig_nbformat": 4
 },
 "nbformat": 4,
 "nbformat_minor": 2
}
