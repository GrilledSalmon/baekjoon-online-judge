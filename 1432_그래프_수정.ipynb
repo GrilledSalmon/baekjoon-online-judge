{
 "cells": [
  {
   "cell_type": "markdown",
   "metadata": {},
   "source": [
    "# 1432 그래프 수정\n",
    "220420"
   ]
  },
  {
   "cell_type": "code",
   "execution_count": 8,
   "metadata": {},
   "outputs": [],
   "source": [
    "# 1432 그래프 수정\n",
    "import sys\n",
    "# input = sys.stdin.readline\n",
    "N = int(input())\n",
    "adj_list = [[] for _ in range(N+1)]\n",
    "in_degree = [0]*(N+1)\n",
    "out_degree = [0]*(N+1)\n",
    "for row in range(N):\n",
    "    inp = input().rstrip()\n",
    "    for col in range(N):\n",
    "        if inp[col] == '1':\n",
    "            adj_list[row+1].append(col+1)\n",
    "            in_degree[col+1] += 1\n",
    "            out_degree[row+1] += 1"
   ]
  },
  {
   "cell_type": "code",
   "execution_count": 10,
   "metadata": {},
   "outputs": [
    {
     "data": {
      "text/plain": [
       "([0, 0, 0, 1, 1, 2], [0, 1, 1, 0, 1, 1])"
      ]
     },
     "execution_count": 10,
     "metadata": {},
     "output_type": "execute_result"
    }
   ],
   "source": [
    "# memo_in_degree = in_degree.copy()\n",
    "in_degree = memo_in_degree.copy()\n",
    "# memo_out_degree = out_degree.copy()\n",
    "out_degree = memo_out_degree.copy()\n",
    "in_degree, out_degree"
   ]
  },
  {
   "cell_type": "code",
   "execution_count": 2,
   "metadata": {},
   "outputs": [
    {
     "name": "stdout",
     "output_type": "stream",
     "text": [
      "1 2 5 3 4\n"
     ]
    }
   ],
   "source": [
    "from collections import deque\n",
    "out_queue = deque()\n",
    "for node in range(1, N+1):\n",
    "    if out_degree[node] == 0:\n",
    "        out_queue.append(node)\n",
    "\n",
    "order_list = [None] * (N+1)\n",
    "while out_queue:"
   ]
  },
  {
   "cell_type": "code",
   "execution_count": null,
   "metadata": {},
   "outputs": [],
   "source": []
  },
  {
   "cell_type": "code",
   "execution_count": null,
   "metadata": {},
   "outputs": [],
   "source": []
  },
  {
   "cell_type": "code",
   "execution_count": null,
   "metadata": {},
   "outputs": [],
   "source": [
    "# 1432 그래프 수정\n",
    "import sys\n",
    "# input = sys.stdin.readline\n",
    "N = int(input())\n",
    "adj_list = [[] for _ in range(N+1)]\n",
    "in_edges = [0]*(N+1)\n",
    "for row in range(N):\n",
    "    inp = input().rstrip()\n",
    "    for col in range(N):\n",
    "        if inp[col] == '1':\n",
    "            adj_list[row+1].append(col+1)\n",
    "            in_edges[col+1] += 1\n",
    "\n",
    "queue = []\n",
    "for node in range(1, N+1):\n",
    "    if in_edges[node] == 0:\n",
    "        queue.append(node)\n",
    "\n",
    "res = []\n",
    "def topology_sort(queue):\n",
    "    \"\"\"위상정렬 시도. 성공하면 True, 실패하면(사이클 존재) False 리턴\"\"\"\n",
    "    while queue:\n",
    "        temp_queue = []\n",
    "        for now_node in queue:\n",
    "            for adj_node in adj_list[now_node]:\n",
    "                in_edges[adj_node] -= 1\n",
    "                if in_edges[adj_node] == 0:\n",
    "                    temp_queue.append(adj_node)\n",
    "                    in_edges[adj_node] = -1 # 사이클 검증용 표시\n",
    "                elif in_edges[adj_node] == -1:\n",
    "                    return False\n",
    "            res.append(now_node)\n",
    "        temp_queue.sort()\n",
    "        queue = temp_queue\n",
    "    if len(res) == N:\n",
    "        return True\n",
    "    return False\n",
    "\n",
    "if topology_sort(queue):\n",
    "    MN = [0]*(N)\n",
    "    for i, r in enumerate(res):\n",
    "        MN[r-1] = i+1\n",
    "    print(' '.join(map(str, MN)))\n",
    "else:\n",
    "    print(-1)"
   ]
  },
  {
   "cell_type": "code",
   "execution_count": null,
   "metadata": {},
   "outputs": [],
   "source": []
  },
  {
   "cell_type": "code",
   "execution_count": 26,
   "metadata": {},
   "outputs": [],
   "source": [
    "# 블로그 풀이\n",
    "from heapq import heappush, heappop\n",
    "import sys\n",
    "# input = sys.stdin.readline\n",
    "\n",
    "n = int(input())\n",
    "adj_list = [[] for _ in range((n+1))]\n",
    "in_degree = [0] * (n+1)\n",
    "\n",
    "for row in range(1, n+1):\n",
    "    inp = input()\n",
    "    for col in range(1, n+1):\n",
    "        if inp[col-1] == '1':\n",
    "            adj_list[col].append(row)\n",
    "            in_degree[row] += 1"
   ]
  },
  {
   "cell_type": "code",
   "execution_count": 31,
   "metadata": {},
   "outputs": [
    {
     "data": {
      "text/plain": [
       "([[], [], [], [5], [2], [1, 4]], [0, 1, 1, 0, 1, 1])"
      ]
     },
     "execution_count": 31,
     "metadata": {},
     "output_type": "execute_result"
    }
   ],
   "source": [
    "# memo_in_degree = in_degree.copy()\n",
    "in_degree = memo_in_degree.copy()\n",
    "adj_list, in_degree\n"
   ]
  },
  {
   "cell_type": "code",
   "execution_count": 32,
   "metadata": {},
   "outputs": [
    {
     "name": "stdout",
     "output_type": "stream",
     "text": [
      "1 2 5 3 4\n"
     ]
    }
   ],
   "source": [
    "ans = [0]*(n+1)\n",
    "\n",
    "def topology_sort():\n",
    "    queue = []\n",
    "    for node in range(n, 0, -1):\n",
    "        if in_degree[node] == 0:\n",
    "            queue.append(-node)\n",
    "\n",
    "    N = n\n",
    "    while queue:\n",
    "        now = -heappop(queue)\n",
    "        ans[now] = N\n",
    "        \n",
    "        for adj_node in adj_list[now]:\n",
    "            in_degree[adj_node] -= 1\n",
    "            if in_degree[adj_node] == 0:\n",
    "                heappush(queue, -adj_node)\n",
    "        N -= 1\n",
    "\n",
    "topology_sort()\n",
    "if ans.count(0) > 1:\n",
    "    print(-1)\n",
    "else:\n",
    "    print(*ans[1:])"
   ]
  },
  {
   "cell_type": "code",
   "execution_count": 33,
   "metadata": {},
   "outputs": [
    {
     "data": {
      "text/plain": [
       "[0, 1, 2, 5, 3, 4]"
      ]
     },
     "execution_count": 33,
     "metadata": {},
     "output_type": "execute_result"
    }
   ],
   "source": [
    "ans"
   ]
  },
  {
   "cell_type": "code",
   "execution_count": null,
   "metadata": {},
   "outputs": [],
   "source": []
  }
 ],
 "metadata": {
  "interpreter": {
   "hash": "8fac594bfae6525c0c41b4041d2d72effa188cc8ead05f81b1fab2bb098927fb"
  },
  "kernelspec": {
   "display_name": "Python 3.8.8 ('base')",
   "language": "python",
   "name": "python3"
  },
  "language_info": {
   "codemirror_mode": {
    "name": "ipython",
    "version": 3
   },
   "file_extension": ".py",
   "mimetype": "text/x-python",
   "name": "python",
   "nbconvert_exporter": "python",
   "pygments_lexer": "ipython3",
   "version": "3.8.8"
  },
  "orig_nbformat": 4
 },
 "nbformat": 4,
 "nbformat_minor": 2
}
