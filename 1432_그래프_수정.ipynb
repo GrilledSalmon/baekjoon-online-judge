{
 "cells": [
  {
   "cell_type": "markdown",
   "metadata": {},
   "source": [
    "# 1432 그래프 수정\n",
    "220420\n",
    "- 소감 : 꽤 어렵다... 아이디어가 감이 잡히지 않아서 검색해서 풀이를 많이 참고했는데, 코드가 상당히 간단하지만 정말 어떻게 이런 방법을 생각했는지 모르겠다. 계속 알고리즘 문제를 풀면서 느끼는 거지만 알고리즘은 정말 귀납적 사고가 중요한 것 같다.\n",
    "- 아이디어 : 그래프의 adj_list를 거꾸로 만들고 in_degree가 아닌 out_degree를 만들어서 거꾸로 위상정렬을 시도하는데, 할 때 큐에 들어 있는 것들 중 가장 노드가 큰 애들을 먼저 꺼내 뒤쪽 노드를 배정해준다. 놀랍게도 out_degree가 0이어서 큐에 들어온 애들은 어떻게 정렬되어도 상관 없는 관계를 가진 애들이다. 관련된 내용은 코드의 코멘트에 조금 달아놓았다.\n",
    "- 알고리즘 분류\n",
    "    - 그래프 이론\n",
    "    - 자료 구조\n",
    "    - 우선순위 큐\n",
    "    - 위상 정렬\n",
    "- 티어 : 플레티넘 4"
   ]
  },
  {
   "cell_type": "code",
   "execution_count": 8,
   "metadata": {},
   "outputs": [],
   "source": [
    "# 1432 그래프 수정\n",
    "from heapq import heappush, heappop\n",
    "import sys\n",
    "# input = sys.stdin.readline\n",
    "\n",
    "n = int(input())\n",
    "adj_list = [[] for _ in range((n+1))]\n",
    "out_degree = [0] * (n+1)\n",
    "\n",
    "for row in range(1, n+1):\n",
    "    inp = input()\n",
    "    for col in range(1, n+1):\n",
    "        if inp[col-1] == '1':\n",
    "            adj_list[col].append(row)\n",
    "            out_degree[row] += 1\n",
    "\n",
    "new_array = [0]*(n+1)\n",
    "\n",
    "def topology_sort():\n",
    "    queue = []\n",
    "    for node in range(n, 0, -1):\n",
    "        if out_degree[node] == 0:\n",
    "            queue.append(-node) # out_degree가 0인(나가는 애만 있는) node를 node가 큰 게 먼저 들어오도록(후순위 배치)\n",
    "\n",
    "    if not queue:\n",
    "        print(-1)\n",
    "        return\n",
    "\n",
    "    new_num = n\n",
    "    while queue:\n",
    "        now_node = -heappop(queue) # queue에 들어 있는 애들 중에 node번호가 큰 애가 뒤로 가도록 -> queue에 들어 있는 애들끼리는 어떤 번호가 배정되든 상관 없다는 의미?! 근데 왜지...?\n",
    "        # 큐에 들어온 애들의 의미 : 나보다 뒤에 있는 애들은 없다. 즉. 이제 내가 나와도 되는 상태다!! 그러니까, 큐에 들어 있는 애들은 언제든 나와도 되는 자유로운 애들만 들어오는 것이다.\n",
    "        # 만약, a라는 노드의 뒤에 있는 b노드가 아직 queue에서 나오지 않았다면, a는 queue에 들어갈 자격이 없다.\n",
    "        new_array[now_node] = new_num\n",
    "        \n",
    "        for adj_node in adj_list[now_node]:\n",
    "            out_degree[adj_node] -= 1\n",
    "            if out_degree[adj_node] == 0:\n",
    "                heappush(queue, -adj_node)\n",
    "            if out_degree[adj_node] == -1:\n",
    "                print(-1)\n",
    "                return\n",
    "        new_num -= 1\n",
    "    print(*new_array[1:])\n",
    "    return\n",
    "\n",
    "topology_sort()"
   ]
  },
  {
   "cell_type": "code",
   "execution_count": 10,
   "metadata": {},
   "outputs": [
    {
     "data": {
      "text/plain": [
       "([0, 0, 0, 1, 1, 2], [0, 1, 1, 0, 1, 1])"
      ]
     },
     "execution_count": 10,
     "metadata": {},
     "output_type": "execute_result"
    }
   ],
   "source": [
    "# memo_in_degree = in_degree.copy()\n",
    "in_degree = memo_in_degree.copy()\n",
    "# memo_out_degree = out_degree.copy()\n",
    "out_degree = memo_out_degree.copy()\n",
    "in_degree, out_degree"
   ]
  },
  {
   "cell_type": "code",
   "execution_count": 2,
   "metadata": {},
   "outputs": [
    {
     "name": "stdout",
     "output_type": "stream",
     "text": [
      "1 2 5 3 4\n"
     ]
    }
   ],
   "source": [
    "from collections import deque\n",
    "out_queue = deque()\n",
    "for node in range(1, N+1):\n",
    "    if out_degree[node] == 0:\n",
    "        out_queue.append(node)\n",
    "\n",
    "order_list = [None] * (N+1)\n",
    "while out_queue:"
   ]
  },
  {
   "cell_type": "code",
   "execution_count": null,
   "metadata": {},
   "outputs": [],
   "source": []
  },
  {
   "cell_type": "code",
   "execution_count": null,
   "metadata": {},
   "outputs": [],
   "source": []
  },
  {
   "cell_type": "code",
   "execution_count": null,
   "metadata": {},
   "outputs": [],
   "source": [
    "# 1432 그래프 수정\n",
    "import sys\n",
    "# input = sys.stdin.readline\n",
    "N = int(input())\n",
    "adj_list = [[] for _ in range(N+1)]\n",
    "in_edges = [0]*(N+1)\n",
    "for row in range(N):\n",
    "    inp = input().rstrip()\n",
    "    for col in range(N):\n",
    "        if inp[col] == '1':\n",
    "            adj_list[row+1].append(col+1)\n",
    "            in_edges[col+1] += 1\n",
    "\n",
    "queue = []\n",
    "for node in range(1, N+1):\n",
    "    if in_edges[node] == 0:\n",
    "        queue.append(node)\n",
    "\n",
    "res = []\n",
    "def topology_sort(queue):\n",
    "    \"\"\"위상정렬 시도. 성공하면 True, 실패하면(사이클 존재) False 리턴\"\"\"\n",
    "    while queue:\n",
    "        temp_queue = []\n",
    "        for now_node in queue:\n",
    "            for adj_node in adj_list[now_node]:\n",
    "                in_edges[adj_node] -= 1\n",
    "                if in_edges[adj_node] == 0:\n",
    "                    temp_queue.append(adj_node)\n",
    "                    in_edges[adj_node] = -1 # 사이클 검증용 표시\n",
    "                elif in_edges[adj_node] == -1:\n",
    "                    return False\n",
    "            res.append(now_node)\n",
    "        temp_queue.sort()\n",
    "        queue = temp_queue\n",
    "    if len(res) == N:\n",
    "        return True\n",
    "    return False\n",
    "\n",
    "if topology_sort(queue):\n",
    "    MN = [0]*(N)\n",
    "    for i, r in enumerate(res):\n",
    "        MN[r-1] = i+1\n",
    "    print(' '.join(map(str, MN)))\n",
    "else:\n",
    "    print(-1)"
   ]
  },
  {
   "cell_type": "code",
   "execution_count": null,
   "metadata": {},
   "outputs": [],
   "source": []
  },
  {
   "cell_type": "code",
   "execution_count": 1,
   "metadata": {},
   "outputs": [],
   "source": [
    "# 블로그 풀이\n",
    "from heapq import heappush, heappop\n",
    "import sys\n",
    "# input = sys.stdin.readline\n",
    "\n",
    "n = int(input())\n",
    "adj_list = [[] for _ in range((n+1))]\n",
    "out_degree = [0] * (n+1)\n",
    "\n",
    "for row in range(1, n+1):\n",
    "    inp = input()\n",
    "    for col in range(1, n+1):\n",
    "        if inp[col-1] == '1':\n",
    "            adj_list[col].append(row)\n",
    "            out_degree[row] += 1"
   ]
  },
  {
   "cell_type": "code",
   "execution_count": 7,
   "metadata": {},
   "outputs": [
    {
     "data": {
      "text/plain": [
       "([[], [], [], [5], [2], [1, 4]], [0, 1, 1, 0, 1, 1])"
      ]
     },
     "execution_count": 7,
     "metadata": {},
     "output_type": "execute_result"
    }
   ],
   "source": [
    "# memo_in_degree = out_degree.copy()\n",
    "out_degree = memo_in_degree.copy()\n",
    "adj_list, out_degree\n"
   ]
  },
  {
   "cell_type": "code",
   "execution_count": 8,
   "metadata": {},
   "outputs": [
    {
     "name": "stdout",
     "output_type": "stream",
     "text": [
      "1 2 5 3 4\n"
     ]
    }
   ],
   "source": [
    "new_array = [0]*(n+1)\n",
    "\n",
    "def topology_sort():\n",
    "    queue = []\n",
    "    for node in range(n, 0, -1):\n",
    "        if out_degree[node] == 0:\n",
    "            queue.append(-node) # out_degree가 0인(나가는 애만 있는) node를 node가 큰 게 먼저 들어오도록(후순위 배치)\n",
    "\n",
    "    new_num = n\n",
    "    while queue:\n",
    "        now_node = -heappop(queue) # queue에 들어 있는 애들 중에 node번호가 큰 애가 뒤로 가도록 -> queue에 들어 있는 애들끼리는 어떤 번호가 배정되든 상관 없다는 의미?! 근데 왜지...?\n",
    "        # 큐에 들어온 애들의 의미 : 나보다 뒤에 있는 애들은 없다. 즉. 이제 내가 나와도 되는 상태다!! 그러니까, 큐에 들어 있는 애들은 언제든 나와도 되는 자유로운 애들만 들어오는 것이다.\n",
    "        # 만약, a라는 노드의 뒤에 있는 b노드가 아직 queue에서 나오지 않았다면, a는 queue에 들어갈 자격이 없다.\n",
    "        new_array[now_node] = new_num\n",
    "        \n",
    "        for adj_node in adj_list[now_node]:\n",
    "            out_degree[adj_node] -= 1\n",
    "            if out_degree[adj_node] == 0:\n",
    "                heappush(queue, -adj_node)\n",
    "            if out_degree[adj_node] == -1:\n",
    "                print(-1)\n",
    "                return\n",
    "        new_num -= 1\n",
    "    print(*new_array[1:])\n",
    "    return\n",
    "\n",
    "topology_sort()"
   ]
  },
  {
   "cell_type": "code",
   "execution_count": 5,
   "metadata": {},
   "outputs": [
    {
     "data": {
      "text/plain": [
       "[0, 1, 2, 5, 3, 4]"
      ]
     },
     "execution_count": 5,
     "metadata": {},
     "output_type": "execute_result"
    }
   ],
   "source": [
    "new_array"
   ]
  },
  {
   "cell_type": "code",
   "execution_count": null,
   "metadata": {},
   "outputs": [],
   "source": []
  }
 ],
 "metadata": {
  "interpreter": {
   "hash": "8fac594bfae6525c0c41b4041d2d72effa188cc8ead05f81b1fab2bb098927fb"
  },
  "kernelspec": {
   "display_name": "Python 3.8.8 ('base')",
   "language": "python",
   "name": "python3"
  },
  "language_info": {
   "codemirror_mode": {
    "name": "ipython",
    "version": 3
   },
   "file_extension": ".py",
   "mimetype": "text/x-python",
   "name": "python",
   "nbconvert_exporter": "python",
   "pygments_lexer": "ipython3",
   "version": "3.8.8"
  },
  "orig_nbformat": 4
 },
 "nbformat": 4,
 "nbformat_minor": 2
}
