{
 "cells": [
  {
   "cell_type": "markdown",
   "metadata": {},
   "source": [
    "# 2010 플러그\n",
    "220205\n",
    "- 오늘 카이스트SW사관학교 정글 1차시험을 봤다. 다 풀긴 했는데, 시험 시간이 길어서 시간이 많이 남았다. 대충 다 풀기는 시험시간 4시간을 남기고 다 풀고, 몇몇 오류를 고쳐서 다시 만들고 검토를 엄청 하고도 한 시간 일찍 끝났다. 시험이 변별력이 있는지 잘 모르겠다. 결과는 내일 나온다는데 함 기다려 봐야지.\n",
    "- 알고리즘 분류\n",
    "    - 수학\n",
    "    - 구현\n",
    "    - 사칙연산\n",
    "- 티어 : 브론즈 3"
   ]
  },
  {
   "cell_type": "code",
   "execution_count": 2,
   "metadata": {},
   "outputs": [
    {
     "name": "stdout",
     "output_type": "stream",
     "text": [
      "12\n"
     ]
    }
   ],
   "source": [
    "import sys\n",
    "# input = sys.stdin.readline\n",
    "\n",
    "N = int(input())\n",
    "print(sum([int(input()) for _ in range(N)]) + 1 - N)"
   ]
  }
 ],
 "metadata": {
  "interpreter": {
   "hash": "c798a043d5b26db4ea8dc684fe25ec244835432adc5539bce2de618403b1d63c"
  },
  "kernelspec": {
   "display_name": "Python 3.8.5 ('base')",
   "language": "python",
   "name": "python3"
  },
  "language_info": {
   "codemirror_mode": {
    "name": "ipython",
    "version": 3
   },
   "file_extension": ".py",
   "mimetype": "text/x-python",
   "name": "python",
   "nbconvert_exporter": "python",
   "pygments_lexer": "ipython3",
   "version": "3.8.5"
  },
  "orig_nbformat": 4
 },
 "nbformat": 4,
 "nbformat_minor": 2
}
