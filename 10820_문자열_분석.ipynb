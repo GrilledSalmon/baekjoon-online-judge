{
 "cells": [
  {
   "cell_type": "markdown",
   "metadata": {},
   "source": [
    "# 10820 문자열 분석\n",
    "220925\n",
    "- 소감\n",
    "    - 오랜만에 EOF 감지해야 하는 문제\n",
    "- 소요 시간 : 10분\n",
    "- 알고리즘 분류 : 구현, 문자열\n",
    "- 티어 : 브론즈 2"
   ]
  },
  {
   "cell_type": "code",
   "execution_count": null,
   "metadata": {},
   "outputs": [],
   "source": [
    "import sys\n",
    "# input = sys.stdin.readline\n",
    "\n",
    "while True:\n",
    "    inp = input().rstrip('\\n')\n",
    "    if not inp:\n",
    "        break\n",
    "    res = [0]*4\n",
    "    for s in inp:\n",
    "        if s.islower():\n",
    "            res[0] += 1\n",
    "        elif s.isupper():\n",
    "            res[1] += 1\n",
    "        elif s.isnumeric():\n",
    "            res[2] += 1\n",
    "        else:\n",
    "            res[3] += 1\n",
    "    print(' '.join(map(str, res)))"
   ]
  },
  {
   "cell_type": "code",
   "execution_count": 1,
   "metadata": {},
   "outputs": [
    {
     "data": {
      "text/plain": [
       "False"
      ]
     },
     "execution_count": 1,
     "metadata": {},
     "output_type": "execute_result"
    }
   ],
   "source": [
    "'1'.isupper()"
   ]
  }
 ],
 "metadata": {
  "kernelspec": {
   "display_name": "Python 3.8.5 ('base')",
   "language": "python",
   "name": "python3"
  },
  "language_info": {
   "codemirror_mode": {
    "name": "ipython",
    "version": 3
   },
   "file_extension": ".py",
   "mimetype": "text/x-python",
   "name": "python",
   "nbconvert_exporter": "python",
   "pygments_lexer": "ipython3",
   "version": "3.8.5"
  },
  "orig_nbformat": 4,
  "vscode": {
   "interpreter": {
    "hash": "8cc51f7a6f9663e4a057df8e9ab0b3750994a36584b90d61db68aa71b39bfa78"
   }
  }
 },
 "nbformat": 4,
 "nbformat_minor": 2
}
