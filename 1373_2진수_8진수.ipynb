{
 "cells": [
  {
   "cell_type": "markdown",
   "metadata": {},
   "source": [
    "# 1373 2진수 8진수\n",
    "220905\n",
    "- 소감\n",
    "    - 2진수를 세 자리씩 끊어서 8진수로 변환했는데, oct라는 8진수로 변환해주는 함수가 있다는 걸 잊고 있었다.\n",
    "- 소요 시간 : 10분\n",
    "- 알고리즘 분류 : 수학, 구현, 문자열\n",
    "- 티어 : 브론즈 1"
   ]
  },
  {
   "cell_type": "code",
   "execution_count": 1,
   "metadata": {},
   "outputs": [],
   "source": [
    "from collections import deque\n",
    "\n",
    "base_2 = input()\n",
    "\n",
    "ans = deque()\n",
    "for i in range(0, -len(base_2), -3):\n",
    "    if i == 0:\n",
    "        ans.appendleft(int(base_2[i-3:], base=2))\n",
    "    else:\n",
    "        ans.appendleft(int(base_2[i-3:i], base=2))\n",
    "\n",
    "print(''.join(map(str, ans)))"
   ]
  },
  {
   "cell_type": "code",
   "execution_count": 2,
   "metadata": {},
   "outputs": [
    {
     "data": {
      "text/plain": [
       "'11001100'"
      ]
     },
     "execution_count": 2,
     "metadata": {},
     "output_type": "execute_result"
    }
   ],
   "source": [
    "base_2"
   ]
  },
  {
   "cell_type": "code",
   "execution_count": 10,
   "metadata": {},
   "outputs": [
    {
     "name": "stdout",
     "output_type": "stream",
     "text": [
      "314\n"
     ]
    }
   ],
   "source": [
    "from collections import deque\n",
    "\n",
    "ans = deque()\n",
    "for i in range(0, -len(base_2), -3):\n",
    "    if i == 0:\n",
    "        ans.appendleft(int(base_2[i-3:], base=2))\n",
    "    else:\n",
    "        ans.appendleft(int(base_2[i-3:i], base=2))\n",
    "print(''.join(map(str, ans)))"
   ]
  },
  {
   "cell_type": "code",
   "execution_count": 8,
   "metadata": {},
   "outputs": [
    {
     "data": {
      "text/plain": [
       "4"
      ]
     },
     "execution_count": 8,
     "metadata": {},
     "output_type": "execute_result"
    }
   ],
   "source": [
    "int('100', base=2)"
   ]
  },
  {
   "cell_type": "code",
   "execution_count": null,
   "metadata": {},
   "outputs": [],
   "source": []
  }
 ],
 "metadata": {
  "kernelspec": {
   "display_name": "Python 3.8.5 ('base')",
   "language": "python",
   "name": "python3"
  },
  "language_info": {
   "codemirror_mode": {
    "name": "ipython",
    "version": 3
   },
   "file_extension": ".py",
   "mimetype": "text/x-python",
   "name": "python",
   "nbconvert_exporter": "python",
   "pygments_lexer": "ipython3",
   "version": "3.8.5"
  },
  "orig_nbformat": 4,
  "vscode": {
   "interpreter": {
    "hash": "8cc51f7a6f9663e4a057df8e9ab0b3750994a36584b90d61db68aa71b39bfa78"
   }
  }
 },
 "nbformat": 4,
 "nbformat_minor": 2
}
