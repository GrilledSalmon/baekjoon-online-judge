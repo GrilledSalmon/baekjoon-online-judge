{
 "cells": [
  {
   "cell_type": "markdown",
   "metadata": {},
   "source": [
    "# 2665 미로만들기\n",
    "220417\n",
    "- 소감 : 난 내가 꽤 잘 풀었다 생각했는데.. 다익스트라로 풀 수 있나보네..? 아 큐에서 뽑을 때 찬스를 적게 쓴 애가 먼저 나오도록 하면 되겠네..? 다익스트라처럼 heap 이용해서 다시 짜봄\n",
    "- 아이디어 : 벽 부수고 이동하기와 비슷한 전략. 검은 방을 지나갈 수 있는 찬스를 주고, 더 적은 찬스를 사용한 애가 더 멀리 갈 수 있도록 짜준다.\n",
    "- 알고리즘 분류\n",
    "    - 그래프 이론\n",
    "    - 그래프 탐색\n",
    "    - 너비 우선 탐색\n",
    "    - 다익스트라\n",
    "- 티어 : 골드 4"
   ]
  },
  {
   "cell_type": "code",
   "execution_count": null,
   "metadata": {},
   "outputs": [],
   "source": [
    "# 2665 미로만들기\n",
    "from heapq import heappop, heappush\n",
    "import sys\n",
    "# input = sys.stdin.readline\n",
    "n = int(input())\n",
    "miro = [tuple(map(lambda x:1-int(x), list(input().rstrip()))) for _ in range(n)]\n",
    "\n",
    "# Dijkstra?\n",
    "complete = [[0]*n for _ in range(n)]\n",
    "heap = [(1, (0, 0))]\n",
    "complete[0][0] = 1\n",
    "while heap:\n",
    "    used_chance, (now_row, now_col) = heappop(heap)\n",
    "    complete[now_row][now_col] = used_chance\n",
    "    for adj_row, adj_col in [(now_row+1, now_col), (now_row-1, now_col), (now_row, now_col+1), (now_row, now_col-1)]:\n",
    "        if 0<=adj_row<n and 0<=adj_col<n and not complete[adj_row][adj_col]:\n",
    "            if miro[adj_row][adj_col]: # 검은 방\n",
    "                heappush(heap, (used_chance+1, (adj_row, adj_col)))\n",
    "                complete[adj_row][adj_col] = used_chance+1\n",
    "            else:\n",
    "                heappush(heap, (used_chance, (adj_row, adj_col)))\n",
    "                complete[adj_row][adj_col] = used_chance\n",
    "         \n",
    "print(complete[n-1][n-1]-1)"
   ]
  },
  {
   "cell_type": "code",
   "execution_count": 4,
   "metadata": {},
   "outputs": [],
   "source": [
    "# 2665 미로만들기 -> 그냥 BFS로 구현한 거\n",
    "from collections import deque\n",
    "import sys\n",
    "# input = sys.stdin.readline\n",
    "n = int(input())\n",
    "miro = [tuple(map(lambda x:1-int(x), list(input().rstrip()))) for _ in range(n)]\n",
    "\n",
    "# BFS\n",
    "chance = n**2\n",
    "visited = [[0]*n for _ in range(n)]\n",
    "queue = deque([((0, 0), chance)])\n",
    "visited[0][0] = chance\n",
    "while queue:\n",
    "    (now_row, now_col), now_chance = queue.popleft()\n",
    "    for adj_row, adj_col in [(now_row+1, now_col), (now_row-1, now_col), (now_row, now_col+1), (now_row, now_col-1)]:\n",
    "        if 0<=adj_row<n and 0<=adj_col<n and visited[adj_row][adj_col] < now_chance:\n",
    "            if miro[adj_row][adj_col]: # 검은 방\n",
    "                queue.append(((adj_row, adj_col), now_chance-1))\n",
    "                visited[adj_row][adj_col] = now_chance-1\n",
    "            else:\n",
    "                queue.append(((adj_row, adj_col), now_chance))\n",
    "                visited[adj_row][adj_col] = now_chance\n",
    "                \n",
    "print(chance - visited[n-1][n-1])"
   ]
  },
  {
   "cell_type": "code",
   "execution_count": null,
   "metadata": {},
   "outputs": [],
   "source": [
    "text = \"\"\"11100110\n",
    "11010010\n",
    "10011010\n",
    "11101100\n",
    "01000111\n",
    "00110001\n",
    "11011000\n",
    "11000111\"\"\""
   ]
  },
  {
   "cell_type": "code",
   "execution_count": null,
   "metadata": {},
   "outputs": [],
   "source": [
    "# 2665 미로만들기\n",
    "import sys\n",
    "# input = sys.stdin.readline\n",
    "n = int(input())\n",
    "miro = list(map(lambda x: list(map(lambda x: 1-int(x), list(x))) ,text.split()))"
   ]
  },
  {
   "cell_type": "code",
   "execution_count": 5,
   "metadata": {},
   "outputs": [
    {
     "data": {
      "text/plain": [
       "[[0, 0, 0, 1, 1, 0, 0, 1],\n",
       " [0, 0, 1, 0, 1, 1, 0, 1],\n",
       " [0, 1, 1, 0, 0, 1, 0, 1],\n",
       " [0, 0, 0, 1, 0, 0, 1, 1],\n",
       " [1, 0, 1, 1, 1, 0, 0, 0],\n",
       " [1, 1, 0, 0, 1, 1, 1, 0],\n",
       " [0, 0, 1, 0, 0, 1, 1, 1],\n",
       " [0, 0, 1, 1, 1, 0, 0, 0]]"
      ]
     },
     "execution_count": 5,
     "metadata": {},
     "output_type": "execute_result"
    }
   ],
   "source": [
    "miro"
   ]
  },
  {
   "cell_type": "code",
   "execution_count": 18,
   "metadata": {},
   "outputs": [
    {
     "name": "stdout",
     "output_type": "stream",
     "text": [
      "2\n"
     ]
    }
   ],
   "source": [
    "chance = n**2\n",
    "\n",
    "# BFS\n",
    "visited = [[0]*n for _ in range(n)]\n",
    "start, end = (0, 0), (n-1, n-1)\n",
    "queue = deque([(start, chance)])\n",
    "while queue:\n",
    "    (now_row, now_col), now_chance = queue.popleft()\n",
    "    for adj_row, adj_col in [(now_row+1, now_col), (now_row-1, now_col), (now_row, now_col+1), (now_row, now_col-1)]:\n",
    "        if 0<=adj_row<n and 0<=adj_col<n and visited[adj_row][adj_col] < now_chance:\n",
    "            if miro[adj_row][adj_col]: # 검은 방\n",
    "                queue.append(((adj_row, adj_col), now_chance-1))\n",
    "                visited[adj_row][adj_col] = now_chance-1\n",
    "            else:\n",
    "                queue.append(((adj_row, adj_col), now_chance))\n",
    "                visited[adj_row][adj_col] = now_chance\n",
    "print(chance - visited[n-1][n-1])"
   ]
  },
  {
   "cell_type": "code",
   "execution_count": 17,
   "metadata": {},
   "outputs": [
    {
     "data": {
      "text/plain": [
       "[[64, 64, 64, 63, 62, 62, 62, 61],\n",
       " [64, 64, 63, 63, 62, 61, 62, 61],\n",
       " [64, 63, 63, 63, 63, 62, 62, 61],\n",
       " [64, 64, 64, 63, 63, 63, 62, 62],\n",
       " [63, 64, 63, 62, 62, 63, 63, 63],\n",
       " [62, 63, 63, 63, 62, 62, 62, 63],\n",
       " [63, 63, 62, 63, 63, 62, 61, 62],\n",
       " [63, 63, 62, 62, 62, 62, 62, 62]]"
      ]
     },
     "execution_count": 17,
     "metadata": {},
     "output_type": "execute_result"
    }
   ],
   "source": [
    "visited"
   ]
  },
  {
   "cell_type": "code",
   "execution_count": 11,
   "metadata": {},
   "outputs": [],
   "source": [
    "(a, b), c = ((1, 2), 2)"
   ]
  },
  {
   "cell_type": "code",
   "execution_count": 12,
   "metadata": {},
   "outputs": [
    {
     "data": {
      "text/plain": [
       "(1, 2, 2)"
      ]
     },
     "execution_count": 12,
     "metadata": {},
     "output_type": "execute_result"
    }
   ],
   "source": [
    "a, b, c"
   ]
  },
  {
   "cell_type": "code",
   "execution_count": null,
   "metadata": {},
   "outputs": [],
   "source": []
  }
 ],
 "metadata": {
  "interpreter": {
   "hash": "8fac594bfae6525c0c41b4041d2d72effa188cc8ead05f81b1fab2bb098927fb"
  },
  "kernelspec": {
   "display_name": "Python 3.8.8 ('base')",
   "language": "python",
   "name": "python3"
  },
  "language_info": {
   "codemirror_mode": {
    "name": "ipython",
    "version": 3
   },
   "file_extension": ".py",
   "mimetype": "text/x-python",
   "name": "python",
   "nbconvert_exporter": "python",
   "pygments_lexer": "ipython3",
   "version": "3.8.8"
  },
  "orig_nbformat": 4
 },
 "nbformat": 4,
 "nbformat_minor": 2
}
