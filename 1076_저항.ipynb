{
 "cells": [
  {
   "cell_type": "markdown",
   "metadata": {},
   "source": [
    "# 1076 저항\n",
    "220724\n",
    "- 소감\n",
    "    - 아 왤케 감이 떨어진 것 같지\n",
    "- 소요 시간 : 5분\n",
    "- 알고리즘 분류 : 구현\n",
    "- 티어 : 브론즈 2"
   ]
  },
  {
   "cell_type": "code",
   "execution_count": null,
   "metadata": {},
   "outputs": [],
   "source": [
    "import sys\n",
    "# input = sys.stdin.readline\n",
    "\n",
    "colors_dict = {}\n",
    "colors_dict['black'] = (0, 1)\n",
    "colors_dict['brown'] = (1, 10)\n",
    "colors_dict['red'] = (2, 10**2)\n",
    "colors_dict['orange'] = (3, 10**3)\n",
    "colors_dict['yellow'] = (4, 10**4)\n",
    "colors_dict['green'] = (5, 10**5)\n",
    "colors_dict['blue'] = (6, 10**6)\n",
    "colors_dict['violet'] = (7, 10**7)\n",
    "colors_dict['grey'] = (8, 10**8)\n",
    "colors_dict['white'] = (9, 10**9)\n",
    "\n",
    "inp = [input().strip() for _ in range(3)]\n",
    "\n",
    "print((colors_dict[inp[0]][0]*10 + colors_dict[inp[1]][0]) * colors_dict[inp[2]][1])"
   ]
  }
 ],
 "metadata": {
  "kernelspec": {
   "display_name": "Python 3.8.8 ('base')",
   "language": "python",
   "name": "python3"
  },
  "language_info": {
   "name": "python",
   "version": "3.8.8"
  },
  "orig_nbformat": 4,
  "vscode": {
   "interpreter": {
    "hash": "f08154012ddadd8e950e6e9e035c7a7b32c136e7647e9b7c77e02eb723a8bedb"
   }
  }
 },
 "nbformat": 4,
 "nbformat_minor": 2
}
