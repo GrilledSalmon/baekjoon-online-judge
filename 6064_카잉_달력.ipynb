{
 "cells": [
  {
   "cell_type": "markdown",
   "metadata": {},
   "source": [
    "# 6064 카잉 달력\n",
    "220226\n",
    "- 소감 : 풀긴 했는데 연산 시간이 무진장 오래 걸렸다. 풀기 위해 아이패드에 펜으로 좀 많이 끄적거렸음. 식을 정리하고 보니 결과적으로 내가 구해야 하는 건 `ax = by + c`(a, b, c는 정수, x, y는 음이 아닌 정수) 관계를 만족하는 최소 x, y를 구하는 문제였음.(문제는 다른 언어로도 표현 가능..) 이 문제는 중국인의 나머지 정리와 관련 있다고 한다. 이에 대해 좀 알아봐야겠다.\n",
    "- 알고리즘 분류\n",
    "    - 수학\n",
    "    - 정수론\n",
    "    - 중국인의 나머지 정리\n",
    "- 티어 : 실버 1"
   ]
  },
  {
   "cell_type": "code",
   "execution_count": 13,
   "metadata": {},
   "outputs": [
    {
     "name": "stdout",
     "output_type": "stream",
     "text": [
      "33\n",
      "-1\n",
      "83\n"
     ]
    }
   ],
   "source": [
    "import sys\n",
    "# input = sys.stdin.readline\n",
    "\n",
    "def solve():\n",
    "    k_set = {x + p*M for p in range(N)}\n",
    "    for q in range(M):\n",
    "        k = y + q*N\n",
    "        if k in k_set:\n",
    "            return k\n",
    "    return -1\n",
    "\n",
    "T = int(input())\n",
    "for _ in range(T):\n",
    "    M, N, x, y = map(int, input().split())\n",
    "    print(solve())"
   ]
  },
  {
   "cell_type": "code",
   "execution_count": 2,
   "metadata": {},
   "outputs": [],
   "source": [
    "M, N, x, y = map(int, input().split())"
   ]
  },
  {
   "cell_type": "code",
   "execution_count": 5,
   "metadata": {},
   "outputs": [],
   "source": [
    "xy_set = set()\n",
    "for i in range(80):\n",
    "    x_ = i%M + 1\n",
    "    y_ = i%N + 1\n",
    "    xy_set.add((x_, y_))"
   ]
  },
  {
   "cell_type": "code",
   "execution_count": 8,
   "metadata": {},
   "outputs": [
    {
     "data": {
      "text/plain": [
       "60"
      ]
     },
     "execution_count": 8,
     "metadata": {},
     "output_type": "execute_result"
    }
   ],
   "source": [
    "len(xy_set)"
   ]
  },
  {
   "cell_type": "code",
   "execution_count": null,
   "metadata": {},
   "outputs": [],
   "source": [
    "M, N, x, y = map(int, input().split())"
   ]
  },
  {
   "cell_type": "code",
   "execution_count": 11,
   "metadata": {},
   "outputs": [
    {
     "data": {
      "text/plain": [
       "83"
      ]
     },
     "execution_count": 11,
     "metadata": {},
     "output_type": "execute_result"
    }
   ],
   "source": [
    "M, N, x, y = map(int, input().split())\n",
    "def solve():\n",
    "    k_set = {x + p*M for p in range(N)}\n",
    "    for q in range(M):\n",
    "        k = y + q*N\n",
    "        if k in k_set:\n",
    "            return k\n",
    "    return -1\n",
    "solve()"
   ]
  }
 ],
 "metadata": {
  "interpreter": {
   "hash": "c798a043d5b26db4ea8dc684fe25ec244835432adc5539bce2de618403b1d63c"
  },
  "kernelspec": {
   "display_name": "Python 3.8.5 ('base')",
   "language": "python",
   "name": "python3"
  },
  "language_info": {
   "codemirror_mode": {
    "name": "ipython",
    "version": 3
   },
   "file_extension": ".py",
   "mimetype": "text/x-python",
   "name": "python",
   "nbconvert_exporter": "python",
   "pygments_lexer": "ipython3",
   "version": "3.8.5"
  },
  "orig_nbformat": 4
 },
 "nbformat": 4,
 "nbformat_minor": 2
}
