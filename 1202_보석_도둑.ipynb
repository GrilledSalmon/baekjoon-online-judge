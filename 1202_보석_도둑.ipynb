{
 "cells": [
  {
   "cell_type": "markdown",
   "metadata": {},
   "source": [
    "# 1202 보석 도둑\n",
    "220526\n",
    "- 소감\n",
    "    - 이전에 풀었던 '1092 배' 문제와 비슷한 면이 있어 접근을 금방 했습니다.\n",
    "    - 아이디어는 작은 보석부터 시작해 자신이 챙길 수 있는 가장 가치 있는 보석을 챙기는 것입니다.(그리디)\n",
    "    - 아이디어를 구현하는 데 정렬과 heap을 사용했습니다.\n",
    "    - IndexError가 떴는데, 다행히 금방 해결했습니다.\n",
    "- 소요 시간 : 42분\n",
    "- 알고리즘 분류 : 자료 구조, 그리디 알고리즘, 정렬, 우선순위 큐\n",
    "- 티어 : 골드 2"
   ]
  },
  {
   "cell_type": "code",
   "execution_count": 30,
   "metadata": {},
   "outputs": [],
   "source": [
    "from heapq import heappush, heappop\n",
    "import sys\n",
    "\n",
    "# input = sys.stdin.readline\n",
    "\n",
    "N, K = map(int ,input().split())\n",
    "jewel_stack = []\n",
    "for _ in range(N):\n",
    "    m, v = map(int, input().split())\n",
    "    jewel_stack.append((-v, m)) # for max heap\n",
    "jewel_stack.sort(key=lambda x : (x[1], x[0]), reverse=True) # 무게에 대해 내림차순\n",
    "bag_cap = sorted([int(input()) for _ in range(K)])\n",
    "\n",
    "value_sum = 0\n",
    "val_max_heap = []\n",
    "took_jewel_cnt = 0\n",
    "remain_bag_num = len(bag_cap)\n",
    "for bag in bag_cap:\n",
    "    while jewel_stack:\n",
    "        if jewel_stack[-1][1] <= bag:\n",
    "            heappush(val_max_heap, jewel_stack.pop()[0])\n",
    "        else: # 못 챙기게 된 경우 -> heap에 들어있는 것 중에 챙기고 넘어가기\n",
    "            if val_max_heap: # 챙길 수 있는 보석이 있으면\n",
    "                value_sum += -heappop(val_max_heap)\n",
    "            else: # heap에 안 남아 있으면 못 챙김\n",
    "                pass\n",
    "            remain_bag_num -= 1\n",
    "            break\n",
    "\n",
    "while remain_bag_num and val_max_heap:\n",
    "    remain_bag_num -= 1\n",
    "    value_sum += -heappop(val_max_heap)\n",
    "\n",
    "print(value_sum)"
   ]
  },
  {
   "cell_type": "code",
   "execution_count": 31,
   "metadata": {},
   "outputs": [
    {
     "data": {
      "text/plain": [
       "(3, 2, [(-23, 5), (-99, 2), (-65, 1)], [2, 10])"
      ]
     },
     "execution_count": 31,
     "metadata": {},
     "output_type": "execute_result"
    }
   ],
   "source": [
    "N, K, jewel_stack, bag_cap"
   ]
  },
  {
   "cell_type": "code",
   "execution_count": 32,
   "metadata": {},
   "outputs": [
    {
     "name": "stdout",
     "output_type": "stream",
     "text": [
      "164\n"
     ]
    }
   ],
   "source": [
    "from heapq import heappush, heappop\n",
    "value_sum = 0\n",
    "val_max_heap = []\n",
    "took_jewel_cnt = 0\n",
    "for bag in bag_cap:\n",
    "    while jewel_stack:\n",
    "        if jewel_stack[-1][1] <= bag:\n",
    "            heappush(val_max_heap, jewel_stack.pop()[0])\n",
    "        else: # 못 챙기게 된 경우 -> heap에 들어있는 것 중에 챙기고 넘어가기\n",
    "            if val_max_heap: # 챙길 수 있는 보석이 있으면\n",
    "                took_jewel_cnt += 1\n",
    "                value_sum += -heappop(val_max_heap)\n",
    "            break\n",
    "\n",
    "while took_jewel_cnt != len(bag_cap):\n",
    "    took_jewel_cnt += 1\n",
    "    value_sum += -heappop(val_max_heap)\n",
    "\n",
    "print(value_sum)"
   ]
  },
  {
   "cell_type": "code",
   "execution_count": 21,
   "metadata": {},
   "outputs": [
    {
     "data": {
      "text/plain": [
       "[2, 10]"
      ]
     },
     "execution_count": 21,
     "metadata": {},
     "output_type": "execute_result"
    }
   ],
   "source": [
    "took_jewel_cnt\n",
    "bag_cap"
   ]
  },
  {
   "cell_type": "code",
   "execution_count": 28,
   "metadata": {},
   "outputs": [
    {
     "data": {
      "text/plain": [
       "([-65, -23], 1)"
      ]
     },
     "execution_count": 28,
     "metadata": {},
     "output_type": "execute_result"
    }
   ],
   "source": [
    "val_max_heap, took_jewel_cnt"
   ]
  }
 ],
 "metadata": {
  "interpreter": {
   "hash": "f08154012ddadd8e950e6e9e035c7a7b32c136e7647e9b7c77e02eb723a8bedb"
  },
  "kernelspec": {
   "display_name": "Python 3.8.8 ('base')",
   "language": "python",
   "name": "python3"
  },
  "language_info": {
   "codemirror_mode": {
    "name": "ipython",
    "version": 3
   },
   "file_extension": ".py",
   "mimetype": "text/x-python",
   "name": "python",
   "nbconvert_exporter": "python",
   "pygments_lexer": "ipython3",
   "version": "3.8.8"
  },
  "orig_nbformat": 4
 },
 "nbformat": 4,
 "nbformat_minor": 2
}
