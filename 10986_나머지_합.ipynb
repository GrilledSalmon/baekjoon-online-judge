{
 "cells": [
  {
   "cell_type": "markdown",
   "metadata": {},
   "source": [
    "# 10986 나머지 합\n",
    "- 소감\n",
    "    - 티어에 비해 쉽게 맞았다.\n",
    "    - 아마 프로그래머스여서 고민없이 바로 제출해봤다면 15분만에 풀었을듯\n",
    "    - 아이디어는 누적합의 나머지가 같은 애들끼리 두 개 고르는 조합의 수를 합하는 것이다.\n",
    "- 소요 시간 : 25분\n",
    "- 알고리즘 분류 : 수학, 누적 합\n",
    "- 티어 : 골드 3"
   ]
  },
  {
   "cell_type": "code",
   "execution_count": 1,
   "metadata": {},
   "outputs": [
    {
     "name": "stdout",
     "output_type": "stream",
     "text": [
      "7\n"
     ]
    }
   ],
   "source": [
    "import sys\n",
    "# input = sys.stdin.readline\n",
    "\n",
    "N, M = map(int, input().split())\n",
    "A = list(map(int, input().split()))\n",
    "\n",
    "def n_C_2(n):\n",
    "    return n*(n-1)//2\n",
    "\n",
    "mod_cnt = [0]*M\n",
    "mod_cnt[0] = 1\n",
    "acc_list = [0]\n",
    "for a in A:\n",
    "    acc = acc_list[-1] + a\n",
    "    mod_cnt[acc%M] += 1\n",
    "    acc_list.append(acc)\n",
    "\n",
    "ans = 0\n",
    "for cnt in mod_cnt:\n",
    "    if cnt:\n",
    "        ans += n_C_2(cnt)\n",
    "print(ans)\n"
   ]
  },
  {
   "cell_type": "code",
   "execution_count": null,
   "metadata": {},
   "outputs": [],
   "source": []
  }
 ],
 "metadata": {
  "kernelspec": {
   "display_name": "Python 3.8.8 ('base')",
   "language": "python",
   "name": "python3"
  },
  "language_info": {
   "codemirror_mode": {
    "name": "ipython",
    "version": 3
   },
   "file_extension": ".py",
   "mimetype": "text/x-python",
   "name": "python",
   "nbconvert_exporter": "python",
   "pygments_lexer": "ipython3",
   "version": "3.8.8"
  },
  "orig_nbformat": 4,
  "vscode": {
   "interpreter": {
    "hash": "f08154012ddadd8e950e6e9e035c7a7b32c136e7647e9b7c77e02eb723a8bedb"
   }
  }
 },
 "nbformat": 4,
 "nbformat_minor": 2
}
