{
 "cells": [
  {
   "cell_type": "markdown",
   "metadata": {},
   "source": [
    "# 1911 흙길 보수하기\n",
    "220628\n",
    "- 소감\n",
    "    - 당연히 맞을 줄 알았는데, 숫자 범위를 생각 안하고 제출해서 틀렸네용..\n",
    "    - 스위핑이란 알고리즘도 있네요..? 예전에 두 점 사이 거리인가 그 문제가 스위핑이었나..?\n",
    "- 소요 시간 : 22분\n",
    "- 알고리즘 분류 : 정렬, 스위핑\n",
    "- 티어 : 실버 1"
   ]
  },
  {
   "cell_type": "code",
   "execution_count": 15,
   "metadata": {},
   "outputs": [
    {
     "name": "stdout",
     "output_type": "stream",
     "text": [
      "5\n"
     ]
    }
   ],
   "source": [
    "import sys\n",
    "# input = sys.stdin.readline\n",
    "\n",
    "N, L = map(int, input().split())\n",
    "pool = [tuple(map(int, input().split())) for _ in range(N)]\n",
    "\n",
    "pool.sort()\n",
    "\n",
    "cnt = 0\n",
    "l_end = 0\n",
    "for s, e in pool:\n",
    "    if l_end < s: # s부터 새로 깔아야 하는 경우\n",
    "        l_end = s\n",
    "    if l_end < e: # 새로 깔아야 하는 상황\n",
    "        remain = e - l_end\n",
    "        if remain % L:\n",
    "            plus = remain // L + 1\n",
    "        else:\n",
    "            plus = remain // L\n",
    "        cnt += plus\n",
    "        l_end += plus*L\n",
    "\n",
    "print(cnt)"
   ]
  },
  {
   "cell_type": "code",
   "execution_count": 10,
   "metadata": {},
   "outputs": [
    {
     "data": {
      "text/plain": [
       "(3, 3, [(1, 6), (8, 12), (13, 17)])"
      ]
     },
     "execution_count": 10,
     "metadata": {},
     "output_type": "execute_result"
    }
   ],
   "source": [
    "N, L, pool"
   ]
  },
  {
   "cell_type": "code",
   "execution_count": 14,
   "metadata": {},
   "outputs": [
    {
     "name": "stdout",
     "output_type": "stream",
     "text": [
      "5 1 1 6\n",
      "    7\n",
      "4 8 8 12\n",
      "    14\n",
      "3 14 13 17\n",
      "    17\n",
      "5\n"
     ]
    }
   ],
   "source": [
    "pool.sort()\n",
    "\n",
    "\n",
    "cnt = 0\n",
    "l_end = 0\n",
    "for s, e in pool:\n",
    "    if l_end < s: # s부터 새로 깔아야 하는 경우\n",
    "        l_end = s\n",
    "    if l_end < e: # 새로 깔아야 하는 상황\n",
    "        remain = e - l_end\n",
    "        if remain % L:\n",
    "            plus = remain // L + 1\n",
    "        else:\n",
    "            plus = remain // L\n",
    "        cnt += plus\n",
    "        l_end += plus*L\n",
    "\n",
    "print(cnt)"
   ]
  },
  {
   "cell_type": "code",
   "execution_count": null,
   "metadata": {},
   "outputs": [],
   "source": []
  }
 ],
 "metadata": {
  "kernelspec": {
   "display_name": "Python 3.8.8 ('base')",
   "language": "python",
   "name": "python3"
  },
  "language_info": {
   "codemirror_mode": {
    "name": "ipython",
    "version": 3
   },
   "file_extension": ".py",
   "mimetype": "text/x-python",
   "name": "python",
   "nbconvert_exporter": "python",
   "pygments_lexer": "ipython3",
   "version": "3.8.8"
  },
  "orig_nbformat": 4,
  "vscode": {
   "interpreter": {
    "hash": "f08154012ddadd8e950e6e9e035c7a7b32c136e7647e9b7c77e02eb723a8bedb"
   }
  }
 },
 "nbformat": 4,
 "nbformat_minor": 2
}
