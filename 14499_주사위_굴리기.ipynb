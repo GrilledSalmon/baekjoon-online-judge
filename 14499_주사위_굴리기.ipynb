{
 "cells": [
  {
   "cell_type": "markdown",
   "metadata": {},
   "source": [
    "# 14499 주사위 굴리기\n",
    "220812\n",
    "- 소감\n",
    "    - 삼성 SW 역량 테스트 문제. 삼성이 구현 문제가 많아서 당분간 이걸 풀까 싶기도 하네여.\n",
    "    - 뭔가 삼성스러운 문제\n",
    "    - 주사위가 구른 상태를 기록해주는 게 포인트인데, 다른 사람들은 어떻게 풀었을지 궁금하네여\n",
    "    - 좀 어수선한 상태에서 풀어서 시간이 좀 걸렸습니다.\n",
    "- 소요 시간 : 1시간 10분\n",
    "- 알고리즘 분류 : 구현, 시뮬레이션\n",
    "- 티어 : 골드 4"
   ]
  },
  {
   "cell_type": "code",
   "execution_count": 1,
   "metadata": {},
   "outputs": [],
   "source": [
    "# 동, 서, 북, 남 -> 1, 2, 3, 4\n",
    "from collections import deque\n",
    "import sys\n",
    "# input = sys.stdin.readline\n",
    "\n",
    "N, M, x, y, K = map(int, input().split())\n",
    "mapp = [list(map(int, input().split())) for _ in range(N)]\n",
    "directions = list(map(int, input().split()))\n",
    "\n",
    "dice_state_hor = deque([0, 0, 0]) # 가로\n",
    "dice_state_ver = deque([0, 0, 0, 0]) # 세로\n",
    "\n",
    "def east(dice_state_hor, dice_state_ver):\n",
    "    dice_state_hor.appendleft(dice_state_ver.pop())\n",
    "    dice_state_ver.append(dice_state_hor.pop())\n",
    "    dice_state_ver[1] = dice_state_hor[1]\n",
    "\n",
    "def west(dice_state_hor, dice_state_ver):\n",
    "    dice_state_hor.append(dice_state_ver.pop())\n",
    "    dice_state_ver.append(dice_state_hor.popleft())\n",
    "    dice_state_ver[1] = dice_state_hor[1]\n",
    "\n",
    "def south(dice_state_hor, dice_state_ver):\n",
    "    dice_state_ver.rotate()\n",
    "    dice_state_hor[1] = dice_state_ver[1]\n",
    "\n",
    "def north(dice_state_hor, dice_state_ver):\n",
    "    dice_state_ver.rotate(-1)\n",
    "    dice_state_hor[1] = dice_state_ver[1]\n",
    "\n",
    "dice_rotate = [east, west, north, south]\n",
    "dice_move = [(0, 1), (0, -1), (-1, 0), (1, 0)] # 동서북남 평행 이동(r,c)\n",
    "\n",
    "for direction in directions:\n",
    "    dx, dy = dice_move[direction-1]\n",
    "    nx, ny = x + dx, y + dy\n",
    "    if not (0<=nx<N and 0<=ny<M):\n",
    "        continue\n",
    "    dice_rotate[direction-1](dice_state_hor, dice_state_ver)\n",
    "    number = mapp[nx][ny]\n",
    "    if number:\n",
    "        dice_state_ver[-1] = number\n",
    "        mapp[nx][ny] = 0\n",
    "    else:\n",
    "        mapp[nx][ny] = dice_state_ver[-1]\n",
    "    print(dice_state_hor[1])\n",
    "    x, y = nx, ny"
   ]
  },
  {
   "cell_type": "code",
   "execution_count": 2,
   "metadata": {},
   "outputs": [
    {
     "data": {
      "text/plain": [
       "([(0, 2), (3, 4), (5, 6), (7, 8)], (4, 4, 4, 1, 3, 3, 3, 2))"
      ]
     },
     "execution_count": 2,
     "metadata": {},
     "output_type": "execute_result"
    }
   ],
   "source": [
    "mapp, directions"
   ]
  },
  {
   "cell_type": "code",
   "execution_count": 24,
   "metadata": {},
   "outputs": [
    {
     "ename": "TypeError",
     "evalue": "'tuple' object does not support item assignment",
     "output_type": "error",
     "traceback": [
      "\u001b[1;31m---------------------------------------------------------------------------\u001b[0m",
      "\u001b[1;31mTypeError\u001b[0m                                 Traceback (most recent call last)",
      "\u001b[1;32m<ipython-input-24-d1fb3a00e0e3>\u001b[0m in \u001b[0;36m<module>\u001b[1;34m\u001b[0m\n\u001b[0;32m     33\u001b[0m     \u001b[1;32mif\u001b[0m \u001b[0mnumber\u001b[0m\u001b[1;33m:\u001b[0m\u001b[1;33m\u001b[0m\u001b[1;33m\u001b[0m\u001b[0m\n\u001b[0;32m     34\u001b[0m         \u001b[0mdice_state_ver\u001b[0m\u001b[1;33m[\u001b[0m\u001b[1;33m-\u001b[0m\u001b[1;36m1\u001b[0m\u001b[1;33m]\u001b[0m \u001b[1;33m=\u001b[0m \u001b[0mnumber\u001b[0m\u001b[1;33m\u001b[0m\u001b[1;33m\u001b[0m\u001b[0m\n\u001b[1;32m---> 35\u001b[1;33m         \u001b[0mmapp\u001b[0m\u001b[1;33m[\u001b[0m\u001b[0mnx\u001b[0m\u001b[1;33m]\u001b[0m\u001b[1;33m[\u001b[0m\u001b[0mny\u001b[0m\u001b[1;33m]\u001b[0m \u001b[1;33m=\u001b[0m \u001b[1;36m0\u001b[0m\u001b[1;33m\u001b[0m\u001b[1;33m\u001b[0m\u001b[0m\n\u001b[0m\u001b[0;32m     36\u001b[0m     \u001b[1;32melse\u001b[0m\u001b[1;33m:\u001b[0m\u001b[1;33m\u001b[0m\u001b[1;33m\u001b[0m\u001b[0m\n\u001b[0;32m     37\u001b[0m         \u001b[0mmapp\u001b[0m\u001b[1;33m[\u001b[0m\u001b[0mnx\u001b[0m\u001b[1;33m]\u001b[0m\u001b[1;33m[\u001b[0m\u001b[0mny\u001b[0m\u001b[1;33m]\u001b[0m \u001b[1;33m=\u001b[0m \u001b[0mdice_state_ver\u001b[0m\u001b[1;33m[\u001b[0m\u001b[1;33m-\u001b[0m\u001b[1;36m1\u001b[0m\u001b[1;33m]\u001b[0m\u001b[1;33m\u001b[0m\u001b[1;33m\u001b[0m\u001b[0m\n",
      "\u001b[1;31mTypeError\u001b[0m: 'tuple' object does not support item assignment"
     ]
    }
   ],
   "source": [
    "from collections import deque\n",
    "dice_state_hor = deque([4, 1, 3]) # 가로\n",
    "dice_state_ver = deque([2, 1, 5, 6]) # 세로\n",
    "\n",
    "def east(dice_state_hor, dice_state_ver):\n",
    "    dice_state_hor.appendleft(dice_state_ver.pop())\n",
    "    dice_state_ver.append(dice_state_hor.pop())\n",
    "    dice_state_ver[1] = dice_state_hor[1]\n",
    "\n",
    "def west(dice_state_hor, dice_state_ver):\n",
    "    dice_state_hor.append(dice_state_ver.pop())\n",
    "    dice_state_ver.append(dice_state_hor.popleft())\n",
    "    dice_state_ver[1] = dice_state_hor[1]\n",
    "\n",
    "def south(dice_state_hor, dice_state_ver):\n",
    "    dice_state_ver.rotate()\n",
    "    dice_state_hor[1] = dice_state_ver[1]\n",
    "\n",
    "def north(dice_state_hor, dice_state_ver):\n",
    "    dice_state_ver.rotate(-1)\n",
    "    dice_state_hor[1] = dice_state_ver[1]\n",
    "\n",
    "dice_rotates = [east, west, south, north]\n",
    "dice_move = [(0, 1), (0, -1), (1, 0), (-1, 0)] # 동서남북 평행 이동(r,c)\n",
    "\n",
    "for direction in directions:\n",
    "    dx, dy = dice_move[direction-1]\n",
    "    nx, ny = x + dx, y + dy\n",
    "    if not (0<=nx<N and 0<=ny<M):\n",
    "        continue\n",
    "    dice_rotates[direction-1](dice_state_hor, dice_state_ver)\n",
    "    number = mapp[nx][ny]\n",
    "    if number:\n",
    "        dice_state_ver[-1] = number\n",
    "        mapp[nx][ny] = 0\n",
    "    else:\n",
    "        mapp[nx][ny] = dice_state_ver[-1]\n",
    "        dice_state_ver[-1] = 0\n",
    "    print(dice_state_hor[1])\n",
    "    x, y = nx, ny"
   ]
  },
  {
   "cell_type": "code",
   "execution_count": 18,
   "metadata": {},
   "outputs": [],
   "source": [
    "east(dice_state_hor, dice_state_ver)"
   ]
  },
  {
   "cell_type": "code",
   "execution_count": 19,
   "metadata": {},
   "outputs": [
    {
     "data": {
      "text/plain": [
       "(deque([6, 4, 1]), deque([2, 4, 5, 3]))"
      ]
     },
     "execution_count": 19,
     "metadata": {},
     "output_type": "execute_result"
    }
   ],
   "source": [
    "dice_state_hor, dice_state_ver"
   ]
  },
  {
   "cell_type": "code",
   "execution_count": 23,
   "metadata": {},
   "outputs": [
    {
     "data": {
      "text/plain": [
       "deque([4, 1, 6])"
      ]
     },
     "execution_count": 23,
     "metadata": {},
     "output_type": "execute_result"
    }
   ],
   "source": [
    "dice_state_hor.rotate(-1)\n",
    "dice_state_hor"
   ]
  },
  {
   "cell_type": "code",
   "execution_count": null,
   "metadata": {},
   "outputs": [],
   "source": []
  }
 ],
 "metadata": {
  "kernelspec": {
   "display_name": "Python 3.8.8 ('base')",
   "language": "python",
   "name": "python3"
  },
  "language_info": {
   "codemirror_mode": {
    "name": "ipython",
    "version": 3
   },
   "file_extension": ".py",
   "mimetype": "text/x-python",
   "name": "python",
   "nbconvert_exporter": "python",
   "pygments_lexer": "ipython3",
   "version": "3.8.8"
  },
  "orig_nbformat": 4,
  "vscode": {
   "interpreter": {
    "hash": "f08154012ddadd8e950e6e9e035c7a7b32c136e7647e9b7c77e02eb723a8bedb"
   }
  }
 },
 "nbformat": 4,
 "nbformat_minor": 2
}
