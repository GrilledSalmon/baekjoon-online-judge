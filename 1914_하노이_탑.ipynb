{
 "cells": [
  {
   "cell_type": "markdown",
   "metadata": {},
   "source": [
    "# 1914 하노이 탑\n",
    "220401\n",
    "- 아이디어 : 하노이탑 문제를 맨 밑판을 옮기는 것을 기준으로 문제를 쪼개 생각한다.\n",
    "- 알고리즘 분류\n",
    "    - 임의 정밀도\n",
    "    - 큰 수 연산\n",
    "- 티어 : 실버 2"
   ]
  },
  {
   "cell_type": "code",
   "execution_count": 1,
   "metadata": {},
   "outputs": [
    {
     "name": "stdout",
     "output_type": "stream",
     "text": [
      "7\n",
      "1 3\n",
      "1 2\n",
      "3 2\n",
      "1 3\n",
      "2 1\n",
      "2 3\n",
      "1 3\n"
     ]
    }
   ],
   "source": [
    "# 1914\n",
    "N = int(input())\n",
    "\n",
    "def hanoi(n=N, start=1, end=3):\n",
    "    if n == 1:\n",
    "        print(start, end)\n",
    "        return\n",
    "    hanoi(n-1, start, 6-start-end)\n",
    "    print(start, end)\n",
    "    hanoi(n-1, 6 - start - end, end)\n",
    "    \n",
    "print(2**N - 1)\n",
    "if N <= 20:\n",
    "    hanoi()"
   ]
  },
  {
   "cell_type": "code",
   "execution_count": null,
   "metadata": {},
   "outputs": [],
   "source": []
  }
 ],
 "metadata": {
  "interpreter": {
   "hash": "8fac594bfae6525c0c41b4041d2d72effa188cc8ead05f81b1fab2bb098927fb"
  },
  "kernelspec": {
   "display_name": "Python 3.8.8 ('base')",
   "language": "python",
   "name": "python3"
  },
  "language_info": {
   "codemirror_mode": {
    "name": "ipython",
    "version": 3
   },
   "file_extension": ".py",
   "mimetype": "text/x-python",
   "name": "python",
   "nbconvert_exporter": "python",
   "pygments_lexer": "ipython3",
   "version": "3.8.8"
  },
  "orig_nbformat": 4
 },
 "nbformat": 4,
 "nbformat_minor": 2
}
