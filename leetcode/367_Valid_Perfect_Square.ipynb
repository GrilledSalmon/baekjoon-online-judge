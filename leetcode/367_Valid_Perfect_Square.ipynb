{
 "cells": [
  {
   "cell_type": "markdown",
   "metadata": {},
   "source": [
    "# 367 Valid Perfect Square\n",
    "220703"
   ]
  },
  {
   "cell_type": "code",
   "execution_count": 2,
   "metadata": {},
   "outputs": [],
   "source": [
    "class Solution:\n",
    "    def isPerfectSquare(self, num: int) -> bool:\n",
    "        if int((num**0.5))**2 == num:\n",
    "            return True\n",
    "        return False\n",
    "        "
   ]
  },
  {
   "cell_type": "code",
   "execution_count": 3,
   "metadata": {},
   "outputs": [
    {
     "data": {
      "text/plain": [
       "0.012012012012012012"
      ]
     },
     "execution_count": 3,
     "metadata": {},
     "output_type": "execute_result"
    }
   ],
   "source": [
    "4/333"
   ]
  },
  {
   "cell_type": "code",
   "execution_count": null,
   "metadata": {},
   "outputs": [],
   "source": [
    "class Solution:\n",
    "    def fractionToDecimal(self, numer: int, denom: int) -> str:\n",
    "        d = denom\n",
    "        while d % 2 == 0:\n",
    "            d //= 2\n",
    "        while d % 5 == 0:\n",
    "            d //= 5\n",
    "        if d == 1:\n",
    "            if numer%denom:\n",
    "                return str(numer/denom)\n",
    "            return str(numer//denom)\n",
    "        else:\n",
    "            n_denom = str(denom).rstrip('0')\n",
    "            l_10 = len(str(denom)) - len(n_denom)\n",
    "            n_denom = int(n_denom)\n",
    "            for i in range(1, 10**4+1):\n",
    "                temp = 10**i - 1\n",
    "                if temp % denom == 0:\n",
    "                    return str(numer//denom) + '.' + '0'*l_10 + '(' + str(numer%denom * temp//denom).zfill(i) + ')'"
   ]
  },
  {
   "cell_type": "code",
   "execution_count": 5,
   "metadata": {},
   "outputs": [
    {
     "data": {
      "text/plain": [
       "'0fa'"
      ]
     },
     "execution_count": 5,
     "metadata": {},
     "output_type": "execute_result"
    }
   ],
   "source": [
    "'fa'.zfill(3)"
   ]
  },
  {
   "cell_type": "code",
   "execution_count": null,
   "metadata": {},
   "outputs": [],
   "source": []
  }
 ],
 "metadata": {
  "kernelspec": {
   "display_name": "Python 3.8.8 ('base')",
   "language": "python",
   "name": "python3"
  },
  "language_info": {
   "codemirror_mode": {
    "name": "ipython",
    "version": 3
   },
   "file_extension": ".py",
   "mimetype": "text/x-python",
   "name": "python",
   "nbconvert_exporter": "python",
   "pygments_lexer": "ipython3",
   "version": "3.8.8"
  },
  "orig_nbformat": 4,
  "vscode": {
   "interpreter": {
    "hash": "f08154012ddadd8e950e6e9e035c7a7b32c136e7647e9b7c77e02eb723a8bedb"
   }
  }
 },
 "nbformat": 4,
 "nbformat_minor": 2
}
