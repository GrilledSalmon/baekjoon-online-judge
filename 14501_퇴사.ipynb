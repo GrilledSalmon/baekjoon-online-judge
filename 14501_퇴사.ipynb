{
 "cells": [
  {
   "cell_type": "markdown",
   "metadata": {},
   "source": [
    "# 14501 퇴사\n",
    "220622\n",
    "- 소감\n",
    "    - 빨리 gitbook 읽어야 되기도 하고 귀찮아서 대충 풀었...\n",
    "    - 1차원 dp\n",
    "- 소요 시간 : 30분\n",
    "- 알고리즘 분류 : 다이나믹 프로그래밍, 브루트포스 알고리즘\n",
    "- 티어 : 실버 3"
   ]
  },
  {
   "cell_type": "code",
   "execution_count": 2,
   "metadata": {},
   "outputs": [],
   "source": [
    "import sys\n",
    "# input = sys.stdin.readline\n",
    "N = int(input())\n",
    "counsel = []\n",
    "for _ in range(N):\n",
    "    counsel.append(tuple(map(int, input().split())))\n",
    "\n",
    "counsel.append((100, 19))\n",
    "\n",
    "# memo[i] : i일일 때 받을 수 있는 최대 금액\n",
    "memo = [None] * (N+2)\n",
    "memo[0] = 0\n",
    "memo[1] = 0\n",
    "def dp(n):\n",
    "    if memo[n] is None:\n",
    "        maxi = 0\n",
    "        for day in range(1, n+1):\n",
    "            need_day, revenue = counsel[day-1]\n",
    "            if need_day <= n - day:\n",
    "                maxi = max(maxi, revenue + dp(day))\n",
    "        memo[n] = maxi\n",
    "    return memo[n]\n",
    "\n",
    "\n",
    "print(dp(N+1))\n",
    "# print(memo)"
   ]
  },
  {
   "cell_type": "code",
   "execution_count": 3,
   "metadata": {},
   "outputs": [
    {
     "data": {
      "text/plain": [
       "[(3, 10), (5, 20), (1, 10), (1, 20), (2, 15), (4, 40), (2, 200)]"
      ]
     },
     "execution_count": 3,
     "metadata": {},
     "output_type": "execute_result"
    }
   ],
   "source": [
    "counsel"
   ]
  },
  {
   "cell_type": "code",
   "execution_count": 4,
   "metadata": {},
   "outputs": [
    {
     "name": "stdout",
     "output_type": "stream",
     "text": [
      "45\n"
     ]
    }
   ],
   "source": [
    "# memo[i] : i일일 때 받을 수 있는 최대 금액\n",
    "memo = [None] * (N+1)\n",
    "memo[0] = 0\n",
    "def dp(n):\n",
    "    if memo[n] is None:\n",
    "        maxi = 0\n",
    "        for day in range(1, n):\n",
    "            if counsel[day-1][0] <= n - day:\n",
    "                maxi = max(maxi, counsel[day-1][1] + dp(day))\n",
    "        memo[n] = maxi\n",
    "    return memo[n]\n",
    "\n",
    "print(dp(N))"
   ]
  },
  {
   "cell_type": "code",
   "execution_count": null,
   "metadata": {},
   "outputs": [],
   "source": []
  }
 ],
 "metadata": {
  "kernelspec": {
   "display_name": "Python 3.8.8 ('base')",
   "language": "python",
   "name": "python3"
  },
  "language_info": {
   "codemirror_mode": {
    "name": "ipython",
    "version": 3
   },
   "file_extension": ".py",
   "mimetype": "text/x-python",
   "name": "python",
   "nbconvert_exporter": "python",
   "pygments_lexer": "ipython3",
   "version": "3.8.8"
  },
  "orig_nbformat": 4,
  "vscode": {
   "interpreter": {
    "hash": "f08154012ddadd8e950e6e9e035c7a7b32c136e7647e9b7c77e02eb723a8bedb"
   }
  }
 },
 "nbformat": 4,
 "nbformat_minor": 2
}
