{
 "cells": [
  {
   "cell_type": "markdown",
   "metadata": {},
   "source": [
    "# 6603 로또\n",
    "220625\n",
    "- 소감\n",
    "    - itertools의 combinations를 사용했습니다.\n",
    "- 소요 시간 : 7분\n",
    "- 알고리즘 분류 : 수학, 조합론, 백트래킹, 재귀\n",
    "- 티어 : 실버 2"
   ]
  },
  {
   "cell_type": "code",
   "execution_count": null,
   "metadata": {},
   "outputs": [],
   "source": [
    "from itertools import combinations as cb\n",
    "import sys\n",
    "# input = sys.stdin.readline\n",
    "\n",
    "first = True\n",
    "while True:\n",
    "    inp = tuple(map(int, input().split()))\n",
    "    if first:\n",
    "        first = False\n",
    "    else:\n",
    "        print()\n",
    "    if inp[0] == 0:\n",
    "        break\n",
    "    k = inp[0]\n",
    "    nums = inp[1:]\n",
    "    for case in cb(nums, 6):\n",
    "        print(*case)"
   ]
  }
 ],
 "metadata": {
  "language_info": {
   "name": "python"
  },
  "orig_nbformat": 4
 },
 "nbformat": 4,
 "nbformat_minor": 2
}
