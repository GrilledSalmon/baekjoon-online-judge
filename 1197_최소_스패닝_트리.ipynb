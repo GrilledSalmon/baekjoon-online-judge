{
 "cells": [
  {
   "cell_type": "markdown",
   "metadata": {},
   "source": [
    "# 1197 최소 스패닝 트리\n",
    "220415\n",
    "- 소감 : 이 문제 덕분에 스패닝 트리가 뭔지, 그 중에 최소 스패닝 트리(MST)가 뭔지, 그리고 MST를 구하려면 어떻게 해야하는지, Kruskal 알고리즘이 뭔지, Union-Find 알고리즘은 정확하게 뭔지 공부하고 정리하게 됐다. 노션에 정리해놨다.\n",
    "- 아이디어 : Kruskal 알고리즘을 사용한다.\n",
    "- 알고리즘 분류\n",
    "    - 그래프 이론\n",
    "    - 최소 스패닝 트리\n",
    "- 티어 : 골드 4"
   ]
  },
  {
   "cell_type": "code",
   "execution_count": 1,
   "metadata": {},
   "outputs": [
    {
     "name": "stdout",
     "output_type": "stream",
     "text": [
      "3\n"
     ]
    }
   ],
   "source": [
    "# 1197 최소 스패닝 트리\n",
    "import sys\n",
    "# input = sys.stdin.readline\n",
    "\n",
    "V, E = map(int, input().split())\n",
    "edge_list = [tuple(map(int, input().split())) for _ in range(E)]\n",
    "edge_list.sort(key=lambda x:x[2]) # 가중치에 대해 오름차순 정렬\n",
    "\n",
    "# Union-Find\n",
    "group_info = list(range(V+1))\n",
    "def find_group(node):\n",
    "    \"\"\"node가 속한 그룹을 리턴하고 그룹 관계를 최적화해줌(노드의 그룹명을 대빵에 맞게 바꿔줌)\"\"\"\n",
    "    if group_info[node] == node: # 그룹의 대표 노드이면\n",
    "        return node\n",
    "    group_info[node] = find_group(group_info[node])\n",
    "    return group_info[node]\n",
    "\n",
    "def union(node_1, node_2):\n",
    "    \"\"\"node_1과 node_2의 그룹을 합쳐줌\"\"\"\n",
    "    group_1 = find_group(node_1)\n",
    "    group_2 = find_group(node_2)\n",
    "    if group_1 > group_2: # 더 작은 그룹명을 따라주기 위해\n",
    "        group_1, group_2 = group_2, group_1\n",
    "    group_info[group_2] = group_1 # 그룹의 대빵을 갈아끼워줌\n",
    "\n",
    "# Kruscal\n",
    "total_cost, edge_cnt = 0, 0\n",
    "for a, b, cost in edge_list:\n",
    "    if find_group(a) != find_group(b): # 그룹이 다르면(같으면 사이클)\n",
    "        union(a, b)\n",
    "        total_cost += cost\n",
    "        edge_cnt += 1\n",
    "        if edge_cnt == V-1: # 엣지를 전부 찾았으면\n",
    "            break\n",
    "\n",
    "print(total_cost)"
   ]
  }
 ],
 "metadata": {
  "interpreter": {
   "hash": "8fac594bfae6525c0c41b4041d2d72effa188cc8ead05f81b1fab2bb098927fb"
  },
  "kernelspec": {
   "display_name": "Python 3.8.8 ('base')",
   "language": "python",
   "name": "python3"
  },
  "language_info": {
   "codemirror_mode": {
    "name": "ipython",
    "version": 3
   },
   "file_extension": ".py",
   "mimetype": "text/x-python",
   "name": "python",
   "nbconvert_exporter": "python",
   "pygments_lexer": "ipython3",
   "version": "3.8.8"
  },
  "orig_nbformat": 4
 },
 "nbformat": 4,
 "nbformat_minor": 2
}
