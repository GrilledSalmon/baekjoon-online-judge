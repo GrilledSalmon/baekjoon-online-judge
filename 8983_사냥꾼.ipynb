{
 "cells": [
  {
   "cell_type": "markdown",
   "metadata": {},
   "source": [
    "# 8983 사냥꾼\n",
    "220408\n",
    "- 알고리즘 분류\n",
    "    - 정렬\n",
    "    - 이분 탐색\n",
    "    - 두 포인터\n",
    "- 티어 : 골드 4"
   ]
  },
  {
   "cell_type": "code",
   "execution_count": 1,
   "metadata": {},
   "outputs": [
    {
     "name": "stdout",
     "output_type": "stream",
     "text": [
      "6\n"
     ]
    }
   ],
   "source": [
    "# 8983 사냥꾼\n",
    "import sys\n",
    "# input = sys.stdin.readline\n",
    "\n",
    "M, N, L = map(int, input().split())\n",
    "sadae = sorted(map(int, input().split()))\n",
    "animal_coords = [tuple(map(int, input().split())) for _ in range(N)]\n",
    "\n",
    "def dist(x_hunter, animal_coord):\n",
    "    return abs(x_hunter - animal_coord[0]) + animal_coord[1]\n",
    "\n",
    "def search_closest_sadae(target):\n",
    "    \"\"\"동물의 x좌표와 가장 가까운 사대의 x좌표 리턴\n",
    "    target은 x_animal을 의미\"\"\"\n",
    "    x_start = 0\n",
    "    x_end = M-1\n",
    "    while True:\n",
    "        mid = (x_start + x_end) // 2\n",
    "        val = sadae[mid]\n",
    "        if target == val:\n",
    "            return target\n",
    "        if x_start == x_end:\n",
    "            break\n",
    "\n",
    "        if val > target:\n",
    "            x_end = mid\n",
    "        else:\n",
    "            x_start = mid + 1\n",
    "    if val > target:\n",
    "        if x_start == 0:\n",
    "            return val\n",
    "        return min([val, sadae[x_start-1]], key=lambda x: abs(x-target))\n",
    "    else:\n",
    "        if x_start == M-1:\n",
    "            return val\n",
    "        return min([val, sadae[x_start+1]], key=lambda x: abs(x-target))\n",
    "\n",
    "ans = 0\n",
    "for x_animal, y_animal in animal_coords:\n",
    "    closest_sadae = search_closest_sadae(x_animal)\n",
    "    if dist(closest_sadae, (x_animal, y_animal)) <= L:\n",
    "        ans += 1\n",
    "print(ans)"
   ]
  }
 ],
 "metadata": {
  "interpreter": {
   "hash": "8fac594bfae6525c0c41b4041d2d72effa188cc8ead05f81b1fab2bb098927fb"
  },
  "kernelspec": {
   "display_name": "Python 3.8.8 ('base')",
   "language": "python",
   "name": "python3"
  },
  "language_info": {
   "codemirror_mode": {
    "name": "ipython",
    "version": 3
   },
   "file_extension": ".py",
   "mimetype": "text/x-python",
   "name": "python",
   "nbconvert_exporter": "python",
   "pygments_lexer": "ipython3",
   "version": "3.8.8"
  },
  "orig_nbformat": 4
 },
 "nbformat": 4,
 "nbformat_minor": 2
}
