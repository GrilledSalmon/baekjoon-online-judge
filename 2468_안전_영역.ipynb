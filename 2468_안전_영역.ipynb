{
 "cells": [
  {
   "cell_type": "markdown",
   "metadata": {},
   "source": [
    "# 2468 안전 영역\n",
    "220406\n",
    "- 알고리즘 분류\n",
    "    - 그래프 이론\n",
    "    - 브루트포스 알고리즘\n",
    "    - 그래프 탐색\n",
    "    - 너비 우선 탐색\n",
    "    - 깊이 우선 탐색\n",
    "- 티어 : 실버 1"
   ]
  },
  {
   "cell_type": "code",
   "execution_count": 1,
   "metadata": {},
   "outputs": [],
   "source": [
    "import sys\n",
    "# input = sys.stdin.readline\n",
    "N = int(input())\n",
    "region = [list(map(int, input().split())) for _ in range(N)]\n",
    "\n",
    "from collections import deque\n",
    "\n",
    "mini = min([min(line) for line in region])\n",
    "maxi = max([max(line) for line in region])\n",
    "\n",
    "ans = 1\n",
    "for level in range(mini, maxi): # 수위\n",
    "    visited = [[0]*N for _ in range(N)]\n",
    "    region_cnt = 0\n",
    "    for row in range(N):\n",
    "        for col in range(N):\n",
    "            if not visited[row][col] and region[row][col] > level:\n",
    "                # BFS\n",
    "                region_cnt += 1\n",
    "                queue = deque([(row, col)])\n",
    "                while queue:\n",
    "                    now_row, now_col = queue.popleft()\n",
    "                    visited[now_row][now_col] = 1\n",
    "                    for adj_row, adj_col in ((now_row+1, now_col), (now_row, now_col+1), (now_row-1, now_col), (now_row, now_col-1)):\n",
    "                        if 0<=adj_row<=N-1 and 0<=adj_col<=N-1 and not visited[adj_row][adj_col] and region[adj_row][adj_col] > level:\n",
    "                            queue.append((adj_row, adj_col))\n",
    "                            visited[adj_row][adj_col] = 1\n",
    "    if region_cnt > ans:\n",
    "        ans = region_cnt\n",
    "print(ans)\n"
   ]
  },
  {
   "cell_type": "code",
   "execution_count": 2,
   "metadata": {},
   "outputs": [
    {
     "data": {
      "text/plain": [
       "[[6, 8, 2, 6, 2],\n",
       " [3, 2, 3, 4, 6],\n",
       " [6, 7, 3, 3, 2],\n",
       " [7, 2, 5, 3, 6],\n",
       " [8, 9, 5, 2, 7]]"
      ]
     },
     "execution_count": 2,
     "metadata": {},
     "output_type": "execute_result"
    }
   ],
   "source": [
    "region"
   ]
  },
  {
   "cell_type": "code",
   "execution_count": 10,
   "metadata": {},
   "outputs": [
    {
     "name": "stdout",
     "output_type": "stream",
     "text": [
      "5\n"
     ]
    }
   ],
   "source": [
    "from copy import deepcopy\n",
    "from collections import deque\n",
    "\n",
    "mini = min([min(line) for line in region])\n",
    "maxi = max([max(line) for line in region])\n",
    "\n",
    "ans = 0\n",
    "for level in range(mini+1, maxi): # 수위\n",
    "    visited = [[0]*N for _ in range(N)]\n",
    "    region_cnt = 0\n",
    "    for row in range(N):\n",
    "        for col in range(N):\n",
    "            if not visited[row][col] and region[row][col] > level:\n",
    "                # BFS\n",
    "                region_cnt += 1\n",
    "                queue = deque([(row, col)])\n",
    "                while queue:\n",
    "                    now_row, now_col = queue.popleft()\n",
    "                    visited[now_row][now_col] = 1\n",
    "                    for adj_row, adj_col in ((now_row+1, now_col), (now_row, now_col+1), (now_row-1, now_col), (now_row, now_col-1)):\n",
    "                        if 0<=adj_row<=N-1 and 0<=adj_col<=N-1 and not visited[adj_row][adj_col] and region[adj_row][adj_col] > level:\n",
    "                            queue.append((adj_row, adj_col))\n",
    "                            visited[adj_row][adj_col] = 1\n",
    "            if region_cnt > ans:\n",
    "                ans = region_cnt\n",
    "print(ans)\n"
   ]
  },
  {
   "cell_type": "code",
   "execution_count": 8,
   "metadata": {},
   "outputs": [
    {
     "data": {
      "text/plain": [
       "deque([1, 2])"
      ]
     },
     "execution_count": 8,
     "metadata": {},
     "output_type": "execute_result"
    }
   ],
   "source": [
    "deque((1, 2))"
   ]
  },
  {
   "cell_type": "code",
   "execution_count": null,
   "metadata": {},
   "outputs": [],
   "source": []
  }
 ],
 "metadata": {
  "interpreter": {
   "hash": "8fac594bfae6525c0c41b4041d2d72effa188cc8ead05f81b1fab2bb098927fb"
  },
  "kernelspec": {
   "display_name": "Python 3.8.8 ('base')",
   "language": "python",
   "name": "python3"
  },
  "language_info": {
   "codemirror_mode": {
    "name": "ipython",
    "version": 3
   },
   "file_extension": ".py",
   "mimetype": "text/x-python",
   "name": "python",
   "nbconvert_exporter": "python",
   "pygments_lexer": "ipython3",
   "version": "3.8.8"
  },
  "orig_nbformat": 4
 },
 "nbformat": 4,
 "nbformat_minor": 2
}
