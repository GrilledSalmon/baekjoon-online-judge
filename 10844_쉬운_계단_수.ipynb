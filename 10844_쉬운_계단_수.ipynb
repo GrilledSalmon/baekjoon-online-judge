{
 "cells": [
  {
   "cell_type": "markdown",
   "metadata": {},
   "source": [
    "# 10844 쉬운 계단 수\n",
    "220427\n",
    "- 알고리즘 분류\n",
    "    - 다이나믹 프로그래밍\n",
    "- 티어 : 실버 1"
   ]
  },
  {
   "cell_type": "code",
   "execution_count": 43,
   "metadata": {},
   "outputs": [
    {
     "name": "stdout",
     "output_type": "stream",
     "text": [
      "18404112\n"
     ]
    }
   ],
   "source": [
    "N = int(input())\n",
    "\n",
    "memo = [[None]*10 for _ in range(N)]\n",
    "\n",
    "def dp(n, depth=N-1):\n",
    "    if memo[depth][n] is None:\n",
    "        if depth == 0:\n",
    "            if n == 0:\n",
    "                memo[depth][n] = 0\n",
    "            else:\n",
    "                memo[depth][n] = 1\n",
    "        else:\n",
    "            if n == 0:\n",
    "                memo[depth][n] = dp(n+1, depth-1)\n",
    "            elif n == 9:\n",
    "                memo[depth][n] = dp(n-1, depth-1)\n",
    "            else:\n",
    "                memo[depth][n] = dp(n+1, depth-1) + dp(n-1, depth-1)\n",
    "    return memo[depth][n]\n",
    "\n",
    "ans = 0\n",
    "for n in range(10):\n",
    "    ans += dp(n)\n",
    "\n",
    "print(ans%10**9)"
   ]
  },
  {
   "cell_type": "code",
   "execution_count": 16,
   "metadata": {},
   "outputs": [
    {
     "name": "stdout",
     "output_type": "stream",
     "text": [
      "9\n"
     ]
    }
   ],
   "source": [
    "# 시간초과 날 게 뻔함\n",
    "N = int(input())\n",
    "\n",
    "stair_num_cnt = 0\n",
    "\n",
    "def dfs(n, depth=1):\n",
    "    global stair_num_cnt\n",
    "    if depth == N:\n",
    "        stair_num_cnt += 1\n",
    "        return\n",
    "    if n == 0:\n",
    "        dfs(n+1, depth + 1)\n",
    "    elif n == 9:\n",
    "        dfs(n-1, depth + 1)\n",
    "    else:\n",
    "        dfs(n-1, depth+1)\n",
    "        dfs(n+1, depth+1)\n",
    "\n",
    "for n in range(1, 10):\n",
    "    dfs(n)\n",
    "\n",
    "print(stair_num_cnt)"
   ]
  },
  {
   "cell_type": "code",
   "execution_count": 42,
   "metadata": {},
   "outputs": [
    {
     "name": "stdout",
     "output_type": "stream",
     "text": [
      "1556\n"
     ]
    }
   ],
   "source": [
    "N = int(input())\n",
    "\n",
    "memo = [[None]*10 for _ in range(N)]\n",
    "\n",
    "def dp(n, depth=N-1):\n",
    "    if memo[depth][n] is None:\n",
    "        if depth == 0:\n",
    "            if n == 0:\n",
    "                memo[depth][n] = 0\n",
    "            else:\n",
    "                memo[depth][n] = 1\n",
    "        else:\n",
    "            if n == 0:\n",
    "                memo[depth][n] = dp(n+1, depth-1)\n",
    "            elif n == 9:\n",
    "                memo[depth][n] = dp(n-1, depth-1)\n",
    "            else:\n",
    "                memo[depth][n] = dp(n+1, depth-1) + dp(n-1, depth-1)\n",
    "    return memo[depth][n]\n",
    "\n",
    "ans = 0\n",
    "for n in range(10):\n",
    "    ans += dp(n)\n",
    "\n",
    "print(ans%10**9)"
   ]
  },
  {
   "cell_type": "code",
   "execution_count": 32,
   "metadata": {},
   "outputs": [
    {
     "name": "stdout",
     "output_type": "stream",
     "text": [
      "1 : 9\n",
      "2 : 17\n",
      "3 : 32\n",
      "4 : 61\n",
      "5 : 116\n",
      "6 : 222\n",
      "7 : 424\n",
      "8 : 813\n",
      "9 : 1556\n"
     ]
    }
   ],
   "source": [
    "def solve(N):\n",
    "    def dfs(n, depth=1):\n",
    "        global stair_num_cnt\n",
    "        if depth == N:\n",
    "            stair_num_cnt += 1\n",
    "            return\n",
    "        if n == 0:\n",
    "            dfs(n+1, depth + 1)\n",
    "        elif n == 9:\n",
    "            dfs(n-1, depth + 1)\n",
    "        else:\n",
    "            dfs(n-1, depth + 1)\n",
    "            dfs(n+1, depth + 1)\n",
    "\n",
    "    for n in range(1, 10):\n",
    "        dfs(n)\n",
    "\n",
    "    print(N, ':', stair_num_cnt)\n",
    "    return stair_num_cnt\n",
    "\n",
    "prev = 9\n",
    "for i in range(1, 10):\n",
    "    stair_num_cnt = 0\n",
    "    solve(i)"
   ]
  },
  {
   "cell_type": "code",
   "execution_count": null,
   "metadata": {},
   "outputs": [],
   "source": []
  }
 ],
 "metadata": {
  "interpreter": {
   "hash": "8fac594bfae6525c0c41b4041d2d72effa188cc8ead05f81b1fab2bb098927fb"
  },
  "kernelspec": {
   "display_name": "Python 3.8.8 ('base')",
   "language": "python",
   "name": "python3"
  },
  "language_info": {
   "codemirror_mode": {
    "name": "ipython",
    "version": 3
   },
   "file_extension": ".py",
   "mimetype": "text/x-python",
   "name": "python",
   "nbconvert_exporter": "python",
   "pygments_lexer": "ipython3",
   "version": "3.8.8"
  },
  "orig_nbformat": 4
 },
 "nbformat": 4,
 "nbformat_minor": 2
}
