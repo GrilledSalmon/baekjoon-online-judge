{
 "cells": [
  {
   "cell_type": "markdown",
   "metadata": {},
   "source": [
    "# 17298 오큰수\n",
    "211230\n",
    "- 소감 : 자료구조 공부한 기념으로 단계별 문제 풀기 중에 stack에서 한 문제가 안 풀려 있어서 풀었다. 잘 푼듯?! 아이디어를 생각하는 데 30분 정도 걸렸고, 구현하는 것까지 포함해 총 1시간 10분 걸렸다. 다만, stack 유형이란 걸 알고 풀어서 좀 금방 해결한 것도 있을듯.\n",
    "- 풀이\n",
    "    - 일단 손으로 긴 예제를 만들어서 풀어본다. 잘 생각해보면 O(1)으로 풀 수 있다.\n",
    "    - 처음부터 숫자 리스트를 쭉 읽는데, 현재 읽고 있는 값과 다음 값의 크기를 비교하고 경우에 따라 어떻게 해야 할지 생각한다.\n",
    "    - 바로 다음 값이 더 큰 경우엔 그 값이 정답이 된다. 더 작은 경우엔 stack에 쌓아준다.\n",
    "- 알고리즘 분류\n",
    "    - 자료 구조\n",
    "    - 스택\n",
    "- 티어 : 골드 4"
   ]
  },
  {
   "cell_type": "code",
   "execution_count": 10,
   "metadata": {},
   "outputs": [
    {
     "name": "stdout",
     "output_type": "stream",
     "text": [
      "-1 8 8 -1\n"
     ]
    }
   ],
   "source": [
    "N = int(input())\n",
    "num_list = list(map(int, input().split()))\n",
    "\n",
    "stack = [(10**7, None)] # stack이 비어 있는 경우 에러가 나서\n",
    "ans_list = [-1] * N\n",
    "now = num_list[0]\n",
    "\n",
    "for i in range(N):\n",
    "    try:\n",
    "        next = num_list[i+1]\n",
    "    except: break\n",
    "\n",
    "    # 현재 값이 다음 값보다 작은 경우\n",
    "    if now < next:\n",
    "        ans_list[i] = next\n",
    "        \n",
    "        while True:\n",
    "            comp = stack[-1] # stack의 마지막 값\n",
    "            \n",
    "            # next가 stack에 있는 값보다 큰 경우\n",
    "            if comp[0] < next:\n",
    "                ans_list[comp[1]] = next # 정답에 반영\n",
    "                stack.pop() # 마지막 값 제거\n",
    "            \n",
    "            # next가 stack에 있는 값보다 작거나 같은 경우\n",
    "            else:\n",
    "                stack.append((next, i+1))\n",
    "                break\n",
    "\n",
    "    # 현재 값이 다음 값보다 큰 경우                \n",
    "    else:\n",
    "        stack.append((now, i))\n",
    "\n",
    "    now = next\n",
    "\n",
    "print(' '.join(map(str, ans_list)))"
   ]
  },
  {
   "cell_type": "code",
   "execution_count": 2,
   "metadata": {},
   "outputs": [
    {
     "data": {
      "text/plain": [
       "(11, [1, 8, 6, 5, 6, 9, 2, 6, 4, 5, 10])"
      ]
     },
     "execution_count": 2,
     "metadata": {},
     "output_type": "execute_result"
    }
   ],
   "source": [
    "N, num_list"
   ]
  },
  {
   "cell_type": "code",
   "execution_count": 8,
   "metadata": {},
   "outputs": [
    {
     "name": "stdout",
     "output_type": "stream",
     "text": [
      "8 9 9 6 9 10 6 10 5 10 -1\n"
     ]
    }
   ],
   "source": [
    "stack = [(10**7, None)]\n",
    "ans_list = [-1] * N\n",
    "now = num_list[0]\n",
    "\n",
    "for i in range(N):\n",
    "    try:\n",
    "        next = num_list[i+1]\n",
    "    except: break\n",
    "\n",
    "    # 현재 값이 다음 값보다 작은 경우\n",
    "    if now < next:\n",
    "        ans_list[i] = next\n",
    "        \n",
    "        while True:\n",
    "            comp = stack[-1] # stack의 마지막 값\n",
    "            \n",
    "            # next가 stack에 있는 값보다 큰 경우\n",
    "            if comp[0] < next:\n",
    "                ans_list[comp[1]] = next # 정답에 반영\n",
    "                stack.pop() # 마지막 값 제거\n",
    "            \n",
    "            # next가 stack에 있는 값보다 작거나 같은 경우\n",
    "            else:\n",
    "                stack.append((next, i+1))\n",
    "                break\n",
    "\n",
    "    # 현재 값이 다음 값보다 큰 경우                \n",
    "    else:\n",
    "        stack.append((now, i))\n",
    "\n",
    "    now = next\n",
    "\n",
    "print(' '.join(map(str, ans_list)))"
   ]
  },
  {
   "cell_type": "code",
   "execution_count": null,
   "metadata": {},
   "outputs": [],
   "source": []
  }
 ],
 "metadata": {
  "interpreter": {
   "hash": "c798a043d5b26db4ea8dc684fe25ec244835432adc5539bce2de618403b1d63c"
  },
  "kernelspec": {
   "display_name": "Python 3.8.5 64-bit ('base': conda)",
   "language": "python",
   "name": "python3"
  },
  "language_info": {
   "codemirror_mode": {
    "name": "ipython",
    "version": 3
   },
   "file_extension": ".py",
   "mimetype": "text/x-python",
   "name": "python",
   "nbconvert_exporter": "python",
   "pygments_lexer": "ipython3",
   "version": "3.8.5"
  },
  "orig_nbformat": 4
 },
 "nbformat": 4,
 "nbformat_minor": 2
}
