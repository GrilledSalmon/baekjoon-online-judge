{
 "cells": [
  {
   "cell_type": "markdown",
   "metadata": {},
   "source": [
    "# 19939 박 터뜨리기\n",
    "211224\n",
    "- 소감 : 겜하면서 풀었는데 생각보다 잘 풀었당. 생각없이 풀면 시간제한에 걸리기 좋은 문제\n",
    "- 알고리즘 분류\n",
    "    - 수학\n",
    "    - 그리디 알고리즘\n",
    "- 티어 : 실버 5\n"
   ]
  },
  {
   "cell_type": "code",
   "execution_count": 20,
   "metadata": {},
   "outputs": [
    {
     "name": "stdout",
     "output_type": "stream",
     "text": [
      "2\n"
     ]
    }
   ],
   "source": [
    "N, K = map(int, input().split())\n",
    "\n",
    "def sn(n):\n",
    "    return n*(n+1)//2\n",
    "\n",
    "if sn(K) > N:\n",
    "    print(-1)\n",
    "else:\n",
    "    n = (N - (K**2 - K)//2) % K\n",
    "    if n == 0:\n",
    "        print(K-1)\n",
    "    else:\n",
    "        print(K)"
   ]
  },
  {
   "cell_type": "code",
   "execution_count": 16,
   "metadata": {},
   "outputs": [
    {
     "data": {
      "text/plain": [
       "(6, 3)"
      ]
     },
     "execution_count": 16,
     "metadata": {},
     "output_type": "execute_result"
    }
   ],
   "source": [
    "N, K"
   ]
  },
  {
   "cell_type": "code",
   "execution_count": 18,
   "metadata": {},
   "outputs": [
    {
     "name": "stdout",
     "output_type": "stream",
     "text": [
      "2\n"
     ]
    }
   ],
   "source": [
    "def sn(n):\n",
    "    return n*(n+1)//2\n",
    "\n",
    "if sn(K) > N:\n",
    "    print(-1)\n",
    "else:\n",
    "    n = (N - (K**2 - K)//2) % K\n",
    "    if n == 0:\n",
    "        print(K-1)\n",
    "    else:\n",
    "        print(K)"
   ]
  },
  {
   "cell_type": "code",
   "execution_count": 13,
   "metadata": {},
   "outputs": [
    {
     "name": "stdout",
     "output_type": "stream",
     "text": [
      "3\n",
      "6\n",
      "9\n",
      "12\n",
      "15\n",
      "18\n",
      "21\n",
      "24\n",
      "27\n",
      "30\n"
     ]
    }
   ],
   "source": [
    "def border(n):\n",
    "    return n * K + (K**2 - K)//2\n",
    "\n",
    "for i in range(10):\n",
    "    print(border(i))\n",
    "\n"
   ]
  },
  {
   "cell_type": "code",
   "execution_count": null,
   "metadata": {},
   "outputs": [],
   "source": []
  }
 ],
 "metadata": {
  "interpreter": {
   "hash": "c798a043d5b26db4ea8dc684fe25ec244835432adc5539bce2de618403b1d63c"
  },
  "kernelspec": {
   "display_name": "Python 3.8.5 64-bit ('base': conda)",
   "language": "python",
   "name": "python3"
  },
  "language_info": {
   "codemirror_mode": {
    "name": "ipython",
    "version": 3
   },
   "file_extension": ".py",
   "mimetype": "text/x-python",
   "name": "python",
   "nbconvert_exporter": "python",
   "pygments_lexer": "ipython3",
   "version": "3.8.5"
  },
  "orig_nbformat": 4
 },
 "nbformat": 4,
 "nbformat_minor": 2
}
