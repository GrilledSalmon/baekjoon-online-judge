{
 "cells": [
  {
   "cell_type": "markdown",
   "metadata": {},
   "source": [
    "# 6549 히스토그램에서 가장 큰 직사각형\n",
    "220409\n",
    "- 소감 : 하다가 미쳐버리는줄... Divide & Conquer 단원이라 그걸로 풀긴 했는데, 다시 보니 deque로 풀 수 있을 것 같기도 하다..\n",
    "- 아이디어 : 일단 분할을 한다. 그리고 left와 right를 합칠 때 left에서 증가하는 부분, right에서 감소하는 부분을 찾아서 둘의 비교를 통해 최대 넓이를 갱신해준다.\n",
    "- 알고리즘 분류\n",
    "    - 자료 구조\n",
    "    - 세그먼트 트리\n",
    "    - 분할 정복\n",
    "    - 스택\n",
    "- 티어 : 플레티넘 5"
   ]
  },
  {
   "cell_type": "code",
   "execution_count": 2,
   "metadata": {},
   "outputs": [
    {
     "name": "stdout",
     "output_type": "stream",
     "text": [
      "8\n",
      "4000\n"
     ]
    }
   ],
   "source": [
    "# 6549 히스토그램에서 가장 큰 직사각형\n",
    "def find_increasing(start, end, reverse=False):\n",
    "    \"\"\"start부터 end까지 증가하는 부분의 인덱스들을 리턴.\n",
    "    reverse=True end부터 start까지 증가하는 부분의 인덱스들을 리턴\"\"\"\n",
    "    if not reverse:\n",
    "        stack = [start]\n",
    "    else:\n",
    "        stack = [end]\n",
    "    for i in range(1, end-start+1):\n",
    "        now_ind = (1-reverse)*(start+i) + reverse*(end - i)\n",
    "        now_val = H[now_ind]\n",
    "        if H[stack[-1]] <= now_val:\n",
    "            stack.append(now_ind)\n",
    "        else:\n",
    "            while stack and H[stack[-1]] > now_val:\n",
    "                stack.pop()\n",
    "            stack.append(now_ind)\n",
    "    return stack\n",
    "\n",
    "def merge(left : list, right : list, start:int, end:int)->None:\n",
    "    \"\"\"투 포인터 사용. left와 right를 합쳤을 때 생기는 가장 큰 직사각형 넓이 갱신\n",
    "    in - left : 오름차순인 직사각형의 인덱스 담긴 리스트\n",
    "    - right : 내림차순인 직사각형의 인덱스가 담긴 리스트\n",
    "    out - None\"\"\"\n",
    "    p1, p2 = 0, 0\n",
    "    flag1, flag2 = True, True\n",
    "    left_wall, right_wall = start - 1, end + 1\n",
    "    while flag1 or flag2:\n",
    "        if flag2 and (not flag1 or H[left[p1]] >= H[right[p2]]): # 오른쪽이 더 작은 경우\n",
    "            height = H[right[p2]]\n",
    "            width = right_wall - left_wall - 1\n",
    "            right_wall = right[p2]\n",
    "            if p2 != len(right)-1:\n",
    "                p2 += 1\n",
    "            else: flag2 = False\n",
    "            \n",
    "        else:\n",
    "            height = H[left[p1]]\n",
    "            width = right_wall - left_wall - 1\n",
    "            left_wall = left[p1]\n",
    "            if p1 != len(left)-1:\n",
    "                p1 += 1\n",
    "            else: flag1 = False\n",
    "\n",
    "        area = height * width\n",
    "        if area > max_area[0]:\n",
    "            max_area[0] = area\n",
    "\n",
    "def divide_n_conquer(start, end):\n",
    "    \"\"\"start부터 end 구간의 최대 직사각형 넓이를 갱신해줌\"\"\"\n",
    "    if start == end:\n",
    "        if max_area[0] < H[start]:\n",
    "            max_area[0] = H[start]\n",
    "    else:\n",
    "        mid = (start + end) // 2\n",
    "        divide_n_conquer(start, mid)\n",
    "        divide_n_conquer(mid+1, end)\n",
    "\n",
    "        left = find_increasing(start, mid)\n",
    "        right = find_increasing(mid+1, end, reverse=True)\n",
    "        \n",
    "        merge(left, right, start, end)\n",
    "\n",
    "while True:\n",
    "    inp = list(map(int, input().split()))\n",
    "    if inp[0] == 0:\n",
    "        break\n",
    "    n = inp[0]\n",
    "    H = inp[1:]\n",
    "\n",
    "    max_area = [0]\n",
    "\n",
    "    divide_n_conquer(0, n-1)\n",
    "    print(max_area[0])"
   ]
  },
  {
   "cell_type": "code",
   "execution_count": 26,
   "metadata": {},
   "outputs": [
    {
     "name": "stdout",
     "output_type": "stream",
     "text": [
      "8\n",
      "4000\n"
     ]
    }
   ],
   "source": [
    "from collections import deque\n",
    "\n",
    "def find_max_area(H):\n",
    "    queue = deque([H[0]])\n",
    "    for i in range(1, n):\n",
    "        # print(queue)\n",
    "        if queue[-1] <= H[i]:\n",
    "            queue.append(H[i])\n",
    "        else:\n",
    "            while queue and queue[-1] > H[i]:\n",
    "                width = len(queue)\n",
    "                height = queue.popleft()\n",
    "                area = width * height\n",
    "                # print(height, width)\n",
    "                if area > max_area[0]:\n",
    "                    max_area[0] = area\n",
    "            queue.append(H[i])\n",
    "    # print('-------')\n",
    "    # print(queue)\n",
    "    while queue:\n",
    "        width = len(queue)\n",
    "        height = queue.popleft()\n",
    "        area = width * height\n",
    "        # print(height, width)\n",
    "        if area > max_area[0]:\n",
    "            max_area[0] = area\n",
    "\n",
    "while True:\n",
    "    inp = list(map(int, input().split()))\n",
    "    if inp[0] == 0:\n",
    "        break\n",
    "    n = inp[0]\n",
    "    H = inp[1:]\n",
    "    max_area = [0]\n",
    "\n",
    "    find_max_area(H)\n",
    "    find_max_area(H[::-1])\n",
    "    print(max_area[0])    "
   ]
  },
  {
   "cell_type": "code",
   "execution_count": 27,
   "metadata": {},
   "outputs": [],
   "source": [
    "from collections import deque\n",
    "inp = list(map(int, input().split()))\n",
    "n = inp[0]\n",
    "H = inp[1:]"
   ]
  },
  {
   "cell_type": "code",
   "execution_count": 28,
   "metadata": {},
   "outputs": [
    {
     "name": "stdout",
     "output_type": "stream",
     "text": [
      "12\n"
     ]
    }
   ],
   "source": [
    "max_area = [0]\n",
    "def find_max_area(H):\n",
    "    queue = deque([H[0]])\n",
    "    for i in range(1, n):\n",
    "        # print(queue)\n",
    "        if queue[-1] <= H[i]:\n",
    "            queue.append(H[i])\n",
    "        else:\n",
    "            while queue and queue[-1] > H[i]:\n",
    "                width = len(queue)\n",
    "                height = queue.popleft()\n",
    "                area = width * height\n",
    "                # print(height, width)\n",
    "                if area > max_area[0]:\n",
    "                    max_area[0] = area\n",
    "            queue.append(H[i])\n",
    "    # print('-------')\n",
    "    # print(queue)\n",
    "    while queue:\n",
    "        width = len(queue)\n",
    "        height = queue.popleft()\n",
    "        area = width * height\n",
    "        # print(height, width)\n",
    "        if area > max_area[0]:\n",
    "            max_area[0] = area\n",
    "\n",
    "find_max_area(H)\n",
    "find_max_area(H[::-1])\n",
    "print(max_area[0])"
   ]
  },
  {
   "cell_type": "code",
   "execution_count": 15,
   "metadata": {},
   "outputs": [
    {
     "data": {
      "text/plain": [
       "(7, [2, 1, 4, 5, 1, 3, 3])"
      ]
     },
     "execution_count": 15,
     "metadata": {},
     "output_type": "execute_result"
    }
   ],
   "source": [
    "n, H"
   ]
  },
  {
   "cell_type": "code",
   "execution_count": null,
   "metadata": {},
   "outputs": [],
   "source": []
  }
 ],
 "metadata": {
  "interpreter": {
   "hash": "8fac594bfae6525c0c41b4041d2d72effa188cc8ead05f81b1fab2bb098927fb"
  },
  "kernelspec": {
   "display_name": "Python 3.8.8 ('base')",
   "language": "python",
   "name": "python3"
  },
  "language_info": {
   "codemirror_mode": {
    "name": "ipython",
    "version": 3
   },
   "file_extension": ".py",
   "mimetype": "text/x-python",
   "name": "python",
   "nbconvert_exporter": "python",
   "pygments_lexer": "ipython3",
   "version": "3.8.8"
  },
  "orig_nbformat": 4
 },
 "nbformat": 4,
 "nbformat_minor": 2
}
