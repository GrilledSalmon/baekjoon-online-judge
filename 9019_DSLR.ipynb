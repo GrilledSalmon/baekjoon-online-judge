{
 "cells": [
  {
   "cell_type": "markdown",
   "metadata": {},
   "source": [
    "# 9019 DSLR\n",
    "220228\n",
    "- 소감 : DP를 BFS를 이용해 푸는 듯한 느낌의 문제. BFS가 이렇게도 쓰일 수 있구나.. 다만 상귀권 풀이들에 비해 꽤 느려서 확인해봤는데, 나처럼 visited에 전체 문자를 저장하는 게 아니라 다른 풀이는 predecessor를 저장하고 visited에 각 숫자마다 사용된 연산을 정의해서 시간을 좀 줄였다.\n",
    "- 알고리즘 분류\n",
    "    - 그래프 이론\n",
    "    - 그래프 탐색\n",
    "    - 너비 우선 탐색\n",
    "- 티어 : 골드 4"
   ]
  },
  {
   "cell_type": "code",
   "execution_count": 23,
   "metadata": {},
   "outputs": [
    {
     "name": "stdout",
     "output_type": "stream",
     "text": [
      "LL\n",
      "L\n",
      "DDDD\n"
     ]
    }
   ],
   "source": [
    "from collections import deque\n",
    "import sys\n",
    "# input = sys.stdin.readline\n",
    "\n",
    "def D(n):\n",
    "    return 2*n % 10000\n",
    "\n",
    "def S(n):\n",
    "    if n == 0:\n",
    "        return 9999\n",
    "    return n-1\n",
    "\n",
    "def L(n):\n",
    "    n_s = str(n).zfill(4)\n",
    "    new_n_s = n_s[1:] + n_s[0]\n",
    "    return int(new_n_s)\n",
    "\n",
    "def R(n):\n",
    "    n_s = str(n).zfill(4)\n",
    "    new_n_s = n_s[-1] + n_s[:-1]\n",
    "    return int(new_n_s)\n",
    "\n",
    "def BFS(A, B):\n",
    "    visited = [0]*10000\n",
    "    visited[A] = ' '\n",
    "    queue = deque([A])\n",
    "    while not visited[B]:\n",
    "        now_num = queue.popleft()\n",
    "        for i, command in enumerate([D, S, L, R]):\n",
    "            new_num = command(now_num)\n",
    "            if not visited[new_num]:\n",
    "                visited[new_num] = visited[now_num] + ['D', 'S', 'L', 'R'][i]\n",
    "                queue.append(new_num)\n",
    "    print(visited[B].strip())\n",
    "\n",
    "def solve():\n",
    "    T = int(input())\n",
    "    for _ in range(T):\n",
    "        A, B = map(int, input().split())\n",
    "        BFS(A, B)\n",
    "\n",
    "solve()"
   ]
  },
  {
   "cell_type": "code",
   "execution_count": 39,
   "metadata": {},
   "outputs": [],
   "source": [
    "from collections import deque\n",
    "\n",
    "def D(n):\n",
    "    return 2*n % 10000\n",
    "\n",
    "def S(n):\n",
    "    if n == 0:\n",
    "        return 9999\n",
    "    return n-1\n",
    "\n",
    "def L(n):\n",
    "    n_s = str(n).zfill(4)\n",
    "    new_n_s = n_s[1:] + n_s[0]\n",
    "    return int(new_n_s)\n",
    "\n",
    "def R(n):\n",
    "    n_s = str(n).zfill(4)\n",
    "    new_n_s = n_s[-1] + n_s[:-1]\n",
    "    return int(new_n_s)\n",
    "\n",
    "def BFS(A, B):\n",
    "    visited = [0]*10000\n",
    "    visited[A] = ' '\n",
    "    queue = deque([A])\n",
    "    while not visited[B]:\n",
    "        now_num = queue.popleft()\n",
    "        for i, command in enumerate([D, S, L, R]):\n",
    "            new_num = command(now_num)\n",
    "            if not visited[new_num]:\n",
    "                visited[new_num] = visited[now_num] + ['D', 'S', 'L', 'R'][i]\n",
    "                queue.append(new_num)\n",
    "    print(visited[B].strip())\n",
    "    return visited[B].strip()"
   ]
  },
  {
   "cell_type": "code",
   "execution_count": 40,
   "metadata": {},
   "outputs": [
    {
     "name": "stdout",
     "output_type": "stream",
     "text": [
      "S\n"
     ]
    },
    {
     "data": {
      "text/plain": [
       "(0, 9999, 'S')"
      ]
     },
     "execution_count": 40,
     "metadata": {},
     "output_type": "execute_result"
    }
   ],
   "source": [
    "A, B = map(int, input().split())\n",
    "A, B, BFS(A, B)"
   ]
  },
  {
   "cell_type": "code",
   "execution_count": 41,
   "metadata": {},
   "outputs": [
    {
     "name": "stdout",
     "output_type": "stream",
     "text": [
      "0\n",
      "S\n",
      "0 ->S 9999\n"
     ]
    }
   ],
   "source": [
    "fun_dic = {'D' : D, 'S' : S, 'L' : L, 'R' : R}\n",
    "temp = A\n",
    "print(temp)\n",
    "for s in BFS(A, B):\n",
    "    fun = fun_dic[s]\n",
    "    print(temp, '->', end='')\n",
    "    temp = fun(temp)\n",
    "    print(s, temp)"
   ]
  },
  {
   "cell_type": "code",
   "execution_count": 22,
   "metadata": {},
   "outputs": [
    {
     "name": "stdout",
     "output_type": "stream",
     "text": [
      "LL\n"
     ]
    }
   ],
   "source": [
    "from collections import deque\n",
    "visited = [0]*10000\n",
    "visited[A] = ''\n",
    "queue = deque([A])\n",
    "while not visited[B]:\n",
    "    now_num = queue.popleft()\n",
    "    for i, command in enumerate([D, S, L, R]):\n",
    "        new_num = command(now_num)\n",
    "        if not visited[new_num]:\n",
    "            visited[new_num] = visited[now_num] + ['D', 'S', 'L', 'R'][i]\n",
    "            queue.append(new_num)\n",
    "print(visited[B])"
   ]
  },
  {
   "cell_type": "code",
   "execution_count": 20,
   "metadata": {},
   "outputs": [
    {
     "data": {
      "text/plain": [
       "'D'"
      ]
     },
     "execution_count": 20,
     "metadata": {},
     "output_type": "execute_result"
    }
   ],
   "source": [
    "visited[2468]"
   ]
  },
  {
   "cell_type": "code",
   "execution_count": 5,
   "metadata": {},
   "outputs": [
    {
     "name": "stdout",
     "output_type": "stream",
     "text": [
      "5012 120\n"
     ]
    }
   ],
   "source": [
    "print(R(125), L(12))"
   ]
  },
  {
   "cell_type": "code",
   "execution_count": 1,
   "metadata": {},
   "outputs": [
    {
     "data": {
      "text/plain": [
       "'0001'"
      ]
     },
     "execution_count": 1,
     "metadata": {},
     "output_type": "execute_result"
    }
   ],
   "source": [
    "'1'.rjust(4, '0')"
   ]
  },
  {
   "cell_type": "code",
   "execution_count": 6,
   "metadata": {},
   "outputs": [
    {
     "data": {
      "text/plain": [
       "'001'"
      ]
     },
     "execution_count": 6,
     "metadata": {},
     "output_type": "execute_result"
    }
   ],
   "source": [
    "'1'.zfill(3)"
   ]
  },
  {
   "cell_type": "code",
   "execution_count": 7,
   "metadata": {},
   "outputs": [
    {
     "name": "stdout",
     "output_type": "stream",
     "text": [
      "1\n",
      "4\n",
      "16\n",
      "64\n",
      "256\n",
      "1024\n",
      "4096\n",
      "16384\n",
      "65536\n",
      "262144\n",
      "1048576\n",
      "4194304\n",
      "16777216\n",
      "67108864\n"
     ]
    }
   ],
   "source": [
    "for i in range(14):\n",
    "    print(4**i)"
   ]
  },
  {
   "cell_type": "code",
   "execution_count": 34,
   "metadata": {},
   "outputs": [],
   "source": [
    "a, b = '12'"
   ]
  },
  {
   "cell_type": "code",
   "execution_count": 35,
   "metadata": {},
   "outputs": [
    {
     "data": {
      "text/plain": [
       "('1', '2')"
      ]
     },
     "execution_count": 35,
     "metadata": {},
     "output_type": "execute_result"
    }
   ],
   "source": [
    "a, b"
   ]
  }
 ],
 "metadata": {
  "interpreter": {
   "hash": "c798a043d5b26db4ea8dc684fe25ec244835432adc5539bce2de618403b1d63c"
  },
  "kernelspec": {
   "display_name": "Python 3.8.5 ('base')",
   "language": "python",
   "name": "python3"
  },
  "language_info": {
   "codemirror_mode": {
    "name": "ipython",
    "version": 3
   },
   "file_extension": ".py",
   "mimetype": "text/x-python",
   "name": "python",
   "nbconvert_exporter": "python",
   "pygments_lexer": "ipython3",
   "version": "3.8.5"
  },
  "orig_nbformat": 4
 },
 "nbformat": 4,
 "nbformat_minor": 2
}
