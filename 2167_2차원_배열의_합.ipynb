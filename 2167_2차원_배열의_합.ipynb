{
 "cells": [
  {
   "cell_type": "markdown",
   "metadata": {},
   "source": [
    "# 2167 2차원 배열의 합\n",
    "211223\n",
    "- 소감 : 아니 원래는 소감도 안 쓰고 빨리 풀고 다른거 하려고 했는데 막 어려운 건 아니지만 의외의 복병이었... 누적합을 여기서 또 쓰네.. 시간초과가 날 줄은 몰랐다..\n",
    "- 알고리즘 분류\n",
    "    - 구현\n",
    "    - 누적 합\n",
    "- 티어 : 브론즈 1"
   ]
  },
  {
   "cell_type": "code",
   "execution_count": 3,
   "metadata": {},
   "outputs": [
    {
     "name": "stdout",
     "output_type": "stream",
     "text": [
      "63\n",
      "2\n",
      "36\n"
     ]
    }
   ],
   "source": [
    "import sys ## 틀림(시간초과)\n",
    "\n",
    "# input = sys.stdin.readline\n",
    "\n",
    "N, M = map(int, input().strip().split())\n",
    "lst = []\n",
    "for _ in range(N):\n",
    "    lst.append(list(map(int, input().strip().split())))\n",
    "\n",
    "K = int(input())\n",
    "for _ in range(K):\n",
    "    i, j, x, y = map(int, input().strip().split())\n",
    "    tot = 0\n",
    "    for row in range(i-1, x):\n",
    "        for col in range(j-1, y):\n",
    "            tot += lst[row][col]\n",
    "    print(tot)\n"
   ]
  },
  {
   "cell_type": "code",
   "execution_count": 13,
   "metadata": {},
   "outputs": [
    {
     "name": "stdout",
     "output_type": "stream",
     "text": [
      "63\n",
      "2\n",
      "36\n"
     ]
    }
   ],
   "source": [
    "import sys ## 맞음\n",
    "\n",
    "# input = sys.stdin.readline\n",
    "\n",
    "N, M = map(int, input().strip().split())\n",
    "lst = []\n",
    "for _ in range(N):\n",
    "    lst.append(list(map(int, input().strip().split())))\n",
    "\n",
    "acc_list = []\n",
    "for l in lst:\n",
    "    temp_list = [0]\n",
    "    temp = 0\n",
    "    for i in l:\n",
    "        temp += i\n",
    "        temp_list.append(temp)\n",
    "    acc_list.append(temp_list)\n",
    "\n",
    "K = int(input())\n",
    "for _ in range(K):\n",
    "    i, j, x, y = map(int, input().strip().split())\n",
    "    ans = 0\n",
    "    for row in range(i-1, x):\n",
    "        temp = acc_list[row][y] - acc_list[row][j-1]\n",
    "        ans += temp\n",
    "    print(ans)"
   ]
  },
  {
   "cell_type": "code",
   "execution_count": 10,
   "metadata": {},
   "outputs": [
    {
     "data": {
      "text/plain": [
       "[[0, 1, 3, 7], [0, 8, 24, 56]]"
      ]
     },
     "execution_count": 10,
     "metadata": {},
     "output_type": "execute_result"
    }
   ],
   "source": [
    "acc_list"
   ]
  },
  {
   "cell_type": "code",
   "execution_count": 12,
   "metadata": {},
   "outputs": [
    {
     "name": "stdout",
     "output_type": "stream",
     "text": [
      "63\n",
      "2\n",
      "36\n"
     ]
    }
   ],
   "source": [
    "K = int(input())\n",
    "for _ in range(K):\n",
    "    i, j, x, y = map(int, input().strip().split())\n",
    "    ans = 0\n",
    "    for row in range(i-1, x):\n",
    "        temp = acc_list[row][y] - acc_list[row][j-1]\n",
    "        ans += temp\n",
    "    print(ans)"
   ]
  },
  {
   "cell_type": "code",
   "execution_count": null,
   "metadata": {},
   "outputs": [],
   "source": []
  }
 ],
 "metadata": {
  "interpreter": {
   "hash": "c798a043d5b26db4ea8dc684fe25ec244835432adc5539bce2de618403b1d63c"
  },
  "kernelspec": {
   "display_name": "Python 3.8.5 64-bit ('base': conda)",
   "language": "python",
   "name": "python3"
  },
  "language_info": {
   "codemirror_mode": {
    "name": "ipython",
    "version": 3
   },
   "file_extension": ".py",
   "mimetype": "text/x-python",
   "name": "python",
   "nbconvert_exporter": "python",
   "pygments_lexer": "ipython3",
   "version": "3.8.5"
  },
  "orig_nbformat": 4
 },
 "nbformat": 4,
 "nbformat_minor": 2
}
