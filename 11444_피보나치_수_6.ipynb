{
 "cells": [
  {
   "cell_type": "markdown",
   "metadata": {},
   "source": [
    "# 11444 피보나치 수 6\n",
    "220307"
   ]
  },
  {
   "cell_type": "code",
   "execution_count": 7,
   "metadata": {},
   "outputs": [],
   "source": [
    "DIV = 1000000007\n",
    "def fib(n):\n",
    "    if n < 0:\n",
    "        return None\n",
    "    if n <= 1:\n",
    "        return n\n",
    "    k = 2\n",
    "    now, prev = 1, 1\n",
    "    while k != n:\n",
    "        now, prev = (now + prev) % DIV, now % DIV\n",
    "        k += 1\n",
    "    return now"
   ]
  },
  {
   "cell_type": "code",
   "execution_count": 25,
   "metadata": {},
   "outputs": [
    {
     "data": {
      "text/plain": [
       "9974928"
      ]
     },
     "execution_count": 25,
     "metadata": {},
     "output_type": "execute_result"
    }
   ],
   "source": [
    "DIV = 1000000007\n",
    "def fib_set_len(n):\n",
    "    k = 1\n",
    "    now, prev = 1, 0\n",
    "    fib_set = set()\n",
    "    while k != n:\n",
    "        fib_set.add(now)\n",
    "        now, prev = (now + prev) % DIV, now % DIV\n",
    "        k += 1\n",
    "    fib_set.add(now)\n",
    "    return len(fib_set)\n",
    "fib_set_len(10000000)"
   ]
  },
  {
   "cell_type": "code",
   "execution_count": 11,
   "metadata": {},
   "outputs": [
    {
     "data": {
      "text/plain": [
       "9999"
      ]
     },
     "execution_count": 11,
     "metadata": {},
     "output_type": "execute_result"
    }
   ],
   "source": [
    "fib_set = set()\n",
    "for i in range(10000):\n",
    "    fib_set.add(fib(i))\n",
    "len(fib_set)"
   ]
  },
  {
   "cell_type": "code",
   "execution_count": 36,
   "metadata": {},
   "outputs": [
    {
     "data": {
      "text/plain": [
       "1"
      ]
     },
     "execution_count": 36,
     "metadata": {},
     "output_type": "execute_result"
    }
   ],
   "source": [
    "fib_div = 1000000006\n",
    "DIV - fib_div"
   ]
  },
  {
   "cell_type": "code",
   "execution_count": 41,
   "metadata": {},
   "outputs": [
    {
     "name": "stdout",
     "output_type": "stream",
     "text": [
      "517691607   107579939   625271546   732851485   358123024   90974502   449097526   540072028   989169554   529241575   518411122   47652690   566063812   613716502   179780307   793496809   973277116   766773918   740051027   506824938   246875958   753700896   576847   754277743   754854590   509132326   263986909   773119235   37106137   810225372   847331509   657556874   504888376   162445243   667333619   829778862   497112474   326891329   824003803   150895125   974898928   125794046   100692967   226487013   327179980   553666993   880846973   434513959   315360925   749874884   65235802   815110686   880346488   695457167   575803648   271260808   847064456   118325257   965389713   83714963   49104669   132819632   181924301   314743933   496668234   811412167   308080394   119492554   427572948   547065502   974638450   521703945   496342388   18046326   514388714   532435040   46823747   579258787   626082534   205341314   831423848   36765155   868189003   904954158   773143154   678097305   451240452   129337750   580578202   709915952   290494147   410092   290904239   291314331   582218570   873532901   455751464   329284358   785035822   114320173   "
     ]
    }
   ],
   "source": [
    "for i in range(1000, 1100):\n",
    "    print(fib(i), end='   ')"
   ]
  },
  {
   "cell_type": "code",
   "execution_count": null,
   "metadata": {},
   "outputs": [],
   "source": []
  }
 ],
 "metadata": {
  "interpreter": {
   "hash": "5c24e01fedcac420428a9a8e493beca6919c605d3dabe5cbe21140bcbf74340b"
  },
  "kernelspec": {
   "display_name": "Python 3.9.10 64-bit (windows store)",
   "language": "python",
   "name": "python3"
  },
  "language_info": {
   "codemirror_mode": {
    "name": "ipython",
    "version": 3
   },
   "file_extension": ".py",
   "mimetype": "text/x-python",
   "name": "python",
   "nbconvert_exporter": "python",
   "pygments_lexer": "ipython3",
   "version": "3.8.5"
  },
  "orig_nbformat": 4
 },
 "nbformat": 4,
 "nbformat_minor": 2
}
