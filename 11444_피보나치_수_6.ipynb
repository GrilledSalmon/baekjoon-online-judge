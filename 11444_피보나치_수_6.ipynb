{
 "cells": [
  {
   "cell_type": "markdown",
   "metadata": {},
   "source": [
    "# 11444 피보나치 수 6\n",
    "220307\n",
    "- 소감 : 이건 매우 큰 피보나치수를 계산하는 법을 모르면 풀 수가 없다. 나도 헤매다가 Introduction to Algorithms 책에서 힌트를 얻고 풀게 되었음.\n",
    "- 방법 : 피보나치 수는 ((0, 1), (1, 1))이란 행렬의 거듭제곱을 통해 빠르게 계산이 가능하다.\n",
    "- 알고리즘 분류\n",
    "    - 수학\n",
    "    - 분할 정복을 이용한 거듭제곱\n",
    "- 티어 : 골드 2"
   ]
  },
  {
   "cell_type": "code",
   "execution_count": 4,
   "metadata": {},
   "outputs": [],
   "source": [
    "n = int(input())\n",
    "\n",
    "def mat_mul(A, B):\n",
    "    \"\"\"A, B 두 매트릭스의 곱 결과 리턴\"\"\"\n",
    "    DIV = 1000000007\n",
    "    a = (A[0][0]*B[0][0] + A[0][1]*B[1][0])%DIV\n",
    "    b = (A[0][0]*B[0][1] + A[0][1]*B[1][1])%DIV\n",
    "    c = (A[1][0]*B[0][0] + A[1][1]*B[1][0])%DIV\n",
    "    d = (A[1][0]*B[0][1] + A[1][1]*B[1][1])%DIV\n",
    "    return ((a, b), (c, d))\n",
    "\n",
    "def fast_fib(n):\n",
    "    \"\"\"빠른 fib 계산(O(lgn))\"\"\"\n",
    "    n_bin = bin(n)[2:] # n을 이진법으로 표현\n",
    "\n",
    "    A = ((0, 1), (1, 1))\n",
    "    fib_square_dic = {}\n",
    "\n",
    "    # 피보나치 제곱 dic 만들기\n",
    "    fib_square_dic[0] = A\n",
    "    for i in range(len(n_bin)):\n",
    "        A = mat_mul(A, A)\n",
    "        fib_square_dic[i+1] = A\n",
    "\n",
    "    ans = ((1, 0), (0, 1)) # 단위 행렬\n",
    "    for i in range(len(n_bin)):\n",
    "        if n_bin[-1 - i] == '1':\n",
    "            ans = mat_mul(ans, fib_square_dic[i])\n",
    "\n",
    "    return ans[0][1]\n",
    "\n",
    "print(fast_fib(n))"
   ]
  },
  {
   "cell_type": "code",
   "execution_count": 11,
   "metadata": {},
   "outputs": [],
   "source": [
    "DIV = 1000000007\n",
    "def fib_set_len(n):\n",
    "    k = 1\n",
    "    now, prev = 1, 0\n",
    "    fib_set = set()\n",
    "    while k != n:\n",
    "        fib_set.add(now)\n",
    "        now, prev = (now + prev) % DIV, now % DIV\n",
    "        k += 1\n",
    "    fib_set.add(now)\n",
    "    return len(fib_set)\n",
    "# fib_set_len(10000000)"
   ]
  },
  {
   "cell_type": "code",
   "execution_count": 11,
   "metadata": {},
   "outputs": [
    {
     "data": {
      "text/plain": [
       "9999"
      ]
     },
     "execution_count": 11,
     "metadata": {},
     "output_type": "execute_result"
    }
   ],
   "source": [
    "fib_set = set()\n",
    "for i in range(10000):\n",
    "    fib_set.add(fib(i))\n",
    "len(fib_set)"
   ]
  },
  {
   "cell_type": "code",
   "execution_count": 36,
   "metadata": {},
   "outputs": [
    {
     "data": {
      "text/plain": [
       "1"
      ]
     },
     "execution_count": 36,
     "metadata": {},
     "output_type": "execute_result"
    }
   ],
   "source": [
    "fib_div = 1000000006\n",
    "DIV - fib_div"
   ]
  },
  {
   "cell_type": "code",
   "execution_count": 41,
   "metadata": {},
   "outputs": [
    {
     "name": "stdout",
     "output_type": "stream",
     "text": [
      "517691607   107579939   625271546   732851485   358123024   90974502   449097526   540072028   989169554   529241575   518411122   47652690   566063812   613716502   179780307   793496809   973277116   766773918   740051027   506824938   246875958   753700896   576847   754277743   754854590   509132326   263986909   773119235   37106137   810225372   847331509   657556874   504888376   162445243   667333619   829778862   497112474   326891329   824003803   150895125   974898928   125794046   100692967   226487013   327179980   553666993   880846973   434513959   315360925   749874884   65235802   815110686   880346488   695457167   575803648   271260808   847064456   118325257   965389713   83714963   49104669   132819632   181924301   314743933   496668234   811412167   308080394   119492554   427572948   547065502   974638450   521703945   496342388   18046326   514388714   532435040   46823747   579258787   626082534   205341314   831423848   36765155   868189003   904954158   773143154   678097305   451240452   129337750   580578202   709915952   290494147   410092   290904239   291314331   582218570   873532901   455751464   329284358   785035822   114320173   "
     ]
    }
   ],
   "source": [
    "for i in range(1000, 1100):\n",
    "    print(fib(i), end='   ')"
   ]
  },
  {
   "cell_type": "code",
   "execution_count": 48,
   "metadata": {},
   "outputs": [
    {
     "data": {
      "text/plain": [
       "543"
      ]
     },
     "execution_count": 48,
     "metadata": {},
     "output_type": "execute_result"
    }
   ],
   "source": [
    "2541 - 1998"
   ]
  },
  {
   "cell_type": "code",
   "execution_count": 49,
   "metadata": {},
   "outputs": [
    {
     "name": "stdout",
     "output_type": "stream",
     "text": [
      "1998\n"
     ]
    }
   ],
   "source": [
    "print(int(input()) - 543)"
   ]
  },
  {
   "cell_type": "code",
   "execution_count": 18,
   "metadata": {},
   "outputs": [
    {
     "name": "stdout",
     "output_type": "stream",
     "text": [
      "1 ((1, 1), (1, 2))\n",
      "2 ((2, 3), (3, 5))\n",
      "3 ((13, 21), (21, 34))\n",
      "4 ((610, 987), (987, 1597))\n",
      "5 ((1346269, 2178309), (2178309, 3524578))\n"
     ]
    }
   ],
   "source": [
    "def mat_mul(A, B):\n",
    "    \"\"\"A, B 두 매트릭스의 곱 결과 리턴\"\"\"\n",
    "    a = (A[0][0]*B[0][0] + A[0][1]*B[1][0])%DIV\n",
    "    b = (A[0][0]*B[0][1] + A[0][1]*B[1][1])%DIV\n",
    "    c = (A[1][0]*B[0][0] + A[1][1]*B[1][0])%DIV\n",
    "    d = (A[1][0]*B[0][1] + A[1][1]*B[1][1])%DIV\n",
    "    return ((a, b), (c, d))\n",
    "\n",
    "A = ((0, 1), (1, 1))\n",
    "for i in range(5):\n",
    "    A = mat_mul(A, A)\n",
    "    print((i+1), A)"
   ]
  },
  {
   "cell_type": "code",
   "execution_count": 70,
   "metadata": {},
   "outputs": [
    {
     "data": {
      "text/plain": [
       "490189494"
      ]
     },
     "execution_count": 70,
     "metadata": {},
     "output_type": "execute_result"
    }
   ],
   "source": [
    "fib(10000000)"
   ]
  },
  {
   "cell_type": "code",
   "execution_count": 71,
   "metadata": {},
   "outputs": [
    {
     "name": "stdout",
     "output_type": "stream",
     "text": [
      "517691607\n"
     ]
    }
   ],
   "source": [
    "n = int(input())\n",
    "\n",
    "def mat_mul(A, B):\n",
    "    \"\"\"A, B 두 매트릭스의 곱 결과 리턴\"\"\"\n",
    "    DIV = 1000000007\n",
    "    a = (A[0][0]*B[0][0] + A[0][1]*B[1][0])%DIV\n",
    "    b = (A[0][0]*B[0][1] + A[0][1]*B[1][1])%DIV\n",
    "    c = (A[1][0]*B[0][0] + A[1][1]*B[1][0])%DIV\n",
    "    d = (A[1][0]*B[0][1] + A[1][1]*B[1][1])%DIV\n",
    "    return ((a, b), (c, d))\n",
    "\n",
    "def fast_fib(n):\n",
    "    \"\"\"빠른 fib 계산(O(lgn))\"\"\"\n",
    "    n_bin = bin(n)[2:] # n을 이진법으로 표현\n",
    "\n",
    "    A = ((0, 1), (1, 1))\n",
    "    fib_square_dic = {}\n",
    "\n",
    "    # 피보나치 제곱 dic 만들기\n",
    "    fib_square_dic[0] = A\n",
    "    for i in range(len(n_bin)):\n",
    "        A = mat_mul(A, A)\n",
    "        fib_square_dic[i+1] = A\n",
    "\n",
    "    ans = ((1, 0), (0, 1)) # 단위 행렬\n",
    "    for i in range(len(n_bin)):\n",
    "        if n_bin[-1 - i] == '1':\n",
    "            ans = mat_mul(ans, fib_square_dic[i])\n",
    "\n",
    "    return ans[0][1]\n",
    "\n",
    "print(fast_fib(n))"
   ]
  },
  {
   "cell_type": "code",
   "execution_count": 64,
   "metadata": {},
   "outputs": [
    {
     "name": "stdout",
     "output_type": "stream",
     "text": [
      "0\n",
      "1\n",
      "1\n",
      "2\n",
      "3\n",
      "5\n",
      "8\n",
      "13\n",
      "21\n",
      "34\n",
      "55\n",
      "89\n",
      "144\n",
      "233\n",
      "377\n",
      "610\n",
      "987\n",
      "1597\n",
      "2584\n",
      "4181\n",
      "6765\n",
      "10946\n",
      "17711\n",
      "28657\n",
      "46368\n",
      "75025\n",
      "121393\n",
      "196418\n",
      "317811\n",
      "514229\n",
      "832040\n",
      "1346269\n",
      "2178309\n",
      "3524578\n",
      "5702887\n",
      "9227465\n",
      "14930352\n",
      "24157817\n",
      "39088169\n",
      "63245986\n"
     ]
    }
   ],
   "source": [
    "for i in range(40):\n",
    "    print(fib(i))"
   ]
  },
  {
   "cell_type": "code",
   "execution_count": 46,
   "metadata": {},
   "outputs": [
    {
     "data": {
      "text/plain": [
       "{0: ((0, 1), (1, 1)),\n",
       " 1: ((1, 1), (1, 2)),\n",
       " 2: ((2, 3), (3, 5)),\n",
       " 3: ((13, 21), (21, 34)),\n",
       " 4: ((610, 987), (987, 1597)),\n",
       " 5: ((1346269, 2178309), (2178309, 3524578)),\n",
       " 6: ((470273943, 209783453), (209783453, 680057396)),\n",
       " 7: ((761203726, 700290221), (700290221, 461493940))}"
      ]
     },
     "execution_count": 46,
     "metadata": {},
     "output_type": "execute_result"
    }
   ],
   "source": [
    "fib_square_dic"
   ]
  },
  {
   "cell_type": "code",
   "execution_count": 26,
   "metadata": {},
   "outputs": [
    {
     "name": "stdout",
     "output_type": "stream",
     "text": [
      "761203726\n"
     ]
    }
   ],
   "source": [
    "ans = ((1, 0), (0, 1)) # 단위 행렬\n",
    "for i in range(len(n_bin)):\n",
    "    if n_bin[-1 - i]:\n",
    "        ans = mat_mul(ans, fib_square_dic[i])\n",
    "print(ans[0][1])"
   ]
  },
  {
   "cell_type": "code",
   "execution_count": 54,
   "metadata": {},
   "outputs": [
    {
     "data": {
      "text/plain": [
       "687995182"
      ]
     },
     "execution_count": 54,
     "metadata": {},
     "output_type": "execute_result"
    }
   ],
   "source": [
    "fib(100)"
   ]
  },
  {
   "cell_type": "code",
   "execution_count": 51,
   "metadata": {},
   "outputs": [
    {
     "name": "stdout",
     "output_type": "stream",
     "text": [
      "0\n",
      "0\n",
      "0\n",
      "0\n",
      "0\n",
      "0\n",
      "1\n"
     ]
    }
   ],
   "source": [
    "for i in range(len(n_bin)):\n",
    "    print(n_bin[-1 - i])"
   ]
  },
  {
   "cell_type": "code",
   "execution_count": 37,
   "metadata": {},
   "outputs": [
    {
     "data": {
      "text/plain": [
       "'1100100'"
      ]
     },
     "execution_count": 37,
     "metadata": {},
     "output_type": "execute_result"
    }
   ],
   "source": [
    "n_bin"
   ]
  }
 ],
 "metadata": {
  "interpreter": {
   "hash": "5c24e01fedcac420428a9a8e493beca6919c605d3dabe5cbe21140bcbf74340b"
  },
  "kernelspec": {
   "display_name": "Python 3.9.10 64-bit (windows store)",
   "language": "python",
   "name": "python3"
  },
  "language_info": {
   "codemirror_mode": {
    "name": "ipython",
    "version": 3
   },
   "file_extension": ".py",
   "mimetype": "text/x-python",
   "name": "python",
   "nbconvert_exporter": "python",
   "pygments_lexer": "ipython3",
   "version": "3.8.5"
  },
  "orig_nbformat": 4
 },
 "nbformat": 4,
 "nbformat_minor": 2
}
