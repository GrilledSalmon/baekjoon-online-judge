{
 "cells": [
  {
   "cell_type": "markdown",
   "metadata": {},
   "source": [
    "# 6359 만취한 상범\n",
    "220918\n",
    "- 소감\n",
    "    - 잘 구현한다\n",
    "- 소요 시간 : 10분\n",
    "- 알고리즘 분류 : 수학, 구현, 정수론, 시뮬레이션\n",
    "- 티어 : 브론즈 2"
   ]
  },
  {
   "cell_type": "code",
   "execution_count": null,
   "metadata": {},
   "outputs": [],
   "source": [
    "import sys\n",
    "# input = sys.stdin.readline\n",
    "\n",
    "for _ in range(int(input())):\n",
    "    n = int(input())\n",
    "    rooms = [0]*(n+1)\n",
    "    k = 1\n",
    "    while k <= n:\n",
    "        for i in range(k, n+1, k):\n",
    "            rooms[i] = 1 - rooms[i]\n",
    "        k += 1\n",
    "    print(sum(rooms))"
   ]
  },
  {
   "cell_type": "code",
   "execution_count": null,
   "metadata": {},
   "outputs": [],
   "source": []
  }
 ],
 "metadata": {
  "kernelspec": {
   "display_name": "Python 3.8.5 ('base')",
   "language": "python",
   "name": "python3"
  },
  "language_info": {
   "name": "python",
   "version": "3.8.5"
  },
  "orig_nbformat": 4,
  "vscode": {
   "interpreter": {
    "hash": "8cc51f7a6f9663e4a057df8e9ab0b3750994a36584b90d61db68aa71b39bfa78"
   }
  }
 },
 "nbformat": 4,
 "nbformat_minor": 2
}
