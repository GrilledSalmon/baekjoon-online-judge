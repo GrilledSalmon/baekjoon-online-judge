{
 "cells": [
  {
   "cell_type": "markdown",
   "metadata": {},
   "source": [
    "# 10971 외판원 순회 2\n",
    "220401\n",
    "- 알고리즘 분류\n",
    "    - 브루트포스 알고리즘\n",
    "    - 백트래킹\n",
    "    - 외판원 순회 문제\n",
    "- 티어 : 실버 2"
   ]
  },
  {
   "cell_type": "code",
   "execution_count": 1,
   "metadata": {},
   "outputs": [
    {
     "name": "stdout",
     "output_type": "stream",
     "text": [
      "35\n"
     ]
    }
   ],
   "source": [
    "# 10971\n",
    "import sys\n",
    "# input = sys.stdin.readline\n",
    "\n",
    "N = int(input())\n",
    "to_root_info = []\n",
    "adj_list = [[] for _ in range(N)]\n",
    "for i in range(N):\n",
    "    for j in enumerate(map(int, input().split())):\n",
    "        if j[0] == 0: # 각 노드에서 root가는 정보를 저장하기 위해\n",
    "            to_root_info.append(j[1])\n",
    "        if j[1]: # 비용이 1 이상\n",
    "            adj_list[i].append(j)\n",
    "\n",
    "root = 0\n",
    "visited = [0]*N\n",
    "visited[root] = 1\n",
    "mini = [10**8]\n",
    "\n",
    "def tsp(now_city=root, n=1, total_cost=0):\n",
    "    \"\"\"now_city : 현재 방문한 도시 / n:현재 방문한 도시 수\"\"\"\n",
    "    if n == N and to_root_info[now_city]: # 모든 도시를 방문했고 root로 가는 길이 있다면\n",
    "        total_cost += to_root_info[now_city]\n",
    "        if mini[0] > total_cost:\n",
    "            mini[0] = total_cost\n",
    "            return\n",
    "    for adj_city, cost in adj_list[now_city]:\n",
    "        if not visited[adj_city]:\n",
    "            visited[adj_city] = 1 # 이 세 줄이 백트래킹 핵심\n",
    "            tsp(adj_city, n+1, total_cost + cost)\n",
    "            visited[adj_city] = 0\n",
    "\n",
    "tsp()\n",
    "print(mini[0])"
   ]
  },
  {
   "cell_type": "code",
   "execution_count": null,
   "metadata": {},
   "outputs": [],
   "source": []
  }
 ],
 "metadata": {
  "interpreter": {
   "hash": "8fac594bfae6525c0c41b4041d2d72effa188cc8ead05f81b1fab2bb098927fb"
  },
  "kernelspec": {
   "display_name": "Python 3.8.8 ('base')",
   "language": "python",
   "name": "python3"
  },
  "language_info": {
   "codemirror_mode": {
    "name": "ipython",
    "version": 3
   },
   "file_extension": ".py",
   "mimetype": "text/x-python",
   "name": "python",
   "nbconvert_exporter": "python",
   "pygments_lexer": "ipython3",
   "version": "3.8.8"
  },
  "orig_nbformat": 4
 },
 "nbformat": 4,
 "nbformat_minor": 2
}
