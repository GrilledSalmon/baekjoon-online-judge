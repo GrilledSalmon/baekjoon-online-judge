{
 "cells": [
  {
   "cell_type": "markdown",
   "metadata": {},
   "source": [
    "# 2529 부등호\n",
    "220702\n",
    "- 소감\n",
    "    - 뭔데 어렵...;\n",
    "    - 숫자 범위가 넓지 않아 그냥 브루트포스 + 백트래킹 + 그리디하게 + 무식하게(list copy 막 씀) 풀었는데 다행히 맞았네요\n",
    "- 소요 시간 : 34분\n",
    "- 알고리즘 분류 : 브루트포스 알고리즘, 백트래킹\n",
    "- 티어 : 실버 2"
   ]
  },
  {
   "cell_type": "code",
   "execution_count": 1,
   "metadata": {},
   "outputs": [],
   "source": [
    "k = int(input())\n",
    "inp = input().split()\n",
    "\n",
    "ans_list = []\n",
    "ans = []\n",
    "first = [True]\n",
    "min_ans = [0]\n",
    "def back_tracking(i = -1, remain_list:list = list(range(9, -1, -1))):\n",
    "    if i == k:\n",
    "        if first[0]:\n",
    "            print(''.join(map(str, ans)))\n",
    "            first[0] = False\n",
    "        else:\n",
    "            min_ans[0] = ans.copy()\n",
    "        return\n",
    "    \n",
    "    for j, num in enumerate(remain_list):\n",
    "        if not ans: # 맨 처음\n",
    "            ans.append(num)\n",
    "            new_remain_list = remain_list.copy()\n",
    "            new_remain_list.pop(j)\n",
    "            back_tracking(i+1, new_remain_list)\n",
    "            ans.pop()\n",
    "            continue\n",
    "        if inp[i] == '<':\n",
    "            prev = ans[i]\n",
    "            if prev < num:\n",
    "                ans.append(num)\n",
    "                new_remain_list = remain_list.copy()\n",
    "                new_remain_list.pop(j)\n",
    "                back_tracking(i+1, new_remain_list)\n",
    "                ans.pop()\n",
    "        else:\n",
    "            prev = ans[i]\n",
    "            if prev > num:\n",
    "                ans.append(num)\n",
    "                new_remain_list = remain_list.copy()\n",
    "                new_remain_list.pop(j)\n",
    "                back_tracking(i+1, new_remain_list)\n",
    "                ans.pop()\n",
    "\n",
    "back_tracking()\n",
    "print(''.join(map(str, min_ans[0])))"
   ]
  },
  {
   "cell_type": "code",
   "execution_count": 2,
   "metadata": {},
   "outputs": [
    {
     "data": {
      "text/plain": [
       "(9, ['>', '<', '<', '<', '>', '>', '>', '<', '<'])"
      ]
     },
     "execution_count": 2,
     "metadata": {},
     "output_type": "execute_result"
    }
   ],
   "source": [
    "k, inp"
   ]
  },
  {
   "cell_type": "code",
   "execution_count": 13,
   "metadata": {},
   "outputs": [
    {
     "name": "stdout",
     "output_type": "stream",
     "text": [
      "9567843012\n",
      "1023765489\n"
     ]
    }
   ],
   "source": [
    "ans_list = []\n",
    "ans = []\n",
    "first = [True]\n",
    "min_ans = [0]\n",
    "def back_tracking(i = -1, remain_list:list = list(range(9, -1, -1))):\n",
    "    if i == k:\n",
    "        if first[0]:\n",
    "            print(''.join(map(str, ans)))\n",
    "            first[0] = False\n",
    "        else:\n",
    "            min_ans[0] = ans.copy()\n",
    "        return\n",
    "    \n",
    "    for j, num in enumerate(remain_list):\n",
    "        if not ans: # 맨 처음\n",
    "            ans.append(num)\n",
    "            new_remain_list = remain_list.copy()\n",
    "            new_remain_list.pop(j)\n",
    "            back_tracking(i+1, new_remain_list)\n",
    "            ans.pop()\n",
    "            continue\n",
    "        if inp[i] == '<':\n",
    "            prev = ans[i]\n",
    "            if prev < num:\n",
    "                ans.append(num)\n",
    "                new_remain_list = remain_list.copy()\n",
    "                new_remain_list.pop(j)\n",
    "                back_tracking(i+1, new_remain_list)\n",
    "                ans.pop()\n",
    "        else:\n",
    "            prev = ans[i]\n",
    "            if prev > num:\n",
    "                ans.append(num)\n",
    "                new_remain_list = remain_list.copy()\n",
    "                new_remain_list.pop(j)\n",
    "                back_tracking(i+1, new_remain_list)\n",
    "                ans.pop()\n",
    "\n",
    "back_tracking()\n",
    "print(''.join(map(str, min_ans[0])))"
   ]
  },
  {
   "cell_type": "code",
   "execution_count": 5,
   "metadata": {},
   "outputs": [
    {
     "data": {
      "text/plain": [
       "['>', '<', '<', '<', '>', '>', '>', '<', '<']"
      ]
     },
     "execution_count": 5,
     "metadata": {},
     "output_type": "execute_result"
    }
   ],
   "source": [
    "inp"
   ]
  },
  {
   "cell_type": "code",
   "execution_count": null,
   "metadata": {},
   "outputs": [],
   "source": []
  }
 ],
 "metadata": {
  "kernelspec": {
   "display_name": "Python 3.8.8 ('base')",
   "language": "python",
   "name": "python3"
  },
  "language_info": {
   "codemirror_mode": {
    "name": "ipython",
    "version": 3
   },
   "file_extension": ".py",
   "mimetype": "text/x-python",
   "name": "python",
   "nbconvert_exporter": "python",
   "pygments_lexer": "ipython3",
   "version": "3.8.8"
  },
  "orig_nbformat": 4,
  "vscode": {
   "interpreter": {
    "hash": "f08154012ddadd8e950e6e9e035c7a7b32c136e7647e9b7c77e02eb723a8bedb"
   }
  }
 },
 "nbformat": 4,
 "nbformat_minor": 2
}
