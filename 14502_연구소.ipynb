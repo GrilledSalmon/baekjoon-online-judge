{
 "cells": [
  {
   "cell_type": "markdown",
   "metadata": {},
   "source": [
    "# 14502 연구소\n",
    "220402\n",
    "- 소감 : 귀찮아서 큰 고민 없이 구현만 했지만, 생각보다 속도가 나쁘진 않게 나옴.. 브루트포스 문제가 원래 그런가..?\n",
    "- 아이디어 : 그냥 다 해본다. 시간을 줄이기 위한 별다른 고민은 없었다. visited도 그냥 계속 copy함\n",
    "- 알고리즘 분류\n",
    "    - 그래프 이론\n",
    "    - 브루트포스 알고리즘\n",
    "    - 그래프 탐색\n",
    "    - 너비 우선 탐색\n",
    "- 티어 : 골드 5"
   ]
  },
  {
   "cell_type": "code",
   "execution_count": 24,
   "metadata": {},
   "outputs": [],
   "source": [
    "from itertools import combinations as cb\n",
    "from collections import deque\n",
    "from copy import deepcopy\n",
    "import sys\n",
    "# input = sys.stdin.readline\n",
    "\n",
    "N, M = map(int, input().split())\n",
    "lab = [list(map(int, input().split())) for _ in range(N)]\n",
    "\n",
    "virus_coord, safety_coord = [], []\n",
    "for i in range(N):\n",
    "    for j in range(M):\n",
    "        status = lab[i][j]\n",
    "        if status == 0:\n",
    "            safety_coord.append((i, j))\n",
    "        elif status == 2:\n",
    "            virus_coord.append((i, j))\n",
    "\n",
    "maxi = 0\n",
    "for case in cb(safety_coord, 3):\n",
    "    visited =deepcopy(lab)\n",
    "    for i, j in case:\n",
    "        visited[i][j] = 1\n",
    "    \n",
    "    cnt = len(safety_coord)\n",
    "    # BFS\n",
    "    queue = deque(virus_coord)\n",
    "    while queue:\n",
    "        i_now, j_now = queue.pop()\n",
    "        for i_adj, j_adj in [(i_now+1, j_now), (i_now, j_now+1), (i_now-1, j_now), (i_now, j_now-1)]:\n",
    "            if 0<=i_adj<N and 0<=j_adj<M and not visited[i_adj][j_adj]:\n",
    "                visited[i_adj][j_adj] = 2\n",
    "                queue.append((i_adj, j_adj))\n",
    "                cnt -= 1\n",
    "    if maxi < cnt:\n",
    "        maxi = cnt\n",
    "\n",
    "print(maxi - 3)"
   ]
  },
  {
   "cell_type": "code",
   "execution_count": 25,
   "metadata": {},
   "outputs": [
    {
     "data": {
      "text/plain": [
       "[[0, 0, 0, 0, 0, 0],\n",
       " [1, 0, 0, 0, 0, 2],\n",
       " [1, 1, 1, 0, 0, 2],\n",
       " [0, 0, 0, 0, 0, 2]]"
      ]
     },
     "execution_count": 25,
     "metadata": {},
     "output_type": "execute_result"
    }
   ],
   "source": [
    "lab"
   ]
  },
  {
   "cell_type": "code",
   "execution_count": 37,
   "metadata": {},
   "outputs": [
    {
     "name": "stdout",
     "output_type": "stream",
     "text": [
      "9\n"
     ]
    }
   ],
   "source": [
    "virus_coord, safety_coord = [], []\n",
    "for i in range(N):\n",
    "    for j in range(M):\n",
    "        status = lab[i][j]\n",
    "        if status == 0:\n",
    "            safety_coord.append((i, j))\n",
    "        elif status == 2:\n",
    "            virus_coord.append((i, j))\n",
    "\n",
    "maxi = 0\n",
    "for case in cb(safety_coord, 3):\n",
    "    visited =deepcopy(lab)\n",
    "    for i, j in case:\n",
    "        visited[i][j] = 1\n",
    "    \n",
    "    cnt = len(safety_coord)\n",
    "    # BFS\n",
    "    queue = deque(virus_coord)\n",
    "    while queue:\n",
    "        i_now, j_now = queue.pop()\n",
    "        for i_adj, j_adj in [(i_now+1, j_now), (i_now, j_now+1), (i_now-1, j_now), (i_now, j_now-1)]:\n",
    "            if 0<=i_adj<N and 0<=j_adj<M and not visited[i_adj][j_adj]:\n",
    "                visited[i_adj][j_adj] = 2\n",
    "                queue.append((i_adj, j_adj))\n",
    "                cnt -= 1\n",
    "    if maxi < cnt:\n",
    "        maxi = cnt\n",
    "\n",
    "print(maxi - 3)"
   ]
  },
  {
   "cell_type": "code",
   "execution_count": 29,
   "metadata": {},
   "outputs": [
    {
     "data": {
      "text/plain": [
       "[[0, 0, 0, 0, 0, 0],\n",
       " [1, 0, 0, 0, 0, 2],\n",
       " [1, 1, 1, 0, 0, 2],\n",
       " [0, 0, 0, 0, 0, 2]]"
      ]
     },
     "execution_count": 29,
     "metadata": {},
     "output_type": "execute_result"
    }
   ],
   "source": [
    "lab"
   ]
  },
  {
   "cell_type": "code",
   "execution_count": 30,
   "metadata": {},
   "outputs": [
    {
     "data": {
      "text/plain": [
       "[[2, 2, 2, 2, 2, 2],\n",
       " [1, 2, 2, 2, 2, 2],\n",
       " [1, 1, 1, 2, 2, 2],\n",
       " [0, 0, 1, 1, 1, 2]]"
      ]
     },
     "execution_count": 30,
     "metadata": {},
     "output_type": "execute_result"
    }
   ],
   "source": [
    "visited"
   ]
  },
  {
   "cell_type": "code",
   "execution_count": 10,
   "metadata": {},
   "outputs": [
    {
     "data": {
      "text/plain": [
       "41664"
      ]
     },
     "execution_count": 10,
     "metadata": {},
     "output_type": "execute_result"
    }
   ],
   "source": [
    "len(list(cb(range(64), 3)))"
   ]
  },
  {
   "cell_type": "code",
   "execution_count": 11,
   "metadata": {},
   "outputs": [],
   "source": [
    "from collections import deque"
   ]
  },
  {
   "cell_type": "code",
   "execution_count": null,
   "metadata": {},
   "outputs": [],
   "source": []
  }
 ],
 "metadata": {
  "interpreter": {
   "hash": "8fac594bfae6525c0c41b4041d2d72effa188cc8ead05f81b1fab2bb098927fb"
  },
  "kernelspec": {
   "display_name": "Python 3.8.8 ('base')",
   "language": "python",
   "name": "python3"
  },
  "language_info": {
   "codemirror_mode": {
    "name": "ipython",
    "version": 3
   },
   "file_extension": ".py",
   "mimetype": "text/x-python",
   "name": "python",
   "nbconvert_exporter": "python",
   "pygments_lexer": "ipython3",
   "version": "3.8.8"
  },
  "orig_nbformat": 4
 },
 "nbformat": 4,
 "nbformat_minor": 2
}
