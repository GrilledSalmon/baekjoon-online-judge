{
 "cells": [
  {
   "cell_type": "markdown",
   "metadata": {},
   "source": [
    "# 4195 친구 네트워크\n",
    "220112~220115\n",
    "- 소감 : 처음엔 set을 가지고 그룹별로 집합 만들어서 그룹끼리 관계 생기면 합쳐주고 했는데 걍 시간초과 뜸. 내 생각으로는 더 시간복잡도를 줄이기 위한 방법이 생각나지 않았는데, 질문들을 보니까 유니온 파인드라는 알고리즘을 쓰는 거였음. 이전 알고리즘의 문제는 새로운 관계를 업데이트해야 할 때 굳이 모든 집합을 새로 만들고 없애야 하는 거였음. 근데 유니온 파인드는 그룹 관계 정보를 기억하고 확인하는 경우에만 업데이트 해주면 되기 때문에 이전에 set을 사용한 것보다 효율적임. 이번 문제를 효율화 하는 방법 알고서 큰 깨달음을 얻음... 최적화 잘 하려면 정말 문제를 푸는데 필요한 연산이 무엇인지 정확하게 인지해야 한다. 문제는 꽤 효율적으로 잘 풀긴 했지만 다른 사람들은 어떻게 풀었는지 확인해볼 필요가 있을 것 같다.\n",
    "- 풀이\n",
    "    - 유니온 파인드를 사용한다.\n",
    "    - group_dic[name] = name 꼴로 그룹을 만들고, 그룹이 같으면 먼저 name이 정의된 녀석의 그룹명을 따른다. 이런 구조로 그룹을 만드는 이유는 유니온 파인드처럼 재귀를 활용하기 위함. 자세한 내용은 코드 참고\n",
    "    - 길이를 출력할 때는 size_dic[group명] = 길이(int) 꼴로 저장해서 입력받는 관계 경우에 따라 그룹의 사이즈를 업데이트 해줌\n",
    "- 알고리즘 분류\n",
    "    - 자료 구조\n",
    "    - 분리 집합\n",
    "    - 해시를 사용한 집합과 맵\n",
    "- 티어 : 골드 2"
   ]
  },
  {
   "cell_type": "code",
   "execution_count": 42,
   "metadata": {},
   "outputs": [
    {
     "name": "stdout",
     "output_type": "stream",
     "text": [
      "2\n",
      "3\n",
      "4\n",
      "5\n",
      "10\n",
      "20\n",
      "40\n",
      "80\n",
      "160\n",
      "320\n"
     ]
    }
   ],
   "source": [
    "import sys\n",
    "# input = sys.stdin.readline\n",
    "\n",
    "def get_group(group_dic, name, origin_name, _depth=0):\n",
    "    group_name = group_dic.get(name, None)\n",
    "    if group_name is None: # 이름 등록이 안 된 경우\n",
    "        return None\n",
    "\n",
    "    if group_name == name: # 찐 그룹을 찾은 경우\n",
    "        if _depth > 1: # 찐 그룹 업데이트\n",
    "            group_dic[origin_name] = group_name # 그냥 name을 넘겨줘도 됨\n",
    "        return group_name\n",
    "\n",
    "    else: # 찐 그룹을 찾아서(union find)\n",
    "        _depth += 1\n",
    "        return get_group(group_dic, group_name, origin_name, _depth)\n",
    "\n",
    "\n",
    "T = int(input())\n",
    "\n",
    "for _ in range(T):\n",
    "    group_dic = {} # name-group\n",
    "    size_dic = {} # group-group_size\n",
    "\n",
    "    F = int(input())\n",
    "\n",
    "    for _ in range(F):\n",
    "        name_a, name_b = input().strip().split()\n",
    "        a_group, b_group = get_group(group_dic, name_a, name_a), get_group(group_dic, name_b, name_b)\n",
    "        \n",
    "        if a_group is None and b_group is None: # 둘 다 뉴비인 경우\n",
    "            group_dic[name_a], group_dic[name_b] = name_a, name_a\n",
    "            size_dic[name_a] = 2\n",
    "            print(2)\n",
    "        \n",
    "        elif a_group is not None and b_group is None: # b만 뉴비인 경우\n",
    "            group_dic[name_b] = a_group\n",
    "            size_dic[a_group] += 1\n",
    "            print(size_dic[a_group])\n",
    "\n",
    "        elif a_group is None and b_group is not None: # a만 뉴비인 경우\n",
    "            group_dic[name_a] = b_group\n",
    "            size_dic[b_group] += 1\n",
    "            print(size_dic[b_group])\n",
    "\n",
    "        elif a_group != b_group: # a, b 둘 다 그룹이 있지만 서로 다른 그룹이었던 경우. 합쳐야 함.\n",
    "            group_dic[b_group] = a_group # 그룹의 대표만 바꿔주면 합병 끝\n",
    "            size_dic[a_group] += size_dic[b_group]\n",
    "            print(size_dic[a_group])\n",
    "\n",
    "        else: # 둘 다 그룹이 있고, 같은 그룹이었던 경우\n",
    "            print(size_dic[a_group])\n"
   ]
  },
  {
   "cell_type": "markdown",
   "metadata": {},
   "source": [
    "틀린 반례  \n",
    "입\n",
    "```\n",
    "1\n",
    "10\n",
    "a b\n",
    "a c\n",
    "a d\n",
    "a e\n",
    "b c\n",
    "b d\n",
    "b e\n",
    "c d\n",
    "c e\n",
    "d e\n",
    "```\n",
    "\n",
    "출(잘못된 출력)\n",
    "```\n",
    "2\n",
    "3\n",
    "4\n",
    "5\n",
    "10\n",
    "20\n",
    "40\n",
    "80\n",
    "160\n",
    "320\n",
    "```"
   ]
  },
  {
   "cell_type": "code",
   "execution_count": 36,
   "metadata": {},
   "outputs": [],
   "source": [
    "def get_group(group_dic, name, origin_name, _depth=0):\n",
    "    group_name = group_dic.get(name, None)\n",
    "    # print(group_name)\n",
    "    if group_name is None: # 이름 등록이 안 된 경우\n",
    "        return None\n",
    "\n",
    "    if group_name == name: # 찐 그룹을 찾은 경우\n",
    "        if _depth > 1: # 찐 그룹 업데이트\n",
    "            group_dic[origin_name] = group_name # 그냥 name을 넘겨줘도 됨\n",
    "        return group_name\n",
    "\n",
    "    else: # 찐 그룹을 찾아서(union find)\n",
    "        _depth += 1\n",
    "        return get_group(group_dic, group_name, origin_name, _depth)\n"
   ]
  },
  {
   "cell_type": "code",
   "execution_count": 37,
   "metadata": {},
   "outputs": [
    {
     "name": "stdout",
     "output_type": "stream",
     "text": [
      "윤우\n"
     ]
    }
   ],
   "source": [
    "temp = {'윤우' : '윤우', '석희' : '윤우', '도나' : '석희'}\n",
    "# get_group(temp, '윤우', '윤우')\n",
    "# get_group(temp, '석희', '석희')\n",
    "print(get_group(temp, '도나', '도나'))"
   ]
  },
  {
   "cell_type": "code",
   "execution_count": 39,
   "metadata": {},
   "outputs": [
    {
     "name": "stdout",
     "output_type": "stream",
     "text": [
      "2\n",
      "{'Fred': 'Fred', 'Barney': 'Fred'}\n",
      "2\n",
      "{'Fred': 'Fred', 'Barney': 'Fred', 'Betty': 'Betty', 'Wilma': 'Betty'}\n",
      "4\n",
      "{'Fred': 'Fred', 'Barney': 'Fred', 'Betty': 'Fred', 'Wilma': 'Betty'}\n"
     ]
    }
   ],
   "source": [
    "# 출력초과라고 뜨지만 위에 있는 반례의 경우를 고려하지 않아서 틀린 코드\n",
    "\n",
    "import sys\n",
    "# input = sys.stdin.readline\n",
    "\n",
    "group_dic = {} # name-group\n",
    "size_dic = {} # group-group_size\n",
    "\n",
    "# T = int(input())\n",
    "F = int(input())\n",
    "\n",
    "def get_group(group_dic, name, origin_name, _depth=0):\n",
    "    group_name = group_dic.get(name, None)\n",
    "    # print(group_name)\n",
    "    if group_name is None: # 이름 등록이 안 된 경우\n",
    "        return None\n",
    "\n",
    "    if group_name == name: # 찐 그룹을 찾은 경우\n",
    "        if _depth > 1: # 찐 그룹 업데이트\n",
    "            group_dic[origin_name] = group_name # 그냥 name을 넘겨줘도 됨\n",
    "        return group_name\n",
    "\n",
    "    else: # 찐 그룹을 찾아서(union find)\n",
    "        _depth += 1\n",
    "        return get_group(group_dic, group_name, origin_name, _depth)\n",
    "\n",
    "for _ in range(F):\n",
    "    name_a, name_b = input().split()\n",
    "    a_group, b_group = get_group(group_dic, name_a, name_a), get_group(group_dic, name_b, name_b)\n",
    "    \n",
    "    if a_group is None and b_group is None: # 둘 다 뉴비인 경우\n",
    "        group_dic[name_a], group_dic[name_b] = name_a, name_a\n",
    "        size_dic[name_a] = 2\n",
    "        print(2)\n",
    "    \n",
    "    elif a_group is not None and b_group is None: # b만 뉴비인 경우\n",
    "        group_dic[name_b] = a_group\n",
    "        size_dic[a_group] += 1\n",
    "        print(size_dic[a_group])\n",
    "\n",
    "    elif a_group is None and b_group is not None: # a만 뉴비인 경우\n",
    "        group_dic[name_a] = b_group\n",
    "        size_dic[b_group] += 1\n",
    "        print(size_dic[b_group])\n",
    "    \n",
    "    else: # a, b 둘 다 그룹이 있었던 경우. 합쳐야 함.\n",
    "        group_dic[b_group] = a_group # 그룹의 대표만 바꿔주면 합병 끝\n",
    "        size_dic[a_group] += size_dic[b_group]\n",
    "        print(size_dic[a_group])\n",
    "    # print(a_group, b_group)\n",
    "    print(group_dic)\n"
   ]
  },
  {
   "cell_type": "code",
   "execution_count": 30,
   "metadata": {},
   "outputs": [
    {
     "name": "stdout",
     "output_type": "stream",
     "text": [
      "{}\n",
      "2\n",
      "{0: {'Fred', 'Barney'}}\n",
      "3\n",
      "{0: {'Fred', 'Barney', 'Betty'}}\n",
      "4\n",
      "{}\n",
      "2\n",
      "{0: {'Fred', 'Barney'}}\n",
      "2\n",
      "{0: {'Fred', 'Barney'}, 1: {'Betty', 'Wilma'}}\n",
      "4\n"
     ]
    }
   ],
   "source": [
    "# 기냥 시간 초과\n",
    "\n",
    "import sys\n",
    "# input = sys.stdin.readline\n",
    "\n",
    "def processing(network_dic, key_a, key_b, name_a, name_b, new_key):\n",
    "    # 새로운 친구들인 경우\n",
    "    # print(network_dic)\n",
    "    if key_a is None and key_b is None:\n",
    "        network_dic[new_key] = set([name_a, name_b])\n",
    "        print(2)\n",
    "        return new_key + 1 # dict에 새로운 그룹이 생기면서 new_key를 사용했기 때문\n",
    "    \n",
    "    # name_a만 소속이 있었던 경우\n",
    "    elif key_a is not None and key_b is None:\n",
    "        network_dic[key_a].add(name_b)\n",
    "        print(len(network_dic[key_a]))\n",
    "        return new_key\n",
    "    \n",
    "    # name_b만 소속이 있었던 경우\n",
    "    elif key_a is None and key_b is not None:\n",
    "        network_dic[key_b].add(name_a)\n",
    "        print(len(network_dic[key_b]))\n",
    "        return new_key\n",
    "\n",
    "    else: # None, None(둘 다 원래 소속이 있었어서 merge해야 하는 경우)\n",
    "        network_dic[key_a].update(network_dic[key_b])\n",
    "        del(network_dic[key_b])\n",
    "        print(len(network_dic[key_a]))\n",
    "        return new_key\n",
    "\n",
    "T = int(input())\n",
    "\n",
    "for _ in range(T):\n",
    "    F = int(input())\n",
    "    network_dic = dict()\n",
    "    new_key = 0\n",
    "    for _ in range(F):\n",
    "        name_a, name_b = input().strip().split()\n",
    "        net_a_key, net_b_key = None, None\n",
    "        \n",
    "        for key in network_dic.keys():\n",
    "            net = network_dic[key]\n",
    "            if net_a_key is None and name_a in net:\n",
    "                net_a_key = key\n",
    "            \n",
    "            if net_b_key is None and name_b in net:\n",
    "                net_b_key = key\n",
    "            \n",
    "            if net_a_key is not None and net_b_key is not None:\n",
    "                break\n",
    "            \n",
    "        new_key = processing(network_dic, net_a_key, net_b_key, name_a, name_b, new_key)\n",
    "        "
   ]
  },
  {
   "cell_type": "code",
   "execution_count": 23,
   "metadata": {},
   "outputs": [
    {
     "data": {
      "text/plain": [
       "'Betty'"
      ]
     },
     "execution_count": 23,
     "metadata": {},
     "output_type": "execute_result"
    }
   ],
   "source": [
    "name_a"
   ]
  },
  {
   "cell_type": "code",
   "execution_count": 24,
   "metadata": {},
   "outputs": [
    {
     "data": {
      "text/plain": [
       "{0: {'Betty', 'Wilma'}}"
      ]
     },
     "execution_count": 24,
     "metadata": {},
     "output_type": "execute_result"
    }
   ],
   "source": [
    "network_dic"
   ]
  },
  {
   "cell_type": "code",
   "execution_count": 21,
   "metadata": {},
   "outputs": [
    {
     "name": "stdout",
     "output_type": "stream",
     "text": [
      "None\n"
     ]
    }
   ],
   "source": [
    "print(net_b_key)"
   ]
  },
  {
   "cell_type": "code",
   "execution_count": null,
   "metadata": {},
   "outputs": [],
   "source": [
    "class Network():\n",
    "    def __init__(self):\n",
    "        self.member = set()\n",
    "    \n",
    "    def have(self, name):\n",
    "        \"\"\"해당 네트워크 내에 name이 있는지 확인\"\"\"\n",
    "        if name in self.member:\n",
    "            return True\n",
    "        return False"
   ]
  },
  {
   "cell_type": "code",
   "execution_count": 10,
   "metadata": {},
   "outputs": [
    {
     "ename": "SyntaxError",
     "evalue": "invalid syntax (<ipython-input-10-ca9bc81e4503>, line 5)",
     "output_type": "error",
     "traceback": [
      "\u001b[1;36m  File \u001b[1;32m\"<ipython-input-10-ca9bc81e4503>\"\u001b[1;36m, line \u001b[1;32m5\u001b[0m\n\u001b[1;33m    for i in temp:\u001b[0m\n\u001b[1;37m                 ^\u001b[0m\n\u001b[1;31mSyntaxError\u001b[0m\u001b[1;31m:\u001b[0m invalid syntax\n"
     ]
    }
   ],
   "source": [
    "temp = set()\n",
    "temp.add(set([1, 2, 3])\n",
    "# temp.add(set([4, 5, 6]))\n",
    "\n",
    "for i in temp:\n",
    "    print(i)"
   ]
  },
  {
   "cell_type": "code",
   "execution_count": 17,
   "metadata": {},
   "outputs": [
    {
     "data": {
      "text/plain": [
       "{1, 2, 3, 4}"
      ]
     },
     "execution_count": 17,
     "metadata": {},
     "output_type": "execute_result"
    }
   ],
   "source": [
    "temp = set()\n",
    "a = set([1, 2, 3])\n",
    "a.add(4)\n",
    "a"
   ]
  },
  {
   "cell_type": "code",
   "execution_count": 3,
   "metadata": {},
   "outputs": [
    {
     "data": {
      "text/plain": [
       "1"
      ]
     },
     "execution_count": 3,
     "metadata": {},
     "output_type": "execute_result"
    }
   ],
   "source": [
    "temp.pop()"
   ]
  },
  {
   "cell_type": "code",
   "execution_count": 4,
   "metadata": {},
   "outputs": [
    {
     "data": {
      "text/plain": [
       "{2, 3}"
      ]
     },
     "execution_count": 4,
     "metadata": {},
     "output_type": "execute_result"
    }
   ],
   "source": [
    "temp"
   ]
  },
  {
   "cell_type": "code",
   "execution_count": 18,
   "metadata": {},
   "outputs": [
    {
     "ename": "TypeError",
     "evalue": "unhashable type: 'list'",
     "output_type": "error",
     "traceback": [
      "\u001b[1;31m---------------------------------------------------------------------------\u001b[0m",
      "\u001b[1;31mTypeError\u001b[0m                                 Traceback (most recent call last)",
      "\u001b[1;32m<ipython-input-18-bccc54e2efb3>\u001b[0m in \u001b[0;36m<module>\u001b[1;34m\u001b[0m\n\u001b[1;32m----> 1\u001b[1;33m \u001b[0mtemp\u001b[0m\u001b[1;33m.\u001b[0m\u001b[0madd\u001b[0m\u001b[1;33m(\u001b[0m\u001b[1;33m[\u001b[0m\u001b[1;36m1\u001b[0m\u001b[1;33m,\u001b[0m \u001b[1;36m2\u001b[0m\u001b[1;33m,\u001b[0m \u001b[1;36m3\u001b[0m\u001b[1;33m]\u001b[0m\u001b[1;33m)\u001b[0m\u001b[1;33m\u001b[0m\u001b[1;33m\u001b[0m\u001b[0m\n\u001b[0m",
      "\u001b[1;31mTypeError\u001b[0m: unhashable type: 'list'"
     ]
    }
   ],
   "source": [
    "temp.add([1, 2, 3])"
   ]
  },
  {
   "cell_type": "code",
   "execution_count": 1,
   "metadata": {},
   "outputs": [
    {
     "data": {
      "text/plain": [
       "{1, 2, 3}"
      ]
     },
     "execution_count": 1,
     "metadata": {},
     "output_type": "execute_result"
    }
   ],
   "source": [
    "s1 = set([1, 2, 3])\n",
    "s2 = set([4, 5, 6])\n",
    "s1"
   ]
  },
  {
   "cell_type": "code",
   "execution_count": 6,
   "metadata": {},
   "outputs": [],
   "source": [
    "s1.update(s2)"
   ]
  },
  {
   "cell_type": "code",
   "execution_count": 7,
   "metadata": {},
   "outputs": [
    {
     "data": {
      "text/plain": [
       "{1, 2, 3, 4, 5, 6}"
      ]
     },
     "execution_count": 7,
     "metadata": {},
     "output_type": "execute_result"
    }
   ],
   "source": [
    "s1"
   ]
  },
  {
   "cell_type": "code",
   "execution_count": 4,
   "metadata": {},
   "outputs": [],
   "source": [
    "s1.add(4)"
   ]
  },
  {
   "cell_type": "code",
   "execution_count": 5,
   "metadata": {},
   "outputs": [
    {
     "data": {
      "text/plain": [
       "{1, 2, 3, 4}"
      ]
     },
     "execution_count": 5,
     "metadata": {},
     "output_type": "execute_result"
    }
   ],
   "source": [
    "s1"
   ]
  },
  {
   "cell_type": "code",
   "execution_count": 2,
   "metadata": {},
   "outputs": [],
   "source": [
    "dic = {1 : 2, 4 : 5}"
   ]
  },
  {
   "cell_type": "code",
   "execution_count": 9,
   "metadata": {},
   "outputs": [
    {
     "data": {
      "text/plain": [
       "2"
      ]
     },
     "execution_count": 9,
     "metadata": {},
     "output_type": "execute_result"
    }
   ],
   "source": [
    "dic[1]"
   ]
  },
  {
   "cell_type": "code",
   "execution_count": 10,
   "metadata": {},
   "outputs": [],
   "source": [
    "del(dic[1])"
   ]
  },
  {
   "cell_type": "code",
   "execution_count": 11,
   "metadata": {},
   "outputs": [
    {
     "ename": "KeyError",
     "evalue": "1",
     "output_type": "error",
     "traceback": [
      "\u001b[1;31m---------------------------------------------------------------------------\u001b[0m",
      "\u001b[1;31mKeyError\u001b[0m                                  Traceback (most recent call last)",
      "\u001b[1;32m<ipython-input-11-44fd7baa145e>\u001b[0m in \u001b[0;36m<module>\u001b[1;34m\u001b[0m\n\u001b[1;32m----> 1\u001b[1;33m \u001b[0mdic\u001b[0m\u001b[1;33m[\u001b[0m\u001b[1;36m1\u001b[0m\u001b[1;33m]\u001b[0m\u001b[1;33m\u001b[0m\u001b[1;33m\u001b[0m\u001b[0m\n\u001b[0m",
      "\u001b[1;31mKeyError\u001b[0m: 1"
     ]
    }
   ],
   "source": [
    "dic[1]"
   ]
  },
  {
   "cell_type": "code",
   "execution_count": 12,
   "metadata": {},
   "outputs": [
    {
     "data": {
      "text/plain": [
       "5"
      ]
     },
     "execution_count": 12,
     "metadata": {},
     "output_type": "execute_result"
    }
   ],
   "source": [
    "dic.get(4, None)"
   ]
  },
  {
   "cell_type": "code",
   "execution_count": null,
   "metadata": {},
   "outputs": [],
   "source": []
  }
 ],
 "metadata": {
  "interpreter": {
   "hash": "c798a043d5b26db4ea8dc684fe25ec244835432adc5539bce2de618403b1d63c"
  },
  "kernelspec": {
   "display_name": "Python 3.8.5 64-bit ('base': conda)",
   "language": "python",
   "name": "python3"
  },
  "language_info": {
   "codemirror_mode": {
    "name": "ipython",
    "version": 3
   },
   "file_extension": ".py",
   "mimetype": "text/x-python",
   "name": "python",
   "nbconvert_exporter": "python",
   "pygments_lexer": "ipython3",
   "version": "3.8.5"
  },
  "orig_nbformat": 4
 },
 "nbformat": 4,
 "nbformat_minor": 2
}
