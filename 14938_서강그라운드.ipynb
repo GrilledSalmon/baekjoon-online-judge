{
 "cells": [
  {
   "cell_type": "markdown",
   "metadata": {},
   "source": [
    "# 14938 서강그라운드\n",
    "220528\n",
    "- 소감\n",
    "    - 임의의 노드로부터 임의의 노드까지의 최단거리를 구해야하기 때문에 Floyd Warshall 알고리즘을 사용했습니다.(과거 풀이 참고)\n",
    "    - 알고리즘 분류를 보니 Dijstra로도 풀 수 있는 것 같아 리마인드 차원에서 Dijkstra를 사용해서도 풀어봤습니다.\n",
    "- 소요 시간\n",
    "    - Floyd Warshall : 26분(과거 풀이 코드 참고)\n",
    "    - Dijkstra : 40분\n",
    "- 알고리즘 분류 : 그래프 이론, 다익스트라, 플로이드-와샬\n",
    "- 티어 : 골드 4\n"
   ]
  },
  {
   "cell_type": "code",
   "execution_count": 2,
   "metadata": {},
   "outputs": [],
   "source": [
    "# 방법 1 : Floyd Warshall\n",
    "import sys\n",
    "# input = sys.stdin.readline\n",
    "n, m, r = map(int, input().split())\n",
    "item_nums = list(map(int, input().split()))\n",
    "\n",
    "adj_mat = [[float('inf') if i != j else 0 for i in range(n)] for j in range(n)]\n",
    "for _ in range(r):\n",
    "    a, b, l = map(int, input().split())\n",
    "    adj_mat[a-1][b-1] = l\n",
    "    adj_mat[b-1][a-1] = l\n",
    "\n",
    "for mid_node in range(n): # mid_node를 거쳐가는 경우\n",
    "    for start_node in range(n):\n",
    "        if start_node != mid_node:\n",
    "            for end_node in range(n):\n",
    "                if end_node != mid_node:\n",
    "                    start_to_mid_cost = adj_mat[start_node][mid_node]\n",
    "                    mid_to_end_cost = adj_mat[mid_node][end_node]\n",
    "                    if adj_mat[start_node][end_node] > start_to_mid_cost + mid_to_end_cost:\n",
    "                        adj_mat[start_node][end_node] = start_to_mid_cost + mid_to_end_cost\n",
    "\n",
    "res = []\n",
    "for line in adj_mat:\n",
    "    temp = 0\n",
    "    for col in range(n):\n",
    "        if line[col] <= m:\n",
    "            temp += item_nums[col]\n",
    "    res.append(temp)\n",
    "    \n",
    "print(max(res))"
   ]
  },
  {
   "cell_type": "code",
   "execution_count": null,
   "metadata": {},
   "outputs": [],
   "source": [
    "# 방법 2 : Dijkstra\n",
    "from heapq import heappush, heappop\n",
    "import sys\n",
    "# input = sys.stdin.readline\n",
    "n, m, r = map(int, input().split())\n",
    "item_nums = list(map(int, input().split()))\n",
    "adj_list = [[] for _ in range(n+1)]\n",
    "\n",
    "for _ in range(r):\n",
    "    a, b, l = map(int, input().split())\n",
    "    adj_list[a].append((b, l))\n",
    "    adj_list[b].append((a, l))\n",
    "\n",
    "dist_mat = [[float('inf')]*(n+1) for _ in range(n+1)]  \n",
    "\n",
    "def dikstra(node):\n",
    "    heap = [(0, node)]\n",
    "    dist = dist_mat[node]\n",
    "    dist[node] = 0\n",
    "    while heap:\n",
    "        now_dist, now_node = heappop(heap)\n",
    "        for adj_node, adj_dist in adj_list[now_node]:\n",
    "            new_dist = now_dist + adj_dist\n",
    "            if dist[adj_node] > new_dist:\n",
    "                dist[adj_node] = new_dist\n",
    "                heappush(heap, (new_dist, adj_node))\n",
    "\n",
    "for node in range(1, n+1):\n",
    "    dikstra(node)\n",
    "\n",
    "res = []\n",
    "for line in dist_mat:\n",
    "    temp = 0\n",
    "    for col in range(1, n+1):\n",
    "        if line[col] <= m:\n",
    "            temp += item_nums[col-1]\n",
    "    res.append(temp)\n",
    "    \n",
    "print(max(res))"
   ]
  },
  {
   "cell_type": "code",
   "execution_count": 3,
   "metadata": {},
   "outputs": [
    {
     "data": {
      "text/plain": [
       "([5, 7, 8, 2, 3],\n",
       " [[],\n",
       "  [(4, 5), (2, 3)],\n",
       "  [(5, 4), (3, 3), (1, 3)],\n",
       "  [(2, 3)],\n",
       "  [(1, 5)],\n",
       "  [(2, 4)]],\n",
       " 5,\n",
       " 5,\n",
       " 4)"
      ]
     },
     "execution_count": 3,
     "metadata": {},
     "output_type": "execute_result"
    }
   ],
   "source": [
    "item_nums, adj_list, n, m, r"
   ]
  },
  {
   "cell_type": "code",
   "execution_count": null,
   "metadata": {},
   "outputs": [],
   "source": [
    "# Floyd-Warshall 써야할 것 같은딩"
   ]
  },
  {
   "cell_type": "code",
   "execution_count": 10,
   "metadata": {},
   "outputs": [],
   "source": [
    "import sys\n",
    "# input = sys.stdin.readline\n",
    "n, m, r = map(int, input().split())\n",
    "item_nums = list(map(int, input().split()))\n",
    "\n",
    "adj_mat = [[float('inf') if i != j else 0 for i in range(n)] for j in range(n)]\n",
    "for _ in range(r):\n",
    "    a, b, l = map(int, input().split())\n",
    "    adj_mat[a-1][b-1] = l\n",
    "    adj_mat[b-1][a-1] = l"
   ]
  },
  {
   "cell_type": "code",
   "execution_count": 11,
   "metadata": {},
   "outputs": [
    {
     "data": {
      "text/plain": [
       "[[0, 3, inf, 5, inf],\n",
       " [3, 0, 3, inf, 4],\n",
       " [inf, 3, 0, inf, inf],\n",
       " [5, inf, inf, 0, inf],\n",
       " [inf, 4, inf, inf, 0]]"
      ]
     },
     "execution_count": 11,
     "metadata": {},
     "output_type": "execute_result"
    }
   ],
   "source": [
    "adj_mat"
   ]
  },
  {
   "cell_type": "code",
   "execution_count": 12,
   "metadata": {},
   "outputs": [
    {
     "name": "stdout",
     "output_type": "stream",
     "text": [
      "0 3 6 5 7\n",
      "3 0 3 8 4\n",
      "6 3 0 11 7\n",
      "5 8 11 0 12\n",
      "7 4 7 12 0\n"
     ]
    }
   ],
   "source": [
    "for mid_node in range(n): # mid_node를 거쳐가는 경우\n",
    "    for start_node in range(n):\n",
    "        if start_node != mid_node:\n",
    "            for end_node in range(n):\n",
    "                if end_node != mid_node:\n",
    "                    start_to_mid_cost = adj_mat[start_node][mid_node]\n",
    "                    mid_to_end_cost = adj_mat[mid_node][end_node]\n",
    "                    if adj_mat[start_node][end_node] > start_to_mid_cost + mid_to_end_cost:\n",
    "                        adj_mat[start_node][end_node] = start_to_mid_cost + mid_to_end_cost\n",
    "\n",
    "for row in adj_mat:\n",
    "    for i in range(n):\n",
    "        if row[i] == float('inf'):\n",
    "            row[i] = 0\n",
    "    print(' '.join(map(str, row)))"
   ]
  },
  {
   "cell_type": "code",
   "execution_count": null,
   "metadata": {},
   "outputs": [],
   "source": []
  },
  {
   "cell_type": "code",
   "execution_count": 14,
   "metadata": {},
   "outputs": [
    {
     "name": "stdout",
     "output_type": "stream",
     "text": [
      "23\n"
     ]
    }
   ],
   "source": [
    "res = []\n",
    "for line in adj_mat:\n",
    "    temp = 0\n",
    "    for col in range(n):\n",
    "        if line[col] <= m:\n",
    "            temp += item_nums[col]\n",
    "    res.append(temp)\n",
    "print(max(res))"
   ]
  },
  {
   "cell_type": "code",
   "execution_count": 15,
   "metadata": {},
   "outputs": [],
   "source": [
    "from heapq import heappush, heappop\n",
    "import sys\n",
    "# input = sys.stdin.readline\n",
    "n, m, r = map(int, input().split())\n",
    "item_nums = list(map(int, input().split()))\n",
    "adj_list = [[] for _ in range(n+1)]\n",
    "\n",
    "for _ in range(r):\n",
    "    a, b, l = map(int, input().split())\n",
    "    adj_list[a].append((b, l))\n",
    "    adj_list[b].append((a, l))"
   ]
  },
  {
   "cell_type": "code",
   "execution_count": 17,
   "metadata": {},
   "outputs": [
    {
     "data": {
      "text/plain": [
       "([[],\n",
       "  [(4, 5), (2, 3)],\n",
       "  [(5, 4), (3, 3), (1, 3)],\n",
       "  [(2, 3)],\n",
       "  [(1, 5)],\n",
       "  [(2, 4)]],\n",
       " 5,\n",
       " 5,\n",
       " 4)"
      ]
     },
     "execution_count": 17,
     "metadata": {},
     "output_type": "execute_result"
    }
   ],
   "source": [
    "adj_list, n, m, r"
   ]
  },
  {
   "cell_type": "code",
   "execution_count": 23,
   "metadata": {},
   "outputs": [
    {
     "name": "stdout",
     "output_type": "stream",
     "text": [
      "23\n"
     ]
    }
   ],
   "source": [
    "dist_mat = [[float('inf')]*(n+1) for _ in range(n+1)]\n",
    "\n",
    "def dikstra(node):\n",
    "    heap = [(0, node)]\n",
    "    dist = dist_mat[node]\n",
    "    while heap:\n",
    "        now_dist, now_node = heappop(heap)\n",
    "        dist[now_node] = now_dist\n",
    "        for adj_node, adj_dist in adj_list[now_node]:\n",
    "            new_dist = now_dist + adj_dist\n",
    "            if dist[adj_node] > new_dist:\n",
    "                dist[adj_node] = new_dist\n",
    "                dist_mat[adj_node][node] = new_dist\n",
    "                heappush(heap, (new_dist, adj_node))\n",
    "for node in range(1, n+1):\n",
    "    dikstra(node)\n",
    "\n",
    "res = []\n",
    "for line in dist_mat:\n",
    "    temp = 0\n",
    "    for col in range(1, n+1):\n",
    "        if line[col] <= m:\n",
    "            temp += item_nums[col-1]\n",
    "    res.append(temp)\n",
    "    \n",
    "print(max(res))"
   ]
  },
  {
   "cell_type": "code",
   "execution_count": 20,
   "metadata": {},
   "outputs": [
    {
     "data": {
      "text/plain": [
       "[[inf, inf, inf, inf, inf, inf],\n",
       " [inf, 0, 3, 6, 5, 7],\n",
       " [inf, 3, 0, 3, inf, 4],\n",
       " [inf, 6, 3, 0, inf, inf],\n",
       " [inf, 5, inf, inf, 0, inf],\n",
       " [inf, 7, 4, inf, inf, 0]]"
      ]
     },
     "execution_count": 20,
     "metadata": {},
     "output_type": "execute_result"
    }
   ],
   "source": [
    "dist_mat"
   ]
  },
  {
   "cell_type": "code",
   "execution_count": null,
   "metadata": {},
   "outputs": [],
   "source": []
  }
 ],
 "metadata": {
  "interpreter": {
   "hash": "f08154012ddadd8e950e6e9e035c7a7b32c136e7647e9b7c77e02eb723a8bedb"
  },
  "kernelspec": {
   "display_name": "Python 3.8.8 ('base')",
   "language": "python",
   "name": "python3"
  },
  "language_info": {
   "codemirror_mode": {
    "name": "ipython",
    "version": 3
   },
   "file_extension": ".py",
   "mimetype": "text/x-python",
   "name": "python",
   "nbconvert_exporter": "python",
   "pygments_lexer": "ipython3",
   "version": "3.8.8"
  },
  "orig_nbformat": 4
 },
 "nbformat": 4,
 "nbformat_minor": 2
}
