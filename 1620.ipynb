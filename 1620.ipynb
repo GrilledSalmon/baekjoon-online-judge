{
 "cells": [
  {
   "cell_type": "markdown",
   "metadata": {},
   "source": [
    "# 1620 나는야 포켓몬 마스터 이다솜\n",
    "211130  \n",
    "- 소감 : dictionary를 활용하는 문제. 금방 풀었다.\n",
    "- 알고리즘 분류\n",
    "    - 자료 구조\n",
    "    - 해시를 사용한 집합과 맵\n",
    "- 티어 : 실버 4"
   ]
  },
  {
   "cell_type": "code",
   "execution_count": 9,
   "metadata": {},
   "outputs": [],
   "source": [
    "import sys\n",
    "input = sys.stdin.readline\n",
    "\n",
    "N, M = map(int, input().strip().split())\n",
    "\n",
    "poke_list = [input().strip() for _ in range(N)]\n",
    "poke_dic = {}\n",
    "for i, poke in enumerate(poke_list):\n",
    "    poke_dic[poke] = i + 1\n",
    "\n",
    "def ans_return(inp):\n",
    "    if inp.isdigit():\n",
    "        return poke_list[int(inp) - 1]\n",
    "    return poke_dic[inp]\n",
    "\n",
    "[print(ans_return(input().strip())) for _ in range(M)];"
   ]
  },
  {
   "cell_type": "code",
   "execution_count": 5,
   "metadata": {},
   "outputs": [
    {
     "data": {
      "text/plain": [
       "(26, 5)"
      ]
     },
     "execution_count": 5,
     "metadata": {},
     "output_type": "execute_result"
    }
   ],
   "source": [
    "N, M"
   ]
  },
  {
   "cell_type": "code",
   "execution_count": 10,
   "metadata": {},
   "outputs": [
    {
     "name": "stdout",
     "output_type": "stream",
     "text": [
      "4\n",
      "b\n",
      "2\n"
     ]
    }
   ],
   "source": [
    "poke_list = [input().strip() for _ in range(N)]\n",
    "poke_dic = {}\n",
    "for i, poke in enumerate(poke_list):\n",
    "    poke_dic[poke] = i + 1\n",
    "\n",
    "def ans_return(inp):\n",
    "    if inp.isdigit():\n",
    "        return poke_list[int(inp) - 1]\n",
    "    return poke_dic[inp]\n",
    "\n",
    "[print(ans_return(input())) for _ in range(M)];"
   ]
  },
  {
   "cell_type": "code",
   "execution_count": 7,
   "metadata": {},
   "outputs": [
    {
     "data": {
      "text/plain": [
       "True"
      ]
     },
     "execution_count": 7,
     "metadata": {},
     "output_type": "execute_result"
    }
   ],
   "source": [
    "'14135f'.isdigit()"
   ]
  },
  {
   "cell_type": "code",
   "execution_count": null,
   "metadata": {},
   "outputs": [],
   "source": []
  }
 ],
 "metadata": {
  "interpreter": {
   "hash": "c798a043d5b26db4ea8dc684fe25ec244835432adc5539bce2de618403b1d63c"
  },
  "kernelspec": {
   "display_name": "Python 3.8.5 64-bit ('base': conda)",
   "language": "python",
   "name": "python3"
  },
  "language_info": {
   "codemirror_mode": {
    "name": "ipython",
    "version": 3
   },
   "file_extension": ".py",
   "mimetype": "text/x-python",
   "name": "python",
   "nbconvert_exporter": "python",
   "pygments_lexer": "ipython3",
   "version": "3.8.5"
  },
  "orig_nbformat": 4
 },
 "nbformat": 4,
 "nbformat_minor": 2
}
