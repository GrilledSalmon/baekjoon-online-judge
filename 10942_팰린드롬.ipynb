{
 "cells": [
  {
   "cell_type": "markdown",
   "metadata": {},
   "source": [
    "# 10942 팰린드롬?\n",
    "226006\n",
    "- 소감\n",
    "    - Class 5는 무슨 DP만 주구장창 있네요. 다행히 이번에는 DP문제라는 걸 금방 알아차렸습니다.\n",
    "    - 그래도 다행히 DP도 조금씩 적응이 되는 것 같아서 다행이에여.\n",
    "    - 이번에는 상향식으로 접근하다가 하향식이 훨씬 쉬울 것 같아서 하향식으로 접근했고 다행히 금방 풀었습니다.\n",
    "    - 이틀간 상향식을 연습했던 덕분에 이제는 DP를 풀 때 두 방법 모두 접근할 수 있게 된 것 같네여.\n",
    "- 소요 시간 : 25분\n",
    "- 알고리즘 분류 : 다이나믹 프로그래밍\n",
    "- 티어 : 골드 4"
   ]
  },
  {
   "cell_type": "code",
   "execution_count": 10,
   "metadata": {},
   "outputs": [],
   "source": [
    "# 홍준이는 자연수 N개를 칠판에 적는다.\n",
    "# 명우에게 질문을 총 M번 한다.\n",
    "# 각 질문은 두 정수 S와 E로 나타내며, S번째 수부터 E번째 까지 수가 팰린드롬을 이루는지 물어보며\n",
    "# 명우는 각 질문에 대해 팰린드롬이다 아니다를 대답\n",
    "import sys\n",
    "sys.setrecursionlimit(100000)\n",
    "# input = sys.stdin.readline\n",
    "N = int(input())\n",
    "nums = list(map(int, input().split()))\n",
    "nums = [None] + nums\n",
    "M = int(input())\n",
    "\n",
    "# memo[i][j] i부터 j까지 펠린드롬이면 1 아니면 0\n",
    "memo = [[None]*(N+1) for _ in range(N+1)]\n",
    "\n",
    "def dp(s, e):\n",
    "    \"\"\"s, e가 팰린드롬인지 리턴\"\"\"\n",
    "    if memo[s][e] == None:\n",
    "        if s == e:\n",
    "            memo[s][e] = 1\n",
    "        elif e-s == 1:\n",
    "            if nums[s] == nums[e]:\n",
    "                memo[s][e] = 1\n",
    "            else:\n",
    "                memo[s][e] = 0\n",
    "        else:\n",
    "            if nums[s] == nums[e] and dp(s+1, e-1):\n",
    "                memo[s][e] = 1\n",
    "            else:\n",
    "                memo[s][e] = 0\n",
    "    return memo[s][e]\n",
    "\n",
    "res = []\n",
    "for _ in range(M):\n",
    "    s, e = map(int, input().split())\n",
    "    res.append(dp(s, e))\n",
    "\n",
    "print('\\n'.join(map(str, res)))\n",
    "    "
   ]
  },
  {
   "cell_type": "code",
   "execution_count": 11,
   "metadata": {},
   "outputs": [
    {
     "data": {
      "text/plain": [
       "(7, [None, 1, 2, 1, 3, 1, 2, 1], 4, [(1, 3), (2, 5), (3, 3), (5, 7)])"
      ]
     },
     "execution_count": 11,
     "metadata": {},
     "output_type": "execute_result"
    }
   ],
   "source": [
    "N, nums, M, questions"
   ]
  },
  {
   "cell_type": "code",
   "execution_count": 16,
   "metadata": {},
   "outputs": [
    {
     "name": "stdout",
     "output_type": "stream",
     "text": [
      "1\n",
      "0\n",
      "1\n",
      "1\n"
     ]
    }
   ],
   "source": [
    "# memo[i][j] i부터 j까지 펠린드롬이면 1 아니면 0\n",
    "# memo[i][j] = \n",
    "memo = [[None]*(N+1) for _ in range(N+1)]\n",
    "\n",
    "def dp(s, e):\n",
    "    \"\"\"s, e가 팰린드롬인지 리턴\"\"\"\n",
    "    if memo[s][e] == None:\n",
    "        if s == e:\n",
    "            memo[s][e] = 1\n",
    "        elif e-s == 1:\n",
    "            if nums[s] == nums[e]:\n",
    "                memo[s][e] = 1\n",
    "            else:\n",
    "                memo[s][e] = 0\n",
    "        else:\n",
    "            if nums[s] == nums[e] and dp(s+1, e-1):\n",
    "                memo[s][e] = 1\n",
    "            else:\n",
    "                memo[s][e] = 0\n",
    "    return memo[s][e]\n",
    "\n",
    "for s, e in questions:\n",
    "    print(dp(s, e))"
   ]
  },
  {
   "cell_type": "code",
   "execution_count": 17,
   "metadata": {},
   "outputs": [
    {
     "data": {
      "text/plain": [
       "([[None, None, None, None, None, None, None, None],\n",
       "  [None, None, None, 1, None, None, None, None],\n",
       "  [None, None, 1, None, None, 0, None, None],\n",
       "  [None, None, None, 1, None, None, None, None],\n",
       "  [None, None, None, None, None, None, None, None],\n",
       "  [None, None, None, None, None, None, None, 1],\n",
       "  [None, None, None, None, None, None, 1, None],\n",
       "  [None, None, None, None, None, None, None, None]],\n",
       " [None, 1, 2, 1, 3, 1, 2, 1])"
      ]
     },
     "execution_count": 17,
     "metadata": {},
     "output_type": "execute_result"
    }
   ],
   "source": [
    "memo, nums"
   ]
  },
  {
   "cell_type": "code",
   "execution_count": null,
   "metadata": {},
   "outputs": [],
   "source": []
  }
 ],
 "metadata": {
  "interpreter": {
   "hash": "f08154012ddadd8e950e6e9e035c7a7b32c136e7647e9b7c77e02eb723a8bedb"
  },
  "kernelspec": {
   "display_name": "Python 3.8.8 ('base')",
   "language": "python",
   "name": "python3"
  },
  "language_info": {
   "codemirror_mode": {
    "name": "ipython",
    "version": 3
   },
   "file_extension": ".py",
   "mimetype": "text/x-python",
   "name": "python",
   "nbconvert_exporter": "python",
   "pygments_lexer": "ipython3",
   "version": "3.8.8"
  },
  "orig_nbformat": 4
 },
 "nbformat": 4,
 "nbformat_minor": 2
}
