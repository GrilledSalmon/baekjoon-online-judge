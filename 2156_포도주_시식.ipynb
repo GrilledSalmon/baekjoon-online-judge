{
 "cells": [
  {
   "cell_type": "markdown",
   "metadata": {},
   "source": [
    "# 2156 포도주 시식\n",
    "220427\n",
    "- 알고리즘 분류\n",
    "    - 다이나믹 프로그래밍\n",
    "- 티어 : 실버 1"
   ]
  },
  {
   "cell_type": "code",
   "execution_count": 14,
   "metadata": {},
   "outputs": [
    {
     "name": "stdout",
     "output_type": "stream",
     "text": [
      "33\n"
     ]
    }
   ],
   "source": [
    "import sys\n",
    "sys.setrecursionlimit(100000)\n",
    "# input = sys.stdin.readline\n",
    "N = int(input())\n",
    "wine = [int(input()) for _ in range(N)]\n",
    "\n",
    "memo = [None]*N # [이어서 최대로 마신 경우, 띄어서 최대로 마신 경우]\n",
    "\n",
    "def dp(n=N-1):\n",
    "    \"\"\"0부터 n-1까지의 포도주 잔들을 가지고 마실 수 있는 최대 양\"\"\"\n",
    "    if memo[n] is None:\n",
    "        if n == 0:\n",
    "            memo[n] = wine[0]\n",
    "        elif n == 1:\n",
    "            memo[n] = wine[0] + wine[1]\n",
    "        elif n == 2:\n",
    "            memo[n] = max(dp(1), dp(0) + wine[2], wine[1] + wine[2])\n",
    "        else:\n",
    "            case_1 = dp(n-1)\n",
    "            case_2 = dp(n-2) + wine[n]\n",
    "            case_3 = dp(n-3) + wine[n] + wine[n-1]\n",
    "            memo[n] = max(case_1, case_2, case_3)\n",
    "    return memo[n]\n",
    "\n",
    "print(dp())"
   ]
  },
  {
   "cell_type": "code",
   "execution_count": 7,
   "metadata": {},
   "outputs": [
    {
     "data": {
      "text/plain": [
       "(6, [6, 10, 13, 9, 8, 1])"
      ]
     },
     "execution_count": 7,
     "metadata": {},
     "output_type": "execute_result"
    }
   ],
   "source": [
    "N, wine"
   ]
  },
  {
   "cell_type": "code",
   "execution_count": 10,
   "metadata": {},
   "outputs": [
    {
     "name": "stdout",
     "output_type": "stream",
     "text": [
      "27\n"
     ]
    }
   ],
   "source": [
    "memo = [[None, None] for _ in range(N)] # [이어서 최대로 마신 경우, 띄어서 최대로 마신 경우]\n",
    "\n",
    "def dp(n=N-1):\n",
    "    \"\"\"0부터 n-1까지의 포도주 잔들을 가지고 마실 수 있는 최대 양\"\"\"\n",
    "    if memo[n] is None:\n",
    "        if n == 0:\n",
    "            memo[n][0], memo[n][0] = wine[0], wine[0]\n",
    "        elif n == 1:\n",
    "            memo[n][0] = wine[0] + wine[1], wine[1]\n",
    "        else:\n",
    "            prev_1, prev_2 = dp(n-1), dp(n-2)\n",
    "            memo[n][0] = wine[n] + prev_1[1]\n",
    "            memo[n][1] = max(prev_1[1], )\n",
    "    return memo[n]\n",
    "\n",
    "print(dp())"
   ]
  },
  {
   "cell_type": "code",
   "execution_count": 13,
   "metadata": {},
   "outputs": [
    {
     "name": "stdout",
     "output_type": "stream",
     "text": [
      "33\n"
     ]
    }
   ],
   "source": [
    "memo = [None]*N # [이어서 최대로 마신 경우, 띄어서 최대로 마신 경우]\n",
    "\n",
    "def dp(n=N-1):\n",
    "    \"\"\"0부터 n-1까지의 포도주 잔들을 가지고 마실 수 있는 최대 양\"\"\"\n",
    "    if memo[n] is None:\n",
    "        if n == 0:\n",
    "            memo[n] = wine[0]\n",
    "        elif n == 1:\n",
    "            memo[n] = wine[0] + wine[1]\n",
    "        elif n == 2:\n",
    "            memo[n] = max(dp(1), dp(0) + wine[2], wine[1] + wine[2])\n",
    "        else:\n",
    "            case_1 = dp(n-1)\n",
    "            case_2 = dp(n-2) + wine[n]\n",
    "            case_3 = dp(n-3) + wine[n] + wine[n-1]\n",
    "            memo[n] = max(case_1, case_2, case_3)\n",
    "    return memo[n]\n",
    "\n",
    "print(dp())"
   ]
  },
  {
   "cell_type": "code",
   "execution_count": 12,
   "metadata": {},
   "outputs": [
    {
     "data": {
      "text/plain": [
       "[6, 16, 19, 25, 27, 27]"
      ]
     },
     "execution_count": 12,
     "metadata": {},
     "output_type": "execute_result"
    }
   ],
   "source": [
    "memo"
   ]
  }
 ],
 "metadata": {
  "interpreter": {
   "hash": "8fac594bfae6525c0c41b4041d2d72effa188cc8ead05f81b1fab2bb098927fb"
  },
  "kernelspec": {
   "display_name": "Python 3.8.8 ('base')",
   "language": "python",
   "name": "python3"
  },
  "language_info": {
   "codemirror_mode": {
    "name": "ipython",
    "version": 3
   },
   "file_extension": ".py",
   "mimetype": "text/x-python",
   "name": "python",
   "nbconvert_exporter": "python",
   "pygments_lexer": "ipython3",
   "version": "3.8.8"
  },
  "orig_nbformat": 4
 },
 "nbformat": 4,
 "nbformat_minor": 2
}
