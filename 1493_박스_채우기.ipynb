{
 "cells": [
  {
   "cell_type": "markdown",
   "metadata": {},
   "source": [
    "# 1433 박스 채우기\n",
    "220709\n",
    "- 소감\n",
    "    - 쉽네;라고 할뻔? 쉽다 생각하며 방심하고 풀었지만 숫자 범위를 잘 고려하지 못해 시간초과가 나버림.\n",
    "    - 더이상 시간을 쏟기 좀 그래서 답을 봤습니다\n",
    "    - 참고한 풀이는 그리디하게 큰 조각부터 배치할 수 있는 만큼 배치했고, 신기하게도 dnc 없이 문제를 해결했습니다.\n",
    "- 소요 시간 : 1시간 30분\n",
    "- 알고리즘 분류 : 수학, 그리디 알고리즘, 분할 정복\n",
    "- 티어 : 골드 3"
   ]
  },
  {
   "cell_type": "code",
   "execution_count": null,
   "metadata": {},
   "outputs": [],
   "source": [
    "# 겁나 신기하네...;\n",
    "length, width, height = map(int, input().split())\n",
    "n = int(input())\n",
    "cube = [list(map(int, input().split())) for _ in range(n)]\n",
    "volume = length * width * height\n",
    "ans = 0\n",
    "before = 0\n",
    "cube.sort(reverse=True)\n",
    "\n",
    "for w, cnt in cube:\n",
    "    before <<= 3\n",
    "    v = 1 << w\n",
    "    maxCnt = (length // v) * (width // v) * (height // v) - before\n",
    "    maxCnt = min(cnt, maxCnt)\n",
    "    ans += maxCnt\n",
    "    before += maxCnt\n",
    "\n",
    "if before == volume:\n",
    "    print(ans)\n",
    "else:\n",
    "    print(-1)"
   ]
  },
  {
   "cell_type": "code",
   "execution_count": 10,
   "metadata": {},
   "outputs": [],
   "source": [
    "import sys\n",
    "# input = sys.stdin.readline\n",
    "sys.setrecursionlimit(1000001)\n",
    "\n",
    "L, W, H = map(int, input().split())\n",
    "N = int(input())\n",
    "cubes = [list(map(int, input().split())) for _ in range(N)]\n",
    "\n",
    "cnt = [0]\n",
    "\n",
    "def find_fit(l ,w, h):\n",
    "    \"\"\"사용할 수 있는 큐브 중 l, w, h 크기의 박스에 맞는 가장 큰 큐브의 인덱스와 큐브 크기 리턴\n",
    "        못 찾을 경우 None 리턴\"\"\"\n",
    "    m = min(l, w, h)\n",
    "    for i in range(len(cubes)-1, -1, -1):\n",
    "        cube_len = 1<<cubes[i][0]\n",
    "        if cube_len <= m:\n",
    "            return i, cube_len\n",
    "    return None, None\n",
    "\n",
    "def devide_n_conquer(l, w, h):\n",
    "    \"\"\"l, w, h 크기의 박스를 다 채울 때까지 나누기\"\"\"\n",
    "    if l*w*h == 0:\n",
    "        return\n",
    "    cube_i, cube_len = find_fit(l, w, h)\n",
    "    if cube_i is None:\n",
    "        raise ZeroDivisionError\n",
    "    cnt[0] += 1\n",
    "    cubes[cube_i][1] -= 1\n",
    "    if cubes[cube_i][1] == 0: # 다 쓴 큐브는 제거\n",
    "        cubes.pop(cube_i)\n",
    "    \n",
    "    devide_n_conquer(l-cube_len, w-cube_len, h-cube_len)\n",
    "    devide_n_conquer(l-cube_len, cube_len, cube_len)\n",
    "    devide_n_conquer(cube_len, w-cube_len, cube_len)\n",
    "    devide_n_conquer(cube_len, cube_len, h-cube_len)\n",
    "    devide_n_conquer(cube_len, w-cube_len, h-cube_len)\n",
    "    devide_n_conquer(l-cube_len, cube_len, h-cube_len)\n",
    "    devide_n_conquer(l-cube_len, w-cube_len, cube_len)\n",
    "\n",
    "try:\n",
    "    devide_n_conquer(L, W, H)\n",
    "    print(cnt[0])\n",
    "except ZeroDivisionError:\n",
    "    print(-1)"
   ]
  },
  {
   "cell_type": "code",
   "execution_count": 9,
   "metadata": {},
   "outputs": [
    {
     "data": {
      "text/plain": [
       "(4, 4, 8, 3, [])"
      ]
     },
     "execution_count": 9,
     "metadata": {},
     "output_type": "execute_result"
    }
   ],
   "source": [
    "L, W, H, N, cubes"
   ]
  },
  {
   "cell_type": "code",
   "execution_count": 11,
   "metadata": {},
   "outputs": [
    {
     "name": "stdout",
     "output_type": "stream",
     "text": [
      "[[0, 10], [1, 10]]\n",
      "[[0, 10], [1, 9]]\n",
      "[[0, 10], [1, 8]]\n",
      "[[0, 10], [1, 7]]\n",
      "[[0, 10], [1, 6]]\n",
      "[[0, 10], [1, 5]]\n",
      "[[0, 10], [1, 4]]\n",
      "[[0, 10], [1, 3]]\n",
      "[[0, 10], [1, 2]]\n",
      "[[0, 10], [1, 1]]\n",
      "[[0, 10]]\n",
      "[[0, 9]]\n",
      "[[0, 8]]\n",
      "[[0, 7]]\n",
      "[[0, 6]]\n",
      "[[0, 5]]\n",
      "[[0, 4]]\n",
      "[[0, 3]]\n",
      "[[0, 2]]\n",
      "[[0, 1]]\n",
      "[]\n",
      "-1\n"
     ]
    }
   ],
   "source": [
    "cnt = [0]\n",
    "\n",
    "def find_fit(l ,w, h):\n",
    "    \"\"\"사용할 수 있는 큐브 중 l, w, h 크기의 박스에 맞는 가장 큰 큐브의 인덱스와 큐브 크기 리턴\n",
    "        못 찾을 경우 None 리턴\"\"\"\n",
    "    m = min(l, w, h)\n",
    "    for i in range(len(cubes)-1, -1, -1):\n",
    "        cube_len = 1<<cubes[i][0]\n",
    "        if cube_len <= m:\n",
    "            return i, cube_len\n",
    "    return None, None\n",
    "\n",
    "def devide_n_conquer(l, w, h):\n",
    "    \"\"\"l, w, h 크기의 박스를 다 채울 때까지 나누기\"\"\"\n",
    "    if l*w*h == 0:\n",
    "        return\n",
    "    cube_i, cube_len = find_fit(l, w, h)\n",
    "    if cube_i is None:\n",
    "        raise ZeroDivisionError\n",
    "    cnt[0] += 1\n",
    "    cubes[cube_i][1] -= 1\n",
    "    if cubes[cube_i][1] == 0: # 다 쓴 큐브는 제거\n",
    "        cubes.pop(cube_i)\n",
    "    print(cubes)\n",
    "    devide_n_conquer(l-cube_len, w-cube_len, h-cube_len)\n",
    "    devide_n_conquer(l, w-cube_len, h-cube_len)\n",
    "    devide_n_conquer(l-cube_len, w, h-cube_len)\n",
    "    devide_n_conquer(l-cube_len, w-cube_len, h)\n",
    "    devide_n_conquer(l-cube_len, w, h)\n",
    "    devide_n_conquer(l, w-cube_len, h)\n",
    "    devide_n_conquer(l, w, h-cube_len)\n",
    "\n",
    "try:\n",
    "    devide_n_conquer(L, W, H)\n",
    "    print(cnt[0])\n",
    "except ZeroDivisionError:\n",
    "    print(-1)"
   ]
  },
  {
   "cell_type": "code",
   "execution_count": 7,
   "metadata": {},
   "outputs": [
    {
     "data": {
      "text/plain": [
       "[1, 2, 4]"
      ]
     },
     "execution_count": 7,
     "metadata": {},
     "output_type": "execute_result"
    }
   ],
   "source": [
    "li = [1, 2, 3, 4]\n",
    "li.pop(2)\n",
    "li"
   ]
  },
  {
   "cell_type": "code",
   "execution_count": 14,
   "metadata": {},
   "outputs": [
    {
     "data": {
      "text/plain": [
       "0"
      ]
     },
     "execution_count": 14,
     "metadata": {},
     "output_type": "execute_result"
    }
   ],
   "source": [
    "a = 0\n",
    "a <<= 3\n",
    "a"
   ]
  },
  {
   "cell_type": "code",
   "execution_count": null,
   "metadata": {},
   "outputs": [],
   "source": []
  }
 ],
 "metadata": {
  "kernelspec": {
   "display_name": "Python 3.8.8 ('base')",
   "language": "python",
   "name": "python3"
  },
  "language_info": {
   "codemirror_mode": {
    "name": "ipython",
    "version": 3
   },
   "file_extension": ".py",
   "mimetype": "text/x-python",
   "name": "python",
   "nbconvert_exporter": "python",
   "pygments_lexer": "ipython3",
   "version": "3.8.8"
  },
  "orig_nbformat": 4,
  "vscode": {
   "interpreter": {
    "hash": "f08154012ddadd8e950e6e9e035c7a7b32c136e7647e9b7c77e02eb723a8bedb"
   }
  }
 },
 "nbformat": 4,
 "nbformat_minor": 2
}
