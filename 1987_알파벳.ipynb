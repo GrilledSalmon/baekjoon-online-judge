{
 "cells": [
  {
   "cell_type": "markdown",
   "metadata": {},
   "source": [
    "# 1987 알파벳\n",
    "220608\n",
    "- 소감\n",
    "    - 백트래킹으로 구현하고 python 제출 -> 틀림\n",
    "    - DP인가 싶어 고민하다가 모르겠어서 알고리즘 분류 봄 -> 백트래킹이 맞았음\n",
    "    - 이전에 구현한 코드를 pypy로 제출 -> 맞았으나 퍼포먼스가 매우 좋지 않음\n",
    "    - 백트래킹을 stack으로 푸는 연습을 해야겠음\n",
    "- 소요 시간 : 40분\n",
    "- 알고리즘 분류 : 그래프 이론, 그래프 탐색, 깊이 우선 탐색, 백트래킹\n",
    "- 티어 : 골드 4"
   ]
  },
  {
   "cell_type": "code",
   "execution_count": 14,
   "metadata": {},
   "outputs": [],
   "source": [
    "# 세로 R, 가로 C칸 보드\n",
    "# 각 칸에 대문자 알파벳 하나씩\n",
    "# 죄측 상단 칸(1행 1열)에는 말이 놓여 있음\n",
    "# 말은 상하좌우로 이동 가능한데, 지금껏 지났던 알파벳이 적혀 있으면 안됨\n",
    "# 말은 최대 몇 칸을 지날 수 있는가?\n",
    "import sys\n",
    "# input = sys.stdin.readline\n",
    "\n",
    "R, C = map(int, input().split())\n",
    "board = [list(map(lambda x : ord(x)-65, list(input().rstrip()))) for _ in range(R)]\n",
    "\n",
    "ALPH_NUM = 26\n",
    "alph_visited = [0]*ALPH_NUM\n",
    "visited = [[0]*C for _ in range(R)]\n",
    "alph_visited[board[0][0]] = 1\n",
    "visited[0][0] = 1\n",
    "\n",
    "max_len = [0]\n",
    "def back_tracking(n=1, r=0, c=0):\n",
    "    if n > max_len[0]:\n",
    "        max_len[0] = n\n",
    "    if n == ALPH_NUM:\n",
    "        return\n",
    "    for adj_r, adj_c in ((r+1, c), (r-1, c), (r, c+1), (r, c-1)):\n",
    "        if 0<=adj_r<R and 0<=adj_c<C:\n",
    "            adj_alph = board[adj_r][adj_c]  \n",
    "            if not visited[adj_r][adj_c] and not alph_visited[adj_alph]:            \n",
    "                alph_visited[adj_alph] = 1\n",
    "                visited[adj_r][adj_c] = 1\n",
    "                back_tracking(n+1, adj_r, adj_c)\n",
    "                alph_visited[adj_alph] = 0\n",
    "                visited[adj_r][adj_c] = 0\n",
    "\n",
    "back_tracking()\n",
    "print(max_len[0])"
   ]
  },
  {
   "cell_type": "code",
   "execution_count": 25,
   "metadata": {},
   "outputs": [
    {
     "data": {
      "text/plain": [
       "(3, 6, [[7, 5, 3, 5, 5, 1], [0, 9, 7, 6, 3, 7], [3, 6, 0, 6, 4, 7]])"
      ]
     },
     "execution_count": 25,
     "metadata": {},
     "output_type": "execute_result"
    }
   ],
   "source": [
    "R, C, board"
   ]
  },
  {
   "cell_type": "code",
   "execution_count": 24,
   "metadata": {},
   "outputs": [
    {
     "name": "stdout",
     "output_type": "stream",
     "text": [
      "6\n"
     ]
    }
   ],
   "source": [
    "ALPH_NUM = 26\n",
    "alph_visited = [0]*ALPH_NUM\n",
    "visited = [[0]*C for _ in range(R)]\n",
    "alph_visited[board[0][0]] = 1\n",
    "visited[0][0] = 1\n",
    "\n",
    "max_len = [0]\n",
    "def back_tracking(n=1, r=0, c=0):\n",
    "    if n > max_len[0]:\n",
    "        max_len[0] = n\n",
    "    for adj_r, adj_c in ((r+1, c), (r-1, c), (r, c+1), (r, c-1)):\n",
    "        if 0<=adj_r<R and 0<=adj_c<C:\n",
    "            adj_alph = board[adj_r][adj_c]  \n",
    "            if not visited[adj_r][adj_c] and not alph_visited[adj_alph]:            \n",
    "                alph_visited[adj_alph] = 1\n",
    "                visited[adj_r][adj_c] = 1\n",
    "                back_tracking(n+1, adj_r, adj_c)\n",
    "                alph_visited[adj_alph] = 0\n",
    "                visited[adj_r][adj_c] = 0\n",
    "\n",
    "back_tracking()\n",
    "print(max_len[0])"
   ]
  },
  {
   "cell_type": "code",
   "execution_count": null,
   "metadata": {},
   "outputs": [],
   "source": []
  }
 ],
 "metadata": {
  "interpreter": {
   "hash": "f08154012ddadd8e950e6e9e035c7a7b32c136e7647e9b7c77e02eb723a8bedb"
  },
  "kernelspec": {
   "display_name": "Python 3.8.8 ('base')",
   "language": "python",
   "name": "python3"
  },
  "language_info": {
   "codemirror_mode": {
    "name": "ipython",
    "version": 3
   },
   "file_extension": ".py",
   "mimetype": "text/x-python",
   "name": "python",
   "nbconvert_exporter": "python",
   "pygments_lexer": "ipython3",
   "version": "3.8.8"
  },
  "orig_nbformat": 4
 },
 "nbformat": 4,
 "nbformat_minor": 2
}
