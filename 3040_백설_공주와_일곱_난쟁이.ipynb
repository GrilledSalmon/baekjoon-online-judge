{
 "cells": [
  {
   "cell_type": "markdown",
   "metadata": {},
   "source": [
    "# 3040 백설 공주와 일곱 난쟁이\n",
    "220927\n",
    "- 소감\n",
    "    - 오랜만에 조금 긴 코드 작성\n",
    "- 소요 시간 : 15분\n",
    "- 알고리즘 분류 : 브루트포스 알고리즘\n",
    "- 티어 : 브론즈 2"
   ]
  },
  {
   "cell_type": "code",
   "execution_count": null,
   "metadata": {},
   "outputs": [],
   "source": [
    "hats = [int(input()) for _ in range(9)]\n",
    "summ = sum(hats)\n",
    "\n",
    "res = []\n",
    "not_ans = []\n",
    "def back_tracking(i=0, depth=0):\n",
    "    if not_ans:\n",
    "        return\n",
    "    if depth == 2 and (summ - sum(res) == 100):\n",
    "        not_ans.extend(res)\n",
    "        return\n",
    "    for j in range(i, 9):\n",
    "        res.append(hats[j])\n",
    "        back_tracking(j+1, depth+1)\n",
    "        res.pop()\n",
    "\n",
    "back_tracking()\n",
    "\n",
    "for hat in hats:\n",
    "    if hat not in not_ans:\n",
    "        print(hat)"
   ]
  }
 ],
 "metadata": {
  "kernelspec": {
   "display_name": "Python 3.8.5 ('base')",
   "language": "python",
   "name": "python3"
  },
  "language_info": {
   "name": "python",
   "version": "3.8.5"
  },
  "orig_nbformat": 4,
  "vscode": {
   "interpreter": {
    "hash": "8cc51f7a6f9663e4a057df8e9ab0b3750994a36584b90d61db68aa71b39bfa78"
   }
  }
 },
 "nbformat": 4,
 "nbformat_minor": 2
}
