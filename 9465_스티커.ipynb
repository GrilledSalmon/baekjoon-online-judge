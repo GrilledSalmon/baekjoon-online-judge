{
 "cells": [
  {
   "cell_type": "markdown",
   "metadata": {},
   "source": [
    "# 9465 스티커\n",
    "220405\n",
    "- 알고리즘 분류\n",
    "    - 다이나믹 프로그래밍\n",
    "- 티어 : 실버 1"
   ]
  },
  {
   "cell_type": "code",
   "execution_count": 12,
   "metadata": {},
   "outputs": [
    {
     "name": "stdout",
     "output_type": "stream",
     "text": [
      "260\n",
      "300\n"
     ]
    }
   ],
   "source": [
    "import sys\n",
    "# input = sys.stdin.readline\n",
    "sys.setrecursionlimit(1000000)\n",
    "\n",
    "T = int(input())\n",
    "\n",
    "def tear_off(col, row=None):\n",
    "    \"\"\"col, row위치의 스티커를 떼었을 때 점수의 최댓값(col이전의 스티커들만 대상)\"\"\"\n",
    "    if col <= 0:\n",
    "        if col == 0:\n",
    "            return sticker[row][0]\n",
    "        else:\n",
    "            return 0\n",
    "\n",
    "    if cache[row][col] is None:\n",
    "        case_1 = max(tear_off(col-2, 0), tear_off(col-2, 1)) + sticker[row][col]\n",
    "        case_2 = tear_off(col-1, 1-row) + sticker[row][col]\n",
    "        cache[row][col] = max(case_1, case_2)\n",
    "\n",
    "    return cache[row][col]\n",
    "\n",
    "for _ in range(T):\n",
    "    n = int(input())\n",
    "    sticker = [tuple(map(int, input().split())) for _ in range(2)]\n",
    "    cache = [[None]*n for _ in range(2)]\n",
    "\n",
    "    print(max(tear_off(n-1, 0), tear_off(n-1, 1)))"
   ]
  },
  {
   "cell_type": "code",
   "execution_count": 2,
   "metadata": {},
   "outputs": [],
   "source": [
    "n = int(input())\n",
    "sticker = [tuple(map(int, input().split())) for _ in range(2)]\n",
    "\n",
    "cache = [[None]*n for _ in range(2)]\n",
    "\n",
    "def tear_off(col=n-1, row=None):\n",
    "    if col <= 0:\n",
    "        if col == 0:\n",
    "            return max(sticker[0][col], sticker[1][col])\n",
    "        else:\n",
    "            return 0\n",
    "\n",
    "    if cache[row][col] is None:\n",
    "        case_1 = max(tear_off(col-2, 0), tear_off(col-2, 1)) + sticker[row][col]\n",
    "        case_2 = tear_off(col-1, 1-row) + sticker[row][col]\n",
    "        cache[row][col] = max(case_1, case_2)\n",
    "\n",
    "    return cache[row][col]\n",
    "\n",
    "print(max(tear_off(row=0), tear_off(row=1)))"
   ]
  },
  {
   "cell_type": "code",
   "execution_count": 14,
   "metadata": {},
   "outputs": [
    {
     "data": {
      "text/plain": [
       "([(10, 30, 10, 50, 100, 20, 40), (20, 40, 30, 50, 60, 20, 80)], 7)"
      ]
     },
     "execution_count": 14,
     "metadata": {},
     "output_type": "execute_result"
    }
   ],
   "source": [
    "sticker, n"
   ]
  },
  {
   "cell_type": "code",
   "execution_count": 11,
   "metadata": {},
   "outputs": [
    {
     "name": "stdout",
     "output_type": "stream",
     "text": [
      "260\n"
     ]
    }
   ],
   "source": [
    "cache = [[None]*n for _ in range(2)]\n",
    "\n",
    "def tear_off(col=n-1, row=None):\n",
    "    if col <= 0:\n",
    "        if col == 0:\n",
    "            return max(sticker[0][col], sticker[1][col])\n",
    "        else:\n",
    "            return 0\n",
    "\n",
    "    if cache[row][col] is None:\n",
    "        case_1 = max(tear_off(col-2, 0), tear_off(col-2, 1)) + sticker[row][col]\n",
    "        case_2 = tear_off(col-1, 1-row) + sticker[row][col]\n",
    "        cache[row][col] = max(case_1, case_2)\n",
    "\n",
    "    return cache[row][col]\n",
    "\n",
    "print(max(tear_off(row=0), tear_off(row=1)))"
   ]
  },
  {
   "cell_type": "code",
   "execution_count": 18,
   "metadata": {},
   "outputs": [
    {
     "name": "stdout",
     "output_type": "stream",
     "text": [
      "[None, 50, 70, 130, 220, 210, 280]\n",
      "[None, 60, 80, 120, 190, 240, 300]\n"
     ]
    }
   ],
   "source": [
    "for line in cache:\n",
    "    print(line)"
   ]
  },
  {
   "cell_type": "code",
   "execution_count": 17,
   "metadata": {},
   "outputs": [
    {
     "name": "stdout",
     "output_type": "stream",
     "text": [
      "(10, 30, 10, 50, 100, 20, 40)\n",
      "(20, 40, 30, 50, 60, 20, 80)\n"
     ]
    }
   ],
   "source": [
    "for line in sticker:\n",
    "    print(line)"
   ]
  },
  {
   "cell_type": "code",
   "execution_count": null,
   "metadata": {},
   "outputs": [],
   "source": []
  }
 ],
 "metadata": {
  "interpreter": {
   "hash": "8fac594bfae6525c0c41b4041d2d72effa188cc8ead05f81b1fab2bb098927fb"
  },
  "kernelspec": {
   "display_name": "Python 3.8.8 ('base')",
   "language": "python",
   "name": "python3"
  },
  "language_info": {
   "codemirror_mode": {
    "name": "ipython",
    "version": 3
   },
   "file_extension": ".py",
   "mimetype": "text/x-python",
   "name": "python",
   "nbconvert_exporter": "python",
   "pygments_lexer": "ipython3",
   "version": "3.8.8"
  },
  "orig_nbformat": 4
 },
 "nbformat": 4,
 "nbformat_minor": 2
}
