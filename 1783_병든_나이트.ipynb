{
 "cells": [
  {
   "cell_type": "markdown",
   "metadata": {},
   "source": [
    "# 1783 병든 나이트\n",
    "220525\n",
    "- 소감\n",
    "    - 과거의 내가 걸렀던 문제는 괜히 거른 게 아니다..\n",
    "    - 실버 4이지만 조건 분기가 많고 머리가 돌아가지 않아 답을 보았습니다..\n",
    "    - 조건분기가 많은 문제는 차분하게 손으로 케이스를 정리하며 풀어야 하는 것 같습니다.\n",
    "- 소요 시간 : 1시간 +\n",
    "- 알고리즘 분류 : 구현, 그리디 알고리즘, 많은 조건 분기\n",
    "- 티어 싫버 4"
   ]
  },
  {
   "cell_type": "code",
   "execution_count": 17,
   "metadata": {},
   "outputs": [
    {
     "name": "stdout",
     "output_type": "stream",
     "text": [
      "4\n"
     ]
    }
   ],
   "source": [
    "N, M = map(int, input().split())\n",
    "\n",
    "maxi = max(N, M)\n",
    "mini = min(N, M)\n",
    "\n",
    "if N == 1:\n",
    "    print(1)\n",
    "elif N == 2:\n",
    "    print(min(4, (M-1)//2 + 1))\n",
    "elif M <= 6:\n",
    "    print(min(4, M))\n",
    "else:\n",
    "    print(M - 2)\n"
   ]
  },
  {
   "cell_type": "code",
   "execution_count": 6,
   "metadata": {},
   "outputs": [
    {
     "name": "stdout",
     "output_type": "stream",
     "text": [
      "48\n"
     ]
    }
   ],
   "source": [
    "maxi = max(N, M)\n",
    "mini = min(N, M)\n",
    "\n",
    "if maxi < 3:\n",
    "    print(1)\n",
    "else:\n",
    "    if mini == 1:\n",
    "        print(1)\n",
    "    elif mini == 2:\n",
    "        if maxi < 7:\n",
    "            print((maxi-1)//2 + 1)\n",
    "        else:\n",
    "            print(4)\n",
    "    else:\n",
    "        if mini >=4 and maxi >= 7:\n",
    "            print(mini-2)\n",
    "        else:\n",
    "            if maxi == 3:\n",
    "                print(3)\n",
    "            else:\n",
    "                print(4)\n"
   ]
  },
  {
   "cell_type": "code",
   "execution_count": null,
   "metadata": {},
   "outputs": [],
   "source": [
    "if max(N, M) < 3:\n",
    "    print(1)\n",
    "elif M == 1:\n",
    "    print(1)\n",
    "elif M == 2:\n",
    "    print(2)\n",
    "elif M == 3:\n",
    "    \n"
   ]
  },
  {
   "cell_type": "code",
   "execution_count": null,
   "metadata": {},
   "outputs": [],
   "source": []
  }
 ],
 "metadata": {
  "interpreter": {
   "hash": "f08154012ddadd8e950e6e9e035c7a7b32c136e7647e9b7c77e02eb723a8bedb"
  },
  "kernelspec": {
   "display_name": "Python 3.8.8 ('base')",
   "language": "python",
   "name": "python3"
  },
  "language_info": {
   "codemirror_mode": {
    "name": "ipython",
    "version": 3
   },
   "file_extension": ".py",
   "mimetype": "text/x-python",
   "name": "python",
   "nbconvert_exporter": "python",
   "pygments_lexer": "ipython3",
   "version": "3.8.8"
  },
  "orig_nbformat": 4
 },
 "nbformat": 4,
 "nbformat_minor": 2
}
