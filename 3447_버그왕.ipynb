{
 "cells": [
  {
   "cell_type": "markdown",
   "metadata": {},
   "source": [
    "# 3447 버그왕\n",
    "220617\n",
    "- 소감\n",
    "    - ㄹㅇ 브론즈가 제일 어려움;;\n",
    "    - 문제를 똑바로 읽자\n",
    "- 소요 시간 : 30분\n",
    "- 알고리즘 분류 : 문자열, 파싱, 정규 표현식\n",
    "- 티어 : 브론즈 1"
   ]
  },
  {
   "cell_type": "code",
   "execution_count": 1,
   "metadata": {},
   "outputs": [],
   "source": [
    "import sys\n",
    "import re\n",
    "\n",
    "# text = sys.stdin.read()\n",
    "while 'BUG' in text:\n",
    "    text = re.sub('BUG', '', text)\n",
    "\n",
    "print(text)"
   ]
  },
  {
   "cell_type": "code",
   "execution_count": 3,
   "metadata": {},
   "outputs": [
    {
     "name": "stdout",
     "output_type": "stream",
     "text": [
      "print \"No bugs here...\"  void hello() { BUGBUG printfBUG(\"Hello, world!\\n\"); }  wriBUGBUGtelBUGn(\"Hello B-U-G\");\n"
     ]
    }
   ],
   "source": [
    "import sys\n",
    "\n",
    "# text = sys.stdin.read()\n",
    "while 'BUG' in text:\n",
    "    text = text.replace('BUG', '')\n",
    "\n",
    "print(text)"
   ]
  },
  {
   "cell_type": "code",
   "execution_count": 21,
   "metadata": {},
   "outputs": [],
   "source": [
    "text = \"\"\"print \"No bugs here...\"\n",
    "\n",
    "void hello() {\n",
    "BUGBUG\n",
    "printfBUG(\"Hello, world!\\n\");\n",
    "}\n",
    "\n",
    "wriBUGBUGtelBUGn(\"Hello B-U-G\");\"\"\""
   ]
  },
  {
   "cell_type": "code",
   "execution_count": 19,
   "metadata": {},
   "outputs": [
    {
     "data": {
      "text/plain": [
       "'print \"No bugs here...\"\\n\\nvoid hello() {\\nBUGBUG\\nprintfBUG(\"Hello, world!\\n\");\\n}\\n\\nwriBUGBUGtelBUGn(\"Hello B-U-G\");'"
      ]
     },
     "execution_count": 19,
     "metadata": {},
     "output_type": "execute_result"
    }
   ],
   "source": [
    "text"
   ]
  },
  {
   "cell_type": "code",
   "execution_count": 20,
   "metadata": {},
   "outputs": [
    {
     "name": "stdout",
     "output_type": "stream",
     "text": [
      "print \"No bugs here...\"\n",
      "\n",
      "void hello() {\n",
      "\n",
      "printf(\"Hello, world!\n",
      "\");\n",
      "}\n",
      "\n",
      "writeln(\"Hello B-U-G\");\n"
     ]
    }
   ],
   "source": [
    "c = re.compile('BUG')\n",
    "print(text.replace('BUG', ''))"
   ]
  },
  {
   "cell_type": "code",
   "execution_count": 9,
   "metadata": {},
   "outputs": [
    {
     "data": {
      "text/plain": [
       "'ab'"
      ]
     },
     "execution_count": 9,
     "metadata": {},
     "output_type": "execute_result"
    }
   ],
   "source": [
    "'aBUGBUGb'.replace('BUG', '')"
   ]
  },
  {
   "cell_type": "code",
   "execution_count": 12,
   "metadata": {},
   "outputs": [
    {
     "name": "stdout",
     "output_type": "stream",
     "text": [
      "\n",
      "\n"
     ]
    }
   ],
   "source": [
    "print(r'{}'.format('\\n'))"
   ]
  },
  {
   "cell_type": "code",
   "execution_count": 23,
   "metadata": {},
   "outputs": [
    {
     "data": {
      "text/plain": [
       "'AAFDSF'"
      ]
     },
     "execution_count": 23,
     "metadata": {},
     "output_type": "execute_result"
    }
   ],
   "source": [
    "re.sub('BUG', '', 'ABUGAFBUGDSF')"
   ]
  },
  {
   "cell_type": "code",
   "execution_count": null,
   "metadata": {},
   "outputs": [],
   "source": []
  }
 ],
 "metadata": {
  "kernelspec": {
   "display_name": "Python 3.8.8 ('base')",
   "language": "python",
   "name": "python3"
  },
  "language_info": {
   "codemirror_mode": {
    "name": "ipython",
    "version": 3
   },
   "file_extension": ".py",
   "mimetype": "text/x-python",
   "name": "python",
   "nbconvert_exporter": "python",
   "pygments_lexer": "ipython3",
   "version": "3.8.8"
  },
  "orig_nbformat": 4,
  "vscode": {
   "interpreter": {
    "hash": "f08154012ddadd8e950e6e9e035c7a7b32c136e7647e9b7c77e02eb723a8bedb"
   }
  }
 },
 "nbformat": 4,
 "nbformat_minor": 2
}
