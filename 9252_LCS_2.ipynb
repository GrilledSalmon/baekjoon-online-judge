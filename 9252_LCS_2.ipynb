{
 "cells": [
  {
   "cell_type": "markdown",
   "metadata": {},
   "source": [
    "# 9252 LCS 2\n",
    "220616\n",
    "- 소감\n",
    "    - 이상하게 너무너무너무너무 하기 싫은 날....\n",
    "    - 나중에 DP 복습할게용..\n",
    "- 소요시간 : 2시간 ++\n",
    "- 알고리즘 분류 : 다이나믹 프로그래밍\n",
    "- 티어 : 골드 4"
   ]
  },
  {
   "cell_type": "code",
   "execution_count": 28,
   "metadata": {},
   "outputs": [],
   "source": [
    "n = input()\n",
    "m = input()\n",
    "\n",
    "strings =[[0 for _ in range(len(n) + 1)] for _ in range(len(m) + 1)]\n",
    "\n",
    "for i in range(len(n)):\n",
    "    for j in range(len(m)):\n",
    "        if n[i] ==m[j]:\n",
    "            strings[j+1][i+1] = strings[j][i] + 1\n",
    "        else:\n",
    "            strings[j+1][i+1] = max(strings[j][i+1],strings[j+1][i])\n",
    "\n",
    "now = strings[-1][-1]\n",
    "x = len(strings[0]) -1\n",
    "y = len(strings) -1\n",
    "answer = ''\n",
    "print(x, y)\n",
    "\n",
    "while now != 0:\n",
    "    if now -1 == strings[y][x-1] and now -1 == strings[y-1][x]:\n",
    "        answer = n[x-1] + answer\n",
    "        now -= 1\n",
    "        x -= 1\n",
    "        y -= 1\n",
    "    else:\n",
    "        if strings[y-1][x] > strings[y][x-1]:\n",
    "            y -= 1\n",
    "        else:\n",
    "            x -= 1\n",
    "\n",
    "print(strings[-1][-1])\n",
    "print(answer)"
   ]
  },
  {
   "cell_type": "code",
   "execution_count": 29,
   "metadata": {},
   "outputs": [
    {
     "data": {
      "text/plain": [
       "('ACAYKP', 'CAPCAK')"
      ]
     },
     "execution_count": 29,
     "metadata": {},
     "output_type": "execute_result"
    }
   ],
   "source": [
    "S1, S2"
   ]
  },
  {
   "cell_type": "code",
   "execution_count": 39,
   "metadata": {},
   "outputs": [
    {
     "name": "stdout",
     "output_type": "stream",
     "text": [
      "4\n",
      "AK\n"
     ]
    }
   ],
   "source": [
    "memo = [0]*len(S2)\n",
    "predecessor = [[None]*len(S2) for _ in range(len(S1))]\n",
    "\n",
    "lcs = 0\n",
    "maxi_row_col = (None, None)\n",
    "for i in range(len(S1)):\n",
    "    s1 = S1[i]\n",
    "    until_lcs = 0\n",
    "    pred = None\n",
    "    for j in range(len(S2)):\n",
    "        s2 = S2[j]\n",
    "        now_lcs = memo[j]\n",
    "        if s2 == s1:\n",
    "            memo[j] = until_lcs + 1\n",
    "            predecessor[i][j] = pred\n",
    "            if memo[j] > lcs:\n",
    "                lcs = memo[j]\n",
    "                maxi_row_col = (i, j)\n",
    "\n",
    "        if until_lcs < now_lcs:\n",
    "            until_lcs = now_lcs\n",
    "            predecessor[i][j] = pred\n",
    "            pred = j\n",
    "\n",
    "maxi_row, maxi_col = maxi_row_col\n",
    "res = [S2[maxi_col]]\n",
    "predece = predecessor[maxi_row]\n",
    "\n",
    "while predece[maxi_col]:\n",
    "    maxi_col = predece[maxi_col]\n",
    "    res.append(S2[maxi_col])\n",
    "\n",
    "if lcs:\n",
    "    print(lcs)\n",
    "    print(''.join(res[::-1]))\n",
    "else:\n",
    "    print(0)"
   ]
  },
  {
   "cell_type": "code",
   "execution_count": 40,
   "metadata": {},
   "outputs": [
    {
     "data": {
      "text/plain": [
       "([1, 2, 3, 2, 3, 4],\n",
       " [[None, None, None, None, None, None],\n",
       "  [None, None, None, 1, None, None],\n",
       "  [None, 0, None, None, 3, None],\n",
       "  [None, None, None, None, None, None],\n",
       "  [None, None, None, None, None, 4],\n",
       "  [None, None, 1, None, None, None]])"
      ]
     },
     "execution_count": 40,
     "metadata": {},
     "output_type": "execute_result"
    }
   ],
   "source": [
    "memo, predecessor"
   ]
  },
  {
   "cell_type": "code",
   "execution_count": 33,
   "metadata": {},
   "outputs": [],
   "source": [
    "predecessor[maxi_row][maxi_col]"
   ]
  },
  {
   "cell_type": "code",
   "execution_count": 34,
   "metadata": {},
   "outputs": [
    {
     "data": {
      "text/plain": [
       "(4, 4)"
      ]
     },
     "execution_count": 34,
     "metadata": {},
     "output_type": "execute_result"
    }
   ],
   "source": [
    "maxi_row, maxi_col"
   ]
  },
  {
   "cell_type": "code",
   "execution_count": 41,
   "metadata": {},
   "outputs": [],
   "source": [
    "S1, S2 = input(), input()"
   ]
  },
  {
   "cell_type": "code",
   "execution_count": 48,
   "metadata": {},
   "outputs": [
    {
     "data": {
      "text/plain": [
       "('ACAYKP', 'CAPCAK')"
      ]
     },
     "execution_count": 48,
     "metadata": {},
     "output_type": "execute_result"
    }
   ],
   "source": [
    "S1, S2"
   ]
  },
  {
   "cell_type": "code",
   "execution_count": 85,
   "metadata": {},
   "outputs": [
    {
     "name": "stdout",
     "output_type": "stream",
     "text": [
      "4\n",
      "ACKP\n"
     ]
    }
   ],
   "source": [
    "S1, S2 = input(), input()\n",
    "\n",
    "# memo[i][j] : S1[:i+1], S2[:j+1]의 lcs 길이\n",
    "memo = [[0]*(len(S1) + 1) for _ in range(len(S2)+1)]\n",
    "\n",
    "for i in range(len(S1)):\n",
    "    s1 = S1[i]\n",
    "    for j in range(len(S2)):\n",
    "        s2 = S2[j]\n",
    "        if s1 == s2:\n",
    "            memo[j+1][i+1] = memo[j][i] + 1\n",
    "        else:\n",
    "            memo[j+1][i+1] = max(memo[j][i+1], memo[j+1][i])\n",
    "\n",
    "lcs = []\n",
    "x = len(S1)\n",
    "y = len(S2)\n",
    "now = memo[-1][-1]\n",
    "\n",
    "while now!=0:\n",
    "    if now-1 == memo[y][x-1] and now-1 == memo[y-1][x]:\n",
    "        lcs.append(S1[x-1])\n",
    "        now -= 1\n",
    "        y -= 1\n",
    "        x -= 1\n",
    "    else:\n",
    "        if memo[y-1][x] < memo[y][x-1]:\n",
    "            y -= 1\n",
    "        else:\n",
    "            x -= 1\n",
    "\n",
    "if lcs:\n",
    "    print(len(lcs))\n",
    "    print(''.join(lcs[::-1]))\n",
    "else:\n",
    "    print(0)"
   ]
  },
  {
   "cell_type": "code",
   "execution_count": 67,
   "metadata": {},
   "outputs": [
    {
     "data": {
      "text/plain": [
       "[[0, 0, 0, 0, 0, 0, 0],\n",
       " [0, 0, 1, 1, 1, 1, 1],\n",
       " [0, 1, 1, 2, 2, 2, 2],\n",
       " [0, 1, 1, 2, 2, 2, 3],\n",
       " [0, 1, 2, 2, 2, 2, 3],\n",
       " [0, 1, 2, 3, 3, 3, 3],\n",
       " [0, 1, 2, 3, 3, 4, 4]]"
      ]
     },
     "execution_count": 67,
     "metadata": {},
     "output_type": "execute_result"
    }
   ],
   "source": [
    "memo\n"
   ]
  },
  {
   "cell_type": "code",
   "execution_count": 81,
   "metadata": {},
   "outputs": [
    {
     "name": "stdout",
     "output_type": "stream",
     "text": [
      "6 6\n",
      "4\n",
      "ACAK\n"
     ]
    }
   ],
   "source": [
    "n = input()\n",
    "m = input()\n",
    "\n",
    "strings =[[0 for _ in range(len(n) + 1)] for _ in range(len(m) + 1)]\n",
    "\n",
    "for i in range(len(n)):\n",
    "    for j in range(len(m)):\n",
    "        if n[i] ==m[j]:\n",
    "            strings[j+1][i+1] = strings[j][i] + 1\n",
    "        else:\n",
    "            strings[j+1][i+1] = max(strings[j][i+1],strings[j+1][i])\n",
    "\n",
    "now = strings[-1][-1]\n",
    "x = len(strings[0]) -1\n",
    "y = len(strings) -1\n",
    "answer = ''\n",
    "print(x, y)\n",
    "\n",
    "while now != 0:\n",
    "    if now -1 == strings[y][x-1] and now -1 == strings[y-1][x]:\n",
    "        answer = n[x-1] + answer\n",
    "        now -= 1\n",
    "        x -= 1\n",
    "        y -= 1\n",
    "    else:\n",
    "        if strings[y-1][x] > strings[y][x-1]:\n",
    "            y -= 1\n",
    "        else:\n",
    "            x -= 1\n",
    "\n",
    "print(strings[-1][-1])\n",
    "print(answer)"
   ]
  },
  {
   "cell_type": "code",
   "execution_count": 78,
   "metadata": {},
   "outputs": [
    {
     "data": {
      "text/plain": [
       "([[0, 0, 0, 0, 0, 0, 0],\n",
       "  [0, 0, 1, 1, 1, 1, 1],\n",
       "  [0, 1, 1, 2, 2, 2, 2],\n",
       "  [0, 1, 1, 2, 2, 2, 3],\n",
       "  [0, 1, 2, 2, 2, 2, 3],\n",
       "  [0, 1, 2, 3, 3, 3, 3],\n",
       "  [0, 1, 2, 3, 3, 4, 4]],\n",
       " [[0, 0, 0, 0, 0, 0, 0],\n",
       "  [0, 0, 1, 1, 1, 1, 1],\n",
       "  [0, 1, 1, 2, 2, 2, 2],\n",
       "  [0, 1, 1, 2, 2, 2, 3],\n",
       "  [0, 1, 2, 2, 2, 2, 3],\n",
       "  [0, 1, 2, 3, 3, 3, 3],\n",
       "  [0, 1, 2, 3, 3, 4, 4]])"
      ]
     },
     "execution_count": 78,
     "metadata": {},
     "output_type": "execute_result"
    }
   ],
   "source": [
    "strings, memo"
   ]
  },
  {
   "cell_type": "code",
   "execution_count": 79,
   "metadata": {},
   "outputs": [
    {
     "name": "stdout",
     "output_type": "stream",
     "text": [
      "True\n",
      "True\n",
      "True\n",
      "True\n",
      "True\n",
      "True\n"
     ]
    }
   ],
   "source": [
    "for i in range(len(S1)):\n",
    "    print(strings[i] == memo[i])"
   ]
  }
 ],
 "metadata": {
  "kernelspec": {
   "display_name": "Python 3.8.8 ('base')",
   "language": "python",
   "name": "python3"
  },
  "language_info": {
   "codemirror_mode": {
    "name": "ipython",
    "version": 3
   },
   "file_extension": ".py",
   "mimetype": "text/x-python",
   "name": "python",
   "nbconvert_exporter": "python",
   "pygments_lexer": "ipython3",
   "version": "3.8.8"
  },
  "orig_nbformat": 4,
  "vscode": {
   "interpreter": {
    "hash": "f08154012ddadd8e950e6e9e035c7a7b32c136e7647e9b7c77e02eb723a8bedb"
   }
  }
 },
 "nbformat": 4,
 "nbformat_minor": 2
}
