{
 "cells": [
  {
   "cell_type": "markdown",
   "metadata": {},
   "source": [
    "# 14891 톱니바퀴 1, 2\n",
    "220503(두 문제 푼 거임)\n",
    "- 소감 : 구현문제인데 삽질을 많이 해가지고 한 시간 반동안이나 풀었네요 ㅜㅜ 못 풀 것 같았으면 진작에 30분에 끊고 풀이를 봤겠지만 풀 수 있을 것 같다는 희망으로 붙잡았더니 이렇게 오래 시간을 소비했네요..ㅜㅜ 시간에 쫓겨서 구현을 하다보니 자잘한 실수가 많았습니다. 시간을 정해놓고 구현하는 연습을 아무래도 자주 해야할 것 같네요.\n",
    "- 알고리즘 분류\n",
    "    - 구현\n",
    "    - 시뮬레이션\n",
    "- 티어 : 골드 5"
   ]
  },
  {
   "cell_type": "code",
   "execution_count": null,
   "metadata": {},
   "outputs": [],
   "source": [
    "# 톱니바퀴 1\n",
    "import sys\n",
    "# input = sys.stdin.readline\n",
    "\n",
    "gears = [list(map(int, list(input().strip()))) for _ in range(4)]\n",
    "K = int(input())\n",
    "opers = [tuple(map(int, input().split())) for _ in range(K)]\n",
    "\n",
    "pointers = [0, 0, 0, 0] # 숫자만큼 시계 방향으로 돌아간 거\n",
    "for gear, direction in opers:\n",
    "    gear -= 1\n",
    "\n",
    "    # 내 오른쪽 기어들 돌리기(내가 왼쪽)\n",
    "    now_gear = gear\n",
    "    now_dir = direction\n",
    "    left_magnet = gears[now_gear][(-pointers[now_gear] + 2)%8]\n",
    "    while now_gear < 3:\n",
    "        right_magnet = gears[now_gear+1][(-pointers[now_gear+1] - 2)%8]\n",
    "        if left_magnet + right_magnet == 1: # 극이 다르다면\n",
    "            left_magnet = gears[now_gear+1][(-pointers[now_gear+1] + 2)%8]\n",
    "            pointers[now_gear+1] += -now_dir\n",
    "            now_dir *= -1 # 뒤집기\n",
    "            now_gear += 1\n",
    "        else:\n",
    "            break\n",
    "\n",
    "    # 내 왼쪽 기어들 돌리기(내가 오른쪽)\n",
    "    now_gear = gear\n",
    "    now_dir = direction\n",
    "    right_magnet = gears[now_gear][(-pointers[now_gear] - 2)%8]\n",
    "    while now_gear > 0:\n",
    "        left_magnet = gears[now_gear-1][(-pointers[now_gear-1] + 2)%8]\n",
    "        if left_magnet + right_magnet == 1:\n",
    "            right_magnet = gears[now_gear-1][(-pointers[now_gear-1] - 2)%8]\n",
    "            pointers[now_gear-1] += -now_dir\n",
    "            now_dir *= -1\n",
    "            now_gear -= 1\n",
    "        else:\n",
    "            break\n",
    "\n",
    "    pointers[gear] += direction # 일단 돌려줌\n",
    "    \n",
    "ans = 0\n",
    "for i in range(4):\n",
    "    if gears[i][(-pointers[i])%8]: # S극이면\n",
    "        ans += 2**i\n",
    "\n",
    "print(ans)"
   ]
  },
  {
   "cell_type": "code",
   "execution_count": 8,
   "metadata": {},
   "outputs": [],
   "source": [
    "# 톱니바퀴 2\n",
    "import sys\n",
    "# input = sys.stdin.readline\n",
    "\n",
    "T = int(input())\n",
    "gears = [list(map(int, list(input().strip()))) for _ in range(T)]\n",
    "K = int(input())\n",
    "opers = [tuple(map(int, input().split())) for _ in range(K)]\n",
    "\n",
    "pointers = [0]*T # 숫자만큼 시계 방향으로 돌아간 거\n",
    "for gear, direction in opers:\n",
    "    gear -= 1\n",
    "\n",
    "    # 내 오른쪽 기어들 돌리기(내가 왼쪽)\n",
    "    now_gear = gear\n",
    "    now_dir = direction\n",
    "    left_magnet = gears[now_gear][(-pointers[now_gear] + 2)%8]\n",
    "    while now_gear < T-1:\n",
    "        right_magnet = gears[now_gear+1][(-pointers[now_gear+1] - 2)%8]\n",
    "        if left_magnet + right_magnet == 1: # 극이 다르다면\n",
    "            left_magnet = gears[now_gear+1][(-pointers[now_gear+1] + 2)%8]\n",
    "            pointers[now_gear+1] += -now_dir\n",
    "            now_dir *= -1 # 뒤집기\n",
    "            now_gear += 1\n",
    "        else:\n",
    "            break\n",
    "\n",
    "    # 내 왼쪽 기어들 돌리기(내가 오른쪽)\n",
    "    now_gear = gear\n",
    "    now_dir = direction\n",
    "    right_magnet = gears[now_gear][(-pointers[now_gear] - 2)%8]\n",
    "    while now_gear > 0:\n",
    "        left_magnet = gears[now_gear-1][(-pointers[now_gear-1] + 2)%8]\n",
    "        if left_magnet + right_magnet == 1:\n",
    "            right_magnet = gears[now_gear-1][(-pointers[now_gear-1] - 2)%8]\n",
    "            pointers[now_gear-1] += -now_dir\n",
    "            now_dir *= -1\n",
    "            now_gear -= 1\n",
    "        else:\n",
    "            break\n",
    "\n",
    "    pointers[gear] += direction # 일단 돌려줌\n",
    "    \n",
    "ans = 0\n",
    "for i in range(T):\n",
    "    if gears[i][(-pointers[i])%8]: # S극이면\n",
    "        ans += 1\n",
    "\n",
    "print(ans)"
   ]
  },
  {
   "cell_type": "code",
   "execution_count": 26,
   "metadata": {},
   "outputs": [
    {
     "data": {
      "text/plain": [
       "([[1, 0, 0, 0, 1, 0, 1, 1],\n",
       "  [1, 0, 0, 0, 0, 0, 1, 1],\n",
       "  [0, 1, 0, 1, 1, 0, 1, 1],\n",
       "  [0, 0, 1, 1, 1, 1, 0, 1]],\n",
       " 5,\n",
       " [(1, 1), (2, 1), (3, 1), (4, 1), (1, -1)])"
      ]
     },
     "execution_count": 26,
     "metadata": {},
     "output_type": "execute_result"
    }
   ],
   "source": [
    "gears, K, opers"
   ]
  },
  {
   "cell_type": "code",
   "execution_count": 25,
   "metadata": {},
   "outputs": [
    {
     "name": "stdout",
     "output_type": "stream",
     "text": [
      "6\n"
     ]
    },
    {
     "data": {
      "text/plain": [
       "[-1, 1, 1, 0]"
      ]
     },
     "execution_count": 25,
     "metadata": {},
     "output_type": "execute_result"
    }
   ],
   "source": [
    "pointers = [0, 0, 0, 0] # 숫자만큼 시계 방향으로 돌아간 거\n",
    "for gear, direction in opers:\n",
    "    gear -= 1\n",
    "\n",
    "    # 내 오른쪽 기어들 돌리기(내가 왼쪽)\n",
    "    now_gear = gear\n",
    "    now_dir = direction\n",
    "    while now_gear < 3:\n",
    "        left_magnet = gears[now_gear][-pointers[now_gear] + 2]\n",
    "        right_magnet = gears[now_gear+1][-pointers[now_gear+1] - 2]\n",
    "        if left_magnet + right_magnet == 1: # 극이 다르다면\n",
    "            pointers[now_gear+1] += -now_dir\n",
    "            now_dir = -now_dir\n",
    "            now_gear += 1\n",
    "        else:\n",
    "            break\n",
    "\n",
    "    # 내 왼쪽 기어들 돌리기(내가 오른쪽)\n",
    "    now_gear = gear\n",
    "    now_dir = direction\n",
    "    while now_gear > 0:\n",
    "        left_magnet = gears[now_gear-1][-pointers[now_gear-1] + 2]\n",
    "        right_magnet = gears[now_gear][-pointers[now_gear] - 2]\n",
    "        if left_magnet + right_magnet == 1:\n",
    "            pointers[now_gear-1] += -now_dir\n",
    "            now_dir = -now_dir\n",
    "            now_gear -= 1\n",
    "        else:\n",
    "            break\n",
    "\n",
    "    pointers[gear] += direction # 처음에 돌아가는 기어 돌려주기\n",
    "    \n",
    "ans = 0\n",
    "for i in range(4):\n",
    "    if gears[i][-pointers[i]]: # S극이면\n",
    "        ans += 2**i\n",
    "print(ans)\n",
    "pointers"
   ]
  },
  {
   "cell_type": "code",
   "execution_count": 21,
   "metadata": {},
   "outputs": [
    {
     "data": {
      "text/plain": [
       "[(1, 1), (2, 1), (3, 1), (4, 1), (1, -1)]"
      ]
     },
     "execution_count": 21,
     "metadata": {},
     "output_type": "execute_result"
    }
   ],
   "source": [
    "opers"
   ]
  },
  {
   "cell_type": "code",
   "execution_count": 20,
   "metadata": {},
   "outputs": [
    {
     "data": {
      "text/plain": [
       "[[1, 0, 0, 0, 1, 0, 1, 1],\n",
       " [1, 0, 0, 0, 0, 0, 1, 1],\n",
       " [0, 1, 0, 1, 1, 0, 1, 1],\n",
       " [0, 0, 1, 1, 1, 1, 0, 1]]"
      ]
     },
     "execution_count": 20,
     "metadata": {},
     "output_type": "execute_result"
    }
   ],
   "source": [
    "gears"
   ]
  },
  {
   "cell_type": "code",
   "execution_count": 14,
   "metadata": {},
   "outputs": [
    {
     "data": {
      "text/plain": [
       "[0, 1, 0, -1]"
      ]
     },
     "execution_count": 14,
     "metadata": {},
     "output_type": "execute_result"
    }
   ],
   "source": [
    "pointers"
   ]
  },
  {
   "cell_type": "code",
   "execution_count": 34,
   "metadata": {},
   "outputs": [
    {
     "data": {
      "text/plain": [
       "2"
      ]
     },
     "execution_count": 34,
     "metadata": {},
     "output_type": "execute_result"
    }
   ],
   "source": [
    "(-2)%4"
   ]
  }
 ],
 "metadata": {
  "interpreter": {
   "hash": "8fac594bfae6525c0c41b4041d2d72effa188cc8ead05f81b1fab2bb098927fb"
  },
  "kernelspec": {
   "display_name": "Python 3.8.8 ('base')",
   "language": "python",
   "name": "python3"
  },
  "language_info": {
   "codemirror_mode": {
    "name": "ipython",
    "version": 3
   },
   "file_extension": ".py",
   "mimetype": "text/x-python",
   "name": "python",
   "nbconvert_exporter": "python",
   "pygments_lexer": "ipython3",
   "version": "3.8.8"
  },
  "orig_nbformat": 4
 },
 "nbformat": 4,
 "nbformat_minor": 2
}
