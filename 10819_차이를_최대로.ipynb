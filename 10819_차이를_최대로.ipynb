{
 "cells": [
  {
   "cell_type": "markdown",
   "metadata": {},
   "source": [
    "# 10819 차이를 최대로\n",
    "220401\n",
    "- 알고리즘 분류\n",
    "    - 브루트포스 알고리즘\n",
    "    - 백트래킹\n",
    "- 티어 : 실버 2"
   ]
  },
  {
   "cell_type": "code",
   "execution_count": 1,
   "metadata": {},
   "outputs": [
    {
     "name": "stdout",
     "output_type": "stream",
     "text": [
      "62\n"
     ]
    }
   ],
   "source": [
    "# 10819\n",
    "from itertools import permutations as pm\n",
    "N = int(input())\n",
    "def process(ls):\n",
    "    tot = 0\n",
    "    for i in range(N-1):\n",
    "        tot += abs(ls[i] - ls[i+1])\n",
    "    return tot\n",
    "\n",
    "maxi = 0\n",
    "for case in pm(map(int, input().split())):\n",
    "    tot = process(case)\n",
    "    if maxi < tot:\n",
    "        maxi = tot\n",
    "print(maxi)"
   ]
  }
 ],
 "metadata": {
  "interpreter": {
   "hash": "8fac594bfae6525c0c41b4041d2d72effa188cc8ead05f81b1fab2bb098927fb"
  },
  "kernelspec": {
   "display_name": "Python 3.8.8 ('base')",
   "language": "python",
   "name": "python3"
  },
  "language_info": {
   "codemirror_mode": {
    "name": "ipython",
    "version": 3
   },
   "file_extension": ".py",
   "mimetype": "text/x-python",
   "name": "python",
   "nbconvert_exporter": "python",
   "pygments_lexer": "ipython3",
   "version": "3.8.8"
  },
  "orig_nbformat": 4
 },
 "nbformat": 4,
 "nbformat_minor": 2
}
