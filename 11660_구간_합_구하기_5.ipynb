{
 "cells": [
  {
   "cell_type": "markdown",
   "metadata": {},
   "source": [
    "# 11660 구간 합 구하기 5\n",
    "220329\n",
    "- 아이디어 : (0, 0)부터 (x, y)까지의 합을 저장하는 테이블을 만들고 이를 활용한다. (a+b)^2을 기하학적으로 구하는 문제 상상\n",
    "- 알고리즘 분류\n",
    "    - 다이나믹 프로그래밍\n",
    "    - 누적 합\n",
    "- 티어 : 실버 1"
   ]
  },
  {
   "cell_type": "code",
   "execution_count": 1,
   "metadata": {},
   "outputs": [],
   "source": [
    "import sys\n",
    "# input = sys.stdin.readline\n",
    "\n",
    "N, M = map(int, input().split())\n",
    "table = [tuple(map(int, input().split())) for _ in range(N)]\n",
    "\n",
    "acc_table = [[] for _ in range(N)]\n",
    "for i in range(N):\n",
    "    acc = 0\n",
    "    for j in range(N):\n",
    "        acc += table[i][j]\n",
    "        acc_table[i].append(acc)\n",
    "\n",
    "sq_acc_table = [[] for _ in range(N)]\n",
    "for i in range(N):\n",
    "    acc = 0\n",
    "    for j in range(N):\n",
    "        acc += acc_table[j][i]\n",
    "        sq_acc_table[j].append(acc)\n",
    "\n",
    "for _ in range(M):\n",
    "    x1, y1, x2, y2 = map(lambda x: x-1, map(int, input().split()))\n",
    "    sq1 = sq_acc_table[x2][y2]\n",
    "    sq2 = sq_acc_table[x2][y1-1] if y1 else 0\n",
    "    sq3 = sq_acc_table[x1-1][y2] if x1 else 0\n",
    "    sq4 = sq_acc_table[x1-1][y1-1] if x1 and y1 else 0 # -1 되는 경우 생각하기\n",
    "    print(sq1 - sq2 - sq3 + sq4)"
   ]
  },
  {
   "cell_type": "code",
   "execution_count": 2,
   "metadata": {},
   "outputs": [
    {
     "data": {
      "text/plain": [
       "[(1, 2, 3, 4), (2, 3, 4, 5), (3, 4, 5, 6), (4, 5, 6, 7)]"
      ]
     },
     "execution_count": 2,
     "metadata": {},
     "output_type": "execute_result"
    }
   ],
   "source": [
    "table"
   ]
  },
  {
   "cell_type": "code",
   "execution_count": 3,
   "metadata": {},
   "outputs": [
    {
     "name": "stdout",
     "output_type": "stream",
     "text": [
      "27\n",
      "6\n",
      "64\n"
     ]
    }
   ],
   "source": [
    "acc_table = [[] for _ in range(N)]\n",
    "for i in range(N):\n",
    "    acc = 0\n",
    "    for j in range(N):\n",
    "        acc += table[i][j]\n",
    "        acc_table[i].append(acc)\n",
    "\n",
    "sq_acc_table = [[] for _ in range(N)]\n",
    "for i in range(N):\n",
    "    acc = 0\n",
    "    for j in range(N):\n",
    "        acc += acc_table[j][i]\n",
    "        sq_acc_table[j].append(acc)\n",
    "\n",
    "for _ in range(M):\n",
    "    x1, y1, x2, y2 = map(lambda x: x-1, map(int, input().split()))\n",
    "    sq1 = sq_acc_table[x2][y2]\n",
    "    sq2 = sq_acc_table[x2][y1-1] if y1 else 0\n",
    "    sq3 = sq_acc_table[x1-1][y2] if x1 else 0\n",
    "    sq4 = sq_acc_table[x1-1][y1-1] if x1 and y1 else 0 # -1 되는 경우 생각하기\n",
    "    print(sq1 - sq2 - sq3 + sq4)"
   ]
  },
  {
   "cell_type": "code",
   "execution_count": 7,
   "metadata": {},
   "outputs": [
    {
     "name": "stdout",
     "output_type": "stream",
     "text": [
      "[1, 3, 6, 10]\n",
      "[2, 5, 9, 14]\n",
      "[3, 7, 12, 18]\n",
      "[4, 9, 15, 22]\n"
     ]
    }
   ],
   "source": [
    "for line in acc_table:\n",
    "    print(line)"
   ]
  },
  {
   "cell_type": "code",
   "execution_count": 9,
   "metadata": {},
   "outputs": [
    {
     "name": "stdout",
     "output_type": "stream",
     "text": [
      "[1, 3, 6, 10]\n",
      "[3, 8, 15, 24]\n",
      "[6, 15, 27, 42]\n",
      "[10, 24, 42, 64]\n"
     ]
    }
   ],
   "source": [
    "for line in sq_acc_table:\n",
    "    print(line)"
   ]
  },
  {
   "cell_type": "code",
   "execution_count": null,
   "metadata": {},
   "outputs": [],
   "source": []
  }
 ],
 "metadata": {
  "interpreter": {
   "hash": "8fac594bfae6525c0c41b4041d2d72effa188cc8ead05f81b1fab2bb098927fb"
  },
  "kernelspec": {
   "display_name": "Python 3.8.8 ('base')",
   "language": "python",
   "name": "python3"
  },
  "language_info": {
   "codemirror_mode": {
    "name": "ipython",
    "version": 3
   },
   "file_extension": ".py",
   "mimetype": "text/x-python",
   "name": "python",
   "nbconvert_exporter": "python",
   "pygments_lexer": "ipython3",
   "version": "3.8.8"
  },
  "orig_nbformat": 4
 },
 "nbformat": 4,
 "nbformat_minor": 2
}
