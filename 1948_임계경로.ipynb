{
 "cells": [
  {
   "cell_type": "markdown",
   "metadata": {},
   "source": [
    "# 1948 임계경로\n",
    "220419\n",
    "- 소감 : 정말 플래티넘은 괜히 플래티넘이 아닌듯... 풀기까지 정말 많은 코드 수정과 고민이 있었음. 코드의 시간복잡도와 메모리복잡도를 처음에 짰던 코드에 비하면 훨씬 많이 낮췄다. 이 코드는 DAG 형태의 그래프에서 최단-최장경로를 구할 때 사용할 수 있을 것 같다.\n",
    "- 아이디어 :위상 정렬을 하면서 path_info에 특정 node에 오기까지 든 비용(최대값만 저장)과 이전 노드들을 저장해준다. 어떻게 돌아가는지 궁금하면 path_info에 뭐가 저장되는지 확인해보도록 하자\n",
    "- 알고리즘\n",
    "    - 그래프 이론\n",
    "    - 그래프 탐색\n",
    "    - 위상 정렬\n",
    "- 티어 : 플래티넘 5"
   ]
  },
  {
   "cell_type": "code",
   "execution_count": 20,
   "metadata": {},
   "outputs": [],
   "source": [
    "from collections import deque\n",
    "import sys\n",
    "# input = sys.stdin.readline\n",
    "n, m = int(input()), int(input())\n",
    "in_degree = [0]*(n+1)\n",
    "adj_list = [[] for _ in range(n+1)]\n",
    "\n",
    "for _ in range(m):\n",
    "    a, b, c = map(int, input().split())\n",
    "    adj_list[a].append((b, c))\n",
    "    in_degree[b] += 1\n",
    "\n",
    "start, end = map(int, input().split())\n",
    "\n",
    "queue = deque([start])\n",
    "path_info = [[0, []] for _ in range(n+1)] # 각 노드를 거치는 path들 중 가장 크거나 같은 애들만 저장(cost, [prev_node_1, prev_node_2...])\n",
    "path_info[start][1].append(None)\n",
    "while queue:\n",
    "    now_node = queue.popleft()\n",
    "    cost = path_info[now_node][0]\n",
    "    for adj_node, adj_cost in adj_list[now_node]:\n",
    "        # 현재 노드(now_node)로 들어온 path들에 대해 인접 노드(adj_node)로 가는 경로 업데이트\n",
    "        if path_info[adj_node][1]: # path가 들어 있으면\n",
    "            adj_max_cost = path_info[adj_node][0]\n",
    "            if cost+adj_cost == adj_max_cost: # 노드 추가\n",
    "                path_info[adj_node][1].append(now_node)\n",
    "            elif cost+adj_cost > adj_max_cost:\n",
    "                path_info[adj_node][0] = cost + adj_cost\n",
    "                path_info[adj_node][1] = [now_node]\n",
    "        else: # path가 비어 있는 경우\n",
    "            path_info[adj_node][0] = cost + adj_cost\n",
    "            path_info[adj_node][1].append(now_node)\n",
    "        \n",
    "        in_degree[adj_node] -= 1    \n",
    "        if in_degree[adj_node] == 0:\n",
    "            queue.append(adj_node)\n",
    "\n",
    "max_cost = path_info[end][0]\n",
    "\n",
    "path_cnt = 0\n",
    "visited = [0] * (n+1)\n",
    "last_queue = deque([end])\n",
    "while last_queue:\n",
    "    now_node = last_queue.popleft()\n",
    "    if now_node == start:\n",
    "        continue\n",
    "    for adj_node in path_info[now_node][1]:\n",
    "        path_cnt += 1\n",
    "        if adj_node is not None and not visited[adj_node]:\n",
    "            last_queue.append(adj_node)\n",
    "            visited[adj_node] = 1\n",
    "\n",
    "print(max_cost)\n",
    "print(path_cnt)"
   ]
  },
  {
   "cell_type": "code",
   "execution_count": 24,
   "metadata": {},
   "outputs": [
    {
     "data": {
      "text/plain": [
       "([0, 0, 2, 3, 1, 1],\n",
       " [[], [(2, 5), (3, 10), (4, 5)], [(3, 3)], [], [(2, 2), (5, 2)], [(3, 3)]],\n",
       " 5,\n",
       " 7,\n",
       " 1,\n",
       " 3)"
      ]
     },
     "execution_count": 24,
     "metadata": {},
     "output_type": "execute_result"
    }
   ],
   "source": [
    "# memo_in_degree = in_degree.copy()\n",
    "in_degree = memo_in_degree.copy()\n",
    "in_degree, adj_list, n, m, start, end"
   ]
  },
  {
   "cell_type": "code",
   "execution_count": 25,
   "metadata": {},
   "outputs": [
    {
     "name": "stdout",
     "output_type": "stream",
     "text": [
      "10\n",
      "6\n"
     ]
    }
   ],
   "source": [
    "queue = deque([start])\n",
    "path_info = [[0, []] for _ in range(n+1)] # 각 노드를 거치는 path들 중 가장 크거나 같은 애들만 저장(cost, [prev_node_1, prev_node_2...])\n",
    "path_info[start][1].append(None)\n",
    "while queue:\n",
    "    now_node = queue.popleft()\n",
    "    cost = path_info[now_node][0]\n",
    "    for adj_node, adj_cost in adj_list[now_node]:\n",
    "        # 현재 노드(now_node)로 들어온 path들에 대해 인접 노드(adj_node)로 가는 경로 업데이트\n",
    "        if path_info[adj_node][1]: # path가 들어 있으면\n",
    "            adj_max_cost = path_info[adj_node][0]\n",
    "            if cost+adj_cost == adj_max_cost: # 노드 추가\n",
    "                path_info[adj_node][1].append(now_node)\n",
    "            elif cost+adj_cost > adj_max_cost:\n",
    "                path_info[adj_node][0] = cost + adj_cost\n",
    "                path_info[adj_node][1] = [now_node]\n",
    "        else: # path가 비어 있는 경우\n",
    "            path_info[adj_node][0] = cost + adj_cost\n",
    "            path_info[adj_node][1].append(now_node)\n",
    "        \n",
    "        in_degree[adj_node] -= 1    \n",
    "        if in_degree[adj_node] == 0:\n",
    "            queue.append(adj_node)\n",
    "\n",
    "max_cost = path_info[end][0]\n",
    "\n",
    "path_cnt = 0\n",
    "visited = [0] * (n+1)\n",
    "last_queue = deque([end])\n",
    "while last_queue:\n",
    "    now_node = last_queue.popleft()\n",
    "    if now_node == start:\n",
    "        continue\n",
    "    for adj_node in path_info[now_node][1]:\n",
    "        path_cnt += 1\n",
    "        if adj_node is not None and not visited[adj_node]:\n",
    "            last_queue.append(adj_node)\n",
    "            visited[adj_node] = 1\n",
    "\n",
    "print(max_cost)\n",
    "print(path_cnt)"
   ]
  },
  {
   "cell_type": "code",
   "execution_count": 23,
   "metadata": {},
   "outputs": [
    {
     "data": {
      "text/plain": [
       "[[0, []], [0, [None]], [7, [4]], [10, [1, 2, 5]], [5, [1]], [7, [4]]]"
      ]
     },
     "execution_count": 23,
     "metadata": {},
     "output_type": "execute_result"
    }
   ],
   "source": [
    "path_info"
   ]
  },
  {
   "cell_type": "code",
   "execution_count": 123,
   "metadata": {},
   "outputs": [
    {
     "name": "stdout",
     "output_type": "stream",
     "text": [
      "12\n",
      "5\n"
     ]
    }
   ],
   "source": [
    "queue = deque([start])\n",
    "path_info = [[] for _ in range(n+1)] # 각 노드를 거치는 path들 중 가장 크거나 같은 애들만 저장(cost, (prev_node, prev_path_num))\n",
    "path_info[start].append((0, (None, None)))\n",
    "while queue:\n",
    "    now_node = queue.popleft()\n",
    "    for adj_node, adj_cost in adj_list[now_node]:\n",
    "        in_degree[adj_node] -= 1\n",
    "        # 현재 노드(now_node)로 들어온 path들에 대해 인접 노드(adj_node)로 가는 경로 업데이트\n",
    "        for i, (cost, (prev_node, prev_path_num)) in enumerate(path_info[now_node]):\n",
    "            if path_info[adj_node]: # path가 들어 있으면\n",
    "                adj_max_cost = path_info[adj_node][0][0] # 아무 path의 cost\n",
    "                if cost+adj_cost == adj_max_cost:\n",
    "                    path_info[adj_node].append((cost + adj_cost, (now_node, i)))\n",
    "                elif cost+adj_cost > adj_max_cost:\n",
    "                    path_info[adj_node] = [(cost + adj_cost, (now_node, i))]\n",
    "                else: # 작은 경우는 업데이트 x\n",
    "                    continue\n",
    "            else: # path가 비어 있는 경우\n",
    "                path_info[adj_node].append((cost + adj_cost, (now_node, i)))\n",
    "        if in_degree[adj_node] == 0:\n",
    "            queue.append(adj_node)\n",
    "\n",
    "max_cost = 0\n",
    "paths = []\n",
    "for cost, (prev_node, prev_path_num) in path_info[end]:\n",
    "    if cost > max_cost:\n",
    "        max_cost = cost\n",
    "        paths = [(prev_node, prev_path_num)]\n",
    "    elif cost == max_cost:\n",
    "        paths.append((prev_node, prev_path_num))\n",
    "\n",
    "def check_path(now_node, prev_node, prev_path_num):\n",
    "    path = []\n",
    "    def whole_path(now_node, prev_node, prev_path_num):\n",
    "        if prev_node is None:\n",
    "            return\n",
    "        path.append((now_node, prev_node))\n",
    "        whole_path(prev_node, *path_info[prev_node][prev_path_num][1])\n",
    "    whole_path(now_node, prev_node, prev_path_num)\n",
    "    return path\n",
    "\n",
    "path_set = set()\n",
    "for p in paths:\n",
    "    path_set.update(check_path(end, *p))\n",
    "\n",
    "print(max_cost)\n",
    "print(len(path_set))"
   ]
  },
  {
   "cell_type": "code",
   "execution_count": 124,
   "metadata": {},
   "outputs": [
    {
     "data": {
      "text/plain": [
       "[[],\n",
       " [(0, (None, None))],\n",
       " [(4, (1, 0))],\n",
       " [(2, (1, 0))],\n",
       " [(3, (1, 0))],\n",
       " [(3, (3, 0))],\n",
       " [(7, (2, 0)), (7, (4, 0))],\n",
       " [(12, (6, 0)), (12, (6, 1))]]"
      ]
     },
     "execution_count": 124,
     "metadata": {},
     "output_type": "execute_result"
    }
   ],
   "source": [
    "path_info"
   ]
  },
  {
   "cell_type": "code",
   "execution_count": 75,
   "metadata": {},
   "outputs": [
    {
     "data": {
      "text/plain": [
       "([0, 0, 0, 0, 0, 0, 0, 0],\n",
       " [[],\n",
       "  [(0, (None, None))],\n",
       "  [(4, (1, 0))],\n",
       "  [(2, (1, 0))],\n",
       "  [(3, (1, 0))],\n",
       "  [(3, (3, 0))],\n",
       "  [(7, (2, 0)), (7, (4, 0))],\n",
       "  [(12, (6, 0)), (12, (6, 1))]],\n",
       " [(6, 0), (6, 1)])"
      ]
     },
     "execution_count": 75,
     "metadata": {},
     "output_type": "execute_result"
    }
   ],
   "source": [
    "in_degree, path_info, paths"
   ]
  },
  {
   "cell_type": "code",
   "execution_count": null,
   "metadata": {},
   "outputs": [],
   "source": [
    "queue = deque([start])\n",
    "path_info = [[] for _ in range(n+1)] # 각 노드를 거치는 path 정보를 저장(cost, (prev_node, prev_path_num))\n",
    "path_info[start].append((0, (None, None)))\n",
    "while queue:\n",
    "    now_node = queue.popleft()\n",
    "    for adj_node, adj_cost in adj_list[now_node]:\n",
    "        in_degree[adj_node] -= 1\n",
    "\n",
    "        # 현재 노드(now_node)로 들어온 모든 path에 대해 인접 노드(adj_node) 가는 경로 업데이트\n",
    "        for i, (cost, (prev_node, prev_path_num)) in enumerate(path_info[now_node]):\n",
    "            path_info[adj_node].append((cost + adj_cost, (now_node, i)))\n",
    "        if in_degree[adj_node] == 0:\n",
    "            queue.append(adj_node)\n",
    "\n",
    "maxi = 0\n",
    "paths = []\n",
    "for cost, (prev_node, prev_path_num) in path_info[end]:\n",
    "    if cost > maxi:\n",
    "        maxi = cost\n",
    "        paths = [(prev_node, prev_path_num)]\n",
    "    elif cost == maxi:\n",
    "        paths.append((prev_node, prev_path_num))\n",
    "\n",
    "def check_path(prev_node, prev_path_num):\n",
    "    path = []\n",
    "    def whole_path(prev_node, prev_path_num):\n",
    "        if prev_node is None:\n",
    "            return\n",
    "        path.append(prev_node)\n",
    "        whole_path(*path_info[prev_node][prev_path_num][1])\n",
    "    whole_path(prev_node, prev_path_num)\n",
    "    return path\n",
    "\n",
    "path_set = set()\n",
    "for p in paths:\n",
    "    path_set.update(check_path(*p))\n",
    "\n",
    "print(len(path_set)+1)"
   ]
  },
  {
   "cell_type": "code",
   "execution_count": 58,
   "metadata": {},
   "outputs": [
    {
     "name": "stdout",
     "output_type": "stream",
     "text": [
      "5 {1, 2, 4, 6}\n"
     ]
    }
   ],
   "source": [
    "def check_path(prev_node, prev_path_num):\n",
    "    path = []\n",
    "    def whole_path(prev_node, prev_path_num):\n",
    "        if prev_node is None:\n",
    "            return\n",
    "        path.append(prev_node)\n",
    "        whole_path(*path_info[prev_node][prev_path_num][1])\n",
    "    whole_path(prev_node, prev_path_num)\n",
    "    return path\n",
    "\n",
    "path_set = set()\n",
    "for p in paths:\n",
    "    path_set.update(check_path(*p))\n",
    "\n",
    "print(len(path_set)+1)"
   ]
  },
  {
   "cell_type": "code",
   "execution_count": 51,
   "metadata": {},
   "outputs": [
    {
     "name": "stdout",
     "output_type": "stream",
     "text": [
      "6 0\n"
     ]
    }
   ],
   "source": [
    "print(*paths[0])"
   ]
  },
  {
   "cell_type": "code",
   "execution_count": 44,
   "metadata": {},
   "outputs": [
    {
     "data": {
      "text/plain": [
       "[[],\n",
       " [(0, (None, None))],\n",
       " [(4, (1, 0))],\n",
       " [(2, (1, 0))],\n",
       " [(3, (1, 0))],\n",
       " [(3, (3, 0))],\n",
       " [(7, (2, 0)), (7, (4, 0)), (5, (5, 0))],\n",
       " [(9, (2, 0)), (12, (6, 0)), (12, (6, 1)), (10, (6, 2))]]"
      ]
     },
     "execution_count": 44,
     "metadata": {},
     "output_type": "execute_result"
    }
   ],
   "source": [
    "path_info"
   ]
  },
  {
   "cell_type": "code",
   "execution_count": 23,
   "metadata": {},
   "outputs": [
    {
     "data": {
      "text/plain": [
       "[[],\n",
       " [(0, [])],\n",
       " [(4, [1])],\n",
       " [(2, [1])],\n",
       " [(3, [1])],\n",
       " [(3, [1, 3])],\n",
       " [(7, [1, 2]), (7, [1, 4]), (5, [1, 3, 5])],\n",
       " [(9, [1, 2]),\n",
       "  (12, [1, 2, 6, [1, 4, 6]]),\n",
       "  (12, [1, 4, 6]),\n",
       "  (10, [1, 3, 5, 6])]]"
      ]
     },
     "execution_count": 23,
     "metadata": {},
     "output_type": "execute_result"
    }
   ],
   "source": [
    "queue = deque([start])\n",
    "path_list = [[] for _ in range(n+1)]\n",
    "path_list[start].append((0, []))\n",
    "while queue:\n",
    "    now_node = queue.popleft()\n",
    "    now_path = path_list[now_node]\n",
    "    for adj_node, adj_cost in adj_list[now_node]:\n",
    "        in_degree[adj_node] -= 1\n",
    "        for cost, path in path_list[now_node]:\n",
    "            path_list[adj_node].append((cost + adj_cost, path + [now_node]))\n",
    "        if in_degree[adj_node] == 0:\n",
    "            queue.append(adj_node)\n",
    "\n",
    "maxi = 0\n",
    "paths = []\n",
    "for cost, path in path_list[end]:\n",
    "    if cost > maxi:\n",
    "        maxi = cost\n",
    "        paths = [path]\n",
    "    elif cost == maxi:\n",
    "        paths.append(path)\n",
    "\n",
    "s = set()\n",
    "for path in paths:\n",
    "    s.update(path)\n",
    "\n",
    "print(maxi)\n",
    "print(len(s)+1)"
   ]
  }
 ],
 "metadata": {
  "interpreter": {
   "hash": "8fac594bfae6525c0c41b4041d2d72effa188cc8ead05f81b1fab2bb098927fb"
  },
  "kernelspec": {
   "display_name": "Python 3.8.8 ('base')",
   "language": "python",
   "name": "python3"
  },
  "language_info": {
   "codemirror_mode": {
    "name": "ipython",
    "version": 3
   },
   "file_extension": ".py",
   "mimetype": "text/x-python",
   "name": "python",
   "nbconvert_exporter": "python",
   "pygments_lexer": "ipython3",
   "version": "3.8.8"
  },
  "orig_nbformat": 4
 },
 "nbformat": 4,
 "nbformat_minor": 2
}
