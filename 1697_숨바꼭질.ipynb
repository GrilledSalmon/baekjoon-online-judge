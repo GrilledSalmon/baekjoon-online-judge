{
 "cells": [
  {
   "cell_type": "markdown",
   "metadata": {},
   "source": [
    "# 1697 숨바꼭질\n",
    "220203\n",
    "- 소감 : 오늘 잠을 별로 못 자서 컨디션이 별로 안 좋다는 핑계로 함수화도 안 하고 코드를 대충 짰더니 별로 만족스럽진 않다. 방법이 안 떠올라서 알고리즘 분류를 보고 BFS로 푼 것도 기분이 좋진 않음. 다른 사람의 풀이를 보니 재귀로 풀었던데, 나도 재귀 잘 하고 싶당.\n",
    "- 알고리즘 분류\n",
    "    - 그래프 이론\n",
    "    - 그래프 탐색\n",
    "    - 너비 우선 탐색\n",
    "- 티어 : 실버 1"
   ]
  },
  {
   "cell_type": "code",
   "execution_count": 36,
   "metadata": {},
   "outputs": [
    {
     "name": "stdout",
     "output_type": "stream",
     "text": [
      "1\n"
     ]
    }
   ],
   "source": [
    "from collections import deque\n",
    "N, K = map(int, input().split())\n",
    "\n",
    "if N >= K:\n",
    "    print(N-K)\n",
    "\n",
    "else:\n",
    "    howlong = [None] * (K+1) # 각 수에 도달하는 데 걸린 시간\n",
    "    howlong[N] = 0\n",
    "    queue = deque([N])\n",
    "    until_min = 1000000\n",
    "    while queue:\n",
    "        now_num = queue.popleft()\n",
    "\n",
    "        now_time = howlong[now_num]\n",
    "        if now_time >= until_min:\n",
    "            print(until_min)\n",
    "            break\n",
    "        # -1\n",
    "        if now_num != 0 and howlong[now_num - 1] is None:\n",
    "            howlong[now_num - 1] = now_time + 1\n",
    "            queue.append(now_num - 1)\n",
    "        # +1\n",
    "        if howlong[now_num + 1] is None:\n",
    "            howlong[now_num + 1] = now_time + 1\n",
    "            queue.append(now_num + 1)\n",
    "\n",
    "        # *2\n",
    "        double = now_num*2\n",
    "        if double <= K: # K\n",
    "            if howlong[double] is None:\n",
    "                howlong[double] = now_time + 1\n",
    "                queue.append(double)\n",
    "        else: # 범위 넘은 경우\n",
    "            time_to_take = now_time + double - K + 1\n",
    "            if time_to_take < until_min:\n",
    "                until_min = time_to_take\n",
    "            \n",
    "        if howlong[K]: # 찾았으면\n",
    "            print(min([howlong[K], until_min]))\n",
    "            break"
   ]
  },
  {
   "cell_type": "code",
   "execution_count": 37,
   "metadata": {},
   "outputs": [
    {
     "name": "stdout",
     "output_type": "stream",
     "text": [
      "0 : 0\n",
      "1 : 1\n"
     ]
    }
   ],
   "source": [
    "for i,v in enumerate(howlong):\n",
    "    print(i, ':', v)"
   ]
  },
  {
   "cell_type": "code",
   "execution_count": 21,
   "metadata": {},
   "outputs": [
    {
     "name": "stdout",
     "output_type": "stream",
     "text": [
      "4\n"
     ]
    }
   ],
   "source": [
    "howlong = [None] * (K+1) # 각 수에 도달하는 데 걸린 시간\n",
    "howlong[N] = 0\n",
    "queue = deque([N])\n",
    "until_min = 1000000\n",
    "while queue:\n",
    "    now_num = queue.popleft()\n",
    "    if now_num == 0:\n",
    "        continue\n",
    "    now_time = howlong[now_num]\n",
    "    # -1\n",
    "    if howlong[now_num - 1] is None:\n",
    "        howlong[now_num - 1] = now_time + 1\n",
    "        queue.append(now_num - 1)\n",
    "    # +1\n",
    "    if howlong[now_num + 1] is None:\n",
    "        howlong[now_num + 1] = now_time + 1\n",
    "        queue.append(now_num + 1)\n",
    "\n",
    "    # *2\n",
    "    double = now_num*2\n",
    "    if double <= K: # K\n",
    "        if howlong[double] is None:\n",
    "            howlong[double] = now_time + 1\n",
    "            queue.append(double)\n",
    "    else: # 범위 넘은 경우\n",
    "        time_to_take = now_time + double - K + 1\n",
    "        if time_to_take < until_min:\n",
    "            until_min = time_to_take\n",
    "        \n",
    "    if howlong[K]: # 찾았으면\n",
    "        print(min([howlong[K], until_min]))\n",
    "        break"
   ]
  },
  {
   "cell_type": "code",
   "execution_count": 20,
   "metadata": {},
   "outputs": [
    {
     "name": "stdout",
     "output_type": "stream",
     "text": [
      "0 : None\n",
      "1 : 4\n",
      "2 : 3\n",
      "3 : 2\n",
      "4 : 1\n",
      "5 : 0\n",
      "6 : 1\n",
      "7 : 2\n",
      "8 : 2\n",
      "9 : 2\n",
      "10 : 1\n",
      "11 : 2\n",
      "12 : 2\n",
      "13 : 3\n",
      "14 : 3\n",
      "15 : 4\n",
      "16 : 3\n",
      "17 : 4\n"
     ]
    }
   ],
   "source": [
    "for i,v in enumerate(howlong):\n",
    "    print(i, ':', v)"
   ]
  },
  {
   "cell_type": "code",
   "execution_count": 15,
   "metadata": {},
   "outputs": [
    {
     "data": {
      "text/plain": [
       "1000000"
      ]
     },
     "execution_count": 15,
     "metadata": {},
     "output_type": "execute_result"
    }
   ],
   "source": [
    "until_min"
   ]
  },
  {
   "cell_type": "code",
   "execution_count": null,
   "metadata": {},
   "outputs": [],
   "source": []
  }
 ],
 "metadata": {
  "interpreter": {
   "hash": "c798a043d5b26db4ea8dc684fe25ec244835432adc5539bce2de618403b1d63c"
  },
  "kernelspec": {
   "display_name": "Python 3.8.5 64-bit ('base': conda)",
   "language": "python",
   "name": "python3"
  },
  "language_info": {
   "codemirror_mode": {
    "name": "ipython",
    "version": 3
   },
   "file_extension": ".py",
   "mimetype": "text/x-python",
   "name": "python",
   "nbconvert_exporter": "python",
   "pygments_lexer": "ipython3",
   "version": "3.8.5"
  },
  "orig_nbformat": 4
 },
 "nbformat": 4,
 "nbformat_minor": 2
}
