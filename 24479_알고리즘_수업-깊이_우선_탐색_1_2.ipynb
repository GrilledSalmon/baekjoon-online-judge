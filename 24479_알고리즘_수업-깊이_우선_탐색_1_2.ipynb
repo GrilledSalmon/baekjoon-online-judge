{
 "cells": [
  {
   "cell_type": "markdown",
   "metadata": {},
   "source": [
    "# 알고리즘 수업 - 깊이 우선 탐색 1, 2\n",
    "220822\n",
    "- 소감\n",
    "    - 잘 구현하면 됨\n",
    "- 소요 시간 : 12분\n",
    "- 알고리즘 분류 : 그래프 이론, 그래프 탐색, 정렬, 깊이 우선 탐색"
   ]
  },
  {
   "cell_type": "code",
   "execution_count": null,
   "metadata": {},
   "outputs": [],
   "source": [
    "import sys\n",
    "sys.setrecursionlimit(10**6)\n",
    "# input = sys.stdin.readline\n",
    "\n",
    "N, M, R = map(int, input().split())\n",
    "\n",
    "adj_list = [[] for _ in range(N+1)]\n",
    "for _ in range(M):\n",
    "    a, b = map(int, input().split())\n",
    "    adj_list[a].append(b)\n",
    "    adj_list[b].append(a)\n",
    "\n",
    "for li in adj_list:\n",
    "    li.sort()\n",
    "\n",
    "order = [0]*N\n",
    "visited = [0]*(N+1)\n",
    "visited[R] = 1\n",
    "now_order = [1]\n",
    "def dfs(now_node=R):\n",
    "    order[now_node-1] = now_order[0]\n",
    "    for adj_node in adj_list[now_node]:\n",
    "        if not visited[adj_node]:\n",
    "            now_order[0] += 1\n",
    "            visited[adj_node] = 1\n",
    "            dfs(adj_node)\n",
    "\n",
    "dfs()\n",
    "\n",
    "print('\\n'.join(map(str, order)))"
   ]
  }
 ],
 "metadata": {
  "interpreter": {
   "hash": "8cc51f7a6f9663e4a057df8e9ab0b3750994a36584b90d61db68aa71b39bfa78"
  },
  "kernelspec": {
   "display_name": "Python 3.8.5 ('base')",
   "language": "python",
   "name": "python3"
  },
  "language_info": {
   "name": "python",
   "version": "3.8.5"
  },
  "orig_nbformat": 4
 },
 "nbformat": 4,
 "nbformat_minor": 2
}
