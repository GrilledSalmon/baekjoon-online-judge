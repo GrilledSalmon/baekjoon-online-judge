{
 "cells": [
  {
   "cell_type": "markdown",
   "metadata": {},
   "source": [
    "# 14791 Tidy Numbers(Large)\n",
    "220807\n",
    "- 소감\n",
    "    - 오랜만의 알고리즘..^^\n",
    "    - 오랜만에 풀었다가 못풀면 기분 안 좋을 것 같아서 쉬운 문제로 풀었습니다.\n",
    "    - 예전에 풀려다가 안 풀려서 다른 문제 풀었었는데 예전에 왜 못풀었는지 모르겠네여\n",
    "- 소요 시간 : 29분\n",
    "- 알고리즘 분류 : 수학, 그리디 알고리즘\n",
    "- 티어 : 실버 2"
   ]
  },
  {
   "cell_type": "code",
   "execution_count": 2,
   "metadata": {},
   "outputs": [],
   "source": [
    "import sys\n",
    "# input = sys.stdin.readline\n",
    "\n",
    "for case_num in range(int(input())):\n",
    "    N = input().rstrip()\n",
    "\n",
    "    res = ''\n",
    "    for i in range(len(N)):\n",
    "        if i == len(N) - 1:\n",
    "            res += N[i]\n",
    "            break\n",
    "        now, next_ = N[i], N[i+1]\n",
    "        if now <= next_:\n",
    "            res += now\n",
    "        else:\n",
    "            j = i\n",
    "            while j != 0 and N[j] == N[j-1]:\n",
    "                j -= 1\n",
    "            res = N[:j] + str(int(N[j]) - 1) + '9'*(len(N) - j - 1)\n",
    "            break\n",
    "    print(f\"Case #{case_num+1}: {int(res)}\")"
   ]
  },
  {
   "cell_type": "code",
   "execution_count": 13,
   "metadata": {},
   "outputs": [
    {
     "name": "stdout",
     "output_type": "stream",
     "text": [
      "129\n"
     ]
    }
   ],
   "source": [
    "N = input()\n",
    "\n",
    "res = ''\n",
    "for i in range(len(N)-1):\n",
    "    now, next_ = N[i], N[i+1]\n",
    "    if now <= next_:\n",
    "        res += now\n",
    "    else:\n",
    "        j = i\n",
    "        while j != 0 and N[j] == N[j-1]:\n",
    "            j -= 1\n",
    "        res = N[:j] + str(int(N[j]) - 1) + '9'*(len(N) - j - 1)\n",
    "        break\n",
    "print(int(res))"
   ]
  },
  {
   "cell_type": "code",
   "execution_count": 10,
   "metadata": {},
   "outputs": [
    {
     "data": {
      "text/plain": [
       "'132'"
      ]
     },
     "execution_count": 10,
     "metadata": {},
     "output_type": "execute_result"
    }
   ],
   "source": [
    "N"
   ]
  },
  {
   "cell_type": "code",
   "execution_count": 12,
   "metadata": {},
   "outputs": [
    {
     "name": "stdout",
     "output_type": "stream",
     "text": [
      "129\n"
     ]
    }
   ],
   "source": [
    "res = ''\n",
    "for i in range(len(N)-1):\n",
    "    now, next_ = N[i], N[i+1]\n",
    "    if now <= next_:\n",
    "        res += now\n",
    "    else:\n",
    "        j = i\n",
    "        while j != 0 and N[j] == N[j-1]:\n",
    "            j -= 1\n",
    "        res = N[:j] + str(int(N[j]) - 1) + '9'*(len(N) - j - 1)\n",
    "        break\n",
    "print(int(res))"
   ]
  },
  {
   "cell_type": "code",
   "execution_count": null,
   "metadata": {},
   "outputs": [],
   "source": []
  }
 ],
 "metadata": {
  "interpreter": {
   "hash": "8cc51f7a6f9663e4a057df8e9ab0b3750994a36584b90d61db68aa71b39bfa78"
  },
  "kernelspec": {
   "display_name": "Python 3.8.5 ('base')",
   "language": "python",
   "name": "python3"
  },
  "language_info": {
   "codemirror_mode": {
    "name": "ipython",
    "version": 3
   },
   "file_extension": ".py",
   "mimetype": "text/x-python",
   "name": "python",
   "nbconvert_exporter": "python",
   "pygments_lexer": "ipython3",
   "version": "3.8.5"
  },
  "orig_nbformat": 4
 },
 "nbformat": 4,
 "nbformat_minor": 2
}
