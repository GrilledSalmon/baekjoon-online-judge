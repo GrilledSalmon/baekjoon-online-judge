{
 "cells": [
  {
   "cell_type": "markdown",
   "metadata": {},
   "source": [
    "# 1699 제곱수의 합\n",
    "220816\n",
    "- 소감\n",
    "    - DP..\n",
    "    - 이렇게 오래 풀 생각 없었는데..\n",
    "- 소요 시간 : 1시간\n",
    "- 알고리즘 분류 : 수학, 다이나믹 프로그래밍\n",
    "- 티어 : 실버 2"
   ]
  },
  {
   "cell_type": "code",
   "execution_count": 41,
   "metadata": {},
   "outputs": [
    {
     "name": "stdout",
     "output_type": "stream",
     "text": [
      "5\n"
     ]
    }
   ],
   "source": [
    "import sys\n",
    "N = int(input())\n",
    "\n",
    "memo =  [None]*(N+1)\n",
    "n = 1\n",
    "square = []\n",
    "while n**2 <= N:\n",
    "    memo[n**2] = 1\n",
    "    square.append(n**2)\n",
    "    n += 1\n",
    "\n",
    "for n in range(1, N+1):\n",
    "    if memo[n] is None:\n",
    "        res = 10**6\n",
    "        i = 0\n",
    "        while i < len(square) and square[i] <= n:\n",
    "            res = min(res, memo[n - square[i]])\n",
    "            i += 1\n",
    "        memo[n] = res + 1\n",
    "\n",
    "print(memo[N])"
   ]
  },
  {
   "cell_type": "code",
   "execution_count": 18,
   "metadata": {},
   "outputs": [
    {
     "name": "stdout",
     "output_type": "stream",
     "text": [
      "2\n"
     ]
    }
   ],
   "source": [
    "memo =  [None]*(N+1)\n",
    "n = 1\n",
    "square = []\n",
    "while n**2 <= N:\n",
    "    memo[n**2] = 1\n",
    "    square.append(n**2)\n",
    "    n += 1\n",
    "\n",
    "for n in range(1, N+1):\n",
    "    if memo[n] is None:\n",
    "        res = 10**6\n",
    "        i = 0\n",
    "        while i < len(square) and square[i] <= n:\n",
    "            res = 1 + min(res, memo[n - square[i]])\n",
    "            i += 1\n",
    "        memo[n] = res\n",
    "\n",
    "print(memo(N))"
   ]
  },
  {
   "cell_type": "code",
   "execution_count": 15,
   "metadata": {},
   "outputs": [
    {
     "data": {
      "text/plain": [
       "([1, 4], 7)"
      ]
     },
     "execution_count": 15,
     "metadata": {},
     "output_type": "execute_result"
    }
   ],
   "source": [
    "square, N"
   ]
  },
  {
   "cell_type": "code",
   "execution_count": 16,
   "metadata": {},
   "outputs": [
    {
     "data": {
      "text/plain": [
       "[None, 1, 1, 1, 1, 1, 1, 1]"
      ]
     },
     "execution_count": 16,
     "metadata": {},
     "output_type": "execute_result"
    }
   ],
   "source": [
    "memo"
   ]
  },
  {
   "cell_type": "code",
   "execution_count": 17,
   "metadata": {},
   "outputs": [
    {
     "name": "stdout",
     "output_type": "stream",
     "text": [
      "2\n"
     ]
    }
   ],
   "source": [
    "# 커널 폭발시키는 코드\n",
    "import sys\n",
    "sys.setrecursionlimit(10000)\n",
    "N = int(input())\n",
    "\n",
    "memo =  [None]*(N+1)\n",
    "n = 1\n",
    "square = []\n",
    "while n**2 <= N:\n",
    "    memo[n**2] = 1\n",
    "    square.append(n**2)\n",
    "    n += 1\n",
    "\n",
    "def dp(n):\n",
    "    if memo[n] is None:\n",
    "        res = 10**6\n",
    "        for s in square:\n",
    "            if n > s:\n",
    "                res = min(1 + dp(n-s), res)\n",
    "        memo[n] = res\n",
    "    return memo[n]\n",
    "\n",
    "print(dp(N))"
   ]
  },
  {
   "cell_type": "code",
   "execution_count": null,
   "metadata": {},
   "outputs": [],
   "source": []
  }
 ],
 "metadata": {
  "kernelspec": {
   "display_name": "Python 3.8.8 ('base')",
   "language": "python",
   "name": "python3"
  },
  "language_info": {
   "codemirror_mode": {
    "name": "ipython",
    "version": 3
   },
   "file_extension": ".py",
   "mimetype": "text/x-python",
   "name": "python",
   "nbconvert_exporter": "python",
   "pygments_lexer": "ipython3",
   "version": "3.8.8"
  },
  "orig_nbformat": 4,
  "vscode": {
   "interpreter": {
    "hash": "f08154012ddadd8e950e6e9e035c7a7b32c136e7647e9b7c77e02eb723a8bedb"
   }
  }
 },
 "nbformat": 4,
 "nbformat_minor": 2
}
