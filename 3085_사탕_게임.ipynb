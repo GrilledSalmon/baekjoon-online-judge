{
 "cells": [
  {
   "cell_type": "markdown",
   "metadata": {},
   "source": [
    "# 3085 사탕 게임\n",
    "220717\n",
    "- 소감\n",
    "    - 빨리 풀고 나만무하고 싶어서 쉬운 문제로 골랐습니다\n",
    "    - 숫자 범위가 좁고 경우의 수가 그렇게 많지는 않아서 브루트포스로 풀었습니다.\n",
    "    - 쉬운 문제였지만 긴 코드를 디버깅 없이 빠르게 구현한 것 같아 뿌듯하네요\n",
    "- 소요 시간 : 23분\n",
    "- 알고리즘 분류 : 구현, 브루트포스 알고리즘\n",
    "- 티어 : 실버 3"
   ]
  },
  {
   "cell_type": "code",
   "execution_count": 1,
   "metadata": {},
   "outputs": [],
   "source": [
    "import sys\n",
    "input = sys.stdin.readline\n",
    "\n",
    "N = int(input())\n",
    "candies = [list(input().rstrip()) for _ in range(N)]\n",
    "\n",
    "def check_row(r):\n",
    "    \"\"\"r번째 행의 연속 갯수 확인\"\"\"\n",
    "    row = candies[r]\n",
    "    maxi = 1\n",
    "    prev = None\n",
    "    how_many = 1\n",
    "    for now in row:\n",
    "        if prev is not None:\n",
    "            if prev == now:\n",
    "                how_many += 1\n",
    "            else:\n",
    "                how_many = 1\n",
    "        if how_many > maxi:\n",
    "            maxi = how_many\n",
    "        prev = now\n",
    "    return maxi\n",
    "\n",
    "def check_col(c):\n",
    "    maxi = 1\n",
    "    prev = None\n",
    "    how_many = 1\n",
    "    for r in range(N):\n",
    "        now = candies[r][c]\n",
    "        if prev is not None:\n",
    "            if prev == now:\n",
    "                how_many += 1\n",
    "            else:\n",
    "                how_many = 1\n",
    "        if how_many > maxi:\n",
    "            maxi = how_many\n",
    "        prev = now\n",
    "    return maxi\n",
    "\n",
    "def check():\n",
    "    \"\"\"최대 몇 개가 연속해 있는지 리턴\"\"\"\n",
    "    maxi = 0\n",
    "    for i in range(N):\n",
    "        maxi = max(maxi, check_row(i), check_col(i))\n",
    "    return maxi\n",
    "\n",
    "def swap_n_check(r, c, under):\n",
    "    \"\"\"under 방식(1이면 아래, 0이면 오른쪽)으로\n",
    "    r,c 사탕의 자리를 바꾸고 check 후 원상복구\"\"\"\n",
    "    if under:\n",
    "        candies[r][c], candies[r+1][c] = candies[r+1][c], candies[r][c]\n",
    "        res = check()\n",
    "        candies[r][c], candies[r+1][c] = candies[r+1][c], candies[r][c]\n",
    "    else:\n",
    "        candies[r][c], candies[r][c+1] = candies[r][c+1], candies[r][c]\n",
    "        res = check()\n",
    "        candies[r][c], candies[r][c+1] = candies[r][c+1], candies[r][c]\n",
    "    return res\n",
    "\n",
    "def solve():\n",
    "    ans = 0\n",
    "    for r in range(N):\n",
    "        for c in range(N):\n",
    "            res1 = 0\n",
    "            res2 = 0\n",
    "            if r < N-1:\n",
    "                res1 = swap_n_check(r, c, 1)\n",
    "            if c < N-1:\n",
    "                res2 = swap_n_check(r, c, 0)\n",
    "            ans = max(ans, res1, res2)\n",
    "            if ans == N:\n",
    "                return ans\n",
    "    return ans\n",
    "print(solve())"
   ]
  },
  {
   "cell_type": "code",
   "execution_count": 2,
   "metadata": {},
   "outputs": [
    {
     "data": {
      "text/plain": [
       "(3, [['C', 'C', 'P'], ['C', 'C', 'P'], ['P', 'P', 'C']])"
      ]
     },
     "execution_count": 2,
     "metadata": {},
     "output_type": "execute_result"
    }
   ],
   "source": [
    "N, candies"
   ]
  },
  {
   "cell_type": "code",
   "execution_count": 9,
   "metadata": {},
   "outputs": [
    {
     "name": "stdout",
     "output_type": "stream",
     "text": [
      "3\n"
     ]
    }
   ],
   "source": [
    "def check_row(r):\n",
    "    \"\"\"r번째 행의 연속 갯수 확인\"\"\"\n",
    "    row = candies[r]\n",
    "    maxi = 1\n",
    "    prev = None\n",
    "    how_many = 1\n",
    "    for now in row:\n",
    "        if prev is not None:\n",
    "            if prev == now:\n",
    "                how_many += 1\n",
    "            else:\n",
    "                how_many = 1\n",
    "        if how_many > maxi:\n",
    "            maxi = how_many\n",
    "        prev = now\n",
    "    return maxi\n",
    "\n",
    "def check_col(c):\n",
    "    maxi = 1\n",
    "    prev = None\n",
    "    how_many = 1\n",
    "    for r in range(N):\n",
    "        now = candies[r][c]\n",
    "        if prev is not None:\n",
    "            if prev == now:\n",
    "                how_many += 1\n",
    "            else:\n",
    "                how_many = 1\n",
    "        if how_many > maxi:\n",
    "            maxi = how_many\n",
    "        prev = now\n",
    "    return maxi\n",
    "\n",
    "def check():\n",
    "    \"\"\"최대 몇 개가 연속해 있는지 리턴\"\"\"\n",
    "    maxi = 0\n",
    "    for i in range(N):\n",
    "        maxi = max(maxi, check_row(i), check_col(i))\n",
    "    return maxi\n",
    "\n",
    "def swap_n_check(r, c, under):\n",
    "    \"\"\"under 방식(1이면 아래, 0이면 오른쪽)으로\n",
    "    r,c 사탕의 자리를 바꾸고 check 후 원상복구\"\"\"\n",
    "    if under:\n",
    "        candies[r][c], candies[r+1][c] = candies[r+1][c], candies[r][c]\n",
    "        res = check()\n",
    "        candies[r][c], candies[r+1][c] = candies[r+1][c], candies[r][c]\n",
    "    else:\n",
    "        candies[r][c], candies[r][c+1] = candies[r][c+1], candies[r][c]\n",
    "        res = check()\n",
    "        candies[r][c], candies[r][c+1] = candies[r][c+1], candies[r][c]\n",
    "    return res\n",
    "\n",
    "ans = 0\n",
    "for r in range(N):\n",
    "    for c in range(N):\n",
    "        res1 = 0\n",
    "        res2 = 0\n",
    "        if r < N-1:\n",
    "            res1 = swap_n_check(r, c, 1)\n",
    "        if c < N-1:\n",
    "            res2 = swap_n_check(r, c, 0)\n",
    "        ans = max(ans, res1, res2)\n",
    "print(ans)"
   ]
  },
  {
   "cell_type": "code",
   "execution_count": 8,
   "metadata": {},
   "outputs": [
    {
     "data": {
      "text/plain": [
       "2"
      ]
     },
     "execution_count": 8,
     "metadata": {},
     "output_type": "execute_result"
    }
   ],
   "source": [
    "check()"
   ]
  },
  {
   "cell_type": "code",
   "execution_count": null,
   "metadata": {},
   "outputs": [],
   "source": []
  }
 ],
 "metadata": {
  "kernelspec": {
   "display_name": "Python 3.8.8 ('base')",
   "language": "python",
   "name": "python3"
  },
  "language_info": {
   "codemirror_mode": {
    "name": "ipython",
    "version": 3
   },
   "file_extension": ".py",
   "mimetype": "text/x-python",
   "name": "python",
   "nbconvert_exporter": "python",
   "pygments_lexer": "ipython3",
   "version": "3.8.8"
  },
  "orig_nbformat": 4,
  "vscode": {
   "interpreter": {
    "hash": "f08154012ddadd8e950e6e9e035c7a7b32c136e7647e9b7c77e02eb723a8bedb"
   }
  }
 },
 "nbformat": 4,
 "nbformat_minor": 2
}
