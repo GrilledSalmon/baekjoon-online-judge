{
 "cells": [
  {
   "cell_type": "markdown",
   "metadata": {},
   "source": [
    "# 7785 회사에 있는 사람\n",
    "220109\n",
    "- 알고리즘 분류\n",
    "    - 자료 구조\n",
    "    - 해시를사용한 집합과 맵\n",
    "- 티어 : 실버 5"
   ]
  },
  {
   "cell_type": "code",
   "execution_count": 2,
   "metadata": {},
   "outputs": [
    {
     "name": "stdout",
     "output_type": "stream",
     "text": [
      "Askar\n",
      "Artem\n"
     ]
    }
   ],
   "source": [
    "import sys\n",
    "input = sys.stdin.readline\n",
    "\n",
    "n = int(input())\n",
    "exist_set = set()\n",
    "for _ in range(n):\n",
    "    name, cond = input().split()\n",
    "    if cond == 'enter':\n",
    "        exist_set.add(name)\n",
    "    else:\n",
    "        exist_set.remove(name)\n",
    "\n",
    "[print(name) for name in sorted(list(exist_set), reverse=True)];"
   ]
  },
  {
   "cell_type": "code",
   "execution_count": null,
   "metadata": {},
   "outputs": [],
   "source": [
    "n = int(input())\n",
    "exist_set = set()\n",
    "for _ in range(n):\n",
    "    name, cond = input().split()\n",
    "    if cond == 'enter':\n",
    "        exist_set.add(name)\n",
    "    else:\n",
    "        exist_set.remove(name)\n",
    "\n",
    "[print(name) for name in sorted(list(exist_set), reverse=True)];"
   ]
  }
 ],
 "metadata": {
  "interpreter": {
   "hash": "c798a043d5b26db4ea8dc684fe25ec244835432adc5539bce2de618403b1d63c"
  },
  "kernelspec": {
   "display_name": "Python 3.8.5 64-bit ('base': conda)",
   "language": "python",
   "name": "python3"
  },
  "language_info": {
   "codemirror_mode": {
    "name": "ipython",
    "version": 3
   },
   "file_extension": ".py",
   "mimetype": "text/x-python",
   "name": "python",
   "nbconvert_exporter": "python",
   "pygments_lexer": "ipython3",
   "version": "3.8.5"
  },
  "orig_nbformat": 4
 },
 "nbformat": 4,
 "nbformat_minor": 2
}
