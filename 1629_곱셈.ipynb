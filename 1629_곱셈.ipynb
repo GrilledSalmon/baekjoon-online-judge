{
 "cells": [
  {
   "cell_type": "markdown",
   "metadata": {},
   "source": [
    "# 1629 곱셈\n",
    "220322\n",
    "- 알고리즘 분류\n",
    "    - 수학\n",
    "    - 분할 정복을 이요한 거듭제곱\n",
    "- 티어 : 실버 1"
   ]
  },
  {
   "cell_type": "code",
   "execution_count": 51,
   "metadata": {},
   "outputs": [
    {
     "name": "stdout",
     "output_type": "stream",
     "text": [
      "11\n"
     ]
    }
   ],
   "source": [
    "A, B, C = map(int, input().split())\n",
    "\n",
    "def mod(a, b):\n",
    "    return a%b\n",
    "\n",
    "def solve():\n",
    "    sq = mod(A, C)\n",
    "    ans = 1\n",
    "    B_bin = bin(B)[2:]\n",
    "\n",
    "    for i in range(len(B_bin)):\n",
    "        bi = B_bin[-1 - i]\n",
    "        if bi == '1':\n",
    "            ans = mod(ans * sq, C)\n",
    "        \n",
    "        sq = mod(sq**2, C)\n",
    "    return ans\n",
    "\n",
    "print(solve())"
   ]
  },
  {
   "cell_type": "code",
   "execution_count": 37,
   "metadata": {},
   "outputs": [
    {
     "data": {
      "text/plain": [
       "(13, 13, 17)"
      ]
     },
     "execution_count": 37,
     "metadata": {},
     "output_type": "execute_result"
    }
   ],
   "source": [
    "A, B, C"
   ]
  },
  {
   "cell_type": "code",
   "execution_count": 48,
   "metadata": {},
   "outputs": [
    {
     "name": "stdout",
     "output_type": "stream",
     "text": [
      "13\n",
      "16\n",
      "1\n",
      "1\n",
      "13 13\n"
     ]
    }
   ],
   "source": [
    "def mod(a, b):\n",
    "    return a%b\n",
    "\n",
    "def solve():\n",
    "    sq = mod(A, C)\n",
    "    ans = 1\n",
    "    B_bin = bin(B)[2:]\n",
    "\n",
    "    for i in range(len(B_bin)):\n",
    "        bi = B_bin[-1 - i]\n",
    "        if bi == '1':\n",
    "            ans = mod(ans * sq, C)\n",
    "        print(sq)\n",
    "        sq = mod(sq**2, C)\n",
    "    return ans\n",
    "\n",
    "print(solve(), A**B%C)"
   ]
  },
  {
   "cell_type": "code",
   "execution_count": 42,
   "metadata": {},
   "outputs": [
    {
     "data": {
      "text/plain": [
       "(13, 13, 17)"
      ]
     },
     "execution_count": 42,
     "metadata": {},
     "output_type": "execute_result"
    }
   ],
   "source": [
    "A, B, C"
   ]
  },
  {
   "cell_type": "code",
   "execution_count": 20,
   "metadata": {},
   "outputs": [
    {
     "data": {
      "text/plain": [
       "0"
      ]
     },
     "execution_count": 20,
     "metadata": {},
     "output_type": "execute_result"
    }
   ],
   "source": [
    "6**4%12"
   ]
  },
  {
   "cell_type": "code",
   "execution_count": 47,
   "metadata": {},
   "outputs": [
    {
     "data": {
      "text/plain": [
       "1"
      ]
     },
     "execution_count": 47,
     "metadata": {},
     "output_type": "execute_result"
    }
   ],
   "source": [
    "mod(13**8, 17)"
   ]
  },
  {
   "cell_type": "code",
   "execution_count": null,
   "metadata": {},
   "outputs": [],
   "source": []
  }
 ],
 "metadata": {
  "interpreter": {
   "hash": "c798a043d5b26db4ea8dc684fe25ec244835432adc5539bce2de618403b1d63c"
  },
  "kernelspec": {
   "display_name": "Python 3.8.5 ('base')",
   "language": "python",
   "name": "python3"
  },
  "language_info": {
   "codemirror_mode": {
    "name": "ipython",
    "version": 3
   },
   "file_extension": ".py",
   "mimetype": "text/x-python",
   "name": "python",
   "nbconvert_exporter": "python",
   "pygments_lexer": "ipython3",
   "version": "3.8.5"
  },
  "orig_nbformat": 4
 },
 "nbformat": 4,
 "nbformat_minor": 2
}
