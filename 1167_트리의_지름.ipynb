{
 "cells": [
  {
   "cell_type": "markdown",
   "metadata": {},
   "source": [
    "# 1167 트리의 지름\n",
    "220315\n",
    "- 소감 : 며칠 전에 풀었던 1967과 똑같은 문제지만 dfs로 풀어보고 싶어 다르게 풀었다. 하나의 가정을 세우고 접근했는데 다행히 맞는 접근법이었던 듯\n",
    "- 아이디어 : 이 문제는 어떤 노드가 트리의 root인지 알려주지 않는다. 다음과 같은 가정을 세웠다. '임의의 노드를 root라 가정했을 때, 트리의 지름을 구성하는 두 가닥 중 하나는 그 트리에서 가장 먼 노드다.' 위 가정이 맞다고 했을 때, 임의의 노드(1번 노드)에서 가장 먼 노드를 구하고 해당 노드에서 가장 먼 거리를 구한다. DFS로\n",
    "- 알고리즘 분류\n",
    "    - 그래프 이론\n",
    "    - 그래프 탐색\n",
    "    - 트리\n",
    "    - 깊이 우선 탐색\n",
    "- 티어 : 골드 3"
   ]
  },
  {
   "cell_type": "code",
   "execution_count": 13,
   "metadata": {},
   "outputs": [],
   "source": [
    "import sys\n",
    "sys.setrecursionlimit(100000)\n",
    "# input = sys.stdin.readline\n",
    "\n",
    "V = int(input())\n",
    "adj_list = [[] for _ in range(V+1)]\n",
    "for _ in range(V):\n",
    "    inp = list(map(int, input().split()))\n",
    "    parent = inp[0]\n",
    "    for i in range(1, len(inp)-1, 2):\n",
    "        adj_list[parent].append((inp[i], inp[i+1]))\n",
    "        adj_list[inp[i]].append((parent, inp[i+1]))\n",
    "\n",
    "def most_far_dist(root=1):\n",
    "    \"\"\"root라는 노드에서 가장 먼 거리와 노드 리턴\"\"\"\n",
    "    visited = [0]*(V + 1)\n",
    "    most_far = [0, 0] # 가장 먼 거리와 노드 저장\n",
    "\n",
    "    def dfs(root=root, dist=0):\n",
    "        visited[root] = 1\n",
    "        for adj_node, d in adj_list[root]:\n",
    "            if not visited[adj_node]:\n",
    "                adj_dist = dist + d\n",
    "                if most_far[0] < adj_dist:\n",
    "                    most_far[0] = adj_dist\n",
    "                    most_far[1] = adj_node\n",
    "                dfs(adj_node, adj_dist)\n",
    "    dfs()\n",
    "    return most_far[0], most_far[1]\n",
    "\n",
    "print(most_far_dist(most_far_dist()[1])[0])"
   ]
  },
  {
   "cell_type": "code",
   "execution_count": 15,
   "metadata": {},
   "outputs": [
    {
     "data": {
      "text/plain": [
       "[[],\n",
       " [(3, 2), (3, 2)],\n",
       " [(4, 4), (4, 4)],\n",
       " [(1, 2), (1, 2), (4, 3), (4, 3)],\n",
       " [(2, 4), (3, 3), (2, 4), (3, 3), (5, 6), (5, 6)],\n",
       " [(4, 6), (4, 6)]]"
      ]
     },
     "execution_count": 15,
     "metadata": {},
     "output_type": "execute_result"
    }
   ],
   "source": [
    "adj_list"
   ]
  },
  {
   "cell_type": "code",
   "execution_count": 21,
   "metadata": {},
   "outputs": [],
   "source": [
    "def most_far_dist(root=1):\n",
    "    \"\"\"root라는 노드에서 가장 먼 거리와 노드 리턴\"\"\"\n",
    "    visited = [0]*(V + 1)\n",
    "    most_far = [0, 0] # 가장 먼 거리와 노드 저장\n",
    "\n",
    "    def dfs(root=root, dist=0):\n",
    "        visited[root] = 1\n",
    "        for adj_node, d in adj_list[root]:\n",
    "            if not visited[adj_node]:\n",
    "                adj_dist = dist + d\n",
    "                if most_far[0] < adj_dist:\n",
    "                    most_far[0] = adj_dist\n",
    "                    most_far[1] = adj_node\n",
    "                dfs(adj_node, adj_dist)\n",
    "    dfs()\n",
    "    return most_far[0], most_far[1]"
   ]
  },
  {
   "cell_type": "code",
   "execution_count": 23,
   "metadata": {},
   "outputs": [
    {
     "data": {
      "text/plain": [
       "11"
      ]
     },
     "execution_count": 23,
     "metadata": {},
     "output_type": "execute_result"
    }
   ],
   "source": [
    "print(most_far_dist(most_far_dist()[1])[0])"
   ]
  }
 ],
 "metadata": {
  "interpreter": {
   "hash": "c798a043d5b26db4ea8dc684fe25ec244835432adc5539bce2de618403b1d63c"
  },
  "kernelspec": {
   "display_name": "Python 3.8.5 ('base')",
   "language": "python",
   "name": "python3"
  },
  "language_info": {
   "codemirror_mode": {
    "name": "ipython",
    "version": 3
   },
   "file_extension": ".py",
   "mimetype": "text/x-python",
   "name": "python",
   "nbconvert_exporter": "python",
   "pygments_lexer": "ipython3",
   "version": "3.8.5"
  },
  "orig_nbformat": 4
 },
 "nbformat": 4,
 "nbformat_minor": 2
}
