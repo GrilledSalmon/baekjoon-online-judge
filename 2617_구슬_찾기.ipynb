{
 "cells": [
  {
   "cell_type": "markdown",
   "metadata": {},
   "source": [
    "# 2617 구슬 찾기\n",
    "220419\n",
    "- 소감 : 메모리초과 뜰줄 알았는데 안뜨네..?ㅎ\n",
    "- 아이디어 : 비순환 방향그래프(DAG)를 만족하므로 위상정렬을 활용하면 좋겠다 싶었다. 가볍->무겁, 무겁->가볍 이렇게 두 방향으로 위상정렬을 하며 각 노드마다 더 무거운(가벼운) 노드 set을 업데이트하고 set의 길이가 N//2보다 큰 노드 수를 센다.\n",
    "- 알고리즘 분류\n",
    "    - 그래프 이론\n",
    "    - 그래프 탐색\n",
    "    - 깊이 우선 탐색\n",
    "    - 플로이드-와샬\n",
    "- 티어 : 골드 5"
   ]
  },
  {
   "cell_type": "code",
   "execution_count": 24,
   "metadata": {},
   "outputs": [],
   "source": [
    "from collections import deque\n",
    "import sys\n",
    "# input = sys.stdin.readline\n",
    "\n",
    "N, M = map(int, input().split())\n",
    "lighter_list = [[] for _ in range(N+1)]\n",
    "heavier_list = [[] for _ in range(N+1)]\n",
    "in_degree, out_degree = [0]*(N+1), [0]*(N+1)\n",
    "for _ in range(M):\n",
    "    a, b = map(int, input().split())\n",
    "    lighter_list[a].append(b)\n",
    "    in_degree[b] += 1\n",
    "    heavier_list[b].append(a)\n",
    "    out_degree[a] += 1\n",
    "\n",
    "lighter_set, heavier_set = [set() for _ in range(N+1)], [set() for _ in range(N+1)]\n",
    "lighter_queue, heavier_queue = deque(), deque()\n",
    "for node in range(1, N+1):\n",
    "    if in_degree[node] == 0:\n",
    "        lighter_queue.append(node)\n",
    "    if out_degree[node] == 0:\n",
    "        heavier_queue.append(node)\n",
    "\n",
    "def topology_sort(queue:deque, degree:list, set_list:list, adj_list:list):\n",
    "    while queue:\n",
    "        now_node = queue.popleft()\n",
    "        for adj_node in adj_list[now_node]:\n",
    "            degree[adj_node] -= 1\n",
    "            set_list[adj_node].update(set_list[now_node])\n",
    "            set_list[adj_node].add(now_node)\n",
    "            if degree[adj_node] == 0:\n",
    "                queue.append(adj_node)\n",
    "\n",
    "topology_sort(lighter_queue, in_degree, lighter_set, lighter_list)\n",
    "topology_sort(heavier_queue, out_degree, heavier_set, heavier_list)\n",
    "\n",
    "cnt = 0\n",
    "half = N//2\n",
    "for node in range(1, N+1):\n",
    "    if len(lighter_set[node]) > half or len(heavier_set[node]) > half:\n",
    "        cnt += 1\n",
    "print(cnt)"
   ]
  },
  {
   "cell_type": "code",
   "execution_count": 25,
   "metadata": {},
   "outputs": [
    {
     "data": {
      "text/plain": [
       "([[], [], [1], [], [3, 2], [1]],\n",
       " [[], [2, 5], [4], [4], [], []],\n",
       " [0, 2, 1, 1, 0, 0],\n",
       " [0, 0, 1, 0, 2, 1])"
      ]
     },
     "execution_count": 25,
     "metadata": {},
     "output_type": "execute_result"
    }
   ],
   "source": [
    "lighter_list, heavier_list, in_degree, out_degree"
   ]
  },
  {
   "cell_type": "code",
   "execution_count": 28,
   "metadata": {},
   "outputs": [
    {
     "name": "stdout",
     "output_type": "stream",
     "text": [
      "1\n"
     ]
    }
   ],
   "source": [
    "from collections import deque\n",
    "\n",
    "lighter_set, heavier_set = [set() for _ in range(N+1)], [set() for _ in range(N+1)]\n",
    "lighter_queue, heavier_queue = deque(), deque()\n",
    "for node in range(1, N+1):\n",
    "    if in_degree[node] == 0:\n",
    "        lighter_queue.append(node)\n",
    "    if out_degree[node] == 0:\n",
    "        heavier_queue.append(node)\n",
    "\n",
    "def topology_sort(queue:deque, degree:list, set_list:list, adj_list:list):\n",
    "    while queue:\n",
    "        now_node = queue.popleft()\n",
    "        for adj_node in adj_list[now_node]:\n",
    "            degree[adj_node] -= 1\n",
    "            set_list[adj_node].update(set_list[now_node])\n",
    "            set_list[adj_node].add(now_node)\n",
    "            if degree[adj_node] == 0:\n",
    "                queue.append(adj_node)\n",
    "\n",
    "topology_sort(lighter_queue, in_degree, lighter_set, lighter_list)\n",
    "topology_sort(heavier_queue, out_degree, heavier_set, heavier_list)\n",
    "\n",
    "cnt = 0\n",
    "half = N//2\n",
    "for node in range(1, N+1):\n",
    "    if len(lighter_set[node]) > half or len(heavier_set[node]) > half:\n",
    "        cnt += 1\n",
    "print(cnt)"
   ]
  },
  {
   "cell_type": "code",
   "execution_count": 27,
   "metadata": {},
   "outputs": [
    {
     "data": {
      "text/plain": [
       "([set(), {2, 4, 5}, {4}, {4}, set(), set()],\n",
       " [set(), set(), {1}, set(), {1, 2, 3}, {1}])"
      ]
     },
     "execution_count": 27,
     "metadata": {},
     "output_type": "execute_result"
    }
   ],
   "source": [
    "lighter_set, heavier_set"
   ]
  },
  {
   "cell_type": "code",
   "execution_count": null,
   "metadata": {},
   "outputs": [],
   "source": []
  }
 ],
 "metadata": {
  "interpreter": {
   "hash": "8fac594bfae6525c0c41b4041d2d72effa188cc8ead05f81b1fab2bb098927fb"
  },
  "kernelspec": {
   "display_name": "Python 3.8.8 ('base')",
   "language": "python",
   "name": "python3"
  },
  "language_info": {
   "codemirror_mode": {
    "name": "ipython",
    "version": 3
   },
   "file_extension": ".py",
   "mimetype": "text/x-python",
   "name": "python",
   "nbconvert_exporter": "python",
   "pygments_lexer": "ipython3",
   "version": "3.8.8"
  },
  "orig_nbformat": 4
 },
 "nbformat": 4,
 "nbformat_minor": 2
}
