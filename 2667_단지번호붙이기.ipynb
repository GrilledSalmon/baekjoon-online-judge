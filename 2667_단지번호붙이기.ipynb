{
 "cells": [
  {
   "cell_type": "markdown",
   "metadata": {},
   "source": [
    "# 2667 단지번호붙이기\n",
    "220219\n",
    "- 알고리즘 분류\n",
    "    - 그래프 이론\n",
    "    - 그래프 탐색\n",
    "    - 너비 우선 탐색\n",
    "    - 깊이 우선 탐색\n",
    "- 티어 : 실버 1"
   ]
  },
  {
   "cell_type": "code",
   "execution_count": 36,
   "metadata": {},
   "outputs": [
    {
     "name": "stdout",
     "output_type": "stream",
     "text": [
      "3\n",
      "7\n",
      "8\n",
      "9\n"
     ]
    }
   ],
   "source": [
    "N = int(input())\n",
    "house = [list(map(int, input())) for _ in range(N)]\n",
    "\n",
    "from collections import deque\n",
    "\n",
    "danji_num = []\n",
    "\n",
    "for y in range(N):\n",
    "    for x in range(N):\n",
    "        # print(house[y][x], end=' ')\n",
    "        if house[y][x]: # 집이 있다면,\n",
    "            # BFS 1회\n",
    "            house_cnt = 0\n",
    "            queue = deque([(x, y)])\n",
    "            house[y][x] = 0 # 방문 표시\n",
    "            while queue:\n",
    "                now_x, now_y = queue.popleft()\n",
    "                house_cnt += 1\n",
    "                # 상\n",
    "                if now_y != 0 and house[now_y-1][now_x]: # 경계조건 and 집이 있다면\n",
    "                    house[now_y-1][now_x] = 0\n",
    "                    queue.append((now_x, now_y-1))\n",
    "                # 하\n",
    "                if now_y != N-1 and house[now_y+1][now_x]:\n",
    "                    house[now_y+1][now_x] = 0\n",
    "                    queue.append((now_x, now_y+1))\n",
    "                # 좌\n",
    "                if now_x != 0 and house[now_y][now_x-1]:\n",
    "                    house[now_y][now_x-1] = 0\n",
    "                    queue.append((now_x-1, now_y))\n",
    "                # 우\n",
    "                if now_x != N-1 and house[now_y][now_x+1]:\n",
    "                    house[now_y][now_x+1] = 0\n",
    "                    queue.append((now_x+1, now_y))\n",
    "            danji_num.append(house_cnt)\n",
    "\n",
    "danji_num.sort()\n",
    "print(len(danji_num))\n",
    "for i in danji_num:\n",
    "    print(i)"
   ]
  },
  {
   "cell_type": "code",
   "execution_count": 37,
   "metadata": {},
   "outputs": [
    {
     "data": {
      "text/plain": [
       "[[0, 0, 0, 0, 0, 0, 0],\n",
       " [0, 0, 0, 0, 0, 0, 0],\n",
       " [0, 0, 0, 0, 0, 0, 0],\n",
       " [0, 0, 0, 0, 0, 0, 0],\n",
       " [0, 0, 0, 0, 0, 0, 0],\n",
       " [0, 0, 0, 0, 0, 0, 0],\n",
       " [0, 0, 0, 0, 0, 0, 0]]"
      ]
     },
     "execution_count": 37,
     "metadata": {},
     "output_type": "execute_result"
    }
   ],
   "source": [
    "house"
   ]
  },
  {
   "cell_type": "code",
   "execution_count": null,
   "metadata": {},
   "outputs": [],
   "source": [
    "N = int(input())\n",
    "house = list(map(lambda x: list(map(int, x)), \"\"\"0110100\n",
    "0110101\n",
    "1110101\n",
    "0000111\n",
    "0100000\n",
    "0111110\n",
    "0111000\"\"\".split()))"
   ]
  },
  {
   "cell_type": "code",
   "execution_count": 34,
   "metadata": {},
   "outputs": [
    {
     "data": {
      "text/plain": [
       "[[0, 1, 1, 0, 1, 0, 0],\n",
       " [0, 1, 1, 0, 1, 0, 1],\n",
       " [1, 1, 1, 0, 1, 0, 1],\n",
       " [0, 0, 0, 0, 1, 1, 1],\n",
       " [0, 1, 0, 0, 0, 0, 0],\n",
       " [0, 1, 1, 1, 1, 1, 0],\n",
       " [0, 1, 1, 1, 0, 0, 0]]"
      ]
     },
     "execution_count": 34,
     "metadata": {},
     "output_type": "execute_result"
    }
   ],
   "source": [
    "house"
   ]
  },
  {
   "cell_type": "code",
   "execution_count": 35,
   "metadata": {},
   "outputs": [
    {
     "name": "stdout",
     "output_type": "stream",
     "text": [
      "3\n",
      "7\n",
      "8\n",
      "9\n"
     ]
    }
   ],
   "source": [
    "from collections import deque\n",
    "\n",
    "danji_num = []\n",
    "\n",
    "for y in range(N):\n",
    "    for x in range(N):\n",
    "        # print(house[y][x], end=' ')\n",
    "        if house[y][x]: # 집이 있다면,\n",
    "            # BFS 1회\n",
    "            house_cnt = 0\n",
    "            queue = deque([(x, y)])\n",
    "            house[y][x] = 0 # 방문 표시\n",
    "            while queue:\n",
    "                now_x, now_y = queue.popleft()\n",
    "                house_cnt += 1\n",
    "                # 상\n",
    "                if now_y != 0 and house[now_y-1][now_x]: # 경계조건 and 집이 있다면\n",
    "                    house[now_y-1][now_x] = 0\n",
    "                    queue.append((now_x, now_y-1))\n",
    "                # 하\n",
    "                if now_y != N-1 and house[now_y+1][now_x]:\n",
    "                    house[now_y+1][now_x] = 0\n",
    "                    queue.append((now_x, now_y+1))\n",
    "                # 좌\n",
    "                if now_x != 0 and house[now_y][now_x-1]:\n",
    "                    house[now_y][now_x-1] = 0\n",
    "                    queue.append((now_x-1, now_y))\n",
    "                # 우\n",
    "                if now_x != N-1 and house[now_y][now_x+1]:\n",
    "                    house[now_y][now_x+1] = 0\n",
    "                    queue.append((now_x+1, now_y))\n",
    "            danji_num.append(house_cnt)\n",
    "\n",
    "danji_num.sort()\n",
    "print(len(danji_num))\n",
    "for i in danji_num:\n",
    "    print(i)"
   ]
  },
  {
   "cell_type": "code",
   "execution_count": 28,
   "metadata": {},
   "outputs": [
    {
     "data": {
      "text/plain": [
       "[[0, 0, 0, 0, 0, 0, 0],\n",
       " [0, 0, 0, 0, 0, 0, 0],\n",
       " [0, 0, 0, 0, 0, 0, 0],\n",
       " [0, 0, 0, 0, 0, 0, 0],\n",
       " [0, 0, 0, 0, 0, 0, 0],\n",
       " [0, 0, 0, 0, 0, 0, 0],\n",
       " [0, 0, 0, 0, 0, 0, 0]]"
      ]
     },
     "execution_count": 28,
     "metadata": {},
     "output_type": "execute_result"
    }
   ],
   "source": [
    "house"
   ]
  },
  {
   "cell_type": "code",
   "execution_count": 29,
   "metadata": {},
   "outputs": [
    {
     "data": {
      "text/plain": [
       "[8, 9, 10]"
      ]
     },
     "execution_count": 29,
     "metadata": {},
     "output_type": "execute_result"
    }
   ],
   "source": [
    "danji_num"
   ]
  },
  {
   "cell_type": "code",
   "execution_count": null,
   "metadata": {},
   "outputs": [],
   "source": []
  }
 ],
 "metadata": {
  "interpreter": {
   "hash": "c798a043d5b26db4ea8dc684fe25ec244835432adc5539bce2de618403b1d63c"
  },
  "kernelspec": {
   "display_name": "Python 3.8.5 ('base')",
   "language": "python",
   "name": "python3"
  },
  "language_info": {
   "codemirror_mode": {
    "name": "ipython",
    "version": 3
   },
   "file_extension": ".py",
   "mimetype": "text/x-python",
   "name": "python",
   "nbconvert_exporter": "python",
   "pygments_lexer": "ipython3",
   "version": "3.8.5"
  },
  "orig_nbformat": 4
 },
 "nbformat": 4,
 "nbformat_minor": 2
}
