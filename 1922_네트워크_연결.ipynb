{
 "cells": [
  {
   "cell_type": "markdown",
   "metadata": {},
   "source": [
    "# 1922 네트워크 연결\n",
    "220630\n",
    "- 소감\n",
    "    - MST 문제를 푼지 좀 된 것 같아서 골랐습니다.\n",
    "    - 다행히 예전에 한 번 복습했던 덕분인지 Union-Find를 별로 헤매지 않고 구현할 수 있었습니다.\n",
    "- 소요 시간 : 19분\n",
    "- 알고리즘 분류 : 그래프 이론, 최소 스패닝 트리\n",
    "- 티어 : 골드 4"
   ]
  },
  {
   "cell_type": "code",
   "execution_count": 22,
   "metadata": {},
   "outputs": [],
   "source": [
    "import sys\n",
    "input = sys.stdin.readline\n",
    "N = int(input())\n",
    "M = int(input())\n",
    "edges = []\n",
    "\n",
    "for _ in range(M):\n",
    "    edges.append(tuple(map(int, input().split())))\n",
    "\n",
    "group = list(range(N+1))\n",
    "def find(a):\n",
    "    \"\"\"a의 그룹 찾고 최적화해줌\"\"\"\n",
    "    if group[a] != a:\n",
    "        group[a] = find(group[a])\n",
    "    return group[a]\n",
    "\n",
    "def union(a, b):\n",
    "    \"\"\"a와 b의 그룹을 묶어줌\"\"\"\n",
    "    group_a, group_b = find(a), find(b)\n",
    "    if group_a < group_b:\n",
    "        group[group_b] = group_a\n",
    "    else:\n",
    "        group[group_a] = group_b\n",
    "\n",
    "edges.sort(key=lambda x: x[2])\n",
    "\n",
    "total_cost = 0\n",
    "connection_cnt = 0\n",
    "for a, b, c in edges:\n",
    "    if find(a) != find(b):\n",
    "        union(a, b)\n",
    "        total_cost += c\n",
    "        connection_cnt += 1\n",
    "        if connection_cnt == N-1:\n",
    "            break\n",
    "\n",
    "print(total_cost)"
   ]
  },
  {
   "cell_type": "code",
   "execution_count": 23,
   "metadata": {},
   "outputs": [
    {
     "data": {
      "text/plain": [
       "(6,\n",
       " 9,\n",
       " [[],\n",
       "  [(2, 5), (3, 4)],\n",
       "  [(1, 5), (3, 2), (4, 7)],\n",
       "  [(1, 4), (2, 2), (4, 6), (5, 11)],\n",
       "  [(2, 7), (3, 6), (5, 3), (6, 8)],\n",
       "  [(3, 11), (4, 3), (6, 8)],\n",
       "  [(4, 8), (5, 8)]],\n",
       " [(1, 2, 5),\n",
       "  (1, 3, 4),\n",
       "  (2, 3, 2),\n",
       "  (2, 4, 7),\n",
       "  (3, 4, 6),\n",
       "  (3, 5, 11),\n",
       "  (4, 5, 3),\n",
       "  (4, 6, 8),\n",
       "  (5, 6, 8)])"
      ]
     },
     "execution_count": 23,
     "metadata": {},
     "output_type": "execute_result"
    }
   ],
   "source": [
    "N, M, adj_list, edges"
   ]
  },
  {
   "cell_type": "code",
   "execution_count": 24,
   "metadata": {},
   "outputs": [
    {
     "name": "stdout",
     "output_type": "stream",
     "text": [
      "23\n"
     ]
    }
   ],
   "source": [
    "group = list(range(N+1))\n",
    "def find(a):\n",
    "    \"\"\"a의 그룹 찾고 최적화해줌\"\"\"\n",
    "    if group[a] != a:\n",
    "        group[a] = find(group[a])\n",
    "    return group[a]\n",
    "\n",
    "def union(a, b):\n",
    "    \"\"\"a와 b의 그룹을 묶어줌\"\"\"\n",
    "    group_a, group_b = find(a), find(b)\n",
    "    if group_a < group_b:\n",
    "        group[group_b] = group_a\n",
    "    else:\n",
    "        group[group_a] = group_b\n",
    "\n",
    "edges.sort(key=lambda x: x[2])\n",
    "\n",
    "total_cost = 0\n",
    "connection_cnt = 0\n",
    "for a, b, c in edges:\n",
    "    if find(a) != find(b):\n",
    "        union(a, b)\n",
    "        total_cost += c\n",
    "        connection_cnt += 1\n",
    "        if connection_cnt == N-1:\n",
    "            break\n",
    "print(total_cost)"
   ]
  },
  {
   "cell_type": "code",
   "execution_count": null,
   "metadata": {},
   "outputs": [],
   "source": []
  }
 ],
 "metadata": {
  "kernelspec": {
   "display_name": "Python 3.8.8 ('base')",
   "language": "python",
   "name": "python3"
  },
  "language_info": {
   "codemirror_mode": {
    "name": "ipython",
    "version": 3
   },
   "file_extension": ".py",
   "mimetype": "text/x-python",
   "name": "python",
   "nbconvert_exporter": "python",
   "pygments_lexer": "ipython3",
   "version": "3.8.8"
  },
  "orig_nbformat": 4,
  "vscode": {
   "interpreter": {
    "hash": "f08154012ddadd8e950e6e9e035c7a7b32c136e7647e9b7c77e02eb723a8bedb"
   }
  }
 },
 "nbformat": 4,
 "nbformat_minor": 2
}
