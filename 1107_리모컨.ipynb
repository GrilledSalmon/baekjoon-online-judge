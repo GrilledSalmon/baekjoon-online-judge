{
 "cells": [
  {
   "cell_type": "markdown",
   "metadata": {},
   "source": [
    "# 1107 리모컨\n",
    "220222"
   ]
  },
  {
   "cell_type": "code",
   "execution_count": 25,
   "metadata": {},
   "outputs": [
    {
     "name": "stdout",
     "output_type": "stream",
     "text": [
      "2228\n"
     ]
    }
   ],
   "source": [
    "N = input()\n",
    "M = int(input())\n",
    "brk_buttons = list(map(int, input().split())) if M else []\n",
    "\n",
    "def sim_num_fun() -> tuple:\n",
    "    \"\"\"살아 있는 버튼으로 만들 수 있는 N과 가장 가까운 수 후보 리턴\"\"\"\n",
    "    butt_set = {i for i in range(10) if i not in brk_buttons}\n",
    "    max_butt, min_butt = max(butt_set), min(butt_set)\n",
    "    sim_num_list = []\n",
    "    for i, n in enumerate(N):\n",
    "        if int(n) in butt_set:\n",
    "            sim_num_list.append(n)\n",
    "        else:\n",
    "            unders = [b for b in butt_set if b < int(n)] # 더 작은 버튼들\n",
    "            overs = [b for b in butt_set if b > int(n)] # 더 큰 버튼들\n",
    "            closest_under = str(max(unders)) if unders else '100' # 버튼이 없는 경우 고려\n",
    "            closest_over = str(min(overs)) if overs else '100'\n",
    "            sim_num_1 = ''.join(sim_num_list) + closest_under + str(max_butt)*(len(N)-i-1)\n",
    "            sim_num_2 = ''.join(sim_num_list) + closest_over + str(min_butt)*(len(N)-i-1)\n",
    "\n",
    "            return int(sim_num_1), int(sim_num_2)\n",
    "    sim_num = int(''.join(sim_num_list))\n",
    "    return sim_num, sim_num\n",
    "\n",
    "if M == 10: # 버튼 다 고장난 경우\n",
    "    print(abs(100-int(N)))\n",
    "else:\n",
    "    sim_num_1, sim_num_2 = sim_num_fun()\n",
    "    candi_1 = abs(sim_num_1 - int(N)) + len(N)\n",
    "    candi_2 = abs(sim_num_2 - int(N)) + len(N)\n",
    "    candi_3 = abs(100 - int(N))\n",
    "    print(min([candi_1, candi_2, candi_3]))"
   ]
  },
  {
   "cell_type": "code",
   "execution_count": 28,
   "metadata": {},
   "outputs": [
    {
     "data": {
      "text/plain": [
       "('492169', 5, [1, 3, 0, 8, 6])"
      ]
     },
     "execution_count": 28,
     "metadata": {},
     "output_type": "execute_result"
    }
   ],
   "source": [
    "# 1107 리모컨\n",
    "N = input()\n",
    "M = int(input())\n",
    "brk_buttons = list(map(int, input().split())) if M else []\n",
    "N, M, brk_buttons"
   ]
  },
  {
   "cell_type": "code",
   "execution_count": null,
   "metadata": {},
   "outputs": [],
   "source": [
    "# 살아 있는 버튼으로 가장 비슷한 수 만들기\n",
    "def sim_num_fun() -> tuple:\n",
    "    \"\"\"살아 있는 버튼으로 만들 수 있는 N과 가장 가까운 수 리턴\"\"\"\n",
    "    butt_set = {i for i in range(10) if i not in brk_buttons}\n",
    "    max_butt, min_butt = max(butt_set), min(butt_set)\n",
    "    sim_num_list = []\n",
    "    print(N, butt_set)\n",
    "    for i, n in enumerate(N):\n",
    "        unders = [b for b in butt_set if b < int(n)] # 더 작은 버튼들\n",
    "        overs = [b for b in butt_set if b > int(n)] # 더 큰 버튼들\n",
    "        closest_under = str(max(unders)) if unders else '100' # 버튼이 없는 경우 고려\n",
    "        closest_over = str(min(overs)) if overs else '100'\n",
    "        sim_num_1 = ''.join(sim_num_list) + closest_under + str(max_butt)*(len(N)-i-1)\n",
    "        sim_num_2 = ''.join(sim_num_list) + closest_over + str(min_butt)*(len(N)-i-1)\n",
    "\n",
    "        \n",
    "    \n",
    "    \n",
    "\n",
    "if M == 10: # 버튼 다 고장난 경우\n",
    "    print(abs(100-int(N)))\n",
    "else:\n",
    "    sim_num_1, sim_num_2 = sim_num_fun()\n",
    "    print(sim_num_1, sim_num_2)\n",
    "    candi_1 = abs(sim_num_1 - int(N)) + len(N)\n",
    "    candi_2 = abs(sim_num_2 - int(N)) + len(N)\n",
    "    candi_3 = abs(100 - int(N))\n",
    "    print(min([candi_1, candi_2, candi_3]))"
   ]
  },
  {
   "cell_type": "code",
   "execution_count": 29,
   "metadata": {},
   "outputs": [
    {
     "name": "stdout",
     "output_type": "stream",
     "text": [
      "492169 {2, 4, 5, 7, 9}\n",
      "49210099 492222\n",
      "59\n"
     ]
    }
   ],
   "source": [
    "# 살아 있는 버튼으로 가장 비슷한 수 만들기\n",
    "def sim_num_fun() -> tuple:\n",
    "    \"\"\"살아 있는 버튼으로 만들 수 있는 N과 가장 가까운 수 리턴\"\"\"\n",
    "    butt_set = {i for i in range(10) if i not in brk_buttons}\n",
    "    max_butt, min_butt = max(butt_set), min(butt_set)\n",
    "    sim_num_list = []\n",
    "    print(N, butt_set)\n",
    "    for i, n in enumerate(N):\n",
    "        if int(n) in butt_set:\n",
    "            sim_num_list.append(n)\n",
    "        else:\n",
    "            unders = [b for b in butt_set if b < int(n)] # 더 작은 버튼들\n",
    "            overs = [b for b in butt_set if b > int(n)] # 더 큰 버튼들\n",
    "            closest_under = str(max(unders)) if unders else '100' # 버튼이 없는 경우 고려\n",
    "            closest_over = str(min(overs)) if overs else '100'\n",
    "            sim_num_1 = ''.join(sim_num_list) + closest_under + str(max_butt)*(len(N)-i-1)\n",
    "            sim_num_2 = ''.join(sim_num_list) + closest_over + str(min_butt)*(len(N)-i-1)\n",
    "\n",
    "            return int(sim_num_1), int(sim_num_2)\n",
    "    sim_num = int(''.join(sim_num_list))\n",
    "    return sim_num, sim_num\n",
    "\n",
    "if M == 10: # 버튼 다 고장난 경우\n",
    "    print(abs(100-int(N)))\n",
    "else:\n",
    "    sim_num_1, sim_num_2 = sim_num_fun()\n",
    "    print(sim_num_1, sim_num_2)\n",
    "    candi_1 = abs(sim_num_1 - int(N)) + len(N)\n",
    "    candi_2 = abs(sim_num_2 - int(N)) + len(N)\n",
    "    candi_3 = abs(100 - int(N))\n",
    "    print(min([candi_1, candi_2, candi_3]))"
   ]
  },
  {
   "cell_type": "code",
   "execution_count": 33,
   "metadata": {},
   "outputs": [
    {
     "data": {
      "text/plain": [
       "[(1, 1, 1),\n",
       " (1, 1, 2),\n",
       " (1, 1, 3),\n",
       " (1, 2, 1),\n",
       " (1, 2, 2),\n",
       " (1, 2, 3),\n",
       " (1, 3, 1),\n",
       " (1, 3, 2),\n",
       " (1, 3, 3),\n",
       " (2, 1, 1),\n",
       " (2, 1, 2),\n",
       " (2, 1, 3),\n",
       " (2, 2, 1),\n",
       " (2, 2, 2),\n",
       " (2, 2, 3),\n",
       " (2, 3, 1),\n",
       " (2, 3, 2),\n",
       " (2, 3, 3),\n",
       " (3, 1, 1),\n",
       " (3, 1, 2),\n",
       " (3, 1, 3),\n",
       " (3, 2, 1),\n",
       " (3, 2, 2),\n",
       " (3, 2, 3),\n",
       " (3, 3, 1),\n",
       " (3, 3, 2),\n",
       " (3, 3, 3)]"
      ]
     },
     "execution_count": 33,
     "metadata": {},
     "output_type": "execute_result"
    }
   ],
   "source": [
    "from itertools import permutations, product\n",
    "# list(permutations([1, 2, 3, 4]))\n",
    "ls = [1, 2, 3]\n",
    "list(product(ls, ls, ls))"
   ]
  },
  {
   "cell_type": "code",
   "execution_count": 13,
   "metadata": {},
   "outputs": [
    {
     "data": {
      "text/plain": [
       "('649863', [1, 5, 9, 8, 4])"
      ]
     },
     "execution_count": 13,
     "metadata": {},
     "output_type": "execute_result"
    }
   ],
   "source": [
    "N, brk_buttons"
   ]
  },
  {
   "cell_type": "markdown",
   "metadata": {},
   "source": [
    "# test case\n",
    "```python\n",
    "N = '649863'\n",
    "M = '5'\n",
    "brk_buttons = '0 2 3 6 7'\n",
    "```\n",
    "```python\n",
    "N = '4999'\n",
    "M = '1'\n",
    "brk_buttons = '9'\n",
    "```"
   ]
  },
  {
   "cell_type": "code",
   "execution_count": null,
   "metadata": {},
   "outputs": [],
   "source": []
  },
  {
   "cell_type": "code",
   "execution_count": 15,
   "metadata": {},
   "outputs": [
    {
     "name": "stdout",
     "output_type": "stream",
     "text": [
      "12092\n"
     ]
    }
   ],
   "source": [
    "# # 1107 리모컨\n",
    "# N = input()\n",
    "# M = int(input())\n",
    "# brk_buttons = list(map(int, input().split())) if M else []\n",
    "\n",
    "# 살아 있는 버튼으로 가장 비슷한 수 만들기\n",
    "def sim_num_fun() -> int:\n",
    "    butt_set = {i for i in range(10) if i not in brk_buttons}\n",
    "    max_butt, min_butt = max(butt_set), min(butt_set)\n",
    "    sim_num_list = [None]*len(N)\n",
    "    for i, n in enumerate(N):\n",
    "        mini = 100\n",
    "        for b in butt_set:\n",
    "            diff = abs(b-int(n))\n",
    "            if diff < mini: # 차이가 가장 작은 버튼 저장\n",
    "                sim_num_list[i] = [b]\n",
    "                mini = diff\n",
    "            elif diff == mini: # 쌍으로 있다면 추가\n",
    "                sim_num_list[i].append(b)\n",
    "        if sim_num_list[i][0] != int(n):\n",
    "            break\n",
    "    \n",
    "    sim_num_1, sim_num_2 = '', ''\n",
    "    for nums in sim_num_list:\n",
    "        if nums is None:\n",
    "            break\n",
    "        if len(nums) == 1:\n",
    "            sim_num_1 += str(nums[0])\n",
    "            sim_num_2 += str(nums[0])\n",
    "        else:\n",
    "            sim_num_1 += str(nums[0])\n",
    "            sim_num_2 += str(nums[1])\n",
    "            break\n",
    "\n",
    "    if int(sim_num_1) >= int(N[:len(sim_num_1)]):\n",
    "        sim_num_1 += str(min_butt)*(len(N) - len(sim_num_1))\n",
    "        sim_num_2 += str(max_butt)*(len(N) - len(sim_num_2))\n",
    "    else:\n",
    "        sim_num_1 += str(max_butt)*(len(N) - len(sim_num_1))\n",
    "        sim_num_2 += str(min_butt)*(len(N) - len(sim_num_2))\n",
    "\n",
    "    # print(sim_num_list, sim_num_1, sim_num_2)\n",
    "    return int(sim_num_1), int(sim_num_2)\n",
    "\n",
    "if M == 10: # 버튼 다 고장난 경우\n",
    "    print(abs(100-int(N)))\n",
    "else:\n",
    "    sim_num_1, sim_num_2 = sim_num_fun()\n",
    "    candi_1 = abs(sim_num_1 - int(N)) + len(N)\n",
    "    candi_2 = abs(sim_num_2 - int(N)) + len(N)\n",
    "    candi_3 = abs(100 - int(N))\n",
    "    print(min([candi_1, candi_2, candi_3]))"
   ]
  },
  {
   "cell_type": "code",
   "execution_count": null,
   "metadata": {},
   "outputs": [],
   "source": []
  },
  {
   "cell_type": "code",
   "execution_count": 39,
   "metadata": {},
   "outputs": [
    {
     "name": "stdout",
     "output_type": "stream",
     "text": [
      "4999 {0, 1, 2, 3, 4, 5, 6, 7, 8}\n",
      "[[4], [8], [8], [8]] 4888\n",
      "115\n"
     ]
    }
   ],
   "source": [
    "from itertools import product\n",
    "\n",
    "# 1107 리모컨\n",
    "N = input()\n",
    "M = int(input())\n",
    "brk_buttons = list(map(int, input().split())) if M else []\n",
    "\n",
    "# 살아 있는 버튼으로 가장 비슷한 수 만들기\n",
    "def sim_num_fun():\n",
    "    butt_set = {i for i in range(10) if i not in brk_buttons}\n",
    "    max_butt, min_butt = max(butt_set), min(butt_set)\n",
    "    sim_num_list = [None]*len(N)\n",
    "    for i, n in enumerate(N):\n",
    "        mini = 100\n",
    "        for b in butt_set:\n",
    "            diff = abs(b-int(n))\n",
    "            if diff < mini: # 차이가 가장 작은 버튼 저장\n",
    "                sim_num_list[i] = [b]\n",
    "                mini = diff\n",
    "            elif diff == mini: # 쌍으로 있다면 추가\n",
    "                sim_num_list[i].append(b)\n",
    "\n",
    "    sim_num = 10000000\n",
    "    for num in product(*sim_num_list):\n",
    "        num = int(''.join(map(str, num)))\n",
    "        if abs(num - int(N)) < sim_num:\n",
    "            sim_num = num\n",
    "    \n",
    "    print(N, butt_set)\n",
    "    print(sim_num_list, sim_num)\n",
    "    return sim_num\n",
    "\n",
    "if M == 10: # 버튼 다 고장난 경우\n",
    "    print(abs(100-int(N)))\n",
    "else:\n",
    "    sim_num = sim_num_fun()\n",
    "    candi_1 = abs(sim_num - int(N)) + len(N)\n",
    "    candi_2 = abs(100 - int(N))\n",
    "    print(min([candi_1, candi_2]))"
   ]
  },
  {
   "cell_type": "code",
   "execution_count": 40,
   "metadata": {},
   "outputs": [
    {
     "data": {
      "text/plain": [
       "('4999', [9])"
      ]
     },
     "execution_count": 40,
     "metadata": {},
     "output_type": "execute_result"
    }
   ],
   "source": [
    "N, brk_buttons"
   ]
  },
  {
   "cell_type": "code",
   "execution_count": 41,
   "metadata": {},
   "outputs": [
    {
     "name": "stdout",
     "output_type": "stream",
     "text": [
      "4999 {0, 1, 2, 3, 4, 5, 6, 7, 8}\n",
      "[[4], [8], [8], [8]] 4888\n",
      "115\n"
     ]
    }
   ],
   "source": [
    "# 살아 있는 버튼으로 가장 비슷한 수 만들기\n",
    "def sim_num_fun():\n",
    "    butt_set = {i for i in range(10) if i not in brk_buttons}\n",
    "    max_butt, min_butt = max(butt_set), min(butt_set)\n",
    "    sim_num_list = [None]*len(N)\n",
    "    for i, n in enumerate(N):\n",
    "        mini = 100\n",
    "        for b in butt_set:\n",
    "            diff = abs(b-int(n))\n",
    "            if diff < mini: # 차이가 가장 작은 버튼 저장\n",
    "                sim_num_list[i] = [b]\n",
    "                mini = diff\n",
    "            elif diff == mini: # 쌍으로 있다면 추가\n",
    "                sim_num_list[i].append(b)\n",
    "\n",
    "    sim_num = 10000000\n",
    "    for num in product(*sim_num_list):\n",
    "        num = int(''.join(map(str, num)))\n",
    "        if abs(num - int(N)) < sim_num:\n",
    "            sim_num = num\n",
    "    \n",
    "    print(N, butt_set)\n",
    "    print(sim_num_list, sim_num)\n",
    "    return sim_num\n",
    "\n",
    "if M == 10: # 버튼 다 고장난 경우\n",
    "    print(abs(100-int(N)))\n",
    "else:\n",
    "    sim_num = sim_num_fun()\n",
    "    candi_1 = abs(sim_num - int(N)) + len(N)\n",
    "    candi_2 = abs(100 - int(N))\n",
    "    print(min([candi_1, candi_2]))"
   ]
  },
  {
   "cell_type": "code",
   "execution_count": null,
   "metadata": {},
   "outputs": [],
   "source": []
  }
 ],
 "metadata": {
  "interpreter": {
   "hash": "c798a043d5b26db4ea8dc684fe25ec244835432adc5539bce2de618403b1d63c"
  },
  "kernelspec": {
   "display_name": "Python 3.8.5 ('base')",
   "language": "python",
   "name": "python3"
  },
  "language_info": {
   "codemirror_mode": {
    "name": "ipython",
    "version": 3
   },
   "file_extension": ".py",
   "mimetype": "text/x-python",
   "name": "python",
   "nbconvert_exporter": "python",
   "pygments_lexer": "ipython3",
   "version": "3.8.5"
  },
  "orig_nbformat": 4
 },
 "nbformat": 4,
 "nbformat_minor": 2
}
