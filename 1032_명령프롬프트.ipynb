{
 "cells": [
  {
   "cell_type": "markdown",
   "metadata": {},
   "source": [
    "# 1032 명령 프롬프트\n",
    "211219\n",
    "- 소감 : 금방 풀었당. 더 효율적으로 푸는 방법이 있을 지는 확인 필요. 공부 그렇게 많이 하지도 않았는데 왤케 지치는 것 같지.. 내일 티맥스 인터뷰 대상자 발표인데 떨린다... 됐으면...ㅜ\n",
    "- 알고리즘 분류\n",
    "    - 구현\n",
    "    - 문자열\n",
    "- 티어 : 브론즈 1"
   ]
  },
  {
   "cell_type": "code",
   "execution_count": 8,
   "metadata": {},
   "outputs": [
    {
     "name": "stdout",
     "output_type": "stream",
     "text": [
      "onlyonefile\n"
     ]
    }
   ],
   "source": [
    "N = int(input())\n",
    "cmd_list = [input() for _ in range(N)]\n",
    "\n",
    "comp = cmd_list[0]\n",
    "ln = len(comp)\n",
    "for cmd in cmd_list:\n",
    "    temp_comp = ''\n",
    "    for i in range(ln):\n",
    "        if comp[i] == cmd[i]:\n",
    "            temp_comp += comp[i]\n",
    "        else:\n",
    "            temp_comp += '?'\n",
    "    comp = temp_comp\n",
    "\n",
    "print(comp)"
   ]
  },
  {
   "cell_type": "code",
   "execution_count": 3,
   "metadata": {},
   "outputs": [
    {
     "data": {
      "text/plain": [
       "['config.sys', 'config.ing', 'configures']"
      ]
     },
     "execution_count": 3,
     "metadata": {},
     "output_type": "execute_result"
    }
   ],
   "source": [
    "cmd_list"
   ]
  },
  {
   "cell_type": "code",
   "execution_count": 4,
   "metadata": {},
   "outputs": [
    {
     "name": "stdout",
     "output_type": "stream",
     "text": [
      "config????\n"
     ]
    }
   ],
   "source": [
    "comp = cmd_list[0]\n",
    "ln = len(comp)\n",
    "for cmd in cmd_list:\n",
    "    temp_comp = ''\n",
    "    for i in range(ln):\n",
    "        if comp[i] == cmd[i]:\n",
    "            temp_comp += comp[i]\n",
    "        else:\n",
    "            temp_comp += '?'\n",
    "    comp = temp_comp\n",
    "\n",
    "print(comp)"
   ]
  },
  {
   "cell_type": "code",
   "execution_count": null,
   "metadata": {},
   "outputs": [],
   "source": []
  }
 ],
 "metadata": {
  "interpreter": {
   "hash": "c798a043d5b26db4ea8dc684fe25ec244835432adc5539bce2de618403b1d63c"
  },
  "kernelspec": {
   "display_name": "Python 3.8.5 64-bit ('base': conda)",
   "language": "python",
   "name": "python3"
  },
  "language_info": {
   "codemirror_mode": {
    "name": "ipython",
    "version": 3
   },
   "file_extension": ".py",
   "mimetype": "text/x-python",
   "name": "python",
   "nbconvert_exporter": "python",
   "pygments_lexer": "ipython3",
   "version": "3.8.5"
  },
  "orig_nbformat": 4
 },
 "nbformat": 4,
 "nbformat_minor": 2
}
