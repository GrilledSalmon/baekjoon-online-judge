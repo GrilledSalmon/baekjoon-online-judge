{
 "cells": [
  {
   "cell_type": "markdown",
   "metadata": {},
   "source": [
    "# 4659 비밀번호 발음하기\n",
    "220629\n",
    "- 소감\n",
    "    - 정규표현식 재밌당\n",
    "- 소요 시간 : 35분\n",
    "- 알고리즘 분류 : 구현, 문자열\n",
    "- 티어 : 실버 5"
   ]
  },
  {
   "cell_type": "code",
   "execution_count": 32,
   "metadata": {},
   "outputs": [
    {
     "name": "stdout",
     "output_type": "stream",
     "text": [
      "<a> is acceptable.\n",
      "<tv> is not acceptable.\n",
      "<ptoui> is not acceptable.\n",
      "<bontres> is not acceptable.\n",
      "<zoggax> is not acceptable.\n",
      "<wiinq> is not acceptable.\n",
      "<eep> is acceptable.\n",
      "<houctuh> is acceptable.\n"
     ]
    }
   ],
   "source": [
    "import re\n",
    "import sys\n",
    "# input = sys.stdin.readline\n",
    "\n",
    "c1 = re.compile('[aeiou]')\n",
    "c2 = re.compile('[aeiou]{3,}')\n",
    "c3 = re.compile('[^aeiou]{3,}')\n",
    "c4 = re.compile(r'(.)\\1')\n",
    "\n",
    "def is_acceptable(inp):\n",
    "    if not c1.search(inp):\n",
    "        return False\n",
    "    if c2.search(inp) or c3.search(inp):\n",
    "        return False\n",
    "    res = c4.search(inp)\n",
    "    if res and res.group() not in ('ee', 'oo'):\n",
    "        return False\n",
    "    return True\n",
    "\n",
    "while True:\n",
    "    inp = input().rstrip()\n",
    "    if inp == 'end':\n",
    "        break\n",
    "    if is_acceptable(inp):\n",
    "        print(f'<{inp}> is acceptable.')\n",
    "    else:\n",
    "        print(f'<{inp}> is not acceptable.')\n",
    "    "
   ]
  },
  {
   "cell_type": "code",
   "execution_count": 2,
   "metadata": {},
   "outputs": [
    {
     "data": {
      "text/plain": [
       "'end'"
      ]
     },
     "execution_count": 2,
     "metadata": {},
     "output_type": "execute_result"
    }
   ],
   "source": [
    "inp"
   ]
  },
  {
   "cell_type": "code",
   "execution_count": 28,
   "metadata": {},
   "outputs": [],
   "source": [
    "import re\n",
    "c1 = re.compile('[aeiou]')\n",
    "c2 = re.compile('[aeiou]{3,}')\n",
    "c3 = re.compile('[^aeiou]{3,}')\n",
    "c4 = re.compile(r'(.)\\1')\n",
    "\n",
    "def is_acceptable(inp):\n",
    "    if not c1.search(inp):\n",
    "        return False\n",
    "    if c2.search(inp) or c3.search(inp):\n",
    "        return False\n",
    "    res = c4.search(inp)\n",
    "    if res and res.group() not in ('ee', 'oo'):\n",
    "        return False\n",
    "    return True\n",
    "\n"
   ]
  },
  {
   "cell_type": "code",
   "execution_count": 30,
   "metadata": {},
   "outputs": [
    {
     "data": {
      "text/plain": [
       "'ff'"
      ]
     },
     "execution_count": 30,
     "metadata": {},
     "output_type": "execute_result"
    }
   ],
   "source": [
    "c4.search('dfffaef').group()"
   ]
  },
  {
   "cell_type": "code",
   "execution_count": null,
   "metadata": {},
   "outputs": [],
   "source": [
    "s"
   ]
  }
 ],
 "metadata": {
  "kernelspec": {
   "display_name": "Python 3.8.8 ('base')",
   "language": "python",
   "name": "python3"
  },
  "language_info": {
   "codemirror_mode": {
    "name": "ipython",
    "version": 3
   },
   "file_extension": ".py",
   "mimetype": "text/x-python",
   "name": "python",
   "nbconvert_exporter": "python",
   "pygments_lexer": "ipython3",
   "version": "3.8.8"
  },
  "orig_nbformat": 4,
  "vscode": {
   "interpreter": {
    "hash": "f08154012ddadd8e950e6e9e035c7a7b32c136e7647e9b7c77e02eb723a8bedb"
   }
  }
 },
 "nbformat": 4,
 "nbformat_minor": 2
}
