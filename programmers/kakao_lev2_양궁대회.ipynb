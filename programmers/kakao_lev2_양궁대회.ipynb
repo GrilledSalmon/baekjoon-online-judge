{
 "cells": [
  {
   "cell_type": "markdown",
   "metadata": {},
   "source": [
    "# 양궁대회\n",
    "220821\n",
    "- 2022 KAKAO BLIND RECRUITMENT\n",
    "- 소감\n",
    "    - 그리디 + 백트래킹 + 브루트포스 문제인듯\n",
    "    - 핵심 아이디어는 경우의 수를 x점을 얻거나, 못 얻거나로 나누어 모든 결우를 확인하는 것\n",
    "    - 사소한 실수를 찾지 못해(+설렁설렁 풀어서) 시간은 좀 걸렸다.\n",
    "- 소요 시간 : 1시간 20분"
   ]
  },
  {
   "cell_type": "code",
   "execution_count": 33,
   "metadata": {},
   "outputs": [],
   "source": [
    "n = 5\n",
    "info = [2,1,1,1,0,0,0,0,0,0,0]\n",
    "n = 10\n",
    "info = [0,0,0,0,0,0,0,0,3,4,3]\n",
    "n = 9\n",
    "info = [0,0,1,2,0,1,1,1,1,1,1]"
   ]
  },
  {
   "cell_type": "code",
   "execution_count": 61,
   "metadata": {},
   "outputs": [],
   "source": [
    "# n : 화살의 개수\n",
    "# info : 어피치가 맞힌 과녁 점수의 개수\n",
    "# 가장 큰 점수차로 라이언이 이기기 위한 화살 점수 배정 구하기\n",
    "\n",
    "def calc_point_diff(res : list, info : list) -> int:\n",
    "    \"\"\"점수 차이 계산\"\"\"\n",
    "    point_r = 0 # 라이언\n",
    "    point_a = 0 # 어피치\n",
    "    for i in range(11):\n",
    "        if res[i] > info[i]:\n",
    "            point_r += 10 - i\n",
    "        elif res[i] <= info[i] and info[i]:\n",
    "            point_a += 10 - i\n",
    "    \n",
    "    return point_r - point_a\n",
    "\n",
    "def solution(n, info):\n",
    "\n",
    "    max_diff = [0]\n",
    "    res = [0]*11\n",
    "    ans = []\n",
    "    def back_tracking(remain_arrow=n, i=0):\n",
    "        \"\"\"10-i점을 얻거나 못 얻거나\"\"\"\n",
    "        if remain_arrow == 0:\n",
    "            point_diff = calc_point_diff(res, info)\n",
    "            if point_diff > max_diff[0]:\n",
    "                max_diff[0] = point_diff\n",
    "                ans.clear()\n",
    "                ans.append(res.copy())\n",
    "            elif point_diff == max_diff[0] and point_diff:\n",
    "                ans.append(res.copy())\n",
    "            return\n",
    "\n",
    "        # 10-i점을 얻는 경우\n",
    "        need_arrow = info[i] + 1\n",
    "        if remain_arrow < need_arrow or i == 10: # 화살이 부족하거나 마지막인 경우\n",
    "            n_remain_arrow = 0\n",
    "            res[i] = remain_arrow # 다 써버리기\n",
    "        else:\n",
    "            n_remain_arrow = remain_arrow - need_arrow\n",
    "            res[i] = need_arrow\n",
    "        \n",
    "        back_tracking(n_remain_arrow, i+1)\n",
    "        res[i] = 0\n",
    "\n",
    "        # 못 얻는 경우\n",
    "        if i < 10:\n",
    "            back_tracking(remain_arrow, i+1)\n",
    "            return\n",
    "\n",
    "    back_tracking()\n",
    "    if ans:\n",
    "        return max(ans, key=lambda x: list(reversed(x)))\n",
    "    return [-1]"
   ]
  },
  {
   "cell_type": "code",
   "execution_count": 64,
   "metadata": {},
   "outputs": [
    {
     "data": {
      "text/plain": [
       "[2, 1, 2, 0, 0, 0, 0, 0, 0, 0, 0]"
      ]
     },
     "execution_count": 64,
     "metadata": {},
     "output_type": "execute_result"
    }
   ],
   "source": [
    "solution(5, [1, 0, 1, 1, 0, 0, 1, 0, 1, 0, 0])"
   ]
  },
  {
   "cell_type": "code",
   "execution_count": 67,
   "metadata": {},
   "outputs": [
    {
     "data": {
      "text/plain": [
       "14"
      ]
     },
     "execution_count": 67,
     "metadata": {},
     "output_type": "execute_result"
    }
   ],
   "source": [
    "calc_point_diff([2, 1, 2, 0, 0, 0, 0, 0, 0, 0, 0], [1, 0, 1, 1, 0, 0, 1, 0, 1, 0, 0])"
   ]
  },
  {
   "cell_type": "code",
   "execution_count": null,
   "metadata": {},
   "outputs": [],
   "source": []
  }
 ],
 "metadata": {
  "interpreter": {
   "hash": "8cc51f7a6f9663e4a057df8e9ab0b3750994a36584b90d61db68aa71b39bfa78"
  },
  "kernelspec": {
   "display_name": "Python 3.8.5 ('base')",
   "language": "python",
   "name": "python3"
  },
  "language_info": {
   "codemirror_mode": {
    "name": "ipython",
    "version": 3
   },
   "file_extension": ".py",
   "mimetype": "text/x-python",
   "name": "python",
   "nbconvert_exporter": "python",
   "pygments_lexer": "ipython3",
   "version": "3.8.5"
  },
  "orig_nbformat": 4,
  "vscode": {
   "interpreter": {
    "hash": "f08154012ddadd8e950e6e9e035c7a7b32c136e7647e9b7c77e02eb723a8bedb"
   }
  }
 },
 "nbformat": 4,
 "nbformat_minor": 2
}
