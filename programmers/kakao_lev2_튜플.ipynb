{
 "cells": [
  {
   "cell_type": "markdown",
   "metadata": {},
   "source": [
    "# 튜플\n",
    "220618\n",
    "- 프로그래머스 2019 카카오 개발자 겨울 인턴십 lev 2\n",
    "- 소감\n",
    "    - 효율적으로 풀진 못한 것 같긴 한데 일단 그냥 제출해봤는데 통과하긴 함\n",
    "    -> 다시 정규표현식이랑 set 활용하고 풀어서 시간 줄임\n",
    "- 소요 시간 : 20분 ~ 33분"
   ]
  },
  {
   "cell_type": "code",
   "execution_count": null,
   "metadata": {},
   "outputs": [],
   "source": [
    "import re\n",
    "\n",
    "def solution(s):\n",
    "    c = re.compile('{[0-9,]*}')\n",
    "\n",
    "    tup_list = []\n",
    "    for string in c.findall(s):\n",
    "        tup_list.append(tuple(map(int, (string.strip('{}').split(',')))))\n",
    "\n",
    "    tup_list.sort(key = lambda x:len(x))\n",
    "    \n",
    "    ans = [tup_list[0][0]]\n",
    "    ans_set = set(ans)\n",
    "\n",
    "    for i in range(1, len(tup_list)):\n",
    "        for t in tup_list[i]:\n",
    "            if t not in ans_set:\n",
    "                ans.append(t)\n",
    "                ans_set.add(t)\n",
    "                break\n",
    "                \n",
    "    return ans"
   ]
  },
  {
   "cell_type": "code",
   "execution_count": 24,
   "metadata": {},
   "outputs": [],
   "source": [
    "def solution(s):\n",
    "    tup_list = []\n",
    "    for i in range(1, len(s)-1):\n",
    "        letter = s[i]\n",
    "        if letter == '{':\n",
    "            start = i+1\n",
    "            continue\n",
    "        elif letter == '}':\n",
    "            nums = tuple(map(int, s[start:i].split(',')))\n",
    "            tup_list.append(nums)\n",
    "        else:\n",
    "            continue\n",
    "    tup_list.sort(key = lambda x:len(x))\n",
    "\n",
    "    ans = [tup_list[0][0]]\n",
    "\n",
    "    for i in range(1, len(tup_list)):\n",
    "        for t in tup_list[i]:\n",
    "            if t not in tup_list[i-1]:\n",
    "                ans.append(t)\n",
    "                break\n",
    "\n",
    "    return ans"
   ]
  },
  {
   "cell_type": "code",
   "execution_count": 43,
   "metadata": {},
   "outputs": [],
   "source": [
    "import re\n",
    "\n",
    "def solution(s):\n",
    "    c = re.compile('{[0-9,]*}')\n",
    "\n",
    "    tup_list = []\n",
    "    for string in c.findall(s):\n",
    "        tup_list.append(tuple(map(int, (string.strip('{}').split(',')))))\n",
    "\n",
    "    tup_list.sort(key = lambda x:len(x))\n",
    "    \n",
    "    ans = [tup_list[0][0]]\n",
    "\n",
    "    for i in range(1, len(tup_list)):\n",
    "        for t in tup_list[i]:\n",
    "            if t not in tup_list[i-1]:\n",
    "                ans.append(t)\n",
    "                break\n",
    "\n",
    "    return ans"
   ]
  },
  {
   "cell_type": "code",
   "execution_count": 44,
   "metadata": {},
   "outputs": [],
   "source": [
    "s = \"{{1,2,3},{2,1},{1,2,4,3},{2}}\""
   ]
  },
  {
   "cell_type": "code",
   "execution_count": 46,
   "metadata": {},
   "outputs": [],
   "source": [
    "import re\n",
    "c = re.compile('{[0-9,]*}')\n",
    "\n",
    "tup_list = []\n",
    "for string in c.findall(s):\n",
    "    tup_list.append(tuple(map(int, (string.strip('{}').split(',')))))\n",
    "\n",
    "tup_list.sort(key = lambda x:len(x))\n",
    "\n",
    "ans = [tup_list[0][0]]\n",
    "ans_set = set(ans)\n",
    "\n",
    "for i in range(1, len(tup_list)):\n",
    "    for t in tup_list[i]:\n",
    "        if t not in ans_set:\n",
    "            ans.append(t)\n",
    "            ans_set.add(t)\n",
    "            break"
   ]
  },
  {
   "cell_type": "code",
   "execution_count": 51,
   "metadata": {},
   "outputs": [
    {
     "name": "stdout",
     "output_type": "stream",
     "text": [
      "1,2,3\n",
      "2,1\n",
      "1,2,4,3\n"
     ]
    }
   ],
   "source": [
    "c = re.compile('[0-9,]{2,}')\n",
    "\n",
    "tup_list = []\n",
    "for string in c.findall(s):\n",
    "    print(string)"
   ]
  },
  {
   "cell_type": "code",
   "execution_count": 42,
   "metadata": {},
   "outputs": [
    {
     "data": {
      "text/plain": [
       "([(2,), (2, 1), (1, 2, 3), (1, 2, 4, 3)], [2, 1, 3, 4])"
      ]
     },
     "execution_count": 42,
     "metadata": {},
     "output_type": "execute_result"
    }
   ],
   "source": [
    "tup_list, ans"
   ]
  },
  {
   "cell_type": "code",
   "execution_count": 21,
   "metadata": {},
   "outputs": [],
   "source": [
    "tup_list = []\n",
    "for i in range(1, len(s)-1):\n",
    "    letter = s[i]\n",
    "    # print(letter)\n",
    "    if letter == '{':\n",
    "        start = i+1\n",
    "        continue\n",
    "    elif letter == '}':\n",
    "        end = i\n",
    "        nums = tuple(map(int, s[start:i].split(',')))\n",
    "        tup_list.append(nums)\n",
    "    else:\n",
    "        continue\n",
    "tup_list.sort(key = lambda x:len(x))\n",
    "\n",
    "ans = [tup_list[0][0]]\n",
    "\n",
    "for i in range(1, len(tup_list)):\n",
    "    for t in tup_list[i]:\n",
    "        if t not in tup_list[i-1]:\n",
    "            ans.append(t)\n",
    "            break\n"
   ]
  },
  {
   "cell_type": "code",
   "execution_count": 22,
   "metadata": {},
   "outputs": [
    {
     "data": {
      "text/plain": [
       "[(2,), (2, 1), (1, 2, 3), (1, 2, 4, 3)]"
      ]
     },
     "execution_count": 22,
     "metadata": {},
     "output_type": "execute_result"
    }
   ],
   "source": [
    "tup_list"
   ]
  }
 ],
 "metadata": {
  "kernelspec": {
   "display_name": "Python 3.8.8 ('base')",
   "language": "python",
   "name": "python3"
  },
  "language_info": {
   "codemirror_mode": {
    "name": "ipython",
    "version": 3
   },
   "file_extension": ".py",
   "mimetype": "text/x-python",
   "name": "python",
   "nbconvert_exporter": "python",
   "pygments_lexer": "ipython3",
   "version": "3.8.8"
  },
  "orig_nbformat": 4,
  "vscode": {
   "interpreter": {
    "hash": "f08154012ddadd8e950e6e9e035c7a7b32c136e7647e9b7c77e02eb723a8bedb"
   }
  }
 },
 "nbformat": 4,
 "nbformat_minor": 2
}
