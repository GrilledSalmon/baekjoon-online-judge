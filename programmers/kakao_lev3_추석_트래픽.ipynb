{
 "cells": [
  {
   "cell_type": "markdown",
   "metadata": {},
   "source": [
    "# 추석 트래픽\n",
    "220624\n",
    "- 2018 KAKAO BLIND RECRUITMENT(lev 3)\n",
    "- 소감\n",
    "    - datetime을 잘 다룰 줄 모르면 오랜 시간이 걸리는 문제.. 실제로 datetime으로 바꾸는 데만 45분 소요..\n",
    "    - 그 외에 푸는 건 그렇게 어렵진 않았으나, 시간에 쫓기다보니 집중이 잘 되지 않아 시간이 오래 걸림\n",
    "    - 프로그래머스 문제는 그래도 시간복잡도만 괜찮으면 시간 초과에는 관대한 편인 것 같다.\n",
    "- 소요 시간 : 2시간?"
   ]
  },
  {
   "cell_type": "code",
   "execution_count": null,
   "metadata": {},
   "outputs": [],
   "source": [
    "# 응답 완료시간 S와 처리시간 T\n",
    "\n",
    "from datetime import datetime, timedelta\n",
    "from collections import deque\n",
    "from heapq import heappush, heappop\n",
    "\n",
    "def solution(lines):\n",
    "    ans = 0\n",
    "    logs = []\n",
    "    for log in lines:\n",
    "        day, time, sec = log.split()\n",
    "        sec = sec[:-1]\n",
    "        time = time + '000'\n",
    "        end_time = datetime.strptime(day+' '+time, '%Y-%m-%d %H:%M:%S.%f')\n",
    "        need_time = timedelta(seconds=float(sec)-0.001)\n",
    "        start_time = end_time - need_time\n",
    "        logs.append((start_time, end_time))\n",
    "    \n",
    "    one_sec = timedelta(seconds = 1)\n",
    "\n",
    "    logs.sort()\n",
    "    log_q = deque(logs)\n",
    "    \n",
    "    heap = [] # 끝나는 시간 저장\n",
    "    \n",
    "    for start, end in logs:\n",
    "        lim = start+one_sec\n",
    "        \n",
    "        # 빼주기\n",
    "        while heap:\n",
    "            if heap[0] <= start: # 가장 빨리 끝나는 애가 현재 log의 시작보다 빨리 끝났다면\n",
    "                heappop(heap)\n",
    "            else:\n",
    "                break\n",
    "        \n",
    "        # 넣어주기\n",
    "        while log_q:\n",
    "            if log_q[0][0] < lim:\n",
    "                heappush(heap, log_q.popleft()[1])\n",
    "            else:\n",
    "                break\n",
    "                \n",
    "        if ans < len(heap):\n",
    "            ans = len(heap)\n",
    "    \n",
    "    #######################\n",
    "    logs.sort(key = lambda x:x[1])\n",
    "    log_q = deque(logs)\n",
    "    \n",
    "    heap = []\n",
    "    \n",
    "    for start, end in logs:\n",
    "        lim = end+one_sec\n",
    "        \n",
    "        # 빼주기\n",
    "        while heap:\n",
    "            if heap[0] <= end: \n",
    "                heappop(heap)\n",
    "            else:\n",
    "                break\n",
    "        \n",
    "        # 넣어주기\n",
    "        while log_q:\n",
    "            if log_q[0][0] < lim:\n",
    "                heappush(heap, log_q.popleft()[0])\n",
    "            else:\n",
    "                break\n",
    "        \n",
    "        if ans < len(heap):\n",
    "            ans = len(heap)\n",
    "    \n",
    "    return ans"
   ]
  }
 ],
 "metadata": {
  "kernelspec": {
   "display_name": "Python 3.8.8 ('base')",
   "language": "python",
   "name": "python3"
  },
  "language_info": {
   "name": "python",
   "version": "3.8.8"
  },
  "orig_nbformat": 4,
  "vscode": {
   "interpreter": {
    "hash": "f08154012ddadd8e950e6e9e035c7a7b32c136e7647e9b7c77e02eb723a8bedb"
   }
  }
 },
 "nbformat": 4,
 "nbformat_minor": 2
}
