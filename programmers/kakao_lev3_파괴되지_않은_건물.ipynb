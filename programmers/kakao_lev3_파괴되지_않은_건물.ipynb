{
 "cells": [
  {
   "cell_type": "markdown",
   "metadata": {},
   "source": [
    "# 파괴되지 않은 건물\n",
    "220825\n",
    "- 2022 KAKAO BLIND RECRUITMENT\n",
    "- 소감\n",
    "    - 생각지도 못한 풀이. 누적합을 역으로 활용해서 효율적으로 풀어야 한다.\n",
    "    - 결과적으로 다른 사람의 풀이를 참고했지만, 이건 빠르게 참고하는 게 오히려 좋았겠다 싶은 유형이었음. 코테에 나왔으면 좋겠다.\n",
    "    - 다른 사람의 풀이를 이해한 후에도 이상한 실수때문에 오래 걸림..\n",
    "    - 핵심 아이디어는 아래 코드의 acc_array를 처음 만드는 부분.\n",
    "    - 분할정복으로 풀어야 하나 해서 그렇게 접근할까 했는데 그랬으면 망했을듯\n",
    "- 소요 시간 : 3시간\n",
    "- 알고리즘 분류 : 누적합"
   ]
  },
  {
   "cell_type": "markdown",
   "metadata": {},
   "source": [
    "어떻게 해야 풀 수 있을까?\n",
    "- 이분탐색\n",
    "- 정렬\n",
    "- 분할정복\n",
    "- 그래프\n",
    "- 스택, 큐\n",
    "- 우선순위 큐\n",
    "- 그리디\n",
    "- 다이나믹 프로그래밍\n",
    "- 누적합!"
   ]
  },
  {
   "cell_type": "code",
   "execution_count": 27,
   "metadata": {},
   "outputs": [],
   "source": [
    "# NxM 크기의 게임 맵. 각 칸에 내구도를 가진 건물이 하나씩 있음\n",
    "# 적은 건물을 공격해 파괴. 내구도 0이하가 되면 파괴.\n",
    "# 아군은 회복 스킬로 내구도 높이려 함\n",
    "# 적의 공격과 회복 스킬은 항상 직사각형 모양\n",
    "# [type, r1, c1, r2, c2, degree]\n",
    "# type이 1이면 공격, 2면 회복\n",
    "\n",
    "def solution(board, skill):\n",
    "    ans = 0\n",
    "    N = len(board)\n",
    "    M = len(board[0])\n",
    "\n",
    "    acc_array = [[0]*(M+1) for _ in range(N+1)]\n",
    "\n",
    "    for type_, r1, c1, r2, c2, degree in skill:\n",
    "        change = -degree if type_==1 else degree\n",
    "        acc_array[r1][c1] += change\n",
    "        acc_array[r2 + 1][c1] += -change\n",
    "        acc_array[r1][c2 + 1] += -change\n",
    "        acc_array[r2 + 1][c2 + 1] += change\n",
    "\n",
    "    for row in acc_array:\n",
    "        for i in range(1, M+1):\n",
    "            row[i] += row[i-1]\n",
    "    \n",
    "    for r in range(1, N+1):\n",
    "        row_prev = acc_array[r-1]\n",
    "        row_now = acc_array[r]\n",
    "        for c in range(M+1):\n",
    "            row_now[c] += row_prev[c]            \n",
    "\n",
    "    for r in range(N):\n",
    "        for c in range(M):\n",
    "            board[r][c] += acc_array[r][c]\n",
    "            if board[r][c] > 0:\n",
    "                ans += 1\n",
    "                \n",
    "    return ans"
   ]
  },
  {
   "cell_type": "code",
   "execution_count": 31,
   "metadata": {},
   "outputs": [
    {
     "name": "stdout",
     "output_type": "stream",
     "text": [
      "[-4, 0, 0, 0, 0, 4]\n",
      "[2, 0, -2, 0, 0, 0]\n",
      "[-2, 0, 0, 0, 2, 0]\n",
      "[2, 0, 0, 0, -2, 0]\n",
      "[-2, 0, 2, 0, 0, -4]\n",
      "-------------\n",
      "[-4, -4, -4, -4, -4, 0]\n",
      "[2, 2, 0, 0, 0, 0]\n",
      "[-2, -2, -2, -2, 0, 0]\n",
      "[2, 2, 2, 2, 0, 0]\n",
      "[-2, -2, 0, 0, 0, -4]\n",
      "-------------\n",
      "[-4, -4, -4, -4, -4, 0]\n",
      "[-2, -2, -4, -4, -4, 0]\n",
      "[-4, -4, -6, -6, -4, 0]\n",
      "[-2, -2, -4, -4, -4, 0]\n",
      "[-4, -4, -4, -4, -4, -4]\n",
      "-------------\n",
      "[1, 1, 1, 1, 1]\n",
      "[3, 3, 1, 1, 1]\n",
      "[1, 1, -1, -1, 1]\n",
      "[3, 3, 1, 1, 1]\n"
     ]
    },
    {
     "data": {
      "text/plain": [
       "18"
      ]
     },
     "execution_count": 31,
     "metadata": {},
     "output_type": "execute_result"
    }
   ],
   "source": [
    "board = [[5,5,5,5,5],[5,5,5,5,5],[5,5,5,5,5],[5,5,5,5,5]]\n",
    "skill = [[1,0,0,3,4,4],[1,2,0,2,3,2],[2,1,0,3,1,2],[1,0,1,3,3,1]]\n",
    "\n",
    "solution(board, skill[:3])"
   ]
  },
  {
   "cell_type": "code",
   "execution_count": 32,
   "metadata": {},
   "outputs": [
    {
     "name": "stdout",
     "output_type": "stream",
     "text": [
      "[-4, 0, 0, 0, 0, 4]\n",
      "[0, 0, 0, 0, 0, 0]\n",
      "[-2, 0, 0, 0, 2, 0]\n",
      "[2, 0, 0, 0, -2, 0]\n",
      "[4, 0, 0, 0, 0, -4]\n",
      "-------------\n",
      "[-4, -4, -4, -4, -4, 0]\n",
      "[0, 0, 0, 0, 0, 0]\n",
      "[-2, -2, -2, -2, 0, 0]\n",
      "[2, 2, 2, 2, 0, 0]\n",
      "[4, 4, 4, 4, 4, 0]\n",
      "-------------\n",
      "[-4, -4, -4, -4, -4, 0]\n",
      "[-4, -4, -4, -4, -4, 0]\n",
      "[-6, -6, -6, -6, -4, 0]\n",
      "[-4, -4, -4, -4, -4, 0]\n",
      "[0, 0, 0, 0, 0, 0]\n",
      "-------------\n",
      "[-3, -3, -3, -3, -3]\n",
      "[-1, -1, -3, -3, -3]\n",
      "[-5, -5, -7, -7, -3]\n",
      "[-1, -1, -3, -3, -3]\n"
     ]
    },
    {
     "data": {
      "text/plain": [
       "0"
      ]
     },
     "execution_count": 32,
     "metadata": {},
     "output_type": "execute_result"
    }
   ],
   "source": [
    "solution(board, skill[:2])"
   ]
  },
  {
   "cell_type": "code",
   "execution_count": null,
   "metadata": {},
   "outputs": [],
   "source": []
  },
  {
   "cell_type": "code",
   "execution_count": null,
   "metadata": {},
   "outputs": [],
   "source": [
    "# NxM 크기의 게임 맵. 각 칸에 내구도를 가진 건물이 하나씩 있음\n",
    "# 적은 건물을 공격해 파괴. 내구도 0이하가 되면 파괴.\n",
    "# 아군은 회복 스킬로 내구도 높이려 함\n",
    "# 적의 공격과 회복 스킬은 항상 직사각형 모양\n",
    "# [type, r1, c1, r2, c2, degree]\n",
    "# type이 1이면 공격, 2면 회복\n",
    "\n",
    "# 정확성 테스트만 통과하는 풀이\n",
    "def solution(board, skill):\n",
    "    ans = 0\n",
    "    N = len(board)\n",
    "    M = len(board[0])\n",
    "\n",
    "    for type_, r1, c1, r2, c2, degree in skill:\n",
    "        change = -degree if type_==1 else degree\n",
    "        for r in range(r1, r2+1):\n",
    "            for c in range(c1, c2+1):\n",
    "                board[r][c] += change\n",
    "    \n",
    "    for r in range(N):\n",
    "        for c in range(M):\n",
    "            if board[r][c] > 0:\n",
    "                ans += 1\n",
    "\n",
    "    return ans"
   ]
  }
 ],
 "metadata": {
  "interpreter": {
   "hash": "8cc51f7a6f9663e4a057df8e9ab0b3750994a36584b90d61db68aa71b39bfa78"
  },
  "kernelspec": {
   "display_name": "Python 3.8.5 ('base')",
   "language": "python",
   "name": "python3"
  },
  "language_info": {
   "codemirror_mode": {
    "name": "ipython",
    "version": 3
   },
   "file_extension": ".py",
   "mimetype": "text/x-python",
   "name": "python",
   "nbconvert_exporter": "python",
   "pygments_lexer": "ipython3",
   "version": "3.8.5"
  },
  "orig_nbformat": 4,
  "vscode": {
   "interpreter": {
    "hash": "f08154012ddadd8e950e6e9e035c7a7b32c136e7647e9b7c77e02eb723a8bedb"
   }
  }
 },
 "nbformat": 4,
 "nbformat_minor": 2
}
