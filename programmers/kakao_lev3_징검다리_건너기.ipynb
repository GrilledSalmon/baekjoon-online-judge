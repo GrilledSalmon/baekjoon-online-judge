{
 "cells": [
  {
   "cell_type": "markdown",
   "metadata": {},
   "source": [
    "# 징검다리 건너기\n",
    "220715\n",
    "- 2019 카카오 개발자 겨울 인턴십\n",
    "- 소감\n",
    "    - 다행히 문제이해 + 풀이 떠오르기까지 10분 조금 안 걸려서 무난하게 잘 풀음\n",
    "    - 돌들을 오름차순으로 정렬한 뒤 먼저 사라지는 애들부터 자기 앞의 돌에 union해줌(union-find)\n",
    "    - union 하면서 그룹의 사이즈를 관리\n",
    "- 소요 시간 : 39분"
   ]
  },
  {
   "cell_type": "code",
   "execution_count": null,
   "metadata": {},
   "outputs": [],
   "source": [
    "# 징검다리가 있는 개울을 만나서 건너편으로 건너가려고 함\n",
    "# 징검다리는 일렬. 징검다리의 디딤돌에는 숫자가 적혀 있고 한 번 밟을 때마다 1 씩 감소\n",
    "# 디딤돌 숫자가 0이 되면 밟을 수 없음 -> 그 다음 디딤돌로 한번에 여러 칸을 건너 뛸 수 있음\n",
    "# 밟을 수 있는 디딤돌이 여러개면 무조건 가장 가까운 디딤돌\n",
    "# 한 번에 한 명씩 징검다리 건넘.\n",
    "\n",
    "# 돌은 1번부터 n번까지 있으며, 0번에 발판이 있다고 하자\n",
    "def solution(stones, k):\n",
    "    group = list(range(len(stones)+1))\n",
    "    group_size = [1]*(len(stones)+1)\n",
    "    until_max = [1]\n",
    "    def find(a):\n",
    "        if group[a] != a:\n",
    "            group[a] = find(group[a])\n",
    "        return group[a]\n",
    "    def union(a, b):\n",
    "        group_a, group_b = find(a), find(b)\n",
    "        if group_a > group_b:\n",
    "            group_a, group_b = group_b, group_a \n",
    "        group[group_b] = group_a\n",
    "        group_size[group_a] += group_size[group_b]\n",
    "        if until_max[0] < group_size[group_a]:\n",
    "            until_max[0] = group_size[group_a]\n",
    "    \n",
    "    sorted_stones = sorted(enumerate(stones), key = lambda x: x[1]) # (인덱스, 밟을 수 있는 횟수)\n",
    "    \n",
    "    ans = 0\n",
    "    for ind, num in sorted_stones:\n",
    "        union(ind, ind+1)\n",
    "        # print(ind, num)\n",
    "        ans = num\n",
    "        if until_max[0] > k:\n",
    "            break\n",
    "    # print(sorted_stones)\n",
    "    # print(group, group_size, until_max)\n",
    "    return ans\n",
    "\n",
    "    # union(1, 2)\n",
    "    # union(2, 3)\n",
    "    # union(5, 6)\n",
    "    # union(3, 6)\n",
    "    # print(group, group_size, find(6))"
   ]
  }
 ],
 "metadata": {
  "kernelspec": {
   "display_name": "Python 3.8.8 ('base')",
   "language": "python",
   "name": "python3"
  },
  "language_info": {
   "name": "python",
   "version": "3.8.8"
  },
  "orig_nbformat": 4,
  "vscode": {
   "interpreter": {
    "hash": "f08154012ddadd8e950e6e9e035c7a7b32c136e7647e9b7c77e02eb723a8bedb"
   }
  }
 },
 "nbformat": 4,
 "nbformat_minor": 2
}
