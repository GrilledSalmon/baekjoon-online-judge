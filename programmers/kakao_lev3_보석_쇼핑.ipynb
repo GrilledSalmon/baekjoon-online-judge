{
 "cells": [
  {
   "cell_type": "markdown",
   "metadata": {},
   "source": [
    "# 보석 쇼핑\n",
    "220629\n",
    "- 2020 카카오 인턴십 lev3\n",
    "- 소감\n",
    "    - 카카오 lev3 치곤 그렇게 어렵진 않았던 것 같다.\n",
    "    - 카카오 문제들은 다양한 자료구조를 사용해야하는 문제들을 내는 것 같다.\n",
    "    - 처음에는 deque과 set를 사용하려고 했지만, deque은 사용할 필요 없었고, set은 dict로 바꿔서 사용했다. 지금 담고 있는 보석들의 개수를 파악하고 있어야 나중에 앞쪽에서 보석을 뺼 때 활용할 수 있기 떄문이다.\n",
    "- 소요 시간 : 30분\n",
    "- 알고리즘 분류(내 생각) : 그리디, 집합과 맵, 투 포인터"
   ]
  },
  {
   "cell_type": "code",
   "execution_count": null,
   "metadata": {},
   "outputs": [],
   "source": [
    "# 모든 종류의 보석을 적어도 1개 이상 포함하는 가장 짧은 구간을 찾아서 구매\n",
    "\n",
    "def solution(gems):\n",
    "    ans = [None, None]\n",
    "    \n",
    "    gem_cnt = 0 # 지금까지 고른 보석의 종류 수\n",
    "    now_info = dict() # 현재 구간에 어떤 보석이 몇개나 있는지\n",
    "    mini = 10**7\n",
    "    \n",
    "    gem_kind = set(gems)\n",
    "    gem_nums = len(gem_kind)\n",
    "    left = 0 # 고른 구간의 왼쪽 끝\n",
    "    \n",
    "    for gem in gem_kind:\n",
    "        now_info[gem] = 0\n",
    "    \n",
    "    for right, gem in enumerate(gems):\n",
    "        now_info[gem] += 1\n",
    "        if now_info[gem] == 1:\n",
    "            gem_cnt += 1\n",
    "        \n",
    "        if gem_cnt == gem_nums:\n",
    "            while now_info[gems[left]] > 1: # 고른 시작점(left) 이동 조건\n",
    "                now_info[gems[left]] -= 1\n",
    "                left += 1\n",
    "            if mini > (right - left):\n",
    "                mini = right-left\n",
    "                ans[0], ans[1] = left+1, right+1\n",
    "            \n",
    "    return ans"
   ]
  }
 ],
 "metadata": {
  "kernelspec": {
   "display_name": "Python 3.8.8 ('base')",
   "language": "python",
   "name": "python3"
  },
  "language_info": {
   "name": "python",
   "version": "3.8.8"
  },
  "orig_nbformat": 4,
  "vscode": {
   "interpreter": {
    "hash": "f08154012ddadd8e950e6e9e035c7a7b32c136e7647e9b7c77e02eb723a8bedb"
   }
  }
 },
 "nbformat": 4,
 "nbformat_minor": 2
}
