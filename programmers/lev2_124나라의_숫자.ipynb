{
 "cells": [
  {
   "cell_type": "markdown",
   "metadata": {},
   "source": [
    "# 124 나라의 숫자\n",
    "220711\n",
    "- lev 2\n",
    "- 소감\n",
    "    - 쉬울 줄 알고 풀었는데, 0이 없는 3진법이라 쉽지 않았다..;\n",
    "    - 사실 그냥 이것저것 해보다가 이렇게 하면 되려나? 해서 맞았다.\n",
    "    - 아니 근데 왜 리스트로 풀면 시간초과 나는데; -> 다시 해보니 되네..?\n",
    "- 소요 시간 : 35분"
   ]
  },
  {
   "cell_type": "code",
   "execution_count": null,
   "metadata": {},
   "outputs": [],
   "source": [
    "def solution(n):\n",
    "    ans = ''\n",
    "    conv = ['1', '2', '4']\n",
    "    ans_list = []\n",
    "    while True:\n",
    "        n -= 1\n",
    "        ans = conv[n%3] + ans\n",
    "        n //= 3\n",
    "        if n == 0:\n",
    "            break\n",
    "    \n",
    "    return ans"
   ]
  },
  {
   "cell_type": "code",
   "execution_count": null,
   "metadata": {},
   "outputs": [],
   "source": [
    "def solution(n):\n",
    "    ans = ''\n",
    "    conv = ['1', '2', '4']\n",
    "    ans_list = []\n",
    "    while True:\n",
    "        n -= 1\n",
    "        ans_list.append(conv[n%3])\n",
    "        n //= 3\n",
    "        if n == 0:\n",
    "            break\n",
    "    \n",
    "    return ''.join(map(str,ans_list[::-1]))"
   ]
  }
 ],
 "metadata": {
  "kernelspec": {
   "display_name": "Python 3.8.8 ('base')",
   "language": "python",
   "name": "python3"
  },
  "language_info": {
   "name": "python",
   "version": "3.8.8"
  },
  "orig_nbformat": 4,
  "vscode": {
   "interpreter": {
    "hash": "f08154012ddadd8e950e6e9e035c7a7b32c136e7647e9b7c77e02eb723a8bedb"
   }
  }
 },
 "nbformat": 4,
 "nbformat_minor": 2
}
