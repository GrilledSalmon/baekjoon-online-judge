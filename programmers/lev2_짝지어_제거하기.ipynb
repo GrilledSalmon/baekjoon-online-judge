{
 "cells": [
  {
   "cell_type": "markdown",
   "metadata": {},
   "source": [
    "# 짝지어 제거하기\n",
    "220711\n",
    "- 소감\n",
    "    - 8분컷;\n",
    "    - 문자열 폭발과 매우 유사하지만 좀 더 쉬움\n",
    "- 소요시간 : 8분"
   ]
  },
  {
   "cell_type": "code",
   "execution_count": null,
   "metadata": {},
   "outputs": [],
   "source": [
    "def solution(S):\n",
    "    \n",
    "    stack = []\n",
    "    for s in S:\n",
    "        if not stack:\n",
    "            stack.append(s)\n",
    "        else:\n",
    "            if stack[-1] == s:\n",
    "                stack.pop()\n",
    "            else:\n",
    "                stack.append(s)\n",
    "    \n",
    "    ans = 0 if stack else 1 \n",
    "    \n",
    "    return ans"
   ]
  }
 ],
 "metadata": {
  "kernelspec": {
   "display_name": "Python 3.8.8 ('base')",
   "language": "python",
   "name": "python3"
  },
  "language_info": {
   "name": "python",
   "version": "3.8.8"
  },
  "orig_nbformat": 4,
  "vscode": {
   "interpreter": {
    "hash": "f08154012ddadd8e950e6e9e035c7a7b32c136e7647e9b7c77e02eb723a8bedb"
   }
  }
 },
 "nbformat": 4,
 "nbformat_minor": 2
}
