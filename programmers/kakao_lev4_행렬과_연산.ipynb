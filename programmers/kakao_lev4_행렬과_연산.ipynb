{
 "cells": [
  {
   "cell_type": "markdown",
   "metadata": {},
   "source": [
    "# 행렬과 연산\n",
    "220821\n",
    "- 2022 KAKAO TECH INTERNSHIP\n",
    "- 소감\n",
    "    - 다 못풀었음. 아까워서 코드는 남겨놓음\n",
    "    - 풀이 봤는데 구현이 좀 귀찮아서 일단 이대로 종료"
   ]
  },
  {
   "cell_type": "code",
   "execution_count": null,
   "metadata": {},
   "outputs": [],
   "source": [
    "from collections import deque\n",
    "\n",
    "def move_hor(rc, is_west, R, C, prev_val):\n",
    "    \"\"\"가로 방향으로 이동.\"\"\"\n",
    "    u = [1, -1][is_west] # 진행 방향\n",
    "    r, c = [(0, 0), (R-1, C-1)][is_west] # 시작점\n",
    "    row = rc[r]\n",
    "    for _ in range(C-1):\n",
    "        prev_val, row[c] = row[c], prev_val\n",
    "        c += u\n",
    "    return prev_val\n",
    "\n",
    "def move_ver(rc, is_north, R, C, prev_val):\n",
    "    \"\"\"세로 방향으로 이동\"\"\"\n",
    "    if not is_north: # 남쪽\n",
    "        for i, row in enumerate(rc):\n",
    "            if i == R-1: return prev_val\n",
    "            prev_val, row[-1] = row[-1], prev_val\n",
    "    else:\n",
    "        prev_row = rc[0]\n",
    "        for i, row in enumerate(rc):\n",
    "            prev_row[0], prev_row = row[0], row\n",
    "            \n",
    "        row[0] = prev_val\n",
    "        return None\n",
    "\n",
    "def rotate_matrix(rc, R, C):\n",
    "    prev_val = rc[1][0] # 첫 이전 값\n",
    "    for direction in range(4): # 동, 남, 서, 북\n",
    "        if direction%2 == 0: # 동, 서\n",
    "            is_west = direction//2\n",
    "            prev_val = move_hor(rc, is_west, R, C, prev_val)\n",
    "        else: # 남, 북\n",
    "            is_north = direction//2\n",
    "            prev_val = move_ver(rc, is_north, R, C, prev_val)\n",
    "\n",
    "\n",
    "def solution(rc, operations):\n",
    "    R = len(rc)\n",
    "    C = len(rc[0])\n",
    "    rc_queue = deque(rc)\n",
    "\n",
    "    for op in operations:\n",
    "        if op[0] == 'S': # ShiftRow\n",
    "            rc_queue.rotate()\n",
    "        else: # Rotate\n",
    "            rotate_matrix(rc_queue, R, C)\n",
    "\n",
    "    return list(rc_queue)"
   ]
  }
 ],
 "metadata": {
  "kernelspec": {
   "display_name": "Python 3.8.8 ('base')",
   "language": "python",
   "name": "python3"
  },
  "language_info": {
   "codemirror_mode": {
    "name": "ipython",
    "version": 3
   },
   "file_extension": ".py",
   "mimetype": "text/x-python",
   "name": "python",
   "nbconvert_exporter": "python",
   "pygments_lexer": "ipython3",
   "version": "3.8.8"
  },
  "orig_nbformat": 4,
  "vscode": {
   "interpreter": {
    "hash": "f08154012ddadd8e950e6e9e035c7a7b32c136e7647e9b7c77e02eb723a8bedb"
   }
  }
 },
 "nbformat": 4,
 "nbformat_minor": 2
}
