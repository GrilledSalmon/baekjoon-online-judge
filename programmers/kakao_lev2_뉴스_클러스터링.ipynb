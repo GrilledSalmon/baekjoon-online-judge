{
 "cells": [
  {
   "cell_type": "markdown",
   "metadata": {},
   "source": [
    "# 뉴스 클러스터링\n",
    "220705\n",
    "- 2018 KAKAO BLIND RECRUITMENT lev 2\n",
    "- 소감\n",
    "    - 문제를 읽고 한번에 이해하지 못해서 푸는 데 조금 더 걸렸다.\n",
    "    - 중복이 허용되는 집합이라는 것을 알고 있어야 하고, 중복 집합에서는 합집합, 교집합이 어떻게 계산되는지 알고 있어야 한다.\n",
    "    - 집합에 대해 얼마나 잘 이해하고 있나 확인하고 있는지, 복잡한 글을 어떻게 잘 이해하는지, 구현은 잘 하는지 확인하고 싶어하는 문제였음\n",
    "- 소요 시간 : 27분\n",
    "- 알고리즘 분류(뇌피셜) : 집합과 맵, 구현"
   ]
  },
  {
   "cell_type": "code",
   "execution_count": null,
   "metadata": {},
   "outputs": [],
   "source": [
    "NUM = 65536\n",
    "\n",
    "def make_dict(str_):\n",
    "    \"\"\"문자열(str_)을 넣으면 자카드 유사도를 위한 다중집합 생성\"\"\"\n",
    "    dict_ = dict()\n",
    "    for i in range(len(str_)-1):\n",
    "        now_str = str_[i:i+2].lower()\n",
    "        if now_str.isalpha():\n",
    "            if now_str in dict_:\n",
    "                dict_[now_str] += 1\n",
    "            else:\n",
    "                dict_[now_str] = 1\n",
    "    return dict_\n",
    "\n",
    "def solution(str1, str2):\n",
    "    dict_1 = make_dict(str1)\n",
    "    dict_2 = make_dict(str2)\n",
    "    \n",
    "    inter = 0\n",
    "    uni = 0\n",
    "    inter_set = set() # 교집합\n",
    "    for k in dict_1.keys():\n",
    "        val1, val2 = dict_1[k], dict_2.get(k, 0)\n",
    "        inter += min(val1, val2)\n",
    "        uni += max(val1, val2)\n",
    "        if val2:\n",
    "            inter_set.add(k)\n",
    "    \n",
    "    for k in dict_2.keys():\n",
    "        if k not in inter_set:\n",
    "            uni += dict_2[k]\n",
    "    \n",
    "    if uni:\n",
    "        ans = int(inter/uni * NUM)\n",
    "    else:\n",
    "        ans = NUM\n",
    "        \n",
    "    return ans"
   ]
  }
 ],
 "metadata": {
  "kernelspec": {
   "display_name": "Python 3.8.8 ('base')",
   "language": "python",
   "name": "python3"
  },
  "language_info": {
   "name": "python",
   "version": "3.8.8"
  },
  "orig_nbformat": 4,
  "vscode": {
   "interpreter": {
    "hash": "f08154012ddadd8e950e6e9e035c7a7b32c136e7647e9b7c77e02eb723a8bedb"
   }
  }
 },
 "nbformat": 4,
 "nbformat_minor": 2
}
