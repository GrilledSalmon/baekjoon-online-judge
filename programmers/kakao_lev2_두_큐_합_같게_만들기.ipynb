{
 "cells": [
  {
   "cell_type": "markdown",
   "metadata": {},
   "source": [
    "# 두 큐 합 같게 만들기\n",
    "220820\n",
    "- 2022 KAKAO TECH INTERNSHIP\n",
    "- 소감\n",
    "    - 풀긴 풀었는데 찜찜쓰...\n",
    "    - 처음에 문제를 잘못 이해해서 겁나 오래 걸림\n",
    "- 소요 시간 : 1시간 20분"
   ]
  },
  {
   "cell_type": "code",
   "execution_count": 11,
   "metadata": {},
   "outputs": [],
   "source": [
    "from collections import deque\n",
    "\n",
    "def solution(queue1, queue2):\n",
    "    ans = 0\n",
    "    l = len(queue1)\n",
    "    sum1 = sum(queue1)\n",
    "    sum2 = sum(queue2)\n",
    "    queue1 = deque(queue1)\n",
    "    queue2 = deque(queue2)\n",
    "\n",
    "    while sum1 != sum2:\n",
    "        if sum1 > sum2:\n",
    "            val = queue1.popleft()\n",
    "            queue2.append(val)\n",
    "            sum1 -= val\n",
    "            sum2 += val\n",
    "        else:\n",
    "            val = queue2.popleft()\n",
    "            queue1.append(val)\n",
    "            sum1 += val\n",
    "            sum2 -= val\n",
    "        if ans > l*2+1:\n",
    "            ans = -1\n",
    "            break\n",
    "        ans += 1\n",
    "    return ans"
   ]
  },
  {
   "cell_type": "code",
   "execution_count": 18,
   "metadata": {},
   "outputs": [],
   "source": [
    "queue1 = [1, 2, 1, 2]\n",
    "queue2 = [1, 10, 1, 2]"
   ]
  },
  {
   "cell_type": "code",
   "execution_count": 19,
   "metadata": {},
   "outputs": [
    {
     "data": {
      "text/plain": [
       "7"
      ]
     },
     "execution_count": 19,
     "metadata": {},
     "output_type": "execute_result"
    }
   ],
   "source": [
    "solution(queue1, queue2)"
   ]
  },
  {
   "cell_type": "code",
   "execution_count": null,
   "metadata": {},
   "outputs": [],
   "source": []
  }
 ],
 "metadata": {
  "interpreter": {
   "hash": "f08154012ddadd8e950e6e9e035c7a7b32c136e7647e9b7c77e02eb723a8bedb"
  },
  "kernelspec": {
   "display_name": "Python 3.8.8 ('base')",
   "language": "python",
   "name": "python3"
  },
  "language_info": {
   "codemirror_mode": {
    "name": "ipython",
    "version": 3
   },
   "file_extension": ".py",
   "mimetype": "text/x-python",
   "name": "python",
   "nbconvert_exporter": "python",
   "pygments_lexer": "ipython3",
   "version": "3.8.8"
  },
  "orig_nbformat": 4
 },
 "nbformat": 4,
 "nbformat_minor": 2
}
