{
 "cells": [
  {
   "cell_type": "markdown",
   "metadata": {},
   "source": [
    "## 불량 사용자\n",
    "2019 카카오 개발자 겨울 인턴십  \n",
    "220610 \n",
    "- 소감\n",
    "    - 수가 작아서 좀 무식하게 풀었다. 모든 경우의 수를 담았음\n",
    "    - 어떤 itertools를 쓸지 알고 있다면 조금 더 빨리 풀 수 있었을 것 같다. 파악하면 좋을듯.\n",
    "- 소요 시간 : 23분"
   ]
  },
  {
   "cell_type": "code",
   "execution_count": null,
   "metadata": {},
   "outputs": [],
   "source": [
    "from itertools import product\n",
    "import re\n",
    "\n",
    "def solution(user_id, banned_id):    \n",
    "    candi_list = [[] for _ in range(len(banned_id))]\n",
    "\n",
    "    for i, b_id in enumerate(banned_id):\n",
    "        c = ''\n",
    "        for s in b_id:\n",
    "            if s == '*':\n",
    "                c += '.'\n",
    "            else:\n",
    "                c += s\n",
    "        comp = re.compile(c)\n",
    "        for id in user_id:\n",
    "            if comp.fullmatch(id):\n",
    "                candi_list[i].append(id)\n",
    "\n",
    "    ans_set = set()\n",
    "    for case in product(*candi_list):\n",
    "        if len(set(case)) == len(banned_id):\n",
    "            ans_set.add(tuple(sorted(case)))\n",
    "            \n",
    "    return len(ans_set)"
   ]
  },
  {
   "cell_type": "code",
   "execution_count": 4,
   "metadata": {},
   "outputs": [],
   "source": [
    "user_id = [\"frodo\", \"fradi\", \"crodo\", \"abc123\", \"frodoc\"]\n",
    "banned_id = [\"fr*d*\", \"*rodo\", \"******\", \"******\"]"
   ]
  },
  {
   "cell_type": "code",
   "execution_count": 25,
   "metadata": {},
   "outputs": [
    {
     "name": "stdout",
     "output_type": "stream",
     "text": [
      "3\n"
     ]
    }
   ],
   "source": [
    "from itertools import product\n",
    "import re\n",
    "candi_list = [[] for _ in range(len(banned_id))]\n",
    "\n",
    "for i, b_id in enumerate(banned_id):\n",
    "    c = ''\n",
    "    for s in b_id:\n",
    "        if s == '*':\n",
    "            c += '.'\n",
    "        else:\n",
    "            c += s\n",
    "    comp = re.compile(c)\n",
    "    for id in user_id:\n",
    "        if comp.fullmatch(id):\n",
    "            candi_list[i].append(id)\n",
    "\n",
    "ans_set = set()\n",
    "for case in product(*candi_list):\n",
    "    if len(set(case)) == len(banned_id):\n",
    "        ans_set.add(tuple(sorted(case)))\n",
    "\n",
    "print(len(ans_set))"
   ]
  },
  {
   "cell_type": "code",
   "execution_count": 26,
   "metadata": {},
   "outputs": [
    {
     "data": {
      "text/plain": [
       "{('abc123', 'crodo', 'fradi', 'frodoc'),\n",
       " ('abc123', 'crodo', 'frodo', 'frodoc'),\n",
       " ('abc123', 'fradi', 'frodo', 'frodoc')}"
      ]
     },
     "execution_count": 26,
     "metadata": {},
     "output_type": "execute_result"
    }
   ],
   "source": [
    "ans_set"
   ]
  },
  {
   "cell_type": "code",
   "execution_count": 9,
   "metadata": {},
   "outputs": [
    {
     "data": {
      "text/plain": [
       "['__doc__',\n",
       " '__loader__',\n",
       " '__name__',\n",
       " '__package__',\n",
       " '__spec__',\n",
       " '_grouper',\n",
       " '_tee',\n",
       " '_tee_dataobject',\n",
       " 'accumulate',\n",
       " 'chain',\n",
       " 'combinations',\n",
       " 'combinations_with_replacement',\n",
       " 'compress',\n",
       " 'count',\n",
       " 'cycle',\n",
       " 'dropwhile',\n",
       " 'filterfalse',\n",
       " 'groupby',\n",
       " 'islice',\n",
       " 'permutations',\n",
       " 'product',\n",
       " 'repeat',\n",
       " 'starmap',\n",
       " 'takewhile',\n",
       " 'tee',\n",
       " 'zip_longest']"
      ]
     },
     "execution_count": 9,
     "metadata": {},
     "output_type": "execute_result"
    }
   ],
   "source": [
    "dir(itertools)"
   ]
  },
  {
   "cell_type": "code",
   "execution_count": 20,
   "metadata": {},
   "outputs": [
    {
     "data": {
      "text/plain": [
       "<itertools.product at 0x208f4919dc0>"
      ]
     },
     "execution_count": 20,
     "metadata": {},
     "output_type": "execute_result"
    }
   ],
   "source": [
    "itertools.product(*candi_list)"
   ]
  },
  {
   "cell_type": "code",
   "execution_count": 21,
   "metadata": {},
   "outputs": [
    {
     "name": "stdout",
     "output_type": "stream",
     "text": [
      "('frodo', 'frodo', 'abc123', 'abc123')\n",
      "('frodo', 'frodo', 'abc123', 'frodoc')\n",
      "('frodo', 'frodo', 'frodoc', 'abc123')\n",
      "('frodo', 'frodo', 'frodoc', 'frodoc')\n",
      "('frodo', 'crodo', 'abc123', 'abc123')\n",
      "('frodo', 'crodo', 'abc123', 'frodoc')\n",
      "('frodo', 'crodo', 'frodoc', 'abc123')\n",
      "('frodo', 'crodo', 'frodoc', 'frodoc')\n",
      "('fradi', 'frodo', 'abc123', 'abc123')\n",
      "('fradi', 'frodo', 'abc123', 'frodoc')\n",
      "('fradi', 'frodo', 'frodoc', 'abc123')\n",
      "('fradi', 'frodo', 'frodoc', 'frodoc')\n",
      "('fradi', 'crodo', 'abc123', 'abc123')\n",
      "('fradi', 'crodo', 'abc123', 'frodoc')\n",
      "('fradi', 'crodo', 'frodoc', 'abc123')\n",
      "('fradi', 'crodo', 'frodoc', 'frodoc')\n"
     ]
    }
   ],
   "source": [
    "for h in itertools.product(*candi_list):\n",
    "    print(h)"
   ]
  },
  {
   "cell_type": "code",
   "execution_count": 18,
   "metadata": {},
   "outputs": [
    {
     "data": {
      "text/plain": [
       "[['frodo', 'fradi'],\n",
       " ['frodo', 'crodo'],\n",
       " ['abc123', 'frodoc'],\n",
       " ['abc123', 'frodoc']]"
      ]
     },
     "execution_count": 18,
     "metadata": {},
     "output_type": "execute_result"
    }
   ],
   "source": [
    "candi_list"
   ]
  },
  {
   "cell_type": "code",
   "execution_count": 14,
   "metadata": {},
   "outputs": [
    {
     "name": "stdout",
     "output_type": "stream",
     "text": [
      "\u001b[1;31mInit signature:\u001b[0m \u001b[0mitertools\u001b[0m\u001b[1;33m.\u001b[0m\u001b[0mproduct\u001b[0m\u001b[1;33m(\u001b[0m\u001b[0mself\u001b[0m\u001b[1;33m,\u001b[0m \u001b[1;33m/\u001b[0m\u001b[1;33m,\u001b[0m \u001b[1;33m*\u001b[0m\u001b[0margs\u001b[0m\u001b[1;33m,\u001b[0m \u001b[1;33m**\u001b[0m\u001b[0mkwargs\u001b[0m\u001b[1;33m)\u001b[0m\u001b[1;33m\u001b[0m\u001b[1;33m\u001b[0m\u001b[0m\n",
      "\u001b[1;31mDocstring:\u001b[0m     \n",
      "product(*iterables, repeat=1) --> product object\n",
      "\n",
      "Cartesian product of input iterables.  Equivalent to nested for-loops.\n",
      "\n",
      "For example, product(A, B) returns the same as:  ((x,y) for x in A for y in B).\n",
      "The leftmost iterators are in the outermost for-loop, so the output tuples\n",
      "cycle in a manner similar to an odometer (with the rightmost element changing\n",
      "on every iteration).\n",
      "\n",
      "To compute the product of an iterable with itself, specify the number\n",
      "of repetitions with the optional repeat keyword argument. For example,\n",
      "product(A, repeat=4) means the same as product(A, A, A, A).\n",
      "\n",
      "product('ab', range(3)) --> ('a',0) ('a',1) ('a',2) ('b',0) ('b',1) ('b',2)\n",
      "product((0,1), (0,1), (0,1)) --> (0,0,0) (0,0,1) (0,1,0) (0,1,1) (1,0,0) ...\n",
      "\u001b[1;31mType:\u001b[0m           type\n",
      "\u001b[1;31mSubclasses:\u001b[0m     \n"
     ]
    }
   ],
   "source": [
    "itertools()"
   ]
  }
 ],
 "metadata": {
  "interpreter": {
   "hash": "f08154012ddadd8e950e6e9e035c7a7b32c136e7647e9b7c77e02eb723a8bedb"
  },
  "kernelspec": {
   "display_name": "Python 3.8.8 ('base')",
   "language": "python",
   "name": "python3"
  },
  "language_info": {
   "codemirror_mode": {
    "name": "ipython",
    "version": 3
   },
   "file_extension": ".py",
   "mimetype": "text/x-python",
   "name": "python",
   "nbconvert_exporter": "python",
   "pygments_lexer": "ipython3",
   "version": "3.8.8"
  },
  "orig_nbformat": 4
 },
 "nbformat": 4,
 "nbformat_minor": 2
}
