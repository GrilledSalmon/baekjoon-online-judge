{
 "cells": [
  {
   "cell_type": "markdown",
   "metadata": {},
   "source": [
    "# 다단계 칫솔 판매\n",
    "220819\n",
    "- 2021 Dev-Match 웹 백엔드 개발자(상반기)\n",
    "- 별로 시간초과 신경쓸 것도 없고 그냥 구현하면 되는 문제\n",
    "- 소요 시간 : 15분"
   ]
  },
  {
   "cell_type": "code",
   "execution_count": null,
   "metadata": {},
   "outputs": [],
   "source": [
    "def transfer(profit, sell_person, parent, res_dic):\n",
    "    if sell_person == '-' or profit == 0:\n",
    "        return\n",
    "    give_profit = profit//10\n",
    "    res_dic[sell_person] += profit - give_profit\n",
    "    transfer(give_profit, parent[sell_person], parent, res_dic)\n",
    "    \n",
    "def solution(enroll, referral, seller, amount):\n",
    "    ans = []\n",
    "    parent = dict()\n",
    "    res_dic = dict()\n",
    "    for i in range(len(enroll)):\n",
    "        person = enroll[i]\n",
    "        parent[person] = referral[i]\n",
    "        res_dic[person] = 0\n",
    "    \n",
    "    for i in range(len(seller)):\n",
    "        profit = amount[i]*100\n",
    "        sell_person = seller[i]\n",
    "        transfer(profit, sell_person, parent, res_dic)\n",
    "    \n",
    "    for person in enroll:\n",
    "        ans.append(res_dic[person])\n",
    "\n",
    "    return ans"
   ]
  },
  {
   "cell_type": "code",
   "execution_count": null,
   "metadata": {},
   "outputs": [],
   "source": []
  }
 ],
 "metadata": {
  "kernelspec": {
   "display_name": "Python 3.8.8 ('base')",
   "language": "python",
   "name": "python3"
  },
  "language_info": {
   "name": "python",
   "version": "3.8.8"
  },
  "orig_nbformat": 4,
  "vscode": {
   "interpreter": {
    "hash": "f08154012ddadd8e950e6e9e035c7a7b32c136e7647e9b7c77e02eb723a8bedb"
   }
  }
 },
 "nbformat": 4,
 "nbformat_minor": 2
}
