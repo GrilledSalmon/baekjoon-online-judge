{
 "cells": [
  {
   "cell_type": "markdown",
   "metadata": {},
   "source": [
    "# 메뉴 리뉴얼\n",
    "2021 kakao blind recruitment / 220603\n",
    "- 소감\n",
    "    - 기분이 좋지 않다.. 야심차게 풀었는데 시간 초과... 그러고서 풀이도 떠오르지 않음..\n",
    "    - 승원이의 풀이에 비해 내가 처음에 시도한 방법이 훨씬 느릴줄은 생각하지 못했다.. 풀이를 알고 있는 지금도 시간복잡도의 차이가 정확하게 와닿지 않는다..\n",
    "    - 아무래도 처음 시도했던 게 모든 메뉴에 대해 경우의 수를 구하다보니 시간복잡도가 훨씬 높았다보다..\n",
    "- 소요 시간 : 2시간 가까이"
   ]
  },
  {
   "cell_type": "code",
   "execution_count": null,
   "metadata": {},
   "outputs": [],
   "source": [
    "# 통과한 코드\n",
    "from collections import Counter\n",
    "from itertools import combinations as cb\n",
    "\n",
    "def solution(orders, course):\n",
    "    course_list = []\n",
    "    for order in orders:\n",
    "        for menu_num in course:\n",
    "            course_list.extend(map(lambda x : ''.join(sorted(x)), (cb(order, menu_num))))\n",
    "\n",
    "    cnt_res = Counter(course_list).items()\n",
    "    ans = []\n",
    "    for menu_num in course:\n",
    "        temp = []\n",
    "        maxi = 1\n",
    "        for case, cnt in cnt_res:\n",
    "            if len(case) == menu_num:\n",
    "                if cnt > maxi:\n",
    "                    temp = [case]\n",
    "                    maxi = cnt\n",
    "                elif maxi > 1 and maxi == cnt:\n",
    "                    temp.append(case)\n",
    "        ans.extend(temp)\n",
    "\n",
    "    ans.sort()\n",
    "    \n",
    "    return ans"
   ]
  },
  {
   "cell_type": "code",
   "execution_count": null,
   "metadata": {},
   "outputs": [],
   "source": [
    "# 시간초과 난 코드\n",
    "from collections import Counter\n",
    "from itertools import combinations\n",
    "\n",
    "def set_to_bit(s):\n",
    "    res = 0\n",
    "    for alph in s:\n",
    "        res += 1 << ord(alph)-65\n",
    "    return res\n",
    "\n",
    "def solution(orders, course):\n",
    "    orders_set = list(map(set, orders))\n",
    "    orders_set = list(map(set_to_bit, orders_set))\n",
    "    \n",
    "    menu_cnt = Counter(''.join(orders))\n",
    "    menus = menu_cnt.keys()\n",
    "\n",
    "    def is_sub_set(a, b):\n",
    "        \"\"\"a가 b의 부분집합인지 확인\"\"\"\n",
    "        if (a & b) == a:\n",
    "            return True\n",
    "        return False\n",
    "\n",
    "    def most_popular_course(n):\n",
    "        \"\"\"n개의 단품으로 구성된 코스 중 가장 인기 있는 코스 리턴\"\"\"\n",
    "        maxi = 1\n",
    "        max_courses = []\n",
    "        for case in combinations(menus, n):\n",
    "            course = set(case)\n",
    "            temp = set_to_bit(set(case))\n",
    "            cnt = 0\n",
    "            for order in orders_set:\n",
    "                if is_sub_set(temp, order):\n",
    "                    cnt += 1\n",
    "            if cnt > maxi:\n",
    "                maxi = cnt\n",
    "                max_courses = [course]\n",
    "            elif maxi > 1 and maxi == cnt:\n",
    "                max_courses.append(course)\n",
    "        \n",
    "        return max_courses\n",
    "\n",
    "    ans_list = []\n",
    "    for course_num in course:\n",
    "        ans_list.extend(most_popular_course(course_num))\n",
    "\n",
    "    ans = list(map(lambda x:''.join(sorted(x)), ans_list))\n",
    "    ans.sort()\n",
    "    \n",
    "    return ans"
   ]
  },
  {
   "cell_type": "code",
   "execution_count": 1,
   "metadata": {},
   "outputs": [],
   "source": [
    "from collections import Counter\n",
    "from itertools import combinations\n",
    "\n",
    "def solution(orders, course):\n",
    "    orders_set = list(map(set, orders))\n",
    "    \n",
    "    menu_cnt = Counter(''.join(orders))\n",
    "    popular_menu = set()\n",
    "    for menu in menu_cnt:\n",
    "        if menu_cnt[menu] > 1:\n",
    "            popular_menu.add(menu)\n",
    "\n",
    "    def is_sub_set(a, b):\n",
    "        \"\"\"a가 b의 부분집합인지 확인\"\"\"\n",
    "        if len(a-b) == 0:\n",
    "            return True\n",
    "        return False\n",
    "\n",
    "    def most_popular_course(n):\n",
    "        \"\"\"n개의 단품으로 구성된 코스 중 가장 인기 있는 코스 리턴\"\"\"\n",
    "        maxi = 0\n",
    "        max_courses = []\n",
    "        for case in combinations(popular_menu, n):\n",
    "            course = set(case)\n",
    "            cnt = 0\n",
    "            for order in orders_set:\n",
    "                if is_sub_set(course, order):\n",
    "                    cnt += 1\n",
    "            if cnt > maxi:\n",
    "                maxi = cnt\n",
    "                max_courses = [course]\n",
    "            elif maxi and maxi == cnt:\n",
    "                max_courses.append(course)\n",
    "        return max_courses\n",
    "\n",
    "    ans_list = []\n",
    "    for course_num in course:\n",
    "        ans_list.extend(most_popular_course(course_num))\n",
    "\n",
    "    ans = list(map(lambda x:''.join(sorted(x)), ans_list))\n",
    "    ans.sort()\n",
    "    \n",
    "    return ans"
   ]
  },
  {
   "cell_type": "code",
   "execution_count": 36,
   "metadata": {},
   "outputs": [],
   "source": [
    "from collections import Counter\n",
    "from itertools import combinations\n",
    "orders = [\"ABCDE\", \"AB\", \"CD\", \"ADE\", \"XYZ\", \"XYZ\", \"ACD\"]\n",
    "orders_set = list(map(set, orders))\n",
    "course = [2,3,5]"
   ]
  },
  {
   "cell_type": "code",
   "execution_count": 39,
   "metadata": {},
   "outputs": [
    {
     "name": "stdout",
     "output_type": "stream",
     "text": [
      "['ABCDE', 'ACD', 'AD', 'ADE', 'CD', 'XYZ']\n"
     ]
    }
   ],
   "source": [
    "menu_cnt = Counter(''.join(orders))\n",
    "popular_menu = set()\n",
    "for menu in menu_cnt:\n",
    "    if menu_cnt[menu] > 1:\n",
    "        popular_menu.add(menu)\n",
    "\n",
    "def is_sub_set(a, b):\n",
    "    \"\"\"a가 b의 부분집합인지 확인\"\"\"\n",
    "    if len(a-b) == 0:\n",
    "        return True\n",
    "    return False\n",
    "\n",
    "def most_popular_course(n):\n",
    "    \"\"\"n개의 단품으로 구성된 코스 중 가장 인기 있는 코스 리턴\"\"\"\n",
    "    maxi = 0\n",
    "    max_courses = []\n",
    "    for case in combinations(popular_menu, n):\n",
    "        course = set(case)\n",
    "        cnt = 0\n",
    "        for order in orders_set:\n",
    "            if is_sub_set(course, order):\n",
    "                cnt += 1\n",
    "        if cnt > maxi:\n",
    "            maxi = cnt\n",
    "            max_courses = [course]\n",
    "        elif maxi and maxi == cnt:\n",
    "            max_courses.append(course)\n",
    "    return max_courses\n",
    "\n",
    "ans_list = []\n",
    "for course_num in course:\n",
    "    ans_list.extend(most_popular_course(course_num))\n",
    "\n",
    "ans = list(map(lambda x:''.join(sorted(x)), ans_list))\n",
    "ans.sort()\n",
    "print(ans)"
   ]
  },
  {
   "cell_type": "code",
   "execution_count": 38,
   "metadata": {},
   "outputs": [
    {
     "data": {
      "text/plain": [
       "[{'C', 'D'},\n",
       " {'A', 'D'},\n",
       " {'X', 'Y', 'Z'},\n",
       " {'A', 'C', 'D'},\n",
       " {'A', 'D', 'E'},\n",
       " {'A', 'B', 'C', 'D', 'E'}]"
      ]
     },
     "execution_count": 38,
     "metadata": {},
     "output_type": "execute_result"
    }
   ],
   "source": [
    "ans_list"
   ]
  },
  {
   "cell_type": "code",
   "execution_count": 40,
   "metadata": {},
   "outputs": [
    {
     "data": {
      "text/plain": [
       "{'A', 'B', 'C', 'D', 'E', 'X', 'Y', 'Z'}"
      ]
     },
     "execution_count": 40,
     "metadata": {},
     "output_type": "execute_result"
    }
   ],
   "source": [
    "popular_menu"
   ]
  },
  {
   "cell_type": "code",
   "execution_count": 85,
   "metadata": {},
   "outputs": [],
   "source": [
    "from collections import Counter\n",
    "from itertools import combinations\n",
    "\n",
    "def possible_menu(n, menu_cnt):\n",
    "    \"\"\"n번 이상 사용된 메뉴만 리턴\"\"\"\n",
    "    res = []\n",
    "    for menu in menu_cnt:\n",
    "        if menu_cnt[menu] >= n:\n",
    "            res.append(menu)\n",
    "    return res\n",
    "\n",
    "\n",
    "def solution(orders, course):\n",
    "    orders_set = list(map(set, orders))\n",
    "    \n",
    "    menu_cnt = Counter(''.join(orders))\n",
    "    menus = menu_cnt.keys()\n",
    "\n",
    "    def is_sub_set(a, b):\n",
    "        \"\"\"a가 b의 부분집합인지 확인\"\"\"\n",
    "        if len(a-b) == 0:\n",
    "            return True\n",
    "        return False\n",
    "\n",
    "    def most_popular_course(n):\n",
    "        \"\"\"n개의 단품으로 구성된 코스 중 가장 인기 있는 코스 리턴\"\"\"\n",
    "        maxi = 1\n",
    "        max_courses = []\n",
    "        poss_menu = possible_menu(n, menu_cnt)\n",
    "        for case in combinations(poss_menu, n):\n",
    "            course = set(case)\n",
    "            cnt = 0\n",
    "            for order in orders_set:\n",
    "                if is_sub_set(course, order):\n",
    "                    cnt += 1\n",
    "            if cnt > maxi:\n",
    "                maxi = cnt\n",
    "                max_courses = [course]\n",
    "            elif maxi > 1 and maxi == cnt:\n",
    "                max_courses.append(course)\n",
    "        \n",
    "        return max_courses\n",
    "\n",
    "    ans_list = []\n",
    "    for course_num in course:\n",
    "        ans_list.extend(most_popular_course(course_num))\n",
    "\n",
    "    ans = list(map(lambda x:''.join(sorted(x)), ans_list))\n",
    "    ans.sort()\n",
    "    \n",
    "    return ans"
   ]
  },
  {
   "cell_type": "code",
   "execution_count": 86,
   "metadata": {},
   "outputs": [
    {
     "data": {
      "text/plain": [
       "['ACD', 'AD', 'CD']"
      ]
     },
     "execution_count": 86,
     "metadata": {},
     "output_type": "execute_result"
    }
   ],
   "source": [
    "solution(orders, course)"
   ]
  },
  {
   "cell_type": "code",
   "execution_count": 82,
   "metadata": {},
   "outputs": [
    {
     "data": {
      "text/plain": [
       "['A', 'B', 'C', 'D', 'E', 'X', 'Y', 'Z']"
      ]
     },
     "execution_count": 82,
     "metadata": {},
     "output_type": "execute_result"
    }
   ],
   "source": [
    "possible_menu(2, menu_cnt)"
   ]
  },
  {
   "cell_type": "code",
   "execution_count": 72,
   "metadata": {},
   "outputs": [],
   "source": [
    "from collections import Counter\n",
    "from itertools import combinations\n",
    "\n",
    "def set_to_bit(s):\n",
    "    res = 0\n",
    "    for alph in s:\n",
    "        res += 1 << ord(alph)-65\n",
    "    return res\n",
    "\n",
    "def solution(orders, course):\n",
    "    orders_set = list(map(set, orders))\n",
    "    orders_set = list(map(set_to_bit, orders_set))\n",
    "    \n",
    "    menu_cnt = Counter(''.join(orders))\n",
    "    menus = menu_cnt.keys()\n",
    "\n",
    "    def is_sub_set(a, b):\n",
    "        \"\"\"a가 b의 부분집합인지 확인\"\"\"\n",
    "        if (a & b) == a:\n",
    "            return True\n",
    "        return False\n",
    "\n",
    "    def most_popular_course(n):\n",
    "        \"\"\"n개의 단품으로 구성된 코스 중 가장 인기 있는 코스 리턴\"\"\"\n",
    "        maxi = 1\n",
    "        max_courses = []\n",
    "        for case in combinations(menus, n):\n",
    "            course = set(case)\n",
    "            temp = set_to_bit(set(case))\n",
    "            cnt = 0\n",
    "            for order in orders_set:\n",
    "                if is_sub_set(temp, order):\n",
    "                    cnt += 1\n",
    "            if cnt > maxi:\n",
    "                maxi = cnt\n",
    "                max_courses = [course]\n",
    "            elif maxi > 1 and maxi == cnt:\n",
    "                max_courses.append(course)\n",
    "        \n",
    "        return max_courses\n",
    "\n",
    "    ans_list = []\n",
    "    for course_num in course:\n",
    "        ans_list.extend(most_popular_course(course_num))\n",
    "\n",
    "    ans = list(map(lambda x:''.join(sorted(x)), ans_list))\n",
    "    ans.sort()\n",
    "    \n",
    "    return ans"
   ]
  },
  {
   "cell_type": "code",
   "execution_count": 84,
   "metadata": {},
   "outputs": [
    {
     "ename": "TypeError",
     "evalue": "'dict_keys' object is not subscriptable",
     "output_type": "error",
     "traceback": [
      "\u001b[1;31m---------------------------------------------------------------------------\u001b[0m",
      "\u001b[1;31mTypeError\u001b[0m                                 Traceback (most recent call last)",
      "\u001b[1;32m<ipython-input-84-9262f4b7d2c3>\u001b[0m in \u001b[0;36m<module>\u001b[1;34m\u001b[0m\n\u001b[1;32m----> 1\u001b[1;33m \u001b[0msolution\u001b[0m\u001b[1;33m(\u001b[0m\u001b[0morders\u001b[0m\u001b[1;33m,\u001b[0m \u001b[0mcourse\u001b[0m\u001b[1;33m)\u001b[0m\u001b[1;33m\u001b[0m\u001b[1;33m\u001b[0m\u001b[0m\n\u001b[0m",
      "\u001b[1;32m<ipython-input-83-8e2c85ae70b0>\u001b[0m in \u001b[0;36msolution\u001b[1;34m(orders, course)\u001b[0m\n\u001b[0;32m     44\u001b[0m     \u001b[0mans_list\u001b[0m \u001b[1;33m=\u001b[0m \u001b[1;33m[\u001b[0m\u001b[1;33m]\u001b[0m\u001b[1;33m\u001b[0m\u001b[1;33m\u001b[0m\u001b[0m\n\u001b[0;32m     45\u001b[0m     \u001b[1;32mfor\u001b[0m \u001b[0mcourse_num\u001b[0m \u001b[1;32min\u001b[0m \u001b[0mcourse\u001b[0m\u001b[1;33m:\u001b[0m\u001b[1;33m\u001b[0m\u001b[1;33m\u001b[0m\u001b[0m\n\u001b[1;32m---> 46\u001b[1;33m         \u001b[0mans_list\u001b[0m\u001b[1;33m.\u001b[0m\u001b[0mextend\u001b[0m\u001b[1;33m(\u001b[0m\u001b[0mmost_popular_course\u001b[0m\u001b[1;33m(\u001b[0m\u001b[0mcourse_num\u001b[0m\u001b[1;33m)\u001b[0m\u001b[1;33m)\u001b[0m\u001b[1;33m\u001b[0m\u001b[1;33m\u001b[0m\u001b[0m\n\u001b[0m\u001b[0;32m     47\u001b[0m \u001b[1;33m\u001b[0m\u001b[0m\n\u001b[0;32m     48\u001b[0m     \u001b[0mans\u001b[0m \u001b[1;33m=\u001b[0m \u001b[0mlist\u001b[0m\u001b[1;33m(\u001b[0m\u001b[0mmap\u001b[0m\u001b[1;33m(\u001b[0m\u001b[1;32mlambda\u001b[0m \u001b[0mx\u001b[0m\u001b[1;33m:\u001b[0m\u001b[1;34m''\u001b[0m\u001b[1;33m.\u001b[0m\u001b[0mjoin\u001b[0m\u001b[1;33m(\u001b[0m\u001b[0msorted\u001b[0m\u001b[1;33m(\u001b[0m\u001b[0mx\u001b[0m\u001b[1;33m)\u001b[0m\u001b[1;33m)\u001b[0m\u001b[1;33m,\u001b[0m \u001b[0mans_list\u001b[0m\u001b[1;33m)\u001b[0m\u001b[1;33m)\u001b[0m\u001b[1;33m\u001b[0m\u001b[1;33m\u001b[0m\u001b[0m\n",
      "\u001b[1;32m<ipython-input-83-8e2c85ae70b0>\u001b[0m in \u001b[0;36mmost_popular_course\u001b[1;34m(n)\u001b[0m\n\u001b[0;32m     28\u001b[0m         \u001b[0mmax_courses\u001b[0m \u001b[1;33m=\u001b[0m \u001b[1;33m[\u001b[0m\u001b[1;33m]\u001b[0m\u001b[1;33m\u001b[0m\u001b[1;33m\u001b[0m\u001b[0m\n\u001b[0;32m     29\u001b[0m \u001b[1;33m\u001b[0m\u001b[0m\n\u001b[1;32m---> 30\u001b[1;33m         \u001b[1;32mfor\u001b[0m \u001b[0mcase\u001b[0m \u001b[1;32min\u001b[0m \u001b[0mcombinations\u001b[0m\u001b[1;33m(\u001b[0m\u001b[0mpossible_menu\u001b[0m\u001b[1;33m(\u001b[0m\u001b[0mn\u001b[0m\u001b[1;33m,\u001b[0m \u001b[0mmenus\u001b[0m\u001b[1;33m)\u001b[0m\u001b[1;33m,\u001b[0m \u001b[0mn\u001b[0m\u001b[1;33m)\u001b[0m\u001b[1;33m:\u001b[0m\u001b[1;33m\u001b[0m\u001b[1;33m\u001b[0m\u001b[0m\n\u001b[0m\u001b[0;32m     31\u001b[0m             \u001b[0mcourse\u001b[0m \u001b[1;33m=\u001b[0m \u001b[0mset\u001b[0m\u001b[1;33m(\u001b[0m\u001b[0mcase\u001b[0m\u001b[1;33m)\u001b[0m\u001b[1;33m\u001b[0m\u001b[1;33m\u001b[0m\u001b[0m\n\u001b[0;32m     32\u001b[0m             \u001b[0mcnt\u001b[0m \u001b[1;33m=\u001b[0m \u001b[1;36m0\u001b[0m\u001b[1;33m\u001b[0m\u001b[1;33m\u001b[0m\u001b[0m\n",
      "\u001b[1;32m<ipython-input-83-8e2c85ae70b0>\u001b[0m in \u001b[0;36mpossible_menu\u001b[1;34m(n, menu_cnt)\u001b[0m\n\u001b[0;32m      6\u001b[0m     \u001b[0mres\u001b[0m \u001b[1;33m=\u001b[0m \u001b[1;33m[\u001b[0m\u001b[1;33m]\u001b[0m\u001b[1;33m\u001b[0m\u001b[1;33m\u001b[0m\u001b[0m\n\u001b[0;32m      7\u001b[0m     \u001b[1;32mfor\u001b[0m \u001b[0mmenu\u001b[0m \u001b[1;32min\u001b[0m \u001b[0mmenu_cnt\u001b[0m\u001b[1;33m:\u001b[0m\u001b[1;33m\u001b[0m\u001b[1;33m\u001b[0m\u001b[0m\n\u001b[1;32m----> 8\u001b[1;33m         \u001b[1;32mif\u001b[0m \u001b[0mmenu_cnt\u001b[0m\u001b[1;33m[\u001b[0m\u001b[0mmenu\u001b[0m\u001b[1;33m]\u001b[0m \u001b[1;33m>=\u001b[0m \u001b[0mn\u001b[0m\u001b[1;33m:\u001b[0m\u001b[1;33m\u001b[0m\u001b[1;33m\u001b[0m\u001b[0m\n\u001b[0m\u001b[0;32m      9\u001b[0m             \u001b[0mres\u001b[0m\u001b[1;33m.\u001b[0m\u001b[0mappend\u001b[0m\u001b[1;33m(\u001b[0m\u001b[0mmenu\u001b[0m\u001b[1;33m)\u001b[0m\u001b[1;33m\u001b[0m\u001b[1;33m\u001b[0m\u001b[0m\n\u001b[0;32m     10\u001b[0m     \u001b[1;32mreturn\u001b[0m \u001b[0mres\u001b[0m\u001b[1;33m\u001b[0m\u001b[1;33m\u001b[0m\u001b[0m\n",
      "\u001b[1;31mTypeError\u001b[0m: 'dict_keys' object is not subscriptable"
     ]
    }
   ],
   "source": [
    "solution(orders, course)"
   ]
  },
  {
   "cell_type": "code",
   "execution_count": 87,
   "metadata": {},
   "outputs": [
    {
     "data": {
      "text/plain": [
       "184756"
      ]
     },
     "execution_count": 87,
     "metadata": {},
     "output_type": "execute_result"
    }
   ],
   "source": [
    "def facto(n):\n",
    "    if n < 1:\n",
    "        return 1\n",
    "    return n * facto(n-1)\n",
    "def combi(n, r):\n",
    "    return  facto(n) // (facto(n-r) * facto(r))\n",
    "\n",
    "combi(20, 10)"
   ]
  },
  {
   "cell_type": "code",
   "execution_count": 91,
   "metadata": {},
   "outputs": [],
   "source": [
    "from itertools import combinations\n",
    "from collections import Counter\n",
    "\n",
    "def solution(orders, course):\n",
    "\n",
    "    food_comb_tmp = []\n",
    "    answer = []\n",
    "    for order in orders:\n",
    "        for i in range(2, len(order)+1):\n",
    "            tmps = list(combinations(list(order), i))\n",
    "            for tmp in tmps:\n",
    "                food_comb_tmp.append(''.join(sorted(tmp)))\n",
    "\n",
    "    food_comb = dict(Counter(food_comb_tmp))\n",
    "    food_comb = sorted(food_comb.items(), key=lambda x:(len(x[0]), -x[1]))\n",
    "    print(food_comb)\n",
    "\n",
    "    for num in course:\n",
    "        max = 0\n",
    "        for food in food_comb:\n",
    "            if food[1] == 1:\n",
    "                continue\n",
    "            if len(food[0]) == num and food[1] >= max:\n",
    "                max = food[1]\n",
    "                answer.append(food[0])\n",
    "\n",
    "    return sorted(answer)"
   ]
  },
  {
   "cell_type": "code",
   "execution_count": 92,
   "metadata": {},
   "outputs": [
    {
     "name": "stdout",
     "output_type": "stream",
     "text": [
      "[('AD', 3), ('CD', 3), ('AB', 2), ('AC', 2), ('AE', 2), ('DE', 2), ('XY', 2), ('XZ', 2), ('YZ', 2), ('BC', 1), ('BD', 1), ('BE', 1), ('CE', 1), ('ACD', 2), ('ADE', 2), ('XYZ', 2), ('ABC', 1), ('ABD', 1), ('ABE', 1), ('ACE', 1), ('BCD', 1), ('BCE', 1), ('BDE', 1), ('CDE', 1), ('ABCD', 1), ('ABCE', 1), ('ABDE', 1), ('ACDE', 1), ('BCDE', 1), ('ABCDE', 1)]\n"
     ]
    },
    {
     "data": {
      "text/plain": [
       "['ACD', 'AD', 'ADE', 'CD', 'XYZ']"
      ]
     },
     "execution_count": 92,
     "metadata": {},
     "output_type": "execute_result"
    }
   ],
   "source": [
    "solution(orders, course)"
   ]
  },
  {
   "cell_type": "code",
   "execution_count": 93,
   "metadata": {},
   "outputs": [
    {
     "data": {
      "text/plain": [
       "(['ABCDE', 'AB', 'CD', 'ADE', 'XYZ', 'XYZ', 'ACD'], [2, 3, 5])"
      ]
     },
     "execution_count": 93,
     "metadata": {},
     "output_type": "execute_result"
    }
   ],
   "source": [
    "orders, course"
   ]
  },
  {
   "cell_type": "code",
   "execution_count": 104,
   "metadata": {},
   "outputs": [
    {
     "name": "stdout",
     "output_type": "stream",
     "text": [
      "['ACD', 'AD', 'ADE', 'CD', 'XYZ']\n"
     ]
    }
   ],
   "source": [
    "from collections import Counter\n",
    "from itertools import combinations as cb\n",
    "course_list = []\n",
    "for order in orders:\n",
    "    for menu_num in course:\n",
    "        course_list.extend(map(lambda x : ''.join(sorted(x)), (cb(order, menu_num))))\n",
    "\n",
    "cnt_res = Counter(course_list).items()\n",
    "ans = []\n",
    "for menu_num in course:\n",
    "    temp = []\n",
    "    maxi = 1\n",
    "    for case, cnt in cnt_res:\n",
    "        if len(case) == menu_num:\n",
    "            if cnt > maxi:\n",
    "                temp = [case]\n",
    "                maxi = cnt\n",
    "            elif maxi > 1 and maxi == cnt:\n",
    "                temp.append(case)\n",
    "    ans.extend(temp)\n",
    "\n",
    "ans.sort()\n",
    "print(ans)\n",
    "\n",
    "        "
   ]
  },
  {
   "cell_type": "code",
   "execution_count": 105,
   "metadata": {},
   "outputs": [
    {
     "data": {
      "text/plain": [
       "Counter({'AB': 2,\n",
       "         'AC': 2,\n",
       "         'AD': 3,\n",
       "         'AE': 2,\n",
       "         'BC': 1,\n",
       "         'BD': 1,\n",
       "         'BE': 1,\n",
       "         'CD': 3,\n",
       "         'CE': 1,\n",
       "         'DE': 2,\n",
       "         'ABC': 1,\n",
       "         'ABD': 1,\n",
       "         'ABE': 1,\n",
       "         'ACD': 2,\n",
       "         'ACE': 1,\n",
       "         'ADE': 2,\n",
       "         'BCD': 1,\n",
       "         'BCE': 1,\n",
       "         'BDE': 1,\n",
       "         'CDE': 1,\n",
       "         'ABCDE': 1,\n",
       "         'XY': 2,\n",
       "         'XZ': 2,\n",
       "         'YZ': 2,\n",
       "         'XYZ': 2})"
      ]
     },
     "execution_count": 105,
     "metadata": {},
     "output_type": "execute_result"
    }
   ],
   "source": [
    "Counter(course_list)"
   ]
  },
  {
   "cell_type": "code",
   "execution_count": null,
   "metadata": {},
   "outputs": [],
   "source": []
  }
 ],
 "metadata": {
  "interpreter": {
   "hash": "f08154012ddadd8e950e6e9e035c7a7b32c136e7647e9b7c77e02eb723a8bedb"
  },
  "kernelspec": {
   "display_name": "Python 3.8.8 ('base')",
   "language": "python",
   "name": "python3"
  },
  "language_info": {
   "codemirror_mode": {
    "name": "ipython",
    "version": 3
   },
   "file_extension": ".py",
   "mimetype": "text/x-python",
   "name": "python",
   "nbconvert_exporter": "python",
   "pygments_lexer": "ipython3",
   "version": "3.8.8"
  },
  "orig_nbformat": 4
 },
 "nbformat": 4,
 "nbformat_minor": 2
}
