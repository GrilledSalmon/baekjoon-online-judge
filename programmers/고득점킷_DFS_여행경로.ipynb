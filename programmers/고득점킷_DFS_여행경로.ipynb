{
 "cells": [
  {
   "cell_type": "markdown",
   "metadata": {},
   "source": [
    "# 여행경로\n",
    "220622\n",
    "- 프로그래머스 고득점킷 깊이/너비 우선 탐색(BFS/DFS) Lev3\n",
    "- 소감\n",
    "    - 꽤 어려웠다. 그래프를 처음 써보는 방식으로 표현해봤다. 자료구조에 대한 상당한 이해가 필요한 것 같다.\n",
    "    - 어떤 티켓을 사용했는지 알아야 하고 모두 사용해야 했기 때문에 티켓 사용 후 복구해주는 방식으로 백트래킹을 사용했다.\n",
    "    - 그래도 다행히 시간 안에 풀기는 했음\n",
    "- 소요 시간 : 37분"
   ]
  },
  {
   "cell_type": "code",
   "execution_count": null,
   "metadata": {},
   "outputs": [],
   "source": [
    "import sys\n",
    "sys.setrecursionlimit(100000)\n",
    "ans = []\n",
    "\n",
    "def preprocessing(tickets):\n",
    "    \"\"\"adj_dict를 리턴\"\"\"\n",
    "    adj_dict = {}\n",
    "    for a, b in tickets:\n",
    "        if a in adj_dict:\n",
    "            if b in adj_dict[a]:\n",
    "                adj_dict[a][b] += 1\n",
    "            else:\n",
    "                adj_dict[a][b] = 1\n",
    "        else:\n",
    "             adj_dict[a] = {b : 1}   \n",
    "    \n",
    "    return adj_dict\n",
    "\n",
    "def back_tracking(now_node, adj_dict, total_tickets, used_tickets=0, path = ['ICN']):\n",
    "    if used_tickets == total_tickets:\n",
    "        ans.append(path.copy())\n",
    "    else:\n",
    "        if now_node in adj_dict:\n",
    "            for adj_node, cnt in adj_dict[now_node].items():\n",
    "                if cnt:\n",
    "                    adj_dict[now_node][adj_node] -= 1\n",
    "                    path.append(adj_node)\n",
    "                    back_tracking(adj_node, adj_dict, total_tickets, used_tickets+1, path)\n",
    "                    path.pop()\n",
    "                    adj_dict[now_node][adj_node] += 1\n",
    "\n",
    "def solution(tickets):\n",
    "    total_tickets = len(tickets)\n",
    "    adj_dict = preprocessing(tickets)\n",
    "    back_tracking('ICN', adj_dict, total_tickets)\n",
    "    ans.sort()\n",
    "    \n",
    "    return ans[0]"
   ]
  }
 ],
 "metadata": {
  "language_info": {
   "name": "python"
  },
  "orig_nbformat": 4
 },
 "nbformat": 4,
 "nbformat_minor": 2
}
