{
 "cells": [
  {
   "cell_type": "markdown",
   "metadata": {},
   "source": [
    "# 성격 유형 검사하기\n",
    "2022 KAKAO TECH INTERNSHIP\n",
    "220820\n",
    "- level 1\n",
    "- 소요 시간 : 15분"
   ]
  },
  {
   "cell_type": "code",
   "execution_count": 1,
   "metadata": {},
   "outputs": [],
   "source": [
    "def solution(survey, choices):\n",
    "    ans = ''\n",
    "    features = [(\"R\", \"T\"), (\"C\", \"F\"), (\"J\", \"M\"), (\"A\", \"N\")]\n",
    "    points = dict()\n",
    "    for a, b in features:\n",
    "        points[a], points[b] = 0, 0\n",
    "    \n",
    "    for i in range(len(survey)):\n",
    "        surv, choi = survey[i], choices[i]\n",
    "        if choi <= 3:\n",
    "            points[surv[0]] += 4 - choi\n",
    "        else:\n",
    "            points[surv[1]] += choi - 4\n",
    "\n",
    "    for a, b in features:\n",
    "        if points[a] >= points[b]:\n",
    "            ans += a\n",
    "        else:\n",
    "            ans += b\n",
    "\n",
    "    return ans"
   ]
  },
  {
   "cell_type": "code",
   "execution_count": null,
   "metadata": {},
   "outputs": [],
   "source": []
  }
 ],
 "metadata": {
  "kernelspec": {
   "display_name": "Python 3.8.8 ('base')",
   "language": "python",
   "name": "python3"
  },
  "language_info": {
   "codemirror_mode": {
    "name": "ipython",
    "version": 3
   },
   "file_extension": ".py",
   "mimetype": "text/x-python",
   "name": "python",
   "nbconvert_exporter": "python",
   "pygments_lexer": "ipython3",
   "version": "3.8.8"
  },
  "orig_nbformat": 4,
  "vscode": {
   "interpreter": {
    "hash": "f08154012ddadd8e950e6e9e035c7a7b32c136e7647e9b7c77e02eb723a8bedb"
   }
  }
 },
 "nbformat": 4,
 "nbformat_minor": 2
}
