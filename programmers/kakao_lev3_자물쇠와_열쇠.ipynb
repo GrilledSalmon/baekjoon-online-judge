{
 "cells": [
  {
   "cell_type": "markdown",
   "metadata": {},
   "source": [
    "# 자물쇠와 열쇠\n",
    "220627\n",
    "- 2020 KAKAO BLIND RECRUITMENT lev3\n",
    "- 소감\n",
    "    - 일단 무식하게 구현해봄\n",
    "    - 컨디션 안 좋았으면 나도 못 풀었을듯\n",
    "    - shift 함수 구현하는 게 중요 포인트였던듯\n",
    "    - 다른 풀이가 더 효율적이긴 한듯(padding 만들어서 이동)\n",
    "- 소요 시간 : 42분"
   ]
  },
  {
   "cell_type": "code",
   "execution_count": null,
   "metadata": {},
   "outputs": [],
   "source": [
    "def turn90(key):\n",
    "    \"\"\"key를 90도 시계방향 회전\"\"\"\n",
    "    M = len(key)\n",
    "    res = []\n",
    "    for col in range(M):\n",
    "        temp = []\n",
    "        for row in range(M):\n",
    "            temp.append(key[-1-row][col])\n",
    "        res.append(temp)\n",
    "    return res\n",
    "\n",
    "def shift(key, p, q, N):\n",
    "    \"\"\"key를 아래쪽으로 p만큼, 오른쪽으로 q만큼 이동\"\"\"\n",
    "    M = len(key)\n",
    "    case = [[0]*N for _ in range(N)]\n",
    "    \n",
    "    for row in range(M):\n",
    "        n_row = row + p\n",
    "        if 0<=n_row<N:\n",
    "            for col in range(M):\n",
    "                n_col = col+q\n",
    "                if 0<=n_col<N:\n",
    "                    case[n_row][n_col] = key[row][col]\n",
    "    return case\n",
    "    \n",
    "def is_open(key, lock, hole_cnt):\n",
    "    \"\"\"key가 lock에 맞는지\"\"\"\n",
    "    N = len(lock)\n",
    "    for row in range(N):\n",
    "        for col in range(N):\n",
    "            k = key[row][col]\n",
    "            l = lock[row][col]\n",
    "            if k and not l: # 딱 맞음\n",
    "                hole_cnt -= 1\n",
    "            elif k and l: # 엇맞음\n",
    "                return False\n",
    "            elif not k and l:\n",
    "                continue\n",
    "            else:\n",
    "                return False\n",
    "    if hole_cnt == 0:\n",
    "        return True\n",
    "    return False\n",
    "\n",
    "def solution(key, lock):\n",
    "    hole_cnt = 0\n",
    "    N = len(lock)\n",
    "    for row in range(N):\n",
    "        for col in range(N):\n",
    "            if not lock[row][col]:\n",
    "                hole_cnt += 1\n",
    "\n",
    "    for i in range(4):\n",
    "        if i == 0:\n",
    "            key = key\n",
    "        else:\n",
    "            key = turn90(key)\n",
    "        for p in range(-N+1, N):\n",
    "            for q in range(-N+1, N):\n",
    "                now_key = shift(key, p, q, N)\n",
    "                if is_open(now_key, lock, hole_cnt):\n",
    "                    return True\n",
    "    \n",
    "    return False"
   ]
  }
 ],
 "metadata": {
  "kernelspec": {
   "display_name": "Python 3.8.8 ('base')",
   "language": "python",
   "name": "python3"
  },
  "language_info": {
   "name": "python",
   "version": "3.8.8"
  },
  "orig_nbformat": 4,
  "vscode": {
   "interpreter": {
    "hash": "f08154012ddadd8e950e6e9e035c7a7b32c136e7647e9b7c77e02eb723a8bedb"
   }
  }
 },
 "nbformat": 4,
 "nbformat_minor": 2
}
