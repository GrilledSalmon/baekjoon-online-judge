{
 "cells": [
  {
   "cell_type": "markdown",
   "metadata": {},
   "source": [
    "# k진수에서 소수 개수 구하기\n",
    "2022 KAKAO Blind recruit\n",
    "220520\n",
    "- 소감 : 메모리 초과가 런타임에러로 뜨는지는 몰랐다...\n",
    "- level 2"
   ]
  },
  {
   "cell_type": "code",
   "execution_count": null,
   "metadata": {},
   "outputs": [],
   "source": [
    "from collections import deque\n",
    "\n",
    "def convert(n, k):\n",
    "    \"\"\"n을 k진수로 변환\"\"\"\n",
    "    converted_num = deque()\n",
    "    while n > 0:\n",
    "        converted_num.appendleft(n%k)\n",
    "        n //= k\n",
    "    return converted_num\n",
    "\n",
    "def make_prime_list(num):\n",
    "    \"\"\"소수 리스트를 만들어줌\"\"\"\n",
    "    num = int(num**(0.5)) + 1\n",
    "\n",
    "    ls = [1]*(num+1) # 소수 리스트 만들기\n",
    "    ls[0], ls[1] = 0, 0\n",
    "    primes = []\n",
    "    for i in range(num+1):\n",
    "        if ls[i]: # 소수이면\n",
    "            primes.append(i)\n",
    "            for j in range(2*i, num+1, i):\n",
    "                ls[j] = 0\n",
    "    return primes\n",
    "\n",
    "def is_prime(num, primes):\n",
    "    if num < 2:\n",
    "        return False\n",
    "    for prime in primes:\n",
    "        if num == prime:\n",
    "            return True\n",
    "        if num % prime == 0:\n",
    "            return False\n",
    "    return True\n",
    "\n",
    "def solution(n, k):\n",
    "\n",
    "    converted_num = convert(n, k)\n",
    "\n",
    "    splited = ''.join(map(str, converted_num)).split('0')\n",
    "\n",
    "    nums = []\n",
    "    for num in splited:\n",
    "        if num: # 비어있지 않은 경우만\n",
    "            nums.append(int(num))\n",
    "\n",
    "    max_num = max(nums)\n",
    "\n",
    "    primes = make_prime_list(max_num)\n",
    "\n",
    "    ans = 0\n",
    "    for num in nums:\n",
    "        if is_prime(num, primes):\n",
    "            ans += 1\n",
    "    \n",
    "    return ans"
   ]
  }
 ],
 "metadata": {
  "language_info": {
   "name": "python"
  },
  "orig_nbformat": 4
 },
 "nbformat": 4,
 "nbformat_minor": 2
}
