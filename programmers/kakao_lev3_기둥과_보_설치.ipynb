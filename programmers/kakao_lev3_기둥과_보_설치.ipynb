{
 "cells": [
  {
   "cell_type": "markdown",
   "metadata": {},
   "source": [
    "# 기둥과 보 설치\n",
    "220708\n",
    "- 2020 KAKAO BLIND RECRUITMENT lev3\n",
    "- 소감\n",
    "    - 아이디어는 금방 생각했는데, 자잘자잘한 실수가 굉장히 많았다... 실수 안 했으면 45~50분정도 걸렸을듯\n",
    "    - 주요 실수는 다음과 같다\n",
    "        - 좌표 잘못 생각하기\n",
    "        - 위에서 선언한 변수 또 선언해서 변수 바꿔치기 하기;;;;;;\n",
    "    - 다른 건 몰라도 변수 또 선언하는 건.....;;;; 앞으로 변수 선언할 때 조심하고 변수 짧게 선언할 땐 조심해야겠다..\n",
    "- 소요 시간 : 1시간 25분\n",
    "- 알고리즘 분류(뇌피셜) : 구현, 시뮬레이션"
   ]
  },
  {
   "cell_type": "code",
   "execution_count": null,
   "metadata": {},
   "outputs": [],
   "source": [
    "# x, y, a, b\n",
    "# a : 기둥 or 보(0, 1) / b : 삭제 or 설치(0, 1)\n",
    "# struct에 y값 뒤집어서 쌓이는 거 조심\n",
    "KI = 0\n",
    "BO = 1\n",
    "\n",
    "def solution(n, build_frame):\n",
    "    answer = []\n",
    "    struct = [[[0, 0] for _ in range(n+1)] for _ in range(n+1)] # 각 좌표 (기둥, 보) 존재 여부\n",
    "    \n",
    "    def install_possible(x, y, bo):\n",
    "        if bo: # 보\n",
    "            if struct[y-1][x][KI] or struct[y-1][x+1][KI] or (struct[y][x-1][BO] and struct[y][x+1][BO]):\n",
    "                return True\n",
    "        else: # 기둥\n",
    "            if y == 0 or struct[y][x][BO] or struct[y][x-1][BO] or struct[y-1][x][KI]:\n",
    "                return True\n",
    "        return False\n",
    "    \n",
    "    def remove_possible(x, y, bo):\n",
    "        \"\"\"일단 삭제해보고 영향 받는 애가 설치가 가능한지 판별\"\"\"\n",
    "        struct[y][x][bo] = 0\n",
    "        possible = True\n",
    "        if bo: # 보\n",
    "            check = [(x-1, y, BO), (x+1, y, BO), (x, y, KI), (x+1, y, KI)]\n",
    "        else: # 기둥\n",
    "            check = [(x-1, y+1, BO), (x, y+1, BO), (x, y+1, KI)]\n",
    "        for x_c, y_c, b in check:\n",
    "            if struct[y_c][x_c][b] and not install_possible(x_c, y_c, b):\n",
    "                possible = False\n",
    "                break\n",
    "        \n",
    "        struct[y][x][bo] = 1 # 원상복구\n",
    "        return possible\n",
    "    \n",
    "    for x, y, bo, install in build_frame:\n",
    "        if install:\n",
    "            if install_possible(x, y, bo):\n",
    "                struct[y][x][bo] = 1\n",
    "        else:\n",
    "            if remove_possible(x, y, bo):\n",
    "                struct[y][x][bo] = 0\n",
    "    \n",
    "    # make answer\n",
    "    for x in range(n+1):\n",
    "        for y in range(n+1):\n",
    "            for bo in range(2):\n",
    "                if struct[y][x][bo]:\n",
    "                    answer.append([x, y, bo])\n",
    "    \n",
    "    return answer"
   ]
  }
 ],
 "metadata": {
  "kernelspec": {
   "display_name": "Python 3.8.8 ('base')",
   "language": "python",
   "name": "python3"
  },
  "language_info": {
   "name": "python",
   "version": "3.8.8"
  },
  "orig_nbformat": 4,
  "vscode": {
   "interpreter": {
    "hash": "f08154012ddadd8e950e6e9e035c7a7b32c136e7647e9b7c77e02eb723a8bedb"
   }
  }
 },
 "nbformat": 4,
 "nbformat_minor": 2
}
