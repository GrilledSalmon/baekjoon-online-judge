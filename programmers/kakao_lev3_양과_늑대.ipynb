{
 "cells": [
  {
   "cell_type": "markdown",
   "metadata": {},
   "source": [
    "# 양과 늑대\n",
    "220822\n",
    "- 2022 KAKAO BLIND RECRUITMENT\n",
    "- 소감\n",
    "    - 풀긴 했는데 좀 정신없이 풀어서 어떻게 풀었는지 모르겠음...^^\n",
    "    - 일단 양, 늑대 숫자 범위가 좁아서 list copy를 사용하거나 좀 무식하게 풀어도 되겠다는 생각이 들었음. 그래도 어렵긴 함\n",
    "    - 핵심 아이디어\n",
    "        - DFS로 각 노드들을 방문\n",
    "        - 양의 수가 더 많아 방문이 가능한 경우에만 방문\n",
    "        - 양 노드에 방문하면 그 위치를 기준으로 모든 노드의 visited를 해제하고 새롭게 DFS(양을 얻으면 못가던 곳을 갈 수도 있기 때문)\n",
    "- 소요 시간 : 3시간?\n",
    "- 알고리즘 분류(뇌피셜) : DFS, 백트래킹, 그리디"
   ]
  },
  {
   "cell_type": "code",
   "execution_count": 22,
   "metadata": {},
   "outputs": [],
   "source": [
    "info = [0,0,1,1,1,0,1,0,1,0,1,1] \n",
    "edges = [[0,1],[1,2],[1,4],[0,8],[8,7],[9,10],[9,11],[4,3],[6,5],[4,6],[8,9]]\n",
    "info = [0,1,0,1,1,0,1,0,0,1,0]\n",
    "edges = [[0,1],[0,2],[1,3],[1,4],[2,5],[2,6],[3,7],[4,8],[6,9],[9,10]]"
   ]
  },
  {
   "cell_type": "code",
   "execution_count": 29,
   "metadata": {},
   "outputs": [],
   "source": [
    "# 0 양, 1 늑대\n",
    "# 0이 루트노드\n",
    "def solution(info, edges):\n",
    "    adj_list = [[] for _ in range(len(info))]\n",
    "    for a, b in edges:\n",
    "        adj_list[a].append(b)\n",
    "        adj_list[b].append(a)\n",
    "    \n",
    "    start_status = [0]*len(info)\n",
    "    start_status[0] = 1\n",
    "    max_sheep = [1]\n",
    "    def transfer(status=start_status, start_node=0, sheeps=1, wolves=0):\n",
    "        \"\"\"status : 어떤 양과 늑대를 데리고 있는지\n",
    "           start_node : 시작하는 노드\n",
    "           sheeps : 데리고 있는 양 수\n",
    "           wolves : 데리고 있는 늑대 수\"\"\"\n",
    "        max_sheep[0] = max(max_sheep[0], sheeps)\n",
    "        visited = [0]*len(info)\n",
    "        visited[start_node] = 1\n",
    "\n",
    "        stack = [(start_node, sheeps, wolves, status.copy())]\n",
    "        while stack:\n",
    "            now_node, now_sheeps, now_wolves, now_status = stack.pop()\n",
    "            for adj_node in adj_list[now_node]:\n",
    "                if not now_status[adj_node]: # 데리고 있는 양 or 늑대가 아니라면\n",
    "                    if not info[adj_node]: # 양인 경우\n",
    "                        now_status[adj_node] = 1\n",
    "                        transfer(now_status.copy(), adj_node, now_sheeps+1, now_wolves)\n",
    "                        now_status[adj_node] = 0\n",
    "                    elif now_sheeps > now_wolves+1: # 늑대지만 데리고 있을 수 있는 경우\n",
    "                        now_status[adj_node] = 1\n",
    "                        visited[adj_node] = 1\n",
    "                        stack.append((adj_node, now_sheeps, now_wolves+1, now_status.copy()))\n",
    "                        now_status[adj_node] = 0\n",
    "                else: # 이미 데리고 있는 애라면\n",
    "                    if not visited[adj_node]:\n",
    "                        visited[adj_node] = 1\n",
    "                        stack.append((adj_node, now_sheeps, now_wolves, now_status.copy()))\n",
    "    transfer()\n",
    "\n",
    "    return max_sheep[0]"
   ]
  },
  {
   "cell_type": "code",
   "execution_count": 30,
   "metadata": {},
   "outputs": [
    {
     "data": {
      "text/plain": [
       "5"
      ]
     },
     "execution_count": 30,
     "metadata": {},
     "output_type": "execute_result"
    }
   ],
   "source": [
    "solution(info, edges)"
   ]
  },
  {
   "cell_type": "code",
   "execution_count": 4,
   "metadata": {},
   "outputs": [
    {
     "data": {
      "text/plain": [
       "355687428096000"
      ]
     },
     "execution_count": 4,
     "metadata": {},
     "output_type": "execute_result"
    }
   ],
   "source": [
    "def facto(n):\n",
    "    if n == 1:\n",
    "        return 1\n",
    "    return n*facto(n-1)\n",
    "facto(17)"
   ]
  },
  {
   "cell_type": "code",
   "execution_count": null,
   "metadata": {},
   "outputs": [],
   "source": []
  }
 ],
 "metadata": {
  "interpreter": {
   "hash": "8cc51f7a6f9663e4a057df8e9ab0b3750994a36584b90d61db68aa71b39bfa78"
  },
  "kernelspec": {
   "display_name": "Python 3.8.5 ('base')",
   "language": "python",
   "name": "python3"
  },
  "language_info": {
   "codemirror_mode": {
    "name": "ipython",
    "version": 3
   },
   "file_extension": ".py",
   "mimetype": "text/x-python",
   "name": "python",
   "nbconvert_exporter": "python",
   "pygments_lexer": "ipython3",
   "version": "3.8.5"
  },
  "orig_nbformat": 4,
  "vscode": {
   "interpreter": {
    "hash": "f08154012ddadd8e950e6e9e035c7a7b32c136e7647e9b7c77e02eb723a8bedb"
   }
  }
 },
 "nbformat": 4,
 "nbformat_minor": 2
}
