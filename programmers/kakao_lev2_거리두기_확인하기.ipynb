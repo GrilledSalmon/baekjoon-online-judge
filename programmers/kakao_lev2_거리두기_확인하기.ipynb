{
 "cells": [
  {
   "cell_type": "markdown",
   "metadata": {},
   "source": [
    "# 거리두기 확인하기 - lev2\n",
    "2021 카카오 채용연계형 인턴십\n",
    "- 소감\n",
    "    - 숫자 범위가 작아서 시간복잡도는 크게 고려하지 않았다.\n",
    "    - BFS를 사용하는 간단한 문제"
   ]
  },
  {
   "cell_type": "code",
   "execution_count": 3,
   "metadata": {},
   "outputs": [],
   "source": [
    "from collections import deque\n",
    "\n",
    "n = 5\n",
    "\n",
    "def good(s_row, s_col, place):\n",
    "    visited = [[0]*n for _ in range(n)]\n",
    "    queue = deque([(s_row, s_col)])\n",
    "    visited[s_row][s_col] = 1\n",
    "    dist = 0\n",
    "    while dist < 2:\n",
    "        for _ in range(len(queue)):\n",
    "            row, col = queue.popleft()\n",
    "            for adj_row, adj_col in ((row+1, col), (row-1, col), (row, col+1), (row, col-1)):\n",
    "                if 0<=adj_row<n and 0<=adj_col<n and not visited[adj_row][adj_col] and place[adj_row][adj_col] != 'X':\n",
    "                    if place[adj_row][adj_col] == 'P': # 거리두기 거리 이내에 사람이 앉은 경우\n",
    "                        return False\n",
    "                    visited[adj_row][adj_col] = 1\n",
    "                    queue.append((adj_row, adj_col))\n",
    "        dist += 1\n",
    "    return True\n",
    "\n",
    "\n",
    "def check_class(place):\n",
    "    for row in range(n):\n",
    "        for col in range(n):\n",
    "            if place[row][col] == 'P':\n",
    "                if not good(row, col, place):\n",
    "                    return False\n",
    "    return True\n",
    "\n",
    "def solution(places):\n",
    "    ans = []\n",
    "\n",
    "    for place in places:\n",
    "        if check_class(place):\n",
    "            ans.append(1)\n",
    "        else:\n",
    "            ans.append(0)\n",
    "\n",
    "    return ans"
   ]
  },
  {
   "cell_type": "code",
   "execution_count": 4,
   "metadata": {},
   "outputs": [
    {
     "data": {
      "text/plain": [
       "[1, 0, 1, 1, 1]"
      ]
     },
     "execution_count": 4,
     "metadata": {},
     "output_type": "execute_result"
    }
   ],
   "source": [
    "places = [[\"POOOP\", \"OXXOX\", \"OPXPX\", \"OOXOX\", \"POXXP\"], [\"POOPX\", \"OXPXP\", \"PXXXO\", \"OXXXO\", \"OOOPP\"], [\"PXOPX\", \"OXOXP\", \"OXPOX\", \"OXXOP\", \"PXPOX\"], [\"OOOXX\", \"XOOOX\", \"OOOXX\", \"OXOOX\", \"OOOOO\"], [\"PXPXP\", \"XPXPX\", \"PXPXP\", \"XPXPX\", \"PXPXP\"]]\n",
    "solution(places)"
   ]
  }
 ],
 "metadata": {
  "interpreter": {
   "hash": "f08154012ddadd8e950e6e9e035c7a7b32c136e7647e9b7c77e02eb723a8bedb"
  },
  "kernelspec": {
   "display_name": "Python 3.8.8 ('base')",
   "language": "python",
   "name": "python3"
  },
  "language_info": {
   "codemirror_mode": {
    "name": "ipython",
    "version": 3
   },
   "file_extension": ".py",
   "mimetype": "text/x-python",
   "name": "python",
   "nbconvert_exporter": "python",
   "pygments_lexer": "ipython3",
   "version": "3.8.8"
  },
  "orig_nbformat": 4
 },
 "nbformat": 4,
 "nbformat_minor": 2
}
