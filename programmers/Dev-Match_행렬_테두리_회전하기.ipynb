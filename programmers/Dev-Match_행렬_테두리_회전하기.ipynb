{
 "cells": [
  {
   "cell_type": "markdown",
   "metadata": {},
   "source": [
    "# 행렬 테두리 회전하기\n",
    "220819\n",
    "- 2021 Dev-Match 웹 백엔드 개발자(상반기)\n",
    "- 행렬 돌리는 문제\n",
    "- 소요 시간 : 40분"
   ]
  },
  {
   "cell_type": "code",
   "execution_count": null,
   "metadata": {},
   "outputs": [],
   "source": [
    "def turn_right(direction):\n",
    "    \"\"\"direction을 오른쪽으로 회전\"\"\"\n",
    "    x, y = direction\n",
    "    return (y, -x)\n",
    "    \n",
    "def do_query(mat, query):\n",
    "    x1, y1, x2, y2 = map(lambda x:x-1, query)\n",
    "    x, y = x1, y1\n",
    "    direction = (0, 1) # 동쪽\n",
    "    prev = mat[x1][y1]\n",
    "    res = 10**5\n",
    "    for _ in range(4):\n",
    "        iters = y2-y1 if direction[1] else x2-x1\n",
    "        for __ in range(iters):\n",
    "            x, y = x+direction[0], y+direction[1]\n",
    "            mat[x][y], prev = prev, mat[x][y]\n",
    "            res = min(res, prev)\n",
    "        direction = turn_right(direction)\n",
    "    \n",
    "    return res\n",
    "\n",
    "def solution(rows, cols, queries):\n",
    "    mat = [[i*cols + j+1 for j in range(cols)] for i in range(rows)]\n",
    "    ans = []\n",
    "    \n",
    "    for query in queries:\n",
    "        ans.append(do_query(mat, query))\n",
    "    \n",
    "    return ans"
   ]
  }
 ],
 "metadata": {
  "kernelspec": {
   "display_name": "Python 3.8.8 ('base')",
   "language": "python",
   "name": "python3"
  },
  "language_info": {
   "name": "python",
   "version": "3.8.8"
  },
  "orig_nbformat": 4,
  "vscode": {
   "interpreter": {
    "hash": "f08154012ddadd8e950e6e9e035c7a7b32c136e7647e9b7c77e02eb723a8bedb"
   }
  }
 },
 "nbformat": 4,
 "nbformat_minor": 2
}
