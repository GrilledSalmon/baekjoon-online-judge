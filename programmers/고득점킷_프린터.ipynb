{
 "cells": [
  {
   "cell_type": "markdown",
   "metadata": {},
   "source": [
    "# 프린터\n",
    "220620\n",
    "- 프로그래머스 코딩테스트 고득점 킷\n",
    "- 소감\n",
    "    - 대기열의 길이가 매우 짧아서(100이하) 모든 항목에 대해 체크하고 queue를 rotate하는 방식 사용\n",
    "    - 예전에 풀었던 문제이긴 하다..ㅎ\n",
    "- 소요 시간 : 15분"
   ]
  },
  {
   "cell_type": "code",
   "execution_count": null,
   "metadata": {},
   "outputs": [],
   "source": [
    "from collections import deque\n",
    "\n",
    "def solution(priors, loc):\n",
    "    sorted_prior = sorted(priors, reverse=True)\n",
    "    p_queue = deque()\n",
    "    for i, p in enumerate(priors): # (prior, is_target)\n",
    "        if i == loc:\n",
    "            p_queue.append((p, 1))\n",
    "        else:\n",
    "            p_queue.append((p, 0))\n",
    "    \n",
    "    cnt = 0 # 몇 번째 출력인지\n",
    "    while True:\n",
    "        now_prior, is_target = p_queue[0]\n",
    "        if now_prior == sorted_prior[cnt]:\n",
    "            cnt += 1\n",
    "            p_queue.popleft()\n",
    "            if is_target:\n",
    "                break\n",
    "        else:\n",
    "            p_queue.rotate(-1)    \n",
    "    \n",
    "    ans = cnt\n",
    "    return ans"
   ]
  },
  {
   "cell_type": "code",
   "execution_count": 4,
   "metadata": {},
   "outputs": [],
   "source": [
    "# 예전 풀이\n",
    "from collections import Counter, deque\n",
    "\n",
    "# def solution(prior, loc):\n",
    "#     ans = 0\n",
    "#     target_val = prior[loc]\n",
    "#     prior[loc] = None\n",
    "#     prior_dic = Counter(prior)\n",
    "#     maxi = deque(sorted(prior_dic.values()), reverse=True)\n",
    "    \n",
    "#     queue = deque(prior)\n",
    "#     while True:\n",
    "#         now = queue.popleft()\n",
    "#         if now == maxi\n",
    "    \n",
    "#     return ans\n",
    "\n",
    "# 9부터 1까지 순서대로 돌며 각 숫자에서 마지막으로 프린트된 위치를 기억해 거기서부터 프린트를 이어나감.\n",
    "def solution(prior, loc):\n",
    "    ans = 0\n",
    "    \n",
    "    last_ind = 0\n",
    "    for p in range(9,0, -1):\n",
    "        temp = 0\n",
    "        while True:\n",
    "            now_ind = (last_ind + temp) % len(prior)\n",
    "            if prior[now_ind] == p:\n",
    "                ans += 1\n",
    "                temp_last_ind = now_ind\n",
    "                if now_ind == loc:\n",
    "                    return ans\n",
    "            temp += 1\n",
    "            if temp == len(prior):\n",
    "                break\n",
    "        try:\n",
    "            last_ind = temp_last_ind\n",
    "        except: pass"
   ]
  }
 ],
 "metadata": {
  "interpreter": {
   "hash": "f08154012ddadd8e950e6e9e035c7a7b32c136e7647e9b7c77e02eb723a8bedb"
  },
  "kernelspec": {
   "display_name": "Python 3.8.8 ('base')",
   "language": "python",
   "name": "python3"
  },
  "language_info": {
   "codemirror_mode": {
    "name": "ipython",
    "version": 3
   },
   "file_extension": ".py",
   "mimetype": "text/x-python",
   "name": "python",
   "nbconvert_exporter": "python",
   "pygments_lexer": "ipython3",
   "version": "3.8.8"
  },
  "orig_nbformat": 4
 },
 "nbformat": 4,
 "nbformat_minor": 2
}
