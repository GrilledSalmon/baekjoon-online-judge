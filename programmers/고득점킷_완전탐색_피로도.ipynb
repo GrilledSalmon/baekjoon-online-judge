{
 "cells": [
  {
   "cell_type": "markdown",
   "metadata": {},
   "source": [
    "# 피로도\n",
    "220821\n",
    "- 고득점킷 > 완전탐색\n",
    "- 소감\n",
    "    - 맞을지 모르고 그냥 제출해봤는데 맞았네?\n",
    "    - N 범위가 좁아서 무지성 백트래킹 ㄱㄱ\n",
    "- 소요 시간 : 18분"
   ]
  },
  {
   "cell_type": "code",
   "execution_count": null,
   "metadata": {},
   "outputs": [],
   "source": [
    "def solution(k, dungeons):\n",
    "    ans = [0]\n",
    "    n_dungeon = len(dungeons)\n",
    "    visited = [0]*n_dungeon\n",
    "\n",
    "    def back_tracking(n=0, k=k):        \n",
    "        ans[0] = max(ans[0], n)\n",
    "        if ans[0] == n_dungeon:\n",
    "            return\n",
    "        for i in range(n_dungeon):\n",
    "            mini_k, consum_k = dungeons[i]\n",
    "            if not visited[i] and mini_k <= k:\n",
    "                visited[i] = 1\n",
    "                back_tracking(n+1, k-consum_k)\n",
    "                visited[i] = 0\n",
    "    back_tracking()\n",
    "\n",
    "    return ans[0]"
   ]
  },
  {
   "cell_type": "code",
   "execution_count": 2,
   "metadata": {},
   "outputs": [
    {
     "data": {
      "text/plain": [
       "40320"
      ]
     },
     "execution_count": 2,
     "metadata": {},
     "output_type": "execute_result"
    }
   ],
   "source": [
    "def facto(n):\n",
    "    if n == 1:\n",
    "        return 1\n",
    "    return n*facto(n-1)\n",
    "facto(8)"
   ]
  },
  {
   "cell_type": "code",
   "execution_count": null,
   "metadata": {},
   "outputs": [],
   "source": []
  }
 ],
 "metadata": {
  "kernelspec": {
   "display_name": "Python 3.8.8 ('base')",
   "language": "python",
   "name": "python3"
  },
  "language_info": {
   "codemirror_mode": {
    "name": "ipython",
    "version": 3
   },
   "file_extension": ".py",
   "mimetype": "text/x-python",
   "name": "python",
   "nbconvert_exporter": "python",
   "pygments_lexer": "ipython3",
   "version": "3.8.8"
  },
  "orig_nbformat": 4,
  "vscode": {
   "interpreter": {
    "hash": "f08154012ddadd8e950e6e9e035c7a7b32c136e7647e9b7c77e02eb723a8bedb"
   }
  }
 },
 "nbformat": 4,
 "nbformat_minor": 2
}
