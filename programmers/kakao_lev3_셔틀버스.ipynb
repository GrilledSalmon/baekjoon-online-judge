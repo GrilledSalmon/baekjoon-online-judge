{
 "cells": [
  {
   "cell_type": "markdown",
   "metadata": {},
   "source": [
    "# 셔틀버스\n",
    "220701\n",
    "- 2018 kakao blind recruitment\n",
    "- 소감\n",
    "    - 진짜 이전에 추석트래픽 문제 푼 덕분에 timedelta 쓰는 데 거의 안 해맴;;;\n",
    "    - 조건이 꽤 복잡하고 다양해서 살짝 어려웠지만 다행히 잘 풀어냄\n",
    "    - 코드가 좀 길어져 디버깅을 걱정했지만 다행히 디버깅은 금방 했음\n",
    "- 소요 시간 : 47분"
   ]
  },
  {
   "cell_type": "code",
   "execution_count": null,
   "metadata": {},
   "outputs": [],
   "source": [
    "from datetime import datetime, timedelta\n",
    "\n",
    "def solution(n, t, m, timetable):\n",
    "    ans = ''\n",
    "    timetable.sort()\n",
    "    \n",
    "    interval = timedelta(minutes = t)\n",
    "    \n",
    "    now_bus = datetime.strptime('09:00', '%H:%M')\n",
    "    remain_seat = m # 현재 버스의 남은 자리\n",
    "    remain_bus = n-1\n",
    "    \n",
    "    last_person = None\n",
    "    # 마지막으로 타는 사람 찾기\n",
    "    for time in timetable:\n",
    "        ti = datetime.strptime(time, '%H:%M')\n",
    "        \n",
    "        if ti <= now_bus: # 버스가 오기 전에 줄을 섰다면\n",
    "            remain_seat -= 1 \n",
    "            if remain_seat == 0:\n",
    "                if remain_bus == 0: # 끝\n",
    "                    last_person = ti\n",
    "                else: # 다음 버스\n",
    "                    now_bus += interval\n",
    "                    remain_bus -= 1\n",
    "                    remain_seat = m\n",
    "                    \n",
    "        else: # 버스 그냥 보내야하는 경우\n",
    "            while ti > now_bus and remain_bus: # 현재 크루가 버스를 탈 수 없고 버스가 남아 있는 동안\n",
    "                now_bus += interval\n",
    "                remain_bus -= 1\n",
    "            remain_seat = m\n",
    "            if ti <= now_bus: # 버스가 왔음\n",
    "                remain_seat -= 1 \n",
    "                if remain_seat == 0:\n",
    "                    if remain_bus == 0: # 끝\n",
    "                        last_person = ti\n",
    "                    else: # 다음 버스\n",
    "                        now_bus += interval\n",
    "                        remain_bus -= 1\n",
    "                        remain_seat = m\n",
    "            else:\n",
    "                break\n",
    "    \n",
    "    if last_person is None: # 마지막 버스 타면 되는 경우\n",
    "        temp = datetime.strptime('09:00', '%H:%M') + (n-1)*interval\n",
    "        ans = temp.strftime('%H:%M')\n",
    "    else:\n",
    "        temp = last_person - timedelta(minutes = 1)\n",
    "        ans = temp.strftime('%H:%M')\n",
    "            \n",
    "    return ans"
   ]
  },
  {
   "cell_type": "code",
   "execution_count": 1,
   "metadata": {},
   "outputs": [],
   "source": [
    "import datetime"
   ]
  },
  {
   "cell_type": "code",
   "execution_count": null,
   "metadata": {},
   "outputs": [],
   "source": []
  }
 ],
 "metadata": {
  "kernelspec": {
   "display_name": "Python 3.8.8 ('base')",
   "language": "python",
   "name": "python3"
  },
  "language_info": {
   "codemirror_mode": {
    "name": "ipython",
    "version": 3
   },
   "file_extension": ".py",
   "mimetype": "text/x-python",
   "name": "python",
   "nbconvert_exporter": "python",
   "pygments_lexer": "ipython3",
   "version": "3.8.8"
  },
  "orig_nbformat": 4,
  "vscode": {
   "interpreter": {
    "hash": "f08154012ddadd8e950e6e9e035c7a7b32c136e7647e9b7c77e02eb723a8bedb"
   }
  }
 },
 "nbformat": 4,
 "nbformat_minor": 2
}
