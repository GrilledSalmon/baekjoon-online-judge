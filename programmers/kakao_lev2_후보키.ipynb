{
 "cells": [
  {
   "cell_type": "markdown",
   "metadata": {},
   "source": [
    "# 후보키\n",
    "220706\n",
    "- 2019 KAKAO BLIND RECRUITMENT lev2\n",
    "- 소감\n",
    "    - lev2인데 좀 어려움...\n",
    "    - 처음 백트래킹으로 접근했을 때 정답이 왜 나오지 않는지 반례를 찾는 데 시간이 좀 걸림\n",
    "- 소요 시간 : 1시간 30분"
   ]
  },
  {
   "cell_type": "code",
   "execution_count": null,
   "metadata": {},
   "outputs": [],
   "source": [
    "def solution(rel):\n",
    "    cols = []\n",
    "    for col in zip(*rel):\n",
    "        cols.append(col)\n",
    "    l = len(rel)\n",
    "    c = len(rel[0])\n",
    "    \n",
    "    cand_cols=[]\n",
    "    indss = []\n",
    "    inds = []\n",
    "    def back_tracking(i=0):\n",
    "        if i == c:\n",
    "            return\n",
    "                \n",
    "        for j in range(i, c):\n",
    "            cand_cols.append(cols[j])\n",
    "            inds.append(j)\n",
    "            cand_key = []\n",
    "            \n",
    "            for tup in zip(*cand_cols):\n",
    "                cand_key.append(tup)\n",
    "            \n",
    "            if len(set(cand_key)) == l: # 찾음\n",
    "                indss.append(set(inds))\n",
    "            else:\n",
    "                back_tracking(j+1)\n",
    "            cand_cols.pop()\n",
    "            inds.pop()\n",
    "            \n",
    "    back_tracking()\n",
    "    \n",
    "    indss.sort(key=lambda x: len(x))\n",
    "    \n",
    "    ans = 0\n",
    "    is_ans = [1]*(len(indss))\n",
    "    for i in range(len(indss)):\n",
    "        if is_ans[i]:\n",
    "            now = indss[i]\n",
    "            ans += 1\n",
    "            for j in range(i+1, len(indss)):\n",
    "                if not (now - indss[j]):\n",
    "                    is_ans[j] = 0\n",
    "    \n",
    "    return ans\n"
   ]
  }
 ],
 "metadata": {
  "language_info": {
   "name": "python"
  },
  "orig_nbformat": 4
 },
 "nbformat": 4,
 "nbformat_minor": 2
}
