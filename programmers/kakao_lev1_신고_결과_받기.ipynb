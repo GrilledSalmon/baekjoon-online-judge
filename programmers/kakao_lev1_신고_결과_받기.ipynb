{
 "cells": [
  {
   "cell_type": "markdown",
   "metadata": {},
   "source": [
    "# 신고 결과 받기\n",
    "220821\n",
    "- 2022 KAKAO BLIND RECRUITMENT\n",
    "- 소감\n",
    "    - 열심히 구현\n",
    "- 소요 시간 : 12분"
   ]
  },
  {
   "cell_type": "code",
   "execution_count": 3,
   "metadata": {},
   "outputs": [],
   "source": [
    "def solution(id_list, report, k):\n",
    "    ans = [0]*len(id_list)\n",
    "    report = list(set(report))\n",
    "    report_dic = dict()\n",
    "    reported_dic = dict()\n",
    "    for id in id_list:\n",
    "        report_dic[id] = []\n",
    "        reported_dic[id] = 0\n",
    "    \n",
    "    for a, b in map(lambda x:x.split(), report):\n",
    "        reported_dic[b] += 1\n",
    "        report_dic[a].append(b)\n",
    "    \n",
    "    out_id_set = set()\n",
    "    for id, cnt in reported_dic.items():\n",
    "        if cnt >= k:\n",
    "            out_id_set.add(id)\n",
    "    \n",
    "    for i in range(len(id_list)):\n",
    "        id = id_list[i]\n",
    "        for reported_id in report_dic[id]:\n",
    "            if reported_id in out_id_set:\n",
    "                ans[i] += 1\n",
    "\n",
    "    return ans"
   ]
  },
  {
   "cell_type": "code",
   "execution_count": 4,
   "metadata": {},
   "outputs": [
    {
     "data": {
      "text/plain": [
       "[2, 1, 1, 0]"
      ]
     },
     "execution_count": 4,
     "metadata": {},
     "output_type": "execute_result"
    }
   ],
   "source": [
    "id_list =[\"muzi\", \"frodo\", \"apeach\", \"neo\"] \n",
    "report = [\"muzi frodo\",\"apeach frodo\",\"frodo neo\",\"muzi neo\",\"apeach muzi\"]\n",
    "k = 2\n",
    "solution(id_list, report, k)"
   ]
  },
  {
   "cell_type": "code",
   "execution_count": null,
   "metadata": {},
   "outputs": [],
   "source": []
  }
 ],
 "metadata": {
  "kernelspec": {
   "display_name": "Python 3.8.8 ('base')",
   "language": "python",
   "name": "python3"
  },
  "language_info": {
   "codemirror_mode": {
    "name": "ipython",
    "version": 3
   },
   "file_extension": ".py",
   "mimetype": "text/x-python",
   "name": "python",
   "nbconvert_exporter": "python",
   "pygments_lexer": "ipython3",
   "version": "3.8.8"
  },
  "orig_nbformat": 4,
  "vscode": {
   "interpreter": {
    "hash": "f08154012ddadd8e950e6e9e035c7a7b32c136e7647e9b7c77e02eb723a8bedb"
   }
  }
 },
 "nbformat": 4,
 "nbformat_minor": 2
}
