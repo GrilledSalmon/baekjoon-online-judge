{
 "cells": [
  {
   "cell_type": "markdown",
   "metadata": {},
   "source": [
    "# 주차 요금 계산\n",
    "220821\n",
    "- 2022 KAKAO BLIND RECRUITMENT\n",
    "- 소감\n",
    "    - 열심히 구현하는 문제\n",
    "    - 진짜 열심히 집중해서 구현함\n",
    "- 소요 시간 : 32분"
   ]
  },
  {
   "cell_type": "code",
   "execution_count": 52,
   "metadata": {},
   "outputs": [],
   "source": [
    "def diff_time(out_time, in_time):\n",
    "    out_hour, out_min = map(int, out_time.split(':'))\n",
    "    in_hour, in_min = map(int, in_time.split(':'))\n",
    "    if out_min < in_min:\n",
    "        out_min += 60\n",
    "        out_hour -= 1\n",
    "    return (out_hour - in_hour)*60 + (out_min - in_min)\n",
    "\n",
    "\n",
    "def solution(fees, records):\n",
    "    base_time, base_fee, per_time, per_fee = fees\n",
    "    status_dic = dict()\n",
    "    used_time_dic = dict()\n",
    "    res_dic = dict()\n",
    "\n",
    "    def calc_fee(used_time):\n",
    "        if used_time <= base_time:\n",
    "            res_fee = base_fee\n",
    "        else:\n",
    "            used_time -= base_time\n",
    "            if used_time%per_time:\n",
    "                res_fee = base_fee + (used_time//per_time + 1)*per_fee\n",
    "            else:\n",
    "                res_fee = base_fee + used_time//per_time*per_fee\n",
    "        return res_fee\n",
    "\n",
    "    for time, num, status in map(lambda x:x.split(), records):\n",
    "        if status[0] == 'I': # IN\n",
    "            status_dic[num] = time\n",
    "        else: # OUT\n",
    "            in_time = status_dic[num]\n",
    "            del(status_dic[num])\n",
    "\n",
    "            used_time = diff_time(time, in_time)\n",
    "            used_time_dic[num] = used_time_dic.get(num, 0) + used_time\n",
    "    \n",
    "    default_out_time = \"23:59\"\n",
    "    for num, in_time in status_dic.items():\n",
    "        used_time = diff_time(default_out_time, in_time)\n",
    "        used_time_dic[num] = used_time_dic.get(num, 0) + used_time\n",
    "\n",
    "    for num, used_time in used_time_dic.items():\n",
    "        res_fee = calc_fee(used_time)\n",
    "        res_dic[num] = res_fee\n",
    "\n",
    "    ans = list(map(lambda x:x[1], sorted(res_dic.items(), key=lambda x:x[0])))\n",
    "    return ans"
   ]
  },
  {
   "cell_type": "code",
   "execution_count": 53,
   "metadata": {},
   "outputs": [],
   "source": [
    "fees = [120, 0, 60, 591]\n",
    "records = [\"16:00 3961 IN\",\"16:00 0202 IN\",\"18:00 3961 OUT\",\"18:00 0202 OUT\",\"23:58 3961 IN\"]"
   ]
  },
  {
   "cell_type": "code",
   "execution_count": 54,
   "metadata": {},
   "outputs": [
    {
     "data": {
      "text/plain": [
       "[0, 591]"
      ]
     },
     "execution_count": 54,
     "metadata": {},
     "output_type": "execute_result"
    }
   ],
   "source": [
    "solution(fees, records)"
   ]
  },
  {
   "cell_type": "code",
   "execution_count": null,
   "metadata": {},
   "outputs": [],
   "source": []
  },
  {
   "cell_type": "code",
   "execution_count": null,
   "metadata": {},
   "outputs": [],
   "source": []
  }
 ],
 "metadata": {
  "kernelspec": {
   "display_name": "Python 3.8.8 ('base')",
   "language": "python",
   "name": "python3"
  },
  "language_info": {
   "codemirror_mode": {
    "name": "ipython",
    "version": 3
   },
   "file_extension": ".py",
   "mimetype": "text/x-python",
   "name": "python",
   "nbconvert_exporter": "python",
   "pygments_lexer": "ipython3",
   "version": "3.8.8"
  },
  "orig_nbformat": 4,
  "vscode": {
   "interpreter": {
    "hash": "f08154012ddadd8e950e6e9e035c7a7b32c136e7647e9b7c77e02eb723a8bedb"
   }
  }
 },
 "nbformat": 4,
 "nbformat_minor": 2
}
