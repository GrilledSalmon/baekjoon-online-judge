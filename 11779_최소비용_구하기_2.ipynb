{
 "cells": [
  {
   "cell_type": "markdown",
   "metadata": {},
   "source": [
    "# 11779 최소비용 구하기 2\n",
    "220531\n",
    "- 소감\n",
    "    - predecessor를 저장해주는 것만 빼면 그냥 dikstra 문제였습니다.\n",
    "    - 다만, n=1인 경우를 생각하지 못해 고치는 데 시간이 좀 걸렸습니다.\n",
    "- 소요 시간 : 35분\n",
    "- 알고리즘 분류 : 그래프 이론, 데이크스트라\n",
    "- 티어 : 골드 3"
   ]
  },
  {
   "cell_type": "code",
   "execution_count": 7,
   "metadata": {},
   "outputs": [],
   "source": [
    "from heapq import heappush, heappop\n",
    "import sys\n",
    "# input = sys.stdin.readline\n",
    "MAX_NUM = sys.maxsize\n",
    "\n",
    "n = int(input())\n",
    "m = int(input())\n",
    "adj_list = [{} for _ in range(n+1)]\n",
    "for _ in range(m):\n",
    "    u, v, c = map(int, input().split())\n",
    "    if adj_list[u].get(v, 1000000) > c:\n",
    "        adj_list[u][v] = c\n",
    "    \n",
    "A, B = map(int, input().split())\n",
    "\n",
    "heap = [(0, A)]\n",
    "cost = [MAX_NUM]*(n+1)\n",
    "cost[A] = 0\n",
    "complete = [0]*(n+1)\n",
    "predecessor = [None]*(n+1)\n",
    "\n",
    "while heap:\n",
    "    now_cost, now_node = heappop(heap)\n",
    "    if not complete[now_node]:\n",
    "        if now_node == B:\n",
    "            break\n",
    "        complete[now_node] = 1\n",
    "        for adj_node, adj_cost in adj_list[now_node].items():\n",
    "            new_cost = now_cost + adj_cost\n",
    "            if cost[adj_node] > new_cost:\n",
    "                heappush(heap, (new_cost, adj_node))\n",
    "                predecessor[adj_node] = now_node\n",
    "                cost[adj_node] = new_cost\n",
    "\n",
    "path = [B]\n",
    "now_node = B\n",
    "if n != 1:\n",
    "    while predecessor[now_node] != None:\n",
    "        now_node = predecessor[now_node]\n",
    "        path.append(now_node)\n",
    "\n",
    "print(cost[B])\n",
    "print(len(path))\n",
    "print(' '.join(map(str, path[::-1])))"
   ]
  },
  {
   "cell_type": "code",
   "execution_count": 8,
   "metadata": {},
   "outputs": [
    {
     "data": {
      "text/plain": [
       "([{}, {2: 2, 3: 3, 4: 1, 5: 10}, {4: 2}, {4: 1, 5: 1}, {5: 3}, {}], 5, 8, 1, 5)"
      ]
     },
     "execution_count": 8,
     "metadata": {},
     "output_type": "execute_result"
    }
   ],
   "source": [
    "adj_list, n, m, A, B"
   ]
  },
  {
   "cell_type": "code",
   "execution_count": 12,
   "metadata": {},
   "outputs": [
    {
     "name": "stdout",
     "output_type": "stream",
     "text": [
      "4\n",
      "3\n",
      "1 4 5\n"
     ]
    }
   ],
   "source": [
    "from heapq import heappush, heappop\n",
    "MAX_NUM = sys.maxsize\n",
    "\n",
    "heap = [(0, A)]\n",
    "cost = [MAX_NUM]*(n+1)\n",
    "complete = [0]*(n+1)\n",
    "predecessor = [None]*(n+1)\n",
    "\n",
    "while heap:\n",
    "    now_cost, now_node = heappop(heap)\n",
    "    if not complete[now_node]:\n",
    "        if now_node == B:\n",
    "            break\n",
    "        complete[now_node] = 1\n",
    "        for adj_node, adj_cost in adj_list[now_node].items():\n",
    "            new_cost = now_cost + adj_cost\n",
    "            if cost[adj_node] > new_cost:\n",
    "                heappush(heap, (new_cost, adj_node))\n",
    "                predecessor[adj_node] = now_node\n",
    "                cost[adj_node] = new_cost\n",
    "\n",
    "path = [B]\n",
    "now_node = B\n",
    "while predecessor[now_node] != None:\n",
    "    now_node = predecessor[now_node]\n",
    "    path.append(now_node)\n",
    "\n",
    "print(cost[B])\n",
    "print(len(path))\n",
    "print(' '.join(map(str, path[::-1])))"
   ]
  },
  {
   "cell_type": "code",
   "execution_count": 14,
   "metadata": {},
   "outputs": [
    {
     "data": {
      "text/plain": [
       "[None, None, 1, 1, 1, 4]"
      ]
     },
     "execution_count": 14,
     "metadata": {},
     "output_type": "execute_result"
    }
   ],
   "source": [
    "predecessor"
   ]
  },
  {
   "cell_type": "code",
   "execution_count": 5,
   "metadata": {},
   "outputs": [
    {
     "data": {
      "text/plain": [
       "10"
      ]
     },
     "execution_count": 5,
     "metadata": {},
     "output_type": "execute_result"
    }
   ],
   "source": [
    "a.get(0, 10)"
   ]
  },
  {
   "cell_type": "code",
   "execution_count": null,
   "metadata": {},
   "outputs": [],
   "source": []
  }
 ],
 "metadata": {
  "interpreter": {
   "hash": "f08154012ddadd8e950e6e9e035c7a7b32c136e7647e9b7c77e02eb723a8bedb"
  },
  "kernelspec": {
   "display_name": "Python 3.8.8 ('base')",
   "language": "python",
   "name": "python3"
  },
  "language_info": {
   "codemirror_mode": {
    "name": "ipython",
    "version": 3
   },
   "file_extension": ".py",
   "mimetype": "text/x-python",
   "name": "python",
   "nbconvert_exporter": "python",
   "pygments_lexer": "ipython3",
   "version": "3.8.8"
  },
  "orig_nbformat": 4
 },
 "nbformat": 4,
 "nbformat_minor": 2
}
