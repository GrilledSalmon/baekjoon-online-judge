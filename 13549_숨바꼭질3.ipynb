{
 "cells": [
  {
   "cell_type": "markdown",
   "metadata": {},
   "source": [
    "# 13549 숨바꼭질 3\n",
    "220324\n",
    "- 아이디어 : BFS처럼 풀도록 한다.\n",
    "- 알고리즘 분류\n",
    "    - 그래프 이론\n",
    "    - 자료 구조\n",
    "    - 그래프 탐색\n",
    "    - 너비 우선 탐색\n",
    "    - 다익스트라\n",
    "    - 0-1 너비 우선 탐색\n",
    "- 티어 : 골드 5"
   ]
  },
  {
   "cell_type": "code",
   "execution_count": 30,
   "metadata": {},
   "outputs": [
    {
     "name": "stdout",
     "output_type": "stream",
     "text": [
      "1\n"
     ]
    }
   ],
   "source": [
    "N, K = map(int, input().split())\n",
    "\n",
    "lim = 2*K\n",
    "visited = [0]*lim\n",
    "\n",
    "def check(q, temp_queue):\n",
    "    \"\"\"방문한 위치 q의 방문 여부를 확인, 반영, temp_queue에 추가해주고\n",
    "    K에 도달했는지 여부를 리턴\"\"\"\n",
    "    if q < 0: # 음수인 경우 아무것도 안 해줌\n",
    "        return False \n",
    "    if not visited[q]:\n",
    "        if q == K:\n",
    "            return True\n",
    "        else:\n",
    "            visited[q] = 1\n",
    "            temp_queue.append(q)\n",
    "            return False\n",
    "\n",
    "def teleport(queue):\n",
    "    \"\"\"queue에 담겨 있는 위치를 바탕으로 순간이동 했을 때의 위치를 담아주고 방문처리.\n",
    "    순간이동 과정에서 동생 위치에 도달하면 True 리턴\"\"\"\n",
    "    for q in queue:\n",
    "        now = q\n",
    "        if check(now, queue):\n",
    "            return True\n",
    "        \n",
    "        if q == 0: # 0인 경우 처리\n",
    "            continue\n",
    "\n",
    "        now *= 2\n",
    "        while now <= lim:\n",
    "            if not visited[now]:\n",
    "                if now == K:\n",
    "                    return True\n",
    "                queue.append(now)\n",
    "                visited[now] = 1\n",
    "                now *= 2\n",
    "            else: # 이미 방문한 경우, 순간이동 경우는 앞에서 모두 처리해줬을 것이므로\n",
    "                break\n",
    "    return False\n",
    "\n",
    "def solve():\n",
    "    if N >= K:\n",
    "        return N-K\n",
    "    time = 0\n",
    "    queue = [N]\n",
    "    visited[N] = 1\n",
    "    while True:\n",
    "        if teleport(queue):\n",
    "            return time\n",
    "        else:\n",
    "            temp_queue = []\n",
    "            time += 1\n",
    "            for q in queue:\n",
    "                q1 = q - 1\n",
    "                q2 = q + 1\n",
    "                if check(q1, temp_queue) or check(q2, temp_queue):\n",
    "                    return time\n",
    "        queue = temp_queue\n",
    "print(solve())"
   ]
  },
  {
   "cell_type": "code",
   "execution_count": 23,
   "metadata": {},
   "outputs": [
    {
     "data": {
      "text/plain": [
       "(0, 1)"
      ]
     },
     "execution_count": 23,
     "metadata": {},
     "output_type": "execute_result"
    }
   ],
   "source": [
    "N, K"
   ]
  },
  {
   "cell_type": "code",
   "execution_count": 15,
   "metadata": {},
   "outputs": [
    {
     "name": "stdout",
     "output_type": "stream",
     "text": [
      "2\n"
     ]
    }
   ],
   "source": [
    "lim = 2*K\n",
    "visited = [0]*lim\n",
    "\n",
    "def check(q, temp_queue):\n",
    "    \"\"\"방문한 위치 q의 방문 여부를 확인, 반영, temp_queue에 추가해주고\n",
    "    K에 도달했는지 여부를 리턴\"\"\"\n",
    "    if not visited[q]:\n",
    "        if q == K:\n",
    "            return True\n",
    "        else:\n",
    "            visited[q] = 1\n",
    "            temp_queue.append(q)\n",
    "            return False\n",
    "\n",
    "def teleport(queue):\n",
    "    \"\"\"queue에 담겨 있는 위치를 바탕으로 순간이동 했을 때의 위치를 담아주고 방문처리.\n",
    "    순간이동 과정에서 동생 위치에 도달하면 True 리턴\"\"\"\n",
    "    for q in queue:\n",
    "        now = q\n",
    "        if check(now, queue):\n",
    "            return True\n",
    "        now *= 2\n",
    "        while now <= lim:\n",
    "            if not visited[now]:\n",
    "                if now == K:\n",
    "                    return True\n",
    "                queue.append(now)\n",
    "                visited[now] = 1\n",
    "                now *= 2\n",
    "            else: # 이미 방문한 경우 앞에서 순간이동 경우는 앞에서 모두 처리해줬을 것이므로\n",
    "                break\n",
    "    return False\n",
    "\n",
    "def solve():\n",
    "    time = 0\n",
    "    queue = [N]\n",
    "    visited[N] = 1\n",
    "    while True:\n",
    "        if teleport(queue):\n",
    "            print(time)\n",
    "            return\n",
    "        else:\n",
    "            temp_queue = []\n",
    "            time += 1\n",
    "            for q in queue:\n",
    "                q1 = q - 1\n",
    "                q2 = q + 1\n",
    "                if check(q1, temp_queue) or check(q2, temp_queue):\n",
    "                    print(time)\n",
    "                    return\n",
    "        queue = temp_queue\n",
    "solve()"
   ]
  },
  {
   "cell_type": "code",
   "execution_count": 8,
   "metadata": {},
   "outputs": [
    {
     "data": {
      "text/plain": [
       "[1, 1, 2]"
      ]
     },
     "execution_count": 8,
     "metadata": {},
     "output_type": "execute_result"
    }
   ],
   "source": [
    "temp = [1]\n",
    "teleport(temp)\n",
    "temp"
   ]
  },
  {
   "cell_type": "code",
   "execution_count": 16,
   "metadata": {},
   "outputs": [
    {
     "data": {
      "text/plain": [
       "[0,\n",
       " 0,\n",
       " 0,\n",
       " 1,\n",
       " 1,\n",
       " 1,\n",
       " 1,\n",
       " 1,\n",
       " 1,\n",
       " 1,\n",
       " 1,\n",
       " 1,\n",
       " 1,\n",
       " 0,\n",
       " 0,\n",
       " 1,\n",
       " 1,\n",
       " 0,\n",
       " 1,\n",
       " 1,\n",
       " 1,\n",
       " 1,\n",
       " 1,\n",
       " 0,\n",
       " 1,\n",
       " 0,\n",
       " 0,\n",
       " 0,\n",
       " 0,\n",
       " 0,\n",
       " 0,\n",
       " 0,\n",
       " 1,\n",
       " 0]"
      ]
     },
     "execution_count": 16,
     "metadata": {},
     "output_type": "execute_result"
    }
   ],
   "source": [
    "visited"
   ]
  },
  {
   "cell_type": "code",
   "execution_count": null,
   "metadata": {},
   "outputs": [],
   "source": []
  }
 ],
 "metadata": {
  "interpreter": {
   "hash": "c798a043d5b26db4ea8dc684fe25ec244835432adc5539bce2de618403b1d63c"
  },
  "kernelspec": {
   "display_name": "Python 3.8.5 ('base')",
   "language": "python",
   "name": "python3"
  },
  "language_info": {
   "codemirror_mode": {
    "name": "ipython",
    "version": 3
   },
   "file_extension": ".py",
   "mimetype": "text/x-python",
   "name": "python",
   "nbconvert_exporter": "python",
   "pygments_lexer": "ipython3",
   "version": "3.8.5"
  },
  "orig_nbformat": 4
 },
 "nbformat": 4,
 "nbformat_minor": 2
}
