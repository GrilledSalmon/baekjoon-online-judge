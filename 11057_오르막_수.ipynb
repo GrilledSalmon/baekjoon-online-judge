{
 "cells": [
  {
   "cell_type": "markdown",
   "metadata": {},
   "source": [
    "# 11057 오르막 수\n",
    "220619\n",
    "- 소감\n",
    "    - 끝자리수에 따라 만들 수 있는 오르막 수가 정해진다는 점에서 끝 자리의 숫자와 자리수를 가지고 2차원 dp테이블을 만들어 문제를 해결할 수 있었습니다.\n",
    "- 소요 시간 : 19분\n",
    "- 알고리즘 분류 : 다이나믹 프로그래밍\n",
    "- 티어 : 실버 1"
   ]
  },
  {
   "cell_type": "code",
   "execution_count": 4,
   "metadata": {},
   "outputs": [
    {
     "name": "stdout",
     "output_type": "stream",
     "text": [
      "1464\n"
     ]
    }
   ],
   "source": [
    "import sys\n",
    "sys.setrecursionlimit(100000)\n",
    "N = int(input())\n",
    "\n",
    "DIV = 10007\n",
    "\n",
    "# memo[i][j] : i자리 수가 j수로 끝났을 때 오르막 수의 개수\n",
    "memo = [[None]*10 for _ in range(N+1)]\n",
    "\n",
    "def dp(i, n):\n",
    "    \"\"\"n자리 수가 i로 끝났을 때 오르막 수의 개수 리턴\"\"\"\n",
    "    if memo[n][i] == None:\n",
    "        if n == 1:\n",
    "            memo[n][i] = 1\n",
    "        else:\n",
    "            summ = 0\n",
    "            for j in range(i+1):\n",
    "                summ += dp(j, n-1)\n",
    "            memo[n][i] = summ % DIV\n",
    "    return memo[n][i]\n",
    "\n",
    "ans = 0\n",
    "for i in range(10):\n",
    "    ans += dp(i, N)\n",
    "\n",
    "print(ans%DIV)"
   ]
  },
  {
   "cell_type": "code",
   "execution_count": 2,
   "metadata": {},
   "outputs": [
    {
     "name": "stdout",
     "output_type": "stream",
     "text": [
      "55\n"
     ]
    }
   ],
   "source": [
    "DIV = 10007\n",
    "\n",
    "# memo[i][j] : i자리 수가 j수로 끝났을 때 오르막 수의 개수\n",
    "memo = [[None]*10 for _ in range(N+1)]\n",
    "\n",
    "def dp(i, n):\n",
    "    \"\"\"n자리 수가 i로 끝났을 때 오르막 수의 개수 리턴\"\"\"\n",
    "    if memo[n][i] == None:\n",
    "        if n == 1:\n",
    "            memo[n][i] = 1\n",
    "        else:\n",
    "            memo[n][i] = dp(i, n-1)*(10-i) % DIV\n",
    "    return memo[n][i]\n",
    "\n",
    "ans = 0\n",
    "for i in range(10):\n",
    "    ans += dp(i, N)\n",
    "\n",
    "print(ans)"
   ]
  },
  {
   "cell_type": "code",
   "execution_count": null,
   "metadata": {},
   "outputs": [],
   "source": []
  }
 ],
 "metadata": {
  "kernelspec": {
   "display_name": "Python 3.8.8 ('base')",
   "language": "python",
   "name": "python3"
  },
  "language_info": {
   "codemirror_mode": {
    "name": "ipython",
    "version": 3
   },
   "file_extension": ".py",
   "mimetype": "text/x-python",
   "name": "python",
   "nbconvert_exporter": "python",
   "pygments_lexer": "ipython3",
   "version": "3.8.8"
  },
  "orig_nbformat": 4,
  "vscode": {
   "interpreter": {
    "hash": "f08154012ddadd8e950e6e9e035c7a7b32c136e7647e9b7c77e02eb723a8bedb"
   }
  }
 },
 "nbformat": 4,
 "nbformat_minor": 2
}
