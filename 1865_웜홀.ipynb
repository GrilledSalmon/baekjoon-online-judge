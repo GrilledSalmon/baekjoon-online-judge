{
 "cells": [
  {
   "cell_type": "markdown",
   "metadata": {},
   "source": [
    "# 1865 웜홀\n",
    "220405\n",
    "- 소감 : 벨만포드 알고리즘을 이용해 잘 풀도록 한다. 다만, 모든 노드가 연결되어 있다는 보장이 없기 때문에, 이 점을 주의해서 풀도록 한다.\n",
    "- 알고리즘 분류\n",
    "    - 그래프 이론\n",
    "    - 벨만-포드\n",
    "- 티어 : 골드 3"
   ]
  },
  {
   "cell_type": "code",
   "execution_count": null,
   "metadata": {},
   "outputs": [],
   "source": [
    "# 틀렸는데 이유를 못찾겠음... 일단 GG.\n",
    "from collections import deque\n",
    "import sys\n",
    "# input = sys.stdin.readline\n",
    "TC = int(input())\n",
    "\n",
    "for _ in range(TC):\n",
    "    N, M, W = map(int, input().split())\n",
    "    adj_list = [{} for _ in range(N+1)]\n",
    "    for _ in range(M): # 도로\n",
    "        S, E, T = map(int, input().split())\n",
    "        if adj_list[S].get(E, 100000) > T:\n",
    "            adj_list[S][E] = T\n",
    "            adj_list[E][S] = T\n",
    "    for _ in range(W): # 웜홀\n",
    "        S, E, T = map(int, input().split())\n",
    "        if adj_list[S].get(E, 100000) > -T:\n",
    "            adj_list[S][E] = -T\n",
    "\n",
    "    dist = [float('inf')] * (N+1)\n",
    "\n",
    "    # adj_list를 연결된 애들끼리 쪼개줘야 함.\n",
    "    group_list = []\n",
    "    visited = [0] * (N+1)\n",
    "    for node in range(1, N+1):\n",
    "        if not visited[node]:\n",
    "            # BFS\n",
    "            root = node\n",
    "            visited[root] = 1\n",
    "            queue = deque([root])\n",
    "            temp_group = []\n",
    "            while queue:\n",
    "                now_node = queue.popleft()\n",
    "                temp_group.append(now_node)\n",
    "                for adj_node in adj_list[now_node]:\n",
    "                    if not visited[adj_node]:\n",
    "                        queue.append(adj_node)\n",
    "                        visited[adj_node] = 1\n",
    "            group_list.append(temp_group)\n",
    "\n",
    "    def bellman_ford(group):\n",
    "        root = group[0]\n",
    "        dist[root] = 0\n",
    "        for cycle in range(len(group)):\n",
    "            for start_node in group:\n",
    "                for end_node in adj_list[start_node]:\n",
    "                    cost = adj_list[start_node][end_node]\n",
    "                    if dist[end_node] > dist[start_node] + cost:\n",
    "                        dist[end_node] = dist[start_node] + cost\n",
    "                        if cycle == len(group)-1:\n",
    "                            return True\n",
    "        return False\n",
    "\n",
    "    # 그래프 집단이 분리돼 있을 수 있으므로 그래프 그룹에 따라 따로 bf 진행\n",
    "    for group in group_list:\n",
    "        negative_cycle_exist = bellman_ford(group)\n",
    "        if negative_cycle_exist:\n",
    "            print('YES')\n",
    "            break\n",
    "    else:\n",
    "        print('NO')"
   ]
  },
  {
   "cell_type": "code",
   "execution_count": null,
   "metadata": {},
   "outputs": [],
   "source": [
    "# 똑같음..\n",
    "import sys\n",
    "# input = sys.stdin.readline\n",
    "TC = int(input())\n",
    "\n",
    "for _ in range(TC):\n",
    "    N, M, W = map(int, input().split())\n",
    "    adj_list = [{} for _ in range(N+1)]\n",
    "    for _ in range(M): # 도로\n",
    "        S, E, T = map(int, input().split())\n",
    "        if adj_list[S].get(E, 100000) > T:\n",
    "            adj_list[S][E] = T\n",
    "            adj_list[E][S] = T\n",
    "    for _ in range(W): # 웜홀\n",
    "        S, E, T = map(int, input().split())\n",
    "        if adj_list[S].get(E, 100000) > -T:\n",
    "            adj_list[S][E] = -T\n",
    "\n",
    "    dist = [float('inf')] * (N+1)\n",
    "\n",
    "    def bellman_ford(root):\n",
    "        dist[root] = 0\n",
    "        for cycle in range(N):\n",
    "            for start_node in range(1, N+1):\n",
    "                for end_node in adj_list[start_node]:\n",
    "                    cost = adj_list[start_node][end_node]\n",
    "                    if dist[end_node] > dist[start_node] + cost:\n",
    "                        dist[end_node] = dist[start_node] + cost\n",
    "                        if cycle == N-1:\n",
    "                            return True\n",
    "        return False\n",
    "\n",
    "    # 그래프 집단이 분리돼 있을 수 있으므로 업데이트되지 않은 노드를 root로 지정하고 다시 시행\n",
    "    for node in range(1, N+1):\n",
    "        if dist[node] == float('inf'): # 최단거리 업데이트가 되지 않은 노드라면\n",
    "            negative_cycle_exist = bellman_ford(node)\n",
    "            if negative_cycle_exist:\n",
    "                print('YES')\n",
    "                break\n",
    "        else: # 이미 확인이 끝난 노드의 엣지는 지워줌(연산량 줄이기 위해)\n",
    "            adj_list[node] = {}\n",
    "    else:\n",
    "        print('NO')"
   ]
  },
  {
   "cell_type": "code",
   "execution_count": null,
   "metadata": {},
   "outputs": [],
   "source": [
    "# 이걸로 통과... 되게 비효율적이긴 함\n",
    "import sys\n",
    "# input = sys.stdin.readline\n",
    "TC = int(input())\n",
    "\n",
    "for _ in range(TC):\n",
    "    N, M, W = map(int, input().split())\n",
    "    adj_list = [{} for _ in range(N+1)]\n",
    "    for _ in range(M): # 도로\n",
    "        S, E, T = map(int, input().split())\n",
    "        if adj_list[S].get(E, 100000) > T:\n",
    "            adj_list[S][E] = T\n",
    "            adj_list[E][S] = T\n",
    "    for _ in range(W): # 웜홀\n",
    "        S, E, T = map(int, input().split())\n",
    "        if adj_list[S].get(E, 100000) > -T:\n",
    "            adj_list[S][E] = -T\n",
    "\n",
    "    dist = [float('inf')] * (N+1)\n",
    "\n",
    "    def bellman_ford(root):\n",
    "        dist[root] = 0\n",
    "        for cycle in range(N):\n",
    "            for start_node in range(1, N+1):\n",
    "                for end_node in adj_list[start_node]:\n",
    "                    cost = adj_list[start_node][end_node]\n",
    "                    if dist[end_node] > dist[start_node] + cost:\n",
    "                        dist[end_node] = dist[start_node] + cost\n",
    "                        if cycle == N-1:\n",
    "                            return True\n",
    "        return False\n",
    "\n",
    "    # 그래프 집단이 분리돼 있을 수 있으므로 업데이트되지 않은 노드를 root로 지정하고 다시 시행\n",
    "    for node in range(1, N+1):\n",
    "        if dist[node] == float('inf'): # 최단거리 업데이트가 되지 않은 노드라면\n",
    "            negative_cycle_exist = bellman_ford(node)\n",
    "            if negative_cycle_exist:\n",
    "                print('YES')\n",
    "                break\n",
    "    else:\n",
    "        print('NO')"
   ]
  },
  {
   "cell_type": "code",
   "execution_count": 20,
   "metadata": {},
   "outputs": [
    {
     "name": "stdout",
     "output_type": "stream",
     "text": [
      "NO\n",
      "YES\n"
     ]
    }
   ],
   "source": [
    "import sys\n",
    "# input = sys.stdin.readline\n",
    "TC = int(input())\n",
    "\n",
    "def bellman_ford():\n",
    "    for cycle in range(N):\n",
    "        for start_node in range(1, N+1):\n",
    "            for end_node in adj_list[start_node]:\n",
    "                cost = adj_list[start_node][end_node]\n",
    "                if dist[end_node] > dist[start_node] + cost:\n",
    "                    dist[end_node] = dist[start_node] + cost\n",
    "                    if cycle == N-1:\n",
    "                        print('YES')\n",
    "                        return\n",
    "    print('NO')\n",
    "    return\n",
    "\n",
    "for _ in range(TC):\n",
    "    N, M, W = map(int, input().split())\n",
    "    adj_list = [{} for _ in range(N+1)]\n",
    "    for _ in range(M): # 도로\n",
    "        S, E, T = map(int, input().split())\n",
    "        if adj_list[S].get(E, 100000) > T:\n",
    "            adj_list[S][E] = T\n",
    "            adj_list[E][S] = T\n",
    "    for _ in range(W): # 웜홀\n",
    "        S, E, T = map(int, input().split())\n",
    "        if adj_list[S].get(E, 100000) > -T:\n",
    "            adj_list[S][E] = -T\n",
    "    \n",
    "    dist = [float('inf')] * (N+1)\n",
    "    root = 1\n",
    "    dist[root] = 0\n",
    "\n",
    "    bellman_ford()"
   ]
  },
  {
   "cell_type": "code",
   "execution_count": 13,
   "metadata": {},
   "outputs": [],
   "source": [
    "N, M, W = map(int, input().split())\n",
    "adj_list = [{} for _ in range(N+1)]\n",
    "for _ in range(M): # 도로\n",
    "    S, E, T = map(int, input().split())\n",
    "    if adj_list[S].get(E, 100000) > T:\n",
    "        adj_list[S][E] = T\n",
    "        adj_list[E][S] = T\n",
    "for _ in range(W): # 웜홀\n",
    "    S, E, T = map(int, input().split())\n",
    "    if adj_list[S].get(E, 100000) > -T:\n",
    "        adj_list[S][E] = -T"
   ]
  },
  {
   "cell_type": "code",
   "execution_count": 14,
   "metadata": {},
   "outputs": [
    {
     "data": {
      "text/plain": [
       "[{}, {2: 2, 3: 4}, {1: 2, 3: 1}, {1: -3, 2: 1}]"
      ]
     },
     "execution_count": 14,
     "metadata": {},
     "output_type": "execute_result"
    }
   ],
   "source": [
    "adj_list"
   ]
  },
  {
   "cell_type": "code",
   "execution_count": 21,
   "metadata": {},
   "outputs": [
    {
     "name": "stdout",
     "output_type": "stream",
     "text": [
      "YES\n"
     ]
    }
   ],
   "source": [
    "dist = [float('inf')] * (N+1)\n",
    "root = 1\n",
    "dist[root] = 0\n",
    "\n",
    "def bellman_ford():\n",
    "    for cycle in range(N):\n",
    "        for start_node in range(1, N+1):\n",
    "            for end_node in adj_list[start_node]:\n",
    "                cost = adj_list[start_node][end_node]\n",
    "                if dist[end_node] > dist[start_node] + cost:\n",
    "                    dist[end_node] = dist[start_node] + cost\n",
    "                    if cycle == N-1:\n",
    "                        print('YES')\n",
    "                        return\n",
    "    print('NO')\n",
    "    return\n",
    "bellman_ford()"
   ]
  },
  {
   "cell_type": "code",
   "execution_count": 10,
   "metadata": {},
   "outputs": [
    {
     "data": {
      "text/plain": [
       "True"
      ]
     },
     "execution_count": 10,
     "metadata": {},
     "output_type": "execute_result"
    }
   ],
   "source": [
    "INF = float('inf')\n",
    "INF ** 2 == INF"
   ]
  },
  {
   "cell_type": "code",
   "execution_count": 22,
   "metadata": {},
   "outputs": [
    {
     "data": {
      "text/plain": [
       "[inf, -2, 1, 6]"
      ]
     },
     "execution_count": 22,
     "metadata": {},
     "output_type": "execute_result"
    }
   ],
   "source": [
    "dist"
   ]
  },
  {
   "cell_type": "code",
   "execution_count": null,
   "metadata": {},
   "outputs": [],
   "source": []
  },
  {
   "cell_type": "code",
   "execution_count": null,
   "metadata": {},
   "outputs": [],
   "source": []
  },
  {
   "cell_type": "code",
   "execution_count": null,
   "metadata": {},
   "outputs": [],
   "source": [
    "import sys\n",
    "# input = sys.stdin.readline\n",
    "TC = int(input())\n",
    "\n",
    "for _ in range(TC):\n",
    "    N, M, W = map(int, input().split())\n",
    "    adj_list = [{} for _ in range(N+1)]\n",
    "    for _ in range(M): # 도로\n",
    "        S, E, T = map(int, input().split())\n",
    "        if adj_list[S].get(E, 100000) > T:\n",
    "            adj_list[S][E] = T\n",
    "            adj_list[E][S] = T\n",
    "    for _ in range(W): # 웜홀\n",
    "        S, E, T = map(int, input().split())\n",
    "        if adj_list[S].get(E, 100000) > -T:\n",
    "            adj_list[S][E] = -T\n",
    "\n",
    "    dist = [float('inf')] * (N+1)\n",
    "\n",
    "    def bellman_ford(root):\n",
    "        dist[root] = 0\n",
    "        for cycle in range(N):\n",
    "            for start_node in range(1, N+1):\n",
    "                for end_node in adj_list[start_node]:\n",
    "                    cost = adj_list[start_node][end_node]\n",
    "                    if dist[end_node] > dist[start_node] + cost:\n",
    "                        dist[end_node] = dist[start_node] + cost\n",
    "                        if cycle == N-1:\n",
    "                            return True\n",
    "        return False\n",
    "\n",
    "    for node in range(1, N+1):\n",
    "        if dist[node] == float('inf'): # 최단거리 업데이트가 되지 않은 노드라면\n",
    "            negative_cycle_exist = bellman_ford(node)\n",
    "            if negative_cycle_exist:\n",
    "                print('YES')\n",
    "                break\n",
    "    else:\n",
    "        print('NO')"
   ]
  },
  {
   "cell_type": "code",
   "execution_count": 35,
   "metadata": {},
   "outputs": [
    {
     "name": "stdout",
     "output_type": "stream",
     "text": [
      "YES\n"
     ]
    }
   ],
   "source": [
    "dist = [float('inf')] * (N+1)\n",
    "\n",
    "def bellman_ford(root):\n",
    "    dist[root] = 0\n",
    "    for cycle in range(N):\n",
    "        for start_node in range(1, N+1):\n",
    "            for end_node in adj_list[start_node]:\n",
    "                cost = adj_list[start_node][end_node]\n",
    "                if dist[end_node] > dist[start_node] + cost:\n",
    "                    dist[end_node] = dist[start_node] + cost\n",
    "                    if cycle == N-1:\n",
    "                        return True\n",
    "    return False\n",
    "\n",
    "for node in range(1, N+1):\n",
    "    if dist[node] == float('inf'): # 최단거리 업데이트가 되지 않은 노드라면\n",
    "        negative_cycle_exist = bellman_ford(node)\n",
    "        if negative_cycle_exist:\n",
    "            print('YES')\n",
    "            break\n",
    "else:\n",
    "    print('NO')"
   ]
  },
  {
   "cell_type": "code",
   "execution_count": null,
   "metadata": {},
   "outputs": [],
   "source": []
  },
  {
   "cell_type": "code",
   "execution_count": 38,
   "metadata": {},
   "outputs": [
    {
     "data": {
      "text/plain": [
       "[{}, {2: 3}, {1: 3, 3: 4}, {2: 4, 1: -8}]"
      ]
     },
     "execution_count": 38,
     "metadata": {},
     "output_type": "execute_result"
    }
   ],
   "source": [
    "adj_list"
   ]
  },
  {
   "cell_type": "code",
   "execution_count": null,
   "metadata": {},
   "outputs": [],
   "source": [
    "from collections import deque\n",
    "import sys\n",
    "# input = sys.stdin.readline\n",
    "TC = int(input())\n",
    "\n",
    "for _ in range(TC):\n",
    "    N, M, W = map(int, input().split())\n",
    "    adj_list = [{} for _ in range(N+1)]\n",
    "    for _ in range(M): # 도로\n",
    "        S, E, T = map(int, input().split())\n",
    "        if adj_list[S].get(E, 100000) > T:\n",
    "            adj_list[S][E] = T\n",
    "            adj_list[E][S] = T\n",
    "    for _ in range(W): # 웜홀\n",
    "        S, E, T = map(int, input().split())\n",
    "        if adj_list[S].get(E, 100000) > -T:\n",
    "            adj_list[S][E] = -T\n",
    "\n",
    "    dist = [float('inf')] * (N+1)\n",
    "\n",
    "    # adj_list를 연결된 애들끼리 쪼개줘야 함.\n",
    "    group_list = []\n",
    "    visited = [0] * (N+1)\n",
    "    for node in range(1, N+1):\n",
    "        if not visited[node]:\n",
    "            # BFS\n",
    "            root = node\n",
    "            visited[root] = 1\n",
    "            queue = deque([root])\n",
    "            temp_group = []\n",
    "            while queue:\n",
    "                now_node = queue.popleft()\n",
    "                temp_group.append(now_node)\n",
    "                for adj_node in adj_list[now_node]:\n",
    "                    if not visited[adj_node]:\n",
    "                        queue.append(adj_node)\n",
    "                        visited[adj_node] = 1\n",
    "            group_list.append(temp_group)\n",
    "\n",
    "    def bellman_ford(group):\n",
    "        root = group[0]\n",
    "        dist[root] = 0\n",
    "        for cycle in range(len(group)):\n",
    "            for start_node in group:\n",
    "                for end_node in adj_list[start_node]:\n",
    "                    cost = adj_list[start_node][end_node]\n",
    "                    if dist[end_node] > dist[start_node] + cost:\n",
    "                        dist[end_node] = dist[start_node] + cost\n",
    "                        if cycle == len(group)-1:\n",
    "                            return True\n",
    "        return False\n",
    "\n",
    "    # 그래프 집단이 분리돼 있을 수 있으므로 그래프 그룹에 따라 따로 bf 진행\n",
    "    for group in group_list:\n",
    "        negative_cycle_exist = bellman_ford(group)\n",
    "        if negative_cycle_exist:\n",
    "            print('YES')\n",
    "            break\n",
    "    else:\n",
    "        print('NO')"
   ]
  },
  {
   "cell_type": "code",
   "execution_count": 36,
   "metadata": {},
   "outputs": [],
   "source": [
    "from collections import deque\n",
    "# adj_list를 연결된 애들끼리 쪼개줘야 함.\n",
    "group_list = []\n",
    "visited = [0] * (N+1)\n",
    "for i in range(1, N+1):\n",
    "    if not visited[i]:\n",
    "        # BFS\n",
    "        root = i\n",
    "        visited[root] = 1\n",
    "        queue = deque([root])\n",
    "        temp_group = []\n",
    "        while queue:\n",
    "            now_node = queue.popleft()\n",
    "            temp_group.append(now_node)\n",
    "            for adj_node in adj_list[now_node]:\n",
    "                if not visited[adj_node]:\n",
    "                    queue.append(adj_node)\n",
    "                    visited[adj_node] = 1\n",
    "        group_list.append(temp_group)\n"
   ]
  },
  {
   "cell_type": "code",
   "execution_count": 37,
   "metadata": {},
   "outputs": [
    {
     "data": {
      "text/plain": [
       "[[1, 2, 3]]"
      ]
     },
     "execution_count": 37,
     "metadata": {},
     "output_type": "execute_result"
    }
   ],
   "source": [
    "group_list"
   ]
  },
  {
   "cell_type": "code",
   "execution_count": 34,
   "metadata": {},
   "outputs": [
    {
     "data": {
      "text/plain": [
       "[{}, {2: 3}, {1: 3, 3: 4}, {2: 4, 1: -8}]"
      ]
     },
     "execution_count": 34,
     "metadata": {},
     "output_type": "execute_result"
    }
   ],
   "source": [
    "adj_list"
   ]
  },
  {
   "cell_type": "code",
   "execution_count": null,
   "metadata": {},
   "outputs": [],
   "source": []
  }
 ],
 "metadata": {
  "interpreter": {
   "hash": "8fac594bfae6525c0c41b4041d2d72effa188cc8ead05f81b1fab2bb098927fb"
  },
  "kernelspec": {
   "display_name": "Python 3.8.8 ('base')",
   "language": "python",
   "name": "python3"
  },
  "language_info": {
   "codemirror_mode": {
    "name": "ipython",
    "version": 3
   },
   "file_extension": ".py",
   "mimetype": "text/x-python",
   "name": "python",
   "nbconvert_exporter": "python",
   "pygments_lexer": "ipython3",
   "version": "3.8.8"
  },
  "orig_nbformat": 4
 },
 "nbformat": 4,
 "nbformat_minor": 2
}
