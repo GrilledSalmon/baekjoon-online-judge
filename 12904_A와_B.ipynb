{
 "cells": [
  {
   "cell_type": "markdown",
   "metadata": {},
   "source": [
    "# 12904 A와 B\n",
    "220505\n",
    "- 소감 : 오늘은 좀 쉬운 문제를 풀고 집에 일찍 가려고 했는데 문제를 잘못 만나서 한 시간 반동안 풀었네요...ㅎㅎ 한 시간 정도를 쓰고 결국엔 풀지 못해서 풀이를 봤는데, 문자를 쌓는 과정을 역으로 재생한다는 아이디어가 중요했던 것 같습니다. 그리디 문제라는데, 컨디션이 좋았어도 이런 풀이는 생각해내지 못했을 것 같다는 느낌이 드네요...ㅜ 이런 문제는 어떻게 생각하고 넘어가야 하는지, 이런 문제를 마주쳤을 땐 어떻게 해야할지도 고민되네요. 풀이가 떠오를 것 같지 않으면 빠르게 넘어가는 것도 하나의 능력인 것 같습니다.\n",
    "- 알고리즘 분류\n",
    "    - 구현\n",
    "    - 문자열\n",
    "    - 그리디 알고리즘\n",
    "- 티어 : 골드 5"
   ]
  },
  {
   "cell_type": "code",
   "execution_count": 68,
   "metadata": {},
   "outputs": [
    {
     "name": "stdout",
     "output_type": "stream",
     "text": [
      "0\n"
     ]
    }
   ],
   "source": [
    "from collections import deque\n",
    "S, T = input(), deque(input())\n",
    "\n",
    "reverse = False\n",
    "while len(S) != len(T):\n",
    "    if reverse:\n",
    "        if T[0] == 'A':\n",
    "            T.popleft()\n",
    "        else:\n",
    "            T.popleft()\n",
    "            reverse = False\n",
    "    else:\n",
    "        if T[-1] == 'A':\n",
    "            T.pop()\n",
    "        else:\n",
    "            T.pop()\n",
    "            reverse = True\n",
    "\n",
    "t = ''.join(T)\n",
    "if reverse:\n",
    "    print(1) if t[::-1] == S else print(0)\n",
    "else:\n",
    "    print(1) if t == S else print(0)"
   ]
  },
  {
   "cell_type": "code",
   "execution_count": 67,
   "metadata": {},
   "outputs": [
    {
     "data": {
      "text/plain": [
       "('B', deque(['B']))"
      ]
     },
     "execution_count": 67,
     "metadata": {},
     "output_type": "execute_result"
    }
   ],
   "source": [
    "S, T"
   ]
  },
  {
   "cell_type": "code",
   "execution_count": 65,
   "metadata": {},
   "outputs": [
    {
     "name": "stdout",
     "output_type": "stream",
     "text": [
      "1\n"
     ]
    }
   ],
   "source": [
    "reverse = False\n",
    "while len(S) != len(T):\n",
    "    if reverse:\n",
    "        if T[0] == 'A':\n",
    "            T.popleft()\n",
    "        else:\n",
    "            T.popleft()\n",
    "            reverse = False\n",
    "    else:\n",
    "        if T[-1] == 'A':\n",
    "            T.pop()\n",
    "        else:\n",
    "            T.pop()\n",
    "            reverse = True\n",
    "\n",
    "t = ''.join(T)\n",
    "if reverse:\n",
    "    print(1) if t[::-1] == S else print(0)\n",
    "else:\n",
    "    print(1) if t == S else print(0)"
   ]
  },
  {
   "cell_type": "code",
   "execution_count": 62,
   "metadata": {},
   "outputs": [
    {
     "data": {
      "text/plain": [
       "'ABBA'"
      ]
     },
     "execution_count": 62,
     "metadata": {},
     "output_type": "execute_result"
    }
   ],
   "source": []
  },
  {
   "cell_type": "code",
   "execution_count": 56,
   "metadata": {},
   "outputs": [
    {
     "name": "stdout",
     "output_type": "stream",
     "text": [
      "0\n"
     ]
    }
   ],
   "source": [
    "def solve(S=S, T=T):\n",
    "    before_b_cnt = 0\n",
    "    after_b_cnt = 0\n",
    "\n",
    "    for i in range(len(S), len(T)):\n",
    "        if T[i] == 'B':\n",
    "            after_b_cnt += 1\n",
    "\n",
    "    for i in range(len(T) - len(S)+1):\n",
    "        if i and T[i] == 'B':\n",
    "            before_b_cnt += 1\n",
    "        if after_b_cnt and T[i+len(S)] == 'B':\n",
    "            after_b_cnt -= 1\n",
    "\n",
    "        for k in range(len(S)):\n",
    "            if S[k] != T[i+k]:\n",
    "                break\n",
    "        else: # 모두 매치가 됐으면\n",
    "            if before_b_cnt - after_b_cnt == 1:\n",
    "                return 1\n",
    "    return 0\n",
    "print(solve())"
   ]
  },
  {
   "cell_type": "code",
   "execution_count": 46,
   "metadata": {},
   "outputs": [
    {
     "data": {
      "text/plain": [
       "0"
      ]
     },
     "execution_count": 46,
     "metadata": {},
     "output_type": "execute_result"
    }
   ],
   "source": [
    "after_b_cnt"
   ]
  },
  {
   "cell_type": "code",
   "execution_count": 44,
   "metadata": {},
   "outputs": [
    {
     "data": {
      "text/plain": [
       "0"
      ]
     },
     "execution_count": 44,
     "metadata": {},
     "output_type": "execute_result"
    }
   ],
   "source": []
  }
 ],
 "metadata": {
  "interpreter": {
   "hash": "8fac594bfae6525c0c41b4041d2d72effa188cc8ead05f81b1fab2bb098927fb"
  },
  "kernelspec": {
   "display_name": "Python 3.8.8 ('base')",
   "language": "python",
   "name": "python3"
  },
  "language_info": {
   "codemirror_mode": {
    "name": "ipython",
    "version": 3
   },
   "file_extension": ".py",
   "mimetype": "text/x-python",
   "name": "python",
   "nbconvert_exporter": "python",
   "pygments_lexer": "ipython3",
   "version": "3.8.8"
  },
  "orig_nbformat": 4
 },
 "nbformat": 4,
 "nbformat_minor": 2
}
