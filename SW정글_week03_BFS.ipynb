{
 "cells": [
  {
   "cell_type": "markdown",
   "metadata": {},
   "source": [
    "# SW정글 week03 컴퓨팅 사고로의 전환\n",
    "## <BFS!>\n",
    "220416"
   ]
  },
  {
   "cell_type": "code",
   "execution_count": 6,
   "metadata": {},
   "outputs": [],
   "source": [
    "# 2178 미로 탐색\n",
    "from collections import deque\n",
    "import sys\n",
    "# input = sys.stdin.readline\n",
    "\n",
    "N, M = map(int, input().split())\n",
    "miro = [list(map(lambda x:1-int(x), list(input().rstrip()))) for _ in range(N)]\n",
    "\n",
    "root = (0, 0)\n",
    "queue = deque([root])\n",
    "miro[root[0]][root[1]] = 1\n",
    "while queue:\n",
    "    now_row, now_col = queue.popleft()\n",
    "    new_coords = [(now_row+1, now_col), (now_row-1, now_col), (now_row, now_col+1), (now_row, now_col-1)]\n",
    "    for new_row, new_col in new_coords:\n",
    "        if 0<=new_row<N and 0<=new_col<M and not miro[new_row][new_col]:\n",
    "            miro[new_row][new_col] = miro[now_row][now_col] + 1\n",
    "            if (new_row, new_col) == (N-1, M-1):\n",
    "                break\n",
    "            queue.append((new_row, new_col))\n",
    "print(miro[N-1][M-1])"
   ]
  },
  {
   "cell_type": "code",
   "execution_count": 13,
   "metadata": {},
   "outputs": [
    {
     "name": "stdout",
     "output_type": "stream",
     "text": [
      "2\n",
      "3\n"
     ]
    }
   ],
   "source": [
    "# 18352 특정 거리의 도시 찾기\n",
    "from collections import deque\n",
    "import sys\n",
    "# input = sys.stdin.readline\n",
    "\n",
    "N, M, K, X = list(map(int, input().split()))\n",
    "adj_list = [[] for _ in range(N+1)]\n",
    "\n",
    "for _ in range(M):\n",
    "    A, B = map(int, input().split())\n",
    "    adj_list[A].append(B)\n",
    "\n",
    "visited = [0]*(N+1)\n",
    "queue = deque([X])\n",
    "visited[X] = 1\n",
    "dist_K_cities = []\n",
    "while queue:\n",
    "    now_node = queue.popleft()\n",
    "    if visited[now_node] - 1 == K:\n",
    "        break\n",
    "    for adj_node in adj_list[now_node]:\n",
    "        if not visited[adj_node]:\n",
    "            visited[adj_node] = visited[now_node] + 1\n",
    "            if visited[adj_node] - 1 == K:\n",
    "                dist_K_cities.append(adj_node)\n",
    "            queue.append(adj_node)\n",
    "\n",
    "dist_K_cities.sort()\n",
    "print('\\n'.join(map(str, dist_K_cities))) if dist_K_cities else print(-1)"
   ]
  },
  {
   "cell_type": "code",
   "execution_count": 29,
   "metadata": {},
   "outputs": [
    {
     "name": "stdout",
     "output_type": "stream",
     "text": [
      "4\n"
     ]
    }
   ],
   "source": [
    "# 1916 최소비용 구하기\n",
    "from heapq import heappush, heappop\n",
    "import sys\n",
    "# input = sys.stdin.readline\n",
    "\n",
    "N, M = int(input()), int(input())\n",
    "adj_list = [{} for _ in range(N+1)]\n",
    "for _ in range(M):\n",
    "    a, b, cost = map(int, input().split())\n",
    "    if adj_list[a].get(b, float('inf')) > cost:\n",
    "        adj_list[a][b] = cost\n",
    "start, end = map(int, input().split())\n",
    "\n",
    "# Dijkstra\n",
    "cost_list = [float('inf')] * (N+1)\n",
    "complete = [0] * (N+1)\n",
    "cost_list[start] = 0\n",
    "heap = [(0, start)]\n",
    "while heap:\n",
    "    now_cost, now_node = heappop(heap)\n",
    "    if now_node == end:\n",
    "        break\n",
    "    if complete[now_node]:\n",
    "        continue\n",
    "    complete[now_node] = 1\n",
    "    for adj_node in adj_list[now_node]:\n",
    "        if not complete[adj_node]:\n",
    "            new_cost = now_cost + adj_list[now_node][adj_node]\n",
    "            if new_cost < cost_list[adj_node]:\n",
    "                cost_list[adj_node] = new_cost\n",
    "                heappush(heap, (new_cost, adj_node))\n",
    "\n",
    "print(cost_list[end])"
   ]
  },
  {
   "cell_type": "code",
   "execution_count": 3,
   "metadata": {},
   "outputs": [],
   "source": [
    "text = \"\"\"11100110\n",
    "11010010\n",
    "10011010\n",
    "11101100\n",
    "01000111\n",
    "00110001\n",
    "11011000\n",
    "11000111\"\"\""
   ]
  },
  {
   "cell_type": "code",
   "execution_count": 4,
   "metadata": {},
   "outputs": [],
   "source": [
    "# 2665 미로만들기 # heap 사용\n",
    "from heapq import heappop, heappush\n",
    "import sys\n",
    "# input = sys.stdin.readline\n",
    "n = int(input())\n",
    "miro = [tuple(map(lambda x:1-int(x), list(input().rstrip()))) for _ in range(n)]\n",
    "\n",
    "# Dijkstra?\n",
    "complete = [[0]*n for _ in range(n)]\n",
    "heap = [(1, (0, 0))]\n",
    "complete[0][0] = 1\n",
    "while heap:\n",
    "    used_chance, (now_row, now_col) = heappop(heap)\n",
    "    complete[now_row][now_col] = used_chance\n",
    "    for adj_row, adj_col in [(now_row+1, now_col), (now_row-1, now_col), (now_row, now_col+1), (now_row, now_col-1)]:\n",
    "        if 0<=adj_row<n and 0<=adj_col<n and not complete[adj_row][adj_col]:\n",
    "            if miro[adj_row][adj_col]: # 검은 방\n",
    "                heappush(heap, (used_chance+1, (adj_row, adj_col)))\n",
    "                complete[adj_row][adj_col] = used_chance+1\n",
    "            else:\n",
    "                heappush(heap, (used_chance, (adj_row, adj_col)))\n",
    "                complete[adj_row][adj_col] = used_chance\n",
    "         \n",
    "print(complete[n-1][n-1]-1)"
   ]
  },
  {
   "cell_type": "code",
   "execution_count": 1,
   "metadata": {},
   "outputs": [
    {
     "name": "stdout",
     "output_type": "stream",
     "text": [
      "2\n"
     ]
    }
   ],
   "source": [
    "# 2665 미로만들기 -> 그냥 BFS로 구현한 거\n",
    "from collections import deque\n",
    "import sys\n",
    "# input = sys.stdin.readline\n",
    "n = int(input())\n",
    "miro = [tuple(map(lambda x:1-int(x), list(input().rstrip()))) for _ in range(n)]\n",
    "\n",
    "# BFS\n",
    "chance = n**2\n",
    "visited = [[0]*n for _ in range(n)]\n",
    "queue = deque([((0, 0), chance)])\n",
    "visited[0][0] = chance\n",
    "while queue:\n",
    "    (now_row, now_col), now_chance = queue.popleft()\n",
    "    for adj_row, adj_col in [(now_row+1, now_col), (now_row-1, now_col), (now_row, now_col+1), (now_row, now_col-1)]:\n",
    "        if 0<=adj_row<n and 0<=adj_col<n and visited[adj_row][adj_col] < now_chance:\n",
    "            if miro[adj_row][adj_col]: # 검은 방\n",
    "                queue.append(((adj_row, adj_col), now_chance-1))\n",
    "                visited[adj_row][adj_col] = now_chance-1\n",
    "            else:\n",
    "                queue.append(((adj_row, adj_col), now_chance))\n",
    "                visited[adj_row][adj_col] = now_chance\n",
    "                \n",
    "print(chance - visited[n-1][n-1])"
   ]
  },
  {
   "cell_type": "code",
   "execution_count": 3,
   "metadata": {},
   "outputs": [],
   "source": [
    "# 7569 토마토 # python은 시간초과 나는데 pypy는 통과.. 근데 예전에 python으로 통과됐던 코드의 pypy보다 이게 더 빠름..\n",
    "from collections import deque\n",
    "import sys\n",
    "# input = sys.stdin.readline\n",
    "M, N, H = map(int, input().split())\n",
    "tomato = []\n",
    "for _ in range(H):\n",
    "    tomato.append([list(map(int, input().split())) for _ in range(N)])\n",
    "\n",
    "queue = deque()\n",
    "for height in range(H):\n",
    "    for row in range(N):\n",
    "        for col in range(M):\n",
    "            if tomato[height][row][col]==1:\n",
    "                tomato[height][row][col] = 1\n",
    "                queue.append((height, row, col))\n",
    "\n",
    "def check(h, r, c):\n",
    "    if 0<=h<H and 0<=r<N and 0<=c<M and tomato[h][r][c] == 0:\n",
    "        return True\n",
    "    return False\n",
    "\n",
    "dhdrdc = [(1, 0, 0), (-1, 0, 0), (0, 1, 0), (0, -1, 0), (0, 0, 1), (0, 0, -1)]\n",
    "while queue:\n",
    "    now_height, now_row, now_col = queue.popleft()\n",
    "    for dh, dr, dc in dhdrdc:\n",
    "        adj_height, adj_row, adj_col = now_height+dh, now_row+dr, now_col+dc\n",
    "        if check(adj_height, adj_row, adj_col):\n",
    "            queue.append((adj_height, adj_row, adj_col))\n",
    "            tomato[adj_height][adj_row][adj_col] = tomato[now_height][now_row][now_col] + 1\n",
    "\n",
    "maxi = 0\n",
    "def last():\n",
    "    global maxi\n",
    "    for height in range(H):\n",
    "        for row in range(N):\n",
    "            for col in range(M):\n",
    "                status = tomato[height][row][col]\n",
    "                if not status: # 0이면\n",
    "                    print(-1)\n",
    "                    return\n",
    "                if maxi < status:\n",
    "                    maxi = status\n",
    "    print(maxi-1)\n",
    "    return\n",
    "\n",
    "last()"
   ]
  },
  {
   "cell_type": "code",
   "execution_count": 1,
   "metadata": {},
   "outputs": [
    {
     "name": "stdout",
     "output_type": "stream",
     "text": [
      "-1\n"
     ]
    }
   ],
   "source": [
    "# 3055 탈출\n",
    "from collections import deque\n",
    "import sys\n",
    "# input = sys.stdin.readline\n",
    "\n",
    "R, C = map(int, input().split())\n",
    "forest = [input() for _ in range(R)]\n",
    "\n",
    "visited = [[0]*C for _ in range(R)]\n",
    "water_queue = []\n",
    "for row in range(R):\n",
    "    for col in range(C):\n",
    "        status = forest[row][col]\n",
    "        now_coord = (row, col)\n",
    "        if status == 'D':\n",
    "            cave_coord = now_coord\n",
    "        elif status == 'S':\n",
    "            hedgehog_queue = deque([now_coord])\n",
    "            visited[row][col] = 1\n",
    "        elif status == '*':\n",
    "            water_queue.append(now_coord)\n",
    "            visited[row][col] = -1\n",
    "        elif status == 'X':\n",
    "            visited[row][col] = -1\n",
    "\n",
    "def bfs(hedgehog_queue, water_queue):\n",
    "    now_time = 0\n",
    "    while hedgehog_queue:\n",
    "        now_time += 1\n",
    "        # 물 먼저\n",
    "        water_temp = []\n",
    "        for w_row, w_col in water_queue:\n",
    "            adj_waters = [(w_row+1, w_col), (w_row-1, w_col), (w_row, w_col+1), (w_row, w_col-1)]\n",
    "            for adj_w_row, adj_w_col in adj_waters:\n",
    "                if 0<=adj_w_row<R and 0<=adj_w_col<C and visited[adj_w_row][adj_w_col]!=-1 and (adj_w_row, adj_w_col)!=cave_coord:\n",
    "                    visited[adj_w_row][adj_w_col] = -1\n",
    "                    water_temp.append((adj_w_row, adj_w_col))\n",
    "        \n",
    "        water_queue = water_temp\n",
    "        \n",
    "        # 고슴도치 이동\n",
    "        hedge_temp = []\n",
    "        for h_row, h_col in hedgehog_queue:\n",
    "            adj_hedges = [(h_row+1, h_col), (h_row-1, h_col), (h_row, h_col+1), (h_row, h_col-1)]\n",
    "            for adj_h_row, adj_h_col in adj_hedges:\n",
    "                if 0<=adj_h_row<R and 0<=adj_h_col<C and visited[adj_h_row][adj_h_col]==0:\n",
    "                    visited[adj_h_row][adj_h_col] = now_time\n",
    "                    hedge_temp.append((adj_h_row, adj_h_col))\n",
    "                    if (adj_h_row, adj_h_col) == cave_coord:\n",
    "                        print(now_time)\n",
    "                        return\n",
    "        hedgehog_queue = hedge_temp\n",
    "\n",
    "    print('KAKTUS')\n",
    "    return\n",
    "\n",
    "bfs(hedgehog_queue, water_queue)"
   ]
  },
  {
   "cell_type": "code",
   "execution_count": 11,
   "metadata": {},
   "outputs": [
    {
     "name": "stdout",
     "output_type": "stream",
     "text": [
      "3\n"
     ]
    }
   ],
   "source": [
    "# 2294 동전 2 -> 얘는 다이나믹 프로그래밍 문제다..\n",
    "import sys\n",
    "# input = sys.stdin.readline\n",
    "\n",
    "n, k = map(int, input().split())\n",
    "coins = set()\n",
    "for _ in range(n):\n",
    "    coin = int(input())\n",
    "    if coin > k:\n",
    "        continue\n",
    "    coins.add(coin)\n",
    "coins = sorted(coins, reverse=True)\n",
    "\n",
    "value_queue = [0]*n\n",
    "count_list = [None]*(k+1)\n",
    "used_coin_num = 1\n",
    "while not count_list[k] and value_queue:\n",
    "    temp_value_queue = []\n",
    "    for value in value_queue:\n",
    "        for coin in coins:\n",
    "            new_value = value+coin\n",
    "            if new_value <= k and count_list[new_value] is None:\n",
    "                count_list[new_value] = used_coin_num\n",
    "                temp_value_queue.append(new_value)\n",
    "    used_coin_num += 1\n",
    "    value_queue = temp_value_queue\n",
    " \n",
    "print(count_list[k]) if count_list[k] else print(-1)"
   ]
  }
 ],
 "metadata": {
  "interpreter": {
   "hash": "8fac594bfae6525c0c41b4041d2d72effa188cc8ead05f81b1fab2bb098927fb"
  },
  "kernelspec": {
   "display_name": "Python 3.8.8 ('base')",
   "language": "python",
   "name": "python3"
  },
  "language_info": {
   "codemirror_mode": {
    "name": "ipython",
    "version": 3
   },
   "file_extension": ".py",
   "mimetype": "text/x-python",
   "name": "python",
   "nbconvert_exporter": "python",
   "pygments_lexer": "ipython3",
   "version": "3.8.8"
  },
  "orig_nbformat": 4
 },
 "nbformat": 4,
 "nbformat_minor": 2
}
