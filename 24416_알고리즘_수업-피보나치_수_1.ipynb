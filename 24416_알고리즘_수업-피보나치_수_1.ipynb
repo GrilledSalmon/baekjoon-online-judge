{
 "cells": [
  {
   "cell_type": "markdown",
   "metadata": {},
   "source": [
    "# 24416 알고리즘 수업 - 피보나치 수 1\n",
    "220819\n",
    "- 소감 \n",
    "    - 이런 거 시간초과 나는 건 어캄...?\n",
    "- 소요 시간 : 8분\n",
    "- 알고리즘 분류 : 수학, 다이나믹 프로그래밍\n",
    "- 티어 : 브론즈 1"
   ]
  },
  {
   "cell_type": "code",
   "execution_count": 5,
   "metadata": {},
   "outputs": [
    {
     "name": "stdout",
     "output_type": "stream",
     "text": [
      "832040 28\n"
     ]
    }
   ],
   "source": [
    "N = int(input())\n",
    "cnt_1 = 0\n",
    "cnt_2 = 0\n",
    "def fib_normal(n):\n",
    "    global cnt_1\n",
    "    if n == 1 or n == 2:\n",
    "        cnt_1 += 1\n",
    "        return n\n",
    "    return fib_normal(n-1) + fib_normal(n-2)\n",
    "\n",
    "f = [0]*(N+1)\n",
    "def fib_dynamic(n):\n",
    "    global cnt_2\n",
    "    f[1], f[2] = 1, 1\n",
    "    for i in range(3, n+1):\n",
    "        cnt_2 += 1\n",
    "        f[i] = f[i-1] + f[i-2]\n",
    "    \n",
    "    return f[n]\n",
    "\n",
    "fib_normal(N)\n",
    "fib_dynamic(N)\n",
    "print(cnt_1, cnt_2)"
   ]
  },
  {
   "cell_type": "code",
   "execution_count": null,
   "metadata": {},
   "outputs": [],
   "source": []
  }
 ],
 "metadata": {
  "kernelspec": {
   "display_name": "Python 3.8.8 ('base')",
   "language": "python",
   "name": "python3"
  },
  "language_info": {
   "codemirror_mode": {
    "name": "ipython",
    "version": 3
   },
   "file_extension": ".py",
   "mimetype": "text/x-python",
   "name": "python",
   "nbconvert_exporter": "python",
   "pygments_lexer": "ipython3",
   "version": "3.8.8"
  },
  "orig_nbformat": 4,
  "vscode": {
   "interpreter": {
    "hash": "f08154012ddadd8e950e6e9e035c7a7b32c136e7647e9b7c77e02eb723a8bedb"
   }
  }
 },
 "nbformat": 4,
 "nbformat_minor": 2
}
