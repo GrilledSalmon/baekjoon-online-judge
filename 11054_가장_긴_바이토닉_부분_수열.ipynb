{
 "cells": [
  {
   "cell_type": "markdown",
   "metadata": {},
   "source": [
    "# 11054 가장 긴 바이토닉 부분 수열\n",
    "220304\n",
    "- 아이디어 : 앞에서부터 부분 증가 최대 길이 + 뒤에서부터 부분 증가 최대 길이의 최대값\n",
    "- 알고리즘 분류\n",
    "    - 다이나믹 프로그래밍\n",
    "- 티어 : 골드 3"
   ]
  },
  {
   "cell_type": "code",
   "execution_count": 55,
   "metadata": {},
   "outputs": [
    {
     "name": "stdout",
     "output_type": "stream",
     "text": [
      "6\n"
     ]
    }
   ],
   "source": [
    "N = int(input())\n",
    "A = list(map(int, input().split()))\n",
    "\n",
    "def partial_asc(A) -> list:\n",
    "    \"\"\"수열 A에 대해 각 요소의 부분증가 최대 길이 리턴(\"\"\"\n",
    "    asc = [0]*(N) # 각 숫자의 부분증가 최대길이\n",
    "    cache_asc = [] # 부분증가 길이에 따른 최소값 저장\n",
    "\n",
    "    for i in range(N):\n",
    "        now_num = A[i]\n",
    "        for j in range(len(cache_asc)-1, -1, -1): # cache_asc 뒤에서부터 확인\n",
    "            if cache_asc[j] < now_num: # cache_asc에 저장된 값보다 현재 값이 크면 부분 증가 조건 만족\n",
    "                try:\n",
    "                    if cache_asc[j+1] > now_num: # now_num이  더 작다면 j+1인덱스에 업데이트(인덱스 에러 발생가능)\n",
    "                        cache_asc[j+1] = now_num\n",
    "                except IndexError: # j+1인덱스가 없다면 append\n",
    "                    cache_asc.append(now_num)\n",
    "                asc[i] = j + 2 # 수열 i번째 값의 부분증가 최대 길이 저장\n",
    "                break\n",
    "        else: # cache를 다 돌았는데도 만족하는 값을 못 찾았으면 해당 값의 부분증가 최대 길이는 1\n",
    "            if not cache_asc: # 맨 첫번째 수열\n",
    "                cache_asc.append(now_num)\n",
    "            elif cache_asc[0] > now_num: # cache의 0번쨰 값보다 now_num이 작은 경우 업데이트\n",
    "                cache_asc[0] = now_num\n",
    "            asc[i] = 1\n",
    "    \n",
    "    return asc\n",
    "\n",
    "asc = partial_asc(A)\n",
    "desc = partial_asc(A[::-1])[::-1]\n",
    "\n",
    "print(max(map(sum, zip(asc, desc))) - 1)"
   ]
  },
  {
   "cell_type": "code",
   "execution_count": 47,
   "metadata": {},
   "outputs": [
    {
     "data": {
      "text/plain": [
       "(10, [8, 5, 2, 10, 54, 3, 5, 2, 10, 1])"
      ]
     },
     "execution_count": 47,
     "metadata": {},
     "output_type": "execute_result"
    }
   ],
   "source": [
    "N, A"
   ]
  },
  {
   "cell_type": "code",
   "execution_count": 53,
   "metadata": {},
   "outputs": [
    {
     "name": "stdout",
     "output_type": "stream",
     "text": [
      "6\n"
     ]
    }
   ],
   "source": [
    "def partial_asc(A) -> list:\n",
    "    \"\"\"수열 A에 대해 각 요소의 부분증가 최대 길이 리턴(\"\"\"\n",
    "    asc = [0]*(N) # 각 숫자의 부분증가 최대길이\n",
    "    cache_asc = [] # 부분증가 길이에 따른 최소값 저장\n",
    "\n",
    "    for i in range(N):\n",
    "        now_num = A[i]\n",
    "        for j in range(len(cache_asc)-1, -1, -1): # cache_asc 뒤에서부터 확인\n",
    "            if cache_asc[j] < now_num:\n",
    "                try:\n",
    "                    if cache_asc[j+1] > now_num:\n",
    "                        cache_asc[j+1] = now_num\n",
    "                except IndexError:\n",
    "                    cache_asc.append(now_num)\n",
    "                asc[i] = j + 2\n",
    "                break\n",
    "        else:\n",
    "            if not cache_asc:\n",
    "                cache_asc.append(now_num)\n",
    "            elif cache_asc[0] > now_num:\n",
    "                cache_asc[0] = now_num\n",
    "            asc[i] = 1\n",
    "    \n",
    "    return asc\n",
    "\n",
    "asc = partial_asc(A)\n",
    "desc = partial_asc(A[::-1])[::-1]\n",
    "\n",
    "print(max(map(sum, zip(asc, desc))) - 1)"
   ]
  },
  {
   "cell_type": "code",
   "execution_count": 52,
   "metadata": {},
   "outputs": [
    {
     "name": "stdout",
     "output_type": "stream",
     "text": [
      "[1, 1, 1, 2, 3, 2, 3, 1, 4, 1] [5, 4, 2, 4, 4, 3, 3, 2, 2, 1]\n",
      "[8, 5, 2, 10, 54, 3, 5, 2, 10, 1]\n"
     ]
    }
   ],
   "source": [
    "print(asc, desc)\n",
    "print(A)"
   ]
  },
  {
   "cell_type": "code",
   "execution_count": 34,
   "metadata": {},
   "outputs": [
    {
     "data": {
      "text/plain": [
       "[2, 7, 4, 2, 7, 6, 7, 8, 4, 2]"
      ]
     },
     "execution_count": 34,
     "metadata": {},
     "output_type": "execute_result"
    }
   ],
   "source": [
    "max(map(sum, zip(asc, desc))) - 1"
   ]
  },
  {
   "cell_type": "code",
   "execution_count": 19,
   "metadata": {},
   "outputs": [
    {
     "name": "stdout",
     "output_type": "stream",
     "text": [
      "5\n",
      "4\n",
      "3\n",
      "2\n",
      "1\n",
      "0\n"
     ]
    }
   ],
   "source": [
    "for i in range(5,-1,-1):\n",
    "    print(i)"
   ]
  }
 ],
 "metadata": {
  "interpreter": {
   "hash": "c798a043d5b26db4ea8dc684fe25ec244835432adc5539bce2de618403b1d63c"
  },
  "kernelspec": {
   "display_name": "Python 3.8.5 ('base')",
   "language": "python",
   "name": "python3"
  },
  "language_info": {
   "codemirror_mode": {
    "name": "ipython",
    "version": 3
   },
   "file_extension": ".py",
   "mimetype": "text/x-python",
   "name": "python",
   "nbconvert_exporter": "python",
   "pygments_lexer": "ipython3",
   "version": "3.8.5"
  },
  "orig_nbformat": 4
 },
 "nbformat": 4,
 "nbformat_minor": 2
}
