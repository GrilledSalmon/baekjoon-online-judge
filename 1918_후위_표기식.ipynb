{
 "cells": [
  {
   "cell_type": "markdown",
   "metadata": {},
   "source": [
    "# 1918 후위 표기식\n",
    "220304"
   ]
  },
  {
   "cell_type": "code",
   "execution_count": 1,
   "metadata": {},
   "outputs": [],
   "source": [
    "sik = input()"
   ]
  },
  {
   "cell_type": "code",
   "execution_count": 2,
   "metadata": {},
   "outputs": [
    {
     "data": {
      "text/plain": [
       "'A+B*C-D/E'"
      ]
     },
     "execution_count": 2,
     "metadata": {},
     "output_type": "execute_result"
    }
   ],
   "source": [
    "sik"
   ]
  },
  {
   "cell_type": "code",
   "execution_count": 3,
   "metadata": {},
   "outputs": [],
   "source": [
    "OPERATOR = {'+', '-', '*', '/'}\n",
    "\n",
    "# 모든 식을 A + B 와 같은 구조로 쪼갠다 생각하고 접근\n",
    "\n",
    "def take_down(sik:str):\n",
    "    \"\"\"식(sik)을 받으면 우선순위에 따라 쪼개서 A, B, operator를 리턴\"\"\"\n",
    "    if len(sik) == 1:\n",
    "        return sik, \"\", \"\"\n",
    "\n",
    "    elif len(sik) == 3:\n",
    "        return sik[0], sik[2], sik[1]\n",
    "\n",
    "    elif sik[0].isalpha():\n",
    "        oper = sik[1] # 연산자\n",
    "        if oper in ['+', '-']:\n",
    "            return sik[0], sik[2:], sik[1]\n",
    "        else: # 연산자가 *, /인 경우 A를 한 덩어리로 취급해야 함.\n",
    "            return sik[0], sik[2:], sik[1]\n",
    "\n",
    "    else:\n",
    "        parenthesis_stack = 0\n",
    "        for i, s in enumerate(sik):\n",
    "            if s.isalpha():\n",
    "                return \n",
    "            if s == '(':\n",
    "                parenthesis_stack += 1\n",
    "\n",
    "    return\n",
    "\n",
    "def post_fix(A:str, B:str, oper:str):\n",
    "    if len(A) <= 1 and len(B) <= 1:\n",
    "        return A + B + oper\n",
    "\n",
    "    A_, B_, oper_ = take_down(A)\n",
    "    A__, B__, oper__ = take_down(B)\n",
    "\n",
    "    return post_fix(A_, B_, oper_) + post_fix(A__, B__, oper__) + oper"
   ]
  },
  {
   "cell_type": "code",
   "execution_count": 6,
   "metadata": {},
   "outputs": [
    {
     "data": {
      "text/plain": [
       "'AG*'"
      ]
     },
     "execution_count": 6,
     "metadata": {},
     "output_type": "execute_result"
    }
   ],
   "source": [
    "post_fix('A', 'G', '*')"
   ]
  },
  {
   "cell_type": "code",
   "execution_count": 16,
   "metadata": {},
   "outputs": [
    {
     "data": {
      "text/plain": [
       "['A', '(B+C)', 'D']"
      ]
     },
     "execution_count": 16,
     "metadata": {},
     "output_type": "execute_result"
    }
   ],
   "source": [
    "import re\n",
    "re.sub('[*/]', ' ', sik).split()"
   ]
  },
  {
   "cell_type": "code",
   "execution_count": 17,
   "metadata": {},
   "outputs": [
    {
     "data": {
      "text/plain": [
       "'A*(B+C)/D'"
      ]
     },
     "execution_count": 17,
     "metadata": {},
     "output_type": "execute_result"
    }
   ],
   "source": [
    "sik"
   ]
  },
  {
   "cell_type": "code",
   "execution_count": 32,
   "metadata": {},
   "outputs": [
    {
     "data": {
      "text/plain": [
       "'A*BC+'"
      ]
     },
     "execution_count": 32,
     "metadata": {},
     "output_type": "execute_result"
    }
   ],
   "source": [
    "from collections import deque\n",
    "operator_stack = []\n",
    "parenthesis_stack = ['(']\n",
    "ans = []\n",
    "\n",
    "operator = ['*', '/', '+', '-']\n",
    "\n",
    "for i, s in enumerate(sik):\n",
    "    if s == '(':\n",
    "        parenthesis_stack.append('(')\n",
    "\n",
    "    elif s == ')':\n",
    "        parenthesis_stack.pop()\n",
    "\n",
    "    elif s.isalpha():\n",
    "        ans.append(s)\n",
    "        try:\n",
    "            if sik[i+1] in ['*', '/']:\n",
    "                parenthesis_stack.append('[')\n",
    "        except IndexError: ...\n",
    "    \n",
    "    elif s in ['*', '/']:\n",
    "        # parenthesis_stack.append('[')\n",
    "        operator_stack.append(s)\n",
    "    \n",
    "    else: # +, -\n",
    "        operator_stack.append(s)\n",
    "    \n",
    "    # * / 연산 끝난 경우\n",
    "    if parenthesis_stack and parenthesis_stack[-1] == '[' and s != '(':\n",
    "        parenthesis_stack.pop()\n",
    "\n",
    "    if not parenthesis_stack: # 괄호 스택이 비어 있다면\n",
    "        while operator_stack:\n",
    "            ans.append(operator_stack.pop())\n",
    "''.join(map(str, ans))"
   ]
  },
  {
   "cell_type": "code",
   "execution_count": 28,
   "metadata": {},
   "outputs": [
    {
     "data": {
      "text/plain": [
       "'A*(B+C)/D'"
      ]
     },
     "execution_count": 28,
     "metadata": {},
     "output_type": "execute_result"
    }
   ],
   "source": [
    "sik"
   ]
  },
  {
   "cell_type": "code",
   "execution_count": 24,
   "metadata": {},
   "outputs": [
    {
     "data": {
      "text/plain": [
       "True"
      ]
     },
     "execution_count": 24,
     "metadata": {},
     "output_type": "execute_result"
    }
   ],
   "source": [
    "'A'.isalpha()"
   ]
  }
 ],
 "metadata": {
  "interpreter": {
   "hash": "5c24e01fedcac420428a9a8e493beca6919c605d3dabe5cbe21140bcbf74340b"
  },
  "kernelspec": {
   "display_name": "Python 3.9.10 64-bit (windows store)",
   "language": "python",
   "name": "python3"
  },
  "language_info": {
   "codemirror_mode": {
    "name": "ipython",
    "version": 3
   },
   "file_extension": ".py",
   "mimetype": "text/x-python",
   "name": "python",
   "nbconvert_exporter": "python",
   "pygments_lexer": "ipython3",
   "version": "3.8.5"
  },
  "orig_nbformat": 4
 },
 "nbformat": 4,
 "nbformat_minor": 2
}
