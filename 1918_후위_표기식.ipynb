{
 "cells": [
  {
   "cell_type": "markdown",
   "metadata": {},
   "source": [
    "# 1918 후위 표기식\n",
    "220304"
   ]
  },
  {
   "cell_type": "code",
   "execution_count": 31,
   "metadata": {},
   "outputs": [],
   "source": [
    "sik = input()"
   ]
  },
  {
   "cell_type": "code",
   "execution_count": 10,
   "metadata": {},
   "outputs": [
    {
     "data": {
      "text/plain": [
       "'A*(B+C)/D'"
      ]
     },
     "execution_count": 10,
     "metadata": {},
     "output_type": "execute_result"
    }
   ],
   "source": [
    "sik"
   ]
  },
  {
   "cell_type": "code",
   "execution_count": 6,
   "metadata": {},
   "outputs": [
    {
     "ename": "SyntaxError",
     "evalue": "invalid syntax (<ipython-input-6-bdb081fbf9a9>, line 2)",
     "output_type": "error",
     "traceback": [
      "\u001b[1;36m  File \u001b[1;32m\"<ipython-input-6-bdb081fbf9a9>\"\u001b[1;36m, line \u001b[1;32m2\u001b[0m\n\u001b[1;33m    for s in sik:\u001b[0m\n\u001b[1;37m    ^\u001b[0m\n\u001b[1;31mSyntaxError\u001b[0m\u001b[1;31m:\u001b[0m invalid syntax\n"
     ]
    }
   ],
   "source": [
    "def prior_process(sik=sik):\n",
    "    for s in sik:\n",
    "        pass"
   ]
  },
  {
   "cell_type": "code",
   "execution_count": 16,
   "metadata": {},
   "outputs": [
    {
     "data": {
      "text/plain": [
       "['A', '(B+C)', 'D']"
      ]
     },
     "execution_count": 16,
     "metadata": {},
     "output_type": "execute_result"
    }
   ],
   "source": [
    "import re\n",
    "re.sub('[*/]', ' ', sik).split()"
   ]
  },
  {
   "cell_type": "code",
   "execution_count": 17,
   "metadata": {},
   "outputs": [
    {
     "data": {
      "text/plain": [
       "'A*(B+C)/D'"
      ]
     },
     "execution_count": 17,
     "metadata": {},
     "output_type": "execute_result"
    }
   ],
   "source": [
    "sik"
   ]
  },
  {
   "cell_type": "code",
   "execution_count": 32,
   "metadata": {},
   "outputs": [
    {
     "data": {
      "text/plain": [
       "'A*BC+'"
      ]
     },
     "execution_count": 32,
     "metadata": {},
     "output_type": "execute_result"
    }
   ],
   "source": [
    "from collections import deque\n",
    "operator_stack = []\n",
    "parenthesis_stack = ['(']\n",
    "ans = []\n",
    "\n",
    "operator = ['*', '/', '+', '-']\n",
    "\n",
    "for i, s in enumerate(sik):\n",
    "    if s == '(':\n",
    "        parenthesis_stack.append('(')\n",
    "\n",
    "    elif s == ')':\n",
    "        parenthesis_stack.pop()\n",
    "\n",
    "    elif s.isalpha():\n",
    "        ans.append(s)\n",
    "        try:\n",
    "            if sik[i+1] in ['*', '/']:\n",
    "                parenthesis_stack.append('[')\n",
    "        except IndexError: ...\n",
    "    \n",
    "    elif s in ['*', '/']:\n",
    "        # parenthesis_stack.append('[')\n",
    "        operator_stack.append(s)\n",
    "    \n",
    "    else: # +, -\n",
    "        operator_stack.append(s)\n",
    "    \n",
    "    # * / 연산 끝난 경우\n",
    "    if parenthesis_stack and parenthesis_stack[-1] == '[' and s != '(':\n",
    "        parenthesis_stack.pop()\n",
    "\n",
    "    if not parenthesis_stack: # 괄호 스택이 비어 있다면\n",
    "        while operator_stack:\n",
    "            ans.append(operator_stack.pop())\n",
    "''.join(map(str, ans))"
   ]
  },
  {
   "cell_type": "code",
   "execution_count": 28,
   "metadata": {},
   "outputs": [
    {
     "data": {
      "text/plain": [
       "'A*(B+C)/D'"
      ]
     },
     "execution_count": 28,
     "metadata": {},
     "output_type": "execute_result"
    }
   ],
   "source": [
    "sik"
   ]
  },
  {
   "cell_type": "code",
   "execution_count": 24,
   "metadata": {},
   "outputs": [
    {
     "data": {
      "text/plain": [
       "True"
      ]
     },
     "execution_count": 24,
     "metadata": {},
     "output_type": "execute_result"
    }
   ],
   "source": [
    "'A'.isalpha()"
   ]
  }
 ],
 "metadata": {
  "interpreter": {
   "hash": "5c24e01fedcac420428a9a8e493beca6919c605d3dabe5cbe21140bcbf74340b"
  },
  "kernelspec": {
   "display_name": "Python 3.9.10 64-bit (windows store)",
   "language": "python",
   "name": "python3"
  },
  "language_info": {
   "codemirror_mode": {
    "name": "ipython",
    "version": 3
   },
   "file_extension": ".py",
   "mimetype": "text/x-python",
   "name": "python",
   "nbconvert_exporter": "python",
   "pygments_lexer": "ipython3",
   "version": "3.8.5"
  },
  "orig_nbformat": 4
 },
 "nbformat": 4,
 "nbformat_minor": 2
}
