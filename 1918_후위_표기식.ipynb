{
 "cells": [
  {
   "cell_type": "markdown",
   "metadata": {},
   "source": [
    "# 1918 후위 표기식\n",
    "220304"
   ]
  },
  {
   "cell_type": "code",
   "execution_count": 1,
   "metadata": {},
   "outputs": [],
   "source": [
    "sik = input()"
   ]
  },
  {
   "cell_type": "code",
   "execution_count": 2,
   "metadata": {},
   "outputs": [
    {
     "data": {
      "text/plain": [
       "'A+B*C-D/E'"
      ]
     },
     "execution_count": 2,
     "metadata": {},
     "output_type": "execute_result"
    }
   ],
   "source": [
    "sik"
   ]
  },
  {
   "cell_type": "code",
   "execution_count": 4,
   "metadata": {},
   "outputs": [
    {
     "data": {
      "text/plain": [
       "'A+B*C-D/E'"
      ]
     },
     "execution_count": 4,
     "metadata": {},
     "output_type": "execute_result"
    }
   ],
   "source": [
    "stack = []\n",
    "res = []\n",
    "for s in sik:\n",
    "    if s == ')':\n",
    "        while stack[-1] != '(':\n",
    "            res.pop()\n",
    "    \n",
    "    elif s.isalpha():\n",
    "        pass\n",
    "    else:\n",
    "        stack.append(s)\n",
    "\n",
    "print(res)\n",
    "\n"
   ]
  },
  {
   "cell_type": "code",
   "execution_count": null,
   "metadata": {},
   "outputs": [],
   "source": []
  },
  {
   "cell_type": "code",
   "execution_count": null,
   "metadata": {},
   "outputs": [],
   "source": []
  },
  {
   "cell_type": "code",
   "execution_count": null,
   "metadata": {},
   "outputs": [],
   "source": []
  },
  {
   "cell_type": "code",
   "execution_count": null,
   "metadata": {},
   "outputs": [],
   "source": []
  },
  {
   "cell_type": "code",
   "execution_count": 38,
   "metadata": {},
   "outputs": [],
   "source": [
    "def find_parenthesis_end(start, sik=sik):\n",
    "    \"\"\"input : start(괄호의 시작점), sik(식)\n",
    "       output : end(해당 괄호가 끝나는 지점)\"\"\"\n",
    "    stack = []\n",
    "    for i in range(start, len(sik)):\n",
    "        s = sik[i]\n",
    "        if s == '(':\n",
    "            stack.append(s)\n",
    "        elif s == ')':\n",
    "            stack.pop()\n",
    "        if not stack: # 스택이 비어 있으면\n",
    "            end = i\n",
    "            return end\n",
    "\n",
    "def find_element_end(start, operator=None, sik=sik):\n",
    "    \"\"\"input : start(연산 요소의 시작점), operator(요소의 앞에 붙은 연산 종류), sik(식)\n",
    "       output : end(연산 요소의 끝점)\"\"\"\n",
    "    if sik[start] == '(':\n",
    "        end = find_parenthesis_end(start, sik=sik)\n",
    "    elif operator in '+-':\n",
    "        try:\n",
    "            next_operator = \n",
    "        end = find_one_part_end(start, sik=sik)\n",
    "    else:\n",
    "        end = start\n",
    "\n",
    "    return end\n",
    "\n",
    "def find_operator(start, sik=sik):\n",
    "    \"\"\"output : operator(part의 연산자를 리턴)\"\"\"\n",
    "    operator = sik[find_element_end(start, sik=sik) + 1]\n",
    "    return operator\n",
    "\n",
    "def find_one_part_end(start, sik=sik):\n",
    "    \"\"\"input : start(part의 시작점), sik(식)\n",
    "       output : end(part의 끝점)\"\"\"\n",
    "    end = find_element_end(find_element_end(start, sik=sik) + 2, sik=sik)\n",
    "    return end\n",
    "\n",
    "def divide(start, sik=sik):\n",
    "    end = find_element_end(start, sik=sik)\n",
    "    A = sik[start:end+1]\n",
    "    operator = find_operator(start, sik=sik)\n",
    "    B = sik[end+2:find_element_end(end+2, operator, sik=sik)+1]\n",
    "\n",
    "    return A, operator, B\n",
    "\n",
    "def combine(A:str, B:str, operator:str)->str:\n",
    "    return A + B + operator"
   ]
  },
  {
   "cell_type": "code",
   "execution_count": 40,
   "metadata": {},
   "outputs": [
    {
     "ename": "IndexError",
     "evalue": "string index out of range",
     "output_type": "error",
     "traceback": [
      "\u001b[1;31m---------------------------------------------------------------------------\u001b[0m",
      "\u001b[1;31mIndexError\u001b[0m                                Traceback (most recent call last)",
      "\u001b[1;32m<ipython-input-40-b518e1b11473>\u001b[0m in \u001b[0;36m<module>\u001b[1;34m\u001b[0m\n\u001b[0;32m      4\u001b[0m     \u001b[0mend\u001b[0m \u001b[1;33m=\u001b[0m \u001b[0mfind_element_end\u001b[0m\u001b[1;33m(\u001b[0m\u001b[0mstart\u001b[0m\u001b[1;33m)\u001b[0m\u001b[1;33m\u001b[0m\u001b[1;33m\u001b[0m\u001b[0m\n\u001b[0;32m      5\u001b[0m     \u001b[0mA\u001b[0m \u001b[1;33m=\u001b[0m \u001b[0msik\u001b[0m\u001b[1;33m[\u001b[0m\u001b[0mstart\u001b[0m\u001b[1;33m:\u001b[0m\u001b[0mend\u001b[0m\u001b[1;33m+\u001b[0m\u001b[1;36m1\u001b[0m\u001b[1;33m]\u001b[0m\u001b[1;33m\u001b[0m\u001b[1;33m\u001b[0m\u001b[0m\n\u001b[1;32m----> 6\u001b[1;33m     \u001b[0moperator\u001b[0m \u001b[1;33m=\u001b[0m \u001b[0mfind_operator\u001b[0m\u001b[1;33m(\u001b[0m\u001b[0mstart\u001b[0m\u001b[1;33m)\u001b[0m\u001b[1;33m\u001b[0m\u001b[1;33m\u001b[0m\u001b[0m\n\u001b[0m\u001b[0;32m      7\u001b[0m     \u001b[0mend2\u001b[0m \u001b[1;33m=\u001b[0m \u001b[0mfind_element_end\u001b[0m\u001b[1;33m(\u001b[0m\u001b[0mend\u001b[0m\u001b[1;33m+\u001b[0m\u001b[1;36m2\u001b[0m\u001b[1;33m,\u001b[0m \u001b[0moperator\u001b[0m\u001b[1;33m)\u001b[0m\u001b[1;33m\u001b[0m\u001b[1;33m\u001b[0m\u001b[0m\n\u001b[0;32m      8\u001b[0m     \u001b[0mB\u001b[0m \u001b[1;33m=\u001b[0m \u001b[0msik\u001b[0m\u001b[1;33m[\u001b[0m\u001b[0mend\u001b[0m\u001b[1;33m+\u001b[0m\u001b[1;36m2\u001b[0m\u001b[1;33m:\u001b[0m\u001b[0mend2\u001b[0m \u001b[1;33m+\u001b[0m \u001b[1;36m1\u001b[0m\u001b[1;33m]\u001b[0m\u001b[1;33m\u001b[0m\u001b[1;33m\u001b[0m\u001b[0m\n",
      "\u001b[1;32m<ipython-input-38-5be4acd3ecbd>\u001b[0m in \u001b[0;36mfind_operator\u001b[1;34m(start, sik)\u001b[0m\n\u001b[0;32m     28\u001b[0m \u001b[1;32mdef\u001b[0m \u001b[0mfind_operator\u001b[0m\u001b[1;33m(\u001b[0m\u001b[0mstart\u001b[0m\u001b[1;33m,\u001b[0m \u001b[0msik\u001b[0m\u001b[1;33m=\u001b[0m\u001b[0msik\u001b[0m\u001b[1;33m)\u001b[0m\u001b[1;33m:\u001b[0m\u001b[1;33m\u001b[0m\u001b[1;33m\u001b[0m\u001b[0m\n\u001b[0;32m     29\u001b[0m     \u001b[1;34m\"\"\"output : operator(part의 연산자를 리턴)\"\"\"\u001b[0m\u001b[1;33m\u001b[0m\u001b[1;33m\u001b[0m\u001b[0m\n\u001b[1;32m---> 30\u001b[1;33m     \u001b[0moperator\u001b[0m \u001b[1;33m=\u001b[0m \u001b[0msik\u001b[0m\u001b[1;33m[\u001b[0m\u001b[0mfind_element_end\u001b[0m\u001b[1;33m(\u001b[0m\u001b[0mstart\u001b[0m\u001b[1;33m)\u001b[0m \u001b[1;33m+\u001b[0m \u001b[1;36m1\u001b[0m\u001b[1;33m]\u001b[0m\u001b[1;33m\u001b[0m\u001b[1;33m\u001b[0m\u001b[0m\n\u001b[0m\u001b[0;32m     31\u001b[0m     \u001b[1;32mreturn\u001b[0m \u001b[0moperator\u001b[0m\u001b[1;33m\u001b[0m\u001b[1;33m\u001b[0m\u001b[0m\n\u001b[0;32m     32\u001b[0m \u001b[1;33m\u001b[0m\u001b[0m\n",
      "\u001b[1;31mIndexError\u001b[0m: string index out of range"
     ]
    }
   ],
   "source": [
    "start = 0\n",
    "ans = []\n",
    "while start < len(sik):\n",
    "    end = find_element_end(start)\n",
    "    A = sik[start:end+1]\n",
    "    operator = find_operator(start)\n",
    "    end2 = find_element_end(end+2, operator)\n",
    "    B = sik[end+2:end2 + 1]\n",
    "    ans.extend([A, B, operator])\n",
    "    start = end2 + 1"
   ]
  },
  {
   "cell_type": "code",
   "execution_count": 42,
   "metadata": {},
   "outputs": [
    {
     "data": {
      "text/plain": [
       "('A+B*C-D/E', ['A', 'B*C', '+', '-', '/', 'D'])"
      ]
     },
     "execution_count": 42,
     "metadata": {},
     "output_type": "execute_result"
    }
   ],
   "source": [
    "sik, ans"
   ]
  },
  {
   "cell_type": "code",
   "execution_count": 39,
   "metadata": {},
   "outputs": [
    {
     "data": {
      "text/plain": [
       "('A', '+', 'B*C')"
      ]
     },
     "execution_count": 39,
     "metadata": {},
     "output_type": "execute_result"
    }
   ],
   "source": [
    "divide(0)"
   ]
  },
  {
   "cell_type": "code",
   "execution_count": 24,
   "metadata": {},
   "outputs": [
    {
     "name": "stdout",
     "output_type": "stream",
     "text": [
      "A+B*C-D/E\n"
     ]
    },
    {
     "data": {
      "text/plain": [
       "0"
      ]
     },
     "execution_count": 24,
     "metadata": {},
     "output_type": "execute_result"
    }
   ],
   "source": [
    "print(sik)\n",
    "find_element_end(0)"
   ]
  },
  {
   "cell_type": "code",
   "execution_count": 6,
   "metadata": {},
   "outputs": [
    {
     "data": {
      "text/plain": [
       "6"
      ]
     },
     "execution_count": 6,
     "metadata": {},
     "output_type": "execute_result"
    }
   ],
   "source": [
    "find_parenthesis_end(2, '안녕((?))')"
   ]
  },
  {
   "cell_type": "code",
   "execution_count": 16,
   "metadata": {},
   "outputs": [],
   "source": [
    "OPERATOR = {'+', '-', '*', '/'}\n",
    "\n",
    "# 모든 식을 A + B 와 같은 구조로 쪼갠다 생각하고 접근. 단, 뒤에서부터 쪼개야 함.(안 그럼 순서가 바뀜..)\n",
    "\n",
    "def take_down(sik:str):\n",
    "    \"\"\"식(sik)을 받으면 우선순위에 따라 뒤에서부터 쪼개서 A, B, operator를 리턴\"\"\"\n",
    "    if len(sik) == 1:\n",
    "        return sik, \"\", \"\"\n",
    "\n",
    "    elif len(sik) == 3:\n",
    "        return sik[0], sik[2], sik[1]\n",
    "\n",
    "    elif sik[-1].isalpha(): # B\n",
    "        oper = sik[-2] # 연산자\n",
    "        if oper in ['+', '-']: # +, -인 경우는 바로 A, B 나누기 가능\n",
    "            return sik[:-2], sik[-1], oper\n",
    "        else: # 연산자가 *, /인 경우 B를 한 덩어리로 취급해야 함.\n",
    "            \n",
    "            return sik[0], sik[2:], oper\n",
    "\n",
    "    else:\n",
    "        parenthesis_stack = 0\n",
    "        for i, s in enumerate(sik):\n",
    "            if s.isalpha():\n",
    "                return \n",
    "            if s == '(':\n",
    "                parenthesis_stack += 1\n",
    "\n",
    "    return\n",
    "\n",
    "def post_fix(A:str, B:str, oper:str):\n",
    "    if len(A) <= 1 and len(B) <= 1:\n",
    "        return A + B + oper\n",
    "\n",
    "    A_, B_, oper_ = take_down(A)\n",
    "    A__, B__, oper__ = take_down(B)\n",
    "\n",
    "    return post_fix(A_, B_, oper_) + post_fix(A__, B__, oper__) + oper"
   ]
  },
  {
   "cell_type": "code",
   "execution_count": 20,
   "metadata": {},
   "outputs": [
    {
     "data": {
      "text/plain": [
       "'A+B*C-D/E'"
      ]
     },
     "execution_count": 20,
     "metadata": {},
     "output_type": "execute_result"
    }
   ],
   "source": [
    "sik"
   ]
  },
  {
   "cell_type": "code",
   "execution_count": 19,
   "metadata": {},
   "outputs": [
    {
     "name": "stdout",
     "output_type": "stream",
     "text": [
      "ABCDE////\n"
     ]
    },
    {
     "data": {
      "text/plain": [
       "'AB+C+'"
      ]
     },
     "execution_count": 19,
     "metadata": {},
     "output_type": "execute_result"
    }
   ],
   "source": [
    "# print(sik[:-2])\n",
    "print(post_fix(*take_down(sik)))\n",
    "post_fix(*take_down(\"A+B+C\"))"
   ]
  },
  {
   "cell_type": "code",
   "execution_count": 16,
   "metadata": {},
   "outputs": [
    {
     "data": {
      "text/plain": [
       "['A', '(B+C)', 'D']"
      ]
     },
     "execution_count": 16,
     "metadata": {},
     "output_type": "execute_result"
    }
   ],
   "source": [
    "import re\n",
    "re.sub('[*/]', ' ', sik).split()"
   ]
  },
  {
   "cell_type": "code",
   "execution_count": 17,
   "metadata": {},
   "outputs": [
    {
     "data": {
      "text/plain": [
       "'A*(B+C)/D'"
      ]
     },
     "execution_count": 17,
     "metadata": {},
     "output_type": "execute_result"
    }
   ],
   "source": [
    "sik"
   ]
  },
  {
   "cell_type": "code",
   "execution_count": 32,
   "metadata": {},
   "outputs": [
    {
     "data": {
      "text/plain": [
       "'A*BC+'"
      ]
     },
     "execution_count": 32,
     "metadata": {},
     "output_type": "execute_result"
    }
   ],
   "source": [
    "from collections import deque\n",
    "operator_stack = []\n",
    "parenthesis_stack = ['(']\n",
    "ans = []\n",
    "\n",
    "operator = ['*', '/', '+', '-']\n",
    "\n",
    "for i, s in enumerate(sik):\n",
    "    if s == '(':\n",
    "        parenthesis_stack.append('(')\n",
    "\n",
    "    elif s == ')':\n",
    "        parenthesis_stack.pop()\n",
    "\n",
    "    elif s.isalpha():\n",
    "        ans.append(s)\n",
    "        try:\n",
    "            if sik[i+1] in ['*', '/']:\n",
    "                parenthesis_stack.append('[')\n",
    "        except IndexError: ...\n",
    "    \n",
    "    elif s in ['*', '/']:\n",
    "        # parenthesis_stack.append('[')\n",
    "        operator_stack.append(s)\n",
    "    \n",
    "    else: # +, -\n",
    "        operator_stack.append(s)\n",
    "    \n",
    "    # * / 연산 끝난 경우\n",
    "    if parenthesis_stack and parenthesis_stack[-1] == '[' and s != '(':\n",
    "        parenthesis_stack.pop()\n",
    "\n",
    "    if not parenthesis_stack: # 괄호 스택이 비어 있다면\n",
    "        while operator_stack:\n",
    "            ans.append(operator_stack.pop())\n",
    "''.join(map(str, ans))"
   ]
  },
  {
   "cell_type": "code",
   "execution_count": 28,
   "metadata": {},
   "outputs": [
    {
     "data": {
      "text/plain": [
       "'A*(B+C)/D'"
      ]
     },
     "execution_count": 28,
     "metadata": {},
     "output_type": "execute_result"
    }
   ],
   "source": [
    "sik"
   ]
  },
  {
   "cell_type": "code",
   "execution_count": 24,
   "metadata": {},
   "outputs": [
    {
     "data": {
      "text/plain": [
       "True"
      ]
     },
     "execution_count": 24,
     "metadata": {},
     "output_type": "execute_result"
    }
   ],
   "source": [
    "'A'.isalpha()"
   ]
  }
 ],
 "metadata": {
  "interpreter": {
   "hash": "5c24e01fedcac420428a9a8e493beca6919c605d3dabe5cbe21140bcbf74340b"
  },
  "kernelspec": {
   "display_name": "Python 3.9.10 64-bit (windows store)",
   "language": "python",
   "name": "python3"
  },
  "language_info": {
   "codemirror_mode": {
    "name": "ipython",
    "version": 3
   },
   "file_extension": ".py",
   "mimetype": "text/x-python",
   "name": "python",
   "nbconvert_exporter": "python",
   "pygments_lexer": "ipython3",
   "version": "3.8.5"
  },
  "orig_nbformat": 4
 },
 "nbformat": 4,
 "nbformat_minor": 2
}
