{
 "cells": [
  {
   "cell_type": "markdown",
   "metadata": {},
   "source": [
    "# 1918 후위 표기식\n",
    "220304"
   ]
  },
  {
   "cell_type": "code",
   "execution_count": 155,
   "metadata": {},
   "outputs": [
    {
     "name": "stdout",
     "output_type": "stream",
     "text": [
      "ABC+D/+\n"
     ]
    }
   ],
   "source": [
    "sik = input().strip()\n",
    "\n",
    "stack = [] # operator가 쌓임\n",
    "res = []\n",
    "\n",
    "for i in range(len(sik)):\n",
    "    s = sik[i]\n",
    "\n",
    "    if s == ')':\n",
    "        while stack and stack[-1] != '(':\n",
    "            res.append(stack.pop())\n",
    "            # print(stack)\n",
    "        stack.pop() # '(' 없애주기\n",
    "\n",
    "        if i == len(sik) - 1: # 마지막인 경우\n",
    "            while stack:\n",
    "                res.append(stack.pop())\n",
    "\n",
    "        elif stack:\n",
    "            if stack[-1] in '+-':\n",
    "                if sik[i+1] in '*/(':\n",
    "                    pass\n",
    "                else:\n",
    "                    res.append(stack.pop())\n",
    "            elif stack[-1] == '(':\n",
    "                pass\n",
    "            else: # '*', '/'인 경우\n",
    "                while stack and stack[-1] != '(':\n",
    "                    res.append(stack.pop())\n",
    "    \n",
    "    elif s.isalpha():\n",
    "        res.append(s)\n",
    "        if i == len(sik) - 1: # 마지막인 경우\n",
    "            while stack:\n",
    "                res.append(stack.pop())\n",
    "\n",
    "        elif stack:\n",
    "            if stack[-1] in '+-':\n",
    "                if sik[i+1] in '*/(':\n",
    "                    pass\n",
    "                else:\n",
    "                    res.append(stack.pop())\n",
    "            elif stack[-1] == '(':\n",
    "                pass\n",
    "            else: # '*', '/'인 경우\n",
    "                if sik[i+1] in '*/(':\n",
    "                    res.append(stack.pop())\n",
    "                else:\n",
    "                    while stack and stack[-1] != '(':\n",
    "                        res.append(stack.pop())\n",
    "                \n",
    "                        \n",
    "    else: # s가 연산자이거나 '('인 경우\n",
    "        stack.append(s)\n",
    "\n",
    "print(''.join(res))"
   ]
  },
  {
   "cell_type": "code",
   "execution_count": 140,
   "metadata": {},
   "outputs": [
    {
     "data": {
      "text/plain": [
       "'AB+'"
      ]
     },
     "execution_count": 140,
     "metadata": {},
     "output_type": "execute_result"
    }
   ],
   "source": [
    "''.join(res)"
   ]
  },
  {
   "cell_type": "code",
   "execution_count": 119,
   "metadata": {},
   "outputs": [
    {
     "data": {
      "text/plain": [
       "True"
      ]
     },
     "execution_count": 119,
     "metadata": {},
     "output_type": "execute_result"
    }
   ],
   "source": [
    "'AB*C*DE*+F+GH/I*+JK/+LM*+N-OP*+QR*-S+T+UV/W*-' == 'AB*C*DE*+F+GH/I*+JK/+LM*+N-OP*+QR*-S+T+UV/W*-'"
   ]
  },
  {
   "cell_type": "code",
   "execution_count": 156,
   "metadata": {},
   "outputs": [
    {
     "data": {
      "text/plain": [
       "'A+((B+C))/D'"
      ]
     },
     "execution_count": 156,
     "metadata": {},
     "output_type": "execute_result"
    }
   ],
   "source": [
    "# \"A/(B+(C+D*(E+F)))-G*H\"; // ABCDEF+*++/GH*-\n",
    "# 'A/B-(C-D+E)*F' // AB/CD-E+F*-\n",
    "# 'A*B+C+D+E*F*G+E' // AB*C+D+EF*G*+E+\n",
    "\n",
    "sik"
   ]
  },
  {
   "cell_type": "code",
   "execution_count": 79,
   "metadata": {},
   "outputs": [
    {
     "data": {
      "text/plain": [
       "['A', 'B', 'C', 'D', 'E', '-', '*', '+', '+', 'F', 'G', '/', '-']"
      ]
     },
     "execution_count": 79,
     "metadata": {},
     "output_type": "execute_result"
    }
   ],
   "source": [
    "res"
   ]
  },
  {
   "cell_type": "code",
   "execution_count": 93,
   "metadata": {},
   "outputs": [
    {
     "name": "stdout",
     "output_type": "stream",
     "text": [
      "AB/CD-E+F*-\n"
     ]
    }
   ],
   "source": [
    "stack = [] # operator가 쌓임\n",
    "res = []\n",
    "\n",
    "for i in range(len(sik)):\n",
    "    s = sik[i]\n",
    "\n",
    "    if s == ')':\n",
    "        while stack and stack[-1] != '(':\n",
    "            res.append(stack.pop())\n",
    "            print(stack)\n",
    "        stack.pop() # '(' 없애주기\n",
    "\n",
    "        if i == len(sik) - 1: # 마지막인 경우\n",
    "            while stack:\n",
    "                res.append(stack.pop())\n",
    "\n",
    "        elif stack:\n",
    "            if stack[-1] in '+-':\n",
    "                if sik[i+1] in '*/(':\n",
    "                    pass\n",
    "                else:\n",
    "                    res.append(stack.pop())\n",
    "            elif stack[-1] == '(':\n",
    "                pass\n",
    "            else: # '*', '/'인 경우\n",
    "                while stack and stack[-1] != '(':\n",
    "                    res.append(stack.pop())\n",
    "    \n",
    "    elif s.isalpha():\n",
    "        res.append(s)\n",
    "        if i == len(sik) - 1: # 마지막인 경우\n",
    "            while stack:\n",
    "                res.append(stack.pop())\n",
    "\n",
    "        elif stack:\n",
    "            if stack[-1] in '+-':\n",
    "                if sik[i+1] in '*/(':\n",
    "                    pass\n",
    "                else:\n",
    "                    res.append(stack.pop())\n",
    "            elif stack[-1] == '(':\n",
    "                pass\n",
    "            else: # '*', '/'인 경우\n",
    "                while stack and stack[-1] != '(':\n",
    "                    res.append(stack.pop())\n",
    "                \n",
    "                        \n",
    "    else: # s가 연산자이거나 '('인 경우\n",
    "        stack.append(s)\n",
    "\n",
    "print(''.join(res))"
   ]
  },
  {
   "cell_type": "code",
   "execution_count": 60,
   "metadata": {},
   "outputs": [
    {
     "data": {
      "text/plain": [
       "([], ['A', 'B', 'C', '*', '+', '('])"
      ]
     },
     "execution_count": 60,
     "metadata": {},
     "output_type": "execute_result"
    }
   ],
   "source": [
    "stack, res"
   ]
  },
  {
   "cell_type": "code",
   "execution_count": 19,
   "metadata": {},
   "outputs": [
    {
     "data": {
      "text/plain": [
       "'ABC*+DE/-'"
      ]
     },
     "execution_count": 19,
     "metadata": {},
     "output_type": "execute_result"
    }
   ],
   "source": [
    "ans = 'ABC*+DE/-'\n",
    "ans"
   ]
  },
  {
   "cell_type": "code",
   "execution_count": 27,
   "metadata": {},
   "outputs": [
    {
     "data": {
      "text/plain": [
       "['+', '-', '/']"
      ]
     },
     "execution_count": 27,
     "metadata": {},
     "output_type": "execute_result"
    }
   ],
   "source": [
    "stack"
   ]
  },
  {
   "cell_type": "code",
   "execution_count": 106,
   "metadata": {},
   "outputs": [
    {
     "name": "stdout",
     "output_type": "stream",
     "text": [
      "[]\n"
     ]
    }
   ],
   "source": [
    "print([])"
   ]
  },
  {
   "cell_type": "code",
   "execution_count": 38,
   "metadata": {},
   "outputs": [],
   "source": [
    "def find_parenthesis_end(start, sik=sik):\n",
    "    \"\"\"input : start(괄호의 시작점), sik(식)\n",
    "       output : end(해당 괄호가 끝나는 지점)\"\"\"\n",
    "    stack = []\n",
    "    for i in range(start, len(sik)):\n",
    "        s = sik[i]\n",
    "        if s == '(':\n",
    "            stack.append(s)\n",
    "        elif s == ')':\n",
    "            stack.pop()\n",
    "        if not stack: # 스택이 비어 있으면\n",
    "            end = i\n",
    "            return end\n",
    "\n",
    "def find_element_end(start, operator=None, sik=sik):\n",
    "    \"\"\"input : start(연산 요소의 시작점), operator(요소의 앞에 붙은 연산 종류), sik(식)\n",
    "       output : end(연산 요소의 끝점)\"\"\"\n",
    "    if sik[start] == '(':\n",
    "        end = find_parenthesis_end(start, sik=sik)\n",
    "    elif operator in '+-':\n",
    "        try:\n",
    "            next_operator = \n",
    "        end = find_one_part_end(start, sik=sik)\n",
    "    else:\n",
    "        end = start\n",
    "\n",
    "    return end\n",
    "\n",
    "def find_operator(start, sik=sik):\n",
    "    \"\"\"output : operator(part의 연산자를 리턴)\"\"\"\n",
    "    operator = sik[find_element_end(start, sik=sik) + 1]\n",
    "    return operator\n",
    "\n",
    "def find_one_part_end(start, sik=sik):\n",
    "    \"\"\"input : start(part의 시작점), sik(식)\n",
    "       output : end(part의 끝점)\"\"\"\n",
    "    end = find_element_end(find_element_end(start, sik=sik) + 2, sik=sik)\n",
    "    return end\n",
    "\n",
    "def divide(start, sik=sik):\n",
    "    end = find_element_end(start, sik=sik)\n",
    "    A = sik[start:end+1]\n",
    "    operator = find_operator(start, sik=sik)\n",
    "    B = sik[end+2:find_element_end(end+2, operator, sik=sik)+1]\n",
    "\n",
    "    return A, operator, B\n",
    "\n",
    "def combine(A:str, B:str, operator:str)->str:\n",
    "    return A + B + operator"
   ]
  },
  {
   "cell_type": "code",
   "execution_count": 40,
   "metadata": {},
   "outputs": [
    {
     "ename": "IndexError",
     "evalue": "string index out of range",
     "output_type": "error",
     "traceback": [
      "\u001b[1;31m---------------------------------------------------------------------------\u001b[0m",
      "\u001b[1;31mIndexError\u001b[0m                                Traceback (most recent call last)",
      "\u001b[1;32m<ipython-input-40-b518e1b11473>\u001b[0m in \u001b[0;36m<module>\u001b[1;34m\u001b[0m\n\u001b[0;32m      4\u001b[0m     \u001b[0mend\u001b[0m \u001b[1;33m=\u001b[0m \u001b[0mfind_element_end\u001b[0m\u001b[1;33m(\u001b[0m\u001b[0mstart\u001b[0m\u001b[1;33m)\u001b[0m\u001b[1;33m\u001b[0m\u001b[1;33m\u001b[0m\u001b[0m\n\u001b[0;32m      5\u001b[0m     \u001b[0mA\u001b[0m \u001b[1;33m=\u001b[0m \u001b[0msik\u001b[0m\u001b[1;33m[\u001b[0m\u001b[0mstart\u001b[0m\u001b[1;33m:\u001b[0m\u001b[0mend\u001b[0m\u001b[1;33m+\u001b[0m\u001b[1;36m1\u001b[0m\u001b[1;33m]\u001b[0m\u001b[1;33m\u001b[0m\u001b[1;33m\u001b[0m\u001b[0m\n\u001b[1;32m----> 6\u001b[1;33m     \u001b[0moperator\u001b[0m \u001b[1;33m=\u001b[0m \u001b[0mfind_operator\u001b[0m\u001b[1;33m(\u001b[0m\u001b[0mstart\u001b[0m\u001b[1;33m)\u001b[0m\u001b[1;33m\u001b[0m\u001b[1;33m\u001b[0m\u001b[0m\n\u001b[0m\u001b[0;32m      7\u001b[0m     \u001b[0mend2\u001b[0m \u001b[1;33m=\u001b[0m \u001b[0mfind_element_end\u001b[0m\u001b[1;33m(\u001b[0m\u001b[0mend\u001b[0m\u001b[1;33m+\u001b[0m\u001b[1;36m2\u001b[0m\u001b[1;33m,\u001b[0m \u001b[0moperator\u001b[0m\u001b[1;33m)\u001b[0m\u001b[1;33m\u001b[0m\u001b[1;33m\u001b[0m\u001b[0m\n\u001b[0;32m      8\u001b[0m     \u001b[0mB\u001b[0m \u001b[1;33m=\u001b[0m \u001b[0msik\u001b[0m\u001b[1;33m[\u001b[0m\u001b[0mend\u001b[0m\u001b[1;33m+\u001b[0m\u001b[1;36m2\u001b[0m\u001b[1;33m:\u001b[0m\u001b[0mend2\u001b[0m \u001b[1;33m+\u001b[0m \u001b[1;36m1\u001b[0m\u001b[1;33m]\u001b[0m\u001b[1;33m\u001b[0m\u001b[1;33m\u001b[0m\u001b[0m\n",
      "\u001b[1;32m<ipython-input-38-5be4acd3ecbd>\u001b[0m in \u001b[0;36mfind_operator\u001b[1;34m(start, sik)\u001b[0m\n\u001b[0;32m     28\u001b[0m \u001b[1;32mdef\u001b[0m \u001b[0mfind_operator\u001b[0m\u001b[1;33m(\u001b[0m\u001b[0mstart\u001b[0m\u001b[1;33m,\u001b[0m \u001b[0msik\u001b[0m\u001b[1;33m=\u001b[0m\u001b[0msik\u001b[0m\u001b[1;33m)\u001b[0m\u001b[1;33m:\u001b[0m\u001b[1;33m\u001b[0m\u001b[1;33m\u001b[0m\u001b[0m\n\u001b[0;32m     29\u001b[0m     \u001b[1;34m\"\"\"output : operator(part의 연산자를 리턴)\"\"\"\u001b[0m\u001b[1;33m\u001b[0m\u001b[1;33m\u001b[0m\u001b[0m\n\u001b[1;32m---> 30\u001b[1;33m     \u001b[0moperator\u001b[0m \u001b[1;33m=\u001b[0m \u001b[0msik\u001b[0m\u001b[1;33m[\u001b[0m\u001b[0mfind_element_end\u001b[0m\u001b[1;33m(\u001b[0m\u001b[0mstart\u001b[0m\u001b[1;33m)\u001b[0m \u001b[1;33m+\u001b[0m \u001b[1;36m1\u001b[0m\u001b[1;33m]\u001b[0m\u001b[1;33m\u001b[0m\u001b[1;33m\u001b[0m\u001b[0m\n\u001b[0m\u001b[0;32m     31\u001b[0m     \u001b[1;32mreturn\u001b[0m \u001b[0moperator\u001b[0m\u001b[1;33m\u001b[0m\u001b[1;33m\u001b[0m\u001b[0m\n\u001b[0;32m     32\u001b[0m \u001b[1;33m\u001b[0m\u001b[0m\n",
      "\u001b[1;31mIndexError\u001b[0m: string index out of range"
     ]
    }
   ],
   "source": [
    "start = 0\n",
    "ans = []\n",
    "while start < len(sik):\n",
    "    end = find_element_end(start)\n",
    "    A = sik[start:end+1]\n",
    "    operator = find_operator(start)\n",
    "    end2 = find_element_end(end+2, operator)\n",
    "    B = sik[end+2:end2 + 1]\n",
    "    ans.extend([A, B, operator])\n",
    "    start = end2 + 1"
   ]
  },
  {
   "cell_type": "code",
   "execution_count": 42,
   "metadata": {},
   "outputs": [
    {
     "data": {
      "text/plain": [
       "('A+B*C-D/E', ['A', 'B*C', '+', '-', '/', 'D'])"
      ]
     },
     "execution_count": 42,
     "metadata": {},
     "output_type": "execute_result"
    }
   ],
   "source": [
    "sik, ans"
   ]
  },
  {
   "cell_type": "code",
   "execution_count": 39,
   "metadata": {},
   "outputs": [
    {
     "data": {
      "text/plain": [
       "('A', '+', 'B*C')"
      ]
     },
     "execution_count": 39,
     "metadata": {},
     "output_type": "execute_result"
    }
   ],
   "source": [
    "divide(0)"
   ]
  },
  {
   "cell_type": "code",
   "execution_count": 24,
   "metadata": {},
   "outputs": [
    {
     "name": "stdout",
     "output_type": "stream",
     "text": [
      "A+B*C-D/E\n"
     ]
    },
    {
     "data": {
      "text/plain": [
       "0"
      ]
     },
     "execution_count": 24,
     "metadata": {},
     "output_type": "execute_result"
    }
   ],
   "source": [
    "print(sik)\n",
    "find_element_end(0)"
   ]
  },
  {
   "cell_type": "code",
   "execution_count": 6,
   "metadata": {},
   "outputs": [
    {
     "data": {
      "text/plain": [
       "6"
      ]
     },
     "execution_count": 6,
     "metadata": {},
     "output_type": "execute_result"
    }
   ],
   "source": [
    "find_parenthesis_end(2, '안녕((?))')"
   ]
  },
  {
   "cell_type": "code",
   "execution_count": 16,
   "metadata": {},
   "outputs": [],
   "source": [
    "OPERATOR = {'+', '-', '*', '/'}\n",
    "\n",
    "# 모든 식을 A + B 와 같은 구조로 쪼갠다 생각하고 접근. 단, 뒤에서부터 쪼개야 함.(안 그럼 순서가 바뀜..)\n",
    "\n",
    "def take_down(sik:str):\n",
    "    \"\"\"식(sik)을 받으면 우선순위에 따라 뒤에서부터 쪼개서 A, B, operator를 리턴\"\"\"\n",
    "    if len(sik) == 1:\n",
    "        return sik, \"\", \"\"\n",
    "\n",
    "    elif len(sik) == 3:\n",
    "        return sik[0], sik[2], sik[1]\n",
    "\n",
    "    elif sik[-1].isalpha(): # B\n",
    "        oper = sik[-2] # 연산자\n",
    "        if oper in ['+', '-']: # +, -인 경우는 바로 A, B 나누기 가능\n",
    "            return sik[:-2], sik[-1], oper\n",
    "        else: # 연산자가 *, /인 경우 B를 한 덩어리로 취급해야 함.\n",
    "            \n",
    "            return sik[0], sik[2:], oper\n",
    "\n",
    "    else:\n",
    "        parenthesis_stack = 0\n",
    "        for i, s in enumerate(sik):\n",
    "            if s.isalpha():\n",
    "                return \n",
    "            if s == '(':\n",
    "                parenthesis_stack += 1\n",
    "\n",
    "    return\n",
    "\n",
    "def post_fix(A:str, B:str, oper:str):\n",
    "    if len(A) <= 1 and len(B) <= 1:\n",
    "        return A + B + oper\n",
    "\n",
    "    A_, B_, oper_ = take_down(A)\n",
    "    A__, B__, oper__ = take_down(B)\n",
    "\n",
    "    return post_fix(A_, B_, oper_) + post_fix(A__, B__, oper__) + oper"
   ]
  },
  {
   "cell_type": "code",
   "execution_count": 20,
   "metadata": {},
   "outputs": [
    {
     "data": {
      "text/plain": [
       "'A+B*C-D/E'"
      ]
     },
     "execution_count": 20,
     "metadata": {},
     "output_type": "execute_result"
    }
   ],
   "source": [
    "sik"
   ]
  },
  {
   "cell_type": "code",
   "execution_count": 19,
   "metadata": {},
   "outputs": [
    {
     "name": "stdout",
     "output_type": "stream",
     "text": [
      "ABCDE////\n"
     ]
    },
    {
     "data": {
      "text/plain": [
       "'AB+C+'"
      ]
     },
     "execution_count": 19,
     "metadata": {},
     "output_type": "execute_result"
    }
   ],
   "source": [
    "# print(sik[:-2])\n",
    "print(post_fix(*take_down(sik)))\n",
    "post_fix(*take_down(\"A+B+C\"))"
   ]
  },
  {
   "cell_type": "code",
   "execution_count": 16,
   "metadata": {},
   "outputs": [
    {
     "data": {
      "text/plain": [
       "['A', '(B+C)', 'D']"
      ]
     },
     "execution_count": 16,
     "metadata": {},
     "output_type": "execute_result"
    }
   ],
   "source": [
    "import re\n",
    "re.sub('[*/]', ' ', sik).split()"
   ]
  },
  {
   "cell_type": "code",
   "execution_count": 17,
   "metadata": {},
   "outputs": [
    {
     "data": {
      "text/plain": [
       "'A*(B+C)/D'"
      ]
     },
     "execution_count": 17,
     "metadata": {},
     "output_type": "execute_result"
    }
   ],
   "source": [
    "sik"
   ]
  },
  {
   "cell_type": "code",
   "execution_count": 32,
   "metadata": {},
   "outputs": [
    {
     "data": {
      "text/plain": [
       "'A*BC+'"
      ]
     },
     "execution_count": 32,
     "metadata": {},
     "output_type": "execute_result"
    }
   ],
   "source": [
    "from collections import deque\n",
    "operator_stack = []\n",
    "parenthesis_stack = ['(']\n",
    "ans = []\n",
    "\n",
    "operator = ['*', '/', '+', '-']\n",
    "\n",
    "for i, s in enumerate(sik):\n",
    "    if s == '(':\n",
    "        parenthesis_stack.append('(')\n",
    "\n",
    "    elif s == ')':\n",
    "        parenthesis_stack.pop()\n",
    "\n",
    "    elif s.isalpha():\n",
    "        ans.append(s)\n",
    "        try:\n",
    "            if sik[i+1] in ['*', '/']:\n",
    "                parenthesis_stack.append('[')\n",
    "        except IndexError: ...\n",
    "    \n",
    "    elif s in ['*', '/']:\n",
    "        # parenthesis_stack.append('[')\n",
    "        operator_stack.append(s)\n",
    "    \n",
    "    else: # +, -\n",
    "        operator_stack.append(s)\n",
    "    \n",
    "    # * / 연산 끝난 경우\n",
    "    if parenthesis_stack and parenthesis_stack[-1] == '[' and s != '(':\n",
    "        parenthesis_stack.pop()\n",
    "\n",
    "    if not parenthesis_stack: # 괄호 스택이 비어 있다면\n",
    "        while operator_stack:\n",
    "            ans.append(operator_stack.pop())\n",
    "''.join(map(str, ans))"
   ]
  },
  {
   "cell_type": "code",
   "execution_count": 28,
   "metadata": {},
   "outputs": [
    {
     "data": {
      "text/plain": [
       "'A*(B+C)/D'"
      ]
     },
     "execution_count": 28,
     "metadata": {},
     "output_type": "execute_result"
    }
   ],
   "source": [
    "sik"
   ]
  },
  {
   "cell_type": "code",
   "execution_count": 24,
   "metadata": {},
   "outputs": [
    {
     "data": {
      "text/plain": [
       "True"
      ]
     },
     "execution_count": 24,
     "metadata": {},
     "output_type": "execute_result"
    }
   ],
   "source": [
    "'A'.isalpha()"
   ]
  },
  {
   "cell_type": "code",
   "execution_count": 159,
   "metadata": {},
   "outputs": [],
   "source": [
    "test_case = \"\"\"#1: A*B*C*D\n",
    "answer: AB*C*D*\n",
    "#2: A\n",
    "answer: A\n",
    "#3: A-B/C+D/E\n",
    "answer: ABC/-DE/+\n",
    "#4: A*B*C+D*E+F+G/H*I+J/K+L*M-N+O*P-Q*R+S+T-U/V*W\n",
    "answer: AB*C*DE*+F+GH/I*+JK/+LM*+N-OP*+QR*-S+T+UV/W*-\n",
    "#5: A/B/C+D/E/F\n",
    "answer: AB/C/DE/F/+\n",
    "#6: A-B+C+D-E+F+G/H*I+J-K/L/M*N/O+P*Q*R-S\n",
    "answer: AB-C+D+E-F+GH/I*+J+KL/M/N*O/-PQ*R*+S-\n",
    "#7: A-B\n",
    "answer: AB-\n",
    "#8: A+B+C+D*E+F\n",
    "answer: AB+C+DE*+F+\n",
    "#9: A/B-C*D/E-F-G/H+I*J*K*L-M/N+O/P-Q+R+S+T/U-V-W\n",
    "answer: AB/CD*E/-F-GH/-IJ*K*L*+MN/-OP/+Q-R+S+TU/+V-W-\n",
    "#10: A*B+C/D-E/F*G-H+I*J+K+L+M+N+O/P*Q-R+S/T-U-V*W*X/Y*Z\n",
    "answer: AB*CD/+EF/G*-H-IJ*+K+L+M+N+OP/Q*+R-ST/+U-VW*X*Y/Z*-\n",
    "#11: A+B*C/D+E/F-G*H/I+J*K+L-M-N/O+P+Q*R-S/T/U/V-W+X-Y\n",
    "answer: ABC*D/+EF/+GH*I/-JK*+L+M-NO/-P+QR*+ST/U/V/-W-X+Y-\n",
    "#12: A*B-C-D-E-F+G/H/I*J+K/L/M*N-O\n",
    "answer: AB*C-D-E-F-GH/I/J*+KL/M/N*+O-\n",
    "#13: A*B-C+D/E*F+G+H/I-J-K-L+M+N*O/P\n",
    "answer: AB*C-DE/F*+G+HI/+J-K-L-M+NO*P/+\n",
    "#14: A/B-C/D-E\n",
    "answer: AB/CD/-E-\n",
    "#15: A-B*C/D+E*F-G*H-I*J+K+L*M+N-O-P+Q+R-S\n",
    "answer: ABC*D/-EF*+GH*-IJ*-K+LM*+N+O-P-Q+R+S-\n",
    "#16: A*B/C-D+E-F*G/H/I*J*K-L+M*N-O/P*Q/R*S+T/U-V\n",
    "answer: AB*C/D-E+FG*H/I/J*K*-L-MN*+OP/Q*R/S*-TU/+V-\n",
    "#17: A-B-C/D/E+F+G/H+I*J+K/L/M-N*O/P/Q/R-S+T*U/V+W-X/Y\n",
    "answer: AB-CD/E/-F+GH/+IJ*+KL/M/+NO*P/Q/R/-S-TU*V/+W+XY/-\n",
    "#18: A-B/C*D-E*F\n",
    "answer: ABC/D*-EF*-\n",
    "#19: A/B*C+D*E/F+G-H+I*J+K+L-M+N/O*P*Q*R\n",
    "answer: AB/C*DE*F/+G+H-IJ*+K+L+M-NO/P*Q*R*+\n",
    "#20: A+B-C*D*E/F-G*H/I*J\n",
    "answer: AB+CD*E*F/-GH*I/J*-\n",
    "#21: A+B-C+D/E*F\n",
    "answer: AB+C-DE/F*+\n",
    "#22: A*B*C-D+E/F*G+H-I-J/K/L-M/N\n",
    "answer: AB*C*D-EF/G*+H+I-JK/L/-MN/-\n",
    "#23: A/B-C\n",
    "answer: AB/C-\n",
    "#24: A+B-C-D+E+F/G+H/I+J+K+L*M+N*O*P\n",
    "answer: AB+C-D-E+FG/+HI/+J+K+LM*+NO*P*+\n",
    "#25: A-B*C*D*E/F-G*H/I*J*K*L+M-N*O*P*Q/R-S+T/U\n",
    "answer: ABC*D*E*F/-GH*I/J*K*L*-M+NO*P*Q*R/-S-TU/+\n",
    "#26: A-B+C/D-E/F/G*H+I/J+K*L/M-N/O*P*Q*R/S-T-U\n",
    "answer: AB-CD/+EF/G/H*-IJ/+KL*M/+NO/P*Q*R*S/-T-U-\n",
    "#27: A+B-C+D+E-F/G/H-I+J-K+L/M*N+O+P-Q*R/S\n",
    "answer: AB+C-D+E+FG/H/-I-J+K-LM/N*+O+P+QR*S/-\n",
    "#28: A*B-C+D\n",
    "answer: AB*C-D+\n",
    "#29: A*B+C+D+E/F-G+H-I/J*K*L-M+N\n",
    "answer: AB*C+D+EF/+G-H+IJ/K*L*-M-N+\n",
    "#30: A-B+C+D+E*F*G+H*I*J-K+L/M/N*O+P/Q+R\n",
    "answer: AB-C+D+EF*G*+HI*J*+K-LM/N/O*+PQ/+R+\n",
    "#31: A/B*C+D-E+F+G*H*I/J+K-L+M/N\n",
    "answer: AB/C*D+E-F+GH*I*J/+K+L-MN/+\n",
    "#32: A*B*C-D*E*F+G\n",
    "answer: AB*C*DE*F*-G+\n",
    "#33: A/B-C-D*E-F*G-H-I+J+K-L*M/N+O-P\n",
    "answer: AB/C-DE*-FG*-H-I-J+K+LM*N/-O+P-\n",
    "#34: A*B-C*D*E+F*G*H*I*J*K/L*M*N-O\n",
    "answer: AB*CD*E*-FG*H*I*J*K*L/M*N*+O-\n",
    "#35: A+B*C/D+E-F-G/H-I-J-K\n",
    "answer: ABC*D/+E+F-GH/-I-J-K-\n",
    "#36: A/B/C+D+E-F/G-H*I*J/K-L+M-N-O/P+Q*R/S-T\n",
    "answer: AB/C/D+E+FG/-HI*J*K/-L-M+N-OP/-QR*S/+T-\n",
    "#37: A*B+C+D*E-F-G\n",
    "answer: AB*C+DE*+F-G-\n",
    "#38: A/B+C/D+E/F/G-H+I+J*K/L*M-N*O/P*Q*R*S*T+U-V/W+X/Y\n",
    "answer: AB/CD/+EF/G/+H-I+JK*L/M*+NO*P/Q*R*S*T*-U+VW/-XY/+\n",
    "#39: A/B+C*D-E*F*G/H+I-J*K-L/M-N+O-P+Q*R+S-T+U/V*W\n",
    "answer: AB/CD*+EF*G*H/-I+JK*-LM/-N-O+P-QR*+S+T-UV/W*+\n",
    "#40: A+B-C/D-E*F*G+H*I-J\n",
    "answer: AB+CD/-EF*G*-HI*+J-\n",
    "#41: A/B-C+D+E-F*G*H/I-J-K/L-M+N-O-P+Q*R+S*T*U*V-W-X/Y-Z\n",
    "answer: AB/C-D+E+FG*H*I/-J-KL/-M-N+O-P-QR*+ST*U*V*+W-XY/-Z-\n",
    "#42: A/B/C/D+E\n",
    "answer: AB/C/D/E+\n",
    "#43: A-B-C+D+E\n",
    "answer: AB-C-D+E+\n",
    "#44: A-B*C-D*E/F-G*H*I*J\n",
    "answer: ABC*-DE*F/-GH*I*J*-\n",
    "#45: A/B*C\n",
    "answer: AB/C*\n",
    "#46: A+B+C-D-E-F+G*H+I+J\n",
    "answer: AB+C+D-E-F-GH*+I+J+\n",
    "#47: A-B-C+D*E/F-G-H/I-J/K-L+M/N/O+P/Q/R-S-T/U+V-W\n",
    "answer: AB-C-DE*F/+G-HI/-JK/-L-MN/O/+PQ/R/+S-TU/-V+W-\n",
    "#48: A/B-C*D+E/F/G+H/I*J-K/L+M/N+O-P+Q*R/S/T+U/V*W/X\n",
    "answer: AB/CD*-EF/G/+HI/J*+KL/-MN/+O+P-QR*S/T/+UV/W*X/+\n",
    "#49: A-B+C+D+E-F*G*H/I+J-K\n",
    "answer: AB-C+D+E+FG*H*I/-J+K-\n",
    "#50: A*B/C*D+E-F/G*H/I*J*K+L+M+N-O+P\n",
    "answer: AB*C/D*E+FG/H*I/J*K*-L+M+N+O-P+\n",
    "#51: A*((B*C)/D-(E/F+(G*H/((I*J-(((K+L*M))))/N)))+O-P*(Q/R)+S)-T\n",
    "answer: ABC*D/EF/GH*IJ*KLM*+-N//+-O+PQR/*-S+*T-\n",
    "#52: A+(B+C/D)+E*F/G-(H/I)+(J-K/L-M)\n",
    "answer: ABCD/++EF*G/+HI/-JKL/-M-+\n",
    "#53: (A+(B+(C+D*((E-((F/((G+H+I*J*(K*L))))))))))\n",
    "answer: ABCDEFGH+IJ*KL**+/-*+++\n",
    "#54: (A*(B-C/D))-E-F-((((G+(H*I)))-((J*(K*(L-M*N/O)-P/Q*R)/(S-T*U*V-W-X*Y/Z)))))\n",
    "answer: ABCD/-*E-F-GHI*+JKLMN*O/-*PQ/R*-*STU*V*-W-XY*Z/-/--\n",
    "#55: (A/B)-C*D-E*F+G+H*I/(((J-K*L)+M+N*O))\n",
    "answer: AB/CD*-EF*-G+HI*JKL*-M+NO*+/+\n",
    "#56: A+B/C\n",
    "answer: ABC/+\n",
    "#57: A+B+C+(D/E+(F+G)+(H/I))\n",
    "answer: AB+C+DE/FG++HI/++\n",
    "#58: A*((B*C+D*((E-F-(((G/((H/(I+J)*((K+L)/M+N))))))))))\n",
    "answer: ABC*DEF-GHIJ+/KL+M/N+*/-*+*\n",
    "#59: A-B+C/D-((E+(F-G)+H)+I/J+(K/L-M-N/O-(P/Q)+R+S-T/U))-V/((W*X))\n",
    "answer: AB-CD/+EFG-+H+IJ/+KL/M-NO/-PQ/-R+S+TU/-+-VWX*/-\n",
    "#60: ((A/B*C)/D*(E/F))+G/(H/I+J)*K+L*M-((((((N+O))))))\n",
    "answer: AB/C*D/EF/*GHI/J+/K*+LM*+NO+-\n",
    "#61: (A-B-C/((D+E*F*G*H)+I+J+K)-L)*(M-(N*(O*P)+Q-R)-S)\n",
    "answer: AB-CDEF*G*H*+I+J+K+/-L-MNOP**Q+R--S-*\n",
    "#62: (A*B)+C/D+E/F*(G*H*I+(J*K))-(L+M-N-O)-P/Q/((R/S))\n",
    "answer: AB*CD/+EF/GH*I*JK*+*+LM+N-O--PQ/RS//-\n",
    "#63: ((A/B))*C*(D+(E+F/G+H))\n",
    "answer: AB/C*DEFG/+H++*\n",
    "#64: A-(B*C*D)\n",
    "answer: ABC*D*-\n",
    "#65: (((A/B/C)/D-E))/F+(G-H+I*J-K*L)*(M*N)-O-P-(((Q+((R-S)-T))/(U/V/W)))\n",
    "answer: AB/C/D/E-F/GH-IJ*+KL*-MN**+O-P-QRS-T-+UV/W//-\n",
    "#66: A+((((B*C/D-E)-F-G*H*I)+(J-K*L)/M/N)+(O/((P+Q+(R+(S*(T/U)))))))\n",
    "answer: ABC*D/E-F-GH*I*-JKL*-M/N/+OPQ+RSTU/*++/++\n",
    "#67: A/B/C-D+(E-F-(G-H*I/J/K)+L)*M+N-O*P+(Q-R-S*T/U)\n",
    "answer: AB/C/D-EF-GHI*J/K/--L+M*+N+OP*-QR-ST*U/-+\n",
    "#68: A/B*C/((D/E+(F*G+((H+I*J-K)-L+M-N/O)/P+Q)*R)/S*T)\n",
    "answer: AB/C*DE/FG*HIJ*+K-L-M+NO/-P/+Q+R*+S/T*/\n",
    "#69: A+B-(C*D+E*(F-G*H)+I)\n",
    "answer: AB+CD*EFGH*-*+I+-\n",
    "#70: A/B\n",
    "answer: AB/\n",
    "#71: A/B/C-(D*E)/F/G-((H/I)*((J+((K+L)+M+N/O/P/(Q-R*S)-T*(U+(V+(((W+X-Y)))))))))\n",
    "answer: AB/C/DE*F/G/-HI/JKL+M+NO/P/QRS*-/+TUVWX+Y-++*-+*-\n",
    "#72: (A-B*(C+D))\n",
    "answer: ABCD+*-\n",
    "#73: (A+B/C+(D*(E-F))-G)*(H/I+J+K+L)/M+(N*O*P)*(Q*(R*S+T/U+V/W))\n",
    "answer: ABC/+DEF-*+G-HI/J+K+L+*M/NO*P*QRS*TU/+VW/+**+\n",
    "#74: A+B-((C-D/E/(F+G/(H*(I+(J-K)/(L/M-(N-O/P-Q+R+S)))))))\n",
    "answer: AB+CDE/FGHIJK-LM/NOP/-Q-R+S+-/+*/+/--\n",
    "#75: (A-B)*C-D+E-F/((G+H)/I-J)*K-((L-M-N-O/P)+Q)\n",
    "answer: AB-C*D-E+FGH+I/J-/K*-LM-N-OP/-Q+-\n",
    "#76: A*(B-(C+D/E/F*G)/H)/(I+J/K)+L-((M*N*O*((P*((Q*R)/S*(T+(U*(V/W/X-Y))))))))\n",
    "answer: ABCDE/F/G*+H/-*IJK/+/L+MN*O*PQR*S/TUVW/X/Y-*+***-\n",
    "#77: (A*B-C)*D-(E-F+G)-H/I/(J*((K+(((L*M*N+O))))))\n",
    "answer: AB*C-D*EF-G+-HI/JKLM*N*O++*/-\n",
    "#78: ((A/B))*C/D*E*F/(G-(H/I+J+K))\n",
    "answer: AB/C*D/E*F*GHI/J+K+-/\n",
    "#79: (A*B-C-D*E)-F*G*H-(I*J/K)*L/M/(N/O*P+((Q+R+S/T)))\n",
    "answer: AB*C-DE*-FG*H*-IJ*K/L*M/NO/P*QR+ST/++/-\n",
    "#80: A*B/C\n",
    "answer: AB*C/\n",
    "#81: A*(B/(C-D))+E/(F*G)-H-(I-J/K-(L-(M/N*O/P)/(Q*R*S*T+U)+V)/(W+X-Y))\n",
    "answer: ABCD-/*EFG*/+H-IJK/-LMN/O*P/QR*S*T*U+/-V+WX+Y-/--\n",
    "#82: A*B/(C/(D/E)/F+G-H+(I+J)/K+L/(M/N/((O-P)))*Q)*((R/S)/(T*U/V))\n",
    "answer: AB*CDE//F/G+H-IJ+K/+LMN/OP-//Q*+/RS/TU*V//*\n",
    "#83: (A/B+C)/((D-(((E-F*G)*H)-I-J)/K)/L*M*N)*O*P+Q-R-S-T/U/(((V+(W*X+Y-Z))))\n",
    "answer: AB/C+DEFG*-H*I-J-K/-L/M*N*/O*P*Q+R-S-TU/VWX*Y+Z-+/-\n",
    "#84: A-B+((C+D/E)/F/G/H-(((I/J)/K/L)))+M+N-O-P+Q*R*S-(T+U)*V*W/(X-Y)\n",
    "answer: AB-CDE/+F/G/H/IJ/K/L/-+M+N+O-P-QR*S*+TU+V*W*XY-/-\n",
    "#85: (A/B-C)/D+((((E/F*G+H))))\n",
    "answer: AB/C-D/EF/G*H++\n",
    "#86: (A+B+((C-D+E)+(F-G)))/(H-I/J)+K\n",
    "answer: AB+CD-E+FG-++HIJ/-/K+\n",
    "#87: A/B+C/D+(E*(F-G))\n",
    "answer: AB/CD/+EFG-*+\n",
    "#88: (A/B-C)+(D*E-F*((G*H))/I-((J+K+(L/(M/(N+(((O*P*Q)/R+S/T)/U-(V+W))))))))\n",
    "answer: AB/C-DE*FGH**I/-JK+LMNOP*Q*R/ST/+U/VW+-+//+-+\n",
    "#89: A/B*C/D\n",
    "answer: AB/C*D/\n",
    "#90: (A*B)-C-D-(E-F+G)+H*I-J+(K*L)-M/N/O-P-Q\n",
    "answer: AB*C-D-EF-G+-HI*+J-KL*+MN/O/-P-Q-\n",
    "#91: A/B/C+D+E/F-G*H+I*J-K*(L/M)/(((((((N+O)-P/(Q/R/S))/(((T*(U-V+W)))))))))\n",
    "answer: AB/C/D+EF/+GH*-IJ*+KLM/*NO+PQR/S//-TUV-W+*//-\n",
    "#92: ((A-(B*C+D*E*((F-(G*((H/(I+J-K+L-M)*(N+(((O+P)-Q)+R))))))))))\n",
    "answer: ABC*DE*FGHIJ+K-L+M-/NOP+Q-R++**-*+-\n",
    "#93: A+(((B/C))/(D*E))*(F+G/H)-I*J-K-L/M-N-O*P/Q*(R-S)-T/U\n",
    "answer: ABC/DE*/FGH/+*+IJ*-K-LM/-N-OP*Q/RS-*-TU/-\n",
    "#94: A/(((B*((C-D/E)*(F-G+H)*I/(J+(K/L/M))-(N/O+P+Q)))))\n",
    "answer: ABCDE/-FG-H+*I*JKL/M/+/NO/P+Q+-*/\n",
    "#95: A-B*C+D*E*((F+G))-(H/I)/J\n",
    "answer: ABC*-DE*FG+*+HI/J/-\n",
    "#96: (((A/((B/C)/D-E)*F*G-(H+I/J-K-L))-M))\n",
    "answer: ABC/D/E-/F*G*HIJ/+K-L--M-\n",
    "#97: A*B-C+(D-(E*F*(G-H+I+J-((K*L/M-(N/O+(P*Q-R/(S*T))))))))\n",
    "answer: AB*C-DEF*GH-I+J+KL*M/NO/PQ*RST*/-+--*-+\n",
    "#98: (A*(B*C-D+E-(((F-G)+H/((I*(J-K))))+(L*M*N*(O/P*(Q*R))*S+T)-U*(V/W-X))))\n",
    "answer: ABC*D-E+FG-HIJK-*/+LM*N*OP/QR***S*T++UVW/X-*--*\n",
    "#99: A/B*C-D/(E-((F+(G-(H+I*J)))))\n",
    "answer: AB/C*DEFGHIJ*+-+-/-\n",
    "#100: A/(B-C)/(D*(E-F)*G)*H\n",
    "answer: ABC-/DEF-*G*/H*\"\"\""
   ]
  },
  {
   "cell_type": "code",
   "execution_count": 163,
   "metadata": {},
   "outputs": [
    {
     "name": "stdout",
     "output_type": "stream",
     "text": [
      "AB+\n"
     ]
    }
   ],
   "source": [
    "def solve(sik):\n",
    "\n",
    "    stack = [] # operator가 쌓임\n",
    "    res = []\n",
    "    #'A+G/(I)*K'\n",
    "    for i in range(len(sik)):\n",
    "        s = sik[i]\n",
    "\n",
    "        if s == ')':\n",
    "            while stack and stack[-1] != '(':\n",
    "                res.append(stack.pop())\n",
    "                # print(stack)\n",
    "            stack.pop() # '(' 없애주기\n",
    "\n",
    "            if i == len(sik) - 1: # 마지막인 경우\n",
    "                while stack:\n",
    "                    res.append(stack.pop())\n",
    "\n",
    "            elif stack:\n",
    "                if stack[-1] in '+-':\n",
    "                    if sik[i+1] in '*/(':\n",
    "                        pass\n",
    "                    else:\n",
    "                        res.append(stack.pop())\n",
    "                elif stack[-1] == '(':\n",
    "                    pass\n",
    "                else: # '*', '/'인 경우\n",
    "                    while stack and stack[-1] != '(':\n",
    "                        res.append(stack.pop())\n",
    "        \n",
    "        elif s.isalpha():\n",
    "            res.append(s)\n",
    "            if i == len(sik) - 1: # 마지막인 경우\n",
    "                while stack:\n",
    "                    res.append(stack.pop())\n",
    "\n",
    "            elif stack:\n",
    "                if stack[-1] in '+-':\n",
    "                    if sik[i+1] in '*/(':\n",
    "                        pass\n",
    "                    else:\n",
    "                        res.append(stack.pop())\n",
    "                elif stack[-1] == '(':\n",
    "                    pass\n",
    "                else: # '*', '/'인 경우\n",
    "                    if sik[i+1] in '*/(':\n",
    "                        res.append(stack.pop())\n",
    "                    else:\n",
    "                        while stack and stack[-1] != '(':\n",
    "                            res.append(stack.pop())\n",
    "                    \n",
    "                            \n",
    "        else: # s가 연산자이거나 '('인 경우\n",
    "            stack.append(s)\n",
    "\n",
    "    return ''.join(res)\n",
    "\n",
    "print(solve('A+B'))"
   ]
  },
  {
   "cell_type": "code",
   "execution_count": 171,
   "metadata": {},
   "outputs": [],
   "source": [
    "test_list = test_case.split('\\n')\n",
    "test_res = []\n",
    "for i in range(100):\n",
    "    inp = test_list[2*i].split()[1]\n",
    "    ans = test_list[2*i+1].split()[1]\n",
    "    out = solve(inp)\n",
    "    test_res.append(ans == out)"
   ]
  },
  {
   "cell_type": "code",
   "execution_count": 181,
   "metadata": {},
   "outputs": [
    {
     "name": "stdout",
     "output_type": "stream",
     "text": [
      "#60: ((A/B*C)/D*(E/F))+G/(H/I+J)*K+L*M-((((((N+O))))))\n",
      "answer: AB/C*D/EF/*GHI/J+/K*+LM*+NO+-\n",
      "out :   AB/C*D/EF/*GHI/J+/+K*LM*+NO+-\n",
      "\n",
      "#75: (A-B)*C-D+E-F/((G+H)/I-J)*K-((L-M-N-O/P)+Q)\n",
      "answer: AB-C*D-E+FGH+I/J-/K*-LM-N-OP/-Q+-\n",
      "out :   AB-C*D-E+FGH+I/J-/-K*LM-N-OP/-Q+-\n",
      "\n",
      "#82: A*B/(C/(D/E)/F+G-H+(I+J)/K+L/(M/N/((O-P)))*Q)*((R/S)/(T*U/V))\n",
      "answer: AB*CDE//F/G+H-IJ+K/+LMN/OP-//Q*+/RS/TU*V//*\n",
      "out :   AB*CDE//F/G+H-IJ+K/+LMN/OP-//+Q*/RS/TU*V//*\n",
      "\n",
      "#88: (A/B-C)+(D*E-F*((G*H))/I-((J+K+(L/(M/(N+(((O*P*Q)/R+S/T)/U-(V+W))))))))\n",
      "answer: AB/C-DE*FGH**I/-JK+LMNOP*Q*R/ST/+U/VW+-+//+-+\n",
      "out :   AB/C-DE*FGH**-I/JK+LMNOP*Q*R/ST/+U/VW+-+//+-+\n",
      "\n",
      "#91: A/B/C+D+E/F-G*H+I*J-K*(L/M)/(((((((N+O)-P/(Q/R/S))/(((T*(U-V+W)))))))))\n",
      "answer: AB/C/D+EF/+GH*-IJ*+KLM/*NO+PQR/S//-TUV-W+*//-\n",
      "out :   AB/C/D+EF/+GH*-IJ*+KLM/*-NO+PQR/S//-TUV-W+*//\n",
      "\n"
     ]
    }
   ],
   "source": [
    "for i, v in enumerate(test_res):\n",
    "    if not v:\n",
    "        print(test_list[2*i])\n",
    "        print(test_list[2*i+1])\n",
    "        print('out :  ',solve(test_list[2*i].split()[1]))\n",
    "        print()"
   ]
  },
  {
   "cell_type": "code",
   "execution_count": 184,
   "metadata": {},
   "outputs": [
    {
     "data": {
      "text/plain": [
       "'AB/C-DE*FGH**-I/+'"
      ]
     },
     "execution_count": 184,
     "metadata": {},
     "output_type": "execute_result"
    }
   ],
   "source": [
    "solve('(A/B-C)+(D*E-F*((G*H))/I)')"
   ]
  },
  {
   "cell_type": "code",
   "execution_count": 198,
   "metadata": {},
   "outputs": [
    {
     "data": {
      "text/plain": [
       "'AGI/+K*'"
      ]
     },
     "execution_count": 198,
     "metadata": {},
     "output_type": "execute_result"
    }
   ],
   "source": [
    "solve('A+G/(I)*K') # 찾았다"
   ]
  },
  {
   "cell_type": "code",
   "execution_count": 192,
   "metadata": {},
   "outputs": [
    {
     "data": {
      "text/plain": [
       "'ABC*D/+E-'"
      ]
     },
     "execution_count": 192,
     "metadata": {},
     "output_type": "execute_result"
    }
   ],
   "source": [
    "solve('A+B*C/D-E')"
   ]
  },
  {
   "cell_type": "code",
   "execution_count": null,
   "metadata": {},
   "outputs": [],
   "source": []
  }
 ],
 "metadata": {
  "interpreter": {
   "hash": "5c24e01fedcac420428a9a8e493beca6919c605d3dabe5cbe21140bcbf74340b"
  },
  "kernelspec": {
   "display_name": "Python 3.9.10 64-bit (windows store)",
   "language": "python",
   "name": "python3"
  },
  "language_info": {
   "codemirror_mode": {
    "name": "ipython",
    "version": 3
   },
   "file_extension": ".py",
   "mimetype": "text/x-python",
   "name": "python",
   "nbconvert_exporter": "python",
   "pygments_lexer": "ipython3",
   "version": "3.8.5"
  },
  "orig_nbformat": 4
 },
 "nbformat": 4,
 "nbformat_minor": 2
}
