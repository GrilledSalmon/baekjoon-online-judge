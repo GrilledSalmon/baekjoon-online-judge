{
 "cells": [
  {
   "cell_type": "markdown",
   "metadata": {},
   "source": [
    "# 1504 특정한 최단 경로\n",
    "220530\n",
    "- 소감\n",
    "    - 정답률이 낮은 것이 불안했는데 역시나 살짝쿵 함정이 숨어 있었습니다.\n",
    "    - 임의의 두 점을 포함해서 지나는 최단경로를 구할 때 임의의 두 점 중 어떤 것을 먼저 지나도 상관 없다는 점을 고려했어야 했습니다.\n",
    "    - 그 외에는 dikstra를 사용해 어렵지 않게 풀 수 있었습니다.\n",
    "- 소요 시간 : 30분\n",
    "- 알고리즘 분류 : 그래프 이론, 데이크스트라\n",
    "- 티어 : 골드 4"
   ]
  },
  {
   "cell_type": "code",
   "execution_count": 2,
   "metadata": {},
   "outputs": [],
   "source": [
    "from heapq import heappush, heappop\n",
    "import sys\n",
    "# input = sys.stdin.readline\n",
    "MAX_NUM = sys.maxsize\n",
    "\n",
    "N, E = map(int, input().split())\n",
    "adj_list = [[] for _ in range(N+1)]\n",
    "for _ in range(E):\n",
    "    a, b, c = map(int, input().split())\n",
    "    adj_list[a].append((b, c))\n",
    "    adj_list[b].append((a, c))\n",
    "\n",
    "v1, v2 = map(int, input().split())\n",
    "\n",
    "def dikstra(start, end):\n",
    "    heap = [(0, start)]\n",
    "    complete = [0]*(N+1)\n",
    "    dist = [MAX_NUM]*(N+1)\n",
    "    dist[start] = 0\n",
    "    while heap:\n",
    "        now_dist, now_node = heappop(heap)\n",
    "        if not complete[now_node]:\n",
    "            if now_node == end:\n",
    "                return dist[now_node]\n",
    "            complete[now_node] = 1\n",
    "            for adj_node, adj_dist in adj_list[now_node]:\n",
    "                new_dist = now_dist + adj_dist\n",
    "                if dist[adj_node] > new_dist:\n",
    "                    dist[adj_node] = new_dist\n",
    "                    heappush(heap, (new_dist, adj_node))\n",
    "    return -1\n",
    "\n",
    "total_dist = 0\n",
    "\n",
    "mid_path_dist = dikstra(v1, v2)\n",
    "first_case = (dikstra(1, v1), dikstra(v2, N), mid_path_dist)\n",
    "second_case = (dikstra(1, v2), dikstra(v1, N), mid_path_dist)\n",
    "\n",
    "path_one_possible = -1 not in first_case\n",
    "path_two_possible = -1 not in second_case\n",
    "\n",
    "if path_one_possible and path_two_possible:\n",
    "    print(min(sum(first_case), sum(second_case)))\n",
    "elif path_one_possible:\n",
    "    print(sum(first_case))\n",
    "elif path_two_possible:\n",
    "    print(sum(second_case))\n",
    "else:\n",
    "    print(-1)"
   ]
  },
  {
   "cell_type": "code",
   "execution_count": 3,
   "metadata": {},
   "outputs": [
    {
     "data": {
      "text/plain": [
       "(4,\n",
       " 6,\n",
       " [[],\n",
       "  [(2, 3), (3, 5), (4, 4)],\n",
       "  [(1, 3), (3, 3), (4, 5)],\n",
       "  [(2, 3), (4, 1), (1, 5)],\n",
       "  [(3, 1), (2, 5), (1, 4)]],\n",
       " 2,\n",
       " 3)"
      ]
     },
     "execution_count": 3,
     "metadata": {},
     "output_type": "execute_result"
    }
   ],
   "source": [
    "N, E, adj_list, v1, v2"
   ]
  },
  {
   "cell_type": "code",
   "execution_count": 5,
   "metadata": {},
   "outputs": [
    {
     "name": "stdout",
     "output_type": "stream",
     "text": [
      "7\n"
     ]
    }
   ],
   "source": [
    "# 경로가 없을 땐 -1 출력하기\n",
    "from heapq import heappush, heappop\n",
    "MAX_NUM = sys.maxsize\n",
    "\n",
    "def dikstra(start, end):\n",
    "    heap = [(0, start)]\n",
    "    complete = [0]*(N+1)\n",
    "    dist = [MAX_NUM]*(N+1)\n",
    "    dist[start] = 0\n",
    "    while heap:\n",
    "        now_dist, now_node = heappop(heap)\n",
    "        if not complete[now_node]:\n",
    "            if now_node == end:\n",
    "                return dist[now_node]\n",
    "            complete[now_node] = 1\n",
    "            for adj_node, adj_dist in adj_list[now_node]:\n",
    "                new_dist = now_dist + adj_dist\n",
    "                if dist[adj_node] > new_dist:\n",
    "                    dist[adj_node] = new_dist\n",
    "                    heappush(heap, (new_dist, adj_node))\n",
    "    return -1\n",
    "\n",
    "total_dist = 0\n",
    "for start, end in ((1, v1), (v1, v2), (v2, N)):\n",
    "    dist = dikstra(start, end)\n",
    "    if dist != -1:\n",
    "        total_dist += dist\n",
    "    else:\n",
    "        total_dist = -1\n",
    "        break\n",
    "print(total_dist)"
   ]
  },
  {
   "cell_type": "code",
   "execution_count": null,
   "metadata": {},
   "outputs": [],
   "source": []
  }
 ],
 "metadata": {
  "interpreter": {
   "hash": "f08154012ddadd8e950e6e9e035c7a7b32c136e7647e9b7c77e02eb723a8bedb"
  },
  "kernelspec": {
   "display_name": "Python 3.8.8 ('base')",
   "language": "python",
   "name": "python3"
  },
  "language_info": {
   "codemirror_mode": {
    "name": "ipython",
    "version": 3
   },
   "file_extension": ".py",
   "mimetype": "text/x-python",
   "name": "python",
   "nbconvert_exporter": "python",
   "pygments_lexer": "ipython3",
   "version": "3.8.8"
  },
  "orig_nbformat": 4
 },
 "nbformat": 4,
 "nbformat_minor": 2
}
