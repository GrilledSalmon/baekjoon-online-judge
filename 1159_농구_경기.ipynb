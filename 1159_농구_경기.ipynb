{
 "cells": [
  {
   "cell_type": "markdown",
   "metadata": {},
   "source": [
    "# 1159 농구 경기\n",
    "220210\n",
    "- 알고리즘 분류\n",
    "    - 구현\n",
    "    - 문자열\n",
    "- 브론즈 2"
   ]
  },
  {
   "cell_type": "code",
   "execution_count": 10,
   "metadata": {},
   "outputs": [
    {
     "name": "stdout",
     "output_type": "stream",
     "text": [
      "PREDAJA\n"
     ]
    }
   ],
   "source": [
    "from collections import Counter\n",
    "import sys\n",
    "# input = sys.stdin.readline\n",
    "N = int(input())\n",
    "first_alph = Counter([input().strip()[0] for _ in range(N)])\n",
    "ans = []\n",
    "for s in first_alph:\n",
    "    if first_alph[s] >= 5:\n",
    "        ans.append(s)\n",
    "if ans:\n",
    "    print(''.join(sorted(ans)))\n",
    "else:\n",
    "    print('PREDAJA')"
   ]
  },
  {
   "cell_type": "code",
   "execution_count": 3,
   "metadata": {},
   "outputs": [
    {
     "data": {
      "text/plain": [
       "['bba',\n",
       " 'bbfbr',\n",
       " 'bdfgsertys',\n",
       " 'bshfjte',\n",
       " 'bdfghthjk',\n",
       " 'ksdfger',\n",
       " 'ksrtyfg',\n",
       " 'kghbdfn',\n",
       " 'krtyhsfg',\n",
       " 'ksetgsdf']"
      ]
     },
     "execution_count": 3,
     "metadata": {},
     "output_type": "execute_result"
    }
   ],
   "source": [
    "names"
   ]
  },
  {
   "cell_type": "code",
   "execution_count": 8,
   "metadata": {},
   "outputs": [
    {
     "name": "stdout",
     "output_type": "stream",
     "text": [
      "bk\n"
     ]
    }
   ],
   "source": [
    "from collections import Counter\n",
    "cnt = Counter([s[0] for s in names])\n",
    "ans = []\n",
    "for s in cnt:\n",
    "    if cnt[s] >= 5:\n",
    "        ans.append(s)\n",
    "if ans:\n",
    "    print(''.join(sorted(ans)))\n",
    "else:\n",
    "    print('PREDAJA')"
   ]
  },
  {
   "cell_type": "code",
   "execution_count": null,
   "metadata": {},
   "outputs": [],
   "source": []
  },
  {
   "cell_type": "code",
   "execution_count": null,
   "metadata": {},
   "outputs": [],
   "source": []
  }
 ],
 "metadata": {
  "interpreter": {
   "hash": "c798a043d5b26db4ea8dc684fe25ec244835432adc5539bce2de618403b1d63c"
  },
  "kernelspec": {
   "display_name": "Python 3.8.5 ('base')",
   "language": "python",
   "name": "python3"
  },
  "language_info": {
   "codemirror_mode": {
    "name": "ipython",
    "version": 3
   },
   "file_extension": ".py",
   "mimetype": "text/x-python",
   "name": "python",
   "nbconvert_exporter": "python",
   "pygments_lexer": "ipython3",
   "version": "3.8.5"
  },
  "orig_nbformat": 4
 },
 "nbformat": 4,
 "nbformat_minor": 2
}
