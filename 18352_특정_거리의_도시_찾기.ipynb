{
 "cells": [
  {
   "cell_type": "markdown",
   "metadata": {},
   "source": [
    "# 18352 특정 거리의 도시 찾기\n",
    "220416\n",
    "- 알고리즘 분류\n",
    "    - 그래프 이론\n",
    "    - 너비 우선 탐색\n",
    "    - 다익스트라\n",
    "- 티어 : 실버 2"
   ]
  },
  {
   "cell_type": "code",
   "execution_count": 9,
   "metadata": {},
   "outputs": [
    {
     "name": "stdout",
     "output_type": "stream",
     "text": [
      "4\n"
     ]
    }
   ],
   "source": [
    "# 18352 특정 거리의 도시 찾기\n",
    "from collections import deque\n",
    "import sys\n",
    "# input = sys.stdin.readline\n",
    "\n",
    "N, M, K, X = list(map(int, input().split()))\n",
    "adj_list = [[] for _ in range(N+1)]\n",
    "\n",
    "for _ in range(M):\n",
    "    A, B = map(int, input().split())\n",
    "    adj_list[A].append(B)\n",
    "\n",
    "visited = [0]*(N+1)\n",
    "queue = deque([X])\n",
    "visited[X] = 1\n",
    "dist_K_cities = []\n",
    "while queue:\n",
    "    now_node = queue.popleft()\n",
    "    if visited[now_node] - 1 == K:\n",
    "        break\n",
    "    for adj_node in adj_list[now_node]:\n",
    "        if not visited[adj_node]:\n",
    "            visited[adj_node] = visited[now_node] + 1\n",
    "            if visited[adj_node] - 1 == K:\n",
    "                dist_K_cities.append(adj_node)\n",
    "            queue.append(adj_node)\n",
    "\n",
    "dist_K_cities.sort()\n",
    "print('\\n'.join(map(str, dist_K_cities))) if dist_K_cities else print(-1)"
   ]
  },
  {
   "cell_type": "code",
   "execution_count": 5,
   "metadata": {},
   "outputs": [
    {
     "data": {
      "text/plain": [
       "(4, 4, 2, 1, [[], [2, 3], [3, 4], [], []])"
      ]
     },
     "execution_count": 5,
     "metadata": {},
     "output_type": "execute_result"
    }
   ],
   "source": [
    "N, M, K, X, adj_list"
   ]
  },
  {
   "cell_type": "code",
   "execution_count": 7,
   "metadata": {},
   "outputs": [
    {
     "name": "stdout",
     "output_type": "stream",
     "text": [
      "4\n"
     ]
    }
   ],
   "source": [
    "visited = [0]*(N+1)\n",
    "queue = deque([X])\n",
    "visited[X] = 1\n",
    "dist_K_cities = []\n",
    "while queue:\n",
    "    now_node = queue.popleft()\n",
    "    if visited[now_node] - 1 == K:\n",
    "        break\n",
    "    for adj_node in adj_list[now_node]:\n",
    "        if not visited[adj_node]:\n",
    "            visited[adj_node] = visited[now_node] + 1\n",
    "            if visited[adj_node] - 1 == K:\n",
    "                dist_K_cities.append(adj_node)\n",
    "            queue.append(adj_node)\n",
    "\n",
    "print('\\n'.join(map(str, dist_K_cities))) if dist_K_cities else print(-1)"
   ]
  },
  {
   "cell_type": "code",
   "execution_count": null,
   "metadata": {},
   "outputs": [],
   "source": []
  }
 ],
 "metadata": {
  "interpreter": {
   "hash": "8fac594bfae6525c0c41b4041d2d72effa188cc8ead05f81b1fab2bb098927fb"
  },
  "kernelspec": {
   "display_name": "Python 3.8.8 ('base')",
   "language": "python",
   "name": "python3"
  },
  "language_info": {
   "codemirror_mode": {
    "name": "ipython",
    "version": 3
   },
   "file_extension": ".py",
   "mimetype": "text/x-python",
   "name": "python",
   "nbconvert_exporter": "python",
   "pygments_lexer": "ipython3",
   "version": "3.8.8"
  },
  "orig_nbformat": 4
 },
 "nbformat": 4,
 "nbformat_minor": 2
}
