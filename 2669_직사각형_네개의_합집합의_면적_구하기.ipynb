{
 "cells": [
  {
   "cell_type": "markdown",
   "metadata": {},
   "source": [
    "# 2669 직사각형 네개의 합집합의 면적 구하기\n",
    "220915\n",
    "- 소감\n",
    "    - 예전에 비슷한 문제 푼 적 있음\n",
    "- 소요 시간 : 8분\n",
    "- 알고리즘 분류 : 구현\n",
    "- 티어 : 브론즈 1"
   ]
  },
  {
   "cell_type": "code",
   "execution_count": 1,
   "metadata": {},
   "outputs": [],
   "source": [
    "area = [[0]*101 for _ in range(101)]\n",
    "\n",
    "for _ in range(4):\n",
    "    a, b, c, d = map(int, input().split())\n",
    "    for y in range(b, d):\n",
    "        line = area[y]\n",
    "        for x in range(a, c):\n",
    "            line[x] = 1\n",
    "\n",
    "ans = 0\n",
    "for y in range(101):\n",
    "    line = area[y]\n",
    "    for x in range(101):\n",
    "        if line[x]:\n",
    "            ans += 1\n",
    "print(ans)"
   ]
  },
  {
   "cell_type": "code",
   "execution_count": 2,
   "metadata": {},
   "outputs": [
    {
     "data": {
      "text/plain": [
       "26"
      ]
     },
     "execution_count": 2,
     "metadata": {},
     "output_type": "execute_result"
    }
   ],
   "source": [
    "ans"
   ]
  },
  {
   "cell_type": "code",
   "execution_count": null,
   "metadata": {},
   "outputs": [],
   "source": []
  }
 ],
 "metadata": {
  "kernelspec": {
   "display_name": "Python 3.8.5 ('base')",
   "language": "python",
   "name": "python3"
  },
  "language_info": {
   "codemirror_mode": {
    "name": "ipython",
    "version": 3
   },
   "file_extension": ".py",
   "mimetype": "text/x-python",
   "name": "python",
   "nbconvert_exporter": "python",
   "pygments_lexer": "ipython3",
   "version": "3.8.5"
  },
  "orig_nbformat": 4,
  "vscode": {
   "interpreter": {
    "hash": "8cc51f7a6f9663e4a057df8e9ab0b3750994a36584b90d61db68aa71b39bfa78"
   }
  }
 },
 "nbformat": 4,
 "nbformat_minor": 2
}
