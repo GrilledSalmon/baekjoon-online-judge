{
 "cells": [
  {
   "cell_type": "markdown",
   "metadata": {},
   "source": [
    "# 17626 Four Squares\n",
    "220225\n",
    "- 소감 : class 3 문제라서 풀었다. 바깥에서 급하게 풀었는데 생각보다 되게 빠른 속도로 통과되었음. 그냥 브루트포스인줄 알았는데 DP 유형이었다네. 뭐지\n",
    "- 알고리즘 분류\n",
    "    - 다이나믹 프로그래밍\n",
    "    - 브루트포스 알고리즘\n",
    "- 티어 : 실버 4"
   ]
  },
  {
   "cell_type": "code",
   "execution_count": 1,
   "metadata": {},
   "outputs": [
    {
     "name": "stdout",
     "output_type": "stream",
     "text": [
      "4\n"
     ]
    }
   ],
   "source": [
    "# 17626 Four Squares\n",
    "n = int(input())\n",
    "\n",
    "sq_set = {i**2 for i in range(1, int(n**0.5)+1)}\n",
    "sq_list = list(sorted(sq_set))\n",
    "\n",
    "def check_2(n, sq_set=sq_set, sq_list=sq_list):\n",
    "    \"\"\"n이 두 개의 제곱수의 합으로 표현 가능한지 확인\"\"\"\n",
    "    for sq in sq_list:\n",
    "        pair = n - sq\n",
    "        if pair in sq_set:\n",
    "#             print(sq, pair)\n",
    "            return True\n",
    "        elif pair < sq:\n",
    "#             print(sq, pair)\n",
    "            return False\n",
    "#     print(sq, pair)\n",
    "    return False\n",
    "\n",
    "def check_3(n, sq_set=sq_set, sq_list=sq_list):\n",
    "    \"\"\"n이 세 개 제곱수의 합으로 표현 가능한지 확인\"\"\"\n",
    "    for sq in sq_list:\n",
    "        pair = n - sq\n",
    "        if check_2(pair):\n",
    "#             print(sq, pair)\n",
    "            return True\n",
    "        elif pair < sq:\n",
    "#             print(sq, pair)\n",
    "            return False\n",
    "#     print(sq, pair)\n",
    "    return False\n",
    "\n",
    "if n in sq_set:\n",
    "    print(1)\n",
    "elif check_2(n):\n",
    "    print(2)\n",
    "elif check_3(n):\n",
    "    print(3)\n",
    "else:\n",
    "    print(4)"
   ]
  }
 ],
 "metadata": {
  "interpreter": {
   "hash": "c798a043d5b26db4ea8dc684fe25ec244835432adc5539bce2de618403b1d63c"
  },
  "kernelspec": {
   "display_name": "Python 3.8.5 ('base')",
   "language": "python",
   "name": "python3"
  },
  "language_info": {
   "codemirror_mode": {
    "name": "ipython",
    "version": 3
   },
   "file_extension": ".py",
   "mimetype": "text/x-python",
   "name": "python",
   "nbconvert_exporter": "python",
   "pygments_lexer": "ipython3",
   "version": "3.8.5"
  },
  "orig_nbformat": 4
 },
 "nbformat": 4,
 "nbformat_minor": 2
}
